{
 "cells": [
  {
   "cell_type": "code",
   "execution_count": 13,
   "outputs": [
    {
     "data": {
      "text/plain": "20"
     },
     "execution_count": 13,
     "metadata": {},
     "output_type": "execute_result"
    }
   ],
   "source": [
    "20"
   ],
   "metadata": {
    "collapsed": false
   }
  },
  {
   "cell_type": "markdown",
   "source": [],
   "metadata": {
    "collapsed": false
   }
  },
  {
   "cell_type": "code",
   "execution_count": 1,
   "outputs": [],
   "source": [
    "from federatedscope.register import register_data\n",
    "from federatedscope.register import register_trainer\n",
    "from federatedscope.register import register_metric\n",
    "from federatedscope.register import register_model\n",
    "\n",
    "\n"
   ],
   "metadata": {
    "collapsed": false
   }
  },
  {
   "cell_type": "code",
   "execution_count": 1,
   "outputs": [],
   "source": [],
   "metadata": {
    "collapsed": false
   }
  },
  {
   "cell_type": "code",
   "execution_count": 1,
   "outputs": [],
   "source": [],
   "metadata": {
    "collapsed": false
   }
  },
  {
   "cell_type": "markdown",
   "source": [
    "\n"
   ],
   "metadata": {
    "collapsed": false
   }
  },
  {
   "cell_type": "markdown",
   "source": [
    "### Register model"
   ],
   "metadata": {
    "collapsed": false
   }
  },
  {
   "cell_type": "code",
   "execution_count": 2,
   "outputs": [],
   "source": [
    "#from federatedscope.contrib.model.mnist_model import call_my_net\n",
    "#register_model(\"mynet\", call_my_net)"
   ],
   "metadata": {
    "collapsed": false
   }
  },
  {
   "cell_type": "code",
   "execution_count": 2,
   "outputs": [],
   "source": [],
   "metadata": {
    "collapsed": false
   }
  },
  {
   "cell_type": "markdown",
   "source": [
    "### Register trainer"
   ],
   "metadata": {
    "collapsed": false
   }
  },
  {
   "cell_type": "code",
   "execution_count": 3,
   "outputs": [
    {
     "name": "stderr",
     "output_type": "stream",
     "text": [
      "/home/michael/Master-Thesis/CKIM_Competition/venv/lib/python3.9/site-packages/torch_geometric/graphgym/imports.py:14: UserWarning: Please install 'pytorch_lightning' for using the GraphGym experiment manager via 'pip install pytorch_lightning'\n",
      "  warnings.warn(\"Please install 'pytorch_lightning' for using the GraphGym \"\n",
      "/home/michael/Master-Thesis/CKIM_Competition/venv/lib/python3.9/site-packages/torch_geometric/graphgym/logger.py:23: UserWarning: Please install 'pytorch_lightning' for using the GraphGym experiment manager via 'pip install pytorch_lightning'\n",
      "  warnings.warn(\"Please install 'pytorch_lightning' for using the GraphGym \"\n"
     ]
    },
    {
     "name": "stdout",
     "output_type": "stream",
     "text": [
      "Device: cuda\n"
     ]
    }
   ],
   "source": [
    "from federatedscope.contrib.trainer.laplacian_trainer_with_domain_separation_with_summation_MI import call_laplacian_trainer\n",
    "\n",
    "register_trainer('laplacian_trainer', call_laplacian_trainer)"
   ],
   "metadata": {
    "collapsed": false
   }
  },
  {
   "cell_type": "markdown",
   "source": [
    "### Register metric"
   ],
   "metadata": {
    "collapsed": false
   }
  },
  {
   "cell_type": "markdown",
   "source": [
    "### Create the config"
   ],
   "metadata": {
    "collapsed": false
   }
  },
  {
   "cell_type": "markdown",
   "source": [
    "#### Set data, model, trainer and metric"
   ],
   "metadata": {
    "collapsed": false
   }
  },
  {
   "cell_type": "code",
   "execution_count": 4,
   "outputs": [],
   "source": [
    "from federatedscope.core.configs.config import global_cfg, CN\n",
    "cfg = global_cfg.clone()\n",
    "\n",
    "cfg.merge_from_file(\"scripts/B-FHTL_exp_scripts/Graph-DT/fed_dom_sep_KLD.yaml\")\n",
    "cfg.data.save_dir = 'test_dir'\n",
    "# cfg.data.type = 'cikm_cup'\n",
    "#cfg.data.root = 'data'\n",
    "#cfg.data.shuffle=True\n",
    "#cfg.data.transform = [['ToTensor'], ['Normalize', {'mean': [0.], 'std': [1]}]]\n",
    "#cfg.model.type = 'gin'\n",
    "#cfg.model.out_channels = 10\n",
    "#cfg.model.hidden = 64\n",
    "#cfg.model.task='graph'\n",
    "#cfg.model.dropout = 0.5\n",
    "#cfg.personalization.local_param = ['encoder_atom', 'encoder', 'clf']#['node_encoder', 'clf']\n",
    "#cfg.train.batch_or_epoch = \"epoch\"\n",
    "cfg.trainer.type = 'laplacian_trainer_with_domain_separation'\n",
    "cfg.data.batch_size = 64\n",
    "# cfg.eval.metric = ['mymetric']\n",
    "cfg.params = CN()\n",
    "cfg.params.alpha=0.1\n",
    "cfg.params.csd_importance= 1e2\n",
    "cfg.params.eps=1e-20\n",
    "cfg.params.p=0.\n",
    "cfg.params.diff_importance = 1\n",
    "cfg.params.mine_lr = 0.02  # MINE lr\n",
    "cfg.params.lam = 1\n"
   ],
   "metadata": {
    "collapsed": false
   }
  },
  {
   "cell_type": "markdown",
   "source": [
    "#### configure other options"
   ],
   "metadata": {
    "collapsed": false
   }
  },
  {
   "cell_type": "code",
   "execution_count": 5,
   "outputs": [],
   "source": [
    "#cfg.use_gpu = True 0.05 [0.02-0.03] 0.04-0.06\n",
    "#cfg.best_res_update_round_wise_key = \"test_loss\"\n",
    "\n",
    "#cfg.federate.mode = 'standalone'\n",
    "\n",
    "cfg.federate.method = \\\n",
    "    f'Laplacian_domain_sep_sum_MI_csd{cfg.params.csd_importance}_lam{cfg.params.lam}_diff{cfg.params.diff_importance}_MI_lr_{cfg.params.mine_lr}_no_finetune'\n",
    "\n",
    "#cfg.federate.local_update_steps = 20000000\n",
    "cfg.personalization.local_update_steps = 20000000\n",
    "#cfg.finetune.local_update_steps = 20000000\n",
    "#cfg.train.local_update_steps = 1\n",
    "\n",
    "cfg.federate.total_round_num = 2000\n",
    "cfg.model.dropout = 0.0\n",
    "cfg.federate.client_num = 1\n",
    "cfg.early_stop.patience = 100\n",
    "#cfg.train.optimizer.lr = 0.001\n",
    "#cfg.train.optimizer.weight_decay = 0.0005\n",
    "#cfg.grad.grad_clip = 2.0\n",
    "cfg.criterion.type = 'CrossEntropyLoss'\n",
    "#cfg.seed = 123\n",
    "cfg.eval.freq = 1\n",
    "cfg.eval.metrics = ['imp_ratio']\n",
    "cfg.eval.report = ['avg']\n",
    "cfg.eval.best_res_update_round_wise_key = 'val_imp_ratio'\n",
    "cfg.eval.count_flops = False\n"
   ],
   "metadata": {
    "collapsed": false
   }
  },
  {
   "cell_type": "code",
   "execution_count": 6,
   "outputs": [],
   "source": [
    "import torch\n",
    "#torch.manual_seed(0)\n",
    "#torch.backends.cudnn.benchmark = False\n",
    "#torch.use_deterministic_algorithms(F/home/michael/Desktop/backup files/FederatedScope/data/CIKM22Competitionalse)\n",
    "#import random\n",
    "#random.seed(0)\n",
    "#import numpy as np\n",
    "#np.random.seed(0)"
   ],
   "metadata": {
    "collapsed": false
   }
  },
  {
   "cell_type": "code",
   "execution_count": 7,
   "outputs": [],
   "source": [
    "from yacs.config import CfgNode\n",
    "client_cfg_file = \"scripts/B-FHTL_exp_scripts/Graph-DT/cfg_per_client_theirs.yaml\"# \"scripts/B-FHTL_exp_scripts/Graph-DT/cfg_per_client_ours_lr_local_steps.yaml\"\n",
    "client_cfg = CfgNode.load_cfg(open(client_cfg_file,\n",
    "                                       'r')) if client_cfg_file else None\n"
   ],
   "metadata": {
    "collapsed": false
   }
  },
  {
   "cell_type": "markdown",
   "source": [
    "### Start the FL prosess"
   ],
   "metadata": {
    "collapsed": false
   }
  },
  {
   "cell_type": "code",
   "execution_count": 8,
   "outputs": [
    {
     "name": "stderr",
     "output_type": "stream",
     "text": [
      "2023-01-04 11:43:23,417 (trainer_builder:11)WARNING: No module named 'federatedscope.contrib.optimizer' in `federatedscope.contrib.trainer`, some modules are not available.\n"
     ]
    }
   ],
   "source": [
    "from federatedscope.core.auxiliaries.data_builder import get_data\n",
    "from federatedscope.core.auxiliaries.utils import setup_seed, update_logger\n",
    "from federatedscope.core.fed_runner import FedRunner\n",
    "from federatedscope.core.auxiliaries.worker_builder import get_server_cls, get_client_cls\n"
   ],
   "metadata": {
    "collapsed": false
   }
  },
  {
   "cell_type": "code",
   "execution_count": 9,
   "outputs": [
    {
     "name": "stderr",
     "output_type": "stream",
     "text": [
      "2023-01-04 11:43:23,551 (utils:129)INFO: the current machine is at 127.0.1.1\n",
      "2023-01-04 11:43:23,552 (utils:131)INFO: the current dir is /home/michael/Master-Thesis/CKIM_Competition\n",
      "2023-01-04 11:43:23,552 (utils:132)INFO: the output dir is exp/test_dir/Laplacian_domain_sep_sum_MI_csd100.0_lam1_diff1_MI_lr_0.02_no_finetune_gin_on_graph-dt_lr0.1_lstep1_/sub_exp_20230104114323\n"
     ]
    }
   ],
   "source": [
    "from federatedscope.contrib.workers.laplacian_with_domain_separation_MI_client import LaplacianDomainSeparationMIClient\n",
    "from federatedscope.contrib.workers.laplacian_server_dom_sep import LaplacianServerDomSep\n",
    "\n",
    "setup_seed(cfg.seed)\n",
    "update_logger(cfg)\n",
    "data, modified_cfg = get_data(cfg)\n",
    "cfg.merge_from_other_cfg(modified_cfg)\n"
   ],
   "metadata": {
    "collapsed": false
   }
  },
  {
   "cell_type": "code",
   "execution_count": 10,
   "outputs": [
    {
     "name": "stdout",
     "output_type": "stream",
     "text": [
      "rho: 0.0\n",
      "server params: \n",
      "encoder_atom.atom_embedding_list.0.weight\n"
     ]
    },
    {
     "name": "stderr",
     "output_type": "stream",
     "text": [
      "/home/michael/Master-Thesis/CKIM_Competition/venv/lib/python3.9/site-packages/torch/nn/init.py:405: UserWarning: Initializing zero-element tensors is a no-op\n",
      "  warnings.warn(\"Initializing zero-element tensors is a no-op\")\n",
      "2023-01-04 11:43:25,730 (fed_runner:249)INFO: Server #0 has been set up ... \n",
      "2023-01-04 11:43:25,740 (config:261)INFO: the used configs are: \n",
      "asyn:\n",
      "  min_received_num: 1\n",
      "  min_received_rate: -1.0\n",
      "  timeout: 0\n",
      "  use: True\n",
      "attack:\n",
      "  alpha_TV: 0.001\n",
      "  alpha_prop_loss: 0\n",
      "  attack_method: \n",
      "  attacker_id: -1\n",
      "  classifier_PIA: randomforest\n",
      "  info_diff_type: l2\n",
      "  inject_round: 0\n",
      "  max_ite: 400\n",
      "  reconstruct_lr: 0.01\n",
      "  reconstruct_optim: Adam\n",
      "  target_label_ind: -1\n",
      "backend: torch\n",
      "cfg_file: \n",
      "criterion:\n",
      "  type: MSELoss\n",
      "data:\n",
      "  args: []\n",
      "  batch_size: 64\n",
      "  cSBM_phi: [0.5, 0.5, 0.5]\n",
      "  consistent_label_distribution: False\n",
      "  drop_last: False\n",
      "  graphsaint:\n",
      "    num_steps: 30\n",
      "    walk_length: 2\n",
      "  loader: \n",
      "  num_workers: 0\n",
      "  pre_transform: []\n",
      "  quadratic:\n",
      "    dim: 1\n",
      "    max_curv: 12.5\n",
      "    min_curv: 0.02\n",
      "  root: data/\n",
      "  save_dir: test_dir\n",
      "  server_holds_all: False\n",
      "  shuffle: True\n",
      "  sizes: [10, 5]\n",
      "  splits: [0.8, 0.1, 0.1]\n",
      "  splitter: ooxx\n",
      "  splitter_args: []\n",
      "  subsample: 1.0\n",
      "  target_transform: []\n",
      "  transform: []\n",
      "  type: graph-dt\n",
      "device: 0\n",
      "distribute:\n",
      "  use: False\n",
      "early_stop:\n",
      "  delta: 0.0\n",
      "  improve_indicator_mode: best\n",
      "  patience: 100\n",
      "  the_smaller_the_better: False\n",
      "eval:\n",
      "  base: 0.9243\n",
      "  best_res_update_round_wise_key: val_imp_ratio\n",
      "  count_flops: False\n",
      "  freq: 1\n",
      "  metrics: ['imp_ratio']\n",
      "  monitoring: []\n",
      "  report: ['avg']\n",
      "  save_data: False\n",
      "  split: ['test', 'val']\n",
      "expname: Laplacian_domain_sep_sum_MI_csd100.0_lam1_diff1_MI_lr_0.02_no_finetune_gin_on_graph-dt_lr0.1_lstep1_\n",
      "expname_tag: \n",
      "federate:\n",
      "  client_num: 1\n",
      "  data_weighted_aggr: False\n",
      "  ignore_weight: False\n",
      "  join_in_info: []\n",
      "  make_global_eval: False\n",
      "  method: Laplacian_domain_sep_sum_MI_csd100.0_lam1_diff1_MI_lr_0.02_no_finetune\n",
      "  mode: standalone\n",
      "  online_aggr: False\n",
      "  restore_from: \n",
      "  sample_client_num: 1\n",
      "  sample_client_rate: -1.0\n",
      "  sampler: uniform\n",
      "  save_to: \n",
      "  share_local_model: False\n",
      "  total_round_num: 2000\n",
      "  unseen_clients_rate: 0.0\n",
      "  use_diff: False\n",
      "  use_ss: False\n",
      "fedopt:\n",
      "  use: False\n",
      "fedprox:\n",
      "  use: False\n",
      "fedsageplus:\n",
      "  a: 1.0\n",
      "  b: 1.0\n",
      "  c: 1.0\n",
      "  fedgen_epoch: 200\n",
      "  gen_hidden: 128\n",
      "  hide_portion: 0.5\n",
      "  loc_epoch: 1\n",
      "  num_pred: 5\n",
      "finetune:\n",
      "  batch_or_epoch: epoch\n",
      "  before_eval: False\n",
      "  freeze_param: \n",
      "  local_update_steps: 1\n",
      "  optimizer:\n",
      "    lr: 0.1\n",
      "    type: SGD\n",
      "flitplus:\n",
      "  factor_ema: 0.8\n",
      "  lambdavat: 0.5\n",
      "  tmpFed: 0.5\n",
      "  weightReg: 1.0\n",
      "gcflplus:\n",
      "  EPS_1: 0.05\n",
      "  EPS_2: 0.1\n",
      "  seq_length: 5\n",
      "  standardize: False\n",
      "grad:\n",
      "  grad_clip: 5.0\n",
      "hpo:\n",
      "  fedex:\n",
      "    cutoff: 0.0\n",
      "    diff: False\n",
      "    eta0: -1.0\n",
      "    flatten_ss: True\n",
      "    gamma: 0.0\n",
      "    num_arms: 16\n",
      "    sched: auto\n",
      "    ss: \n",
      "    use: False\n",
      "  init_cand_num: 16\n",
      "  larger_better: False\n",
      "  log_scale: False\n",
      "  metric: client_summarized_weighted_avg.val_loss\n",
      "  num_workers: 0\n",
      "  pbt:\n",
      "    max_stage: 5\n",
      "    perf_threshold: 0.1\n",
      "  plot_interval: 1\n",
      "  scheduler: rs\n",
      "  sha:\n",
      "    budgets: []\n",
      "    elim_rate: 3\n",
      "    elim_round_num: 3\n",
      "  ss: \n",
      "  table:\n",
      "    eps: 0.1\n",
      "    idx: 0\n",
      "    num: 27\n",
      "    ss: \n",
      "  working_folder: hpo\n",
      "maml:\n",
      "  use: False\n",
      "model:\n",
      "  dropout: 0.0\n",
      "  embed_size: 8\n",
      "  graph_pooling: mean\n",
      "  hidden: 64\n",
      "  in_channels: 0\n",
      "  layer: 2\n",
      "  model_num_per_trainer: 1\n",
      "  num_item: 0\n",
      "  num_user: 0\n",
      "  out_channels: 1\n",
      "  task: graphRegression\n",
      "  type: gin\n",
      "  use_bias: True\n",
      "nbafl:\n",
      "  use: False\n",
      "outdir: exp/test_dir/Laplacian_domain_sep_sum_MI_csd100.0_lam1_diff1_MI_lr_0.02_no_finetune_gin_on_graph-dt_lr0.1_lstep1_/sub_exp_20230104114323\n",
      "params:\n",
      "  alpha: 0.1\n",
      "  csd_importance: 100.0\n",
      "  diff_importance: 1\n",
      "  eps: 1e-20\n",
      "  lam: 1\n",
      "  mine_lr: 0.02\n",
      "  p: 0.0\n",
      "personalization:\n",
      "  K: 5\n",
      "  beta: 1.0\n",
      "  local_param: ['encoder_atom', 'encoder', 'clf', 'local', 'mine']\n",
      "  local_update_steps: 20000000\n",
      "  lr: 0.1\n",
      "  regular_weight: 0.1\n",
      "  share_non_trainable_para: False\n",
      "print_decimal_digits: 6\n",
      "regularizer:\n",
      "  mu: 0.0\n",
      "  type: \n",
      "seed: 0\n",
      "sgdmf:\n",
      "  use: False\n",
      "train:\n",
      "  batch_or_epoch: epoch\n",
      "  local_update_steps: 1\n",
      "  optimizer:\n",
      "    lr: 0.01\n",
      "    type: SGD\n",
      "    weight_decay: 0.0005\n",
      "trainer:\n",
      "  type: laplacian_trainer_with_domain_separation\n",
      "use_gpu: True\n",
      "verbose: 1\n",
      "vertical:\n",
      "  use: False\n",
      "wandb:\n",
      "  use: False\n",
      "2023-01-04 11:43:25,773 (trainer:50)WARNING: Will not use monitor in trainer with class <class 'federatedscope.contrib.trainer.laplacian_trainer_with_domain_separation_with_summation_MI.LaplacianDomainSeparationWithSummationMITrainer'>\n",
      "2023-01-04 11:43:25,775 (fed_runner:302)INFO: Client 1 has been set up ... \n",
      "2023-01-04 11:43:25,775 (trainer:324)INFO: Model meta-info: <class 'federatedscope.gfl.model.graph_level.GNN_Net_Graph'>.\n",
      "2023-01-04 11:43:25,778 (trainer:332)INFO: Num of original para names: 136.\n",
      "2023-01-04 11:43:25,779 (trainer:333)INFO: Num of original trainable para names: 84.\n",
      "2023-01-04 11:43:25,779 (trainer:335)INFO: Num of preserved para names in local update: 66. \n",
      "Preserved para names in local update: {'bn_after_summation.num_batches_tracked', 'global_gnn.convs.1.nn.linears.0.weight', 'bn_linear0_loc.num_batches_tracked', 'bn_node.bias', 'global_gnn.convs.0.nn.norms.0.bias', 'global_linear_out1.bias', 'linear_out2.0.bias', 'global_linear_out1.weight', 'global_gnn.convs.1.nn.norms.1.num_batches_tracked', 'bn_node.running_mean', 'bn_linear0_loc.weight', 'global_gnn.convs.1.eps', 'emb.weight', 'global_gnn.convs.0.nn.linears.0.bias', 'global_gnn.convs.1.nn.linears.1.weight', 'bn_edge.num_batches_tracked', 'global_gnn.convs.0.nn.norms.1.weight', 'bn_node.num_batches_tracked', 'bn_linear2.running_mean', 'bn_linear0_loc.running_mean', 'global_gnn.convs.1.nn.linears.1.bias', 'bn_after_summation.running_var', 'bn_after_summation.bias', 'bn_edge.running_mean', 'global_gnn.convs.0.nn.linears.1.weight', 'global_gnn.convs.1.nn.linears.0.bias', 'global_gnn.convs.1.nn.norms.1.weight', 'global_gnn.convs.1.nn.norms.1.running_var', 'global_gnn.convs.0.nn.norms.0.num_batches_tracked', 'bn_linear2.running_var', 'bn_linear2.weight', 'bn_edge.running_var', 'bn_linear1_loc.running_mean', 'emb.bias', 'linear_out2.0.weight', 'global_gnn.convs.0.nn.norms.0.weight', 'bn_node.running_var', 'bn_node.weight', 'bn_after_summation.running_mean', 'bn_edge.bias', 'global_gnn.convs.0.nn.norms.1.num_batches_tracked', 'global_gnn.convs.0.nn.norms.1.bias', 'global_gnn.convs.0.nn.linears.0.weight', 'global_gnn.convs.1.nn.norms.0.bias', 'global_gnn.convs.1.nn.norms.0.running_mean', 'global_gnn.convs.1.nn.norms.0.running_var', 'global_gnn.convs.1.nn.norms.1.running_mean', 'bn_edge.weight', 'bn_linear0_loc.bias', 'bn_linear2.num_batches_tracked', 'global_gnn.convs.1.nn.norms.0.num_batches_tracked', 'bn_linear0_loc.running_var', 'global_gnn.convs.0.nn.norms.0.running_mean', 'global_gnn.convs.1.nn.norms.1.bias', 'global_gnn.convs.0.nn.linears.1.bias', 'bn_linear1_loc.bias', 'global_gnn.convs.0.nn.norms.0.running_var', 'global_gnn.convs.1.nn.norms.0.weight', 'bn_linear1_loc.num_batches_tracked', 'bn_linear1_loc.weight', 'bn_after_summation.weight', 'bn_linear2.bias', 'global_gnn.convs.0.eps', 'global_gnn.convs.0.nn.norms.1.running_mean', 'bn_linear1_loc.running_var', 'global_gnn.convs.0.nn.norms.1.running_var'}.\n",
      "2023-01-04 11:43:25,780 (trainer:339)INFO: Num of filtered para names in local update: 70. \n",
      "Filtered para names in local update: {'local_gnn.convs.1.nn.norms.0.running_mean', 'local_gnn.convs.1.nn.norms.1.bias', 'mine.T.1.weight', 'encoder_atom.atom_embedding_list.14.weight', 'local_gnn.convs.1.nn.norms.0.bias', 'mine.energy_loss.T.3.bias', 'local_gnn.convs.1.nn.norms.0.running_var', 'local_gnn.convs.0.nn.norms.1.weight', 'clf.bias', 'encoder_atom.atom_embedding_list.19.weight', 'mine.energy_loss.T.1.bias', 'mine.energy_loss.T.1.weight', 'local_gnn.convs.0.nn.norms.1.running_mean', 'local_gnn.convs.1.nn.linears.1.bias', 'encoder_atom.atom_embedding_list.9.weight', 'local_gnn.convs.1.nn.linears.0.weight', 'local_gnn.convs.0.eps', 'local_gnn.convs.0.nn.norms.1.running_var', 'mine.T.3.weight', 'local_gnn.convs.0.nn.norms.0.running_mean', 'encoder_atom.atom_embedding_list.18.weight', 'encoder_atom.atom_embedding_list.16.weight', 'local_gnn.convs.0.nn.norms.0.num_batches_tracked', 'mine.energy_loss.T.5.weight', 'local_gnn.convs.1.nn.norms.1.num_batches_tracked', 'encoder_atom.atom_embedding_list.8.weight', 'local_gnn.convs.0.nn.norms.0.bias', 'local_gnn.convs.1.nn.linears.0.bias', 'encoder_atom.atom_embedding_list.5.weight', 'local_gnn.convs.1.nn.linears.1.weight', 'local_gnn.convs.1.nn.norms.0.weight', 'encoder_atom.atom_embedding_list.11.weight', 'local_linear_out1.bias', 'local_gnn.convs.1.nn.norms.0.num_batches_tracked', 'local_linear_out1.weight', 'mine.energy_loss.T.3.weight', 'local_gnn.convs.0.nn.linears.0.bias', 'encoder_atom.atom_embedding_list.3.weight', 'encoder_atom.atom_embedding_list.10.weight', 'mine.T.5.bias', 'mine.T.1.bias', 'local_gnn.convs.0.nn.norms.0.weight', 'encoder_atom.atom_embedding_list.21.weight', 'local_gnn.convs.1.eps', 'encoder_atom.atom_embedding_list.4.weight', 'encoder_atom.atom_embedding_list.0.weight', 'mine.T.5.weight', 'encoder_atom.atom_embedding_list.13.weight', 'encoder_atom.atom_embedding_list.12.weight', 'encoder_atom.atom_embedding_list.17.weight', 'local_gnn.convs.0.nn.linears.1.weight', 'encoder.weight', 'encoder_atom.atom_embedding_list.15.weight', 'local_gnn.convs.1.nn.norms.1.running_var', 'local_gnn.convs.0.nn.linears.0.weight', 'local_gnn.convs.0.nn.norms.1.bias', 'clf.weight', 'encoder_atom.atom_embedding_list.7.weight', 'local_gnn.convs.1.nn.norms.1.weight', 'local_gnn.convs.0.nn.norms.0.running_var', 'encoder_atom.atom_embedding_list.2.weight', 'local_gnn.convs.0.nn.norms.1.num_batches_tracked', 'encoder.bias', 'local_gnn.convs.0.nn.linears.1.bias', 'mine.energy_loss.T.5.bias', 'encoder_atom.atom_embedding_list.6.weight', 'local_gnn.convs.1.nn.norms.1.running_mean', 'encoder_atom.atom_embedding_list.1.weight', 'encoder_atom.atom_embedding_list.20.weight', 'mine.T.3.bias'}.\n",
      "2023-01-04 11:43:25,781 (trainer:344)INFO: After register default hooks,\n",
      "\tthe hooks_in_train is:\n",
      "\t{\n",
      "\t  \"on_fit_start\": [\n",
      "\t    \"_hook_on_fit_start_init\",\n",
      "\t    \"_hook_on_fit_start_calculate_model_size\"\n",
      "\t  ],\n",
      "\t  \"on_epoch_start\": [\n",
      "\t    \"_hook_on_epoch_start\"\n",
      "\t  ],\n",
      "\t  \"on_batch_start\": [\n",
      "\t    \"_hook_on_batch_start_init\"\n",
      "\t  ],\n",
      "\t  \"on_batch_forward\": [\n",
      "\t    \"_hook_on_batch_forward\",\n",
      "\t    \"_hook_on_batch_forward_regularizer\",\n",
      "\t    \"_hook_on_batch_forward_flop_count\"\n",
      "\t  ],\n",
      "\t  \"on_batch_backward\": [\n",
      "\t    \"_hook_on_batch_backward\"\n",
      "\t  ],\n",
      "\t  \"on_batch_end\": [\n",
      "\t    \"_hook_on_batch_end\"\n",
      "\t  ],\n",
      "\t  \"on_fit_end\": [\n",
      "\t    \"_hook_on_fit_end\"\n",
      "\t  ]\n",
      "\t};\n",
      "\tthe hooks_in_eval is:\n",
      "            t{\n",
      "\t  \"on_fit_start\": [\n",
      "\t    \"_hook_on_fit_start_init\"\n",
      "\t  ],\n",
      "\t  \"on_epoch_start\": [\n",
      "\t    \"_hook_on_epoch_start\"\n",
      "\t  ],\n",
      "\t  \"on_batch_start\": [\n",
      "\t    \"_hook_on_batch_start_init\"\n",
      "\t  ],\n",
      "\t  \"on_batch_forward\": [\n",
      "\t    \"_hook_on_batch_forward\"\n",
      "\t  ],\n",
      "\t  \"on_batch_end\": [\n",
      "\t    \"_hook_on_batch_end\"\n",
      "\t  ],\n",
      "\t  \"on_fit_end\": [\n",
      "\t    \"_hook_on_fit_end\"\n",
      "\t  ]\n",
      "\t}\n",
      "2023-01-04 11:43:25,787 (server:628)INFO: ----------- Starting training (Round #0) -------------\n"
     ]
    },
    {
     "name": "stdout",
     "output_type": "stream",
     "text": [
      "encoder_atom.atom_embedding_list.1.weight\n",
      "encoder_atom.atom_embedding_list.2.weight\n",
      "encoder_atom.atom_embedding_list.3.weight\n",
      "encoder_atom.atom_embedding_list.4.weight\n",
      "encoder_atom.atom_embedding_list.5.weight\n",
      "encoder_atom.atom_embedding_list.6.weight\n",
      "encoder_atom.atom_embedding_list.7.weight\n",
      "encoder_atom.atom_embedding_list.8.weight\n",
      "encoder_atom.atom_embedding_list.9.weight\n",
      "encoder_atom.atom_embedding_list.10.weight\n",
      "encoder_atom.atom_embedding_list.11.weight\n",
      "encoder_atom.atom_embedding_list.12.weight\n",
      "encoder_atom.atom_embedding_list.13.weight\n",
      "encoder_atom.atom_embedding_list.14.weight\n",
      "encoder_atom.atom_embedding_list.15.weight\n",
      "encoder_atom.atom_embedding_list.16.weight\n",
      "encoder_atom.atom_embedding_list.17.weight\n",
      "encoder_atom.atom_embedding_list.18.weight\n",
      "encoder_atom.atom_embedding_list.19.weight\n",
      "encoder_atom.atom_embedding_list.20.weight\n",
      "encoder_atom.atom_embedding_list.21.weight\n",
      "encoder.weight\n",
      "encoder.bias\n",
      "local_gnn.convs.0.nn.linears.0.weight\n",
      "local_gnn.convs.0.nn.linears.0.bias\n",
      "local_gnn.convs.0.nn.linears.1.weight\n",
      "local_gnn.convs.0.nn.linears.1.bias\n",
      "local_gnn.convs.0.nn.norms.0.weight\n",
      "local_gnn.convs.0.nn.norms.0.bias\n",
      "local_gnn.convs.0.nn.norms.1.weight\n",
      "local_gnn.convs.0.nn.norms.1.bias\n",
      "local_gnn.convs.1.nn.linears.0.weight\n",
      "local_gnn.convs.1.nn.linears.0.bias\n",
      "local_gnn.convs.1.nn.linears.1.weight\n",
      "local_gnn.convs.1.nn.linears.1.bias\n",
      "local_gnn.convs.1.nn.norms.0.weight\n",
      "local_gnn.convs.1.nn.norms.0.bias\n",
      "local_gnn.convs.1.nn.norms.1.weight\n",
      "local_gnn.convs.1.nn.norms.1.bias\n",
      "global_gnn.convs.0.nn.linears.0.weight\n",
      "global_gnn.convs.0.nn.linears.0.bias\n",
      "global_gnn.convs.0.nn.linears.1.weight\n",
      "global_gnn.convs.0.nn.linears.1.bias\n",
      "global_gnn.convs.0.nn.norms.0.weight\n",
      "global_gnn.convs.0.nn.norms.0.bias\n",
      "global_gnn.convs.0.nn.norms.1.weight\n",
      "global_gnn.convs.0.nn.norms.1.bias\n",
      "global_gnn.convs.1.nn.linears.0.weight\n",
      "global_gnn.convs.1.nn.linears.0.bias\n",
      "global_gnn.convs.1.nn.linears.1.weight\n",
      "global_gnn.convs.1.nn.linears.1.bias\n",
      "global_gnn.convs.1.nn.norms.0.weight\n",
      "global_gnn.convs.1.nn.norms.0.bias\n",
      "global_gnn.convs.1.nn.norms.1.weight\n",
      "global_gnn.convs.1.nn.norms.1.bias\n",
      "mine.T.1.weight\n",
      "mine.T.1.bias\n",
      "mine.T.3.weight\n",
      "mine.T.3.bias\n",
      "mine.T.5.weight\n",
      "mine.T.5.bias\n",
      "bn_edge.weight\n",
      "bn_edge.bias\n",
      "bn_node.weight\n",
      "bn_node.bias\n",
      "global_linear_out1.weight\n",
      "global_linear_out1.bias\n",
      "local_linear_out1.weight\n",
      "local_linear_out1.bias\n",
      "bn_linear0_loc.weight\n",
      "bn_linear0_loc.bias\n",
      "bn_linear1_loc.weight\n",
      "bn_linear1_loc.bias\n",
      "bn_after_summation.weight\n",
      "bn_after_summation.bias\n",
      "linear_out2.0.weight\n",
      "linear_out2.0.bias\n",
      "bn_linear2.weight\n",
      "bn_linear2.bias\n",
      "clf.weight\n",
      "clf.bias\n",
      "emb.weight\n",
      "emb.bias\n",
      "rho: 0.0\n",
      "1: 7.8277587890625\n",
      "2: 4.233360290527344\n",
      "3: 21.55756950378418\n",
      "4: 33.07175636291504\n",
      "5: 16.900062561035156\n",
      "6: 5.914449691772461\n",
      "total: 89.50495719909668\n",
      "1: 29.228925704956055\n",
      "2: 4.93621826171875\n",
      "3: 73.16136360168457\n",
      "4: 10.985612869262695\n",
      "5: 13.438701629638672\n",
      "6: 8.228063583374023\n",
      "total: 139.97888565063477\n",
      "1: 5.904674530029297\n",
      "2: 2.753734588623047\n",
      "3: 12.62354850769043\n",
      "4: 7.441997528076172\n",
      "5: 14.724016189575195\n",
      "6: 6.131410598754883\n",
      "total: 49.57938194274902\n",
      "1: 5.874156951904297\n",
      "2: 2.7327537536621094\n",
      "3: 17.23766326904297\n",
      "4: 6.79326057434082\n",
      "5: 17.93694496154785\n",
      "6: 6.869077682495117\n",
      "total: 57.443857192993164\n",
      "1: 7.681131362915039\n",
      "2: 4.84156608581543\n",
      "3: 18.932342529296875\n",
      "4: 8.524656295776367\n",
      "5: 13.547420501708984\n",
      "6: 5.83195686340332\n",
      "total: 59.359073638916016\n",
      "1: 10.305166244506836\n",
      "2: 6.512165069580078\n",
      "3: 19.327640533447266\n",
      "4: 5.980014801025391\n",
      "5: 16.81661605834961\n",
      "6: 6.424903869628906\n",
      "total: 65.36650657653809\n",
      "1: 6.173610687255859\n",
      "2: 4.4765472412109375\n",
      "3: 21.025657653808594\n",
      "4: 6.370782852172852\n",
      "5: 16.044139862060547\n",
      "6: 6.865024566650391\n",
      "total: 60.95576286315918\n",
      "1: 8.085966110229492\n",
      "2: 4.33802604675293\n",
      "3: 19.20795440673828\n",
      "4: 6.418466567993164\n",
      "5: 9.331226348876953\n",
      "6: 5.794763565063477\n",
      "total: 53.1764030456543\n",
      "1: 5.050420761108398\n",
      "2: 2.4619102478027344\n",
      "3: 19.237995147705078\n",
      "4: 7.273674011230469\n",
      "5: 14.988183975219727\n",
      "6: 5.948781967163086\n",
      "total: 54.96096611022949\n",
      "1: 8.332967758178711\n",
      "2: 4.961729049682617\n",
      "3: 22.780418395996094\n",
      "4: 5.37872314453125\n",
      "5: 15.969038009643555\n",
      "6: 6.404876708984375\n",
      "total: 63.8277530670166\n",
      "1: 7.686853408813477\n",
      "2: 3.9060115814208984\n",
      "3: 22.845029830932617\n",
      "4: 6.579160690307617\n",
      "5: 9.040355682373047\n",
      "6: 12.610673904418945\n",
      "total: 62.6680850982666\n",
      "1: 6.3991546630859375\n",
      "2: 3.0503273010253906\n",
      "3: 16.109466552734375\n",
      "4: 6.802558898925781\n",
      "5: 13.234138488769531\n",
      "6: 5.719423294067383\n",
      "total: 51.3150691986084\n",
      "1: 5.852460861206055\n",
      "2: 4.89354133605957\n",
      "3: 17.409324645996094\n",
      "4: 6.187200546264648\n",
      "5: 16.693830490112305\n",
      "6: 5.697965621948242\n",
      "total: 56.734323501586914\n"
     ]
    },
    {
     "name": "stderr",
     "output_type": "stream",
     "text": [
      "2023-01-04 11:43:28,072 (laplacian_with_domain_separation_MI_client:140)INFO: {'Role': 'Client #1', 'Round': 0, 'Results_raw': {'train_imp_ratio': -1063.961928, 'train_total': 901, 'train_loss': 9693.408445, 'train_avg_loss': 10.7585}}\n"
     ]
    },
    {
     "name": "stdout",
     "output_type": "stream",
     "text": [
      "1: 6.95490837097168\n",
      "2: 5.021333694458008\n",
      "3: 22.20916748046875\n",
      "4: 6.279468536376953\n",
      "5: 12.830018997192383\n",
      "6: 5.966901779174805\n",
      "total: 59.26179885864258\n",
      "1: 8.272886276245117\n",
      "2: 2.954244613647461\n",
      "3: 41.04423522949219\n",
      "4: 28.499841690063477\n",
      "5: 12.183189392089844\n",
      "6: 9.30333137512207\n",
      "total: 102.25772857666016\n"
     ]
    },
    {
     "name": "stderr",
     "output_type": "stream",
     "text": [
      "2023-01-04 11:43:28,145 (laplacian_server_dom_sep:168)INFO: Server #0: Starting evaluation at the end of round 0.\n",
      "2023-01-04 11:43:28,147 (laplacian_server_dom_sep:175)INFO: ----------- Starting a new training round (Round #1) -------------\n",
      "2023-01-04 11:43:28,240 (client:410)INFO: {'Role': 'Client #1', 'Round': 1, 'Results_raw': {'test_imp_ratio': -818.453369, 'test_total': 113, 'test_loss': 959.286917, 'test_avg_loss': 8.489265, 'val_imp_ratio': -813.48153, 'val_total': 113, 'val_loss': 954.093968, 'val_avg_loss': 8.443309}}\n",
      "2023-01-04 11:43:28,241 (monitor:513)INFO: current_best=-813.48153, should_save=True\n",
      "2023-01-04 11:43:28,242 (client:431)INFO: Client: #1, val_imp_ratio: -813.48153. model saved at exp/test_dir/Laplacian_domain_sep_sum_MI_csd100.0_lam1_diff1_MI_lr_0.02_no_finetune_gin_on_graph-dt_lr0.1_lstep1_/sub_exp_20230104114323/model1.pth\n"
     ]
    },
    {
     "name": "stdout",
     "output_type": "stream",
     "text": [
      "Time for aggregation 1: 20.546674728393555\n",
      "Time for aggregation 2: 63.92240524291992\n",
      "1: 4.578113555908203\n",
      "2: 3.7412643432617188\n",
      "3: 18.794775009155273\n",
      "4: 5.982637405395508\n",
      "5: 15.516042709350586\n",
      "6: 9.294748306274414\n",
      "total: 57.9075813293457\n",
      "1: 7.4405670166015625\n",
      "2: 2.4785995483398438\n",
      "3: 20.55048942565918\n",
      "4: 11.148691177368164\n",
      "5: 16.630887985229492\n",
      "6: 5.737781524658203\n",
      "total: 63.987016677856445\n",
      "1: 8.347034454345703\n",
      "2: 5.082368850708008\n",
      "3: 19.267559051513672\n",
      "4: 7.572650909423828\n",
      "5: 14.041900634765625\n",
      "6: 7.019281387329102\n",
      "total: 61.33079528808594\n",
      "1: 8.216381072998047\n",
      "2: 2.3522377014160156\n",
      "3: 14.56451416015625\n",
      "4: 6.545066833496094\n",
      "5: 8.287191390991211\n",
      "6: 5.560398101806641\n",
      "total: 45.52578926086426\n",
      "1: 7.546663284301758\n",
      "2: 2.8679370880126953\n",
      "3: 17.17829704284668\n",
      "4: 6.162166595458984\n",
      "5: 13.138532638549805\n",
      "6: 5.58924674987793\n",
      "total: 52.48284339904785\n",
      "1: 8.674144744873047\n",
      "2: 2.839326858520508\n",
      "3: 22.918701171875\n",
      "4: 6.439685821533203\n",
      "5: 15.58065414428711\n",
      "6: 8.932113647460938\n",
      "total: 65.3846263885498\n",
      "1: 11.343002319335938\n",
      "2: 5.431175231933594\n",
      "3: 19.7145938873291\n",
      "4: 9.560108184814453\n",
      "5: 13.869762420654297\n",
      "6: 6.630897521972656\n",
      "total: 66.54953956604004\n",
      "1: 7.175683975219727\n",
      "2: 3.595590591430664\n",
      "3: 22.432565689086914\n",
      "4: 6.627082824707031\n",
      "5: 15.70439338684082\n",
      "6: 7.332324981689453\n",
      "total: 62.86764144897461\n",
      "1: 6.877899169921875\n",
      "2: 2.608060836791992\n",
      "3: 18.42021942138672\n",
      "4: 7.19761848449707\n",
      "5: 15.986442565917969\n",
      "6: 5.638837814331055\n",
      "total: 56.72907829284668\n",
      "1: 8.089065551757812\n",
      "2: 5.940914154052734\n",
      "3: 19.448041915893555\n",
      "4: 6.447076797485352\n",
      "5: 16.16954803466797\n",
      "6: 5.48863410949707\n",
      "total: 61.58328056335449\n",
      "1: 8.203506469726562\n",
      "2: 3.5173892974853516\n",
      "3: 17.034530639648438\n",
      "4: 6.1473846435546875\n",
      "5: 10.462045669555664\n",
      "6: 6.864309310913086\n",
      "total: 52.22916603088379\n",
      "1: 7.485151290893555\n",
      "2: 6.474971771240234\n",
      "3: 20.896196365356445\n",
      "4: 6.046533584594727\n",
      "5: 14.958858489990234\n",
      "6: 5.856752395629883\n",
      "total: 61.71846389770508\n",
      "1: 10.583639144897461\n",
      "2: 4.965305328369141\n",
      "3: 22.846698760986328\n",
      "4: 9.039878845214844\n",
      "5: 16.872882843017578\n",
      "6: 6.007909774780273\n",
      "total: 70.31631469726562\n",
      "1: 7.858753204345703\n",
      "2: 2.727985382080078\n",
      "3: 22.07183837890625\n",
      "4: 7.632970809936523\n",
      "5: 13.663053512573242\n",
      "6: 5.954980850219727\n",
      "total: 59.90958213806152\n",
      "1: 6.467580795288086\n",
      "2: 3.284454345703125\n",
      "3: 21.599292755126953\n",
      "4: 5.081892013549805\n",
      "5: 14.651775360107422\n",
      "6: 5.857229232788086\n",
      "total: 56.94222450256348\n"
     ]
    },
    {
     "name": "stderr",
     "output_type": "stream",
     "text": [
      "2023-01-04 11:43:29,819 (laplacian_with_domain_separation_MI_client:140)INFO: {'Role': 'Client #1', 'Round': 1, 'Results_raw': {'train_imp_ratio': -417.472836, 'train_total': 901, 'train_loss': 4309.484414, 'train_avg_loss': 4.783002}}\n",
      "2023-01-04 11:43:29,821 (server:480)INFO: {'Role': 'Server #', 'Round': 1, 'Results_avg': {'test_imp_ratio': -818.453369, 'test_total': 113.0, 'test_loss': 959.286917, 'test_avg_loss': 8.489265, 'val_imp_ratio': -813.48153, 'val_total': 113.0, 'val_loss': 954.093968, 'val_avg_loss': 8.443309}}\n",
      "2023-01-04 11:43:29,822 (monitor:513)INFO: current_best=-10000, should_save=False\n",
      "2023-01-04 11:43:29,823 (monitor:513)INFO: current_best=-813.48153, should_save=True\n",
      "2023-01-04 11:43:29,889 (laplacian_server_dom_sep:168)INFO: Server #0: Starting evaluation at the end of round 1.\n",
      "2023-01-04 11:43:29,892 (laplacian_server_dom_sep:175)INFO: ----------- Starting a new training round (Round #2) -------------\n",
      "2023-01-04 11:43:29,995 (client:410)INFO: {'Role': 'Client #1', 'Round': 2, 'Results_raw': {'test_imp_ratio': -385.406401, 'test_total': 113, 'test_loss': 506.987023, 'test_avg_loss': 4.486611, 'val_imp_ratio': -327.726387, 'val_total': 113, 'val_loss': 446.742698, 'val_avg_loss': 3.953475}}\n",
      "2023-01-04 11:43:29,997 (monitor:513)INFO: current_best=-327.726387, should_save=True\n",
      "2023-01-04 11:43:29,998 (client:431)INFO: Client: #1, val_imp_ratio: -327.726387. model saved at exp/test_dir/Laplacian_domain_sep_sum_MI_csd100.0_lam1_diff1_MI_lr_0.02_no_finetune_gin_on_graph-dt_lr0.1_lstep1_/sub_exp_20230104114323/model1.pth\n"
     ]
    },
    {
     "name": "stdout",
     "output_type": "stream",
     "text": [
      "Time for aggregation 1: 10.806083679199219\n",
      "Time for aggregation 2: 57.76834487915039\n",
      "1: 7.051706314086914\n",
      "2: 2.988576889038086\n",
      "3: 25.025129318237305\n",
      "4: 16.55888557434082\n",
      "5: 14.26076889038086\n",
      "6: 5.940437316894531\n",
      "total: 71.82550430297852\n",
      "1: 6.999731063842773\n",
      "2: 4.702091217041016\n",
      "3: 17.64702796936035\n",
      "4: 6.966352462768555\n",
      "5: 14.935016632080078\n",
      "6: 6.3877105712890625\n",
      "total: 57.637929916381836\n",
      "1: 8.816719055175781\n",
      "2: 2.5758743286132812\n",
      "3: 15.862226486206055\n",
      "4: 6.427288055419922\n",
      "5: 8.297204971313477\n",
      "6: 5.646705627441406\n",
      "total: 47.62601852416992\n",
      "1: 12.194633483886719\n",
      "2: 5.79524040222168\n",
      "3: 19.3328857421875\n",
      "4: 5.242586135864258\n",
      "5: 12.714385986328125\n",
      "6: 8.580207824707031\n",
      "total: 63.85993957519531\n",
      "1: 6.6738128662109375\n",
      "2: 4.407644271850586\n",
      "3: 21.342754364013672\n",
      "4: 6.508111953735352\n",
      "5: 14.353036880493164\n",
      "6: 6.888866424560547\n",
      "total: 60.17422676086426\n",
      "1: 6.904125213623047\n",
      "2: 3.4532546997070312\n",
      "3: 16.841888427734375\n",
      "4: 6.290674209594727\n",
      "5: 15.24043083190918\n",
      "6: 6.055593490600586\n",
      "total: 54.785966873168945\n",
      "1: 9.194135665893555\n",
      "2: 4.852056503295898\n",
      "3: 19.551515579223633\n",
      "4: 7.406711578369141\n",
      "5: 15.850305557250977\n",
      "6: 5.553960800170898\n",
      "total: 62.4086856842041\n",
      "1: 6.368875503540039\n",
      "2: 2.529621124267578\n",
      "3: 16.954421997070312\n",
      "4: 6.490945816040039\n",
      "5: 14.104604721069336\n",
      "6: 6.242036819458008\n",
      "total: 52.69050598144531\n",
      "1: 8.062124252319336\n",
      "2: 3.6771297454833984\n",
      "3: 18.000125885009766\n",
      "4: 5.626916885375977\n",
      "5: 14.254570007324219\n",
      "6: 6.774663925170898\n",
      "total: 56.395530700683594\n",
      "1: 7.17926025390625\n",
      "2: 4.00853157043457\n",
      "3: 18.282175064086914\n",
      "4: 5.728721618652344\n",
      "5: 13.280153274536133\n",
      "6: 6.206512451171875\n",
      "total: 54.685354232788086\n",
      "1: 6.599187850952148\n",
      "2: 4.914045333862305\n",
      "3: 20.618677139282227\n",
      "4: 5.832433700561523\n",
      "5: 8.323431015014648\n",
      "6: 7.851600646972656\n",
      "total: 54.13937568664551\n",
      "1: 5.020618438720703\n",
      "2: 2.805471420288086\n",
      "3: 13.929128646850586\n",
      "4: 6.435155868530273\n",
      "5: 7.83991813659668\n",
      "6: 7.880449295043945\n",
      "total: 43.91074180603027\n"
     ]
    },
    {
     "name": "stderr",
     "output_type": "stream",
     "text": [
      "2023-01-04 11:43:31,494 (laplacian_with_domain_separation_MI_client:140)INFO: {'Role': 'Client #1', 'Round': 2, 'Results_raw': {'train_imp_ratio': -282.548246, 'train_total': 901, 'train_loss': 3185.840079, 'train_avg_loss': 3.535894}}\n",
      "2023-01-04 11:43:31,496 (server:480)INFO: {'Role': 'Server #', 'Round': 2, 'Results_avg': {'test_imp_ratio': -385.406401, 'test_total': 113.0, 'test_loss': 506.987023, 'test_avg_loss': 4.486611, 'val_imp_ratio': -327.726387, 'val_total': 113.0, 'val_loss': 446.742698, 'val_avg_loss': 3.953475}}\n",
      "2023-01-04 11:43:31,497 (monitor:513)INFO: current_best=-813.48153, should_save=False\n",
      "2023-01-04 11:43:31,497 (monitor:513)INFO: current_best=-327.726387, should_save=True\n"
     ]
    },
    {
     "name": "stdout",
     "output_type": "stream",
     "text": [
      "1: 8.903264999389648\n",
      "2: 3.817319869995117\n",
      "3: 19.641637802124023\n",
      "4: 6.108283996582031\n",
      "5: 14.59503173828125\n",
      "6: 6.819009780883789\n",
      "total: 59.88454818725586\n",
      "1: 7.903814315795898\n",
      "2: 5.561351776123047\n",
      "3: 17.93837547302246\n",
      "4: 6.165742874145508\n",
      "5: 14.317989349365234\n",
      "6: 5.590200424194336\n",
      "total: 57.477474212646484\n",
      "1: 6.879091262817383\n",
      "2: 2.5501251220703125\n",
      "3: 18.274307250976562\n",
      "4: 6.34455680847168\n",
      "5: 16.241073608398438\n",
      "6: 5.70368766784668\n",
      "total: 55.992841720581055\n"
     ]
    },
    {
     "name": "stderr",
     "output_type": "stream",
     "text": [
      "2023-01-04 11:43:31,554 (laplacian_server_dom_sep:168)INFO: Server #0: Starting evaluation at the end of round 2.\n",
      "2023-01-04 11:43:31,556 (laplacian_server_dom_sep:175)INFO: ----------- Starting a new training round (Round #3) -------------\n",
      "2023-01-04 11:43:31,659 (client:410)INFO: {'Role': 'Client #1', 'Round': 3, 'Results_raw': {'test_imp_ratio': -269.104823, 'test_total': 113, 'test_loss': 385.514864, 'test_avg_loss': 3.411636, 'val_imp_ratio': -197.412539, 'val_total': 113, 'val_loss': 310.635197, 'val_avg_loss': 2.748984}}\n",
      "2023-01-04 11:43:31,660 (monitor:513)INFO: current_best=-197.412539, should_save=True\n",
      "2023-01-04 11:43:31,660 (client:431)INFO: Client: #1, val_imp_ratio: -197.412539. model saved at exp/test_dir/Laplacian_domain_sep_sum_MI_csd100.0_lam1_diff1_MI_lr_0.02_no_finetune_gin_on_graph-dt_lr0.1_lstep1_/sub_exp_20230104114323/model1.pth\n"
     ]
    },
    {
     "name": "stdout",
     "output_type": "stream",
     "text": [
      "Time for aggregation 1: 6.763458251953125\n",
      "Time for aggregation 2: 46.863555908203125\n",
      "1: 6.473779678344727\n",
      "2: 2.5336742401123047\n",
      "3: 24.34062957763672\n",
      "4: 13.5650634765625\n",
      "5: 14.054059982299805\n",
      "6: 5.805730819702148\n",
      "total: 66.7729377746582\n",
      "1: 9.196758270263672\n",
      "2: 5.326986312866211\n",
      "3: 17.629146575927734\n",
      "4: 11.347293853759766\n",
      "5: 12.817144393920898\n",
      "6: 7.0648193359375\n",
      "total: 63.38214874267578\n"
     ]
    },
    {
     "ename": "KeyboardInterrupt",
     "evalue": "",
     "output_type": "error",
     "traceback": [
      "\u001B[0;31m---------------------------------------------------------------------------\u001B[0m",
      "\u001B[0;31mKeyboardInterrupt\u001B[0m                         Traceback (most recent call last)",
      "Cell \u001B[0;32mIn [10], line 6\u001B[0m\n\u001B[1;32m      1\u001B[0m Fed_runner \u001B[38;5;241m=\u001B[39m FedRunner(data\u001B[38;5;241m=\u001B[39mdata,\n\u001B[1;32m      2\u001B[0m                        server_class\u001B[38;5;241m=\u001B[39mLaplacianServerDomSep,\n\u001B[1;32m      3\u001B[0m                        client_class\u001B[38;5;241m=\u001B[39mLaplacianDomainSeparationMIClient,\n\u001B[1;32m      4\u001B[0m                        config\u001B[38;5;241m=\u001B[39mcfg\u001B[38;5;241m.\u001B[39mclone(),\n\u001B[1;32m      5\u001B[0m                        client_config\u001B[38;5;241m=\u001B[39mclient_cfg)\n\u001B[0;32m----> 6\u001B[0m \u001B[43mFed_runner\u001B[49m\u001B[38;5;241;43m.\u001B[39;49m\u001B[43mrun\u001B[49m\u001B[43m(\u001B[49m\u001B[43m)\u001B[49m\n",
      "File \u001B[0;32m~/Master-Thesis/CKIM_Competition/federatedscope/core/fed_runner.py:186\u001B[0m, in \u001B[0;36mFedRunner.run\u001B[0;34m(self)\u001B[0m\n\u001B[1;32m    184\u001B[0m     \u001B[38;5;28;01mwhile\u001B[39;00m \u001B[38;5;28mlen\u001B[39m(\u001B[38;5;28mself\u001B[39m\u001B[38;5;241m.\u001B[39mshared_comm_queue) \u001B[38;5;241m>\u001B[39m \u001B[38;5;241m0\u001B[39m:\n\u001B[1;32m    185\u001B[0m         msg \u001B[38;5;241m=\u001B[39m \u001B[38;5;28mself\u001B[39m\u001B[38;5;241m.\u001B[39mshared_comm_queue\u001B[38;5;241m.\u001B[39mpopleft()\n\u001B[0;32m--> 186\u001B[0m         \u001B[38;5;28;43mself\u001B[39;49m\u001B[38;5;241;43m.\u001B[39;49m\u001B[43m_handle_msg\u001B[49m\u001B[43m(\u001B[49m\u001B[43mmsg\u001B[49m\u001B[43m)\u001B[49m\n\u001B[1;32m    188\u001B[0m \u001B[38;5;28mself\u001B[39m\u001B[38;5;241m.\u001B[39mserver\u001B[38;5;241m.\u001B[39m_monitor\u001B[38;5;241m.\u001B[39mfinish_fed_runner(fl_mode\u001B[38;5;241m=\u001B[39m\u001B[38;5;28mself\u001B[39m\u001B[38;5;241m.\u001B[39mmode)\n\u001B[1;32m    190\u001B[0m \u001B[38;5;28;01mreturn\u001B[39;00m \u001B[38;5;28mself\u001B[39m\u001B[38;5;241m.\u001B[39mserver\u001B[38;5;241m.\u001B[39mbest_results\n",
      "File \u001B[0;32m~/Master-Thesis/CKIM_Competition/federatedscope/core/fed_runner.py:325\u001B[0m, in \u001B[0;36mFedRunner._handle_msg\u001B[0;34m(self, msg, rcv)\u001B[0m\n\u001B[1;32m    323\u001B[0m     \u001B[38;5;28mself\u001B[39m\u001B[38;5;241m.\u001B[39mserver\u001B[38;5;241m.\u001B[39m_monitor\u001B[38;5;241m.\u001B[39mtrack_download_bytes(download_bytes)\n\u001B[1;32m    324\u001B[0m \u001B[38;5;28;01melse\u001B[39;00m:\n\u001B[0;32m--> 325\u001B[0m     \u001B[38;5;28;43mself\u001B[39;49m\u001B[38;5;241;43m.\u001B[39;49m\u001B[43mclient\u001B[49m\u001B[43m[\u001B[49m\u001B[43meach_receiver\u001B[49m\u001B[43m]\u001B[49m\u001B[38;5;241;43m.\u001B[39;49m\u001B[43mmsg_handlers\u001B[49m\u001B[43m[\u001B[49m\u001B[43mmsg\u001B[49m\u001B[38;5;241;43m.\u001B[39;49m\u001B[43mmsg_type\u001B[49m\u001B[43m]\u001B[49m\u001B[43m(\u001B[49m\u001B[43mmsg\u001B[49m\u001B[43m)\u001B[49m\n\u001B[1;32m    326\u001B[0m     \u001B[38;5;28mself\u001B[39m\u001B[38;5;241m.\u001B[39mclient[each_receiver]\u001B[38;5;241m.\u001B[39m_monitor\u001B[38;5;241m.\u001B[39mtrack_download_bytes(\n\u001B[1;32m    327\u001B[0m         download_bytes)\n",
      "File \u001B[0;32m~/Master-Thesis/CKIM_Competition/federatedscope/contrib/workers/laplacian_with_domain_separation_MI_client.py:131\u001B[0m, in \u001B[0;36mLaplacianDomainSeparationMIClient.callback_funcs_for_model_para\u001B[0;34m(self, message)\u001B[0m\n\u001B[1;32m    126\u001B[0m     logger\u001B[38;5;241m.\u001B[39minfo(\n\u001B[1;32m    127\u001B[0m         \u001B[38;5;124mf\u001B[39m\u001B[38;5;124m\"\u001B[39m\u001B[38;5;124m[Normal FL Mode] Client #\u001B[39m\u001B[38;5;132;01m{\u001B[39;00m\u001B[38;5;28mself\u001B[39m\u001B[38;5;241m.\u001B[39mID\u001B[38;5;132;01m}\u001B[39;00m\u001B[38;5;124m has been locally \u001B[39m\u001B[38;5;124m\"\u001B[39m\n\u001B[1;32m    128\u001B[0m         \u001B[38;5;124mf\u001B[39m\u001B[38;5;124m\"\u001B[39m\u001B[38;5;124mearly stopped. \u001B[39m\u001B[38;5;124m\"\u001B[39m\n\u001B[1;32m    129\u001B[0m         \u001B[38;5;124mf\u001B[39m\u001B[38;5;124m\"\u001B[39m\u001B[38;5;124mThe next FL update may result in negative effect\u001B[39m\u001B[38;5;124m\"\u001B[39m)\n\u001B[1;32m    130\u001B[0m     \u001B[38;5;28mself\u001B[39m\u001B[38;5;241m.\u001B[39m_monitor\u001B[38;5;241m.\u001B[39mlocal_converged()\n\u001B[0;32m--> 131\u001B[0m sample_size, model_para_all, omega_set, results \u001B[38;5;241m=\u001B[39m \u001B[38;5;28;43mself\u001B[39;49m\u001B[38;5;241;43m.\u001B[39;49m\u001B[43mtrainer\u001B[49m\u001B[38;5;241;43m.\u001B[39;49m\u001B[43mtrain\u001B[49m\u001B[43m(\u001B[49m\u001B[38;5;28;43mself\u001B[39;49m\u001B[38;5;241;43m.\u001B[39;49m\u001B[43mstate\u001B[49m\u001B[43m)\u001B[49m\n\u001B[1;32m    132\u001B[0m \u001B[38;5;28;01mif\u001B[39;00m \u001B[38;5;28mself\u001B[39m\u001B[38;5;241m.\u001B[39m_cfg\u001B[38;5;241m.\u001B[39mfederate\u001B[38;5;241m.\u001B[39mshare_local_model \u001B[38;5;129;01mand\u001B[39;00m \u001B[38;5;129;01mnot\u001B[39;00m \\\n\u001B[1;32m    133\u001B[0m         \u001B[38;5;28mself\u001B[39m\u001B[38;5;241m.\u001B[39m_cfg\u001B[38;5;241m.\u001B[39mfederate\u001B[38;5;241m.\u001B[39monline_aggr:\n\u001B[1;32m    134\u001B[0m     model_para_all \u001B[38;5;241m=\u001B[39m copy\u001B[38;5;241m.\u001B[39mdeepcopy(model_para_all)\n",
      "File \u001B[0;32m~/Master-Thesis/CKIM_Competition/federatedscope/core/auxiliaries/decorators.py:28\u001B[0m, in \u001B[0;36muse_diff_laplacian.<locals>.wrapper\u001B[0;34m(self, *args, **kwargs)\u001B[0m\n\u001B[1;32m     24\u001B[0m \u001B[38;5;28;01mif\u001B[39;00m \u001B[38;5;28mself\u001B[39m\u001B[38;5;241m.\u001B[39mcfg\u001B[38;5;241m.\u001B[39mfederate\u001B[38;5;241m.\u001B[39muse_diff:\n\u001B[1;32m     25\u001B[0m     \u001B[38;5;66;03m# TODO: any issue for subclasses?\u001B[39;00m\n\u001B[1;32m     26\u001B[0m     before_metric \u001B[38;5;241m=\u001B[39m \u001B[38;5;28mself\u001B[39m\u001B[38;5;241m.\u001B[39mevaluate(target_data_split_name\u001B[38;5;241m=\u001B[39m\u001B[38;5;124m'\u001B[39m\u001B[38;5;124mval\u001B[39m\u001B[38;5;124m'\u001B[39m)\n\u001B[0;32m---> 28\u001B[0m num_samples_train, model_para, omega, result_metric \u001B[38;5;241m=\u001B[39m \u001B[43mfunc\u001B[49m\u001B[43m(\u001B[49m\n\u001B[1;32m     29\u001B[0m \u001B[43m    \u001B[49m\u001B[38;5;28;43mself\u001B[39;49m\u001B[43m,\u001B[49m\u001B[43m \u001B[49m\u001B[38;5;241;43m*\u001B[39;49m\u001B[43margs\u001B[49m\u001B[43m,\u001B[49m\u001B[43m \u001B[49m\u001B[38;5;241;43m*\u001B[39;49m\u001B[38;5;241;43m*\u001B[39;49m\u001B[43mkwargs\u001B[49m\u001B[43m)\u001B[49m\n\u001B[1;32m     31\u001B[0m \u001B[38;5;28;01mif\u001B[39;00m \u001B[38;5;28mself\u001B[39m\u001B[38;5;241m.\u001B[39mcfg\u001B[38;5;241m.\u001B[39mfederate\u001B[38;5;241m.\u001B[39muse_diff:\n\u001B[1;32m     32\u001B[0m     \u001B[38;5;66;03m# TODO: any issue for subclasses?\u001B[39;00m\n\u001B[1;32m     33\u001B[0m     after_metric \u001B[38;5;241m=\u001B[39m \u001B[38;5;28mself\u001B[39m\u001B[38;5;241m.\u001B[39mevaluate(target_data_split_name\u001B[38;5;241m=\u001B[39m\u001B[38;5;124m'\u001B[39m\u001B[38;5;124mval\u001B[39m\u001B[38;5;124m'\u001B[39m)\n",
      "File \u001B[0;32m~/Master-Thesis/CKIM_Competition/federatedscope/contrib/trainer/laplacian_trainer_with_domain_separation_with_summation_MI.py:261\u001B[0m, in \u001B[0;36mLaplacianDomainSeparationWithSummationMITrainer.train\u001B[0;34m(self, state, target_data_split_name, hooks_set)\u001B[0m\n\u001B[1;32m    257\u001B[0m hooks_set \u001B[38;5;241m=\u001B[39m hooks_set \u001B[38;5;129;01mor\u001B[39;00m \u001B[38;5;28mself\u001B[39m\u001B[38;5;241m.\u001B[39mhooks_in_train\n\u001B[1;32m    259\u001B[0m \u001B[38;5;28mself\u001B[39m\u001B[38;5;241m.\u001B[39mctx\u001B[38;5;241m.\u001B[39mcheck_data_split(target_data_split_name)\n\u001B[0;32m--> 261\u001B[0m \u001B[38;5;28;43mself\u001B[39;49m\u001B[38;5;241;43m.\u001B[39;49m\u001B[43m_run_routine\u001B[49m\u001B[43m(\u001B[49m\u001B[43mMODE\u001B[49m\u001B[38;5;241;43m.\u001B[39;49m\u001B[43mTRAIN\u001B[49m\u001B[43m,\u001B[49m\u001B[43m \u001B[49m\u001B[43mhooks_set\u001B[49m\u001B[43m,\u001B[49m\u001B[43m \u001B[49m\u001B[43mtarget_data_split_name\u001B[49m\u001B[43m)\u001B[49m\n\u001B[1;32m    262\u001B[0m \u001B[38;5;28mself\u001B[39m\u001B[38;5;241m.\u001B[39mfirst_round \u001B[38;5;241m=\u001B[39m \u001B[38;5;28;01mFalse\u001B[39;00m\n\u001B[1;32m    264\u001B[0m \u001B[38;5;28;01mreturn\u001B[39;00m \u001B[38;5;28mself\u001B[39m\u001B[38;5;241m.\u001B[39mctx\u001B[38;5;241m.\u001B[39mcfg\u001B[38;5;241m.\u001B[39mparams\u001B[38;5;241m.\u001B[39malpha, \u001B[38;5;28mself\u001B[39m\u001B[38;5;241m.\u001B[39mget_model_para(\n\u001B[1;32m    265\u001B[0m ), \u001B[38;5;28mself\u001B[39m\u001B[38;5;241m.\u001B[39mget_omega_para(), \u001B[38;5;28mself\u001B[39m\u001B[38;5;241m.\u001B[39mctx\u001B[38;5;241m.\u001B[39meval_metrics\n",
      "File \u001B[0;32m~/Master-Thesis/CKIM_Competition/federatedscope/core/trainers/trainer.py:276\u001B[0m, in \u001B[0;36mTrainer._run_routine\u001B[0;34m(self, mode, hooks_set, dataset_name)\u001B[0m\n\u001B[1;32m    274\u001B[0m     hook(\u001B[38;5;28mself\u001B[39m\u001B[38;5;241m.\u001B[39mctx)\n\u001B[1;32m    275\u001B[0m \u001B[38;5;28;01mfor\u001B[39;00m hook \u001B[38;5;129;01min\u001B[39;00m hooks_set[\u001B[38;5;124m\"\u001B[39m\u001B[38;5;124mon_batch_forward\u001B[39m\u001B[38;5;124m\"\u001B[39m]:\n\u001B[0;32m--> 276\u001B[0m     \u001B[43mhook\u001B[49m\u001B[43m(\u001B[49m\u001B[38;5;28;43mself\u001B[39;49m\u001B[38;5;241;43m.\u001B[39;49m\u001B[43mctx\u001B[49m\u001B[43m)\u001B[49m\n\u001B[1;32m    277\u001B[0m \u001B[38;5;28;01mif\u001B[39;00m \u001B[38;5;28mself\u001B[39m\u001B[38;5;241m.\u001B[39mctx\u001B[38;5;241m.\u001B[39mcur_mode \u001B[38;5;241m==\u001B[39m \u001B[38;5;124m'\u001B[39m\u001B[38;5;124mtrain\u001B[39m\u001B[38;5;124m'\u001B[39m:\n\u001B[1;32m    278\u001B[0m     \u001B[38;5;28;01mfor\u001B[39;00m hook \u001B[38;5;129;01min\u001B[39;00m hooks_set[\u001B[38;5;124m\"\u001B[39m\u001B[38;5;124mon_batch_backward\u001B[39m\u001B[38;5;124m\"\u001B[39m]:\n",
      "File \u001B[0;32m~/Master-Thesis/CKIM_Competition/federatedscope/contrib/trainer/laplacian_trainer_with_domain_separation_with_summation_MI.py:145\u001B[0m, in \u001B[0;36mLaplacianDomainSeparationWithSummationMITrainer._hook_on_batch_forward\u001B[0;34m(self, ctx)\u001B[0m\n\u001B[1;32m    142\u001B[0m ctx\u001B[38;5;241m.\u001B[39mloss_batch \u001B[38;5;241m=\u001B[39m ctx\u001B[38;5;241m.\u001B[39mloss_batch_ce\n\u001B[1;32m    144\u001B[0m \u001B[38;5;66;03m#ctx.loss_batch_csd = self.get_csd_loss(ctx.model.state_dict(), ctx.new_mu, ctx.new_omega, ctx.cur_epoch_i + 1)\u001B[39;00m\n\u001B[0;32m--> 145\u001B[0m ctx\u001B[38;5;241m.\u001B[39mloss_batch_csd \u001B[38;5;241m=\u001B[39m \u001B[43mcsd_loss\u001B[49m\u001B[43m(\u001B[49m\u001B[43mctx\u001B[49m\u001B[38;5;241;43m.\u001B[39;49m\u001B[43mmodel\u001B[49m\u001B[38;5;241;43m.\u001B[39;49m\u001B[43mstate_dict\u001B[49m\u001B[43m(\u001B[49m\u001B[43m)\u001B[49m\u001B[43m,\u001B[49m\u001B[43m \u001B[49m\u001B[43mctx\u001B[49m\u001B[38;5;241;43m.\u001B[39;49m\u001B[43mnew_mu\u001B[49m\u001B[43m,\u001B[49m\n\u001B[1;32m    146\u001B[0m \u001B[43m                              \u001B[49m\u001B[43mctx\u001B[49m\u001B[38;5;241;43m.\u001B[39;49m\u001B[43mnew_omega\u001B[49m\u001B[43m,\u001B[49m\u001B[43m \u001B[49m\u001B[38;5;28;43mself\u001B[39;49m\u001B[38;5;241;43m.\u001B[39;49m\u001B[43mround_num\u001B[49m\u001B[43m)\u001B[49m\n\u001B[1;32m    148\u001B[0m ctx\u001B[38;5;241m.\u001B[39mbatch_size \u001B[38;5;241m=\u001B[39m \u001B[38;5;28mlen\u001B[39m(label)\n\u001B[1;32m    149\u001B[0m ctx\u001B[38;5;241m.\u001B[39my_true \u001B[38;5;241m=\u001B[39m label\n",
      "File \u001B[0;32m~/Master-Thesis/CKIM_Competition/venv/lib/python3.9/site-packages/torch/nn/modules/module.py:1130\u001B[0m, in \u001B[0;36mModule._call_impl\u001B[0;34m(self, *input, **kwargs)\u001B[0m\n\u001B[1;32m   1126\u001B[0m \u001B[38;5;66;03m# If we don't have any hooks, we want to skip the rest of the logic in\u001B[39;00m\n\u001B[1;32m   1127\u001B[0m \u001B[38;5;66;03m# this function, and just call forward.\u001B[39;00m\n\u001B[1;32m   1128\u001B[0m \u001B[38;5;28;01mif\u001B[39;00m \u001B[38;5;129;01mnot\u001B[39;00m (\u001B[38;5;28mself\u001B[39m\u001B[38;5;241m.\u001B[39m_backward_hooks \u001B[38;5;129;01mor\u001B[39;00m \u001B[38;5;28mself\u001B[39m\u001B[38;5;241m.\u001B[39m_forward_hooks \u001B[38;5;129;01mor\u001B[39;00m \u001B[38;5;28mself\u001B[39m\u001B[38;5;241m.\u001B[39m_forward_pre_hooks \u001B[38;5;129;01mor\u001B[39;00m _global_backward_hooks\n\u001B[1;32m   1129\u001B[0m         \u001B[38;5;129;01mor\u001B[39;00m _global_forward_hooks \u001B[38;5;129;01mor\u001B[39;00m _global_forward_pre_hooks):\n\u001B[0;32m-> 1130\u001B[0m     \u001B[38;5;28;01mreturn\u001B[39;00m \u001B[43mforward_call\u001B[49m\u001B[43m(\u001B[49m\u001B[38;5;241;43m*\u001B[39;49m\u001B[38;5;28;43minput\u001B[39;49m\u001B[43m,\u001B[49m\u001B[43m \u001B[49m\u001B[38;5;241;43m*\u001B[39;49m\u001B[38;5;241;43m*\u001B[39;49m\u001B[43mkwargs\u001B[49m\u001B[43m)\u001B[49m\n\u001B[1;32m   1131\u001B[0m \u001B[38;5;66;03m# Do not call functions when jit is used\u001B[39;00m\n\u001B[1;32m   1132\u001B[0m full_backward_hooks, non_full_backward_hooks \u001B[38;5;241m=\u001B[39m [], []\n",
      "File \u001B[0;32m~/Master-Thesis/CKIM_Competition/federatedscope/contrib/trainer/laplacian_trainer_with_domain_separation_with_summation_MI.py:357\u001B[0m, in \u001B[0;36mCSDLoss.forward\u001B[0;34m(self, model_params, mu, omega, round_num)\u001B[0m\n\u001B[1;32m    354\u001B[0m     loss \u001B[38;5;241m=\u001B[39m (\u001B[38;5;241m0.5\u001B[39m \u001B[38;5;241m/\u001B[39m round_num) \u001B[38;5;241m*\u001B[39m (omega[name] \u001B[38;5;241m*\u001B[39m ((theta \u001B[38;5;241m-\u001B[39m mu[name]) \u001B[38;5;241m*\u001B[39m\u001B[38;5;241m*\u001B[39m\n\u001B[1;32m    355\u001B[0m                                                \u001B[38;5;241m2\u001B[39m))\u001B[38;5;241m.\u001B[39msum()\n\u001B[1;32m    356\u001B[0m \u001B[38;5;28;01melse\u001B[39;00m:\n\u001B[0;32m--> 357\u001B[0m     loss \u001B[38;5;241m+\u001B[39m\u001B[38;5;241m=\u001B[39m (\u001B[38;5;241m0.5\u001B[39m \u001B[38;5;241m/\u001B[39m round_num) \u001B[38;5;241m*\u001B[39m (omega[name] \u001B[38;5;241m*\u001B[39m ((theta \u001B[38;5;241m-\u001B[39m mu[name]) \u001B[38;5;241m*\u001B[39m\u001B[38;5;241m*\u001B[39m \u001B[38;5;241m2\u001B[39m))\u001B[38;5;241m.\u001B[39msum()\n\u001B[1;32m    358\u001B[0m \u001B[38;5;28;01mif\u001B[39;00m theta \u001B[38;5;129;01mis\u001B[39;00m \u001B[38;5;28;01mNone\u001B[39;00m:\n\u001B[1;32m    359\u001B[0m     \u001B[38;5;28mprint\u001B[39m(\u001B[38;5;124m'\u001B[39m\u001B[38;5;124mtheta is None\u001B[39m\u001B[38;5;124m'\u001B[39m)\n",
      "File \u001B[0;32m/usr/lib/python3.9/traceback.py:197\u001B[0m, in \u001B[0;36mformat_stack\u001B[0;34m(f, limit)\u001B[0m\n\u001B[1;32m    195\u001B[0m \u001B[38;5;28;01mif\u001B[39;00m f \u001B[38;5;129;01mis\u001B[39;00m \u001B[38;5;28;01mNone\u001B[39;00m:\n\u001B[1;32m    196\u001B[0m     f \u001B[38;5;241m=\u001B[39m sys\u001B[38;5;241m.\u001B[39m_getframe()\u001B[38;5;241m.\u001B[39mf_back\n\u001B[0;32m--> 197\u001B[0m \u001B[38;5;28;01mreturn\u001B[39;00m format_list(\u001B[43mextract_stack\u001B[49m\u001B[43m(\u001B[49m\u001B[43mf\u001B[49m\u001B[43m,\u001B[49m\u001B[43m \u001B[49m\u001B[43mlimit\u001B[49m\u001B[38;5;241;43m=\u001B[39;49m\u001B[43mlimit\u001B[49m\u001B[43m)\u001B[49m)\n",
      "File \u001B[0;32m/usr/lib/python3.9/traceback.py:211\u001B[0m, in \u001B[0;36mextract_stack\u001B[0;34m(f, limit)\u001B[0m\n\u001B[1;32m    209\u001B[0m \u001B[38;5;28;01mif\u001B[39;00m f \u001B[38;5;129;01mis\u001B[39;00m \u001B[38;5;28;01mNone\u001B[39;00m:\n\u001B[1;32m    210\u001B[0m     f \u001B[38;5;241m=\u001B[39m sys\u001B[38;5;241m.\u001B[39m_getframe()\u001B[38;5;241m.\u001B[39mf_back\n\u001B[0;32m--> 211\u001B[0m stack \u001B[38;5;241m=\u001B[39m \u001B[43mStackSummary\u001B[49m\u001B[38;5;241;43m.\u001B[39;49m\u001B[43mextract\u001B[49m\u001B[43m(\u001B[49m\u001B[43mwalk_stack\u001B[49m\u001B[43m(\u001B[49m\u001B[43mf\u001B[49m\u001B[43m)\u001B[49m\u001B[43m,\u001B[49m\u001B[43m \u001B[49m\u001B[43mlimit\u001B[49m\u001B[38;5;241;43m=\u001B[39;49m\u001B[43mlimit\u001B[49m\u001B[43m)\u001B[49m\n\u001B[1;32m    212\u001B[0m stack\u001B[38;5;241m.\u001B[39mreverse()\n\u001B[1;32m    213\u001B[0m \u001B[38;5;28;01mreturn\u001B[39;00m stack\n",
      "File \u001B[0;32m/usr/lib/python3.9/traceback.py:352\u001B[0m, in \u001B[0;36mStackSummary.extract\u001B[0;34m(klass, frame_gen, limit, lookup_lines, capture_locals)\u001B[0m\n\u001B[1;32m    349\u001B[0m filename \u001B[38;5;241m=\u001B[39m co\u001B[38;5;241m.\u001B[39mco_filename\n\u001B[1;32m    350\u001B[0m name \u001B[38;5;241m=\u001B[39m co\u001B[38;5;241m.\u001B[39mco_name\n\u001B[0;32m--> 352\u001B[0m \u001B[43mfnames\u001B[49m\u001B[38;5;241;43m.\u001B[39;49m\u001B[43madd\u001B[49m(filename)\n\u001B[1;32m    353\u001B[0m linecache\u001B[38;5;241m.\u001B[39mlazycache(filename, f\u001B[38;5;241m.\u001B[39mf_globals)\n\u001B[1;32m    354\u001B[0m \u001B[38;5;66;03m# Must defer line lookups until we have called checkcache.\u001B[39;00m\n",
      "\u001B[0;31mKeyboardInterrupt\u001B[0m: "
     ]
    }
   ],
   "source": [
    "Fed_runner = FedRunner(data=data,\n",
    "                       server_class=LaplacianServerDomSep,\n",
    "                       client_class=LaplacianDomainSeparationMIClient,\n",
    "                       config=cfg.clone(),\n",
    "                       client_config=client_cfg)\n",
    "Fed_runner.run()"
   ],
   "metadata": {
    "collapsed": false
   }
  },
  {
   "cell_type": "markdown",
   "source": [
    "-+/896*-Difference train_avg_loss: 125 -> 174\n",
    "1: 0.539109 -> 0.540\n",
    "2: 0.614181 -> 0.60414\n",
    "3: 0.680621 -> 0.675371\n",
    "4: 0.466614 -> 0.405735\n",
    "5: 0.64907 -> 0.648837\n",
    "6: 0.479263 -> 0.470293\n",
    "7: 0.668663 -> 0.662036\n",
    "8: 0.438008 -> 0.433998\n",
    "9: 0.107733 -> 0.118945\n",
    "10: 0.009074 -> 0.009043\n",
    "11: 1.128238 -> 1.126667\n",
    "12: 2.657362 -> 2.661828\n",
    "13: -> 0.007134\n"
   ],
   "metadata": {
    "collapsed": false
   }
  },
  {
   "cell_type": "markdown",
   "source": [],
   "metadata": {
    "collapsed": false
   }
  },
  {
   "cell_type": "markdown",
   "source": [
    "\n",
    "+"
   ],
   "metadata": {
    "collapsed": false
   }
  },
  {
   "cell_type": "code",
   "execution_count": 28,
   "outputs": [
    {
     "data": {
      "text/plain": "{1: {}}"
     },
     "execution_count": 28,
     "metadata": {},
     "output_type": "execute_result"
    }
   ],
   "source": [
    "\n"
   ],
   "metadata": {
    "collapsed": false
   }
  },
  {
   "cell_type": "markdown",
   "source": [],
   "metadata": {
    "collapsed": false
   }
  },
  {
   "cell_type": "code",
   "execution_count": 13,
   "outputs": [
    {
     "data": {
      "text/plain": "{1: {'train': <torch_geometric.loader.dataloader.DataLoader at 0x7f4ebc607190>,\n  'val': <torch_geometric.loader.dataloader.DataLoader at 0x7f4de953c910>,\n  'test': <torch_geometric.loader.dataloader.DataLoader at 0x7f4e247e3970>,\n  'num_label': 0},\n 2: {'train': <torch_geometric.loader.dataloader.DataLoader at 0x7f4ebc607190>,\n  'val': <torch_geometric.loader.dataloader.DataLoader at 0x7f4de953c910>,\n  'test': <torch_geometric.loader.dataloader.DataLoader at 0x7f4e247e3970>,\n  'num_label': 0}}"
     },
     "execution_count": 13,
     "metadata": {},
     "output_type": "execute_result"
    }
   ],
   "source": [
    "data"
   ],
   "metadata": {
    "collapsed": false
   }
  },
  {
   "cell_type": "code",
   "execution_count": null,
   "outputs": [],
   "source": [],
   "metadata": {
    "collapsed": false
   }
  },
  {
   "cell_type": "markdown",
   "source": [],
   "metadata": {
    "collapsed": false
   }
  },
  {
   "cell_type": "markdown",
   "source": [],
   "metadata": {
    "collapsed": false
   }
  },
  {
   "cell_type": "code",
   "execution_count": null,
   "outputs": [],
   "source": [],
   "metadata": {
    "collapsed": false
   }
  },
  {
   "cell_type": "code",
   "execution_count": null,
   "outputs": [],
   "source": [
    "import os"
   ],
   "metadata": {
    "collapsed": false
   }
  },
  {
   "cell_type": "markdown",
   "source": [
    ",,0After 10 rounds:\n",
    "\n",
    "diff: 0, csd: 0:\n",
    "server: -8\n",
    "c1 t/val: 0.375 /0.37\n",
    "c2 t/val: 0.678 /0.606\n",
    "c3 t/val: 0.699 /0.608\n",
    "c4 t/val: 0.599 /0.537\n",
    "\n",
    "diff: 0, csd: 0:\n",
    "server: -4.5\n",
    "c1 t/val: 0.372879 /0.328\n",
    "c2 t/val: 0.678992 /0.605809\n",
    "c3 t/val: 0.70166 /0.608609\n",
    "c4 t/val: 0.597455 /0.534253\n",
    "\n",
    "\n",
    "\n",
    "diff: 10, csd: 0:\n",
    "server: -35\n",
    "c1 t/val: 0.482/0.52\n",
    "c2 t/val: 0.694/0.65\n",
    "c3 t/val: 0.724/0.65\n",
    "c4 t/val: 0.674/0.575\n",
    "\n",
    "diff: 1, csd: 0:\n",
    "server: -9.6\n",
    "c1 t/val: 0.378194/0.319349\n",
    "c2 t/val: 0.67461/0.609163\n",
    "c3 t/val: 0.705559/0.615019\n",
    "c4 t/val: 0.605581/0.572086\n",
    "\n",
    "diff: 0, csd: 1e4:\n",
    "server: -18\n",
    "c1 t/val: 0.280962/0.23074\n",
    "c2 t/val: 0.682652/0.603175\n",
    "c3 t/val: 0.699094/0.67027\n",
    "c4 t/val: 0.594985/0.609611\n",
    "\n",
    "diff: 0 csd: 1e8\n",
    "server: -18\n",
    "c1 t/val: 0.2606/0.348(0.197)\n",
    "c2 t/val: 0.653/0.0.602\n",
    "c3 t/val: 0.691/0.597\n",
    "c4 t/val: 0.581/0.629\n",
    "\n",
    "diff: 0 csd: 1e8\n",
    "server: -12.7\n",
    "c1 t/val: 0.262647/0.249875\n",
    "c2 t/val: 0.649273/0.0.600435\n",
    "c3 t/val: 0.696132/0.615158\n",
    "c4 t/val: 0.586597/0.656992\n",
    "\n",
    "\n",
    "diff: 0.1 csd: 0\n",
    "server: -11\n",
    "c1 t/val: 0.2606/0.332837\n",
    "c2 t/val: 0.678326/0.0.610099\n",
    "c3 t/val: 0.704083/0.616179\n",
    "c4 t/val: 0.604177/0.559658\n",
    "\n",
    "\n"
   ],
   "metadata": {
    "collapsed": false
   }
  },
  {
   "cell_type": "code",
   "execution_count": 3,
   "outputs": [],
   "source": [],
   "metadata": {
    "collapsed": false
   }
  },
  {
   "cell_type": "code",
   "execution_count": 4,
   "outputs": [
    {
     "ename": "NameError",
     "evalue": "name 'os' is not defined",
     "output_type": "error",
     "traceback": [
      "\u001B[0;31m---------------------------------------------------------------------------\u001B[0m",
      "\u001B[0;31mNameError\u001B[0m                                 Traceback (most recent call last)",
      "Cell \u001B[0;32mIn [4], line 1\u001B[0m\n\u001B[0;32m----> 1\u001B[0m \u001B[43mos\u001B[49m\u001B[38;5;241m.\u001B[39menviron[\u001B[38;5;124m'\u001B[39m\u001B[38;5;124mCUBLAS_WORKSPACE_CONFIG\u001B[39m\u001B[38;5;124m'\u001B[39m]\n",
      "\u001B[0;31mNameError\u001B[0m: name 'os' is not defined"
     ]
    }
   ],
   "source": [
    "os.environ['CUBLAS_WORKSPACE_CONFIG']"
   ],
   "metadata": {
    "collapsed": false
   }
  },
  {
   "cell_type": "code",
   "execution_count": null,
   "outputs": [],
   "source": [],
   "metadata": {
    "collapsed": false
   }
  },
  {
   "cell_type": "code",
   "execution_count": null,
   "outputs": [],
   "source": [],
   "metadata": {
    "collapsed": false
   }
  },
  {
   "cell_type": "code",
   "execution_count": null,
   "outputs": [],
   "source": [],
   "metadata": {
    "collapsed": false
   }
  },
  {
   "cell_type": "code",
   "execution_count": null,
   "outputs": [],
   "source": [],
   "metadata": {
    "collapsed": false
   }
  },
  {
   "cell_type": "code",
   "execution_count": null,
   "outputs": [],
   "source": [],
   "metadata": {
    "collapsed": false
   }
  },
  {
   "cell_type": "code",
   "execution_count": null,
   "outputs": [],
   "source": [],
   "metadata": {
    "collapsed": false
   }
  },
  {
   "cell_type": "code",
   "execution_count": null,
   "outputs": [],
   "source": [],
   "metadata": {
    "collapsed": false
   }
  },
  {
   "cell_type": "code",
   "execution_count": null,
   "outputs": [],
   "source": [],
   "metadata": {
    "collapsed": false
   }
  },
  {
   "cell_type": "code",
   "execution_count": null,
   "outputs": [],
   "source": [],
   "metadata": {
    "collapsed": false
   }
  },
  {
   "cell_type": "code",
   "execution_count": null,
   "outputs": [],
   "source": [],
   "metadata": {
    "collapsed": false
   }
  },
  {
   "cell_type": "code",
   "execution_count": null,
   "outputs": [],
   "source": [],
   "metadata": {
    "collapsed": false
   }
  },
  {
   "cell_type": "code",
   "execution_count": null,
   "outputs": [],
   "source": [],
   "metadata": {
    "collapsed": false
   }
  },
  {
   "cell_type": "code",
   "execution_count": null,
   "outputs": [],
   "source": [],
   "metadata": {
    "collapsed": false
   }
  },
  {
   "cell_type": "code",
   "execution_count": null,
   "outputs": [],
   "source": [],
   "metadata": {
    "collapsed": false
   }
  },
  {
   "cell_type": "code",
   "execution_count": null,
   "outputs": [],
   "source": [],
   "metadata": {
    "collapsed": false
   }
  },
  {
   "cell_type": "code",
   "execution_count": null,
   "outputs": [],
   "source": [],
   "metadata": {
    "collapsed": false
   }
  }
 ],
 "metadata": {
  "kernelspec": {
   "display_name": "Python 3",
   "language": "python",
   "name": "python3"
  },
  "language_info": {
   "codemirror_mode": {
    "name": "ipython",
    "version": 2
   },
   "file_extension": ".py",
   "mimetype": "text/x-python",
   "name": "python",
   "nbconvert_exporter": "python",
   "pygments_lexer": "ipython2",
   "version": "2.7.6"
  }
 },
 "nbformat": 4,
 "nbformat_minor": 0
}
