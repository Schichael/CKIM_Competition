{
 "cells": [
  {
   "cell_type": "code",
   "execution_count": null,
   "outputs": [],
   "source": [
    "20"
   ],
   "metadata": {
    "collapsed": false
   }
  },
  {
   "cell_type": "code",
   "execution_count": null,
   "outputs": [],
   "source": [
    "20"
   ],
   "metadata": {
    "collapsed": false
   }
  },
  {
   "cell_type": "markdown",
   "source": [],
   "metadata": {
    "collapsed": false
   }
  },
  {
   "cell_type": "code",
   "execution_count": 2,
   "outputs": [],
   "source": [
    "from federatedscope.register import register_data\n",
    "from federatedscope.register import register_trainer\n",
    "from federatedscope.register import register_metric\n",
    "from federatedscope.register import register_model\n",
    "\n",
    "\n"
   ],
   "metadata": {
    "collapsed": false
   }
  },
  {
   "cell_type": "code",
   "execution_count": 2,
   "outputs": [],
   "source": [],
   "metadata": {
    "collapsed": false
   }
  },
  {
   "cell_type": "markdown",
   "source": [
    "\n"
   ],
   "metadata": {
    "collapsed": false
   }
  },
  {
   "cell_type": "markdown",
   "source": [
    "### Register model"
   ],
   "metadata": {
    "collapsed": false
   }
  },
  {
   "cell_type": "code",
   "execution_count": 3,
   "outputs": [],
   "source": [
    "#from federatedscope.contrib.model.mnist_model import call_my_net\n",
    "#register_model(\"mynet\", call_my_net)"
   ],
   "metadata": {
    "collapsed": false
   }
  },
  {
   "cell_type": "code",
   "execution_count": 3,
   "outputs": [],
   "source": [],
   "metadata": {
    "collapsed": false
   }
  },
  {
   "cell_type": "markdown",
   "source": [
    "### Register trainer"
   ],
   "metadata": {
    "collapsed": false
   }
  },
  {
   "cell_type": "code",
   "execution_count": 4,
   "outputs": [],
   "source": [
    "\n",
    "\n",
    "from federatedscope.contrib.trainer.laplacian_trainer_with_domain_separation_with_summation_1MINE_VAE_separated import call_laplacian_trainer\n",
    "\n",
    "register_trainer('laplacian_trainer', call_laplacian_trainer)"
   ],
   "metadata": {
    "collapsed": false
   }
  },
  {
   "cell_type": "markdown",
   "source": [
    "### Register metric"
   ],
   "metadata": {
    "collapsed": false
   }
  },
  {
   "cell_type": "markdown",
   "source": [
    "### Create the config"
   ],
   "metadata": {
    "collapsed": false
   }
  },
  {
   "cell_type": "markdown",
   "source": [
    "#### Set data, model, trainer and metric"
   ],
   "metadata": {
    "collapsed": false
   }
  },
  {
   "cell_type": "code",
   "execution_count": 5,
   "outputs": [],
   "source": [
    "from federatedscope.core.configs.config import global_cfg, CN\n",
    "cfg = global_cfg.clone()\n",
    "\n",
    "cfg.merge_from_file(\"scripts/B-FHTL_exp_scripts/Graph-DT/fed_dom_sep_MI.yaml\")\n",
    "cfg.data.save_dir = 'test_dir'\n",
    "# cfg.data.type = 'cikm_cup'\n",
    "#cfg.data.root = 'data'\n",
    "#cfg.data.shuffle=True\n",
    "#cfg.data.transform = [['ToTensor'], ['Normalize', {'mean': [0.], 'std': [1]}]]\n",
    "#cfg.model.type = 'gin'\n",
    "#cfg.model.out_channels = 10\n",
    "#cfg.model.hidden = 64\n",
    "#cfg.model.task='graph'\n",
    "#cfg.model.dropout = 0.5\n",
    "#cfg.personalization.local_param = ['encoder_atom', 'encoder', 'clf']#['node_encoder', 'clf']\n",
    "#cfg.train.batch_or_epoch = \"epoch\"\n",
    "cfg.trainer.type = 'laplacian_trainer'\n",
    "cfg.data.batch_size = 64\n",
    "# cfg.eval.metric = ['mymetric']\n",
    "cfg.params = CN()\n",
    "cfg.params.alpha=0.1\n",
    "cfg.params.csd_importance= 1e6\n",
    "cfg.params.diff_importance = 0.1  # 1\n",
    "cfg.params.mine_lr = 0.01\n",
    "cfg.params.eps=1e-20\n",
    "cfg.params.p=0.\n",
    "cfg.params.lam = 0.\n",
    "cfg.params.recon_importance = 0.1\n",
    "cfg.params.kld_importance = 0.1\n"
   ],
   "metadata": {
    "collapsed": false
   }
  },
  {
   "cell_type": "markdown",
   "source": [
    "#### configure other options"
   ],
   "metadata": {
    "collapsed": false
   }
  },
  {
   "cell_type": "code",
   "execution_count": 6,
   "outputs": [],
   "source": [
    "#cfg.use_gpu = True 0.05 [0.02-0.03] 0.04-0.06\n",
    "#cfg.best_res_update_round_wise_key = \"test_loss\"\n",
    "\n",
    "#cfg.federate.mode = 'standalone'\n",
    "\n",
    "cfg.federate.method = \\\n",
    "    f'Laplacian_MINE_VAE_test_no_KLD'\n",
    "\n",
    "#cfg.federate.local_update_steps = 20000000\n",
    "cfg.personalization.local_update_steps = 20000000\n",
    "#cfg.finetune.local_update_steps = 20000000\n",
    "#cfg.train.local_update_steps = 1\n",
    "\n",
    "cfg.federate.total_round_num = 2000\n",
    "cfg.federate.client_num = 2\n",
    "cfg.early_stop.patience = 3000\n",
    "#cfg.train.optimizer.lr = 0.001\n",
    "#cfg.train.optimizer.weight_decay = 0.0005\n",
    "#cfg.grad.grad_clip = 2.0\n",
    "cfg.criterion.type = 'CrossEntropyLoss'\n",
    "#cfg.seed = 123\n",
    "cfg.eval.freq = 1\n",
    "cfg.eval.metrics = ['imp_ratio']\n",
    "cfg.eval.report = ['avg']\n",
    "cfg.eval.best_res_update_round_wise_key = 'val_imp_ratio'\n"
   ],
   "metadata": {
    "collapsed": false
   }
  },
  {
   "cell_type": "code",
   "execution_count": 7,
   "outputs": [],
   "source": [
    "import torch\n",
    "#torch.manual_seed(0)\n",
    "#torch.backends.cudnn.benchmark = False\n",
    "#torch.use_deterministic_algorithms(F/home/michael/Desktop/backup files/FederatedScope/data/CIKM22Competitionalse)\n",
    "#import random\n",
    "#random.seed(0)\n",
    "#import numpy as np\n",
    "#np.random.seed(0)"
   ],
   "metadata": {
    "collapsed": false
   }
  },
  {
   "cell_type": "code",
   "execution_count": 8,
   "outputs": [],
   "source": [
    "from yacs.config import CfgNode\n",
    "client_cfg_file = \"scripts/B-FHTL_exp_scripts/Graph-DT/cfg_per_client_theirs.yaml\"# \"scripts/B-FHTL_exp_scripts/Graph-DT/cfg_per_client_ours_lr_local_steps.yaml\"\n",
    "client_cfg = CfgNode.load_cfg(open(client_cfg_file,\n",
    "                                       'r')) if client_cfg_file else None\n"
   ],
   "metadata": {
    "collapsed": false
   }
  },
  {
   "cell_type": "markdown",
   "source": [
    "### Start the FL prosess"
   ],
   "metadata": {
    "collapsed": false
   }
  },
  {
   "cell_type": "code",
   "execution_count": 9,
   "outputs": [],
   "source": [
    "from federatedscope.core.auxiliaries.data_builder import get_data\n",
    "from federatedscope.core.auxiliaries.utils import setup_seed, update_logger\n",
    "from federatedscope.core.fed_runner import FedRunner\n",
    "from federatedscope.core.auxiliaries.worker_builder import get_server_cls, get_client_cls\n"
   ],
   "metadata": {
    "collapsed": false
   }
  },
  {
   "cell_type": "code",
   "execution_count": 10,
   "outputs": [
    {
     "name": "stderr",
     "output_type": "stream",
     "text": [
      "2023-01-12 15:03:35,283 (utils:129)INFO: the current machine is at 127.0.1.1\n",
      "2023-01-12 15:03:35,284 (utils:131)INFO: the current dir is /home/michael/Master-Thesis/CKIM_Competition\n",
      "2023-01-12 15:03:35,285 (utils:132)INFO: the output dir is exp/test_dir/Laplacian_MINE_VAE_test_no_KLD_gin_on_graph-dt_lr0.1_lstep1_/sub_exp_20230112150335\n"
     ]
    }
   ],
   "source": [
    "from federatedscope.contrib.workers.laplacian_with_domain_separation_MI_client import LaplacianDomainSeparationMIClient\n",
    "from federatedscope.contrib.workers.laplacian_server_dom_sep import LaplacianServerDomSep\n",
    "\n",
    "setup_seed(cfg.seed)\n",
    "update_logger(cfg)\n",
    "data, modified_cfg = get_data(cfg)\n",
    "cfg.merge_from_other_cfg(modified_cfg)\n"
   ],
   "metadata": {
    "collapsed": false
   }
  },
  {
   "cell_type": "code",
   "execution_count": 12,
   "outputs": [
    {
     "name": "stderr",
     "output_type": "stream",
     "text": [
      "/home/michael/Master-Thesis/CKIM_Competition/venv/lib/python3.9/site-packages/torch/nn/init.py:405: UserWarning: Initializing zero-element tensors is a no-op\n",
      "  warnings.warn(\"Initializing zero-element tensors is a no-op\")\n",
      "2023-01-12 15:07:45,551 (fed_runner:249)INFO: Server #0 has been set up ... \n"
     ]
    },
    {
     "name": "stdout",
     "output_type": "stream",
     "text": [
      "rho: 0.0\n",
      "server params: \n",
      "encoder_atom.atom_embedding_list.0.weight\n",
      "encoder_atom.atom_embedding_list.1.weight\n",
      "encoder_atom.atom_embedding_list.2.weight\n",
      "encoder_atom.atom_embedding_list.3.weight\n",
      "encoder_atom.atom_embedding_list.4.weight\n",
      "encoder_atom.atom_embedding_list.5.weight\n",
      "encoder_atom.atom_embedding_list.6.weight\n",
      "encoder_atom.atom_embedding_list.7.weight\n",
      "encoder_atom.atom_embedding_list.8.weight\n",
      "encoder_atom.atom_embedding_list.9.weight\n",
      "encoder_atom.atom_embedding_list.10.weight\n",
      "encoder_atom.atom_embedding_list.11.weight\n",
      "encoder_atom.atom_embedding_list.12.weight\n",
      "encoder_atom.atom_embedding_list.13.weight\n",
      "encoder_atom.atom_embedding_list.14.weight\n",
      "encoder_atom.atom_embedding_list.15.weight\n",
      "encoder_atom.atom_embedding_list.16.weight\n",
      "encoder_atom.atom_embedding_list.17.weight\n",
      "encoder_atom.atom_embedding_list.18.weight\n",
      "encoder_atom.atom_embedding_list.19.weight\n",
      "encoder_atom.atom_embedding_list.20.weight\n",
      "encoder_atom.atom_embedding_list.21.weight\n",
      "encoder.weight\n",
      "encoder.bias\n",
      "local_gnn.convs.0.nn.linears.0.weight\n",
      "local_gnn.convs.0.nn.linears.0.bias\n",
      "local_gnn.convs.0.nn.linears.1.weight\n",
      "local_gnn.convs.0.nn.linears.1.bias\n",
      "local_gnn.convs.0.nn.norms.0.weight\n",
      "local_gnn.convs.0.nn.norms.0.bias\n",
      "local_gnn.convs.0.nn.norms.1.weight\n",
      "local_gnn.convs.0.nn.norms.1.bias\n",
      "local_gnn.convs.1.nn.linears.0.weight\n",
      "local_gnn.convs.1.nn.linears.0.bias\n",
      "local_gnn.convs.1.nn.linears.1.weight\n",
      "local_gnn.convs.1.nn.linears.1.bias\n",
      "local_gnn.convs.1.nn.norms.0.weight\n",
      "local_gnn.convs.1.nn.norms.0.bias\n",
      "local_gnn.convs.1.nn.norms.1.weight\n",
      "local_gnn.convs.1.nn.norms.1.bias\n",
      "global_gnn.convs.0.nn.linears.0.weight\n",
      "global_gnn.convs.0.nn.linears.0.bias\n",
      "global_gnn.convs.0.nn.linears.1.weight\n",
      "global_gnn.convs.0.nn.linears.1.bias\n",
      "global_gnn.convs.0.nn.norms.0.weight\n",
      "global_gnn.convs.0.nn.norms.0.bias\n",
      "global_gnn.convs.0.nn.norms.1.weight\n",
      "global_gnn.convs.0.nn.norms.1.bias\n",
      "global_gnn.convs.1.nn.linears.0.weight\n",
      "global_gnn.convs.1.nn.linears.0.bias\n",
      "global_gnn.convs.1.nn.linears.1.weight\n",
      "global_gnn.convs.1.nn.linears.1.bias\n",
      "global_gnn.convs.1.nn.norms.0.weight\n",
      "global_gnn.convs.1.nn.norms.0.bias\n",
      "global_gnn.convs.1.nn.norms.1.weight\n",
      "global_gnn.convs.1.nn.norms.1.bias\n",
      "fixed_gnn.convs.0.nn.linears.0.weight\n",
      "fixed_gnn.convs.0.nn.linears.0.bias\n",
      "fixed_gnn.convs.0.nn.linears.1.weight\n",
      "fixed_gnn.convs.0.nn.linears.1.bias\n",
      "fixed_gnn.convs.0.nn.norms.0.weight\n",
      "fixed_gnn.convs.0.nn.norms.0.bias\n",
      "fixed_gnn.convs.0.nn.norms.1.weight\n",
      "fixed_gnn.convs.0.nn.norms.1.bias\n",
      "fixed_gnn.convs.1.nn.linears.0.weight\n",
      "fixed_gnn.convs.1.nn.linears.0.bias\n",
      "fixed_gnn.convs.1.nn.linears.1.weight\n",
      "fixed_gnn.convs.1.nn.linears.1.bias\n",
      "fixed_gnn.convs.1.nn.norms.0.weight\n",
      "fixed_gnn.convs.1.nn.norms.0.bias\n",
      "fixed_gnn.convs.1.nn.norms.1.weight\n",
      "fixed_gnn.convs.1.nn.norms.1.bias\n",
      "mine.T.1.weight\n",
      "mine.T.1.bias\n",
      "mine.T.3.weight\n",
      "mine.T.3.bias\n",
      "mine.T.5.weight\n",
      "mine.T.5.bias\n",
      "global_linear_out1.weight\n",
      "global_linear_out1.bias\n",
      "local_linear_out1.weight\n",
      "local_linear_out1.bias\n",
      "bn_linear0_loc.weight\n",
      "bn_linear0_loc.bias\n",
      "bn_linear1_loc.weight\n",
      "bn_linear1_loc.bias\n",
      "bn_after_summation.weight\n",
      "bn_after_summation.bias\n",
      "linear_out2.0.weight\n",
      "linear_out2.0.bias\n",
      "bn_linear2.weight\n",
      "bn_linear2.bias\n",
      "clf.weight\n",
      "clf.bias\n",
      "emb.weight\n",
      "emb.bias\n",
      "vae_decoder.lin1.0.weight\n",
      "vae_decoder.lin1.0.bias\n",
      "vae_decoder.bn1.weight\n",
      "vae_decoder.bn1.bias\n",
      "vae_decoder.lin2.0.weight\n",
      "vae_decoder.lin2.0.bias\n",
      "vae_decoder.bn2.weight\n",
      "vae_decoder.bn2.bias\n",
      "vae_decoder.clf.weight\n",
      "vae_decoder.clf.bias\n"
     ]
    },
    {
     "name": "stderr",
     "output_type": "stream",
     "text": [
      "2023-01-12 15:07:45,606 (config:261)INFO: the used configs are: \n",
      "asyn:\n",
      "  min_received_num: 2\n",
      "  min_received_rate: -1.0\n",
      "  timeout: 0\n",
      "  use: True\n",
      "attack:\n",
      "  alpha_TV: 0.001\n",
      "  alpha_prop_loss: 0\n",
      "  attack_method: \n",
      "  attacker_id: -1\n",
      "  classifier_PIA: randomforest\n",
      "  info_diff_type: l2\n",
      "  inject_round: 0\n",
      "  max_ite: 400\n",
      "  reconstruct_lr: 0.01\n",
      "  reconstruct_optim: Adam\n",
      "  target_label_ind: -1\n",
      "backend: torch\n",
      "cfg_file: \n",
      "criterion:\n",
      "  type: MSELoss\n",
      "data:\n",
      "  args: []\n",
      "  batch_size: 64\n",
      "  cSBM_phi: [0.5, 0.5, 0.5]\n",
      "  consistent_label_distribution: False\n",
      "  drop_last: False\n",
      "  graphsaint:\n",
      "    num_steps: 30\n",
      "    walk_length: 2\n",
      "  loader: \n",
      "  num_workers: 0\n",
      "  pre_transform: []\n",
      "  quadratic:\n",
      "    dim: 1\n",
      "    max_curv: 12.5\n",
      "    min_curv: 0.02\n",
      "  root: data/\n",
      "  save_dir: test_dir\n",
      "  server_holds_all: False\n",
      "  shuffle: True\n",
      "  sizes: [10, 5]\n",
      "  splits: [0.8, 0.1, 0.1]\n",
      "  splitter: ooxx\n",
      "  splitter_args: []\n",
      "  subsample: 1.0\n",
      "  target_transform: []\n",
      "  transform: []\n",
      "  type: graph-dt\n",
      "device: 0\n",
      "distribute:\n",
      "  use: False\n",
      "early_stop:\n",
      "  delta: 0.0\n",
      "  improve_indicator_mode: best\n",
      "  patience: 3000\n",
      "  the_smaller_the_better: False\n",
      "eval:\n",
      "  base: 0.9243\n",
      "  best_res_update_round_wise_key: val_imp_ratio\n",
      "  count_flops: False\n",
      "  freq: 1\n",
      "  metrics: ['imp_ratio']\n",
      "  monitoring: []\n",
      "  report: ['avg']\n",
      "  save_data: False\n",
      "  split: ['test', 'val']\n",
      "expname: Laplacian_MINE_VAE_test_no_KLD_gin_on_graph-dt_lr0.1_lstep1_\n",
      "expname_tag: \n",
      "federate:\n",
      "  client_num: 2\n",
      "  data_weighted_aggr: False\n",
      "  ignore_weight: False\n",
      "  join_in_info: []\n",
      "  make_global_eval: False\n",
      "  method: Laplacian_MINE_VAE_test_no_KLD\n",
      "  mode: standalone\n",
      "  online_aggr: False\n",
      "  restore_from: \n",
      "  sample_client_num: 2\n",
      "  sample_client_rate: -1.0\n",
      "  sampler: uniform\n",
      "  save_to: \n",
      "  share_local_model: False\n",
      "  total_round_num: 2000\n",
      "  unseen_clients_rate: 0.0\n",
      "  use_diff: False\n",
      "  use_ss: False\n",
      "fedopt:\n",
      "  use: False\n",
      "fedprox:\n",
      "  use: False\n",
      "fedsageplus:\n",
      "  a: 1.0\n",
      "  b: 1.0\n",
      "  c: 1.0\n",
      "  fedgen_epoch: 200\n",
      "  gen_hidden: 128\n",
      "  hide_portion: 0.5\n",
      "  loc_epoch: 1\n",
      "  num_pred: 5\n",
      "finetune:\n",
      "  batch_or_epoch: epoch\n",
      "  before_eval: False\n",
      "  freeze_param: \n",
      "  local_update_steps: 1\n",
      "  optimizer:\n",
      "    lr: 0.1\n",
      "    type: SGD\n",
      "flitplus:\n",
      "  factor_ema: 0.8\n",
      "  lambdavat: 0.5\n",
      "  tmpFed: 0.5\n",
      "  weightReg: 1.0\n",
      "gcflplus:\n",
      "  EPS_1: 0.05\n",
      "  EPS_2: 0.1\n",
      "  seq_length: 5\n",
      "  standardize: False\n",
      "grad:\n",
      "  grad_clip: 5.0\n",
      "hpo:\n",
      "  fedex:\n",
      "    cutoff: 0.0\n",
      "    diff: False\n",
      "    eta0: -1.0\n",
      "    flatten_ss: True\n",
      "    gamma: 0.0\n",
      "    num_arms: 16\n",
      "    sched: auto\n",
      "    ss: \n",
      "    use: False\n",
      "  init_cand_num: 16\n",
      "  larger_better: False\n",
      "  log_scale: False\n",
      "  metric: client_summarized_weighted_avg.val_loss\n",
      "  num_workers: 0\n",
      "  pbt:\n",
      "    max_stage: 5\n",
      "    perf_threshold: 0.1\n",
      "  plot_interval: 1\n",
      "  scheduler: rs\n",
      "  sha:\n",
      "    budgets: []\n",
      "    elim_rate: 3\n",
      "    elim_round_num: 3\n",
      "  ss: \n",
      "  table:\n",
      "    eps: 0.1\n",
      "    idx: 0\n",
      "    num: 27\n",
      "    ss: \n",
      "  working_folder: hpo\n",
      "maml:\n",
      "  use: False\n",
      "model:\n",
      "  dropout: 0.5\n",
      "  embed_size: 8\n",
      "  graph_pooling: mean\n",
      "  hidden: 64\n",
      "  in_channels: 0\n",
      "  layer: 2\n",
      "  model_num_per_trainer: 1\n",
      "  num_item: 0\n",
      "  num_user: 0\n",
      "  out_channels: 1\n",
      "  task: graphRegression\n",
      "  type: gin\n",
      "  use_bias: True\n",
      "nbafl:\n",
      "  use: False\n",
      "outdir: exp/test_dir/Laplacian_MINE_VAE_test_no_KLD_gin_on_graph-dt_lr0.1_lstep1_/sub_exp_20230112150335\n",
      "params:\n",
      "  alpha: 0.1\n",
      "  csd_importance: 1000000.0\n",
      "  diff_importance: 0.1\n",
      "  eps: 1e-20\n",
      "  kld_importance: 0.1\n",
      "  lam: 0.0\n",
      "  mine_lr: 0.01\n",
      "  p: 0.0\n",
      "  recon_importance: 0.1\n",
      "personalization:\n",
      "  K: 5\n",
      "  beta: 1.0\n",
      "  local_param: ['encoder_atom', 'encoder', 'clf', 'local', 'fixed']\n",
      "  local_update_steps: 20000000\n",
      "  lr: 0.1\n",
      "  regular_weight: 0.1\n",
      "  share_non_trainable_para: False\n",
      "print_decimal_digits: 6\n",
      "regularizer:\n",
      "  mu: 0.0\n",
      "  type: \n",
      "seed: 0\n",
      "sgdmf:\n",
      "  use: False\n",
      "train:\n",
      "  batch_or_epoch: epoch\n",
      "  local_update_steps: 1\n",
      "  optimizer:\n",
      "    lr: 0.01\n",
      "    type: SGD\n",
      "    weight_decay: 0.0005\n",
      "trainer:\n",
      "  type: laplacian_trainer\n",
      "use_gpu: True\n",
      "verbose: 1\n",
      "vertical:\n",
      "  use: False\n",
      "wandb:\n",
      "  use: False\n",
      "2023-01-12 15:07:45,748 (trainer:50)WARNING: Will not use monitor in trainer with class <class 'federatedscope.contrib.trainer.laplacian_trainer_with_domain_separation_with_summation_1MINE_VAE_separated.LaplacianDomainSeparation1MINEVAE_Separated_Trainer'>\n",
      "2023-01-12 15:07:45,756 (fed_runner:302)INFO: Client 1 has been set up ... \n"
     ]
    },
    {
     "name": "stdout",
     "output_type": "stream",
     "text": [
      "rho: 0.0\n"
     ]
    },
    {
     "name": "stderr",
     "output_type": "stream",
     "text": [
      "2023-01-12 15:07:45,833 (config:261)INFO: the used configs are: \n",
      "asyn:\n",
      "  min_received_num: 2\n",
      "  min_received_rate: -1.0\n",
      "  timeout: 0\n",
      "  use: True\n",
      "attack:\n",
      "  alpha_TV: 0.001\n",
      "  alpha_prop_loss: 0\n",
      "  attack_method: \n",
      "  attacker_id: -1\n",
      "  classifier_PIA: randomforest\n",
      "  info_diff_type: l2\n",
      "  inject_round: 0\n",
      "  max_ite: 400\n",
      "  reconstruct_lr: 0.01\n",
      "  reconstruct_optim: Adam\n",
      "  target_label_ind: -1\n",
      "backend: torch\n",
      "cfg_file: \n",
      "criterion:\n",
      "  type: MSELoss\n",
      "data:\n",
      "  args: []\n",
      "  batch_size: 64\n",
      "  cSBM_phi: [0.5, 0.5, 0.5]\n",
      "  consistent_label_distribution: False\n",
      "  drop_last: False\n",
      "  graphsaint:\n",
      "    num_steps: 30\n",
      "    walk_length: 2\n",
      "  loader: \n",
      "  num_workers: 0\n",
      "  pre_transform: []\n",
      "  quadratic:\n",
      "    dim: 1\n",
      "    max_curv: 12.5\n",
      "    min_curv: 0.02\n",
      "  root: data/\n",
      "  save_dir: test_dir\n",
      "  server_holds_all: False\n",
      "  shuffle: True\n",
      "  sizes: [10, 5]\n",
      "  splits: [0.8, 0.1, 0.1]\n",
      "  splitter: ooxx\n",
      "  splitter_args: []\n",
      "  subsample: 1.0\n",
      "  target_transform: []\n",
      "  transform: []\n",
      "  type: graph-dt\n",
      "device: 0\n",
      "distribute:\n",
      "  use: False\n",
      "early_stop:\n",
      "  delta: 0.0\n",
      "  improve_indicator_mode: best\n",
      "  patience: 3000\n",
      "  the_smaller_the_better: False\n",
      "eval:\n",
      "  base: 0.0265\n",
      "  best_res_update_round_wise_key: val_imp_ratio\n",
      "  count_flops: False\n",
      "  freq: 1\n",
      "  metrics: ['imp_ratio']\n",
      "  monitoring: []\n",
      "  report: ['avg']\n",
      "  save_data: False\n",
      "  split: ['test', 'val']\n",
      "expname: Laplacian_MINE_VAE_test_no_KLD_gin_on_graph-dt_lr0.1_lstep1_\n",
      "expname_tag: \n",
      "federate:\n",
      "  client_num: 2\n",
      "  data_weighted_aggr: False\n",
      "  ignore_weight: False\n",
      "  join_in_info: []\n",
      "  make_global_eval: False\n",
      "  method: Laplacian_MINE_VAE_test_no_KLD\n",
      "  mode: standalone\n",
      "  online_aggr: False\n",
      "  restore_from: \n",
      "  sample_client_num: 2\n",
      "  sample_client_rate: -1.0\n",
      "  sampler: uniform\n",
      "  save_to: \n",
      "  share_local_model: False\n",
      "  total_round_num: 2000\n",
      "  unseen_clients_rate: 0.0\n",
      "  use_diff: False\n",
      "  use_ss: False\n",
      "fedopt:\n",
      "  use: False\n",
      "fedprox:\n",
      "  use: False\n",
      "fedsageplus:\n",
      "  a: 1.0\n",
      "  b: 1.0\n",
      "  c: 1.0\n",
      "  fedgen_epoch: 200\n",
      "  gen_hidden: 128\n",
      "  hide_portion: 0.5\n",
      "  loc_epoch: 1\n",
      "  num_pred: 5\n",
      "finetune:\n",
      "  batch_or_epoch: epoch\n",
      "  before_eval: False\n",
      "  freeze_param: \n",
      "  local_update_steps: 1\n",
      "  optimizer:\n",
      "    lr: 0.1\n",
      "    type: SGD\n",
      "flitplus:\n",
      "  factor_ema: 0.8\n",
      "  lambdavat: 0.5\n",
      "  tmpFed: 0.5\n",
      "  weightReg: 1.0\n",
      "gcflplus:\n",
      "  EPS_1: 0.05\n",
      "  EPS_2: 0.1\n",
      "  seq_length: 5\n",
      "  standardize: False\n",
      "grad:\n",
      "  grad_clip: 5.0\n",
      "hpo:\n",
      "  fedex:\n",
      "    cutoff: 0.0\n",
      "    diff: False\n",
      "    eta0: -1.0\n",
      "    flatten_ss: True\n",
      "    gamma: 0.0\n",
      "    num_arms: 16\n",
      "    sched: auto\n",
      "    ss: \n",
      "    use: False\n",
      "  init_cand_num: 16\n",
      "  larger_better: False\n",
      "  log_scale: False\n",
      "  metric: client_summarized_weighted_avg.val_loss\n",
      "  num_workers: 0\n",
      "  pbt:\n",
      "    max_stage: 5\n",
      "    perf_threshold: 0.1\n",
      "  plot_interval: 1\n",
      "  scheduler: rs\n",
      "  sha:\n",
      "    budgets: []\n",
      "    elim_rate: 3\n",
      "    elim_round_num: 3\n",
      "  ss: \n",
      "  table:\n",
      "    eps: 0.1\n",
      "    idx: 0\n",
      "    num: 27\n",
      "    ss: \n",
      "  working_folder: hpo\n",
      "maml:\n",
      "  use: False\n",
      "model:\n",
      "  dropout: 0.5\n",
      "  embed_size: 8\n",
      "  graph_pooling: mean\n",
      "  hidden: 64\n",
      "  in_channels: 0\n",
      "  layer: 2\n",
      "  model_num_per_trainer: 1\n",
      "  num_item: 0\n",
      "  num_user: 0\n",
      "  out_channels: 1\n",
      "  task: graphRegression\n",
      "  type: gin\n",
      "  use_bias: True\n",
      "nbafl:\n",
      "  use: False\n",
      "outdir: exp/test_dir/Laplacian_MINE_VAE_test_no_KLD_gin_on_graph-dt_lr0.1_lstep1_/sub_exp_20230112150335\n",
      "params:\n",
      "  alpha: 0.1\n",
      "  csd_importance: 1000000.0\n",
      "  diff_importance: 0.1\n",
      "  eps: 1e-20\n",
      "  kld_importance: 0.1\n",
      "  lam: 0.0\n",
      "  mine_lr: 0.01\n",
      "  p: 0.0\n",
      "  recon_importance: 0.1\n",
      "personalization:\n",
      "  K: 5\n",
      "  beta: 1.0\n",
      "  local_param: ['encoder_atom', 'encoder', 'clf', 'local', 'fixed']\n",
      "  local_update_steps: 20000000\n",
      "  lr: 0.1\n",
      "  regular_weight: 0.1\n",
      "  share_non_trainable_para: False\n",
      "print_decimal_digits: 6\n",
      "regularizer:\n",
      "  mu: 0.0\n",
      "  type: \n",
      "seed: 0\n",
      "sgdmf:\n",
      "  use: False\n",
      "train:\n",
      "  batch_or_epoch: epoch\n",
      "  local_update_steps: 1\n",
      "  optimizer:\n",
      "    lr: 0.1\n",
      "    type: SGD\n",
      "    weight_decay: 0.0005\n",
      "trainer:\n",
      "  type: laplacian_trainer\n",
      "use_gpu: True\n",
      "verbose: 1\n",
      "vertical:\n",
      "  use: False\n",
      "wandb:\n",
      "  use: False\n",
      "2023-01-12 15:07:45,940 (trainer:50)WARNING: Will not use monitor in trainer with class <class 'federatedscope.contrib.trainer.laplacian_trainer_with_domain_separation_with_summation_1MINE_VAE_separated.LaplacianDomainSeparation1MINEVAE_Separated_Trainer'>\n",
      "2023-01-12 15:07:45,946 (fed_runner:302)INFO: Client 2 has been set up ... \n",
      "2023-01-12 15:07:45,947 (trainer:324)INFO: Model meta-info: <class 'federatedscope.gfl.model.graph_level.GNN_Net_Graph'>.\n",
      "2023-01-12 15:07:45,952 (trainer:332)INFO: Num of original para names: 172.\n",
      "2023-01-12 15:07:45,953 (trainer:333)INFO: Num of original trainable para names: 106.\n",
      "2023-01-12 15:07:45,953 (trainer:335)INFO: Num of preserved para names in local update: 82. \n",
      "Preserved para names in local update: {'global_gnn.convs.0.nn.norms.0.num_batches_tracked', 'bn_linear2.num_batches_tracked', 'mine.T.3.bias', 'vae_decoder.bn2.weight', 'global_gnn.convs.0.nn.linears.0.bias', 'global_gnn.convs.1.nn.norms.0.weight', 'vae_decoder.bn2.bias', 'bn_after_summation.bias', 'global_gnn.convs.1.nn.norms.0.running_var', 'emb.weight', 'vae_decoder.lin2.0.weight', 'mine.T.3.weight', 'global_gnn.convs.1.nn.norms.1.running_mean', 'global_gnn.convs.0.nn.norms.0.bias', 'global_gnn.convs.1.eps', 'global_gnn.convs.0.nn.norms.1.running_var', 'linear_out2.0.bias', 'bn_linear0_loc.running_mean', 'mine.energy_loss.T.5.bias', 'global_gnn.convs.0.nn.norms.0.running_var', 'vae_decoder.lin1.0.weight', 'global_gnn.convs.1.nn.linears.1.weight', 'global_gnn.convs.1.nn.linears.0.bias', 'global_gnn.convs.0.nn.norms.1.bias', 'global_gnn.convs.0.nn.norms.0.running_mean', 'bn_linear0_loc.weight', 'vae_decoder.bn1.bias', 'bn_linear0_loc.bias', 'bn_linear2.running_var', 'bn_linear1_loc.num_batches_tracked', 'mine.energy_loss.T.5.weight', 'mine.T.1.weight', 'vae_decoder.lin1.0.bias', 'global_gnn.convs.1.nn.norms.0.running_mean', 'vae_decoder.bn2.running_var', 'global_gnn.convs.0.nn.norms.1.num_batches_tracked', 'bn_linear0_loc.running_var', 'vae_decoder.lin2.0.bias', 'linear_out2.0.weight', 'mine.energy_loss.T.3.weight', 'bn_linear1_loc.running_var', 'emb.bias', 'vae_decoder.bn1.running_var', 'mine.energy_loss.T.1.bias', 'global_gnn.convs.0.nn.linears.1.weight', 'global_gnn.convs.1.nn.norms.0.num_batches_tracked', 'bn_linear0_loc.num_batches_tracked', 'bn_after_summation.weight', 'vae_decoder.bn1.weight', 'mine.energy_loss.T.1.weight', 'mine.energy_loss.T.3.bias', 'global_gnn.convs.0.eps', 'mine.T.5.weight', 'global_gnn.convs.0.nn.linears.0.weight', 'global_gnn.convs.1.nn.norms.0.bias', 'global_gnn.convs.0.nn.norms.0.weight', 'global_gnn.convs.1.nn.norms.1.bias', 'vae_decoder.bn2.num_batches_tracked', 'bn_linear1_loc.weight', 'global_gnn.convs.0.nn.norms.1.running_mean', 'mine.T.1.bias', 'bn_linear1_loc.bias', 'vae_decoder.bn2.running_mean', 'global_linear_out1.weight', 'bn_linear1_loc.running_mean', 'global_gnn.convs.1.nn.norms.1.num_batches_tracked', 'global_gnn.convs.1.nn.norms.1.weight', 'global_gnn.convs.0.nn.linears.1.bias', 'global_gnn.convs.1.nn.linears.0.weight', 'global_linear_out1.bias', 'global_gnn.convs.1.nn.norms.1.running_var', 'mine.T.5.bias', 'global_gnn.convs.1.nn.linears.1.bias', 'bn_after_summation.running_mean', 'bn_linear2.running_mean', 'bn_after_summation.running_var', 'bn_after_summation.num_batches_tracked', 'global_gnn.convs.0.nn.norms.1.weight', 'vae_decoder.bn1.num_batches_tracked', 'vae_decoder.bn1.running_mean', 'bn_linear2.bias', 'bn_linear2.weight'}.\n",
      "2023-01-12 15:07:45,954 (trainer:339)INFO: Num of filtered para names in local update: 90. \n",
      "Filtered para names in local update: {'local_gnn.convs.0.nn.linears.0.weight', 'local_gnn.convs.1.eps', 'local_gnn.convs.0.eps', 'fixed_gnn.convs.1.nn.linears.1.bias', 'encoder_atom.atom_embedding_list.10.weight', 'encoder_atom.atom_embedding_list.2.weight', 'local_gnn.convs.1.nn.norms.0.running_mean', 'local_gnn.convs.1.nn.norms.0.num_batches_tracked', 'fixed_gnn.convs.1.nn.norms.0.weight', 'encoder_atom.atom_embedding_list.5.weight', 'fixed_gnn.convs.1.nn.norms.1.num_batches_tracked', 'fixed_gnn.convs.1.nn.linears.0.bias', 'local_gnn.convs.1.nn.linears.0.bias', 'fixed_gnn.convs.1.nn.norms.1.bias', 'fixed_gnn.convs.1.nn.norms.0.num_batches_tracked', 'local_gnn.convs.0.nn.norms.1.weight', 'encoder_atom.atom_embedding_list.12.weight', 'local_gnn.convs.1.nn.norms.1.weight', 'local_gnn.convs.0.nn.norms.0.running_var', 'encoder_atom.atom_embedding_list.1.weight', 'local_gnn.convs.0.nn.norms.1.bias', 'clf.bias', 'local_linear_out1.bias', 'encoder_atom.atom_embedding_list.4.weight', 'local_gnn.convs.1.nn.linears.1.weight', 'fixed_gnn.convs.0.nn.norms.1.weight', 'local_gnn.convs.1.nn.norms.1.bias', 'local_gnn.convs.1.nn.norms.1.num_batches_tracked', 'local_gnn.convs.1.nn.linears.1.bias', 'fixed_gnn.convs.1.nn.linears.0.weight', 'local_gnn.convs.1.nn.norms.1.running_mean', 'fixed_gnn.convs.0.nn.norms.0.weight', 'encoder_atom.atom_embedding_list.9.weight', 'local_gnn.convs.0.nn.linears.1.bias', 'local_gnn.convs.1.nn.linears.0.weight', 'fixed_gnn.convs.0.nn.linears.0.bias', 'fixed_gnn.convs.0.nn.linears.1.bias', 'local_gnn.convs.1.nn.norms.1.running_var', 'local_gnn.convs.0.nn.linears.0.bias', 'encoder_atom.atom_embedding_list.16.weight', 'local_gnn.convs.0.nn.norms.0.bias', 'encoder_atom.atom_embedding_list.21.weight', 'encoder_atom.atom_embedding_list.18.weight', 'local_gnn.convs.0.nn.norms.0.weight', 'local_linear_out1.weight', 'clf.weight', 'local_gnn.convs.1.nn.norms.0.weight', 'local_gnn.convs.0.nn.linears.1.weight', 'encoder.weight', 'fixed_gnn.convs.1.nn.linears.1.weight', 'local_gnn.convs.0.nn.norms.1.running_var', 'fixed_gnn.convs.0.nn.norms.1.running_var', 'encoder_atom.atom_embedding_list.8.weight', 'fixed_gnn.convs.1.eps', 'encoder_atom.atom_embedding_list.0.weight', 'fixed_gnn.convs.0.nn.norms.0.running_mean', 'encoder_atom.atom_embedding_list.3.weight', 'local_gnn.convs.1.nn.norms.0.bias', 'fixed_gnn.convs.1.nn.norms.1.running_var', 'fixed_gnn.convs.1.nn.norms.0.bias', 'local_gnn.convs.1.nn.norms.0.running_var', 'fixed_gnn.convs.0.nn.norms.0.running_var', 'fixed_gnn.convs.1.nn.norms.0.running_mean', 'fixed_gnn.convs.0.nn.norms.0.num_batches_tracked', 'encoder_atom.atom_embedding_list.20.weight', 'fixed_gnn.convs.0.nn.linears.1.weight', 'fixed_gnn.convs.1.nn.norms.1.weight', 'encoder_atom.atom_embedding_list.19.weight', 'fixed_gnn.convs.1.nn.norms.0.running_var', 'local_gnn.convs.0.nn.norms.0.num_batches_tracked', 'fixed_gnn.convs.0.nn.norms.1.bias', 'encoder_atom.atom_embedding_list.14.weight', 'local_gnn.convs.0.nn.norms.1.num_batches_tracked', 'vae_decoder.clf.weight', 'encoder_atom.atom_embedding_list.15.weight', 'local_gnn.convs.0.nn.norms.1.running_mean', 'encoder.bias', 'vae_decoder.clf.bias', 'local_gnn.convs.0.nn.norms.0.running_mean', 'fixed_gnn.convs.0.nn.norms.0.bias', 'encoder_atom.atom_embedding_list.17.weight', 'encoder_atom.atom_embedding_list.11.weight', 'encoder_atom.atom_embedding_list.6.weight', 'fixed_gnn.convs.0.nn.norms.1.num_batches_tracked', 'fixed_gnn.convs.1.nn.norms.1.running_mean', 'encoder_atom.atom_embedding_list.7.weight', 'encoder_atom.atom_embedding_list.13.weight', 'fixed_gnn.convs.0.nn.linears.0.weight', 'fixed_gnn.convs.0.eps', 'fixed_gnn.convs.0.nn.norms.1.running_mean'}.\n",
      "2023-01-12 15:07:45,958 (trainer:344)INFO: After register default hooks,\n",
      "\tthe hooks_in_train is:\n",
      "\t{\n",
      "\t  \"on_fit_start\": [\n",
      "\t    \"_hook_on_fit_start_init\",\n",
      "\t    \"_hook_on_fit_start_calculate_model_size\"\n",
      "\t  ],\n",
      "\t  \"on_epoch_start\": [\n",
      "\t    \"_hook_on_epoch_start\"\n",
      "\t  ],\n",
      "\t  \"on_batch_start\": [\n",
      "\t    \"_hook_on_batch_start_init\"\n",
      "\t  ],\n",
      "\t  \"on_batch_forward\": [\n",
      "\t    \"_hook_on_batch_forward\",\n",
      "\t    \"_hook_on_batch_forward_regularizer\",\n",
      "\t    \"_hook_on_batch_forward_flop_count\"\n",
      "\t  ],\n",
      "\t  \"on_batch_backward\": [\n",
      "\t    \"_hook_on_batch_backward\"\n",
      "\t  ],\n",
      "\t  \"on_batch_end\": [\n",
      "\t    \"_hook_on_batch_end\"\n",
      "\t  ],\n",
      "\t  \"on_fit_end\": [\n",
      "\t    \"_hook_on_fit_end\"\n",
      "\t  ]\n",
      "\t};\n",
      "\tthe hooks_in_eval is:\n",
      "            t{\n",
      "\t  \"on_fit_start\": [\n",
      "\t    \"_hook_on_fit_start_init\"\n",
      "\t  ],\n",
      "\t  \"on_epoch_start\": [\n",
      "\t    \"_hook_on_epoch_start\"\n",
      "\t  ],\n",
      "\t  \"on_batch_start\": [\n",
      "\t    \"_hook_on_batch_start_init\"\n",
      "\t  ],\n",
      "\t  \"on_batch_forward\": [\n",
      "\t    \"_hook_on_batch_forward\"\n",
      "\t  ],\n",
      "\t  \"on_batch_end\": [\n",
      "\t    \"_hook_on_batch_end\"\n",
      "\t  ],\n",
      "\t  \"on_fit_end\": [\n",
      "\t    \"_hook_on_fit_end\"\n",
      "\t  ]\n",
      "\t}\n",
      "2023-01-12 15:07:45,960 (server:628)INFO: ----------- Starting training (Round #0) -------------\n"
     ]
    },
    {
     "name": "stdout",
     "output_type": "stream",
     "text": [
      "rho: 0.0\n",
      "in train\n",
      "mi_local_global: 0.00022700056433677673\n",
      "mi_global_fixed: 0.0015235953032970428\n",
      "rec_loss: 1.0000710487365723\n",
      "kld_loss: 1.7968862056732178\n",
      "mi_local_global: 0.0009042136371135712\n",
      "mi_global_fixed: 0.00020004436373710632\n",
      "rec_loss: 0.9880773425102234\n",
      "kld_loss: 1.802543044090271\n",
      "mi_local_global: 0.0006496645510196686\n",
      "mi_global_fixed: 0.0019105393439531326\n",
      "rec_loss: 0.9965176582336426\n",
      "kld_loss: 1.7663557529449463\n",
      "mi_local_global: 0.0005304440855979919\n",
      "mi_global_fixed: 0.0017413273453712463\n",
      "rec_loss: 1.0013744831085205\n",
      "kld_loss: 1.7783476114273071\n",
      "mi_local_global: 0.0023493096232414246\n",
      "mi_global_fixed: 0.0013433285057544708\n",
      "rec_loss: 0.9998010993003845\n",
      "kld_loss: 1.7787655591964722\n",
      "mi_local_global: 0.0004069991409778595\n",
      "mi_global_fixed: 0.0012850947678089142\n",
      "rec_loss: 0.9885938763618469\n",
      "kld_loss: 1.8024003505706787\n",
      "mi_local_global: 0.0015517808496952057\n",
      "mi_global_fixed: 0.00042789801955223083\n",
      "rec_loss: 1.0076079368591309\n",
      "kld_loss: 1.7833516597747803\n",
      "mi_local_global: -0.0009591802954673767\n",
      "mi_global_fixed: -0.0020301006734371185\n",
      "rec_loss: 0.9993374347686768\n",
      "kld_loss: 1.8030489683151245\n",
      "mi_local_global: 0.001183886080980301\n",
      "mi_global_fixed: -0.0001117214560508728\n",
      "rec_loss: 0.9984799027442932\n",
      "kld_loss: 1.8367044925689697\n",
      "mi_local_global: 0.003557514399290085\n",
      "mi_global_fixed: 0.00016978010535240173\n",
      "rec_loss: 1.0056103467941284\n",
      "kld_loss: 1.7906477451324463\n",
      "mi_local_global: 0.0015995390713214874\n",
      "mi_global_fixed: -0.0009431429207324982\n",
      "rec_loss: 1.005993127822876\n",
      "kld_loss: 1.7823467254638672\n",
      "mi_local_global: -0.00021519139409065247\n",
      "mi_global_fixed: 0.0005836226046085358\n",
      "rec_loss: 1.0022168159484863\n",
      "kld_loss: 1.7675197124481201\n",
      "mi_local_global: -0.0005581527948379517\n",
      "mi_global_fixed: -0.0012362338602542877\n",
      "rec_loss: 0.9985583424568176\n",
      "kld_loss: 1.8226218223571777\n",
      "mi_local_global: 0.0007430315017700195\n",
      "mi_global_fixed: -0.0009343363344669342\n",
      "rec_loss: 0.9980459213256836\n",
      "kld_loss: 1.7817991971969604\n",
      "mi_local_global: 0.004877204075455666\n",
      "mi_global_fixed: -0.0027651898562908173\n",
      "rec_loss: 1.0185174942016602\n",
      "kld_loss: 1.8489357233047485\n"
     ]
    },
    {
     "name": "stderr",
     "output_type": "stream",
     "text": [
      "2023-01-12 15:08:01,175 (laplacian_with_domain_separation_1MINE_VAE_Separated_client:144)INFO: {'Role': 'Client #1', 'Round': 0, 'Results_raw': {'train_imp_ratio': -977.98225, 'train_total': 901, 'train_loss': 8977.374865, 'train_avg_loss': 9.96379}}\n"
     ]
    },
    {
     "name": "stdout",
     "output_type": "stream",
     "text": [
      "in train\n",
      "mi_local_global: 0.0011111460626125336\n",
      "mi_global_fixed: 0.0032234564423561096\n",
      "rec_loss: 1.010201334953308\n",
      "kld_loss: 1.7939069271087646\n",
      "mi_local_global: -0.0002789013087749481\n",
      "mi_global_fixed: -0.0002977512776851654\n",
      "rec_loss: 1.0116615295410156\n",
      "kld_loss: 1.8166829347610474\n",
      "mi_local_global: -0.00360952690243721\n",
      "mi_global_fixed: -0.0058601014316082\n",
      "rec_loss: 0.9933339357376099\n",
      "kld_loss: 1.7620728015899658\n",
      "mi_local_global: 4.993751645088196e-05\n",
      "mi_global_fixed: -0.006067398935556412\n",
      "rec_loss: 0.9905187487602234\n",
      "kld_loss: 1.7900359630584717\n",
      "mi_local_global: -0.005377002060413361\n",
      "mi_global_fixed: -0.006818361580371857\n",
      "rec_loss: 0.9931280016899109\n",
      "kld_loss: 1.7589975595474243\n",
      "mi_local_global: -0.004402082413434982\n",
      "mi_global_fixed: -0.004358615726232529\n",
      "rec_loss: 0.9798267483711243\n",
      "kld_loss: 1.7386164665222168\n",
      "mi_local_global: -0.00077071413397789\n",
      "mi_global_fixed: -0.00488324835896492\n",
      "rec_loss: 0.9855772852897644\n",
      "kld_loss: 1.7401349544525146\n",
      "mi_local_global: -0.0003199055790901184\n",
      "mi_global_fixed: -0.00368480384349823\n",
      "rec_loss: 0.9766802191734314\n",
      "kld_loss: 1.7588577270507812\n"
     ]
    },
    {
     "name": "stderr",
     "output_type": "stream",
     "text": [
      "2023-01-12 15:08:06,863 (laplacian_with_domain_separation_1MINE_VAE_Separated_client:144)INFO: {'Role': 'Client #2', 'Round': 0, 'Results_raw': {'train_imp_ratio': -4169.809093, 'train_total': 512, 'train_loss': 579.327694, 'train_avg_loss': 1.131499}}\n",
      "2023-01-12 15:08:07,060 (laplacian_server:160)INFO: Server #0: Starting evaluation at the end of round 0.\n",
      "2023-01-12 15:08:07,081 (laplacian_server:167)INFO: ----------- Starting a new training round (Round #1) -------------\n"
     ]
    },
    {
     "name": "stdout",
     "output_type": "stream",
     "text": [
      "in val or test\n",
      "mi_local_global: -0.0008509568870067596\n",
      "mi_global_fixed: -0.0006540119647979736\n",
      "rec_loss: 1.0611292123794556\n",
      "kld_loss: 1.773118495941162\n",
      "mi_local_global: -0.0005799755454063416\n",
      "mi_global_fixed: -0.0003493502736091614\n",
      "rec_loss: 1.0564842224121094\n",
      "kld_loss: 1.827627182006836\n",
      "in val or test\n",
      "mi_local_global: -0.0005360059440135956\n",
      "mi_global_fixed: -0.00045745447278022766\n",
      "rec_loss: 1.0609939098358154\n",
      "kld_loss: 1.809572696685791\n"
     ]
    },
    {
     "name": "stderr",
     "output_type": "stream",
     "text": [
      "2023-01-12 15:08:08,075 (client:410)INFO: {'Role': 'Client #1', 'Round': 1, 'Results_raw': {'test_imp_ratio': -722.37633, 'test_total': 113, 'test_loss': 858.938336, 'test_avg_loss': 7.601224, 'val_imp_ratio': -710.831743, 'val_total': 113, 'val_loss': 846.880453, 'val_avg_loss': 7.494517}}\n",
      "2023-01-12 15:08:08,076 (monitor:513)INFO: current_best=-710.831743, should_save=True\n",
      "2023-01-12 15:08:08,078 (client:431)INFO: Client: #1, val_imp_ratio: -710.831743. model saved at exp/test_dir/Laplacian_MINE_VAE_test_no_KLD_gin_on_graph-dt_lr0.1_lstep1_/sub_exp_20230112150335/model1.pth\n"
     ]
    },
    {
     "name": "stdout",
     "output_type": "stream",
     "text": [
      "mi_local_global: -0.0005084015429019928\n",
      "mi_global_fixed: -0.00043707340955734253\n",
      "rec_loss: 1.0625025033950806\n",
      "kld_loss: 1.801452875137329\n",
      "in val or test\n",
      "mi_local_global: -0.00030851736664772034\n",
      "mi_global_fixed: -0.0004592984914779663\n",
      "rec_loss: 1.0165774822235107\n",
      "kld_loss: 1.768758773803711\n",
      "in val or test\n",
      "mi_local_global: -0.0002649165689945221\n",
      "mi_global_fixed: -0.00037946924567222595\n",
      "rec_loss: 1.0110129117965698\n",
      "kld_loss: 1.7267193794250488\n"
     ]
    },
    {
     "name": "stderr",
     "output_type": "stream",
     "text": [
      "2023-01-12 15:08:08,688 (client:410)INFO: {'Role': 'Client #2', 'Round': 1, 'Results_raw': {'test_imp_ratio': -1314.202632, 'test_total': 64, 'test_loss': 23.984875, 'test_avg_loss': 0.374764, 'val_imp_ratio': -1424.08132, 'val_total': 63, 'val_loss': 25.444541, 'val_avg_loss': 0.403882}}\n",
      "2023-01-12 15:08:08,689 (monitor:513)INFO: current_best=-1424.08132, should_save=True\n",
      "2023-01-12 15:08:08,691 (client:431)INFO: Client: #2, val_imp_ratio: -1424.08132. model saved at exp/test_dir/Laplacian_MINE_VAE_test_no_KLD_gin_on_graph-dt_lr0.1_lstep1_/sub_exp_20230112150335/model2.pth\n"
     ]
    },
    {
     "name": "stdout",
     "output_type": "stream",
     "text": [
      "mi_local_global: 0.0002762824296951294\n",
      "mi_global_fixed: 0.0003419443964958191\n",
      "rec_loss: 1.007103443145752\n",
      "kld_loss: 1.8186930418014526\n",
      "mi_local_global: 0.0012037530541419983\n",
      "mi_global_fixed: 0.0005493797361850739\n",
      "rec_loss: 1.0125761032104492\n",
      "kld_loss: 1.7638535499572754\n",
      "mi_local_global: -0.0003543887287378311\n",
      "mi_global_fixed: 0.002388596534729004\n",
      "rec_loss: 1.0074539184570312\n",
      "kld_loss: 1.7693732976913452\n",
      "mi_local_global: 0.0007153935730457306\n",
      "mi_global_fixed: -0.0004081428050994873\n",
      "rec_loss: 1.0202220678329468\n",
      "kld_loss: 1.7778782844543457\n",
      "mi_local_global: -0.0006461441516876221\n",
      "mi_global_fixed: 0.0004102736711502075\n",
      "rec_loss: 1.0069235563278198\n",
      "kld_loss: 1.807395339012146\n",
      "mi_local_global: 0.0028726235032081604\n",
      "mi_global_fixed: 0.001431906595826149\n",
      "rec_loss: 1.0027128458023071\n",
      "kld_loss: 1.7855173349380493\n",
      "mi_local_global: 0.0003602616488933563\n",
      "mi_global_fixed: 0.001367766410112381\n",
      "rec_loss: 1.0075322389602661\n",
      "kld_loss: 1.7995431423187256\n",
      "mi_local_global: -0.0009671598672866821\n",
      "mi_global_fixed: 0.0006413273513317108\n",
      "rec_loss: 1.0134031772613525\n",
      "kld_loss: 1.8078534603118896\n",
      "mi_local_global: 0.001660119742155075\n",
      "mi_global_fixed: -0.00010395050048828125\n",
      "rec_loss: 1.0048474073410034\n",
      "kld_loss: 1.8062174320220947\n",
      "mi_local_global: 0.00010757148265838623\n",
      "mi_global_fixed: 0.0007641687989234924\n",
      "rec_loss: 1.009142279624939\n",
      "kld_loss: 1.8094940185546875\n",
      "mi_local_global: 0.002038678154349327\n",
      "mi_global_fixed: -0.0007458217442035675\n",
      "rec_loss: 1.0084095001220703\n",
      "kld_loss: 1.7890201807022095\n",
      "mi_local_global: 0.0018751677125692368\n",
      "mi_global_fixed: 0.002357417717576027\n",
      "rec_loss: 1.0178070068359375\n",
      "kld_loss: 1.761090636253357\n",
      "mi_local_global: -0.0001333095133304596\n",
      "mi_global_fixed: -2.3420900106430054e-05\n",
      "rec_loss: 1.0083928108215332\n",
      "kld_loss: 1.7704784870147705\n",
      "mi_local_global: 0.0020741913467645645\n",
      "mi_global_fixed: 0.0018896479159593582\n",
      "rec_loss: 1.0115671157836914\n",
      "kld_loss: 1.7600860595703125\n",
      "mi_local_global: 0.0013924147933721542\n",
      "mi_global_fixed: 0.0069720558822155\n",
      "rec_loss: 1.0047379732131958\n",
      "kld_loss: 1.8240468502044678\n"
     ]
    },
    {
     "name": "stderr",
     "output_type": "stream",
     "text": [
      "2023-01-12 15:08:19,156 (laplacian_with_domain_separation_1MINE_VAE_Separated_client:144)INFO: {'Role': 'Client #1', 'Round': 1, 'Results_raw': {'train_imp_ratio': -617.331576, 'train_total': 901, 'train_loss': 5973.896621, 'train_avg_loss': 6.630296}}\n"
     ]
    },
    {
     "name": "stdout",
     "output_type": "stream",
     "text": [
      "mi_local_global: 0.002810399979352951\n",
      "mi_global_fixed: -0.00710558146238327\n",
      "rec_loss: 0.9855462908744812\n",
      "kld_loss: 1.7527782917022705\n",
      "mi_local_global: 0.003614259883761406\n",
      "mi_global_fixed: -0.006189070641994476\n",
      "rec_loss: 0.9792604446411133\n",
      "kld_loss: 1.7598791122436523\n",
      "mi_local_global: 0.0035458803176879883\n",
      "mi_global_fixed: -0.005202349275350571\n",
      "rec_loss: 0.9834400415420532\n",
      "kld_loss: 1.7542996406555176\n",
      "mi_local_global: 0.0022410228848457336\n",
      "mi_global_fixed: -0.006157424300909042\n",
      "rec_loss: 0.9855536818504333\n",
      "kld_loss: 1.7160720825195312\n",
      "mi_local_global: 0.001897074282169342\n",
      "mi_global_fixed: -0.005397595465183258\n",
      "rec_loss: 0.9840453267097473\n",
      "kld_loss: 1.7559174299240112\n",
      "mi_local_global: 0.002655845135450363\n",
      "mi_global_fixed: -0.004743408411741257\n",
      "rec_loss: 0.9883403778076172\n",
      "kld_loss: 1.7142722606658936\n",
      "mi_local_global: 0.001379169523715973\n",
      "mi_global_fixed: -0.0034188590943813324\n",
      "rec_loss: 0.985285758972168\n",
      "kld_loss: 1.740079641342163\n",
      "mi_local_global: 0.006020167842507362\n",
      "mi_global_fixed: -0.0030779950320720673\n",
      "rec_loss: 0.9772841930389404\n",
      "kld_loss: 1.720314621925354\n"
     ]
    },
    {
     "name": "stderr",
     "output_type": "stream",
     "text": [
      "2023-01-12 15:08:24,746 (laplacian_with_domain_separation_1MINE_VAE_Separated_client:144)INFO: {'Role': 'Client #2', 'Round': 1, 'Results_raw': {'train_imp_ratio': -1193.186872, 'train_total': 512, 'train_loss': 175.459586, 'train_avg_loss': 0.342695}}\n",
      "2023-01-12 15:08:24,756 (server:480)INFO: {'Role': 'Server #', 'Round': 1, 'Results_avg': {'test_imp_ratio': -1018.289481, 'test_total': 88.5, 'test_loss': 441.461605, 'test_avg_loss': 3.987994, 'val_imp_ratio': -1067.456532, 'val_total': 88.0, 'val_loss': 436.162497, 'val_avg_loss': 3.949199}}\n",
      "2023-01-12 15:08:24,757 (monitor:513)INFO: current_best=-10000, should_save=False\n",
      "2023-01-12 15:08:24,758 (monitor:513)INFO: current_best=-1067.456532, should_save=True\n",
      "2023-01-12 15:08:24,954 (laplacian_server:160)INFO: Server #0: Starting evaluation at the end of round 1.\n",
      "2023-01-12 15:08:24,978 (laplacian_server:167)INFO: ----------- Starting a new training round (Round #2) -------------\n"
     ]
    },
    {
     "name": "stdout",
     "output_type": "stream",
     "text": [
      "in val or test\n",
      "mi_local_global: -0.0008099228143692017\n",
      "mi_global_fixed: -0.0006941333413124084\n",
      "rec_loss: 1.0809502601623535\n",
      "kld_loss: 1.7728452682495117\n",
      "mi_local_global: 0.00012383237481117249\n",
      "mi_global_fixed: 0.0006363727152347565\n",
      "rec_loss: 1.079336166381836\n",
      "kld_loss: 1.8272775411605835\n",
      "in val or test\n",
      "mi_local_global: -5.089864134788513e-05\n",
      "mi_global_fixed: -0.00016207247972488403\n",
      "rec_loss: 1.0841923952102661\n",
      "kld_loss: 1.8092641830444336\n"
     ]
    },
    {
     "name": "stderr",
     "output_type": "stream",
     "text": [
      "2023-01-12 15:08:25,903 (client:410)INFO: {'Role': 'Client #1', 'Round': 2, 'Results_raw': {'test_imp_ratio': -614.102775, 'test_total': 113, 'test_loss': 745.851069, 'test_avg_loss': 6.600452, 'val_imp_ratio': -594.91667, 'val_total': 113, 'val_loss': 725.811913, 'val_avg_loss': 6.423114}}\n",
      "2023-01-12 15:08:25,904 (monitor:513)INFO: current_best=-594.91667, should_save=True\n",
      "2023-01-12 15:08:25,906 (client:431)INFO: Client: #1, val_imp_ratio: -594.91667. model saved at exp/test_dir/Laplacian_MINE_VAE_test_no_KLD_gin_on_graph-dt_lr0.1_lstep1_/sub_exp_20230112150335/model1.pth\n"
     ]
    },
    {
     "name": "stdout",
     "output_type": "stream",
     "text": [
      "mi_local_global: 0.0005807802081108093\n",
      "mi_global_fixed: 0.0007863417267799377\n",
      "rec_loss: 1.0853604078292847\n",
      "kld_loss: 1.8011512756347656\n",
      "in val or test\n",
      "mi_local_global: 0.0005939975380897522\n",
      "mi_global_fixed: -0.0006612688302993774\n",
      "rec_loss: 1.0529330968856812\n",
      "kld_loss: 1.7670819759368896\n",
      "in val or test\n",
      "mi_local_global: 0.0007601790130138397\n",
      "mi_global_fixed: -0.00041875988245010376\n",
      "rec_loss: 1.054380178451538\n",
      "kld_loss: 1.7254512310028076\n"
     ]
    },
    {
     "name": "stderr",
     "output_type": "stream",
     "text": [
      "2023-01-12 15:08:26,524 (client:410)INFO: {'Role': 'Client #2', 'Round': 2, 'Results_raw': {'test_imp_ratio': -572.632793, 'test_total': 64, 'test_loss': 11.407852, 'test_avg_loss': 0.178248, 'val_imp_ratio': -795.051911, 'val_total': 63, 'val_loss': 14.942894, 'val_avg_loss': 0.237189}}\n",
      "2023-01-12 15:08:26,525 (monitor:513)INFO: current_best=-795.051911, should_save=True\n",
      "2023-01-12 15:08:26,526 (client:431)INFO: Client: #2, val_imp_ratio: -795.051911. model saved at exp/test_dir/Laplacian_MINE_VAE_test_no_KLD_gin_on_graph-dt_lr0.1_lstep1_/sub_exp_20230112150335/model2.pth\n"
     ]
    },
    {
     "name": "stdout",
     "output_type": "stream",
     "text": [
      "in train\n",
      "mi_local_global: 0.004123980179429054\n",
      "mi_global_fixed: -0.003421604633331299\n",
      "rec_loss: 0.9835219383239746\n",
      "kld_loss: 1.7261648178100586\n",
      "mi_local_global: 0.0008323825895786285\n",
      "mi_global_fixed: -0.004303723573684692\n",
      "rec_loss: 0.9898428916931152\n",
      "kld_loss: 1.7536691427230835\n",
      "mi_local_global: 0.0032435618340969086\n",
      "mi_global_fixed: -0.003322012722492218\n",
      "rec_loss: 0.9836898446083069\n",
      "kld_loss: 1.7106976509094238\n"
     ]
    },
    {
     "ename": "KeyboardInterrupt",
     "evalue": "",
     "output_type": "error",
     "traceback": [
      "\u001B[0;31m---------------------------------------------------------------------------\u001B[0m",
      "\u001B[0;31mKeyboardInterrupt\u001B[0m                         Traceback (most recent call last)",
      "Cell \u001B[0;32mIn [12], line 9\u001B[0m\n\u001B[1;32m      2\u001B[0m \u001B[38;5;28;01mfrom\u001B[39;00m \u001B[38;5;21;01mfederatedscope\u001B[39;00m\u001B[38;5;21;01m.\u001B[39;00m\u001B[38;5;21;01mcontrib\u001B[39;00m\u001B[38;5;21;01m.\u001B[39;00m\u001B[38;5;21;01mworkers\u001B[39;00m\u001B[38;5;21;01m.\u001B[39;00m\u001B[38;5;21;01mlaplacian_server\u001B[39;00m \u001B[38;5;28;01mimport\u001B[39;00m LaplacianServer\n\u001B[1;32m      4\u001B[0m Fed_runner \u001B[38;5;241m=\u001B[39m FedRunner(data\u001B[38;5;241m=\u001B[39mdata,\n\u001B[1;32m      5\u001B[0m                        server_class\u001B[38;5;241m=\u001B[39mLaplacianServer,\n\u001B[1;32m      6\u001B[0m                        client_class\u001B[38;5;241m=\u001B[39mLaplacianDomainSeparation1MINE_Separated_Client,\n\u001B[1;32m      7\u001B[0m                        config\u001B[38;5;241m=\u001B[39mcfg\u001B[38;5;241m.\u001B[39mclone(),\n\u001B[1;32m      8\u001B[0m                        client_config\u001B[38;5;241m=\u001B[39mclient_cfg)\n\u001B[0;32m----> 9\u001B[0m \u001B[43mFed_runner\u001B[49m\u001B[38;5;241;43m.\u001B[39;49m\u001B[43mrun\u001B[49m\u001B[43m(\u001B[49m\u001B[43m)\u001B[49m\n",
      "File \u001B[0;32m~/Master-Thesis/CKIM_Competition/federatedscope/core/fed_runner.py:186\u001B[0m, in \u001B[0;36mFedRunner.run\u001B[0;34m(self)\u001B[0m\n\u001B[1;32m    184\u001B[0m     \u001B[38;5;28;01mwhile\u001B[39;00m \u001B[38;5;28mlen\u001B[39m(\u001B[38;5;28mself\u001B[39m\u001B[38;5;241m.\u001B[39mshared_comm_queue) \u001B[38;5;241m>\u001B[39m \u001B[38;5;241m0\u001B[39m:\n\u001B[1;32m    185\u001B[0m         msg \u001B[38;5;241m=\u001B[39m \u001B[38;5;28mself\u001B[39m\u001B[38;5;241m.\u001B[39mshared_comm_queue\u001B[38;5;241m.\u001B[39mpopleft()\n\u001B[0;32m--> 186\u001B[0m         \u001B[38;5;28;43mself\u001B[39;49m\u001B[38;5;241;43m.\u001B[39;49m\u001B[43m_handle_msg\u001B[49m\u001B[43m(\u001B[49m\u001B[43mmsg\u001B[49m\u001B[43m)\u001B[49m\n\u001B[1;32m    188\u001B[0m \u001B[38;5;28mself\u001B[39m\u001B[38;5;241m.\u001B[39mserver\u001B[38;5;241m.\u001B[39m_monitor\u001B[38;5;241m.\u001B[39mfinish_fed_runner(fl_mode\u001B[38;5;241m=\u001B[39m\u001B[38;5;28mself\u001B[39m\u001B[38;5;241m.\u001B[39mmode)\n\u001B[1;32m    190\u001B[0m \u001B[38;5;28;01mreturn\u001B[39;00m \u001B[38;5;28mself\u001B[39m\u001B[38;5;241m.\u001B[39mserver\u001B[38;5;241m.\u001B[39mbest_results\n",
      "File \u001B[0;32m~/Master-Thesis/CKIM_Competition/federatedscope/core/fed_runner.py:325\u001B[0m, in \u001B[0;36mFedRunner._handle_msg\u001B[0;34m(self, msg, rcv)\u001B[0m\n\u001B[1;32m    323\u001B[0m     \u001B[38;5;28mself\u001B[39m\u001B[38;5;241m.\u001B[39mserver\u001B[38;5;241m.\u001B[39m_monitor\u001B[38;5;241m.\u001B[39mtrack_download_bytes(download_bytes)\n\u001B[1;32m    324\u001B[0m \u001B[38;5;28;01melse\u001B[39;00m:\n\u001B[0;32m--> 325\u001B[0m     \u001B[38;5;28;43mself\u001B[39;49m\u001B[38;5;241;43m.\u001B[39;49m\u001B[43mclient\u001B[49m\u001B[43m[\u001B[49m\u001B[43meach_receiver\u001B[49m\u001B[43m]\u001B[49m\u001B[38;5;241;43m.\u001B[39;49m\u001B[43mmsg_handlers\u001B[49m\u001B[43m[\u001B[49m\u001B[43mmsg\u001B[49m\u001B[38;5;241;43m.\u001B[39;49m\u001B[43mmsg_type\u001B[49m\u001B[43m]\u001B[49m\u001B[43m(\u001B[49m\u001B[43mmsg\u001B[49m\u001B[43m)\u001B[49m\n\u001B[1;32m    326\u001B[0m     \u001B[38;5;28mself\u001B[39m\u001B[38;5;241m.\u001B[39mclient[each_receiver]\u001B[38;5;241m.\u001B[39m_monitor\u001B[38;5;241m.\u001B[39mtrack_download_bytes(\n\u001B[1;32m    327\u001B[0m         download_bytes)\n",
      "File \u001B[0;32m~/Master-Thesis/CKIM_Competition/federatedscope/contrib/workers/laplacian_with_domain_separation_1MINE_VAE_Separated_client.py:135\u001B[0m, in \u001B[0;36mLaplacianDomainSeparation1MINE_Separated_Client.callback_funcs_for_model_para\u001B[0;34m(self, message)\u001B[0m\n\u001B[1;32m    130\u001B[0m     logger\u001B[38;5;241m.\u001B[39minfo(\n\u001B[1;32m    131\u001B[0m         \u001B[38;5;124mf\u001B[39m\u001B[38;5;124m\"\u001B[39m\u001B[38;5;124m[Normal FL Mode] Client #\u001B[39m\u001B[38;5;132;01m{\u001B[39;00m\u001B[38;5;28mself\u001B[39m\u001B[38;5;241m.\u001B[39mID\u001B[38;5;132;01m}\u001B[39;00m\u001B[38;5;124m has been locally \u001B[39m\u001B[38;5;124m\"\u001B[39m\n\u001B[1;32m    132\u001B[0m         \u001B[38;5;124mf\u001B[39m\u001B[38;5;124m\"\u001B[39m\u001B[38;5;124mearly stopped. \u001B[39m\u001B[38;5;124m\"\u001B[39m\n\u001B[1;32m    133\u001B[0m         \u001B[38;5;124mf\u001B[39m\u001B[38;5;124m\"\u001B[39m\u001B[38;5;124mThe next FL update may result in negative effect\u001B[39m\u001B[38;5;124m\"\u001B[39m)\n\u001B[1;32m    134\u001B[0m     \u001B[38;5;28mself\u001B[39m\u001B[38;5;241m.\u001B[39m_monitor\u001B[38;5;241m.\u001B[39mlocal_converged()\n\u001B[0;32m--> 135\u001B[0m sample_size, model_para_all, omega_set, results \u001B[38;5;241m=\u001B[39m \u001B[38;5;28;43mself\u001B[39;49m\u001B[38;5;241;43m.\u001B[39;49m\u001B[43mtrainer\u001B[49m\u001B[38;5;241;43m.\u001B[39;49m\u001B[43mtrain\u001B[49m\u001B[43m(\u001B[49m\u001B[38;5;28;43mself\u001B[39;49m\u001B[38;5;241;43m.\u001B[39;49m\u001B[43mstate\u001B[49m\u001B[43m)\u001B[49m\n\u001B[1;32m    136\u001B[0m \u001B[38;5;28;01mif\u001B[39;00m \u001B[38;5;28mself\u001B[39m\u001B[38;5;241m.\u001B[39m_cfg\u001B[38;5;241m.\u001B[39mfederate\u001B[38;5;241m.\u001B[39mshare_local_model \u001B[38;5;129;01mand\u001B[39;00m \u001B[38;5;129;01mnot\u001B[39;00m \\\n\u001B[1;32m    137\u001B[0m         \u001B[38;5;28mself\u001B[39m\u001B[38;5;241m.\u001B[39m_cfg\u001B[38;5;241m.\u001B[39mfederate\u001B[38;5;241m.\u001B[39monline_aggr:\n\u001B[1;32m    138\u001B[0m     model_para_all \u001B[38;5;241m=\u001B[39m copy\u001B[38;5;241m.\u001B[39mdeepcopy(model_para_all)\n",
      "File \u001B[0;32m~/Master-Thesis/CKIM_Competition/federatedscope/core/auxiliaries/decorators.py:28\u001B[0m, in \u001B[0;36muse_diff_laplacian.<locals>.wrapper\u001B[0;34m(self, *args, **kwargs)\u001B[0m\n\u001B[1;32m     24\u001B[0m \u001B[38;5;28;01mif\u001B[39;00m \u001B[38;5;28mself\u001B[39m\u001B[38;5;241m.\u001B[39mcfg\u001B[38;5;241m.\u001B[39mfederate\u001B[38;5;241m.\u001B[39muse_diff:\n\u001B[1;32m     25\u001B[0m     \u001B[38;5;66;03m# TODO: any issue for subclasses?\u001B[39;00m\n\u001B[1;32m     26\u001B[0m     before_metric \u001B[38;5;241m=\u001B[39m \u001B[38;5;28mself\u001B[39m\u001B[38;5;241m.\u001B[39mevaluate(target_data_split_name\u001B[38;5;241m=\u001B[39m\u001B[38;5;124m'\u001B[39m\u001B[38;5;124mval\u001B[39m\u001B[38;5;124m'\u001B[39m)\n\u001B[0;32m---> 28\u001B[0m num_samples_train, model_para, omega, result_metric \u001B[38;5;241m=\u001B[39m \u001B[43mfunc\u001B[49m\u001B[43m(\u001B[49m\n\u001B[1;32m     29\u001B[0m \u001B[43m    \u001B[49m\u001B[38;5;28;43mself\u001B[39;49m\u001B[43m,\u001B[49m\u001B[43m \u001B[49m\u001B[38;5;241;43m*\u001B[39;49m\u001B[43margs\u001B[49m\u001B[43m,\u001B[49m\u001B[43m \u001B[49m\u001B[38;5;241;43m*\u001B[39;49m\u001B[38;5;241;43m*\u001B[39;49m\u001B[43mkwargs\u001B[49m\u001B[43m)\u001B[49m\n\u001B[1;32m     31\u001B[0m \u001B[38;5;28;01mif\u001B[39;00m \u001B[38;5;28mself\u001B[39m\u001B[38;5;241m.\u001B[39mcfg\u001B[38;5;241m.\u001B[39mfederate\u001B[38;5;241m.\u001B[39muse_diff:\n\u001B[1;32m     32\u001B[0m     \u001B[38;5;66;03m# TODO: any issue for subclasses?\u001B[39;00m\n\u001B[1;32m     33\u001B[0m     after_metric \u001B[38;5;241m=\u001B[39m \u001B[38;5;28mself\u001B[39m\u001B[38;5;241m.\u001B[39mevaluate(target_data_split_name\u001B[38;5;241m=\u001B[39m\u001B[38;5;124m'\u001B[39m\u001B[38;5;124mval\u001B[39m\u001B[38;5;124m'\u001B[39m)\n",
      "File \u001B[0;32m~/Master-Thesis/CKIM_Competition/federatedscope/contrib/trainer/laplacian_trainer_with_domain_separation_with_summation_1MINE_VAE_separated.py:301\u001B[0m, in \u001B[0;36mLaplacianDomainSeparation1MINEVAE_Separated_Trainer.train\u001B[0;34m(self, state, target_data_split_name, hooks_set)\u001B[0m\n\u001B[1;32m    297\u001B[0m hooks_set \u001B[38;5;241m=\u001B[39m hooks_set \u001B[38;5;129;01mor\u001B[39;00m \u001B[38;5;28mself\u001B[39m\u001B[38;5;241m.\u001B[39mhooks_in_train\n\u001B[1;32m    299\u001B[0m \u001B[38;5;28mself\u001B[39m\u001B[38;5;241m.\u001B[39mctx\u001B[38;5;241m.\u001B[39mcheck_data_split(target_data_split_name)\n\u001B[0;32m--> 301\u001B[0m \u001B[38;5;28;43mself\u001B[39;49m\u001B[38;5;241;43m.\u001B[39;49m\u001B[43m_run_routine\u001B[49m\u001B[43m(\u001B[49m\u001B[43mMODE\u001B[49m\u001B[38;5;241;43m.\u001B[39;49m\u001B[43mTRAIN\u001B[49m\u001B[43m,\u001B[49m\u001B[43m \u001B[49m\u001B[43mhooks_set\u001B[49m\u001B[43m,\u001B[49m\u001B[43m \u001B[49m\u001B[43mtarget_data_split_name\u001B[49m\u001B[43m)\u001B[49m\n\u001B[1;32m    302\u001B[0m \u001B[38;5;28mself\u001B[39m\u001B[38;5;241m.\u001B[39mfirst_round \u001B[38;5;241m=\u001B[39m \u001B[38;5;28;01mFalse\u001B[39;00m\n\u001B[1;32m    304\u001B[0m \u001B[38;5;28;01mreturn\u001B[39;00m \u001B[38;5;28mself\u001B[39m\u001B[38;5;241m.\u001B[39mctx\u001B[38;5;241m.\u001B[39mcfg\u001B[38;5;241m.\u001B[39mparams\u001B[38;5;241m.\u001B[39malpha, \u001B[38;5;28mself\u001B[39m\u001B[38;5;241m.\u001B[39mget_model_para(\n\u001B[1;32m    305\u001B[0m ), \u001B[38;5;28mself\u001B[39m\u001B[38;5;241m.\u001B[39mget_omega_para(), \u001B[38;5;28mself\u001B[39m\u001B[38;5;241m.\u001B[39mctx\u001B[38;5;241m.\u001B[39meval_metrics\n",
      "File \u001B[0;32m~/Master-Thesis/CKIM_Competition/federatedscope/core/trainers/trainer.py:279\u001B[0m, in \u001B[0;36mTrainer._run_routine\u001B[0;34m(self, mode, hooks_set, dataset_name)\u001B[0m\n\u001B[1;32m    277\u001B[0m \u001B[38;5;28;01mif\u001B[39;00m \u001B[38;5;28mself\u001B[39m\u001B[38;5;241m.\u001B[39mctx\u001B[38;5;241m.\u001B[39mcur_mode \u001B[38;5;241m==\u001B[39m \u001B[38;5;124m'\u001B[39m\u001B[38;5;124mtrain\u001B[39m\u001B[38;5;124m'\u001B[39m:\n\u001B[1;32m    278\u001B[0m     \u001B[38;5;28;01mfor\u001B[39;00m hook \u001B[38;5;129;01min\u001B[39;00m hooks_set[\u001B[38;5;124m\"\u001B[39m\u001B[38;5;124mon_batch_backward\u001B[39m\u001B[38;5;124m\"\u001B[39m]:\n\u001B[0;32m--> 279\u001B[0m         \u001B[43mhook\u001B[49m\u001B[43m(\u001B[49m\u001B[38;5;28;43mself\u001B[39;49m\u001B[38;5;241;43m.\u001B[39;49m\u001B[43mctx\u001B[49m\u001B[43m)\u001B[49m\n\u001B[1;32m    280\u001B[0m \u001B[38;5;28;01mfor\u001B[39;00m hook \u001B[38;5;129;01min\u001B[39;00m hooks_set[\u001B[38;5;124m\"\u001B[39m\u001B[38;5;124mon_batch_end\u001B[39m\u001B[38;5;124m\"\u001B[39m]:\n\u001B[1;32m    281\u001B[0m     hook(\u001B[38;5;28mself\u001B[39m\u001B[38;5;241m.\u001B[39mctx)\n",
      "File \u001B[0;32m~/Master-Thesis/CKIM_Competition/federatedscope/contrib/trainer/laplacian_trainer_with_domain_separation_with_summation_1MINE_VAE_separated.py:270\u001B[0m, in \u001B[0;36mLaplacianDomainSeparation1MINEVAE_Separated_Trainer._hook_on_batch_backward\u001B[0;34m(self, ctx)\u001B[0m\n\u001B[1;32m    268\u001B[0m \u001B[38;5;66;03m# Reuse the computed gradients and add the gradients from prior loss\u001B[39;00m\n\u001B[1;32m    269\u001B[0m loss_prox_prior \u001B[38;5;241m=\u001B[39m \u001B[38;5;28mself\u001B[39m\u001B[38;5;241m.\u001B[39mconfig\u001B[38;5;241m.\u001B[39mparams\u001B[38;5;241m.\u001B[39mcsd_importance \u001B[38;5;241m*\u001B[39m ctx\u001B[38;5;241m.\u001B[39mloss_batch_csd\n\u001B[0;32m--> 270\u001B[0m \u001B[43mloss_prox_prior\u001B[49m\u001B[38;5;241m.\u001B[39mbackward()\n\u001B[1;32m    272\u001B[0m \u001B[38;5;66;03m# Perform training step\u001B[39;00m\n\u001B[1;32m    273\u001B[0m \u001B[38;5;28;01mif\u001B[39;00m ctx\u001B[38;5;241m.\u001B[39mgrad_clip \u001B[38;5;241m>\u001B[39m \u001B[38;5;241m0\u001B[39m:\n",
      "File \u001B[0;32m~/Master-Thesis/CKIM_Competition/federatedscope/contrib/trainer/laplacian_trainer_with_domain_separation_with_summation_1MINE_VAE_separated.py:270\u001B[0m, in \u001B[0;36mLaplacianDomainSeparation1MINEVAE_Separated_Trainer._hook_on_batch_backward\u001B[0;34m(self, ctx)\u001B[0m\n\u001B[1;32m    268\u001B[0m \u001B[38;5;66;03m# Reuse the computed gradients and add the gradients from prior loss\u001B[39;00m\n\u001B[1;32m    269\u001B[0m loss_prox_prior \u001B[38;5;241m=\u001B[39m \u001B[38;5;28mself\u001B[39m\u001B[38;5;241m.\u001B[39mconfig\u001B[38;5;241m.\u001B[39mparams\u001B[38;5;241m.\u001B[39mcsd_importance \u001B[38;5;241m*\u001B[39m ctx\u001B[38;5;241m.\u001B[39mloss_batch_csd\n\u001B[0;32m--> 270\u001B[0m \u001B[43mloss_prox_prior\u001B[49m\u001B[38;5;241m.\u001B[39mbackward()\n\u001B[1;32m    272\u001B[0m \u001B[38;5;66;03m# Perform training step\u001B[39;00m\n\u001B[1;32m    273\u001B[0m \u001B[38;5;28;01mif\u001B[39;00m ctx\u001B[38;5;241m.\u001B[39mgrad_clip \u001B[38;5;241m>\u001B[39m \u001B[38;5;241m0\u001B[39m:\n",
      "File \u001B[0;32m~/.local/share/JetBrains/Toolbox/apps/PyCharm-P/ch-0/222.4459.20/plugins/python/helpers/pydev/_pydevd_bundle/pydevd_frame.py:747\u001B[0m, in \u001B[0;36mPyDBFrame.trace_dispatch\u001B[0;34m(self, frame, event, arg)\u001B[0m\n\u001B[1;32m    745\u001B[0m \u001B[38;5;66;03m# if thread has a suspend flag, we suspend with a busy wait\u001B[39;00m\n\u001B[1;32m    746\u001B[0m \u001B[38;5;28;01mif\u001B[39;00m info\u001B[38;5;241m.\u001B[39mpydev_state \u001B[38;5;241m==\u001B[39m STATE_SUSPEND:\n\u001B[0;32m--> 747\u001B[0m     \u001B[38;5;28;43mself\u001B[39;49m\u001B[38;5;241;43m.\u001B[39;49m\u001B[43mdo_wait_suspend\u001B[49m\u001B[43m(\u001B[49m\u001B[43mthread\u001B[49m\u001B[43m,\u001B[49m\u001B[43m \u001B[49m\u001B[43mframe\u001B[49m\u001B[43m,\u001B[49m\u001B[43m \u001B[49m\u001B[43mevent\u001B[49m\u001B[43m,\u001B[49m\u001B[43m \u001B[49m\u001B[43marg\u001B[49m\u001B[43m)\u001B[49m\n\u001B[1;32m    748\u001B[0m     \u001B[38;5;66;03m# No need to reset frame.f_trace to keep the same trace function.\u001B[39;00m\n\u001B[1;32m    749\u001B[0m     \u001B[38;5;28;01mreturn\u001B[39;00m \u001B[38;5;28mself\u001B[39m\u001B[38;5;241m.\u001B[39mtrace_dispatch\n",
      "File \u001B[0;32m~/.local/share/JetBrains/Toolbox/apps/PyCharm-P/ch-0/222.4459.20/plugins/python/helpers/pydev/_pydevd_bundle/pydevd_frame.py:144\u001B[0m, in \u001B[0;36mPyDBFrame.do_wait_suspend\u001B[0;34m(self, *args, **kwargs)\u001B[0m\n\u001B[1;32m    143\u001B[0m \u001B[38;5;28;01mdef\u001B[39;00m \u001B[38;5;21mdo_wait_suspend\u001B[39m(\u001B[38;5;28mself\u001B[39m, \u001B[38;5;241m*\u001B[39margs, \u001B[38;5;241m*\u001B[39m\u001B[38;5;241m*\u001B[39mkwargs):\n\u001B[0;32m--> 144\u001B[0m     \u001B[38;5;28;43mself\u001B[39;49m\u001B[38;5;241;43m.\u001B[39;49m\u001B[43m_args\u001B[49m\u001B[43m[\u001B[49m\u001B[38;5;241;43m0\u001B[39;49m\u001B[43m]\u001B[49m\u001B[38;5;241;43m.\u001B[39;49m\u001B[43mdo_wait_suspend\u001B[49m\u001B[43m(\u001B[49m\u001B[38;5;241;43m*\u001B[39;49m\u001B[43margs\u001B[49m\u001B[43m,\u001B[49m\u001B[43m \u001B[49m\u001B[38;5;241;43m*\u001B[39;49m\u001B[38;5;241;43m*\u001B[39;49m\u001B[43mkwargs\u001B[49m\u001B[43m)\u001B[49m\n",
      "File \u001B[0;32m~/.local/share/JetBrains/Toolbox/apps/PyCharm-P/ch-0/222.4459.20/plugins/python/helpers/pydev/pydevd.py:1160\u001B[0m, in \u001B[0;36mPyDB.do_wait_suspend\u001B[0;34m(self, thread, frame, event, arg, send_suspend_message, is_unhandled_exception)\u001B[0m\n\u001B[1;32m   1157\u001B[0m         from_this_thread\u001B[38;5;241m.\u001B[39mappend(frame_id)\n\u001B[1;32m   1159\u001B[0m \u001B[38;5;28;01mwith\u001B[39;00m \u001B[38;5;28mself\u001B[39m\u001B[38;5;241m.\u001B[39m_threads_suspended_single_notification\u001B[38;5;241m.\u001B[39mnotify_thread_suspended(thread_id, stop_reason):\n\u001B[0;32m-> 1160\u001B[0m     \u001B[38;5;28;43mself\u001B[39;49m\u001B[38;5;241;43m.\u001B[39;49m\u001B[43m_do_wait_suspend\u001B[49m\u001B[43m(\u001B[49m\u001B[43mthread\u001B[49m\u001B[43m,\u001B[49m\u001B[43m \u001B[49m\u001B[43mframe\u001B[49m\u001B[43m,\u001B[49m\u001B[43m \u001B[49m\u001B[43mevent\u001B[49m\u001B[43m,\u001B[49m\u001B[43m \u001B[49m\u001B[43marg\u001B[49m\u001B[43m,\u001B[49m\u001B[43m \u001B[49m\u001B[43msuspend_type\u001B[49m\u001B[43m,\u001B[49m\u001B[43m \u001B[49m\u001B[43mfrom_this_thread\u001B[49m\u001B[43m)\u001B[49m\n",
      "File \u001B[0;32m~/.local/share/JetBrains/Toolbox/apps/PyCharm-P/ch-0/222.4459.20/plugins/python/helpers/pydev/pydevd.py:1175\u001B[0m, in \u001B[0;36mPyDB._do_wait_suspend\u001B[0;34m(self, thread, frame, event, arg, suspend_type, from_this_thread)\u001B[0m\n\u001B[1;32m   1172\u001B[0m             \u001B[38;5;28mself\u001B[39m\u001B[38;5;241m.\u001B[39m_call_mpl_hook()\n\u001B[1;32m   1174\u001B[0m         \u001B[38;5;28mself\u001B[39m\u001B[38;5;241m.\u001B[39mprocess_internal_commands()\n\u001B[0;32m-> 1175\u001B[0m         \u001B[43mtime\u001B[49m\u001B[38;5;241;43m.\u001B[39;49m\u001B[43msleep\u001B[49m\u001B[43m(\u001B[49m\u001B[38;5;241;43m0.01\u001B[39;49m\u001B[43m)\u001B[49m\n\u001B[1;32m   1177\u001B[0m \u001B[38;5;28mself\u001B[39m\u001B[38;5;241m.\u001B[39mcancel_async_evaluation(get_current_thread_id(thread), \u001B[38;5;28mstr\u001B[39m(\u001B[38;5;28mid\u001B[39m(frame)))\n\u001B[1;32m   1179\u001B[0m \u001B[38;5;66;03m# process any stepping instructions\u001B[39;00m\n",
      "\u001B[0;31mKeyboardInterrupt\u001B[0m: "
     ]
    }
   ],
   "source": [
    "from federatedscope.contrib.workers.laplacian_with_domain_separation_1MINE_VAE_Separated_client import LaplacianDomainSeparation1MINE_Separated_Client\n",
    "from federatedscope.contrib.workers.laplacian_server import LaplacianServer\n",
    "\n",
    "Fed_runner = FedRunner(data=data,\n",
    "                       server_class=LaplacianServer,\n",
    "                       client_class=LaplacianDomainSeparation1MINE_Separated_Client,\n",
    "                       config=cfg.clone(),\n",
    "                       client_config=client_cfg)\n",
    "Fed_runner.run()"
   ],
   "metadata": {
    "collapsed": false
   }
  },
  {
   "cell_type": "markdown",
   "source": [
    "client 0 times: 0.346s\n",
    "bei normal fedavg: 0.15s\n",
    "mit MINE: 1.7 Sekunden"
   ],
   "metadata": {
    "collapsed": false
   }
  },
  {
   "cell_type": "markdown",
   "source": [],
   "metadata": {
    "collapsed": false
   }
  },
  {
   "cell_type": "markdown",
   "source": [
    "\n",
    "+"
   ],
   "metadata": {
    "collapsed": false
   }
  },
  {
   "cell_type": "code",
   "execution_count": null,
   "outputs": [],
   "source": [
    "777-431\n"
   ],
   "metadata": {
    "collapsed": false
   }
  },
  {
   "cell_type": "markdown",
   "source": [],
   "metadata": {
    "collapsed": false
   }
  },
  {
   "cell_type": "code",
   "execution_count": null,
   "outputs": [],
   "source": [
    "data"
   ],
   "metadata": {
    "collapsed": false
   }
  },
  {
   "cell_type": "code",
   "execution_count": null,
   "outputs": [],
   "source": [
    "55: -41 with 0 KLD\n",
    "mit 0.1 KLD: -31"
   ],
   "metadata": {
    "collapsed": false
   }
  },
  {
   "cell_type": "code",
   "execution_count": null,
   "outputs": [],
   "source": [],
   "metadata": {
    "collapsed": false
   }
  },
  {
   "cell_type": "markdown",
   "source": [],
   "metadata": {
    "collapsed": false
   }
  },
  {
   "cell_type": "markdown",
   "source": [],
   "metadata": {
    "collapsed": false
   }
  },
  {
   "cell_type": "code",
   "execution_count": null,
   "outputs": [],
   "source": [],
   "metadata": {
    "collapsed": false
   }
  },
  {
   "cell_type": "code",
   "execution_count": null,
   "outputs": [],
   "source": [
    "import os"
   ],
   "metadata": {
    "collapsed": false
   }
  },
  {
   "cell_type": "markdown",
   "source": [
    ",,0After 10 rounds:\n",
    "\n",
    "diff: 0, csd: 0:\n",
    "server: -8\n",
    "c1 t/val: 0.375 /0.37\n",
    "c2 t/val: 0.678 /0.606\n",
    "c3 t/val: 0.699 /0.608\n",
    "c4 t/val: 0.599 /0.537\n",
    "\n",
    "diff: 0, csd: 0:\n",
    "server: -4.5\n",
    "c1 t/val: 0.372879 /0.328\n",
    "c2 t/val: 0.678992 /0.605809\n",
    "c3 t/val: 0.70166 /0.608609\n",
    "c4 t/val: 0.597455 /0.534253\n",
    "\n",
    "\n",
    "\n",
    "diff: 10, csd: 0:\n",
    "server: -35\n",
    "c1 t/val: 0.482/0.52\n",
    "c2 t/val: 0.694/0.65\n",
    "c3 t/val: 0.724/0.65\n",
    "c4 t/val: 0.674/0.575\n",
    "\n",
    "diff: 1, csd: 0:\n",
    "server: -9.6\n",
    "c1 t/val: 0.378194/0.319349\n",
    "c2 t/val: 0.67461/0.609163\n",
    "c3 t/val: 0.705559/0.615019\n",
    "c4 t/val: 0.605581/0.572086\n",
    "\n",
    "diff: 0, csd: 1e4:\n",
    "server: -18\n",
    "c1 t/val: 0.280962/0.23074\n",
    "c2 t/val: 0.682652/0.603175\n",
    "c3 t/val: 0.699094/0.67027\n",
    "c4 t/val: 0.594985/0.609611\n",
    "\n",
    "diff: 0 csd: 1e8\n",
    "server: -18\n",
    "c1 t/val: 0.2606/0.348(0.197)\n",
    "c2 t/val: 0.653/0.0.602\n",
    "c3 t/val: 0.691/0.597\n",
    "c4 t/val: 0.581/0.629\n",
    "\n",
    "diff: 0 csd: 1e8\n",
    "server: -12.7\n",
    "c1 t/val: 0.262647/0.249875\n",
    "c2 t/val: 0.649273/0.0.600435\n",
    "c3 t/val: 0.696132/0.615158\n",
    "c4 t/val: 0.586597/0.656992\n",
    "\n",
    "\n",
    "diff: 0.1 csd: 0\n",
    "server: -11\n",
    "c1 t/val: 0.2606/0.332837\n",
    "c2 t/val: 0.678326/0.0.610099\n",
    "c3 t/val: 0.704083/0.616179\n",
    "c4 t/val: 0.604177/0.559658\n",
    "\n",
    "\n"
   ],
   "metadata": {
    "collapsed": false
   }
  },
  {
   "cell_type": "code",
   "execution_count": null,
   "outputs": [],
   "source": [],
   "metadata": {
    "collapsed": false
   }
  },
  {
   "cell_type": "code",
   "execution_count": null,
   "outputs": [],
   "source": [
    "os.environ['CUBLAS_WORKSPACE_CONFIG']"
   ],
   "metadata": {
    "collapsed": false
   }
  },
  {
   "cell_type": "code",
   "execution_count": null,
   "outputs": [],
   "source": [],
   "metadata": {
    "collapsed": false
   }
  }
 ],
 "metadata": {
  "kernelspec": {
   "display_name": "Python 3",
   "language": "python",
   "name": "python3"
  },
  "language_info": {
   "codemirror_mode": {
    "name": "ipython",
    "version": 2
   },
   "file_extension": ".py",
   "mimetype": "text/x-python",
   "name": "python",
   "nbconvert_exporter": "python",
   "pygments_lexer": "ipython2",
   "version": "2.7.6"
  }
 },
 "nbformat": 4,
 "nbformat_minor": 0
}
