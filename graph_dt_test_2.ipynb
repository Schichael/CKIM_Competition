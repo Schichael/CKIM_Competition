{
 "cells": [
  {
   "cell_type": "code",
   "execution_count": null,
   "outputs": [],
   "source": [
    "import torch\n",
    "# The train split of client 1\n",
    "cl_num = 0\n",
    "train_data_client = torch.load(f'./data/graph_dt/processed/{cl_num}/train.pt')\n",
    "val_data_client = torch.load(f'./data/graph_dt/processed/{cl_num}/val.pt')\n",
    "test_data_client = torch.load(f'./data/graph_dt/processed/{cl_num}/test.pt')\n",
    "print(len(train_data_client) + len(val_data_client) + len(test_data_client))\n"
   ],
   "metadata": {
    "collapsed": false
   }
  },
  {
   "cell_type": "markdown",
   "source": [
    "1: ESOL(12)\n",
    "2: FreeSolv(11)\n",
    "3: Lipophilicity (13)\n",
    "4: BACE (7)\n",
    "5: BBBP (8)\n",
    "6: ClinTox (6)\n",
    "7: MUTAG (1)\n",
    "8: PTC_MR (3)\n",
    "9: PTC_MM (2)\n",
    "10:  PTC_FM (4)\n",
    "11: PTC_FR (5) Zu viele Datem: 1440\n",
    "12: NCI109 (10)\n",
    "13: NCI1 (9)\n",
    "14: alchemy_full (15)\n",
    "15: ZINC_full (16)\n",
    "16: QM9 (14) (zu viele Daten? 130831)"
   ],
   "metadata": {
    "collapsed": false
   }
  },
  {
   "cell_type": "code",
   "execution_count": null,
   "outputs": [],
   "source": [
    "len(train_data_client)"
   ],
   "metadata": {
    "collapsed": false
   }
  },
  {
   "cell_type": "code",
   "execution_count": 1,
   "metadata": {
    "collapsed": true
   },
   "outputs": [
    {
     "name": "stderr",
     "output_type": "stream",
     "text": [
      "/home/michael/Projects/CKIM_other/CIKM22_FL_Competition/venv/lib/python3.9/site-packages/torch_geometric/graphgym/imports.py:14: UserWarning: Please install 'pytorch_lightning' for using the GraphGym experiment manager via 'pip install pytorch_lightning'\n",
      "  warnings.warn(\"Please install 'pytorch_lightning' for using the GraphGym \"\n",
      "/home/michael/Projects/CKIM_other/CIKM22_FL_Competition/venv/lib/python3.9/site-packages/torch_geometric/graphgym/logger.py:23: UserWarning: Please install 'pytorch_lightning' for using the GraphGym experiment manager via 'pip install pytorch_lightning'\n",
      "  warnings.warn(\"Please install 'pytorch_lightning' for using the GraphGym \"\n",
      "2022-12-22 19:23:48,197 (trainer_builder:11)WARNING: No module named 'federatedscope.contrib.optimizer' in `federatedscope.contrib.trainer`, some modules are not available.\n"
     ]
    }
   ],
   "source": [
    "import os\n",
    "import sys\n",
    "\n",
    "# from federatedscope.core.cmd_args import parse_args\n",
    "from federatedscope.core.auxiliaries.data_builder import get_data\n",
    "from federatedscope.core.auxiliaries.utils import setup_seed, update_logger\n",
    "from federatedscope.core.auxiliaries.worker_builder import get_client_cls, get_server_cls\n",
    "from federatedscope.core.configs.config import global_cfg\n",
    "from federatedscope.core.fed_runner import FedRunner\n",
    "from yacs.config import CfgNode\n",
    "from rdkit.Chem.Draw import IPythonConsole\n",
    "\n",
    "if os.environ.get('https_proxy'):\n",
    "    del os.environ['https_proxy']\n",
    "if os.environ.get('http_proxy'):\n",
    "    del os.environ['http_proxy']"
   ]
  },
  {
   "cell_type": "code",
   "execution_count": 2,
   "outputs": [],
   "source": [
    "def train(client, lr):\n",
    "    cfg_file = 'scripts/B-FHTL_exp_scripts/Graph-DT/isolated.yaml'\n",
    "    cfg_client = 'scripts/B-FHTL_exp_scripts/Graph-DT/cfg_per_client_isolated.yaml'\n",
    "    #'scripts/B-FHTL_exp_scripts/Graph-DT/cfg_per_client.yaml'\n",
    "\n",
    "    init_cfg = global_cfg.clone()\n",
    "    init_cfg.merge_from_file(cfg_file)\n",
    "\n",
    "    # init_cfg.data.subdirectory = 'graph_dt_backup/processed'\n",
    "    # init_cfg.merge_from_list(args.opts)\n",
    "    init_cfg.data.client = client\n",
    "    init_cfg.train.optimizer.lr = lr\n",
    "    update_logger(init_cfg)\n",
    "    setup_seed(init_cfg.seed)\n",
    "\n",
    "    # federated dataset might change the number of clients\n",
    "    # thus, we allow the creation procedure of dataset to modify the global cfg object\n",
    "    data, modified_cfg = get_data(config=init_cfg.clone())\n",
    "    init_cfg.merge_from_other_cfg(modified_cfg)\n",
    "\n",
    "    init_cfg.freeze()\n",
    "\n",
    "    # allow different settings for different clients\n",
    "    # cfg_client.merge_from_file(args.cfg_client)\n",
    "    if cfg_client is None:\n",
    "        cfg_client = None\n",
    "    else:\n",
    "        cfg_client = CfgNode.load_cfg(open(cfg_client, 'r')).clone()\n",
    "    runner = FedRunner(data=data,\n",
    "                   server_class=get_server_cls(init_cfg),\n",
    "                   client_class=get_client_cls(init_cfg),\n",
    "                   config=init_cfg.clone(),\n",
    "                   client_config=cfg_client)\n",
    "    _ = runner.run()"
   ],
   "metadata": {
    "collapsed": false
   }
  },
  {
   "cell_type": "code",
   "execution_count": null,
   "outputs": [
    {
     "name": "stderr",
     "output_type": "stream",
     "text": [
      "2022-12-22 19:23:52,640 (cfg_fl_setting:104)WARNING: In local/global training mode, the sampling related configs are in-valid, we will use all clients. \n",
      "2022-12-22 19:23:52,642 (utils:130)INFO: the current machine is at 127.0.1.1\n",
      "2022-12-22 19:23:52,644 (utils:132)INFO: the current dir is /home/michael/Projects/CKIM_Competition\n",
      "2022-12-22 19:23:52,644 (utils:133)INFO: the output dir is exp/CLIENT_1/local_gin_on_graph-dt_lr0.1_lstep1_\n"
     ]
    },
    {
     "name": "stdout",
     "output_type": "stream",
     "text": [
      "Client: 1,\tlr: 0.1\n",
      "training run: 1\n"
     ]
    },
    {
     "name": "stderr",
     "output_type": "stream",
     "text": [
      "2022-12-22 19:23:54,113 (cfg_fl_setting:104)WARNING: In local/global training mode, the sampling related configs are in-valid, we will use all clients. \n",
      "2022-12-22 19:23:54,114 (cfg_fl_setting:104)WARNING: In local/global training mode, the sampling related configs are in-valid, we will use all clients. \n",
      "2022-12-22 19:23:54,129 (config:261)INFO: the used configs are: \n",
      "asyn:\n",
      "  min_received_num: 1\n",
      "  min_received_rate: -1.0\n",
      "  timeout: 0\n",
      "  use: True\n",
      "attack:\n",
      "  alpha_TV: 0.001\n",
      "  alpha_prop_loss: 0\n",
      "  attack_method: \n",
      "  attacker_id: -1\n",
      "  classifier_PIA: randomforest\n",
      "  info_diff_type: l2\n",
      "  inject_round: 0\n",
      "  max_ite: 400\n",
      "  reconstruct_lr: 0.01\n",
      "  reconstruct_optim: Adam\n",
      "  target_label_ind: -1\n",
      "backend: torch\n",
      "cfg_file: \n",
      "criterion:\n",
      "  type: CrossEntropyLoss\n",
      "data:\n",
      "  args: []\n",
      "  batch_size: 64\n",
      "  cSBM_phi: [0.5, 0.5, 0.5]\n",
      "  client: 1\n",
      "  consistent_label_distribution: False\n",
      "  drop_last: False\n",
      "  graphsaint:\n",
      "    num_steps: 30\n",
      "    walk_length: 2\n",
      "  loader: \n",
      "  num_workers: 0\n",
      "  pre_transform: []\n",
      "  quadratic:\n",
      "    dim: 1\n",
      "    max_curv: 12.5\n",
      "    min_curv: 0.02\n",
      "  root: data/\n",
      "  server_holds_all: False\n",
      "  shuffle: True\n",
      "  sizes: [10, 5]\n",
      "  splits: [0.8, 0.1, 0.1]\n",
      "  splitter: ooxx\n",
      "  splitter_args: []\n",
      "  subsample: 1.0\n",
      "  target_transform: []\n",
      "  transform: []\n",
      "  type: graph-dt\n",
      "device: 0\n",
      "distribute:\n",
      "  use: False\n",
      "early_stop:\n",
      "  delta: 0.0\n",
      "  improve_indicator_mode: best\n",
      "  patience: 50\n",
      "  the_smaller_the_better: True\n",
      "eval:\n",
      "  base: 0.0\n",
      "  best_res_update_round_wise_key: val_loss\n",
      "  count_flops: False\n",
      "  freq: 1\n",
      "  metrics: []\n",
      "  monitoring: []\n",
      "  report: ['avg']\n",
      "  save_data: False\n",
      "  split: ['test', 'val']\n",
      "expname: local_gin_on_graph-dt_lr0.1_lstep1_\n",
      "expname_tag: \n",
      "federate:\n",
      "  client_num: 1\n",
      "  data_weighted_aggr: False\n",
      "  ignore_weight: False\n",
      "  join_in_info: []\n",
      "  make_global_eval: False\n",
      "  method: local\n",
      "  mode: standalone\n",
      "  online_aggr: False\n",
      "  restore_from: \n",
      "  sample_client_num: 1\n",
      "  sample_client_rate: -1.0\n",
      "  sampler: uniform\n",
      "  save_to: \n",
      "  share_local_model: False\n",
      "  total_round_num: 10000\n",
      "  unseen_clients_rate: 0.0\n",
      "  use_diff: False\n",
      "  use_ss: False\n",
      "fedopt:\n",
      "  use: False\n",
      "fedprox:\n",
      "  use: False\n",
      "fedsageplus:\n",
      "  a: 1.0\n",
      "  b: 1.0\n",
      "  c: 1.0\n",
      "  fedgen_epoch: 200\n",
      "  gen_hidden: 128\n",
      "  hide_portion: 0.5\n",
      "  loc_epoch: 1\n",
      "  num_pred: 5\n",
      "finetune:\n",
      "  batch_or_epoch: epoch\n",
      "  before_eval: False\n",
      "  freeze_param: \n",
      "  local_update_steps: 1\n",
      "  optimizer:\n",
      "    lr: 0.1\n",
      "    type: SGD\n",
      "flitplus:\n",
      "  factor_ema: 0.8\n",
      "  lambdavat: 0.5\n",
      "  tmpFed: 0.5\n",
      "  weightReg: 1.0\n",
      "gcflplus:\n",
      "  EPS_1: 0.05\n",
      "  EPS_2: 0.1\n",
      "  seq_length: 5\n",
      "  standardize: False\n",
      "grad:\n",
      "  grad_clip: -1.0\n",
      "hpo:\n",
      "  fedex:\n",
      "    cutoff: 0.0\n",
      "    diff: False\n",
      "    eta0: -1.0\n",
      "    flatten_ss: True\n",
      "    gamma: 0.0\n",
      "    num_arms: 16\n",
      "    sched: auto\n",
      "    ss: \n",
      "    use: False\n",
      "  init_cand_num: 16\n",
      "  larger_better: False\n",
      "  log_scale: False\n",
      "  metric: client_summarized_weighted_avg.val_loss\n",
      "  num_workers: 0\n",
      "  pbt:\n",
      "    max_stage: 5\n",
      "    perf_threshold: 0.1\n",
      "  plot_interval: 1\n",
      "  scheduler: rs\n",
      "  sha:\n",
      "    budgets: []\n",
      "    elim_rate: 3\n",
      "    elim_round_num: 3\n",
      "  ss: \n",
      "  table:\n",
      "    eps: 0.1\n",
      "    idx: 0\n",
      "    num: 27\n",
      "    ss: \n",
      "  working_folder: hpo\n",
      "maml:\n",
      "  use: False\n",
      "model:\n",
      "  dropout: 0.5\n",
      "  embed_size: 8\n",
      "  graph_pooling: mean\n",
      "  hidden: 64\n",
      "  in_channels: 0\n",
      "  layer: 2\n",
      "  model_num_per_trainer: 1\n",
      "  num_item: 0\n",
      "  num_user: 0\n",
      "  out_channels: 0\n",
      "  task: graph\n",
      "  type: gin\n",
      "  use_bias: True\n",
      "nbafl:\n",
      "  use: False\n",
      "outdir: exp/CLIENT_1/local_gin_on_graph-dt_lr0.1_lstep1_\n",
      "personalization:\n",
      "  K: 5\n",
      "  beta: 1.0\n",
      "  local_param: ['encoder_atom', 'encoder', 'clf']\n",
      "  local_update_steps: 1\n",
      "  lr: 0.1\n",
      "  regular_weight: 0.1\n",
      "  share_non_trainable_para: False\n",
      "print_decimal_digits: 6\n",
      "regularizer:\n",
      "  mu: 0.0\n",
      "  type: \n",
      "seed: 0\n",
      "sgdmf:\n",
      "  use: False\n",
      "train:\n",
      "  batch_or_epoch: epoch\n",
      "  local_update_steps: 1\n",
      "  optimizer:\n",
      "    lr: 0.1\n",
      "    type: SGD\n",
      "    weight_decay: 0.0005\n",
      "trainer:\n",
      "  type: graphminibatch_trainer\n",
      "use_gpu: True\n",
      "verbose: 1\n",
      "vertical:\n",
      "  use: False\n",
      "wandb:\n",
      "  use: False\n",
      "/home/michael/Projects/CKIM_other/CIKM22_FL_Competition/venv/lib/python3.9/site-packages/torch/nn/init.py:405: UserWarning: Initializing zero-element tensors is a no-op\n",
      "  warnings.warn(\"Initializing zero-element tensors is a no-op\")\n",
      "2022-12-22 19:23:54,226 (fed_runner:249)INFO: Server #0 has been set up ... \n",
      "2022-12-22 19:23:54,230 (cfg_fl_setting:104)WARNING: In local/global training mode, the sampling related configs are in-valid, we will use all clients. \n",
      "2022-12-22 19:23:54,231 (cfg_fl_setting:104)WARNING: In local/global training mode, the sampling related configs are in-valid, we will use all clients. \n",
      "2022-12-22 19:23:54,251 (config:261)INFO: the used configs are: \n",
      "asyn:\n",
      "  min_received_num: 1\n",
      "  min_received_rate: -1.0\n",
      "  timeout: 0\n",
      "  use: True\n",
      "attack:\n",
      "  alpha_TV: 0.001\n",
      "  alpha_prop_loss: 0\n",
      "  attack_method: \n",
      "  attacker_id: -1\n",
      "  classifier_PIA: randomforest\n",
      "  info_diff_type: l2\n",
      "  inject_round: 0\n",
      "  max_ite: 400\n",
      "  reconstruct_lr: 0.01\n",
      "  reconstruct_optim: Adam\n",
      "  target_label_ind: -1\n",
      "backend: torch\n",
      "cfg_file: \n",
      "criterion:\n",
      "  type: MSELoss\n",
      "data:\n",
      "  args: []\n",
      "  batch_size: 64\n",
      "  cSBM_phi: [0.5, 0.5, 0.5]\n",
      "  client: 1\n",
      "  consistent_label_distribution: False\n",
      "  drop_last: False\n",
      "  graphsaint:\n",
      "    num_steps: 30\n",
      "    walk_length: 2\n",
      "  loader: \n",
      "  num_workers: 0\n",
      "  pre_transform: []\n",
      "  quadratic:\n",
      "    dim: 1\n",
      "    max_curv: 12.5\n",
      "    min_curv: 0.02\n",
      "  root: data/\n",
      "  server_holds_all: False\n",
      "  shuffle: True\n",
      "  sizes: [10, 5]\n",
      "  splits: [0.8, 0.1, 0.1]\n",
      "  splitter: ooxx\n",
      "  splitter_args: []\n",
      "  subsample: 1.0\n",
      "  target_transform: []\n",
      "  transform: []\n",
      "  type: graph-dt\n",
      "device: 0\n",
      "distribute:\n",
      "  use: False\n",
      "early_stop:\n",
      "  delta: 0.0\n",
      "  improve_indicator_mode: best\n",
      "  patience: 50\n",
      "  the_smaller_the_better: True\n",
      "eval:\n",
      "  base: 1.451\n",
      "  best_res_update_round_wise_key: val_avg_loss\n",
      "  count_flops: False\n",
      "  freq: 1\n",
      "  metrics: ['loss']\n",
      "  monitoring: []\n",
      "  report: ['avg']\n",
      "  save_data: False\n",
      "  split: ['test', 'val']\n",
      "expname: local_gin_on_graph-dt_lr0.1_lstep1_\n",
      "expname_tag: \n",
      "federate:\n",
      "  client_num: 1\n",
      "  data_weighted_aggr: False\n",
      "  ignore_weight: False\n",
      "  join_in_info: []\n",
      "  make_global_eval: False\n",
      "  method: local\n",
      "  mode: standalone\n",
      "  online_aggr: False\n",
      "  restore_from: \n",
      "  sample_client_num: 1\n",
      "  sample_client_rate: -1.0\n",
      "  sampler: uniform\n",
      "  save_to: \n",
      "  share_local_model: False\n",
      "  total_round_num: 10000\n",
      "  unseen_clients_rate: 0.0\n",
      "  use_diff: False\n",
      "  use_ss: False\n",
      "fedopt:\n",
      "  use: False\n",
      "fedprox:\n",
      "  use: False\n",
      "fedsageplus:\n",
      "  a: 1.0\n",
      "  b: 1.0\n",
      "  c: 1.0\n",
      "  fedgen_epoch: 200\n",
      "  gen_hidden: 128\n",
      "  hide_portion: 0.5\n",
      "  loc_epoch: 1\n",
      "  num_pred: 5\n",
      "finetune:\n",
      "  batch_or_epoch: epoch\n",
      "  before_eval: False\n",
      "  freeze_param: \n",
      "  local_update_steps: 1\n",
      "  optimizer:\n",
      "    lr: 0.1\n",
      "    type: SGD\n",
      "flitplus:\n",
      "  factor_ema: 0.8\n",
      "  lambdavat: 0.5\n",
      "  tmpFed: 0.5\n",
      "  weightReg: 1.0\n",
      "gcflplus:\n",
      "  EPS_1: 0.05\n",
      "  EPS_2: 0.1\n",
      "  seq_length: 5\n",
      "  standardize: False\n",
      "grad:\n",
      "  grad_clip: -1.0\n",
      "hpo:\n",
      "  fedex:\n",
      "    cutoff: 0.0\n",
      "    diff: False\n",
      "    eta0: -1.0\n",
      "    flatten_ss: True\n",
      "    gamma: 0.0\n",
      "    num_arms: 16\n",
      "    sched: auto\n",
      "    ss: \n",
      "    use: False\n",
      "  init_cand_num: 16\n",
      "  larger_better: False\n",
      "  log_scale: False\n",
      "  metric: client_summarized_weighted_avg.val_loss\n",
      "  num_workers: 0\n",
      "  pbt:\n",
      "    max_stage: 5\n",
      "    perf_threshold: 0.1\n",
      "  plot_interval: 1\n",
      "  scheduler: rs\n",
      "  sha:\n",
      "    budgets: []\n",
      "    elim_rate: 3\n",
      "    elim_round_num: 3\n",
      "  ss: \n",
      "  table:\n",
      "    eps: 0.1\n",
      "    idx: 0\n",
      "    num: 27\n",
      "    ss: \n",
      "  working_folder: hpo\n",
      "maml:\n",
      "  use: False\n",
      "model:\n",
      "  dropout: 0.5\n",
      "  embed_size: 8\n",
      "  graph_pooling: mean\n",
      "  hidden: 64\n",
      "  in_channels: 0\n",
      "  layer: 2\n",
      "  model_num_per_trainer: 1\n",
      "  num_item: 0\n",
      "  num_user: 0\n",
      "  out_channels: 1\n",
      "  task: graphRegression\n",
      "  type: gin\n",
      "  use_bias: True\n",
      "nbafl:\n",
      "  use: False\n",
      "outdir: exp/CLIENT_1/local_gin_on_graph-dt_lr0.1_lstep1_\n",
      "personalization:\n",
      "  K: 5\n",
      "  beta: 1.0\n",
      "  local_param: ['encoder_atom', 'encoder', 'clf']\n",
      "  local_update_steps: 1\n",
      "  lr: 0.1\n",
      "  regular_weight: 0.1\n",
      "  share_non_trainable_para: False\n",
      "print_decimal_digits: 6\n",
      "regularizer:\n",
      "  mu: 0.0\n",
      "  type: \n",
      "seed: 0\n",
      "sgdmf:\n",
      "  use: False\n",
      "train:\n",
      "  batch_or_epoch: epoch\n",
      "  local_update_steps: 1\n",
      "  optimizer:\n",
      "    lr: 0.1\n",
      "    type: SGD\n",
      "    weight_decay: 0.0005\n",
      "trainer:\n",
      "  type: graphminibatch_trainer\n",
      "use_gpu: True\n",
      "verbose: 1\n",
      "vertical:\n",
      "  use: False\n",
      "wandb:\n",
      "  use: False\n",
      "2022-12-22 19:23:54,271 (fed_runner:304)INFO: Client 1 has been set up ... \n",
      "2022-12-22 19:23:54,272 (trainer:324)INFO: Model meta-info: <class 'federatedscope.gfl.model.graph_level.GNN_Net_Graph'>.\n",
      "2022-12-22 19:23:54,275 (trainer:332)INFO: Num of original para names: 58.\n",
      "2022-12-22 19:23:54,276 (trainer:333)INFO: Num of original trainable para names: 44.\n",
      "2022-12-22 19:23:54,276 (trainer:335)INFO: Num of preserved para names in local update: 0. \n",
      "Preserved para names in local update: set().\n",
      "2022-12-22 19:23:54,277 (trainer:339)INFO: Num of filtered para names in local update: 58. \n",
      "Filtered para names in local update: {'encoder_atom.atom_embedding_list.18.weight', 'gnn.convs.1.nn.norms.0.bias', 'encoder_atom.atom_embedding_list.21.weight', 'encoder_atom.atom_embedding_list.12.weight', 'gnn.convs.0.eps', 'encoder_atom.atom_embedding_list.7.weight', 'gnn.convs.0.nn.norms.0.weight', 'gnn.convs.1.nn.norms.1.weight', 'gnn.convs.0.nn.norms.0.running_var', 'gnn.convs.0.nn.norms.1.bias', 'gnn.convs.1.nn.linears.1.bias', 'gnn.convs.1.nn.linears.0.bias', 'encoder_atom.atom_embedding_list.15.weight', 'gnn.convs.0.nn.norms.1.num_batches_tracked', 'gnn.convs.0.nn.linears.1.weight', 'gnn.convs.1.nn.norms.0.weight', 'encoder.weight', 'gnn.convs.0.nn.linears.0.bias', 'gnn.convs.0.nn.norms.0.bias', 'gnn.convs.0.nn.norms.1.weight', 'gnn.convs.1.nn.norms.1.running_mean', 'gnn.convs.0.nn.linears.0.weight', 'encoder_atom.atom_embedding_list.3.weight', 'encoder_atom.atom_embedding_list.5.weight', 'encoder_atom.atom_embedding_list.8.weight', 'encoder_atom.atom_embedding_list.14.weight', 'encoder_atom.atom_embedding_list.9.weight', 'linear.0.bias', 'encoder_atom.atom_embedding_list.20.weight', 'encoder_atom.atom_embedding_list.1.weight', 'gnn.convs.1.nn.norms.0.num_batches_tracked', 'gnn.convs.1.nn.norms.1.num_batches_tracked', 'gnn.convs.1.nn.linears.1.weight', 'clf.bias', 'encoder_atom.atom_embedding_list.6.weight', 'gnn.convs.1.nn.linears.0.weight', 'clf.weight', 'gnn.convs.1.eps', 'gnn.convs.1.nn.norms.0.running_mean', 'encoder_atom.atom_embedding_list.2.weight', 'gnn.convs.0.nn.norms.0.running_mean', 'encoder_atom.atom_embedding_list.11.weight', 'encoder_atom.atom_embedding_list.17.weight', 'encoder_atom.atom_embedding_list.19.weight', 'encoder_atom.atom_embedding_list.13.weight', 'linear.0.weight', 'encoder.bias', 'gnn.convs.0.nn.linears.1.bias', 'gnn.convs.0.nn.norms.0.num_batches_tracked', 'gnn.convs.0.nn.norms.1.running_var', 'encoder_atom.atom_embedding_list.0.weight', 'gnn.convs.0.nn.norms.1.running_mean', 'gnn.convs.1.nn.norms.1.running_var', 'encoder_atom.atom_embedding_list.4.weight', 'gnn.convs.1.nn.norms.0.running_var', 'gnn.convs.1.nn.norms.1.bias', 'encoder_atom.atom_embedding_list.16.weight', 'encoder_atom.atom_embedding_list.10.weight'}.\n",
      "2022-12-22 19:23:54,279 (trainer:344)INFO: After register default hooks,\n",
      "\tthe hooks_in_train is:\n",
      "\t{\n",
      "\t  \"on_fit_start\": [\n",
      "\t    \"_hook_on_fit_start_init\",\n",
      "\t    \"_hook_on_fit_start_calculate_model_size\"\n",
      "\t  ],\n",
      "\t  \"on_epoch_start\": [\n",
      "\t    \"_hook_on_epoch_start\"\n",
      "\t  ],\n",
      "\t  \"on_batch_start\": [\n",
      "\t    \"_hook_on_batch_start_init\"\n",
      "\t  ],\n",
      "\t  \"on_batch_forward\": [\n",
      "\t    \"_hook_on_batch_forward\",\n",
      "\t    \"_hook_on_batch_forward_regularizer\",\n",
      "\t    \"_hook_on_batch_forward_flop_count\"\n",
      "\t  ],\n",
      "\t  \"on_batch_backward\": [\n",
      "\t    \"_hook_on_batch_backward\"\n",
      "\t  ],\n",
      "\t  \"on_batch_end\": [\n",
      "\t    \"_hook_on_batch_end\"\n",
      "\t  ],\n",
      "\t  \"on_fit_end\": [\n",
      "\t    \"_hook_on_fit_end\"\n",
      "\t  ]\n",
      "\t};\n",
      "\tthe hooks_in_eval is:\n",
      "            t{\n",
      "\t  \"on_fit_start\": [\n",
      "\t    \"_hook_on_fit_start_init\"\n",
      "\t  ],\n",
      "\t  \"on_epoch_start\": [\n",
      "\t    \"_hook_on_epoch_start\"\n",
      "\t  ],\n",
      "\t  \"on_batch_start\": [\n",
      "\t    \"_hook_on_batch_start_init\"\n",
      "\t  ],\n",
      "\t  \"on_batch_forward\": [\n",
      "\t    \"_hook_on_batch_forward\"\n",
      "\t  ],\n",
      "\t  \"on_batch_end\": [\n",
      "\t    \"_hook_on_batch_end\"\n",
      "\t  ],\n",
      "\t  \"on_fit_end\": [\n",
      "\t    \"_hook_on_fit_end\"\n",
      "\t  ]\n",
      "\t}\n",
      "2022-12-22 19:23:54,284 (server:644)INFO: ----------- Starting training (Round #0) -------------\n"
     ]
    },
    {
     "name": "stdout",
     "output_type": "stream",
     "text": [
      "track_running_stats: True\n",
      "track_running_stats: True\n",
      "track_running_stats: True\n",
      "track_running_stats: True\n",
      "track_running_stats: True\n",
      "track_running_stats: True\n",
      "track_running_stats: True\n",
      "track_running_stats: True\n"
     ]
    },
    {
     "name": "stderr",
     "output_type": "stream",
     "text": [
      "2022-12-22 19:23:56,353 (client:260)INFO: {'Role': 'Client #1', 'Round': 0, 'Results_raw': {'train_loss': 4812.948519, 'train_avg_loss': 5.341785, 'train_total': 901}}\n",
      "2022-12-22 19:23:56,355 (server:323)INFO: Server #0: Starting evaluation at the end of round 0.\n",
      "2022-12-22 19:23:56,356 (server:330)INFO: ----------- Starting a new training round (Round #1) -------------\n",
      "2022-12-22 19:23:56,389 (client:415)INFO: {'Role': 'Client #1', 'Round': 1, 'Results_raw': {'test_loss': 778.27937, 'test_avg_loss': 6.887428, 'test_total': 113, 'val_loss': 638.523252, 'val_avg_loss': 5.650648, 'val_total': 113}}\n",
      "2022-12-22 19:23:56,391 (monitor:936)INFO: Current best: {'test_loss': 778.27937, 'test_avg_loss': 6.887428, 'test_total': 113, 'val_loss': 638.523252, 'val_avg_loss': 5.650648, 'val_total': 113}\n",
      "2022-12-22 19:23:56,535 (client:260)INFO: {'Role': 'Client #1', 'Round': 1, 'Results_raw': {'train_loss': 3552.589839, 'train_avg_loss': 3.942941, 'train_total': 901}}\n",
      "2022-12-22 19:23:56,537 (server:496)INFO: {'Role': 'Server #', 'Round': 1, 'Results_avg': {'test_loss': 778.27937, 'test_avg_loss': 6.887428, 'test_total': 113.0, 'val_loss': 638.523252, 'val_avg_loss': 5.650648, 'val_total': 113.0}}\n",
      "2022-12-22 19:23:56,538 (monitor:936)INFO: Current best: {'test_loss': [778.27937], 'test_avg_loss': [6.887428], 'test_total': [113.0], 'val_loss': [638.523252], 'val_avg_loss': [5.650648], 'val_total': [113.0]}\n",
      "2022-12-22 19:23:56,539 (monitor:936)INFO: Current best: {'test_loss': 778.27937, 'test_avg_loss': 6.887428, 'test_total': 113.0, 'val_loss': 638.523252, 'val_avg_loss': 5.650648, 'val_total': 113.0}\n",
      "2022-12-22 19:23:56,540 (server:323)INFO: Server #0: Starting evaluation at the end of round 1.\n",
      "2022-12-22 19:23:56,541 (server:330)INFO: ----------- Starting a new training round (Round #2) -------------\n",
      "2022-12-22 19:23:56,573 (client:415)INFO: {'Role': 'Client #1', 'Round': 2, 'Results_raw': {'test_loss': 480.794778, 'test_avg_loss': 4.254821, 'test_total': 113, 'val_loss': 386.157164, 'val_avg_loss': 3.41732, 'val_total': 113}}\n",
      "2022-12-22 19:23:56,575 (monitor:936)INFO: Current best: {'test_loss': 480.794778, 'test_avg_loss': 4.254821, 'test_total': 113, 'val_loss': 386.157164, 'val_avg_loss': 3.41732, 'val_total': 113}\n",
      "2022-12-22 19:23:56,720 (client:260)INFO: {'Role': 'Client #1', 'Round': 2, 'Results_raw': {'train_loss': 3288.133059, 'train_avg_loss': 3.649426, 'train_total': 901}}\n",
      "2022-12-22 19:23:56,722 (server:496)INFO: {'Role': 'Server #', 'Round': 2, 'Results_avg': {'test_loss': 480.794778, 'test_avg_loss': 4.254821, 'test_total': 113.0, 'val_loss': 386.157164, 'val_avg_loss': 3.41732, 'val_total': 113.0}}\n",
      "2022-12-22 19:23:56,722 (monitor:936)INFO: Current best: {'test_loss': [480.794778], 'test_avg_loss': [4.254821], 'test_total': [113.0], 'val_loss': [386.157164], 'val_avg_loss': [3.41732], 'val_total': [113.0]}\n",
      "2022-12-22 19:23:56,723 (monitor:936)INFO: Current best: {'test_loss': 480.794778, 'test_avg_loss': 4.254821, 'test_total': 113.0, 'val_loss': 386.157164, 'val_avg_loss': 3.41732, 'val_total': 113.0}\n",
      "2022-12-22 19:23:56,725 (server:323)INFO: Server #0: Starting evaluation at the end of round 2.\n",
      "2022-12-22 19:23:56,726 (server:330)INFO: ----------- Starting a new training round (Round #3) -------------\n",
      "2022-12-22 19:23:56,761 (client:415)INFO: {'Role': 'Client #1', 'Round': 3, 'Results_raw': {'test_loss': 437.999875, 'test_avg_loss': 3.876105, 'test_total': 113, 'val_loss': 357.090599, 'val_avg_loss': 3.160094, 'val_total': 113}}\n",
      "2022-12-22 19:23:56,762 (monitor:936)INFO: Current best: {'test_loss': 437.999875, 'test_avg_loss': 3.876105, 'test_total': 113, 'val_loss': 357.090599, 'val_avg_loss': 3.160094, 'val_total': 113}\n",
      "2022-12-22 19:23:56,897 (client:260)INFO: {'Role': 'Client #1', 'Round': 3, 'Results_raw': {'train_loss': 3241.174858, 'train_avg_loss': 3.597308, 'train_total': 901}}\n",
      "2022-12-22 19:23:56,899 (server:496)INFO: {'Role': 'Server #', 'Round': 3, 'Results_avg': {'test_loss': 437.999875, 'test_avg_loss': 3.876105, 'test_total': 113.0, 'val_loss': 357.090599, 'val_avg_loss': 3.160094, 'val_total': 113.0}}\n",
      "2022-12-22 19:23:56,900 (monitor:936)INFO: Current best: {'test_loss': [437.999875], 'test_avg_loss': [3.876105], 'test_total': [113.0], 'val_loss': [357.090599], 'val_avg_loss': [3.160094], 'val_total': [113.0]}\n",
      "2022-12-22 19:23:56,901 (monitor:936)INFO: Current best: {'test_loss': 437.999875, 'test_avg_loss': 3.876105, 'test_total': 113.0, 'val_loss': 357.090599, 'val_avg_loss': 3.160094, 'val_total': 113.0}\n",
      "2022-12-22 19:23:56,903 (server:323)INFO: Server #0: Starting evaluation at the end of round 3.\n",
      "2022-12-22 19:23:56,904 (server:330)INFO: ----------- Starting a new training round (Round #4) -------------\n",
      "2022-12-22 19:23:56,933 (client:415)INFO: {'Role': 'Client #1', 'Round': 4, 'Results_raw': {'test_loss': 387.263886, 'test_avg_loss': 3.427114, 'test_total': 113, 'val_loss': 330.305078, 'val_avg_loss': 2.923054, 'val_total': 113}}\n",
      "2022-12-22 19:23:56,935 (monitor:936)INFO: Current best: {'test_loss': 387.263886, 'test_avg_loss': 3.427114, 'test_total': 113, 'val_loss': 330.305078, 'val_avg_loss': 2.923054, 'val_total': 113}\n",
      "2022-12-22 19:23:57,078 (client:260)INFO: {'Role': 'Client #1', 'Round': 4, 'Results_raw': {'train_loss': 2853.589479, 'train_avg_loss': 3.167136, 'train_total': 901}}\n",
      "2022-12-22 19:23:57,080 (server:496)INFO: {'Role': 'Server #', 'Round': 4, 'Results_avg': {'test_loss': 387.263886, 'test_avg_loss': 3.427114, 'test_total': 113.0, 'val_loss': 330.305078, 'val_avg_loss': 2.923054, 'val_total': 113.0}}\n",
      "2022-12-22 19:23:57,081 (monitor:936)INFO: Current best: {'test_loss': [387.263886], 'test_avg_loss': [3.427114], 'test_total': [113.0], 'val_loss': [330.305078], 'val_avg_loss': [2.923054], 'val_total': [113.0]}\n",
      "2022-12-22 19:23:57,083 (monitor:936)INFO: Current best: {'test_loss': 387.263886, 'test_avg_loss': 3.427114, 'test_total': 113.0, 'val_loss': 330.305078, 'val_avg_loss': 2.923054, 'val_total': 113.0}\n",
      "2022-12-22 19:23:57,085 (server:323)INFO: Server #0: Starting evaluation at the end of round 4.\n",
      "2022-12-22 19:23:57,086 (server:330)INFO: ----------- Starting a new training round (Round #5) -------------\n",
      "2022-12-22 19:23:57,124 (client:415)INFO: {'Role': 'Client #1', 'Round': 5, 'Results_raw': {'test_loss': 350.776807, 'test_avg_loss': 3.10422, 'test_total': 113, 'val_loss': 302.685763, 'val_avg_loss': 2.678635, 'val_total': 113}}\n",
      "2022-12-22 19:23:57,125 (monitor:936)INFO: Current best: {'test_loss': 350.776807, 'test_avg_loss': 3.10422, 'test_total': 113, 'val_loss': 302.685763, 'val_avg_loss': 2.678635, 'val_total': 113}\n",
      "2022-12-22 19:23:57,266 (client:260)INFO: {'Role': 'Client #1', 'Round': 5, 'Results_raw': {'train_loss': 3496.578493, 'train_avg_loss': 3.880775, 'train_total': 901}}\n",
      "2022-12-22 19:23:57,268 (server:496)INFO: {'Role': 'Server #', 'Round': 5, 'Results_avg': {'test_loss': 350.776807, 'test_avg_loss': 3.10422, 'test_total': 113.0, 'val_loss': 302.685763, 'val_avg_loss': 2.678635, 'val_total': 113.0}}\n",
      "2022-12-22 19:23:57,270 (monitor:936)INFO: Current best: {'test_loss': [350.776807], 'test_avg_loss': [3.10422], 'test_total': [113.0], 'val_loss': [302.685763], 'val_avg_loss': [2.678635], 'val_total': [113.0]}\n",
      "2022-12-22 19:23:57,272 (monitor:936)INFO: Current best: {'test_loss': 350.776807, 'test_avg_loss': 3.10422, 'test_total': 113.0, 'val_loss': 302.685763, 'val_avg_loss': 2.678635, 'val_total': 113.0}\n",
      "2022-12-22 19:23:57,275 (server:323)INFO: Server #0: Starting evaluation at the end of round 5.\n",
      "2022-12-22 19:23:57,276 (server:330)INFO: ----------- Starting a new training round (Round #6) -------------\n",
      "2022-12-22 19:23:57,306 (client:415)INFO: {'Role': 'Client #1', 'Round': 6, 'Results_raw': {'test_loss': 537.63439, 'test_avg_loss': 4.757826, 'test_total': 113, 'val_loss': 405.734756, 'val_avg_loss': 3.590573, 'val_total': 113}}\n",
      "2022-12-22 19:23:57,307 (monitor:936)INFO: Current best: {'test_loss': 350.776807, 'test_avg_loss': 3.10422, 'test_total': 113, 'val_loss': 302.685763, 'val_avg_loss': 2.678635, 'val_total': 113}\n",
      "2022-12-22 19:23:57,455 (client:260)INFO: {'Role': 'Client #1', 'Round': 6, 'Results_raw': {'train_loss': 2619.530805, 'train_avg_loss': 2.907359, 'train_total': 901}}\n",
      "2022-12-22 19:23:57,457 (server:496)INFO: {'Role': 'Server #', 'Round': 6, 'Results_avg': {'test_loss': 537.63439, 'test_avg_loss': 4.757826, 'test_total': 113.0, 'val_loss': 405.734756, 'val_avg_loss': 3.590573, 'val_total': 113.0}}\n",
      "2022-12-22 19:23:57,459 (monitor:936)INFO: Current best: {'test_loss': 350.776807, 'test_avg_loss': 3.10422, 'test_total': 113.0, 'val_loss': 302.685763, 'val_avg_loss': 2.678635, 'val_total': 113.0}\n",
      "2022-12-22 19:23:57,460 (monitor:936)INFO: Current best: {'test_loss': 350.776807, 'test_avg_loss': 3.10422, 'test_total': 113.0, 'val_loss': 302.685763, 'val_avg_loss': 2.678635, 'val_total': 113.0}\n",
      "2022-12-22 19:23:57,462 (server:323)INFO: Server #0: Starting evaluation at the end of round 6.\n",
      "2022-12-22 19:23:57,463 (server:330)INFO: ----------- Starting a new training round (Round #7) -------------\n",
      "2022-12-22 19:23:57,493 (client:415)INFO: {'Role': 'Client #1', 'Round': 7, 'Results_raw': {'test_loss': 1203.833369, 'test_avg_loss': 10.653393, 'test_total': 113, 'val_loss': 1038.61089, 'val_avg_loss': 9.191247, 'val_total': 113}}\n",
      "2022-12-22 19:23:57,494 (monitor:936)INFO: Current best: {'test_loss': 350.776807, 'test_avg_loss': 3.10422, 'test_total': 113, 'val_loss': 302.685763, 'val_avg_loss': 2.678635, 'val_total': 113}\n",
      "2022-12-22 19:23:57,612 (client:260)INFO: {'Role': 'Client #1', 'Round': 7, 'Results_raw': {'train_loss': 3031.89894, 'train_avg_loss': 3.365038, 'train_total': 901}}\n",
      "2022-12-22 19:23:57,614 (server:496)INFO: {'Role': 'Server #', 'Round': 7, 'Results_avg': {'test_loss': 1203.833369, 'test_avg_loss': 10.653393, 'test_total': 113.0, 'val_loss': 1038.61089, 'val_avg_loss': 9.191247, 'val_total': 113.0}}\n",
      "2022-12-22 19:23:57,614 (monitor:936)INFO: Current best: {'test_loss': 350.776807, 'test_avg_loss': 3.10422, 'test_total': 113.0, 'val_loss': 302.685763, 'val_avg_loss': 2.678635, 'val_total': 113.0}\n",
      "2022-12-22 19:23:57,616 (monitor:936)INFO: Current best: {'test_loss': 350.776807, 'test_avg_loss': 3.10422, 'test_total': 113.0, 'val_loss': 302.685763, 'val_avg_loss': 2.678635, 'val_total': 113.0}\n",
      "2022-12-22 19:23:57,617 (server:323)INFO: Server #0: Starting evaluation at the end of round 7.\n",
      "2022-12-22 19:23:57,618 (server:330)INFO: ----------- Starting a new training round (Round #8) -------------\n",
      "2022-12-22 19:23:57,650 (client:415)INFO: {'Role': 'Client #1', 'Round': 8, 'Results_raw': {'test_loss': 394.360164, 'test_avg_loss': 3.489913, 'test_total': 113, 'val_loss': 294.384318, 'val_avg_loss': 2.605171, 'val_total': 113}}\n",
      "2022-12-22 19:23:57,653 (monitor:936)INFO: Current best: {'test_loss': 394.360164, 'test_avg_loss': 3.489913, 'test_total': 113, 'val_loss': 294.384318, 'val_avg_loss': 2.605171, 'val_total': 113}\n",
      "2022-12-22 19:23:57,804 (client:260)INFO: {'Role': 'Client #1', 'Round': 8, 'Results_raw': {'train_loss': 2514.201591, 'train_avg_loss': 2.790457, 'train_total': 901}}\n",
      "2022-12-22 19:23:57,806 (server:496)INFO: {'Role': 'Server #', 'Round': 8, 'Results_avg': {'test_loss': 394.360164, 'test_avg_loss': 3.489913, 'test_total': 113.0, 'val_loss': 294.384318, 'val_avg_loss': 2.605171, 'val_total': 113.0}}\n",
      "2022-12-22 19:23:57,807 (monitor:936)INFO: Current best: {'test_loss': [394.360164], 'test_avg_loss': [3.489913], 'test_total': [113.0], 'val_loss': [294.384318], 'val_avg_loss': [2.605171], 'val_total': [113.0]}\n",
      "2022-12-22 19:23:57,808 (monitor:936)INFO: Current best: {'test_loss': 394.360164, 'test_avg_loss': 3.489913, 'test_total': 113.0, 'val_loss': 294.384318, 'val_avg_loss': 2.605171, 'val_total': 113.0}\n",
      "2022-12-22 19:23:57,810 (server:323)INFO: Server #0: Starting evaluation at the end of round 8.\n",
      "2022-12-22 19:23:57,811 (server:330)INFO: ----------- Starting a new training round (Round #9) -------------\n",
      "2022-12-22 19:23:57,843 (client:415)INFO: {'Role': 'Client #1', 'Round': 9, 'Results_raw': {'test_loss': 283.913065, 'test_avg_loss': 2.512505, 'test_total': 113, 'val_loss': 236.50027, 'val_avg_loss': 2.092923, 'val_total': 113}}\n",
      "2022-12-22 19:23:57,844 (monitor:936)INFO: Current best: {'test_loss': 283.913065, 'test_avg_loss': 2.512505, 'test_total': 113, 'val_loss': 236.50027, 'val_avg_loss': 2.092923, 'val_total': 113}\n",
      "2022-12-22 19:23:57,999 (client:260)INFO: {'Role': 'Client #1', 'Round': 9, 'Results_raw': {'train_loss': 2307.10744, 'train_avg_loss': 2.560608, 'train_total': 901}}\n",
      "2022-12-22 19:23:58,001 (server:496)INFO: {'Role': 'Server #', 'Round': 9, 'Results_avg': {'test_loss': 283.913065, 'test_avg_loss': 2.512505, 'test_total': 113.0, 'val_loss': 236.50027, 'val_avg_loss': 2.092923, 'val_total': 113.0}}\n",
      "2022-12-22 19:23:58,002 (monitor:936)INFO: Current best: {'test_loss': [283.913065], 'test_avg_loss': [2.512505], 'test_total': [113.0], 'val_loss': [236.50027], 'val_avg_loss': [2.092923], 'val_total': [113.0]}\n",
      "2022-12-22 19:23:58,003 (monitor:936)INFO: Current best: {'test_loss': 283.913065, 'test_avg_loss': 2.512505, 'test_total': 113.0, 'val_loss': 236.50027, 'val_avg_loss': 2.092923, 'val_total': 113.0}\n",
      "2022-12-22 19:23:58,005 (server:323)INFO: Server #0: Starting evaluation at the end of round 9.\n",
      "2022-12-22 19:23:58,006 (server:330)INFO: ----------- Starting a new training round (Round #10) -------------\n",
      "2022-12-22 19:23:58,048 (client:415)INFO: {'Role': 'Client #1', 'Round': 10, 'Results_raw': {'test_loss': 229.135253, 'test_avg_loss': 2.027746, 'test_total': 113, 'val_loss': 171.217324, 'val_avg_loss': 1.515198, 'val_total': 113}}\n",
      "2022-12-22 19:23:58,050 (monitor:936)INFO: Current best: {'test_loss': 229.135253, 'test_avg_loss': 2.027746, 'test_total': 113, 'val_loss': 171.217324, 'val_avg_loss': 1.515198, 'val_total': 113}\n",
      "2022-12-22 19:23:58,215 (client:260)INFO: {'Role': 'Client #1', 'Round': 10, 'Results_raw': {'train_loss': 2382.989087, 'train_avg_loss': 2.644827, 'train_total': 901}}\n",
      "2022-12-22 19:23:58,217 (server:496)INFO: {'Role': 'Server #', 'Round': 10, 'Results_avg': {'test_loss': 229.135253, 'test_avg_loss': 2.027746, 'test_total': 113.0, 'val_loss': 171.217324, 'val_avg_loss': 1.515198, 'val_total': 113.0}}\n",
      "2022-12-22 19:23:58,218 (monitor:936)INFO: Current best: {'test_loss': [229.135253], 'test_avg_loss': [2.027746], 'test_total': [113.0], 'val_loss': [171.217324], 'val_avg_loss': [1.515198], 'val_total': [113.0]}\n",
      "2022-12-22 19:23:58,219 (monitor:936)INFO: Current best: {'test_loss': 229.135253, 'test_avg_loss': 2.027746, 'test_total': 113.0, 'val_loss': 171.217324, 'val_avg_loss': 1.515198, 'val_total': 113.0}\n",
      "2022-12-22 19:23:58,220 (server:323)INFO: Server #0: Starting evaluation at the end of round 10.\n",
      "2022-12-22 19:23:58,221 (server:330)INFO: ----------- Starting a new training round (Round #11) -------------\n",
      "2022-12-22 19:23:58,257 (client:415)INFO: {'Role': 'Client #1', 'Round': 11, 'Results_raw': {'test_loss': 632.454614, 'test_avg_loss': 5.596943, 'test_total': 113, 'val_loss': 308.5045, 'val_avg_loss': 2.730128, 'val_total': 113}}\n",
      "2022-12-22 19:23:58,259 (monitor:936)INFO: Current best: {'test_loss': 229.135253, 'test_avg_loss': 2.027746, 'test_total': 113, 'val_loss': 171.217324, 'val_avg_loss': 1.515198, 'val_total': 113}\n",
      "2022-12-22 19:23:58,407 (client:260)INFO: {'Role': 'Client #1', 'Round': 11, 'Results_raw': {'train_loss': 2735.248349, 'train_avg_loss': 3.035792, 'train_total': 901}}\n",
      "2022-12-22 19:23:58,409 (server:496)INFO: {'Role': 'Server #', 'Round': 11, 'Results_avg': {'test_loss': 632.454614, 'test_avg_loss': 5.596943, 'test_total': 113.0, 'val_loss': 308.5045, 'val_avg_loss': 2.730128, 'val_total': 113.0}}\n",
      "2022-12-22 19:23:58,410 (monitor:936)INFO: Current best: {'test_loss': 229.135253, 'test_avg_loss': 2.027746, 'test_total': 113.0, 'val_loss': 171.217324, 'val_avg_loss': 1.515198, 'val_total': 113.0}\n",
      "2022-12-22 19:23:58,411 (monitor:936)INFO: Current best: {'test_loss': 229.135253, 'test_avg_loss': 2.027746, 'test_total': 113.0, 'val_loss': 171.217324, 'val_avg_loss': 1.515198, 'val_total': 113.0}\n",
      "2022-12-22 19:23:58,412 (server:323)INFO: Server #0: Starting evaluation at the end of round 11.\n",
      "2022-12-22 19:23:58,413 (server:330)INFO: ----------- Starting a new training round (Round #12) -------------\n",
      "2022-12-22 19:23:58,443 (client:415)INFO: {'Role': 'Client #1', 'Round': 12, 'Results_raw': {'test_loss': 357.930162, 'test_avg_loss': 3.167524, 'test_total': 113, 'val_loss': 275.430771, 'val_avg_loss': 2.43744, 'val_total': 113}}\n",
      "2022-12-22 19:23:58,444 (monitor:936)INFO: Current best: {'test_loss': 229.135253, 'test_avg_loss': 2.027746, 'test_total': 113, 'val_loss': 171.217324, 'val_avg_loss': 1.515198, 'val_total': 113}\n",
      "2022-12-22 19:23:58,608 (client:260)INFO: {'Role': 'Client #1', 'Round': 12, 'Results_raw': {'train_loss': 2363.61084, 'train_avg_loss': 2.623319, 'train_total': 901}}\n",
      "2022-12-22 19:23:58,610 (server:496)INFO: {'Role': 'Server #', 'Round': 12, 'Results_avg': {'test_loss': 357.930162, 'test_avg_loss': 3.167524, 'test_total': 113.0, 'val_loss': 275.430771, 'val_avg_loss': 2.43744, 'val_total': 113.0}}\n",
      "2022-12-22 19:23:58,612 (monitor:936)INFO: Current best: {'test_loss': 229.135253, 'test_avg_loss': 2.027746, 'test_total': 113.0, 'val_loss': 171.217324, 'val_avg_loss': 1.515198, 'val_total': 113.0}\n",
      "2022-12-22 19:23:58,613 (monitor:936)INFO: Current best: {'test_loss': 229.135253, 'test_avg_loss': 2.027746, 'test_total': 113.0, 'val_loss': 171.217324, 'val_avg_loss': 1.515198, 'val_total': 113.0}\n",
      "2022-12-22 19:23:58,615 (server:323)INFO: Server #0: Starting evaluation at the end of round 12.\n",
      "2022-12-22 19:23:58,616 (server:330)INFO: ----------- Starting a new training round (Round #13) -------------\n",
      "2022-12-22 19:23:58,658 (client:415)INFO: {'Role': 'Client #1', 'Round': 13, 'Results_raw': {'test_loss': 248.835482, 'test_avg_loss': 2.202084, 'test_total': 113, 'val_loss': 201.060308, 'val_avg_loss': 1.779295, 'val_total': 113}}\n",
      "2022-12-22 19:23:58,660 (monitor:936)INFO: Current best: {'test_loss': 229.135253, 'test_avg_loss': 2.027746, 'test_total': 113, 'val_loss': 171.217324, 'val_avg_loss': 1.515198, 'val_total': 113}\n",
      "2022-12-22 19:23:58,805 (client:260)INFO: {'Role': 'Client #1', 'Round': 13, 'Results_raw': {'train_loss': 2340.910593, 'train_avg_loss': 2.598125, 'train_total': 901}}\n",
      "2022-12-22 19:23:58,807 (server:496)INFO: {'Role': 'Server #', 'Round': 13, 'Results_avg': {'test_loss': 248.835482, 'test_avg_loss': 2.202084, 'test_total': 113.0, 'val_loss': 201.060308, 'val_avg_loss': 1.779295, 'val_total': 113.0}}\n",
      "2022-12-22 19:23:58,808 (monitor:936)INFO: Current best: {'test_loss': 229.135253, 'test_avg_loss': 2.027746, 'test_total': 113.0, 'val_loss': 171.217324, 'val_avg_loss': 1.515198, 'val_total': 113.0}\n",
      "2022-12-22 19:23:58,811 (monitor:936)INFO: Current best: {'test_loss': 229.135253, 'test_avg_loss': 2.027746, 'test_total': 113.0, 'val_loss': 171.217324, 'val_avg_loss': 1.515198, 'val_total': 113.0}\n",
      "2022-12-22 19:23:58,813 (server:323)INFO: Server #0: Starting evaluation at the end of round 13.\n",
      "2022-12-22 19:23:58,814 (server:330)INFO: ----------- Starting a new training round (Round #14) -------------\n",
      "2022-12-22 19:23:58,856 (client:415)INFO: {'Role': 'Client #1', 'Round': 14, 'Results_raw': {'test_loss': 353.088373, 'test_avg_loss': 3.124676, 'test_total': 113, 'val_loss': 291.746986, 'val_avg_loss': 2.581832, 'val_total': 113}}\n",
      "2022-12-22 19:23:58,857 (monitor:936)INFO: Current best: {'test_loss': 229.135253, 'test_avg_loss': 2.027746, 'test_total': 113, 'val_loss': 171.217324, 'val_avg_loss': 1.515198, 'val_total': 113}\n",
      "2022-12-22 19:23:59,009 (client:260)INFO: {'Role': 'Client #1', 'Round': 14, 'Results_raw': {'train_loss': 2233.975056, 'train_avg_loss': 2.47944, 'train_total': 901}}\n",
      "2022-12-22 19:23:59,011 (server:496)INFO: {'Role': 'Server #', 'Round': 14, 'Results_avg': {'test_loss': 353.088373, 'test_avg_loss': 3.124676, 'test_total': 113.0, 'val_loss': 291.746986, 'val_avg_loss': 2.581832, 'val_total': 113.0}}\n",
      "2022-12-22 19:23:59,012 (monitor:936)INFO: Current best: {'test_loss': 229.135253, 'test_avg_loss': 2.027746, 'test_total': 113.0, 'val_loss': 171.217324, 'val_avg_loss': 1.515198, 'val_total': 113.0}\n",
      "2022-12-22 19:23:59,014 (monitor:936)INFO: Current best: {'test_loss': 229.135253, 'test_avg_loss': 2.027746, 'test_total': 113.0, 'val_loss': 171.217324, 'val_avg_loss': 1.515198, 'val_total': 113.0}\n",
      "2022-12-22 19:23:59,017 (server:323)INFO: Server #0: Starting evaluation at the end of round 14.\n",
      "2022-12-22 19:23:59,017 (server:330)INFO: ----------- Starting a new training round (Round #15) -------------\n",
      "2022-12-22 19:23:59,053 (client:415)INFO: {'Role': 'Client #1', 'Round': 15, 'Results_raw': {'test_loss': 738.886193, 'test_avg_loss': 6.538816, 'test_total': 113, 'val_loss': 553.498411, 'val_avg_loss': 4.898216, 'val_total': 113}}\n",
      "2022-12-22 19:23:59,054 (monitor:936)INFO: Current best: {'test_loss': 229.135253, 'test_avg_loss': 2.027746, 'test_total': 113, 'val_loss': 171.217324, 'val_avg_loss': 1.515198, 'val_total': 113}\n",
      "2022-12-22 19:23:59,209 (client:260)INFO: {'Role': 'Client #1', 'Round': 15, 'Results_raw': {'train_loss': 1962.234022, 'train_avg_loss': 2.17784, 'train_total': 901}}\n",
      "2022-12-22 19:23:59,211 (server:496)INFO: {'Role': 'Server #', 'Round': 15, 'Results_avg': {'test_loss': 738.886193, 'test_avg_loss': 6.538816, 'test_total': 113.0, 'val_loss': 553.498411, 'val_avg_loss': 4.898216, 'val_total': 113.0}}\n",
      "2022-12-22 19:23:59,212 (monitor:936)INFO: Current best: {'test_loss': 229.135253, 'test_avg_loss': 2.027746, 'test_total': 113.0, 'val_loss': 171.217324, 'val_avg_loss': 1.515198, 'val_total': 113.0}\n",
      "2022-12-22 19:23:59,214 (monitor:936)INFO: Current best: {'test_loss': 229.135253, 'test_avg_loss': 2.027746, 'test_total': 113.0, 'val_loss': 171.217324, 'val_avg_loss': 1.515198, 'val_total': 113.0}\n",
      "2022-12-22 19:23:59,216 (server:323)INFO: Server #0: Starting evaluation at the end of round 15.\n",
      "2022-12-22 19:23:59,217 (server:330)INFO: ----------- Starting a new training round (Round #16) -------------\n",
      "2022-12-22 19:23:59,261 (client:415)INFO: {'Role': 'Client #1', 'Round': 16, 'Results_raw': {'test_loss': 337.508065, 'test_avg_loss': 2.986797, 'test_total': 113, 'val_loss': 304.240749, 'val_avg_loss': 2.692396, 'val_total': 113}}\n",
      "2022-12-22 19:23:59,263 (monitor:936)INFO: Current best: {'test_loss': 229.135253, 'test_avg_loss': 2.027746, 'test_total': 113, 'val_loss': 171.217324, 'val_avg_loss': 1.515198, 'val_total': 113}\n",
      "2022-12-22 19:23:59,418 (client:260)INFO: {'Role': 'Client #1', 'Round': 16, 'Results_raw': {'train_loss': 2025.743133, 'train_avg_loss': 2.248328, 'train_total': 901}}\n",
      "2022-12-22 19:23:59,420 (server:496)INFO: {'Role': 'Server #', 'Round': 16, 'Results_avg': {'test_loss': 337.508065, 'test_avg_loss': 2.986797, 'test_total': 113.0, 'val_loss': 304.240749, 'val_avg_loss': 2.692396, 'val_total': 113.0}}\n",
      "2022-12-22 19:23:59,422 (monitor:936)INFO: Current best: {'test_loss': 229.135253, 'test_avg_loss': 2.027746, 'test_total': 113.0, 'val_loss': 171.217324, 'val_avg_loss': 1.515198, 'val_total': 113.0}\n",
      "2022-12-22 19:23:59,424 (monitor:936)INFO: Current best: {'test_loss': 229.135253, 'test_avg_loss': 2.027746, 'test_total': 113.0, 'val_loss': 171.217324, 'val_avg_loss': 1.515198, 'val_total': 113.0}\n",
      "2022-12-22 19:23:59,426 (server:323)INFO: Server #0: Starting evaluation at the end of round 16.\n",
      "2022-12-22 19:23:59,427 (server:330)INFO: ----------- Starting a new training round (Round #17) -------------\n",
      "2022-12-22 19:23:59,457 (client:415)INFO: {'Role': 'Client #1', 'Round': 17, 'Results_raw': {'test_loss': 448.253539, 'test_avg_loss': 3.966845, 'test_total': 113, 'val_loss': 301.560406, 'val_avg_loss': 2.668676, 'val_total': 113}}\n",
      "2022-12-22 19:23:59,458 (monitor:936)INFO: Current best: {'test_loss': 229.135253, 'test_avg_loss': 2.027746, 'test_total': 113, 'val_loss': 171.217324, 'val_avg_loss': 1.515198, 'val_total': 113}\n",
      "2022-12-22 19:23:59,607 (client:260)INFO: {'Role': 'Client #1', 'Round': 17, 'Results_raw': {'train_loss': 3012.113031, 'train_avg_loss': 3.343078, 'train_total': 901}}\n",
      "2022-12-22 19:23:59,609 (server:496)INFO: {'Role': 'Server #', 'Round': 17, 'Results_avg': {'test_loss': 448.253539, 'test_avg_loss': 3.966845, 'test_total': 113.0, 'val_loss': 301.560406, 'val_avg_loss': 2.668676, 'val_total': 113.0}}\n",
      "2022-12-22 19:23:59,610 (monitor:936)INFO: Current best: {'test_loss': 229.135253, 'test_avg_loss': 2.027746, 'test_total': 113.0, 'val_loss': 171.217324, 'val_avg_loss': 1.515198, 'val_total': 113.0}\n",
      "2022-12-22 19:23:59,612 (monitor:936)INFO: Current best: {'test_loss': 229.135253, 'test_avg_loss': 2.027746, 'test_total': 113.0, 'val_loss': 171.217324, 'val_avg_loss': 1.515198, 'val_total': 113.0}\n",
      "2022-12-22 19:23:59,613 (server:323)INFO: Server #0: Starting evaluation at the end of round 17.\n",
      "2022-12-22 19:23:59,615 (server:330)INFO: ----------- Starting a new training round (Round #18) -------------\n",
      "2022-12-22 19:23:59,655 (client:415)INFO: {'Role': 'Client #1', 'Round': 18, 'Results_raw': {'test_loss': 467.792017, 'test_avg_loss': 4.139752, 'test_total': 113, 'val_loss': 347.190203, 'val_avg_loss': 3.07248, 'val_total': 113}}\n",
      "2022-12-22 19:23:59,656 (monitor:936)INFO: Current best: {'test_loss': 229.135253, 'test_avg_loss': 2.027746, 'test_total': 113, 'val_loss': 171.217324, 'val_avg_loss': 1.515198, 'val_total': 113}\n",
      "2022-12-22 19:23:59,809 (client:260)INFO: {'Role': 'Client #1', 'Round': 18, 'Results_raw': {'train_loss': 2400.850418, 'train_avg_loss': 2.664651, 'train_total': 901}}\n",
      "2022-12-22 19:23:59,811 (server:496)INFO: {'Role': 'Server #', 'Round': 18, 'Results_avg': {'test_loss': 467.792017, 'test_avg_loss': 4.139752, 'test_total': 113.0, 'val_loss': 347.190203, 'val_avg_loss': 3.07248, 'val_total': 113.0}}\n",
      "2022-12-22 19:23:59,812 (monitor:936)INFO: Current best: {'test_loss': 229.135253, 'test_avg_loss': 2.027746, 'test_total': 113.0, 'val_loss': 171.217324, 'val_avg_loss': 1.515198, 'val_total': 113.0}\n",
      "2022-12-22 19:23:59,813 (monitor:936)INFO: Current best: {'test_loss': 229.135253, 'test_avg_loss': 2.027746, 'test_total': 113.0, 'val_loss': 171.217324, 'val_avg_loss': 1.515198, 'val_total': 113.0}\n",
      "2022-12-22 19:23:59,815 (server:323)INFO: Server #0: Starting evaluation at the end of round 18.\n",
      "2022-12-22 19:23:59,816 (server:330)INFO: ----------- Starting a new training round (Round #19) -------------\n",
      "2022-12-22 19:23:59,870 (client:415)INFO: {'Role': 'Client #1', 'Round': 19, 'Results_raw': {'test_loss': 392.614375, 'test_avg_loss': 3.474463, 'test_total': 113, 'val_loss': 370.448513, 'val_avg_loss': 3.278305, 'val_total': 113}}\n",
      "2022-12-22 19:23:59,871 (monitor:936)INFO: Current best: {'test_loss': 229.135253, 'test_avg_loss': 2.027746, 'test_total': 113, 'val_loss': 171.217324, 'val_avg_loss': 1.515198, 'val_total': 113}\n",
      "2022-12-22 19:24:00,034 (client:260)INFO: {'Role': 'Client #1', 'Round': 19, 'Results_raw': {'train_loss': 3002.473431, 'train_avg_loss': 3.332379, 'train_total': 901}}\n",
      "2022-12-22 19:24:00,036 (server:496)INFO: {'Role': 'Server #', 'Round': 19, 'Results_avg': {'test_loss': 392.614375, 'test_avg_loss': 3.474463, 'test_total': 113.0, 'val_loss': 370.448513, 'val_avg_loss': 3.278305, 'val_total': 113.0}}\n",
      "2022-12-22 19:24:00,037 (monitor:936)INFO: Current best: {'test_loss': 229.135253, 'test_avg_loss': 2.027746, 'test_total': 113.0, 'val_loss': 171.217324, 'val_avg_loss': 1.515198, 'val_total': 113.0}\n",
      "2022-12-22 19:24:00,039 (monitor:936)INFO: Current best: {'test_loss': 229.135253, 'test_avg_loss': 2.027746, 'test_total': 113.0, 'val_loss': 171.217324, 'val_avg_loss': 1.515198, 'val_total': 113.0}\n",
      "2022-12-22 19:24:00,042 (server:323)INFO: Server #0: Starting evaluation at the end of round 19.\n",
      "2022-12-22 19:24:00,042 (server:330)INFO: ----------- Starting a new training round (Round #20) -------------\n",
      "2022-12-22 19:24:00,073 (client:415)INFO: {'Role': 'Client #1', 'Round': 20, 'Results_raw': {'test_loss': 356.645648, 'test_avg_loss': 3.156156, 'test_total': 113, 'val_loss': 322.986803, 'val_avg_loss': 2.85829, 'val_total': 113}}\n",
      "2022-12-22 19:24:00,074 (monitor:936)INFO: Current best: {'test_loss': 229.135253, 'test_avg_loss': 2.027746, 'test_total': 113, 'val_loss': 171.217324, 'val_avg_loss': 1.515198, 'val_total': 113}\n",
      "2022-12-22 19:24:00,222 (client:260)INFO: {'Role': 'Client #1', 'Round': 20, 'Results_raw': {'train_loss': 2181.438759, 'train_avg_loss': 2.421131, 'train_total': 901}}\n",
      "2022-12-22 19:24:00,225 (server:496)INFO: {'Role': 'Server #', 'Round': 20, 'Results_avg': {'test_loss': 356.645648, 'test_avg_loss': 3.156156, 'test_total': 113.0, 'val_loss': 322.986803, 'val_avg_loss': 2.85829, 'val_total': 113.0}}\n",
      "2022-12-22 19:24:00,226 (monitor:936)INFO: Current best: {'test_loss': 229.135253, 'test_avg_loss': 2.027746, 'test_total': 113.0, 'val_loss': 171.217324, 'val_avg_loss': 1.515198, 'val_total': 113.0}\n",
      "2022-12-22 19:24:00,227 (monitor:936)INFO: Current best: {'test_loss': 229.135253, 'test_avg_loss': 2.027746, 'test_total': 113.0, 'val_loss': 171.217324, 'val_avg_loss': 1.515198, 'val_total': 113.0}\n",
      "2022-12-22 19:24:00,229 (server:323)INFO: Server #0: Starting evaluation at the end of round 20.\n",
      "2022-12-22 19:24:00,231 (server:330)INFO: ----------- Starting a new training round (Round #21) -------------\n",
      "2022-12-22 19:24:00,271 (client:415)INFO: {'Role': 'Client #1', 'Round': 21, 'Results_raw': {'test_loss': 402.726509, 'test_avg_loss': 3.563951, 'test_total': 113, 'val_loss': 325.451243, 'val_avg_loss': 2.880099, 'val_total': 113}}\n",
      "2022-12-22 19:24:00,272 (monitor:936)INFO: Current best: {'test_loss': 229.135253, 'test_avg_loss': 2.027746, 'test_total': 113, 'val_loss': 171.217324, 'val_avg_loss': 1.515198, 'val_total': 113}\n",
      "2022-12-22 19:24:00,415 (client:260)INFO: {'Role': 'Client #1', 'Round': 21, 'Results_raw': {'train_loss': 2480.844478, 'train_avg_loss': 2.753434, 'train_total': 901}}\n",
      "2022-12-22 19:24:00,417 (server:496)INFO: {'Role': 'Server #', 'Round': 21, 'Results_avg': {'test_loss': 402.726509, 'test_avg_loss': 3.563951, 'test_total': 113.0, 'val_loss': 325.451243, 'val_avg_loss': 2.880099, 'val_total': 113.0}}\n",
      "2022-12-22 19:24:00,418 (monitor:936)INFO: Current best: {'test_loss': 229.135253, 'test_avg_loss': 2.027746, 'test_total': 113.0, 'val_loss': 171.217324, 'val_avg_loss': 1.515198, 'val_total': 113.0}\n",
      "2022-12-22 19:24:00,419 (monitor:936)INFO: Current best: {'test_loss': 229.135253, 'test_avg_loss': 2.027746, 'test_total': 113.0, 'val_loss': 171.217324, 'val_avg_loss': 1.515198, 'val_total': 113.0}\n",
      "2022-12-22 19:24:00,420 (server:323)INFO: Server #0: Starting evaluation at the end of round 21.\n",
      "2022-12-22 19:24:00,421 (server:330)INFO: ----------- Starting a new training round (Round #22) -------------\n",
      "2022-12-22 19:24:00,461 (client:415)INFO: {'Role': 'Client #1', 'Round': 22, 'Results_raw': {'test_loss': 463.638646, 'test_avg_loss': 4.102997, 'test_total': 113, 'val_loss': 332.46519, 'val_avg_loss': 2.94217, 'val_total': 113}}\n",
      "2022-12-22 19:24:00,463 (monitor:936)INFO: Current best: {'test_loss': 229.135253, 'test_avg_loss': 2.027746, 'test_total': 113, 'val_loss': 171.217324, 'val_avg_loss': 1.515198, 'val_total': 113}\n",
      "2022-12-22 19:24:00,617 (client:260)INFO: {'Role': 'Client #1', 'Round': 22, 'Results_raw': {'train_loss': 2408.526669, 'train_avg_loss': 2.673171, 'train_total': 901}}\n",
      "2022-12-22 19:24:00,619 (server:496)INFO: {'Role': 'Server #', 'Round': 22, 'Results_avg': {'test_loss': 463.638646, 'test_avg_loss': 4.102997, 'test_total': 113.0, 'val_loss': 332.46519, 'val_avg_loss': 2.94217, 'val_total': 113.0}}\n",
      "2022-12-22 19:24:00,620 (monitor:936)INFO: Current best: {'test_loss': 229.135253, 'test_avg_loss': 2.027746, 'test_total': 113.0, 'val_loss': 171.217324, 'val_avg_loss': 1.515198, 'val_total': 113.0}\n",
      "2022-12-22 19:24:00,621 (monitor:936)INFO: Current best: {'test_loss': 229.135253, 'test_avg_loss': 2.027746, 'test_total': 113.0, 'val_loss': 171.217324, 'val_avg_loss': 1.515198, 'val_total': 113.0}\n",
      "2022-12-22 19:24:00,622 (server:323)INFO: Server #0: Starting evaluation at the end of round 22.\n",
      "2022-12-22 19:24:00,623 (server:330)INFO: ----------- Starting a new training round (Round #23) -------------\n",
      "2022-12-22 19:24:00,657 (client:415)INFO: {'Role': 'Client #1', 'Round': 23, 'Results_raw': {'test_loss': 397.491035, 'test_avg_loss': 3.51762, 'test_total': 113, 'val_loss': 305.970691, 'val_avg_loss': 2.707705, 'val_total': 113}}\n",
      "2022-12-22 19:24:00,659 (monitor:936)INFO: Current best: {'test_loss': 229.135253, 'test_avg_loss': 2.027746, 'test_total': 113, 'val_loss': 171.217324, 'val_avg_loss': 1.515198, 'val_total': 113}\n",
      "2022-12-22 19:24:00,822 (client:260)INFO: {'Role': 'Client #1', 'Round': 23, 'Results_raw': {'train_loss': 2279.453058, 'train_avg_loss': 2.529915, 'train_total': 901}}\n",
      "2022-12-22 19:24:00,824 (server:496)INFO: {'Role': 'Server #', 'Round': 23, 'Results_avg': {'test_loss': 397.491035, 'test_avg_loss': 3.51762, 'test_total': 113.0, 'val_loss': 305.970691, 'val_avg_loss': 2.707705, 'val_total': 113.0}}\n",
      "2022-12-22 19:24:00,825 (monitor:936)INFO: Current best: {'test_loss': 229.135253, 'test_avg_loss': 2.027746, 'test_total': 113.0, 'val_loss': 171.217324, 'val_avg_loss': 1.515198, 'val_total': 113.0}\n",
      "2022-12-22 19:24:00,827 (monitor:936)INFO: Current best: {'test_loss': 229.135253, 'test_avg_loss': 2.027746, 'test_total': 113.0, 'val_loss': 171.217324, 'val_avg_loss': 1.515198, 'val_total': 113.0}\n",
      "2022-12-22 19:24:00,829 (server:323)INFO: Server #0: Starting evaluation at the end of round 23.\n",
      "2022-12-22 19:24:00,829 (server:330)INFO: ----------- Starting a new training round (Round #24) -------------\n",
      "2022-12-22 19:24:00,871 (client:415)INFO: {'Role': 'Client #1', 'Round': 24, 'Results_raw': {'test_loss': 1582.634093, 'test_avg_loss': 14.005611, 'test_total': 113, 'val_loss': 1620.633707, 'val_avg_loss': 14.341891, 'val_total': 113}}\n",
      "2022-12-22 19:24:00,872 (monitor:936)INFO: Current best: {'test_loss': 229.135253, 'test_avg_loss': 2.027746, 'test_total': 113, 'val_loss': 171.217324, 'val_avg_loss': 1.515198, 'val_total': 113}\n",
      "2022-12-22 19:24:01,016 (client:260)INFO: {'Role': 'Client #1', 'Round': 24, 'Results_raw': {'train_loss': 2377.222985, 'train_avg_loss': 2.638427, 'train_total': 901}}\n",
      "2022-12-22 19:24:01,018 (server:496)INFO: {'Role': 'Server #', 'Round': 24, 'Results_avg': {'test_loss': 1582.634093, 'test_avg_loss': 14.005611, 'test_total': 113.0, 'val_loss': 1620.633707, 'val_avg_loss': 14.341891, 'val_total': 113.0}}\n",
      "2022-12-22 19:24:01,018 (monitor:936)INFO: Current best: {'test_loss': 229.135253, 'test_avg_loss': 2.027746, 'test_total': 113.0, 'val_loss': 171.217324, 'val_avg_loss': 1.515198, 'val_total': 113.0}\n",
      "2022-12-22 19:24:01,020 (monitor:936)INFO: Current best: {'test_loss': 229.135253, 'test_avg_loss': 2.027746, 'test_total': 113.0, 'val_loss': 171.217324, 'val_avg_loss': 1.515198, 'val_total': 113.0}\n",
      "2022-12-22 19:24:01,022 (server:323)INFO: Server #0: Starting evaluation at the end of round 24.\n",
      "2022-12-22 19:24:01,022 (server:330)INFO: ----------- Starting a new training round (Round #25) -------------\n",
      "2022-12-22 19:24:01,054 (client:415)INFO: {'Role': 'Client #1', 'Round': 25, 'Results_raw': {'test_loss': 333.114727, 'test_avg_loss': 2.947918, 'test_total': 113, 'val_loss': 259.393136, 'val_avg_loss': 2.295514, 'val_total': 113}}\n",
      "2022-12-22 19:24:01,055 (monitor:936)INFO: Current best: {'test_loss': 229.135253, 'test_avg_loss': 2.027746, 'test_total': 113, 'val_loss': 171.217324, 'val_avg_loss': 1.515198, 'val_total': 113}\n",
      "2022-12-22 19:24:01,191 (client:260)INFO: {'Role': 'Client #1', 'Round': 25, 'Results_raw': {'train_loss': 2107.345753, 'train_avg_loss': 2.338897, 'train_total': 901}}\n",
      "2022-12-22 19:24:01,193 (server:496)INFO: {'Role': 'Server #', 'Round': 25, 'Results_avg': {'test_loss': 333.114727, 'test_avg_loss': 2.947918, 'test_total': 113.0, 'val_loss': 259.393136, 'val_avg_loss': 2.295514, 'val_total': 113.0}}\n",
      "2022-12-22 19:24:01,194 (monitor:936)INFO: Current best: {'test_loss': 229.135253, 'test_avg_loss': 2.027746, 'test_total': 113.0, 'val_loss': 171.217324, 'val_avg_loss': 1.515198, 'val_total': 113.0}\n",
      "2022-12-22 19:24:01,196 (monitor:936)INFO: Current best: {'test_loss': 229.135253, 'test_avg_loss': 2.027746, 'test_total': 113.0, 'val_loss': 171.217324, 'val_avg_loss': 1.515198, 'val_total': 113.0}\n",
      "2022-12-22 19:24:01,199 (server:323)INFO: Server #0: Starting evaluation at the end of round 25.\n",
      "2022-12-22 19:24:01,200 (server:330)INFO: ----------- Starting a new training round (Round #26) -------------\n",
      "2022-12-22 19:24:01,234 (client:415)INFO: {'Role': 'Client #1', 'Round': 26, 'Results_raw': {'test_loss': 575.490088, 'test_avg_loss': 5.092833, 'test_total': 113, 'val_loss': 638.057914, 'val_avg_loss': 5.64653, 'val_total': 113}}\n",
      "2022-12-22 19:24:01,235 (monitor:936)INFO: Current best: {'test_loss': 229.135253, 'test_avg_loss': 2.027746, 'test_total': 113, 'val_loss': 171.217324, 'val_avg_loss': 1.515198, 'val_total': 113}\n",
      "2022-12-22 19:24:01,382 (client:260)INFO: {'Role': 'Client #1', 'Round': 26, 'Results_raw': {'train_loss': 2068.692459, 'train_avg_loss': 2.295996, 'train_total': 901}}\n",
      "2022-12-22 19:24:01,383 (server:496)INFO: {'Role': 'Server #', 'Round': 26, 'Results_avg': {'test_loss': 575.490088, 'test_avg_loss': 5.092833, 'test_total': 113.0, 'val_loss': 638.057914, 'val_avg_loss': 5.64653, 'val_total': 113.0}}\n",
      "2022-12-22 19:24:01,384 (monitor:936)INFO: Current best: {'test_loss': 229.135253, 'test_avg_loss': 2.027746, 'test_total': 113.0, 'val_loss': 171.217324, 'val_avg_loss': 1.515198, 'val_total': 113.0}\n",
      "2022-12-22 19:24:01,385 (monitor:936)INFO: Current best: {'test_loss': 229.135253, 'test_avg_loss': 2.027746, 'test_total': 113.0, 'val_loss': 171.217324, 'val_avg_loss': 1.515198, 'val_total': 113.0}\n",
      "2022-12-22 19:24:01,387 (server:323)INFO: Server #0: Starting evaluation at the end of round 26.\n",
      "2022-12-22 19:24:01,387 (server:330)INFO: ----------- Starting a new training round (Round #27) -------------\n",
      "2022-12-22 19:24:01,419 (client:415)INFO: {'Role': 'Client #1', 'Round': 27, 'Results_raw': {'test_loss': 383.63775, 'test_avg_loss': 3.395024, 'test_total': 113, 'val_loss': 374.385812, 'val_avg_loss': 3.313149, 'val_total': 113}}\n",
      "2022-12-22 19:24:01,420 (monitor:936)INFO: Current best: {'test_loss': 229.135253, 'test_avg_loss': 2.027746, 'test_total': 113, 'val_loss': 171.217324, 'val_avg_loss': 1.515198, 'val_total': 113}\n",
      "2022-12-22 19:24:01,556 (client:260)INFO: {'Role': 'Client #1', 'Round': 27, 'Results_raw': {'train_loss': 1985.105801, 'train_avg_loss': 2.203225, 'train_total': 901}}\n",
      "2022-12-22 19:24:01,558 (server:496)INFO: {'Role': 'Server #', 'Round': 27, 'Results_avg': {'test_loss': 383.63775, 'test_avg_loss': 3.395024, 'test_total': 113.0, 'val_loss': 374.385812, 'val_avg_loss': 3.313149, 'val_total': 113.0}}\n",
      "2022-12-22 19:24:01,559 (monitor:936)INFO: Current best: {'test_loss': 229.135253, 'test_avg_loss': 2.027746, 'test_total': 113.0, 'val_loss': 171.217324, 'val_avg_loss': 1.515198, 'val_total': 113.0}\n",
      "2022-12-22 19:24:01,561 (monitor:936)INFO: Current best: {'test_loss': 229.135253, 'test_avg_loss': 2.027746, 'test_total': 113.0, 'val_loss': 171.217324, 'val_avg_loss': 1.515198, 'val_total': 113.0}\n",
      "2022-12-22 19:24:01,563 (server:323)INFO: Server #0: Starting evaluation at the end of round 27.\n",
      "2022-12-22 19:24:01,564 (server:330)INFO: ----------- Starting a new training round (Round #28) -------------\n",
      "2022-12-22 19:24:01,601 (client:415)INFO: {'Role': 'Client #1', 'Round': 28, 'Results_raw': {'test_loss': 533.222157, 'test_avg_loss': 4.71878, 'test_total': 113, 'val_loss': 554.318738, 'val_avg_loss': 4.905476, 'val_total': 113}}\n",
      "2022-12-22 19:24:01,602 (monitor:936)INFO: Current best: {'test_loss': 229.135253, 'test_avg_loss': 2.027746, 'test_total': 113, 'val_loss': 171.217324, 'val_avg_loss': 1.515198, 'val_total': 113}\n",
      "2022-12-22 19:24:01,738 (client:260)INFO: {'Role': 'Client #1', 'Round': 28, 'Results_raw': {'train_loss': 2175.402354, 'train_avg_loss': 2.414431, 'train_total': 901}}\n",
      "2022-12-22 19:24:01,740 (server:496)INFO: {'Role': 'Server #', 'Round': 28, 'Results_avg': {'test_loss': 533.222157, 'test_avg_loss': 4.71878, 'test_total': 113.0, 'val_loss': 554.318738, 'val_avg_loss': 4.905476, 'val_total': 113.0}}\n",
      "2022-12-22 19:24:01,741 (monitor:936)INFO: Current best: {'test_loss': 229.135253, 'test_avg_loss': 2.027746, 'test_total': 113.0, 'val_loss': 171.217324, 'val_avg_loss': 1.515198, 'val_total': 113.0}\n",
      "2022-12-22 19:24:01,742 (monitor:936)INFO: Current best: {'test_loss': 229.135253, 'test_avg_loss': 2.027746, 'test_total': 113.0, 'val_loss': 171.217324, 'val_avg_loss': 1.515198, 'val_total': 113.0}\n",
      "2022-12-22 19:24:01,744 (server:323)INFO: Server #0: Starting evaluation at the end of round 28.\n",
      "2022-12-22 19:24:01,745 (server:330)INFO: ----------- Starting a new training round (Round #29) -------------\n",
      "2022-12-22 19:24:01,776 (client:415)INFO: {'Role': 'Client #1', 'Round': 29, 'Results_raw': {'test_loss': 604.458466, 'test_avg_loss': 5.34919, 'test_total': 113, 'val_loss': 569.328982, 'val_avg_loss': 5.03831, 'val_total': 113}}\n",
      "2022-12-22 19:24:01,777 (monitor:936)INFO: Current best: {'test_loss': 229.135253, 'test_avg_loss': 2.027746, 'test_total': 113, 'val_loss': 171.217324, 'val_avg_loss': 1.515198, 'val_total': 113}\n",
      "2022-12-22 19:24:01,915 (client:260)INFO: {'Role': 'Client #1', 'Round': 29, 'Results_raw': {'train_loss': 2146.441107, 'train_avg_loss': 2.382288, 'train_total': 901}}\n",
      "2022-12-22 19:24:01,917 (server:496)INFO: {'Role': 'Server #', 'Round': 29, 'Results_avg': {'test_loss': 604.458466, 'test_avg_loss': 5.34919, 'test_total': 113.0, 'val_loss': 569.328982, 'val_avg_loss': 5.03831, 'val_total': 113.0}}\n",
      "2022-12-22 19:24:01,918 (monitor:936)INFO: Current best: {'test_loss': 229.135253, 'test_avg_loss': 2.027746, 'test_total': 113.0, 'val_loss': 171.217324, 'val_avg_loss': 1.515198, 'val_total': 113.0}\n",
      "2022-12-22 19:24:01,920 (monitor:936)INFO: Current best: {'test_loss': 229.135253, 'test_avg_loss': 2.027746, 'test_total': 113.0, 'val_loss': 171.217324, 'val_avg_loss': 1.515198, 'val_total': 113.0}\n",
      "2022-12-22 19:24:01,922 (server:323)INFO: Server #0: Starting evaluation at the end of round 29.\n",
      "2022-12-22 19:24:01,923 (server:330)INFO: ----------- Starting a new training round (Round #30) -------------\n",
      "2022-12-22 19:24:01,956 (client:415)INFO: {'Role': 'Client #1', 'Round': 30, 'Results_raw': {'test_loss': 1178.331834, 'test_avg_loss': 10.427715, 'test_total': 113, 'val_loss': 1278.220183, 'val_avg_loss': 11.311683, 'val_total': 113}}\n",
      "2022-12-22 19:24:01,957 (monitor:936)INFO: Current best: {'test_loss': 229.135253, 'test_avg_loss': 2.027746, 'test_total': 113, 'val_loss': 171.217324, 'val_avg_loss': 1.515198, 'val_total': 113}\n",
      "2022-12-22 19:24:02,095 (client:260)INFO: {'Role': 'Client #1', 'Round': 30, 'Results_raw': {'train_loss': 3038.466808, 'train_avg_loss': 3.372327, 'train_total': 901}}\n",
      "2022-12-22 19:24:02,097 (server:496)INFO: {'Role': 'Server #', 'Round': 30, 'Results_avg': {'test_loss': 1178.331834, 'test_avg_loss': 10.427715, 'test_total': 113.0, 'val_loss': 1278.220183, 'val_avg_loss': 11.311683, 'val_total': 113.0}}\n",
      "2022-12-22 19:24:02,097 (monitor:936)INFO: Current best: {'test_loss': 229.135253, 'test_avg_loss': 2.027746, 'test_total': 113.0, 'val_loss': 171.217324, 'val_avg_loss': 1.515198, 'val_total': 113.0}\n",
      "2022-12-22 19:24:02,099 (monitor:936)INFO: Current best: {'test_loss': 229.135253, 'test_avg_loss': 2.027746, 'test_total': 113.0, 'val_loss': 171.217324, 'val_avg_loss': 1.515198, 'val_total': 113.0}\n",
      "2022-12-22 19:24:02,100 (server:323)INFO: Server #0: Starting evaluation at the end of round 30.\n",
      "2022-12-22 19:24:02,101 (server:330)INFO: ----------- Starting a new training round (Round #31) -------------\n",
      "2022-12-22 19:24:02,131 (client:415)INFO: {'Role': 'Client #1', 'Round': 31, 'Results_raw': {'test_loss': 361.340173, 'test_avg_loss': 3.197701, 'test_total': 113, 'val_loss': 300.945115, 'val_avg_loss': 2.663231, 'val_total': 113}}\n",
      "2022-12-22 19:24:02,132 (monitor:936)INFO: Current best: {'test_loss': 229.135253, 'test_avg_loss': 2.027746, 'test_total': 113, 'val_loss': 171.217324, 'val_avg_loss': 1.515198, 'val_total': 113}\n",
      "2022-12-22 19:24:02,267 (client:260)INFO: {'Role': 'Client #1', 'Round': 31, 'Results_raw': {'train_loss': 2328.360231, 'train_avg_loss': 2.584196, 'train_total': 901}}\n",
      "2022-12-22 19:24:02,268 (server:496)INFO: {'Role': 'Server #', 'Round': 31, 'Results_avg': {'test_loss': 361.340173, 'test_avg_loss': 3.197701, 'test_total': 113.0, 'val_loss': 300.945115, 'val_avg_loss': 2.663231, 'val_total': 113.0}}\n",
      "2022-12-22 19:24:02,269 (monitor:936)INFO: Current best: {'test_loss': 229.135253, 'test_avg_loss': 2.027746, 'test_total': 113.0, 'val_loss': 171.217324, 'val_avg_loss': 1.515198, 'val_total': 113.0}\n",
      "2022-12-22 19:24:02,270 (monitor:936)INFO: Current best: {'test_loss': 229.135253, 'test_avg_loss': 2.027746, 'test_total': 113.0, 'val_loss': 171.217324, 'val_avg_loss': 1.515198, 'val_total': 113.0}\n",
      "2022-12-22 19:24:02,272 (server:323)INFO: Server #0: Starting evaluation at the end of round 31.\n",
      "2022-12-22 19:24:02,273 (server:330)INFO: ----------- Starting a new training round (Round #32) -------------\n",
      "2022-12-22 19:24:02,308 (client:415)INFO: {'Role': 'Client #1', 'Round': 32, 'Results_raw': {'test_loss': 357.705842, 'test_avg_loss': 3.165538, 'test_total': 113, 'val_loss': 340.163201, 'val_avg_loss': 3.010294, 'val_total': 113}}\n",
      "2022-12-22 19:24:02,310 (monitor:936)INFO: Current best: {'test_loss': 229.135253, 'test_avg_loss': 2.027746, 'test_total': 113, 'val_loss': 171.217324, 'val_avg_loss': 1.515198, 'val_total': 113}\n",
      "2022-12-22 19:24:02,427 (client:260)INFO: {'Role': 'Client #1', 'Round': 32, 'Results_raw': {'train_loss': 2121.487531, 'train_avg_loss': 2.354592, 'train_total': 901}}\n",
      "2022-12-22 19:24:02,429 (server:496)INFO: {'Role': 'Server #', 'Round': 32, 'Results_avg': {'test_loss': 357.705842, 'test_avg_loss': 3.165538, 'test_total': 113.0, 'val_loss': 340.163201, 'val_avg_loss': 3.010294, 'val_total': 113.0}}\n",
      "2022-12-22 19:24:02,431 (monitor:936)INFO: Current best: {'test_loss': 229.135253, 'test_avg_loss': 2.027746, 'test_total': 113.0, 'val_loss': 171.217324, 'val_avg_loss': 1.515198, 'val_total': 113.0}\n",
      "2022-12-22 19:24:02,432 (monitor:936)INFO: Current best: {'test_loss': 229.135253, 'test_avg_loss': 2.027746, 'test_total': 113.0, 'val_loss': 171.217324, 'val_avg_loss': 1.515198, 'val_total': 113.0}\n",
      "2022-12-22 19:24:02,434 (server:323)INFO: Server #0: Starting evaluation at the end of round 32.\n",
      "2022-12-22 19:24:02,435 (server:330)INFO: ----------- Starting a new training round (Round #33) -------------\n",
      "2022-12-22 19:24:02,465 (client:415)INFO: {'Role': 'Client #1', 'Round': 33, 'Results_raw': {'test_loss': 342.883959, 'test_avg_loss': 3.034371, 'test_total': 113, 'val_loss': 294.336502, 'val_avg_loss': 2.604748, 'val_total': 113}}\n",
      "2022-12-22 19:24:02,466 (monitor:936)INFO: Current best: {'test_loss': 229.135253, 'test_avg_loss': 2.027746, 'test_total': 113, 'val_loss': 171.217324, 'val_avg_loss': 1.515198, 'val_total': 113}\n",
      "2022-12-22 19:24:02,577 (client:260)INFO: {'Role': 'Client #1', 'Round': 33, 'Results_raw': {'train_loss': 2746.187697, 'train_avg_loss': 3.047933, 'train_total': 901}}\n",
      "2022-12-22 19:24:02,579 (server:496)INFO: {'Role': 'Server #', 'Round': 33, 'Results_avg': {'test_loss': 342.883959, 'test_avg_loss': 3.034371, 'test_total': 113.0, 'val_loss': 294.336502, 'val_avg_loss': 2.604748, 'val_total': 113.0}}\n",
      "2022-12-22 19:24:02,580 (monitor:936)INFO: Current best: {'test_loss': 229.135253, 'test_avg_loss': 2.027746, 'test_total': 113.0, 'val_loss': 171.217324, 'val_avg_loss': 1.515198, 'val_total': 113.0}\n",
      "2022-12-22 19:24:02,582 (monitor:936)INFO: Current best: {'test_loss': 229.135253, 'test_avg_loss': 2.027746, 'test_total': 113.0, 'val_loss': 171.217324, 'val_avg_loss': 1.515198, 'val_total': 113.0}\n",
      "2022-12-22 19:24:02,584 (server:323)INFO: Server #0: Starting evaluation at the end of round 33.\n",
      "2022-12-22 19:24:02,585 (server:330)INFO: ----------- Starting a new training round (Round #34) -------------\n",
      "2022-12-22 19:24:02,618 (client:415)INFO: {'Role': 'Client #1', 'Round': 34, 'Results_raw': {'test_loss': 315.809257, 'test_avg_loss': 2.794772, 'test_total': 113, 'val_loss': 266.520095, 'val_avg_loss': 2.358585, 'val_total': 113}}\n",
      "2022-12-22 19:24:02,619 (monitor:936)INFO: Current best: {'test_loss': 229.135253, 'test_avg_loss': 2.027746, 'test_total': 113, 'val_loss': 171.217324, 'val_avg_loss': 1.515198, 'val_total': 113}\n",
      "2022-12-22 19:24:02,750 (client:260)INFO: {'Role': 'Client #1', 'Round': 34, 'Results_raw': {'train_loss': 2142.132801, 'train_avg_loss': 2.377506, 'train_total': 901}}\n",
      "2022-12-22 19:24:02,753 (server:496)INFO: {'Role': 'Server #', 'Round': 34, 'Results_avg': {'test_loss': 315.809257, 'test_avg_loss': 2.794772, 'test_total': 113.0, 'val_loss': 266.520095, 'val_avg_loss': 2.358585, 'val_total': 113.0}}\n",
      "2022-12-22 19:24:02,754 (monitor:936)INFO: Current best: {'test_loss': 229.135253, 'test_avg_loss': 2.027746, 'test_total': 113.0, 'val_loss': 171.217324, 'val_avg_loss': 1.515198, 'val_total': 113.0}\n",
      "2022-12-22 19:24:02,755 (monitor:936)INFO: Current best: {'test_loss': 229.135253, 'test_avg_loss': 2.027746, 'test_total': 113.0, 'val_loss': 171.217324, 'val_avg_loss': 1.515198, 'val_total': 113.0}\n",
      "2022-12-22 19:24:02,757 (server:323)INFO: Server #0: Starting evaluation at the end of round 34.\n",
      "2022-12-22 19:24:02,758 (server:330)INFO: ----------- Starting a new training round (Round #35) -------------\n",
      "2022-12-22 19:24:02,795 (client:415)INFO: {'Role': 'Client #1', 'Round': 35, 'Results_raw': {'test_loss': 486.345765, 'test_avg_loss': 4.303945, 'test_total': 113, 'val_loss': 537.542855, 'val_avg_loss': 4.757016, 'val_total': 113}}\n",
      "2022-12-22 19:24:02,796 (monitor:936)INFO: Current best: {'test_loss': 229.135253, 'test_avg_loss': 2.027746, 'test_total': 113, 'val_loss': 171.217324, 'val_avg_loss': 1.515198, 'val_total': 113}\n",
      "2022-12-22 19:24:02,932 (client:260)INFO: {'Role': 'Client #1', 'Round': 35, 'Results_raw': {'train_loss': 2237.446922, 'train_avg_loss': 2.483293, 'train_total': 901}}\n",
      "2022-12-22 19:24:02,934 (server:496)INFO: {'Role': 'Server #', 'Round': 35, 'Results_avg': {'test_loss': 486.345765, 'test_avg_loss': 4.303945, 'test_total': 113.0, 'val_loss': 537.542855, 'val_avg_loss': 4.757016, 'val_total': 113.0}}\n",
      "2022-12-22 19:24:02,935 (monitor:936)INFO: Current best: {'test_loss': 229.135253, 'test_avg_loss': 2.027746, 'test_total': 113.0, 'val_loss': 171.217324, 'val_avg_loss': 1.515198, 'val_total': 113.0}\n",
      "2022-12-22 19:24:02,937 (monitor:936)INFO: Current best: {'test_loss': 229.135253, 'test_avg_loss': 2.027746, 'test_total': 113.0, 'val_loss': 171.217324, 'val_avg_loss': 1.515198, 'val_total': 113.0}\n",
      "2022-12-22 19:24:02,939 (server:323)INFO: Server #0: Starting evaluation at the end of round 35.\n",
      "2022-12-22 19:24:02,940 (server:330)INFO: ----------- Starting a new training round (Round #36) -------------\n",
      "2022-12-22 19:24:02,973 (client:415)INFO: {'Role': 'Client #1', 'Round': 36, 'Results_raw': {'test_loss': 272.383866, 'test_avg_loss': 2.410477, 'test_total': 113, 'val_loss': 198.946267, 'val_avg_loss': 1.760586, 'val_total': 113}}\n",
      "2022-12-22 19:24:02,974 (monitor:936)INFO: Current best: {'test_loss': 229.135253, 'test_avg_loss': 2.027746, 'test_total': 113, 'val_loss': 171.217324, 'val_avg_loss': 1.515198, 'val_total': 113}\n",
      "2022-12-22 19:24:03,115 (client:260)INFO: {'Role': 'Client #1', 'Round': 36, 'Results_raw': {'train_loss': 1915.403121, 'train_avg_loss': 2.125864, 'train_total': 901}}\n",
      "2022-12-22 19:24:03,117 (server:496)INFO: {'Role': 'Server #', 'Round': 36, 'Results_avg': {'test_loss': 272.383866, 'test_avg_loss': 2.410477, 'test_total': 113.0, 'val_loss': 198.946267, 'val_avg_loss': 1.760586, 'val_total': 113.0}}\n",
      "2022-12-22 19:24:03,118 (monitor:936)INFO: Current best: {'test_loss': 229.135253, 'test_avg_loss': 2.027746, 'test_total': 113.0, 'val_loss': 171.217324, 'val_avg_loss': 1.515198, 'val_total': 113.0}\n",
      "2022-12-22 19:24:03,120 (monitor:936)INFO: Current best: {'test_loss': 229.135253, 'test_avg_loss': 2.027746, 'test_total': 113.0, 'val_loss': 171.217324, 'val_avg_loss': 1.515198, 'val_total': 113.0}\n",
      "2022-12-22 19:24:03,123 (server:323)INFO: Server #0: Starting evaluation at the end of round 36.\n",
      "2022-12-22 19:24:03,124 (server:330)INFO: ----------- Starting a new training round (Round #37) -------------\n",
      "2022-12-22 19:24:03,157 (client:415)INFO: {'Role': 'Client #1', 'Round': 37, 'Results_raw': {'test_loss': 479.946032, 'test_avg_loss': 4.24731, 'test_total': 113, 'val_loss': 464.862967, 'val_avg_loss': 4.113832, 'val_total': 113}}\n",
      "2022-12-22 19:24:03,158 (monitor:936)INFO: Current best: {'test_loss': 229.135253, 'test_avg_loss': 2.027746, 'test_total': 113, 'val_loss': 171.217324, 'val_avg_loss': 1.515198, 'val_total': 113}\n",
      "2022-12-22 19:24:03,276 (client:260)INFO: {'Role': 'Client #1', 'Round': 37, 'Results_raw': {'train_loss': 2131.739449, 'train_avg_loss': 2.365971, 'train_total': 901}}\n",
      "2022-12-22 19:24:03,278 (server:496)INFO: {'Role': 'Server #', 'Round': 37, 'Results_avg': {'test_loss': 479.946032, 'test_avg_loss': 4.24731, 'test_total': 113.0, 'val_loss': 464.862967, 'val_avg_loss': 4.113832, 'val_total': 113.0}}\n",
      "2022-12-22 19:24:03,279 (monitor:936)INFO: Current best: {'test_loss': 229.135253, 'test_avg_loss': 2.027746, 'test_total': 113.0, 'val_loss': 171.217324, 'val_avg_loss': 1.515198, 'val_total': 113.0}\n",
      "2022-12-22 19:24:03,280 (monitor:936)INFO: Current best: {'test_loss': 229.135253, 'test_avg_loss': 2.027746, 'test_total': 113.0, 'val_loss': 171.217324, 'val_avg_loss': 1.515198, 'val_total': 113.0}\n",
      "2022-12-22 19:24:03,282 (server:323)INFO: Server #0: Starting evaluation at the end of round 37.\n",
      "2022-12-22 19:24:03,283 (server:330)INFO: ----------- Starting a new training round (Round #38) -------------\n",
      "2022-12-22 19:24:03,315 (client:415)INFO: {'Role': 'Client #1', 'Round': 38, 'Results_raw': {'test_loss': 557.906085, 'test_avg_loss': 4.937222, 'test_total': 113, 'val_loss': 556.07514, 'val_avg_loss': 4.921019, 'val_total': 113}}\n",
      "2022-12-22 19:24:03,316 (monitor:936)INFO: Current best: {'test_loss': 229.135253, 'test_avg_loss': 2.027746, 'test_total': 113, 'val_loss': 171.217324, 'val_avg_loss': 1.515198, 'val_total': 113}\n",
      "2022-12-22 19:24:03,436 (client:260)INFO: {'Role': 'Client #1', 'Round': 38, 'Results_raw': {'train_loss': 2142.525687, 'train_avg_loss': 2.377942, 'train_total': 901}}\n",
      "2022-12-22 19:24:03,437 (server:496)INFO: {'Role': 'Server #', 'Round': 38, 'Results_avg': {'test_loss': 557.906085, 'test_avg_loss': 4.937222, 'test_total': 113.0, 'val_loss': 556.07514, 'val_avg_loss': 4.921019, 'val_total': 113.0}}\n",
      "2022-12-22 19:24:03,438 (monitor:936)INFO: Current best: {'test_loss': 229.135253, 'test_avg_loss': 2.027746, 'test_total': 113.0, 'val_loss': 171.217324, 'val_avg_loss': 1.515198, 'val_total': 113.0}\n",
      "2022-12-22 19:24:03,439 (monitor:936)INFO: Current best: {'test_loss': 229.135253, 'test_avg_loss': 2.027746, 'test_total': 113.0, 'val_loss': 171.217324, 'val_avg_loss': 1.515198, 'val_total': 113.0}\n",
      "2022-12-22 19:24:03,440 (server:323)INFO: Server #0: Starting evaluation at the end of round 38.\n",
      "2022-12-22 19:24:03,441 (server:330)INFO: ----------- Starting a new training round (Round #39) -------------\n",
      "2022-12-22 19:24:03,474 (client:415)INFO: {'Role': 'Client #1', 'Round': 39, 'Results_raw': {'test_loss': 824.831347, 'test_avg_loss': 7.299392, 'test_total': 113, 'val_loss': 736.295537, 'val_avg_loss': 6.51589, 'val_total': 113}}\n",
      "2022-12-22 19:24:03,475 (monitor:936)INFO: Current best: {'test_loss': 229.135253, 'test_avg_loss': 2.027746, 'test_total': 113, 'val_loss': 171.217324, 'val_avg_loss': 1.515198, 'val_total': 113}\n",
      "2022-12-22 19:24:03,616 (client:260)INFO: {'Role': 'Client #1', 'Round': 39, 'Results_raw': {'train_loss': 3616.300294, 'train_avg_loss': 4.013652, 'train_total': 901}}\n",
      "2022-12-22 19:24:03,618 (server:496)INFO: {'Role': 'Server #', 'Round': 39, 'Results_avg': {'test_loss': 824.831347, 'test_avg_loss': 7.299392, 'test_total': 113.0, 'val_loss': 736.295537, 'val_avg_loss': 6.51589, 'val_total': 113.0}}\n",
      "2022-12-22 19:24:03,620 (monitor:936)INFO: Current best: {'test_loss': 229.135253, 'test_avg_loss': 2.027746, 'test_total': 113.0, 'val_loss': 171.217324, 'val_avg_loss': 1.515198, 'val_total': 113.0}\n",
      "2022-12-22 19:24:03,622 (monitor:936)INFO: Current best: {'test_loss': 229.135253, 'test_avg_loss': 2.027746, 'test_total': 113.0, 'val_loss': 171.217324, 'val_avg_loss': 1.515198, 'val_total': 113.0}\n",
      "2022-12-22 19:24:03,624 (server:323)INFO: Server #0: Starting evaluation at the end of round 39.\n",
      "2022-12-22 19:24:03,625 (server:330)INFO: ----------- Starting a new training round (Round #40) -------------\n",
      "2022-12-22 19:24:03,657 (client:415)INFO: {'Role': 'Client #1', 'Round': 40, 'Results_raw': {'test_loss': 268.804914, 'test_avg_loss': 2.378805, 'test_total': 113, 'val_loss': 234.335676, 'val_avg_loss': 2.073767, 'val_total': 113}}\n",
      "2022-12-22 19:24:03,658 (monitor:936)INFO: Current best: {'test_loss': 229.135253, 'test_avg_loss': 2.027746, 'test_total': 113, 'val_loss': 171.217324, 'val_avg_loss': 1.515198, 'val_total': 113}\n",
      "2022-12-22 19:24:03,805 (client:260)INFO: {'Role': 'Client #1', 'Round': 40, 'Results_raw': {'train_loss': 2061.39563, 'train_avg_loss': 2.287897, 'train_total': 901}}\n",
      "2022-12-22 19:24:03,807 (server:496)INFO: {'Role': 'Server #', 'Round': 40, 'Results_avg': {'test_loss': 268.804914, 'test_avg_loss': 2.378805, 'test_total': 113.0, 'val_loss': 234.335676, 'val_avg_loss': 2.073767, 'val_total': 113.0}}\n",
      "2022-12-22 19:24:03,808 (monitor:936)INFO: Current best: {'test_loss': 229.135253, 'test_avg_loss': 2.027746, 'test_total': 113.0, 'val_loss': 171.217324, 'val_avg_loss': 1.515198, 'val_total': 113.0}\n",
      "2022-12-22 19:24:03,810 (monitor:936)INFO: Current best: {'test_loss': 229.135253, 'test_avg_loss': 2.027746, 'test_total': 113.0, 'val_loss': 171.217324, 'val_avg_loss': 1.515198, 'val_total': 113.0}\n",
      "2022-12-22 19:24:03,813 (server:323)INFO: Server #0: Starting evaluation at the end of round 40.\n",
      "2022-12-22 19:24:03,814 (server:330)INFO: ----------- Starting a new training round (Round #41) -------------\n",
      "2022-12-22 19:24:03,848 (client:415)INFO: {'Role': 'Client #1', 'Round': 41, 'Results_raw': {'test_loss': 280.595832, 'test_avg_loss': 2.483149, 'test_total': 113, 'val_loss': 260.246198, 'val_avg_loss': 2.303064, 'val_total': 113}}\n",
      "2022-12-22 19:24:03,849 (monitor:936)INFO: Current best: {'test_loss': 229.135253, 'test_avg_loss': 2.027746, 'test_total': 113, 'val_loss': 171.217324, 'val_avg_loss': 1.515198, 'val_total': 113}\n",
      "2022-12-22 19:24:04,000 (client:260)INFO: {'Role': 'Client #1', 'Round': 41, 'Results_raw': {'train_loss': 2273.100273, 'train_avg_loss': 2.522864, 'train_total': 901}}\n",
      "2022-12-22 19:24:04,002 (server:496)INFO: {'Role': 'Server #', 'Round': 41, 'Results_avg': {'test_loss': 280.595832, 'test_avg_loss': 2.483149, 'test_total': 113.0, 'val_loss': 260.246198, 'val_avg_loss': 2.303064, 'val_total': 113.0}}\n",
      "2022-12-22 19:24:04,002 (monitor:936)INFO: Current best: {'test_loss': 229.135253, 'test_avg_loss': 2.027746, 'test_total': 113.0, 'val_loss': 171.217324, 'val_avg_loss': 1.515198, 'val_total': 113.0}\n",
      "2022-12-22 19:24:04,004 (monitor:936)INFO: Current best: {'test_loss': 229.135253, 'test_avg_loss': 2.027746, 'test_total': 113.0, 'val_loss': 171.217324, 'val_avg_loss': 1.515198, 'val_total': 113.0}\n",
      "2022-12-22 19:24:04,005 (server:323)INFO: Server #0: Starting evaluation at the end of round 41.\n",
      "2022-12-22 19:24:04,005 (server:330)INFO: ----------- Starting a new training round (Round #42) -------------\n",
      "2022-12-22 19:24:04,037 (client:415)INFO: {'Role': 'Client #1', 'Round': 42, 'Results_raw': {'test_loss': 323.226725, 'test_avg_loss': 2.860413, 'test_total': 113, 'val_loss': 257.940193, 'val_avg_loss': 2.282657, 'val_total': 113}}\n",
      "2022-12-22 19:24:04,038 (monitor:936)INFO: Current best: {'test_loss': 229.135253, 'test_avg_loss': 2.027746, 'test_total': 113, 'val_loss': 171.217324, 'val_avg_loss': 1.515198, 'val_total': 113}\n",
      "2022-12-22 19:24:04,187 (client:260)INFO: {'Role': 'Client #1', 'Round': 42, 'Results_raw': {'train_loss': 2378.845797, 'train_avg_loss': 2.640228, 'train_total': 901}}\n",
      "2022-12-22 19:24:04,189 (server:496)INFO: {'Role': 'Server #', 'Round': 42, 'Results_avg': {'test_loss': 323.226725, 'test_avg_loss': 2.860413, 'test_total': 113.0, 'val_loss': 257.940193, 'val_avg_loss': 2.282657, 'val_total': 113.0}}\n",
      "2022-12-22 19:24:04,189 (monitor:936)INFO: Current best: {'test_loss': 229.135253, 'test_avg_loss': 2.027746, 'test_total': 113.0, 'val_loss': 171.217324, 'val_avg_loss': 1.515198, 'val_total': 113.0}\n",
      "2022-12-22 19:24:04,190 (monitor:936)INFO: Current best: {'test_loss': 229.135253, 'test_avg_loss': 2.027746, 'test_total': 113.0, 'val_loss': 171.217324, 'val_avg_loss': 1.515198, 'val_total': 113.0}\n",
      "2022-12-22 19:24:04,192 (server:323)INFO: Server #0: Starting evaluation at the end of round 42.\n",
      "2022-12-22 19:24:04,192 (server:330)INFO: ----------- Starting a new training round (Round #43) -------------\n",
      "2022-12-22 19:24:04,224 (client:415)INFO: {'Role': 'Client #1', 'Round': 43, 'Results_raw': {'test_loss': 192.280448, 'test_avg_loss': 1.701597, 'test_total': 113, 'val_loss': 181.806268, 'val_avg_loss': 1.608905, 'val_total': 113}}\n",
      "2022-12-22 19:24:04,225 (monitor:936)INFO: Current best: {'test_loss': 229.135253, 'test_avg_loss': 2.027746, 'test_total': 113, 'val_loss': 171.217324, 'val_avg_loss': 1.515198, 'val_total': 113}\n",
      "2022-12-22 19:24:04,366 (client:260)INFO: {'Role': 'Client #1', 'Round': 43, 'Results_raw': {'train_loss': 1981.040047, 'train_avg_loss': 2.198713, 'train_total': 901}}\n",
      "2022-12-22 19:24:04,368 (server:496)INFO: {'Role': 'Server #', 'Round': 43, 'Results_avg': {'test_loss': 192.280448, 'test_avg_loss': 1.701597, 'test_total': 113.0, 'val_loss': 181.806268, 'val_avg_loss': 1.608905, 'val_total': 113.0}}\n",
      "2022-12-22 19:24:04,369 (monitor:936)INFO: Current best: {'test_loss': 229.135253, 'test_avg_loss': 2.027746, 'test_total': 113.0, 'val_loss': 171.217324, 'val_avg_loss': 1.515198, 'val_total': 113.0}\n",
      "2022-12-22 19:24:04,371 (monitor:936)INFO: Current best: {'test_loss': 229.135253, 'test_avg_loss': 2.027746, 'test_total': 113.0, 'val_loss': 171.217324, 'val_avg_loss': 1.515198, 'val_total': 113.0}\n",
      "2022-12-22 19:24:04,373 (server:323)INFO: Server #0: Starting evaluation at the end of round 43.\n",
      "2022-12-22 19:24:04,374 (server:330)INFO: ----------- Starting a new training round (Round #44) -------------\n",
      "2022-12-22 19:24:04,404 (client:415)INFO: {'Role': 'Client #1', 'Round': 44, 'Results_raw': {'test_loss': 690.370851, 'test_avg_loss': 6.109477, 'test_total': 113, 'val_loss': 754.011152, 'val_avg_loss': 6.672665, 'val_total': 113}}\n",
      "2022-12-22 19:24:04,405 (monitor:936)INFO: Current best: {'test_loss': 229.135253, 'test_avg_loss': 2.027746, 'test_total': 113, 'val_loss': 171.217324, 'val_avg_loss': 1.515198, 'val_total': 113}\n",
      "2022-12-22 19:24:04,535 (client:260)INFO: {'Role': 'Client #1', 'Round': 44, 'Results_raw': {'train_loss': 2635.071743, 'train_avg_loss': 2.924608, 'train_total': 901}}\n",
      "2022-12-22 19:24:04,537 (server:496)INFO: {'Role': 'Server #', 'Round': 44, 'Results_avg': {'test_loss': 690.370851, 'test_avg_loss': 6.109477, 'test_total': 113.0, 'val_loss': 754.011152, 'val_avg_loss': 6.672665, 'val_total': 113.0}}\n",
      "2022-12-22 19:24:04,538 (monitor:936)INFO: Current best: {'test_loss': 229.135253, 'test_avg_loss': 2.027746, 'test_total': 113.0, 'val_loss': 171.217324, 'val_avg_loss': 1.515198, 'val_total': 113.0}\n",
      "2022-12-22 19:24:04,540 (monitor:936)INFO: Current best: {'test_loss': 229.135253, 'test_avg_loss': 2.027746, 'test_total': 113.0, 'val_loss': 171.217324, 'val_avg_loss': 1.515198, 'val_total': 113.0}\n",
      "2022-12-22 19:24:04,542 (server:323)INFO: Server #0: Starting evaluation at the end of round 44.\n",
      "2022-12-22 19:24:04,544 (server:330)INFO: ----------- Starting a new training round (Round #45) -------------\n",
      "2022-12-22 19:24:04,575 (client:415)INFO: {'Role': 'Client #1', 'Round': 45, 'Results_raw': {'test_loss': 357.260316, 'test_avg_loss': 3.161596, 'test_total': 113, 'val_loss': 280.761729, 'val_avg_loss': 2.484617, 'val_total': 113}}\n",
      "2022-12-22 19:24:04,576 (monitor:936)INFO: Current best: {'test_loss': 229.135253, 'test_avg_loss': 2.027746, 'test_total': 113, 'val_loss': 171.217324, 'val_avg_loss': 1.515198, 'val_total': 113}\n",
      "2022-12-22 19:24:04,721 (client:260)INFO: {'Role': 'Client #1', 'Round': 45, 'Results_raw': {'train_loss': 2199.289667, 'train_avg_loss': 2.440943, 'train_total': 901}}\n",
      "2022-12-22 19:24:04,723 (server:496)INFO: {'Role': 'Server #', 'Round': 45, 'Results_avg': {'test_loss': 357.260316, 'test_avg_loss': 3.161596, 'test_total': 113.0, 'val_loss': 280.761729, 'val_avg_loss': 2.484617, 'val_total': 113.0}}\n",
      "2022-12-22 19:24:04,724 (monitor:936)INFO: Current best: {'test_loss': 229.135253, 'test_avg_loss': 2.027746, 'test_total': 113.0, 'val_loss': 171.217324, 'val_avg_loss': 1.515198, 'val_total': 113.0}\n",
      "2022-12-22 19:24:04,725 (monitor:936)INFO: Current best: {'test_loss': 229.135253, 'test_avg_loss': 2.027746, 'test_total': 113.0, 'val_loss': 171.217324, 'val_avg_loss': 1.515198, 'val_total': 113.0}\n",
      "2022-12-22 19:24:04,726 (server:323)INFO: Server #0: Starting evaluation at the end of round 45.\n",
      "2022-12-22 19:24:04,727 (server:330)INFO: ----------- Starting a new training round (Round #46) -------------\n",
      "2022-12-22 19:24:04,759 (client:415)INFO: {'Role': 'Client #1', 'Round': 46, 'Results_raw': {'test_loss': 1227.702736, 'test_avg_loss': 10.864626, 'test_total': 113, 'val_loss': 1334.80155, 'val_avg_loss': 11.812403, 'val_total': 113}}\n",
      "2022-12-22 19:24:04,760 (monitor:936)INFO: Current best: {'test_loss': 229.135253, 'test_avg_loss': 2.027746, 'test_total': 113, 'val_loss': 171.217324, 'val_avg_loss': 1.515198, 'val_total': 113}\n",
      "2022-12-22 19:24:04,903 (client:260)INFO: {'Role': 'Client #1', 'Round': 46, 'Results_raw': {'train_loss': 2573.758653, 'train_avg_loss': 2.856558, 'train_total': 901}}\n",
      "2022-12-22 19:24:04,905 (server:496)INFO: {'Role': 'Server #', 'Round': 46, 'Results_avg': {'test_loss': 1227.702736, 'test_avg_loss': 10.864626, 'test_total': 113.0, 'val_loss': 1334.80155, 'val_avg_loss': 11.812403, 'val_total': 113.0}}\n",
      "2022-12-22 19:24:04,906 (monitor:936)INFO: Current best: {'test_loss': 229.135253, 'test_avg_loss': 2.027746, 'test_total': 113.0, 'val_loss': 171.217324, 'val_avg_loss': 1.515198, 'val_total': 113.0}\n",
      "2022-12-22 19:24:04,907 (monitor:936)INFO: Current best: {'test_loss': 229.135253, 'test_avg_loss': 2.027746, 'test_total': 113.0, 'val_loss': 171.217324, 'val_avg_loss': 1.515198, 'val_total': 113.0}\n",
      "2022-12-22 19:24:04,909 (server:323)INFO: Server #0: Starting evaluation at the end of round 46.\n",
      "2022-12-22 19:24:04,910 (server:330)INFO: ----------- Starting a new training round (Round #47) -------------\n",
      "2022-12-22 19:24:04,940 (client:415)INFO: {'Role': 'Client #1', 'Round': 47, 'Results_raw': {'test_loss': 1273.890695, 'test_avg_loss': 11.273369, 'test_total': 113, 'val_loss': 1008.555797, 'val_avg_loss': 8.925273, 'val_total': 113}}\n",
      "2022-12-22 19:24:04,941 (monitor:936)INFO: Current best: {'test_loss': 229.135253, 'test_avg_loss': 2.027746, 'test_total': 113, 'val_loss': 171.217324, 'val_avg_loss': 1.515198, 'val_total': 113}\n",
      "2022-12-22 19:24:05,095 (client:260)INFO: {'Role': 'Client #1', 'Round': 47, 'Results_raw': {'train_loss': 3569.401556, 'train_avg_loss': 3.9616, 'train_total': 901}}\n",
      "2022-12-22 19:24:05,096 (server:496)INFO: {'Role': 'Server #', 'Round': 47, 'Results_avg': {'test_loss': 1273.890695, 'test_avg_loss': 11.273369, 'test_total': 113.0, 'val_loss': 1008.555797, 'val_avg_loss': 8.925273, 'val_total': 113.0}}\n",
      "2022-12-22 19:24:05,097 (monitor:936)INFO: Current best: {'test_loss': 229.135253, 'test_avg_loss': 2.027746, 'test_total': 113.0, 'val_loss': 171.217324, 'val_avg_loss': 1.515198, 'val_total': 113.0}\n",
      "2022-12-22 19:24:05,098 (monitor:936)INFO: Current best: {'test_loss': 229.135253, 'test_avg_loss': 2.027746, 'test_total': 113.0, 'val_loss': 171.217324, 'val_avg_loss': 1.515198, 'val_total': 113.0}\n",
      "2022-12-22 19:24:05,099 (server:323)INFO: Server #0: Starting evaluation at the end of round 47.\n",
      "2022-12-22 19:24:05,100 (server:330)INFO: ----------- Starting a new training round (Round #48) -------------\n",
      "2022-12-22 19:24:05,150 (client:415)INFO: {'Role': 'Client #1', 'Round': 48, 'Results_raw': {'test_loss': 662.072694, 'test_avg_loss': 5.85905, 'test_total': 113, 'val_loss': 601.242549, 'val_avg_loss': 5.320731, 'val_total': 113}}\n",
      "2022-12-22 19:24:05,151 (monitor:936)INFO: Current best: {'test_loss': 229.135253, 'test_avg_loss': 2.027746, 'test_total': 113, 'val_loss': 171.217324, 'val_avg_loss': 1.515198, 'val_total': 113}\n",
      "2022-12-22 19:24:05,297 (client:260)INFO: {'Role': 'Client #1', 'Round': 48, 'Results_raw': {'train_loss': nan, 'train_avg_loss': nan, 'train_total': 901}}\n",
      "2022-12-22 19:24:05,299 (server:496)INFO: {'Role': 'Server #', 'Round': 48, 'Results_avg': {'test_loss': 662.072694, 'test_avg_loss': 5.85905, 'test_total': 113.0, 'val_loss': 601.242549, 'val_avg_loss': 5.320731, 'val_total': 113.0}}\n",
      "2022-12-22 19:24:05,300 (monitor:936)INFO: Current best: {'test_loss': 229.135253, 'test_avg_loss': 2.027746, 'test_total': 113.0, 'val_loss': 171.217324, 'val_avg_loss': 1.515198, 'val_total': 113.0}\n",
      "2022-12-22 19:24:05,302 (monitor:936)INFO: Current best: {'test_loss': 229.135253, 'test_avg_loss': 2.027746, 'test_total': 113.0, 'val_loss': 171.217324, 'val_avg_loss': 1.515198, 'val_total': 113.0}\n",
      "2022-12-22 19:24:05,304 (server:323)INFO: Server #0: Starting evaluation at the end of round 48.\n",
      "2022-12-22 19:24:05,304 (server:330)INFO: ----------- Starting a new training round (Round #49) -------------\n",
      "2022-12-22 19:24:05,338 (client:415)INFO: {'Role': 'Client #1', 'Round': 49, 'Results_raw': {'test_loss': nan, 'test_avg_loss': nan, 'test_total': 113, 'val_loss': nan, 'val_avg_loss': nan, 'val_total': 113}}\n",
      "2022-12-22 19:24:05,339 (monitor:936)INFO: Current best: {'test_loss': 229.135253, 'test_avg_loss': 2.027746, 'test_total': 113, 'val_loss': 171.217324, 'val_avg_loss': 1.515198, 'val_total': 113}\n",
      "2022-12-22 19:24:05,484 (client:260)INFO: {'Role': 'Client #1', 'Round': 49, 'Results_raw': {'train_loss': nan, 'train_avg_loss': nan, 'train_total': 901}}\n",
      "2022-12-22 19:24:05,485 (server:496)INFO: {'Role': 'Server #', 'Round': 49, 'Results_avg': {'test_loss': nan, 'test_avg_loss': nan, 'test_total': 113.0, 'val_loss': nan, 'val_avg_loss': nan, 'val_total': 113.0}}\n",
      "2022-12-22 19:24:05,486 (monitor:936)INFO: Current best: {'test_loss': 229.135253, 'test_avg_loss': 2.027746, 'test_total': 113.0, 'val_loss': 171.217324, 'val_avg_loss': 1.515198, 'val_total': 113.0}\n",
      "2022-12-22 19:24:05,487 (monitor:936)INFO: Current best: {'test_loss': 229.135253, 'test_avg_loss': 2.027746, 'test_total': 113.0, 'val_loss': 171.217324, 'val_avg_loss': 1.515198, 'val_total': 113.0}\n",
      "2022-12-22 19:24:05,489 (server:323)INFO: Server #0: Starting evaluation at the end of round 49.\n",
      "2022-12-22 19:24:05,489 (server:330)INFO: ----------- Starting a new training round (Round #50) -------------\n",
      "2022-12-22 19:24:05,524 (client:415)INFO: {'Role': 'Client #1', 'Round': 50, 'Results_raw': {'test_loss': nan, 'test_avg_loss': nan, 'test_total': 113, 'val_loss': nan, 'val_avg_loss': nan, 'val_total': 113}}\n",
      "2022-12-22 19:24:05,524 (monitor:936)INFO: Current best: {'test_loss': 229.135253, 'test_avg_loss': 2.027746, 'test_total': 113, 'val_loss': 171.217324, 'val_avg_loss': 1.515198, 'val_total': 113}\n",
      "2022-12-22 19:24:05,659 (client:260)INFO: {'Role': 'Client #1', 'Round': 50, 'Results_raw': {'train_loss': nan, 'train_avg_loss': nan, 'train_total': 901}}\n",
      "2022-12-22 19:24:05,662 (server:496)INFO: {'Role': 'Server #', 'Round': 50, 'Results_avg': {'test_loss': nan, 'test_avg_loss': nan, 'test_total': 113.0, 'val_loss': nan, 'val_avg_loss': nan, 'val_total': 113.0}}\n",
      "2022-12-22 19:24:05,663 (monitor:936)INFO: Current best: {'test_loss': 229.135253, 'test_avg_loss': 2.027746, 'test_total': 113.0, 'val_loss': 171.217324, 'val_avg_loss': 1.515198, 'val_total': 113.0}\n",
      "2022-12-22 19:24:05,665 (monitor:936)INFO: Current best: {'test_loss': 229.135253, 'test_avg_loss': 2.027746, 'test_total': 113.0, 'val_loss': 171.217324, 'val_avg_loss': 1.515198, 'val_total': 113.0}\n",
      "2022-12-22 19:24:05,667 (server:323)INFO: Server #0: Starting evaluation at the end of round 50.\n",
      "2022-12-22 19:24:05,667 (server:330)INFO: ----------- Starting a new training round (Round #51) -------------\n",
      "2022-12-22 19:24:05,706 (client:415)INFO: {'Role': 'Client #1', 'Round': 51, 'Results_raw': {'test_loss': nan, 'test_avg_loss': nan, 'test_total': 113, 'val_loss': nan, 'val_avg_loss': nan, 'val_total': 113}}\n",
      "2022-12-22 19:24:05,707 (monitor:936)INFO: Current best: {'test_loss': 229.135253, 'test_avg_loss': 2.027746, 'test_total': 113, 'val_loss': 171.217324, 'val_avg_loss': 1.515198, 'val_total': 113}\n",
      "2022-12-22 19:24:05,883 (client:260)INFO: {'Role': 'Client #1', 'Round': 51, 'Results_raw': {'train_loss': nan, 'train_avg_loss': nan, 'train_total': 901}}\n",
      "2022-12-22 19:24:05,885 (server:496)INFO: {'Role': 'Server #', 'Round': 51, 'Results_avg': {'test_loss': nan, 'test_avg_loss': nan, 'test_total': 113.0, 'val_loss': nan, 'val_avg_loss': nan, 'val_total': 113.0}}\n",
      "2022-12-22 19:24:05,886 (monitor:936)INFO: Current best: {'test_loss': 229.135253, 'test_avg_loss': 2.027746, 'test_total': 113.0, 'val_loss': 171.217324, 'val_avg_loss': 1.515198, 'val_total': 113.0}\n",
      "2022-12-22 19:24:05,888 (monitor:936)INFO: Current best: {'test_loss': 229.135253, 'test_avg_loss': 2.027746, 'test_total': 113.0, 'val_loss': 171.217324, 'val_avg_loss': 1.515198, 'val_total': 113.0}\n",
      "2022-12-22 19:24:05,890 (server:323)INFO: Server #0: Starting evaluation at the end of round 51.\n",
      "2022-12-22 19:24:05,890 (server:330)INFO: ----------- Starting a new training round (Round #52) -------------\n",
      "2022-12-22 19:24:05,935 (client:415)INFO: {'Role': 'Client #1', 'Round': 52, 'Results_raw': {'test_loss': nan, 'test_avg_loss': nan, 'test_total': 113, 'val_loss': nan, 'val_avg_loss': nan, 'val_total': 113}}\n",
      "2022-12-22 19:24:05,935 (monitor:936)INFO: Current best: {'test_loss': 229.135253, 'test_avg_loss': 2.027746, 'test_total': 113, 'val_loss': 171.217324, 'val_avg_loss': 1.515198, 'val_total': 113}\n",
      "2022-12-22 19:24:06,099 (client:260)INFO: {'Role': 'Client #1', 'Round': 52, 'Results_raw': {'train_loss': nan, 'train_avg_loss': nan, 'train_total': 901}}\n",
      "2022-12-22 19:24:06,102 (server:496)INFO: {'Role': 'Server #', 'Round': 52, 'Results_avg': {'test_loss': nan, 'test_avg_loss': nan, 'test_total': 113.0, 'val_loss': nan, 'val_avg_loss': nan, 'val_total': 113.0}}\n",
      "2022-12-22 19:24:06,103 (monitor:936)INFO: Current best: {'test_loss': 229.135253, 'test_avg_loss': 2.027746, 'test_total': 113.0, 'val_loss': 171.217324, 'val_avg_loss': 1.515198, 'val_total': 113.0}\n",
      "2022-12-22 19:24:06,105 (monitor:936)INFO: Current best: {'test_loss': 229.135253, 'test_avg_loss': 2.027746, 'test_total': 113.0, 'val_loss': 171.217324, 'val_avg_loss': 1.515198, 'val_total': 113.0}\n",
      "2022-12-22 19:24:06,107 (server:323)INFO: Server #0: Starting evaluation at the end of round 52.\n",
      "2022-12-22 19:24:06,108 (server:330)INFO: ----------- Starting a new training round (Round #53) -------------\n",
      "2022-12-22 19:24:06,148 (client:415)INFO: {'Role': 'Client #1', 'Round': 53, 'Results_raw': {'test_loss': nan, 'test_avg_loss': nan, 'test_total': 113, 'val_loss': nan, 'val_avg_loss': nan, 'val_total': 113}}\n",
      "2022-12-22 19:24:06,149 (monitor:936)INFO: Current best: {'test_loss': 229.135253, 'test_avg_loss': 2.027746, 'test_total': 113, 'val_loss': 171.217324, 'val_avg_loss': 1.515198, 'val_total': 113}\n",
      "2022-12-22 19:24:06,322 (client:260)INFO: {'Role': 'Client #1', 'Round': 53, 'Results_raw': {'train_loss': nan, 'train_avg_loss': nan, 'train_total': 901}}\n",
      "2022-12-22 19:24:06,324 (server:496)INFO: {'Role': 'Server #', 'Round': 53, 'Results_avg': {'test_loss': nan, 'test_avg_loss': nan, 'test_total': 113.0, 'val_loss': nan, 'val_avg_loss': nan, 'val_total': 113.0}}\n",
      "2022-12-22 19:24:06,325 (monitor:936)INFO: Current best: {'test_loss': 229.135253, 'test_avg_loss': 2.027746, 'test_total': 113.0, 'val_loss': 171.217324, 'val_avg_loss': 1.515198, 'val_total': 113.0}\n",
      "2022-12-22 19:24:06,327 (monitor:936)INFO: Current best: {'test_loss': 229.135253, 'test_avg_loss': 2.027746, 'test_total': 113.0, 'val_loss': 171.217324, 'val_avg_loss': 1.515198, 'val_total': 113.0}\n",
      "2022-12-22 19:24:06,329 (server:323)INFO: Server #0: Starting evaluation at the end of round 53.\n",
      "2022-12-22 19:24:06,330 (server:330)INFO: ----------- Starting a new training round (Round #54) -------------\n",
      "2022-12-22 19:24:06,369 (client:415)INFO: {'Role': 'Client #1', 'Round': 54, 'Results_raw': {'test_loss': nan, 'test_avg_loss': nan, 'test_total': 113, 'val_loss': nan, 'val_avg_loss': nan, 'val_total': 113}}\n",
      "2022-12-22 19:24:06,370 (monitor:936)INFO: Current best: {'test_loss': 229.135253, 'test_avg_loss': 2.027746, 'test_total': 113, 'val_loss': 171.217324, 'val_avg_loss': 1.515198, 'val_total': 113}\n",
      "2022-12-22 19:24:06,506 (client:260)INFO: {'Role': 'Client #1', 'Round': 54, 'Results_raw': {'train_loss': nan, 'train_avg_loss': nan, 'train_total': 901}}\n",
      "2022-12-22 19:24:06,508 (server:496)INFO: {'Role': 'Server #', 'Round': 54, 'Results_avg': {'test_loss': nan, 'test_avg_loss': nan, 'test_total': 113.0, 'val_loss': nan, 'val_avg_loss': nan, 'val_total': 113.0}}\n",
      "2022-12-22 19:24:06,509 (monitor:936)INFO: Current best: {'test_loss': 229.135253, 'test_avg_loss': 2.027746, 'test_total': 113.0, 'val_loss': 171.217324, 'val_avg_loss': 1.515198, 'val_total': 113.0}\n",
      "2022-12-22 19:24:06,510 (monitor:936)INFO: Current best: {'test_loss': 229.135253, 'test_avg_loss': 2.027746, 'test_total': 113.0, 'val_loss': 171.217324, 'val_avg_loss': 1.515198, 'val_total': 113.0}\n",
      "2022-12-22 19:24:06,512 (server:323)INFO: Server #0: Starting evaluation at the end of round 54.\n",
      "2022-12-22 19:24:06,514 (server:330)INFO: ----------- Starting a new training round (Round #55) -------------\n",
      "2022-12-22 19:24:06,552 (client:415)INFO: {'Role': 'Client #1', 'Round': 55, 'Results_raw': {'test_loss': nan, 'test_avg_loss': nan, 'test_total': 113, 'val_loss': nan, 'val_avg_loss': nan, 'val_total': 113}}\n",
      "2022-12-22 19:24:06,554 (monitor:936)INFO: Current best: {'test_loss': 229.135253, 'test_avg_loss': 2.027746, 'test_total': 113, 'val_loss': 171.217324, 'val_avg_loss': 1.515198, 'val_total': 113}\n",
      "2022-12-22 19:24:06,698 (client:260)INFO: {'Role': 'Client #1', 'Round': 55, 'Results_raw': {'train_loss': nan, 'train_avg_loss': nan, 'train_total': 901}}\n",
      "2022-12-22 19:24:06,700 (server:496)INFO: {'Role': 'Server #', 'Round': 55, 'Results_avg': {'test_loss': nan, 'test_avg_loss': nan, 'test_total': 113.0, 'val_loss': nan, 'val_avg_loss': nan, 'val_total': 113.0}}\n",
      "2022-12-22 19:24:06,701 (monitor:936)INFO: Current best: {'test_loss': 229.135253, 'test_avg_loss': 2.027746, 'test_total': 113.0, 'val_loss': 171.217324, 'val_avg_loss': 1.515198, 'val_total': 113.0}\n",
      "2022-12-22 19:24:06,702 (monitor:936)INFO: Current best: {'test_loss': 229.135253, 'test_avg_loss': 2.027746, 'test_total': 113.0, 'val_loss': 171.217324, 'val_avg_loss': 1.515198, 'val_total': 113.0}\n",
      "2022-12-22 19:24:06,704 (server:323)INFO: Server #0: Starting evaluation at the end of round 55.\n",
      "2022-12-22 19:24:06,705 (server:330)INFO: ----------- Starting a new training round (Round #56) -------------\n",
      "2022-12-22 19:24:06,743 (client:415)INFO: {'Role': 'Client #1', 'Round': 56, 'Results_raw': {'test_loss': nan, 'test_avg_loss': nan, 'test_total': 113, 'val_loss': nan, 'val_avg_loss': nan, 'val_total': 113}}\n",
      "2022-12-22 19:24:06,744 (monitor:936)INFO: Current best: {'test_loss': 229.135253, 'test_avg_loss': 2.027746, 'test_total': 113, 'val_loss': 171.217324, 'val_avg_loss': 1.515198, 'val_total': 113}\n",
      "2022-12-22 19:24:06,891 (client:260)INFO: {'Role': 'Client #1', 'Round': 56, 'Results_raw': {'train_loss': nan, 'train_avg_loss': nan, 'train_total': 901}}\n",
      "2022-12-22 19:24:06,893 (server:496)INFO: {'Role': 'Server #', 'Round': 56, 'Results_avg': {'test_loss': nan, 'test_avg_loss': nan, 'test_total': 113.0, 'val_loss': nan, 'val_avg_loss': nan, 'val_total': 113.0}}\n",
      "2022-12-22 19:24:06,894 (monitor:936)INFO: Current best: {'test_loss': 229.135253, 'test_avg_loss': 2.027746, 'test_total': 113.0, 'val_loss': 171.217324, 'val_avg_loss': 1.515198, 'val_total': 113.0}\n",
      "2022-12-22 19:24:06,896 (monitor:936)INFO: Current best: {'test_loss': 229.135253, 'test_avg_loss': 2.027746, 'test_total': 113.0, 'val_loss': 171.217324, 'val_avg_loss': 1.515198, 'val_total': 113.0}\n",
      "2022-12-22 19:24:06,898 (server:323)INFO: Server #0: Starting evaluation at the end of round 56.\n",
      "2022-12-22 19:24:06,899 (server:330)INFO: ----------- Starting a new training round (Round #57) -------------\n",
      "2022-12-22 19:24:06,936 (client:415)INFO: {'Role': 'Client #1', 'Round': 57, 'Results_raw': {'test_loss': nan, 'test_avg_loss': nan, 'test_total': 113, 'val_loss': nan, 'val_avg_loss': nan, 'val_total': 113}}\n",
      "2022-12-22 19:24:06,937 (monitor:936)INFO: Current best: {'test_loss': 229.135253, 'test_avg_loss': 2.027746, 'test_total': 113, 'val_loss': 171.217324, 'val_avg_loss': 1.515198, 'val_total': 113}\n",
      "2022-12-22 19:24:07,075 (client:260)INFO: {'Role': 'Client #1', 'Round': 57, 'Results_raw': {'train_loss': nan, 'train_avg_loss': nan, 'train_total': 901}}\n",
      "2022-12-22 19:24:07,077 (server:496)INFO: {'Role': 'Server #', 'Round': 57, 'Results_avg': {'test_loss': nan, 'test_avg_loss': nan, 'test_total': 113.0, 'val_loss': nan, 'val_avg_loss': nan, 'val_total': 113.0}}\n",
      "2022-12-22 19:24:07,078 (monitor:936)INFO: Current best: {'test_loss': 229.135253, 'test_avg_loss': 2.027746, 'test_total': 113.0, 'val_loss': 171.217324, 'val_avg_loss': 1.515198, 'val_total': 113.0}\n",
      "2022-12-22 19:24:07,079 (monitor:936)INFO: Current best: {'test_loss': 229.135253, 'test_avg_loss': 2.027746, 'test_total': 113.0, 'val_loss': 171.217324, 'val_avg_loss': 1.515198, 'val_total': 113.0}\n",
      "2022-12-22 19:24:07,082 (server:323)INFO: Server #0: Starting evaluation at the end of round 57.\n",
      "2022-12-22 19:24:07,083 (server:330)INFO: ----------- Starting a new training round (Round #58) -------------\n",
      "2022-12-22 19:24:07,117 (client:415)INFO: {'Role': 'Client #1', 'Round': 58, 'Results_raw': {'test_loss': nan, 'test_avg_loss': nan, 'test_total': 113, 'val_loss': nan, 'val_avg_loss': nan, 'val_total': 113}}\n",
      "2022-12-22 19:24:07,119 (monitor:936)INFO: Current best: {'test_loss': 229.135253, 'test_avg_loss': 2.027746, 'test_total': 113, 'val_loss': 171.217324, 'val_avg_loss': 1.515198, 'val_total': 113}\n",
      "2022-12-22 19:24:07,265 (client:260)INFO: {'Role': 'Client #1', 'Round': 58, 'Results_raw': {'train_loss': nan, 'train_avg_loss': nan, 'train_total': 901}}\n",
      "2022-12-22 19:24:07,267 (server:496)INFO: {'Role': 'Server #', 'Round': 58, 'Results_avg': {'test_loss': nan, 'test_avg_loss': nan, 'test_total': 113.0, 'val_loss': nan, 'val_avg_loss': nan, 'val_total': 113.0}}\n",
      "2022-12-22 19:24:07,269 (monitor:936)INFO: Current best: {'test_loss': 229.135253, 'test_avg_loss': 2.027746, 'test_total': 113.0, 'val_loss': 171.217324, 'val_avg_loss': 1.515198, 'val_total': 113.0}\n",
      "2022-12-22 19:24:07,270 (monitor:936)INFO: Current best: {'test_loss': 229.135253, 'test_avg_loss': 2.027746, 'test_total': 113.0, 'val_loss': 171.217324, 'val_avg_loss': 1.515198, 'val_total': 113.0}\n",
      "2022-12-22 19:24:07,272 (server:323)INFO: Server #0: Starting evaluation at the end of round 58.\n",
      "2022-12-22 19:24:07,274 (server:330)INFO: ----------- Starting a new training round (Round #59) -------------\n",
      "2022-12-22 19:24:07,313 (client:415)INFO: {'Role': 'Client #1', 'Round': 59, 'Results_raw': {'test_loss': nan, 'test_avg_loss': nan, 'test_total': 113, 'val_loss': nan, 'val_avg_loss': nan, 'val_total': 113}}\n",
      "2022-12-22 19:24:07,314 (monitor:936)INFO: Current best: {'test_loss': 229.135253, 'test_avg_loss': 2.027746, 'test_total': 113, 'val_loss': 171.217324, 'val_avg_loss': 1.515198, 'val_total': 113}\n",
      "2022-12-22 19:24:07,470 (client:260)INFO: {'Role': 'Client #1', 'Round': 59, 'Results_raw': {'train_loss': nan, 'train_avg_loss': nan, 'train_total': 901}}\n",
      "2022-12-22 19:24:07,471 (server:496)INFO: {'Role': 'Server #', 'Round': 59, 'Results_avg': {'test_loss': nan, 'test_avg_loss': nan, 'test_total': 113.0, 'val_loss': nan, 'val_avg_loss': nan, 'val_total': 113.0}}\n",
      "2022-12-22 19:24:07,473 (monitor:936)INFO: Current best: {'test_loss': 229.135253, 'test_avg_loss': 2.027746, 'test_total': 113.0, 'val_loss': 171.217324, 'val_avg_loss': 1.515198, 'val_total': 113.0}\n",
      "2022-12-22 19:24:07,474 (monitor:936)INFO: Current best: {'test_loss': 229.135253, 'test_avg_loss': 2.027746, 'test_total': 113.0, 'val_loss': 171.217324, 'val_avg_loss': 1.515198, 'val_total': 113.0}\n",
      "2022-12-22 19:24:07,477 (server:323)INFO: Server #0: Starting evaluation at the end of round 59.\n",
      "2022-12-22 19:24:07,478 (server:330)INFO: ----------- Starting a new training round (Round #60) -------------\n",
      "2022-12-22 19:24:07,521 (client:415)INFO: {'Role': 'Client #1', 'Round': 60, 'Results_raw': {'test_loss': nan, 'test_avg_loss': nan, 'test_total': 113, 'val_loss': nan, 'val_avg_loss': nan, 'val_total': 113}}\n",
      "2022-12-22 19:24:07,522 (monitor:936)INFO: Current best: {'test_loss': 229.135253, 'test_avg_loss': 2.027746, 'test_total': 113, 'val_loss': 171.217324, 'val_avg_loss': 1.515198, 'val_total': 113}\n",
      "2022-12-22 19:24:07,677 (client:260)INFO: {'Role': 'Client #1', 'Round': 60, 'Results_raw': {'train_loss': nan, 'train_avg_loss': nan, 'train_total': 901}}\n",
      "2022-12-22 19:24:07,679 (server:496)INFO: {'Role': 'Server #', 'Round': 60, 'Results_avg': {'test_loss': nan, 'test_avg_loss': nan, 'test_total': 113.0, 'val_loss': nan, 'val_avg_loss': nan, 'val_total': 113.0}}\n",
      "2022-12-22 19:24:07,680 (monitor:936)INFO: Current best: {'test_loss': 229.135253, 'test_avg_loss': 2.027746, 'test_total': 113.0, 'val_loss': 171.217324, 'val_avg_loss': 1.515198, 'val_total': 113.0}\n",
      "2022-12-22 19:24:07,682 (monitor:936)INFO: Current best: {'test_loss': 229.135253, 'test_avg_loss': 2.027746, 'test_total': 113.0, 'val_loss': 171.217324, 'val_avg_loss': 1.515198, 'val_total': 113.0}\n",
      "2022-12-22 19:24:07,684 (server:323)INFO: Server #0: Starting evaluation at the end of round 60.\n",
      "2022-12-22 19:24:07,685 (server:330)INFO: ----------- Starting a new training round (Round #61) -------------\n",
      "2022-12-22 19:24:07,716 (client:415)INFO: {'Role': 'Client #1', 'Round': 61, 'Results_raw': {'test_loss': nan, 'test_avg_loss': nan, 'test_total': 113, 'val_loss': nan, 'val_avg_loss': nan, 'val_total': 113}}\n",
      "2022-12-22 19:24:07,716 (monitor:936)INFO: Current best: {'test_loss': 229.135253, 'test_avg_loss': 2.027746, 'test_total': 113, 'val_loss': 171.217324, 'val_avg_loss': 1.515198, 'val_total': 113}\n",
      "2022-12-22 19:24:07,876 (client:260)INFO: {'Role': 'Client #1', 'Round': 61, 'Results_raw': {'train_loss': nan, 'train_avg_loss': nan, 'train_total': 901}}\n",
      "2022-12-22 19:24:07,880 (server:496)INFO: {'Role': 'Server #', 'Round': 61, 'Results_avg': {'test_loss': nan, 'test_avg_loss': nan, 'test_total': 113.0, 'val_loss': nan, 'val_avg_loss': nan, 'val_total': 113.0}}\n",
      "2022-12-22 19:24:07,882 (monitor:936)INFO: Current best: {'test_loss': 229.135253, 'test_avg_loss': 2.027746, 'test_total': 113.0, 'val_loss': 171.217324, 'val_avg_loss': 1.515198, 'val_total': 113.0}\n",
      "2022-12-22 19:24:07,884 (monitor:936)INFO: Current best: {'test_loss': 229.135253, 'test_avg_loss': 2.027746, 'test_total': 113.0, 'val_loss': 171.217324, 'val_avg_loss': 1.515198, 'val_total': 113.0}\n",
      "2022-12-22 19:24:07,888 (server:323)INFO: Server #0: Starting evaluation at the end of round 61.\n",
      "2022-12-22 19:24:07,889 (server:330)INFO: ----------- Starting a new training round (Round #62) -------------\n",
      "2022-12-22 19:24:07,920 (client:415)INFO: {'Role': 'Client #1', 'Round': 62, 'Results_raw': {'test_loss': nan, 'test_avg_loss': nan, 'test_total': 113, 'val_loss': nan, 'val_avg_loss': nan, 'val_total': 113}}\n",
      "2022-12-22 19:24:07,921 (monitor:936)INFO: Current best: {'test_loss': 229.135253, 'test_avg_loss': 2.027746, 'test_total': 113, 'val_loss': 171.217324, 'val_avg_loss': 1.515198, 'val_total': 113}\n",
      "2022-12-22 19:24:08,058 (client:260)INFO: {'Role': 'Client #1', 'Round': 62, 'Results_raw': {'train_loss': nan, 'train_avg_loss': nan, 'train_total': 901}}\n",
      "2022-12-22 19:24:08,060 (server:496)INFO: {'Role': 'Server #', 'Round': 62, 'Results_avg': {'test_loss': nan, 'test_avg_loss': nan, 'test_total': 113.0, 'val_loss': nan, 'val_avg_loss': nan, 'val_total': 113.0}}\n",
      "2022-12-22 19:24:08,060 (monitor:936)INFO: Current best: {'test_loss': 229.135253, 'test_avg_loss': 2.027746, 'test_total': 113.0, 'val_loss': 171.217324, 'val_avg_loss': 1.515198, 'val_total': 113.0}\n",
      "2022-12-22 19:24:08,062 (monitor:936)INFO: Current best: {'test_loss': 229.135253, 'test_avg_loss': 2.027746, 'test_total': 113.0, 'val_loss': 171.217324, 'val_avg_loss': 1.515198, 'val_total': 113.0}\n",
      "2022-12-22 19:24:08,064 (server:323)INFO: Server #0: Starting evaluation at the end of round 62.\n",
      "2022-12-22 19:24:08,065 (server:330)INFO: ----------- Starting a new training round (Round #63) -------------\n",
      "2022-12-22 19:24:08,101 (client:415)INFO: {'Role': 'Client #1', 'Round': 63, 'Results_raw': {'test_loss': nan, 'test_avg_loss': nan, 'test_total': 113, 'val_loss': nan, 'val_avg_loss': nan, 'val_total': 113}}\n",
      "2022-12-22 19:24:08,102 (monitor:936)INFO: Current best: {'test_loss': 229.135253, 'test_avg_loss': 2.027746, 'test_total': 113, 'val_loss': 171.217324, 'val_avg_loss': 1.515198, 'val_total': 113}\n",
      "2022-12-22 19:24:08,259 (client:260)INFO: {'Role': 'Client #1', 'Round': 63, 'Results_raw': {'train_loss': nan, 'train_avg_loss': nan, 'train_total': 901}}\n",
      "2022-12-22 19:24:08,261 (server:496)INFO: {'Role': 'Server #', 'Round': 63, 'Results_avg': {'test_loss': nan, 'test_avg_loss': nan, 'test_total': 113.0, 'val_loss': nan, 'val_avg_loss': nan, 'val_total': 113.0}}\n",
      "2022-12-22 19:24:08,262 (monitor:936)INFO: Current best: {'test_loss': 229.135253, 'test_avg_loss': 2.027746, 'test_total': 113.0, 'val_loss': 171.217324, 'val_avg_loss': 1.515198, 'val_total': 113.0}\n",
      "2022-12-22 19:24:08,263 (monitor:936)INFO: Current best: {'test_loss': 229.135253, 'test_avg_loss': 2.027746, 'test_total': 113.0, 'val_loss': 171.217324, 'val_avg_loss': 1.515198, 'val_total': 113.0}\n",
      "2022-12-22 19:24:08,265 (server:323)INFO: Server #0: Starting evaluation at the end of round 63.\n",
      "2022-12-22 19:24:08,265 (server:330)INFO: ----------- Starting a new training round (Round #64) -------------\n",
      "2022-12-22 19:24:08,300 (client:415)INFO: {'Role': 'Client #1', 'Round': 64, 'Results_raw': {'test_loss': nan, 'test_avg_loss': nan, 'test_total': 113, 'val_loss': nan, 'val_avg_loss': nan, 'val_total': 113}}\n",
      "2022-12-22 19:24:08,301 (monitor:936)INFO: Current best: {'test_loss': 229.135253, 'test_avg_loss': 2.027746, 'test_total': 113, 'val_loss': 171.217324, 'val_avg_loss': 1.515198, 'val_total': 113}\n",
      "2022-12-22 19:24:08,441 (client:260)INFO: {'Role': 'Client #1', 'Round': 64, 'Results_raw': {'train_loss': nan, 'train_avg_loss': nan, 'train_total': 901}}\n",
      "2022-12-22 19:24:08,443 (server:496)INFO: {'Role': 'Server #', 'Round': 64, 'Results_avg': {'test_loss': nan, 'test_avg_loss': nan, 'test_total': 113.0, 'val_loss': nan, 'val_avg_loss': nan, 'val_total': 113.0}}\n",
      "2022-12-22 19:24:08,444 (monitor:936)INFO: Current best: {'test_loss': 229.135253, 'test_avg_loss': 2.027746, 'test_total': 113.0, 'val_loss': 171.217324, 'val_avg_loss': 1.515198, 'val_total': 113.0}\n",
      "2022-12-22 19:24:08,445 (monitor:936)INFO: Current best: {'test_loss': 229.135253, 'test_avg_loss': 2.027746, 'test_total': 113.0, 'val_loss': 171.217324, 'val_avg_loss': 1.515198, 'val_total': 113.0}\n",
      "2022-12-22 19:24:08,448 (server:323)INFO: Server #0: Starting evaluation at the end of round 64.\n",
      "2022-12-22 19:24:08,449 (server:330)INFO: ----------- Starting a new training round (Round #65) -------------\n",
      "2022-12-22 19:24:08,483 (client:415)INFO: {'Role': 'Client #1', 'Round': 65, 'Results_raw': {'test_loss': nan, 'test_avg_loss': nan, 'test_total': 113, 'val_loss': nan, 'val_avg_loss': nan, 'val_total': 113}}\n",
      "2022-12-22 19:24:08,484 (monitor:936)INFO: Current best: {'test_loss': 229.135253, 'test_avg_loss': 2.027746, 'test_total': 113, 'val_loss': 171.217324, 'val_avg_loss': 1.515198, 'val_total': 113}\n",
      "2022-12-22 19:24:08,620 (client:260)INFO: {'Role': 'Client #1', 'Round': 65, 'Results_raw': {'train_loss': nan, 'train_avg_loss': nan, 'train_total': 901}}\n",
      "2022-12-22 19:24:08,621 (server:496)INFO: {'Role': 'Server #', 'Round': 65, 'Results_avg': {'test_loss': nan, 'test_avg_loss': nan, 'test_total': 113.0, 'val_loss': nan, 'val_avg_loss': nan, 'val_total': 113.0}}\n",
      "2022-12-22 19:24:08,622 (monitor:936)INFO: Current best: {'test_loss': 229.135253, 'test_avg_loss': 2.027746, 'test_total': 113.0, 'val_loss': 171.217324, 'val_avg_loss': 1.515198, 'val_total': 113.0}\n",
      "2022-12-22 19:24:08,623 (monitor:936)INFO: Current best: {'test_loss': 229.135253, 'test_avg_loss': 2.027746, 'test_total': 113.0, 'val_loss': 171.217324, 'val_avg_loss': 1.515198, 'val_total': 113.0}\n",
      "2022-12-22 19:24:08,624 (server:323)INFO: Server #0: Starting evaluation at the end of round 65.\n",
      "2022-12-22 19:24:08,625 (server:330)INFO: ----------- Starting a new training round (Round #66) -------------\n",
      "2022-12-22 19:24:08,661 (client:415)INFO: {'Role': 'Client #1', 'Round': 66, 'Results_raw': {'test_loss': nan, 'test_avg_loss': nan, 'test_total': 113, 'val_loss': nan, 'val_avg_loss': nan, 'val_total': 113}}\n",
      "2022-12-22 19:24:08,662 (monitor:936)INFO: Current best: {'test_loss': 229.135253, 'test_avg_loss': 2.027746, 'test_total': 113, 'val_loss': 171.217324, 'val_avg_loss': 1.515198, 'val_total': 113}\n",
      "2022-12-22 19:24:08,807 (client:260)INFO: {'Role': 'Client #1', 'Round': 66, 'Results_raw': {'train_loss': nan, 'train_avg_loss': nan, 'train_total': 901}}\n",
      "2022-12-22 19:24:08,808 (server:496)INFO: {'Role': 'Server #', 'Round': 66, 'Results_avg': {'test_loss': nan, 'test_avg_loss': nan, 'test_total': 113.0, 'val_loss': nan, 'val_avg_loss': nan, 'val_total': 113.0}}\n",
      "2022-12-22 19:24:08,810 (monitor:936)INFO: Current best: {'test_loss': 229.135253, 'test_avg_loss': 2.027746, 'test_total': 113.0, 'val_loss': 171.217324, 'val_avg_loss': 1.515198, 'val_total': 113.0}\n",
      "2022-12-22 19:24:08,813 (monitor:936)INFO: Current best: {'test_loss': 229.135253, 'test_avg_loss': 2.027746, 'test_total': 113.0, 'val_loss': 171.217324, 'val_avg_loss': 1.515198, 'val_total': 113.0}\n",
      "2022-12-22 19:24:08,815 (server:323)INFO: Server #0: Starting evaluation at the end of round 66.\n",
      "2022-12-22 19:24:08,816 (server:330)INFO: ----------- Starting a new training round (Round #67) -------------\n",
      "2022-12-22 19:24:08,850 (client:415)INFO: {'Role': 'Client #1', 'Round': 67, 'Results_raw': {'test_loss': nan, 'test_avg_loss': nan, 'test_total': 113, 'val_loss': nan, 'val_avg_loss': nan, 'val_total': 113}}\n",
      "2022-12-22 19:24:08,851 (monitor:936)INFO: Current best: {'test_loss': 229.135253, 'test_avg_loss': 2.027746, 'test_total': 113, 'val_loss': 171.217324, 'val_avg_loss': 1.515198, 'val_total': 113}\n",
      "2022-12-22 19:24:08,996 (client:260)INFO: {'Role': 'Client #1', 'Round': 67, 'Results_raw': {'train_loss': nan, 'train_avg_loss': nan, 'train_total': 901}}\n",
      "2022-12-22 19:24:08,997 (server:496)INFO: {'Role': 'Server #', 'Round': 67, 'Results_avg': {'test_loss': nan, 'test_avg_loss': nan, 'test_total': 113.0, 'val_loss': nan, 'val_avg_loss': nan, 'val_total': 113.0}}\n",
      "2022-12-22 19:24:08,998 (monitor:936)INFO: Current best: {'test_loss': 229.135253, 'test_avg_loss': 2.027746, 'test_total': 113.0, 'val_loss': 171.217324, 'val_avg_loss': 1.515198, 'val_total': 113.0}\n",
      "2022-12-22 19:24:08,999 (monitor:936)INFO: Current best: {'test_loss': 229.135253, 'test_avg_loss': 2.027746, 'test_total': 113.0, 'val_loss': 171.217324, 'val_avg_loss': 1.515198, 'val_total': 113.0}\n",
      "2022-12-22 19:24:09,001 (server:323)INFO: Server #0: Starting evaluation at the end of round 67.\n",
      "2022-12-22 19:24:09,001 (server:330)INFO: ----------- Starting a new training round (Round #68) -------------\n",
      "2022-12-22 19:24:09,033 (client:415)INFO: {'Role': 'Client #1', 'Round': 68, 'Results_raw': {'test_loss': nan, 'test_avg_loss': nan, 'test_total': 113, 'val_loss': nan, 'val_avg_loss': nan, 'val_total': 113}}\n",
      "2022-12-22 19:24:09,034 (monitor:936)INFO: Current best: {'test_loss': 229.135253, 'test_avg_loss': 2.027746, 'test_total': 113, 'val_loss': 171.217324, 'val_avg_loss': 1.515198, 'val_total': 113}\n",
      "2022-12-22 19:24:09,175 (client:260)INFO: {'Role': 'Client #1', 'Round': 68, 'Results_raw': {'train_loss': nan, 'train_avg_loss': nan, 'train_total': 901}}\n",
      "2022-12-22 19:24:09,176 (server:496)INFO: {'Role': 'Server #', 'Round': 68, 'Results_avg': {'test_loss': nan, 'test_avg_loss': nan, 'test_total': 113.0, 'val_loss': nan, 'val_avg_loss': nan, 'val_total': 113.0}}\n",
      "2022-12-22 19:24:09,177 (monitor:936)INFO: Current best: {'test_loss': 229.135253, 'test_avg_loss': 2.027746, 'test_total': 113.0, 'val_loss': 171.217324, 'val_avg_loss': 1.515198, 'val_total': 113.0}\n",
      "2022-12-22 19:24:09,179 (monitor:936)INFO: Current best: {'test_loss': 229.135253, 'test_avg_loss': 2.027746, 'test_total': 113.0, 'val_loss': 171.217324, 'val_avg_loss': 1.515198, 'val_total': 113.0}\n",
      "2022-12-22 19:24:09,181 (server:323)INFO: Server #0: Starting evaluation at the end of round 68.\n",
      "2022-12-22 19:24:09,182 (server:330)INFO: ----------- Starting a new training round (Round #69) -------------\n",
      "2022-12-22 19:24:09,214 (client:415)INFO: {'Role': 'Client #1', 'Round': 69, 'Results_raw': {'test_loss': nan, 'test_avg_loss': nan, 'test_total': 113, 'val_loss': nan, 'val_avg_loss': nan, 'val_total': 113}}\n",
      "2022-12-22 19:24:09,215 (monitor:936)INFO: Current best: {'test_loss': 229.135253, 'test_avg_loss': 2.027746, 'test_total': 113, 'val_loss': 171.217324, 'val_avg_loss': 1.515198, 'val_total': 113}\n",
      "2022-12-22 19:24:09,354 (client:260)INFO: {'Role': 'Client #1', 'Round': 69, 'Results_raw': {'train_loss': nan, 'train_avg_loss': nan, 'train_total': 901}}\n",
      "2022-12-22 19:24:09,356 (server:496)INFO: {'Role': 'Server #', 'Round': 69, 'Results_avg': {'test_loss': nan, 'test_avg_loss': nan, 'test_total': 113.0, 'val_loss': nan, 'val_avg_loss': nan, 'val_total': 113.0}}\n",
      "2022-12-22 19:24:09,356 (monitor:936)INFO: Current best: {'test_loss': 229.135253, 'test_avg_loss': 2.027746, 'test_total': 113.0, 'val_loss': 171.217324, 'val_avg_loss': 1.515198, 'val_total': 113.0}\n",
      "2022-12-22 19:24:09,358 (monitor:936)INFO: Current best: {'test_loss': 229.135253, 'test_avg_loss': 2.027746, 'test_total': 113.0, 'val_loss': 171.217324, 'val_avg_loss': 1.515198, 'val_total': 113.0}\n",
      "2022-12-22 19:24:09,361 (server:323)INFO: Server #0: Starting evaluation at the end of round 69.\n",
      "2022-12-22 19:24:09,362 (server:330)INFO: ----------- Starting a new training round (Round #70) -------------\n",
      "2022-12-22 19:24:09,395 (client:415)INFO: {'Role': 'Client #1', 'Round': 70, 'Results_raw': {'test_loss': nan, 'test_avg_loss': nan, 'test_total': 113, 'val_loss': nan, 'val_avg_loss': nan, 'val_total': 113}}\n",
      "2022-12-22 19:24:09,396 (monitor:936)INFO: Current best: {'test_loss': 229.135253, 'test_avg_loss': 2.027746, 'test_total': 113, 'val_loss': 171.217324, 'val_avg_loss': 1.515198, 'val_total': 113}\n",
      "2022-12-22 19:24:09,513 (client:260)INFO: {'Role': 'Client #1', 'Round': 70, 'Results_raw': {'train_loss': nan, 'train_avg_loss': nan, 'train_total': 901}}\n",
      "2022-12-22 19:24:09,515 (server:496)INFO: {'Role': 'Server #', 'Round': 70, 'Results_avg': {'test_loss': nan, 'test_avg_loss': nan, 'test_total': 113.0, 'val_loss': nan, 'val_avg_loss': nan, 'val_total': 113.0}}\n",
      "2022-12-22 19:24:09,516 (monitor:936)INFO: Current best: {'test_loss': 229.135253, 'test_avg_loss': 2.027746, 'test_total': 113.0, 'val_loss': 171.217324, 'val_avg_loss': 1.515198, 'val_total': 113.0}\n",
      "2022-12-22 19:24:09,518 (monitor:936)INFO: Current best: {'test_loss': 229.135253, 'test_avg_loss': 2.027746, 'test_total': 113.0, 'val_loss': 171.217324, 'val_avg_loss': 1.515198, 'val_total': 113.0}\n",
      "2022-12-22 19:24:09,519 (server:323)INFO: Server #0: Starting evaluation at the end of round 70.\n",
      "2022-12-22 19:24:09,520 (server:330)INFO: ----------- Starting a new training round (Round #71) -------------\n",
      "2022-12-22 19:24:09,552 (client:415)INFO: {'Role': 'Client #1', 'Round': 71, 'Results_raw': {'test_loss': nan, 'test_avg_loss': nan, 'test_total': 113, 'val_loss': nan, 'val_avg_loss': nan, 'val_total': 113}}\n",
      "2022-12-22 19:24:09,553 (monitor:936)INFO: Current best: {'test_loss': 229.135253, 'test_avg_loss': 2.027746, 'test_total': 113, 'val_loss': 171.217324, 'val_avg_loss': 1.515198, 'val_total': 113}\n",
      "2022-12-22 19:24:09,671 (client:260)INFO: {'Role': 'Client #1', 'Round': 71, 'Results_raw': {'train_loss': nan, 'train_avg_loss': nan, 'train_total': 901}}\n",
      "2022-12-22 19:24:09,672 (server:496)INFO: {'Role': 'Server #', 'Round': 71, 'Results_avg': {'test_loss': nan, 'test_avg_loss': nan, 'test_total': 113.0, 'val_loss': nan, 'val_avg_loss': nan, 'val_total': 113.0}}\n",
      "2022-12-22 19:24:09,673 (monitor:936)INFO: Current best: {'test_loss': 229.135253, 'test_avg_loss': 2.027746, 'test_total': 113.0, 'val_loss': 171.217324, 'val_avg_loss': 1.515198, 'val_total': 113.0}\n",
      "2022-12-22 19:24:09,675 (monitor:936)INFO: Current best: {'test_loss': 229.135253, 'test_avg_loss': 2.027746, 'test_total': 113.0, 'val_loss': 171.217324, 'val_avg_loss': 1.515198, 'val_total': 113.0}\n",
      "2022-12-22 19:24:09,677 (server:323)INFO: Server #0: Starting evaluation at the end of round 71.\n",
      "2022-12-22 19:24:09,679 (server:330)INFO: ----------- Starting a new training round (Round #72) -------------\n",
      "2022-12-22 19:24:09,708 (client:415)INFO: {'Role': 'Client #1', 'Round': 72, 'Results_raw': {'test_loss': nan, 'test_avg_loss': nan, 'test_total': 113, 'val_loss': nan, 'val_avg_loss': nan, 'val_total': 113}}\n",
      "2022-12-22 19:24:09,709 (monitor:936)INFO: Current best: {'test_loss': 229.135253, 'test_avg_loss': 2.027746, 'test_total': 113, 'val_loss': 171.217324, 'val_avg_loss': 1.515198, 'val_total': 113}\n",
      "2022-12-22 19:24:09,855 (client:260)INFO: {'Role': 'Client #1', 'Round': 72, 'Results_raw': {'train_loss': nan, 'train_avg_loss': nan, 'train_total': 901}}\n",
      "2022-12-22 19:24:09,857 (server:496)INFO: {'Role': 'Server #', 'Round': 72, 'Results_avg': {'test_loss': nan, 'test_avg_loss': nan, 'test_total': 113.0, 'val_loss': nan, 'val_avg_loss': nan, 'val_total': 113.0}}\n",
      "2022-12-22 19:24:09,858 (monitor:936)INFO: Current best: {'test_loss': 229.135253, 'test_avg_loss': 2.027746, 'test_total': 113.0, 'val_loss': 171.217324, 'val_avg_loss': 1.515198, 'val_total': 113.0}\n",
      "2022-12-22 19:24:09,859 (monitor:936)INFO: Current best: {'test_loss': 229.135253, 'test_avg_loss': 2.027746, 'test_total': 113.0, 'val_loss': 171.217324, 'val_avg_loss': 1.515198, 'val_total': 113.0}\n",
      "2022-12-22 19:24:09,863 (server:323)INFO: Server #0: Starting evaluation at the end of round 72.\n",
      "2022-12-22 19:24:09,864 (server:330)INFO: ----------- Starting a new training round (Round #73) -------------\n",
      "2022-12-22 19:24:09,898 (client:415)INFO: {'Role': 'Client #1', 'Round': 73, 'Results_raw': {'test_loss': nan, 'test_avg_loss': nan, 'test_total': 113, 'val_loss': nan, 'val_avg_loss': nan, 'val_total': 113}}\n",
      "2022-12-22 19:24:09,900 (monitor:936)INFO: Current best: {'test_loss': 229.135253, 'test_avg_loss': 2.027746, 'test_total': 113, 'val_loss': 171.217324, 'val_avg_loss': 1.515198, 'val_total': 113}\n",
      "2022-12-22 19:24:10,044 (client:260)INFO: {'Role': 'Client #1', 'Round': 73, 'Results_raw': {'train_loss': nan, 'train_avg_loss': nan, 'train_total': 901}}\n",
      "2022-12-22 19:24:10,045 (server:496)INFO: {'Role': 'Server #', 'Round': 73, 'Results_avg': {'test_loss': nan, 'test_avg_loss': nan, 'test_total': 113.0, 'val_loss': nan, 'val_avg_loss': nan, 'val_total': 113.0}}\n",
      "2022-12-22 19:24:10,046 (monitor:936)INFO: Current best: {'test_loss': 229.135253, 'test_avg_loss': 2.027746, 'test_total': 113.0, 'val_loss': 171.217324, 'val_avg_loss': 1.515198, 'val_total': 113.0}\n",
      "2022-12-22 19:24:10,048 (monitor:936)INFO: Current best: {'test_loss': 229.135253, 'test_avg_loss': 2.027746, 'test_total': 113.0, 'val_loss': 171.217324, 'val_avg_loss': 1.515198, 'val_total': 113.0}\n",
      "2022-12-22 19:24:10,050 (server:323)INFO: Server #0: Starting evaluation at the end of round 73.\n",
      "2022-12-22 19:24:10,051 (server:330)INFO: ----------- Starting a new training round (Round #74) -------------\n",
      "2022-12-22 19:24:10,085 (client:415)INFO: {'Role': 'Client #1', 'Round': 74, 'Results_raw': {'test_loss': nan, 'test_avg_loss': nan, 'test_total': 113, 'val_loss': nan, 'val_avg_loss': nan, 'val_total': 113}}\n",
      "2022-12-22 19:24:10,086 (monitor:936)INFO: Current best: {'test_loss': 229.135253, 'test_avg_loss': 2.027746, 'test_total': 113, 'val_loss': 171.217324, 'val_avg_loss': 1.515198, 'val_total': 113}\n",
      "2022-12-22 19:24:10,230 (client:260)INFO: {'Role': 'Client #1', 'Round': 74, 'Results_raw': {'train_loss': nan, 'train_avg_loss': nan, 'train_total': 901}}\n",
      "2022-12-22 19:24:10,232 (server:496)INFO: {'Role': 'Server #', 'Round': 74, 'Results_avg': {'test_loss': nan, 'test_avg_loss': nan, 'test_total': 113.0, 'val_loss': nan, 'val_avg_loss': nan, 'val_total': 113.0}}\n",
      "2022-12-22 19:24:10,234 (monitor:936)INFO: Current best: {'test_loss': 229.135253, 'test_avg_loss': 2.027746, 'test_total': 113.0, 'val_loss': 171.217324, 'val_avg_loss': 1.515198, 'val_total': 113.0}\n",
      "2022-12-22 19:24:10,235 (monitor:936)INFO: Current best: {'test_loss': 229.135253, 'test_avg_loss': 2.027746, 'test_total': 113.0, 'val_loss': 171.217324, 'val_avg_loss': 1.515198, 'val_total': 113.0}\n",
      "2022-12-22 19:24:10,237 (server:323)INFO: Server #0: Starting evaluation at the end of round 74.\n",
      "2022-12-22 19:24:10,238 (server:330)INFO: ----------- Starting a new training round (Round #75) -------------\n",
      "2022-12-22 19:24:10,274 (client:415)INFO: {'Role': 'Client #1', 'Round': 75, 'Results_raw': {'test_loss': nan, 'test_avg_loss': nan, 'test_total': 113, 'val_loss': nan, 'val_avg_loss': nan, 'val_total': 113}}\n",
      "2022-12-22 19:24:10,275 (monitor:936)INFO: Current best: {'test_loss': 229.135253, 'test_avg_loss': 2.027746, 'test_total': 113, 'val_loss': 171.217324, 'val_avg_loss': 1.515198, 'val_total': 113}\n",
      "2022-12-22 19:24:10,399 (client:260)INFO: {'Role': 'Client #1', 'Round': 75, 'Results_raw': {'train_loss': nan, 'train_avg_loss': nan, 'train_total': 901}}\n",
      "2022-12-22 19:24:10,400 (server:496)INFO: {'Role': 'Server #', 'Round': 75, 'Results_avg': {'test_loss': nan, 'test_avg_loss': nan, 'test_total': 113.0, 'val_loss': nan, 'val_avg_loss': nan, 'val_total': 113.0}}\n",
      "2022-12-22 19:24:10,401 (monitor:936)INFO: Current best: {'test_loss': 229.135253, 'test_avg_loss': 2.027746, 'test_total': 113.0, 'val_loss': 171.217324, 'val_avg_loss': 1.515198, 'val_total': 113.0}\n",
      "2022-12-22 19:24:10,403 (monitor:936)INFO: Current best: {'test_loss': 229.135253, 'test_avg_loss': 2.027746, 'test_total': 113.0, 'val_loss': 171.217324, 'val_avg_loss': 1.515198, 'val_total': 113.0}\n",
      "2022-12-22 19:24:10,407 (server:323)INFO: Server #0: Starting evaluation at the end of round 75.\n",
      "2022-12-22 19:24:10,409 (server:330)INFO: ----------- Starting a new training round (Round #76) -------------\n",
      "2022-12-22 19:24:10,439 (client:415)INFO: {'Role': 'Client #1', 'Round': 76, 'Results_raw': {'test_loss': nan, 'test_avg_loss': nan, 'test_total': 113, 'val_loss': nan, 'val_avg_loss': nan, 'val_total': 113}}\n",
      "2022-12-22 19:24:10,440 (monitor:936)INFO: Current best: {'test_loss': 229.135253, 'test_avg_loss': 2.027746, 'test_total': 113, 'val_loss': 171.217324, 'val_avg_loss': 1.515198, 'val_total': 113}\n",
      "2022-12-22 19:24:10,584 (client:260)INFO: {'Role': 'Client #1', 'Round': 76, 'Results_raw': {'train_loss': nan, 'train_avg_loss': nan, 'train_total': 901}}\n",
      "2022-12-22 19:24:10,585 (server:496)INFO: {'Role': 'Server #', 'Round': 76, 'Results_avg': {'test_loss': nan, 'test_avg_loss': nan, 'test_total': 113.0, 'val_loss': nan, 'val_avg_loss': nan, 'val_total': 113.0}}\n",
      "2022-12-22 19:24:10,587 (monitor:936)INFO: Current best: {'test_loss': 229.135253, 'test_avg_loss': 2.027746, 'test_total': 113.0, 'val_loss': 171.217324, 'val_avg_loss': 1.515198, 'val_total': 113.0}\n",
      "2022-12-22 19:24:10,589 (monitor:936)INFO: Current best: {'test_loss': 229.135253, 'test_avg_loss': 2.027746, 'test_total': 113.0, 'val_loss': 171.217324, 'val_avg_loss': 1.515198, 'val_total': 113.0}\n",
      "2022-12-22 19:24:10,591 (server:323)INFO: Server #0: Starting evaluation at the end of round 76.\n",
      "2022-12-22 19:24:10,592 (server:330)INFO: ----------- Starting a new training round (Round #77) -------------\n",
      "2022-12-22 19:24:10,623 (client:415)INFO: {'Role': 'Client #1', 'Round': 77, 'Results_raw': {'test_loss': nan, 'test_avg_loss': nan, 'test_total': 113, 'val_loss': nan, 'val_avg_loss': nan, 'val_total': 113}}\n",
      "2022-12-22 19:24:10,624 (monitor:936)INFO: Current best: {'test_loss': 229.135253, 'test_avg_loss': 2.027746, 'test_total': 113, 'val_loss': 171.217324, 'val_avg_loss': 1.515198, 'val_total': 113}\n",
      "2022-12-22 19:24:10,765 (client:260)INFO: {'Role': 'Client #1', 'Round': 77, 'Results_raw': {'train_loss': nan, 'train_avg_loss': nan, 'train_total': 901}}\n",
      "2022-12-22 19:24:10,767 (server:496)INFO: {'Role': 'Server #', 'Round': 77, 'Results_avg': {'test_loss': nan, 'test_avg_loss': nan, 'test_total': 113.0, 'val_loss': nan, 'val_avg_loss': nan, 'val_total': 113.0}}\n",
      "2022-12-22 19:24:10,768 (monitor:936)INFO: Current best: {'test_loss': 229.135253, 'test_avg_loss': 2.027746, 'test_total': 113.0, 'val_loss': 171.217324, 'val_avg_loss': 1.515198, 'val_total': 113.0}\n",
      "2022-12-22 19:24:10,770 (monitor:936)INFO: Current best: {'test_loss': 229.135253, 'test_avg_loss': 2.027746, 'test_total': 113.0, 'val_loss': 171.217324, 'val_avg_loss': 1.515198, 'val_total': 113.0}\n",
      "2022-12-22 19:24:10,772 (server:323)INFO: Server #0: Starting evaluation at the end of round 77.\n",
      "2022-12-22 19:24:10,773 (server:330)INFO: ----------- Starting a new training round (Round #78) -------------\n",
      "2022-12-22 19:24:10,807 (client:415)INFO: {'Role': 'Client #1', 'Round': 78, 'Results_raw': {'test_loss': nan, 'test_avg_loss': nan, 'test_total': 113, 'val_loss': nan, 'val_avg_loss': nan, 'val_total': 113}}\n",
      "2022-12-22 19:24:10,808 (monitor:936)INFO: Current best: {'test_loss': 229.135253, 'test_avg_loss': 2.027746, 'test_total': 113, 'val_loss': 171.217324, 'val_avg_loss': 1.515198, 'val_total': 113}\n",
      "2022-12-22 19:24:10,951 (client:260)INFO: {'Role': 'Client #1', 'Round': 78, 'Results_raw': {'train_loss': nan, 'train_avg_loss': nan, 'train_total': 901}}\n",
      "2022-12-22 19:24:10,953 (server:496)INFO: {'Role': 'Server #', 'Round': 78, 'Results_avg': {'test_loss': nan, 'test_avg_loss': nan, 'test_total': 113.0, 'val_loss': nan, 'val_avg_loss': nan, 'val_total': 113.0}}\n",
      "2022-12-22 19:24:10,954 (monitor:936)INFO: Current best: {'test_loss': 229.135253, 'test_avg_loss': 2.027746, 'test_total': 113.0, 'val_loss': 171.217324, 'val_avg_loss': 1.515198, 'val_total': 113.0}\n",
      "2022-12-22 19:24:10,956 (monitor:936)INFO: Current best: {'test_loss': 229.135253, 'test_avg_loss': 2.027746, 'test_total': 113.0, 'val_loss': 171.217324, 'val_avg_loss': 1.515198, 'val_total': 113.0}\n",
      "2022-12-22 19:24:10,958 (server:323)INFO: Server #0: Starting evaluation at the end of round 78.\n",
      "2022-12-22 19:24:10,959 (server:330)INFO: ----------- Starting a new training round (Round #79) -------------\n",
      "2022-12-22 19:24:10,990 (client:415)INFO: {'Role': 'Client #1', 'Round': 79, 'Results_raw': {'test_loss': nan, 'test_avg_loss': nan, 'test_total': 113, 'val_loss': nan, 'val_avg_loss': nan, 'val_total': 113}}\n",
      "2022-12-22 19:24:10,991 (monitor:936)INFO: Current best: {'test_loss': 229.135253, 'test_avg_loss': 2.027746, 'test_total': 113, 'val_loss': 171.217324, 'val_avg_loss': 1.515198, 'val_total': 113}\n",
      "2022-12-22 19:24:11,132 (client:260)INFO: {'Role': 'Client #1', 'Round': 79, 'Results_raw': {'train_loss': nan, 'train_avg_loss': nan, 'train_total': 901}}\n",
      "2022-12-22 19:24:11,134 (server:496)INFO: {'Role': 'Server #', 'Round': 79, 'Results_avg': {'test_loss': nan, 'test_avg_loss': nan, 'test_total': 113.0, 'val_loss': nan, 'val_avg_loss': nan, 'val_total': 113.0}}\n",
      "2022-12-22 19:24:11,136 (monitor:936)INFO: Current best: {'test_loss': 229.135253, 'test_avg_loss': 2.027746, 'test_total': 113.0, 'val_loss': 171.217324, 'val_avg_loss': 1.515198, 'val_total': 113.0}\n",
      "2022-12-22 19:24:11,138 (monitor:936)INFO: Current best: {'test_loss': 229.135253, 'test_avg_loss': 2.027746, 'test_total': 113.0, 'val_loss': 171.217324, 'val_avg_loss': 1.515198, 'val_total': 113.0}\n",
      "2022-12-22 19:24:11,140 (server:323)INFO: Server #0: Starting evaluation at the end of round 79.\n",
      "2022-12-22 19:24:11,141 (server:330)INFO: ----------- Starting a new training round (Round #80) -------------\n",
      "2022-12-22 19:24:11,174 (client:415)INFO: {'Role': 'Client #1', 'Round': 80, 'Results_raw': {'test_loss': nan, 'test_avg_loss': nan, 'test_total': 113, 'val_loss': nan, 'val_avg_loss': nan, 'val_total': 113}}\n",
      "2022-12-22 19:24:11,175 (monitor:936)INFO: Current best: {'test_loss': 229.135253, 'test_avg_loss': 2.027746, 'test_total': 113, 'val_loss': 171.217324, 'val_avg_loss': 1.515198, 'val_total': 113}\n",
      "2022-12-22 19:24:11,321 (client:260)INFO: {'Role': 'Client #1', 'Round': 80, 'Results_raw': {'train_loss': nan, 'train_avg_loss': nan, 'train_total': 901}}\n",
      "2022-12-22 19:24:11,322 (server:496)INFO: {'Role': 'Server #', 'Round': 80, 'Results_avg': {'test_loss': nan, 'test_avg_loss': nan, 'test_total': 113.0, 'val_loss': nan, 'val_avg_loss': nan, 'val_total': 113.0}}\n",
      "2022-12-22 19:24:11,323 (monitor:936)INFO: Current best: {'test_loss': 229.135253, 'test_avg_loss': 2.027746, 'test_total': 113.0, 'val_loss': 171.217324, 'val_avg_loss': 1.515198, 'val_total': 113.0}\n",
      "2022-12-22 19:24:11,324 (monitor:936)INFO: Current best: {'test_loss': 229.135253, 'test_avg_loss': 2.027746, 'test_total': 113.0, 'val_loss': 171.217324, 'val_avg_loss': 1.515198, 'val_total': 113.0}\n",
      "2022-12-22 19:24:11,326 (server:323)INFO: Server #0: Starting evaluation at the end of round 80.\n",
      "2022-12-22 19:24:11,327 (server:330)INFO: ----------- Starting a new training round (Round #81) -------------\n",
      "2022-12-22 19:24:11,361 (client:415)INFO: {'Role': 'Client #1', 'Round': 81, 'Results_raw': {'test_loss': nan, 'test_avg_loss': nan, 'test_total': 113, 'val_loss': nan, 'val_avg_loss': nan, 'val_total': 113}}\n",
      "2022-12-22 19:24:11,362 (monitor:936)INFO: Current best: {'test_loss': 229.135253, 'test_avg_loss': 2.027746, 'test_total': 113, 'val_loss': 171.217324, 'val_avg_loss': 1.515198, 'val_total': 113}\n",
      "2022-12-22 19:24:11,498 (client:260)INFO: {'Role': 'Client #1', 'Round': 81, 'Results_raw': {'train_loss': nan, 'train_avg_loss': nan, 'train_total': 901}}\n",
      "2022-12-22 19:24:11,501 (server:496)INFO: {'Role': 'Server #', 'Round': 81, 'Results_avg': {'test_loss': nan, 'test_avg_loss': nan, 'test_total': 113.0, 'val_loss': nan, 'val_avg_loss': nan, 'val_total': 113.0}}\n",
      "2022-12-22 19:24:11,502 (monitor:936)INFO: Current best: {'test_loss': 229.135253, 'test_avg_loss': 2.027746, 'test_total': 113.0, 'val_loss': 171.217324, 'val_avg_loss': 1.515198, 'val_total': 113.0}\n",
      "2022-12-22 19:24:11,503 (monitor:936)INFO: Current best: {'test_loss': 229.135253, 'test_avg_loss': 2.027746, 'test_total': 113.0, 'val_loss': 171.217324, 'val_avg_loss': 1.515198, 'val_total': 113.0}\n",
      "2022-12-22 19:24:11,505 (server:323)INFO: Server #0: Starting evaluation at the end of round 81.\n",
      "2022-12-22 19:24:11,506 (server:330)INFO: ----------- Starting a new training round (Round #82) -------------\n",
      "2022-12-22 19:24:11,539 (client:415)INFO: {'Role': 'Client #1', 'Round': 82, 'Results_raw': {'test_loss': nan, 'test_avg_loss': nan, 'test_total': 113, 'val_loss': nan, 'val_avg_loss': nan, 'val_total': 113}}\n",
      "2022-12-22 19:24:11,539 (monitor:936)INFO: Current best: {'test_loss': 229.135253, 'test_avg_loss': 2.027746, 'test_total': 113, 'val_loss': 171.217324, 'val_avg_loss': 1.515198, 'val_total': 113}\n",
      "2022-12-22 19:24:11,688 (client:260)INFO: {'Role': 'Client #1', 'Round': 82, 'Results_raw': {'train_loss': nan, 'train_avg_loss': nan, 'train_total': 901}}\n",
      "2022-12-22 19:24:11,691 (server:496)INFO: {'Role': 'Server #', 'Round': 82, 'Results_avg': {'test_loss': nan, 'test_avg_loss': nan, 'test_total': 113.0, 'val_loss': nan, 'val_avg_loss': nan, 'val_total': 113.0}}\n",
      "2022-12-22 19:24:11,691 (monitor:936)INFO: Current best: {'test_loss': 229.135253, 'test_avg_loss': 2.027746, 'test_total': 113.0, 'val_loss': 171.217324, 'val_avg_loss': 1.515198, 'val_total': 113.0}\n",
      "2022-12-22 19:24:11,692 (monitor:936)INFO: Current best: {'test_loss': 229.135253, 'test_avg_loss': 2.027746, 'test_total': 113.0, 'val_loss': 171.217324, 'val_avg_loss': 1.515198, 'val_total': 113.0}\n",
      "2022-12-22 19:24:11,695 (server:323)INFO: Server #0: Starting evaluation at the end of round 82.\n",
      "2022-12-22 19:24:11,696 (server:330)INFO: ----------- Starting a new training round (Round #83) -------------\n",
      "2022-12-22 19:24:11,728 (client:415)INFO: {'Role': 'Client #1', 'Round': 83, 'Results_raw': {'test_loss': nan, 'test_avg_loss': nan, 'test_total': 113, 'val_loss': nan, 'val_avg_loss': nan, 'val_total': 113}}\n",
      "2022-12-22 19:24:11,730 (monitor:936)INFO: Current best: {'test_loss': 229.135253, 'test_avg_loss': 2.027746, 'test_total': 113, 'val_loss': 171.217324, 'val_avg_loss': 1.515198, 'val_total': 113}\n",
      "2022-12-22 19:24:11,867 (client:260)INFO: {'Role': 'Client #1', 'Round': 83, 'Results_raw': {'train_loss': nan, 'train_avg_loss': nan, 'train_total': 901}}\n",
      "2022-12-22 19:24:11,869 (server:496)INFO: {'Role': 'Server #', 'Round': 83, 'Results_avg': {'test_loss': nan, 'test_avg_loss': nan, 'test_total': 113.0, 'val_loss': nan, 'val_avg_loss': nan, 'val_total': 113.0}}\n",
      "2022-12-22 19:24:11,871 (monitor:936)INFO: Current best: {'test_loss': 229.135253, 'test_avg_loss': 2.027746, 'test_total': 113.0, 'val_loss': 171.217324, 'val_avg_loss': 1.515198, 'val_total': 113.0}\n",
      "2022-12-22 19:24:11,872 (monitor:936)INFO: Current best: {'test_loss': 229.135253, 'test_avg_loss': 2.027746, 'test_total': 113.0, 'val_loss': 171.217324, 'val_avg_loss': 1.515198, 'val_total': 113.0}\n",
      "2022-12-22 19:24:11,874 (server:323)INFO: Server #0: Starting evaluation at the end of round 83.\n",
      "2022-12-22 19:24:11,876 (server:330)INFO: ----------- Starting a new training round (Round #84) -------------\n",
      "2022-12-22 19:24:11,913 (client:415)INFO: {'Role': 'Client #1', 'Round': 84, 'Results_raw': {'test_loss': nan, 'test_avg_loss': nan, 'test_total': 113, 'val_loss': nan, 'val_avg_loss': nan, 'val_total': 113}}\n",
      "2022-12-22 19:24:11,914 (monitor:936)INFO: Current best: {'test_loss': 229.135253, 'test_avg_loss': 2.027746, 'test_total': 113, 'val_loss': 171.217324, 'val_avg_loss': 1.515198, 'val_total': 113}\n",
      "2022-12-22 19:24:12,057 (client:260)INFO: {'Role': 'Client #1', 'Round': 84, 'Results_raw': {'train_loss': nan, 'train_avg_loss': nan, 'train_total': 901}}\n",
      "2022-12-22 19:24:12,058 (server:496)INFO: {'Role': 'Server #', 'Round': 84, 'Results_avg': {'test_loss': nan, 'test_avg_loss': nan, 'test_total': 113.0, 'val_loss': nan, 'val_avg_loss': nan, 'val_total': 113.0}}\n",
      "2022-12-22 19:24:12,059 (monitor:936)INFO: Current best: {'test_loss': 229.135253, 'test_avg_loss': 2.027746, 'test_total': 113.0, 'val_loss': 171.217324, 'val_avg_loss': 1.515198, 'val_total': 113.0}\n",
      "2022-12-22 19:24:12,061 (monitor:936)INFO: Current best: {'test_loss': 229.135253, 'test_avg_loss': 2.027746, 'test_total': 113.0, 'val_loss': 171.217324, 'val_avg_loss': 1.515198, 'val_total': 113.0}\n",
      "2022-12-22 19:24:12,066 (server:323)INFO: Server #0: Starting evaluation at the end of round 84.\n",
      "2022-12-22 19:24:12,067 (server:330)INFO: ----------- Starting a new training round (Round #85) -------------\n",
      "2022-12-22 19:24:12,099 (client:415)INFO: {'Role': 'Client #1', 'Round': 85, 'Results_raw': {'test_loss': nan, 'test_avg_loss': nan, 'test_total': 113, 'val_loss': nan, 'val_avg_loss': nan, 'val_total': 113}}\n",
      "2022-12-22 19:24:12,100 (monitor:936)INFO: Current best: {'test_loss': 229.135253, 'test_avg_loss': 2.027746, 'test_total': 113, 'val_loss': 171.217324, 'val_avg_loss': 1.515198, 'val_total': 113}\n",
      "2022-12-22 19:24:12,259 (client:260)INFO: {'Role': 'Client #1', 'Round': 85, 'Results_raw': {'train_loss': nan, 'train_avg_loss': nan, 'train_total': 901}}\n",
      "2022-12-22 19:24:12,260 (server:496)INFO: {'Role': 'Server #', 'Round': 85, 'Results_avg': {'test_loss': nan, 'test_avg_loss': nan, 'test_total': 113.0, 'val_loss': nan, 'val_avg_loss': nan, 'val_total': 113.0}}\n",
      "2022-12-22 19:24:12,261 (monitor:936)INFO: Current best: {'test_loss': 229.135253, 'test_avg_loss': 2.027746, 'test_total': 113.0, 'val_loss': 171.217324, 'val_avg_loss': 1.515198, 'val_total': 113.0}\n",
      "2022-12-22 19:24:12,263 (monitor:936)INFO: Current best: {'test_loss': 229.135253, 'test_avg_loss': 2.027746, 'test_total': 113.0, 'val_loss': 171.217324, 'val_avg_loss': 1.515198, 'val_total': 113.0}\n",
      "2022-12-22 19:24:12,265 (server:323)INFO: Server #0: Starting evaluation at the end of round 85.\n",
      "2022-12-22 19:24:12,267 (server:330)INFO: ----------- Starting a new training round (Round #86) -------------\n",
      "2022-12-22 19:24:12,304 (client:415)INFO: {'Role': 'Client #1', 'Round': 86, 'Results_raw': {'test_loss': nan, 'test_avg_loss': nan, 'test_total': 113, 'val_loss': nan, 'val_avg_loss': nan, 'val_total': 113}}\n",
      "2022-12-22 19:24:12,305 (monitor:936)INFO: Current best: {'test_loss': 229.135253, 'test_avg_loss': 2.027746, 'test_total': 113, 'val_loss': 171.217324, 'val_avg_loss': 1.515198, 'val_total': 113}\n",
      "2022-12-22 19:24:12,454 (client:260)INFO: {'Role': 'Client #1', 'Round': 86, 'Results_raw': {'train_loss': nan, 'train_avg_loss': nan, 'train_total': 901}}\n",
      "2022-12-22 19:24:12,457 (server:496)INFO: {'Role': 'Server #', 'Round': 86, 'Results_avg': {'test_loss': nan, 'test_avg_loss': nan, 'test_total': 113.0, 'val_loss': nan, 'val_avg_loss': nan, 'val_total': 113.0}}\n",
      "2022-12-22 19:24:12,458 (monitor:936)INFO: Current best: {'test_loss': 229.135253, 'test_avg_loss': 2.027746, 'test_total': 113.0, 'val_loss': 171.217324, 'val_avg_loss': 1.515198, 'val_total': 113.0}\n",
      "2022-12-22 19:24:12,460 (monitor:936)INFO: Current best: {'test_loss': 229.135253, 'test_avg_loss': 2.027746, 'test_total': 113.0, 'val_loss': 171.217324, 'val_avg_loss': 1.515198, 'val_total': 113.0}\n",
      "2022-12-22 19:24:12,462 (server:323)INFO: Server #0: Starting evaluation at the end of round 86.\n",
      "2022-12-22 19:24:12,462 (server:330)INFO: ----------- Starting a new training round (Round #87) -------------\n",
      "2022-12-22 19:24:12,499 (client:415)INFO: {'Role': 'Client #1', 'Round': 87, 'Results_raw': {'test_loss': nan, 'test_avg_loss': nan, 'test_total': 113, 'val_loss': nan, 'val_avg_loss': nan, 'val_total': 113}}\n",
      "2022-12-22 19:24:12,500 (monitor:936)INFO: Current best: {'test_loss': 229.135253, 'test_avg_loss': 2.027746, 'test_total': 113, 'val_loss': 171.217324, 'val_avg_loss': 1.515198, 'val_total': 113}\n",
      "2022-12-22 19:24:12,664 (client:260)INFO: {'Role': 'Client #1', 'Round': 87, 'Results_raw': {'train_loss': nan, 'train_avg_loss': nan, 'train_total': 901}}\n",
      "2022-12-22 19:24:12,665 (server:496)INFO: {'Role': 'Server #', 'Round': 87, 'Results_avg': {'test_loss': nan, 'test_avg_loss': nan, 'test_total': 113.0, 'val_loss': nan, 'val_avg_loss': nan, 'val_total': 113.0}}\n",
      "2022-12-22 19:24:12,666 (monitor:936)INFO: Current best: {'test_loss': 229.135253, 'test_avg_loss': 2.027746, 'test_total': 113.0, 'val_loss': 171.217324, 'val_avg_loss': 1.515198, 'val_total': 113.0}\n",
      "2022-12-22 19:24:12,667 (monitor:936)INFO: Current best: {'test_loss': 229.135253, 'test_avg_loss': 2.027746, 'test_total': 113.0, 'val_loss': 171.217324, 'val_avg_loss': 1.515198, 'val_total': 113.0}\n",
      "2022-12-22 19:24:12,669 (server:323)INFO: Server #0: Starting evaluation at the end of round 87.\n",
      "2022-12-22 19:24:12,669 (server:330)INFO: ----------- Starting a new training round (Round #88) -------------\n",
      "2022-12-22 19:24:12,699 (client:415)INFO: {'Role': 'Client #1', 'Round': 88, 'Results_raw': {'test_loss': nan, 'test_avg_loss': nan, 'test_total': 113, 'val_loss': nan, 'val_avg_loss': nan, 'val_total': 113}}\n",
      "2022-12-22 19:24:12,700 (monitor:936)INFO: Current best: {'test_loss': 229.135253, 'test_avg_loss': 2.027746, 'test_total': 113, 'val_loss': 171.217324, 'val_avg_loss': 1.515198, 'val_total': 113}\n",
      "2022-12-22 19:24:12,848 (client:260)INFO: {'Role': 'Client #1', 'Round': 88, 'Results_raw': {'train_loss': nan, 'train_avg_loss': nan, 'train_total': 901}}\n",
      "2022-12-22 19:24:12,850 (server:496)INFO: {'Role': 'Server #', 'Round': 88, 'Results_avg': {'test_loss': nan, 'test_avg_loss': nan, 'test_total': 113.0, 'val_loss': nan, 'val_avg_loss': nan, 'val_total': 113.0}}\n",
      "2022-12-22 19:24:12,851 (monitor:936)INFO: Current best: {'test_loss': 229.135253, 'test_avg_loss': 2.027746, 'test_total': 113.0, 'val_loss': 171.217324, 'val_avg_loss': 1.515198, 'val_total': 113.0}\n",
      "2022-12-22 19:24:12,853 (monitor:936)INFO: Current best: {'test_loss': 229.135253, 'test_avg_loss': 2.027746, 'test_total': 113.0, 'val_loss': 171.217324, 'val_avg_loss': 1.515198, 'val_total': 113.0}\n",
      "2022-12-22 19:24:12,856 (server:323)INFO: Server #0: Starting evaluation at the end of round 88.\n",
      "2022-12-22 19:24:12,857 (server:330)INFO: ----------- Starting a new training round (Round #89) -------------\n",
      "2022-12-22 19:24:12,889 (client:415)INFO: {'Role': 'Client #1', 'Round': 89, 'Results_raw': {'test_loss': nan, 'test_avg_loss': nan, 'test_total': 113, 'val_loss': nan, 'val_avg_loss': nan, 'val_total': 113}}\n",
      "2022-12-22 19:24:12,890 (monitor:936)INFO: Current best: {'test_loss': 229.135253, 'test_avg_loss': 2.027746, 'test_total': 113, 'val_loss': 171.217324, 'val_avg_loss': 1.515198, 'val_total': 113}\n",
      "2022-12-22 19:24:13,021 (client:260)INFO: {'Role': 'Client #1', 'Round': 89, 'Results_raw': {'train_loss': nan, 'train_avg_loss': nan, 'train_total': 901}}\n",
      "2022-12-22 19:24:13,023 (server:496)INFO: {'Role': 'Server #', 'Round': 89, 'Results_avg': {'test_loss': nan, 'test_avg_loss': nan, 'test_total': 113.0, 'val_loss': nan, 'val_avg_loss': nan, 'val_total': 113.0}}\n",
      "2022-12-22 19:24:13,024 (monitor:936)INFO: Current best: {'test_loss': 229.135253, 'test_avg_loss': 2.027746, 'test_total': 113.0, 'val_loss': 171.217324, 'val_avg_loss': 1.515198, 'val_total': 113.0}\n",
      "2022-12-22 19:24:13,025 (monitor:936)INFO: Current best: {'test_loss': 229.135253, 'test_avg_loss': 2.027746, 'test_total': 113.0, 'val_loss': 171.217324, 'val_avg_loss': 1.515198, 'val_total': 113.0}\n",
      "2022-12-22 19:24:13,027 (server:323)INFO: Server #0: Starting evaluation at the end of round 89.\n",
      "2022-12-22 19:24:13,028 (server:330)INFO: ----------- Starting a new training round (Round #90) -------------\n",
      "2022-12-22 19:24:13,061 (client:415)INFO: {'Role': 'Client #1', 'Round': 90, 'Results_raw': {'test_loss': nan, 'test_avg_loss': nan, 'test_total': 113, 'val_loss': nan, 'val_avg_loss': nan, 'val_total': 113}}\n",
      "2022-12-22 19:24:13,062 (monitor:936)INFO: Current best: {'test_loss': 229.135253, 'test_avg_loss': 2.027746, 'test_total': 113, 'val_loss': 171.217324, 'val_avg_loss': 1.515198, 'val_total': 113}\n",
      "2022-12-22 19:24:13,182 (client:260)INFO: {'Role': 'Client #1', 'Round': 90, 'Results_raw': {'train_loss': nan, 'train_avg_loss': nan, 'train_total': 901}}\n",
      "2022-12-22 19:24:13,184 (server:496)INFO: {'Role': 'Server #', 'Round': 90, 'Results_avg': {'test_loss': nan, 'test_avg_loss': nan, 'test_total': 113.0, 'val_loss': nan, 'val_avg_loss': nan, 'val_total': 113.0}}\n",
      "2022-12-22 19:24:13,185 (monitor:936)INFO: Current best: {'test_loss': 229.135253, 'test_avg_loss': 2.027746, 'test_total': 113.0, 'val_loss': 171.217324, 'val_avg_loss': 1.515198, 'val_total': 113.0}\n",
      "2022-12-22 19:24:13,186 (monitor:936)INFO: Current best: {'test_loss': 229.135253, 'test_avg_loss': 2.027746, 'test_total': 113.0, 'val_loss': 171.217324, 'val_avg_loss': 1.515198, 'val_total': 113.0}\n",
      "2022-12-22 19:24:13,188 (server:323)INFO: Server #0: Starting evaluation at the end of round 90.\n",
      "2022-12-22 19:24:13,189 (server:330)INFO: ----------- Starting a new training round (Round #91) -------------\n",
      "2022-12-22 19:24:13,221 (client:415)INFO: {'Role': 'Client #1', 'Round': 91, 'Results_raw': {'test_loss': nan, 'test_avg_loss': nan, 'test_total': 113, 'val_loss': nan, 'val_avg_loss': nan, 'val_total': 113}}\n",
      "2022-12-22 19:24:13,222 (monitor:936)INFO: Current best: {'test_loss': 229.135253, 'test_avg_loss': 2.027746, 'test_total': 113, 'val_loss': 171.217324, 'val_avg_loss': 1.515198, 'val_total': 113}\n",
      "2022-12-22 19:24:13,337 (client:260)INFO: {'Role': 'Client #1', 'Round': 91, 'Results_raw': {'train_loss': nan, 'train_avg_loss': nan, 'train_total': 901}}\n",
      "2022-12-22 19:24:13,339 (server:496)INFO: {'Role': 'Server #', 'Round': 91, 'Results_avg': {'test_loss': nan, 'test_avg_loss': nan, 'test_total': 113.0, 'val_loss': nan, 'val_avg_loss': nan, 'val_total': 113.0}}\n",
      "2022-12-22 19:24:13,339 (monitor:936)INFO: Current best: {'test_loss': 229.135253, 'test_avg_loss': 2.027746, 'test_total': 113.0, 'val_loss': 171.217324, 'val_avg_loss': 1.515198, 'val_total': 113.0}\n",
      "2022-12-22 19:24:13,340 (monitor:936)INFO: Current best: {'test_loss': 229.135253, 'test_avg_loss': 2.027746, 'test_total': 113.0, 'val_loss': 171.217324, 'val_avg_loss': 1.515198, 'val_total': 113.0}\n",
      "2022-12-22 19:24:13,342 (server:323)INFO: Server #0: Starting evaluation at the end of round 91.\n",
      "2022-12-22 19:24:13,343 (server:330)INFO: ----------- Starting a new training round (Round #92) -------------\n",
      "2022-12-22 19:24:13,375 (client:415)INFO: {'Role': 'Client #1', 'Round': 92, 'Results_raw': {'test_loss': nan, 'test_avg_loss': nan, 'test_total': 113, 'val_loss': nan, 'val_avg_loss': nan, 'val_total': 113}}\n",
      "2022-12-22 19:24:13,375 (monitor:936)INFO: Current best: {'test_loss': 229.135253, 'test_avg_loss': 2.027746, 'test_total': 113, 'val_loss': 171.217324, 'val_avg_loss': 1.515198, 'val_total': 113}\n",
      "2022-12-22 19:24:13,492 (client:260)INFO: {'Role': 'Client #1', 'Round': 92, 'Results_raw': {'train_loss': nan, 'train_avg_loss': nan, 'train_total': 901}}\n",
      "2022-12-22 19:24:13,494 (server:496)INFO: {'Role': 'Server #', 'Round': 92, 'Results_avg': {'test_loss': nan, 'test_avg_loss': nan, 'test_total': 113.0, 'val_loss': nan, 'val_avg_loss': nan, 'val_total': 113.0}}\n",
      "2022-12-22 19:24:13,496 (monitor:936)INFO: Current best: {'test_loss': 229.135253, 'test_avg_loss': 2.027746, 'test_total': 113.0, 'val_loss': 171.217324, 'val_avg_loss': 1.515198, 'val_total': 113.0}\n",
      "2022-12-22 19:24:13,498 (monitor:936)INFO: Current best: {'test_loss': 229.135253, 'test_avg_loss': 2.027746, 'test_total': 113.0, 'val_loss': 171.217324, 'val_avg_loss': 1.515198, 'val_total': 113.0}\n",
      "2022-12-22 19:24:13,501 (server:323)INFO: Server #0: Starting evaluation at the end of round 92.\n",
      "2022-12-22 19:24:13,502 (server:330)INFO: ----------- Starting a new training round (Round #93) -------------\n",
      "2022-12-22 19:24:13,534 (client:415)INFO: {'Role': 'Client #1', 'Round': 93, 'Results_raw': {'test_loss': nan, 'test_avg_loss': nan, 'test_total': 113, 'val_loss': nan, 'val_avg_loss': nan, 'val_total': 113}}\n",
      "2022-12-22 19:24:13,535 (monitor:936)INFO: Current best: {'test_loss': 229.135253, 'test_avg_loss': 2.027746, 'test_total': 113, 'val_loss': 171.217324, 'val_avg_loss': 1.515198, 'val_total': 113}\n",
      "2022-12-22 19:24:13,677 (client:260)INFO: {'Role': 'Client #1', 'Round': 93, 'Results_raw': {'train_loss': nan, 'train_avg_loss': nan, 'train_total': 901}}\n",
      "2022-12-22 19:24:13,679 (server:496)INFO: {'Role': 'Server #', 'Round': 93, 'Results_avg': {'test_loss': nan, 'test_avg_loss': nan, 'test_total': 113.0, 'val_loss': nan, 'val_avg_loss': nan, 'val_total': 113.0}}\n",
      "2022-12-22 19:24:13,680 (monitor:936)INFO: Current best: {'test_loss': 229.135253, 'test_avg_loss': 2.027746, 'test_total': 113.0, 'val_loss': 171.217324, 'val_avg_loss': 1.515198, 'val_total': 113.0}\n",
      "2022-12-22 19:24:13,682 (monitor:936)INFO: Current best: {'test_loss': 229.135253, 'test_avg_loss': 2.027746, 'test_total': 113.0, 'val_loss': 171.217324, 'val_avg_loss': 1.515198, 'val_total': 113.0}\n",
      "2022-12-22 19:24:13,684 (server:323)INFO: Server #0: Starting evaluation at the end of round 93.\n",
      "2022-12-22 19:24:13,685 (server:330)INFO: ----------- Starting a new training round (Round #94) -------------\n",
      "2022-12-22 19:24:13,721 (client:415)INFO: {'Role': 'Client #1', 'Round': 94, 'Results_raw': {'test_loss': nan, 'test_avg_loss': nan, 'test_total': 113, 'val_loss': nan, 'val_avg_loss': nan, 'val_total': 113}}\n",
      "2022-12-22 19:24:13,722 (monitor:936)INFO: Current best: {'test_loss': 229.135253, 'test_avg_loss': 2.027746, 'test_total': 113, 'val_loss': 171.217324, 'val_avg_loss': 1.515198, 'val_total': 113}\n",
      "2022-12-22 19:24:13,843 (client:260)INFO: {'Role': 'Client #1', 'Round': 94, 'Results_raw': {'train_loss': nan, 'train_avg_loss': nan, 'train_total': 901}}\n",
      "2022-12-22 19:24:13,845 (server:496)INFO: {'Role': 'Server #', 'Round': 94, 'Results_avg': {'test_loss': nan, 'test_avg_loss': nan, 'test_total': 113.0, 'val_loss': nan, 'val_avg_loss': nan, 'val_total': 113.0}}\n",
      "2022-12-22 19:24:13,846 (monitor:936)INFO: Current best: {'test_loss': 229.135253, 'test_avg_loss': 2.027746, 'test_total': 113.0, 'val_loss': 171.217324, 'val_avg_loss': 1.515198, 'val_total': 113.0}\n",
      "2022-12-22 19:24:13,847 (monitor:936)INFO: Current best: {'test_loss': 229.135253, 'test_avg_loss': 2.027746, 'test_total': 113.0, 'val_loss': 171.217324, 'val_avg_loss': 1.515198, 'val_total': 113.0}\n",
      "2022-12-22 19:24:13,850 (server:323)INFO: Server #0: Starting evaluation at the end of round 94.\n",
      "2022-12-22 19:24:13,852 (server:330)INFO: ----------- Starting a new training round (Round #95) -------------\n",
      "2022-12-22 19:24:13,884 (client:415)INFO: {'Role': 'Client #1', 'Round': 95, 'Results_raw': {'test_loss': nan, 'test_avg_loss': nan, 'test_total': 113, 'val_loss': nan, 'val_avg_loss': nan, 'val_total': 113}}\n",
      "2022-12-22 19:24:13,885 (monitor:936)INFO: Current best: {'test_loss': 229.135253, 'test_avg_loss': 2.027746, 'test_total': 113, 'val_loss': 171.217324, 'val_avg_loss': 1.515198, 'val_total': 113}\n",
      "2022-12-22 19:24:14,015 (client:260)INFO: {'Role': 'Client #1', 'Round': 95, 'Results_raw': {'train_loss': nan, 'train_avg_loss': nan, 'train_total': 901}}\n",
      "2022-12-22 19:24:14,017 (server:496)INFO: {'Role': 'Server #', 'Round': 95, 'Results_avg': {'test_loss': nan, 'test_avg_loss': nan, 'test_total': 113.0, 'val_loss': nan, 'val_avg_loss': nan, 'val_total': 113.0}}\n",
      "2022-12-22 19:24:14,018 (monitor:936)INFO: Current best: {'test_loss': 229.135253, 'test_avg_loss': 2.027746, 'test_total': 113.0, 'val_loss': 171.217324, 'val_avg_loss': 1.515198, 'val_total': 113.0}\n",
      "2022-12-22 19:24:14,019 (monitor:936)INFO: Current best: {'test_loss': 229.135253, 'test_avg_loss': 2.027746, 'test_total': 113.0, 'val_loss': 171.217324, 'val_avg_loss': 1.515198, 'val_total': 113.0}\n",
      "2022-12-22 19:24:14,021 (server:323)INFO: Server #0: Starting evaluation at the end of round 95.\n",
      "2022-12-22 19:24:14,022 (server:330)INFO: ----------- Starting a new training round (Round #96) -------------\n",
      "2022-12-22 19:24:14,052 (client:415)INFO: {'Role': 'Client #1', 'Round': 96, 'Results_raw': {'test_loss': nan, 'test_avg_loss': nan, 'test_total': 113, 'val_loss': nan, 'val_avg_loss': nan, 'val_total': 113}}\n",
      "2022-12-22 19:24:14,053 (monitor:936)INFO: Current best: {'test_loss': 229.135253, 'test_avg_loss': 2.027746, 'test_total': 113, 'val_loss': 171.217324, 'val_avg_loss': 1.515198, 'val_total': 113}\n",
      "2022-12-22 19:24:14,178 (client:260)INFO: {'Role': 'Client #1', 'Round': 96, 'Results_raw': {'train_loss': nan, 'train_avg_loss': nan, 'train_total': 901}}\n",
      "2022-12-22 19:24:14,180 (server:496)INFO: {'Role': 'Server #', 'Round': 96, 'Results_avg': {'test_loss': nan, 'test_avg_loss': nan, 'test_total': 113.0, 'val_loss': nan, 'val_avg_loss': nan, 'val_total': 113.0}}\n",
      "2022-12-22 19:24:14,181 (monitor:936)INFO: Current best: {'test_loss': 229.135253, 'test_avg_loss': 2.027746, 'test_total': 113.0, 'val_loss': 171.217324, 'val_avg_loss': 1.515198, 'val_total': 113.0}\n",
      "2022-12-22 19:24:14,183 (monitor:936)INFO: Current best: {'test_loss': 229.135253, 'test_avg_loss': 2.027746, 'test_total': 113.0, 'val_loss': 171.217324, 'val_avg_loss': 1.515198, 'val_total': 113.0}\n",
      "2022-12-22 19:24:14,186 (server:323)INFO: Server #0: Starting evaluation at the end of round 96.\n",
      "2022-12-22 19:24:14,186 (server:330)INFO: ----------- Starting a new training round (Round #97) -------------\n",
      "2022-12-22 19:24:14,219 (client:415)INFO: {'Role': 'Client #1', 'Round': 97, 'Results_raw': {'test_loss': nan, 'test_avg_loss': nan, 'test_total': 113, 'val_loss': nan, 'val_avg_loss': nan, 'val_total': 113}}\n",
      "2022-12-22 19:24:14,220 (monitor:936)INFO: Current best: {'test_loss': 229.135253, 'test_avg_loss': 2.027746, 'test_total': 113, 'val_loss': 171.217324, 'val_avg_loss': 1.515198, 'val_total': 113}\n",
      "2022-12-22 19:24:14,347 (client:260)INFO: {'Role': 'Client #1', 'Round': 97, 'Results_raw': {'train_loss': nan, 'train_avg_loss': nan, 'train_total': 901}}\n",
      "2022-12-22 19:24:14,349 (server:496)INFO: {'Role': 'Server #', 'Round': 97, 'Results_avg': {'test_loss': nan, 'test_avg_loss': nan, 'test_total': 113.0, 'val_loss': nan, 'val_avg_loss': nan, 'val_total': 113.0}}\n",
      "2022-12-22 19:24:14,350 (monitor:936)INFO: Current best: {'test_loss': 229.135253, 'test_avg_loss': 2.027746, 'test_total': 113.0, 'val_loss': 171.217324, 'val_avg_loss': 1.515198, 'val_total': 113.0}\n",
      "2022-12-22 19:24:14,352 (monitor:936)INFO: Current best: {'test_loss': 229.135253, 'test_avg_loss': 2.027746, 'test_total': 113.0, 'val_loss': 171.217324, 'val_avg_loss': 1.515198, 'val_total': 113.0}\n",
      "2022-12-22 19:24:14,354 (server:323)INFO: Server #0: Starting evaluation at the end of round 97.\n",
      "2022-12-22 19:24:14,354 (server:330)INFO: ----------- Starting a new training round (Round #98) -------------\n",
      "2022-12-22 19:24:14,389 (client:415)INFO: {'Role': 'Client #1', 'Round': 98, 'Results_raw': {'test_loss': nan, 'test_avg_loss': nan, 'test_total': 113, 'val_loss': nan, 'val_avg_loss': nan, 'val_total': 113}}\n",
      "2022-12-22 19:24:14,390 (monitor:936)INFO: Current best: {'test_loss': 229.135253, 'test_avg_loss': 2.027746, 'test_total': 113, 'val_loss': 171.217324, 'val_avg_loss': 1.515198, 'val_total': 113}\n",
      "2022-12-22 19:24:14,536 (client:260)INFO: {'Role': 'Client #1', 'Round': 98, 'Results_raw': {'train_loss': nan, 'train_avg_loss': nan, 'train_total': 901}}\n",
      "2022-12-22 19:24:14,538 (server:496)INFO: {'Role': 'Server #', 'Round': 98, 'Results_avg': {'test_loss': nan, 'test_avg_loss': nan, 'test_total': 113.0, 'val_loss': nan, 'val_avg_loss': nan, 'val_total': 113.0}}\n",
      "2022-12-22 19:24:14,539 (monitor:936)INFO: Current best: {'test_loss': 229.135253, 'test_avg_loss': 2.027746, 'test_total': 113.0, 'val_loss': 171.217324, 'val_avg_loss': 1.515198, 'val_total': 113.0}\n",
      "2022-12-22 19:24:14,540 (monitor:936)INFO: Current best: {'test_loss': 229.135253, 'test_avg_loss': 2.027746, 'test_total': 113.0, 'val_loss': 171.217324, 'val_avg_loss': 1.515198, 'val_total': 113.0}\n",
      "2022-12-22 19:24:14,542 (server:323)INFO: Server #0: Starting evaluation at the end of round 98.\n",
      "2022-12-22 19:24:14,543 (server:330)INFO: ----------- Starting a new training round (Round #99) -------------\n",
      "2022-12-22 19:24:14,578 (client:415)INFO: {'Role': 'Client #1', 'Round': 99, 'Results_raw': {'test_loss': nan, 'test_avg_loss': nan, 'test_total': 113, 'val_loss': nan, 'val_avg_loss': nan, 'val_total': 113}}\n",
      "2022-12-22 19:24:14,579 (monitor:936)INFO: Current best: {'test_loss': 229.135253, 'test_avg_loss': 2.027746, 'test_total': 113, 'val_loss': 171.217324, 'val_avg_loss': 1.515198, 'val_total': 113}\n",
      "2022-12-22 19:24:14,724 (client:260)INFO: {'Role': 'Client #1', 'Round': 99, 'Results_raw': {'train_loss': nan, 'train_avg_loss': nan, 'train_total': 901}}\n",
      "2022-12-22 19:24:14,726 (server:496)INFO: {'Role': 'Server #', 'Round': 99, 'Results_avg': {'test_loss': nan, 'test_avg_loss': nan, 'test_total': 113.0, 'val_loss': nan, 'val_avg_loss': nan, 'val_total': 113.0}}\n",
      "2022-12-22 19:24:14,726 (monitor:936)INFO: Current best: {'test_loss': 229.135253, 'test_avg_loss': 2.027746, 'test_total': 113.0, 'val_loss': 171.217324, 'val_avg_loss': 1.515198, 'val_total': 113.0}\n",
      "2022-12-22 19:24:14,728 (monitor:936)INFO: Current best: {'test_loss': 229.135253, 'test_avg_loss': 2.027746, 'test_total': 113.0, 'val_loss': 171.217324, 'val_avg_loss': 1.515198, 'val_total': 113.0}\n",
      "2022-12-22 19:24:14,730 (server:323)INFO: Server #0: Starting evaluation at the end of round 99.\n",
      "2022-12-22 19:24:14,730 (server:330)INFO: ----------- Starting a new training round (Round #100) -------------\n",
      "2022-12-22 19:24:14,763 (client:415)INFO: {'Role': 'Client #1', 'Round': 100, 'Results_raw': {'test_loss': nan, 'test_avg_loss': nan, 'test_total': 113, 'val_loss': nan, 'val_avg_loss': nan, 'val_total': 113}}\n",
      "2022-12-22 19:24:14,764 (monitor:936)INFO: Current best: {'test_loss': 229.135253, 'test_avg_loss': 2.027746, 'test_total': 113, 'val_loss': 171.217324, 'val_avg_loss': 1.515198, 'val_total': 113}\n",
      "2022-12-22 19:24:14,912 (client:260)INFO: {'Role': 'Client #1', 'Round': 100, 'Results_raw': {'train_loss': nan, 'train_avg_loss': nan, 'train_total': 901}}\n",
      "2022-12-22 19:24:14,914 (server:496)INFO: {'Role': 'Server #', 'Round': 100, 'Results_avg': {'test_loss': nan, 'test_avg_loss': nan, 'test_total': 113.0, 'val_loss': nan, 'val_avg_loss': nan, 'val_total': 113.0}}\n",
      "2022-12-22 19:24:14,915 (monitor:936)INFO: Current best: {'test_loss': 229.135253, 'test_avg_loss': 2.027746, 'test_total': 113.0, 'val_loss': 171.217324, 'val_avg_loss': 1.515198, 'val_total': 113.0}\n",
      "2022-12-22 19:24:14,918 (monitor:936)INFO: Current best: {'test_loss': 229.135253, 'test_avg_loss': 2.027746, 'test_total': 113.0, 'val_loss': 171.217324, 'val_avg_loss': 1.515198, 'val_total': 113.0}\n",
      "2022-12-22 19:24:14,920 (server:323)INFO: Server #0: Starting evaluation at the end of round 100.\n",
      "2022-12-22 19:24:14,921 (server:330)INFO: ----------- Starting a new training round (Round #101) -------------\n",
      "2022-12-22 19:24:14,954 (client:415)INFO: {'Role': 'Client #1', 'Round': 101, 'Results_raw': {'test_loss': nan, 'test_avg_loss': nan, 'test_total': 113, 'val_loss': nan, 'val_avg_loss': nan, 'val_total': 113}}\n",
      "2022-12-22 19:24:14,955 (monitor:936)INFO: Current best: {'test_loss': 229.135253, 'test_avg_loss': 2.027746, 'test_total': 113, 'val_loss': 171.217324, 'val_avg_loss': 1.515198, 'val_total': 113}\n",
      "2022-12-22 19:24:15,095 (client:260)INFO: {'Role': 'Client #1', 'Round': 101, 'Results_raw': {'train_loss': nan, 'train_avg_loss': nan, 'train_total': 901}}\n",
      "2022-12-22 19:24:15,097 (server:496)INFO: {'Role': 'Server #', 'Round': 101, 'Results_avg': {'test_loss': nan, 'test_avg_loss': nan, 'test_total': 113.0, 'val_loss': nan, 'val_avg_loss': nan, 'val_total': 113.0}}\n",
      "2022-12-22 19:24:15,098 (monitor:936)INFO: Current best: {'test_loss': 229.135253, 'test_avg_loss': 2.027746, 'test_total': 113.0, 'val_loss': 171.217324, 'val_avg_loss': 1.515198, 'val_total': 113.0}\n",
      "2022-12-22 19:24:15,100 (monitor:936)INFO: Current best: {'test_loss': 229.135253, 'test_avg_loss': 2.027746, 'test_total': 113.0, 'val_loss': 171.217324, 'val_avg_loss': 1.515198, 'val_total': 113.0}\n",
      "2022-12-22 19:24:15,103 (server:323)INFO: Server #0: Starting evaluation at the end of round 101.\n",
      "2022-12-22 19:24:15,104 (server:330)INFO: ----------- Starting a new training round (Round #102) -------------\n",
      "2022-12-22 19:24:15,135 (client:415)INFO: {'Role': 'Client #1', 'Round': 102, 'Results_raw': {'test_loss': nan, 'test_avg_loss': nan, 'test_total': 113, 'val_loss': nan, 'val_avg_loss': nan, 'val_total': 113}}\n",
      "2022-12-22 19:24:15,137 (monitor:936)INFO: Current best: {'test_loss': 229.135253, 'test_avg_loss': 2.027746, 'test_total': 113, 'val_loss': 171.217324, 'val_avg_loss': 1.515198, 'val_total': 113}\n",
      "2022-12-22 19:24:15,279 (client:260)INFO: {'Role': 'Client #1', 'Round': 102, 'Results_raw': {'train_loss': nan, 'train_avg_loss': nan, 'train_total': 901}}\n",
      "2022-12-22 19:24:15,281 (server:496)INFO: {'Role': 'Server #', 'Round': 102, 'Results_avg': {'test_loss': nan, 'test_avg_loss': nan, 'test_total': 113.0, 'val_loss': nan, 'val_avg_loss': nan, 'val_total': 113.0}}\n",
      "2022-12-22 19:24:15,282 (monitor:936)INFO: Current best: {'test_loss': 229.135253, 'test_avg_loss': 2.027746, 'test_total': 113.0, 'val_loss': 171.217324, 'val_avg_loss': 1.515198, 'val_total': 113.0}\n",
      "2022-12-22 19:24:15,284 (monitor:936)INFO: Current best: {'test_loss': 229.135253, 'test_avg_loss': 2.027746, 'test_total': 113.0, 'val_loss': 171.217324, 'val_avg_loss': 1.515198, 'val_total': 113.0}\n",
      "2022-12-22 19:24:15,286 (server:323)INFO: Server #0: Starting evaluation at the end of round 102.\n",
      "2022-12-22 19:24:15,287 (server:330)INFO: ----------- Starting a new training round (Round #103) -------------\n",
      "2022-12-22 19:24:15,319 (client:415)INFO: {'Role': 'Client #1', 'Round': 103, 'Results_raw': {'test_loss': nan, 'test_avg_loss': nan, 'test_total': 113, 'val_loss': nan, 'val_avg_loss': nan, 'val_total': 113}}\n",
      "2022-12-22 19:24:15,320 (monitor:936)INFO: Current best: {'test_loss': 229.135253, 'test_avg_loss': 2.027746, 'test_total': 113, 'val_loss': 171.217324, 'val_avg_loss': 1.515198, 'val_total': 113}\n",
      "2022-12-22 19:24:15,466 (client:260)INFO: {'Role': 'Client #1', 'Round': 103, 'Results_raw': {'train_loss': nan, 'train_avg_loss': nan, 'train_total': 901}}\n",
      "2022-12-22 19:24:15,468 (server:496)INFO: {'Role': 'Server #', 'Round': 103, 'Results_avg': {'test_loss': nan, 'test_avg_loss': nan, 'test_total': 113.0, 'val_loss': nan, 'val_avg_loss': nan, 'val_total': 113.0}}\n",
      "2022-12-22 19:24:15,469 (monitor:936)INFO: Current best: {'test_loss': 229.135253, 'test_avg_loss': 2.027746, 'test_total': 113.0, 'val_loss': 171.217324, 'val_avg_loss': 1.515198, 'val_total': 113.0}\n",
      "2022-12-22 19:24:15,472 (monitor:936)INFO: Current best: {'test_loss': 229.135253, 'test_avg_loss': 2.027746, 'test_total': 113.0, 'val_loss': 171.217324, 'val_avg_loss': 1.515198, 'val_total': 113.0}\n",
      "2022-12-22 19:24:15,474 (server:323)INFO: Server #0: Starting evaluation at the end of round 103.\n",
      "2022-12-22 19:24:15,475 (server:330)INFO: ----------- Starting a new training round (Round #104) -------------\n",
      "2022-12-22 19:24:15,507 (client:415)INFO: {'Role': 'Client #1', 'Round': 104, 'Results_raw': {'test_loss': nan, 'test_avg_loss': nan, 'test_total': 113, 'val_loss': nan, 'val_avg_loss': nan, 'val_total': 113}}\n",
      "2022-12-22 19:24:15,508 (monitor:936)INFO: Current best: {'test_loss': 229.135253, 'test_avg_loss': 2.027746, 'test_total': 113, 'val_loss': 171.217324, 'val_avg_loss': 1.515198, 'val_total': 113}\n",
      "2022-12-22 19:24:15,654 (client:260)INFO: {'Role': 'Client #1', 'Round': 104, 'Results_raw': {'train_loss': nan, 'train_avg_loss': nan, 'train_total': 901}}\n",
      "2022-12-22 19:24:15,656 (server:496)INFO: {'Role': 'Server #', 'Round': 104, 'Results_avg': {'test_loss': nan, 'test_avg_loss': nan, 'test_total': 113.0, 'val_loss': nan, 'val_avg_loss': nan, 'val_total': 113.0}}\n",
      "2022-12-22 19:24:15,657 (monitor:936)INFO: Current best: {'test_loss': 229.135253, 'test_avg_loss': 2.027746, 'test_total': 113.0, 'val_loss': 171.217324, 'val_avg_loss': 1.515198, 'val_total': 113.0}\n",
      "2022-12-22 19:24:15,658 (monitor:936)INFO: Current best: {'test_loss': 229.135253, 'test_avg_loss': 2.027746, 'test_total': 113.0, 'val_loss': 171.217324, 'val_avg_loss': 1.515198, 'val_total': 113.0}\n",
      "2022-12-22 19:24:15,660 (server:323)INFO: Server #0: Starting evaluation at the end of round 104.\n",
      "2022-12-22 19:24:15,661 (server:330)INFO: ----------- Starting a new training round (Round #105) -------------\n",
      "2022-12-22 19:24:15,696 (client:415)INFO: {'Role': 'Client #1', 'Round': 105, 'Results_raw': {'test_loss': nan, 'test_avg_loss': nan, 'test_total': 113, 'val_loss': nan, 'val_avg_loss': nan, 'val_total': 113}}\n",
      "2022-12-22 19:24:15,697 (monitor:936)INFO: Current best: {'test_loss': 229.135253, 'test_avg_loss': 2.027746, 'test_total': 113, 'val_loss': 171.217324, 'val_avg_loss': 1.515198, 'val_total': 113}\n",
      "2022-12-22 19:24:15,851 (client:260)INFO: {'Role': 'Client #1', 'Round': 105, 'Results_raw': {'train_loss': nan, 'train_avg_loss': nan, 'train_total': 901}}\n",
      "2022-12-22 19:24:15,853 (server:496)INFO: {'Role': 'Server #', 'Round': 105, 'Results_avg': {'test_loss': nan, 'test_avg_loss': nan, 'test_total': 113.0, 'val_loss': nan, 'val_avg_loss': nan, 'val_total': 113.0}}\n",
      "2022-12-22 19:24:15,854 (monitor:936)INFO: Current best: {'test_loss': 229.135253, 'test_avg_loss': 2.027746, 'test_total': 113.0, 'val_loss': 171.217324, 'val_avg_loss': 1.515198, 'val_total': 113.0}\n",
      "2022-12-22 19:24:15,856 (monitor:936)INFO: Current best: {'test_loss': 229.135253, 'test_avg_loss': 2.027746, 'test_total': 113.0, 'val_loss': 171.217324, 'val_avg_loss': 1.515198, 'val_total': 113.0}\n",
      "2022-12-22 19:24:15,859 (server:323)INFO: Server #0: Starting evaluation at the end of round 105.\n",
      "2022-12-22 19:24:15,860 (server:330)INFO: ----------- Starting a new training round (Round #106) -------------\n",
      "2022-12-22 19:24:15,901 (client:415)INFO: {'Role': 'Client #1', 'Round': 106, 'Results_raw': {'test_loss': nan, 'test_avg_loss': nan, 'test_total': 113, 'val_loss': nan, 'val_avg_loss': nan, 'val_total': 113}}\n",
      "2022-12-22 19:24:15,902 (monitor:936)INFO: Current best: {'test_loss': 229.135253, 'test_avg_loss': 2.027746, 'test_total': 113, 'val_loss': 171.217324, 'val_avg_loss': 1.515198, 'val_total': 113}\n",
      "2022-12-22 19:24:16,050 (client:260)INFO: {'Role': 'Client #1', 'Round': 106, 'Results_raw': {'train_loss': nan, 'train_avg_loss': nan, 'train_total': 901}}\n",
      "2022-12-22 19:24:16,052 (server:496)INFO: {'Role': 'Server #', 'Round': 106, 'Results_avg': {'test_loss': nan, 'test_avg_loss': nan, 'test_total': 113.0, 'val_loss': nan, 'val_avg_loss': nan, 'val_total': 113.0}}\n",
      "2022-12-22 19:24:16,053 (monitor:936)INFO: Current best: {'test_loss': 229.135253, 'test_avg_loss': 2.027746, 'test_total': 113.0, 'val_loss': 171.217324, 'val_avg_loss': 1.515198, 'val_total': 113.0}\n",
      "2022-12-22 19:24:16,055 (monitor:936)INFO: Current best: {'test_loss': 229.135253, 'test_avg_loss': 2.027746, 'test_total': 113.0, 'val_loss': 171.217324, 'val_avg_loss': 1.515198, 'val_total': 113.0}\n",
      "2022-12-22 19:24:16,057 (server:323)INFO: Server #0: Starting evaluation at the end of round 106.\n",
      "2022-12-22 19:24:16,057 (server:330)INFO: ----------- Starting a new training round (Round #107) -------------\n",
      "2022-12-22 19:24:16,100 (client:415)INFO: {'Role': 'Client #1', 'Round': 107, 'Results_raw': {'test_loss': nan, 'test_avg_loss': nan, 'test_total': 113, 'val_loss': nan, 'val_avg_loss': nan, 'val_total': 113}}\n",
      "2022-12-22 19:24:16,101 (monitor:936)INFO: Current best: {'test_loss': 229.135253, 'test_avg_loss': 2.027746, 'test_total': 113, 'val_loss': 171.217324, 'val_avg_loss': 1.515198, 'val_total': 113}\n",
      "2022-12-22 19:24:16,247 (client:260)INFO: {'Role': 'Client #1', 'Round': 107, 'Results_raw': {'train_loss': nan, 'train_avg_loss': nan, 'train_total': 901}}\n",
      "2022-12-22 19:24:16,249 (server:496)INFO: {'Role': 'Server #', 'Round': 107, 'Results_avg': {'test_loss': nan, 'test_avg_loss': nan, 'test_total': 113.0, 'val_loss': nan, 'val_avg_loss': nan, 'val_total': 113.0}}\n",
      "2022-12-22 19:24:16,250 (monitor:936)INFO: Current best: {'test_loss': 229.135253, 'test_avg_loss': 2.027746, 'test_total': 113.0, 'val_loss': 171.217324, 'val_avg_loss': 1.515198, 'val_total': 113.0}\n",
      "2022-12-22 19:24:16,251 (monitor:936)INFO: Current best: {'test_loss': 229.135253, 'test_avg_loss': 2.027746, 'test_total': 113.0, 'val_loss': 171.217324, 'val_avg_loss': 1.515198, 'val_total': 113.0}\n",
      "2022-12-22 19:24:16,254 (server:323)INFO: Server #0: Starting evaluation at the end of round 107.\n",
      "2022-12-22 19:24:16,255 (server:330)INFO: ----------- Starting a new training round (Round #108) -------------\n",
      "2022-12-22 19:24:16,298 (client:415)INFO: {'Role': 'Client #1', 'Round': 108, 'Results_raw': {'test_loss': nan, 'test_avg_loss': nan, 'test_total': 113, 'val_loss': nan, 'val_avg_loss': nan, 'val_total': 113}}\n",
      "2022-12-22 19:24:16,299 (monitor:936)INFO: Current best: {'test_loss': 229.135253, 'test_avg_loss': 2.027746, 'test_total': 113, 'val_loss': 171.217324, 'val_avg_loss': 1.515198, 'val_total': 113}\n",
      "2022-12-22 19:24:16,434 (client:260)INFO: {'Role': 'Client #1', 'Round': 108, 'Results_raw': {'train_loss': nan, 'train_avg_loss': nan, 'train_total': 901}}\n",
      "2022-12-22 19:24:16,435 (server:496)INFO: {'Role': 'Server #', 'Round': 108, 'Results_avg': {'test_loss': nan, 'test_avg_loss': nan, 'test_total': 113.0, 'val_loss': nan, 'val_avg_loss': nan, 'val_total': 113.0}}\n",
      "2022-12-22 19:24:16,436 (monitor:936)INFO: Current best: {'test_loss': 229.135253, 'test_avg_loss': 2.027746, 'test_total': 113.0, 'val_loss': 171.217324, 'val_avg_loss': 1.515198, 'val_total': 113.0}\n",
      "2022-12-22 19:24:16,437 (monitor:936)INFO: Current best: {'test_loss': 229.135253, 'test_avg_loss': 2.027746, 'test_total': 113.0, 'val_loss': 171.217324, 'val_avg_loss': 1.515198, 'val_total': 113.0}\n",
      "2022-12-22 19:24:16,439 (server:323)INFO: Server #0: Starting evaluation at the end of round 108.\n",
      "2022-12-22 19:24:16,440 (server:330)INFO: ----------- Starting a new training round (Round #109) -------------\n",
      "2022-12-22 19:24:16,476 (client:415)INFO: {'Role': 'Client #1', 'Round': 109, 'Results_raw': {'test_loss': nan, 'test_avg_loss': nan, 'test_total': 113, 'val_loss': nan, 'val_avg_loss': nan, 'val_total': 113}}\n",
      "2022-12-22 19:24:16,477 (monitor:936)INFO: Current best: {'test_loss': 229.135253, 'test_avg_loss': 2.027746, 'test_total': 113, 'val_loss': 171.217324, 'val_avg_loss': 1.515198, 'val_total': 113}\n",
      "2022-12-22 19:24:16,607 (client:260)INFO: {'Role': 'Client #1', 'Round': 109, 'Results_raw': {'train_loss': nan, 'train_avg_loss': nan, 'train_total': 901}}\n",
      "2022-12-22 19:24:16,609 (server:496)INFO: {'Role': 'Server #', 'Round': 109, 'Results_avg': {'test_loss': nan, 'test_avg_loss': nan, 'test_total': 113.0, 'val_loss': nan, 'val_avg_loss': nan, 'val_total': 113.0}}\n",
      "2022-12-22 19:24:16,610 (monitor:936)INFO: Current best: {'test_loss': 229.135253, 'test_avg_loss': 2.027746, 'test_total': 113.0, 'val_loss': 171.217324, 'val_avg_loss': 1.515198, 'val_total': 113.0}\n",
      "2022-12-22 19:24:16,612 (monitor:936)INFO: Current best: {'test_loss': 229.135253, 'test_avg_loss': 2.027746, 'test_total': 113.0, 'val_loss': 171.217324, 'val_avg_loss': 1.515198, 'val_total': 113.0}\n",
      "2022-12-22 19:24:16,613 (server:323)INFO: Server #0: Starting evaluation at the end of round 109.\n",
      "2022-12-22 19:24:16,614 (server:330)INFO: ----------- Starting a new training round (Round #110) -------------\n",
      "2022-12-22 19:24:16,645 (client:415)INFO: {'Role': 'Client #1', 'Round': 110, 'Results_raw': {'test_loss': nan, 'test_avg_loss': nan, 'test_total': 113, 'val_loss': nan, 'val_avg_loss': nan, 'val_total': 113}}\n",
      "2022-12-22 19:24:16,646 (monitor:936)INFO: Current best: {'test_loss': 229.135253, 'test_avg_loss': 2.027746, 'test_total': 113, 'val_loss': 171.217324, 'val_avg_loss': 1.515198, 'val_total': 113}\n",
      "2022-12-22 19:24:16,787 (client:260)INFO: {'Role': 'Client #1', 'Round': 110, 'Results_raw': {'train_loss': nan, 'train_avg_loss': nan, 'train_total': 901}}\n",
      "2022-12-22 19:24:16,790 (server:496)INFO: {'Role': 'Server #', 'Round': 110, 'Results_avg': {'test_loss': nan, 'test_avg_loss': nan, 'test_total': 113.0, 'val_loss': nan, 'val_avg_loss': nan, 'val_total': 113.0}}\n",
      "2022-12-22 19:24:16,791 (monitor:936)INFO: Current best: {'test_loss': 229.135253, 'test_avg_loss': 2.027746, 'test_total': 113.0, 'val_loss': 171.217324, 'val_avg_loss': 1.515198, 'val_total': 113.0}\n",
      "2022-12-22 19:24:16,792 (monitor:936)INFO: Current best: {'test_loss': 229.135253, 'test_avg_loss': 2.027746, 'test_total': 113.0, 'val_loss': 171.217324, 'val_avg_loss': 1.515198, 'val_total': 113.0}\n",
      "2022-12-22 19:24:16,794 (server:323)INFO: Server #0: Starting evaluation at the end of round 110.\n",
      "2022-12-22 19:24:16,796 (server:330)INFO: ----------- Starting a new training round (Round #111) -------------\n",
      "2022-12-22 19:24:16,829 (client:415)INFO: {'Role': 'Client #1', 'Round': 111, 'Results_raw': {'test_loss': nan, 'test_avg_loss': nan, 'test_total': 113, 'val_loss': nan, 'val_avg_loss': nan, 'val_total': 113}}\n",
      "2022-12-22 19:24:16,830 (monitor:936)INFO: Current best: {'test_loss': 229.135253, 'test_avg_loss': 2.027746, 'test_total': 113, 'val_loss': 171.217324, 'val_avg_loss': 1.515198, 'val_total': 113}\n",
      "2022-12-22 19:24:16,983 (client:260)INFO: {'Role': 'Client #1', 'Round': 111, 'Results_raw': {'train_loss': nan, 'train_avg_loss': nan, 'train_total': 901}}\n",
      "2022-12-22 19:24:16,985 (server:496)INFO: {'Role': 'Server #', 'Round': 111, 'Results_avg': {'test_loss': nan, 'test_avg_loss': nan, 'test_total': 113.0, 'val_loss': nan, 'val_avg_loss': nan, 'val_total': 113.0}}\n",
      "2022-12-22 19:24:16,985 (monitor:936)INFO: Current best: {'test_loss': 229.135253, 'test_avg_loss': 2.027746, 'test_total': 113.0, 'val_loss': 171.217324, 'val_avg_loss': 1.515198, 'val_total': 113.0}\n",
      "2022-12-22 19:24:16,986 (monitor:936)INFO: Current best: {'test_loss': 229.135253, 'test_avg_loss': 2.027746, 'test_total': 113.0, 'val_loss': 171.217324, 'val_avg_loss': 1.515198, 'val_total': 113.0}\n",
      "2022-12-22 19:24:16,988 (server:323)INFO: Server #0: Starting evaluation at the end of round 111.\n",
      "2022-12-22 19:24:16,989 (server:330)INFO: ----------- Starting a new training round (Round #112) -------------\n",
      "2022-12-22 19:24:17,022 (client:415)INFO: {'Role': 'Client #1', 'Round': 112, 'Results_raw': {'test_loss': nan, 'test_avg_loss': nan, 'test_total': 113, 'val_loss': nan, 'val_avg_loss': nan, 'val_total': 113}}\n",
      "2022-12-22 19:24:17,022 (monitor:936)INFO: Current best: {'test_loss': 229.135253, 'test_avg_loss': 2.027746, 'test_total': 113, 'val_loss': 171.217324, 'val_avg_loss': 1.515198, 'val_total': 113}\n",
      "2022-12-22 19:24:17,157 (client:260)INFO: {'Role': 'Client #1', 'Round': 112, 'Results_raw': {'train_loss': nan, 'train_avg_loss': nan, 'train_total': 901}}\n",
      "2022-12-22 19:24:17,159 (server:496)INFO: {'Role': 'Server #', 'Round': 112, 'Results_avg': {'test_loss': nan, 'test_avg_loss': nan, 'test_total': 113.0, 'val_loss': nan, 'val_avg_loss': nan, 'val_total': 113.0}}\n",
      "2022-12-22 19:24:17,159 (monitor:936)INFO: Current best: {'test_loss': 229.135253, 'test_avg_loss': 2.027746, 'test_total': 113.0, 'val_loss': 171.217324, 'val_avg_loss': 1.515198, 'val_total': 113.0}\n",
      "2022-12-22 19:24:17,160 (monitor:936)INFO: Current best: {'test_loss': 229.135253, 'test_avg_loss': 2.027746, 'test_total': 113.0, 'val_loss': 171.217324, 'val_avg_loss': 1.515198, 'val_total': 113.0}\n",
      "2022-12-22 19:24:17,162 (server:323)INFO: Server #0: Starting evaluation at the end of round 112.\n",
      "2022-12-22 19:24:17,163 (server:330)INFO: ----------- Starting a new training round (Round #113) -------------\n",
      "2022-12-22 19:24:17,195 (client:415)INFO: {'Role': 'Client #1', 'Round': 113, 'Results_raw': {'test_loss': nan, 'test_avg_loss': nan, 'test_total': 113, 'val_loss': nan, 'val_avg_loss': nan, 'val_total': 113}}\n",
      "2022-12-22 19:24:17,196 (monitor:936)INFO: Current best: {'test_loss': 229.135253, 'test_avg_loss': 2.027746, 'test_total': 113, 'val_loss': 171.217324, 'val_avg_loss': 1.515198, 'val_total': 113}\n",
      "2022-12-22 19:24:17,329 (client:260)INFO: {'Role': 'Client #1', 'Round': 113, 'Results_raw': {'train_loss': nan, 'train_avg_loss': nan, 'train_total': 901}}\n",
      "2022-12-22 19:24:17,330 (server:496)INFO: {'Role': 'Server #', 'Round': 113, 'Results_avg': {'test_loss': nan, 'test_avg_loss': nan, 'test_total': 113.0, 'val_loss': nan, 'val_avg_loss': nan, 'val_total': 113.0}}\n",
      "2022-12-22 19:24:17,331 (monitor:936)INFO: Current best: {'test_loss': 229.135253, 'test_avg_loss': 2.027746, 'test_total': 113.0, 'val_loss': 171.217324, 'val_avg_loss': 1.515198, 'val_total': 113.0}\n",
      "2022-12-22 19:24:17,332 (monitor:936)INFO: Current best: {'test_loss': 229.135253, 'test_avg_loss': 2.027746, 'test_total': 113.0, 'val_loss': 171.217324, 'val_avg_loss': 1.515198, 'val_total': 113.0}\n",
      "2022-12-22 19:24:17,334 (server:323)INFO: Server #0: Starting evaluation at the end of round 113.\n",
      "2022-12-22 19:24:17,335 (server:330)INFO: ----------- Starting a new training round (Round #114) -------------\n",
      "2022-12-22 19:24:17,368 (client:415)INFO: {'Role': 'Client #1', 'Round': 114, 'Results_raw': {'test_loss': nan, 'test_avg_loss': nan, 'test_total': 113, 'val_loss': nan, 'val_avg_loss': nan, 'val_total': 113}}\n",
      "2022-12-22 19:24:17,369 (monitor:936)INFO: Current best: {'test_loss': 229.135253, 'test_avg_loss': 2.027746, 'test_total': 113, 'val_loss': 171.217324, 'val_avg_loss': 1.515198, 'val_total': 113}\n",
      "2022-12-22 19:24:17,509 (client:260)INFO: {'Role': 'Client #1', 'Round': 114, 'Results_raw': {'train_loss': nan, 'train_avg_loss': nan, 'train_total': 901}}\n",
      "2022-12-22 19:24:17,511 (server:496)INFO: {'Role': 'Server #', 'Round': 114, 'Results_avg': {'test_loss': nan, 'test_avg_loss': nan, 'test_total': 113.0, 'val_loss': nan, 'val_avg_loss': nan, 'val_total': 113.0}}\n",
      "2022-12-22 19:24:17,512 (monitor:936)INFO: Current best: {'test_loss': 229.135253, 'test_avg_loss': 2.027746, 'test_total': 113.0, 'val_loss': 171.217324, 'val_avg_loss': 1.515198, 'val_total': 113.0}\n",
      "2022-12-22 19:24:17,514 (monitor:936)INFO: Current best: {'test_loss': 229.135253, 'test_avg_loss': 2.027746, 'test_total': 113.0, 'val_loss': 171.217324, 'val_avg_loss': 1.515198, 'val_total': 113.0}\n",
      "2022-12-22 19:24:17,516 (server:323)INFO: Server #0: Starting evaluation at the end of round 114.\n",
      "2022-12-22 19:24:17,517 (server:330)INFO: ----------- Starting a new training round (Round #115) -------------\n",
      "2022-12-22 19:24:17,548 (client:415)INFO: {'Role': 'Client #1', 'Round': 115, 'Results_raw': {'test_loss': nan, 'test_avg_loss': nan, 'test_total': 113, 'val_loss': nan, 'val_avg_loss': nan, 'val_total': 113}}\n",
      "2022-12-22 19:24:17,549 (monitor:936)INFO: Current best: {'test_loss': 229.135253, 'test_avg_loss': 2.027746, 'test_total': 113, 'val_loss': 171.217324, 'val_avg_loss': 1.515198, 'val_total': 113}\n",
      "2022-12-22 19:24:17,669 (client:260)INFO: {'Role': 'Client #1', 'Round': 115, 'Results_raw': {'train_loss': nan, 'train_avg_loss': nan, 'train_total': 901}}\n",
      "2022-12-22 19:24:17,671 (server:496)INFO: {'Role': 'Server #', 'Round': 115, 'Results_avg': {'test_loss': nan, 'test_avg_loss': nan, 'test_total': 113.0, 'val_loss': nan, 'val_avg_loss': nan, 'val_total': 113.0}}\n",
      "2022-12-22 19:24:17,673 (monitor:936)INFO: Current best: {'test_loss': 229.135253, 'test_avg_loss': 2.027746, 'test_total': 113.0, 'val_loss': 171.217324, 'val_avg_loss': 1.515198, 'val_total': 113.0}\n",
      "2022-12-22 19:24:17,676 (monitor:936)INFO: Current best: {'test_loss': 229.135253, 'test_avg_loss': 2.027746, 'test_total': 113.0, 'val_loss': 171.217324, 'val_avg_loss': 1.515198, 'val_total': 113.0}\n",
      "2022-12-22 19:24:17,679 (server:323)INFO: Server #0: Starting evaluation at the end of round 115.\n",
      "2022-12-22 19:24:17,680 (server:330)INFO: ----------- Starting a new training round (Round #116) -------------\n",
      "2022-12-22 19:24:17,712 (client:415)INFO: {'Role': 'Client #1', 'Round': 116, 'Results_raw': {'test_loss': nan, 'test_avg_loss': nan, 'test_total': 113, 'val_loss': nan, 'val_avg_loss': nan, 'val_total': 113}}\n",
      "2022-12-22 19:24:17,712 (monitor:936)INFO: Current best: {'test_loss': 229.135253, 'test_avg_loss': 2.027746, 'test_total': 113, 'val_loss': 171.217324, 'val_avg_loss': 1.515198, 'val_total': 113}\n",
      "2022-12-22 19:24:17,855 (client:260)INFO: {'Role': 'Client #1', 'Round': 116, 'Results_raw': {'train_loss': nan, 'train_avg_loss': nan, 'train_total': 901}}\n",
      "2022-12-22 19:24:17,856 (server:496)INFO: {'Role': 'Server #', 'Round': 116, 'Results_avg': {'test_loss': nan, 'test_avg_loss': nan, 'test_total': 113.0, 'val_loss': nan, 'val_avg_loss': nan, 'val_total': 113.0}}\n",
      "2022-12-22 19:24:17,857 (monitor:936)INFO: Current best: {'test_loss': 229.135253, 'test_avg_loss': 2.027746, 'test_total': 113.0, 'val_loss': 171.217324, 'val_avg_loss': 1.515198, 'val_total': 113.0}\n",
      "2022-12-22 19:24:17,858 (monitor:936)INFO: Current best: {'test_loss': 229.135253, 'test_avg_loss': 2.027746, 'test_total': 113.0, 'val_loss': 171.217324, 'val_avg_loss': 1.515198, 'val_total': 113.0}\n",
      "2022-12-22 19:24:17,860 (server:323)INFO: Server #0: Starting evaluation at the end of round 116.\n",
      "2022-12-22 19:24:17,861 (server:330)INFO: ----------- Starting a new training round (Round #117) -------------\n",
      "2022-12-22 19:24:17,889 (client:415)INFO: {'Role': 'Client #1', 'Round': 117, 'Results_raw': {'test_loss': nan, 'test_avg_loss': nan, 'test_total': 113, 'val_loss': nan, 'val_avg_loss': nan, 'val_total': 113}}\n",
      "2022-12-22 19:24:17,891 (monitor:936)INFO: Current best: {'test_loss': 229.135253, 'test_avg_loss': 2.027746, 'test_total': 113, 'val_loss': 171.217324, 'val_avg_loss': 1.515198, 'val_total': 113}\n",
      "2022-12-22 19:24:18,020 (client:260)INFO: {'Role': 'Client #1', 'Round': 117, 'Results_raw': {'train_loss': nan, 'train_avg_loss': nan, 'train_total': 901}}\n",
      "2022-12-22 19:24:18,022 (server:496)INFO: {'Role': 'Server #', 'Round': 117, 'Results_avg': {'test_loss': nan, 'test_avg_loss': nan, 'test_total': 113.0, 'val_loss': nan, 'val_avg_loss': nan, 'val_total': 113.0}}\n",
      "2022-12-22 19:24:18,022 (monitor:936)INFO: Current best: {'test_loss': 229.135253, 'test_avg_loss': 2.027746, 'test_total': 113.0, 'val_loss': 171.217324, 'val_avg_loss': 1.515198, 'val_total': 113.0}\n",
      "2022-12-22 19:24:18,023 (monitor:936)INFO: Current best: {'test_loss': 229.135253, 'test_avg_loss': 2.027746, 'test_total': 113.0, 'val_loss': 171.217324, 'val_avg_loss': 1.515198, 'val_total': 113.0}\n",
      "2022-12-22 19:24:18,025 (server:323)INFO: Server #0: Starting evaluation at the end of round 117.\n",
      "2022-12-22 19:24:18,026 (server:330)INFO: ----------- Starting a new training round (Round #118) -------------\n",
      "2022-12-22 19:24:18,060 (client:415)INFO: {'Role': 'Client #1', 'Round': 118, 'Results_raw': {'test_loss': nan, 'test_avg_loss': nan, 'test_total': 113, 'val_loss': nan, 'val_avg_loss': nan, 'val_total': 113}}\n",
      "2022-12-22 19:24:18,062 (monitor:936)INFO: Current best: {'test_loss': 229.135253, 'test_avg_loss': 2.027746, 'test_total': 113, 'val_loss': 171.217324, 'val_avg_loss': 1.515198, 'val_total': 113}\n",
      "2022-12-22 19:24:18,194 (client:260)INFO: {'Role': 'Client #1', 'Round': 118, 'Results_raw': {'train_loss': nan, 'train_avg_loss': nan, 'train_total': 901}}\n",
      "2022-12-22 19:24:18,196 (server:496)INFO: {'Role': 'Server #', 'Round': 118, 'Results_avg': {'test_loss': nan, 'test_avg_loss': nan, 'test_total': 113.0, 'val_loss': nan, 'val_avg_loss': nan, 'val_total': 113.0}}\n",
      "2022-12-22 19:24:18,197 (monitor:936)INFO: Current best: {'test_loss': 229.135253, 'test_avg_loss': 2.027746, 'test_total': 113.0, 'val_loss': 171.217324, 'val_avg_loss': 1.515198, 'val_total': 113.0}\n",
      "2022-12-22 19:24:18,198 (monitor:936)INFO: Current best: {'test_loss': 229.135253, 'test_avg_loss': 2.027746, 'test_total': 113.0, 'val_loss': 171.217324, 'val_avg_loss': 1.515198, 'val_total': 113.0}\n",
      "2022-12-22 19:24:18,201 (server:323)INFO: Server #0: Starting evaluation at the end of round 118.\n",
      "2022-12-22 19:24:18,202 (server:330)INFO: ----------- Starting a new training round (Round #119) -------------\n",
      "2022-12-22 19:24:18,232 (client:415)INFO: {'Role': 'Client #1', 'Round': 119, 'Results_raw': {'test_loss': nan, 'test_avg_loss': nan, 'test_total': 113, 'val_loss': nan, 'val_avg_loss': nan, 'val_total': 113}}\n",
      "2022-12-22 19:24:18,233 (monitor:936)INFO: Current best: {'test_loss': 229.135253, 'test_avg_loss': 2.027746, 'test_total': 113, 'val_loss': 171.217324, 'val_avg_loss': 1.515198, 'val_total': 113}\n",
      "2022-12-22 19:24:18,362 (client:260)INFO: {'Role': 'Client #1', 'Round': 119, 'Results_raw': {'train_loss': nan, 'train_avg_loss': nan, 'train_total': 901}}\n",
      "2022-12-22 19:24:18,364 (server:496)INFO: {'Role': 'Server #', 'Round': 119, 'Results_avg': {'test_loss': nan, 'test_avg_loss': nan, 'test_total': 113.0, 'val_loss': nan, 'val_avg_loss': nan, 'val_total': 113.0}}\n",
      "2022-12-22 19:24:18,365 (monitor:936)INFO: Current best: {'test_loss': 229.135253, 'test_avg_loss': 2.027746, 'test_total': 113.0, 'val_loss': 171.217324, 'val_avg_loss': 1.515198, 'val_total': 113.0}\n",
      "2022-12-22 19:24:18,367 (monitor:936)INFO: Current best: {'test_loss': 229.135253, 'test_avg_loss': 2.027746, 'test_total': 113.0, 'val_loss': 171.217324, 'val_avg_loss': 1.515198, 'val_total': 113.0}\n",
      "2022-12-22 19:24:18,369 (server:323)INFO: Server #0: Starting evaluation at the end of round 119.\n",
      "2022-12-22 19:24:18,370 (server:330)INFO: ----------- Starting a new training round (Round #120) -------------\n",
      "2022-12-22 19:24:18,399 (client:415)INFO: {'Role': 'Client #1', 'Round': 120, 'Results_raw': {'test_loss': nan, 'test_avg_loss': nan, 'test_total': 113, 'val_loss': nan, 'val_avg_loss': nan, 'val_total': 113}}\n",
      "2022-12-22 19:24:18,400 (monitor:936)INFO: Current best: {'test_loss': 229.135253, 'test_avg_loss': 2.027746, 'test_total': 113, 'val_loss': 171.217324, 'val_avg_loss': 1.515198, 'val_total': 113}\n",
      "2022-12-22 19:24:18,540 (client:260)INFO: {'Role': 'Client #1', 'Round': 120, 'Results_raw': {'train_loss': nan, 'train_avg_loss': nan, 'train_total': 901}}\n",
      "2022-12-22 19:24:18,541 (server:496)INFO: {'Role': 'Server #', 'Round': 120, 'Results_avg': {'test_loss': nan, 'test_avg_loss': nan, 'test_total': 113.0, 'val_loss': nan, 'val_avg_loss': nan, 'val_total': 113.0}}\n",
      "2022-12-22 19:24:18,542 (monitor:936)INFO: Current best: {'test_loss': 229.135253, 'test_avg_loss': 2.027746, 'test_total': 113.0, 'val_loss': 171.217324, 'val_avg_loss': 1.515198, 'val_total': 113.0}\n",
      "2022-12-22 19:24:18,543 (monitor:936)INFO: Current best: {'test_loss': 229.135253, 'test_avg_loss': 2.027746, 'test_total': 113.0, 'val_loss': 171.217324, 'val_avg_loss': 1.515198, 'val_total': 113.0}\n",
      "2022-12-22 19:24:18,545 (server:323)INFO: Server #0: Starting evaluation at the end of round 120.\n",
      "2022-12-22 19:24:18,545 (server:330)INFO: ----------- Starting a new training round (Round #121) -------------\n",
      "2022-12-22 19:24:18,575 (client:415)INFO: {'Role': 'Client #1', 'Round': 121, 'Results_raw': {'test_loss': nan, 'test_avg_loss': nan, 'test_total': 113, 'val_loss': nan, 'val_avg_loss': nan, 'val_total': 113}}\n",
      "2022-12-22 19:24:18,576 (monitor:936)INFO: Current best: {'test_loss': 229.135253, 'test_avg_loss': 2.027746, 'test_total': 113, 'val_loss': 171.217324, 'val_avg_loss': 1.515198, 'val_total': 113}\n",
      "2022-12-22 19:24:18,710 (client:260)INFO: {'Role': 'Client #1', 'Round': 121, 'Results_raw': {'train_loss': nan, 'train_avg_loss': nan, 'train_total': 901}}\n",
      "2022-12-22 19:24:18,711 (server:496)INFO: {'Role': 'Server #', 'Round': 121, 'Results_avg': {'test_loss': nan, 'test_avg_loss': nan, 'test_total': 113.0, 'val_loss': nan, 'val_avg_loss': nan, 'val_total': 113.0}}\n",
      "2022-12-22 19:24:18,712 (monitor:936)INFO: Current best: {'test_loss': 229.135253, 'test_avg_loss': 2.027746, 'test_total': 113.0, 'val_loss': 171.217324, 'val_avg_loss': 1.515198, 'val_total': 113.0}\n",
      "2022-12-22 19:24:18,713 (monitor:936)INFO: Current best: {'test_loss': 229.135253, 'test_avg_loss': 2.027746, 'test_total': 113.0, 'val_loss': 171.217324, 'val_avg_loss': 1.515198, 'val_total': 113.0}\n",
      "2022-12-22 19:24:18,715 (server:323)INFO: Server #0: Starting evaluation at the end of round 121.\n",
      "2022-12-22 19:24:18,715 (server:330)INFO: ----------- Starting a new training round (Round #122) -------------\n",
      "2022-12-22 19:24:18,747 (client:415)INFO: {'Role': 'Client #1', 'Round': 122, 'Results_raw': {'test_loss': nan, 'test_avg_loss': nan, 'test_total': 113, 'val_loss': nan, 'val_avg_loss': nan, 'val_total': 113}}\n",
      "2022-12-22 19:24:18,748 (monitor:936)INFO: Current best: {'test_loss': 229.135253, 'test_avg_loss': 2.027746, 'test_total': 113, 'val_loss': 171.217324, 'val_avg_loss': 1.515198, 'val_total': 113}\n",
      "2022-12-22 19:24:18,894 (client:260)INFO: {'Role': 'Client #1', 'Round': 122, 'Results_raw': {'train_loss': nan, 'train_avg_loss': nan, 'train_total': 901}}\n",
      "2022-12-22 19:24:18,896 (server:496)INFO: {'Role': 'Server #', 'Round': 122, 'Results_avg': {'test_loss': nan, 'test_avg_loss': nan, 'test_total': 113.0, 'val_loss': nan, 'val_avg_loss': nan, 'val_total': 113.0}}\n",
      "2022-12-22 19:24:18,897 (monitor:936)INFO: Current best: {'test_loss': 229.135253, 'test_avg_loss': 2.027746, 'test_total': 113.0, 'val_loss': 171.217324, 'val_avg_loss': 1.515198, 'val_total': 113.0}\n",
      "2022-12-22 19:24:18,899 (monitor:936)INFO: Current best: {'test_loss': 229.135253, 'test_avg_loss': 2.027746, 'test_total': 113.0, 'val_loss': 171.217324, 'val_avg_loss': 1.515198, 'val_total': 113.0}\n",
      "2022-12-22 19:24:18,901 (server:323)INFO: Server #0: Starting evaluation at the end of round 122.\n",
      "2022-12-22 19:24:18,902 (server:330)INFO: ----------- Starting a new training round (Round #123) -------------\n",
      "2022-12-22 19:24:18,941 (client:415)INFO: {'Role': 'Client #1', 'Round': 123, 'Results_raw': {'test_loss': nan, 'test_avg_loss': nan, 'test_total': 113, 'val_loss': nan, 'val_avg_loss': nan, 'val_total': 113}}\n",
      "2022-12-22 19:24:18,942 (monitor:936)INFO: Current best: {'test_loss': 229.135253, 'test_avg_loss': 2.027746, 'test_total': 113, 'val_loss': 171.217324, 'val_avg_loss': 1.515198, 'val_total': 113}\n",
      "2022-12-22 19:24:19,069 (client:260)INFO: {'Role': 'Client #1', 'Round': 123, 'Results_raw': {'train_loss': nan, 'train_avg_loss': nan, 'train_total': 901}}\n",
      "2022-12-22 19:24:19,071 (server:496)INFO: {'Role': 'Server #', 'Round': 123, 'Results_avg': {'test_loss': nan, 'test_avg_loss': nan, 'test_total': 113.0, 'val_loss': nan, 'val_avg_loss': nan, 'val_total': 113.0}}\n",
      "2022-12-22 19:24:19,072 (monitor:936)INFO: Current best: {'test_loss': 229.135253, 'test_avg_loss': 2.027746, 'test_total': 113.0, 'val_loss': 171.217324, 'val_avg_loss': 1.515198, 'val_total': 113.0}\n",
      "2022-12-22 19:24:19,073 (monitor:936)INFO: Current best: {'test_loss': 229.135253, 'test_avg_loss': 2.027746, 'test_total': 113.0, 'val_loss': 171.217324, 'val_avg_loss': 1.515198, 'val_total': 113.0}\n",
      "2022-12-22 19:24:19,076 (server:323)INFO: Server #0: Starting evaluation at the end of round 123.\n",
      "2022-12-22 19:24:19,077 (server:330)INFO: ----------- Starting a new training round (Round #124) -------------\n",
      "2022-12-22 19:24:19,107 (client:415)INFO: {'Role': 'Client #1', 'Round': 124, 'Results_raw': {'test_loss': nan, 'test_avg_loss': nan, 'test_total': 113, 'val_loss': nan, 'val_avg_loss': nan, 'val_total': 113}}\n",
      "2022-12-22 19:24:19,107 (monitor:936)INFO: Current best: {'test_loss': 229.135253, 'test_avg_loss': 2.027746, 'test_total': 113, 'val_loss': 171.217324, 'val_avg_loss': 1.515198, 'val_total': 113}\n",
      "2022-12-22 19:24:19,229 (client:260)INFO: {'Role': 'Client #1', 'Round': 124, 'Results_raw': {'train_loss': nan, 'train_avg_loss': nan, 'train_total': 901}}\n",
      "2022-12-22 19:24:19,231 (server:496)INFO: {'Role': 'Server #', 'Round': 124, 'Results_avg': {'test_loss': nan, 'test_avg_loss': nan, 'test_total': 113.0, 'val_loss': nan, 'val_avg_loss': nan, 'val_total': 113.0}}\n",
      "2022-12-22 19:24:19,233 (monitor:936)INFO: Current best: {'test_loss': 229.135253, 'test_avg_loss': 2.027746, 'test_total': 113.0, 'val_loss': 171.217324, 'val_avg_loss': 1.515198, 'val_total': 113.0}\n",
      "2022-12-22 19:24:19,236 (monitor:936)INFO: Current best: {'test_loss': 229.135253, 'test_avg_loss': 2.027746, 'test_total': 113.0, 'val_loss': 171.217324, 'val_avg_loss': 1.515198, 'val_total': 113.0}\n",
      "2022-12-22 19:24:19,238 (server:323)INFO: Server #0: Starting evaluation at the end of round 124.\n",
      "2022-12-22 19:24:19,239 (server:330)INFO: ----------- Starting a new training round (Round #125) -------------\n",
      "2022-12-22 19:24:19,274 (client:415)INFO: {'Role': 'Client #1', 'Round': 125, 'Results_raw': {'test_loss': nan, 'test_avg_loss': nan, 'test_total': 113, 'val_loss': nan, 'val_avg_loss': nan, 'val_total': 113}}\n",
      "2022-12-22 19:24:19,274 (monitor:936)INFO: Current best: {'test_loss': 229.135253, 'test_avg_loss': 2.027746, 'test_total': 113, 'val_loss': 171.217324, 'val_avg_loss': 1.515198, 'val_total': 113}\n",
      "2022-12-22 19:24:19,411 (client:260)INFO: {'Role': 'Client #1', 'Round': 125, 'Results_raw': {'train_loss': nan, 'train_avg_loss': nan, 'train_total': 901}}\n",
      "2022-12-22 19:24:19,413 (server:496)INFO: {'Role': 'Server #', 'Round': 125, 'Results_avg': {'test_loss': nan, 'test_avg_loss': nan, 'test_total': 113.0, 'val_loss': nan, 'val_avg_loss': nan, 'val_total': 113.0}}\n",
      "2022-12-22 19:24:19,413 (monitor:936)INFO: Current best: {'test_loss': 229.135253, 'test_avg_loss': 2.027746, 'test_total': 113.0, 'val_loss': 171.217324, 'val_avg_loss': 1.515198, 'val_total': 113.0}\n",
      "2022-12-22 19:24:19,414 (monitor:936)INFO: Current best: {'test_loss': 229.135253, 'test_avg_loss': 2.027746, 'test_total': 113.0, 'val_loss': 171.217324, 'val_avg_loss': 1.515198, 'val_total': 113.0}\n",
      "2022-12-22 19:24:19,416 (server:323)INFO: Server #0: Starting evaluation at the end of round 125.\n",
      "2022-12-22 19:24:19,416 (server:330)INFO: ----------- Starting a new training round (Round #126) -------------\n",
      "2022-12-22 19:24:19,450 (client:415)INFO: {'Role': 'Client #1', 'Round': 126, 'Results_raw': {'test_loss': nan, 'test_avg_loss': nan, 'test_total': 113, 'val_loss': nan, 'val_avg_loss': nan, 'val_total': 113}}\n",
      "2022-12-22 19:24:19,451 (monitor:936)INFO: Current best: {'test_loss': 229.135253, 'test_avg_loss': 2.027746, 'test_total': 113, 'val_loss': 171.217324, 'val_avg_loss': 1.515198, 'val_total': 113}\n",
      "2022-12-22 19:24:19,605 (client:260)INFO: {'Role': 'Client #1', 'Round': 126, 'Results_raw': {'train_loss': nan, 'train_avg_loss': nan, 'train_total': 901}}\n",
      "2022-12-22 19:24:19,607 (server:496)INFO: {'Role': 'Server #', 'Round': 126, 'Results_avg': {'test_loss': nan, 'test_avg_loss': nan, 'test_total': 113.0, 'val_loss': nan, 'val_avg_loss': nan, 'val_total': 113.0}}\n",
      "2022-12-22 19:24:19,608 (monitor:936)INFO: Current best: {'test_loss': 229.135253, 'test_avg_loss': 2.027746, 'test_total': 113.0, 'val_loss': 171.217324, 'val_avg_loss': 1.515198, 'val_total': 113.0}\n",
      "2022-12-22 19:24:19,608 (monitor:936)INFO: Current best: {'test_loss': 229.135253, 'test_avg_loss': 2.027746, 'test_total': 113.0, 'val_loss': 171.217324, 'val_avg_loss': 1.515198, 'val_total': 113.0}\n",
      "2022-12-22 19:24:19,610 (server:323)INFO: Server #0: Starting evaluation at the end of round 126.\n",
      "2022-12-22 19:24:19,610 (server:330)INFO: ----------- Starting a new training round (Round #127) -------------\n",
      "2022-12-22 19:24:19,641 (client:415)INFO: {'Role': 'Client #1', 'Round': 127, 'Results_raw': {'test_loss': nan, 'test_avg_loss': nan, 'test_total': 113, 'val_loss': nan, 'val_avg_loss': nan, 'val_total': 113}}\n",
      "2022-12-22 19:24:19,642 (monitor:936)INFO: Current best: {'test_loss': 229.135253, 'test_avg_loss': 2.027746, 'test_total': 113, 'val_loss': 171.217324, 'val_avg_loss': 1.515198, 'val_total': 113}\n",
      "2022-12-22 19:24:19,782 (client:260)INFO: {'Role': 'Client #1', 'Round': 127, 'Results_raw': {'train_loss': nan, 'train_avg_loss': nan, 'train_total': 901}}\n",
      "2022-12-22 19:24:19,784 (server:496)INFO: {'Role': 'Server #', 'Round': 127, 'Results_avg': {'test_loss': nan, 'test_avg_loss': nan, 'test_total': 113.0, 'val_loss': nan, 'val_avg_loss': nan, 'val_total': 113.0}}\n",
      "2022-12-22 19:24:19,786 (monitor:936)INFO: Current best: {'test_loss': 229.135253, 'test_avg_loss': 2.027746, 'test_total': 113.0, 'val_loss': 171.217324, 'val_avg_loss': 1.515198, 'val_total': 113.0}\n",
      "2022-12-22 19:24:19,788 (monitor:936)INFO: Current best: {'test_loss': 229.135253, 'test_avg_loss': 2.027746, 'test_total': 113.0, 'val_loss': 171.217324, 'val_avg_loss': 1.515198, 'val_total': 113.0}\n",
      "2022-12-22 19:24:19,791 (server:323)INFO: Server #0: Starting evaluation at the end of round 127.\n",
      "2022-12-22 19:24:19,792 (server:330)INFO: ----------- Starting a new training round (Round #128) -------------\n",
      "2022-12-22 19:24:19,823 (client:415)INFO: {'Role': 'Client #1', 'Round': 128, 'Results_raw': {'test_loss': nan, 'test_avg_loss': nan, 'test_total': 113, 'val_loss': nan, 'val_avg_loss': nan, 'val_total': 113}}\n",
      "2022-12-22 19:24:19,824 (monitor:936)INFO: Current best: {'test_loss': 229.135253, 'test_avg_loss': 2.027746, 'test_total': 113, 'val_loss': 171.217324, 'val_avg_loss': 1.515198, 'val_total': 113}\n",
      "2022-12-22 19:24:19,969 (client:260)INFO: {'Role': 'Client #1', 'Round': 128, 'Results_raw': {'train_loss': nan, 'train_avg_loss': nan, 'train_total': 901}}\n",
      "2022-12-22 19:24:19,970 (server:496)INFO: {'Role': 'Server #', 'Round': 128, 'Results_avg': {'test_loss': nan, 'test_avg_loss': nan, 'test_total': 113.0, 'val_loss': nan, 'val_avg_loss': nan, 'val_total': 113.0}}\n",
      "2022-12-22 19:24:19,971 (monitor:936)INFO: Current best: {'test_loss': 229.135253, 'test_avg_loss': 2.027746, 'test_total': 113.0, 'val_loss': 171.217324, 'val_avg_loss': 1.515198, 'val_total': 113.0}\n",
      "2022-12-22 19:24:19,972 (monitor:936)INFO: Current best: {'test_loss': 229.135253, 'test_avg_loss': 2.027746, 'test_total': 113.0, 'val_loss': 171.217324, 'val_avg_loss': 1.515198, 'val_total': 113.0}\n",
      "2022-12-22 19:24:19,974 (server:323)INFO: Server #0: Starting evaluation at the end of round 128.\n",
      "2022-12-22 19:24:19,974 (server:330)INFO: ----------- Starting a new training round (Round #129) -------------\n",
      "2022-12-22 19:24:20,014 (client:415)INFO: {'Role': 'Client #1', 'Round': 129, 'Results_raw': {'test_loss': nan, 'test_avg_loss': nan, 'test_total': 113, 'val_loss': nan, 'val_avg_loss': nan, 'val_total': 113}}\n",
      "2022-12-22 19:24:20,015 (monitor:936)INFO: Current best: {'test_loss': 229.135253, 'test_avg_loss': 2.027746, 'test_total': 113, 'val_loss': 171.217324, 'val_avg_loss': 1.515198, 'val_total': 113}\n",
      "2022-12-22 19:24:20,146 (client:260)INFO: {'Role': 'Client #1', 'Round': 129, 'Results_raw': {'train_loss': nan, 'train_avg_loss': nan, 'train_total': 901}}\n",
      "2022-12-22 19:24:20,148 (server:496)INFO: {'Role': 'Server #', 'Round': 129, 'Results_avg': {'test_loss': nan, 'test_avg_loss': nan, 'test_total': 113.0, 'val_loss': nan, 'val_avg_loss': nan, 'val_total': 113.0}}\n",
      "2022-12-22 19:24:20,149 (monitor:936)INFO: Current best: {'test_loss': 229.135253, 'test_avg_loss': 2.027746, 'test_total': 113.0, 'val_loss': 171.217324, 'val_avg_loss': 1.515198, 'val_total': 113.0}\n",
      "2022-12-22 19:24:20,151 (monitor:936)INFO: Current best: {'test_loss': 229.135253, 'test_avg_loss': 2.027746, 'test_total': 113.0, 'val_loss': 171.217324, 'val_avg_loss': 1.515198, 'val_total': 113.0}\n",
      "2022-12-22 19:24:20,153 (server:323)INFO: Server #0: Starting evaluation at the end of round 129.\n",
      "2022-12-22 19:24:20,154 (server:330)INFO: ----------- Starting a new training round (Round #130) -------------\n",
      "2022-12-22 19:24:20,187 (client:415)INFO: {'Role': 'Client #1', 'Round': 130, 'Results_raw': {'test_loss': nan, 'test_avg_loss': nan, 'test_total': 113, 'val_loss': nan, 'val_avg_loss': nan, 'val_total': 113}}\n",
      "2022-12-22 19:24:20,188 (monitor:936)INFO: Current best: {'test_loss': 229.135253, 'test_avg_loss': 2.027746, 'test_total': 113, 'val_loss': 171.217324, 'val_avg_loss': 1.515198, 'val_total': 113}\n",
      "2022-12-22 19:24:20,332 (client:260)INFO: {'Role': 'Client #1', 'Round': 130, 'Results_raw': {'train_loss': nan, 'train_avg_loss': nan, 'train_total': 901}}\n",
      "2022-12-22 19:24:20,334 (server:496)INFO: {'Role': 'Server #', 'Round': 130, 'Results_avg': {'test_loss': nan, 'test_avg_loss': nan, 'test_total': 113.0, 'val_loss': nan, 'val_avg_loss': nan, 'val_total': 113.0}}\n",
      "2022-12-22 19:24:20,335 (monitor:936)INFO: Current best: {'test_loss': 229.135253, 'test_avg_loss': 2.027746, 'test_total': 113.0, 'val_loss': 171.217324, 'val_avg_loss': 1.515198, 'val_total': 113.0}\n",
      "2022-12-22 19:24:20,336 (monitor:936)INFO: Current best: {'test_loss': 229.135253, 'test_avg_loss': 2.027746, 'test_total': 113.0, 'val_loss': 171.217324, 'val_avg_loss': 1.515198, 'val_total': 113.0}\n",
      "2022-12-22 19:24:20,337 (server:323)INFO: Server #0: Starting evaluation at the end of round 130.\n",
      "2022-12-22 19:24:20,338 (server:330)INFO: ----------- Starting a new training round (Round #131) -------------\n",
      "2022-12-22 19:24:20,366 (client:415)INFO: {'Role': 'Client #1', 'Round': 131, 'Results_raw': {'test_loss': nan, 'test_avg_loss': nan, 'test_total': 113, 'val_loss': nan, 'val_avg_loss': nan, 'val_total': 113}}\n",
      "2022-12-22 19:24:20,367 (monitor:936)INFO: Current best: {'test_loss': 229.135253, 'test_avg_loss': 2.027746, 'test_total': 113, 'val_loss': 171.217324, 'val_avg_loss': 1.515198, 'val_total': 113}\n",
      "2022-12-22 19:24:20,499 (client:260)INFO: {'Role': 'Client #1', 'Round': 131, 'Results_raw': {'train_loss': nan, 'train_avg_loss': nan, 'train_total': 901}}\n",
      "2022-12-22 19:24:20,501 (server:496)INFO: {'Role': 'Server #', 'Round': 131, 'Results_avg': {'test_loss': nan, 'test_avg_loss': nan, 'test_total': 113.0, 'val_loss': nan, 'val_avg_loss': nan, 'val_total': 113.0}}\n",
      "2022-12-22 19:24:20,502 (monitor:936)INFO: Current best: {'test_loss': 229.135253, 'test_avg_loss': 2.027746, 'test_total': 113.0, 'val_loss': 171.217324, 'val_avg_loss': 1.515198, 'val_total': 113.0}\n",
      "2022-12-22 19:24:20,504 (monitor:936)INFO: Current best: {'test_loss': 229.135253, 'test_avg_loss': 2.027746, 'test_total': 113.0, 'val_loss': 171.217324, 'val_avg_loss': 1.515198, 'val_total': 113.0}\n",
      "2022-12-22 19:24:20,506 (server:323)INFO: Server #0: Starting evaluation at the end of round 131.\n",
      "2022-12-22 19:24:20,507 (server:330)INFO: ----------- Starting a new training round (Round #132) -------------\n",
      "2022-12-22 19:24:20,540 (client:415)INFO: {'Role': 'Client #1', 'Round': 132, 'Results_raw': {'test_loss': nan, 'test_avg_loss': nan, 'test_total': 113, 'val_loss': nan, 'val_avg_loss': nan, 'val_total': 113}}\n",
      "2022-12-22 19:24:20,541 (monitor:936)INFO: Current best: {'test_loss': 229.135253, 'test_avg_loss': 2.027746, 'test_total': 113, 'val_loss': 171.217324, 'val_avg_loss': 1.515198, 'val_total': 113}\n",
      "2022-12-22 19:24:20,676 (client:260)INFO: {'Role': 'Client #1', 'Round': 132, 'Results_raw': {'train_loss': nan, 'train_avg_loss': nan, 'train_total': 901}}\n",
      "2022-12-22 19:24:20,677 (server:496)INFO: {'Role': 'Server #', 'Round': 132, 'Results_avg': {'test_loss': nan, 'test_avg_loss': nan, 'test_total': 113.0, 'val_loss': nan, 'val_avg_loss': nan, 'val_total': 113.0}}\n",
      "2022-12-22 19:24:20,678 (monitor:936)INFO: Current best: {'test_loss': 229.135253, 'test_avg_loss': 2.027746, 'test_total': 113.0, 'val_loss': 171.217324, 'val_avg_loss': 1.515198, 'val_total': 113.0}\n",
      "2022-12-22 19:24:20,679 (monitor:936)INFO: Current best: {'test_loss': 229.135253, 'test_avg_loss': 2.027746, 'test_total': 113.0, 'val_loss': 171.217324, 'val_avg_loss': 1.515198, 'val_total': 113.0}\n",
      "2022-12-22 19:24:20,681 (server:323)INFO: Server #0: Starting evaluation at the end of round 132.\n",
      "2022-12-22 19:24:20,681 (server:330)INFO: ----------- Starting a new training round (Round #133) -------------\n",
      "2022-12-22 19:24:20,711 (client:415)INFO: {'Role': 'Client #1', 'Round': 133, 'Results_raw': {'test_loss': nan, 'test_avg_loss': nan, 'test_total': 113, 'val_loss': nan, 'val_avg_loss': nan, 'val_total': 113}}\n",
      "2022-12-22 19:24:20,712 (monitor:936)INFO: Current best: {'test_loss': 229.135253, 'test_avg_loss': 2.027746, 'test_total': 113, 'val_loss': 171.217324, 'val_avg_loss': 1.515198, 'val_total': 113}\n",
      "2022-12-22 19:24:20,856 (client:260)INFO: {'Role': 'Client #1', 'Round': 133, 'Results_raw': {'train_loss': nan, 'train_avg_loss': nan, 'train_total': 901}}\n",
      "2022-12-22 19:24:20,858 (server:496)INFO: {'Role': 'Server #', 'Round': 133, 'Results_avg': {'test_loss': nan, 'test_avg_loss': nan, 'test_total': 113.0, 'val_loss': nan, 'val_avg_loss': nan, 'val_total': 113.0}}\n",
      "2022-12-22 19:24:20,860 (monitor:936)INFO: Current best: {'test_loss': 229.135253, 'test_avg_loss': 2.027746, 'test_total': 113.0, 'val_loss': 171.217324, 'val_avg_loss': 1.515198, 'val_total': 113.0}\n",
      "2022-12-22 19:24:20,862 (monitor:936)INFO: Current best: {'test_loss': 229.135253, 'test_avg_loss': 2.027746, 'test_total': 113.0, 'val_loss': 171.217324, 'val_avg_loss': 1.515198, 'val_total': 113.0}\n",
      "2022-12-22 19:24:20,866 (server:323)INFO: Server #0: Starting evaluation at the end of round 133.\n",
      "2022-12-22 19:24:20,867 (server:330)INFO: ----------- Starting a new training round (Round #134) -------------\n",
      "2022-12-22 19:24:20,897 (client:415)INFO: {'Role': 'Client #1', 'Round': 134, 'Results_raw': {'test_loss': nan, 'test_avg_loss': nan, 'test_total': 113, 'val_loss': nan, 'val_avg_loss': nan, 'val_total': 113}}\n",
      "2022-12-22 19:24:20,898 (monitor:936)INFO: Current best: {'test_loss': 229.135253, 'test_avg_loss': 2.027746, 'test_total': 113, 'val_loss': 171.217324, 'val_avg_loss': 1.515198, 'val_total': 113}\n",
      "2022-12-22 19:24:21,029 (client:260)INFO: {'Role': 'Client #1', 'Round': 134, 'Results_raw': {'train_loss': nan, 'train_avg_loss': nan, 'train_total': 901}}\n",
      "2022-12-22 19:24:21,030 (server:496)INFO: {'Role': 'Server #', 'Round': 134, 'Results_avg': {'test_loss': nan, 'test_avg_loss': nan, 'test_total': 113.0, 'val_loss': nan, 'val_avg_loss': nan, 'val_total': 113.0}}\n",
      "2022-12-22 19:24:21,031 (monitor:936)INFO: Current best: {'test_loss': 229.135253, 'test_avg_loss': 2.027746, 'test_total': 113.0, 'val_loss': 171.217324, 'val_avg_loss': 1.515198, 'val_total': 113.0}\n",
      "2022-12-22 19:24:21,032 (monitor:936)INFO: Current best: {'test_loss': 229.135253, 'test_avg_loss': 2.027746, 'test_total': 113.0, 'val_loss': 171.217324, 'val_avg_loss': 1.515198, 'val_total': 113.0}\n",
      "2022-12-22 19:24:21,034 (server:323)INFO: Server #0: Starting evaluation at the end of round 134.\n",
      "2022-12-22 19:24:21,034 (server:330)INFO: ----------- Starting a new training round (Round #135) -------------\n",
      "2022-12-22 19:24:21,068 (client:415)INFO: {'Role': 'Client #1', 'Round': 135, 'Results_raw': {'test_loss': nan, 'test_avg_loss': nan, 'test_total': 113, 'val_loss': nan, 'val_avg_loss': nan, 'val_total': 113}}\n",
      "2022-12-22 19:24:21,069 (monitor:936)INFO: Current best: {'test_loss': 229.135253, 'test_avg_loss': 2.027746, 'test_total': 113, 'val_loss': 171.217324, 'val_avg_loss': 1.515198, 'val_total': 113}\n",
      "2022-12-22 19:24:21,208 (client:260)INFO: {'Role': 'Client #1', 'Round': 135, 'Results_raw': {'train_loss': nan, 'train_avg_loss': nan, 'train_total': 901}}\n",
      "2022-12-22 19:24:21,209 (server:496)INFO: {'Role': 'Server #', 'Round': 135, 'Results_avg': {'test_loss': nan, 'test_avg_loss': nan, 'test_total': 113.0, 'val_loss': nan, 'val_avg_loss': nan, 'val_total': 113.0}}\n",
      "2022-12-22 19:24:21,210 (monitor:936)INFO: Current best: {'test_loss': 229.135253, 'test_avg_loss': 2.027746, 'test_total': 113.0, 'val_loss': 171.217324, 'val_avg_loss': 1.515198, 'val_total': 113.0}\n",
      "2022-12-22 19:24:21,212 (monitor:936)INFO: Current best: {'test_loss': 229.135253, 'test_avg_loss': 2.027746, 'test_total': 113.0, 'val_loss': 171.217324, 'val_avg_loss': 1.515198, 'val_total': 113.0}\n",
      "2022-12-22 19:24:21,215 (server:323)INFO: Server #0: Starting evaluation at the end of round 135.\n",
      "2022-12-22 19:24:21,215 (server:330)INFO: ----------- Starting a new training round (Round #136) -------------\n",
      "2022-12-22 19:24:21,245 (client:415)INFO: {'Role': 'Client #1', 'Round': 136, 'Results_raw': {'test_loss': nan, 'test_avg_loss': nan, 'test_total': 113, 'val_loss': nan, 'val_avg_loss': nan, 'val_total': 113}}\n",
      "2022-12-22 19:24:21,246 (monitor:936)INFO: Current best: {'test_loss': 229.135253, 'test_avg_loss': 2.027746, 'test_total': 113, 'val_loss': 171.217324, 'val_avg_loss': 1.515198, 'val_total': 113}\n",
      "2022-12-22 19:24:21,394 (client:260)INFO: {'Role': 'Client #1', 'Round': 136, 'Results_raw': {'train_loss': nan, 'train_avg_loss': nan, 'train_total': 901}}\n",
      "2022-12-22 19:24:21,396 (server:496)INFO: {'Role': 'Server #', 'Round': 136, 'Results_avg': {'test_loss': nan, 'test_avg_loss': nan, 'test_total': 113.0, 'val_loss': nan, 'val_avg_loss': nan, 'val_total': 113.0}}\n",
      "2022-12-22 19:24:21,397 (monitor:936)INFO: Current best: {'test_loss': 229.135253, 'test_avg_loss': 2.027746, 'test_total': 113.0, 'val_loss': 171.217324, 'val_avg_loss': 1.515198, 'val_total': 113.0}\n",
      "2022-12-22 19:24:21,398 (monitor:936)INFO: Current best: {'test_loss': 229.135253, 'test_avg_loss': 2.027746, 'test_total': 113.0, 'val_loss': 171.217324, 'val_avg_loss': 1.515198, 'val_total': 113.0}\n",
      "2022-12-22 19:24:21,401 (server:323)INFO: Server #0: Starting evaluation at the end of round 136.\n",
      "2022-12-22 19:24:21,402 (server:330)INFO: ----------- Starting a new training round (Round #137) -------------\n",
      "2022-12-22 19:24:21,435 (client:415)INFO: {'Role': 'Client #1', 'Round': 137, 'Results_raw': {'test_loss': nan, 'test_avg_loss': nan, 'test_total': 113, 'val_loss': nan, 'val_avg_loss': nan, 'val_total': 113}}\n",
      "2022-12-22 19:24:21,436 (monitor:936)INFO: Current best: {'test_loss': 229.135253, 'test_avg_loss': 2.027746, 'test_total': 113, 'val_loss': 171.217324, 'val_avg_loss': 1.515198, 'val_total': 113}\n",
      "2022-12-22 19:24:21,608 (client:260)INFO: {'Role': 'Client #1', 'Round': 137, 'Results_raw': {'train_loss': nan, 'train_avg_loss': nan, 'train_total': 901}}\n",
      "2022-12-22 19:24:21,610 (server:496)INFO: {'Role': 'Server #', 'Round': 137, 'Results_avg': {'test_loss': nan, 'test_avg_loss': nan, 'test_total': 113.0, 'val_loss': nan, 'val_avg_loss': nan, 'val_total': 113.0}}\n",
      "2022-12-22 19:24:21,611 (monitor:936)INFO: Current best: {'test_loss': 229.135253, 'test_avg_loss': 2.027746, 'test_total': 113.0, 'val_loss': 171.217324, 'val_avg_loss': 1.515198, 'val_total': 113.0}\n",
      "2022-12-22 19:24:21,613 (monitor:936)INFO: Current best: {'test_loss': 229.135253, 'test_avg_loss': 2.027746, 'test_total': 113.0, 'val_loss': 171.217324, 'val_avg_loss': 1.515198, 'val_total': 113.0}\n",
      "2022-12-22 19:24:21,614 (server:323)INFO: Server #0: Starting evaluation at the end of round 137.\n",
      "2022-12-22 19:24:21,615 (server:330)INFO: ----------- Starting a new training round (Round #138) -------------\n",
      "2022-12-22 19:24:21,653 (client:415)INFO: {'Role': 'Client #1', 'Round': 138, 'Results_raw': {'test_loss': nan, 'test_avg_loss': nan, 'test_total': 113, 'val_loss': nan, 'val_avg_loss': nan, 'val_total': 113}}\n",
      "2022-12-22 19:24:21,653 (monitor:936)INFO: Current best: {'test_loss': 229.135253, 'test_avg_loss': 2.027746, 'test_total': 113, 'val_loss': 171.217324, 'val_avg_loss': 1.515198, 'val_total': 113}\n",
      "2022-12-22 19:24:21,792 (client:260)INFO: {'Role': 'Client #1', 'Round': 138, 'Results_raw': {'train_loss': nan, 'train_avg_loss': nan, 'train_total': 901}}\n",
      "2022-12-22 19:24:21,793 (server:496)INFO: {'Role': 'Server #', 'Round': 138, 'Results_avg': {'test_loss': nan, 'test_avg_loss': nan, 'test_total': 113.0, 'val_loss': nan, 'val_avg_loss': nan, 'val_total': 113.0}}\n",
      "2022-12-22 19:24:21,794 (monitor:936)INFO: Current best: {'test_loss': 229.135253, 'test_avg_loss': 2.027746, 'test_total': 113.0, 'val_loss': 171.217324, 'val_avg_loss': 1.515198, 'val_total': 113.0}\n",
      "2022-12-22 19:24:21,795 (monitor:936)INFO: Current best: {'test_loss': 229.135253, 'test_avg_loss': 2.027746, 'test_total': 113.0, 'val_loss': 171.217324, 'val_avg_loss': 1.515198, 'val_total': 113.0}\n",
      "2022-12-22 19:24:21,797 (server:323)INFO: Server #0: Starting evaluation at the end of round 138.\n",
      "2022-12-22 19:24:21,798 (server:330)INFO: ----------- Starting a new training round (Round #139) -------------\n",
      "2022-12-22 19:24:21,836 (client:415)INFO: {'Role': 'Client #1', 'Round': 139, 'Results_raw': {'test_loss': nan, 'test_avg_loss': nan, 'test_total': 113, 'val_loss': nan, 'val_avg_loss': nan, 'val_total': 113}}\n",
      "2022-12-22 19:24:21,837 (monitor:936)INFO: Current best: {'test_loss': 229.135253, 'test_avg_loss': 2.027746, 'test_total': 113, 'val_loss': 171.217324, 'val_avg_loss': 1.515198, 'val_total': 113}\n",
      "2022-12-22 19:24:21,969 (client:260)INFO: {'Role': 'Client #1', 'Round': 139, 'Results_raw': {'train_loss': nan, 'train_avg_loss': nan, 'train_total': 901}}\n",
      "2022-12-22 19:24:21,970 (server:496)INFO: {'Role': 'Server #', 'Round': 139, 'Results_avg': {'test_loss': nan, 'test_avg_loss': nan, 'test_total': 113.0, 'val_loss': nan, 'val_avg_loss': nan, 'val_total': 113.0}}\n",
      "2022-12-22 19:24:21,971 (monitor:936)INFO: Current best: {'test_loss': 229.135253, 'test_avg_loss': 2.027746, 'test_total': 113.0, 'val_loss': 171.217324, 'val_avg_loss': 1.515198, 'val_total': 113.0}\n",
      "2022-12-22 19:24:21,972 (monitor:936)INFO: Current best: {'test_loss': 229.135253, 'test_avg_loss': 2.027746, 'test_total': 113.0, 'val_loss': 171.217324, 'val_avg_loss': 1.515198, 'val_total': 113.0}\n",
      "2022-12-22 19:24:21,974 (server:323)INFO: Server #0: Starting evaluation at the end of round 139.\n",
      "2022-12-22 19:24:21,975 (server:330)INFO: ----------- Starting a new training round (Round #140) -------------\n",
      "2022-12-22 19:24:22,018 (client:415)INFO: {'Role': 'Client #1', 'Round': 140, 'Results_raw': {'test_loss': nan, 'test_avg_loss': nan, 'test_total': 113, 'val_loss': nan, 'val_avg_loss': nan, 'val_total': 113}}\n",
      "2022-12-22 19:24:22,019 (monitor:936)INFO: Current best: {'test_loss': 229.135253, 'test_avg_loss': 2.027746, 'test_total': 113, 'val_loss': 171.217324, 'val_avg_loss': 1.515198, 'val_total': 113}\n",
      "2022-12-22 19:24:22,149 (client:260)INFO: {'Role': 'Client #1', 'Round': 140, 'Results_raw': {'train_loss': nan, 'train_avg_loss': nan, 'train_total': 901}}\n",
      "2022-12-22 19:24:22,151 (server:496)INFO: {'Role': 'Server #', 'Round': 140, 'Results_avg': {'test_loss': nan, 'test_avg_loss': nan, 'test_total': 113.0, 'val_loss': nan, 'val_avg_loss': nan, 'val_total': 113.0}}\n",
      "2022-12-22 19:24:22,151 (monitor:936)INFO: Current best: {'test_loss': 229.135253, 'test_avg_loss': 2.027746, 'test_total': 113.0, 'val_loss': 171.217324, 'val_avg_loss': 1.515198, 'val_total': 113.0}\n",
      "2022-12-22 19:24:22,152 (monitor:936)INFO: Current best: {'test_loss': 229.135253, 'test_avg_loss': 2.027746, 'test_total': 113.0, 'val_loss': 171.217324, 'val_avg_loss': 1.515198, 'val_total': 113.0}\n",
      "2022-12-22 19:24:22,154 (server:323)INFO: Server #0: Starting evaluation at the end of round 140.\n",
      "2022-12-22 19:24:22,154 (server:330)INFO: ----------- Starting a new training round (Round #141) -------------\n",
      "2022-12-22 19:24:22,186 (client:415)INFO: {'Role': 'Client #1', 'Round': 141, 'Results_raw': {'test_loss': nan, 'test_avg_loss': nan, 'test_total': 113, 'val_loss': nan, 'val_avg_loss': nan, 'val_total': 113}}\n",
      "2022-12-22 19:24:22,186 (monitor:936)INFO: Current best: {'test_loss': 229.135253, 'test_avg_loss': 2.027746, 'test_total': 113, 'val_loss': 171.217324, 'val_avg_loss': 1.515198, 'val_total': 113}\n",
      "2022-12-22 19:24:22,339 (client:260)INFO: {'Role': 'Client #1', 'Round': 141, 'Results_raw': {'train_loss': nan, 'train_avg_loss': nan, 'train_total': 901}}\n",
      "2022-12-22 19:24:22,341 (server:496)INFO: {'Role': 'Server #', 'Round': 141, 'Results_avg': {'test_loss': nan, 'test_avg_loss': nan, 'test_total': 113.0, 'val_loss': nan, 'val_avg_loss': nan, 'val_total': 113.0}}\n",
      "2022-12-22 19:24:22,341 (monitor:936)INFO: Current best: {'test_loss': 229.135253, 'test_avg_loss': 2.027746, 'test_total': 113.0, 'val_loss': 171.217324, 'val_avg_loss': 1.515198, 'val_total': 113.0}\n",
      "2022-12-22 19:24:22,343 (monitor:936)INFO: Current best: {'test_loss': 229.135253, 'test_avg_loss': 2.027746, 'test_total': 113.0, 'val_loss': 171.217324, 'val_avg_loss': 1.515198, 'val_total': 113.0}\n",
      "2022-12-22 19:24:22,346 (server:323)INFO: Server #0: Starting evaluation at the end of round 141.\n",
      "2022-12-22 19:24:22,346 (server:330)INFO: ----------- Starting a new training round (Round #142) -------------\n",
      "2022-12-22 19:24:22,380 (client:415)INFO: {'Role': 'Client #1', 'Round': 142, 'Results_raw': {'test_loss': nan, 'test_avg_loss': nan, 'test_total': 113, 'val_loss': nan, 'val_avg_loss': nan, 'val_total': 113}}\n",
      "2022-12-22 19:24:22,381 (monitor:936)INFO: Current best: {'test_loss': 229.135253, 'test_avg_loss': 2.027746, 'test_total': 113, 'val_loss': 171.217324, 'val_avg_loss': 1.515198, 'val_total': 113}\n",
      "2022-12-22 19:24:22,515 (client:260)INFO: {'Role': 'Client #1', 'Round': 142, 'Results_raw': {'train_loss': nan, 'train_avg_loss': nan, 'train_total': 901}}\n",
      "2022-12-22 19:24:22,517 (server:496)INFO: {'Role': 'Server #', 'Round': 142, 'Results_avg': {'test_loss': nan, 'test_avg_loss': nan, 'test_total': 113.0, 'val_loss': nan, 'val_avg_loss': nan, 'val_total': 113.0}}\n",
      "2022-12-22 19:24:22,519 (monitor:936)INFO: Current best: {'test_loss': 229.135253, 'test_avg_loss': 2.027746, 'test_total': 113.0, 'val_loss': 171.217324, 'val_avg_loss': 1.515198, 'val_total': 113.0}\n",
      "2022-12-22 19:24:22,520 (monitor:936)INFO: Current best: {'test_loss': 229.135253, 'test_avg_loss': 2.027746, 'test_total': 113.0, 'val_loss': 171.217324, 'val_avg_loss': 1.515198, 'val_total': 113.0}\n",
      "2022-12-22 19:24:22,522 (server:323)INFO: Server #0: Starting evaluation at the end of round 142.\n",
      "2022-12-22 19:24:22,523 (server:330)INFO: ----------- Starting a new training round (Round #143) -------------\n",
      "2022-12-22 19:24:22,554 (client:415)INFO: {'Role': 'Client #1', 'Round': 143, 'Results_raw': {'test_loss': nan, 'test_avg_loss': nan, 'test_total': 113, 'val_loss': nan, 'val_avg_loss': nan, 'val_total': 113}}\n",
      "2022-12-22 19:24:22,555 (monitor:936)INFO: Current best: {'test_loss': 229.135253, 'test_avg_loss': 2.027746, 'test_total': 113, 'val_loss': 171.217324, 'val_avg_loss': 1.515198, 'val_total': 113}\n",
      "2022-12-22 19:24:22,672 (client:260)INFO: {'Role': 'Client #1', 'Round': 143, 'Results_raw': {'train_loss': nan, 'train_avg_loss': nan, 'train_total': 901}}\n",
      "2022-12-22 19:24:22,674 (server:496)INFO: {'Role': 'Server #', 'Round': 143, 'Results_avg': {'test_loss': nan, 'test_avg_loss': nan, 'test_total': 113.0, 'val_loss': nan, 'val_avg_loss': nan, 'val_total': 113.0}}\n",
      "2022-12-22 19:24:22,675 (monitor:936)INFO: Current best: {'test_loss': 229.135253, 'test_avg_loss': 2.027746, 'test_total': 113.0, 'val_loss': 171.217324, 'val_avg_loss': 1.515198, 'val_total': 113.0}\n",
      "2022-12-22 19:24:22,677 (monitor:936)INFO: Current best: {'test_loss': 229.135253, 'test_avg_loss': 2.027746, 'test_total': 113.0, 'val_loss': 171.217324, 'val_avg_loss': 1.515198, 'val_total': 113.0}\n",
      "2022-12-22 19:24:22,679 (server:323)INFO: Server #0: Starting evaluation at the end of round 143.\n",
      "2022-12-22 19:24:22,680 (server:330)INFO: ----------- Starting a new training round (Round #144) -------------\n",
      "2022-12-22 19:24:22,709 (client:415)INFO: {'Role': 'Client #1', 'Round': 144, 'Results_raw': {'test_loss': nan, 'test_avg_loss': nan, 'test_total': 113, 'val_loss': nan, 'val_avg_loss': nan, 'val_total': 113}}\n",
      "2022-12-22 19:24:22,710 (monitor:936)INFO: Current best: {'test_loss': 229.135253, 'test_avg_loss': 2.027746, 'test_total': 113, 'val_loss': 171.217324, 'val_avg_loss': 1.515198, 'val_total': 113}\n",
      "2022-12-22 19:24:22,846 (client:260)INFO: {'Role': 'Client #1', 'Round': 144, 'Results_raw': {'train_loss': nan, 'train_avg_loss': nan, 'train_total': 901}}\n",
      "2022-12-22 19:24:22,848 (server:496)INFO: {'Role': 'Server #', 'Round': 144, 'Results_avg': {'test_loss': nan, 'test_avg_loss': nan, 'test_total': 113.0, 'val_loss': nan, 'val_avg_loss': nan, 'val_total': 113.0}}\n",
      "2022-12-22 19:24:22,848 (monitor:936)INFO: Current best: {'test_loss': 229.135253, 'test_avg_loss': 2.027746, 'test_total': 113.0, 'val_loss': 171.217324, 'val_avg_loss': 1.515198, 'val_total': 113.0}\n",
      "2022-12-22 19:24:22,849 (monitor:936)INFO: Current best: {'test_loss': 229.135253, 'test_avg_loss': 2.027746, 'test_total': 113.0, 'val_loss': 171.217324, 'val_avg_loss': 1.515198, 'val_total': 113.0}\n",
      "2022-12-22 19:24:22,851 (server:323)INFO: Server #0: Starting evaluation at the end of round 144.\n",
      "2022-12-22 19:24:22,852 (server:330)INFO: ----------- Starting a new training round (Round #145) -------------\n",
      "2022-12-22 19:24:22,887 (client:415)INFO: {'Role': 'Client #1', 'Round': 145, 'Results_raw': {'test_loss': nan, 'test_avg_loss': nan, 'test_total': 113, 'val_loss': nan, 'val_avg_loss': nan, 'val_total': 113}}\n",
      "2022-12-22 19:24:22,887 (monitor:936)INFO: Current best: {'test_loss': 229.135253, 'test_avg_loss': 2.027746, 'test_total': 113, 'val_loss': 171.217324, 'val_avg_loss': 1.515198, 'val_total': 113}\n",
      "2022-12-22 19:24:23,024 (client:260)INFO: {'Role': 'Client #1', 'Round': 145, 'Results_raw': {'train_loss': nan, 'train_avg_loss': nan, 'train_total': 901}}\n",
      "2022-12-22 19:24:23,026 (server:496)INFO: {'Role': 'Server #', 'Round': 145, 'Results_avg': {'test_loss': nan, 'test_avg_loss': nan, 'test_total': 113.0, 'val_loss': nan, 'val_avg_loss': nan, 'val_total': 113.0}}\n",
      "2022-12-22 19:24:23,028 (monitor:936)INFO: Current best: {'test_loss': 229.135253, 'test_avg_loss': 2.027746, 'test_total': 113.0, 'val_loss': 171.217324, 'val_avg_loss': 1.515198, 'val_total': 113.0}\n",
      "2022-12-22 19:24:23,030 (monitor:936)INFO: Current best: {'test_loss': 229.135253, 'test_avg_loss': 2.027746, 'test_total': 113.0, 'val_loss': 171.217324, 'val_avg_loss': 1.515198, 'val_total': 113.0}\n",
      "2022-12-22 19:24:23,032 (server:323)INFO: Server #0: Starting evaluation at the end of round 145.\n",
      "2022-12-22 19:24:23,033 (server:330)INFO: ----------- Starting a new training round (Round #146) -------------\n",
      "2022-12-22 19:24:23,070 (client:415)INFO: {'Role': 'Client #1', 'Round': 146, 'Results_raw': {'test_loss': nan, 'test_avg_loss': nan, 'test_total': 113, 'val_loss': nan, 'val_avg_loss': nan, 'val_total': 113}}\n",
      "2022-12-22 19:24:23,071 (monitor:936)INFO: Current best: {'test_loss': 229.135253, 'test_avg_loss': 2.027746, 'test_total': 113, 'val_loss': 171.217324, 'val_avg_loss': 1.515198, 'val_total': 113}\n",
      "2022-12-22 19:24:23,195 (client:260)INFO: {'Role': 'Client #1', 'Round': 146, 'Results_raw': {'train_loss': nan, 'train_avg_loss': nan, 'train_total': 901}}\n",
      "2022-12-22 19:24:23,196 (server:496)INFO: {'Role': 'Server #', 'Round': 146, 'Results_avg': {'test_loss': nan, 'test_avg_loss': nan, 'test_total': 113.0, 'val_loss': nan, 'val_avg_loss': nan, 'val_total': 113.0}}\n",
      "2022-12-22 19:24:23,197 (monitor:936)INFO: Current best: {'test_loss': 229.135253, 'test_avg_loss': 2.027746, 'test_total': 113.0, 'val_loss': 171.217324, 'val_avg_loss': 1.515198, 'val_total': 113.0}\n",
      "2022-12-22 19:24:23,198 (monitor:936)INFO: Current best: {'test_loss': 229.135253, 'test_avg_loss': 2.027746, 'test_total': 113.0, 'val_loss': 171.217324, 'val_avg_loss': 1.515198, 'val_total': 113.0}\n",
      "2022-12-22 19:24:23,200 (server:323)INFO: Server #0: Starting evaluation at the end of round 146.\n",
      "2022-12-22 19:24:23,201 (server:330)INFO: ----------- Starting a new training round (Round #147) -------------\n",
      "2022-12-22 19:24:23,233 (client:415)INFO: {'Role': 'Client #1', 'Round': 147, 'Results_raw': {'test_loss': nan, 'test_avg_loss': nan, 'test_total': 113, 'val_loss': nan, 'val_avg_loss': nan, 'val_total': 113}}\n",
      "2022-12-22 19:24:23,234 (monitor:936)INFO: Current best: {'test_loss': 229.135253, 'test_avg_loss': 2.027746, 'test_total': 113, 'val_loss': 171.217324, 'val_avg_loss': 1.515198, 'val_total': 113}\n",
      "2022-12-22 19:24:23,369 (client:260)INFO: {'Role': 'Client #1', 'Round': 147, 'Results_raw': {'train_loss': nan, 'train_avg_loss': nan, 'train_total': 901}}\n",
      "2022-12-22 19:24:23,370 (server:496)INFO: {'Role': 'Server #', 'Round': 147, 'Results_avg': {'test_loss': nan, 'test_avg_loss': nan, 'test_total': 113.0, 'val_loss': nan, 'val_avg_loss': nan, 'val_total': 113.0}}\n",
      "2022-12-22 19:24:23,371 (monitor:936)INFO: Current best: {'test_loss': 229.135253, 'test_avg_loss': 2.027746, 'test_total': 113.0, 'val_loss': 171.217324, 'val_avg_loss': 1.515198, 'val_total': 113.0}\n",
      "2022-12-22 19:24:23,373 (monitor:936)INFO: Current best: {'test_loss': 229.135253, 'test_avg_loss': 2.027746, 'test_total': 113.0, 'val_loss': 171.217324, 'val_avg_loss': 1.515198, 'val_total': 113.0}\n",
      "2022-12-22 19:24:23,375 (server:323)INFO: Server #0: Starting evaluation at the end of round 147.\n",
      "2022-12-22 19:24:23,376 (server:330)INFO: ----------- Starting a new training round (Round #148) -------------\n",
      "2022-12-22 19:24:23,408 (client:415)INFO: {'Role': 'Client #1', 'Round': 148, 'Results_raw': {'test_loss': nan, 'test_avg_loss': nan, 'test_total': 113, 'val_loss': nan, 'val_avg_loss': nan, 'val_total': 113}}\n",
      "2022-12-22 19:24:23,409 (monitor:936)INFO: Current best: {'test_loss': 229.135253, 'test_avg_loss': 2.027746, 'test_total': 113, 'val_loss': 171.217324, 'val_avg_loss': 1.515198, 'val_total': 113}\n",
      "2022-12-22 19:24:23,538 (client:260)INFO: {'Role': 'Client #1', 'Round': 148, 'Results_raw': {'train_loss': nan, 'train_avg_loss': nan, 'train_total': 901}}\n",
      "2022-12-22 19:24:23,540 (server:496)INFO: {'Role': 'Server #', 'Round': 148, 'Results_avg': {'test_loss': nan, 'test_avg_loss': nan, 'test_total': 113.0, 'val_loss': nan, 'val_avg_loss': nan, 'val_total': 113.0}}\n",
      "2022-12-22 19:24:23,541 (monitor:936)INFO: Current best: {'test_loss': 229.135253, 'test_avg_loss': 2.027746, 'test_total': 113.0, 'val_loss': 171.217324, 'val_avg_loss': 1.515198, 'val_total': 113.0}\n",
      "2022-12-22 19:24:23,542 (monitor:936)INFO: Current best: {'test_loss': 229.135253, 'test_avg_loss': 2.027746, 'test_total': 113.0, 'val_loss': 171.217324, 'val_avg_loss': 1.515198, 'val_total': 113.0}\n",
      "2022-12-22 19:24:23,544 (server:323)INFO: Server #0: Starting evaluation at the end of round 148.\n",
      "2022-12-22 19:24:23,545 (server:330)INFO: ----------- Starting a new training round (Round #149) -------------\n",
      "2022-12-22 19:24:23,587 (client:415)INFO: {'Role': 'Client #1', 'Round': 149, 'Results_raw': {'test_loss': nan, 'test_avg_loss': nan, 'test_total': 113, 'val_loss': nan, 'val_avg_loss': nan, 'val_total': 113}}\n",
      "2022-12-22 19:24:23,587 (monitor:936)INFO: Current best: {'test_loss': 229.135253, 'test_avg_loss': 2.027746, 'test_total': 113, 'val_loss': 171.217324, 'val_avg_loss': 1.515198, 'val_total': 113}\n",
      "2022-12-22 19:24:23,723 (client:260)INFO: {'Role': 'Client #1', 'Round': 149, 'Results_raw': {'train_loss': nan, 'train_avg_loss': nan, 'train_total': 901}}\n",
      "2022-12-22 19:24:23,725 (server:496)INFO: {'Role': 'Server #', 'Round': 149, 'Results_avg': {'test_loss': nan, 'test_avg_loss': nan, 'test_total': 113.0, 'val_loss': nan, 'val_avg_loss': nan, 'val_total': 113.0}}\n",
      "2022-12-22 19:24:23,726 (monitor:936)INFO: Current best: {'test_loss': 229.135253, 'test_avg_loss': 2.027746, 'test_total': 113.0, 'val_loss': 171.217324, 'val_avg_loss': 1.515198, 'val_total': 113.0}\n",
      "2022-12-22 19:24:23,728 (monitor:936)INFO: Current best: {'test_loss': 229.135253, 'test_avg_loss': 2.027746, 'test_total': 113.0, 'val_loss': 171.217324, 'val_avg_loss': 1.515198, 'val_total': 113.0}\n",
      "2022-12-22 19:24:23,730 (server:323)INFO: Server #0: Starting evaluation at the end of round 149.\n",
      "2022-12-22 19:24:23,731 (server:330)INFO: ----------- Starting a new training round (Round #150) -------------\n",
      "2022-12-22 19:24:23,769 (client:415)INFO: {'Role': 'Client #1', 'Round': 150, 'Results_raw': {'test_loss': nan, 'test_avg_loss': nan, 'test_total': 113, 'val_loss': nan, 'val_avg_loss': nan, 'val_total': 113}}\n",
      "2022-12-22 19:24:23,770 (monitor:936)INFO: Current best: {'test_loss': 229.135253, 'test_avg_loss': 2.027746, 'test_total': 113, 'val_loss': 171.217324, 'val_avg_loss': 1.515198, 'val_total': 113}\n",
      "2022-12-22 19:24:23,906 (client:260)INFO: {'Role': 'Client #1', 'Round': 150, 'Results_raw': {'train_loss': nan, 'train_avg_loss': nan, 'train_total': 901}}\n",
      "2022-12-22 19:24:23,908 (server:496)INFO: {'Role': 'Server #', 'Round': 150, 'Results_avg': {'test_loss': nan, 'test_avg_loss': nan, 'test_total': 113.0, 'val_loss': nan, 'val_avg_loss': nan, 'val_total': 113.0}}\n",
      "2022-12-22 19:24:23,909 (monitor:936)INFO: Current best: {'test_loss': 229.135253, 'test_avg_loss': 2.027746, 'test_total': 113.0, 'val_loss': 171.217324, 'val_avg_loss': 1.515198, 'val_total': 113.0}\n",
      "2022-12-22 19:24:23,910 (monitor:936)INFO: Current best: {'test_loss': 229.135253, 'test_avg_loss': 2.027746, 'test_total': 113.0, 'val_loss': 171.217324, 'val_avg_loss': 1.515198, 'val_total': 113.0}\n",
      "2022-12-22 19:24:23,912 (server:323)INFO: Server #0: Starting evaluation at the end of round 150.\n",
      "2022-12-22 19:24:23,913 (server:330)INFO: ----------- Starting a new training round (Round #151) -------------\n",
      "2022-12-22 19:24:23,945 (client:415)INFO: {'Role': 'Client #1', 'Round': 151, 'Results_raw': {'test_loss': nan, 'test_avg_loss': nan, 'test_total': 113, 'val_loss': nan, 'val_avg_loss': nan, 'val_total': 113}}\n",
      "2022-12-22 19:24:23,946 (monitor:936)INFO: Current best: {'test_loss': 229.135253, 'test_avg_loss': 2.027746, 'test_total': 113, 'val_loss': 171.217324, 'val_avg_loss': 1.515198, 'val_total': 113}\n",
      "2022-12-22 19:24:24,089 (client:260)INFO: {'Role': 'Client #1', 'Round': 151, 'Results_raw': {'train_loss': nan, 'train_avg_loss': nan, 'train_total': 901}}\n",
      "2022-12-22 19:24:24,092 (server:496)INFO: {'Role': 'Server #', 'Round': 151, 'Results_avg': {'test_loss': nan, 'test_avg_loss': nan, 'test_total': 113.0, 'val_loss': nan, 'val_avg_loss': nan, 'val_total': 113.0}}\n",
      "2022-12-22 19:24:24,093 (monitor:936)INFO: Current best: {'test_loss': 229.135253, 'test_avg_loss': 2.027746, 'test_total': 113.0, 'val_loss': 171.217324, 'val_avg_loss': 1.515198, 'val_total': 113.0}\n",
      "2022-12-22 19:24:24,095 (monitor:936)INFO: Current best: {'test_loss': 229.135253, 'test_avg_loss': 2.027746, 'test_total': 113.0, 'val_loss': 171.217324, 'val_avg_loss': 1.515198, 'val_total': 113.0}\n",
      "2022-12-22 19:24:24,098 (server:323)INFO: Server #0: Starting evaluation at the end of round 151.\n",
      "2022-12-22 19:24:24,100 (server:330)INFO: ----------- Starting a new training round (Round #152) -------------\n",
      "2022-12-22 19:24:24,133 (client:415)INFO: {'Role': 'Client #1', 'Round': 152, 'Results_raw': {'test_loss': nan, 'test_avg_loss': nan, 'test_total': 113, 'val_loss': nan, 'val_avg_loss': nan, 'val_total': 113}}\n",
      "2022-12-22 19:24:24,134 (monitor:936)INFO: Current best: {'test_loss': 229.135253, 'test_avg_loss': 2.027746, 'test_total': 113, 'val_loss': 171.217324, 'val_avg_loss': 1.515198, 'val_total': 113}\n",
      "2022-12-22 19:24:24,286 (client:260)INFO: {'Role': 'Client #1', 'Round': 152, 'Results_raw': {'train_loss': nan, 'train_avg_loss': nan, 'train_total': 901}}\n",
      "2022-12-22 19:24:24,287 (server:496)INFO: {'Role': 'Server #', 'Round': 152, 'Results_avg': {'test_loss': nan, 'test_avg_loss': nan, 'test_total': 113.0, 'val_loss': nan, 'val_avg_loss': nan, 'val_total': 113.0}}\n",
      "2022-12-22 19:24:24,288 (monitor:936)INFO: Current best: {'test_loss': 229.135253, 'test_avg_loss': 2.027746, 'test_total': 113.0, 'val_loss': 171.217324, 'val_avg_loss': 1.515198, 'val_total': 113.0}\n",
      "2022-12-22 19:24:24,289 (monitor:936)INFO: Current best: {'test_loss': 229.135253, 'test_avg_loss': 2.027746, 'test_total': 113.0, 'val_loss': 171.217324, 'val_avg_loss': 1.515198, 'val_total': 113.0}\n",
      "2022-12-22 19:24:24,291 (server:323)INFO: Server #0: Starting evaluation at the end of round 152.\n",
      "2022-12-22 19:24:24,292 (server:330)INFO: ----------- Starting a new training round (Round #153) -------------\n",
      "2022-12-22 19:24:24,324 (client:415)INFO: {'Role': 'Client #1', 'Round': 153, 'Results_raw': {'test_loss': nan, 'test_avg_loss': nan, 'test_total': 113, 'val_loss': nan, 'val_avg_loss': nan, 'val_total': 113}}\n",
      "2022-12-22 19:24:24,324 (monitor:936)INFO: Current best: {'test_loss': 229.135253, 'test_avg_loss': 2.027746, 'test_total': 113, 'val_loss': 171.217324, 'val_avg_loss': 1.515198, 'val_total': 113}\n",
      "2022-12-22 19:24:24,475 (client:260)INFO: {'Role': 'Client #1', 'Round': 153, 'Results_raw': {'train_loss': nan, 'train_avg_loss': nan, 'train_total': 901}}\n",
      "2022-12-22 19:24:24,476 (server:496)INFO: {'Role': 'Server #', 'Round': 153, 'Results_avg': {'test_loss': nan, 'test_avg_loss': nan, 'test_total': 113.0, 'val_loss': nan, 'val_avg_loss': nan, 'val_total': 113.0}}\n",
      "2022-12-22 19:24:24,477 (monitor:936)INFO: Current best: {'test_loss': 229.135253, 'test_avg_loss': 2.027746, 'test_total': 113.0, 'val_loss': 171.217324, 'val_avg_loss': 1.515198, 'val_total': 113.0}\n",
      "2022-12-22 19:24:24,479 (monitor:936)INFO: Current best: {'test_loss': 229.135253, 'test_avg_loss': 2.027746, 'test_total': 113.0, 'val_loss': 171.217324, 'val_avg_loss': 1.515198, 'val_total': 113.0}\n",
      "2022-12-22 19:24:24,481 (server:323)INFO: Server #0: Starting evaluation at the end of round 153.\n",
      "2022-12-22 19:24:24,482 (server:330)INFO: ----------- Starting a new training round (Round #154) -------------\n",
      "2022-12-22 19:24:24,518 (client:415)INFO: {'Role': 'Client #1', 'Round': 154, 'Results_raw': {'test_loss': nan, 'test_avg_loss': nan, 'test_total': 113, 'val_loss': nan, 'val_avg_loss': nan, 'val_total': 113}}\n",
      "2022-12-22 19:24:24,519 (monitor:936)INFO: Current best: {'test_loss': 229.135253, 'test_avg_loss': 2.027746, 'test_total': 113, 'val_loss': 171.217324, 'val_avg_loss': 1.515198, 'val_total': 113}\n",
      "2022-12-22 19:24:24,675 (client:260)INFO: {'Role': 'Client #1', 'Round': 154, 'Results_raw': {'train_loss': nan, 'train_avg_loss': nan, 'train_total': 901}}\n",
      "2022-12-22 19:24:24,678 (server:496)INFO: {'Role': 'Server #', 'Round': 154, 'Results_avg': {'test_loss': nan, 'test_avg_loss': nan, 'test_total': 113.0, 'val_loss': nan, 'val_avg_loss': nan, 'val_total': 113.0}}\n",
      "2022-12-22 19:24:24,681 (monitor:936)INFO: Current best: {'test_loss': 229.135253, 'test_avg_loss': 2.027746, 'test_total': 113.0, 'val_loss': 171.217324, 'val_avg_loss': 1.515198, 'val_total': 113.0}\n",
      "2022-12-22 19:24:24,684 (monitor:936)INFO: Current best: {'test_loss': 229.135253, 'test_avg_loss': 2.027746, 'test_total': 113.0, 'val_loss': 171.217324, 'val_avg_loss': 1.515198, 'val_total': 113.0}\n",
      "2022-12-22 19:24:24,686 (server:323)INFO: Server #0: Starting evaluation at the end of round 154.\n",
      "2022-12-22 19:24:24,686 (server:330)INFO: ----------- Starting a new training round (Round #155) -------------\n",
      "2022-12-22 19:24:24,723 (client:415)INFO: {'Role': 'Client #1', 'Round': 155, 'Results_raw': {'test_loss': nan, 'test_avg_loss': nan, 'test_total': 113, 'val_loss': nan, 'val_avg_loss': nan, 'val_total': 113}}\n",
      "2022-12-22 19:24:24,724 (monitor:936)INFO: Current best: {'test_loss': 229.135253, 'test_avg_loss': 2.027746, 'test_total': 113, 'val_loss': 171.217324, 'val_avg_loss': 1.515198, 'val_total': 113}\n",
      "2022-12-22 19:24:24,875 (client:260)INFO: {'Role': 'Client #1', 'Round': 155, 'Results_raw': {'train_loss': nan, 'train_avg_loss': nan, 'train_total': 901}}\n",
      "2022-12-22 19:24:24,877 (server:496)INFO: {'Role': 'Server #', 'Round': 155, 'Results_avg': {'test_loss': nan, 'test_avg_loss': nan, 'test_total': 113.0, 'val_loss': nan, 'val_avg_loss': nan, 'val_total': 113.0}}\n",
      "2022-12-22 19:24:24,878 (monitor:936)INFO: Current best: {'test_loss': 229.135253, 'test_avg_loss': 2.027746, 'test_total': 113.0, 'val_loss': 171.217324, 'val_avg_loss': 1.515198, 'val_total': 113.0}\n",
      "2022-12-22 19:24:24,879 (monitor:936)INFO: Current best: {'test_loss': 229.135253, 'test_avg_loss': 2.027746, 'test_total': 113.0, 'val_loss': 171.217324, 'val_avg_loss': 1.515198, 'val_total': 113.0}\n",
      "2022-12-22 19:24:24,881 (server:323)INFO: Server #0: Starting evaluation at the end of round 155.\n",
      "2022-12-22 19:24:24,882 (server:330)INFO: ----------- Starting a new training round (Round #156) -------------\n",
      "2022-12-22 19:24:24,915 (client:415)INFO: {'Role': 'Client #1', 'Round': 156, 'Results_raw': {'test_loss': nan, 'test_avg_loss': nan, 'test_total': 113, 'val_loss': nan, 'val_avg_loss': nan, 'val_total': 113}}\n",
      "2022-12-22 19:24:24,916 (monitor:936)INFO: Current best: {'test_loss': 229.135253, 'test_avg_loss': 2.027746, 'test_total': 113, 'val_loss': 171.217324, 'val_avg_loss': 1.515198, 'val_total': 113}\n",
      "2022-12-22 19:24:25,058 (client:260)INFO: {'Role': 'Client #1', 'Round': 156, 'Results_raw': {'train_loss': nan, 'train_avg_loss': nan, 'train_total': 901}}\n",
      "2022-12-22 19:24:25,059 (server:496)INFO: {'Role': 'Server #', 'Round': 156, 'Results_avg': {'test_loss': nan, 'test_avg_loss': nan, 'test_total': 113.0, 'val_loss': nan, 'val_avg_loss': nan, 'val_total': 113.0}}\n",
      "2022-12-22 19:24:25,060 (monitor:936)INFO: Current best: {'test_loss': 229.135253, 'test_avg_loss': 2.027746, 'test_total': 113.0, 'val_loss': 171.217324, 'val_avg_loss': 1.515198, 'val_total': 113.0}\n",
      "2022-12-22 19:24:25,061 (monitor:936)INFO: Current best: {'test_loss': 229.135253, 'test_avg_loss': 2.027746, 'test_total': 113.0, 'val_loss': 171.217324, 'val_avg_loss': 1.515198, 'val_total': 113.0}\n",
      "2022-12-22 19:24:25,064 (server:323)INFO: Server #0: Starting evaluation at the end of round 156.\n",
      "2022-12-22 19:24:25,065 (server:330)INFO: ----------- Starting a new training round (Round #157) -------------\n",
      "2022-12-22 19:24:25,099 (client:415)INFO: {'Role': 'Client #1', 'Round': 157, 'Results_raw': {'test_loss': nan, 'test_avg_loss': nan, 'test_total': 113, 'val_loss': nan, 'val_avg_loss': nan, 'val_total': 113}}\n",
      "2022-12-22 19:24:25,100 (monitor:936)INFO: Current best: {'test_loss': 229.135253, 'test_avg_loss': 2.027746, 'test_total': 113, 'val_loss': 171.217324, 'val_avg_loss': 1.515198, 'val_total': 113}\n",
      "2022-12-22 19:24:25,245 (client:260)INFO: {'Role': 'Client #1', 'Round': 157, 'Results_raw': {'train_loss': nan, 'train_avg_loss': nan, 'train_total': 901}}\n",
      "2022-12-22 19:24:25,247 (server:496)INFO: {'Role': 'Server #', 'Round': 157, 'Results_avg': {'test_loss': nan, 'test_avg_loss': nan, 'test_total': 113.0, 'val_loss': nan, 'val_avg_loss': nan, 'val_total': 113.0}}\n",
      "2022-12-22 19:24:25,248 (monitor:936)INFO: Current best: {'test_loss': 229.135253, 'test_avg_loss': 2.027746, 'test_total': 113.0, 'val_loss': 171.217324, 'val_avg_loss': 1.515198, 'val_total': 113.0}\n",
      "2022-12-22 19:24:25,249 (monitor:936)INFO: Current best: {'test_loss': 229.135253, 'test_avg_loss': 2.027746, 'test_total': 113.0, 'val_loss': 171.217324, 'val_avg_loss': 1.515198, 'val_total': 113.0}\n",
      "2022-12-22 19:24:25,251 (server:323)INFO: Server #0: Starting evaluation at the end of round 157.\n",
      "2022-12-22 19:24:25,251 (server:330)INFO: ----------- Starting a new training round (Round #158) -------------\n",
      "2022-12-22 19:24:25,295 (client:415)INFO: {'Role': 'Client #1', 'Round': 158, 'Results_raw': {'test_loss': nan, 'test_avg_loss': nan, 'test_total': 113, 'val_loss': nan, 'val_avg_loss': nan, 'val_total': 113}}\n",
      "2022-12-22 19:24:25,296 (monitor:936)INFO: Current best: {'test_loss': 229.135253, 'test_avg_loss': 2.027746, 'test_total': 113, 'val_loss': 171.217324, 'val_avg_loss': 1.515198, 'val_total': 113}\n",
      "2022-12-22 19:24:25,447 (client:260)INFO: {'Role': 'Client #1', 'Round': 158, 'Results_raw': {'train_loss': nan, 'train_avg_loss': nan, 'train_total': 901}}\n",
      "2022-12-22 19:24:25,450 (server:496)INFO: {'Role': 'Server #', 'Round': 158, 'Results_avg': {'test_loss': nan, 'test_avg_loss': nan, 'test_total': 113.0, 'val_loss': nan, 'val_avg_loss': nan, 'val_total': 113.0}}\n",
      "2022-12-22 19:24:25,451 (monitor:936)INFO: Current best: {'test_loss': 229.135253, 'test_avg_loss': 2.027746, 'test_total': 113.0, 'val_loss': 171.217324, 'val_avg_loss': 1.515198, 'val_total': 113.0}\n",
      "2022-12-22 19:24:25,452 (monitor:936)INFO: Current best: {'test_loss': 229.135253, 'test_avg_loss': 2.027746, 'test_total': 113.0, 'val_loss': 171.217324, 'val_avg_loss': 1.515198, 'val_total': 113.0}\n",
      "2022-12-22 19:24:25,454 (server:323)INFO: Server #0: Starting evaluation at the end of round 158.\n",
      "2022-12-22 19:24:25,455 (server:330)INFO: ----------- Starting a new training round (Round #159) -------------\n",
      "2022-12-22 19:24:25,488 (client:415)INFO: {'Role': 'Client #1', 'Round': 159, 'Results_raw': {'test_loss': nan, 'test_avg_loss': nan, 'test_total': 113, 'val_loss': nan, 'val_avg_loss': nan, 'val_total': 113}}\n",
      "2022-12-22 19:24:25,489 (monitor:936)INFO: Current best: {'test_loss': 229.135253, 'test_avg_loss': 2.027746, 'test_total': 113, 'val_loss': 171.217324, 'val_avg_loss': 1.515198, 'val_total': 113}\n",
      "2022-12-22 19:24:25,625 (client:260)INFO: {'Role': 'Client #1', 'Round': 159, 'Results_raw': {'train_loss': nan, 'train_avg_loss': nan, 'train_total': 901}}\n",
      "2022-12-22 19:24:25,627 (server:496)INFO: {'Role': 'Server #', 'Round': 159, 'Results_avg': {'test_loss': nan, 'test_avg_loss': nan, 'test_total': 113.0, 'val_loss': nan, 'val_avg_loss': nan, 'val_total': 113.0}}\n",
      "2022-12-22 19:24:25,628 (monitor:936)INFO: Current best: {'test_loss': 229.135253, 'test_avg_loss': 2.027746, 'test_total': 113.0, 'val_loss': 171.217324, 'val_avg_loss': 1.515198, 'val_total': 113.0}\n",
      "2022-12-22 19:24:25,629 (monitor:936)INFO: Current best: {'test_loss': 229.135253, 'test_avg_loss': 2.027746, 'test_total': 113.0, 'val_loss': 171.217324, 'val_avg_loss': 1.515198, 'val_total': 113.0}\n",
      "2022-12-22 19:24:25,632 (server:323)INFO: Server #0: Starting evaluation at the end of round 159.\n",
      "2022-12-22 19:24:25,634 (server:330)INFO: ----------- Starting a new training round (Round #160) -------------\n",
      "2022-12-22 19:24:25,672 (client:415)INFO: {'Role': 'Client #1', 'Round': 160, 'Results_raw': {'test_loss': nan, 'test_avg_loss': nan, 'test_total': 113, 'val_loss': nan, 'val_avg_loss': nan, 'val_total': 113}}\n",
      "2022-12-22 19:24:25,673 (monitor:936)INFO: Current best: {'test_loss': 229.135253, 'test_avg_loss': 2.027746, 'test_total': 113, 'val_loss': 171.217324, 'val_avg_loss': 1.515198, 'val_total': 113}\n",
      "2022-12-22 19:24:25,817 (client:260)INFO: {'Role': 'Client #1', 'Round': 160, 'Results_raw': {'train_loss': nan, 'train_avg_loss': nan, 'train_total': 901}}\n",
      "2022-12-22 19:24:25,819 (server:496)INFO: {'Role': 'Server #', 'Round': 160, 'Results_avg': {'test_loss': nan, 'test_avg_loss': nan, 'test_total': 113.0, 'val_loss': nan, 'val_avg_loss': nan, 'val_total': 113.0}}\n",
      "2022-12-22 19:24:25,820 (monitor:936)INFO: Current best: {'test_loss': 229.135253, 'test_avg_loss': 2.027746, 'test_total': 113.0, 'val_loss': 171.217324, 'val_avg_loss': 1.515198, 'val_total': 113.0}\n",
      "2022-12-22 19:24:25,822 (monitor:936)INFO: Current best: {'test_loss': 229.135253, 'test_avg_loss': 2.027746, 'test_total': 113.0, 'val_loss': 171.217324, 'val_avg_loss': 1.515198, 'val_total': 113.0}\n",
      "2022-12-22 19:24:25,823 (server:323)INFO: Server #0: Starting evaluation at the end of round 160.\n",
      "2022-12-22 19:24:25,824 (server:330)INFO: ----------- Starting a new training round (Round #161) -------------\n",
      "2022-12-22 19:24:25,859 (client:415)INFO: {'Role': 'Client #1', 'Round': 161, 'Results_raw': {'test_loss': nan, 'test_avg_loss': nan, 'test_total': 113, 'val_loss': nan, 'val_avg_loss': nan, 'val_total': 113}}\n",
      "2022-12-22 19:24:25,860 (monitor:936)INFO: Current best: {'test_loss': 229.135253, 'test_avg_loss': 2.027746, 'test_total': 113, 'val_loss': 171.217324, 'val_avg_loss': 1.515198, 'val_total': 113}\n",
      "2022-12-22 19:24:26,006 (client:260)INFO: {'Role': 'Client #1', 'Round': 161, 'Results_raw': {'train_loss': nan, 'train_avg_loss': nan, 'train_total': 901}}\n",
      "2022-12-22 19:24:26,008 (server:496)INFO: {'Role': 'Server #', 'Round': 161, 'Results_avg': {'test_loss': nan, 'test_avg_loss': nan, 'test_total': 113.0, 'val_loss': nan, 'val_avg_loss': nan, 'val_total': 113.0}}\n",
      "2022-12-22 19:24:26,009 (monitor:936)INFO: Current best: {'test_loss': 229.135253, 'test_avg_loss': 2.027746, 'test_total': 113.0, 'val_loss': 171.217324, 'val_avg_loss': 1.515198, 'val_total': 113.0}\n",
      "2022-12-22 19:24:26,010 (monitor:936)INFO: Current best: {'test_loss': 229.135253, 'test_avg_loss': 2.027746, 'test_total': 113.0, 'val_loss': 171.217324, 'val_avg_loss': 1.515198, 'val_total': 113.0}\n",
      "2022-12-22 19:24:26,013 (server:323)INFO: Server #0: Starting evaluation at the end of round 161.\n",
      "2022-12-22 19:24:26,014 (server:330)INFO: ----------- Starting a new training round (Round #162) -------------\n",
      "2022-12-22 19:24:26,052 (client:415)INFO: {'Role': 'Client #1', 'Round': 162, 'Results_raw': {'test_loss': nan, 'test_avg_loss': nan, 'test_total': 113, 'val_loss': nan, 'val_avg_loss': nan, 'val_total': 113}}\n",
      "2022-12-22 19:24:26,053 (monitor:936)INFO: Current best: {'test_loss': 229.135253, 'test_avg_loss': 2.027746, 'test_total': 113, 'val_loss': 171.217324, 'val_avg_loss': 1.515198, 'val_total': 113}\n",
      "2022-12-22 19:24:26,195 (client:260)INFO: {'Role': 'Client #1', 'Round': 162, 'Results_raw': {'train_loss': nan, 'train_avg_loss': nan, 'train_total': 901}}\n",
      "2022-12-22 19:24:26,196 (server:496)INFO: {'Role': 'Server #', 'Round': 162, 'Results_avg': {'test_loss': nan, 'test_avg_loss': nan, 'test_total': 113.0, 'val_loss': nan, 'val_avg_loss': nan, 'val_total': 113.0}}\n",
      "2022-12-22 19:24:26,198 (monitor:936)INFO: Current best: {'test_loss': 229.135253, 'test_avg_loss': 2.027746, 'test_total': 113.0, 'val_loss': 171.217324, 'val_avg_loss': 1.515198, 'val_total': 113.0}\n",
      "2022-12-22 19:24:26,199 (monitor:936)INFO: Current best: {'test_loss': 229.135253, 'test_avg_loss': 2.027746, 'test_total': 113.0, 'val_loss': 171.217324, 'val_avg_loss': 1.515198, 'val_total': 113.0}\n",
      "2022-12-22 19:24:26,201 (server:323)INFO: Server #0: Starting evaluation at the end of round 162.\n",
      "2022-12-22 19:24:26,201 (server:330)INFO: ----------- Starting a new training round (Round #163) -------------\n",
      "2022-12-22 19:24:26,233 (client:415)INFO: {'Role': 'Client #1', 'Round': 163, 'Results_raw': {'test_loss': nan, 'test_avg_loss': nan, 'test_total': 113, 'val_loss': nan, 'val_avg_loss': nan, 'val_total': 113}}\n",
      "2022-12-22 19:24:26,234 (monitor:936)INFO: Current best: {'test_loss': 229.135253, 'test_avg_loss': 2.027746, 'test_total': 113, 'val_loss': 171.217324, 'val_avg_loss': 1.515198, 'val_total': 113}\n",
      "2022-12-22 19:24:26,370 (client:260)INFO: {'Role': 'Client #1', 'Round': 163, 'Results_raw': {'train_loss': nan, 'train_avg_loss': nan, 'train_total': 901}}\n",
      "2022-12-22 19:24:26,372 (server:496)INFO: {'Role': 'Server #', 'Round': 163, 'Results_avg': {'test_loss': nan, 'test_avg_loss': nan, 'test_total': 113.0, 'val_loss': nan, 'val_avg_loss': nan, 'val_total': 113.0}}\n",
      "2022-12-22 19:24:26,372 (monitor:936)INFO: Current best: {'test_loss': 229.135253, 'test_avg_loss': 2.027746, 'test_total': 113.0, 'val_loss': 171.217324, 'val_avg_loss': 1.515198, 'val_total': 113.0}\n",
      "2022-12-22 19:24:26,373 (monitor:936)INFO: Current best: {'test_loss': 229.135253, 'test_avg_loss': 2.027746, 'test_total': 113.0, 'val_loss': 171.217324, 'val_avg_loss': 1.515198, 'val_total': 113.0}\n",
      "2022-12-22 19:24:26,375 (server:323)INFO: Server #0: Starting evaluation at the end of round 163.\n",
      "2022-12-22 19:24:26,376 (server:330)INFO: ----------- Starting a new training round (Round #164) -------------\n",
      "2022-12-22 19:24:26,409 (client:415)INFO: {'Role': 'Client #1', 'Round': 164, 'Results_raw': {'test_loss': nan, 'test_avg_loss': nan, 'test_total': 113, 'val_loss': nan, 'val_avg_loss': nan, 'val_total': 113}}\n",
      "2022-12-22 19:24:26,410 (monitor:936)INFO: Current best: {'test_loss': 229.135253, 'test_avg_loss': 2.027746, 'test_total': 113, 'val_loss': 171.217324, 'val_avg_loss': 1.515198, 'val_total': 113}\n",
      "2022-12-22 19:24:26,553 (client:260)INFO: {'Role': 'Client #1', 'Round': 164, 'Results_raw': {'train_loss': nan, 'train_avg_loss': nan, 'train_total': 901}}\n",
      "2022-12-22 19:24:26,555 (server:496)INFO: {'Role': 'Server #', 'Round': 164, 'Results_avg': {'test_loss': nan, 'test_avg_loss': nan, 'test_total': 113.0, 'val_loss': nan, 'val_avg_loss': nan, 'val_total': 113.0}}\n",
      "2022-12-22 19:24:26,557 (monitor:936)INFO: Current best: {'test_loss': 229.135253, 'test_avg_loss': 2.027746, 'test_total': 113.0, 'val_loss': 171.217324, 'val_avg_loss': 1.515198, 'val_total': 113.0}\n",
      "2022-12-22 19:24:26,559 (monitor:936)INFO: Current best: {'test_loss': 229.135253, 'test_avg_loss': 2.027746, 'test_total': 113.0, 'val_loss': 171.217324, 'val_avg_loss': 1.515198, 'val_total': 113.0}\n",
      "2022-12-22 19:24:26,561 (server:323)INFO: Server #0: Starting evaluation at the end of round 164.\n",
      "2022-12-22 19:24:26,561 (server:330)INFO: ----------- Starting a new training round (Round #165) -------------\n",
      "2022-12-22 19:24:26,598 (client:415)INFO: {'Role': 'Client #1', 'Round': 165, 'Results_raw': {'test_loss': nan, 'test_avg_loss': nan, 'test_total': 113, 'val_loss': nan, 'val_avg_loss': nan, 'val_total': 113}}\n",
      "2022-12-22 19:24:26,599 (monitor:936)INFO: Current best: {'test_loss': 229.135253, 'test_avg_loss': 2.027746, 'test_total': 113, 'val_loss': 171.217324, 'val_avg_loss': 1.515198, 'val_total': 113}\n",
      "2022-12-22 19:24:26,732 (client:260)INFO: {'Role': 'Client #1', 'Round': 165, 'Results_raw': {'train_loss': nan, 'train_avg_loss': nan, 'train_total': 901}}\n",
      "2022-12-22 19:24:26,734 (server:496)INFO: {'Role': 'Server #', 'Round': 165, 'Results_avg': {'test_loss': nan, 'test_avg_loss': nan, 'test_total': 113.0, 'val_loss': nan, 'val_avg_loss': nan, 'val_total': 113.0}}\n",
      "2022-12-22 19:24:26,735 (monitor:936)INFO: Current best: {'test_loss': 229.135253, 'test_avg_loss': 2.027746, 'test_total': 113.0, 'val_loss': 171.217324, 'val_avg_loss': 1.515198, 'val_total': 113.0}\n",
      "2022-12-22 19:24:26,737 (monitor:936)INFO: Current best: {'test_loss': 229.135253, 'test_avg_loss': 2.027746, 'test_total': 113.0, 'val_loss': 171.217324, 'val_avg_loss': 1.515198, 'val_total': 113.0}\n",
      "2022-12-22 19:24:26,739 (server:323)INFO: Server #0: Starting evaluation at the end of round 165.\n",
      "2022-12-22 19:24:26,740 (server:330)INFO: ----------- Starting a new training round (Round #166) -------------\n",
      "2022-12-22 19:24:26,786 (client:415)INFO: {'Role': 'Client #1', 'Round': 166, 'Results_raw': {'test_loss': nan, 'test_avg_loss': nan, 'test_total': 113, 'val_loss': nan, 'val_avg_loss': nan, 'val_total': 113}}\n",
      "2022-12-22 19:24:26,787 (monitor:936)INFO: Current best: {'test_loss': 229.135253, 'test_avg_loss': 2.027746, 'test_total': 113, 'val_loss': 171.217324, 'val_avg_loss': 1.515198, 'val_total': 113}\n",
      "2022-12-22 19:24:26,928 (client:260)INFO: {'Role': 'Client #1', 'Round': 166, 'Results_raw': {'train_loss': nan, 'train_avg_loss': nan, 'train_total': 901}}\n",
      "2022-12-22 19:24:26,929 (server:496)INFO: {'Role': 'Server #', 'Round': 166, 'Results_avg': {'test_loss': nan, 'test_avg_loss': nan, 'test_total': 113.0, 'val_loss': nan, 'val_avg_loss': nan, 'val_total': 113.0}}\n",
      "2022-12-22 19:24:26,932 (monitor:936)INFO: Current best: {'test_loss': 229.135253, 'test_avg_loss': 2.027746, 'test_total': 113.0, 'val_loss': 171.217324, 'val_avg_loss': 1.515198, 'val_total': 113.0}\n",
      "2022-12-22 19:24:26,935 (monitor:936)INFO: Current best: {'test_loss': 229.135253, 'test_avg_loss': 2.027746, 'test_total': 113.0, 'val_loss': 171.217324, 'val_avg_loss': 1.515198, 'val_total': 113.0}\n",
      "2022-12-22 19:24:26,937 (server:323)INFO: Server #0: Starting evaluation at the end of round 166.\n",
      "2022-12-22 19:24:26,938 (server:330)INFO: ----------- Starting a new training round (Round #167) -------------\n",
      "2022-12-22 19:24:26,970 (client:415)INFO: {'Role': 'Client #1', 'Round': 167, 'Results_raw': {'test_loss': nan, 'test_avg_loss': nan, 'test_total': 113, 'val_loss': nan, 'val_avg_loss': nan, 'val_total': 113}}\n",
      "2022-12-22 19:24:26,971 (monitor:936)INFO: Current best: {'test_loss': 229.135253, 'test_avg_loss': 2.027746, 'test_total': 113, 'val_loss': 171.217324, 'val_avg_loss': 1.515198, 'val_total': 113}\n",
      "2022-12-22 19:24:27,108 (client:260)INFO: {'Role': 'Client #1', 'Round': 167, 'Results_raw': {'train_loss': nan, 'train_avg_loss': nan, 'train_total': 901}}\n",
      "2022-12-22 19:24:27,110 (server:496)INFO: {'Role': 'Server #', 'Round': 167, 'Results_avg': {'test_loss': nan, 'test_avg_loss': nan, 'test_total': 113.0, 'val_loss': nan, 'val_avg_loss': nan, 'val_total': 113.0}}\n",
      "2022-12-22 19:24:27,111 (monitor:936)INFO: Current best: {'test_loss': 229.135253, 'test_avg_loss': 2.027746, 'test_total': 113.0, 'val_loss': 171.217324, 'val_avg_loss': 1.515198, 'val_total': 113.0}\n",
      "2022-12-22 19:24:27,112 (monitor:936)INFO: Current best: {'test_loss': 229.135253, 'test_avg_loss': 2.027746, 'test_total': 113.0, 'val_loss': 171.217324, 'val_avg_loss': 1.515198, 'val_total': 113.0}\n",
      "2022-12-22 19:24:27,113 (server:323)INFO: Server #0: Starting evaluation at the end of round 167.\n",
      "2022-12-22 19:24:27,114 (server:330)INFO: ----------- Starting a new training round (Round #168) -------------\n",
      "2022-12-22 19:24:27,149 (client:415)INFO: {'Role': 'Client #1', 'Round': 168, 'Results_raw': {'test_loss': nan, 'test_avg_loss': nan, 'test_total': 113, 'val_loss': nan, 'val_avg_loss': nan, 'val_total': 113}}\n",
      "2022-12-22 19:24:27,150 (monitor:936)INFO: Current best: {'test_loss': 229.135253, 'test_avg_loss': 2.027746, 'test_total': 113, 'val_loss': 171.217324, 'val_avg_loss': 1.515198, 'val_total': 113}\n",
      "2022-12-22 19:24:27,283 (client:260)INFO: {'Role': 'Client #1', 'Round': 168, 'Results_raw': {'train_loss': nan, 'train_avg_loss': nan, 'train_total': 901}}\n",
      "2022-12-22 19:24:27,285 (server:496)INFO: {'Role': 'Server #', 'Round': 168, 'Results_avg': {'test_loss': nan, 'test_avg_loss': nan, 'test_total': 113.0, 'val_loss': nan, 'val_avg_loss': nan, 'val_total': 113.0}}\n",
      "2022-12-22 19:24:27,286 (monitor:936)INFO: Current best: {'test_loss': 229.135253, 'test_avg_loss': 2.027746, 'test_total': 113.0, 'val_loss': 171.217324, 'val_avg_loss': 1.515198, 'val_total': 113.0}\n",
      "2022-12-22 19:24:27,287 (monitor:936)INFO: Current best: {'test_loss': 229.135253, 'test_avg_loss': 2.027746, 'test_total': 113.0, 'val_loss': 171.217324, 'val_avg_loss': 1.515198, 'val_total': 113.0}\n",
      "2022-12-22 19:24:27,289 (server:323)INFO: Server #0: Starting evaluation at the end of round 168.\n",
      "2022-12-22 19:24:27,290 (server:330)INFO: ----------- Starting a new training round (Round #169) -------------\n",
      "2022-12-22 19:24:27,321 (client:415)INFO: {'Role': 'Client #1', 'Round': 169, 'Results_raw': {'test_loss': nan, 'test_avg_loss': nan, 'test_total': 113, 'val_loss': nan, 'val_avg_loss': nan, 'val_total': 113}}\n",
      "2022-12-22 19:24:27,322 (monitor:936)INFO: Current best: {'test_loss': 229.135253, 'test_avg_loss': 2.027746, 'test_total': 113, 'val_loss': 171.217324, 'val_avg_loss': 1.515198, 'val_total': 113}\n",
      "2022-12-22 19:24:27,461 (client:260)INFO: {'Role': 'Client #1', 'Round': 169, 'Results_raw': {'train_loss': nan, 'train_avg_loss': nan, 'train_total': 901}}\n",
      "2022-12-22 19:24:27,462 (server:496)INFO: {'Role': 'Server #', 'Round': 169, 'Results_avg': {'test_loss': nan, 'test_avg_loss': nan, 'test_total': 113.0, 'val_loss': nan, 'val_avg_loss': nan, 'val_total': 113.0}}\n",
      "2022-12-22 19:24:27,463 (monitor:936)INFO: Current best: {'test_loss': 229.135253, 'test_avg_loss': 2.027746, 'test_total': 113.0, 'val_loss': 171.217324, 'val_avg_loss': 1.515198, 'val_total': 113.0}\n",
      "2022-12-22 19:24:27,464 (monitor:936)INFO: Current best: {'test_loss': 229.135253, 'test_avg_loss': 2.027746, 'test_total': 113.0, 'val_loss': 171.217324, 'val_avg_loss': 1.515198, 'val_total': 113.0}\n",
      "2022-12-22 19:24:27,467 (server:323)INFO: Server #0: Starting evaluation at the end of round 169.\n",
      "2022-12-22 19:24:27,467 (server:330)INFO: ----------- Starting a new training round (Round #170) -------------\n",
      "2022-12-22 19:24:27,498 (client:415)INFO: {'Role': 'Client #1', 'Round': 170, 'Results_raw': {'test_loss': nan, 'test_avg_loss': nan, 'test_total': 113, 'val_loss': nan, 'val_avg_loss': nan, 'val_total': 113}}\n",
      "2022-12-22 19:24:27,499 (monitor:936)INFO: Current best: {'test_loss': 229.135253, 'test_avg_loss': 2.027746, 'test_total': 113, 'val_loss': 171.217324, 'val_avg_loss': 1.515198, 'val_total': 113}\n",
      "2022-12-22 19:24:27,642 (client:260)INFO: {'Role': 'Client #1', 'Round': 170, 'Results_raw': {'train_loss': nan, 'train_avg_loss': nan, 'train_total': 901}}\n",
      "2022-12-22 19:24:27,643 (server:496)INFO: {'Role': 'Server #', 'Round': 170, 'Results_avg': {'test_loss': nan, 'test_avg_loss': nan, 'test_total': 113.0, 'val_loss': nan, 'val_avg_loss': nan, 'val_total': 113.0}}\n",
      "2022-12-22 19:24:27,644 (monitor:936)INFO: Current best: {'test_loss': 229.135253, 'test_avg_loss': 2.027746, 'test_total': 113.0, 'val_loss': 171.217324, 'val_avg_loss': 1.515198, 'val_total': 113.0}\n",
      "2022-12-22 19:24:27,645 (monitor:936)INFO: Current best: {'test_loss': 229.135253, 'test_avg_loss': 2.027746, 'test_total': 113.0, 'val_loss': 171.217324, 'val_avg_loss': 1.515198, 'val_total': 113.0}\n",
      "2022-12-22 19:24:27,647 (server:323)INFO: Server #0: Starting evaluation at the end of round 170.\n",
      "2022-12-22 19:24:27,648 (server:330)INFO: ----------- Starting a new training round (Round #171) -------------\n",
      "2022-12-22 19:24:27,685 (client:415)INFO: {'Role': 'Client #1', 'Round': 171, 'Results_raw': {'test_loss': nan, 'test_avg_loss': nan, 'test_total': 113, 'val_loss': nan, 'val_avg_loss': nan, 'val_total': 113}}\n",
      "2022-12-22 19:24:27,687 (monitor:936)INFO: Current best: {'test_loss': 229.135253, 'test_avg_loss': 2.027746, 'test_total': 113, 'val_loss': 171.217324, 'val_avg_loss': 1.515198, 'val_total': 113}\n",
      "2022-12-22 19:24:27,816 (client:260)INFO: {'Role': 'Client #1', 'Round': 171, 'Results_raw': {'train_loss': nan, 'train_avg_loss': nan, 'train_total': 901}}\n",
      "2022-12-22 19:24:27,818 (server:496)INFO: {'Role': 'Server #', 'Round': 171, 'Results_avg': {'test_loss': nan, 'test_avg_loss': nan, 'test_total': 113.0, 'val_loss': nan, 'val_avg_loss': nan, 'val_total': 113.0}}\n",
      "2022-12-22 19:24:27,819 (monitor:936)INFO: Current best: {'test_loss': 229.135253, 'test_avg_loss': 2.027746, 'test_total': 113.0, 'val_loss': 171.217324, 'val_avg_loss': 1.515198, 'val_total': 113.0}\n",
      "2022-12-22 19:24:27,820 (monitor:936)INFO: Current best: {'test_loss': 229.135253, 'test_avg_loss': 2.027746, 'test_total': 113.0, 'val_loss': 171.217324, 'val_avg_loss': 1.515198, 'val_total': 113.0}\n",
      "2022-12-22 19:24:27,822 (server:323)INFO: Server #0: Starting evaluation at the end of round 171.\n",
      "2022-12-22 19:24:27,823 (server:330)INFO: ----------- Starting a new training round (Round #172) -------------\n",
      "2022-12-22 19:24:27,856 (client:415)INFO: {'Role': 'Client #1', 'Round': 172, 'Results_raw': {'test_loss': nan, 'test_avg_loss': nan, 'test_total': 113, 'val_loss': nan, 'val_avg_loss': nan, 'val_total': 113}}\n",
      "2022-12-22 19:24:27,857 (monitor:936)INFO: Current best: {'test_loss': 229.135253, 'test_avg_loss': 2.027746, 'test_total': 113, 'val_loss': 171.217324, 'val_avg_loss': 1.515198, 'val_total': 113}\n",
      "2022-12-22 19:24:27,985 (client:260)INFO: {'Role': 'Client #1', 'Round': 172, 'Results_raw': {'train_loss': nan, 'train_avg_loss': nan, 'train_total': 901}}\n",
      "2022-12-22 19:24:27,987 (server:496)INFO: {'Role': 'Server #', 'Round': 172, 'Results_avg': {'test_loss': nan, 'test_avg_loss': nan, 'test_total': 113.0, 'val_loss': nan, 'val_avg_loss': nan, 'val_total': 113.0}}\n",
      "2022-12-22 19:24:27,988 (monitor:936)INFO: Current best: {'test_loss': 229.135253, 'test_avg_loss': 2.027746, 'test_total': 113.0, 'val_loss': 171.217324, 'val_avg_loss': 1.515198, 'val_total': 113.0}\n",
      "2022-12-22 19:24:27,991 (monitor:936)INFO: Current best: {'test_loss': 229.135253, 'test_avg_loss': 2.027746, 'test_total': 113.0, 'val_loss': 171.217324, 'val_avg_loss': 1.515198, 'val_total': 113.0}\n",
      "2022-12-22 19:24:27,994 (server:323)INFO: Server #0: Starting evaluation at the end of round 172.\n",
      "2022-12-22 19:24:27,995 (server:330)INFO: ----------- Starting a new training round (Round #173) -------------\n",
      "2022-12-22 19:24:28,032 (client:415)INFO: {'Role': 'Client #1', 'Round': 173, 'Results_raw': {'test_loss': nan, 'test_avg_loss': nan, 'test_total': 113, 'val_loss': nan, 'val_avg_loss': nan, 'val_total': 113}}\n",
      "2022-12-22 19:24:28,033 (monitor:936)INFO: Current best: {'test_loss': 229.135253, 'test_avg_loss': 2.027746, 'test_total': 113, 'val_loss': 171.217324, 'val_avg_loss': 1.515198, 'val_total': 113}\n",
      "2022-12-22 19:24:28,173 (client:260)INFO: {'Role': 'Client #1', 'Round': 173, 'Results_raw': {'train_loss': nan, 'train_avg_loss': nan, 'train_total': 901}}\n",
      "2022-12-22 19:24:28,175 (server:496)INFO: {'Role': 'Server #', 'Round': 173, 'Results_avg': {'test_loss': nan, 'test_avg_loss': nan, 'test_total': 113.0, 'val_loss': nan, 'val_avg_loss': nan, 'val_total': 113.0}}\n",
      "2022-12-22 19:24:28,177 (monitor:936)INFO: Current best: {'test_loss': 229.135253, 'test_avg_loss': 2.027746, 'test_total': 113.0, 'val_loss': 171.217324, 'val_avg_loss': 1.515198, 'val_total': 113.0}\n",
      "2022-12-22 19:24:28,179 (monitor:936)INFO: Current best: {'test_loss': 229.135253, 'test_avg_loss': 2.027746, 'test_total': 113.0, 'val_loss': 171.217324, 'val_avg_loss': 1.515198, 'val_total': 113.0}\n",
      "2022-12-22 19:24:28,182 (server:323)INFO: Server #0: Starting evaluation at the end of round 173.\n",
      "2022-12-22 19:24:28,182 (server:330)INFO: ----------- Starting a new training round (Round #174) -------------\n",
      "2022-12-22 19:24:28,216 (client:415)INFO: {'Role': 'Client #1', 'Round': 174, 'Results_raw': {'test_loss': nan, 'test_avg_loss': nan, 'test_total': 113, 'val_loss': nan, 'val_avg_loss': nan, 'val_total': 113}}\n",
      "2022-12-22 19:24:28,216 (monitor:936)INFO: Current best: {'test_loss': 229.135253, 'test_avg_loss': 2.027746, 'test_total': 113, 'val_loss': 171.217324, 'val_avg_loss': 1.515198, 'val_total': 113}\n",
      "2022-12-22 19:24:28,343 (client:260)INFO: {'Role': 'Client #1', 'Round': 174, 'Results_raw': {'train_loss': nan, 'train_avg_loss': nan, 'train_total': 901}}\n",
      "2022-12-22 19:24:28,344 (server:496)INFO: {'Role': 'Server #', 'Round': 174, 'Results_avg': {'test_loss': nan, 'test_avg_loss': nan, 'test_total': 113.0, 'val_loss': nan, 'val_avg_loss': nan, 'val_total': 113.0}}\n",
      "2022-12-22 19:24:28,345 (monitor:936)INFO: Current best: {'test_loss': 229.135253, 'test_avg_loss': 2.027746, 'test_total': 113.0, 'val_loss': 171.217324, 'val_avg_loss': 1.515198, 'val_total': 113.0}\n",
      "2022-12-22 19:24:28,349 (monitor:936)INFO: Current best: {'test_loss': 229.135253, 'test_avg_loss': 2.027746, 'test_total': 113.0, 'val_loss': 171.217324, 'val_avg_loss': 1.515198, 'val_total': 113.0}\n",
      "2022-12-22 19:24:28,352 (server:323)INFO: Server #0: Starting evaluation at the end of round 174.\n",
      "2022-12-22 19:24:28,353 (server:330)INFO: ----------- Starting a new training round (Round #175) -------------\n",
      "2022-12-22 19:24:28,382 (client:415)INFO: {'Role': 'Client #1', 'Round': 175, 'Results_raw': {'test_loss': nan, 'test_avg_loss': nan, 'test_total': 113, 'val_loss': nan, 'val_avg_loss': nan, 'val_total': 113}}\n",
      "2022-12-22 19:24:28,383 (monitor:936)INFO: Current best: {'test_loss': 229.135253, 'test_avg_loss': 2.027746, 'test_total': 113, 'val_loss': 171.217324, 'val_avg_loss': 1.515198, 'val_total': 113}\n",
      "2022-12-22 19:24:28,529 (client:260)INFO: {'Role': 'Client #1', 'Round': 175, 'Results_raw': {'train_loss': nan, 'train_avg_loss': nan, 'train_total': 901}}\n",
      "2022-12-22 19:24:28,530 (server:496)INFO: {'Role': 'Server #', 'Round': 175, 'Results_avg': {'test_loss': nan, 'test_avg_loss': nan, 'test_total': 113.0, 'val_loss': nan, 'val_avg_loss': nan, 'val_total': 113.0}}\n",
      "2022-12-22 19:24:28,531 (monitor:936)INFO: Current best: {'test_loss': 229.135253, 'test_avg_loss': 2.027746, 'test_total': 113.0, 'val_loss': 171.217324, 'val_avg_loss': 1.515198, 'val_total': 113.0}\n",
      "2022-12-22 19:24:28,535 (monitor:936)INFO: Current best: {'test_loss': 229.135253, 'test_avg_loss': 2.027746, 'test_total': 113.0, 'val_loss': 171.217324, 'val_avg_loss': 1.515198, 'val_total': 113.0}\n",
      "2022-12-22 19:24:28,537 (server:323)INFO: Server #0: Starting evaluation at the end of round 175.\n",
      "2022-12-22 19:24:28,538 (server:330)INFO: ----------- Starting a new training round (Round #176) -------------\n",
      "2022-12-22 19:24:28,568 (client:415)INFO: {'Role': 'Client #1', 'Round': 176, 'Results_raw': {'test_loss': nan, 'test_avg_loss': nan, 'test_total': 113, 'val_loss': nan, 'val_avg_loss': nan, 'val_total': 113}}\n",
      "2022-12-22 19:24:28,569 (monitor:936)INFO: Current best: {'test_loss': 229.135253, 'test_avg_loss': 2.027746, 'test_total': 113, 'val_loss': 171.217324, 'val_avg_loss': 1.515198, 'val_total': 113}\n",
      "2022-12-22 19:24:28,716 (client:260)INFO: {'Role': 'Client #1', 'Round': 176, 'Results_raw': {'train_loss': nan, 'train_avg_loss': nan, 'train_total': 901}}\n",
      "2022-12-22 19:24:28,717 (server:496)INFO: {'Role': 'Server #', 'Round': 176, 'Results_avg': {'test_loss': nan, 'test_avg_loss': nan, 'test_total': 113.0, 'val_loss': nan, 'val_avg_loss': nan, 'val_total': 113.0}}\n",
      "2022-12-22 19:24:28,718 (monitor:936)INFO: Current best: {'test_loss': 229.135253, 'test_avg_loss': 2.027746, 'test_total': 113.0, 'val_loss': 171.217324, 'val_avg_loss': 1.515198, 'val_total': 113.0}\n",
      "2022-12-22 19:24:28,719 (monitor:936)INFO: Current best: {'test_loss': 229.135253, 'test_avg_loss': 2.027746, 'test_total': 113.0, 'val_loss': 171.217324, 'val_avg_loss': 1.515198, 'val_total': 113.0}\n",
      "2022-12-22 19:24:28,721 (server:323)INFO: Server #0: Starting evaluation at the end of round 176.\n",
      "2022-12-22 19:24:28,721 (server:330)INFO: ----------- Starting a new training round (Round #177) -------------\n",
      "2022-12-22 19:24:28,758 (client:415)INFO: {'Role': 'Client #1', 'Round': 177, 'Results_raw': {'test_loss': nan, 'test_avg_loss': nan, 'test_total': 113, 'val_loss': nan, 'val_avg_loss': nan, 'val_total': 113}}\n",
      "2022-12-22 19:24:28,758 (monitor:936)INFO: Current best: {'test_loss': 229.135253, 'test_avg_loss': 2.027746, 'test_total': 113, 'val_loss': 171.217324, 'val_avg_loss': 1.515198, 'val_total': 113}\n",
      "2022-12-22 19:24:28,904 (client:260)INFO: {'Role': 'Client #1', 'Round': 177, 'Results_raw': {'train_loss': nan, 'train_avg_loss': nan, 'train_total': 901}}\n",
      "2022-12-22 19:24:28,906 (server:496)INFO: {'Role': 'Server #', 'Round': 177, 'Results_avg': {'test_loss': nan, 'test_avg_loss': nan, 'test_total': 113.0, 'val_loss': nan, 'val_avg_loss': nan, 'val_total': 113.0}}\n",
      "2022-12-22 19:24:28,906 (monitor:936)INFO: Current best: {'test_loss': 229.135253, 'test_avg_loss': 2.027746, 'test_total': 113.0, 'val_loss': 171.217324, 'val_avg_loss': 1.515198, 'val_total': 113.0}\n",
      "2022-12-22 19:24:28,907 (monitor:936)INFO: Current best: {'test_loss': 229.135253, 'test_avg_loss': 2.027746, 'test_total': 113.0, 'val_loss': 171.217324, 'val_avg_loss': 1.515198, 'val_total': 113.0}\n",
      "2022-12-22 19:24:28,909 (server:323)INFO: Server #0: Starting evaluation at the end of round 177.\n",
      "2022-12-22 19:24:28,910 (server:330)INFO: ----------- Starting a new training round (Round #178) -------------\n",
      "2022-12-22 19:24:28,942 (client:415)INFO: {'Role': 'Client #1', 'Round': 178, 'Results_raw': {'test_loss': nan, 'test_avg_loss': nan, 'test_total': 113, 'val_loss': nan, 'val_avg_loss': nan, 'val_total': 113}}\n",
      "2022-12-22 19:24:28,943 (monitor:936)INFO: Current best: {'test_loss': 229.135253, 'test_avg_loss': 2.027746, 'test_total': 113, 'val_loss': 171.217324, 'val_avg_loss': 1.515198, 'val_total': 113}\n",
      "2022-12-22 19:24:29,082 (client:260)INFO: {'Role': 'Client #1', 'Round': 178, 'Results_raw': {'train_loss': nan, 'train_avg_loss': nan, 'train_total': 901}}\n",
      "2022-12-22 19:24:29,084 (server:496)INFO: {'Role': 'Server #', 'Round': 178, 'Results_avg': {'test_loss': nan, 'test_avg_loss': nan, 'test_total': 113.0, 'val_loss': nan, 'val_avg_loss': nan, 'val_total': 113.0}}\n",
      "2022-12-22 19:24:29,085 (monitor:936)INFO: Current best: {'test_loss': 229.135253, 'test_avg_loss': 2.027746, 'test_total': 113.0, 'val_loss': 171.217324, 'val_avg_loss': 1.515198, 'val_total': 113.0}\n",
      "2022-12-22 19:24:29,088 (monitor:936)INFO: Current best: {'test_loss': 229.135253, 'test_avg_loss': 2.027746, 'test_total': 113.0, 'val_loss': 171.217324, 'val_avg_loss': 1.515198, 'val_total': 113.0}\n",
      "2022-12-22 19:24:29,090 (server:323)INFO: Server #0: Starting evaluation at the end of round 178.\n",
      "2022-12-22 19:24:29,091 (server:330)INFO: ----------- Starting a new training round (Round #179) -------------\n",
      "2022-12-22 19:24:29,123 (client:415)INFO: {'Role': 'Client #1', 'Round': 179, 'Results_raw': {'test_loss': nan, 'test_avg_loss': nan, 'test_total': 113, 'val_loss': nan, 'val_avg_loss': nan, 'val_total': 113}}\n",
      "2022-12-22 19:24:29,124 (monitor:936)INFO: Current best: {'test_loss': 229.135253, 'test_avg_loss': 2.027746, 'test_total': 113, 'val_loss': 171.217324, 'val_avg_loss': 1.515198, 'val_total': 113}\n",
      "2022-12-22 19:24:29,269 (client:260)INFO: {'Role': 'Client #1', 'Round': 179, 'Results_raw': {'train_loss': nan, 'train_avg_loss': nan, 'train_total': 901}}\n",
      "2022-12-22 19:24:29,270 (server:496)INFO: {'Role': 'Server #', 'Round': 179, 'Results_avg': {'test_loss': nan, 'test_avg_loss': nan, 'test_total': 113.0, 'val_loss': nan, 'val_avg_loss': nan, 'val_total': 113.0}}\n",
      "2022-12-22 19:24:29,271 (monitor:936)INFO: Current best: {'test_loss': 229.135253, 'test_avg_loss': 2.027746, 'test_total': 113.0, 'val_loss': 171.217324, 'val_avg_loss': 1.515198, 'val_total': 113.0}\n",
      "2022-12-22 19:24:29,273 (monitor:936)INFO: Current best: {'test_loss': 229.135253, 'test_avg_loss': 2.027746, 'test_total': 113.0, 'val_loss': 171.217324, 'val_avg_loss': 1.515198, 'val_total': 113.0}\n",
      "2022-12-22 19:24:29,276 (server:323)INFO: Server #0: Starting evaluation at the end of round 179.\n",
      "2022-12-22 19:24:29,277 (server:330)INFO: ----------- Starting a new training round (Round #180) -------------\n",
      "2022-12-22 19:24:29,311 (client:415)INFO: {'Role': 'Client #1', 'Round': 180, 'Results_raw': {'test_loss': nan, 'test_avg_loss': nan, 'test_total': 113, 'val_loss': nan, 'val_avg_loss': nan, 'val_total': 113}}\n",
      "2022-12-22 19:24:29,312 (monitor:936)INFO: Current best: {'test_loss': 229.135253, 'test_avg_loss': 2.027746, 'test_total': 113, 'val_loss': 171.217324, 'val_avg_loss': 1.515198, 'val_total': 113}\n",
      "2022-12-22 19:24:29,453 (client:260)INFO: {'Role': 'Client #1', 'Round': 180, 'Results_raw': {'train_loss': nan, 'train_avg_loss': nan, 'train_total': 901}}\n",
      "2022-12-22 19:24:29,455 (server:496)INFO: {'Role': 'Server #', 'Round': 180, 'Results_avg': {'test_loss': nan, 'test_avg_loss': nan, 'test_total': 113.0, 'val_loss': nan, 'val_avg_loss': nan, 'val_total': 113.0}}\n",
      "2022-12-22 19:24:29,456 (monitor:936)INFO: Current best: {'test_loss': 229.135253, 'test_avg_loss': 2.027746, 'test_total': 113.0, 'val_loss': 171.217324, 'val_avg_loss': 1.515198, 'val_total': 113.0}\n",
      "2022-12-22 19:24:29,458 (monitor:936)INFO: Current best: {'test_loss': 229.135253, 'test_avg_loss': 2.027746, 'test_total': 113.0, 'val_loss': 171.217324, 'val_avg_loss': 1.515198, 'val_total': 113.0}\n",
      "2022-12-22 19:24:29,460 (server:323)INFO: Server #0: Starting evaluation at the end of round 180.\n",
      "2022-12-22 19:24:29,461 (server:330)INFO: ----------- Starting a new training round (Round #181) -------------\n",
      "2022-12-22 19:24:29,495 (client:415)INFO: {'Role': 'Client #1', 'Round': 181, 'Results_raw': {'test_loss': nan, 'test_avg_loss': nan, 'test_total': 113, 'val_loss': nan, 'val_avg_loss': nan, 'val_total': 113}}\n",
      "2022-12-22 19:24:29,496 (monitor:936)INFO: Current best: {'test_loss': 229.135253, 'test_avg_loss': 2.027746, 'test_total': 113, 'val_loss': 171.217324, 'val_avg_loss': 1.515198, 'val_total': 113}\n",
      "2022-12-22 19:24:29,618 (client:260)INFO: {'Role': 'Client #1', 'Round': 181, 'Results_raw': {'train_loss': nan, 'train_avg_loss': nan, 'train_total': 901}}\n",
      "2022-12-22 19:24:29,619 (server:496)INFO: {'Role': 'Server #', 'Round': 181, 'Results_avg': {'test_loss': nan, 'test_avg_loss': nan, 'test_total': 113.0, 'val_loss': nan, 'val_avg_loss': nan, 'val_total': 113.0}}\n",
      "2022-12-22 19:24:29,620 (monitor:936)INFO: Current best: {'test_loss': 229.135253, 'test_avg_loss': 2.027746, 'test_total': 113.0, 'val_loss': 171.217324, 'val_avg_loss': 1.515198, 'val_total': 113.0}\n",
      "2022-12-22 19:24:29,621 (monitor:936)INFO: Current best: {'test_loss': 229.135253, 'test_avg_loss': 2.027746, 'test_total': 113.0, 'val_loss': 171.217324, 'val_avg_loss': 1.515198, 'val_total': 113.0}\n",
      "2022-12-22 19:24:29,622 (server:323)INFO: Server #0: Starting evaluation at the end of round 181.\n",
      "2022-12-22 19:24:29,623 (server:330)INFO: ----------- Starting a new training round (Round #182) -------------\n",
      "2022-12-22 19:24:29,655 (client:415)INFO: {'Role': 'Client #1', 'Round': 182, 'Results_raw': {'test_loss': nan, 'test_avg_loss': nan, 'test_total': 113, 'val_loss': nan, 'val_avg_loss': nan, 'val_total': 113}}\n",
      "2022-12-22 19:24:29,656 (monitor:936)INFO: Current best: {'test_loss': 229.135253, 'test_avg_loss': 2.027746, 'test_total': 113, 'val_loss': 171.217324, 'val_avg_loss': 1.515198, 'val_total': 113}\n",
      "2022-12-22 19:24:29,777 (client:260)INFO: {'Role': 'Client #1', 'Round': 182, 'Results_raw': {'train_loss': nan, 'train_avg_loss': nan, 'train_total': 901}}\n",
      "2022-12-22 19:24:29,778 (server:496)INFO: {'Role': 'Server #', 'Round': 182, 'Results_avg': {'test_loss': nan, 'test_avg_loss': nan, 'test_total': 113.0, 'val_loss': nan, 'val_avg_loss': nan, 'val_total': 113.0}}\n",
      "2022-12-22 19:24:29,779 (monitor:936)INFO: Current best: {'test_loss': 229.135253, 'test_avg_loss': 2.027746, 'test_total': 113.0, 'val_loss': 171.217324, 'val_avg_loss': 1.515198, 'val_total': 113.0}\n",
      "2022-12-22 19:24:29,780 (monitor:936)INFO: Current best: {'test_loss': 229.135253, 'test_avg_loss': 2.027746, 'test_total': 113.0, 'val_loss': 171.217324, 'val_avg_loss': 1.515198, 'val_total': 113.0}\n",
      "2022-12-22 19:24:29,782 (server:323)INFO: Server #0: Starting evaluation at the end of round 182.\n",
      "2022-12-22 19:24:29,783 (server:330)INFO: ----------- Starting a new training round (Round #183) -------------\n",
      "2022-12-22 19:24:29,820 (client:415)INFO: {'Role': 'Client #1', 'Round': 183, 'Results_raw': {'test_loss': nan, 'test_avg_loss': nan, 'test_total': 113, 'val_loss': nan, 'val_avg_loss': nan, 'val_total': 113}}\n",
      "2022-12-22 19:24:29,820 (monitor:936)INFO: Current best: {'test_loss': 229.135253, 'test_avg_loss': 2.027746, 'test_total': 113, 'val_loss': 171.217324, 'val_avg_loss': 1.515198, 'val_total': 113}\n",
      "2022-12-22 19:24:29,936 (client:260)INFO: {'Role': 'Client #1', 'Round': 183, 'Results_raw': {'train_loss': nan, 'train_avg_loss': nan, 'train_total': 901}}\n",
      "2022-12-22 19:24:29,939 (server:496)INFO: {'Role': 'Server #', 'Round': 183, 'Results_avg': {'test_loss': nan, 'test_avg_loss': nan, 'test_total': 113.0, 'val_loss': nan, 'val_avg_loss': nan, 'val_total': 113.0}}\n",
      "2022-12-22 19:24:29,940 (monitor:936)INFO: Current best: {'test_loss': 229.135253, 'test_avg_loss': 2.027746, 'test_total': 113.0, 'val_loss': 171.217324, 'val_avg_loss': 1.515198, 'val_total': 113.0}\n",
      "2022-12-22 19:24:29,942 (monitor:936)INFO: Current best: {'test_loss': 229.135253, 'test_avg_loss': 2.027746, 'test_total': 113.0, 'val_loss': 171.217324, 'val_avg_loss': 1.515198, 'val_total': 113.0}\n",
      "2022-12-22 19:24:29,943 (server:323)INFO: Server #0: Starting evaluation at the end of round 183.\n",
      "2022-12-22 19:24:29,944 (server:330)INFO: ----------- Starting a new training round (Round #184) -------------\n",
      "2022-12-22 19:24:29,975 (client:415)INFO: {'Role': 'Client #1', 'Round': 184, 'Results_raw': {'test_loss': nan, 'test_avg_loss': nan, 'test_total': 113, 'val_loss': nan, 'val_avg_loss': nan, 'val_total': 113}}\n",
      "2022-12-22 19:24:29,976 (monitor:936)INFO: Current best: {'test_loss': 229.135253, 'test_avg_loss': 2.027746, 'test_total': 113, 'val_loss': 171.217324, 'val_avg_loss': 1.515198, 'val_total': 113}\n",
      "2022-12-22 19:24:30,096 (client:260)INFO: {'Role': 'Client #1', 'Round': 184, 'Results_raw': {'train_loss': nan, 'train_avg_loss': nan, 'train_total': 901}}\n",
      "2022-12-22 19:24:30,097 (server:496)INFO: {'Role': 'Server #', 'Round': 184, 'Results_avg': {'test_loss': nan, 'test_avg_loss': nan, 'test_total': 113.0, 'val_loss': nan, 'val_avg_loss': nan, 'val_total': 113.0}}\n",
      "2022-12-22 19:24:30,098 (monitor:936)INFO: Current best: {'test_loss': 229.135253, 'test_avg_loss': 2.027746, 'test_total': 113.0, 'val_loss': 171.217324, 'val_avg_loss': 1.515198, 'val_total': 113.0}\n",
      "2022-12-22 19:24:30,100 (monitor:936)INFO: Current best: {'test_loss': 229.135253, 'test_avg_loss': 2.027746, 'test_total': 113.0, 'val_loss': 171.217324, 'val_avg_loss': 1.515198, 'val_total': 113.0}\n",
      "2022-12-22 19:24:30,102 (server:323)INFO: Server #0: Starting evaluation at the end of round 184.\n",
      "2022-12-22 19:24:30,103 (server:330)INFO: ----------- Starting a new training round (Round #185) -------------\n",
      "2022-12-22 19:24:30,138 (client:415)INFO: {'Role': 'Client #1', 'Round': 185, 'Results_raw': {'test_loss': nan, 'test_avg_loss': nan, 'test_total': 113, 'val_loss': nan, 'val_avg_loss': nan, 'val_total': 113}}\n",
      "2022-12-22 19:24:30,138 (monitor:936)INFO: Current best: {'test_loss': 229.135253, 'test_avg_loss': 2.027746, 'test_total': 113, 'val_loss': 171.217324, 'val_avg_loss': 1.515198, 'val_total': 113}\n",
      "2022-12-22 19:24:30,277 (client:260)INFO: {'Role': 'Client #1', 'Round': 185, 'Results_raw': {'train_loss': nan, 'train_avg_loss': nan, 'train_total': 901}}\n",
      "2022-12-22 19:24:30,279 (server:496)INFO: {'Role': 'Server #', 'Round': 185, 'Results_avg': {'test_loss': nan, 'test_avg_loss': nan, 'test_total': 113.0, 'val_loss': nan, 'val_avg_loss': nan, 'val_total': 113.0}}\n",
      "2022-12-22 19:24:30,280 (monitor:936)INFO: Current best: {'test_loss': 229.135253, 'test_avg_loss': 2.027746, 'test_total': 113.0, 'val_loss': 171.217324, 'val_avg_loss': 1.515198, 'val_total': 113.0}\n",
      "2022-12-22 19:24:30,281 (monitor:936)INFO: Current best: {'test_loss': 229.135253, 'test_avg_loss': 2.027746, 'test_total': 113.0, 'val_loss': 171.217324, 'val_avg_loss': 1.515198, 'val_total': 113.0}\n",
      "2022-12-22 19:24:30,283 (server:323)INFO: Server #0: Starting evaluation at the end of round 185.\n",
      "2022-12-22 19:24:30,284 (server:330)INFO: ----------- Starting a new training round (Round #186) -------------\n",
      "2022-12-22 19:24:30,317 (client:415)INFO: {'Role': 'Client #1', 'Round': 186, 'Results_raw': {'test_loss': nan, 'test_avg_loss': nan, 'test_total': 113, 'val_loss': nan, 'val_avg_loss': nan, 'val_total': 113}}\n",
      "2022-12-22 19:24:30,318 (monitor:936)INFO: Current best: {'test_loss': 229.135253, 'test_avg_loss': 2.027746, 'test_total': 113, 'val_loss': 171.217324, 'val_avg_loss': 1.515198, 'val_total': 113}\n",
      "2022-12-22 19:24:30,460 (client:260)INFO: {'Role': 'Client #1', 'Round': 186, 'Results_raw': {'train_loss': nan, 'train_avg_loss': nan, 'train_total': 901}}\n",
      "2022-12-22 19:24:30,462 (server:496)INFO: {'Role': 'Server #', 'Round': 186, 'Results_avg': {'test_loss': nan, 'test_avg_loss': nan, 'test_total': 113.0, 'val_loss': nan, 'val_avg_loss': nan, 'val_total': 113.0}}\n",
      "2022-12-22 19:24:30,463 (monitor:936)INFO: Current best: {'test_loss': 229.135253, 'test_avg_loss': 2.027746, 'test_total': 113.0, 'val_loss': 171.217324, 'val_avg_loss': 1.515198, 'val_total': 113.0}\n",
      "2022-12-22 19:24:30,465 (monitor:936)INFO: Current best: {'test_loss': 229.135253, 'test_avg_loss': 2.027746, 'test_total': 113.0, 'val_loss': 171.217324, 'val_avg_loss': 1.515198, 'val_total': 113.0}\n",
      "2022-12-22 19:24:30,468 (server:323)INFO: Server #0: Starting evaluation at the end of round 186.\n",
      "2022-12-22 19:24:30,469 (server:330)INFO: ----------- Starting a new training round (Round #187) -------------\n",
      "2022-12-22 19:24:30,502 (client:415)INFO: {'Role': 'Client #1', 'Round': 187, 'Results_raw': {'test_loss': nan, 'test_avg_loss': nan, 'test_total': 113, 'val_loss': nan, 'val_avg_loss': nan, 'val_total': 113}}\n",
      "2022-12-22 19:24:30,503 (monitor:936)INFO: Current best: {'test_loss': 229.135253, 'test_avg_loss': 2.027746, 'test_total': 113, 'val_loss': 171.217324, 'val_avg_loss': 1.515198, 'val_total': 113}\n",
      "2022-12-22 19:24:30,639 (client:260)INFO: {'Role': 'Client #1', 'Round': 187, 'Results_raw': {'train_loss': nan, 'train_avg_loss': nan, 'train_total': 901}}\n",
      "2022-12-22 19:24:30,640 (server:496)INFO: {'Role': 'Server #', 'Round': 187, 'Results_avg': {'test_loss': nan, 'test_avg_loss': nan, 'test_total': 113.0, 'val_loss': nan, 'val_avg_loss': nan, 'val_total': 113.0}}\n",
      "2022-12-22 19:24:30,641 (monitor:936)INFO: Current best: {'test_loss': 229.135253, 'test_avg_loss': 2.027746, 'test_total': 113.0, 'val_loss': 171.217324, 'val_avg_loss': 1.515198, 'val_total': 113.0}\n",
      "2022-12-22 19:24:30,642 (monitor:936)INFO: Current best: {'test_loss': 229.135253, 'test_avg_loss': 2.027746, 'test_total': 113.0, 'val_loss': 171.217324, 'val_avg_loss': 1.515198, 'val_total': 113.0}\n",
      "2022-12-22 19:24:30,644 (server:323)INFO: Server #0: Starting evaluation at the end of round 187.\n",
      "2022-12-22 19:24:30,645 (server:330)INFO: ----------- Starting a new training round (Round #188) -------------\n",
      "2022-12-22 19:24:30,678 (client:415)INFO: {'Role': 'Client #1', 'Round': 188, 'Results_raw': {'test_loss': nan, 'test_avg_loss': nan, 'test_total': 113, 'val_loss': nan, 'val_avg_loss': nan, 'val_total': 113}}\n",
      "2022-12-22 19:24:30,679 (monitor:936)INFO: Current best: {'test_loss': 229.135253, 'test_avg_loss': 2.027746, 'test_total': 113, 'val_loss': 171.217324, 'val_avg_loss': 1.515198, 'val_total': 113}\n",
      "2022-12-22 19:24:30,822 (client:260)INFO: {'Role': 'Client #1', 'Round': 188, 'Results_raw': {'train_loss': nan, 'train_avg_loss': nan, 'train_total': 901}}\n",
      "2022-12-22 19:24:30,824 (server:496)INFO: {'Role': 'Server #', 'Round': 188, 'Results_avg': {'test_loss': nan, 'test_avg_loss': nan, 'test_total': 113.0, 'val_loss': nan, 'val_avg_loss': nan, 'val_total': 113.0}}\n",
      "2022-12-22 19:24:30,825 (monitor:936)INFO: Current best: {'test_loss': 229.135253, 'test_avg_loss': 2.027746, 'test_total': 113.0, 'val_loss': 171.217324, 'val_avg_loss': 1.515198, 'val_total': 113.0}\n",
      "2022-12-22 19:24:30,826 (monitor:936)INFO: Current best: {'test_loss': 229.135253, 'test_avg_loss': 2.027746, 'test_total': 113.0, 'val_loss': 171.217324, 'val_avg_loss': 1.515198, 'val_total': 113.0}\n",
      "2022-12-22 19:24:30,830 (server:323)INFO: Server #0: Starting evaluation at the end of round 188.\n",
      "2022-12-22 19:24:30,831 (server:330)INFO: ----------- Starting a new training round (Round #189) -------------\n",
      "2022-12-22 19:24:30,861 (client:415)INFO: {'Role': 'Client #1', 'Round': 189, 'Results_raw': {'test_loss': nan, 'test_avg_loss': nan, 'test_total': 113, 'val_loss': nan, 'val_avg_loss': nan, 'val_total': 113}}\n",
      "2022-12-22 19:24:30,862 (monitor:936)INFO: Current best: {'test_loss': 229.135253, 'test_avg_loss': 2.027746, 'test_total': 113, 'val_loss': 171.217324, 'val_avg_loss': 1.515198, 'val_total': 113}\n",
      "2022-12-22 19:24:31,011 (client:260)INFO: {'Role': 'Client #1', 'Round': 189, 'Results_raw': {'train_loss': nan, 'train_avg_loss': nan, 'train_total': 901}}\n",
      "2022-12-22 19:24:31,014 (server:496)INFO: {'Role': 'Server #', 'Round': 189, 'Results_avg': {'test_loss': nan, 'test_avg_loss': nan, 'test_total': 113.0, 'val_loss': nan, 'val_avg_loss': nan, 'val_total': 113.0}}\n",
      "2022-12-22 19:24:31,015 (monitor:936)INFO: Current best: {'test_loss': 229.135253, 'test_avg_loss': 2.027746, 'test_total': 113.0, 'val_loss': 171.217324, 'val_avg_loss': 1.515198, 'val_total': 113.0}\n",
      "2022-12-22 19:24:31,017 (monitor:936)INFO: Current best: {'test_loss': 229.135253, 'test_avg_loss': 2.027746, 'test_total': 113.0, 'val_loss': 171.217324, 'val_avg_loss': 1.515198, 'val_total': 113.0}\n",
      "2022-12-22 19:24:31,019 (server:323)INFO: Server #0: Starting evaluation at the end of round 189.\n",
      "2022-12-22 19:24:31,020 (server:330)INFO: ----------- Starting a new training round (Round #190) -------------\n",
      "2022-12-22 19:24:31,054 (client:415)INFO: {'Role': 'Client #1', 'Round': 190, 'Results_raw': {'test_loss': nan, 'test_avg_loss': nan, 'test_total': 113, 'val_loss': nan, 'val_avg_loss': nan, 'val_total': 113}}\n",
      "2022-12-22 19:24:31,055 (monitor:936)INFO: Current best: {'test_loss': 229.135253, 'test_avg_loss': 2.027746, 'test_total': 113, 'val_loss': 171.217324, 'val_avg_loss': 1.515198, 'val_total': 113}\n",
      "2022-12-22 19:24:31,201 (client:260)INFO: {'Role': 'Client #1', 'Round': 190, 'Results_raw': {'train_loss': nan, 'train_avg_loss': nan, 'train_total': 901}}\n",
      "2022-12-22 19:24:31,203 (server:496)INFO: {'Role': 'Server #', 'Round': 190, 'Results_avg': {'test_loss': nan, 'test_avg_loss': nan, 'test_total': 113.0, 'val_loss': nan, 'val_avg_loss': nan, 'val_total': 113.0}}\n",
      "2022-12-22 19:24:31,204 (monitor:936)INFO: Current best: {'test_loss': 229.135253, 'test_avg_loss': 2.027746, 'test_total': 113.0, 'val_loss': 171.217324, 'val_avg_loss': 1.515198, 'val_total': 113.0}\n",
      "2022-12-22 19:24:31,205 (monitor:936)INFO: Current best: {'test_loss': 229.135253, 'test_avg_loss': 2.027746, 'test_total': 113.0, 'val_loss': 171.217324, 'val_avg_loss': 1.515198, 'val_total': 113.0}\n",
      "2022-12-22 19:24:31,206 (server:323)INFO: Server #0: Starting evaluation at the end of round 190.\n",
      "2022-12-22 19:24:31,207 (server:330)INFO: ----------- Starting a new training round (Round #191) -------------\n",
      "2022-12-22 19:24:31,239 (client:415)INFO: {'Role': 'Client #1', 'Round': 191, 'Results_raw': {'test_loss': nan, 'test_avg_loss': nan, 'test_total': 113, 'val_loss': nan, 'val_avg_loss': nan, 'val_total': 113}}\n",
      "2022-12-22 19:24:31,240 (monitor:936)INFO: Current best: {'test_loss': 229.135253, 'test_avg_loss': 2.027746, 'test_total': 113, 'val_loss': 171.217324, 'val_avg_loss': 1.515198, 'val_total': 113}\n",
      "2022-12-22 19:24:31,377 (client:260)INFO: {'Role': 'Client #1', 'Round': 191, 'Results_raw': {'train_loss': nan, 'train_avg_loss': nan, 'train_total': 901}}\n",
      "2022-12-22 19:24:31,379 (server:496)INFO: {'Role': 'Server #', 'Round': 191, 'Results_avg': {'test_loss': nan, 'test_avg_loss': nan, 'test_total': 113.0, 'val_loss': nan, 'val_avg_loss': nan, 'val_total': 113.0}}\n",
      "2022-12-22 19:24:31,380 (monitor:936)INFO: Current best: {'test_loss': 229.135253, 'test_avg_loss': 2.027746, 'test_total': 113.0, 'val_loss': 171.217324, 'val_avg_loss': 1.515198, 'val_total': 113.0}\n",
      "2022-12-22 19:24:31,382 (monitor:936)INFO: Current best: {'test_loss': 229.135253, 'test_avg_loss': 2.027746, 'test_total': 113.0, 'val_loss': 171.217324, 'val_avg_loss': 1.515198, 'val_total': 113.0}\n",
      "2022-12-22 19:24:31,384 (server:323)INFO: Server #0: Starting evaluation at the end of round 191.\n",
      "2022-12-22 19:24:31,386 (server:330)INFO: ----------- Starting a new training round (Round #192) -------------\n",
      "2022-12-22 19:24:31,426 (client:415)INFO: {'Role': 'Client #1', 'Round': 192, 'Results_raw': {'test_loss': nan, 'test_avg_loss': nan, 'test_total': 113, 'val_loss': nan, 'val_avg_loss': nan, 'val_total': 113}}\n",
      "2022-12-22 19:24:31,427 (monitor:936)INFO: Current best: {'test_loss': 229.135253, 'test_avg_loss': 2.027746, 'test_total': 113, 'val_loss': 171.217324, 'val_avg_loss': 1.515198, 'val_total': 113}\n",
      "2022-12-22 19:24:31,546 (client:260)INFO: {'Role': 'Client #1', 'Round': 192, 'Results_raw': {'train_loss': nan, 'train_avg_loss': nan, 'train_total': 901}}\n",
      "2022-12-22 19:24:31,547 (server:496)INFO: {'Role': 'Server #', 'Round': 192, 'Results_avg': {'test_loss': nan, 'test_avg_loss': nan, 'test_total': 113.0, 'val_loss': nan, 'val_avg_loss': nan, 'val_total': 113.0}}\n",
      "2022-12-22 19:24:31,548 (monitor:936)INFO: Current best: {'test_loss': 229.135253, 'test_avg_loss': 2.027746, 'test_total': 113.0, 'val_loss': 171.217324, 'val_avg_loss': 1.515198, 'val_total': 113.0}\n",
      "2022-12-22 19:24:31,550 (monitor:936)INFO: Current best: {'test_loss': 229.135253, 'test_avg_loss': 2.027746, 'test_total': 113.0, 'val_loss': 171.217324, 'val_avg_loss': 1.515198, 'val_total': 113.0}\n",
      "2022-12-22 19:24:31,552 (server:323)INFO: Server #0: Starting evaluation at the end of round 192.\n",
      "2022-12-22 19:24:31,553 (server:330)INFO: ----------- Starting a new training round (Round #193) -------------\n",
      "2022-12-22 19:24:31,589 (client:415)INFO: {'Role': 'Client #1', 'Round': 193, 'Results_raw': {'test_loss': nan, 'test_avg_loss': nan, 'test_total': 113, 'val_loss': nan, 'val_avg_loss': nan, 'val_total': 113}}\n",
      "2022-12-22 19:24:31,591 (monitor:936)INFO: Current best: {'test_loss': 229.135253, 'test_avg_loss': 2.027746, 'test_total': 113, 'val_loss': 171.217324, 'val_avg_loss': 1.515198, 'val_total': 113}\n",
      "2022-12-22 19:24:31,707 (client:260)INFO: {'Role': 'Client #1', 'Round': 193, 'Results_raw': {'train_loss': nan, 'train_avg_loss': nan, 'train_total': 901}}\n",
      "2022-12-22 19:24:31,709 (server:496)INFO: {'Role': 'Server #', 'Round': 193, 'Results_avg': {'test_loss': nan, 'test_avg_loss': nan, 'test_total': 113.0, 'val_loss': nan, 'val_avg_loss': nan, 'val_total': 113.0}}\n",
      "2022-12-22 19:24:31,710 (monitor:936)INFO: Current best: {'test_loss': 229.135253, 'test_avg_loss': 2.027746, 'test_total': 113.0, 'val_loss': 171.217324, 'val_avg_loss': 1.515198, 'val_total': 113.0}\n",
      "2022-12-22 19:24:31,711 (monitor:936)INFO: Current best: {'test_loss': 229.135253, 'test_avg_loss': 2.027746, 'test_total': 113.0, 'val_loss': 171.217324, 'val_avg_loss': 1.515198, 'val_total': 113.0}\n",
      "2022-12-22 19:24:31,713 (server:323)INFO: Server #0: Starting evaluation at the end of round 193.\n",
      "2022-12-22 19:24:31,714 (server:330)INFO: ----------- Starting a new training round (Round #194) -------------\n",
      "2022-12-22 19:24:31,748 (client:415)INFO: {'Role': 'Client #1', 'Round': 194, 'Results_raw': {'test_loss': nan, 'test_avg_loss': nan, 'test_total': 113, 'val_loss': nan, 'val_avg_loss': nan, 'val_total': 113}}\n",
      "2022-12-22 19:24:31,750 (monitor:936)INFO: Current best: {'test_loss': 229.135253, 'test_avg_loss': 2.027746, 'test_total': 113, 'val_loss': 171.217324, 'val_avg_loss': 1.515198, 'val_total': 113}\n",
      "2022-12-22 19:24:31,889 (client:260)INFO: {'Role': 'Client #1', 'Round': 194, 'Results_raw': {'train_loss': nan, 'train_avg_loss': nan, 'train_total': 901}}\n",
      "2022-12-22 19:24:31,891 (server:496)INFO: {'Role': 'Server #', 'Round': 194, 'Results_avg': {'test_loss': nan, 'test_avg_loss': nan, 'test_total': 113.0, 'val_loss': nan, 'val_avg_loss': nan, 'val_total': 113.0}}\n",
      "2022-12-22 19:24:31,892 (monitor:936)INFO: Current best: {'test_loss': 229.135253, 'test_avg_loss': 2.027746, 'test_total': 113.0, 'val_loss': 171.217324, 'val_avg_loss': 1.515198, 'val_total': 113.0}\n",
      "2022-12-22 19:24:31,893 (monitor:936)INFO: Current best: {'test_loss': 229.135253, 'test_avg_loss': 2.027746, 'test_total': 113.0, 'val_loss': 171.217324, 'val_avg_loss': 1.515198, 'val_total': 113.0}\n",
      "2022-12-22 19:24:31,895 (server:323)INFO: Server #0: Starting evaluation at the end of round 194.\n",
      "2022-12-22 19:24:31,897 (server:330)INFO: ----------- Starting a new training round (Round #195) -------------\n",
      "2022-12-22 19:24:31,928 (client:415)INFO: {'Role': 'Client #1', 'Round': 195, 'Results_raw': {'test_loss': nan, 'test_avg_loss': nan, 'test_total': 113, 'val_loss': nan, 'val_avg_loss': nan, 'val_total': 113}}\n",
      "2022-12-22 19:24:31,929 (monitor:936)INFO: Current best: {'test_loss': 229.135253, 'test_avg_loss': 2.027746, 'test_total': 113, 'val_loss': 171.217324, 'val_avg_loss': 1.515198, 'val_total': 113}\n",
      "2022-12-22 19:24:32,068 (client:260)INFO: {'Role': 'Client #1', 'Round': 195, 'Results_raw': {'train_loss': nan, 'train_avg_loss': nan, 'train_total': 901}}\n",
      "2022-12-22 19:24:32,070 (server:496)INFO: {'Role': 'Server #', 'Round': 195, 'Results_avg': {'test_loss': nan, 'test_avg_loss': nan, 'test_total': 113.0, 'val_loss': nan, 'val_avg_loss': nan, 'val_total': 113.0}}\n",
      "2022-12-22 19:24:32,071 (monitor:936)INFO: Current best: {'test_loss': 229.135253, 'test_avg_loss': 2.027746, 'test_total': 113.0, 'val_loss': 171.217324, 'val_avg_loss': 1.515198, 'val_total': 113.0}\n",
      "2022-12-22 19:24:32,073 (monitor:936)INFO: Current best: {'test_loss': 229.135253, 'test_avg_loss': 2.027746, 'test_total': 113.0, 'val_loss': 171.217324, 'val_avg_loss': 1.515198, 'val_total': 113.0}\n",
      "2022-12-22 19:24:32,075 (server:323)INFO: Server #0: Starting evaluation at the end of round 195.\n",
      "2022-12-22 19:24:32,076 (server:330)INFO: ----------- Starting a new training round (Round #196) -------------\n",
      "2022-12-22 19:24:32,109 (client:415)INFO: {'Role': 'Client #1', 'Round': 196, 'Results_raw': {'test_loss': nan, 'test_avg_loss': nan, 'test_total': 113, 'val_loss': nan, 'val_avg_loss': nan, 'val_total': 113}}\n",
      "2022-12-22 19:24:32,110 (monitor:936)INFO: Current best: {'test_loss': 229.135253, 'test_avg_loss': 2.027746, 'test_total': 113, 'val_loss': 171.217324, 'val_avg_loss': 1.515198, 'val_total': 113}\n",
      "2022-12-22 19:24:32,254 (client:260)INFO: {'Role': 'Client #1', 'Round': 196, 'Results_raw': {'train_loss': nan, 'train_avg_loss': nan, 'train_total': 901}}\n",
      "2022-12-22 19:24:32,256 (server:496)INFO: {'Role': 'Server #', 'Round': 196, 'Results_avg': {'test_loss': nan, 'test_avg_loss': nan, 'test_total': 113.0, 'val_loss': nan, 'val_avg_loss': nan, 'val_total': 113.0}}\n",
      "2022-12-22 19:24:32,257 (monitor:936)INFO: Current best: {'test_loss': 229.135253, 'test_avg_loss': 2.027746, 'test_total': 113.0, 'val_loss': 171.217324, 'val_avg_loss': 1.515198, 'val_total': 113.0}\n",
      "2022-12-22 19:24:32,259 (monitor:936)INFO: Current best: {'test_loss': 229.135253, 'test_avg_loss': 2.027746, 'test_total': 113.0, 'val_loss': 171.217324, 'val_avg_loss': 1.515198, 'val_total': 113.0}\n",
      "2022-12-22 19:24:32,261 (server:323)INFO: Server #0: Starting evaluation at the end of round 196.\n",
      "2022-12-22 19:24:32,262 (server:330)INFO: ----------- Starting a new training round (Round #197) -------------\n",
      "2022-12-22 19:24:32,300 (client:415)INFO: {'Role': 'Client #1', 'Round': 197, 'Results_raw': {'test_loss': nan, 'test_avg_loss': nan, 'test_total': 113, 'val_loss': nan, 'val_avg_loss': nan, 'val_total': 113}}\n",
      "2022-12-22 19:24:32,301 (monitor:936)INFO: Current best: {'test_loss': 229.135253, 'test_avg_loss': 2.027746, 'test_total': 113, 'val_loss': 171.217324, 'val_avg_loss': 1.515198, 'val_total': 113}\n",
      "2022-12-22 19:24:32,456 (client:260)INFO: {'Role': 'Client #1', 'Round': 197, 'Results_raw': {'train_loss': nan, 'train_avg_loss': nan, 'train_total': 901}}\n",
      "2022-12-22 19:24:32,458 (server:496)INFO: {'Role': 'Server #', 'Round': 197, 'Results_avg': {'test_loss': nan, 'test_avg_loss': nan, 'test_total': 113.0, 'val_loss': nan, 'val_avg_loss': nan, 'val_total': 113.0}}\n",
      "2022-12-22 19:24:32,459 (monitor:936)INFO: Current best: {'test_loss': 229.135253, 'test_avg_loss': 2.027746, 'test_total': 113.0, 'val_loss': 171.217324, 'val_avg_loss': 1.515198, 'val_total': 113.0}\n",
      "2022-12-22 19:24:32,461 (monitor:936)INFO: Current best: {'test_loss': 229.135253, 'test_avg_loss': 2.027746, 'test_total': 113.0, 'val_loss': 171.217324, 'val_avg_loss': 1.515198, 'val_total': 113.0}\n",
      "2022-12-22 19:24:32,463 (server:323)INFO: Server #0: Starting evaluation at the end of round 197.\n",
      "2022-12-22 19:24:32,463 (server:330)INFO: ----------- Starting a new training round (Round #198) -------------\n",
      "2022-12-22 19:24:32,499 (client:415)INFO: {'Role': 'Client #1', 'Round': 198, 'Results_raw': {'test_loss': nan, 'test_avg_loss': nan, 'test_total': 113, 'val_loss': nan, 'val_avg_loss': nan, 'val_total': 113}}\n",
      "2022-12-22 19:24:32,501 (monitor:936)INFO: Current best: {'test_loss': 229.135253, 'test_avg_loss': 2.027746, 'test_total': 113, 'val_loss': 171.217324, 'val_avg_loss': 1.515198, 'val_total': 113}\n",
      "2022-12-22 19:24:32,643 (client:260)INFO: {'Role': 'Client #1', 'Round': 198, 'Results_raw': {'train_loss': nan, 'train_avg_loss': nan, 'train_total': 901}}\n",
      "2022-12-22 19:24:32,645 (server:496)INFO: {'Role': 'Server #', 'Round': 198, 'Results_avg': {'test_loss': nan, 'test_avg_loss': nan, 'test_total': 113.0, 'val_loss': nan, 'val_avg_loss': nan, 'val_total': 113.0}}\n",
      "2022-12-22 19:24:32,645 (monitor:936)INFO: Current best: {'test_loss': 229.135253, 'test_avg_loss': 2.027746, 'test_total': 113.0, 'val_loss': 171.217324, 'val_avg_loss': 1.515198, 'val_total': 113.0}\n",
      "2022-12-22 19:24:32,646 (monitor:936)INFO: Current best: {'test_loss': 229.135253, 'test_avg_loss': 2.027746, 'test_total': 113.0, 'val_loss': 171.217324, 'val_avg_loss': 1.515198, 'val_total': 113.0}\n",
      "2022-12-22 19:24:32,648 (server:323)INFO: Server #0: Starting evaluation at the end of round 198.\n",
      "2022-12-22 19:24:32,649 (server:330)INFO: ----------- Starting a new training round (Round #199) -------------\n",
      "2022-12-22 19:24:32,685 (client:415)INFO: {'Role': 'Client #1', 'Round': 199, 'Results_raw': {'test_loss': nan, 'test_avg_loss': nan, 'test_total': 113, 'val_loss': nan, 'val_avg_loss': nan, 'val_total': 113}}\n",
      "2022-12-22 19:24:32,686 (monitor:936)INFO: Current best: {'test_loss': 229.135253, 'test_avg_loss': 2.027746, 'test_total': 113, 'val_loss': 171.217324, 'val_avg_loss': 1.515198, 'val_total': 113}\n",
      "2022-12-22 19:24:32,824 (client:260)INFO: {'Role': 'Client #1', 'Round': 199, 'Results_raw': {'train_loss': nan, 'train_avg_loss': nan, 'train_total': 901}}\n",
      "2022-12-22 19:24:32,826 (server:496)INFO: {'Role': 'Server #', 'Round': 199, 'Results_avg': {'test_loss': nan, 'test_avg_loss': nan, 'test_total': 113.0, 'val_loss': nan, 'val_avg_loss': nan, 'val_total': 113.0}}\n",
      "2022-12-22 19:24:32,826 (monitor:936)INFO: Current best: {'test_loss': 229.135253, 'test_avg_loss': 2.027746, 'test_total': 113.0, 'val_loss': 171.217324, 'val_avg_loss': 1.515198, 'val_total': 113.0}\n",
      "2022-12-22 19:24:32,827 (monitor:936)INFO: Current best: {'test_loss': 229.135253, 'test_avg_loss': 2.027746, 'test_total': 113.0, 'val_loss': 171.217324, 'val_avg_loss': 1.515198, 'val_total': 113.0}\n",
      "2022-12-22 19:24:32,830 (server:323)INFO: Server #0: Starting evaluation at the end of round 199.\n",
      "2022-12-22 19:24:32,832 (server:330)INFO: ----------- Starting a new training round (Round #200) -------------\n",
      "2022-12-22 19:24:32,867 (client:415)INFO: {'Role': 'Client #1', 'Round': 200, 'Results_raw': {'test_loss': nan, 'test_avg_loss': nan, 'test_total': 113, 'val_loss': nan, 'val_avg_loss': nan, 'val_total': 113}}\n",
      "2022-12-22 19:24:32,868 (monitor:936)INFO: Current best: {'test_loss': 229.135253, 'test_avg_loss': 2.027746, 'test_total': 113, 'val_loss': 171.217324, 'val_avg_loss': 1.515198, 'val_total': 113}\n",
      "2022-12-22 19:24:33,016 (client:260)INFO: {'Role': 'Client #1', 'Round': 200, 'Results_raw': {'train_loss': nan, 'train_avg_loss': nan, 'train_total': 901}}\n",
      "2022-12-22 19:24:33,018 (server:496)INFO: {'Role': 'Server #', 'Round': 200, 'Results_avg': {'test_loss': nan, 'test_avg_loss': nan, 'test_total': 113.0, 'val_loss': nan, 'val_avg_loss': nan, 'val_total': 113.0}}\n",
      "2022-12-22 19:24:33,019 (monitor:936)INFO: Current best: {'test_loss': 229.135253, 'test_avg_loss': 2.027746, 'test_total': 113.0, 'val_loss': 171.217324, 'val_avg_loss': 1.515198, 'val_total': 113.0}\n",
      "2022-12-22 19:24:33,021 (monitor:936)INFO: Current best: {'test_loss': 229.135253, 'test_avg_loss': 2.027746, 'test_total': 113.0, 'val_loss': 171.217324, 'val_avg_loss': 1.515198, 'val_total': 113.0}\n",
      "2022-12-22 19:24:33,023 (server:323)INFO: Server #0: Starting evaluation at the end of round 200.\n",
      "2022-12-22 19:24:33,024 (server:330)INFO: ----------- Starting a new training round (Round #201) -------------\n",
      "2022-12-22 19:24:33,057 (client:415)INFO: {'Role': 'Client #1', 'Round': 201, 'Results_raw': {'test_loss': nan, 'test_avg_loss': nan, 'test_total': 113, 'val_loss': nan, 'val_avg_loss': nan, 'val_total': 113}}\n",
      "2022-12-22 19:24:33,058 (monitor:936)INFO: Current best: {'test_loss': 229.135253, 'test_avg_loss': 2.027746, 'test_total': 113, 'val_loss': 171.217324, 'val_avg_loss': 1.515198, 'val_total': 113}\n",
      "2022-12-22 19:24:33,205 (client:260)INFO: {'Role': 'Client #1', 'Round': 201, 'Results_raw': {'train_loss': nan, 'train_avg_loss': nan, 'train_total': 901}}\n",
      "2022-12-22 19:24:33,207 (server:496)INFO: {'Role': 'Server #', 'Round': 201, 'Results_avg': {'test_loss': nan, 'test_avg_loss': nan, 'test_total': 113.0, 'val_loss': nan, 'val_avg_loss': nan, 'val_total': 113.0}}\n",
      "2022-12-22 19:24:33,208 (monitor:936)INFO: Current best: {'test_loss': 229.135253, 'test_avg_loss': 2.027746, 'test_total': 113.0, 'val_loss': 171.217324, 'val_avg_loss': 1.515198, 'val_total': 113.0}\n",
      "2022-12-22 19:24:33,210 (monitor:936)INFO: Current best: {'test_loss': 229.135253, 'test_avg_loss': 2.027746, 'test_total': 113.0, 'val_loss': 171.217324, 'val_avg_loss': 1.515198, 'val_total': 113.0}\n",
      "2022-12-22 19:24:33,212 (server:323)INFO: Server #0: Starting evaluation at the end of round 201.\n",
      "2022-12-22 19:24:33,213 (server:330)INFO: ----------- Starting a new training round (Round #202) -------------\n",
      "2022-12-22 19:24:33,254 (client:415)INFO: {'Role': 'Client #1', 'Round': 202, 'Results_raw': {'test_loss': nan, 'test_avg_loss': nan, 'test_total': 113, 'val_loss': nan, 'val_avg_loss': nan, 'val_total': 113}}\n",
      "2022-12-22 19:24:33,254 (monitor:936)INFO: Current best: {'test_loss': 229.135253, 'test_avg_loss': 2.027746, 'test_total': 113, 'val_loss': 171.217324, 'val_avg_loss': 1.515198, 'val_total': 113}\n",
      "2022-12-22 19:24:33,405 (client:260)INFO: {'Role': 'Client #1', 'Round': 202, 'Results_raw': {'train_loss': nan, 'train_avg_loss': nan, 'train_total': 901}}\n",
      "2022-12-22 19:24:33,406 (server:496)INFO: {'Role': 'Server #', 'Round': 202, 'Results_avg': {'test_loss': nan, 'test_avg_loss': nan, 'test_total': 113.0, 'val_loss': nan, 'val_avg_loss': nan, 'val_total': 113.0}}\n",
      "2022-12-22 19:24:33,407 (monitor:936)INFO: Current best: {'test_loss': 229.135253, 'test_avg_loss': 2.027746, 'test_total': 113.0, 'val_loss': 171.217324, 'val_avg_loss': 1.515198, 'val_total': 113.0}\n",
      "2022-12-22 19:24:33,409 (monitor:936)INFO: Current best: {'test_loss': 229.135253, 'test_avg_loss': 2.027746, 'test_total': 113.0, 'val_loss': 171.217324, 'val_avg_loss': 1.515198, 'val_total': 113.0}\n",
      "2022-12-22 19:24:33,412 (server:323)INFO: Server #0: Starting evaluation at the end of round 202.\n",
      "2022-12-22 19:24:33,414 (server:330)INFO: ----------- Starting a new training round (Round #203) -------------\n",
      "2022-12-22 19:24:33,449 (client:415)INFO: {'Role': 'Client #1', 'Round': 203, 'Results_raw': {'test_loss': nan, 'test_avg_loss': nan, 'test_total': 113, 'val_loss': nan, 'val_avg_loss': nan, 'val_total': 113}}\n",
      "2022-12-22 19:24:33,450 (monitor:936)INFO: Current best: {'test_loss': 229.135253, 'test_avg_loss': 2.027746, 'test_total': 113, 'val_loss': 171.217324, 'val_avg_loss': 1.515198, 'val_total': 113}\n",
      "2022-12-22 19:24:33,619 (client:260)INFO: {'Role': 'Client #1', 'Round': 203, 'Results_raw': {'train_loss': nan, 'train_avg_loss': nan, 'train_total': 901}}\n",
      "2022-12-22 19:24:33,621 (server:496)INFO: {'Role': 'Server #', 'Round': 203, 'Results_avg': {'test_loss': nan, 'test_avg_loss': nan, 'test_total': 113.0, 'val_loss': nan, 'val_avg_loss': nan, 'val_total': 113.0}}\n",
      "2022-12-22 19:24:33,622 (monitor:936)INFO: Current best: {'test_loss': 229.135253, 'test_avg_loss': 2.027746, 'test_total': 113.0, 'val_loss': 171.217324, 'val_avg_loss': 1.515198, 'val_total': 113.0}\n",
      "2022-12-22 19:24:33,624 (monitor:936)INFO: Current best: {'test_loss': 229.135253, 'test_avg_loss': 2.027746, 'test_total': 113.0, 'val_loss': 171.217324, 'val_avg_loss': 1.515198, 'val_total': 113.0}\n",
      "2022-12-22 19:24:33,627 (server:323)INFO: Server #0: Starting evaluation at the end of round 203.\n",
      "2022-12-22 19:24:33,628 (server:330)INFO: ----------- Starting a new training round (Round #204) -------------\n",
      "2022-12-22 19:24:33,660 (client:415)INFO: {'Role': 'Client #1', 'Round': 204, 'Results_raw': {'test_loss': nan, 'test_avg_loss': nan, 'test_total': 113, 'val_loss': nan, 'val_avg_loss': nan, 'val_total': 113}}\n",
      "2022-12-22 19:24:33,661 (monitor:936)INFO: Current best: {'test_loss': 229.135253, 'test_avg_loss': 2.027746, 'test_total': 113, 'val_loss': 171.217324, 'val_avg_loss': 1.515198, 'val_total': 113}\n",
      "2022-12-22 19:24:33,787 (client:260)INFO: {'Role': 'Client #1', 'Round': 204, 'Results_raw': {'train_loss': nan, 'train_avg_loss': nan, 'train_total': 901}}\n",
      "2022-12-22 19:24:33,789 (server:496)INFO: {'Role': 'Server #', 'Round': 204, 'Results_avg': {'test_loss': nan, 'test_avg_loss': nan, 'test_total': 113.0, 'val_loss': nan, 'val_avg_loss': nan, 'val_total': 113.0}}\n",
      "2022-12-22 19:24:33,790 (monitor:936)INFO: Current best: {'test_loss': 229.135253, 'test_avg_loss': 2.027746, 'test_total': 113.0, 'val_loss': 171.217324, 'val_avg_loss': 1.515198, 'val_total': 113.0}\n",
      "2022-12-22 19:24:33,792 (monitor:936)INFO: Current best: {'test_loss': 229.135253, 'test_avg_loss': 2.027746, 'test_total': 113.0, 'val_loss': 171.217324, 'val_avg_loss': 1.515198, 'val_total': 113.0}\n",
      "2022-12-22 19:24:33,795 (server:323)INFO: Server #0: Starting evaluation at the end of round 204.\n",
      "2022-12-22 19:24:33,796 (server:330)INFO: ----------- Starting a new training round (Round #205) -------------\n",
      "2022-12-22 19:24:33,833 (client:415)INFO: {'Role': 'Client #1', 'Round': 205, 'Results_raw': {'test_loss': nan, 'test_avg_loss': nan, 'test_total': 113, 'val_loss': nan, 'val_avg_loss': nan, 'val_total': 113}}\n",
      "2022-12-22 19:24:33,834 (monitor:936)INFO: Current best: {'test_loss': 229.135253, 'test_avg_loss': 2.027746, 'test_total': 113, 'val_loss': 171.217324, 'val_avg_loss': 1.515198, 'val_total': 113}\n",
      "2022-12-22 19:24:33,977 (client:260)INFO: {'Role': 'Client #1', 'Round': 205, 'Results_raw': {'train_loss': nan, 'train_avg_loss': nan, 'train_total': 901}}\n",
      "2022-12-22 19:24:33,979 (server:496)INFO: {'Role': 'Server #', 'Round': 205, 'Results_avg': {'test_loss': nan, 'test_avg_loss': nan, 'test_total': 113.0, 'val_loss': nan, 'val_avg_loss': nan, 'val_total': 113.0}}\n",
      "2022-12-22 19:24:33,980 (monitor:936)INFO: Current best: {'test_loss': 229.135253, 'test_avg_loss': 2.027746, 'test_total': 113.0, 'val_loss': 171.217324, 'val_avg_loss': 1.515198, 'val_total': 113.0}\n",
      "2022-12-22 19:24:33,981 (monitor:936)INFO: Current best: {'test_loss': 229.135253, 'test_avg_loss': 2.027746, 'test_total': 113.0, 'val_loss': 171.217324, 'val_avg_loss': 1.515198, 'val_total': 113.0}\n",
      "2022-12-22 19:24:33,984 (server:323)INFO: Server #0: Starting evaluation at the end of round 205.\n",
      "2022-12-22 19:24:33,986 (server:330)INFO: ----------- Starting a new training round (Round #206) -------------\n",
      "2022-12-22 19:24:34,017 (client:415)INFO: {'Role': 'Client #1', 'Round': 206, 'Results_raw': {'test_loss': nan, 'test_avg_loss': nan, 'test_total': 113, 'val_loss': nan, 'val_avg_loss': nan, 'val_total': 113}}\n",
      "2022-12-22 19:24:34,018 (monitor:936)INFO: Current best: {'test_loss': 229.135253, 'test_avg_loss': 2.027746, 'test_total': 113, 'val_loss': 171.217324, 'val_avg_loss': 1.515198, 'val_total': 113}\n",
      "2022-12-22 19:24:34,137 (client:260)INFO: {'Role': 'Client #1', 'Round': 206, 'Results_raw': {'train_loss': nan, 'train_avg_loss': nan, 'train_total': 901}}\n",
      "2022-12-22 19:24:34,139 (server:496)INFO: {'Role': 'Server #', 'Round': 206, 'Results_avg': {'test_loss': nan, 'test_avg_loss': nan, 'test_total': 113.0, 'val_loss': nan, 'val_avg_loss': nan, 'val_total': 113.0}}\n",
      "2022-12-22 19:24:34,140 (monitor:936)INFO: Current best: {'test_loss': 229.135253, 'test_avg_loss': 2.027746, 'test_total': 113.0, 'val_loss': 171.217324, 'val_avg_loss': 1.515198, 'val_total': 113.0}\n",
      "2022-12-22 19:24:34,142 (monitor:936)INFO: Current best: {'test_loss': 229.135253, 'test_avg_loss': 2.027746, 'test_total': 113.0, 'val_loss': 171.217324, 'val_avg_loss': 1.515198, 'val_total': 113.0}\n",
      "2022-12-22 19:24:34,144 (server:323)INFO: Server #0: Starting evaluation at the end of round 206.\n",
      "2022-12-22 19:24:34,145 (server:330)INFO: ----------- Starting a new training round (Round #207) -------------\n",
      "2022-12-22 19:24:34,176 (client:415)INFO: {'Role': 'Client #1', 'Round': 207, 'Results_raw': {'test_loss': nan, 'test_avg_loss': nan, 'test_total': 113, 'val_loss': nan, 'val_avg_loss': nan, 'val_total': 113}}\n",
      "2022-12-22 19:24:34,177 (monitor:936)INFO: Current best: {'test_loss': 229.135253, 'test_avg_loss': 2.027746, 'test_total': 113, 'val_loss': 171.217324, 'val_avg_loss': 1.515198, 'val_total': 113}\n",
      "2022-12-22 19:24:34,294 (client:260)INFO: {'Role': 'Client #1', 'Round': 207, 'Results_raw': {'train_loss': nan, 'train_avg_loss': nan, 'train_total': 901}}\n",
      "2022-12-22 19:24:34,296 (server:496)INFO: {'Role': 'Server #', 'Round': 207, 'Results_avg': {'test_loss': nan, 'test_avg_loss': nan, 'test_total': 113.0, 'val_loss': nan, 'val_avg_loss': nan, 'val_total': 113.0}}\n",
      "2022-12-22 19:24:34,297 (monitor:936)INFO: Current best: {'test_loss': 229.135253, 'test_avg_loss': 2.027746, 'test_total': 113.0, 'val_loss': 171.217324, 'val_avg_loss': 1.515198, 'val_total': 113.0}\n",
      "2022-12-22 19:24:34,298 (monitor:936)INFO: Current best: {'test_loss': 229.135253, 'test_avg_loss': 2.027746, 'test_total': 113.0, 'val_loss': 171.217324, 'val_avg_loss': 1.515198, 'val_total': 113.0}\n",
      "2022-12-22 19:24:34,300 (server:323)INFO: Server #0: Starting evaluation at the end of round 207.\n",
      "2022-12-22 19:24:34,301 (server:330)INFO: ----------- Starting a new training round (Round #208) -------------\n",
      "2022-12-22 19:24:34,332 (client:415)INFO: {'Role': 'Client #1', 'Round': 208, 'Results_raw': {'test_loss': nan, 'test_avg_loss': nan, 'test_total': 113, 'val_loss': nan, 'val_avg_loss': nan, 'val_total': 113}}\n",
      "2022-12-22 19:24:34,333 (monitor:936)INFO: Current best: {'test_loss': 229.135253, 'test_avg_loss': 2.027746, 'test_total': 113, 'val_loss': 171.217324, 'val_avg_loss': 1.515198, 'val_total': 113}\n",
      "2022-12-22 19:24:34,443 (client:260)INFO: {'Role': 'Client #1', 'Round': 208, 'Results_raw': {'train_loss': nan, 'train_avg_loss': nan, 'train_total': 901}}\n",
      "2022-12-22 19:24:34,445 (server:496)INFO: {'Role': 'Server #', 'Round': 208, 'Results_avg': {'test_loss': nan, 'test_avg_loss': nan, 'test_total': 113.0, 'val_loss': nan, 'val_avg_loss': nan, 'val_total': 113.0}}\n",
      "2022-12-22 19:24:34,446 (monitor:936)INFO: Current best: {'test_loss': 229.135253, 'test_avg_loss': 2.027746, 'test_total': 113.0, 'val_loss': 171.217324, 'val_avg_loss': 1.515198, 'val_total': 113.0}\n",
      "2022-12-22 19:24:34,447 (monitor:936)INFO: Current best: {'test_loss': 229.135253, 'test_avg_loss': 2.027746, 'test_total': 113.0, 'val_loss': 171.217324, 'val_avg_loss': 1.515198, 'val_total': 113.0}\n",
      "2022-12-22 19:24:34,450 (server:323)INFO: Server #0: Starting evaluation at the end of round 208.\n",
      "2022-12-22 19:24:34,450 (server:330)INFO: ----------- Starting a new training round (Round #209) -------------\n",
      "2022-12-22 19:24:34,486 (client:415)INFO: {'Role': 'Client #1', 'Round': 209, 'Results_raw': {'test_loss': nan, 'test_avg_loss': nan, 'test_total': 113, 'val_loss': nan, 'val_avg_loss': nan, 'val_total': 113}}\n",
      "2022-12-22 19:24:34,487 (monitor:936)INFO: Current best: {'test_loss': 229.135253, 'test_avg_loss': 2.027746, 'test_total': 113, 'val_loss': 171.217324, 'val_avg_loss': 1.515198, 'val_total': 113}\n",
      "2022-12-22 19:24:34,626 (client:260)INFO: {'Role': 'Client #1', 'Round': 209, 'Results_raw': {'train_loss': nan, 'train_avg_loss': nan, 'train_total': 901}}\n",
      "2022-12-22 19:24:34,628 (server:496)INFO: {'Role': 'Server #', 'Round': 209, 'Results_avg': {'test_loss': nan, 'test_avg_loss': nan, 'test_total': 113.0, 'val_loss': nan, 'val_avg_loss': nan, 'val_total': 113.0}}\n",
      "2022-12-22 19:24:34,628 (monitor:936)INFO: Current best: {'test_loss': 229.135253, 'test_avg_loss': 2.027746, 'test_total': 113.0, 'val_loss': 171.217324, 'val_avg_loss': 1.515198, 'val_total': 113.0}\n",
      "2022-12-22 19:24:34,630 (monitor:936)INFO: Current best: {'test_loss': 229.135253, 'test_avg_loss': 2.027746, 'test_total': 113.0, 'val_loss': 171.217324, 'val_avg_loss': 1.515198, 'val_total': 113.0}\n",
      "2022-12-22 19:24:34,632 (server:323)INFO: Server #0: Starting evaluation at the end of round 209.\n",
      "2022-12-22 19:24:34,633 (server:330)INFO: ----------- Starting a new training round (Round #210) -------------\n",
      "2022-12-22 19:24:34,669 (client:415)INFO: {'Role': 'Client #1', 'Round': 210, 'Results_raw': {'test_loss': nan, 'test_avg_loss': nan, 'test_total': 113, 'val_loss': nan, 'val_avg_loss': nan, 'val_total': 113}}\n",
      "2022-12-22 19:24:34,670 (monitor:936)INFO: Current best: {'test_loss': 229.135253, 'test_avg_loss': 2.027746, 'test_total': 113, 'val_loss': 171.217324, 'val_avg_loss': 1.515198, 'val_total': 113}\n",
      "2022-12-22 19:24:34,807 (client:260)INFO: {'Role': 'Client #1', 'Round': 210, 'Results_raw': {'train_loss': nan, 'train_avg_loss': nan, 'train_total': 901}}\n",
      "2022-12-22 19:24:34,809 (server:496)INFO: {'Role': 'Server #', 'Round': 210, 'Results_avg': {'test_loss': nan, 'test_avg_loss': nan, 'test_total': 113.0, 'val_loss': nan, 'val_avg_loss': nan, 'val_total': 113.0}}\n",
      "2022-12-22 19:24:34,810 (monitor:936)INFO: Current best: {'test_loss': 229.135253, 'test_avg_loss': 2.027746, 'test_total': 113.0, 'val_loss': 171.217324, 'val_avg_loss': 1.515198, 'val_total': 113.0}\n",
      "2022-12-22 19:24:34,812 (monitor:936)INFO: Current best: {'test_loss': 229.135253, 'test_avg_loss': 2.027746, 'test_total': 113.0, 'val_loss': 171.217324, 'val_avg_loss': 1.515198, 'val_total': 113.0}\n",
      "2022-12-22 19:24:34,815 (server:323)INFO: Server #0: Starting evaluation at the end of round 210.\n",
      "2022-12-22 19:24:34,816 (server:330)INFO: ----------- Starting a new training round (Round #211) -------------\n",
      "2022-12-22 19:24:34,848 (client:415)INFO: {'Role': 'Client #1', 'Round': 211, 'Results_raw': {'test_loss': nan, 'test_avg_loss': nan, 'test_total': 113, 'val_loss': nan, 'val_avg_loss': nan, 'val_total': 113}}\n",
      "2022-12-22 19:24:34,849 (monitor:936)INFO: Current best: {'test_loss': 229.135253, 'test_avg_loss': 2.027746, 'test_total': 113, 'val_loss': 171.217324, 'val_avg_loss': 1.515198, 'val_total': 113}\n",
      "2022-12-22 19:24:34,994 (client:260)INFO: {'Role': 'Client #1', 'Round': 211, 'Results_raw': {'train_loss': nan, 'train_avg_loss': nan, 'train_total': 901}}\n",
      "2022-12-22 19:24:34,996 (server:496)INFO: {'Role': 'Server #', 'Round': 211, 'Results_avg': {'test_loss': nan, 'test_avg_loss': nan, 'test_total': 113.0, 'val_loss': nan, 'val_avg_loss': nan, 'val_total': 113.0}}\n",
      "2022-12-22 19:24:34,997 (monitor:936)INFO: Current best: {'test_loss': 229.135253, 'test_avg_loss': 2.027746, 'test_total': 113.0, 'val_loss': 171.217324, 'val_avg_loss': 1.515198, 'val_total': 113.0}\n",
      "2022-12-22 19:24:34,998 (monitor:936)INFO: Current best: {'test_loss': 229.135253, 'test_avg_loss': 2.027746, 'test_total': 113.0, 'val_loss': 171.217324, 'val_avg_loss': 1.515198, 'val_total': 113.0}\n",
      "2022-12-22 19:24:35,001 (server:323)INFO: Server #0: Starting evaluation at the end of round 211.\n",
      "2022-12-22 19:24:35,001 (server:330)INFO: ----------- Starting a new training round (Round #212) -------------\n",
      "2022-12-22 19:24:35,033 (client:415)INFO: {'Role': 'Client #1', 'Round': 212, 'Results_raw': {'test_loss': nan, 'test_avg_loss': nan, 'test_total': 113, 'val_loss': nan, 'val_avg_loss': nan, 'val_total': 113}}\n",
      "2022-12-22 19:24:35,034 (monitor:936)INFO: Current best: {'test_loss': 229.135253, 'test_avg_loss': 2.027746, 'test_total': 113, 'val_loss': 171.217324, 'val_avg_loss': 1.515198, 'val_total': 113}\n",
      "2022-12-22 19:24:35,181 (client:260)INFO: {'Role': 'Client #1', 'Round': 212, 'Results_raw': {'train_loss': nan, 'train_avg_loss': nan, 'train_total': 901}}\n",
      "2022-12-22 19:24:35,183 (server:496)INFO: {'Role': 'Server #', 'Round': 212, 'Results_avg': {'test_loss': nan, 'test_avg_loss': nan, 'test_total': 113.0, 'val_loss': nan, 'val_avg_loss': nan, 'val_total': 113.0}}\n",
      "2022-12-22 19:24:35,185 (monitor:936)INFO: Current best: {'test_loss': 229.135253, 'test_avg_loss': 2.027746, 'test_total': 113.0, 'val_loss': 171.217324, 'val_avg_loss': 1.515198, 'val_total': 113.0}\n",
      "2022-12-22 19:24:35,186 (monitor:936)INFO: Current best: {'test_loss': 229.135253, 'test_avg_loss': 2.027746, 'test_total': 113.0, 'val_loss': 171.217324, 'val_avg_loss': 1.515198, 'val_total': 113.0}\n",
      "2022-12-22 19:24:35,188 (server:323)INFO: Server #0: Starting evaluation at the end of round 212.\n",
      "2022-12-22 19:24:35,189 (server:330)INFO: ----------- Starting a new training round (Round #213) -------------\n",
      "2022-12-22 19:24:35,230 (client:415)INFO: {'Role': 'Client #1', 'Round': 213, 'Results_raw': {'test_loss': nan, 'test_avg_loss': nan, 'test_total': 113, 'val_loss': nan, 'val_avg_loss': nan, 'val_total': 113}}\n",
      "2022-12-22 19:24:35,231 (monitor:936)INFO: Current best: {'test_loss': 229.135253, 'test_avg_loss': 2.027746, 'test_total': 113, 'val_loss': 171.217324, 'val_avg_loss': 1.515198, 'val_total': 113}\n",
      "2022-12-22 19:24:35,376 (client:260)INFO: {'Role': 'Client #1', 'Round': 213, 'Results_raw': {'train_loss': nan, 'train_avg_loss': nan, 'train_total': 901}}\n",
      "2022-12-22 19:24:35,378 (server:496)INFO: {'Role': 'Server #', 'Round': 213, 'Results_avg': {'test_loss': nan, 'test_avg_loss': nan, 'test_total': 113.0, 'val_loss': nan, 'val_avg_loss': nan, 'val_total': 113.0}}\n",
      "2022-12-22 19:24:35,379 (monitor:936)INFO: Current best: {'test_loss': 229.135253, 'test_avg_loss': 2.027746, 'test_total': 113.0, 'val_loss': 171.217324, 'val_avg_loss': 1.515198, 'val_total': 113.0}\n",
      "2022-12-22 19:24:35,381 (monitor:936)INFO: Current best: {'test_loss': 229.135253, 'test_avg_loss': 2.027746, 'test_total': 113.0, 'val_loss': 171.217324, 'val_avg_loss': 1.515198, 'val_total': 113.0}\n",
      "2022-12-22 19:24:35,385 (server:323)INFO: Server #0: Starting evaluation at the end of round 213.\n",
      "2022-12-22 19:24:35,386 (server:330)INFO: ----------- Starting a new training round (Round #214) -------------\n",
      "2022-12-22 19:24:35,419 (client:415)INFO: {'Role': 'Client #1', 'Round': 214, 'Results_raw': {'test_loss': nan, 'test_avg_loss': nan, 'test_total': 113, 'val_loss': nan, 'val_avg_loss': nan, 'val_total': 113}}\n",
      "2022-12-22 19:24:35,419 (monitor:936)INFO: Current best: {'test_loss': 229.135253, 'test_avg_loss': 2.027746, 'test_total': 113, 'val_loss': 171.217324, 'val_avg_loss': 1.515198, 'val_total': 113}\n",
      "2022-12-22 19:24:35,539 (client:260)INFO: {'Role': 'Client #1', 'Round': 214, 'Results_raw': {'train_loss': nan, 'train_avg_loss': nan, 'train_total': 901}}\n",
      "2022-12-22 19:24:35,541 (server:496)INFO: {'Role': 'Server #', 'Round': 214, 'Results_avg': {'test_loss': nan, 'test_avg_loss': nan, 'test_total': 113.0, 'val_loss': nan, 'val_avg_loss': nan, 'val_total': 113.0}}\n",
      "2022-12-22 19:24:35,541 (monitor:936)INFO: Current best: {'test_loss': 229.135253, 'test_avg_loss': 2.027746, 'test_total': 113.0, 'val_loss': 171.217324, 'val_avg_loss': 1.515198, 'val_total': 113.0}\n",
      "2022-12-22 19:24:35,543 (monitor:936)INFO: Current best: {'test_loss': 229.135253, 'test_avg_loss': 2.027746, 'test_total': 113.0, 'val_loss': 171.217324, 'val_avg_loss': 1.515198, 'val_total': 113.0}\n",
      "2022-12-22 19:24:35,545 (server:323)INFO: Server #0: Starting evaluation at the end of round 214.\n",
      "2022-12-22 19:24:35,545 (server:330)INFO: ----------- Starting a new training round (Round #215) -------------\n",
      "2022-12-22 19:24:35,588 (client:415)INFO: {'Role': 'Client #1', 'Round': 215, 'Results_raw': {'test_loss': nan, 'test_avg_loss': nan, 'test_total': 113, 'val_loss': nan, 'val_avg_loss': nan, 'val_total': 113}}\n",
      "2022-12-22 19:24:35,589 (monitor:936)INFO: Current best: {'test_loss': 229.135253, 'test_avg_loss': 2.027746, 'test_total': 113, 'val_loss': 171.217324, 'val_avg_loss': 1.515198, 'val_total': 113}\n",
      "2022-12-22 19:24:35,732 (client:260)INFO: {'Role': 'Client #1', 'Round': 215, 'Results_raw': {'train_loss': nan, 'train_avg_loss': nan, 'train_total': 901}}\n",
      "2022-12-22 19:24:35,733 (server:496)INFO: {'Role': 'Server #', 'Round': 215, 'Results_avg': {'test_loss': nan, 'test_avg_loss': nan, 'test_total': 113.0, 'val_loss': nan, 'val_avg_loss': nan, 'val_total': 113.0}}\n",
      "2022-12-22 19:24:35,734 (monitor:936)INFO: Current best: {'test_loss': 229.135253, 'test_avg_loss': 2.027746, 'test_total': 113.0, 'val_loss': 171.217324, 'val_avg_loss': 1.515198, 'val_total': 113.0}\n",
      "2022-12-22 19:24:35,736 (monitor:936)INFO: Current best: {'test_loss': 229.135253, 'test_avg_loss': 2.027746, 'test_total': 113.0, 'val_loss': 171.217324, 'val_avg_loss': 1.515198, 'val_total': 113.0}\n",
      "2022-12-22 19:24:35,739 (server:323)INFO: Server #0: Starting evaluation at the end of round 215.\n",
      "2022-12-22 19:24:35,740 (server:330)INFO: ----------- Starting a new training round (Round #216) -------------\n",
      "2022-12-22 19:24:35,773 (client:415)INFO: {'Role': 'Client #1', 'Round': 216, 'Results_raw': {'test_loss': nan, 'test_avg_loss': nan, 'test_total': 113, 'val_loss': nan, 'val_avg_loss': nan, 'val_total': 113}}\n",
      "2022-12-22 19:24:35,774 (monitor:936)INFO: Current best: {'test_loss': 229.135253, 'test_avg_loss': 2.027746, 'test_total': 113, 'val_loss': 171.217324, 'val_avg_loss': 1.515198, 'val_total': 113}\n",
      "2022-12-22 19:24:35,919 (client:260)INFO: {'Role': 'Client #1', 'Round': 216, 'Results_raw': {'train_loss': nan, 'train_avg_loss': nan, 'train_total': 901}}\n",
      "2022-12-22 19:24:35,921 (server:496)INFO: {'Role': 'Server #', 'Round': 216, 'Results_avg': {'test_loss': nan, 'test_avg_loss': nan, 'test_total': 113.0, 'val_loss': nan, 'val_avg_loss': nan, 'val_total': 113.0}}\n",
      "2022-12-22 19:24:35,922 (monitor:936)INFO: Current best: {'test_loss': 229.135253, 'test_avg_loss': 2.027746, 'test_total': 113.0, 'val_loss': 171.217324, 'val_avg_loss': 1.515198, 'val_total': 113.0}\n",
      "2022-12-22 19:24:35,924 (monitor:936)INFO: Current best: {'test_loss': 229.135253, 'test_avg_loss': 2.027746, 'test_total': 113.0, 'val_loss': 171.217324, 'val_avg_loss': 1.515198, 'val_total': 113.0}\n",
      "2022-12-22 19:24:35,926 (server:323)INFO: Server #0: Starting evaluation at the end of round 216.\n",
      "2022-12-22 19:24:35,927 (server:330)INFO: ----------- Starting a new training round (Round #217) -------------\n",
      "2022-12-22 19:24:35,957 (client:415)INFO: {'Role': 'Client #1', 'Round': 217, 'Results_raw': {'test_loss': nan, 'test_avg_loss': nan, 'test_total': 113, 'val_loss': nan, 'val_avg_loss': nan, 'val_total': 113}}\n",
      "2022-12-22 19:24:35,958 (monitor:936)INFO: Current best: {'test_loss': 229.135253, 'test_avg_loss': 2.027746, 'test_total': 113, 'val_loss': 171.217324, 'val_avg_loss': 1.515198, 'val_total': 113}\n",
      "2022-12-22 19:24:36,106 (client:260)INFO: {'Role': 'Client #1', 'Round': 217, 'Results_raw': {'train_loss': nan, 'train_avg_loss': nan, 'train_total': 901}}\n",
      "2022-12-22 19:24:36,109 (server:496)INFO: {'Role': 'Server #', 'Round': 217, 'Results_avg': {'test_loss': nan, 'test_avg_loss': nan, 'test_total': 113.0, 'val_loss': nan, 'val_avg_loss': nan, 'val_total': 113.0}}\n",
      "2022-12-22 19:24:36,111 (monitor:936)INFO: Current best: {'test_loss': 229.135253, 'test_avg_loss': 2.027746, 'test_total': 113.0, 'val_loss': 171.217324, 'val_avg_loss': 1.515198, 'val_total': 113.0}\n",
      "2022-12-22 19:24:36,114 (monitor:936)INFO: Current best: {'test_loss': 229.135253, 'test_avg_loss': 2.027746, 'test_total': 113.0, 'val_loss': 171.217324, 'val_avg_loss': 1.515198, 'val_total': 113.0}\n",
      "2022-12-22 19:24:36,118 (server:323)INFO: Server #0: Starting evaluation at the end of round 217.\n",
      "2022-12-22 19:24:36,123 (server:330)INFO: ----------- Starting a new training round (Round #218) -------------\n",
      "2022-12-22 19:24:36,152 (client:415)INFO: {'Role': 'Client #1', 'Round': 218, 'Results_raw': {'test_loss': nan, 'test_avg_loss': nan, 'test_total': 113, 'val_loss': nan, 'val_avg_loss': nan, 'val_total': 113}}\n",
      "2022-12-22 19:24:36,153 (monitor:936)INFO: Current best: {'test_loss': 229.135253, 'test_avg_loss': 2.027746, 'test_total': 113, 'val_loss': 171.217324, 'val_avg_loss': 1.515198, 'val_total': 113}\n",
      "2022-12-22 19:24:36,296 (client:260)INFO: {'Role': 'Client #1', 'Round': 218, 'Results_raw': {'train_loss': nan, 'train_avg_loss': nan, 'train_total': 901}}\n",
      "2022-12-22 19:24:36,298 (server:496)INFO: {'Role': 'Server #', 'Round': 218, 'Results_avg': {'test_loss': nan, 'test_avg_loss': nan, 'test_total': 113.0, 'val_loss': nan, 'val_avg_loss': nan, 'val_total': 113.0}}\n",
      "2022-12-22 19:24:36,298 (monitor:936)INFO: Current best: {'test_loss': 229.135253, 'test_avg_loss': 2.027746, 'test_total': 113.0, 'val_loss': 171.217324, 'val_avg_loss': 1.515198, 'val_total': 113.0}\n",
      "2022-12-22 19:24:36,300 (monitor:936)INFO: Current best: {'test_loss': 229.135253, 'test_avg_loss': 2.027746, 'test_total': 113.0, 'val_loss': 171.217324, 'val_avg_loss': 1.515198, 'val_total': 113.0}\n",
      "2022-12-22 19:24:36,302 (server:323)INFO: Server #0: Starting evaluation at the end of round 218.\n",
      "2022-12-22 19:24:36,303 (server:330)INFO: ----------- Starting a new training round (Round #219) -------------\n",
      "2022-12-22 19:24:36,339 (client:415)INFO: {'Role': 'Client #1', 'Round': 219, 'Results_raw': {'test_loss': nan, 'test_avg_loss': nan, 'test_total': 113, 'val_loss': nan, 'val_avg_loss': nan, 'val_total': 113}}\n",
      "2022-12-22 19:24:36,340 (monitor:936)INFO: Current best: {'test_loss': 229.135253, 'test_avg_loss': 2.027746, 'test_total': 113, 'val_loss': 171.217324, 'val_avg_loss': 1.515198, 'val_total': 113}\n"
     ]
    }
   ],
   "source": [
    "clients = range(1, 16+1)\n",
    "lrs = [0.1, 0.0001]\n",
    "num_trainings = 3\n",
    "for client in clients:\n",
    "    for lr in lrs:\n",
    "        print(f\"Client: {client},\\tlr: {lr}\")\n",
    "        for i in range(num_trainings):\n",
    "            print(f\"training run: {i+1}\")\n",
    "            train(client, lr)"
   ],
   "metadata": {
    "collapsed": false,
    "pycharm": {
     "is_executing": true
    }
   }
  },
  {
   "cell_type": "code",
   "execution_count": 2,
   "outputs": [
    {
     "name": "stderr",
     "output_type": "stream",
     "text": [
      "2022-12-22 19:14:26,477 (cfg_fl_setting:104)WARNING: In local/global training mode, the sampling related configs are in-valid, we will use all clients. \n",
      "2022-12-22 19:14:26,480 (utils:130)INFO: the current machine is at 127.0.1.1\n",
      "2022-12-22 19:14:26,480 (utils:132)INFO: the current dir is /home/michael/Projects/CKIM_Competition\n",
      "2022-12-22 19:14:26,481 (utils:133)INFO: the output dir is exp/CLIENT_5/local_gin_on_graph-dt_lr0.01_lstep1_/sub_exp_20221222191426\n",
      "2022-12-22 19:14:30,187 (cfg_fl_setting:104)WARNING: In local/global training mode, the sampling related configs are in-valid, we will use all clients. \n",
      "2022-12-22 19:14:30,188 (cfg_fl_setting:104)WARNING: In local/global training mode, the sampling related configs are in-valid, we will use all clients. \n",
      "2022-12-22 19:14:30,210 (config:261)INFO: the used configs are: \n",
      "asyn:\n",
      "  min_received_num: 1\n",
      "  min_received_rate: -1.0\n",
      "  timeout: 0\n",
      "  use: True\n",
      "attack:\n",
      "  alpha_TV: 0.001\n",
      "  alpha_prop_loss: 0\n",
      "  attack_method: \n",
      "  attacker_id: -1\n",
      "  classifier_PIA: randomforest\n",
      "  info_diff_type: l2\n",
      "  inject_round: 0\n",
      "  max_ite: 400\n",
      "  reconstruct_lr: 0.01\n",
      "  reconstruct_optim: Adam\n",
      "  target_label_ind: -1\n",
      "backend: torch\n",
      "cfg_file: \n",
      "criterion:\n",
      "  type: CrossEntropyLoss\n",
      "data:\n",
      "  args: []\n",
      "  batch_size: 64\n",
      "  cSBM_phi: [0.5, 0.5, 0.5]\n",
      "  client: 5\n",
      "  consistent_label_distribution: False\n",
      "  drop_last: False\n",
      "  graphsaint:\n",
      "    num_steps: 30\n",
      "    walk_length: 2\n",
      "  loader: \n",
      "  num_workers: 0\n",
      "  pre_transform: []\n",
      "  quadratic:\n",
      "    dim: 1\n",
      "    max_curv: 12.5\n",
      "    min_curv: 0.02\n",
      "  root: data/\n",
      "  server_holds_all: False\n",
      "  shuffle: True\n",
      "  sizes: [10, 5]\n",
      "  splits: [0.8, 0.1, 0.1]\n",
      "  splitter: ooxx\n",
      "  splitter_args: []\n",
      "  subsample: 1.0\n",
      "  target_transform: []\n",
      "  transform: []\n",
      "  type: graph-dt\n",
      "device: 0\n",
      "distribute:\n",
      "  use: False\n",
      "early_stop:\n",
      "  delta: 0.0\n",
      "  improve_indicator_mode: best\n",
      "  patience: 50\n",
      "  the_smaller_the_better: True\n",
      "eval:\n",
      "  base: 0.0\n",
      "  best_res_update_round_wise_key: val_loss\n",
      "  count_flops: False\n",
      "  freq: 1\n",
      "  metrics: []\n",
      "  monitoring: []\n",
      "  report: ['avg']\n",
      "  save_data: False\n",
      "  split: ['test', 'val']\n",
      "expname: local_gin_on_graph-dt_lr0.01_lstep1_\n",
      "expname_tag: \n",
      "federate:\n",
      "  client_num: 1\n",
      "  data_weighted_aggr: False\n",
      "  ignore_weight: False\n",
      "  join_in_info: []\n",
      "  make_global_eval: False\n",
      "  method: local\n",
      "  mode: standalone\n",
      "  online_aggr: False\n",
      "  restore_from: \n",
      "  sample_client_num: 1\n",
      "  sample_client_rate: -1.0\n",
      "  sampler: uniform\n",
      "  save_to: \n",
      "  share_local_model: False\n",
      "  total_round_num: 10000\n",
      "  unseen_clients_rate: 0.0\n",
      "  use_diff: False\n",
      "  use_ss: False\n",
      "fedopt:\n",
      "  use: False\n",
      "fedprox:\n",
      "  use: False\n",
      "fedsageplus:\n",
      "  a: 1.0\n",
      "  b: 1.0\n",
      "  c: 1.0\n",
      "  fedgen_epoch: 200\n",
      "  gen_hidden: 128\n",
      "  hide_portion: 0.5\n",
      "  loc_epoch: 1\n",
      "  num_pred: 5\n",
      "finetune:\n",
      "  batch_or_epoch: epoch\n",
      "  before_eval: False\n",
      "  freeze_param: \n",
      "  local_update_steps: 1\n",
      "  optimizer:\n",
      "    lr: 0.1\n",
      "    type: SGD\n",
      "flitplus:\n",
      "  factor_ema: 0.8\n",
      "  lambdavat: 0.5\n",
      "  tmpFed: 0.5\n",
      "  weightReg: 1.0\n",
      "gcflplus:\n",
      "  EPS_1: 0.05\n",
      "  EPS_2: 0.1\n",
      "  seq_length: 5\n",
      "  standardize: False\n",
      "grad:\n",
      "  grad_clip: -1.0\n",
      "hpo:\n",
      "  fedex:\n",
      "    cutoff: 0.0\n",
      "    diff: False\n",
      "    eta0: -1.0\n",
      "    flatten_ss: True\n",
      "    gamma: 0.0\n",
      "    num_arms: 16\n",
      "    sched: auto\n",
      "    ss: \n",
      "    use: False\n",
      "  init_cand_num: 16\n",
      "  larger_better: False\n",
      "  log_scale: False\n",
      "  metric: client_summarized_weighted_avg.val_loss\n",
      "  num_workers: 0\n",
      "  pbt:\n",
      "    max_stage: 5\n",
      "    perf_threshold: 0.1\n",
      "  plot_interval: 1\n",
      "  scheduler: rs\n",
      "  sha:\n",
      "    budgets: []\n",
      "    elim_rate: 3\n",
      "    elim_round_num: 3\n",
      "  ss: \n",
      "  table:\n",
      "    eps: 0.1\n",
      "    idx: 0\n",
      "    num: 27\n",
      "    ss: \n",
      "  working_folder: hpo\n",
      "maml:\n",
      "  use: False\n",
      "model:\n",
      "  dropout: 0.5\n",
      "  embed_size: 8\n",
      "  graph_pooling: mean\n",
      "  hidden: 64\n",
      "  in_channels: 0\n",
      "  layer: 2\n",
      "  model_num_per_trainer: 1\n",
      "  num_item: 0\n",
      "  num_user: 0\n",
      "  out_channels: 0\n",
      "  task: graph\n",
      "  type: gin\n",
      "  use_bias: True\n",
      "nbafl:\n",
      "  use: False\n",
      "outdir: exp/CLIENT_5/local_gin_on_graph-dt_lr0.01_lstep1_/sub_exp_20221222191426\n",
      "personalization:\n",
      "  K: 5\n",
      "  beta: 1.0\n",
      "  local_param: ['encoder_atom', 'encoder', 'clf']\n",
      "  local_update_steps: 1\n",
      "  lr: 0.1\n",
      "  regular_weight: 0.1\n",
      "  share_non_trainable_para: False\n",
      "print_decimal_digits: 6\n",
      "regularizer:\n",
      "  mu: 0.0\n",
      "  type: \n",
      "seed: 0\n",
      "sgdmf:\n",
      "  use: False\n",
      "train:\n",
      "  batch_or_epoch: epoch\n",
      "  local_update_steps: 1\n",
      "  optimizer:\n",
      "    lr: 0.01\n",
      "    type: SGD\n",
      "    weight_decay: 0.0005\n",
      "trainer:\n",
      "  type: graphminibatch_trainer\n",
      "use_gpu: True\n",
      "verbose: 1\n",
      "vertical:\n",
      "  use: False\n",
      "wandb:\n",
      "  use: False\n"
     ]
    }
   ],
   "source": [
    "cfg_file = 'scripts/B-FHTL_exp_scripts/Graph-DT/isolated.yaml'\n",
    "cfg_client = 'scripts/B-FHTL_exp_scripts/Graph-DT/cfg_per_client_isolated.yaml'\n",
    "#'scripts/B-FHTL_exp_scripts/Graph-DT/cfg_per_client.yaml'\n",
    "\n",
    "init_cfg = global_cfg.clone()\n",
    "init_cfg.merge_from_file(cfg_file)\n",
    "\n",
    "# init_cfg.data.subdirectory = 'graph_dt_backup/processed'\n",
    "# init_cfg.merge_from_list(args.opts)\n",
    "init_cfg.data.client = 5\n",
    "init_cfg.train.optimizer.lr = 0.01\n",
    "update_logger(init_cfg)\n",
    "setup_seed(init_cfg.seed)\n",
    "\n",
    "# federated dataset might change the number of clients\n",
    "# thus, we allow the creation procedure of dataset to modify the global cfg object\n",
    "data, modified_cfg = get_data(config=init_cfg.clone())\n",
    "init_cfg.merge_from_other_cfg(modified_cfg)\n",
    "\n",
    "init_cfg.freeze()\n",
    "\n",
    "# allow different settings for different clients\n",
    "# cfg_client.merge_from_file(args.cfg_client)\n",
    "if cfg_client is None:\n",
    "    cfg_client = None\n",
    "else:\n",
    "    cfg_client = CfgNode.load_cfg(open(cfg_client, 'r')).clone()\n",
    "\n"
   ],
   "metadata": {
    "collapsed": false
   }
  },
  {
   "cell_type": "code",
   "execution_count": 2,
   "outputs": [],
   "source": [],
   "metadata": {
    "collapsed": false
   }
  },
  {
   "cell_type": "code",
   "execution_count": 3,
   "outputs": [
    {
     "name": "stderr",
     "output_type": "stream",
     "text": [
      "/home/michael/Projects/CKIM_other/CIKM22_FL_Competition/venv/lib/python3.9/site-packages/torch/nn/init.py:405: UserWarning: Initializing zero-element tensors is a no-op\n",
      "  warnings.warn(\"Initializing zero-element tensors is a no-op\")\n",
      "2022-12-22 19:14:30,329 (fed_runner:249)INFO: Server #0 has been set up ... \n",
      "2022-12-22 19:14:30,331 (cfg_fl_setting:104)WARNING: In local/global training mode, the sampling related configs are in-valid, we will use all clients. \n",
      "2022-12-22 19:14:30,332 (cfg_fl_setting:104)WARNING: In local/global training mode, the sampling related configs are in-valid, we will use all clients. \n",
      "2022-12-22 19:14:30,349 (config:261)INFO: the used configs are: \n",
      "asyn:\n",
      "  min_received_num: 1\n",
      "  min_received_rate: -1.0\n",
      "  timeout: 0\n",
      "  use: True\n",
      "attack:\n",
      "  alpha_TV: 0.001\n",
      "  alpha_prop_loss: 0\n",
      "  attack_method: \n",
      "  attacker_id: -1\n",
      "  classifier_PIA: randomforest\n",
      "  info_diff_type: l2\n",
      "  inject_round: 0\n",
      "  max_ite: 400\n",
      "  reconstruct_lr: 0.01\n",
      "  reconstruct_optim: Adam\n",
      "  target_label_ind: -1\n",
      "backend: torch\n",
      "cfg_file: \n",
      "criterion:\n",
      "  type: CrossEntropyLoss\n",
      "data:\n",
      "  args: []\n",
      "  batch_size: 64\n",
      "  cSBM_phi: [0.5, 0.5, 0.5]\n",
      "  client: 5\n",
      "  consistent_label_distribution: False\n",
      "  drop_last: False\n",
      "  graphsaint:\n",
      "    num_steps: 30\n",
      "    walk_length: 2\n",
      "  loader: \n",
      "  num_workers: 0\n",
      "  pre_transform: []\n",
      "  quadratic:\n",
      "    dim: 1\n",
      "    max_curv: 12.5\n",
      "    min_curv: 0.02\n",
      "  root: data/\n",
      "  server_holds_all: False\n",
      "  shuffle: True\n",
      "  sizes: [10, 5]\n",
      "  splits: [0.8, 0.1, 0.1]\n",
      "  splitter: ooxx\n",
      "  splitter_args: []\n",
      "  subsample: 1.0\n",
      "  target_transform: []\n",
      "  transform: []\n",
      "  type: graph-dt\n",
      "device: 0\n",
      "distribute:\n",
      "  use: False\n",
      "early_stop:\n",
      "  delta: 0.0\n",
      "  improve_indicator_mode: best\n",
      "  patience: 50\n",
      "  the_smaller_the_better: True\n",
      "eval:\n",
      "  base: 0.766\n",
      "  best_res_update_round_wise_key: val_avg_loss\n",
      "  count_flops: False\n",
      "  freq: 1\n",
      "  metrics: ['loss', 'acc']\n",
      "  monitoring: []\n",
      "  report: ['avg']\n",
      "  save_data: False\n",
      "  split: ['test', 'val']\n",
      "expname: local_gin_on_graph-dt_lr0.01_lstep1_\n",
      "expname_tag: \n",
      "federate:\n",
      "  client_num: 1\n",
      "  data_weighted_aggr: False\n",
      "  ignore_weight: False\n",
      "  join_in_info: []\n",
      "  make_global_eval: False\n",
      "  method: local\n",
      "  mode: standalone\n",
      "  online_aggr: False\n",
      "  restore_from: \n",
      "  sample_client_num: 1\n",
      "  sample_client_rate: -1.0\n",
      "  sampler: uniform\n",
      "  save_to: \n",
      "  share_local_model: False\n",
      "  total_round_num: 10000\n",
      "  unseen_clients_rate: 0.0\n",
      "  use_diff: False\n",
      "  use_ss: False\n",
      "fedopt:\n",
      "  use: False\n",
      "fedprox:\n",
      "  use: False\n",
      "fedsageplus:\n",
      "  a: 1.0\n",
      "  b: 1.0\n",
      "  c: 1.0\n",
      "  fedgen_epoch: 200\n",
      "  gen_hidden: 128\n",
      "  hide_portion: 0.5\n",
      "  loc_epoch: 1\n",
      "  num_pred: 5\n",
      "finetune:\n",
      "  batch_or_epoch: epoch\n",
      "  before_eval: False\n",
      "  freeze_param: \n",
      "  local_update_steps: 1\n",
      "  optimizer:\n",
      "    lr: 0.1\n",
      "    type: SGD\n",
      "flitplus:\n",
      "  factor_ema: 0.8\n",
      "  lambdavat: 0.5\n",
      "  tmpFed: 0.5\n",
      "  weightReg: 1.0\n",
      "gcflplus:\n",
      "  EPS_1: 0.05\n",
      "  EPS_2: 0.1\n",
      "  seq_length: 5\n",
      "  standardize: False\n",
      "grad:\n",
      "  grad_clip: -1.0\n",
      "hpo:\n",
      "  fedex:\n",
      "    cutoff: 0.0\n",
      "    diff: False\n",
      "    eta0: -1.0\n",
      "    flatten_ss: True\n",
      "    gamma: 0.0\n",
      "    num_arms: 16\n",
      "    sched: auto\n",
      "    ss: \n",
      "    use: False\n",
      "  init_cand_num: 16\n",
      "  larger_better: False\n",
      "  log_scale: False\n",
      "  metric: client_summarized_weighted_avg.val_loss\n",
      "  num_workers: 0\n",
      "  pbt:\n",
      "    max_stage: 5\n",
      "    perf_threshold: 0.1\n",
      "  plot_interval: 1\n",
      "  scheduler: rs\n",
      "  sha:\n",
      "    budgets: []\n",
      "    elim_rate: 3\n",
      "    elim_round_num: 3\n",
      "  ss: \n",
      "  table:\n",
      "    eps: 0.1\n",
      "    idx: 0\n",
      "    num: 27\n",
      "    ss: \n",
      "  working_folder: hpo\n",
      "maml:\n",
      "  use: False\n",
      "model:\n",
      "  dropout: 0.5\n",
      "  embed_size: 8\n",
      "  graph_pooling: mean\n",
      "  hidden: 64\n",
      "  in_channels: 0\n",
      "  layer: 2\n",
      "  model_num_per_trainer: 1\n",
      "  num_item: 0\n",
      "  num_user: 0\n",
      "  out_channels: 2\n",
      "  task: graphClassification\n",
      "  type: gin\n",
      "  use_bias: True\n",
      "nbafl:\n",
      "  use: False\n",
      "outdir: exp/CLIENT_5/local_gin_on_graph-dt_lr0.01_lstep1_/sub_exp_20221222191426\n",
      "personalization:\n",
      "  K: 5\n",
      "  beta: 1.0\n",
      "  local_param: ['encoder_atom', 'encoder', 'clf']\n",
      "  local_update_steps: 1\n",
      "  lr: 0.1\n",
      "  regular_weight: 0.1\n",
      "  share_non_trainable_para: False\n",
      "print_decimal_digits: 6\n",
      "regularizer:\n",
      "  mu: 0.0\n",
      "  type: \n",
      "seed: 0\n",
      "sgdmf:\n",
      "  use: False\n",
      "train:\n",
      "  batch_or_epoch: epoch\n",
      "  local_update_steps: 1\n",
      "  optimizer:\n",
      "    lr: 0.01\n",
      "    type: SGD\n",
      "    weight_decay: 0.0005\n",
      "trainer:\n",
      "  type: graphminibatch_trainer\n",
      "use_gpu: True\n",
      "verbose: 1\n",
      "vertical:\n",
      "  use: False\n",
      "wandb:\n",
      "  use: False\n",
      "2022-12-22 19:14:30,364 (fed_runner:304)INFO: Client 1 has been set up ... \n",
      "2022-12-22 19:14:30,365 (trainer:324)INFO: Model meta-info: <class 'federatedscope.gfl.model.graph_level.GNN_Net_Graph'>.\n",
      "2022-12-22 19:14:30,367 (trainer:332)INFO: Num of original para names: 58.\n",
      "2022-12-22 19:14:30,368 (trainer:333)INFO: Num of original trainable para names: 44.\n",
      "2022-12-22 19:14:30,370 (trainer:335)INFO: Num of preserved para names in local update: 0. \n",
      "Preserved para names in local update: set().\n",
      "2022-12-22 19:14:30,371 (trainer:339)INFO: Num of filtered para names in local update: 58. \n",
      "Filtered para names in local update: {'linear.0.weight', 'gnn.convs.0.nn.norms.1.weight', 'gnn.convs.0.nn.linears.1.bias', 'gnn.convs.1.eps', 'encoder_atom.atom_embedding_list.13.weight', 'encoder_atom.atom_embedding_list.21.weight', 'gnn.convs.1.nn.linears.1.bias', 'gnn.convs.1.nn.norms.0.running_var', 'gnn.convs.1.nn.norms.0.bias', 'encoder_atom.atom_embedding_list.18.weight', 'encoder_atom.atom_embedding_list.17.weight', 'encoder_atom.atom_embedding_list.0.weight', 'gnn.convs.1.nn.norms.1.running_mean', 'gnn.convs.1.nn.linears.0.bias', 'gnn.convs.0.eps', 'encoder_atom.atom_embedding_list.5.weight', 'gnn.convs.1.nn.norms.1.weight', 'encoder_atom.atom_embedding_list.8.weight', 'encoder_atom.atom_embedding_list.1.weight', 'encoder_atom.atom_embedding_list.12.weight', 'encoder_atom.atom_embedding_list.7.weight', 'gnn.convs.0.nn.linears.0.weight', 'encoder_atom.atom_embedding_list.11.weight', 'gnn.convs.0.nn.linears.0.bias', 'gnn.convs.0.nn.norms.1.running_mean', 'encoder.weight', 'encoder_atom.atom_embedding_list.20.weight', 'encoder_atom.atom_embedding_list.14.weight', 'encoder_atom.atom_embedding_list.10.weight', 'encoder.bias', 'gnn.convs.1.nn.linears.0.weight', 'gnn.convs.0.nn.norms.1.num_batches_tracked', 'clf.weight', 'gnn.convs.1.nn.norms.0.weight', 'gnn.convs.0.nn.linears.1.weight', 'gnn.convs.0.nn.norms.0.num_batches_tracked', 'linear.0.bias', 'encoder_atom.atom_embedding_list.9.weight', 'encoder_atom.atom_embedding_list.16.weight', 'gnn.convs.0.nn.norms.1.running_var', 'gnn.convs.0.nn.norms.1.bias', 'gnn.convs.0.nn.norms.0.running_var', 'gnn.convs.1.nn.norms.1.num_batches_tracked', 'gnn.convs.1.nn.norms.1.bias', 'encoder_atom.atom_embedding_list.15.weight', 'gnn.convs.0.nn.norms.0.bias', 'gnn.convs.1.nn.norms.0.num_batches_tracked', 'gnn.convs.0.nn.norms.0.running_mean', 'encoder_atom.atom_embedding_list.6.weight', 'gnn.convs.1.nn.norms.0.running_mean', 'gnn.convs.0.nn.norms.0.weight', 'gnn.convs.1.nn.norms.1.running_var', 'encoder_atom.atom_embedding_list.2.weight', 'clf.bias', 'encoder_atom.atom_embedding_list.19.weight', 'encoder_atom.atom_embedding_list.3.weight', 'encoder_atom.atom_embedding_list.4.weight', 'gnn.convs.1.nn.linears.1.weight'}.\n",
      "2022-12-22 19:14:30,373 (trainer:344)INFO: After register default hooks,\n",
      "\tthe hooks_in_train is:\n",
      "\t{\n",
      "\t  \"on_fit_start\": [\n",
      "\t    \"_hook_on_fit_start_init\",\n",
      "\t    \"_hook_on_fit_start_calculate_model_size\"\n",
      "\t  ],\n",
      "\t  \"on_epoch_start\": [\n",
      "\t    \"_hook_on_epoch_start\"\n",
      "\t  ],\n",
      "\t  \"on_batch_start\": [\n",
      "\t    \"_hook_on_batch_start_init\"\n",
      "\t  ],\n",
      "\t  \"on_batch_forward\": [\n",
      "\t    \"_hook_on_batch_forward\",\n",
      "\t    \"_hook_on_batch_forward_regularizer\",\n",
      "\t    \"_hook_on_batch_forward_flop_count\"\n",
      "\t  ],\n",
      "\t  \"on_batch_backward\": [\n",
      "\t    \"_hook_on_batch_backward\"\n",
      "\t  ],\n",
      "\t  \"on_batch_end\": [\n",
      "\t    \"_hook_on_batch_end\"\n",
      "\t  ],\n",
      "\t  \"on_fit_end\": [\n",
      "\t    \"_hook_on_fit_end\"\n",
      "\t  ]\n",
      "\t};\n",
      "\tthe hooks_in_eval is:\n",
      "            t{\n",
      "\t  \"on_fit_start\": [\n",
      "\t    \"_hook_on_fit_start_init\"\n",
      "\t  ],\n",
      "\t  \"on_epoch_start\": [\n",
      "\t    \"_hook_on_epoch_start\"\n",
      "\t  ],\n",
      "\t  \"on_batch_start\": [\n",
      "\t    \"_hook_on_batch_start_init\"\n",
      "\t  ],\n",
      "\t  \"on_batch_forward\": [\n",
      "\t    \"_hook_on_batch_forward\"\n",
      "\t  ],\n",
      "\t  \"on_batch_end\": [\n",
      "\t    \"_hook_on_batch_end\"\n",
      "\t  ],\n",
      "\t  \"on_fit_end\": [\n",
      "\t    \"_hook_on_fit_end\"\n",
      "\t  ]\n",
      "\t}\n",
      "2022-12-22 19:14:30,380 (server:644)INFO: ----------- Starting training (Round #0) -------------\n"
     ]
    },
    {
     "name": "stdout",
     "output_type": "stream",
     "text": [
      "track_running_stats: True\n",
      "track_running_stats: True\n",
      "track_running_stats: True\n",
      "track_running_stats: True\n",
      "track_running_stats: True\n",
      "track_running_stats: True\n",
      "track_running_stats: True\n",
      "track_running_stats: True\n"
     ]
    },
    {
     "name": "stderr",
     "output_type": "stream",
     "text": [
      "2022-12-22 19:14:32,644 (client:260)INFO: {'Role': 'Client #1', 'Round': 0, 'Results_raw': {'train_acc': 0.613121, 'train_avg_loss': 0.673806, 'train_loss': 1098.977693, 'train_total': 1631}}\n",
      "2022-12-22 19:14:32,646 (server:323)INFO: Server #0: Starting evaluation at the end of round 0.\n",
      "2022-12-22 19:14:32,646 (server:330)INFO: ----------- Starting a new training round (Round #1) -------------\n",
      "2022-12-22 19:14:32,702 (client:415)INFO: {'Role': 'Client #1', 'Round': 1, 'Results_raw': {'test_acc': 0.745098, 'test_avg_loss': 0.653336, 'test_loss': 133.280626, 'test_total': 204, 'val_acc': 0.77451, 'val_avg_loss': 0.648659, 'val_loss': 132.326364, 'val_total': 204}}\n",
      "2022-12-22 19:14:32,703 (monitor:936)INFO: Current best: {'test_acc': 0.745098, 'test_avg_loss': 0.653336, 'test_loss': 133.280626, 'test_total': 204, 'val_acc': 0.77451, 'val_avg_loss': 0.648659, 'val_loss': 132.326364, 'val_total': 204}\n"
     ]
    },
    {
     "name": "stdout",
     "output_type": "stream",
     "text": [
      "no improve counter: 0\n",
      "self.best_metric: 0.6486586460880205\n"
     ]
    },
    {
     "name": "stderr",
     "output_type": "stream",
     "text": [
      "2022-12-22 19:14:32,957 (client:260)INFO: {'Role': 'Client #1', 'Round': 1, 'Results_raw': {'train_acc': 0.754752, 'train_avg_loss': 0.625892, 'train_loss': 1020.829178, 'train_total': 1631}}\n",
      "2022-12-22 19:14:32,958 (server:496)INFO: {'Role': 'Server #', 'Round': 1, 'Results_avg': {'test_acc': 0.745098, 'test_avg_loss': 0.653336, 'test_loss': 133.280626, 'test_total': 204.0, 'val_acc': 0.77451, 'val_avg_loss': 0.648659, 'val_loss': 132.326364, 'val_total': 204.0}}\n",
      "2022-12-22 19:14:32,960 (monitor:936)INFO: Current best: {'test_acc': [0.745098], 'test_avg_loss': [0.653336], 'test_loss': [133.280626], 'test_total': [204.0], 'val_acc': [0.77451], 'val_avg_loss': [0.648659], 'val_loss': [132.326364], 'val_total': [204.0]}\n",
      "2022-12-22 19:14:32,963 (monitor:936)INFO: Current best: {'test_acc': 0.745098, 'test_avg_loss': 0.653336, 'test_loss': 133.280626, 'test_total': 204.0, 'val_acc': 0.77451, 'val_avg_loss': 0.648659, 'val_loss': 132.326364, 'val_total': 204.0}\n",
      "2022-12-22 19:14:32,967 (server:323)INFO: Server #0: Starting evaluation at the end of round 1.\n",
      "2022-12-22 19:14:32,967 (server:330)INFO: ----------- Starting a new training round (Round #2) -------------\n",
      "2022-12-22 19:14:33,038 (client:415)INFO: {'Role': 'Client #1', 'Round': 2, 'Results_raw': {'test_acc': 0.745098, 'test_avg_loss': 0.615676, 'test_loss': 125.597825, 'test_total': 204, 'val_acc': 0.77451, 'val_avg_loss': 0.607163, 'val_loss': 123.861318, 'val_total': 204}}\n",
      "2022-12-22 19:14:33,039 (monitor:936)INFO: Current best: {'test_acc': 0.745098, 'test_avg_loss': 0.615676, 'test_loss': 125.597825, 'test_total': 204, 'val_acc': 0.77451, 'val_avg_loss': 0.607163, 'val_loss': 123.861318, 'val_total': 204}\n"
     ]
    },
    {
     "name": "stdout",
     "output_type": "stream",
     "text": [
      "no improve counter: 0\n",
      "self.best_metric: 132.32636380195618\n",
      "no improve counter: 0\n",
      "self.best_metric: 0.6071633252443052\n"
     ]
    },
    {
     "name": "stderr",
     "output_type": "stream",
     "text": [
      "2022-12-22 19:14:33,319 (client:260)INFO: {'Role': 'Client #1', 'Round': 2, 'Results_raw': {'train_acc': 0.765175, 'train_avg_loss': 0.592472, 'train_loss': 966.321698, 'train_total': 1631}}\n",
      "2022-12-22 19:14:33,321 (server:496)INFO: {'Role': 'Server #', 'Round': 2, 'Results_avg': {'test_acc': 0.745098, 'test_avg_loss': 0.615676, 'test_loss': 125.597825, 'test_total': 204.0, 'val_acc': 0.77451, 'val_avg_loss': 0.607163, 'val_loss': 123.861318, 'val_total': 204.0}}\n",
      "2022-12-22 19:14:33,322 (monitor:936)INFO: Current best: {'test_acc': [0.745098], 'test_avg_loss': [0.615676], 'test_loss': [125.597825], 'test_total': [204.0], 'val_acc': [0.77451], 'val_avg_loss': [0.607163], 'val_loss': [123.861318], 'val_total': [204.0]}\n",
      "2022-12-22 19:14:33,325 (monitor:936)INFO: Current best: {'test_acc': 0.745098, 'test_avg_loss': 0.615676, 'test_loss': 125.597825, 'test_total': 204.0, 'val_acc': 0.77451, 'val_avg_loss': 0.607163, 'val_loss': 123.861318, 'val_total': 204.0}\n",
      "2022-12-22 19:14:33,327 (server:323)INFO: Server #0: Starting evaluation at the end of round 2.\n",
      "2022-12-22 19:14:33,328 (server:330)INFO: ----------- Starting a new training round (Round #3) -------------\n",
      "2022-12-22 19:14:33,378 (client:415)INFO: {'Role': 'Client #1', 'Round': 3, 'Results_raw': {'test_acc': 0.745098, 'test_avg_loss': 0.589748, 'test_loss': 120.308682, 'test_total': 204, 'val_acc': 0.77451, 'val_avg_loss': 0.575549, 'val_loss': 117.412068, 'val_total': 204}}\n",
      "2022-12-22 19:14:33,380 (monitor:936)INFO: Current best: {'test_acc': 0.745098, 'test_avg_loss': 0.589748, 'test_loss': 120.308682, 'test_total': 204, 'val_acc': 0.77451, 'val_avg_loss': 0.575549, 'val_loss': 117.412068, 'val_total': 204}\n"
     ]
    },
    {
     "name": "stdout",
     "output_type": "stream",
     "text": [
      "no improve counter: 0\n",
      "self.best_metric: 123.86131834983826\n",
      "no improve counter: 0\n",
      "self.best_metric: 0.575549351234062\n"
     ]
    },
    {
     "name": "stderr",
     "output_type": "stream",
     "text": [
      "2022-12-22 19:14:33,632 (client:260)INFO: {'Role': 'Client #1', 'Round': 3, 'Results_raw': {'train_acc': 0.767014, 'train_avg_loss': 0.568831, 'train_loss': 927.763277, 'train_total': 1631}}\n",
      "2022-12-22 19:14:33,634 (server:496)INFO: {'Role': 'Server #', 'Round': 3, 'Results_avg': {'test_acc': 0.745098, 'test_avg_loss': 0.589748, 'test_loss': 120.308682, 'test_total': 204.0, 'val_acc': 0.77451, 'val_avg_loss': 0.575549, 'val_loss': 117.412068, 'val_total': 204.0}}\n",
      "2022-12-22 19:14:33,636 (monitor:936)INFO: Current best: {'test_acc': [0.745098], 'test_avg_loss': [0.589748], 'test_loss': [120.308682], 'test_total': [204.0], 'val_acc': [0.77451], 'val_avg_loss': [0.575549], 'val_loss': [117.412068], 'val_total': [204.0]}\n",
      "2022-12-22 19:14:33,638 (monitor:936)INFO: Current best: {'test_acc': 0.745098, 'test_avg_loss': 0.589748, 'test_loss': 120.308682, 'test_total': 204.0, 'val_acc': 0.77451, 'val_avg_loss': 0.575549, 'val_loss': 117.412068, 'val_total': 204.0}\n",
      "2022-12-22 19:14:33,643 (server:323)INFO: Server #0: Starting evaluation at the end of round 3.\n",
      "2022-12-22 19:14:33,644 (server:330)INFO: ----------- Starting a new training round (Round #4) -------------\n",
      "2022-12-22 19:14:33,700 (client:415)INFO: {'Role': 'Client #1', 'Round': 4, 'Results_raw': {'test_acc': 0.745098, 'test_avg_loss': 0.570533, 'test_loss': 116.388681, 'test_total': 204, 'val_acc': 0.77451, 'val_avg_loss': 0.550543, 'val_loss': 112.310763, 'val_total': 204}}\n",
      "2022-12-22 19:14:33,701 (monitor:936)INFO: Current best: {'test_acc': 0.745098, 'test_avg_loss': 0.570533, 'test_loss': 116.388681, 'test_total': 204, 'val_acc': 0.77451, 'val_avg_loss': 0.550543, 'val_loss': 112.310763, 'val_total': 204}\n"
     ]
    },
    {
     "name": "stdout",
     "output_type": "stream",
     "text": [
      "no improve counter: 0\n",
      "self.best_metric: 117.41206765174866\n",
      "no improve counter: 0\n",
      "self.best_metric: 0.5505429547207028\n"
     ]
    },
    {
     "name": "stderr",
     "output_type": "stream",
     "text": [
      "2022-12-22 19:14:33,969 (client:260)INFO: {'Role': 'Client #1', 'Round': 4, 'Results_raw': {'train_acc': 0.766401, 'train_avg_loss': 0.549446, 'train_loss': 896.14615, 'train_total': 1631}}\n",
      "2022-12-22 19:14:33,971 (server:496)INFO: {'Role': 'Server #', 'Round': 4, 'Results_avg': {'test_acc': 0.745098, 'test_avg_loss': 0.570533, 'test_loss': 116.388681, 'test_total': 204.0, 'val_acc': 0.77451, 'val_avg_loss': 0.550543, 'val_loss': 112.310763, 'val_total': 204.0}}\n",
      "2022-12-22 19:14:33,972 (monitor:936)INFO: Current best: {'test_acc': [0.745098], 'test_avg_loss': [0.570533], 'test_loss': [116.388681], 'test_total': [204.0], 'val_acc': [0.77451], 'val_avg_loss': [0.550543], 'val_loss': [112.310763], 'val_total': [204.0]}\n",
      "2022-12-22 19:14:33,973 (monitor:936)INFO: Current best: {'test_acc': 0.745098, 'test_avg_loss': 0.570533, 'test_loss': 116.388681, 'test_total': 204.0, 'val_acc': 0.77451, 'val_avg_loss': 0.550543, 'val_loss': 112.310763, 'val_total': 204.0}\n",
      "2022-12-22 19:14:33,976 (server:323)INFO: Server #0: Starting evaluation at the end of round 4.\n",
      "2022-12-22 19:14:33,977 (server:330)INFO: ----------- Starting a new training round (Round #5) -------------\n",
      "2022-12-22 19:14:34,045 (client:415)INFO: {'Role': 'Client #1', 'Round': 5, 'Results_raw': {'test_acc': 0.745098, 'test_avg_loss': 0.557127, 'test_loss': 113.653933, 'test_total': 204, 'val_acc': 0.77451, 'val_avg_loss': 0.535254, 'val_loss': 109.19181, 'val_total': 204}}\n",
      "2022-12-22 19:14:34,046 (monitor:936)INFO: Current best: {'test_acc': 0.745098, 'test_avg_loss': 0.557127, 'test_loss': 113.653933, 'test_total': 204, 'val_acc': 0.77451, 'val_avg_loss': 0.535254, 'val_loss': 109.19181, 'val_total': 204}\n"
     ]
    },
    {
     "name": "stdout",
     "output_type": "stream",
     "text": [
      "no improve counter: 0\n",
      "self.best_metric: 112.31076276302338\n",
      "no improve counter: 0\n",
      "self.best_metric: 0.53525397123075\n"
     ]
    },
    {
     "name": "stderr",
     "output_type": "stream",
     "text": [
      "2022-12-22 19:14:34,327 (client:260)INFO: {'Role': 'Client #1', 'Round': 5, 'Results_raw': {'train_acc': 0.766401, 'train_avg_loss': 0.538542, 'train_loss': 878.361882, 'train_total': 1631}}\n",
      "2022-12-22 19:14:34,329 (server:496)INFO: {'Role': 'Server #', 'Round': 5, 'Results_avg': {'test_acc': 0.745098, 'test_avg_loss': 0.557127, 'test_loss': 113.653933, 'test_total': 204.0, 'val_acc': 0.77451, 'val_avg_loss': 0.535254, 'val_loss': 109.19181, 'val_total': 204.0}}\n",
      "2022-12-22 19:14:34,330 (monitor:936)INFO: Current best: {'test_acc': [0.745098], 'test_avg_loss': [0.557127], 'test_loss': [113.653933], 'test_total': [204.0], 'val_acc': [0.77451], 'val_avg_loss': [0.535254], 'val_loss': [109.19181], 'val_total': [204.0]}\n",
      "2022-12-22 19:14:34,332 (monitor:936)INFO: Current best: {'test_acc': 0.745098, 'test_avg_loss': 0.557127, 'test_loss': 113.653933, 'test_total': 204.0, 'val_acc': 0.77451, 'val_avg_loss': 0.535254, 'val_loss': 109.19181, 'val_total': 204.0}\n",
      "2022-12-22 19:14:34,334 (server:323)INFO: Server #0: Starting evaluation at the end of round 5.\n",
      "2022-12-22 19:14:34,334 (server:330)INFO: ----------- Starting a new training round (Round #6) -------------\n",
      "2022-12-22 19:14:34,393 (client:415)INFO: {'Role': 'Client #1', 'Round': 6, 'Results_raw': {'test_acc': 0.745098, 'test_avg_loss': 0.548135, 'test_loss': 111.819464, 'test_total': 204, 'val_acc': 0.77451, 'val_avg_loss': 0.524502, 'val_loss': 106.998308, 'val_total': 204}}\n",
      "2022-12-22 19:14:34,394 (monitor:936)INFO: Current best: {'test_acc': 0.745098, 'test_avg_loss': 0.548135, 'test_loss': 111.819464, 'test_total': 204, 'val_acc': 0.77451, 'val_avg_loss': 0.524502, 'val_loss': 106.998308, 'val_total': 204}\n"
     ]
    },
    {
     "name": "stdout",
     "output_type": "stream",
     "text": [
      "no improve counter: 0\n",
      "self.best_metric: 109.191810131073\n",
      "no improve counter: 0\n",
      "self.best_metric: 0.5245015106949151\n"
     ]
    },
    {
     "name": "stderr",
     "output_type": "stream",
     "text": [
      "2022-12-22 19:14:34,686 (client:260)INFO: {'Role': 'Client #1', 'Round': 6, 'Results_raw': {'train_acc': 0.766401, 'train_avg_loss': 0.525264, 'train_loss': 856.7057, 'train_total': 1631}}\n",
      "2022-12-22 19:14:34,688 (server:496)INFO: {'Role': 'Server #', 'Round': 6, 'Results_avg': {'test_acc': 0.745098, 'test_avg_loss': 0.548135, 'test_loss': 111.819464, 'test_total': 204.0, 'val_acc': 0.77451, 'val_avg_loss': 0.524502, 'val_loss': 106.998308, 'val_total': 204.0}}\n",
      "2022-12-22 19:14:34,689 (monitor:936)INFO: Current best: {'test_acc': [0.745098], 'test_avg_loss': [0.548135], 'test_loss': [111.819464], 'test_total': [204.0], 'val_acc': [0.77451], 'val_avg_loss': [0.524502], 'val_loss': [106.998308], 'val_total': [204.0]}\n",
      "2022-12-22 19:14:34,691 (monitor:936)INFO: Current best: {'test_acc': 0.745098, 'test_avg_loss': 0.548135, 'test_loss': 111.819464, 'test_total': 204.0, 'val_acc': 0.77451, 'val_avg_loss': 0.524502, 'val_loss': 106.998308, 'val_total': 204.0}\n",
      "2022-12-22 19:14:34,697 (server:323)INFO: Server #0: Starting evaluation at the end of round 6.\n",
      "2022-12-22 19:14:34,698 (server:330)INFO: ----------- Starting a new training round (Round #7) -------------\n",
      "2022-12-22 19:14:34,757 (client:415)INFO: {'Role': 'Client #1', 'Round': 7, 'Results_raw': {'test_acc': 0.745098, 'test_avg_loss': 0.537325, 'test_loss': 109.614302, 'test_total': 204, 'val_acc': 0.77451, 'val_avg_loss': 0.508995, 'val_loss': 103.834889, 'val_total': 204}}\n",
      "2022-12-22 19:14:34,759 (monitor:936)INFO: Current best: {'test_acc': 0.745098, 'test_avg_loss': 0.537325, 'test_loss': 109.614302, 'test_total': 204, 'val_acc': 0.77451, 'val_avg_loss': 0.508995, 'val_loss': 103.834889, 'val_total': 204}\n"
     ]
    },
    {
     "name": "stdout",
     "output_type": "stream",
     "text": [
      "no improve counter: 0\n",
      "self.best_metric: 106.9983081817627\n",
      "no improve counter: 0\n",
      "self.best_metric: 0.5089945553564558\n"
     ]
    },
    {
     "name": "stderr",
     "output_type": "stream",
     "text": [
      "2022-12-22 19:14:35,056 (client:260)INFO: {'Role': 'Client #1', 'Round': 7, 'Results_raw': {'train_acc': 0.766401, 'train_avg_loss': 0.515258, 'train_loss': 840.385513, 'train_total': 1631}}\n",
      "2022-12-22 19:14:35,057 (server:496)INFO: {'Role': 'Server #', 'Round': 7, 'Results_avg': {'test_acc': 0.745098, 'test_avg_loss': 0.537325, 'test_loss': 109.614302, 'test_total': 204.0, 'val_acc': 0.77451, 'val_avg_loss': 0.508995, 'val_loss': 103.834889, 'val_total': 204.0}}\n",
      "2022-12-22 19:14:35,058 (monitor:936)INFO: Current best: {'test_acc': [0.745098], 'test_avg_loss': [0.537325], 'test_loss': [109.614302], 'test_total': [204.0], 'val_acc': [0.77451], 'val_avg_loss': [0.508995], 'val_loss': [103.834889], 'val_total': [204.0]}\n",
      "2022-12-22 19:14:35,061 (monitor:936)INFO: Current best: {'test_acc': 0.745098, 'test_avg_loss': 0.537325, 'test_loss': 109.614302, 'test_total': 204.0, 'val_acc': 0.77451, 'val_avg_loss': 0.508995, 'val_loss': 103.834889, 'val_total': 204.0}\n",
      "2022-12-22 19:14:35,064 (server:323)INFO: Server #0: Starting evaluation at the end of round 7.\n",
      "2022-12-22 19:14:35,065 (server:330)INFO: ----------- Starting a new training round (Round #8) -------------\n",
      "2022-12-22 19:14:35,118 (client:415)INFO: {'Role': 'Client #1', 'Round': 8, 'Results_raw': {'test_acc': 0.745098, 'test_avg_loss': 0.531648, 'test_loss': 108.456109, 'test_total': 204, 'val_acc': 0.77451, 'val_avg_loss': 0.499329, 'val_loss': 101.863205, 'val_total': 204}}\n",
      "2022-12-22 19:14:35,119 (monitor:936)INFO: Current best: {'test_acc': 0.745098, 'test_avg_loss': 0.531648, 'test_loss': 108.456109, 'test_total': 204, 'val_acc': 0.77451, 'val_avg_loss': 0.499329, 'val_loss': 101.863205, 'val_total': 204}\n"
     ]
    },
    {
     "name": "stdout",
     "output_type": "stream",
     "text": [
      "no improve counter: 0\n",
      "self.best_metric: 103.83488929271698\n",
      "no improve counter: 0\n",
      "self.best_metric: 0.4993294360590916\n"
     ]
    },
    {
     "name": "stderr",
     "output_type": "stream",
     "text": [
      "2022-12-22 19:14:35,394 (client:260)INFO: {'Role': 'Client #1', 'Round': 8, 'Results_raw': {'train_acc': 0.766401, 'train_avg_loss': 0.502995, 'train_loss': 820.384693, 'train_total': 1631}}\n",
      "2022-12-22 19:14:35,396 (server:496)INFO: {'Role': 'Server #', 'Round': 8, 'Results_avg': {'test_acc': 0.745098, 'test_avg_loss': 0.531648, 'test_loss': 108.456109, 'test_total': 204.0, 'val_acc': 0.77451, 'val_avg_loss': 0.499329, 'val_loss': 101.863205, 'val_total': 204.0}}\n",
      "2022-12-22 19:14:35,398 (monitor:936)INFO: Current best: {'test_acc': [0.745098], 'test_avg_loss': [0.531648], 'test_loss': [108.456109], 'test_total': [204.0], 'val_acc': [0.77451], 'val_avg_loss': [0.499329], 'val_loss': [101.863205], 'val_total': [204.0]}\n",
      "2022-12-22 19:14:35,399 (monitor:936)INFO: Current best: {'test_acc': 0.745098, 'test_avg_loss': 0.531648, 'test_loss': 108.456109, 'test_total': 204.0, 'val_acc': 0.77451, 'val_avg_loss': 0.499329, 'val_loss': 101.863205, 'val_total': 204.0}\n",
      "2022-12-22 19:14:35,401 (server:323)INFO: Server #0: Starting evaluation at the end of round 8.\n",
      "2022-12-22 19:14:35,402 (server:330)INFO: ----------- Starting a new training round (Round #9) -------------\n",
      "2022-12-22 19:14:35,468 (client:415)INFO: {'Role': 'Client #1', 'Round': 9, 'Results_raw': {'test_acc': 0.745098, 'test_avg_loss': 0.526865, 'test_loss': 107.480414, 'test_total': 204, 'val_acc': 0.77451, 'val_avg_loss': 0.495663, 'val_loss': 101.115199, 'val_total': 204}}\n",
      "2022-12-22 19:14:35,469 (monitor:936)INFO: Current best: {'test_acc': 0.745098, 'test_avg_loss': 0.526865, 'test_loss': 107.480414, 'test_total': 204, 'val_acc': 0.77451, 'val_avg_loss': 0.495663, 'val_loss': 101.115199, 'val_total': 204}\n"
     ]
    },
    {
     "name": "stdout",
     "output_type": "stream",
     "text": [
      "no improve counter: 0\n",
      "self.best_metric: 101.86320495605469\n",
      "no improve counter: 0\n",
      "self.best_metric: 0.49566274121695875\n"
     ]
    },
    {
     "name": "stderr",
     "output_type": "stream",
     "text": [
      "2022-12-22 19:14:35,737 (client:260)INFO: {'Role': 'Client #1', 'Round': 9, 'Results_raw': {'train_acc': 0.767014, 'train_avg_loss': 0.498177, 'train_loss': 812.526374, 'train_total': 1631}}\n",
      "2022-12-22 19:14:35,739 (server:496)INFO: {'Role': 'Server #', 'Round': 9, 'Results_avg': {'test_acc': 0.745098, 'test_avg_loss': 0.526865, 'test_loss': 107.480414, 'test_total': 204.0, 'val_acc': 0.77451, 'val_avg_loss': 0.495663, 'val_loss': 101.115199, 'val_total': 204.0}}\n",
      "2022-12-22 19:14:35,741 (monitor:936)INFO: Current best: {'test_acc': [0.745098], 'test_avg_loss': [0.526865], 'test_loss': [107.480414], 'test_total': [204.0], 'val_acc': [0.77451], 'val_avg_loss': [0.495663], 'val_loss': [101.115199], 'val_total': [204.0]}\n",
      "2022-12-22 19:14:35,742 (monitor:936)INFO: Current best: {'test_acc': 0.745098, 'test_avg_loss': 0.526865, 'test_loss': 107.480414, 'test_total': 204.0, 'val_acc': 0.77451, 'val_avg_loss': 0.495663, 'val_loss': 101.115199, 'val_total': 204.0}\n",
      "2022-12-22 19:14:35,745 (server:323)INFO: Server #0: Starting evaluation at the end of round 9.\n",
      "2022-12-22 19:14:35,745 (server:330)INFO: ----------- Starting a new training round (Round #10) -------------\n",
      "2022-12-22 19:14:35,814 (client:415)INFO: {'Role': 'Client #1', 'Round': 10, 'Results_raw': {'test_acc': 0.745098, 'test_avg_loss': 0.522661, 'test_loss': 106.622908, 'test_total': 204, 'val_acc': 0.77451, 'val_avg_loss': 0.487032, 'val_loss': 99.354602, 'val_total': 204}}\n",
      "2022-12-22 19:14:35,815 (monitor:936)INFO: Current best: {'test_acc': 0.745098, 'test_avg_loss': 0.522661, 'test_loss': 106.622908, 'test_total': 204, 'val_acc': 0.77451, 'val_avg_loss': 0.487032, 'val_loss': 99.354602, 'val_total': 204}\n"
     ]
    },
    {
     "name": "stdout",
     "output_type": "stream",
     "text": [
      "no improve counter: 0\n",
      "self.best_metric: 101.11519920825958\n",
      "no improve counter: 0\n",
      "self.best_metric: 0.48703236147469164\n"
     ]
    },
    {
     "name": "stderr",
     "output_type": "stream",
     "text": [
      "2022-12-22 19:14:36,074 (client:260)INFO: {'Role': 'Client #1', 'Round': 10, 'Results_raw': {'train_acc': 0.765788, 'train_avg_loss': 0.491395, 'train_loss': 801.466013, 'train_total': 1631}}\n",
      "2022-12-22 19:14:36,076 (server:496)INFO: {'Role': 'Server #', 'Round': 10, 'Results_avg': {'test_acc': 0.745098, 'test_avg_loss': 0.522661, 'test_loss': 106.622908, 'test_total': 204.0, 'val_acc': 0.77451, 'val_avg_loss': 0.487032, 'val_loss': 99.354602, 'val_total': 204.0}}\n",
      "2022-12-22 19:14:36,078 (monitor:936)INFO: Current best: {'test_acc': [0.745098], 'test_avg_loss': [0.522661], 'test_loss': [106.622908], 'test_total': [204.0], 'val_acc': [0.77451], 'val_avg_loss': [0.487032], 'val_loss': [99.354602], 'val_total': [204.0]}\n",
      "2022-12-22 19:14:36,081 (monitor:936)INFO: Current best: {'test_acc': 0.745098, 'test_avg_loss': 0.522661, 'test_loss': 106.622908, 'test_total': 204.0, 'val_acc': 0.77451, 'val_avg_loss': 0.487032, 'val_loss': 99.354602, 'val_total': 204.0}\n",
      "2022-12-22 19:14:36,084 (server:323)INFO: Server #0: Starting evaluation at the end of round 10.\n",
      "2022-12-22 19:14:36,085 (server:330)INFO: ----------- Starting a new training round (Round #11) -------------\n",
      "2022-12-22 19:14:36,144 (client:415)INFO: {'Role': 'Client #1', 'Round': 11, 'Results_raw': {'test_acc': 0.745098, 'test_avg_loss': 0.518743, 'test_loss': 105.82363, 'test_total': 204, 'val_acc': 0.77451, 'val_avg_loss': 0.480641, 'val_loss': 98.050862, 'val_total': 204}}\n",
      "2022-12-22 19:14:36,146 (monitor:936)INFO: Current best: {'test_acc': 0.745098, 'test_avg_loss': 0.518743, 'test_loss': 105.82363, 'test_total': 204, 'val_acc': 0.77451, 'val_avg_loss': 0.480641, 'val_loss': 98.050862, 'val_total': 204}\n"
     ]
    },
    {
     "name": "stdout",
     "output_type": "stream",
     "text": [
      "no improve counter: 0\n",
      "self.best_metric: 99.3546017408371\n",
      "no improve counter: 0\n",
      "self.best_metric: 0.4806414790013257\n"
     ]
    },
    {
     "name": "stderr",
     "output_type": "stream",
     "text": [
      "2022-12-22 19:14:36,420 (client:260)INFO: {'Role': 'Client #1', 'Round': 11, 'Results_raw': {'train_acc': 0.767014, 'train_avg_loss': 0.484732, 'train_loss': 790.59846, 'train_total': 1631}}\n",
      "2022-12-22 19:14:36,422 (server:496)INFO: {'Role': 'Server #', 'Round': 11, 'Results_avg': {'test_acc': 0.745098, 'test_avg_loss': 0.518743, 'test_loss': 105.82363, 'test_total': 204.0, 'val_acc': 0.77451, 'val_avg_loss': 0.480641, 'val_loss': 98.050862, 'val_total': 204.0}}\n",
      "2022-12-22 19:14:36,424 (monitor:936)INFO: Current best: {'test_acc': [0.745098], 'test_avg_loss': [0.518743], 'test_loss': [105.82363], 'test_total': [204.0], 'val_acc': [0.77451], 'val_avg_loss': [0.480641], 'val_loss': [98.050862], 'val_total': [204.0]}\n",
      "2022-12-22 19:14:36,426 (monitor:936)INFO: Current best: {'test_acc': 0.745098, 'test_avg_loss': 0.518743, 'test_loss': 105.82363, 'test_total': 204.0, 'val_acc': 0.77451, 'val_avg_loss': 0.480641, 'val_loss': 98.050862, 'val_total': 204.0}\n",
      "2022-12-22 19:14:36,428 (server:323)INFO: Server #0: Starting evaluation at the end of round 11.\n",
      "2022-12-22 19:14:36,430 (server:330)INFO: ----------- Starting a new training round (Round #12) -------------\n",
      "2022-12-22 19:14:36,485 (client:415)INFO: {'Role': 'Client #1', 'Round': 12, 'Results_raw': {'test_acc': 0.745098, 'test_avg_loss': 0.516325, 'test_loss': 105.33033, 'test_total': 204, 'val_acc': 0.77451, 'val_avg_loss': 0.475611, 'val_loss': 97.024741, 'val_total': 204}}\n",
      "2022-12-22 19:14:36,486 (monitor:936)INFO: Current best: {'test_acc': 0.745098, 'test_avg_loss': 0.516325, 'test_loss': 105.33033, 'test_total': 204, 'val_acc': 0.77451, 'val_avg_loss': 0.475611, 'val_loss': 97.024741, 'val_total': 204}\n"
     ]
    },
    {
     "name": "stdout",
     "output_type": "stream",
     "text": [
      "no improve counter: 0\n",
      "self.best_metric: 98.05086171627045\n",
      "no improve counter: 0\n",
      "self.best_metric: 0.47561147341541216\n"
     ]
    },
    {
     "name": "stderr",
     "output_type": "stream",
     "text": [
      "2022-12-22 19:14:36,765 (client:260)INFO: {'Role': 'Client #1', 'Round': 12, 'Results_raw': {'train_acc': 0.766401, 'train_avg_loss': 0.481011, 'train_loss': 784.528447, 'train_total': 1631}}\n",
      "2022-12-22 19:14:36,767 (server:496)INFO: {'Role': 'Server #', 'Round': 12, 'Results_avg': {'test_acc': 0.745098, 'test_avg_loss': 0.516325, 'test_loss': 105.33033, 'test_total': 204.0, 'val_acc': 0.77451, 'val_avg_loss': 0.475611, 'val_loss': 97.024741, 'val_total': 204.0}}\n",
      "2022-12-22 19:14:36,767 (monitor:936)INFO: Current best: {'test_acc': [0.745098], 'test_avg_loss': [0.516325], 'test_loss': [105.33033], 'test_total': [204.0], 'val_acc': [0.77451], 'val_avg_loss': [0.475611], 'val_loss': [97.024741], 'val_total': [204.0]}\n",
      "2022-12-22 19:14:36,769 (monitor:936)INFO: Current best: {'test_acc': 0.745098, 'test_avg_loss': 0.516325, 'test_loss': 105.33033, 'test_total': 204.0, 'val_acc': 0.77451, 'val_avg_loss': 0.475611, 'val_loss': 97.024741, 'val_total': 204.0}\n",
      "2022-12-22 19:14:36,771 (server:323)INFO: Server #0: Starting evaluation at the end of round 12.\n",
      "2022-12-22 19:14:36,772 (server:330)INFO: ----------- Starting a new training round (Round #13) -------------\n",
      "2022-12-22 19:14:36,837 (client:415)INFO: {'Role': 'Client #1', 'Round': 13, 'Results_raw': {'test_acc': 0.745098, 'test_avg_loss': 0.516356, 'test_loss': 105.336688, 'test_total': 204, 'val_acc': 0.77451, 'val_avg_loss': 0.472764, 'val_loss': 96.44383, 'val_total': 204}}\n",
      "2022-12-22 19:14:36,838 (monitor:936)INFO: Current best: {'test_acc': 0.745098, 'test_avg_loss': 0.516356, 'test_loss': 105.336688, 'test_total': 204, 'val_acc': 0.77451, 'val_avg_loss': 0.472764, 'val_loss': 96.44383, 'val_total': 204}\n"
     ]
    },
    {
     "name": "stdout",
     "output_type": "stream",
     "text": [
      "no improve counter: 0\n",
      "self.best_metric: 97.02474057674408\n",
      "no improve counter: 0\n",
      "self.best_metric: 0.4727638702766568\n"
     ]
    },
    {
     "name": "stderr",
     "output_type": "stream",
     "text": [
      "2022-12-22 19:14:37,118 (client:260)INFO: {'Role': 'Client #1', 'Round': 13, 'Results_raw': {'train_acc': 0.767014, 'train_avg_loss': 0.474613, 'train_loss': 774.093231, 'train_total': 1631}}\n",
      "2022-12-22 19:14:37,120 (server:496)INFO: {'Role': 'Server #', 'Round': 13, 'Results_avg': {'test_acc': 0.745098, 'test_avg_loss': 0.516356, 'test_loss': 105.336688, 'test_total': 204.0, 'val_acc': 0.77451, 'val_avg_loss': 0.472764, 'val_loss': 96.44383, 'val_total': 204.0}}\n",
      "2022-12-22 19:14:37,121 (monitor:936)INFO: Current best: {'test_acc': [0.745098], 'test_avg_loss': [0.516356], 'test_loss': [105.336688], 'test_total': [204.0], 'val_acc': [0.77451], 'val_avg_loss': [0.472764], 'val_loss': [96.44383], 'val_total': [204.0]}\n",
      "2022-12-22 19:14:37,122 (monitor:936)INFO: Current best: {'test_acc': 0.745098, 'test_avg_loss': 0.516356, 'test_loss': 105.336688, 'test_total': 204.0, 'val_acc': 0.77451, 'val_avg_loss': 0.472764, 'val_loss': 96.44383, 'val_total': 204.0}\n",
      "2022-12-22 19:14:37,124 (server:323)INFO: Server #0: Starting evaluation at the end of round 13.\n",
      "2022-12-22 19:14:37,126 (server:330)INFO: ----------- Starting a new training round (Round #14) -------------\n",
      "2022-12-22 19:14:37,185 (client:415)INFO: {'Role': 'Client #1', 'Round': 14, 'Results_raw': {'test_acc': 0.745098, 'test_avg_loss': 0.509796, 'test_loss': 103.998296, 'test_total': 204, 'val_acc': 0.77451, 'val_avg_loss': 0.469479, 'val_loss': 95.773696, 'val_total': 204}}\n",
      "2022-12-22 19:14:37,187 (monitor:936)INFO: Current best: {'test_acc': 0.745098, 'test_avg_loss': 0.509796, 'test_loss': 103.998296, 'test_total': 204, 'val_acc': 0.77451, 'val_avg_loss': 0.469479, 'val_loss': 95.773696, 'val_total': 204}\n"
     ]
    },
    {
     "name": "stdout",
     "output_type": "stream",
     "text": [
      "no improve counter: 0\n",
      "self.best_metric: 96.44382953643799\n",
      "no improve counter: 0\n",
      "self.best_metric: 0.46947890227916195\n"
     ]
    },
    {
     "name": "stderr",
     "output_type": "stream",
     "text": [
      "2022-12-22 19:14:37,473 (client:260)INFO: {'Role': 'Client #1', 'Round': 14, 'Results_raw': {'train_acc': 0.766401, 'train_avg_loss': 0.477214, 'train_loss': 778.336029, 'train_total': 1631}}\n",
      "2022-12-22 19:14:37,475 (server:496)INFO: {'Role': 'Server #', 'Round': 14, 'Results_avg': {'test_acc': 0.745098, 'test_avg_loss': 0.509796, 'test_loss': 103.998296, 'test_total': 204.0, 'val_acc': 0.77451, 'val_avg_loss': 0.469479, 'val_loss': 95.773696, 'val_total': 204.0}}\n",
      "2022-12-22 19:14:37,476 (monitor:936)INFO: Current best: {'test_acc': [0.745098], 'test_avg_loss': [0.509796], 'test_loss': [103.998296], 'test_total': [204.0], 'val_acc': [0.77451], 'val_avg_loss': [0.469479], 'val_loss': [95.773696], 'val_total': [204.0]}\n",
      "2022-12-22 19:14:37,478 (monitor:936)INFO: Current best: {'test_acc': 0.745098, 'test_avg_loss': 0.509796, 'test_loss': 103.998296, 'test_total': 204.0, 'val_acc': 0.77451, 'val_avg_loss': 0.469479, 'val_loss': 95.773696, 'val_total': 204.0}\n",
      "2022-12-22 19:14:37,480 (server:323)INFO: Server #0: Starting evaluation at the end of round 14.\n",
      "2022-12-22 19:14:37,481 (server:330)INFO: ----------- Starting a new training round (Round #15) -------------\n",
      "2022-12-22 19:14:37,534 (client:415)INFO: {'Role': 'Client #1', 'Round': 15, 'Results_raw': {'test_acc': 0.745098, 'test_avg_loss': 0.508308, 'test_loss': 103.694772, 'test_total': 204, 'val_acc': 0.77451, 'val_avg_loss': 0.465539, 'val_loss': 94.970023, 'val_total': 204}}\n",
      "2022-12-22 19:14:37,535 (monitor:936)INFO: Current best: {'test_acc': 0.745098, 'test_avg_loss': 0.508308, 'test_loss': 103.694772, 'test_total': 204, 'val_acc': 0.77451, 'val_avg_loss': 0.465539, 'val_loss': 94.970023, 'val_total': 204}\n"
     ]
    },
    {
     "name": "stdout",
     "output_type": "stream",
     "text": [
      "no improve counter: 0\n",
      "self.best_metric: 95.77369606494904\n",
      "no improve counter: 0\n",
      "self.best_metric: 0.4655393297765769\n"
     ]
    },
    {
     "name": "stderr",
     "output_type": "stream",
     "text": [
      "2022-12-22 19:14:37,817 (client:260)INFO: {'Role': 'Client #1', 'Round': 15, 'Results_raw': {'train_acc': 0.765788, 'train_avg_loss': 0.463247, 'train_loss': 755.556387, 'train_total': 1631}}\n",
      "2022-12-22 19:14:37,819 (server:496)INFO: {'Role': 'Server #', 'Round': 15, 'Results_avg': {'test_acc': 0.745098, 'test_avg_loss': 0.508308, 'test_loss': 103.694772, 'test_total': 204.0, 'val_acc': 0.77451, 'val_avg_loss': 0.465539, 'val_loss': 94.970023, 'val_total': 204.0}}\n",
      "2022-12-22 19:14:37,820 (monitor:936)INFO: Current best: {'test_acc': [0.745098], 'test_avg_loss': [0.508308], 'test_loss': [103.694772], 'test_total': [204.0], 'val_acc': [0.77451], 'val_avg_loss': [0.465539], 'val_loss': [94.970023], 'val_total': [204.0]}\n",
      "2022-12-22 19:14:37,821 (monitor:936)INFO: Current best: {'test_acc': 0.745098, 'test_avg_loss': 0.508308, 'test_loss': 103.694772, 'test_total': 204.0, 'val_acc': 0.77451, 'val_avg_loss': 0.465539, 'val_loss': 94.970023, 'val_total': 204.0}\n",
      "2022-12-22 19:14:37,824 (server:323)INFO: Server #0: Starting evaluation at the end of round 15.\n",
      "2022-12-22 19:14:37,826 (server:330)INFO: ----------- Starting a new training round (Round #16) -------------\n",
      "2022-12-22 19:14:37,898 (client:415)INFO: {'Role': 'Client #1', 'Round': 16, 'Results_raw': {'test_acc': 0.745098, 'test_avg_loss': 0.508967, 'test_loss': 103.829305, 'test_total': 204, 'val_acc': 0.77451, 'val_avg_loss': 0.461981, 'val_loss': 94.244191, 'val_total': 204}}\n",
      "2022-12-22 19:14:37,899 (monitor:936)INFO: Current best: {'test_acc': 0.745098, 'test_avg_loss': 0.508967, 'test_loss': 103.829305, 'test_total': 204, 'val_acc': 0.77451, 'val_avg_loss': 0.461981, 'val_loss': 94.244191, 'val_total': 204}\n"
     ]
    },
    {
     "name": "stdout",
     "output_type": "stream",
     "text": [
      "no improve counter: 0\n",
      "self.best_metric: 94.97002327442169\n",
      "no improve counter: 0\n",
      "self.best_metric: 0.4619813286790661\n"
     ]
    },
    {
     "name": "stderr",
     "output_type": "stream",
     "text": [
      "2022-12-22 19:14:38,171 (client:260)INFO: {'Role': 'Client #1', 'Round': 16, 'Results_raw': {'train_acc': 0.76824, 'train_avg_loss': 0.466905, 'train_loss': 761.522248, 'train_total': 1631}}\n",
      "2022-12-22 19:14:38,173 (server:496)INFO: {'Role': 'Server #', 'Round': 16, 'Results_avg': {'test_acc': 0.745098, 'test_avg_loss': 0.508967, 'test_loss': 103.829305, 'test_total': 204.0, 'val_acc': 0.77451, 'val_avg_loss': 0.461981, 'val_loss': 94.244191, 'val_total': 204.0}}\n",
      "2022-12-22 19:14:38,174 (monitor:936)INFO: Current best: {'test_acc': [0.745098], 'test_avg_loss': [0.508967], 'test_loss': [103.829305], 'test_total': [204.0], 'val_acc': [0.77451], 'val_avg_loss': [0.461981], 'val_loss': [94.244191], 'val_total': [204.0]}\n",
      "2022-12-22 19:14:38,176 (monitor:936)INFO: Current best: {'test_acc': 0.745098, 'test_avg_loss': 0.508967, 'test_loss': 103.829305, 'test_total': 204.0, 'val_acc': 0.77451, 'val_avg_loss': 0.461981, 'val_loss': 94.244191, 'val_total': 204.0}\n",
      "2022-12-22 19:14:38,179 (server:323)INFO: Server #0: Starting evaluation at the end of round 16.\n",
      "2022-12-22 19:14:38,181 (server:330)INFO: ----------- Starting a new training round (Round #17) -------------\n",
      "2022-12-22 19:14:38,253 (client:415)INFO: {'Role': 'Client #1', 'Round': 17, 'Results_raw': {'test_acc': 0.745098, 'test_avg_loss': 0.515636, 'test_loss': 105.189827, 'test_total': 204, 'val_acc': 0.77451, 'val_avg_loss': 0.462597, 'val_loss': 94.36982, 'val_total': 204}}\n",
      "2022-12-22 19:14:38,254 (monitor:936)INFO: Current best: {'test_acc': 0.745098, 'test_avg_loss': 0.508967, 'test_loss': 103.829305, 'test_total': 204, 'val_acc': 0.77451, 'val_avg_loss': 0.461981, 'val_loss': 94.244191, 'val_total': 204}\n"
     ]
    },
    {
     "name": "stdout",
     "output_type": "stream",
     "text": [
      "no improve counter: 0\n",
      "self.best_metric: 94.24419105052948\n",
      "no improve counter: 1\n",
      "self.best_metric: 0.4619813286790661\n"
     ]
    },
    {
     "name": "stderr",
     "output_type": "stream",
     "text": [
      "2022-12-22 19:14:38,565 (client:260)INFO: {'Role': 'Client #1', 'Round': 17, 'Results_raw': {'train_acc': 0.777437, 'train_avg_loss': 0.456072, 'train_loss': 743.854016, 'train_total': 1631}}\n",
      "2022-12-22 19:14:38,568 (server:496)INFO: {'Role': 'Server #', 'Round': 17, 'Results_avg': {'test_acc': 0.745098, 'test_avg_loss': 0.515636, 'test_loss': 105.189827, 'test_total': 204.0, 'val_acc': 0.77451, 'val_avg_loss': 0.462597, 'val_loss': 94.36982, 'val_total': 204.0}}\n",
      "2022-12-22 19:14:38,569 (monitor:936)INFO: Current best: {'test_acc': 0.745098, 'test_avg_loss': 0.508967, 'test_loss': 103.829305, 'test_total': 204.0, 'val_acc': 0.77451, 'val_avg_loss': 0.461981, 'val_loss': 94.244191, 'val_total': 204.0}\n",
      "2022-12-22 19:14:38,571 (monitor:936)INFO: Current best: {'test_acc': 0.745098, 'test_avg_loss': 0.508967, 'test_loss': 103.829305, 'test_total': 204.0, 'val_acc': 0.77451, 'val_avg_loss': 0.461981, 'val_loss': 94.244191, 'val_total': 204.0}\n",
      "2022-12-22 19:14:38,573 (server:323)INFO: Server #0: Starting evaluation at the end of round 17.\n",
      "2022-12-22 19:14:38,574 (server:330)INFO: ----------- Starting a new training round (Round #18) -------------\n",
      "2022-12-22 19:14:38,644 (client:415)INFO: {'Role': 'Client #1', 'Round': 18, 'Results_raw': {'test_acc': 0.740196, 'test_avg_loss': 0.50159, 'test_loss': 102.324272, 'test_total': 204, 'val_acc': 0.77451, 'val_avg_loss': 0.467546, 'val_loss': 95.379484, 'val_total': 204}}\n",
      "2022-12-22 19:14:38,645 (monitor:936)INFO: Current best: {'test_acc': 0.745098, 'test_avg_loss': 0.508967, 'test_loss': 103.829305, 'test_total': 204, 'val_acc': 0.77451, 'val_avg_loss': 0.461981, 'val_loss': 94.244191, 'val_total': 204}\n"
     ]
    },
    {
     "name": "stdout",
     "output_type": "stream",
     "text": [
      "no improve counter: 1\n",
      "self.best_metric: 94.24419105052948\n",
      "no improve counter: 2\n",
      "self.best_metric: 0.4619813286790661\n"
     ]
    },
    {
     "name": "stderr",
     "output_type": "stream",
     "text": [
      "2022-12-22 19:14:38,919 (client:260)INFO: {'Role': 'Client #1', 'Round': 18, 'Results_raw': {'train_acc': 0.77805, 'train_avg_loss': 0.450824, 'train_loss': 735.293435, 'train_total': 1631}}\n",
      "2022-12-22 19:14:38,921 (server:496)INFO: {'Role': 'Server #', 'Round': 18, 'Results_avg': {'test_acc': 0.740196, 'test_avg_loss': 0.50159, 'test_loss': 102.324272, 'test_total': 204.0, 'val_acc': 0.77451, 'val_avg_loss': 0.467546, 'val_loss': 95.379484, 'val_total': 204.0}}\n",
      "2022-12-22 19:14:38,922 (monitor:936)INFO: Current best: {'test_acc': 0.745098, 'test_avg_loss': 0.508967, 'test_loss': 103.829305, 'test_total': 204.0, 'val_acc': 0.77451, 'val_avg_loss': 0.461981, 'val_loss': 94.244191, 'val_total': 204.0}\n",
      "2022-12-22 19:14:38,923 (monitor:936)INFO: Current best: {'test_acc': 0.745098, 'test_avg_loss': 0.508967, 'test_loss': 103.829305, 'test_total': 204.0, 'val_acc': 0.77451, 'val_avg_loss': 0.461981, 'val_loss': 94.244191, 'val_total': 204.0}\n",
      "2022-12-22 19:14:38,926 (server:323)INFO: Server #0: Starting evaluation at the end of round 18.\n",
      "2022-12-22 19:14:38,927 (server:330)INFO: ----------- Starting a new training round (Round #19) -------------\n",
      "2022-12-22 19:14:38,982 (client:415)INFO: {'Role': 'Client #1', 'Round': 19, 'Results_raw': {'test_acc': 0.740196, 'test_avg_loss': 0.4982, 'test_loss': 101.632801, 'test_total': 204, 'val_acc': 0.779412, 'val_avg_loss': 0.464729, 'val_loss': 94.804728, 'val_total': 204}}\n",
      "2022-12-22 19:14:38,983 (monitor:936)INFO: Current best: {'test_acc': 0.745098, 'test_avg_loss': 0.508967, 'test_loss': 103.829305, 'test_total': 204, 'val_acc': 0.77451, 'val_avg_loss': 0.461981, 'val_loss': 94.244191, 'val_total': 204}\n"
     ]
    },
    {
     "name": "stdout",
     "output_type": "stream",
     "text": [
      "no improve counter: 2\n",
      "self.best_metric: 94.24419105052948\n",
      "no improve counter: 3\n",
      "self.best_metric: 0.4619813286790661\n"
     ]
    },
    {
     "name": "stderr",
     "output_type": "stream",
     "text": [
      "2022-12-22 19:14:39,253 (client:260)INFO: {'Role': 'Client #1', 'Round': 19, 'Results_raw': {'train_acc': 0.786634, 'train_avg_loss': 0.45251, 'train_loss': 738.043934, 'train_total': 1631}}\n",
      "2022-12-22 19:14:39,255 (server:496)INFO: {'Role': 'Server #', 'Round': 19, 'Results_avg': {'test_acc': 0.740196, 'test_avg_loss': 0.4982, 'test_loss': 101.632801, 'test_total': 204.0, 'val_acc': 0.779412, 'val_avg_loss': 0.464729, 'val_loss': 94.804728, 'val_total': 204.0}}\n",
      "2022-12-22 19:14:39,257 (monitor:936)INFO: Current best: {'test_acc': 0.745098, 'test_avg_loss': 0.508967, 'test_loss': 103.829305, 'test_total': 204.0, 'val_acc': 0.77451, 'val_avg_loss': 0.461981, 'val_loss': 94.244191, 'val_total': 204.0}\n",
      "2022-12-22 19:14:39,258 (monitor:936)INFO: Current best: {'test_acc': 0.745098, 'test_avg_loss': 0.508967, 'test_loss': 103.829305, 'test_total': 204.0, 'val_acc': 0.77451, 'val_avg_loss': 0.461981, 'val_loss': 94.244191, 'val_total': 204.0}\n",
      "2022-12-22 19:14:39,260 (server:323)INFO: Server #0: Starting evaluation at the end of round 19.\n",
      "2022-12-22 19:14:39,261 (server:330)INFO: ----------- Starting a new training round (Round #20) -------------\n",
      "2022-12-22 19:14:39,322 (client:415)INFO: {'Role': 'Client #1', 'Round': 20, 'Results_raw': {'test_acc': 0.75, 'test_avg_loss': 0.495491, 'test_loss': 101.080066, 'test_total': 204, 'val_acc': 0.77451, 'val_avg_loss': 0.46149, 'val_loss': 94.14395, 'val_total': 204}}\n",
      "2022-12-22 19:14:39,323 (monitor:936)INFO: Current best: {'test_acc': 0.75, 'test_avg_loss': 0.495491, 'test_loss': 101.080066, 'test_total': 204, 'val_acc': 0.77451, 'val_avg_loss': 0.46149, 'val_loss': 94.14395, 'val_total': 204}\n"
     ]
    },
    {
     "name": "stdout",
     "output_type": "stream",
     "text": [
      "no improve counter: 3\n",
      "self.best_metric: 94.24419105052948\n",
      "no improve counter: 0\n",
      "self.best_metric: 0.4614899532467711\n"
     ]
    },
    {
     "name": "stderr",
     "output_type": "stream",
     "text": [
      "2022-12-22 19:14:39,614 (client:260)INFO: {'Role': 'Client #1', 'Round': 20, 'Results_raw': {'train_acc': 0.782342, 'train_avg_loss': 0.453941, 'train_loss': 740.37799, 'train_total': 1631}}\n",
      "2022-12-22 19:14:39,616 (server:496)INFO: {'Role': 'Server #', 'Round': 20, 'Results_avg': {'test_acc': 0.75, 'test_avg_loss': 0.495491, 'test_loss': 101.080066, 'test_total': 204.0, 'val_acc': 0.77451, 'val_avg_loss': 0.46149, 'val_loss': 94.14395, 'val_total': 204.0}}\n",
      "2022-12-22 19:14:39,617 (monitor:936)INFO: Current best: {'test_acc': [0.75], 'test_avg_loss': [0.495491], 'test_loss': [101.080066], 'test_total': [204.0], 'val_acc': [0.77451], 'val_avg_loss': [0.46149], 'val_loss': [94.14395], 'val_total': [204.0]}\n",
      "2022-12-22 19:14:39,618 (monitor:936)INFO: Current best: {'test_acc': 0.75, 'test_avg_loss': 0.495491, 'test_loss': 101.080066, 'test_total': 204.0, 'val_acc': 0.77451, 'val_avg_loss': 0.46149, 'val_loss': 94.14395, 'val_total': 204.0}\n",
      "2022-12-22 19:14:39,620 (server:323)INFO: Server #0: Starting evaluation at the end of round 20.\n",
      "2022-12-22 19:14:39,621 (server:330)INFO: ----------- Starting a new training round (Round #21) -------------\n",
      "2022-12-22 19:14:39,681 (client:415)INFO: {'Role': 'Client #1', 'Round': 21, 'Results_raw': {'test_acc': 0.745098, 'test_avg_loss': 0.499245, 'test_loss': 101.846045, 'test_total': 204, 'val_acc': 0.779412, 'val_avg_loss': 0.452975, 'val_loss': 92.406954, 'val_total': 204}}\n",
      "2022-12-22 19:14:39,682 (monitor:936)INFO: Current best: {'test_acc': 0.745098, 'test_avg_loss': 0.499245, 'test_loss': 101.846045, 'test_total': 204, 'val_acc': 0.779412, 'val_avg_loss': 0.452975, 'val_loss': 92.406954, 'val_total': 204}\n"
     ]
    },
    {
     "name": "stdout",
     "output_type": "stream",
     "text": [
      "no improve counter: 0\n",
      "self.best_metric: 94.14395046234131\n",
      "no improve counter: 0\n",
      "self.best_metric: 0.4529752643669353\n"
     ]
    },
    {
     "name": "stderr",
     "output_type": "stream",
     "text": [
      "2022-12-22 19:14:39,924 (client:260)INFO: {'Role': 'Client #1', 'Round': 21, 'Results_raw': {'train_acc': 0.776824, 'train_avg_loss': 0.448457, 'train_loss': 731.433222, 'train_total': 1631}}\n",
      "2022-12-22 19:14:39,926 (server:496)INFO: {'Role': 'Server #', 'Round': 21, 'Results_avg': {'test_acc': 0.745098, 'test_avg_loss': 0.499245, 'test_loss': 101.846045, 'test_total': 204.0, 'val_acc': 0.779412, 'val_avg_loss': 0.452975, 'val_loss': 92.406954, 'val_total': 204.0}}\n",
      "2022-12-22 19:14:39,927 (monitor:936)INFO: Current best: {'test_acc': [0.745098], 'test_avg_loss': [0.499245], 'test_loss': [101.846045], 'test_total': [204.0], 'val_acc': [0.779412], 'val_avg_loss': [0.452975], 'val_loss': [92.406954], 'val_total': [204.0]}\n",
      "2022-12-22 19:14:39,928 (monitor:936)INFO: Current best: {'test_acc': 0.745098, 'test_avg_loss': 0.499245, 'test_loss': 101.846045, 'test_total': 204.0, 'val_acc': 0.779412, 'val_avg_loss': 0.452975, 'val_loss': 92.406954, 'val_total': 204.0}\n",
      "2022-12-22 19:14:39,930 (server:323)INFO: Server #0: Starting evaluation at the end of round 21.\n",
      "2022-12-22 19:14:39,931 (server:330)INFO: ----------- Starting a new training round (Round #22) -------------\n",
      "2022-12-22 19:14:39,988 (client:415)INFO: {'Role': 'Client #1', 'Round': 22, 'Results_raw': {'test_acc': 0.754902, 'test_avg_loss': 0.497482, 'test_loss': 101.48634, 'test_total': 204, 'val_acc': 0.779412, 'val_avg_loss': 0.45045, 'val_loss': 91.891797, 'val_total': 204}}\n",
      "2022-12-22 19:14:39,989 (monitor:936)INFO: Current best: {'test_acc': 0.754902, 'test_avg_loss': 0.497482, 'test_loss': 101.48634, 'test_total': 204, 'val_acc': 0.779412, 'val_avg_loss': 0.45045, 'val_loss': 91.891797, 'val_total': 204}\n"
     ]
    },
    {
     "name": "stdout",
     "output_type": "stream",
     "text": [
      "no improve counter: 0\n",
      "self.best_metric: 92.4069539308548\n",
      "no improve counter: 0\n",
      "self.best_metric: 0.45044998386326957\n"
     ]
    },
    {
     "name": "stderr",
     "output_type": "stream",
     "text": [
      "2022-12-22 19:14:40,274 (client:260)INFO: {'Role': 'Client #1', 'Round': 22, 'Results_raw': {'train_acc': 0.786634, 'train_avg_loss': 0.449769, 'train_loss': 733.572561, 'train_total': 1631}}\n",
      "2022-12-22 19:14:40,276 (server:496)INFO: {'Role': 'Server #', 'Round': 22, 'Results_avg': {'test_acc': 0.754902, 'test_avg_loss': 0.497482, 'test_loss': 101.48634, 'test_total': 204.0, 'val_acc': 0.779412, 'val_avg_loss': 0.45045, 'val_loss': 91.891797, 'val_total': 204.0}}\n",
      "2022-12-22 19:14:40,277 (monitor:936)INFO: Current best: {'test_acc': [0.754902], 'test_avg_loss': [0.497482], 'test_loss': [101.48634], 'test_total': [204.0], 'val_acc': [0.779412], 'val_avg_loss': [0.45045], 'val_loss': [91.891797], 'val_total': [204.0]}\n",
      "2022-12-22 19:14:40,279 (monitor:936)INFO: Current best: {'test_acc': 0.754902, 'test_avg_loss': 0.497482, 'test_loss': 101.48634, 'test_total': 204.0, 'val_acc': 0.779412, 'val_avg_loss': 0.45045, 'val_loss': 91.891797, 'val_total': 204.0}\n",
      "2022-12-22 19:14:40,281 (server:323)INFO: Server #0: Starting evaluation at the end of round 22.\n",
      "2022-12-22 19:14:40,282 (server:330)INFO: ----------- Starting a new training round (Round #23) -------------\n",
      "2022-12-22 19:14:40,333 (client:415)INFO: {'Role': 'Client #1', 'Round': 23, 'Results_raw': {'test_acc': 0.740196, 'test_avg_loss': 0.508134, 'test_loss': 103.659393, 'test_total': 204, 'val_acc': 0.779412, 'val_avg_loss': 0.449235, 'val_loss': 91.644029, 'val_total': 204}}\n",
      "2022-12-22 19:14:40,334 (monitor:936)INFO: Current best: {'test_acc': 0.740196, 'test_avg_loss': 0.508134, 'test_loss': 103.659393, 'test_total': 204, 'val_acc': 0.779412, 'val_avg_loss': 0.449235, 'val_loss': 91.644029, 'val_total': 204}\n"
     ]
    },
    {
     "name": "stdout",
     "output_type": "stream",
     "text": [
      "no improve counter: 0\n",
      "self.best_metric: 91.891796708107\n",
      "no improve counter: 0\n",
      "self.best_metric: 0.4492354340413037\n"
     ]
    },
    {
     "name": "stderr",
     "output_type": "stream",
     "text": [
      "2022-12-22 19:14:40,596 (client:260)INFO: {'Role': 'Client #1', 'Round': 23, 'Results_raw': {'train_acc': 0.794605, 'train_avg_loss': 0.444557, 'train_loss': 725.072418, 'train_total': 1631}}\n",
      "2022-12-22 19:14:40,598 (server:496)INFO: {'Role': 'Server #', 'Round': 23, 'Results_avg': {'test_acc': 0.740196, 'test_avg_loss': 0.508134, 'test_loss': 103.659393, 'test_total': 204.0, 'val_acc': 0.779412, 'val_avg_loss': 0.449235, 'val_loss': 91.644029, 'val_total': 204.0}}\n",
      "2022-12-22 19:14:40,599 (monitor:936)INFO: Current best: {'test_acc': [0.740196], 'test_avg_loss': [0.508134], 'test_loss': [103.659393], 'test_total': [204.0], 'val_acc': [0.779412], 'val_avg_loss': [0.449235], 'val_loss': [91.644029], 'val_total': [204.0]}\n",
      "2022-12-22 19:14:40,601 (monitor:936)INFO: Current best: {'test_acc': 0.740196, 'test_avg_loss': 0.508134, 'test_loss': 103.659393, 'test_total': 204.0, 'val_acc': 0.779412, 'val_avg_loss': 0.449235, 'val_loss': 91.644029, 'val_total': 204.0}\n",
      "2022-12-22 19:14:40,605 (server:323)INFO: Server #0: Starting evaluation at the end of round 23.\n",
      "2022-12-22 19:14:40,606 (server:330)INFO: ----------- Starting a new training round (Round #24) -------------\n",
      "2022-12-22 19:14:40,673 (client:415)INFO: {'Role': 'Client #1', 'Round': 24, 'Results_raw': {'test_acc': 0.779412, 'test_avg_loss': 0.493977, 'test_loss': 100.771222, 'test_total': 204, 'val_acc': 0.784314, 'val_avg_loss': 0.460355, 'val_loss': 93.912488, 'val_total': 204}}\n",
      "2022-12-22 19:14:40,674 (monitor:936)INFO: Current best: {'test_acc': 0.740196, 'test_avg_loss': 0.508134, 'test_loss': 103.659393, 'test_total': 204, 'val_acc': 0.779412, 'val_avg_loss': 0.449235, 'val_loss': 91.644029, 'val_total': 204}\n"
     ]
    },
    {
     "name": "stdout",
     "output_type": "stream",
     "text": [
      "no improve counter: 0\n",
      "self.best_metric: 91.64402854442596\n",
      "no improve counter: 1\n",
      "self.best_metric: 0.4492354340413037\n"
     ]
    },
    {
     "name": "stderr",
     "output_type": "stream",
     "text": [
      "2022-12-22 19:14:40,945 (client:260)INFO: {'Role': 'Client #1', 'Round': 24, 'Results_raw': {'train_acc': 0.79951, 'train_avg_loss': 0.439807, 'train_loss': 717.324686, 'train_total': 1631}}\n",
      "2022-12-22 19:14:40,947 (server:496)INFO: {'Role': 'Server #', 'Round': 24, 'Results_avg': {'test_acc': 0.779412, 'test_avg_loss': 0.493977, 'test_loss': 100.771222, 'test_total': 204.0, 'val_acc': 0.784314, 'val_avg_loss': 0.460355, 'val_loss': 93.912488, 'val_total': 204.0}}\n",
      "2022-12-22 19:14:40,949 (monitor:936)INFO: Current best: {'test_acc': 0.740196, 'test_avg_loss': 0.508134, 'test_loss': 103.659393, 'test_total': 204.0, 'val_acc': 0.779412, 'val_avg_loss': 0.449235, 'val_loss': 91.644029, 'val_total': 204.0}\n",
      "2022-12-22 19:14:40,950 (monitor:936)INFO: Current best: {'test_acc': 0.740196, 'test_avg_loss': 0.508134, 'test_loss': 103.659393, 'test_total': 204.0, 'val_acc': 0.779412, 'val_avg_loss': 0.449235, 'val_loss': 91.644029, 'val_total': 204.0}\n",
      "2022-12-22 19:14:40,952 (server:323)INFO: Server #0: Starting evaluation at the end of round 24.\n",
      "2022-12-22 19:14:40,954 (server:330)INFO: ----------- Starting a new training round (Round #25) -------------\n",
      "2022-12-22 19:14:41,017 (client:415)INFO: {'Role': 'Client #1', 'Round': 25, 'Results_raw': {'test_acc': 0.745098, 'test_avg_loss': 0.498674, 'test_loss': 101.729538, 'test_total': 204, 'val_acc': 0.794118, 'val_avg_loss': 0.453143, 'val_loss': 92.441075, 'val_total': 204}}\n",
      "2022-12-22 19:14:41,019 (monitor:936)INFO: Current best: {'test_acc': 0.740196, 'test_avg_loss': 0.508134, 'test_loss': 103.659393, 'test_total': 204, 'val_acc': 0.779412, 'val_avg_loss': 0.449235, 'val_loss': 91.644029, 'val_total': 204}\n"
     ]
    },
    {
     "name": "stdout",
     "output_type": "stream",
     "text": [
      "no improve counter: 1\n",
      "self.best_metric: 91.64402854442596\n",
      "no improve counter: 2\n",
      "self.best_metric: 0.4492354340413037\n"
     ]
    },
    {
     "name": "stderr",
     "output_type": "stream",
     "text": [
      "2022-12-22 19:14:41,303 (client:260)INFO: {'Role': 'Client #1', 'Round': 25, 'Results_raw': {'train_acc': 0.800736, 'train_avg_loss': 0.438341, 'train_loss': 714.933821, 'train_total': 1631}}\n",
      "2022-12-22 19:14:41,306 (server:496)INFO: {'Role': 'Server #', 'Round': 25, 'Results_avg': {'test_acc': 0.745098, 'test_avg_loss': 0.498674, 'test_loss': 101.729538, 'test_total': 204.0, 'val_acc': 0.794118, 'val_avg_loss': 0.453143, 'val_loss': 92.441075, 'val_total': 204.0}}\n",
      "2022-12-22 19:14:41,307 (monitor:936)INFO: Current best: {'test_acc': 0.740196, 'test_avg_loss': 0.508134, 'test_loss': 103.659393, 'test_total': 204.0, 'val_acc': 0.779412, 'val_avg_loss': 0.449235, 'val_loss': 91.644029, 'val_total': 204.0}\n",
      "2022-12-22 19:14:41,310 (monitor:936)INFO: Current best: {'test_acc': 0.740196, 'test_avg_loss': 0.508134, 'test_loss': 103.659393, 'test_total': 204.0, 'val_acc': 0.779412, 'val_avg_loss': 0.449235, 'val_loss': 91.644029, 'val_total': 204.0}\n",
      "2022-12-22 19:14:41,312 (server:323)INFO: Server #0: Starting evaluation at the end of round 25.\n",
      "2022-12-22 19:14:41,313 (server:330)INFO: ----------- Starting a new training round (Round #26) -------------\n",
      "2022-12-22 19:14:41,378 (client:415)INFO: {'Role': 'Client #1', 'Round': 26, 'Results_raw': {'test_acc': 0.764706, 'test_avg_loss': 0.496086, 'test_loss': 101.201496, 'test_total': 204, 'val_acc': 0.77451, 'val_avg_loss': 0.455873, 'val_loss': 92.998034, 'val_total': 204}}\n",
      "2022-12-22 19:14:41,379 (monitor:936)INFO: Current best: {'test_acc': 0.740196, 'test_avg_loss': 0.508134, 'test_loss': 103.659393, 'test_total': 204, 'val_acc': 0.779412, 'val_avg_loss': 0.449235, 'val_loss': 91.644029, 'val_total': 204}\n"
     ]
    },
    {
     "name": "stdout",
     "output_type": "stream",
     "text": [
      "no improve counter: 2\n",
      "self.best_metric: 91.64402854442596\n",
      "no improve counter: 3\n",
      "self.best_metric: 0.4492354340413037\n"
     ]
    },
    {
     "name": "stderr",
     "output_type": "stream",
     "text": [
      "2022-12-22 19:14:41,655 (client:260)INFO: {'Role': 'Client #1', 'Round': 26, 'Results_raw': {'train_acc': 0.810546, 'train_avg_loss': 0.427016, 'train_loss': 696.463842, 'train_total': 1631}}\n",
      "2022-12-22 19:14:41,657 (server:496)INFO: {'Role': 'Server #', 'Round': 26, 'Results_avg': {'test_acc': 0.764706, 'test_avg_loss': 0.496086, 'test_loss': 101.201496, 'test_total': 204.0, 'val_acc': 0.77451, 'val_avg_loss': 0.455873, 'val_loss': 92.998034, 'val_total': 204.0}}\n",
      "2022-12-22 19:14:41,658 (monitor:936)INFO: Current best: {'test_acc': 0.740196, 'test_avg_loss': 0.508134, 'test_loss': 103.659393, 'test_total': 204.0, 'val_acc': 0.779412, 'val_avg_loss': 0.449235, 'val_loss': 91.644029, 'val_total': 204.0}\n",
      "2022-12-22 19:14:41,660 (monitor:936)INFO: Current best: {'test_acc': 0.740196, 'test_avg_loss': 0.508134, 'test_loss': 103.659393, 'test_total': 204.0, 'val_acc': 0.779412, 'val_avg_loss': 0.449235, 'val_loss': 91.644029, 'val_total': 204.0}\n",
      "2022-12-22 19:14:41,662 (server:323)INFO: Server #0: Starting evaluation at the end of round 26.\n",
      "2022-12-22 19:14:41,662 (server:330)INFO: ----------- Starting a new training round (Round #27) -------------\n",
      "2022-12-22 19:14:41,725 (client:415)INFO: {'Role': 'Client #1', 'Round': 27, 'Results_raw': {'test_acc': 0.745098, 'test_avg_loss': 0.526931, 'test_loss': 107.493923, 'test_total': 204, 'val_acc': 0.789216, 'val_avg_loss': 0.461281, 'val_loss': 94.101236, 'val_total': 204}}\n",
      "2022-12-22 19:14:41,726 (monitor:936)INFO: Current best: {'test_acc': 0.740196, 'test_avg_loss': 0.508134, 'test_loss': 103.659393, 'test_total': 204, 'val_acc': 0.779412, 'val_avg_loss': 0.449235, 'val_loss': 91.644029, 'val_total': 204}\n"
     ]
    },
    {
     "name": "stdout",
     "output_type": "stream",
     "text": [
      "no improve counter: 3\n",
      "self.best_metric: 91.64402854442596\n",
      "no improve counter: 4\n",
      "self.best_metric: 0.4492354340413037\n"
     ]
    },
    {
     "name": "stderr",
     "output_type": "stream",
     "text": [
      "2022-12-22 19:14:41,970 (client:260)INFO: {'Role': 'Client #1', 'Round': 27, 'Results_raw': {'train_acc': 0.801349, 'train_avg_loss': 0.440255, 'train_loss': 718.056613, 'train_total': 1631}}\n",
      "2022-12-22 19:14:41,972 (server:496)INFO: {'Role': 'Server #', 'Round': 27, 'Results_avg': {'test_acc': 0.745098, 'test_avg_loss': 0.526931, 'test_loss': 107.493923, 'test_total': 204.0, 'val_acc': 0.789216, 'val_avg_loss': 0.461281, 'val_loss': 94.101236, 'val_total': 204.0}}\n",
      "2022-12-22 19:14:41,973 (monitor:936)INFO: Current best: {'test_acc': 0.740196, 'test_avg_loss': 0.508134, 'test_loss': 103.659393, 'test_total': 204.0, 'val_acc': 0.779412, 'val_avg_loss': 0.449235, 'val_loss': 91.644029, 'val_total': 204.0}\n",
      "2022-12-22 19:14:41,974 (monitor:936)INFO: Current best: {'test_acc': 0.740196, 'test_avg_loss': 0.508134, 'test_loss': 103.659393, 'test_total': 204.0, 'val_acc': 0.779412, 'val_avg_loss': 0.449235, 'val_loss': 91.644029, 'val_total': 204.0}\n",
      "2022-12-22 19:14:41,976 (server:323)INFO: Server #0: Starting evaluation at the end of round 27.\n",
      "2022-12-22 19:14:41,976 (server:330)INFO: ----------- Starting a new training round (Round #28) -------------\n",
      "2022-12-22 19:14:42,045 (client:415)INFO: {'Role': 'Client #1', 'Round': 28, 'Results_raw': {'test_acc': 0.769608, 'test_avg_loss': 0.517457, 'test_loss': 105.561266, 'test_total': 204, 'val_acc': 0.764706, 'val_avg_loss': 0.464041, 'val_loss': 94.664396, 'val_total': 204}}\n",
      "2022-12-22 19:14:42,046 (monitor:936)INFO: Current best: {'test_acc': 0.740196, 'test_avg_loss': 0.508134, 'test_loss': 103.659393, 'test_total': 204, 'val_acc': 0.779412, 'val_avg_loss': 0.449235, 'val_loss': 91.644029, 'val_total': 204}\n"
     ]
    },
    {
     "name": "stdout",
     "output_type": "stream",
     "text": [
      "no improve counter: 4\n",
      "self.best_metric: 91.64402854442596\n",
      "no improve counter: 5\n",
      "self.best_metric: 0.4492354340413037\n"
     ]
    },
    {
     "name": "stderr",
     "output_type": "stream",
     "text": [
      "2022-12-22 19:14:42,295 (client:260)INFO: {'Role': 'Client #1', 'Round': 28, 'Results_raw': {'train_acc': 0.812385, 'train_avg_loss': 0.430498, 'train_loss': 702.141481, 'train_total': 1631}}\n",
      "2022-12-22 19:14:42,297 (server:496)INFO: {'Role': 'Server #', 'Round': 28, 'Results_avg': {'test_acc': 0.769608, 'test_avg_loss': 0.517457, 'test_loss': 105.561266, 'test_total': 204.0, 'val_acc': 0.764706, 'val_avg_loss': 0.464041, 'val_loss': 94.664396, 'val_total': 204.0}}\n",
      "2022-12-22 19:14:42,298 (monitor:936)INFO: Current best: {'test_acc': 0.740196, 'test_avg_loss': 0.508134, 'test_loss': 103.659393, 'test_total': 204.0, 'val_acc': 0.779412, 'val_avg_loss': 0.449235, 'val_loss': 91.644029, 'val_total': 204.0}\n",
      "2022-12-22 19:14:42,299 (monitor:936)INFO: Current best: {'test_acc': 0.740196, 'test_avg_loss': 0.508134, 'test_loss': 103.659393, 'test_total': 204.0, 'val_acc': 0.779412, 'val_avg_loss': 0.449235, 'val_loss': 91.644029, 'val_total': 204.0}\n",
      "2022-12-22 19:14:42,301 (server:323)INFO: Server #0: Starting evaluation at the end of round 28.\n",
      "2022-12-22 19:14:42,302 (server:330)INFO: ----------- Starting a new training round (Round #29) -------------\n",
      "2022-12-22 19:14:42,381 (client:415)INFO: {'Role': 'Client #1', 'Round': 29, 'Results_raw': {'test_acc': 0.784314, 'test_avg_loss': 0.496433, 'test_loss': 101.272329, 'test_total': 204, 'val_acc': 0.784314, 'val_avg_loss': 0.44052, 'val_loss': 89.866011, 'val_total': 204}}\n",
      "2022-12-22 19:14:42,382 (monitor:936)INFO: Current best: {'test_acc': 0.784314, 'test_avg_loss': 0.496433, 'test_loss': 101.272329, 'test_total': 204, 'val_acc': 0.784314, 'val_avg_loss': 0.44052, 'val_loss': 89.866011, 'val_total': 204}\n"
     ]
    },
    {
     "name": "stdout",
     "output_type": "stream",
     "text": [
      "no improve counter: 5\n",
      "self.best_metric: 91.64402854442596\n",
      "no improve counter: 0\n",
      "self.best_metric: 0.44051966012692917\n"
     ]
    },
    {
     "name": "stderr",
     "output_type": "stream",
     "text": [
      "2022-12-22 19:14:42,639 (client:260)INFO: {'Role': 'Client #1', 'Round': 29, 'Results_raw': {'train_acc': 0.806254, 'train_avg_loss': 0.438517, 'train_loss': 715.221587, 'train_total': 1631}}\n",
      "2022-12-22 19:14:42,641 (server:496)INFO: {'Role': 'Server #', 'Round': 29, 'Results_avg': {'test_acc': 0.784314, 'test_avg_loss': 0.496433, 'test_loss': 101.272329, 'test_total': 204.0, 'val_acc': 0.784314, 'val_avg_loss': 0.44052, 'val_loss': 89.866011, 'val_total': 204.0}}\n",
      "2022-12-22 19:14:42,643 (monitor:936)INFO: Current best: {'test_acc': [0.784314], 'test_avg_loss': [0.496433], 'test_loss': [101.272329], 'test_total': [204.0], 'val_acc': [0.784314], 'val_avg_loss': [0.44052], 'val_loss': [89.866011], 'val_total': [204.0]}\n",
      "2022-12-22 19:14:42,645 (monitor:936)INFO: Current best: {'test_acc': 0.784314, 'test_avg_loss': 0.496433, 'test_loss': 101.272329, 'test_total': 204.0, 'val_acc': 0.784314, 'val_avg_loss': 0.44052, 'val_loss': 89.866011, 'val_total': 204.0}\n",
      "2022-12-22 19:14:42,648 (server:323)INFO: Server #0: Starting evaluation at the end of round 29.\n",
      "2022-12-22 19:14:42,650 (server:330)INFO: ----------- Starting a new training round (Round #30) -------------\n",
      "2022-12-22 19:14:42,722 (client:415)INFO: {'Role': 'Client #1', 'Round': 30, 'Results_raw': {'test_acc': 0.779412, 'test_avg_loss': 0.491501, 'test_loss': 100.266246, 'test_total': 204, 'val_acc': 0.813725, 'val_avg_loss': 0.452454, 'val_loss': 92.300604, 'val_total': 204}}\n",
      "2022-12-22 19:14:42,724 (monitor:936)INFO: Current best: {'test_acc': 0.784314, 'test_avg_loss': 0.496433, 'test_loss': 101.272329, 'test_total': 204, 'val_acc': 0.784314, 'val_avg_loss': 0.44052, 'val_loss': 89.866011, 'val_total': 204}\n"
     ]
    },
    {
     "name": "stdout",
     "output_type": "stream",
     "text": [
      "no improve counter: 0\n",
      "self.best_metric: 89.86601066589355\n",
      "no improve counter: 1\n",
      "self.best_metric: 0.44051966012692917\n"
     ]
    },
    {
     "name": "stderr",
     "output_type": "stream",
     "text": [
      "2022-12-22 19:14:43,008 (client:260)INFO: {'Role': 'Client #1', 'Round': 30, 'Results_raw': {'train_acc': 0.806867, 'train_avg_loss': 0.431434, 'train_loss': 703.669346, 'train_total': 1631}}\n",
      "2022-12-22 19:14:43,010 (server:496)INFO: {'Role': 'Server #', 'Round': 30, 'Results_avg': {'test_acc': 0.779412, 'test_avg_loss': 0.491501, 'test_loss': 100.266246, 'test_total': 204.0, 'val_acc': 0.813725, 'val_avg_loss': 0.452454, 'val_loss': 92.300604, 'val_total': 204.0}}\n",
      "2022-12-22 19:14:43,011 (monitor:936)INFO: Current best: {'test_acc': 0.784314, 'test_avg_loss': 0.496433, 'test_loss': 101.272329, 'test_total': 204.0, 'val_acc': 0.784314, 'val_avg_loss': 0.44052, 'val_loss': 89.866011, 'val_total': 204.0}\n",
      "2022-12-22 19:14:43,013 (monitor:936)INFO: Current best: {'test_acc': 0.784314, 'test_avg_loss': 0.496433, 'test_loss': 101.272329, 'test_total': 204.0, 'val_acc': 0.784314, 'val_avg_loss': 0.44052, 'val_loss': 89.866011, 'val_total': 204.0}\n",
      "2022-12-22 19:14:43,015 (server:323)INFO: Server #0: Starting evaluation at the end of round 30.\n",
      "2022-12-22 19:14:43,017 (server:330)INFO: ----------- Starting a new training round (Round #31) -------------\n",
      "2022-12-22 19:14:43,090 (client:415)INFO: {'Role': 'Client #1', 'Round': 31, 'Results_raw': {'test_acc': 0.77451, 'test_avg_loss': 0.514166, 'test_loss': 104.889773, 'test_total': 204, 'val_acc': 0.77451, 'val_avg_loss': 0.453777, 'val_loss': 92.5705, 'val_total': 204}}\n",
      "2022-12-22 19:14:43,091 (monitor:936)INFO: Current best: {'test_acc': 0.784314, 'test_avg_loss': 0.496433, 'test_loss': 101.272329, 'test_total': 204, 'val_acc': 0.784314, 'val_avg_loss': 0.44052, 'val_loss': 89.866011, 'val_total': 204}\n"
     ]
    },
    {
     "name": "stdout",
     "output_type": "stream",
     "text": [
      "no improve counter: 1\n",
      "self.best_metric: 89.86601066589355\n",
      "no improve counter: 2\n",
      "self.best_metric: 0.44051966012692917\n"
     ]
    },
    {
     "name": "stderr",
     "output_type": "stream",
     "text": [
      "2022-12-22 19:14:43,361 (client:260)INFO: {'Role': 'Client #1', 'Round': 31, 'Results_raw': {'train_acc': 0.813611, 'train_avg_loss': 0.428185, 'train_loss': 698.369573, 'train_total': 1631}}\n",
      "2022-12-22 19:14:43,363 (server:496)INFO: {'Role': 'Server #', 'Round': 31, 'Results_avg': {'test_acc': 0.77451, 'test_avg_loss': 0.514166, 'test_loss': 104.889773, 'test_total': 204.0, 'val_acc': 0.77451, 'val_avg_loss': 0.453777, 'val_loss': 92.5705, 'val_total': 204.0}}\n",
      "2022-12-22 19:14:43,364 (monitor:936)INFO: Current best: {'test_acc': 0.784314, 'test_avg_loss': 0.496433, 'test_loss': 101.272329, 'test_total': 204.0, 'val_acc': 0.784314, 'val_avg_loss': 0.44052, 'val_loss': 89.866011, 'val_total': 204.0}\n",
      "2022-12-22 19:14:43,366 (monitor:936)INFO: Current best: {'test_acc': 0.784314, 'test_avg_loss': 0.496433, 'test_loss': 101.272329, 'test_total': 204.0, 'val_acc': 0.784314, 'val_avg_loss': 0.44052, 'val_loss': 89.866011, 'val_total': 204.0}\n",
      "2022-12-22 19:14:43,368 (server:323)INFO: Server #0: Starting evaluation at the end of round 31.\n",
      "2022-12-22 19:14:43,369 (server:330)INFO: ----------- Starting a new training round (Round #32) -------------\n",
      "2022-12-22 19:14:43,433 (client:415)INFO: {'Role': 'Client #1', 'Round': 32, 'Results_raw': {'test_acc': 0.764706, 'test_avg_loss': 0.512038, 'test_loss': 104.455828, 'test_total': 204, 'val_acc': 0.77451, 'val_avg_loss': 0.452791, 'val_loss': 92.369385, 'val_total': 204}}\n",
      "2022-12-22 19:14:43,434 (monitor:936)INFO: Current best: {'test_acc': 0.784314, 'test_avg_loss': 0.496433, 'test_loss': 101.272329, 'test_total': 204, 'val_acc': 0.784314, 'val_avg_loss': 0.44052, 'val_loss': 89.866011, 'val_total': 204}\n"
     ]
    },
    {
     "name": "stdout",
     "output_type": "stream",
     "text": [
      "no improve counter: 2\n",
      "self.best_metric: 89.86601066589355\n",
      "no improve counter: 3\n",
      "self.best_metric: 0.44051966012692917\n"
     ]
    },
    {
     "name": "stderr",
     "output_type": "stream",
     "text": [
      "2022-12-22 19:14:43,706 (client:260)INFO: {'Role': 'Client #1', 'Round': 32, 'Results_raw': {'train_acc': 0.820969, 'train_avg_loss': 0.432989, 'train_loss': 706.204388, 'train_total': 1631}}\n",
      "2022-12-22 19:14:43,709 (server:496)INFO: {'Role': 'Server #', 'Round': 32, 'Results_avg': {'test_acc': 0.764706, 'test_avg_loss': 0.512038, 'test_loss': 104.455828, 'test_total': 204.0, 'val_acc': 0.77451, 'val_avg_loss': 0.452791, 'val_loss': 92.369385, 'val_total': 204.0}}\n",
      "2022-12-22 19:14:43,710 (monitor:936)INFO: Current best: {'test_acc': 0.784314, 'test_avg_loss': 0.496433, 'test_loss': 101.272329, 'test_total': 204.0, 'val_acc': 0.784314, 'val_avg_loss': 0.44052, 'val_loss': 89.866011, 'val_total': 204.0}\n",
      "2022-12-22 19:14:43,712 (monitor:936)INFO: Current best: {'test_acc': 0.784314, 'test_avg_loss': 0.496433, 'test_loss': 101.272329, 'test_total': 204.0, 'val_acc': 0.784314, 'val_avg_loss': 0.44052, 'val_loss': 89.866011, 'val_total': 204.0}\n",
      "2022-12-22 19:14:43,715 (server:323)INFO: Server #0: Starting evaluation at the end of round 32.\n",
      "2022-12-22 19:14:43,715 (server:330)INFO: ----------- Starting a new training round (Round #33) -------------\n",
      "2022-12-22 19:14:43,805 (client:415)INFO: {'Role': 'Client #1', 'Round': 33, 'Results_raw': {'test_acc': 0.764706, 'test_avg_loss': 0.499362, 'test_loss': 101.86991, 'test_total': 204, 'val_acc': 0.803922, 'val_avg_loss': 0.446006, 'val_loss': 90.985178, 'val_total': 204}}\n",
      "2022-12-22 19:14:43,806 (monitor:936)INFO: Current best: {'test_acc': 0.784314, 'test_avg_loss': 0.496433, 'test_loss': 101.272329, 'test_total': 204, 'val_acc': 0.784314, 'val_avg_loss': 0.44052, 'val_loss': 89.866011, 'val_total': 204}\n"
     ]
    },
    {
     "name": "stdout",
     "output_type": "stream",
     "text": [
      "no improve counter: 3\n",
      "self.best_metric: 89.86601066589355\n",
      "no improve counter: 4\n",
      "self.best_metric: 0.44051966012692917\n"
     ]
    },
    {
     "name": "stderr",
     "output_type": "stream",
     "text": [
      "2022-12-22 19:14:44,060 (client:260)INFO: {'Role': 'Client #1', 'Round': 33, 'Results_raw': {'train_acc': 0.805028, 'train_avg_loss': 0.4275, 'train_loss': 697.25237, 'train_total': 1631}}\n",
      "2022-12-22 19:14:44,062 (server:496)INFO: {'Role': 'Server #', 'Round': 33, 'Results_avg': {'test_acc': 0.764706, 'test_avg_loss': 0.499362, 'test_loss': 101.86991, 'test_total': 204.0, 'val_acc': 0.803922, 'val_avg_loss': 0.446006, 'val_loss': 90.985178, 'val_total': 204.0}}\n",
      "2022-12-22 19:14:44,063 (monitor:936)INFO: Current best: {'test_acc': 0.784314, 'test_avg_loss': 0.496433, 'test_loss': 101.272329, 'test_total': 204.0, 'val_acc': 0.784314, 'val_avg_loss': 0.44052, 'val_loss': 89.866011, 'val_total': 204.0}\n",
      "2022-12-22 19:14:44,065 (monitor:936)INFO: Current best: {'test_acc': 0.784314, 'test_avg_loss': 0.496433, 'test_loss': 101.272329, 'test_total': 204.0, 'val_acc': 0.784314, 'val_avg_loss': 0.44052, 'val_loss': 89.866011, 'val_total': 204.0}\n",
      "2022-12-22 19:14:44,067 (server:323)INFO: Server #0: Starting evaluation at the end of round 33.\n",
      "2022-12-22 19:14:44,069 (server:330)INFO: ----------- Starting a new training round (Round #34) -------------\n",
      "2022-12-22 19:14:44,142 (client:415)INFO: {'Role': 'Client #1', 'Round': 34, 'Results_raw': {'test_acc': 0.77451, 'test_avg_loss': 0.516624, 'test_loss': 105.391278, 'test_total': 204, 'val_acc': 0.784314, 'val_avg_loss': 0.449091, 'val_loss': 91.614649, 'val_total': 204}}\n",
      "2022-12-22 19:14:44,142 (monitor:936)INFO: Current best: {'test_acc': 0.784314, 'test_avg_loss': 0.496433, 'test_loss': 101.272329, 'test_total': 204, 'val_acc': 0.784314, 'val_avg_loss': 0.44052, 'val_loss': 89.866011, 'val_total': 204}\n"
     ]
    },
    {
     "name": "stdout",
     "output_type": "stream",
     "text": [
      "no improve counter: 4\n",
      "self.best_metric: 89.86601066589355\n",
      "no improve counter: 5\n",
      "self.best_metric: 0.44051966012692917\n"
     ]
    },
    {
     "name": "stderr",
     "output_type": "stream",
     "text": [
      "2022-12-22 19:14:44,417 (client:260)INFO: {'Role': 'Client #1', 'Round': 34, 'Results_raw': {'train_acc': 0.81729, 'train_avg_loss': 0.42433, 'train_loss': 692.081528, 'train_total': 1631}}\n",
      "2022-12-22 19:14:44,420 (server:496)INFO: {'Role': 'Server #', 'Round': 34, 'Results_avg': {'test_acc': 0.77451, 'test_avg_loss': 0.516624, 'test_loss': 105.391278, 'test_total': 204.0, 'val_acc': 0.784314, 'val_avg_loss': 0.449091, 'val_loss': 91.614649, 'val_total': 204.0}}\n",
      "2022-12-22 19:14:44,421 (monitor:936)INFO: Current best: {'test_acc': 0.784314, 'test_avg_loss': 0.496433, 'test_loss': 101.272329, 'test_total': 204.0, 'val_acc': 0.784314, 'val_avg_loss': 0.44052, 'val_loss': 89.866011, 'val_total': 204.0}\n",
      "2022-12-22 19:14:44,423 (monitor:936)INFO: Current best: {'test_acc': 0.784314, 'test_avg_loss': 0.496433, 'test_loss': 101.272329, 'test_total': 204.0, 'val_acc': 0.784314, 'val_avg_loss': 0.44052, 'val_loss': 89.866011, 'val_total': 204.0}\n",
      "2022-12-22 19:14:44,426 (server:323)INFO: Server #0: Starting evaluation at the end of round 34.\n",
      "2022-12-22 19:14:44,429 (server:330)INFO: ----------- Starting a new training round (Round #35) -------------\n",
      "2022-12-22 19:14:44,489 (client:415)INFO: {'Role': 'Client #1', 'Round': 35, 'Results_raw': {'test_acc': 0.769608, 'test_avg_loss': 0.51837, 'test_loss': 105.747468, 'test_total': 204, 'val_acc': 0.789216, 'val_avg_loss': 0.449437, 'val_loss': 91.685119, 'val_total': 204}}\n",
      "2022-12-22 19:14:44,490 (monitor:936)INFO: Current best: {'test_acc': 0.784314, 'test_avg_loss': 0.496433, 'test_loss': 101.272329, 'test_total': 204, 'val_acc': 0.784314, 'val_avg_loss': 0.44052, 'val_loss': 89.866011, 'val_total': 204}\n"
     ]
    },
    {
     "name": "stdout",
     "output_type": "stream",
     "text": [
      "no improve counter: 5\n",
      "self.best_metric: 89.86601066589355\n",
      "no improve counter: 6\n",
      "self.best_metric: 0.44051966012692917\n"
     ]
    },
    {
     "name": "stderr",
     "output_type": "stream",
     "text": [
      "2022-12-22 19:14:44,781 (client:260)INFO: {'Role': 'Client #1', 'Round': 35, 'Results_raw': {'train_acc': 0.821582, 'train_avg_loss': 0.419933, 'train_loss': 684.910605, 'train_total': 1631}}\n",
      "2022-12-22 19:14:44,784 (server:496)INFO: {'Role': 'Server #', 'Round': 35, 'Results_avg': {'test_acc': 0.769608, 'test_avg_loss': 0.51837, 'test_loss': 105.747468, 'test_total': 204.0, 'val_acc': 0.789216, 'val_avg_loss': 0.449437, 'val_loss': 91.685119, 'val_total': 204.0}}\n",
      "2022-12-22 19:14:44,785 (monitor:936)INFO: Current best: {'test_acc': 0.784314, 'test_avg_loss': 0.496433, 'test_loss': 101.272329, 'test_total': 204.0, 'val_acc': 0.784314, 'val_avg_loss': 0.44052, 'val_loss': 89.866011, 'val_total': 204.0}\n",
      "2022-12-22 19:14:44,787 (monitor:936)INFO: Current best: {'test_acc': 0.784314, 'test_avg_loss': 0.496433, 'test_loss': 101.272329, 'test_total': 204.0, 'val_acc': 0.784314, 'val_avg_loss': 0.44052, 'val_loss': 89.866011, 'val_total': 204.0}\n",
      "2022-12-22 19:14:44,789 (server:323)INFO: Server #0: Starting evaluation at the end of round 35.\n",
      "2022-12-22 19:14:44,792 (server:330)INFO: ----------- Starting a new training round (Round #36) -------------\n",
      "2022-12-22 19:14:44,860 (client:415)INFO: {'Role': 'Client #1', 'Round': 36, 'Results_raw': {'test_acc': 0.77451, 'test_avg_loss': 0.52392, 'test_loss': 106.879763, 'test_total': 204, 'val_acc': 0.789216, 'val_avg_loss': 0.456458, 'val_loss': 93.117489, 'val_total': 204}}\n",
      "2022-12-22 19:14:44,862 (monitor:936)INFO: Current best: {'test_acc': 0.784314, 'test_avg_loss': 0.496433, 'test_loss': 101.272329, 'test_total': 204, 'val_acc': 0.784314, 'val_avg_loss': 0.44052, 'val_loss': 89.866011, 'val_total': 204}\n"
     ]
    },
    {
     "name": "stdout",
     "output_type": "stream",
     "text": [
      "no improve counter: 6\n",
      "self.best_metric: 89.86601066589355\n",
      "no improve counter: 7\n",
      "self.best_metric: 0.44051966012692917\n"
     ]
    },
    {
     "name": "stderr",
     "output_type": "stream",
     "text": [
      "2022-12-22 19:14:45,144 (client:260)INFO: {'Role': 'Client #1', 'Round': 36, 'Results_raw': {'train_acc': 0.824647, 'train_avg_loss': 0.423119, 'train_loss': 690.106917, 'train_total': 1631}}\n",
      "2022-12-22 19:14:45,146 (server:496)INFO: {'Role': 'Server #', 'Round': 36, 'Results_avg': {'test_acc': 0.77451, 'test_avg_loss': 0.52392, 'test_loss': 106.879763, 'test_total': 204.0, 'val_acc': 0.789216, 'val_avg_loss': 0.456458, 'val_loss': 93.117489, 'val_total': 204.0}}\n",
      "2022-12-22 19:14:45,147 (monitor:936)INFO: Current best: {'test_acc': 0.784314, 'test_avg_loss': 0.496433, 'test_loss': 101.272329, 'test_total': 204.0, 'val_acc': 0.784314, 'val_avg_loss': 0.44052, 'val_loss': 89.866011, 'val_total': 204.0}\n",
      "2022-12-22 19:14:45,149 (monitor:936)INFO: Current best: {'test_acc': 0.784314, 'test_avg_loss': 0.496433, 'test_loss': 101.272329, 'test_total': 204.0, 'val_acc': 0.784314, 'val_avg_loss': 0.44052, 'val_loss': 89.866011, 'val_total': 204.0}\n",
      "2022-12-22 19:14:45,151 (server:323)INFO: Server #0: Starting evaluation at the end of round 36.\n",
      "2022-12-22 19:14:45,152 (server:330)INFO: ----------- Starting a new training round (Round #37) -------------\n",
      "2022-12-22 19:14:45,215 (client:415)INFO: {'Role': 'Client #1', 'Round': 37, 'Results_raw': {'test_acc': 0.77451, 'test_avg_loss': 0.505373, 'test_loss': 103.096096, 'test_total': 204, 'val_acc': 0.803922, 'val_avg_loss': 0.452822, 'val_loss': 92.375664, 'val_total': 204}}\n",
      "2022-12-22 19:14:45,217 (monitor:936)INFO: Current best: {'test_acc': 0.784314, 'test_avg_loss': 0.496433, 'test_loss': 101.272329, 'test_total': 204, 'val_acc': 0.784314, 'val_avg_loss': 0.44052, 'val_loss': 89.866011, 'val_total': 204}\n"
     ]
    },
    {
     "name": "stdout",
     "output_type": "stream",
     "text": [
      "no improve counter: 7\n",
      "self.best_metric: 89.86601066589355\n",
      "no improve counter: 8\n",
      "self.best_metric: 0.44051966012692917\n"
     ]
    },
    {
     "name": "stderr",
     "output_type": "stream",
     "text": [
      "2022-12-22 19:14:45,506 (client:260)INFO: {'Role': 'Client #1', 'Round': 37, 'Results_raw': {'train_acc': 0.81729, 'train_avg_loss': 0.429423, 'train_loss': 700.389295, 'train_total': 1631}}\n",
      "2022-12-22 19:14:45,509 (server:496)INFO: {'Role': 'Server #', 'Round': 37, 'Results_avg': {'test_acc': 0.77451, 'test_avg_loss': 0.505373, 'test_loss': 103.096096, 'test_total': 204.0, 'val_acc': 0.803922, 'val_avg_loss': 0.452822, 'val_loss': 92.375664, 'val_total': 204.0}}\n",
      "2022-12-22 19:14:45,511 (monitor:936)INFO: Current best: {'test_acc': 0.784314, 'test_avg_loss': 0.496433, 'test_loss': 101.272329, 'test_total': 204.0, 'val_acc': 0.784314, 'val_avg_loss': 0.44052, 'val_loss': 89.866011, 'val_total': 204.0}\n",
      "2022-12-22 19:14:45,513 (monitor:936)INFO: Current best: {'test_acc': 0.784314, 'test_avg_loss': 0.496433, 'test_loss': 101.272329, 'test_total': 204.0, 'val_acc': 0.784314, 'val_avg_loss': 0.44052, 'val_loss': 89.866011, 'val_total': 204.0}\n",
      "2022-12-22 19:14:45,514 (server:323)INFO: Server #0: Starting evaluation at the end of round 37.\n",
      "2022-12-22 19:14:45,516 (server:330)INFO: ----------- Starting a new training round (Round #38) -------------\n",
      "2022-12-22 19:14:45,582 (client:415)INFO: {'Role': 'Client #1', 'Round': 38, 'Results_raw': {'test_acc': 0.794118, 'test_avg_loss': 0.505763, 'test_loss': 103.175733, 'test_total': 204, 'val_acc': 0.813725, 'val_avg_loss': 0.434516, 'val_loss': 88.641269, 'val_total': 204}}\n",
      "2022-12-22 19:14:45,583 (monitor:936)INFO: Current best: {'test_acc': 0.794118, 'test_avg_loss': 0.505763, 'test_loss': 103.175733, 'test_total': 204, 'val_acc': 0.813725, 'val_avg_loss': 0.434516, 'val_loss': 88.641269, 'val_total': 204}\n"
     ]
    },
    {
     "name": "stdout",
     "output_type": "stream",
     "text": [
      "no improve counter: 8\n",
      "self.best_metric: 89.86601066589355\n",
      "no improve counter: 0\n",
      "self.best_metric: 0.43451602610887263\n"
     ]
    },
    {
     "name": "stderr",
     "output_type": "stream",
     "text": [
      "2022-12-22 19:14:45,889 (client:260)INFO: {'Role': 'Client #1', 'Round': 38, 'Results_raw': {'train_acc': 0.830779, 'train_avg_loss': 0.416788, 'train_loss': 679.781623, 'train_total': 1631}}\n",
      "2022-12-22 19:14:45,891 (server:496)INFO: {'Role': 'Server #', 'Round': 38, 'Results_avg': {'test_acc': 0.794118, 'test_avg_loss': 0.505763, 'test_loss': 103.175733, 'test_total': 204.0, 'val_acc': 0.813725, 'val_avg_loss': 0.434516, 'val_loss': 88.641269, 'val_total': 204.0}}\n",
      "2022-12-22 19:14:45,893 (monitor:936)INFO: Current best: {'test_acc': [0.794118], 'test_avg_loss': [0.505763], 'test_loss': [103.175733], 'test_total': [204.0], 'val_acc': [0.813725], 'val_avg_loss': [0.434516], 'val_loss': [88.641269], 'val_total': [204.0]}\n",
      "2022-12-22 19:14:45,895 (monitor:936)INFO: Current best: {'test_acc': 0.794118, 'test_avg_loss': 0.505763, 'test_loss': 103.175733, 'test_total': 204.0, 'val_acc': 0.813725, 'val_avg_loss': 0.434516, 'val_loss': 88.641269, 'val_total': 204.0}\n",
      "2022-12-22 19:14:45,897 (server:323)INFO: Server #0: Starting evaluation at the end of round 38.\n",
      "2022-12-22 19:14:45,898 (server:330)INFO: ----------- Starting a new training round (Round #39) -------------\n",
      "2022-12-22 19:14:45,967 (client:415)INFO: {'Role': 'Client #1', 'Round': 39, 'Results_raw': {'test_acc': 0.77451, 'test_avg_loss': 0.534606, 'test_loss': 109.059718, 'test_total': 204, 'val_acc': 0.784314, 'val_avg_loss': 0.451379, 'val_loss': 92.08125, 'val_total': 204}}\n",
      "2022-12-22 19:14:45,968 (monitor:936)INFO: Current best: {'test_acc': 0.794118, 'test_avg_loss': 0.505763, 'test_loss': 103.175733, 'test_total': 204, 'val_acc': 0.813725, 'val_avg_loss': 0.434516, 'val_loss': 88.641269, 'val_total': 204}\n"
     ]
    },
    {
     "name": "stdout",
     "output_type": "stream",
     "text": [
      "no improve counter: 0\n",
      "self.best_metric: 88.64126932621002\n",
      "no improve counter: 1\n",
      "self.best_metric: 0.43451602610887263\n"
     ]
    },
    {
     "name": "stderr",
     "output_type": "stream",
     "text": [
      "2022-12-22 19:14:46,258 (client:260)INFO: {'Role': 'Client #1', 'Round': 39, 'Results_raw': {'train_acc': 0.832618, 'train_avg_loss': 0.417018, 'train_loss': 680.155916, 'train_total': 1631}}\n",
      "2022-12-22 19:14:46,260 (server:496)INFO: {'Role': 'Server #', 'Round': 39, 'Results_avg': {'test_acc': 0.77451, 'test_avg_loss': 0.534606, 'test_loss': 109.059718, 'test_total': 204.0, 'val_acc': 0.784314, 'val_avg_loss': 0.451379, 'val_loss': 92.08125, 'val_total': 204.0}}\n",
      "2022-12-22 19:14:46,261 (monitor:936)INFO: Current best: {'test_acc': 0.794118, 'test_avg_loss': 0.505763, 'test_loss': 103.175733, 'test_total': 204.0, 'val_acc': 0.813725, 'val_avg_loss': 0.434516, 'val_loss': 88.641269, 'val_total': 204.0}\n",
      "2022-12-22 19:14:46,263 (monitor:936)INFO: Current best: {'test_acc': 0.794118, 'test_avg_loss': 0.505763, 'test_loss': 103.175733, 'test_total': 204.0, 'val_acc': 0.813725, 'val_avg_loss': 0.434516, 'val_loss': 88.641269, 'val_total': 204.0}\n",
      "2022-12-22 19:14:46,265 (server:323)INFO: Server #0: Starting evaluation at the end of round 39.\n",
      "2022-12-22 19:14:46,268 (server:330)INFO: ----------- Starting a new training round (Round #40) -------------\n",
      "2022-12-22 19:14:46,343 (client:415)INFO: {'Role': 'Client #1', 'Round': 40, 'Results_raw': {'test_acc': 0.789216, 'test_avg_loss': 0.514625, 'test_loss': 104.983409, 'test_total': 204, 'val_acc': 0.794118, 'val_avg_loss': 0.440269, 'val_loss': 89.814786, 'val_total': 204}}\n",
      "2022-12-22 19:14:46,344 (monitor:936)INFO: Current best: {'test_acc': 0.794118, 'test_avg_loss': 0.505763, 'test_loss': 103.175733, 'test_total': 204, 'val_acc': 0.813725, 'val_avg_loss': 0.434516, 'val_loss': 88.641269, 'val_total': 204}\n"
     ]
    },
    {
     "name": "stdout",
     "output_type": "stream",
     "text": [
      "no improve counter: 1\n",
      "self.best_metric: 88.64126932621002\n",
      "no improve counter: 2\n",
      "self.best_metric: 0.43451602610887263\n"
     ]
    },
    {
     "name": "stderr",
     "output_type": "stream",
     "text": [
      "2022-12-22 19:14:46,614 (client:260)INFO: {'Role': 'Client #1', 'Round': 40, 'Results_raw': {'train_acc': 0.81729, 'train_avg_loss': 0.426142, 'train_loss': 695.03795, 'train_total': 1631}}\n",
      "2022-12-22 19:14:46,616 (server:496)INFO: {'Role': 'Server #', 'Round': 40, 'Results_avg': {'test_acc': 0.789216, 'test_avg_loss': 0.514625, 'test_loss': 104.983409, 'test_total': 204.0, 'val_acc': 0.794118, 'val_avg_loss': 0.440269, 'val_loss': 89.814786, 'val_total': 204.0}}\n",
      "2022-12-22 19:14:46,617 (monitor:936)INFO: Current best: {'test_acc': 0.794118, 'test_avg_loss': 0.505763, 'test_loss': 103.175733, 'test_total': 204.0, 'val_acc': 0.813725, 'val_avg_loss': 0.434516, 'val_loss': 88.641269, 'val_total': 204.0}\n",
      "2022-12-22 19:14:46,620 (monitor:936)INFO: Current best: {'test_acc': 0.794118, 'test_avg_loss': 0.505763, 'test_loss': 103.175733, 'test_total': 204.0, 'val_acc': 0.813725, 'val_avg_loss': 0.434516, 'val_loss': 88.641269, 'val_total': 204.0}\n",
      "2022-12-22 19:14:46,622 (server:323)INFO: Server #0: Starting evaluation at the end of round 40.\n",
      "2022-12-22 19:14:46,623 (server:330)INFO: ----------- Starting a new training round (Round #41) -------------\n",
      "2022-12-22 19:14:46,691 (client:415)INFO: {'Role': 'Client #1', 'Round': 41, 'Results_raw': {'test_acc': 0.789216, 'test_avg_loss': 0.506674, 'test_loss': 103.361475, 'test_total': 204, 'val_acc': 0.803922, 'val_avg_loss': 0.434891, 'val_loss': 88.71768, 'val_total': 204}}\n",
      "2022-12-22 19:14:46,692 (monitor:936)INFO: Current best: {'test_acc': 0.794118, 'test_avg_loss': 0.505763, 'test_loss': 103.175733, 'test_total': 204, 'val_acc': 0.813725, 'val_avg_loss': 0.434516, 'val_loss': 88.641269, 'val_total': 204}\n"
     ]
    },
    {
     "name": "stdout",
     "output_type": "stream",
     "text": [
      "no improve counter: 2\n",
      "self.best_metric: 88.64126932621002\n",
      "no improve counter: 3\n",
      "self.best_metric: 0.43451602610887263\n"
     ]
    },
    {
     "name": "stderr",
     "output_type": "stream",
     "text": [
      "2022-12-22 19:14:46,959 (client:260)INFO: {'Role': 'Client #1', 'Round': 41, 'Results_raw': {'train_acc': 0.832005, 'train_avg_loss': 0.420782, 'train_loss': 686.295399, 'train_total': 1631}}\n",
      "2022-12-22 19:14:46,961 (server:496)INFO: {'Role': 'Server #', 'Round': 41, 'Results_avg': {'test_acc': 0.789216, 'test_avg_loss': 0.506674, 'test_loss': 103.361475, 'test_total': 204.0, 'val_acc': 0.803922, 'val_avg_loss': 0.434891, 'val_loss': 88.71768, 'val_total': 204.0}}\n",
      "2022-12-22 19:14:46,962 (monitor:936)INFO: Current best: {'test_acc': 0.794118, 'test_avg_loss': 0.505763, 'test_loss': 103.175733, 'test_total': 204.0, 'val_acc': 0.813725, 'val_avg_loss': 0.434516, 'val_loss': 88.641269, 'val_total': 204.0}\n",
      "2022-12-22 19:14:46,964 (monitor:936)INFO: Current best: {'test_acc': 0.794118, 'test_avg_loss': 0.505763, 'test_loss': 103.175733, 'test_total': 204.0, 'val_acc': 0.813725, 'val_avg_loss': 0.434516, 'val_loss': 88.641269, 'val_total': 204.0}\n",
      "2022-12-22 19:14:46,966 (server:323)INFO: Server #0: Starting evaluation at the end of round 41.\n",
      "2022-12-22 19:14:46,966 (server:330)INFO: ----------- Starting a new training round (Round #42) -------------\n",
      "2022-12-22 19:14:47,028 (client:415)INFO: {'Role': 'Client #1', 'Round': 42, 'Results_raw': {'test_acc': 0.779412, 'test_avg_loss': 0.546135, 'test_loss': 111.411441, 'test_total': 204, 'val_acc': 0.789216, 'val_avg_loss': 0.453895, 'val_loss': 92.594653, 'val_total': 204}}\n",
      "2022-12-22 19:14:47,029 (monitor:936)INFO: Current best: {'test_acc': 0.794118, 'test_avg_loss': 0.505763, 'test_loss': 103.175733, 'test_total': 204, 'val_acc': 0.813725, 'val_avg_loss': 0.434516, 'val_loss': 88.641269, 'val_total': 204}\n"
     ]
    },
    {
     "name": "stdout",
     "output_type": "stream",
     "text": [
      "no improve counter: 3\n",
      "self.best_metric: 88.64126932621002\n",
      "no improve counter: 4\n",
      "self.best_metric: 0.43451602610887263\n"
     ]
    },
    {
     "name": "stderr",
     "output_type": "stream",
     "text": [
      "2022-12-22 19:14:47,271 (client:260)INFO: {'Role': 'Client #1', 'Round': 42, 'Results_raw': {'train_acc': 0.832005, 'train_avg_loss': 0.41521, 'train_loss': 677.208015, 'train_total': 1631}}\n",
      "2022-12-22 19:14:47,273 (server:496)INFO: {'Role': 'Server #', 'Round': 42, 'Results_avg': {'test_acc': 0.779412, 'test_avg_loss': 0.546135, 'test_loss': 111.411441, 'test_total': 204.0, 'val_acc': 0.789216, 'val_avg_loss': 0.453895, 'val_loss': 92.594653, 'val_total': 204.0}}\n",
      "2022-12-22 19:14:47,274 (monitor:936)INFO: Current best: {'test_acc': 0.794118, 'test_avg_loss': 0.505763, 'test_loss': 103.175733, 'test_total': 204.0, 'val_acc': 0.813725, 'val_avg_loss': 0.434516, 'val_loss': 88.641269, 'val_total': 204.0}\n",
      "2022-12-22 19:14:47,275 (monitor:936)INFO: Current best: {'test_acc': 0.794118, 'test_avg_loss': 0.505763, 'test_loss': 103.175733, 'test_total': 204.0, 'val_acc': 0.813725, 'val_avg_loss': 0.434516, 'val_loss': 88.641269, 'val_total': 204.0}\n",
      "2022-12-22 19:14:47,278 (server:323)INFO: Server #0: Starting evaluation at the end of round 42.\n",
      "2022-12-22 19:14:47,278 (server:330)INFO: ----------- Starting a new training round (Round #43) -------------\n",
      "2022-12-22 19:14:47,335 (client:415)INFO: {'Role': 'Client #1', 'Round': 43, 'Results_raw': {'test_acc': 0.779412, 'test_avg_loss': 0.523249, 'test_loss': 106.742847, 'test_total': 204, 'val_acc': 0.794118, 'val_avg_loss': 0.453323, 'val_loss': 92.477818, 'val_total': 204}}\n",
      "2022-12-22 19:14:47,337 (monitor:936)INFO: Current best: {'test_acc': 0.794118, 'test_avg_loss': 0.505763, 'test_loss': 103.175733, 'test_total': 204, 'val_acc': 0.813725, 'val_avg_loss': 0.434516, 'val_loss': 88.641269, 'val_total': 204}\n"
     ]
    },
    {
     "name": "stdout",
     "output_type": "stream",
     "text": [
      "no improve counter: 4\n",
      "self.best_metric: 88.64126932621002\n",
      "no improve counter: 5\n",
      "self.best_metric: 0.43451602610887263\n"
     ]
    },
    {
     "name": "stderr",
     "output_type": "stream",
     "text": [
      "2022-12-22 19:14:47,603 (client:260)INFO: {'Role': 'Client #1', 'Round': 43, 'Results_raw': {'train_acc': 0.820969, 'train_avg_loss': 0.420889, 'train_loss': 686.470718, 'train_total': 1631}}\n",
      "2022-12-22 19:14:47,605 (server:496)INFO: {'Role': 'Server #', 'Round': 43, 'Results_avg': {'test_acc': 0.779412, 'test_avg_loss': 0.523249, 'test_loss': 106.742847, 'test_total': 204.0, 'val_acc': 0.794118, 'val_avg_loss': 0.453323, 'val_loss': 92.477818, 'val_total': 204.0}}\n",
      "2022-12-22 19:14:47,606 (monitor:936)INFO: Current best: {'test_acc': 0.794118, 'test_avg_loss': 0.505763, 'test_loss': 103.175733, 'test_total': 204.0, 'val_acc': 0.813725, 'val_avg_loss': 0.434516, 'val_loss': 88.641269, 'val_total': 204.0}\n",
      "2022-12-22 19:14:47,608 (monitor:936)INFO: Current best: {'test_acc': 0.794118, 'test_avg_loss': 0.505763, 'test_loss': 103.175733, 'test_total': 204.0, 'val_acc': 0.813725, 'val_avg_loss': 0.434516, 'val_loss': 88.641269, 'val_total': 204.0}\n",
      "2022-12-22 19:14:47,612 (server:323)INFO: Server #0: Starting evaluation at the end of round 43.\n",
      "2022-12-22 19:14:47,613 (server:330)INFO: ----------- Starting a new training round (Round #44) -------------\n",
      "2022-12-22 19:14:47,672 (client:415)INFO: {'Role': 'Client #1', 'Round': 44, 'Results_raw': {'test_acc': 0.803922, 'test_avg_loss': 0.509713, 'test_loss': 103.981498, 'test_total': 204, 'val_acc': 0.808824, 'val_avg_loss': 0.438856, 'val_loss': 89.526616, 'val_total': 204}}\n",
      "2022-12-22 19:14:47,673 (monitor:936)INFO: Current best: {'test_acc': 0.794118, 'test_avg_loss': 0.505763, 'test_loss': 103.175733, 'test_total': 204, 'val_acc': 0.813725, 'val_avg_loss': 0.434516, 'val_loss': 88.641269, 'val_total': 204}\n"
     ]
    },
    {
     "name": "stdout",
     "output_type": "stream",
     "text": [
      "no improve counter: 5\n",
      "self.best_metric: 88.64126932621002\n",
      "no improve counter: 6\n",
      "self.best_metric: 0.43451602610887263\n"
     ]
    },
    {
     "name": "stderr",
     "output_type": "stream",
     "text": [
      "2022-12-22 19:14:47,957 (client:260)INFO: {'Role': 'Client #1', 'Round': 44, 'Results_raw': {'train_acc': 0.830779, 'train_avg_loss': 0.410405, 'train_loss': 669.370268, 'train_total': 1631}}\n",
      "2022-12-22 19:14:47,959 (server:496)INFO: {'Role': 'Server #', 'Round': 44, 'Results_avg': {'test_acc': 0.803922, 'test_avg_loss': 0.509713, 'test_loss': 103.981498, 'test_total': 204.0, 'val_acc': 0.808824, 'val_avg_loss': 0.438856, 'val_loss': 89.526616, 'val_total': 204.0}}\n",
      "2022-12-22 19:14:47,959 (monitor:936)INFO: Current best: {'test_acc': 0.794118, 'test_avg_loss': 0.505763, 'test_loss': 103.175733, 'test_total': 204.0, 'val_acc': 0.813725, 'val_avg_loss': 0.434516, 'val_loss': 88.641269, 'val_total': 204.0}\n",
      "2022-12-22 19:14:47,962 (monitor:936)INFO: Current best: {'test_acc': 0.794118, 'test_avg_loss': 0.505763, 'test_loss': 103.175733, 'test_total': 204.0, 'val_acc': 0.813725, 'val_avg_loss': 0.434516, 'val_loss': 88.641269, 'val_total': 204.0}\n",
      "2022-12-22 19:14:47,964 (server:323)INFO: Server #0: Starting evaluation at the end of round 44.\n",
      "2022-12-22 19:14:47,965 (server:330)INFO: ----------- Starting a new training round (Round #45) -------------\n",
      "2022-12-22 19:14:48,026 (client:415)INFO: {'Role': 'Client #1', 'Round': 45, 'Results_raw': {'test_acc': 0.79902, 'test_avg_loss': 0.518054, 'test_loss': 105.6831, 'test_total': 204, 'val_acc': 0.808824, 'val_avg_loss': 0.446456, 'val_loss': 91.076923, 'val_total': 204}}\n",
      "2022-12-22 19:14:48,028 (monitor:936)INFO: Current best: {'test_acc': 0.794118, 'test_avg_loss': 0.505763, 'test_loss': 103.175733, 'test_total': 204, 'val_acc': 0.813725, 'val_avg_loss': 0.434516, 'val_loss': 88.641269, 'val_total': 204}\n"
     ]
    },
    {
     "name": "stdout",
     "output_type": "stream",
     "text": [
      "no improve counter: 6\n",
      "self.best_metric: 88.64126932621002\n",
      "no improve counter: 7\n",
      "self.best_metric: 0.43451602610887263\n"
     ]
    },
    {
     "name": "stderr",
     "output_type": "stream",
     "text": [
      "2022-12-22 19:14:48,287 (client:260)INFO: {'Role': 'Client #1', 'Round': 45, 'Results_raw': {'train_acc': 0.833231, 'train_avg_loss': 0.409436, 'train_loss': 667.79005, 'train_total': 1631}}\n",
      "2022-12-22 19:14:48,289 (server:496)INFO: {'Role': 'Server #', 'Round': 45, 'Results_avg': {'test_acc': 0.79902, 'test_avg_loss': 0.518054, 'test_loss': 105.6831, 'test_total': 204.0, 'val_acc': 0.808824, 'val_avg_loss': 0.446456, 'val_loss': 91.076923, 'val_total': 204.0}}\n",
      "2022-12-22 19:14:48,292 (monitor:936)INFO: Current best: {'test_acc': 0.794118, 'test_avg_loss': 0.505763, 'test_loss': 103.175733, 'test_total': 204.0, 'val_acc': 0.813725, 'val_avg_loss': 0.434516, 'val_loss': 88.641269, 'val_total': 204.0}\n",
      "2022-12-22 19:14:48,294 (monitor:936)INFO: Current best: {'test_acc': 0.794118, 'test_avg_loss': 0.505763, 'test_loss': 103.175733, 'test_total': 204.0, 'val_acc': 0.813725, 'val_avg_loss': 0.434516, 'val_loss': 88.641269, 'val_total': 204.0}\n",
      "2022-12-22 19:14:48,296 (server:323)INFO: Server #0: Starting evaluation at the end of round 45.\n",
      "2022-12-22 19:14:48,297 (server:330)INFO: ----------- Starting a new training round (Round #46) -------------\n",
      "2022-12-22 19:14:48,365 (client:415)INFO: {'Role': 'Client #1', 'Round': 46, 'Results_raw': {'test_acc': 0.789216, 'test_avg_loss': 0.537304, 'test_loss': 109.609981, 'test_total': 204, 'val_acc': 0.808824, 'val_avg_loss': 0.447838, 'val_loss': 91.358863, 'val_total': 204}}\n",
      "2022-12-22 19:14:48,366 (monitor:936)INFO: Current best: {'test_acc': 0.794118, 'test_avg_loss': 0.505763, 'test_loss': 103.175733, 'test_total': 204, 'val_acc': 0.813725, 'val_avg_loss': 0.434516, 'val_loss': 88.641269, 'val_total': 204}\n"
     ]
    },
    {
     "name": "stdout",
     "output_type": "stream",
     "text": [
      "no improve counter: 7\n",
      "self.best_metric: 88.64126932621002\n",
      "no improve counter: 8\n",
      "self.best_metric: 0.43451602610887263\n"
     ]
    },
    {
     "name": "stderr",
     "output_type": "stream",
     "text": [
      "2022-12-22 19:14:48,642 (client:260)INFO: {'Role': 'Client #1', 'Round': 46, 'Results_raw': {'train_acc': 0.828326, 'train_avg_loss': 0.420413, 'train_loss': 685.694119, 'train_total': 1631}}\n",
      "2022-12-22 19:14:48,644 (server:496)INFO: {'Role': 'Server #', 'Round': 46, 'Results_avg': {'test_acc': 0.789216, 'test_avg_loss': 0.537304, 'test_loss': 109.609981, 'test_total': 204.0, 'val_acc': 0.808824, 'val_avg_loss': 0.447838, 'val_loss': 91.358863, 'val_total': 204.0}}\n",
      "2022-12-22 19:14:48,645 (monitor:936)INFO: Current best: {'test_acc': 0.794118, 'test_avg_loss': 0.505763, 'test_loss': 103.175733, 'test_total': 204.0, 'val_acc': 0.813725, 'val_avg_loss': 0.434516, 'val_loss': 88.641269, 'val_total': 204.0}\n",
      "2022-12-22 19:14:48,646 (monitor:936)INFO: Current best: {'test_acc': 0.794118, 'test_avg_loss': 0.505763, 'test_loss': 103.175733, 'test_total': 204.0, 'val_acc': 0.813725, 'val_avg_loss': 0.434516, 'val_loss': 88.641269, 'val_total': 204.0}\n",
      "2022-12-22 19:14:48,648 (server:323)INFO: Server #0: Starting evaluation at the end of round 46.\n",
      "2022-12-22 19:14:48,649 (server:330)INFO: ----------- Starting a new training round (Round #47) -------------\n",
      "2022-12-22 19:14:48,707 (client:415)INFO: {'Role': 'Client #1', 'Round': 47, 'Results_raw': {'test_acc': 0.813725, 'test_avg_loss': 0.500922, 'test_loss': 102.188015, 'test_total': 204, 'val_acc': 0.813725, 'val_avg_loss': 0.466719, 'val_loss': 95.210595, 'val_total': 204}}\n",
      "2022-12-22 19:14:48,708 (monitor:936)INFO: Current best: {'test_acc': 0.794118, 'test_avg_loss': 0.505763, 'test_loss': 103.175733, 'test_total': 204, 'val_acc': 0.813725, 'val_avg_loss': 0.434516, 'val_loss': 88.641269, 'val_total': 204}\n"
     ]
    },
    {
     "name": "stdout",
     "output_type": "stream",
     "text": [
      "no improve counter: 8\n",
      "self.best_metric: 88.64126932621002\n",
      "no improve counter: 9\n",
      "self.best_metric: 0.43451602610887263\n"
     ]
    },
    {
     "name": "stderr",
     "output_type": "stream",
     "text": [
      "2022-12-22 19:14:48,973 (client:260)INFO: {'Role': 'Client #1', 'Round': 47, 'Results_raw': {'train_acc': 0.836297, 'train_avg_loss': 0.407018, 'train_loss': 663.846321, 'train_total': 1631}}\n",
      "2022-12-22 19:14:48,976 (server:496)INFO: {'Role': 'Server #', 'Round': 47, 'Results_avg': {'test_acc': 0.813725, 'test_avg_loss': 0.500922, 'test_loss': 102.188015, 'test_total': 204.0, 'val_acc': 0.813725, 'val_avg_loss': 0.466719, 'val_loss': 95.210595, 'val_total': 204.0}}\n",
      "2022-12-22 19:14:48,977 (monitor:936)INFO: Current best: {'test_acc': 0.794118, 'test_avg_loss': 0.505763, 'test_loss': 103.175733, 'test_total': 204.0, 'val_acc': 0.813725, 'val_avg_loss': 0.434516, 'val_loss': 88.641269, 'val_total': 204.0}\n",
      "2022-12-22 19:14:48,979 (monitor:936)INFO: Current best: {'test_acc': 0.794118, 'test_avg_loss': 0.505763, 'test_loss': 103.175733, 'test_total': 204.0, 'val_acc': 0.813725, 'val_avg_loss': 0.434516, 'val_loss': 88.641269, 'val_total': 204.0}\n",
      "2022-12-22 19:14:48,981 (server:323)INFO: Server #0: Starting evaluation at the end of round 47.\n",
      "2022-12-22 19:14:48,982 (server:330)INFO: ----------- Starting a new training round (Round #48) -------------\n",
      "2022-12-22 19:14:49,037 (client:415)INFO: {'Role': 'Client #1', 'Round': 48, 'Results_raw': {'test_acc': 0.77451, 'test_avg_loss': 0.548168, 'test_loss': 111.826283, 'test_total': 204, 'val_acc': 0.779412, 'val_avg_loss': 0.457869, 'val_loss': 93.405273, 'val_total': 204}}\n",
      "2022-12-22 19:14:49,038 (monitor:936)INFO: Current best: {'test_acc': 0.794118, 'test_avg_loss': 0.505763, 'test_loss': 103.175733, 'test_total': 204, 'val_acc': 0.813725, 'val_avg_loss': 0.434516, 'val_loss': 88.641269, 'val_total': 204}\n"
     ]
    },
    {
     "name": "stdout",
     "output_type": "stream",
     "text": [
      "no improve counter: 9\n",
      "self.best_metric: 88.64126932621002\n",
      "no improve counter: 10\n",
      "self.best_metric: 0.43451602610887263\n"
     ]
    },
    {
     "name": "stderr",
     "output_type": "stream",
     "text": [
      "2022-12-22 19:14:49,324 (client:260)INFO: {'Role': 'Client #1', 'Round': 48, 'Results_raw': {'train_acc': 0.836297, 'train_avg_loss': 0.403427, 'train_loss': 657.989533, 'train_total': 1631}}\n",
      "2022-12-22 19:14:49,326 (server:496)INFO: {'Role': 'Server #', 'Round': 48, 'Results_avg': {'test_acc': 0.77451, 'test_avg_loss': 0.548168, 'test_loss': 111.826283, 'test_total': 204.0, 'val_acc': 0.779412, 'val_avg_loss': 0.457869, 'val_loss': 93.405273, 'val_total': 204.0}}\n",
      "2022-12-22 19:14:49,327 (monitor:936)INFO: Current best: {'test_acc': 0.794118, 'test_avg_loss': 0.505763, 'test_loss': 103.175733, 'test_total': 204.0, 'val_acc': 0.813725, 'val_avg_loss': 0.434516, 'val_loss': 88.641269, 'val_total': 204.0}\n",
      "2022-12-22 19:14:49,329 (monitor:936)INFO: Current best: {'test_acc': 0.794118, 'test_avg_loss': 0.505763, 'test_loss': 103.175733, 'test_total': 204.0, 'val_acc': 0.813725, 'val_avg_loss': 0.434516, 'val_loss': 88.641269, 'val_total': 204.0}\n",
      "2022-12-22 19:14:49,331 (server:323)INFO: Server #0: Starting evaluation at the end of round 48.\n",
      "2022-12-22 19:14:49,332 (server:330)INFO: ----------- Starting a new training round (Round #49) -------------\n",
      "2022-12-22 19:14:49,393 (client:415)INFO: {'Role': 'Client #1', 'Round': 49, 'Results_raw': {'test_acc': 0.784314, 'test_avg_loss': 0.528963, 'test_loss': 107.908549, 'test_total': 204, 'val_acc': 0.784314, 'val_avg_loss': 0.462368, 'val_loss': 94.323007, 'val_total': 204}}\n",
      "2022-12-22 19:14:49,395 (monitor:936)INFO: Current best: {'test_acc': 0.794118, 'test_avg_loss': 0.505763, 'test_loss': 103.175733, 'test_total': 204, 'val_acc': 0.813725, 'val_avg_loss': 0.434516, 'val_loss': 88.641269, 'val_total': 204}\n"
     ]
    },
    {
     "name": "stdout",
     "output_type": "stream",
     "text": [
      "no improve counter: 10\n",
      "self.best_metric: 88.64126932621002\n",
      "no improve counter: 11\n",
      "self.best_metric: 0.43451602610887263\n"
     ]
    },
    {
     "name": "stderr",
     "output_type": "stream",
     "text": [
      "2022-12-22 19:14:49,685 (client:260)INFO: {'Role': 'Client #1', 'Round': 49, 'Results_raw': {'train_acc': 0.835071, 'train_avg_loss': 0.408835, 'train_loss': 666.810368, 'train_total': 1631}}\n",
      "2022-12-22 19:14:49,687 (server:496)INFO: {'Role': 'Server #', 'Round': 49, 'Results_avg': {'test_acc': 0.784314, 'test_avg_loss': 0.528963, 'test_loss': 107.908549, 'test_total': 204.0, 'val_acc': 0.784314, 'val_avg_loss': 0.462368, 'val_loss': 94.323007, 'val_total': 204.0}}\n",
      "2022-12-22 19:14:49,688 (monitor:936)INFO: Current best: {'test_acc': 0.794118, 'test_avg_loss': 0.505763, 'test_loss': 103.175733, 'test_total': 204.0, 'val_acc': 0.813725, 'val_avg_loss': 0.434516, 'val_loss': 88.641269, 'val_total': 204.0}\n",
      "2022-12-22 19:14:49,689 (monitor:936)INFO: Current best: {'test_acc': 0.794118, 'test_avg_loss': 0.505763, 'test_loss': 103.175733, 'test_total': 204.0, 'val_acc': 0.813725, 'val_avg_loss': 0.434516, 'val_loss': 88.641269, 'val_total': 204.0}\n",
      "2022-12-22 19:14:49,691 (server:323)INFO: Server #0: Starting evaluation at the end of round 49.\n",
      "2022-12-22 19:14:49,693 (server:330)INFO: ----------- Starting a new training round (Round #50) -------------\n",
      "2022-12-22 19:14:49,752 (client:415)INFO: {'Role': 'Client #1', 'Round': 50, 'Results_raw': {'test_acc': 0.77451, 'test_avg_loss': 0.528955, 'test_loss': 107.906756, 'test_total': 204, 'val_acc': 0.79902, 'val_avg_loss': 0.452597, 'val_loss': 92.329705, 'val_total': 204}}\n",
      "2022-12-22 19:14:49,754 (monitor:936)INFO: Current best: {'test_acc': 0.794118, 'test_avg_loss': 0.505763, 'test_loss': 103.175733, 'test_total': 204, 'val_acc': 0.813725, 'val_avg_loss': 0.434516, 'val_loss': 88.641269, 'val_total': 204}\n"
     ]
    },
    {
     "name": "stdout",
     "output_type": "stream",
     "text": [
      "no improve counter: 11\n",
      "self.best_metric: 88.64126932621002\n",
      "no improve counter: 12\n",
      "self.best_metric: 0.43451602610887263\n"
     ]
    },
    {
     "name": "stderr",
     "output_type": "stream",
     "text": [
      "2022-12-22 19:14:50,032 (client:260)INFO: {'Role': 'Client #1', 'Round': 50, 'Results_raw': {'train_acc': 0.841815, 'train_avg_loss': 0.405448, 'train_loss': 661.285846, 'train_total': 1631}}\n",
      "2022-12-22 19:14:50,034 (server:496)INFO: {'Role': 'Server #', 'Round': 50, 'Results_avg': {'test_acc': 0.77451, 'test_avg_loss': 0.528955, 'test_loss': 107.906756, 'test_total': 204.0, 'val_acc': 0.79902, 'val_avg_loss': 0.452597, 'val_loss': 92.329705, 'val_total': 204.0}}\n",
      "2022-12-22 19:14:50,036 (monitor:936)INFO: Current best: {'test_acc': 0.794118, 'test_avg_loss': 0.505763, 'test_loss': 103.175733, 'test_total': 204.0, 'val_acc': 0.813725, 'val_avg_loss': 0.434516, 'val_loss': 88.641269, 'val_total': 204.0}\n",
      "2022-12-22 19:14:50,037 (monitor:936)INFO: Current best: {'test_acc': 0.794118, 'test_avg_loss': 0.505763, 'test_loss': 103.175733, 'test_total': 204.0, 'val_acc': 0.813725, 'val_avg_loss': 0.434516, 'val_loss': 88.641269, 'val_total': 204.0}\n",
      "2022-12-22 19:14:50,040 (server:323)INFO: Server #0: Starting evaluation at the end of round 50.\n",
      "2022-12-22 19:14:50,041 (server:330)INFO: ----------- Starting a new training round (Round #51) -------------\n",
      "2022-12-22 19:14:50,093 (client:415)INFO: {'Role': 'Client #1', 'Round': 51, 'Results_raw': {'test_acc': 0.79902, 'test_avg_loss': 0.5129, 'test_loss': 104.631568, 'test_total': 204, 'val_acc': 0.828431, 'val_avg_loss': 0.438741, 'val_loss': 89.50308, 'val_total': 204}}\n",
      "2022-12-22 19:14:50,094 (monitor:936)INFO: Current best: {'test_acc': 0.794118, 'test_avg_loss': 0.505763, 'test_loss': 103.175733, 'test_total': 204, 'val_acc': 0.813725, 'val_avg_loss': 0.434516, 'val_loss': 88.641269, 'val_total': 204}\n"
     ]
    },
    {
     "name": "stdout",
     "output_type": "stream",
     "text": [
      "no improve counter: 12\n",
      "self.best_metric: 88.64126932621002\n",
      "no improve counter: 13\n",
      "self.best_metric: 0.43451602610887263\n"
     ]
    },
    {
     "name": "stderr",
     "output_type": "stream",
     "text": [
      "2022-12-22 19:14:50,359 (client:260)INFO: {'Role': 'Client #1', 'Round': 51, 'Results_raw': {'train_acc': 0.838749, 'train_avg_loss': 0.403459, 'train_loss': 658.041212, 'train_total': 1631}}\n",
      "2022-12-22 19:14:50,361 (server:496)INFO: {'Role': 'Server #', 'Round': 51, 'Results_avg': {'test_acc': 0.79902, 'test_avg_loss': 0.5129, 'test_loss': 104.631568, 'test_total': 204.0, 'val_acc': 0.828431, 'val_avg_loss': 0.438741, 'val_loss': 89.50308, 'val_total': 204.0}}\n",
      "2022-12-22 19:14:50,361 (monitor:936)INFO: Current best: {'test_acc': 0.794118, 'test_avg_loss': 0.505763, 'test_loss': 103.175733, 'test_total': 204.0, 'val_acc': 0.813725, 'val_avg_loss': 0.434516, 'val_loss': 88.641269, 'val_total': 204.0}\n",
      "2022-12-22 19:14:50,362 (monitor:936)INFO: Current best: {'test_acc': 0.794118, 'test_avg_loss': 0.505763, 'test_loss': 103.175733, 'test_total': 204.0, 'val_acc': 0.813725, 'val_avg_loss': 0.434516, 'val_loss': 88.641269, 'val_total': 204.0}\n",
      "2022-12-22 19:14:50,364 (server:323)INFO: Server #0: Starting evaluation at the end of round 51.\n",
      "2022-12-22 19:14:50,364 (server:330)INFO: ----------- Starting a new training round (Round #52) -------------\n",
      "2022-12-22 19:14:50,425 (client:415)INFO: {'Role': 'Client #1', 'Round': 52, 'Results_raw': {'test_acc': 0.784314, 'test_avg_loss': 0.524155, 'test_loss': 106.927702, 'test_total': 204, 'val_acc': 0.784314, 'val_avg_loss': 0.459793, 'val_loss': 93.79775, 'val_total': 204}}\n",
      "2022-12-22 19:14:50,426 (monitor:936)INFO: Current best: {'test_acc': 0.794118, 'test_avg_loss': 0.505763, 'test_loss': 103.175733, 'test_total': 204, 'val_acc': 0.813725, 'val_avg_loss': 0.434516, 'val_loss': 88.641269, 'val_total': 204}\n"
     ]
    },
    {
     "name": "stdout",
     "output_type": "stream",
     "text": [
      "no improve counter: 13\n",
      "self.best_metric: 88.64126932621002\n",
      "no improve counter: 14\n",
      "self.best_metric: 0.43451602610887263\n"
     ]
    },
    {
     "name": "stderr",
     "output_type": "stream",
     "text": [
      "2022-12-22 19:14:50,666 (client:260)INFO: {'Role': 'Client #1', 'Round': 52, 'Results_raw': {'train_acc': 0.832005, 'train_avg_loss': 0.418342, 'train_loss': 682.316165, 'train_total': 1631}}\n",
      "2022-12-22 19:14:50,668 (server:496)INFO: {'Role': 'Server #', 'Round': 52, 'Results_avg': {'test_acc': 0.784314, 'test_avg_loss': 0.524155, 'test_loss': 106.927702, 'test_total': 204.0, 'val_acc': 0.784314, 'val_avg_loss': 0.459793, 'val_loss': 93.79775, 'val_total': 204.0}}\n",
      "2022-12-22 19:14:50,668 (monitor:936)INFO: Current best: {'test_acc': 0.794118, 'test_avg_loss': 0.505763, 'test_loss': 103.175733, 'test_total': 204.0, 'val_acc': 0.813725, 'val_avg_loss': 0.434516, 'val_loss': 88.641269, 'val_total': 204.0}\n",
      "2022-12-22 19:14:50,670 (monitor:936)INFO: Current best: {'test_acc': 0.794118, 'test_avg_loss': 0.505763, 'test_loss': 103.175733, 'test_total': 204.0, 'val_acc': 0.813725, 'val_avg_loss': 0.434516, 'val_loss': 88.641269, 'val_total': 204.0}\n",
      "2022-12-22 19:14:50,671 (server:323)INFO: Server #0: Starting evaluation at the end of round 52.\n",
      "2022-12-22 19:14:50,672 (server:330)INFO: ----------- Starting a new training round (Round #53) -------------\n",
      "2022-12-22 19:14:50,729 (client:415)INFO: {'Role': 'Client #1', 'Round': 53, 'Results_raw': {'test_acc': 0.779412, 'test_avg_loss': 0.531088, 'test_loss': 108.341906, 'test_total': 204, 'val_acc': 0.823529, 'val_avg_loss': 0.447964, 'val_loss': 91.384642, 'val_total': 204}}\n",
      "2022-12-22 19:14:50,730 (monitor:936)INFO: Current best: {'test_acc': 0.794118, 'test_avg_loss': 0.505763, 'test_loss': 103.175733, 'test_total': 204, 'val_acc': 0.813725, 'val_avg_loss': 0.434516, 'val_loss': 88.641269, 'val_total': 204}\n"
     ]
    },
    {
     "name": "stdout",
     "output_type": "stream",
     "text": [
      "no improve counter: 14\n",
      "self.best_metric: 88.64126932621002\n",
      "no improve counter: 15\n",
      "self.best_metric: 0.43451602610887263\n"
     ]
    },
    {
     "name": "stderr",
     "output_type": "stream",
     "text": [
      "2022-12-22 19:14:50,993 (client:260)INFO: {'Role': 'Client #1', 'Round': 53, 'Results_raw': {'train_acc': 0.841202, 'train_avg_loss': 0.404395, 'train_loss': 659.568967, 'train_total': 1631}}\n",
      "2022-12-22 19:14:50,996 (server:496)INFO: {'Role': 'Server #', 'Round': 53, 'Results_avg': {'test_acc': 0.779412, 'test_avg_loss': 0.531088, 'test_loss': 108.341906, 'test_total': 204.0, 'val_acc': 0.823529, 'val_avg_loss': 0.447964, 'val_loss': 91.384642, 'val_total': 204.0}}\n",
      "2022-12-22 19:14:50,997 (monitor:936)INFO: Current best: {'test_acc': 0.794118, 'test_avg_loss': 0.505763, 'test_loss': 103.175733, 'test_total': 204.0, 'val_acc': 0.813725, 'val_avg_loss': 0.434516, 'val_loss': 88.641269, 'val_total': 204.0}\n",
      "2022-12-22 19:14:50,998 (monitor:936)INFO: Current best: {'test_acc': 0.794118, 'test_avg_loss': 0.505763, 'test_loss': 103.175733, 'test_total': 204.0, 'val_acc': 0.813725, 'val_avg_loss': 0.434516, 'val_loss': 88.641269, 'val_total': 204.0}\n",
      "2022-12-22 19:14:51,001 (server:323)INFO: Server #0: Starting evaluation at the end of round 53.\n",
      "2022-12-22 19:14:51,002 (server:330)INFO: ----------- Starting a new training round (Round #54) -------------\n",
      "2022-12-22 19:14:51,055 (client:415)INFO: {'Role': 'Client #1', 'Round': 54, 'Results_raw': {'test_acc': 0.794118, 'test_avg_loss': 0.529524, 'test_loss': 108.022875, 'test_total': 204, 'val_acc': 0.818627, 'val_avg_loss': 0.444547, 'val_loss': 90.68755, 'val_total': 204}}\n",
      "2022-12-22 19:14:51,056 (monitor:936)INFO: Current best: {'test_acc': 0.794118, 'test_avg_loss': 0.505763, 'test_loss': 103.175733, 'test_total': 204, 'val_acc': 0.813725, 'val_avg_loss': 0.434516, 'val_loss': 88.641269, 'val_total': 204}\n"
     ]
    },
    {
     "name": "stdout",
     "output_type": "stream",
     "text": [
      "no improve counter: 15\n",
      "self.best_metric: 88.64126932621002\n",
      "no improve counter: 16\n",
      "self.best_metric: 0.43451602610887263\n"
     ]
    },
    {
     "name": "stderr",
     "output_type": "stream",
     "text": [
      "2022-12-22 19:14:51,336 (client:260)INFO: {'Role': 'Client #1', 'Round': 54, 'Results_raw': {'train_acc': 0.832618, 'train_avg_loss': 0.409461, 'train_loss': 667.831344, 'train_total': 1631}}\n",
      "2022-12-22 19:14:51,339 (server:496)INFO: {'Role': 'Server #', 'Round': 54, 'Results_avg': {'test_acc': 0.794118, 'test_avg_loss': 0.529524, 'test_loss': 108.022875, 'test_total': 204.0, 'val_acc': 0.818627, 'val_avg_loss': 0.444547, 'val_loss': 90.68755, 'val_total': 204.0}}\n",
      "2022-12-22 19:14:51,340 (monitor:936)INFO: Current best: {'test_acc': 0.794118, 'test_avg_loss': 0.505763, 'test_loss': 103.175733, 'test_total': 204.0, 'val_acc': 0.813725, 'val_avg_loss': 0.434516, 'val_loss': 88.641269, 'val_total': 204.0}\n",
      "2022-12-22 19:14:51,343 (monitor:936)INFO: Current best: {'test_acc': 0.794118, 'test_avg_loss': 0.505763, 'test_loss': 103.175733, 'test_total': 204.0, 'val_acc': 0.813725, 'val_avg_loss': 0.434516, 'val_loss': 88.641269, 'val_total': 204.0}\n",
      "2022-12-22 19:14:51,347 (server:323)INFO: Server #0: Starting evaluation at the end of round 54.\n",
      "2022-12-22 19:14:51,348 (server:330)INFO: ----------- Starting a new training round (Round #55) -------------\n",
      "2022-12-22 19:14:51,414 (client:415)INFO: {'Role': 'Client #1', 'Round': 55, 'Results_raw': {'test_acc': 0.784314, 'test_avg_loss': 0.531436, 'test_loss': 108.412992, 'test_total': 204, 'val_acc': 0.818627, 'val_avg_loss': 0.435491, 'val_loss': 88.840126, 'val_total': 204}}\n",
      "2022-12-22 19:14:51,416 (monitor:936)INFO: Current best: {'test_acc': 0.794118, 'test_avg_loss': 0.505763, 'test_loss': 103.175733, 'test_total': 204, 'val_acc': 0.813725, 'val_avg_loss': 0.434516, 'val_loss': 88.641269, 'val_total': 204}\n"
     ]
    },
    {
     "name": "stdout",
     "output_type": "stream",
     "text": [
      "no improve counter: 16\n",
      "self.best_metric: 88.64126932621002\n",
      "no improve counter: 17\n",
      "self.best_metric: 0.43451602610887263\n"
     ]
    },
    {
     "name": "stderr",
     "output_type": "stream",
     "text": [
      "2022-12-22 19:14:51,668 (client:260)INFO: {'Role': 'Client #1', 'Round': 55, 'Results_raw': {'train_acc': 0.83691, 'train_avg_loss': 0.405642, 'train_loss': 661.602703, 'train_total': 1631}}\n",
      "2022-12-22 19:14:51,670 (server:496)INFO: {'Role': 'Server #', 'Round': 55, 'Results_avg': {'test_acc': 0.784314, 'test_avg_loss': 0.531436, 'test_loss': 108.412992, 'test_total': 204.0, 'val_acc': 0.818627, 'val_avg_loss': 0.435491, 'val_loss': 88.840126, 'val_total': 204.0}}\n",
      "2022-12-22 19:14:51,672 (monitor:936)INFO: Current best: {'test_acc': 0.794118, 'test_avg_loss': 0.505763, 'test_loss': 103.175733, 'test_total': 204.0, 'val_acc': 0.813725, 'val_avg_loss': 0.434516, 'val_loss': 88.641269, 'val_total': 204.0}\n",
      "2022-12-22 19:14:51,674 (monitor:936)INFO: Current best: {'test_acc': 0.794118, 'test_avg_loss': 0.505763, 'test_loss': 103.175733, 'test_total': 204.0, 'val_acc': 0.813725, 'val_avg_loss': 0.434516, 'val_loss': 88.641269, 'val_total': 204.0}\n",
      "2022-12-22 19:14:51,677 (server:323)INFO: Server #0: Starting evaluation at the end of round 55.\n",
      "2022-12-22 19:14:51,678 (server:330)INFO: ----------- Starting a new training round (Round #56) -------------\n",
      "2022-12-22 19:14:51,759 (client:415)INFO: {'Role': 'Client #1', 'Round': 56, 'Results_raw': {'test_acc': 0.794118, 'test_avg_loss': 0.526959, 'test_loss': 107.499596, 'test_total': 204, 'val_acc': 0.808824, 'val_avg_loss': 0.444936, 'val_loss': 90.766848, 'val_total': 204}}\n",
      "2022-12-22 19:14:51,760 (monitor:936)INFO: Current best: {'test_acc': 0.794118, 'test_avg_loss': 0.505763, 'test_loss': 103.175733, 'test_total': 204, 'val_acc': 0.813725, 'val_avg_loss': 0.434516, 'val_loss': 88.641269, 'val_total': 204}\n"
     ]
    },
    {
     "name": "stdout",
     "output_type": "stream",
     "text": [
      "no improve counter: 17\n",
      "self.best_metric: 88.64126932621002\n",
      "no improve counter: 18\n",
      "self.best_metric: 0.43451602610887263\n"
     ]
    },
    {
     "name": "stderr",
     "output_type": "stream",
     "text": [
      "2022-12-22 19:14:52,055 (client:260)INFO: {'Role': 'Client #1', 'Round': 56, 'Results_raw': {'train_acc': 0.835684, 'train_avg_loss': 0.405901, 'train_loss': 662.024799, 'train_total': 1631}}\n",
      "2022-12-22 19:14:52,057 (server:496)INFO: {'Role': 'Server #', 'Round': 56, 'Results_avg': {'test_acc': 0.794118, 'test_avg_loss': 0.526959, 'test_loss': 107.499596, 'test_total': 204.0, 'val_acc': 0.808824, 'val_avg_loss': 0.444936, 'val_loss': 90.766848, 'val_total': 204.0}}\n",
      "2022-12-22 19:14:52,058 (monitor:936)INFO: Current best: {'test_acc': 0.794118, 'test_avg_loss': 0.505763, 'test_loss': 103.175733, 'test_total': 204.0, 'val_acc': 0.813725, 'val_avg_loss': 0.434516, 'val_loss': 88.641269, 'val_total': 204.0}\n",
      "2022-12-22 19:14:52,061 (monitor:936)INFO: Current best: {'test_acc': 0.794118, 'test_avg_loss': 0.505763, 'test_loss': 103.175733, 'test_total': 204.0, 'val_acc': 0.813725, 'val_avg_loss': 0.434516, 'val_loss': 88.641269, 'val_total': 204.0}\n",
      "2022-12-22 19:14:52,065 (server:323)INFO: Server #0: Starting evaluation at the end of round 56.\n",
      "2022-12-22 19:14:52,066 (server:330)INFO: ----------- Starting a new training round (Round #57) -------------\n",
      "2022-12-22 19:14:52,130 (client:415)INFO: {'Role': 'Client #1', 'Round': 57, 'Results_raw': {'test_acc': 0.794118, 'test_avg_loss': 0.524988, 'test_loss': 107.097468, 'test_total': 204, 'val_acc': 0.828431, 'val_avg_loss': 0.444099, 'val_loss': 90.596236, 'val_total': 204}}\n",
      "2022-12-22 19:14:52,131 (monitor:936)INFO: Current best: {'test_acc': 0.794118, 'test_avg_loss': 0.505763, 'test_loss': 103.175733, 'test_total': 204, 'val_acc': 0.813725, 'val_avg_loss': 0.434516, 'val_loss': 88.641269, 'val_total': 204}\n"
     ]
    },
    {
     "name": "stdout",
     "output_type": "stream",
     "text": [
      "no improve counter: 18\n",
      "self.best_metric: 88.64126932621002\n",
      "no improve counter: 19\n",
      "self.best_metric: 0.43451602610887263\n"
     ]
    },
    {
     "name": "stderr",
     "output_type": "stream",
     "text": [
      "2022-12-22 19:14:52,373 (client:260)INFO: {'Role': 'Client #1', 'Round': 57, 'Results_raw': {'train_acc': 0.831392, 'train_avg_loss': 0.409766, 'train_loss': 668.327768, 'train_total': 1631}}\n",
      "2022-12-22 19:14:52,375 (server:496)INFO: {'Role': 'Server #', 'Round': 57, 'Results_avg': {'test_acc': 0.794118, 'test_avg_loss': 0.524988, 'test_loss': 107.097468, 'test_total': 204.0, 'val_acc': 0.828431, 'val_avg_loss': 0.444099, 'val_loss': 90.596236, 'val_total': 204.0}}\n",
      "2022-12-22 19:14:52,377 (monitor:936)INFO: Current best: {'test_acc': 0.794118, 'test_avg_loss': 0.505763, 'test_loss': 103.175733, 'test_total': 204.0, 'val_acc': 0.813725, 'val_avg_loss': 0.434516, 'val_loss': 88.641269, 'val_total': 204.0}\n",
      "2022-12-22 19:14:52,379 (monitor:936)INFO: Current best: {'test_acc': 0.794118, 'test_avg_loss': 0.505763, 'test_loss': 103.175733, 'test_total': 204.0, 'val_acc': 0.813725, 'val_avg_loss': 0.434516, 'val_loss': 88.641269, 'val_total': 204.0}\n",
      "2022-12-22 19:14:52,382 (server:323)INFO: Server #0: Starting evaluation at the end of round 57.\n",
      "2022-12-22 19:14:52,383 (server:330)INFO: ----------- Starting a new training round (Round #58) -------------\n",
      "2022-12-22 19:14:52,448 (client:415)INFO: {'Role': 'Client #1', 'Round': 58, 'Results_raw': {'test_acc': 0.794118, 'test_avg_loss': 0.515253, 'test_loss': 105.11158, 'test_total': 204, 'val_acc': 0.818627, 'val_avg_loss': 0.442217, 'val_loss': 90.212279, 'val_total': 204}}\n",
      "2022-12-22 19:14:52,449 (monitor:936)INFO: Current best: {'test_acc': 0.794118, 'test_avg_loss': 0.505763, 'test_loss': 103.175733, 'test_total': 204, 'val_acc': 0.813725, 'val_avg_loss': 0.434516, 'val_loss': 88.641269, 'val_total': 204}\n"
     ]
    },
    {
     "name": "stdout",
     "output_type": "stream",
     "text": [
      "no improve counter: 19\n",
      "self.best_metric: 88.64126932621002\n",
      "no improve counter: 20\n",
      "self.best_metric: 0.43451602610887263\n"
     ]
    },
    {
     "name": "stderr",
     "output_type": "stream",
     "text": [
      "2022-12-22 19:14:52,717 (client:260)INFO: {'Role': 'Client #1', 'Round': 58, 'Results_raw': {'train_acc': 0.828939, 'train_avg_loss': 0.407065, 'train_loss': 663.923811, 'train_total': 1631}}\n",
      "2022-12-22 19:14:52,719 (server:496)INFO: {'Role': 'Server #', 'Round': 58, 'Results_avg': {'test_acc': 0.794118, 'test_avg_loss': 0.515253, 'test_loss': 105.11158, 'test_total': 204.0, 'val_acc': 0.818627, 'val_avg_loss': 0.442217, 'val_loss': 90.212279, 'val_total': 204.0}}\n",
      "2022-12-22 19:14:52,720 (monitor:936)INFO: Current best: {'test_acc': 0.794118, 'test_avg_loss': 0.505763, 'test_loss': 103.175733, 'test_total': 204.0, 'val_acc': 0.813725, 'val_avg_loss': 0.434516, 'val_loss': 88.641269, 'val_total': 204.0}\n",
      "2022-12-22 19:14:52,721 (monitor:936)INFO: Current best: {'test_acc': 0.794118, 'test_avg_loss': 0.505763, 'test_loss': 103.175733, 'test_total': 204.0, 'val_acc': 0.813725, 'val_avg_loss': 0.434516, 'val_loss': 88.641269, 'val_total': 204.0}\n",
      "2022-12-22 19:14:52,724 (server:323)INFO: Server #0: Starting evaluation at the end of round 58.\n",
      "2022-12-22 19:14:52,725 (server:330)INFO: ----------- Starting a new training round (Round #59) -------------\n",
      "2022-12-22 19:14:52,812 (client:415)INFO: {'Role': 'Client #1', 'Round': 59, 'Results_raw': {'test_acc': 0.764706, 'test_avg_loss': 0.566758, 'test_loss': 115.618563, 'test_total': 204, 'val_acc': 0.779412, 'val_avg_loss': 0.460972, 'val_loss': 94.038334, 'val_total': 204}}\n",
      "2022-12-22 19:14:52,814 (monitor:936)INFO: Current best: {'test_acc': 0.794118, 'test_avg_loss': 0.505763, 'test_loss': 103.175733, 'test_total': 204, 'val_acc': 0.813725, 'val_avg_loss': 0.434516, 'val_loss': 88.641269, 'val_total': 204}\n"
     ]
    },
    {
     "name": "stdout",
     "output_type": "stream",
     "text": [
      "no improve counter: 20\n",
      "self.best_metric: 88.64126932621002\n",
      "no improve counter: 21\n",
      "self.best_metric: 0.43451602610887263\n"
     ]
    },
    {
     "name": "stderr",
     "output_type": "stream",
     "text": [
      "2022-12-22 19:14:53,080 (client:260)INFO: {'Role': 'Client #1', 'Round': 59, 'Results_raw': {'train_acc': 0.83691, 'train_avg_loss': 0.406966, 'train_loss': 663.761567, 'train_total': 1631}}\n",
      "2022-12-22 19:14:53,083 (server:496)INFO: {'Role': 'Server #', 'Round': 59, 'Results_avg': {'test_acc': 0.764706, 'test_avg_loss': 0.566758, 'test_loss': 115.618563, 'test_total': 204.0, 'val_acc': 0.779412, 'val_avg_loss': 0.460972, 'val_loss': 94.038334, 'val_total': 204.0}}\n",
      "2022-12-22 19:14:53,084 (monitor:936)INFO: Current best: {'test_acc': 0.794118, 'test_avg_loss': 0.505763, 'test_loss': 103.175733, 'test_total': 204.0, 'val_acc': 0.813725, 'val_avg_loss': 0.434516, 'val_loss': 88.641269, 'val_total': 204.0}\n",
      "2022-12-22 19:14:53,086 (monitor:936)INFO: Current best: {'test_acc': 0.794118, 'test_avg_loss': 0.505763, 'test_loss': 103.175733, 'test_total': 204.0, 'val_acc': 0.813725, 'val_avg_loss': 0.434516, 'val_loss': 88.641269, 'val_total': 204.0}\n",
      "2022-12-22 19:14:53,088 (server:323)INFO: Server #0: Starting evaluation at the end of round 59.\n",
      "2022-12-22 19:14:53,088 (server:330)INFO: ----------- Starting a new training round (Round #60) -------------\n",
      "2022-12-22 19:14:53,156 (client:415)INFO: {'Role': 'Client #1', 'Round': 60, 'Results_raw': {'test_acc': 0.779412, 'test_avg_loss': 0.537027, 'test_loss': 109.553433, 'test_total': 204, 'val_acc': 0.79902, 'val_avg_loss': 0.445865, 'val_loss': 90.956389, 'val_total': 204}}\n",
      "2022-12-22 19:14:53,157 (monitor:936)INFO: Current best: {'test_acc': 0.794118, 'test_avg_loss': 0.505763, 'test_loss': 103.175733, 'test_total': 204, 'val_acc': 0.813725, 'val_avg_loss': 0.434516, 'val_loss': 88.641269, 'val_total': 204}\n"
     ]
    },
    {
     "name": "stdout",
     "output_type": "stream",
     "text": [
      "no improve counter: 21\n",
      "self.best_metric: 88.64126932621002\n",
      "no improve counter: 22\n",
      "self.best_metric: 0.43451602610887263\n"
     ]
    },
    {
     "name": "stderr",
     "output_type": "stream",
     "text": [
      "2022-12-22 19:14:53,438 (client:260)INFO: {'Role': 'Client #1', 'Round': 60, 'Results_raw': {'train_acc': 0.841202, 'train_avg_loss': 0.395142, 'train_loss': 644.477279, 'train_total': 1631}}\n",
      "2022-12-22 19:14:53,440 (server:496)INFO: {'Role': 'Server #', 'Round': 60, 'Results_avg': {'test_acc': 0.779412, 'test_avg_loss': 0.537027, 'test_loss': 109.553433, 'test_total': 204.0, 'val_acc': 0.79902, 'val_avg_loss': 0.445865, 'val_loss': 90.956389, 'val_total': 204.0}}\n",
      "2022-12-22 19:14:53,441 (monitor:936)INFO: Current best: {'test_acc': 0.794118, 'test_avg_loss': 0.505763, 'test_loss': 103.175733, 'test_total': 204.0, 'val_acc': 0.813725, 'val_avg_loss': 0.434516, 'val_loss': 88.641269, 'val_total': 204.0}\n",
      "2022-12-22 19:14:53,442 (monitor:936)INFO: Current best: {'test_acc': 0.794118, 'test_avg_loss': 0.505763, 'test_loss': 103.175733, 'test_total': 204.0, 'val_acc': 0.813725, 'val_avg_loss': 0.434516, 'val_loss': 88.641269, 'val_total': 204.0}\n",
      "2022-12-22 19:14:53,444 (server:323)INFO: Server #0: Starting evaluation at the end of round 60.\n",
      "2022-12-22 19:14:53,445 (server:330)INFO: ----------- Starting a new training round (Round #61) -------------\n",
      "2022-12-22 19:14:53,493 (client:415)INFO: {'Role': 'Client #1', 'Round': 61, 'Results_raw': {'test_acc': 0.612745, 'test_avg_loss': 0.703581, 'test_loss': 143.530589, 'test_total': 204, 'val_acc': 0.553922, 'val_avg_loss': 0.756796, 'val_loss': 154.386316, 'val_total': 204}}\n",
      "2022-12-22 19:14:53,494 (monitor:936)INFO: Current best: {'test_acc': 0.794118, 'test_avg_loss': 0.505763, 'test_loss': 103.175733, 'test_total': 204, 'val_acc': 0.813725, 'val_avg_loss': 0.434516, 'val_loss': 88.641269, 'val_total': 204}\n"
     ]
    },
    {
     "name": "stdout",
     "output_type": "stream",
     "text": [
      "no improve counter: 22\n",
      "self.best_metric: 88.64126932621002\n",
      "no improve counter: 23\n",
      "self.best_metric: 0.43451602610887263\n"
     ]
    },
    {
     "name": "stderr",
     "output_type": "stream",
     "text": [
      "2022-12-22 19:14:53,768 (client:260)INFO: {'Role': 'Client #1', 'Round': 61, 'Results_raw': {'train_acc': 0.83691, 'train_avg_loss': 0.40995, 'train_loss': 668.627737, 'train_total': 1631}}\n",
      "2022-12-22 19:14:53,770 (server:496)INFO: {'Role': 'Server #', 'Round': 61, 'Results_avg': {'test_acc': 0.612745, 'test_avg_loss': 0.703581, 'test_loss': 143.530589, 'test_total': 204.0, 'val_acc': 0.553922, 'val_avg_loss': 0.756796, 'val_loss': 154.386316, 'val_total': 204.0}}\n",
      "2022-12-22 19:14:53,772 (monitor:936)INFO: Current best: {'test_acc': 0.794118, 'test_avg_loss': 0.505763, 'test_loss': 103.175733, 'test_total': 204.0, 'val_acc': 0.813725, 'val_avg_loss': 0.434516, 'val_loss': 88.641269, 'val_total': 204.0}\n",
      "2022-12-22 19:14:53,773 (monitor:936)INFO: Current best: {'test_acc': 0.794118, 'test_avg_loss': 0.505763, 'test_loss': 103.175733, 'test_total': 204.0, 'val_acc': 0.813725, 'val_avg_loss': 0.434516, 'val_loss': 88.641269, 'val_total': 204.0}\n",
      "2022-12-22 19:14:53,776 (server:323)INFO: Server #0: Starting evaluation at the end of round 61.\n",
      "2022-12-22 19:14:53,777 (server:330)INFO: ----------- Starting a new training round (Round #62) -------------\n",
      "2022-12-22 19:14:53,835 (client:415)INFO: {'Role': 'Client #1', 'Round': 62, 'Results_raw': {'test_acc': 0.784314, 'test_avg_loss': 0.510539, 'test_loss': 104.149948, 'test_total': 204, 'val_acc': 0.813725, 'val_avg_loss': 0.429848, 'val_loss': 87.689077, 'val_total': 204}}\n",
      "2022-12-22 19:14:53,837 (monitor:936)INFO: Current best: {'test_acc': 0.784314, 'test_avg_loss': 0.510539, 'test_loss': 104.149948, 'test_total': 204, 'val_acc': 0.813725, 'val_avg_loss': 0.429848, 'val_loss': 87.689077, 'val_total': 204}\n"
     ]
    },
    {
     "name": "stdout",
     "output_type": "stream",
     "text": [
      "no improve counter: 23\n",
      "self.best_metric: 88.64126932621002\n",
      "no improve counter: 0\n",
      "self.best_metric: 0.42984841501011567\n"
     ]
    },
    {
     "name": "stderr",
     "output_type": "stream",
     "text": [
      "2022-12-22 19:14:54,127 (client:260)INFO: {'Role': 'Client #1', 'Round': 62, 'Results_raw': {'train_acc': 0.839362, 'train_avg_loss': 0.40157, 'train_loss': 654.960797, 'train_total': 1631}}\n",
      "2022-12-22 19:14:54,130 (server:496)INFO: {'Role': 'Server #', 'Round': 62, 'Results_avg': {'test_acc': 0.784314, 'test_avg_loss': 0.510539, 'test_loss': 104.149948, 'test_total': 204.0, 'val_acc': 0.813725, 'val_avg_loss': 0.429848, 'val_loss': 87.689077, 'val_total': 204.0}}\n",
      "2022-12-22 19:14:54,131 (monitor:936)INFO: Current best: {'test_acc': [0.784314], 'test_avg_loss': [0.510539], 'test_loss': [104.149948], 'test_total': [204.0], 'val_acc': [0.813725], 'val_avg_loss': [0.429848], 'val_loss': [87.689077], 'val_total': [204.0]}\n",
      "2022-12-22 19:14:54,133 (monitor:936)INFO: Current best: {'test_acc': 0.784314, 'test_avg_loss': 0.510539, 'test_loss': 104.149948, 'test_total': 204.0, 'val_acc': 0.813725, 'val_avg_loss': 0.429848, 'val_loss': 87.689077, 'val_total': 204.0}\n",
      "2022-12-22 19:14:54,136 (server:323)INFO: Server #0: Starting evaluation at the end of round 62.\n",
      "2022-12-22 19:14:54,137 (server:330)INFO: ----------- Starting a new training round (Round #63) -------------\n",
      "2022-12-22 19:14:54,200 (client:415)INFO: {'Role': 'Client #1', 'Round': 63, 'Results_raw': {'test_acc': 0.72549, 'test_avg_loss': 0.580281, 'test_loss': 118.377327, 'test_total': 204, 'val_acc': 0.681373, 'val_avg_loss': 0.585188, 'val_loss': 119.378328, 'val_total': 204}}\n",
      "2022-12-22 19:14:54,201 (monitor:936)INFO: Current best: {'test_acc': 0.784314, 'test_avg_loss': 0.510539, 'test_loss': 104.149948, 'test_total': 204, 'val_acc': 0.813725, 'val_avg_loss': 0.429848, 'val_loss': 87.689077, 'val_total': 204}\n"
     ]
    },
    {
     "name": "stdout",
     "output_type": "stream",
     "text": [
      "no improve counter: 0\n",
      "self.best_metric: 87.6890766620636\n",
      "no improve counter: 1\n",
      "self.best_metric: 0.42984841501011567\n"
     ]
    },
    {
     "name": "stderr",
     "output_type": "stream",
     "text": [
      "2022-12-22 19:14:54,459 (client:260)INFO: {'Role': 'Client #1', 'Round': 63, 'Results_raw': {'train_acc': 0.842428, 'train_avg_loss': 0.402829, 'train_loss': 657.014451, 'train_total': 1631}}\n",
      "2022-12-22 19:14:54,461 (server:496)INFO: {'Role': 'Server #', 'Round': 63, 'Results_avg': {'test_acc': 0.72549, 'test_avg_loss': 0.580281, 'test_loss': 118.377327, 'test_total': 204.0, 'val_acc': 0.681373, 'val_avg_loss': 0.585188, 'val_loss': 119.378328, 'val_total': 204.0}}\n",
      "2022-12-22 19:14:54,463 (monitor:936)INFO: Current best: {'test_acc': 0.784314, 'test_avg_loss': 0.510539, 'test_loss': 104.149948, 'test_total': 204.0, 'val_acc': 0.813725, 'val_avg_loss': 0.429848, 'val_loss': 87.689077, 'val_total': 204.0}\n",
      "2022-12-22 19:14:54,464 (monitor:936)INFO: Current best: {'test_acc': 0.784314, 'test_avg_loss': 0.510539, 'test_loss': 104.149948, 'test_total': 204.0, 'val_acc': 0.813725, 'val_avg_loss': 0.429848, 'val_loss': 87.689077, 'val_total': 204.0}\n",
      "2022-12-22 19:14:54,467 (server:323)INFO: Server #0: Starting evaluation at the end of round 63.\n",
      "2022-12-22 19:14:54,468 (server:330)INFO: ----------- Starting a new training round (Round #64) -------------\n",
      "2022-12-22 19:14:54,540 (client:415)INFO: {'Role': 'Client #1', 'Round': 64, 'Results_raw': {'test_acc': 0.784314, 'test_avg_loss': 0.522213, 'test_loss': 106.531414, 'test_total': 204, 'val_acc': 0.79902, 'val_avg_loss': 0.437311, 'val_loss': 89.211375, 'val_total': 204}}\n",
      "2022-12-22 19:14:54,541 (monitor:936)INFO: Current best: {'test_acc': 0.784314, 'test_avg_loss': 0.510539, 'test_loss': 104.149948, 'test_total': 204, 'val_acc': 0.813725, 'val_avg_loss': 0.429848, 'val_loss': 87.689077, 'val_total': 204}\n"
     ]
    },
    {
     "name": "stdout",
     "output_type": "stream",
     "text": [
      "no improve counter: 1\n",
      "self.best_metric: 87.6890766620636\n",
      "no improve counter: 2\n",
      "self.best_metric: 0.42984841501011567\n"
     ]
    },
    {
     "name": "stderr",
     "output_type": "stream",
     "text": [
      "2022-12-22 19:14:54,812 (client:260)INFO: {'Role': 'Client #1', 'Round': 64, 'Results_raw': {'train_acc': 0.839362, 'train_avg_loss': 0.395065, 'train_loss': 644.351107, 'train_total': 1631}}\n",
      "2022-12-22 19:14:54,815 (server:496)INFO: {'Role': 'Server #', 'Round': 64, 'Results_avg': {'test_acc': 0.784314, 'test_avg_loss': 0.522213, 'test_loss': 106.531414, 'test_total': 204.0, 'val_acc': 0.79902, 'val_avg_loss': 0.437311, 'val_loss': 89.211375, 'val_total': 204.0}}\n",
      "2022-12-22 19:14:54,816 (monitor:936)INFO: Current best: {'test_acc': 0.784314, 'test_avg_loss': 0.510539, 'test_loss': 104.149948, 'test_total': 204.0, 'val_acc': 0.813725, 'val_avg_loss': 0.429848, 'val_loss': 87.689077, 'val_total': 204.0}\n",
      "2022-12-22 19:14:54,818 (monitor:936)INFO: Current best: {'test_acc': 0.784314, 'test_avg_loss': 0.510539, 'test_loss': 104.149948, 'test_total': 204.0, 'val_acc': 0.813725, 'val_avg_loss': 0.429848, 'val_loss': 87.689077, 'val_total': 204.0}\n",
      "2022-12-22 19:14:54,821 (server:323)INFO: Server #0: Starting evaluation at the end of round 64.\n",
      "2022-12-22 19:14:54,822 (server:330)INFO: ----------- Starting a new training round (Round #65) -------------\n",
      "2022-12-22 19:14:54,884 (client:415)INFO: {'Role': 'Client #1', 'Round': 65, 'Results_raw': {'test_acc': 0.764706, 'test_avg_loss': 0.570391, 'test_loss': 116.359841, 'test_total': 204, 'val_acc': 0.779412, 'val_avg_loss': 0.468285, 'val_loss': 95.530151, 'val_total': 204}}\n",
      "2022-12-22 19:14:54,886 (monitor:936)INFO: Current best: {'test_acc': 0.784314, 'test_avg_loss': 0.510539, 'test_loss': 104.149948, 'test_total': 204, 'val_acc': 0.813725, 'val_avg_loss': 0.429848, 'val_loss': 87.689077, 'val_total': 204}\n"
     ]
    },
    {
     "name": "stdout",
     "output_type": "stream",
     "text": [
      "no improve counter: 2\n",
      "self.best_metric: 87.6890766620636\n",
      "no improve counter: 3\n",
      "self.best_metric: 0.42984841501011567\n"
     ]
    },
    {
     "name": "stderr",
     "output_type": "stream",
     "text": [
      "2022-12-22 19:14:55,178 (client:260)INFO: {'Role': 'Client #1', 'Round': 65, 'Results_raw': {'train_acc': 0.841815, 'train_avg_loss': 0.394106, 'train_loss': 642.786591, 'train_total': 1631}}\n",
      "2022-12-22 19:14:55,181 (server:496)INFO: {'Role': 'Server #', 'Round': 65, 'Results_avg': {'test_acc': 0.764706, 'test_avg_loss': 0.570391, 'test_loss': 116.359841, 'test_total': 204.0, 'val_acc': 0.779412, 'val_avg_loss': 0.468285, 'val_loss': 95.530151, 'val_total': 204.0}}\n",
      "2022-12-22 19:14:55,182 (monitor:936)INFO: Current best: {'test_acc': 0.784314, 'test_avg_loss': 0.510539, 'test_loss': 104.149948, 'test_total': 204.0, 'val_acc': 0.813725, 'val_avg_loss': 0.429848, 'val_loss': 87.689077, 'val_total': 204.0}\n",
      "2022-12-22 19:14:55,183 (monitor:936)INFO: Current best: {'test_acc': 0.784314, 'test_avg_loss': 0.510539, 'test_loss': 104.149948, 'test_total': 204.0, 'val_acc': 0.813725, 'val_avg_loss': 0.429848, 'val_loss': 87.689077, 'val_total': 204.0}\n",
      "2022-12-22 19:14:55,186 (server:323)INFO: Server #0: Starting evaluation at the end of round 65.\n",
      "2022-12-22 19:14:55,187 (server:330)INFO: ----------- Starting a new training round (Round #66) -------------\n",
      "2022-12-22 19:14:55,237 (client:415)INFO: {'Role': 'Client #1', 'Round': 66, 'Results_raw': {'test_acc': 0.779412, 'test_avg_loss': 0.545185, 'test_loss': 111.21775, 'test_total': 204, 'val_acc': 0.794118, 'val_avg_loss': 0.44495, 'val_loss': 90.769755, 'val_total': 204}}\n",
      "2022-12-22 19:14:55,239 (monitor:936)INFO: Current best: {'test_acc': 0.784314, 'test_avg_loss': 0.510539, 'test_loss': 104.149948, 'test_total': 204, 'val_acc': 0.813725, 'val_avg_loss': 0.429848, 'val_loss': 87.689077, 'val_total': 204}\n"
     ]
    },
    {
     "name": "stdout",
     "output_type": "stream",
     "text": [
      "no improve counter: 3\n",
      "self.best_metric: 87.6890766620636\n",
      "no improve counter: 4\n",
      "self.best_metric: 0.42984841501011567\n"
     ]
    },
    {
     "name": "stderr",
     "output_type": "stream",
     "text": [
      "2022-12-22 19:14:55,504 (client:260)INFO: {'Role': 'Client #1', 'Round': 66, 'Results_raw': {'train_acc': 0.839975, 'train_avg_loss': 0.393546, 'train_loss': 641.872937, 'train_total': 1631}}\n",
      "2022-12-22 19:14:55,506 (server:496)INFO: {'Role': 'Server #', 'Round': 66, 'Results_avg': {'test_acc': 0.779412, 'test_avg_loss': 0.545185, 'test_loss': 111.21775, 'test_total': 204.0, 'val_acc': 0.794118, 'val_avg_loss': 0.44495, 'val_loss': 90.769755, 'val_total': 204.0}}\n",
      "2022-12-22 19:14:55,507 (monitor:936)INFO: Current best: {'test_acc': 0.784314, 'test_avg_loss': 0.510539, 'test_loss': 104.149948, 'test_total': 204.0, 'val_acc': 0.813725, 'val_avg_loss': 0.429848, 'val_loss': 87.689077, 'val_total': 204.0}\n",
      "2022-12-22 19:14:55,508 (monitor:936)INFO: Current best: {'test_acc': 0.784314, 'test_avg_loss': 0.510539, 'test_loss': 104.149948, 'test_total': 204.0, 'val_acc': 0.813725, 'val_avg_loss': 0.429848, 'val_loss': 87.689077, 'val_total': 204.0}\n",
      "2022-12-22 19:14:55,510 (server:323)INFO: Server #0: Starting evaluation at the end of round 66.\n",
      "2022-12-22 19:14:55,511 (server:330)INFO: ----------- Starting a new training round (Round #67) -------------\n",
      "2022-12-22 19:14:55,562 (client:415)INFO: {'Role': 'Client #1', 'Round': 67, 'Results_raw': {'test_acc': 0.794118, 'test_avg_loss': 0.512541, 'test_loss': 104.558441, 'test_total': 204, 'val_acc': 0.818627, 'val_avg_loss': 0.423737, 'val_loss': 86.44231, 'val_total': 204}}\n",
      "2022-12-22 19:14:55,563 (monitor:936)INFO: Current best: {'test_acc': 0.794118, 'test_avg_loss': 0.512541, 'test_loss': 104.558441, 'test_total': 204, 'val_acc': 0.818627, 'val_avg_loss': 0.423737, 'val_loss': 86.44231, 'val_total': 204}\n"
     ]
    },
    {
     "name": "stdout",
     "output_type": "stream",
     "text": [
      "no improve counter: 4\n",
      "self.best_metric: 87.6890766620636\n",
      "no improve counter: 0\n",
      "self.best_metric: 0.4237368136060004\n"
     ]
    },
    {
     "name": "stderr",
     "output_type": "stream",
     "text": [
      "2022-12-22 19:14:55,800 (client:260)INFO: {'Role': 'Client #1', 'Round': 67, 'Results_raw': {'train_acc': 0.839362, 'train_avg_loss': 0.384497, 'train_loss': 627.115066, 'train_total': 1631}}\n",
      "2022-12-22 19:14:55,802 (server:496)INFO: {'Role': 'Server #', 'Round': 67, 'Results_avg': {'test_acc': 0.794118, 'test_avg_loss': 0.512541, 'test_loss': 104.558441, 'test_total': 204.0, 'val_acc': 0.818627, 'val_avg_loss': 0.423737, 'val_loss': 86.44231, 'val_total': 204.0}}\n",
      "2022-12-22 19:14:55,802 (monitor:936)INFO: Current best: {'test_acc': [0.794118], 'test_avg_loss': [0.512541], 'test_loss': [104.558441], 'test_total': [204.0], 'val_acc': [0.818627], 'val_avg_loss': [0.423737], 'val_loss': [86.44231], 'val_total': [204.0]}\n",
      "2022-12-22 19:14:55,804 (monitor:936)INFO: Current best: {'test_acc': 0.794118, 'test_avg_loss': 0.512541, 'test_loss': 104.558441, 'test_total': 204.0, 'val_acc': 0.818627, 'val_avg_loss': 0.423737, 'val_loss': 86.44231, 'val_total': 204.0}\n",
      "2022-12-22 19:14:55,806 (server:323)INFO: Server #0: Starting evaluation at the end of round 67.\n",
      "2022-12-22 19:14:55,806 (server:330)INFO: ----------- Starting a new training round (Round #68) -------------\n",
      "2022-12-22 19:14:55,869 (client:415)INFO: {'Role': 'Client #1', 'Round': 68, 'Results_raw': {'test_acc': 0.77451, 'test_avg_loss': 0.589212, 'test_loss': 120.199157, 'test_total': 204, 'val_acc': 0.784314, 'val_avg_loss': 0.485491, 'val_loss': 99.040151, 'val_total': 204}}\n",
      "2022-12-22 19:14:55,869 (monitor:936)INFO: Current best: {'test_acc': 0.794118, 'test_avg_loss': 0.512541, 'test_loss': 104.558441, 'test_total': 204, 'val_acc': 0.818627, 'val_avg_loss': 0.423737, 'val_loss': 86.44231, 'val_total': 204}\n"
     ]
    },
    {
     "name": "stdout",
     "output_type": "stream",
     "text": [
      "no improve counter: 0\n",
      "self.best_metric: 86.44230997562408\n",
      "no improve counter: 1\n",
      "self.best_metric: 0.4237368136060004\n"
     ]
    },
    {
     "name": "stderr",
     "output_type": "stream",
     "text": [
      "2022-12-22 19:14:56,121 (client:260)INFO: {'Role': 'Client #1', 'Round': 68, 'Results_raw': {'train_acc': 0.847946, 'train_avg_loss': 0.393494, 'train_loss': 641.789511, 'train_total': 1631}}\n",
      "2022-12-22 19:14:56,123 (server:496)INFO: {'Role': 'Server #', 'Round': 68, 'Results_avg': {'test_acc': 0.77451, 'test_avg_loss': 0.589212, 'test_loss': 120.199157, 'test_total': 204.0, 'val_acc': 0.784314, 'val_avg_loss': 0.485491, 'val_loss': 99.040151, 'val_total': 204.0}}\n",
      "2022-12-22 19:14:56,124 (monitor:936)INFO: Current best: {'test_acc': 0.794118, 'test_avg_loss': 0.512541, 'test_loss': 104.558441, 'test_total': 204.0, 'val_acc': 0.818627, 'val_avg_loss': 0.423737, 'val_loss': 86.44231, 'val_total': 204.0}\n",
      "2022-12-22 19:14:56,125 (monitor:936)INFO: Current best: {'test_acc': 0.794118, 'test_avg_loss': 0.512541, 'test_loss': 104.558441, 'test_total': 204.0, 'val_acc': 0.818627, 'val_avg_loss': 0.423737, 'val_loss': 86.44231, 'val_total': 204.0}\n",
      "2022-12-22 19:14:56,127 (server:323)INFO: Server #0: Starting evaluation at the end of round 68.\n",
      "2022-12-22 19:14:56,128 (server:330)INFO: ----------- Starting a new training round (Round #69) -------------\n",
      "2022-12-22 19:14:56,181 (client:415)INFO: {'Role': 'Client #1', 'Round': 69, 'Results_raw': {'test_acc': 0.779412, 'test_avg_loss': 0.541084, 'test_loss': 110.381063, 'test_total': 204, 'val_acc': 0.794118, 'val_avg_loss': 0.439917, 'val_loss': 89.742968, 'val_total': 204}}\n",
      "2022-12-22 19:14:56,182 (monitor:936)INFO: Current best: {'test_acc': 0.794118, 'test_avg_loss': 0.512541, 'test_loss': 104.558441, 'test_total': 204, 'val_acc': 0.818627, 'val_avg_loss': 0.423737, 'val_loss': 86.44231, 'val_total': 204}\n"
     ]
    },
    {
     "name": "stdout",
     "output_type": "stream",
     "text": [
      "no improve counter: 1\n",
      "self.best_metric: 86.44230997562408\n",
      "no improve counter: 2\n",
      "self.best_metric: 0.4237368136060004\n"
     ]
    },
    {
     "name": "stderr",
     "output_type": "stream",
     "text": [
      "2022-12-22 19:14:56,432 (client:260)INFO: {'Role': 'Client #1', 'Round': 69, 'Results_raw': {'train_acc': 0.841202, 'train_avg_loss': 0.389654, 'train_loss': 635.525724, 'train_total': 1631}}\n",
      "2022-12-22 19:14:56,434 (server:496)INFO: {'Role': 'Server #', 'Round': 69, 'Results_avg': {'test_acc': 0.779412, 'test_avg_loss': 0.541084, 'test_loss': 110.381063, 'test_total': 204.0, 'val_acc': 0.794118, 'val_avg_loss': 0.439917, 'val_loss': 89.742968, 'val_total': 204.0}}\n",
      "2022-12-22 19:14:56,435 (monitor:936)INFO: Current best: {'test_acc': 0.794118, 'test_avg_loss': 0.512541, 'test_loss': 104.558441, 'test_total': 204.0, 'val_acc': 0.818627, 'val_avg_loss': 0.423737, 'val_loss': 86.44231, 'val_total': 204.0}\n",
      "2022-12-22 19:14:56,436 (monitor:936)INFO: Current best: {'test_acc': 0.794118, 'test_avg_loss': 0.512541, 'test_loss': 104.558441, 'test_total': 204.0, 'val_acc': 0.818627, 'val_avg_loss': 0.423737, 'val_loss': 86.44231, 'val_total': 204.0}\n",
      "2022-12-22 19:14:56,438 (server:323)INFO: Server #0: Starting evaluation at the end of round 69.\n",
      "2022-12-22 19:14:56,438 (server:330)INFO: ----------- Starting a new training round (Round #70) -------------\n",
      "2022-12-22 19:14:56,486 (client:415)INFO: {'Role': 'Client #1', 'Round': 70, 'Results_raw': {'test_acc': 0.779412, 'test_avg_loss': 0.527893, 'test_loss': 107.690158, 'test_total': 204, 'val_acc': 0.794118, 'val_avg_loss': 0.448474, 'val_loss': 91.488696, 'val_total': 204}}\n",
      "2022-12-22 19:14:56,488 (monitor:936)INFO: Current best: {'test_acc': 0.794118, 'test_avg_loss': 0.512541, 'test_loss': 104.558441, 'test_total': 204, 'val_acc': 0.818627, 'val_avg_loss': 0.423737, 'val_loss': 86.44231, 'val_total': 204}\n"
     ]
    },
    {
     "name": "stdout",
     "output_type": "stream",
     "text": [
      "no improve counter: 2\n",
      "self.best_metric: 86.44230997562408\n",
      "no improve counter: 3\n",
      "self.best_metric: 0.4237368136060004\n"
     ]
    },
    {
     "name": "stderr",
     "output_type": "stream",
     "text": [
      "2022-12-22 19:14:56,768 (client:260)INFO: {'Role': 'Client #1', 'Round': 70, 'Results_raw': {'train_acc': 0.848559, 'train_avg_loss': 0.384122, 'train_loss': 626.502461, 'train_total': 1631}}\n",
      "2022-12-22 19:14:56,770 (server:496)INFO: {'Role': 'Server #', 'Round': 70, 'Results_avg': {'test_acc': 0.779412, 'test_avg_loss': 0.527893, 'test_loss': 107.690158, 'test_total': 204.0, 'val_acc': 0.794118, 'val_avg_loss': 0.448474, 'val_loss': 91.488696, 'val_total': 204.0}}\n",
      "2022-12-22 19:14:56,771 (monitor:936)INFO: Current best: {'test_acc': 0.794118, 'test_avg_loss': 0.512541, 'test_loss': 104.558441, 'test_total': 204.0, 'val_acc': 0.818627, 'val_avg_loss': 0.423737, 'val_loss': 86.44231, 'val_total': 204.0}\n",
      "2022-12-22 19:14:56,773 (monitor:936)INFO: Current best: {'test_acc': 0.794118, 'test_avg_loss': 0.512541, 'test_loss': 104.558441, 'test_total': 204.0, 'val_acc': 0.818627, 'val_avg_loss': 0.423737, 'val_loss': 86.44231, 'val_total': 204.0}\n",
      "2022-12-22 19:14:56,775 (server:323)INFO: Server #0: Starting evaluation at the end of round 70.\n",
      "2022-12-22 19:14:56,776 (server:330)INFO: ----------- Starting a new training round (Round #71) -------------\n",
      "2022-12-22 19:14:56,827 (client:415)INFO: {'Role': 'Client #1', 'Round': 71, 'Results_raw': {'test_acc': 0.79902, 'test_avg_loss': 0.49613, 'test_loss': 101.210546, 'test_total': 204, 'val_acc': 0.828431, 'val_avg_loss': 0.440856, 'val_loss': 89.934537, 'val_total': 204}}\n",
      "2022-12-22 19:14:56,828 (monitor:936)INFO: Current best: {'test_acc': 0.794118, 'test_avg_loss': 0.512541, 'test_loss': 104.558441, 'test_total': 204, 'val_acc': 0.818627, 'val_avg_loss': 0.423737, 'val_loss': 86.44231, 'val_total': 204}\n"
     ]
    },
    {
     "name": "stdout",
     "output_type": "stream",
     "text": [
      "no improve counter: 3\n",
      "self.best_metric: 86.44230997562408\n",
      "no improve counter: 4\n",
      "self.best_metric: 0.4237368136060004\n"
     ]
    },
    {
     "name": "stderr",
     "output_type": "stream",
     "text": [
      "2022-12-22 19:14:57,084 (client:260)INFO: {'Role': 'Client #1', 'Round': 71, 'Results_raw': {'train_acc': 0.83691, 'train_avg_loss': 0.400954, 'train_loss': 653.956314, 'train_total': 1631}}\n",
      "2022-12-22 19:14:57,086 (server:496)INFO: {'Role': 'Server #', 'Round': 71, 'Results_avg': {'test_acc': 0.79902, 'test_avg_loss': 0.49613, 'test_loss': 101.210546, 'test_total': 204.0, 'val_acc': 0.828431, 'val_avg_loss': 0.440856, 'val_loss': 89.934537, 'val_total': 204.0}}\n",
      "2022-12-22 19:14:57,088 (monitor:936)INFO: Current best: {'test_acc': 0.794118, 'test_avg_loss': 0.512541, 'test_loss': 104.558441, 'test_total': 204.0, 'val_acc': 0.818627, 'val_avg_loss': 0.423737, 'val_loss': 86.44231, 'val_total': 204.0}\n",
      "2022-12-22 19:14:57,090 (monitor:936)INFO: Current best: {'test_acc': 0.794118, 'test_avg_loss': 0.512541, 'test_loss': 104.558441, 'test_total': 204.0, 'val_acc': 0.818627, 'val_avg_loss': 0.423737, 'val_loss': 86.44231, 'val_total': 204.0}\n",
      "2022-12-22 19:14:57,092 (server:323)INFO: Server #0: Starting evaluation at the end of round 71.\n",
      "2022-12-22 19:14:57,094 (server:330)INFO: ----------- Starting a new training round (Round #72) -------------\n",
      "2022-12-22 19:14:57,143 (client:415)INFO: {'Role': 'Client #1', 'Round': 72, 'Results_raw': {'test_acc': 0.769608, 'test_avg_loss': 0.54368, 'test_loss': 110.910706, 'test_total': 204, 'val_acc': 0.784314, 'val_avg_loss': 0.457002, 'val_loss': 93.228363, 'val_total': 204}}\n",
      "2022-12-22 19:14:57,144 (monitor:936)INFO: Current best: {'test_acc': 0.794118, 'test_avg_loss': 0.512541, 'test_loss': 104.558441, 'test_total': 204, 'val_acc': 0.818627, 'val_avg_loss': 0.423737, 'val_loss': 86.44231, 'val_total': 204}\n"
     ]
    },
    {
     "name": "stdout",
     "output_type": "stream",
     "text": [
      "no improve counter: 4\n",
      "self.best_metric: 86.44230997562408\n",
      "no improve counter: 5\n",
      "self.best_metric: 0.4237368136060004\n"
     ]
    },
    {
     "name": "stderr",
     "output_type": "stream",
     "text": [
      "2022-12-22 19:14:57,414 (client:260)INFO: {'Role': 'Client #1', 'Round': 72, 'Results_raw': {'train_acc': 0.84672, 'train_avg_loss': 0.386378, 'train_loss': 630.18181, 'train_total': 1631}}\n",
      "2022-12-22 19:14:57,416 (server:496)INFO: {'Role': 'Server #', 'Round': 72, 'Results_avg': {'test_acc': 0.769608, 'test_avg_loss': 0.54368, 'test_loss': 110.910706, 'test_total': 204.0, 'val_acc': 0.784314, 'val_avg_loss': 0.457002, 'val_loss': 93.228363, 'val_total': 204.0}}\n",
      "2022-12-22 19:14:57,417 (monitor:936)INFO: Current best: {'test_acc': 0.794118, 'test_avg_loss': 0.512541, 'test_loss': 104.558441, 'test_total': 204.0, 'val_acc': 0.818627, 'val_avg_loss': 0.423737, 'val_loss': 86.44231, 'val_total': 204.0}\n",
      "2022-12-22 19:14:57,419 (monitor:936)INFO: Current best: {'test_acc': 0.794118, 'test_avg_loss': 0.512541, 'test_loss': 104.558441, 'test_total': 204.0, 'val_acc': 0.818627, 'val_avg_loss': 0.423737, 'val_loss': 86.44231, 'val_total': 204.0}\n",
      "2022-12-22 19:14:57,421 (server:323)INFO: Server #0: Starting evaluation at the end of round 72.\n",
      "2022-12-22 19:14:57,422 (server:330)INFO: ----------- Starting a new training round (Round #73) -------------\n",
      "2022-12-22 19:14:57,476 (client:415)INFO: {'Role': 'Client #1', 'Round': 73, 'Results_raw': {'test_acc': 0.803922, 'test_avg_loss': 0.506837, 'test_loss': 103.394796, 'test_total': 204, 'val_acc': 0.818627, 'val_avg_loss': 0.424382, 'val_loss': 86.573847, 'val_total': 204}}\n",
      "2022-12-22 19:14:57,477 (monitor:936)INFO: Current best: {'test_acc': 0.794118, 'test_avg_loss': 0.512541, 'test_loss': 104.558441, 'test_total': 204, 'val_acc': 0.818627, 'val_avg_loss': 0.423737, 'val_loss': 86.44231, 'val_total': 204}\n"
     ]
    },
    {
     "name": "stdout",
     "output_type": "stream",
     "text": [
      "no improve counter: 5\n",
      "self.best_metric: 86.44230997562408\n",
      "no improve counter: 6\n",
      "self.best_metric: 0.4237368136060004\n"
     ]
    },
    {
     "name": "stderr",
     "output_type": "stream",
     "text": [
      "2022-12-22 19:14:57,743 (client:260)INFO: {'Role': 'Client #1', 'Round': 73, 'Results_raw': {'train_acc': 0.84488, 'train_avg_loss': 0.389564, 'train_loss': 635.379422, 'train_total': 1631}}\n",
      "2022-12-22 19:14:57,745 (server:496)INFO: {'Role': 'Server #', 'Round': 73, 'Results_avg': {'test_acc': 0.803922, 'test_avg_loss': 0.506837, 'test_loss': 103.394796, 'test_total': 204.0, 'val_acc': 0.818627, 'val_avg_loss': 0.424382, 'val_loss': 86.573847, 'val_total': 204.0}}\n",
      "2022-12-22 19:14:57,746 (monitor:936)INFO: Current best: {'test_acc': 0.794118, 'test_avg_loss': 0.512541, 'test_loss': 104.558441, 'test_total': 204.0, 'val_acc': 0.818627, 'val_avg_loss': 0.423737, 'val_loss': 86.44231, 'val_total': 204.0}\n",
      "2022-12-22 19:14:57,747 (monitor:936)INFO: Current best: {'test_acc': 0.794118, 'test_avg_loss': 0.512541, 'test_loss': 104.558441, 'test_total': 204.0, 'val_acc': 0.818627, 'val_avg_loss': 0.423737, 'val_loss': 86.44231, 'val_total': 204.0}\n",
      "2022-12-22 19:14:57,751 (server:323)INFO: Server #0: Starting evaluation at the end of round 73.\n",
      "2022-12-22 19:14:57,751 (server:330)INFO: ----------- Starting a new training round (Round #74) -------------\n",
      "2022-12-22 19:14:57,808 (client:415)INFO: {'Role': 'Client #1', 'Round': 74, 'Results_raw': {'test_acc': 0.705882, 'test_avg_loss': 0.634768, 'test_loss': 129.492625, 'test_total': 204, 'val_acc': 0.686275, 'val_avg_loss': 0.640301, 'val_loss': 130.621334, 'val_total': 204}}\n",
      "2022-12-22 19:14:57,809 (monitor:936)INFO: Current best: {'test_acc': 0.794118, 'test_avg_loss': 0.512541, 'test_loss': 104.558441, 'test_total': 204, 'val_acc': 0.818627, 'val_avg_loss': 0.423737, 'val_loss': 86.44231, 'val_total': 204}\n"
     ]
    },
    {
     "name": "stdout",
     "output_type": "stream",
     "text": [
      "no improve counter: 6\n",
      "self.best_metric: 86.44230997562408\n",
      "no improve counter: 7\n",
      "self.best_metric: 0.4237368136060004\n"
     ]
    },
    {
     "name": "stderr",
     "output_type": "stream",
     "text": [
      "2022-12-22 19:14:58,078 (client:260)INFO: {'Role': 'Client #1', 'Round': 74, 'Results_raw': {'train_acc': 0.849785, 'train_avg_loss': 0.392232, 'train_loss': 639.730486, 'train_total': 1631}}\n",
      "2022-12-22 19:14:58,080 (server:496)INFO: {'Role': 'Server #', 'Round': 74, 'Results_avg': {'test_acc': 0.705882, 'test_avg_loss': 0.634768, 'test_loss': 129.492625, 'test_total': 204.0, 'val_acc': 0.686275, 'val_avg_loss': 0.640301, 'val_loss': 130.621334, 'val_total': 204.0}}\n",
      "2022-12-22 19:14:58,081 (monitor:936)INFO: Current best: {'test_acc': 0.794118, 'test_avg_loss': 0.512541, 'test_loss': 104.558441, 'test_total': 204.0, 'val_acc': 0.818627, 'val_avg_loss': 0.423737, 'val_loss': 86.44231, 'val_total': 204.0}\n",
      "2022-12-22 19:14:58,084 (monitor:936)INFO: Current best: {'test_acc': 0.794118, 'test_avg_loss': 0.512541, 'test_loss': 104.558441, 'test_total': 204.0, 'val_acc': 0.818627, 'val_avg_loss': 0.423737, 'val_loss': 86.44231, 'val_total': 204.0}\n",
      "2022-12-22 19:14:58,086 (server:323)INFO: Server #0: Starting evaluation at the end of round 74.\n",
      "2022-12-22 19:14:58,087 (server:330)INFO: ----------- Starting a new training round (Round #75) -------------\n",
      "2022-12-22 19:14:58,138 (client:415)INFO: {'Role': 'Client #1', 'Round': 75, 'Results_raw': {'test_acc': 0.794118, 'test_avg_loss': 0.50046, 'test_loss': 102.093907, 'test_total': 204, 'val_acc': 0.803922, 'val_avg_loss': 0.45227, 'val_loss': 92.26309, 'val_total': 204}}\n",
      "2022-12-22 19:14:58,138 (monitor:936)INFO: Current best: {'test_acc': 0.794118, 'test_avg_loss': 0.512541, 'test_loss': 104.558441, 'test_total': 204, 'val_acc': 0.818627, 'val_avg_loss': 0.423737, 'val_loss': 86.44231, 'val_total': 204}\n"
     ]
    },
    {
     "name": "stdout",
     "output_type": "stream",
     "text": [
      "no improve counter: 7\n",
      "self.best_metric: 86.44230997562408\n",
      "no improve counter: 8\n",
      "self.best_metric: 0.4237368136060004\n"
     ]
    },
    {
     "name": "stderr",
     "output_type": "stream",
     "text": [
      "2022-12-22 19:14:58,404 (client:260)INFO: {'Role': 'Client #1', 'Round': 75, 'Results_raw': {'train_acc': 0.84488, 'train_avg_loss': 0.393935, 'train_loss': 642.508585, 'train_total': 1631}}\n",
      "2022-12-22 19:14:58,406 (server:496)INFO: {'Role': 'Server #', 'Round': 75, 'Results_avg': {'test_acc': 0.794118, 'test_avg_loss': 0.50046, 'test_loss': 102.093907, 'test_total': 204.0, 'val_acc': 0.803922, 'val_avg_loss': 0.45227, 'val_loss': 92.26309, 'val_total': 204.0}}\n",
      "2022-12-22 19:14:58,407 (monitor:936)INFO: Current best: {'test_acc': 0.794118, 'test_avg_loss': 0.512541, 'test_loss': 104.558441, 'test_total': 204.0, 'val_acc': 0.818627, 'val_avg_loss': 0.423737, 'val_loss': 86.44231, 'val_total': 204.0}\n",
      "2022-12-22 19:14:58,409 (monitor:936)INFO: Current best: {'test_acc': 0.794118, 'test_avg_loss': 0.512541, 'test_loss': 104.558441, 'test_total': 204.0, 'val_acc': 0.818627, 'val_avg_loss': 0.423737, 'val_loss': 86.44231, 'val_total': 204.0}\n",
      "2022-12-22 19:14:58,411 (server:323)INFO: Server #0: Starting evaluation at the end of round 75.\n",
      "2022-12-22 19:14:58,412 (server:330)INFO: ----------- Starting a new training round (Round #76) -------------\n",
      "2022-12-22 19:14:58,468 (client:415)INFO: {'Role': 'Client #1', 'Round': 76, 'Results_raw': {'test_acc': 0.789216, 'test_avg_loss': 0.521137, 'test_loss': 106.311922, 'test_total': 204, 'val_acc': 0.813725, 'val_avg_loss': 0.417751, 'val_loss': 85.221298, 'val_total': 204}}\n",
      "2022-12-22 19:14:58,470 (monitor:936)INFO: Current best: {'test_acc': 0.789216, 'test_avg_loss': 0.521137, 'test_loss': 106.311922, 'test_total': 204, 'val_acc': 0.813725, 'val_avg_loss': 0.417751, 'val_loss': 85.221298, 'val_total': 204}\n"
     ]
    },
    {
     "name": "stdout",
     "output_type": "stream",
     "text": [
      "no improve counter: 8\n",
      "self.best_metric: 86.44230997562408\n",
      "no improve counter: 0\n",
      "self.best_metric: 0.4177514600987528\n"
     ]
    },
    {
     "name": "stderr",
     "output_type": "stream",
     "text": [
      "2022-12-22 19:14:58,726 (client:260)INFO: {'Role': 'Client #1', 'Round': 76, 'Results_raw': {'train_acc': 0.839975, 'train_avg_loss': 0.384575, 'train_loss': 627.242542, 'train_total': 1631}}\n",
      "2022-12-22 19:14:58,728 (server:496)INFO: {'Role': 'Server #', 'Round': 76, 'Results_avg': {'test_acc': 0.789216, 'test_avg_loss': 0.521137, 'test_loss': 106.311922, 'test_total': 204.0, 'val_acc': 0.813725, 'val_avg_loss': 0.417751, 'val_loss': 85.221298, 'val_total': 204.0}}\n",
      "2022-12-22 19:14:58,729 (monitor:936)INFO: Current best: {'test_acc': [0.789216], 'test_avg_loss': [0.521137], 'test_loss': [106.311922], 'test_total': [204.0], 'val_acc': [0.813725], 'val_avg_loss': [0.417751], 'val_loss': [85.221298], 'val_total': [204.0]}\n",
      "2022-12-22 19:14:58,730 (monitor:936)INFO: Current best: {'test_acc': 0.789216, 'test_avg_loss': 0.521137, 'test_loss': 106.311922, 'test_total': 204.0, 'val_acc': 0.813725, 'val_avg_loss': 0.417751, 'val_loss': 85.221298, 'val_total': 204.0}\n",
      "2022-12-22 19:14:58,734 (server:323)INFO: Server #0: Starting evaluation at the end of round 76.\n",
      "2022-12-22 19:14:58,734 (server:330)INFO: ----------- Starting a new training round (Round #77) -------------\n",
      "2022-12-22 19:14:58,792 (client:415)INFO: {'Role': 'Client #1', 'Round': 77, 'Results_raw': {'test_acc': 0.803922, 'test_avg_loss': 0.490647, 'test_loss': 100.091964, 'test_total': 204, 'val_acc': 0.848039, 'val_avg_loss': 0.425254, 'val_loss': 86.751829, 'val_total': 204}}\n",
      "2022-12-22 19:14:58,793 (monitor:936)INFO: Current best: {'test_acc': 0.789216, 'test_avg_loss': 0.521137, 'test_loss': 106.311922, 'test_total': 204, 'val_acc': 0.813725, 'val_avg_loss': 0.417751, 'val_loss': 85.221298, 'val_total': 204}\n"
     ]
    },
    {
     "name": "stdout",
     "output_type": "stream",
     "text": [
      "no improve counter: 0\n",
      "self.best_metric: 85.22129786014557\n",
      "no improve counter: 1\n",
      "self.best_metric: 0.4177514600987528\n"
     ]
    },
    {
     "name": "stderr",
     "output_type": "stream",
     "text": [
      "2022-12-22 19:14:59,031 (client:260)INFO: {'Role': 'Client #1', 'Round': 77, 'Results_raw': {'train_acc': 0.847946, 'train_avg_loss': 0.384978, 'train_loss': 627.898524, 'train_total': 1631}}\n",
      "2022-12-22 19:14:59,032 (server:496)INFO: {'Role': 'Server #', 'Round': 77, 'Results_avg': {'test_acc': 0.803922, 'test_avg_loss': 0.490647, 'test_loss': 100.091964, 'test_total': 204.0, 'val_acc': 0.848039, 'val_avg_loss': 0.425254, 'val_loss': 86.751829, 'val_total': 204.0}}\n",
      "2022-12-22 19:14:59,033 (monitor:936)INFO: Current best: {'test_acc': 0.789216, 'test_avg_loss': 0.521137, 'test_loss': 106.311922, 'test_total': 204.0, 'val_acc': 0.813725, 'val_avg_loss': 0.417751, 'val_loss': 85.221298, 'val_total': 204.0}\n",
      "2022-12-22 19:14:59,034 (monitor:936)INFO: Current best: {'test_acc': 0.789216, 'test_avg_loss': 0.521137, 'test_loss': 106.311922, 'test_total': 204.0, 'val_acc': 0.813725, 'val_avg_loss': 0.417751, 'val_loss': 85.221298, 'val_total': 204.0}\n",
      "2022-12-22 19:14:59,037 (server:323)INFO: Server #0: Starting evaluation at the end of round 77.\n",
      "2022-12-22 19:14:59,037 (server:330)INFO: ----------- Starting a new training round (Round #78) -------------\n",
      "2022-12-22 19:14:59,095 (client:415)INFO: {'Role': 'Client #1', 'Round': 78, 'Results_raw': {'test_acc': 0.784314, 'test_avg_loss': 0.529849, 'test_loss': 108.089194, 'test_total': 204, 'val_acc': 0.79902, 'val_avg_loss': 0.441782, 'val_loss': 90.12361, 'val_total': 204}}\n",
      "2022-12-22 19:14:59,095 (monitor:936)INFO: Current best: {'test_acc': 0.789216, 'test_avg_loss': 0.521137, 'test_loss': 106.311922, 'test_total': 204, 'val_acc': 0.813725, 'val_avg_loss': 0.417751, 'val_loss': 85.221298, 'val_total': 204}\n"
     ]
    },
    {
     "name": "stdout",
     "output_type": "stream",
     "text": [
      "no improve counter: 1\n",
      "self.best_metric: 85.22129786014557\n",
      "no improve counter: 2\n",
      "self.best_metric: 0.4177514600987528\n"
     ]
    },
    {
     "name": "stderr",
     "output_type": "stream",
     "text": [
      "2022-12-22 19:14:59,335 (client:260)INFO: {'Role': 'Client #1', 'Round': 78, 'Results_raw': {'train_acc': 0.847333, 'train_avg_loss': 0.380797, 'train_loss': 621.079113, 'train_total': 1631}}\n",
      "2022-12-22 19:14:59,337 (server:496)INFO: {'Role': 'Server #', 'Round': 78, 'Results_avg': {'test_acc': 0.784314, 'test_avg_loss': 0.529849, 'test_loss': 108.089194, 'test_total': 204.0, 'val_acc': 0.79902, 'val_avg_loss': 0.441782, 'val_loss': 90.12361, 'val_total': 204.0}}\n",
      "2022-12-22 19:14:59,338 (monitor:936)INFO: Current best: {'test_acc': 0.789216, 'test_avg_loss': 0.521137, 'test_loss': 106.311922, 'test_total': 204.0, 'val_acc': 0.813725, 'val_avg_loss': 0.417751, 'val_loss': 85.221298, 'val_total': 204.0}\n",
      "2022-12-22 19:14:59,340 (monitor:936)INFO: Current best: {'test_acc': 0.789216, 'test_avg_loss': 0.521137, 'test_loss': 106.311922, 'test_total': 204.0, 'val_acc': 0.813725, 'val_avg_loss': 0.417751, 'val_loss': 85.221298, 'val_total': 204.0}\n",
      "2022-12-22 19:14:59,343 (server:323)INFO: Server #0: Starting evaluation at the end of round 78.\n",
      "2022-12-22 19:14:59,343 (server:330)INFO: ----------- Starting a new training round (Round #79) -------------\n",
      "2022-12-22 19:14:59,394 (client:415)INFO: {'Role': 'Client #1', 'Round': 79, 'Results_raw': {'test_acc': 0.808824, 'test_avg_loss': 0.499428, 'test_loss': 101.883358, 'test_total': 204, 'val_acc': 0.843137, 'val_avg_loss': 0.414542, 'val_loss': 84.566639, 'val_total': 204}}\n",
      "2022-12-22 19:14:59,395 (monitor:936)INFO: Current best: {'test_acc': 0.808824, 'test_avg_loss': 0.499428, 'test_loss': 101.883358, 'test_total': 204, 'val_acc': 0.843137, 'val_avg_loss': 0.414542, 'val_loss': 84.566639, 'val_total': 204}\n"
     ]
    },
    {
     "name": "stdout",
     "output_type": "stream",
     "text": [
      "no improve counter: 2\n",
      "self.best_metric: 85.22129786014557\n",
      "no improve counter: 0\n",
      "self.best_metric: 0.41454234953020136\n"
     ]
    },
    {
     "name": "stderr",
     "output_type": "stream",
     "text": [
      "2022-12-22 19:14:59,675 (client:260)INFO: {'Role': 'Client #1', 'Round': 79, 'Results_raw': {'train_acc': 0.847333, 'train_avg_loss': 0.380556, 'train_loss': 620.686554, 'train_total': 1631}}\n",
      "2022-12-22 19:14:59,678 (server:496)INFO: {'Role': 'Server #', 'Round': 79, 'Results_avg': {'test_acc': 0.808824, 'test_avg_loss': 0.499428, 'test_loss': 101.883358, 'test_total': 204.0, 'val_acc': 0.843137, 'val_avg_loss': 0.414542, 'val_loss': 84.566639, 'val_total': 204.0}}\n",
      "2022-12-22 19:14:59,680 (monitor:936)INFO: Current best: {'test_acc': [0.808824], 'test_avg_loss': [0.499428], 'test_loss': [101.883358], 'test_total': [204.0], 'val_acc': [0.843137], 'val_avg_loss': [0.414542], 'val_loss': [84.566639], 'val_total': [204.0]}\n",
      "2022-12-22 19:14:59,681 (monitor:936)INFO: Current best: {'test_acc': 0.808824, 'test_avg_loss': 0.499428, 'test_loss': 101.883358, 'test_total': 204.0, 'val_acc': 0.843137, 'val_avg_loss': 0.414542, 'val_loss': 84.566639, 'val_total': 204.0}\n",
      "2022-12-22 19:14:59,684 (server:323)INFO: Server #0: Starting evaluation at the end of round 79.\n",
      "2022-12-22 19:14:59,685 (server:330)INFO: ----------- Starting a new training round (Round #80) -------------\n",
      "2022-12-22 19:14:59,742 (client:415)INFO: {'Role': 'Client #1', 'Round': 80, 'Results_raw': {'test_acc': 0.803922, 'test_avg_loss': 0.48881, 'test_loss': 99.717253, 'test_total': 204, 'val_acc': 0.813725, 'val_avg_loss': 0.412966, 'val_loss': 84.245009, 'val_total': 204}}\n",
      "2022-12-22 19:14:59,743 (monitor:936)INFO: Current best: {'test_acc': 0.803922, 'test_avg_loss': 0.48881, 'test_loss': 99.717253, 'test_total': 204, 'val_acc': 0.813725, 'val_avg_loss': 0.412966, 'val_loss': 84.245009, 'val_total': 204}\n"
     ]
    },
    {
     "name": "stdout",
     "output_type": "stream",
     "text": [
      "no improve counter: 0\n",
      "self.best_metric: 84.56663930416107\n",
      "no improve counter: 0\n",
      "self.best_metric: 0.41296573070918813\n"
     ]
    },
    {
     "name": "stderr",
     "output_type": "stream",
     "text": [
      "2022-12-22 19:14:59,991 (client:260)INFO: {'Role': 'Client #1', 'Round': 80, 'Results_raw': {'train_acc': 0.841202, 'train_avg_loss': 0.383795, 'train_loss': 625.969571, 'train_total': 1631}}\n",
      "2022-12-22 19:14:59,993 (server:496)INFO: {'Role': 'Server #', 'Round': 80, 'Results_avg': {'test_acc': 0.803922, 'test_avg_loss': 0.48881, 'test_loss': 99.717253, 'test_total': 204.0, 'val_acc': 0.813725, 'val_avg_loss': 0.412966, 'val_loss': 84.245009, 'val_total': 204.0}}\n",
      "2022-12-22 19:14:59,995 (monitor:936)INFO: Current best: {'test_acc': [0.803922], 'test_avg_loss': [0.48881], 'test_loss': [99.717253], 'test_total': [204.0], 'val_acc': [0.813725], 'val_avg_loss': [0.412966], 'val_loss': [84.245009], 'val_total': [204.0]}\n",
      "2022-12-22 19:14:59,997 (monitor:936)INFO: Current best: {'test_acc': 0.803922, 'test_avg_loss': 0.48881, 'test_loss': 99.717253, 'test_total': 204.0, 'val_acc': 0.813725, 'val_avg_loss': 0.412966, 'val_loss': 84.245009, 'val_total': 204.0}\n",
      "2022-12-22 19:15:00,000 (server:323)INFO: Server #0: Starting evaluation at the end of round 80.\n",
      "2022-12-22 19:15:00,001 (server:330)INFO: ----------- Starting a new training round (Round #81) -------------\n",
      "2022-12-22 19:15:00,068 (client:415)INFO: {'Role': 'Client #1', 'Round': 81, 'Results_raw': {'test_acc': 0.808824, 'test_avg_loss': 0.483033, 'test_loss': 98.538786, 'test_total': 204, 'val_acc': 0.838235, 'val_avg_loss': 0.405008, 'val_loss': 82.621535, 'val_total': 204}}\n",
      "2022-12-22 19:15:00,069 (monitor:936)INFO: Current best: {'test_acc': 0.808824, 'test_avg_loss': 0.483033, 'test_loss': 98.538786, 'test_total': 204, 'val_acc': 0.838235, 'val_avg_loss': 0.405008, 'val_loss': 82.621535, 'val_total': 204}\n"
     ]
    },
    {
     "name": "stdout",
     "output_type": "stream",
     "text": [
      "no improve counter: 0\n",
      "self.best_metric: 84.24500906467438\n",
      "no improve counter: 0\n",
      "self.best_metric: 0.4050075265706754\n"
     ]
    },
    {
     "name": "stderr",
     "output_type": "stream",
     "text": [
      "2022-12-22 19:15:00,348 (client:260)INFO: {'Role': 'Client #1', 'Round': 81, 'Results_raw': {'train_acc': 0.849172, 'train_avg_loss': 0.389695, 'train_loss': 635.591815, 'train_total': 1631}}\n",
      "2022-12-22 19:15:00,350 (server:496)INFO: {'Role': 'Server #', 'Round': 81, 'Results_avg': {'test_acc': 0.808824, 'test_avg_loss': 0.483033, 'test_loss': 98.538786, 'test_total': 204.0, 'val_acc': 0.838235, 'val_avg_loss': 0.405008, 'val_loss': 82.621535, 'val_total': 204.0}}\n",
      "2022-12-22 19:15:00,351 (monitor:936)INFO: Current best: {'test_acc': [0.808824], 'test_avg_loss': [0.483033], 'test_loss': [98.538786], 'test_total': [204.0], 'val_acc': [0.838235], 'val_avg_loss': [0.405008], 'val_loss': [82.621535], 'val_total': [204.0]}\n",
      "2022-12-22 19:15:00,353 (monitor:936)INFO: Current best: {'test_acc': 0.808824, 'test_avg_loss': 0.483033, 'test_loss': 98.538786, 'test_total': 204.0, 'val_acc': 0.838235, 'val_avg_loss': 0.405008, 'val_loss': 82.621535, 'val_total': 204.0}\n",
      "2022-12-22 19:15:00,355 (server:323)INFO: Server #0: Starting evaluation at the end of round 81.\n",
      "2022-12-22 19:15:00,356 (server:330)INFO: ----------- Starting a new training round (Round #82) -------------\n",
      "2022-12-22 19:15:00,423 (client:415)INFO: {'Role': 'Client #1', 'Round': 82, 'Results_raw': {'test_acc': 0.803922, 'test_avg_loss': 0.484911, 'test_loss': 98.921832, 'test_total': 204, 'val_acc': 0.828431, 'val_avg_loss': 0.431932, 'val_loss': 88.114097, 'val_total': 204}}\n",
      "2022-12-22 19:15:00,424 (monitor:936)INFO: Current best: {'test_acc': 0.808824, 'test_avg_loss': 0.483033, 'test_loss': 98.538786, 'test_total': 204, 'val_acc': 0.838235, 'val_avg_loss': 0.405008, 'val_loss': 82.621535, 'val_total': 204}\n"
     ]
    },
    {
     "name": "stdout",
     "output_type": "stream",
     "text": [
      "no improve counter: 0\n",
      "self.best_metric: 82.62153542041779\n",
      "no improve counter: 1\n",
      "self.best_metric: 0.4050075265706754\n"
     ]
    },
    {
     "name": "stderr",
     "output_type": "stream",
     "text": [
      "2022-12-22 19:15:00,688 (client:260)INFO: {'Role': 'Client #1', 'Round': 82, 'Results_raw': {'train_acc': 0.843654, 'train_avg_loss': 0.386022, 'train_loss': 629.602521, 'train_total': 1631}}\n",
      "2022-12-22 19:15:00,690 (server:496)INFO: {'Role': 'Server #', 'Round': 82, 'Results_avg': {'test_acc': 0.803922, 'test_avg_loss': 0.484911, 'test_loss': 98.921832, 'test_total': 204.0, 'val_acc': 0.828431, 'val_avg_loss': 0.431932, 'val_loss': 88.114097, 'val_total': 204.0}}\n",
      "2022-12-22 19:15:00,691 (monitor:936)INFO: Current best: {'test_acc': 0.808824, 'test_avg_loss': 0.483033, 'test_loss': 98.538786, 'test_total': 204.0, 'val_acc': 0.838235, 'val_avg_loss': 0.405008, 'val_loss': 82.621535, 'val_total': 204.0}\n",
      "2022-12-22 19:15:00,692 (monitor:936)INFO: Current best: {'test_acc': 0.808824, 'test_avg_loss': 0.483033, 'test_loss': 98.538786, 'test_total': 204.0, 'val_acc': 0.838235, 'val_avg_loss': 0.405008, 'val_loss': 82.621535, 'val_total': 204.0}\n",
      "2022-12-22 19:15:00,695 (server:323)INFO: Server #0: Starting evaluation at the end of round 82.\n",
      "2022-12-22 19:15:00,695 (server:330)INFO: ----------- Starting a new training round (Round #83) -------------\n",
      "2022-12-22 19:15:00,754 (client:415)INFO: {'Role': 'Client #1', 'Round': 83, 'Results_raw': {'test_acc': 0.803922, 'test_avg_loss': 0.484872, 'test_loss': 98.913856, 'test_total': 204, 'val_acc': 0.828431, 'val_avg_loss': 0.430354, 'val_loss': 87.792142, 'val_total': 204}}\n",
      "2022-12-22 19:15:00,755 (monitor:936)INFO: Current best: {'test_acc': 0.808824, 'test_avg_loss': 0.483033, 'test_loss': 98.538786, 'test_total': 204, 'val_acc': 0.838235, 'val_avg_loss': 0.405008, 'val_loss': 82.621535, 'val_total': 204}\n"
     ]
    },
    {
     "name": "stdout",
     "output_type": "stream",
     "text": [
      "no improve counter: 1\n",
      "self.best_metric: 82.62153542041779\n",
      "no improve counter: 2\n",
      "self.best_metric: 0.4050075265706754\n"
     ]
    },
    {
     "name": "stderr",
     "output_type": "stream",
     "text": [
      "2022-12-22 19:15:01,026 (client:260)INFO: {'Role': 'Client #1', 'Round': 83, 'Results_raw': {'train_acc': 0.845494, 'train_avg_loss': 0.387163, 'train_loss': 631.463517, 'train_total': 1631}}\n",
      "2022-12-22 19:15:01,028 (server:496)INFO: {'Role': 'Server #', 'Round': 83, 'Results_avg': {'test_acc': 0.803922, 'test_avg_loss': 0.484872, 'test_loss': 98.913856, 'test_total': 204.0, 'val_acc': 0.828431, 'val_avg_loss': 0.430354, 'val_loss': 87.792142, 'val_total': 204.0}}\n",
      "2022-12-22 19:15:01,029 (monitor:936)INFO: Current best: {'test_acc': 0.808824, 'test_avg_loss': 0.483033, 'test_loss': 98.538786, 'test_total': 204.0, 'val_acc': 0.838235, 'val_avg_loss': 0.405008, 'val_loss': 82.621535, 'val_total': 204.0}\n",
      "2022-12-22 19:15:01,030 (monitor:936)INFO: Current best: {'test_acc': 0.808824, 'test_avg_loss': 0.483033, 'test_loss': 98.538786, 'test_total': 204.0, 'val_acc': 0.838235, 'val_avg_loss': 0.405008, 'val_loss': 82.621535, 'val_total': 204.0}\n",
      "2022-12-22 19:15:01,032 (server:323)INFO: Server #0: Starting evaluation at the end of round 83.\n",
      "2022-12-22 19:15:01,033 (server:330)INFO: ----------- Starting a new training round (Round #84) -------------\n",
      "2022-12-22 19:15:01,100 (client:415)INFO: {'Role': 'Client #1', 'Round': 84, 'Results_raw': {'test_acc': 0.789216, 'test_avg_loss': 0.529142, 'test_loss': 107.944938, 'test_total': 204, 'val_acc': 0.808824, 'val_avg_loss': 0.447443, 'val_loss': 91.278302, 'val_total': 204}}\n",
      "2022-12-22 19:15:01,101 (monitor:936)INFO: Current best: {'test_acc': 0.808824, 'test_avg_loss': 0.483033, 'test_loss': 98.538786, 'test_total': 204, 'val_acc': 0.838235, 'val_avg_loss': 0.405008, 'val_loss': 82.621535, 'val_total': 204}\n"
     ]
    },
    {
     "name": "stdout",
     "output_type": "stream",
     "text": [
      "no improve counter: 2\n",
      "self.best_metric: 82.62153542041779\n",
      "no improve counter: 3\n",
      "self.best_metric: 0.4050075265706754\n"
     ]
    },
    {
     "name": "stderr",
     "output_type": "stream",
     "text": [
      "2022-12-22 19:15:01,366 (client:260)INFO: {'Role': 'Client #1', 'Round': 84, 'Results_raw': {'train_acc': 0.852238, 'train_avg_loss': 0.377382, 'train_loss': 615.509611, 'train_total': 1631}}\n",
      "2022-12-22 19:15:01,367 (server:496)INFO: {'Role': 'Server #', 'Round': 84, 'Results_avg': {'test_acc': 0.789216, 'test_avg_loss': 0.529142, 'test_loss': 107.944938, 'test_total': 204.0, 'val_acc': 0.808824, 'val_avg_loss': 0.447443, 'val_loss': 91.278302, 'val_total': 204.0}}\n",
      "2022-12-22 19:15:01,368 (monitor:936)INFO: Current best: {'test_acc': 0.808824, 'test_avg_loss': 0.483033, 'test_loss': 98.538786, 'test_total': 204.0, 'val_acc': 0.838235, 'val_avg_loss': 0.405008, 'val_loss': 82.621535, 'val_total': 204.0}\n",
      "2022-12-22 19:15:01,370 (monitor:936)INFO: Current best: {'test_acc': 0.808824, 'test_avg_loss': 0.483033, 'test_loss': 98.538786, 'test_total': 204.0, 'val_acc': 0.838235, 'val_avg_loss': 0.405008, 'val_loss': 82.621535, 'val_total': 204.0}\n",
      "2022-12-22 19:15:01,374 (server:323)INFO: Server #0: Starting evaluation at the end of round 84.\n",
      "2022-12-22 19:15:01,376 (server:330)INFO: ----------- Starting a new training round (Round #85) -------------\n",
      "2022-12-22 19:15:01,431 (client:415)INFO: {'Role': 'Client #1', 'Round': 85, 'Results_raw': {'test_acc': 0.789216, 'test_avg_loss': 0.53494, 'test_loss': 109.127751, 'test_total': 204, 'val_acc': 0.794118, 'val_avg_loss': 0.499043, 'val_loss': 101.804836, 'val_total': 204}}\n",
      "2022-12-22 19:15:01,432 (monitor:936)INFO: Current best: {'test_acc': 0.808824, 'test_avg_loss': 0.483033, 'test_loss': 98.538786, 'test_total': 204, 'val_acc': 0.838235, 'val_avg_loss': 0.405008, 'val_loss': 82.621535, 'val_total': 204}\n"
     ]
    },
    {
     "name": "stdout",
     "output_type": "stream",
     "text": [
      "no improve counter: 3\n",
      "self.best_metric: 82.62153542041779\n",
      "no improve counter: 4\n",
      "self.best_metric: 0.4050075265706754\n"
     ]
    },
    {
     "name": "stderr",
     "output_type": "stream",
     "text": [
      "2022-12-22 19:15:01,695 (client:260)INFO: {'Role': 'Client #1', 'Round': 85, 'Results_raw': {'train_acc': 0.853464, 'train_avg_loss': 0.373025, 'train_loss': 608.403461, 'train_total': 1631}}\n",
      "2022-12-22 19:15:01,697 (server:496)INFO: {'Role': 'Server #', 'Round': 85, 'Results_avg': {'test_acc': 0.789216, 'test_avg_loss': 0.53494, 'test_loss': 109.127751, 'test_total': 204.0, 'val_acc': 0.794118, 'val_avg_loss': 0.499043, 'val_loss': 101.804836, 'val_total': 204.0}}\n",
      "2022-12-22 19:15:01,699 (monitor:936)INFO: Current best: {'test_acc': 0.808824, 'test_avg_loss': 0.483033, 'test_loss': 98.538786, 'test_total': 204.0, 'val_acc': 0.838235, 'val_avg_loss': 0.405008, 'val_loss': 82.621535, 'val_total': 204.0}\n",
      "2022-12-22 19:15:01,700 (monitor:936)INFO: Current best: {'test_acc': 0.808824, 'test_avg_loss': 0.483033, 'test_loss': 98.538786, 'test_total': 204.0, 'val_acc': 0.838235, 'val_avg_loss': 0.405008, 'val_loss': 82.621535, 'val_total': 204.0}\n",
      "2022-12-22 19:15:01,702 (server:323)INFO: Server #0: Starting evaluation at the end of round 85.\n",
      "2022-12-22 19:15:01,704 (server:330)INFO: ----------- Starting a new training round (Round #86) -------------\n",
      "2022-12-22 19:15:01,773 (client:415)INFO: {'Role': 'Client #1', 'Round': 86, 'Results_raw': {'test_acc': 0.77451, 'test_avg_loss': 0.550312, 'test_loss': 112.263651, 'test_total': 204, 'val_acc': 0.79902, 'val_avg_loss': 0.44049, 'val_loss': 89.860012, 'val_total': 204}}\n",
      "2022-12-22 19:15:01,775 (monitor:936)INFO: Current best: {'test_acc': 0.808824, 'test_avg_loss': 0.483033, 'test_loss': 98.538786, 'test_total': 204, 'val_acc': 0.838235, 'val_avg_loss': 0.405008, 'val_loss': 82.621535, 'val_total': 204}\n"
     ]
    },
    {
     "name": "stdout",
     "output_type": "stream",
     "text": [
      "no improve counter: 4\n",
      "self.best_metric: 82.62153542041779\n",
      "no improve counter: 5\n",
      "self.best_metric: 0.4050075265706754\n"
     ]
    },
    {
     "name": "stderr",
     "output_type": "stream",
     "text": [
      "2022-12-22 19:15:02,023 (client:260)INFO: {'Role': 'Client #1', 'Round': 86, 'Results_raw': {'train_acc': 0.860822, 'train_avg_loss': 0.373579, 'train_loss': 609.306877, 'train_total': 1631}}\n",
      "2022-12-22 19:15:02,025 (server:496)INFO: {'Role': 'Server #', 'Round': 86, 'Results_avg': {'test_acc': 0.77451, 'test_avg_loss': 0.550312, 'test_loss': 112.263651, 'test_total': 204.0, 'val_acc': 0.79902, 'val_avg_loss': 0.44049, 'val_loss': 89.860012, 'val_total': 204.0}}\n",
      "2022-12-22 19:15:02,026 (monitor:936)INFO: Current best: {'test_acc': 0.808824, 'test_avg_loss': 0.483033, 'test_loss': 98.538786, 'test_total': 204.0, 'val_acc': 0.838235, 'val_avg_loss': 0.405008, 'val_loss': 82.621535, 'val_total': 204.0}\n",
      "2022-12-22 19:15:02,028 (monitor:936)INFO: Current best: {'test_acc': 0.808824, 'test_avg_loss': 0.483033, 'test_loss': 98.538786, 'test_total': 204.0, 'val_acc': 0.838235, 'val_avg_loss': 0.405008, 'val_loss': 82.621535, 'val_total': 204.0}\n",
      "2022-12-22 19:15:02,030 (server:323)INFO: Server #0: Starting evaluation at the end of round 86.\n",
      "2022-12-22 19:15:02,030 (server:330)INFO: ----------- Starting a new training round (Round #87) -------------\n",
      "2022-12-22 19:15:02,097 (client:415)INFO: {'Role': 'Client #1', 'Round': 87, 'Results_raw': {'test_acc': 0.784314, 'test_avg_loss': 0.524531, 'test_loss': 107.004398, 'test_total': 204, 'val_acc': 0.808824, 'val_avg_loss': 0.424493, 'val_loss': 86.596511, 'val_total': 204}}\n",
      "2022-12-22 19:15:02,098 (monitor:936)INFO: Current best: {'test_acc': 0.808824, 'test_avg_loss': 0.483033, 'test_loss': 98.538786, 'test_total': 204, 'val_acc': 0.838235, 'val_avg_loss': 0.405008, 'val_loss': 82.621535, 'val_total': 204}\n"
     ]
    },
    {
     "name": "stdout",
     "output_type": "stream",
     "text": [
      "no improve counter: 5\n",
      "self.best_metric: 82.62153542041779\n",
      "no improve counter: 6\n",
      "self.best_metric: 0.4050075265706754\n"
     ]
    },
    {
     "name": "stderr",
     "output_type": "stream",
     "text": [
      "2022-12-22 19:15:02,369 (client:260)INFO: {'Role': 'Client #1', 'Round': 87, 'Results_raw': {'train_acc': 0.850399, 'train_avg_loss': 0.378529, 'train_loss': 617.381384, 'train_total': 1631}}\n",
      "2022-12-22 19:15:02,372 (server:496)INFO: {'Role': 'Server #', 'Round': 87, 'Results_avg': {'test_acc': 0.784314, 'test_avg_loss': 0.524531, 'test_loss': 107.004398, 'test_total': 204.0, 'val_acc': 0.808824, 'val_avg_loss': 0.424493, 'val_loss': 86.596511, 'val_total': 204.0}}\n",
      "2022-12-22 19:15:02,373 (monitor:936)INFO: Current best: {'test_acc': 0.808824, 'test_avg_loss': 0.483033, 'test_loss': 98.538786, 'test_total': 204.0, 'val_acc': 0.838235, 'val_avg_loss': 0.405008, 'val_loss': 82.621535, 'val_total': 204.0}\n",
      "2022-12-22 19:15:02,375 (monitor:936)INFO: Current best: {'test_acc': 0.808824, 'test_avg_loss': 0.483033, 'test_loss': 98.538786, 'test_total': 204.0, 'val_acc': 0.838235, 'val_avg_loss': 0.405008, 'val_loss': 82.621535, 'val_total': 204.0}\n",
      "2022-12-22 19:15:02,377 (server:323)INFO: Server #0: Starting evaluation at the end of round 87.\n",
      "2022-12-22 19:15:02,377 (server:330)INFO: ----------- Starting a new training round (Round #88) -------------\n",
      "2022-12-22 19:15:02,443 (client:415)INFO: {'Role': 'Client #1', 'Round': 88, 'Results_raw': {'test_acc': 0.779412, 'test_avg_loss': 0.540679, 'test_loss': 110.298585, 'test_total': 204, 'val_acc': 0.808824, 'val_avg_loss': 0.430693, 'val_loss': 87.861302, 'val_total': 204}}\n",
      "2022-12-22 19:15:02,445 (monitor:936)INFO: Current best: {'test_acc': 0.808824, 'test_avg_loss': 0.483033, 'test_loss': 98.538786, 'test_total': 204, 'val_acc': 0.838235, 'val_avg_loss': 0.405008, 'val_loss': 82.621535, 'val_total': 204}\n"
     ]
    },
    {
     "name": "stdout",
     "output_type": "stream",
     "text": [
      "no improve counter: 6\n",
      "self.best_metric: 82.62153542041779\n",
      "no improve counter: 7\n",
      "self.best_metric: 0.4050075265706754\n"
     ]
    },
    {
     "name": "stderr",
     "output_type": "stream",
     "text": [
      "2022-12-22 19:15:02,710 (client:260)INFO: {'Role': 'Client #1', 'Round': 88, 'Results_raw': {'train_acc': 0.85469, 'train_avg_loss': 0.374612, 'train_loss': 610.992807, 'train_total': 1631}}\n",
      "2022-12-22 19:15:02,712 (server:496)INFO: {'Role': 'Server #', 'Round': 88, 'Results_avg': {'test_acc': 0.779412, 'test_avg_loss': 0.540679, 'test_loss': 110.298585, 'test_total': 204.0, 'val_acc': 0.808824, 'val_avg_loss': 0.430693, 'val_loss': 87.861302, 'val_total': 204.0}}\n",
      "2022-12-22 19:15:02,713 (monitor:936)INFO: Current best: {'test_acc': 0.808824, 'test_avg_loss': 0.483033, 'test_loss': 98.538786, 'test_total': 204.0, 'val_acc': 0.838235, 'val_avg_loss': 0.405008, 'val_loss': 82.621535, 'val_total': 204.0}\n",
      "2022-12-22 19:15:02,714 (monitor:936)INFO: Current best: {'test_acc': 0.808824, 'test_avg_loss': 0.483033, 'test_loss': 98.538786, 'test_total': 204.0, 'val_acc': 0.838235, 'val_avg_loss': 0.405008, 'val_loss': 82.621535, 'val_total': 204.0}\n",
      "2022-12-22 19:15:02,715 (server:323)INFO: Server #0: Starting evaluation at the end of round 88.\n",
      "2022-12-22 19:15:02,716 (server:330)INFO: ----------- Starting a new training round (Round #89) -------------\n",
      "2022-12-22 19:15:02,775 (client:415)INFO: {'Role': 'Client #1', 'Round': 89, 'Results_raw': {'test_acc': 0.808824, 'test_avg_loss': 0.51265, 'test_loss': 104.580587, 'test_total': 204, 'val_acc': 0.813725, 'val_avg_loss': 0.416013, 'val_loss': 84.866656, 'val_total': 204}}\n",
      "2022-12-22 19:15:02,777 (monitor:936)INFO: Current best: {'test_acc': 0.808824, 'test_avg_loss': 0.483033, 'test_loss': 98.538786, 'test_total': 204, 'val_acc': 0.838235, 'val_avg_loss': 0.405008, 'val_loss': 82.621535, 'val_total': 204}\n"
     ]
    },
    {
     "name": "stdout",
     "output_type": "stream",
     "text": [
      "no improve counter: 7\n",
      "self.best_metric: 82.62153542041779\n",
      "no improve counter: 8\n",
      "self.best_metric: 0.4050075265706754\n"
     ]
    },
    {
     "name": "stderr",
     "output_type": "stream",
     "text": [
      "2022-12-22 19:15:03,048 (client:260)INFO: {'Role': 'Client #1', 'Round': 89, 'Results_raw': {'train_acc': 0.842428, 'train_avg_loss': 0.377999, 'train_loss': 616.516476, 'train_total': 1631}}\n",
      "2022-12-22 19:15:03,050 (server:496)INFO: {'Role': 'Server #', 'Round': 89, 'Results_avg': {'test_acc': 0.808824, 'test_avg_loss': 0.51265, 'test_loss': 104.580587, 'test_total': 204.0, 'val_acc': 0.813725, 'val_avg_loss': 0.416013, 'val_loss': 84.866656, 'val_total': 204.0}}\n",
      "2022-12-22 19:15:03,051 (monitor:936)INFO: Current best: {'test_acc': 0.808824, 'test_avg_loss': 0.483033, 'test_loss': 98.538786, 'test_total': 204.0, 'val_acc': 0.838235, 'val_avg_loss': 0.405008, 'val_loss': 82.621535, 'val_total': 204.0}\n",
      "2022-12-22 19:15:03,052 (monitor:936)INFO: Current best: {'test_acc': 0.808824, 'test_avg_loss': 0.483033, 'test_loss': 98.538786, 'test_total': 204.0, 'val_acc': 0.838235, 'val_avg_loss': 0.405008, 'val_loss': 82.621535, 'val_total': 204.0}\n",
      "2022-12-22 19:15:03,053 (server:323)INFO: Server #0: Starting evaluation at the end of round 89.\n",
      "2022-12-22 19:15:03,055 (server:330)INFO: ----------- Starting a new training round (Round #90) -------------\n",
      "2022-12-22 19:15:03,108 (client:415)INFO: {'Role': 'Client #1', 'Round': 90, 'Results_raw': {'test_acc': 0.79902, 'test_avg_loss': 0.529849, 'test_loss': 108.089287, 'test_total': 204, 'val_acc': 0.803922, 'val_avg_loss': 0.433609, 'val_loss': 88.456285, 'val_total': 204}}\n",
      "2022-12-22 19:15:03,109 (monitor:936)INFO: Current best: {'test_acc': 0.808824, 'test_avg_loss': 0.483033, 'test_loss': 98.538786, 'test_total': 204, 'val_acc': 0.838235, 'val_avg_loss': 0.405008, 'val_loss': 82.621535, 'val_total': 204}\n"
     ]
    },
    {
     "name": "stdout",
     "output_type": "stream",
     "text": [
      "no improve counter: 8\n",
      "self.best_metric: 82.62153542041779\n",
      "no improve counter: 9\n",
      "self.best_metric: 0.4050075265706754\n"
     ]
    },
    {
     "name": "stderr",
     "output_type": "stream",
     "text": [
      "2022-12-22 19:15:03,392 (client:260)INFO: {'Role': 'Client #1', 'Round': 90, 'Results_raw': {'train_acc': 0.848559, 'train_avg_loss': 0.381407, 'train_loss': 622.074105, 'train_total': 1631}}\n",
      "2022-12-22 19:15:03,394 (server:496)INFO: {'Role': 'Server #', 'Round': 90, 'Results_avg': {'test_acc': 0.79902, 'test_avg_loss': 0.529849, 'test_loss': 108.089287, 'test_total': 204.0, 'val_acc': 0.803922, 'val_avg_loss': 0.433609, 'val_loss': 88.456285, 'val_total': 204.0}}\n",
      "2022-12-22 19:15:03,395 (monitor:936)INFO: Current best: {'test_acc': 0.808824, 'test_avg_loss': 0.483033, 'test_loss': 98.538786, 'test_total': 204.0, 'val_acc': 0.838235, 'val_avg_loss': 0.405008, 'val_loss': 82.621535, 'val_total': 204.0}\n",
      "2022-12-22 19:15:03,397 (monitor:936)INFO: Current best: {'test_acc': 0.808824, 'test_avg_loss': 0.483033, 'test_loss': 98.538786, 'test_total': 204.0, 'val_acc': 0.838235, 'val_avg_loss': 0.405008, 'val_loss': 82.621535, 'val_total': 204.0}\n",
      "2022-12-22 19:15:03,399 (server:323)INFO: Server #0: Starting evaluation at the end of round 90.\n",
      "2022-12-22 19:15:03,401 (server:330)INFO: ----------- Starting a new training round (Round #91) -------------\n",
      "2022-12-22 19:15:03,457 (client:415)INFO: {'Role': 'Client #1', 'Round': 91, 'Results_raw': {'test_acc': 0.769608, 'test_avg_loss': 0.550068, 'test_loss': 112.213917, 'test_total': 204, 'val_acc': 0.794118, 'val_avg_loss': 0.445033, 'val_loss': 90.786695, 'val_total': 204}}\n",
      "2022-12-22 19:15:03,458 (monitor:936)INFO: Current best: {'test_acc': 0.808824, 'test_avg_loss': 0.483033, 'test_loss': 98.538786, 'test_total': 204, 'val_acc': 0.838235, 'val_avg_loss': 0.405008, 'val_loss': 82.621535, 'val_total': 204}\n"
     ]
    },
    {
     "name": "stdout",
     "output_type": "stream",
     "text": [
      "no improve counter: 9\n",
      "self.best_metric: 82.62153542041779\n",
      "no improve counter: 10\n",
      "self.best_metric: 0.4050075265706754\n"
     ]
    },
    {
     "name": "stderr",
     "output_type": "stream",
     "text": [
      "2022-12-22 19:15:03,736 (client:260)INFO: {'Role': 'Client #1', 'Round': 91, 'Results_raw': {'train_acc': 0.847946, 'train_avg_loss': 0.374344, 'train_loss': 610.555626, 'train_total': 1631}}\n",
      "2022-12-22 19:15:03,739 (server:496)INFO: {'Role': 'Server #', 'Round': 91, 'Results_avg': {'test_acc': 0.769608, 'test_avg_loss': 0.550068, 'test_loss': 112.213917, 'test_total': 204.0, 'val_acc': 0.794118, 'val_avg_loss': 0.445033, 'val_loss': 90.786695, 'val_total': 204.0}}\n",
      "2022-12-22 19:15:03,741 (monitor:936)INFO: Current best: {'test_acc': 0.808824, 'test_avg_loss': 0.483033, 'test_loss': 98.538786, 'test_total': 204.0, 'val_acc': 0.838235, 'val_avg_loss': 0.405008, 'val_loss': 82.621535, 'val_total': 204.0}\n",
      "2022-12-22 19:15:03,742 (monitor:936)INFO: Current best: {'test_acc': 0.808824, 'test_avg_loss': 0.483033, 'test_loss': 98.538786, 'test_total': 204.0, 'val_acc': 0.838235, 'val_avg_loss': 0.405008, 'val_loss': 82.621535, 'val_total': 204.0}\n",
      "2022-12-22 19:15:03,745 (server:323)INFO: Server #0: Starting evaluation at the end of round 91.\n",
      "2022-12-22 19:15:03,746 (server:330)INFO: ----------- Starting a new training round (Round #92) -------------\n",
      "2022-12-22 19:15:03,796 (client:415)INFO: {'Role': 'Client #1', 'Round': 92, 'Results_raw': {'test_acc': 0.789216, 'test_avg_loss': 0.511629, 'test_loss': 104.372407, 'test_total': 204, 'val_acc': 0.808824, 'val_avg_loss': 0.434653, 'val_loss': 88.669132, 'val_total': 204}}\n",
      "2022-12-22 19:15:03,797 (monitor:936)INFO: Current best: {'test_acc': 0.808824, 'test_avg_loss': 0.483033, 'test_loss': 98.538786, 'test_total': 204, 'val_acc': 0.838235, 'val_avg_loss': 0.405008, 'val_loss': 82.621535, 'val_total': 204}\n"
     ]
    },
    {
     "name": "stdout",
     "output_type": "stream",
     "text": [
      "no improve counter: 10\n",
      "self.best_metric: 82.62153542041779\n",
      "no improve counter: 11\n",
      "self.best_metric: 0.4050075265706754\n"
     ]
    },
    {
     "name": "stderr",
     "output_type": "stream",
     "text": [
      "2022-12-22 19:15:04,058 (client:260)INFO: {'Role': 'Client #1', 'Round': 92, 'Results_raw': {'train_acc': 0.848559, 'train_avg_loss': 0.378178, 'train_loss': 616.808103, 'train_total': 1631}}\n",
      "2022-12-22 19:15:04,060 (server:496)INFO: {'Role': 'Server #', 'Round': 92, 'Results_avg': {'test_acc': 0.789216, 'test_avg_loss': 0.511629, 'test_loss': 104.372407, 'test_total': 204.0, 'val_acc': 0.808824, 'val_avg_loss': 0.434653, 'val_loss': 88.669132, 'val_total': 204.0}}\n",
      "2022-12-22 19:15:04,061 (monitor:936)INFO: Current best: {'test_acc': 0.808824, 'test_avg_loss': 0.483033, 'test_loss': 98.538786, 'test_total': 204.0, 'val_acc': 0.838235, 'val_avg_loss': 0.405008, 'val_loss': 82.621535, 'val_total': 204.0}\n",
      "2022-12-22 19:15:04,063 (monitor:936)INFO: Current best: {'test_acc': 0.808824, 'test_avg_loss': 0.483033, 'test_loss': 98.538786, 'test_total': 204.0, 'val_acc': 0.838235, 'val_avg_loss': 0.405008, 'val_loss': 82.621535, 'val_total': 204.0}\n",
      "2022-12-22 19:15:04,065 (server:323)INFO: Server #0: Starting evaluation at the end of round 92.\n",
      "2022-12-22 19:15:04,065 (server:330)INFO: ----------- Starting a new training round (Round #93) -------------\n",
      "2022-12-22 19:15:04,123 (client:415)INFO: {'Role': 'Client #1', 'Round': 93, 'Results_raw': {'test_acc': 0.769608, 'test_avg_loss': 0.598823, 'test_loss': 122.159817, 'test_total': 204, 'val_acc': 0.784314, 'val_avg_loss': 0.476608, 'val_loss': 97.227949, 'val_total': 204}}\n",
      "2022-12-22 19:15:04,125 (monitor:936)INFO: Current best: {'test_acc': 0.808824, 'test_avg_loss': 0.483033, 'test_loss': 98.538786, 'test_total': 204, 'val_acc': 0.838235, 'val_avg_loss': 0.405008, 'val_loss': 82.621535, 'val_total': 204}\n"
     ]
    },
    {
     "name": "stdout",
     "output_type": "stream",
     "text": [
      "no improve counter: 11\n",
      "self.best_metric: 82.62153542041779\n",
      "no improve counter: 12\n",
      "self.best_metric: 0.4050075265706754\n"
     ]
    },
    {
     "name": "stderr",
     "output_type": "stream",
     "text": [
      "2022-12-22 19:15:04,389 (client:260)INFO: {'Role': 'Client #1', 'Round': 93, 'Results_raw': {'train_acc': 0.852851, 'train_avg_loss': 0.371276, 'train_loss': 605.551902, 'train_total': 1631}}\n",
      "2022-12-22 19:15:04,393 (server:496)INFO: {'Role': 'Server #', 'Round': 93, 'Results_avg': {'test_acc': 0.769608, 'test_avg_loss': 0.598823, 'test_loss': 122.159817, 'test_total': 204.0, 'val_acc': 0.784314, 'val_avg_loss': 0.476608, 'val_loss': 97.227949, 'val_total': 204.0}}\n",
      "2022-12-22 19:15:04,394 (monitor:936)INFO: Current best: {'test_acc': 0.808824, 'test_avg_loss': 0.483033, 'test_loss': 98.538786, 'test_total': 204.0, 'val_acc': 0.838235, 'val_avg_loss': 0.405008, 'val_loss': 82.621535, 'val_total': 204.0}\n",
      "2022-12-22 19:15:04,396 (monitor:936)INFO: Current best: {'test_acc': 0.808824, 'test_avg_loss': 0.483033, 'test_loss': 98.538786, 'test_total': 204.0, 'val_acc': 0.838235, 'val_avg_loss': 0.405008, 'val_loss': 82.621535, 'val_total': 204.0}\n",
      "2022-12-22 19:15:04,399 (server:323)INFO: Server #0: Starting evaluation at the end of round 93.\n",
      "2022-12-22 19:15:04,399 (server:330)INFO: ----------- Starting a new training round (Round #94) -------------\n",
      "2022-12-22 19:15:04,448 (client:415)INFO: {'Role': 'Client #1', 'Round': 94, 'Results_raw': {'test_acc': 0.769608, 'test_avg_loss': 0.567172, 'test_loss': 115.703179, 'test_total': 204, 'val_acc': 0.79902, 'val_avg_loss': 0.459644, 'val_loss': 93.767281, 'val_total': 204}}\n",
      "2022-12-22 19:15:04,449 (monitor:936)INFO: Current best: {'test_acc': 0.808824, 'test_avg_loss': 0.483033, 'test_loss': 98.538786, 'test_total': 204, 'val_acc': 0.838235, 'val_avg_loss': 0.405008, 'val_loss': 82.621535, 'val_total': 204}\n"
     ]
    },
    {
     "name": "stdout",
     "output_type": "stream",
     "text": [
      "no improve counter: 12\n",
      "self.best_metric: 82.62153542041779\n",
      "no improve counter: 13\n",
      "self.best_metric: 0.4050075265706754\n"
     ]
    },
    {
     "name": "stderr",
     "output_type": "stream",
     "text": [
      "2022-12-22 19:15:04,713 (client:260)INFO: {'Role': 'Client #1', 'Round': 94, 'Results_raw': {'train_acc': 0.847946, 'train_avg_loss': 0.374908, 'train_loss': 611.47525, 'train_total': 1631}}\n",
      "2022-12-22 19:15:04,715 (server:496)INFO: {'Role': 'Server #', 'Round': 94, 'Results_avg': {'test_acc': 0.769608, 'test_avg_loss': 0.567172, 'test_loss': 115.703179, 'test_total': 204.0, 'val_acc': 0.79902, 'val_avg_loss': 0.459644, 'val_loss': 93.767281, 'val_total': 204.0}}\n",
      "2022-12-22 19:15:04,716 (monitor:936)INFO: Current best: {'test_acc': 0.808824, 'test_avg_loss': 0.483033, 'test_loss': 98.538786, 'test_total': 204.0, 'val_acc': 0.838235, 'val_avg_loss': 0.405008, 'val_loss': 82.621535, 'val_total': 204.0}\n",
      "2022-12-22 19:15:04,717 (monitor:936)INFO: Current best: {'test_acc': 0.808824, 'test_avg_loss': 0.483033, 'test_loss': 98.538786, 'test_total': 204.0, 'val_acc': 0.838235, 'val_avg_loss': 0.405008, 'val_loss': 82.621535, 'val_total': 204.0}\n",
      "2022-12-22 19:15:04,719 (server:323)INFO: Server #0: Starting evaluation at the end of round 94.\n",
      "2022-12-22 19:15:04,720 (server:330)INFO: ----------- Starting a new training round (Round #95) -------------\n",
      "2022-12-22 19:15:04,791 (client:415)INFO: {'Role': 'Client #1', 'Round': 95, 'Results_raw': {'test_acc': 0.79902, 'test_avg_loss': 0.484081, 'test_loss': 98.752551, 'test_total': 204, 'val_acc': 0.843137, 'val_avg_loss': 0.403053, 'val_loss': 82.222858, 'val_total': 204}}\n",
      "2022-12-22 19:15:04,792 (monitor:936)INFO: Current best: {'test_acc': 0.79902, 'test_avg_loss': 0.484081, 'test_loss': 98.752551, 'test_total': 204, 'val_acc': 0.843137, 'val_avg_loss': 0.403053, 'val_loss': 82.222858, 'val_total': 204}\n"
     ]
    },
    {
     "name": "stdout",
     "output_type": "stream",
     "text": [
      "no improve counter: 13\n",
      "self.best_metric: 82.62153542041779\n",
      "no improve counter: 0\n",
      "self.best_metric: 0.4030532235024022\n"
     ]
    },
    {
     "name": "stderr",
     "output_type": "stream",
     "text": [
      "2022-12-22 19:15:05,068 (client:260)INFO: {'Role': 'Client #1', 'Round': 95, 'Results_raw': {'train_acc': 0.852851, 'train_avg_loss': 0.372049, 'train_loss': 606.811634, 'train_total': 1631}}\n",
      "2022-12-22 19:15:05,070 (server:496)INFO: {'Role': 'Server #', 'Round': 95, 'Results_avg': {'test_acc': 0.79902, 'test_avg_loss': 0.484081, 'test_loss': 98.752551, 'test_total': 204.0, 'val_acc': 0.843137, 'val_avg_loss': 0.403053, 'val_loss': 82.222858, 'val_total': 204.0}}\n",
      "2022-12-22 19:15:05,071 (monitor:936)INFO: Current best: {'test_acc': [0.79902], 'test_avg_loss': [0.484081], 'test_loss': [98.752551], 'test_total': [204.0], 'val_acc': [0.843137], 'val_avg_loss': [0.403053], 'val_loss': [82.222858], 'val_total': [204.0]}\n",
      "2022-12-22 19:15:05,072 (monitor:936)INFO: Current best: {'test_acc': 0.79902, 'test_avg_loss': 0.484081, 'test_loss': 98.752551, 'test_total': 204.0, 'val_acc': 0.843137, 'val_avg_loss': 0.403053, 'val_loss': 82.222858, 'val_total': 204.0}\n",
      "2022-12-22 19:15:05,075 (server:323)INFO: Server #0: Starting evaluation at the end of round 95.\n",
      "2022-12-22 19:15:05,076 (server:330)INFO: ----------- Starting a new training round (Round #96) -------------\n",
      "2022-12-22 19:15:05,133 (client:415)INFO: {'Role': 'Client #1', 'Round': 96, 'Results_raw': {'test_acc': 0.769608, 'test_avg_loss': 0.590225, 'test_loss': 120.405997, 'test_total': 204, 'val_acc': 0.789216, 'val_avg_loss': 0.466288, 'val_loss': 95.122721, 'val_total': 204}}\n",
      "2022-12-22 19:15:05,134 (monitor:936)INFO: Current best: {'test_acc': 0.79902, 'test_avg_loss': 0.484081, 'test_loss': 98.752551, 'test_total': 204, 'val_acc': 0.843137, 'val_avg_loss': 0.403053, 'val_loss': 82.222858, 'val_total': 204}\n"
     ]
    },
    {
     "name": "stdout",
     "output_type": "stream",
     "text": [
      "no improve counter: 0\n",
      "self.best_metric: 82.22285759449005\n",
      "no improve counter: 1\n",
      "self.best_metric: 0.4030532235024022\n"
     ]
    },
    {
     "name": "stderr",
     "output_type": "stream",
     "text": [
      "2022-12-22 19:15:05,381 (client:260)INFO: {'Role': 'Client #1', 'Round': 96, 'Results_raw': {'train_acc': 0.848559, 'train_avg_loss': 0.374545, 'train_loss': 610.882815, 'train_total': 1631}}\n",
      "2022-12-22 19:15:05,383 (server:496)INFO: {'Role': 'Server #', 'Round': 96, 'Results_avg': {'test_acc': 0.769608, 'test_avg_loss': 0.590225, 'test_loss': 120.405997, 'test_total': 204.0, 'val_acc': 0.789216, 'val_avg_loss': 0.466288, 'val_loss': 95.122721, 'val_total': 204.0}}\n",
      "2022-12-22 19:15:05,385 (monitor:936)INFO: Current best: {'test_acc': 0.79902, 'test_avg_loss': 0.484081, 'test_loss': 98.752551, 'test_total': 204.0, 'val_acc': 0.843137, 'val_avg_loss': 0.403053, 'val_loss': 82.222858, 'val_total': 204.0}\n",
      "2022-12-22 19:15:05,386 (monitor:936)INFO: Current best: {'test_acc': 0.79902, 'test_avg_loss': 0.484081, 'test_loss': 98.752551, 'test_total': 204.0, 'val_acc': 0.843137, 'val_avg_loss': 0.403053, 'val_loss': 82.222858, 'val_total': 204.0}\n",
      "2022-12-22 19:15:05,389 (server:323)INFO: Server #0: Starting evaluation at the end of round 96.\n",
      "2022-12-22 19:15:05,389 (server:330)INFO: ----------- Starting a new training round (Round #97) -------------\n",
      "2022-12-22 19:15:05,441 (client:415)INFO: {'Role': 'Client #1', 'Round': 97, 'Results_raw': {'test_acc': 0.784314, 'test_avg_loss': 0.541119, 'test_loss': 110.388348, 'test_total': 204, 'val_acc': 0.794118, 'val_avg_loss': 0.430326, 'val_loss': 87.786513, 'val_total': 204}}\n",
      "2022-12-22 19:15:05,442 (monitor:936)INFO: Current best: {'test_acc': 0.79902, 'test_avg_loss': 0.484081, 'test_loss': 98.752551, 'test_total': 204, 'val_acc': 0.843137, 'val_avg_loss': 0.403053, 'val_loss': 82.222858, 'val_total': 204}\n"
     ]
    },
    {
     "name": "stdout",
     "output_type": "stream",
     "text": [
      "no improve counter: 1\n",
      "self.best_metric: 82.22285759449005\n",
      "no improve counter: 2\n",
      "self.best_metric: 0.4030532235024022\n"
     ]
    },
    {
     "name": "stderr",
     "output_type": "stream",
     "text": [
      "2022-12-22 19:15:05,701 (client:260)INFO: {'Role': 'Client #1', 'Round': 97, 'Results_raw': {'train_acc': 0.843654, 'train_avg_loss': 0.380135, 'train_loss': 620.000516, 'train_total': 1631}}\n",
      "2022-12-22 19:15:05,703 (server:496)INFO: {'Role': 'Server #', 'Round': 97, 'Results_avg': {'test_acc': 0.784314, 'test_avg_loss': 0.541119, 'test_loss': 110.388348, 'test_total': 204.0, 'val_acc': 0.794118, 'val_avg_loss': 0.430326, 'val_loss': 87.786513, 'val_total': 204.0}}\n",
      "2022-12-22 19:15:05,705 (monitor:936)INFO: Current best: {'test_acc': 0.79902, 'test_avg_loss': 0.484081, 'test_loss': 98.752551, 'test_total': 204.0, 'val_acc': 0.843137, 'val_avg_loss': 0.403053, 'val_loss': 82.222858, 'val_total': 204.0}\n",
      "2022-12-22 19:15:05,706 (monitor:936)INFO: Current best: {'test_acc': 0.79902, 'test_avg_loss': 0.484081, 'test_loss': 98.752551, 'test_total': 204.0, 'val_acc': 0.843137, 'val_avg_loss': 0.403053, 'val_loss': 82.222858, 'val_total': 204.0}\n",
      "2022-12-22 19:15:05,710 (server:323)INFO: Server #0: Starting evaluation at the end of round 97.\n",
      "2022-12-22 19:15:05,711 (server:330)INFO: ----------- Starting a new training round (Round #98) -------------\n",
      "2022-12-22 19:15:05,772 (client:415)INFO: {'Role': 'Client #1', 'Round': 98, 'Results_raw': {'test_acc': 0.808824, 'test_avg_loss': 0.474229, 'test_loss': 96.742728, 'test_total': 204, 'val_acc': 0.843137, 'val_avg_loss': 0.403226, 'val_loss': 82.258181, 'val_total': 204}}\n",
      "2022-12-22 19:15:05,774 (monitor:936)INFO: Current best: {'test_acc': 0.79902, 'test_avg_loss': 0.484081, 'test_loss': 98.752551, 'test_total': 204, 'val_acc': 0.843137, 'val_avg_loss': 0.403053, 'val_loss': 82.222858, 'val_total': 204}\n"
     ]
    },
    {
     "name": "stdout",
     "output_type": "stream",
     "text": [
      "no improve counter: 2\n",
      "self.best_metric: 82.22285759449005\n",
      "no improve counter: 3\n",
      "self.best_metric: 0.4030532235024022\n"
     ]
    },
    {
     "name": "stderr",
     "output_type": "stream",
     "text": [
      "2022-12-22 19:15:06,056 (client:260)INFO: {'Role': 'Client #1', 'Round': 98, 'Results_raw': {'train_acc': 0.851012, 'train_avg_loss': 0.372234, 'train_loss': 607.113495, 'train_total': 1631}}\n",
      "2022-12-22 19:15:06,059 (server:496)INFO: {'Role': 'Server #', 'Round': 98, 'Results_avg': {'test_acc': 0.808824, 'test_avg_loss': 0.474229, 'test_loss': 96.742728, 'test_total': 204.0, 'val_acc': 0.843137, 'val_avg_loss': 0.403226, 'val_loss': 82.258181, 'val_total': 204.0}}\n",
      "2022-12-22 19:15:06,061 (monitor:936)INFO: Current best: {'test_acc': 0.79902, 'test_avg_loss': 0.484081, 'test_loss': 98.752551, 'test_total': 204.0, 'val_acc': 0.843137, 'val_avg_loss': 0.403053, 'val_loss': 82.222858, 'val_total': 204.0}\n",
      "2022-12-22 19:15:06,063 (monitor:936)INFO: Current best: {'test_acc': 0.79902, 'test_avg_loss': 0.484081, 'test_loss': 98.752551, 'test_total': 204.0, 'val_acc': 0.843137, 'val_avg_loss': 0.403053, 'val_loss': 82.222858, 'val_total': 204.0}\n",
      "2022-12-22 19:15:06,066 (server:323)INFO: Server #0: Starting evaluation at the end of round 98.\n",
      "2022-12-22 19:15:06,066 (server:330)INFO: ----------- Starting a new training round (Round #99) -------------\n",
      "2022-12-22 19:15:06,138 (client:415)INFO: {'Role': 'Client #1', 'Round': 99, 'Results_raw': {'test_acc': 0.789216, 'test_avg_loss': 0.522265, 'test_loss': 106.542031, 'test_total': 204, 'val_acc': 0.803922, 'val_avg_loss': 0.417113, 'val_loss': 85.091013, 'val_total': 204}}\n",
      "2022-12-22 19:15:06,140 (monitor:936)INFO: Current best: {'test_acc': 0.79902, 'test_avg_loss': 0.484081, 'test_loss': 98.752551, 'test_total': 204, 'val_acc': 0.843137, 'val_avg_loss': 0.403053, 'val_loss': 82.222858, 'val_total': 204}\n"
     ]
    },
    {
     "name": "stdout",
     "output_type": "stream",
     "text": [
      "no improve counter: 3\n",
      "self.best_metric: 82.22285759449005\n",
      "no improve counter: 4\n",
      "self.best_metric: 0.4030532235024022\n"
     ]
    },
    {
     "name": "stderr",
     "output_type": "stream",
     "text": [
      "2022-12-22 19:15:06,393 (client:260)INFO: {'Role': 'Client #1', 'Round': 99, 'Results_raw': {'train_acc': 0.849785, 'train_avg_loss': 0.37928, 'train_loss': 618.605462, 'train_total': 1631}}\n",
      "2022-12-22 19:15:06,395 (server:496)INFO: {'Role': 'Server #', 'Round': 99, 'Results_avg': {'test_acc': 0.789216, 'test_avg_loss': 0.522265, 'test_loss': 106.542031, 'test_total': 204.0, 'val_acc': 0.803922, 'val_avg_loss': 0.417113, 'val_loss': 85.091013, 'val_total': 204.0}}\n",
      "2022-12-22 19:15:06,396 (monitor:936)INFO: Current best: {'test_acc': 0.79902, 'test_avg_loss': 0.484081, 'test_loss': 98.752551, 'test_total': 204.0, 'val_acc': 0.843137, 'val_avg_loss': 0.403053, 'val_loss': 82.222858, 'val_total': 204.0}\n",
      "2022-12-22 19:15:06,398 (monitor:936)INFO: Current best: {'test_acc': 0.79902, 'test_avg_loss': 0.484081, 'test_loss': 98.752551, 'test_total': 204.0, 'val_acc': 0.843137, 'val_avg_loss': 0.403053, 'val_loss': 82.222858, 'val_total': 204.0}\n",
      "2022-12-22 19:15:06,401 (server:323)INFO: Server #0: Starting evaluation at the end of round 99.\n",
      "2022-12-22 19:15:06,402 (server:330)INFO: ----------- Starting a new training round (Round #100) -------------\n",
      "2022-12-22 19:15:06,448 (client:415)INFO: {'Role': 'Client #1', 'Round': 100, 'Results_raw': {'test_acc': 0.794118, 'test_avg_loss': 0.512686, 'test_loss': 104.587865, 'test_total': 204, 'val_acc': 0.808824, 'val_avg_loss': 0.423248, 'val_loss': 86.342556, 'val_total': 204}}\n",
      "2022-12-22 19:15:06,449 (monitor:936)INFO: Current best: {'test_acc': 0.79902, 'test_avg_loss': 0.484081, 'test_loss': 98.752551, 'test_total': 204, 'val_acc': 0.843137, 'val_avg_loss': 0.403053, 'val_loss': 82.222858, 'val_total': 204}\n"
     ]
    },
    {
     "name": "stdout",
     "output_type": "stream",
     "text": [
      "no improve counter: 4\n",
      "self.best_metric: 82.22285759449005\n",
      "no improve counter: 5\n",
      "self.best_metric: 0.4030532235024022\n"
     ]
    },
    {
     "name": "stderr",
     "output_type": "stream",
     "text": [
      "2022-12-22 19:15:06,711 (client:260)INFO: {'Role': 'Client #1', 'Round': 100, 'Results_raw': {'train_acc': 0.858369, 'train_avg_loss': 0.361026, 'train_loss': 588.832967, 'train_total': 1631}}\n",
      "2022-12-22 19:15:06,713 (server:496)INFO: {'Role': 'Server #', 'Round': 100, 'Results_avg': {'test_acc': 0.794118, 'test_avg_loss': 0.512686, 'test_loss': 104.587865, 'test_total': 204.0, 'val_acc': 0.808824, 'val_avg_loss': 0.423248, 'val_loss': 86.342556, 'val_total': 204.0}}\n",
      "2022-12-22 19:15:06,715 (monitor:936)INFO: Current best: {'test_acc': 0.79902, 'test_avg_loss': 0.484081, 'test_loss': 98.752551, 'test_total': 204.0, 'val_acc': 0.843137, 'val_avg_loss': 0.403053, 'val_loss': 82.222858, 'val_total': 204.0}\n",
      "2022-12-22 19:15:06,716 (monitor:936)INFO: Current best: {'test_acc': 0.79902, 'test_avg_loss': 0.484081, 'test_loss': 98.752551, 'test_total': 204.0, 'val_acc': 0.843137, 'val_avg_loss': 0.403053, 'val_loss': 82.222858, 'val_total': 204.0}\n",
      "2022-12-22 19:15:06,718 (server:323)INFO: Server #0: Starting evaluation at the end of round 100.\n",
      "2022-12-22 19:15:06,719 (server:330)INFO: ----------- Starting a new training round (Round #101) -------------\n",
      "2022-12-22 19:15:06,774 (client:415)INFO: {'Role': 'Client #1', 'Round': 101, 'Results_raw': {'test_acc': 0.784314, 'test_avg_loss': 0.574865, 'test_loss': 117.272398, 'test_total': 204, 'val_acc': 0.803922, 'val_avg_loss': 0.458131, 'val_loss': 93.458782, 'val_total': 204}}\n",
      "2022-12-22 19:15:06,775 (monitor:936)INFO: Current best: {'test_acc': 0.79902, 'test_avg_loss': 0.484081, 'test_loss': 98.752551, 'test_total': 204, 'val_acc': 0.843137, 'val_avg_loss': 0.403053, 'val_loss': 82.222858, 'val_total': 204}\n"
     ]
    },
    {
     "name": "stdout",
     "output_type": "stream",
     "text": [
      "no improve counter: 5\n",
      "self.best_metric: 82.22285759449005\n",
      "no improve counter: 6\n",
      "self.best_metric: 0.4030532235024022\n"
     ]
    },
    {
     "name": "stderr",
     "output_type": "stream",
     "text": [
      "2022-12-22 19:15:07,053 (client:260)INFO: {'Role': 'Client #1', 'Round': 101, 'Results_raw': {'train_acc': 0.850399, 'train_avg_loss': 0.387969, 'train_loss': 632.777141, 'train_total': 1631}}\n",
      "2022-12-22 19:15:07,055 (server:496)INFO: {'Role': 'Server #', 'Round': 101, 'Results_avg': {'test_acc': 0.784314, 'test_avg_loss': 0.574865, 'test_loss': 117.272398, 'test_total': 204.0, 'val_acc': 0.803922, 'val_avg_loss': 0.458131, 'val_loss': 93.458782, 'val_total': 204.0}}\n",
      "2022-12-22 19:15:07,056 (monitor:936)INFO: Current best: {'test_acc': 0.79902, 'test_avg_loss': 0.484081, 'test_loss': 98.752551, 'test_total': 204.0, 'val_acc': 0.843137, 'val_avg_loss': 0.403053, 'val_loss': 82.222858, 'val_total': 204.0}\n",
      "2022-12-22 19:15:07,057 (monitor:936)INFO: Current best: {'test_acc': 0.79902, 'test_avg_loss': 0.484081, 'test_loss': 98.752551, 'test_total': 204.0, 'val_acc': 0.843137, 'val_avg_loss': 0.403053, 'val_loss': 82.222858, 'val_total': 204.0}\n",
      "2022-12-22 19:15:07,059 (server:323)INFO: Server #0: Starting evaluation at the end of round 101.\n",
      "2022-12-22 19:15:07,060 (server:330)INFO: ----------- Starting a new training round (Round #102) -------------\n",
      "2022-12-22 19:15:07,114 (client:415)INFO: {'Role': 'Client #1', 'Round': 102, 'Results_raw': {'test_acc': 0.803922, 'test_avg_loss': 0.495225, 'test_loss': 101.025849, 'test_total': 204, 'val_acc': 0.818627, 'val_avg_loss': 0.408072, 'val_loss': 83.246673, 'val_total': 204}}\n",
      "2022-12-22 19:15:07,115 (monitor:936)INFO: Current best: {'test_acc': 0.79902, 'test_avg_loss': 0.484081, 'test_loss': 98.752551, 'test_total': 204, 'val_acc': 0.843137, 'val_avg_loss': 0.403053, 'val_loss': 82.222858, 'val_total': 204}\n"
     ]
    },
    {
     "name": "stdout",
     "output_type": "stream",
     "text": [
      "no improve counter: 6\n",
      "self.best_metric: 82.22285759449005\n",
      "no improve counter: 7\n",
      "self.best_metric: 0.4030532235024022\n"
     ]
    },
    {
     "name": "stderr",
     "output_type": "stream",
     "text": [
      "2022-12-22 19:15:07,399 (client:260)INFO: {'Role': 'Client #1', 'Round': 102, 'Results_raw': {'train_acc': 0.85653, 'train_avg_loss': 0.368457, 'train_loss': 600.952843, 'train_total': 1631}}\n",
      "2022-12-22 19:15:07,400 (server:496)INFO: {'Role': 'Server #', 'Round': 102, 'Results_avg': {'test_acc': 0.803922, 'test_avg_loss': 0.495225, 'test_loss': 101.025849, 'test_total': 204.0, 'val_acc': 0.818627, 'val_avg_loss': 0.408072, 'val_loss': 83.246673, 'val_total': 204.0}}\n",
      "2022-12-22 19:15:07,402 (monitor:936)INFO: Current best: {'test_acc': 0.79902, 'test_avg_loss': 0.484081, 'test_loss': 98.752551, 'test_total': 204.0, 'val_acc': 0.843137, 'val_avg_loss': 0.403053, 'val_loss': 82.222858, 'val_total': 204.0}\n",
      "2022-12-22 19:15:07,404 (monitor:936)INFO: Current best: {'test_acc': 0.79902, 'test_avg_loss': 0.484081, 'test_loss': 98.752551, 'test_total': 204.0, 'val_acc': 0.843137, 'val_avg_loss': 0.403053, 'val_loss': 82.222858, 'val_total': 204.0}\n",
      "2022-12-22 19:15:07,407 (server:323)INFO: Server #0: Starting evaluation at the end of round 102.\n",
      "2022-12-22 19:15:07,408 (server:330)INFO: ----------- Starting a new training round (Round #103) -------------\n",
      "2022-12-22 19:15:07,454 (client:415)INFO: {'Role': 'Client #1', 'Round': 103, 'Results_raw': {'test_acc': 0.79902, 'test_avg_loss': 0.490489, 'test_loss': 100.059703, 'test_total': 204, 'val_acc': 0.823529, 'val_avg_loss': 0.405044, 'val_loss': 82.62898, 'val_total': 204}}\n",
      "2022-12-22 19:15:07,455 (monitor:936)INFO: Current best: {'test_acc': 0.79902, 'test_avg_loss': 0.484081, 'test_loss': 98.752551, 'test_total': 204, 'val_acc': 0.843137, 'val_avg_loss': 0.403053, 'val_loss': 82.222858, 'val_total': 204}\n"
     ]
    },
    {
     "name": "stdout",
     "output_type": "stream",
     "text": [
      "no improve counter: 7\n",
      "self.best_metric: 82.22285759449005\n",
      "no improve counter: 8\n",
      "self.best_metric: 0.4030532235024022\n"
     ]
    },
    {
     "name": "stderr",
     "output_type": "stream",
     "text": [
      "2022-12-22 19:15:07,735 (client:260)INFO: {'Role': 'Client #1', 'Round': 103, 'Results_raw': {'train_acc': 0.850399, 'train_avg_loss': 0.374457, 'train_loss': 610.739583, 'train_total': 1631}}\n",
      "2022-12-22 19:15:07,737 (server:496)INFO: {'Role': 'Server #', 'Round': 103, 'Results_avg': {'test_acc': 0.79902, 'test_avg_loss': 0.490489, 'test_loss': 100.059703, 'test_total': 204.0, 'val_acc': 0.823529, 'val_avg_loss': 0.405044, 'val_loss': 82.62898, 'val_total': 204.0}}\n",
      "2022-12-22 19:15:07,739 (monitor:936)INFO: Current best: {'test_acc': 0.79902, 'test_avg_loss': 0.484081, 'test_loss': 98.752551, 'test_total': 204.0, 'val_acc': 0.843137, 'val_avg_loss': 0.403053, 'val_loss': 82.222858, 'val_total': 204.0}\n",
      "2022-12-22 19:15:07,741 (monitor:936)INFO: Current best: {'test_acc': 0.79902, 'test_avg_loss': 0.484081, 'test_loss': 98.752551, 'test_total': 204.0, 'val_acc': 0.843137, 'val_avg_loss': 0.403053, 'val_loss': 82.222858, 'val_total': 204.0}\n",
      "2022-12-22 19:15:07,745 (server:323)INFO: Server #0: Starting evaluation at the end of round 103.\n",
      "2022-12-22 19:15:07,746 (server:330)INFO: ----------- Starting a new training round (Round #104) -------------\n",
      "2022-12-22 19:15:07,808 (client:415)INFO: {'Role': 'Client #1', 'Round': 104, 'Results_raw': {'test_acc': 0.759804, 'test_avg_loss': 0.592359, 'test_loss': 120.841247, 'test_total': 204, 'val_acc': 0.779412, 'val_avg_loss': 0.48071, 'val_loss': 98.064848, 'val_total': 204}}\n",
      "2022-12-22 19:15:07,809 (monitor:936)INFO: Current best: {'test_acc': 0.79902, 'test_avg_loss': 0.484081, 'test_loss': 98.752551, 'test_total': 204, 'val_acc': 0.843137, 'val_avg_loss': 0.403053, 'val_loss': 82.222858, 'val_total': 204}\n"
     ]
    },
    {
     "name": "stdout",
     "output_type": "stream",
     "text": [
      "no improve counter: 8\n",
      "self.best_metric: 82.22285759449005\n",
      "no improve counter: 9\n",
      "self.best_metric: 0.4030532235024022\n"
     ]
    },
    {
     "name": "stderr",
     "output_type": "stream",
     "text": [
      "2022-12-22 19:15:08,093 (client:260)INFO: {'Role': 'Client #1', 'Round': 104, 'Results_raw': {'train_acc': 0.858982, 'train_avg_loss': 0.361675, 'train_loss': 589.891368, 'train_total': 1631}}\n",
      "2022-12-22 19:15:08,095 (server:496)INFO: {'Role': 'Server #', 'Round': 104, 'Results_avg': {'test_acc': 0.759804, 'test_avg_loss': 0.592359, 'test_loss': 120.841247, 'test_total': 204.0, 'val_acc': 0.779412, 'val_avg_loss': 0.48071, 'val_loss': 98.064848, 'val_total': 204.0}}\n",
      "2022-12-22 19:15:08,096 (monitor:936)INFO: Current best: {'test_acc': 0.79902, 'test_avg_loss': 0.484081, 'test_loss': 98.752551, 'test_total': 204.0, 'val_acc': 0.843137, 'val_avg_loss': 0.403053, 'val_loss': 82.222858, 'val_total': 204.0}\n",
      "2022-12-22 19:15:08,098 (monitor:936)INFO: Current best: {'test_acc': 0.79902, 'test_avg_loss': 0.484081, 'test_loss': 98.752551, 'test_total': 204.0, 'val_acc': 0.843137, 'val_avg_loss': 0.403053, 'val_loss': 82.222858, 'val_total': 204.0}\n",
      "2022-12-22 19:15:08,099 (server:323)INFO: Server #0: Starting evaluation at the end of round 104.\n",
      "2022-12-22 19:15:08,100 (server:330)INFO: ----------- Starting a new training round (Round #105) -------------\n",
      "2022-12-22 19:15:08,171 (client:415)INFO: {'Role': 'Client #1', 'Round': 105, 'Results_raw': {'test_acc': 0.769608, 'test_avg_loss': 0.533392, 'test_loss': 108.811956, 'test_total': 204, 'val_acc': 0.79902, 'val_avg_loss': 0.421931, 'val_loss': 86.073976, 'val_total': 204}}\n",
      "2022-12-22 19:15:08,172 (monitor:936)INFO: Current best: {'test_acc': 0.79902, 'test_avg_loss': 0.484081, 'test_loss': 98.752551, 'test_total': 204, 'val_acc': 0.843137, 'val_avg_loss': 0.403053, 'val_loss': 82.222858, 'val_total': 204}\n"
     ]
    },
    {
     "name": "stdout",
     "output_type": "stream",
     "text": [
      "no improve counter: 9\n",
      "self.best_metric: 82.22285759449005\n",
      "no improve counter: 10\n",
      "self.best_metric: 0.4030532235024022\n"
     ]
    },
    {
     "name": "stderr",
     "output_type": "stream",
     "text": [
      "2022-12-22 19:15:08,434 (client:260)INFO: {'Role': 'Client #1', 'Round': 105, 'Results_raw': {'train_acc': 0.85653, 'train_avg_loss': 0.356885, 'train_loss': 582.079206, 'train_total': 1631}}\n",
      "2022-12-22 19:15:08,437 (server:496)INFO: {'Role': 'Server #', 'Round': 105, 'Results_avg': {'test_acc': 0.769608, 'test_avg_loss': 0.533392, 'test_loss': 108.811956, 'test_total': 204.0, 'val_acc': 0.79902, 'val_avg_loss': 0.421931, 'val_loss': 86.073976, 'val_total': 204.0}}\n",
      "2022-12-22 19:15:08,438 (monitor:936)INFO: Current best: {'test_acc': 0.79902, 'test_avg_loss': 0.484081, 'test_loss': 98.752551, 'test_total': 204.0, 'val_acc': 0.843137, 'val_avg_loss': 0.403053, 'val_loss': 82.222858, 'val_total': 204.0}\n",
      "2022-12-22 19:15:08,440 (monitor:936)INFO: Current best: {'test_acc': 0.79902, 'test_avg_loss': 0.484081, 'test_loss': 98.752551, 'test_total': 204.0, 'val_acc': 0.843137, 'val_avg_loss': 0.403053, 'val_loss': 82.222858, 'val_total': 204.0}\n",
      "2022-12-22 19:15:08,442 (server:323)INFO: Server #0: Starting evaluation at the end of round 105.\n",
      "2022-12-22 19:15:08,444 (server:330)INFO: ----------- Starting a new training round (Round #106) -------------\n",
      "2022-12-22 19:15:08,491 (client:415)INFO: {'Role': 'Client #1', 'Round': 106, 'Results_raw': {'test_acc': 0.808824, 'test_avg_loss': 0.485897, 'test_loss': 99.123012, 'test_total': 204, 'val_acc': 0.843137, 'val_avg_loss': 0.403493, 'val_loss': 82.312672, 'val_total': 204}}\n",
      "2022-12-22 19:15:08,492 (monitor:936)INFO: Current best: {'test_acc': 0.79902, 'test_avg_loss': 0.484081, 'test_loss': 98.752551, 'test_total': 204, 'val_acc': 0.843137, 'val_avg_loss': 0.403053, 'val_loss': 82.222858, 'val_total': 204}\n"
     ]
    },
    {
     "name": "stdout",
     "output_type": "stream",
     "text": [
      "no improve counter: 10\n",
      "self.best_metric: 82.22285759449005\n",
      "no improve counter: 11\n",
      "self.best_metric: 0.4030532235024022\n"
     ]
    },
    {
     "name": "stderr",
     "output_type": "stream",
     "text": [
      "2022-12-22 19:15:08,767 (client:260)INFO: {'Role': 'Client #1', 'Round': 106, 'Results_raw': {'train_acc': 0.858982, 'train_avg_loss': 0.367266, 'train_loss': 599.01105, 'train_total': 1631}}\n",
      "2022-12-22 19:15:08,769 (server:496)INFO: {'Role': 'Server #', 'Round': 106, 'Results_avg': {'test_acc': 0.808824, 'test_avg_loss': 0.485897, 'test_loss': 99.123012, 'test_total': 204.0, 'val_acc': 0.843137, 'val_avg_loss': 0.403493, 'val_loss': 82.312672, 'val_total': 204.0}}\n",
      "2022-12-22 19:15:08,771 (monitor:936)INFO: Current best: {'test_acc': 0.79902, 'test_avg_loss': 0.484081, 'test_loss': 98.752551, 'test_total': 204.0, 'val_acc': 0.843137, 'val_avg_loss': 0.403053, 'val_loss': 82.222858, 'val_total': 204.0}\n",
      "2022-12-22 19:15:08,774 (monitor:936)INFO: Current best: {'test_acc': 0.79902, 'test_avg_loss': 0.484081, 'test_loss': 98.752551, 'test_total': 204.0, 'val_acc': 0.843137, 'val_avg_loss': 0.403053, 'val_loss': 82.222858, 'val_total': 204.0}\n",
      "2022-12-22 19:15:08,776 (server:323)INFO: Server #0: Starting evaluation at the end of round 106.\n",
      "2022-12-22 19:15:08,777 (server:330)INFO: ----------- Starting a new training round (Round #107) -------------\n",
      "2022-12-22 19:15:08,831 (client:415)INFO: {'Role': 'Client #1', 'Round': 107, 'Results_raw': {'test_acc': 0.823529, 'test_avg_loss': 0.478537, 'test_loss': 97.621492, 'test_total': 204, 'val_acc': 0.818627, 'val_avg_loss': 0.420293, 'val_loss': 85.739864, 'val_total': 204}}\n",
      "2022-12-22 19:15:08,832 (monitor:936)INFO: Current best: {'test_acc': 0.79902, 'test_avg_loss': 0.484081, 'test_loss': 98.752551, 'test_total': 204, 'val_acc': 0.843137, 'val_avg_loss': 0.403053, 'val_loss': 82.222858, 'val_total': 204}\n"
     ]
    },
    {
     "name": "stdout",
     "output_type": "stream",
     "text": [
      "no improve counter: 11\n",
      "self.best_metric: 82.22285759449005\n",
      "no improve counter: 12\n",
      "self.best_metric: 0.4030532235024022\n"
     ]
    },
    {
     "name": "stderr",
     "output_type": "stream",
     "text": [
      "2022-12-22 19:15:09,110 (client:260)INFO: {'Role': 'Client #1', 'Round': 107, 'Results_raw': {'train_acc': 0.851012, 'train_avg_loss': 0.366581, 'train_loss': 597.894217, 'train_total': 1631}}\n",
      "2022-12-22 19:15:09,111 (server:496)INFO: {'Role': 'Server #', 'Round': 107, 'Results_avg': {'test_acc': 0.823529, 'test_avg_loss': 0.478537, 'test_loss': 97.621492, 'test_total': 204.0, 'val_acc': 0.818627, 'val_avg_loss': 0.420293, 'val_loss': 85.739864, 'val_total': 204.0}}\n",
      "2022-12-22 19:15:09,112 (monitor:936)INFO: Current best: {'test_acc': 0.79902, 'test_avg_loss': 0.484081, 'test_loss': 98.752551, 'test_total': 204.0, 'val_acc': 0.843137, 'val_avg_loss': 0.403053, 'val_loss': 82.222858, 'val_total': 204.0}\n",
      "2022-12-22 19:15:09,114 (monitor:936)INFO: Current best: {'test_acc': 0.79902, 'test_avg_loss': 0.484081, 'test_loss': 98.752551, 'test_total': 204.0, 'val_acc': 0.843137, 'val_avg_loss': 0.403053, 'val_loss': 82.222858, 'val_total': 204.0}\n",
      "2022-12-22 19:15:09,117 (server:323)INFO: Server #0: Starting evaluation at the end of round 107.\n",
      "2022-12-22 19:15:09,118 (server:330)INFO: ----------- Starting a new training round (Round #108) -------------\n",
      "2022-12-22 19:15:09,176 (client:415)INFO: {'Role': 'Client #1', 'Round': 108, 'Results_raw': {'test_acc': 0.745098, 'test_avg_loss': 0.634627, 'test_loss': 129.463952, 'test_total': 204, 'val_acc': 0.77451, 'val_avg_loss': 0.547359, 'val_loss': 111.66133, 'val_total': 204}}\n",
      "2022-12-22 19:15:09,178 (monitor:936)INFO: Current best: {'test_acc': 0.79902, 'test_avg_loss': 0.484081, 'test_loss': 98.752551, 'test_total': 204, 'val_acc': 0.843137, 'val_avg_loss': 0.403053, 'val_loss': 82.222858, 'val_total': 204}\n"
     ]
    },
    {
     "name": "stdout",
     "output_type": "stream",
     "text": [
      "no improve counter: 12\n",
      "self.best_metric: 82.22285759449005\n",
      "no improve counter: 13\n",
      "self.best_metric: 0.4030532235024022\n"
     ]
    },
    {
     "name": "stderr",
     "output_type": "stream",
     "text": [
      "2022-12-22 19:15:09,430 (client:260)INFO: {'Role': 'Client #1', 'Round': 108, 'Results_raw': {'train_acc': 0.848559, 'train_avg_loss': 0.373086, 'train_loss': 608.503508, 'train_total': 1631}}\n",
      "2022-12-22 19:15:09,432 (server:496)INFO: {'Role': 'Server #', 'Round': 108, 'Results_avg': {'test_acc': 0.745098, 'test_avg_loss': 0.634627, 'test_loss': 129.463952, 'test_total': 204.0, 'val_acc': 0.77451, 'val_avg_loss': 0.547359, 'val_loss': 111.66133, 'val_total': 204.0}}\n",
      "2022-12-22 19:15:09,433 (monitor:936)INFO: Current best: {'test_acc': 0.79902, 'test_avg_loss': 0.484081, 'test_loss': 98.752551, 'test_total': 204.0, 'val_acc': 0.843137, 'val_avg_loss': 0.403053, 'val_loss': 82.222858, 'val_total': 204.0}\n",
      "2022-12-22 19:15:09,435 (monitor:936)INFO: Current best: {'test_acc': 0.79902, 'test_avg_loss': 0.484081, 'test_loss': 98.752551, 'test_total': 204.0, 'val_acc': 0.843137, 'val_avg_loss': 0.403053, 'val_loss': 82.222858, 'val_total': 204.0}\n",
      "2022-12-22 19:15:09,438 (server:323)INFO: Server #0: Starting evaluation at the end of round 108.\n",
      "2022-12-22 19:15:09,439 (server:330)INFO: ----------- Starting a new training round (Round #109) -------------\n",
      "2022-12-22 19:15:09,494 (client:415)INFO: {'Role': 'Client #1', 'Round': 109, 'Results_raw': {'test_acc': 0.794118, 'test_avg_loss': 0.513843, 'test_loss': 104.824065, 'test_total': 204, 'val_acc': 0.813725, 'val_avg_loss': 0.416739, 'val_loss': 85.014712, 'val_total': 204}}\n",
      "2022-12-22 19:15:09,495 (monitor:936)INFO: Current best: {'test_acc': 0.79902, 'test_avg_loss': 0.484081, 'test_loss': 98.752551, 'test_total': 204, 'val_acc': 0.843137, 'val_avg_loss': 0.403053, 'val_loss': 82.222858, 'val_total': 204}\n"
     ]
    },
    {
     "name": "stdout",
     "output_type": "stream",
     "text": [
      "no improve counter: 13\n",
      "self.best_metric: 82.22285759449005\n",
      "no improve counter: 14\n",
      "self.best_metric: 0.4030532235024022\n"
     ]
    },
    {
     "name": "stderr",
     "output_type": "stream",
     "text": [
      "2022-12-22 19:15:09,784 (client:260)INFO: {'Role': 'Client #1', 'Round': 109, 'Results_raw': {'train_acc': 0.84672, 'train_avg_loss': 0.379911, 'train_loss': 619.6344, 'train_total': 1631}}\n",
      "2022-12-22 19:15:09,786 (server:496)INFO: {'Role': 'Server #', 'Round': 109, 'Results_avg': {'test_acc': 0.794118, 'test_avg_loss': 0.513843, 'test_loss': 104.824065, 'test_total': 204.0, 'val_acc': 0.813725, 'val_avg_loss': 0.416739, 'val_loss': 85.014712, 'val_total': 204.0}}\n",
      "2022-12-22 19:15:09,788 (monitor:936)INFO: Current best: {'test_acc': 0.79902, 'test_avg_loss': 0.484081, 'test_loss': 98.752551, 'test_total': 204.0, 'val_acc': 0.843137, 'val_avg_loss': 0.403053, 'val_loss': 82.222858, 'val_total': 204.0}\n",
      "2022-12-22 19:15:09,789 (monitor:936)INFO: Current best: {'test_acc': 0.79902, 'test_avg_loss': 0.484081, 'test_loss': 98.752551, 'test_total': 204.0, 'val_acc': 0.843137, 'val_avg_loss': 0.403053, 'val_loss': 82.222858, 'val_total': 204.0}\n",
      "2022-12-22 19:15:09,791 (server:323)INFO: Server #0: Starting evaluation at the end of round 109.\n",
      "2022-12-22 19:15:09,791 (server:330)INFO: ----------- Starting a new training round (Round #110) -------------\n",
      "2022-12-22 19:15:09,843 (client:415)INFO: {'Role': 'Client #1', 'Round': 110, 'Results_raw': {'test_acc': 0.803922, 'test_avg_loss': 0.497052, 'test_loss': 101.398535, 'test_total': 204, 'val_acc': 0.818627, 'val_avg_loss': 0.417708, 'val_loss': 85.21244, 'val_total': 204}}\n",
      "2022-12-22 19:15:09,844 (monitor:936)INFO: Current best: {'test_acc': 0.79902, 'test_avg_loss': 0.484081, 'test_loss': 98.752551, 'test_total': 204, 'val_acc': 0.843137, 'val_avg_loss': 0.403053, 'val_loss': 82.222858, 'val_total': 204}\n"
     ]
    },
    {
     "name": "stdout",
     "output_type": "stream",
     "text": [
      "no improve counter: 14\n",
      "self.best_metric: 82.22285759449005\n",
      "no improve counter: 15\n",
      "self.best_metric: 0.4030532235024022\n"
     ]
    },
    {
     "name": "stderr",
     "output_type": "stream",
     "text": [
      "2022-12-22 19:15:10,138 (client:260)INFO: {'Role': 'Client #1', 'Round': 110, 'Results_raw': {'train_acc': 0.853464, 'train_avg_loss': 0.36851, 'train_loss': 601.040436, 'train_total': 1631}}\n",
      "2022-12-22 19:15:10,140 (server:496)INFO: {'Role': 'Server #', 'Round': 110, 'Results_avg': {'test_acc': 0.803922, 'test_avg_loss': 0.497052, 'test_loss': 101.398535, 'test_total': 204.0, 'val_acc': 0.818627, 'val_avg_loss': 0.417708, 'val_loss': 85.21244, 'val_total': 204.0}}\n",
      "2022-12-22 19:15:10,141 (monitor:936)INFO: Current best: {'test_acc': 0.79902, 'test_avg_loss': 0.484081, 'test_loss': 98.752551, 'test_total': 204.0, 'val_acc': 0.843137, 'val_avg_loss': 0.403053, 'val_loss': 82.222858, 'val_total': 204.0}\n",
      "2022-12-22 19:15:10,143 (monitor:936)INFO: Current best: {'test_acc': 0.79902, 'test_avg_loss': 0.484081, 'test_loss': 98.752551, 'test_total': 204.0, 'val_acc': 0.843137, 'val_avg_loss': 0.403053, 'val_loss': 82.222858, 'val_total': 204.0}\n",
      "2022-12-22 19:15:10,147 (server:323)INFO: Server #0: Starting evaluation at the end of round 110.\n",
      "2022-12-22 19:15:10,149 (server:330)INFO: ----------- Starting a new training round (Round #111) -------------\n",
      "2022-12-22 19:15:10,213 (client:415)INFO: {'Role': 'Client #1', 'Round': 111, 'Results_raw': {'test_acc': 0.779412, 'test_avg_loss': 0.518823, 'test_loss': 105.839881, 'test_total': 204, 'val_acc': 0.808824, 'val_avg_loss': 0.429212, 'val_loss': 87.559192, 'val_total': 204}}\n",
      "2022-12-22 19:15:10,214 (monitor:936)INFO: Current best: {'test_acc': 0.79902, 'test_avg_loss': 0.484081, 'test_loss': 98.752551, 'test_total': 204, 'val_acc': 0.843137, 'val_avg_loss': 0.403053, 'val_loss': 82.222858, 'val_total': 204}\n"
     ]
    },
    {
     "name": "stdout",
     "output_type": "stream",
     "text": [
      "no improve counter: 15\n",
      "self.best_metric: 82.22285759449005\n",
      "no improve counter: 16\n",
      "self.best_metric: 0.4030532235024022\n"
     ]
    },
    {
     "name": "stderr",
     "output_type": "stream",
     "text": [
      "2022-12-22 19:15:10,484 (client:260)INFO: {'Role': 'Client #1', 'Round': 111, 'Results_raw': {'train_acc': 0.855303, 'train_avg_loss': 0.372725, 'train_loss': 607.915115, 'train_total': 1631}}\n",
      "2022-12-22 19:15:10,485 (server:496)INFO: {'Role': 'Server #', 'Round': 111, 'Results_avg': {'test_acc': 0.779412, 'test_avg_loss': 0.518823, 'test_loss': 105.839881, 'test_total': 204.0, 'val_acc': 0.808824, 'val_avg_loss': 0.429212, 'val_loss': 87.559192, 'val_total': 204.0}}\n",
      "2022-12-22 19:15:10,487 (monitor:936)INFO: Current best: {'test_acc': 0.79902, 'test_avg_loss': 0.484081, 'test_loss': 98.752551, 'test_total': 204.0, 'val_acc': 0.843137, 'val_avg_loss': 0.403053, 'val_loss': 82.222858, 'val_total': 204.0}\n",
      "2022-12-22 19:15:10,489 (monitor:936)INFO: Current best: {'test_acc': 0.79902, 'test_avg_loss': 0.484081, 'test_loss': 98.752551, 'test_total': 204.0, 'val_acc': 0.843137, 'val_avg_loss': 0.403053, 'val_loss': 82.222858, 'val_total': 204.0}\n",
      "2022-12-22 19:15:10,491 (server:323)INFO: Server #0: Starting evaluation at the end of round 111.\n",
      "2022-12-22 19:15:10,491 (server:330)INFO: ----------- Starting a new training round (Round #112) -------------\n",
      "2022-12-22 19:15:10,561 (client:415)INFO: {'Role': 'Client #1', 'Round': 112, 'Results_raw': {'test_acc': 0.779412, 'test_avg_loss': 0.518189, 'test_loss': 105.710648, 'test_total': 204, 'val_acc': 0.808824, 'val_avg_loss': 0.41461, 'val_loss': 84.580408, 'val_total': 204}}\n",
      "2022-12-22 19:15:10,562 (monitor:936)INFO: Current best: {'test_acc': 0.79902, 'test_avg_loss': 0.484081, 'test_loss': 98.752551, 'test_total': 204, 'val_acc': 0.843137, 'val_avg_loss': 0.403053, 'val_loss': 82.222858, 'val_total': 204}\n"
     ]
    },
    {
     "name": "stdout",
     "output_type": "stream",
     "text": [
      "no improve counter: 16\n",
      "self.best_metric: 82.22285759449005\n",
      "no improve counter: 17\n",
      "self.best_metric: 0.4030532235024022\n"
     ]
    },
    {
     "name": "stderr",
     "output_type": "stream",
     "text": [
      "2022-12-22 19:15:10,801 (client:260)INFO: {'Role': 'Client #1', 'Round': 112, 'Results_raw': {'train_acc': 0.848559, 'train_avg_loss': 0.36949, 'train_loss': 602.638605, 'train_total': 1631}}\n",
      "2022-12-22 19:15:10,803 (server:496)INFO: {'Role': 'Server #', 'Round': 112, 'Results_avg': {'test_acc': 0.779412, 'test_avg_loss': 0.518189, 'test_loss': 105.710648, 'test_total': 204.0, 'val_acc': 0.808824, 'val_avg_loss': 0.41461, 'val_loss': 84.580408, 'val_total': 204.0}}\n",
      "2022-12-22 19:15:10,804 (monitor:936)INFO: Current best: {'test_acc': 0.79902, 'test_avg_loss': 0.484081, 'test_loss': 98.752551, 'test_total': 204.0, 'val_acc': 0.843137, 'val_avg_loss': 0.403053, 'val_loss': 82.222858, 'val_total': 204.0}\n",
      "2022-12-22 19:15:10,806 (monitor:936)INFO: Current best: {'test_acc': 0.79902, 'test_avg_loss': 0.484081, 'test_loss': 98.752551, 'test_total': 204.0, 'val_acc': 0.843137, 'val_avg_loss': 0.403053, 'val_loss': 82.222858, 'val_total': 204.0}\n",
      "2022-12-22 19:15:10,808 (server:323)INFO: Server #0: Starting evaluation at the end of round 112.\n",
      "2022-12-22 19:15:10,808 (server:330)INFO: ----------- Starting a new training round (Round #113) -------------\n",
      "2022-12-22 19:15:10,860 (client:415)INFO: {'Role': 'Client #1', 'Round': 113, 'Results_raw': {'test_acc': 0.813725, 'test_avg_loss': 0.478156, 'test_loss': 97.54382, 'test_total': 204, 'val_acc': 0.843137, 'val_avg_loss': 0.403402, 'val_loss': 82.29392, 'val_total': 204}}\n",
      "2022-12-22 19:15:10,861 (monitor:936)INFO: Current best: {'test_acc': 0.79902, 'test_avg_loss': 0.484081, 'test_loss': 98.752551, 'test_total': 204, 'val_acc': 0.843137, 'val_avg_loss': 0.403053, 'val_loss': 82.222858, 'val_total': 204}\n"
     ]
    },
    {
     "name": "stdout",
     "output_type": "stream",
     "text": [
      "no improve counter: 17\n",
      "self.best_metric: 82.22285759449005\n",
      "no improve counter: 18\n",
      "self.best_metric: 0.4030532235024022\n"
     ]
    },
    {
     "name": "stderr",
     "output_type": "stream",
     "text": [
      "2022-12-22 19:15:11,132 (client:260)INFO: {'Role': 'Client #1', 'Round': 113, 'Results_raw': {'train_acc': 0.852238, 'train_avg_loss': 0.367019, 'train_loss': 598.608143, 'train_total': 1631}}\n",
      "2022-12-22 19:15:11,134 (server:496)INFO: {'Role': 'Server #', 'Round': 113, 'Results_avg': {'test_acc': 0.813725, 'test_avg_loss': 0.478156, 'test_loss': 97.54382, 'test_total': 204.0, 'val_acc': 0.843137, 'val_avg_loss': 0.403402, 'val_loss': 82.29392, 'val_total': 204.0}}\n",
      "2022-12-22 19:15:11,135 (monitor:936)INFO: Current best: {'test_acc': 0.79902, 'test_avg_loss': 0.484081, 'test_loss': 98.752551, 'test_total': 204.0, 'val_acc': 0.843137, 'val_avg_loss': 0.403053, 'val_loss': 82.222858, 'val_total': 204.0}\n",
      "2022-12-22 19:15:11,136 (monitor:936)INFO: Current best: {'test_acc': 0.79902, 'test_avg_loss': 0.484081, 'test_loss': 98.752551, 'test_total': 204.0, 'val_acc': 0.843137, 'val_avg_loss': 0.403053, 'val_loss': 82.222858, 'val_total': 204.0}\n",
      "2022-12-22 19:15:11,140 (server:323)INFO: Server #0: Starting evaluation at the end of round 113.\n",
      "2022-12-22 19:15:11,142 (server:330)INFO: ----------- Starting a new training round (Round #114) -------------\n",
      "2022-12-22 19:15:11,200 (client:415)INFO: {'Role': 'Client #1', 'Round': 114, 'Results_raw': {'test_acc': 0.784314, 'test_avg_loss': 0.497984, 'test_loss': 101.5887, 'test_total': 204, 'val_acc': 0.828431, 'val_avg_loss': 0.400096, 'val_loss': 81.619666, 'val_total': 204}}\n",
      "2022-12-22 19:15:11,201 (monitor:936)INFO: Current best: {'test_acc': 0.784314, 'test_avg_loss': 0.497984, 'test_loss': 101.5887, 'test_total': 204, 'val_acc': 0.828431, 'val_avg_loss': 0.400096, 'val_loss': 81.619666, 'val_total': 204}\n"
     ]
    },
    {
     "name": "stdout",
     "output_type": "stream",
     "text": [
      "no improve counter: 18\n",
      "self.best_metric: 82.22285759449005\n",
      "no improve counter: 0\n",
      "self.best_metric: 0.4000964018644071\n"
     ]
    },
    {
     "name": "stderr",
     "output_type": "stream",
     "text": [
      "2022-12-22 19:15:11,478 (client:260)INFO: {'Role': 'Client #1', 'Round': 114, 'Results_raw': {'train_acc': 0.852238, 'train_avg_loss': 0.363487, 'train_loss': 592.84709, 'train_total': 1631}}\n",
      "2022-12-22 19:15:11,480 (server:496)INFO: {'Role': 'Server #', 'Round': 114, 'Results_avg': {'test_acc': 0.784314, 'test_avg_loss': 0.497984, 'test_loss': 101.5887, 'test_total': 204.0, 'val_acc': 0.828431, 'val_avg_loss': 0.400096, 'val_loss': 81.619666, 'val_total': 204.0}}\n",
      "2022-12-22 19:15:11,481 (monitor:936)INFO: Current best: {'test_acc': [0.784314], 'test_avg_loss': [0.497984], 'test_loss': [101.5887], 'test_total': [204.0], 'val_acc': [0.828431], 'val_avg_loss': [0.400096], 'val_loss': [81.619666], 'val_total': [204.0]}\n",
      "2022-12-22 19:15:11,483 (monitor:936)INFO: Current best: {'test_acc': 0.784314, 'test_avg_loss': 0.497984, 'test_loss': 101.5887, 'test_total': 204.0, 'val_acc': 0.828431, 'val_avg_loss': 0.400096, 'val_loss': 81.619666, 'val_total': 204.0}\n",
      "2022-12-22 19:15:11,485 (server:323)INFO: Server #0: Starting evaluation at the end of round 114.\n",
      "2022-12-22 19:15:11,486 (server:330)INFO: ----------- Starting a new training round (Round #115) -------------\n",
      "2022-12-22 19:15:11,540 (client:415)INFO: {'Role': 'Client #1', 'Round': 115, 'Results_raw': {'test_acc': 0.779412, 'test_avg_loss': 0.549282, 'test_loss': 112.053589, 'test_total': 204, 'val_acc': 0.79902, 'val_avg_loss': 0.45323, 'val_loss': 92.458996, 'val_total': 204}}\n",
      "2022-12-22 19:15:11,541 (monitor:936)INFO: Current best: {'test_acc': 0.784314, 'test_avg_loss': 0.497984, 'test_loss': 101.5887, 'test_total': 204, 'val_acc': 0.828431, 'val_avg_loss': 0.400096, 'val_loss': 81.619666, 'val_total': 204}\n"
     ]
    },
    {
     "name": "stdout",
     "output_type": "stream",
     "text": [
      "no improve counter: 0\n",
      "self.best_metric: 81.61966598033905\n",
      "no improve counter: 1\n",
      "self.best_metric: 0.4000964018644071\n"
     ]
    },
    {
     "name": "stderr",
     "output_type": "stream",
     "text": [
      "2022-12-22 19:15:11,822 (client:260)INFO: {'Role': 'Client #1', 'Round': 115, 'Results_raw': {'train_acc': 0.850399, 'train_avg_loss': 0.363042, 'train_loss': 592.121315, 'train_total': 1631}}\n",
      "2022-12-22 19:15:11,824 (server:496)INFO: {'Role': 'Server #', 'Round': 115, 'Results_avg': {'test_acc': 0.779412, 'test_avg_loss': 0.549282, 'test_loss': 112.053589, 'test_total': 204.0, 'val_acc': 0.79902, 'val_avg_loss': 0.45323, 'val_loss': 92.458996, 'val_total': 204.0}}\n",
      "2022-12-22 19:15:11,825 (monitor:936)INFO: Current best: {'test_acc': 0.784314, 'test_avg_loss': 0.497984, 'test_loss': 101.5887, 'test_total': 204.0, 'val_acc': 0.828431, 'val_avg_loss': 0.400096, 'val_loss': 81.619666, 'val_total': 204.0}\n",
      "2022-12-22 19:15:11,826 (monitor:936)INFO: Current best: {'test_acc': 0.784314, 'test_avg_loss': 0.497984, 'test_loss': 101.5887, 'test_total': 204.0, 'val_acc': 0.828431, 'val_avg_loss': 0.400096, 'val_loss': 81.619666, 'val_total': 204.0}\n",
      "2022-12-22 19:15:11,829 (server:323)INFO: Server #0: Starting evaluation at the end of round 115.\n",
      "2022-12-22 19:15:11,830 (server:330)INFO: ----------- Starting a new training round (Round #116) -------------\n",
      "2022-12-22 19:15:11,880 (client:415)INFO: {'Role': 'Client #1', 'Round': 116, 'Results_raw': {'test_acc': 0.813725, 'test_avg_loss': 0.477354, 'test_loss': 97.380261, 'test_total': 204, 'val_acc': 0.838235, 'val_avg_loss': 0.401466, 'val_loss': 81.899055, 'val_total': 204}}\n",
      "2022-12-22 19:15:11,882 (monitor:936)INFO: Current best: {'test_acc': 0.784314, 'test_avg_loss': 0.497984, 'test_loss': 101.5887, 'test_total': 204, 'val_acc': 0.828431, 'val_avg_loss': 0.400096, 'val_loss': 81.619666, 'val_total': 204}\n"
     ]
    },
    {
     "name": "stdout",
     "output_type": "stream",
     "text": [
      "no improve counter: 1\n",
      "self.best_metric: 81.61966598033905\n",
      "no improve counter: 2\n",
      "self.best_metric: 0.4000964018644071\n"
     ]
    },
    {
     "name": "stderr",
     "output_type": "stream",
     "text": [
      "2022-12-22 19:15:12,142 (client:260)INFO: {'Role': 'Client #1', 'Round': 116, 'Results_raw': {'train_acc': 0.850399, 'train_avg_loss': 0.368739, 'train_loss': 601.413847, 'train_total': 1631}}\n",
      "2022-12-22 19:15:12,143 (server:496)INFO: {'Role': 'Server #', 'Round': 116, 'Results_avg': {'test_acc': 0.813725, 'test_avg_loss': 0.477354, 'test_loss': 97.380261, 'test_total': 204.0, 'val_acc': 0.838235, 'val_avg_loss': 0.401466, 'val_loss': 81.899055, 'val_total': 204.0}}\n",
      "2022-12-22 19:15:12,145 (monitor:936)INFO: Current best: {'test_acc': 0.784314, 'test_avg_loss': 0.497984, 'test_loss': 101.5887, 'test_total': 204.0, 'val_acc': 0.828431, 'val_avg_loss': 0.400096, 'val_loss': 81.619666, 'val_total': 204.0}\n",
      "2022-12-22 19:15:12,147 (monitor:936)INFO: Current best: {'test_acc': 0.784314, 'test_avg_loss': 0.497984, 'test_loss': 101.5887, 'test_total': 204.0, 'val_acc': 0.828431, 'val_avg_loss': 0.400096, 'val_loss': 81.619666, 'val_total': 204.0}\n",
      "2022-12-22 19:15:12,150 (server:323)INFO: Server #0: Starting evaluation at the end of round 116.\n",
      "2022-12-22 19:15:12,150 (server:330)INFO: ----------- Starting a new training round (Round #117) -------------\n",
      "2022-12-22 19:15:12,210 (client:415)INFO: {'Role': 'Client #1', 'Round': 117, 'Results_raw': {'test_acc': 0.759804, 'test_avg_loss': 0.608924, 'test_loss': 124.22047, 'test_total': 204, 'val_acc': 0.789216, 'val_avg_loss': 0.483544, 'val_loss': 98.642904, 'val_total': 204}}\n",
      "2022-12-22 19:15:12,211 (monitor:936)INFO: Current best: {'test_acc': 0.784314, 'test_avg_loss': 0.497984, 'test_loss': 101.5887, 'test_total': 204, 'val_acc': 0.828431, 'val_avg_loss': 0.400096, 'val_loss': 81.619666, 'val_total': 204}\n"
     ]
    },
    {
     "name": "stdout",
     "output_type": "stream",
     "text": [
      "no improve counter: 2\n",
      "self.best_metric: 81.61966598033905\n",
      "no improve counter: 3\n",
      "self.best_metric: 0.4000964018644071\n"
     ]
    },
    {
     "name": "stderr",
     "output_type": "stream",
     "text": [
      "2022-12-22 19:15:12,503 (client:260)INFO: {'Role': 'Client #1', 'Round': 117, 'Results_raw': {'train_acc': 0.853464, 'train_avg_loss': 0.365805, 'train_loss': 596.62729, 'train_total': 1631}}\n",
      "2022-12-22 19:15:12,505 (server:496)INFO: {'Role': 'Server #', 'Round': 117, 'Results_avg': {'test_acc': 0.759804, 'test_avg_loss': 0.608924, 'test_loss': 124.22047, 'test_total': 204.0, 'val_acc': 0.789216, 'val_avg_loss': 0.483544, 'val_loss': 98.642904, 'val_total': 204.0}}\n",
      "2022-12-22 19:15:12,506 (monitor:936)INFO: Current best: {'test_acc': 0.784314, 'test_avg_loss': 0.497984, 'test_loss': 101.5887, 'test_total': 204.0, 'val_acc': 0.828431, 'val_avg_loss': 0.400096, 'val_loss': 81.619666, 'val_total': 204.0}\n",
      "2022-12-22 19:15:12,509 (monitor:936)INFO: Current best: {'test_acc': 0.784314, 'test_avg_loss': 0.497984, 'test_loss': 101.5887, 'test_total': 204.0, 'val_acc': 0.828431, 'val_avg_loss': 0.400096, 'val_loss': 81.619666, 'val_total': 204.0}\n",
      "2022-12-22 19:15:12,511 (server:323)INFO: Server #0: Starting evaluation at the end of round 117.\n",
      "2022-12-22 19:15:12,512 (server:330)INFO: ----------- Starting a new training round (Round #118) -------------\n",
      "2022-12-22 19:15:12,574 (client:415)INFO: {'Role': 'Client #1', 'Round': 118, 'Results_raw': {'test_acc': 0.779412, 'test_avg_loss': 0.508923, 'test_loss': 103.820334, 'test_total': 204, 'val_acc': 0.803922, 'val_avg_loss': 0.424911, 'val_loss': 86.681745, 'val_total': 204}}\n",
      "2022-12-22 19:15:12,575 (monitor:936)INFO: Current best: {'test_acc': 0.784314, 'test_avg_loss': 0.497984, 'test_loss': 101.5887, 'test_total': 204, 'val_acc': 0.828431, 'val_avg_loss': 0.400096, 'val_loss': 81.619666, 'val_total': 204}\n"
     ]
    },
    {
     "name": "stdout",
     "output_type": "stream",
     "text": [
      "no improve counter: 3\n",
      "self.best_metric: 81.61966598033905\n",
      "no improve counter: 4\n",
      "self.best_metric: 0.4000964018644071\n"
     ]
    },
    {
     "name": "stderr",
     "output_type": "stream",
     "text": [
      "2022-12-22 19:15:12,829 (client:260)INFO: {'Role': 'Client #1', 'Round': 118, 'Results_raw': {'train_acc': 0.855917, 'train_avg_loss': 0.360465, 'train_loss': 587.918553, 'train_total': 1631}}\n",
      "2022-12-22 19:15:12,832 (server:496)INFO: {'Role': 'Server #', 'Round': 118, 'Results_avg': {'test_acc': 0.779412, 'test_avg_loss': 0.508923, 'test_loss': 103.820334, 'test_total': 204.0, 'val_acc': 0.803922, 'val_avg_loss': 0.424911, 'val_loss': 86.681745, 'val_total': 204.0}}\n",
      "2022-12-22 19:15:12,834 (monitor:936)INFO: Current best: {'test_acc': 0.784314, 'test_avg_loss': 0.497984, 'test_loss': 101.5887, 'test_total': 204.0, 'val_acc': 0.828431, 'val_avg_loss': 0.400096, 'val_loss': 81.619666, 'val_total': 204.0}\n",
      "2022-12-22 19:15:12,837 (monitor:936)INFO: Current best: {'test_acc': 0.784314, 'test_avg_loss': 0.497984, 'test_loss': 101.5887, 'test_total': 204.0, 'val_acc': 0.828431, 'val_avg_loss': 0.400096, 'val_loss': 81.619666, 'val_total': 204.0}\n",
      "2022-12-22 19:15:12,840 (server:323)INFO: Server #0: Starting evaluation at the end of round 118.\n",
      "2022-12-22 19:15:12,841 (server:330)INFO: ----------- Starting a new training round (Round #119) -------------\n",
      "2022-12-22 19:15:12,903 (client:415)INFO: {'Role': 'Client #1', 'Round': 119, 'Results_raw': {'test_acc': 0.77451, 'test_avg_loss': 0.552042, 'test_loss': 112.616641, 'test_total': 204, 'val_acc': 0.794118, 'val_avg_loss': 0.420779, 'val_loss': 85.839014, 'val_total': 204}}\n",
      "2022-12-22 19:15:12,904 (monitor:936)INFO: Current best: {'test_acc': 0.784314, 'test_avg_loss': 0.497984, 'test_loss': 101.5887, 'test_total': 204, 'val_acc': 0.828431, 'val_avg_loss': 0.400096, 'val_loss': 81.619666, 'val_total': 204}\n"
     ]
    },
    {
     "name": "stdout",
     "output_type": "stream",
     "text": [
      "no improve counter: 4\n",
      "self.best_metric: 81.61966598033905\n",
      "no improve counter: 5\n",
      "self.best_metric: 0.4000964018644071\n"
     ]
    },
    {
     "name": "stderr",
     "output_type": "stream",
     "text": [
      "2022-12-22 19:15:13,172 (client:260)INFO: {'Role': 'Client #1', 'Round': 119, 'Results_raw': {'train_acc': 0.853464, 'train_avg_loss': 0.365659, 'train_loss': 596.390115, 'train_total': 1631}}\n",
      "2022-12-22 19:15:13,175 (server:496)INFO: {'Role': 'Server #', 'Round': 119, 'Results_avg': {'test_acc': 0.77451, 'test_avg_loss': 0.552042, 'test_loss': 112.616641, 'test_total': 204.0, 'val_acc': 0.794118, 'val_avg_loss': 0.420779, 'val_loss': 85.839014, 'val_total': 204.0}}\n",
      "2022-12-22 19:15:13,176 (monitor:936)INFO: Current best: {'test_acc': 0.784314, 'test_avg_loss': 0.497984, 'test_loss': 101.5887, 'test_total': 204.0, 'val_acc': 0.828431, 'val_avg_loss': 0.400096, 'val_loss': 81.619666, 'val_total': 204.0}\n",
      "2022-12-22 19:15:13,178 (monitor:936)INFO: Current best: {'test_acc': 0.784314, 'test_avg_loss': 0.497984, 'test_loss': 101.5887, 'test_total': 204.0, 'val_acc': 0.828431, 'val_avg_loss': 0.400096, 'val_loss': 81.619666, 'val_total': 204.0}\n",
      "2022-12-22 19:15:13,181 (server:323)INFO: Server #0: Starting evaluation at the end of round 119.\n",
      "2022-12-22 19:15:13,183 (server:330)INFO: ----------- Starting a new training round (Round #120) -------------\n",
      "2022-12-22 19:15:13,235 (client:415)INFO: {'Role': 'Client #1', 'Round': 120, 'Results_raw': {'test_acc': 0.803922, 'test_avg_loss': 0.494441, 'test_loss': 100.865907, 'test_total': 204, 'val_acc': 0.79902, 'val_avg_loss': 0.439763, 'val_loss': 89.71174, 'val_total': 204}}\n",
      "2022-12-22 19:15:13,237 (monitor:936)INFO: Current best: {'test_acc': 0.784314, 'test_avg_loss': 0.497984, 'test_loss': 101.5887, 'test_total': 204, 'val_acc': 0.828431, 'val_avg_loss': 0.400096, 'val_loss': 81.619666, 'val_total': 204}\n"
     ]
    },
    {
     "name": "stdout",
     "output_type": "stream",
     "text": [
      "no improve counter: 5\n",
      "self.best_metric: 81.61966598033905\n",
      "no improve counter: 6\n",
      "self.best_metric: 0.4000964018644071\n"
     ]
    },
    {
     "name": "stderr",
     "output_type": "stream",
     "text": [
      "2022-12-22 19:15:13,514 (client:260)INFO: {'Role': 'Client #1', 'Round': 120, 'Results_raw': {'train_acc': 0.858369, 'train_avg_loss': 0.362366, 'train_loss': 591.018967, 'train_total': 1631}}\n",
      "2022-12-22 19:15:13,516 (server:496)INFO: {'Role': 'Server #', 'Round': 120, 'Results_avg': {'test_acc': 0.803922, 'test_avg_loss': 0.494441, 'test_loss': 100.865907, 'test_total': 204.0, 'val_acc': 0.79902, 'val_avg_loss': 0.439763, 'val_loss': 89.71174, 'val_total': 204.0}}\n",
      "2022-12-22 19:15:13,518 (monitor:936)INFO: Current best: {'test_acc': 0.784314, 'test_avg_loss': 0.497984, 'test_loss': 101.5887, 'test_total': 204.0, 'val_acc': 0.828431, 'val_avg_loss': 0.400096, 'val_loss': 81.619666, 'val_total': 204.0}\n",
      "2022-12-22 19:15:13,520 (monitor:936)INFO: Current best: {'test_acc': 0.784314, 'test_avg_loss': 0.497984, 'test_loss': 101.5887, 'test_total': 204.0, 'val_acc': 0.828431, 'val_avg_loss': 0.400096, 'val_loss': 81.619666, 'val_total': 204.0}\n",
      "2022-12-22 19:15:13,523 (server:323)INFO: Server #0: Starting evaluation at the end of round 120.\n",
      "2022-12-22 19:15:13,524 (server:330)INFO: ----------- Starting a new training round (Round #121) -------------\n",
      "2022-12-22 19:15:13,582 (client:415)INFO: {'Role': 'Client #1', 'Round': 121, 'Results_raw': {'test_acc': 0.813725, 'test_avg_loss': 0.483204, 'test_loss': 98.573643, 'test_total': 204, 'val_acc': 0.823529, 'val_avg_loss': 0.38879, 'val_loss': 79.31313, 'val_total': 204}}\n",
      "2022-12-22 19:15:13,583 (monitor:936)INFO: Current best: {'test_acc': 0.813725, 'test_avg_loss': 0.483204, 'test_loss': 98.573643, 'test_total': 204, 'val_acc': 0.823529, 'val_avg_loss': 0.38879, 'val_loss': 79.31313, 'val_total': 204}\n"
     ]
    },
    {
     "name": "stdout",
     "output_type": "stream",
     "text": [
      "no improve counter: 6\n",
      "self.best_metric: 81.61966598033905\n",
      "no improve counter: 0\n",
      "self.best_metric: 0.3887898512915069\n"
     ]
    },
    {
     "name": "stderr",
     "output_type": "stream",
     "text": [
      "2022-12-22 19:15:13,850 (client:260)INFO: {'Role': 'Client #1', 'Round': 121, 'Results_raw': {'train_acc': 0.858982, 'train_avg_loss': 0.367258, 'train_loss': 598.998497, 'train_total': 1631}}\n",
      "2022-12-22 19:15:13,852 (server:496)INFO: {'Role': 'Server #', 'Round': 121, 'Results_avg': {'test_acc': 0.813725, 'test_avg_loss': 0.483204, 'test_loss': 98.573643, 'test_total': 204.0, 'val_acc': 0.823529, 'val_avg_loss': 0.38879, 'val_loss': 79.31313, 'val_total': 204.0}}\n",
      "2022-12-22 19:15:13,853 (monitor:936)INFO: Current best: {'test_acc': [0.813725], 'test_avg_loss': [0.483204], 'test_loss': [98.573643], 'test_total': [204.0], 'val_acc': [0.823529], 'val_avg_loss': [0.38879], 'val_loss': [79.31313], 'val_total': [204.0]}\n",
      "2022-12-22 19:15:13,855 (monitor:936)INFO: Current best: {'test_acc': 0.813725, 'test_avg_loss': 0.483204, 'test_loss': 98.573643, 'test_total': 204.0, 'val_acc': 0.823529, 'val_avg_loss': 0.38879, 'val_loss': 79.31313, 'val_total': 204.0}\n",
      "2022-12-22 19:15:13,857 (server:323)INFO: Server #0: Starting evaluation at the end of round 121.\n",
      "2022-12-22 19:15:13,858 (server:330)INFO: ----------- Starting a new training round (Round #122) -------------\n",
      "2022-12-22 19:15:13,926 (client:415)INFO: {'Role': 'Client #1', 'Round': 122, 'Results_raw': {'test_acc': 0.764706, 'test_avg_loss': 0.5681, 'test_loss': 115.892308, 'test_total': 204, 'val_acc': 0.789216, 'val_avg_loss': 0.454701, 'val_loss': 92.758945, 'val_total': 204}}\n",
      "2022-12-22 19:15:13,927 (monitor:936)INFO: Current best: {'test_acc': 0.813725, 'test_avg_loss': 0.483204, 'test_loss': 98.573643, 'test_total': 204, 'val_acc': 0.823529, 'val_avg_loss': 0.38879, 'val_loss': 79.31313, 'val_total': 204}\n"
     ]
    },
    {
     "name": "stdout",
     "output_type": "stream",
     "text": [
      "no improve counter: 0\n",
      "self.best_metric: 79.31312966346741\n",
      "no improve counter: 1\n",
      "self.best_metric: 0.3887898512915069\n"
     ]
    },
    {
     "name": "stderr",
     "output_type": "stream",
     "text": [
      "2022-12-22 19:15:14,173 (client:260)INFO: {'Role': 'Client #1', 'Round': 122, 'Results_raw': {'train_acc': 0.855917, 'train_avg_loss': 0.36251, 'train_loss': 591.253073, 'train_total': 1631}}\n",
      "2022-12-22 19:15:14,175 (server:496)INFO: {'Role': 'Server #', 'Round': 122, 'Results_avg': {'test_acc': 0.764706, 'test_avg_loss': 0.5681, 'test_loss': 115.892308, 'test_total': 204.0, 'val_acc': 0.789216, 'val_avg_loss': 0.454701, 'val_loss': 92.758945, 'val_total': 204.0}}\n",
      "2022-12-22 19:15:14,176 (monitor:936)INFO: Current best: {'test_acc': 0.813725, 'test_avg_loss': 0.483204, 'test_loss': 98.573643, 'test_total': 204.0, 'val_acc': 0.823529, 'val_avg_loss': 0.38879, 'val_loss': 79.31313, 'val_total': 204.0}\n",
      "2022-12-22 19:15:14,178 (monitor:936)INFO: Current best: {'test_acc': 0.813725, 'test_avg_loss': 0.483204, 'test_loss': 98.573643, 'test_total': 204.0, 'val_acc': 0.823529, 'val_avg_loss': 0.38879, 'val_loss': 79.31313, 'val_total': 204.0}\n",
      "2022-12-22 19:15:14,182 (server:323)INFO: Server #0: Starting evaluation at the end of round 122.\n",
      "2022-12-22 19:15:14,183 (server:330)INFO: ----------- Starting a new training round (Round #123) -------------\n",
      "2022-12-22 19:15:14,243 (client:415)INFO: {'Role': 'Client #1', 'Round': 123, 'Results_raw': {'test_acc': 0.803922, 'test_avg_loss': 0.476575, 'test_loss': 97.221271, 'test_total': 204, 'val_acc': 0.818627, 'val_avg_loss': 0.407207, 'val_loss': 83.070158, 'val_total': 204}}\n",
      "2022-12-22 19:15:14,244 (monitor:936)INFO: Current best: {'test_acc': 0.813725, 'test_avg_loss': 0.483204, 'test_loss': 98.573643, 'test_total': 204, 'val_acc': 0.823529, 'val_avg_loss': 0.38879, 'val_loss': 79.31313, 'val_total': 204}\n"
     ]
    },
    {
     "name": "stdout",
     "output_type": "stream",
     "text": [
      "no improve counter: 1\n",
      "self.best_metric: 79.31312966346741\n",
      "no improve counter: 2\n",
      "self.best_metric: 0.3887898512915069\n"
     ]
    },
    {
     "name": "stderr",
     "output_type": "stream",
     "text": [
      "2022-12-22 19:15:14,501 (client:260)INFO: {'Role': 'Client #1', 'Round': 123, 'Results_raw': {'train_acc': 0.857756, 'train_avg_loss': 0.357717, 'train_loss': 583.437242, 'train_total': 1631}}\n",
      "2022-12-22 19:15:14,503 (server:496)INFO: {'Role': 'Server #', 'Round': 123, 'Results_avg': {'test_acc': 0.803922, 'test_avg_loss': 0.476575, 'test_loss': 97.221271, 'test_total': 204.0, 'val_acc': 0.818627, 'val_avg_loss': 0.407207, 'val_loss': 83.070158, 'val_total': 204.0}}\n",
      "2022-12-22 19:15:14,504 (monitor:936)INFO: Current best: {'test_acc': 0.813725, 'test_avg_loss': 0.483204, 'test_loss': 98.573643, 'test_total': 204.0, 'val_acc': 0.823529, 'val_avg_loss': 0.38879, 'val_loss': 79.31313, 'val_total': 204.0}\n",
      "2022-12-22 19:15:14,506 (monitor:936)INFO: Current best: {'test_acc': 0.813725, 'test_avg_loss': 0.483204, 'test_loss': 98.573643, 'test_total': 204.0, 'val_acc': 0.823529, 'val_avg_loss': 0.38879, 'val_loss': 79.31313, 'val_total': 204.0}\n",
      "2022-12-22 19:15:14,507 (server:323)INFO: Server #0: Starting evaluation at the end of round 123.\n",
      "2022-12-22 19:15:14,508 (server:330)INFO: ----------- Starting a new training round (Round #124) -------------\n",
      "2022-12-22 19:15:14,554 (client:415)INFO: {'Role': 'Client #1', 'Round': 124, 'Results_raw': {'test_acc': 0.784314, 'test_avg_loss': 0.519324, 'test_loss': 105.942124, 'test_total': 204, 'val_acc': 0.808824, 'val_avg_loss': 0.431688, 'val_loss': 88.064353, 'val_total': 204}}\n",
      "2022-12-22 19:15:14,555 (monitor:936)INFO: Current best: {'test_acc': 0.813725, 'test_avg_loss': 0.483204, 'test_loss': 98.573643, 'test_total': 204, 'val_acc': 0.823529, 'val_avg_loss': 0.38879, 'val_loss': 79.31313, 'val_total': 204}\n"
     ]
    },
    {
     "name": "stdout",
     "output_type": "stream",
     "text": [
      "no improve counter: 2\n",
      "self.best_metric: 79.31312966346741\n",
      "no improve counter: 3\n",
      "self.best_metric: 0.3887898512915069\n"
     ]
    },
    {
     "name": "stderr",
     "output_type": "stream",
     "text": [
      "2022-12-22 19:15:14,851 (client:260)INFO: {'Role': 'Client #1', 'Round': 124, 'Results_raw': {'train_acc': 0.865727, 'train_avg_loss': 0.364568, 'train_loss': 594.609611, 'train_total': 1631}}\n",
      "2022-12-22 19:15:14,853 (server:496)INFO: {'Role': 'Server #', 'Round': 124, 'Results_avg': {'test_acc': 0.784314, 'test_avg_loss': 0.519324, 'test_loss': 105.942124, 'test_total': 204.0, 'val_acc': 0.808824, 'val_avg_loss': 0.431688, 'val_loss': 88.064353, 'val_total': 204.0}}\n",
      "2022-12-22 19:15:14,855 (monitor:936)INFO: Current best: {'test_acc': 0.813725, 'test_avg_loss': 0.483204, 'test_loss': 98.573643, 'test_total': 204.0, 'val_acc': 0.823529, 'val_avg_loss': 0.38879, 'val_loss': 79.31313, 'val_total': 204.0}\n",
      "2022-12-22 19:15:14,857 (monitor:936)INFO: Current best: {'test_acc': 0.813725, 'test_avg_loss': 0.483204, 'test_loss': 98.573643, 'test_total': 204.0, 'val_acc': 0.823529, 'val_avg_loss': 0.38879, 'val_loss': 79.31313, 'val_total': 204.0}\n",
      "2022-12-22 19:15:14,861 (server:323)INFO: Server #0: Starting evaluation at the end of round 124.\n",
      "2022-12-22 19:15:14,863 (server:330)INFO: ----------- Starting a new training round (Round #125) -------------\n",
      "2022-12-22 19:15:14,937 (client:415)INFO: {'Role': 'Client #1', 'Round': 125, 'Results_raw': {'test_acc': 0.79902, 'test_avg_loss': 0.500979, 'test_loss': 102.19979, 'test_total': 204, 'val_acc': 0.808824, 'val_avg_loss': 0.412593, 'val_loss': 84.16895, 'val_total': 204}}\n",
      "2022-12-22 19:15:14,938 (monitor:936)INFO: Current best: {'test_acc': 0.813725, 'test_avg_loss': 0.483204, 'test_loss': 98.573643, 'test_total': 204, 'val_acc': 0.823529, 'val_avg_loss': 0.38879, 'val_loss': 79.31313, 'val_total': 204}\n"
     ]
    },
    {
     "name": "stdout",
     "output_type": "stream",
     "text": [
      "no improve counter: 3\n",
      "self.best_metric: 79.31312966346741\n",
      "no improve counter: 4\n",
      "self.best_metric: 0.3887898512915069\n"
     ]
    },
    {
     "name": "stderr",
     "output_type": "stream",
     "text": [
      "2022-12-22 19:15:15,200 (client:260)INFO: {'Role': 'Client #1', 'Round': 125, 'Results_raw': {'train_acc': 0.857143, 'train_avg_loss': 0.362243, 'train_loss': 590.818403, 'train_total': 1631}}\n",
      "2022-12-22 19:15:15,202 (server:496)INFO: {'Role': 'Server #', 'Round': 125, 'Results_avg': {'test_acc': 0.79902, 'test_avg_loss': 0.500979, 'test_loss': 102.19979, 'test_total': 204.0, 'val_acc': 0.808824, 'val_avg_loss': 0.412593, 'val_loss': 84.16895, 'val_total': 204.0}}\n",
      "2022-12-22 19:15:15,204 (monitor:936)INFO: Current best: {'test_acc': 0.813725, 'test_avg_loss': 0.483204, 'test_loss': 98.573643, 'test_total': 204.0, 'val_acc': 0.823529, 'val_avg_loss': 0.38879, 'val_loss': 79.31313, 'val_total': 204.0}\n",
      "2022-12-22 19:15:15,205 (monitor:936)INFO: Current best: {'test_acc': 0.813725, 'test_avg_loss': 0.483204, 'test_loss': 98.573643, 'test_total': 204.0, 'val_acc': 0.823529, 'val_avg_loss': 0.38879, 'val_loss': 79.31313, 'val_total': 204.0}\n",
      "2022-12-22 19:15:15,207 (server:323)INFO: Server #0: Starting evaluation at the end of round 125.\n",
      "2022-12-22 19:15:15,208 (server:330)INFO: ----------- Starting a new training round (Round #126) -------------\n",
      "2022-12-22 19:15:15,280 (client:415)INFO: {'Role': 'Client #1', 'Round': 126, 'Results_raw': {'test_acc': 0.789216, 'test_avg_loss': 0.532863, 'test_loss': 108.704081, 'test_total': 204, 'val_acc': 0.818627, 'val_avg_loss': 0.427448, 'val_loss': 87.199294, 'val_total': 204}}\n",
      "2022-12-22 19:15:15,281 (monitor:936)INFO: Current best: {'test_acc': 0.813725, 'test_avg_loss': 0.483204, 'test_loss': 98.573643, 'test_total': 204, 'val_acc': 0.823529, 'val_avg_loss': 0.38879, 'val_loss': 79.31313, 'val_total': 204}\n"
     ]
    },
    {
     "name": "stdout",
     "output_type": "stream",
     "text": [
      "no improve counter: 4\n",
      "self.best_metric: 79.31312966346741\n",
      "no improve counter: 5\n",
      "self.best_metric: 0.3887898512915069\n"
     ]
    },
    {
     "name": "stderr",
     "output_type": "stream",
     "text": [
      "2022-12-22 19:15:15,564 (client:260)INFO: {'Role': 'Client #1', 'Round': 126, 'Results_raw': {'train_acc': 0.855303, 'train_avg_loss': 0.357011, 'train_loss': 582.284417, 'train_total': 1631}}\n",
      "2022-12-22 19:15:15,567 (server:496)INFO: {'Role': 'Server #', 'Round': 126, 'Results_avg': {'test_acc': 0.789216, 'test_avg_loss': 0.532863, 'test_loss': 108.704081, 'test_total': 204.0, 'val_acc': 0.818627, 'val_avg_loss': 0.427448, 'val_loss': 87.199294, 'val_total': 204.0}}\n",
      "2022-12-22 19:15:15,568 (monitor:936)INFO: Current best: {'test_acc': 0.813725, 'test_avg_loss': 0.483204, 'test_loss': 98.573643, 'test_total': 204.0, 'val_acc': 0.823529, 'val_avg_loss': 0.38879, 'val_loss': 79.31313, 'val_total': 204.0}\n",
      "2022-12-22 19:15:15,569 (monitor:936)INFO: Current best: {'test_acc': 0.813725, 'test_avg_loss': 0.483204, 'test_loss': 98.573643, 'test_total': 204.0, 'val_acc': 0.823529, 'val_avg_loss': 0.38879, 'val_loss': 79.31313, 'val_total': 204.0}\n",
      "2022-12-22 19:15:15,572 (server:323)INFO: Server #0: Starting evaluation at the end of round 126.\n",
      "2022-12-22 19:15:15,573 (server:330)INFO: ----------- Starting a new training round (Round #127) -------------\n",
      "2022-12-22 19:15:15,636 (client:415)INFO: {'Role': 'Client #1', 'Round': 127, 'Results_raw': {'test_acc': 0.789216, 'test_avg_loss': 0.516935, 'test_loss': 105.454645, 'test_total': 204, 'val_acc': 0.828431, 'val_avg_loss': 0.398057, 'val_loss': 81.203539, 'val_total': 204}}\n",
      "2022-12-22 19:15:15,638 (monitor:936)INFO: Current best: {'test_acc': 0.813725, 'test_avg_loss': 0.483204, 'test_loss': 98.573643, 'test_total': 204, 'val_acc': 0.823529, 'val_avg_loss': 0.38879, 'val_loss': 79.31313, 'val_total': 204}\n"
     ]
    },
    {
     "name": "stdout",
     "output_type": "stream",
     "text": [
      "no improve counter: 5\n",
      "self.best_metric: 79.31312966346741\n",
      "no improve counter: 6\n",
      "self.best_metric: 0.3887898512915069\n"
     ]
    },
    {
     "name": "stderr",
     "output_type": "stream",
     "text": [
      "2022-12-22 19:15:15,880 (client:260)INFO: {'Role': 'Client #1', 'Round': 127, 'Results_raw': {'train_acc': 0.851012, 'train_avg_loss': 0.362354, 'train_loss': 590.9995, 'train_total': 1631}}\n",
      "2022-12-22 19:15:15,882 (server:496)INFO: {'Role': 'Server #', 'Round': 127, 'Results_avg': {'test_acc': 0.789216, 'test_avg_loss': 0.516935, 'test_loss': 105.454645, 'test_total': 204.0, 'val_acc': 0.828431, 'val_avg_loss': 0.398057, 'val_loss': 81.203539, 'val_total': 204.0}}\n",
      "2022-12-22 19:15:15,883 (monitor:936)INFO: Current best: {'test_acc': 0.813725, 'test_avg_loss': 0.483204, 'test_loss': 98.573643, 'test_total': 204.0, 'val_acc': 0.823529, 'val_avg_loss': 0.38879, 'val_loss': 79.31313, 'val_total': 204.0}\n",
      "2022-12-22 19:15:15,885 (monitor:936)INFO: Current best: {'test_acc': 0.813725, 'test_avg_loss': 0.483204, 'test_loss': 98.573643, 'test_total': 204.0, 'val_acc': 0.823529, 'val_avg_loss': 0.38879, 'val_loss': 79.31313, 'val_total': 204.0}\n",
      "2022-12-22 19:15:15,887 (server:323)INFO: Server #0: Starting evaluation at the end of round 127.\n",
      "2022-12-22 19:15:15,888 (server:330)INFO: ----------- Starting a new training round (Round #128) -------------\n",
      "2022-12-22 19:15:15,955 (client:415)INFO: {'Role': 'Client #1', 'Round': 128, 'Results_raw': {'test_acc': 0.808824, 'test_avg_loss': 0.504526, 'test_loss': 102.923315, 'test_total': 204, 'val_acc': 0.833333, 'val_avg_loss': 0.391241, 'val_loss': 79.813071, 'val_total': 204}}\n",
      "2022-12-22 19:15:15,957 (monitor:936)INFO: Current best: {'test_acc': 0.813725, 'test_avg_loss': 0.483204, 'test_loss': 98.573643, 'test_total': 204, 'val_acc': 0.823529, 'val_avg_loss': 0.38879, 'val_loss': 79.31313, 'val_total': 204}\n"
     ]
    },
    {
     "name": "stdout",
     "output_type": "stream",
     "text": [
      "no improve counter: 6\n",
      "self.best_metric: 79.31312966346741\n",
      "no improve counter: 7\n",
      "self.best_metric: 0.3887898512915069\n"
     ]
    },
    {
     "name": "stderr",
     "output_type": "stream",
     "text": [
      "2022-12-22 19:15:16,211 (client:260)INFO: {'Role': 'Client #1', 'Round': 128, 'Results_raw': {'train_acc': 0.851012, 'train_avg_loss': 0.365402, 'train_loss': 595.970095, 'train_total': 1631}}\n",
      "2022-12-22 19:15:16,213 (server:496)INFO: {'Role': 'Server #', 'Round': 128, 'Results_avg': {'test_acc': 0.808824, 'test_avg_loss': 0.504526, 'test_loss': 102.923315, 'test_total': 204.0, 'val_acc': 0.833333, 'val_avg_loss': 0.391241, 'val_loss': 79.813071, 'val_total': 204.0}}\n",
      "2022-12-22 19:15:16,214 (monitor:936)INFO: Current best: {'test_acc': 0.813725, 'test_avg_loss': 0.483204, 'test_loss': 98.573643, 'test_total': 204.0, 'val_acc': 0.823529, 'val_avg_loss': 0.38879, 'val_loss': 79.31313, 'val_total': 204.0}\n",
      "2022-12-22 19:15:16,216 (monitor:936)INFO: Current best: {'test_acc': 0.813725, 'test_avg_loss': 0.483204, 'test_loss': 98.573643, 'test_total': 204.0, 'val_acc': 0.823529, 'val_avg_loss': 0.38879, 'val_loss': 79.31313, 'val_total': 204.0}\n",
      "2022-12-22 19:15:16,218 (server:323)INFO: Server #0: Starting evaluation at the end of round 128.\n",
      "2022-12-22 19:15:16,219 (server:330)INFO: ----------- Starting a new training round (Round #129) -------------\n",
      "2022-12-22 19:15:16,278 (client:415)INFO: {'Role': 'Client #1', 'Round': 129, 'Results_raw': {'test_acc': 0.803922, 'test_avg_loss': 0.493892, 'test_loss': 100.75392, 'test_total': 204, 'val_acc': 0.813725, 'val_avg_loss': 0.410483, 'val_loss': 83.738498, 'val_total': 204}}\n",
      "2022-12-22 19:15:16,280 (monitor:936)INFO: Current best: {'test_acc': 0.813725, 'test_avg_loss': 0.483204, 'test_loss': 98.573643, 'test_total': 204, 'val_acc': 0.823529, 'val_avg_loss': 0.38879, 'val_loss': 79.31313, 'val_total': 204}\n"
     ]
    },
    {
     "name": "stdout",
     "output_type": "stream",
     "text": [
      "no improve counter: 7\n",
      "self.best_metric: 79.31312966346741\n",
      "no improve counter: 8\n",
      "self.best_metric: 0.3887898512915069\n"
     ]
    },
    {
     "name": "stderr",
     "output_type": "stream",
     "text": [
      "2022-12-22 19:15:16,570 (client:260)INFO: {'Role': 'Client #1', 'Round': 129, 'Results_raw': {'train_acc': 0.858982, 'train_avg_loss': 0.364007, 'train_loss': 593.69513, 'train_total': 1631}}\n",
      "2022-12-22 19:15:16,573 (server:496)INFO: {'Role': 'Server #', 'Round': 129, 'Results_avg': {'test_acc': 0.803922, 'test_avg_loss': 0.493892, 'test_loss': 100.75392, 'test_total': 204.0, 'val_acc': 0.813725, 'val_avg_loss': 0.410483, 'val_loss': 83.738498, 'val_total': 204.0}}\n",
      "2022-12-22 19:15:16,574 (monitor:936)INFO: Current best: {'test_acc': 0.813725, 'test_avg_loss': 0.483204, 'test_loss': 98.573643, 'test_total': 204.0, 'val_acc': 0.823529, 'val_avg_loss': 0.38879, 'val_loss': 79.31313, 'val_total': 204.0}\n",
      "2022-12-22 19:15:16,576 (monitor:936)INFO: Current best: {'test_acc': 0.813725, 'test_avg_loss': 0.483204, 'test_loss': 98.573643, 'test_total': 204.0, 'val_acc': 0.823529, 'val_avg_loss': 0.38879, 'val_loss': 79.31313, 'val_total': 204.0}\n",
      "2022-12-22 19:15:16,578 (server:323)INFO: Server #0: Starting evaluation at the end of round 129.\n",
      "2022-12-22 19:15:16,579 (server:330)INFO: ----------- Starting a new training round (Round #130) -------------\n",
      "2022-12-22 19:15:16,643 (client:415)INFO: {'Role': 'Client #1', 'Round': 130, 'Results_raw': {'test_acc': 0.813725, 'test_avg_loss': 0.471988, 'test_loss': 96.285647, 'test_total': 204, 'val_acc': 0.843137, 'val_avg_loss': 0.406853, 'val_loss': 82.998033, 'val_total': 204}}\n",
      "2022-12-22 19:15:16,645 (monitor:936)INFO: Current best: {'test_acc': 0.813725, 'test_avg_loss': 0.483204, 'test_loss': 98.573643, 'test_total': 204, 'val_acc': 0.823529, 'val_avg_loss': 0.38879, 'val_loss': 79.31313, 'val_total': 204}\n"
     ]
    },
    {
     "name": "stdout",
     "output_type": "stream",
     "text": [
      "no improve counter: 8\n",
      "self.best_metric: 79.31312966346741\n",
      "no improve counter: 9\n",
      "self.best_metric: 0.3887898512915069\n"
     ]
    },
    {
     "name": "stderr",
     "output_type": "stream",
     "text": [
      "2022-12-22 19:15:16,946 (client:260)INFO: {'Role': 'Client #1', 'Round': 130, 'Results_raw': {'train_acc': 0.85653, 'train_avg_loss': 0.364203, 'train_loss': 594.015424, 'train_total': 1631}}\n",
      "2022-12-22 19:15:16,949 (server:496)INFO: {'Role': 'Server #', 'Round': 130, 'Results_avg': {'test_acc': 0.813725, 'test_avg_loss': 0.471988, 'test_loss': 96.285647, 'test_total': 204.0, 'val_acc': 0.843137, 'val_avg_loss': 0.406853, 'val_loss': 82.998033, 'val_total': 204.0}}\n",
      "2022-12-22 19:15:16,950 (monitor:936)INFO: Current best: {'test_acc': 0.813725, 'test_avg_loss': 0.483204, 'test_loss': 98.573643, 'test_total': 204.0, 'val_acc': 0.823529, 'val_avg_loss': 0.38879, 'val_loss': 79.31313, 'val_total': 204.0}\n",
      "2022-12-22 19:15:16,951 (monitor:936)INFO: Current best: {'test_acc': 0.813725, 'test_avg_loss': 0.483204, 'test_loss': 98.573643, 'test_total': 204.0, 'val_acc': 0.823529, 'val_avg_loss': 0.38879, 'val_loss': 79.31313, 'val_total': 204.0}\n",
      "2022-12-22 19:15:16,953 (server:323)INFO: Server #0: Starting evaluation at the end of round 130.\n",
      "2022-12-22 19:15:16,955 (server:330)INFO: ----------- Starting a new training round (Round #131) -------------\n",
      "2022-12-22 19:15:17,018 (client:415)INFO: {'Role': 'Client #1', 'Round': 131, 'Results_raw': {'test_acc': 0.813725, 'test_avg_loss': 0.469048, 'test_loss': 95.685873, 'test_total': 204, 'val_acc': 0.852941, 'val_avg_loss': 0.381255, 'val_loss': 77.775977, 'val_total': 204}}\n",
      "2022-12-22 19:15:17,019 (monitor:936)INFO: Current best: {'test_acc': 0.813725, 'test_avg_loss': 0.469048, 'test_loss': 95.685873, 'test_total': 204, 'val_acc': 0.852941, 'val_avg_loss': 0.381255, 'val_loss': 77.775977, 'val_total': 204}\n"
     ]
    },
    {
     "name": "stdout",
     "output_type": "stream",
     "text": [
      "no improve counter: 9\n",
      "self.best_metric: 79.31312966346741\n",
      "no improve counter: 0\n",
      "self.best_metric: 0.38125479046036215\n"
     ]
    },
    {
     "name": "stderr",
     "output_type": "stream",
     "text": [
      "2022-12-22 19:15:17,342 (client:260)INFO: {'Role': 'Client #1', 'Round': 131, 'Results_raw': {'train_acc': 0.860822, 'train_avg_loss': 0.354304, 'train_loss': 577.869795, 'train_total': 1631}}\n",
      "2022-12-22 19:15:17,344 (server:496)INFO: {'Role': 'Server #', 'Round': 131, 'Results_avg': {'test_acc': 0.813725, 'test_avg_loss': 0.469048, 'test_loss': 95.685873, 'test_total': 204.0, 'val_acc': 0.852941, 'val_avg_loss': 0.381255, 'val_loss': 77.775977, 'val_total': 204.0}}\n",
      "2022-12-22 19:15:17,344 (monitor:936)INFO: Current best: {'test_acc': [0.813725], 'test_avg_loss': [0.469048], 'test_loss': [95.685873], 'test_total': [204.0], 'val_acc': [0.852941], 'val_avg_loss': [0.381255], 'val_loss': [77.775977], 'val_total': [204.0]}\n",
      "2022-12-22 19:15:17,346 (monitor:936)INFO: Current best: {'test_acc': 0.813725, 'test_avg_loss': 0.469048, 'test_loss': 95.685873, 'test_total': 204.0, 'val_acc': 0.852941, 'val_avg_loss': 0.381255, 'val_loss': 77.775977, 'val_total': 204.0}\n",
      "2022-12-22 19:15:17,350 (server:323)INFO: Server #0: Starting evaluation at the end of round 131.\n",
      "2022-12-22 19:15:17,351 (server:330)INFO: ----------- Starting a new training round (Round #132) -------------\n",
      "2022-12-22 19:15:17,422 (client:415)INFO: {'Role': 'Client #1', 'Round': 132, 'Results_raw': {'test_acc': 0.794118, 'test_avg_loss': 0.513879, 'test_loss': 104.831317, 'test_total': 204, 'val_acc': 0.808824, 'val_avg_loss': 0.403702, 'val_loss': 82.355226, 'val_total': 204}}\n",
      "2022-12-22 19:15:17,424 (monitor:936)INFO: Current best: {'test_acc': 0.813725, 'test_avg_loss': 0.469048, 'test_loss': 95.685873, 'test_total': 204, 'val_acc': 0.852941, 'val_avg_loss': 0.381255, 'val_loss': 77.775977, 'val_total': 204}\n"
     ]
    },
    {
     "name": "stdout",
     "output_type": "stream",
     "text": [
      "no improve counter: 0\n",
      "self.best_metric: 77.77597725391388\n",
      "no improve counter: 1\n",
      "self.best_metric: 0.38125479046036215\n"
     ]
    },
    {
     "name": "stderr",
     "output_type": "stream",
     "text": [
      "2022-12-22 19:15:17,684 (client:260)INFO: {'Role': 'Client #1', 'Round': 132, 'Results_raw': {'train_acc': 0.850399, 'train_avg_loss': 0.363117, 'train_loss': 592.244234, 'train_total': 1631}}\n",
      "2022-12-22 19:15:17,686 (server:496)INFO: {'Role': 'Server #', 'Round': 132, 'Results_avg': {'test_acc': 0.794118, 'test_avg_loss': 0.513879, 'test_loss': 104.831317, 'test_total': 204.0, 'val_acc': 0.808824, 'val_avg_loss': 0.403702, 'val_loss': 82.355226, 'val_total': 204.0}}\n",
      "2022-12-22 19:15:17,687 (monitor:936)INFO: Current best: {'test_acc': 0.813725, 'test_avg_loss': 0.469048, 'test_loss': 95.685873, 'test_total': 204.0, 'val_acc': 0.852941, 'val_avg_loss': 0.381255, 'val_loss': 77.775977, 'val_total': 204.0}\n",
      "2022-12-22 19:15:17,689 (monitor:936)INFO: Current best: {'test_acc': 0.813725, 'test_avg_loss': 0.469048, 'test_loss': 95.685873, 'test_total': 204.0, 'val_acc': 0.852941, 'val_avg_loss': 0.381255, 'val_loss': 77.775977, 'val_total': 204.0}\n",
      "2022-12-22 19:15:17,692 (server:323)INFO: Server #0: Starting evaluation at the end of round 132.\n",
      "2022-12-22 19:15:17,693 (server:330)INFO: ----------- Starting a new training round (Round #133) -------------\n",
      "2022-12-22 19:15:17,742 (client:415)INFO: {'Role': 'Client #1', 'Round': 133, 'Results_raw': {'test_acc': 0.803922, 'test_avg_loss': 0.476188, 'test_loss': 97.142383, 'test_total': 204, 'val_acc': 0.848039, 'val_avg_loss': 0.40534, 'val_loss': 82.689381, 'val_total': 204}}\n",
      "2022-12-22 19:15:17,743 (monitor:936)INFO: Current best: {'test_acc': 0.813725, 'test_avg_loss': 0.469048, 'test_loss': 95.685873, 'test_total': 204, 'val_acc': 0.852941, 'val_avg_loss': 0.381255, 'val_loss': 77.775977, 'val_total': 204}\n"
     ]
    },
    {
     "name": "stdout",
     "output_type": "stream",
     "text": [
      "no improve counter: 1\n",
      "self.best_metric: 77.77597725391388\n",
      "no improve counter: 2\n",
      "self.best_metric: 0.38125479046036215\n"
     ]
    },
    {
     "name": "stderr",
     "output_type": "stream",
     "text": [
      "2022-12-22 19:15:18,023 (client:260)INFO: {'Role': 'Client #1', 'Round': 133, 'Results_raw': {'train_acc': 0.852851, 'train_avg_loss': 0.365752, 'train_loss': 596.540735, 'train_total': 1631}}\n",
      "2022-12-22 19:15:18,025 (server:496)INFO: {'Role': 'Server #', 'Round': 133, 'Results_avg': {'test_acc': 0.803922, 'test_avg_loss': 0.476188, 'test_loss': 97.142383, 'test_total': 204.0, 'val_acc': 0.848039, 'val_avg_loss': 0.40534, 'val_loss': 82.689381, 'val_total': 204.0}}\n",
      "2022-12-22 19:15:18,026 (monitor:936)INFO: Current best: {'test_acc': 0.813725, 'test_avg_loss': 0.469048, 'test_loss': 95.685873, 'test_total': 204.0, 'val_acc': 0.852941, 'val_avg_loss': 0.381255, 'val_loss': 77.775977, 'val_total': 204.0}\n",
      "2022-12-22 19:15:18,028 (monitor:936)INFO: Current best: {'test_acc': 0.813725, 'test_avg_loss': 0.469048, 'test_loss': 95.685873, 'test_total': 204.0, 'val_acc': 0.852941, 'val_avg_loss': 0.381255, 'val_loss': 77.775977, 'val_total': 204.0}\n",
      "2022-12-22 19:15:18,032 (server:323)INFO: Server #0: Starting evaluation at the end of round 133.\n",
      "2022-12-22 19:15:18,033 (server:330)INFO: ----------- Starting a new training round (Round #134) -------------\n",
      "2022-12-22 19:15:18,097 (client:415)INFO: {'Role': 'Client #1', 'Round': 134, 'Results_raw': {'test_acc': 0.77451, 'test_avg_loss': 0.584577, 'test_loss': 119.253778, 'test_total': 204, 'val_acc': 0.789216, 'val_avg_loss': 0.451578, 'val_loss': 92.121887, 'val_total': 204}}\n",
      "2022-12-22 19:15:18,098 (monitor:936)INFO: Current best: {'test_acc': 0.813725, 'test_avg_loss': 0.469048, 'test_loss': 95.685873, 'test_total': 204, 'val_acc': 0.852941, 'val_avg_loss': 0.381255, 'val_loss': 77.775977, 'val_total': 204}\n"
     ]
    },
    {
     "name": "stdout",
     "output_type": "stream",
     "text": [
      "no improve counter: 2\n",
      "self.best_metric: 77.77597725391388\n",
      "no improve counter: 3\n",
      "self.best_metric: 0.38125479046036215\n"
     ]
    },
    {
     "name": "stderr",
     "output_type": "stream",
     "text": [
      "2022-12-22 19:15:18,373 (client:260)INFO: {'Role': 'Client #1', 'Round': 134, 'Results_raw': {'train_acc': 0.859595, 'train_avg_loss': 0.368977, 'train_loss': 601.801702, 'train_total': 1631}}\n",
      "2022-12-22 19:15:18,374 (server:496)INFO: {'Role': 'Server #', 'Round': 134, 'Results_avg': {'test_acc': 0.77451, 'test_avg_loss': 0.584577, 'test_loss': 119.253778, 'test_total': 204.0, 'val_acc': 0.789216, 'val_avg_loss': 0.451578, 'val_loss': 92.121887, 'val_total': 204.0}}\n",
      "2022-12-22 19:15:18,375 (monitor:936)INFO: Current best: {'test_acc': 0.813725, 'test_avg_loss': 0.469048, 'test_loss': 95.685873, 'test_total': 204.0, 'val_acc': 0.852941, 'val_avg_loss': 0.381255, 'val_loss': 77.775977, 'val_total': 204.0}\n",
      "2022-12-22 19:15:18,376 (monitor:936)INFO: Current best: {'test_acc': 0.813725, 'test_avg_loss': 0.469048, 'test_loss': 95.685873, 'test_total': 204.0, 'val_acc': 0.852941, 'val_avg_loss': 0.381255, 'val_loss': 77.775977, 'val_total': 204.0}\n",
      "2022-12-22 19:15:18,377 (server:323)INFO: Server #0: Starting evaluation at the end of round 134.\n",
      "2022-12-22 19:15:18,378 (server:330)INFO: ----------- Starting a new training round (Round #135) -------------\n",
      "2022-12-22 19:15:18,440 (client:415)INFO: {'Role': 'Client #1', 'Round': 135, 'Results_raw': {'test_acc': 0.794118, 'test_avg_loss': 0.521411, 'test_loss': 106.367765, 'test_total': 204, 'val_acc': 0.794118, 'val_avg_loss': 0.437623, 'val_loss': 89.275127, 'val_total': 204}}\n",
      "2022-12-22 19:15:18,441 (monitor:936)INFO: Current best: {'test_acc': 0.813725, 'test_avg_loss': 0.469048, 'test_loss': 95.685873, 'test_total': 204, 'val_acc': 0.852941, 'val_avg_loss': 0.381255, 'val_loss': 77.775977, 'val_total': 204}\n"
     ]
    },
    {
     "name": "stdout",
     "output_type": "stream",
     "text": [
      "no improve counter: 3\n",
      "self.best_metric: 77.77597725391388\n",
      "no improve counter: 4\n",
      "self.best_metric: 0.38125479046036215\n"
     ]
    },
    {
     "name": "stderr",
     "output_type": "stream",
     "text": [
      "2022-12-22 19:15:18,703 (client:260)INFO: {'Role': 'Client #1', 'Round': 135, 'Results_raw': {'train_acc': 0.849172, 'train_avg_loss': 0.370031, 'train_loss': 603.520621, 'train_total': 1631}}\n",
      "2022-12-22 19:15:18,705 (server:496)INFO: {'Role': 'Server #', 'Round': 135, 'Results_avg': {'test_acc': 0.794118, 'test_avg_loss': 0.521411, 'test_loss': 106.367765, 'test_total': 204.0, 'val_acc': 0.794118, 'val_avg_loss': 0.437623, 'val_loss': 89.275127, 'val_total': 204.0}}\n",
      "2022-12-22 19:15:18,706 (monitor:936)INFO: Current best: {'test_acc': 0.813725, 'test_avg_loss': 0.469048, 'test_loss': 95.685873, 'test_total': 204.0, 'val_acc': 0.852941, 'val_avg_loss': 0.381255, 'val_loss': 77.775977, 'val_total': 204.0}\n",
      "2022-12-22 19:15:18,707 (monitor:936)INFO: Current best: {'test_acc': 0.813725, 'test_avg_loss': 0.469048, 'test_loss': 95.685873, 'test_total': 204.0, 'val_acc': 0.852941, 'val_avg_loss': 0.381255, 'val_loss': 77.775977, 'val_total': 204.0}\n",
      "2022-12-22 19:15:18,709 (server:323)INFO: Server #0: Starting evaluation at the end of round 135.\n",
      "2022-12-22 19:15:18,710 (server:330)INFO: ----------- Starting a new training round (Round #136) -------------\n",
      "2022-12-22 19:15:18,768 (client:415)INFO: {'Role': 'Client #1', 'Round': 136, 'Results_raw': {'test_acc': 0.784314, 'test_avg_loss': 0.530333, 'test_loss': 108.187971, 'test_total': 204, 'val_acc': 0.79902, 'val_avg_loss': 0.443228, 'val_loss': 90.418423, 'val_total': 204}}\n",
      "2022-12-22 19:15:18,769 (monitor:936)INFO: Current best: {'test_acc': 0.813725, 'test_avg_loss': 0.469048, 'test_loss': 95.685873, 'test_total': 204, 'val_acc': 0.852941, 'val_avg_loss': 0.381255, 'val_loss': 77.775977, 'val_total': 204}\n"
     ]
    },
    {
     "name": "stdout",
     "output_type": "stream",
     "text": [
      "no improve counter: 4\n",
      "self.best_metric: 77.77597725391388\n",
      "no improve counter: 5\n",
      "self.best_metric: 0.38125479046036215\n"
     ]
    },
    {
     "name": "stderr",
     "output_type": "stream",
     "text": [
      "2022-12-22 19:15:19,023 (client:260)INFO: {'Role': 'Client #1', 'Round': 136, 'Results_raw': {'train_acc': 0.853464, 'train_avg_loss': 0.367452, 'train_loss': 599.314216, 'train_total': 1631}}\n",
      "2022-12-22 19:15:19,025 (server:496)INFO: {'Role': 'Server #', 'Round': 136, 'Results_avg': {'test_acc': 0.784314, 'test_avg_loss': 0.530333, 'test_loss': 108.187971, 'test_total': 204.0, 'val_acc': 0.79902, 'val_avg_loss': 0.443228, 'val_loss': 90.418423, 'val_total': 204.0}}\n",
      "2022-12-22 19:15:19,026 (monitor:936)INFO: Current best: {'test_acc': 0.813725, 'test_avg_loss': 0.469048, 'test_loss': 95.685873, 'test_total': 204.0, 'val_acc': 0.852941, 'val_avg_loss': 0.381255, 'val_loss': 77.775977, 'val_total': 204.0}\n",
      "2022-12-22 19:15:19,028 (monitor:936)INFO: Current best: {'test_acc': 0.813725, 'test_avg_loss': 0.469048, 'test_loss': 95.685873, 'test_total': 204.0, 'val_acc': 0.852941, 'val_avg_loss': 0.381255, 'val_loss': 77.775977, 'val_total': 204.0}\n",
      "2022-12-22 19:15:19,030 (server:323)INFO: Server #0: Starting evaluation at the end of round 136.\n",
      "2022-12-22 19:15:19,031 (server:330)INFO: ----------- Starting a new training round (Round #137) -------------\n",
      "2022-12-22 19:15:19,086 (client:415)INFO: {'Role': 'Client #1', 'Round': 137, 'Results_raw': {'test_acc': 0.79902, 'test_avg_loss': 0.491392, 'test_loss': 100.243966, 'test_total': 204, 'val_acc': 0.808824, 'val_avg_loss': 0.418888, 'val_loss': 85.453213, 'val_total': 204}}\n",
      "2022-12-22 19:15:19,087 (monitor:936)INFO: Current best: {'test_acc': 0.813725, 'test_avg_loss': 0.469048, 'test_loss': 95.685873, 'test_total': 204, 'val_acc': 0.852941, 'val_avg_loss': 0.381255, 'val_loss': 77.775977, 'val_total': 204}\n"
     ]
    },
    {
     "name": "stdout",
     "output_type": "stream",
     "text": [
      "no improve counter: 5\n",
      "self.best_metric: 77.77597725391388\n",
      "no improve counter: 6\n",
      "self.best_metric: 0.38125479046036215\n"
     ]
    },
    {
     "name": "stderr",
     "output_type": "stream",
     "text": [
      "2022-12-22 19:15:19,360 (client:260)INFO: {'Role': 'Client #1', 'Round': 137, 'Results_raw': {'train_acc': 0.85653, 'train_avg_loss': 0.355387, 'train_loss': 579.635589, 'train_total': 1631}}\n",
      "2022-12-22 19:15:19,363 (server:496)INFO: {'Role': 'Server #', 'Round': 137, 'Results_avg': {'test_acc': 0.79902, 'test_avg_loss': 0.491392, 'test_loss': 100.243966, 'test_total': 204.0, 'val_acc': 0.808824, 'val_avg_loss': 0.418888, 'val_loss': 85.453213, 'val_total': 204.0}}\n",
      "2022-12-22 19:15:19,364 (monitor:936)INFO: Current best: {'test_acc': 0.813725, 'test_avg_loss': 0.469048, 'test_loss': 95.685873, 'test_total': 204.0, 'val_acc': 0.852941, 'val_avg_loss': 0.381255, 'val_loss': 77.775977, 'val_total': 204.0}\n",
      "2022-12-22 19:15:19,365 (monitor:936)INFO: Current best: {'test_acc': 0.813725, 'test_avg_loss': 0.469048, 'test_loss': 95.685873, 'test_total': 204.0, 'val_acc': 0.852941, 'val_avg_loss': 0.381255, 'val_loss': 77.775977, 'val_total': 204.0}\n",
      "2022-12-22 19:15:19,367 (server:323)INFO: Server #0: Starting evaluation at the end of round 137.\n",
      "2022-12-22 19:15:19,368 (server:330)INFO: ----------- Starting a new training round (Round #138) -------------\n",
      "2022-12-22 19:15:19,428 (client:415)INFO: {'Role': 'Client #1', 'Round': 138, 'Results_raw': {'test_acc': 0.808824, 'test_avg_loss': 0.475782, 'test_loss': 97.059445, 'test_total': 204, 'val_acc': 0.828431, 'val_avg_loss': 0.419905, 'val_loss': 85.660635, 'val_total': 204}}\n",
      "2022-12-22 19:15:19,429 (monitor:936)INFO: Current best: {'test_acc': 0.813725, 'test_avg_loss': 0.469048, 'test_loss': 95.685873, 'test_total': 204, 'val_acc': 0.852941, 'val_avg_loss': 0.381255, 'val_loss': 77.775977, 'val_total': 204}\n"
     ]
    },
    {
     "name": "stdout",
     "output_type": "stream",
     "text": [
      "no improve counter: 6\n",
      "self.best_metric: 77.77597725391388\n",
      "no improve counter: 7\n",
      "self.best_metric: 0.38125479046036215\n"
     ]
    },
    {
     "name": "stderr",
     "output_type": "stream",
     "text": [
      "2022-12-22 19:15:19,695 (client:260)INFO: {'Role': 'Client #1', 'Round': 138, 'Results_raw': {'train_acc': 0.863887, 'train_avg_loss': 0.357975, 'train_loss': 583.857995, 'train_total': 1631}}\n",
      "2022-12-22 19:15:19,697 (server:496)INFO: {'Role': 'Server #', 'Round': 138, 'Results_avg': {'test_acc': 0.808824, 'test_avg_loss': 0.475782, 'test_loss': 97.059445, 'test_total': 204.0, 'val_acc': 0.828431, 'val_avg_loss': 0.419905, 'val_loss': 85.660635, 'val_total': 204.0}}\n",
      "2022-12-22 19:15:19,698 (monitor:936)INFO: Current best: {'test_acc': 0.813725, 'test_avg_loss': 0.469048, 'test_loss': 95.685873, 'test_total': 204.0, 'val_acc': 0.852941, 'val_avg_loss': 0.381255, 'val_loss': 77.775977, 'val_total': 204.0}\n",
      "2022-12-22 19:15:19,700 (monitor:936)INFO: Current best: {'test_acc': 0.813725, 'test_avg_loss': 0.469048, 'test_loss': 95.685873, 'test_total': 204.0, 'val_acc': 0.852941, 'val_avg_loss': 0.381255, 'val_loss': 77.775977, 'val_total': 204.0}\n",
      "2022-12-22 19:15:19,702 (server:323)INFO: Server #0: Starting evaluation at the end of round 138.\n",
      "2022-12-22 19:15:19,703 (server:330)INFO: ----------- Starting a new training round (Round #139) -------------\n",
      "2022-12-22 19:15:19,763 (client:415)INFO: {'Role': 'Client #1', 'Round': 139, 'Results_raw': {'test_acc': 0.813725, 'test_avg_loss': 0.477681, 'test_loss': 97.446959, 'test_total': 204, 'val_acc': 0.862745, 'val_avg_loss': 0.38931, 'val_loss': 79.419316, 'val_total': 204}}\n",
      "2022-12-22 19:15:19,765 (monitor:936)INFO: Current best: {'test_acc': 0.813725, 'test_avg_loss': 0.469048, 'test_loss': 95.685873, 'test_total': 204, 'val_acc': 0.852941, 'val_avg_loss': 0.381255, 'val_loss': 77.775977, 'val_total': 204}\n"
     ]
    },
    {
     "name": "stdout",
     "output_type": "stream",
     "text": [
      "no improve counter: 7\n",
      "self.best_metric: 77.77597725391388\n",
      "no improve counter: 8\n",
      "self.best_metric: 0.38125479046036215\n"
     ]
    },
    {
     "name": "stderr",
     "output_type": "stream",
     "text": [
      "2022-12-22 19:15:20,014 (client:260)INFO: {'Role': 'Client #1', 'Round': 139, 'Results_raw': {'train_acc': 0.862661, 'train_avg_loss': 0.36222, 'train_loss': 590.781487, 'train_total': 1631}}\n",
      "2022-12-22 19:15:20,016 (server:496)INFO: {'Role': 'Server #', 'Round': 139, 'Results_avg': {'test_acc': 0.813725, 'test_avg_loss': 0.477681, 'test_loss': 97.446959, 'test_total': 204.0, 'val_acc': 0.862745, 'val_avg_loss': 0.38931, 'val_loss': 79.419316, 'val_total': 204.0}}\n",
      "2022-12-22 19:15:20,018 (monitor:936)INFO: Current best: {'test_acc': 0.813725, 'test_avg_loss': 0.469048, 'test_loss': 95.685873, 'test_total': 204.0, 'val_acc': 0.852941, 'val_avg_loss': 0.381255, 'val_loss': 77.775977, 'val_total': 204.0}\n",
      "2022-12-22 19:15:20,020 (monitor:936)INFO: Current best: {'test_acc': 0.813725, 'test_avg_loss': 0.469048, 'test_loss': 95.685873, 'test_total': 204.0, 'val_acc': 0.852941, 'val_avg_loss': 0.381255, 'val_loss': 77.775977, 'val_total': 204.0}\n",
      "2022-12-22 19:15:20,023 (server:323)INFO: Server #0: Starting evaluation at the end of round 139.\n",
      "2022-12-22 19:15:20,024 (server:330)INFO: ----------- Starting a new training round (Round #140) -------------\n",
      "2022-12-22 19:15:20,080 (client:415)INFO: {'Role': 'Client #1', 'Round': 140, 'Results_raw': {'test_acc': 0.789216, 'test_avg_loss': 0.525024, 'test_loss': 107.104818, 'test_total': 204, 'val_acc': 0.808824, 'val_avg_loss': 0.446874, 'val_loss': 91.16239, 'val_total': 204}}\n",
      "2022-12-22 19:15:20,081 (monitor:936)INFO: Current best: {'test_acc': 0.813725, 'test_avg_loss': 0.469048, 'test_loss': 95.685873, 'test_total': 204, 'val_acc': 0.852941, 'val_avg_loss': 0.381255, 'val_loss': 77.775977, 'val_total': 204}\n"
     ]
    },
    {
     "name": "stdout",
     "output_type": "stream",
     "text": [
      "no improve counter: 8\n",
      "self.best_metric: 77.77597725391388\n",
      "no improve counter: 9\n",
      "self.best_metric: 0.38125479046036215\n"
     ]
    },
    {
     "name": "stderr",
     "output_type": "stream",
     "text": [
      "2022-12-22 19:15:20,356 (client:260)INFO: {'Role': 'Client #1', 'Round': 140, 'Results_raw': {'train_acc': 0.863887, 'train_avg_loss': 0.357551, 'train_loss': 583.166089, 'train_total': 1631}}\n",
      "2022-12-22 19:15:20,358 (server:496)INFO: {'Role': 'Server #', 'Round': 140, 'Results_avg': {'test_acc': 0.789216, 'test_avg_loss': 0.525024, 'test_loss': 107.104818, 'test_total': 204.0, 'val_acc': 0.808824, 'val_avg_loss': 0.446874, 'val_loss': 91.16239, 'val_total': 204.0}}\n",
      "2022-12-22 19:15:20,359 (monitor:936)INFO: Current best: {'test_acc': 0.813725, 'test_avg_loss': 0.469048, 'test_loss': 95.685873, 'test_total': 204.0, 'val_acc': 0.852941, 'val_avg_loss': 0.381255, 'val_loss': 77.775977, 'val_total': 204.0}\n",
      "2022-12-22 19:15:20,361 (monitor:936)INFO: Current best: {'test_acc': 0.813725, 'test_avg_loss': 0.469048, 'test_loss': 95.685873, 'test_total': 204.0, 'val_acc': 0.852941, 'val_avg_loss': 0.381255, 'val_loss': 77.775977, 'val_total': 204.0}\n",
      "2022-12-22 19:15:20,364 (server:323)INFO: Server #0: Starting evaluation at the end of round 140.\n",
      "2022-12-22 19:15:20,365 (server:330)INFO: ----------- Starting a new training round (Round #141) -------------\n",
      "2022-12-22 19:15:20,434 (client:415)INFO: {'Role': 'Client #1', 'Round': 141, 'Results_raw': {'test_acc': 0.803922, 'test_avg_loss': 0.483466, 'test_loss': 98.627108, 'test_total': 204, 'val_acc': 0.818627, 'val_avg_loss': 0.389354, 'val_loss': 79.428193, 'val_total': 204}}\n",
      "2022-12-22 19:15:20,435 (monitor:936)INFO: Current best: {'test_acc': 0.813725, 'test_avg_loss': 0.469048, 'test_loss': 95.685873, 'test_total': 204, 'val_acc': 0.852941, 'val_avg_loss': 0.381255, 'val_loss': 77.775977, 'val_total': 204}\n"
     ]
    },
    {
     "name": "stdout",
     "output_type": "stream",
     "text": [
      "no improve counter: 9\n",
      "self.best_metric: 77.77597725391388\n",
      "no improve counter: 10\n",
      "self.best_metric: 0.38125479046036215\n"
     ]
    },
    {
     "name": "stderr",
     "output_type": "stream",
     "text": [
      "2022-12-22 19:15:20,705 (client:260)INFO: {'Role': 'Client #1', 'Round': 141, 'Results_raw': {'train_acc': 0.859595, 'train_avg_loss': 0.351338, 'train_loss': 573.031873, 'train_total': 1631}}\n",
      "2022-12-22 19:15:20,707 (server:496)INFO: {'Role': 'Server #', 'Round': 141, 'Results_avg': {'test_acc': 0.803922, 'test_avg_loss': 0.483466, 'test_loss': 98.627108, 'test_total': 204.0, 'val_acc': 0.818627, 'val_avg_loss': 0.389354, 'val_loss': 79.428193, 'val_total': 204.0}}\n",
      "2022-12-22 19:15:20,708 (monitor:936)INFO: Current best: {'test_acc': 0.813725, 'test_avg_loss': 0.469048, 'test_loss': 95.685873, 'test_total': 204.0, 'val_acc': 0.852941, 'val_avg_loss': 0.381255, 'val_loss': 77.775977, 'val_total': 204.0}\n",
      "2022-12-22 19:15:20,709 (monitor:936)INFO: Current best: {'test_acc': 0.813725, 'test_avg_loss': 0.469048, 'test_loss': 95.685873, 'test_total': 204.0, 'val_acc': 0.852941, 'val_avg_loss': 0.381255, 'val_loss': 77.775977, 'val_total': 204.0}\n",
      "2022-12-22 19:15:20,711 (server:323)INFO: Server #0: Starting evaluation at the end of round 141.\n",
      "2022-12-22 19:15:20,712 (server:330)INFO: ----------- Starting a new training round (Round #142) -------------\n",
      "2022-12-22 19:15:20,765 (client:415)INFO: {'Role': 'Client #1', 'Round': 142, 'Results_raw': {'test_acc': 0.794118, 'test_avg_loss': 0.53477, 'test_loss': 109.093113, 'test_total': 204, 'val_acc': 0.803922, 'val_avg_loss': 0.428583, 'val_loss': 87.430936, 'val_total': 204}}\n",
      "2022-12-22 19:15:20,766 (monitor:936)INFO: Current best: {'test_acc': 0.813725, 'test_avg_loss': 0.469048, 'test_loss': 95.685873, 'test_total': 204, 'val_acc': 0.852941, 'val_avg_loss': 0.381255, 'val_loss': 77.775977, 'val_total': 204}\n"
     ]
    },
    {
     "name": "stdout",
     "output_type": "stream",
     "text": [
      "no improve counter: 10\n",
      "self.best_metric: 77.77597725391388\n",
      "no improve counter: 11\n",
      "self.best_metric: 0.38125479046036215\n"
     ]
    },
    {
     "name": "stderr",
     "output_type": "stream",
     "text": [
      "2022-12-22 19:15:21,034 (client:260)INFO: {'Role': 'Client #1', 'Round': 142, 'Results_raw': {'train_acc': 0.851625, 'train_avg_loss': 0.359964, 'train_loss': 587.101977, 'train_total': 1631}}\n",
      "2022-12-22 19:15:21,036 (server:496)INFO: {'Role': 'Server #', 'Round': 142, 'Results_avg': {'test_acc': 0.794118, 'test_avg_loss': 0.53477, 'test_loss': 109.093113, 'test_total': 204.0, 'val_acc': 0.803922, 'val_avg_loss': 0.428583, 'val_loss': 87.430936, 'val_total': 204.0}}\n",
      "2022-12-22 19:15:21,037 (monitor:936)INFO: Current best: {'test_acc': 0.813725, 'test_avg_loss': 0.469048, 'test_loss': 95.685873, 'test_total': 204.0, 'val_acc': 0.852941, 'val_avg_loss': 0.381255, 'val_loss': 77.775977, 'val_total': 204.0}\n",
      "2022-12-22 19:15:21,038 (monitor:936)INFO: Current best: {'test_acc': 0.813725, 'test_avg_loss': 0.469048, 'test_loss': 95.685873, 'test_total': 204.0, 'val_acc': 0.852941, 'val_avg_loss': 0.381255, 'val_loss': 77.775977, 'val_total': 204.0}\n",
      "2022-12-22 19:15:21,040 (server:323)INFO: Server #0: Starting evaluation at the end of round 142.\n",
      "2022-12-22 19:15:21,041 (server:330)INFO: ----------- Starting a new training round (Round #143) -------------\n",
      "2022-12-22 19:15:21,090 (client:415)INFO: {'Role': 'Client #1', 'Round': 143, 'Results_raw': {'test_acc': 0.79902, 'test_avg_loss': 0.493229, 'test_loss': 100.618773, 'test_total': 204, 'val_acc': 0.833333, 'val_avg_loss': 0.400258, 'val_loss': 81.652657, 'val_total': 204}}\n",
      "2022-12-22 19:15:21,091 (monitor:936)INFO: Current best: {'test_acc': 0.813725, 'test_avg_loss': 0.469048, 'test_loss': 95.685873, 'test_total': 204, 'val_acc': 0.852941, 'val_avg_loss': 0.381255, 'val_loss': 77.775977, 'val_total': 204}\n"
     ]
    },
    {
     "name": "stdout",
     "output_type": "stream",
     "text": [
      "no improve counter: 11\n",
      "self.best_metric: 77.77597725391388\n",
      "no improve counter: 12\n",
      "self.best_metric: 0.38125479046036215\n"
     ]
    },
    {
     "name": "stderr",
     "output_type": "stream",
     "text": [
      "2022-12-22 19:15:21,367 (client:260)INFO: {'Role': 'Client #1', 'Round': 143, 'Results_raw': {'train_acc': 0.85469, 'train_avg_loss': 0.362083, 'train_loss': 590.557139, 'train_total': 1631}}\n",
      "2022-12-22 19:15:21,369 (server:496)INFO: {'Role': 'Server #', 'Round': 143, 'Results_avg': {'test_acc': 0.79902, 'test_avg_loss': 0.493229, 'test_loss': 100.618773, 'test_total': 204.0, 'val_acc': 0.833333, 'val_avg_loss': 0.400258, 'val_loss': 81.652657, 'val_total': 204.0}}\n",
      "2022-12-22 19:15:21,370 (monitor:936)INFO: Current best: {'test_acc': 0.813725, 'test_avg_loss': 0.469048, 'test_loss': 95.685873, 'test_total': 204.0, 'val_acc': 0.852941, 'val_avg_loss': 0.381255, 'val_loss': 77.775977, 'val_total': 204.0}\n",
      "2022-12-22 19:15:21,371 (monitor:936)INFO: Current best: {'test_acc': 0.813725, 'test_avg_loss': 0.469048, 'test_loss': 95.685873, 'test_total': 204.0, 'val_acc': 0.852941, 'val_avg_loss': 0.381255, 'val_loss': 77.775977, 'val_total': 204.0}\n",
      "2022-12-22 19:15:21,374 (server:323)INFO: Server #0: Starting evaluation at the end of round 143.\n",
      "2022-12-22 19:15:21,375 (server:330)INFO: ----------- Starting a new training round (Round #144) -------------\n",
      "2022-12-22 19:15:21,445 (client:415)INFO: {'Role': 'Client #1', 'Round': 144, 'Results_raw': {'test_acc': 0.79902, 'test_avg_loss': 0.495936, 'test_loss': 101.170981, 'test_total': 204, 'val_acc': 0.818627, 'val_avg_loss': 0.401826, 'val_loss': 81.972461, 'val_total': 204}}\n",
      "2022-12-22 19:15:21,445 (monitor:936)INFO: Current best: {'test_acc': 0.813725, 'test_avg_loss': 0.469048, 'test_loss': 95.685873, 'test_total': 204, 'val_acc': 0.852941, 'val_avg_loss': 0.381255, 'val_loss': 77.775977, 'val_total': 204}\n"
     ]
    },
    {
     "name": "stdout",
     "output_type": "stream",
     "text": [
      "no improve counter: 12\n",
      "self.best_metric: 77.77597725391388\n",
      "no improve counter: 13\n",
      "self.best_metric: 0.38125479046036215\n"
     ]
    },
    {
     "name": "stderr",
     "output_type": "stream",
     "text": [
      "2022-12-22 19:15:21,716 (client:260)INFO: {'Role': 'Client #1', 'Round': 144, 'Results_raw': {'train_acc': 0.863274, 'train_avg_loss': 0.352128, 'train_loss': 574.320766, 'train_total': 1631}}\n",
      "2022-12-22 19:15:21,718 (server:496)INFO: {'Role': 'Server #', 'Round': 144, 'Results_avg': {'test_acc': 0.79902, 'test_avg_loss': 0.495936, 'test_loss': 101.170981, 'test_total': 204.0, 'val_acc': 0.818627, 'val_avg_loss': 0.401826, 'val_loss': 81.972461, 'val_total': 204.0}}\n",
      "2022-12-22 19:15:21,719 (monitor:936)INFO: Current best: {'test_acc': 0.813725, 'test_avg_loss': 0.469048, 'test_loss': 95.685873, 'test_total': 204.0, 'val_acc': 0.852941, 'val_avg_loss': 0.381255, 'val_loss': 77.775977, 'val_total': 204.0}\n",
      "2022-12-22 19:15:21,720 (monitor:936)INFO: Current best: {'test_acc': 0.813725, 'test_avg_loss': 0.469048, 'test_loss': 95.685873, 'test_total': 204.0, 'val_acc': 0.852941, 'val_avg_loss': 0.381255, 'val_loss': 77.775977, 'val_total': 204.0}\n",
      "2022-12-22 19:15:21,722 (server:323)INFO: Server #0: Starting evaluation at the end of round 144.\n",
      "2022-12-22 19:15:21,723 (server:330)INFO: ----------- Starting a new training round (Round #145) -------------\n",
      "2022-12-22 19:15:21,780 (client:415)INFO: {'Role': 'Client #1', 'Round': 145, 'Results_raw': {'test_acc': 0.803922, 'test_avg_loss': 0.490401, 'test_loss': 100.041729, 'test_total': 204, 'val_acc': 0.823529, 'val_avg_loss': 0.405947, 'val_loss': 82.813154, 'val_total': 204}}\n",
      "2022-12-22 19:15:21,781 (monitor:936)INFO: Current best: {'test_acc': 0.813725, 'test_avg_loss': 0.469048, 'test_loss': 95.685873, 'test_total': 204, 'val_acc': 0.852941, 'val_avg_loss': 0.381255, 'val_loss': 77.775977, 'val_total': 204}\n"
     ]
    },
    {
     "name": "stdout",
     "output_type": "stream",
     "text": [
      "no improve counter: 13\n",
      "self.best_metric: 77.77597725391388\n",
      "no improve counter: 14\n",
      "self.best_metric: 0.38125479046036215\n"
     ]
    },
    {
     "name": "stderr",
     "output_type": "stream",
     "text": [
      "2022-12-22 19:15:22,050 (client:260)INFO: {'Role': 'Client #1', 'Round': 145, 'Results_raw': {'train_acc': 0.86634, 'train_avg_loss': 0.347325, 'train_loss': 566.486543, 'train_total': 1631}}\n",
      "2022-12-22 19:15:22,051 (server:496)INFO: {'Role': 'Server #', 'Round': 145, 'Results_avg': {'test_acc': 0.803922, 'test_avg_loss': 0.490401, 'test_loss': 100.041729, 'test_total': 204.0, 'val_acc': 0.823529, 'val_avg_loss': 0.405947, 'val_loss': 82.813154, 'val_total': 204.0}}\n",
      "2022-12-22 19:15:22,052 (monitor:936)INFO: Current best: {'test_acc': 0.813725, 'test_avg_loss': 0.469048, 'test_loss': 95.685873, 'test_total': 204.0, 'val_acc': 0.852941, 'val_avg_loss': 0.381255, 'val_loss': 77.775977, 'val_total': 204.0}\n",
      "2022-12-22 19:15:22,053 (monitor:936)INFO: Current best: {'test_acc': 0.813725, 'test_avg_loss': 0.469048, 'test_loss': 95.685873, 'test_total': 204.0, 'val_acc': 0.852941, 'val_avg_loss': 0.381255, 'val_loss': 77.775977, 'val_total': 204.0}\n",
      "2022-12-22 19:15:22,055 (server:323)INFO: Server #0: Starting evaluation at the end of round 145.\n",
      "2022-12-22 19:15:22,056 (server:330)INFO: ----------- Starting a new training round (Round #146) -------------\n",
      "2022-12-22 19:15:22,117 (client:415)INFO: {'Role': 'Client #1', 'Round': 146, 'Results_raw': {'test_acc': 0.779412, 'test_avg_loss': 0.531511, 'test_loss': 108.428207, 'test_total': 204, 'val_acc': 0.789216, 'val_avg_loss': 0.437393, 'val_loss': 89.228162, 'val_total': 204}}\n",
      "2022-12-22 19:15:22,119 (monitor:936)INFO: Current best: {'test_acc': 0.813725, 'test_avg_loss': 0.469048, 'test_loss': 95.685873, 'test_total': 204, 'val_acc': 0.852941, 'val_avg_loss': 0.381255, 'val_loss': 77.775977, 'val_total': 204}\n"
     ]
    },
    {
     "name": "stdout",
     "output_type": "stream",
     "text": [
      "no improve counter: 14\n",
      "self.best_metric: 77.77597725391388\n",
      "no improve counter: 15\n",
      "self.best_metric: 0.38125479046036215\n"
     ]
    },
    {
     "name": "stderr",
     "output_type": "stream",
     "text": [
      "2022-12-22 19:15:22,399 (client:260)INFO: {'Role': 'Client #1', 'Round': 146, 'Results_raw': {'train_acc': 0.858369, 'train_avg_loss': 0.35974, 'train_loss': 586.736644, 'train_total': 1631}}\n",
      "2022-12-22 19:15:22,401 (server:496)INFO: {'Role': 'Server #', 'Round': 146, 'Results_avg': {'test_acc': 0.779412, 'test_avg_loss': 0.531511, 'test_loss': 108.428207, 'test_total': 204.0, 'val_acc': 0.789216, 'val_avg_loss': 0.437393, 'val_loss': 89.228162, 'val_total': 204.0}}\n",
      "2022-12-22 19:15:22,402 (monitor:936)INFO: Current best: {'test_acc': 0.813725, 'test_avg_loss': 0.469048, 'test_loss': 95.685873, 'test_total': 204.0, 'val_acc': 0.852941, 'val_avg_loss': 0.381255, 'val_loss': 77.775977, 'val_total': 204.0}\n",
      "2022-12-22 19:15:22,403 (monitor:936)INFO: Current best: {'test_acc': 0.813725, 'test_avg_loss': 0.469048, 'test_loss': 95.685873, 'test_total': 204.0, 'val_acc': 0.852941, 'val_avg_loss': 0.381255, 'val_loss': 77.775977, 'val_total': 204.0}\n",
      "2022-12-22 19:15:22,407 (server:323)INFO: Server #0: Starting evaluation at the end of round 146.\n",
      "2022-12-22 19:15:22,408 (server:330)INFO: ----------- Starting a new training round (Round #147) -------------\n",
      "2022-12-22 19:15:22,456 (client:415)INFO: {'Role': 'Client #1', 'Round': 147, 'Results_raw': {'test_acc': 0.77451, 'test_avg_loss': 0.526579, 'test_loss': 107.422112, 'test_total': 204, 'val_acc': 0.79902, 'val_avg_loss': 0.415908, 'val_loss': 84.845275, 'val_total': 204}}\n",
      "2022-12-22 19:15:22,459 (monitor:936)INFO: Current best: {'test_acc': 0.813725, 'test_avg_loss': 0.469048, 'test_loss': 95.685873, 'test_total': 204, 'val_acc': 0.852941, 'val_avg_loss': 0.381255, 'val_loss': 77.775977, 'val_total': 204}\n"
     ]
    },
    {
     "name": "stdout",
     "output_type": "stream",
     "text": [
      "no improve counter: 15\n",
      "self.best_metric: 77.77597725391388\n",
      "no improve counter: 16\n",
      "self.best_metric: 0.38125479046036215\n"
     ]
    },
    {
     "name": "stderr",
     "output_type": "stream",
     "text": [
      "2022-12-22 19:15:22,744 (client:260)INFO: {'Role': 'Client #1', 'Round': 147, 'Results_raw': {'train_acc': 0.85653, 'train_avg_loss': 0.349248, 'train_loss': 569.623428, 'train_total': 1631}}\n",
      "2022-12-22 19:15:22,746 (server:496)INFO: {'Role': 'Server #', 'Round': 147, 'Results_avg': {'test_acc': 0.77451, 'test_avg_loss': 0.526579, 'test_loss': 107.422112, 'test_total': 204.0, 'val_acc': 0.79902, 'val_avg_loss': 0.415908, 'val_loss': 84.845275, 'val_total': 204.0}}\n",
      "2022-12-22 19:15:22,747 (monitor:936)INFO: Current best: {'test_acc': 0.813725, 'test_avg_loss': 0.469048, 'test_loss': 95.685873, 'test_total': 204.0, 'val_acc': 0.852941, 'val_avg_loss': 0.381255, 'val_loss': 77.775977, 'val_total': 204.0}\n",
      "2022-12-22 19:15:22,749 (monitor:936)INFO: Current best: {'test_acc': 0.813725, 'test_avg_loss': 0.469048, 'test_loss': 95.685873, 'test_total': 204.0, 'val_acc': 0.852941, 'val_avg_loss': 0.381255, 'val_loss': 77.775977, 'val_total': 204.0}\n",
      "2022-12-22 19:15:22,751 (server:323)INFO: Server #0: Starting evaluation at the end of round 147.\n",
      "2022-12-22 19:15:22,751 (server:330)INFO: ----------- Starting a new training round (Round #148) -------------\n",
      "2022-12-22 19:15:22,809 (client:415)INFO: {'Role': 'Client #1', 'Round': 148, 'Results_raw': {'test_acc': 0.79902, 'test_avg_loss': 0.506107, 'test_loss': 103.245927, 'test_total': 204, 'val_acc': 0.808824, 'val_avg_loss': 0.420649, 'val_loss': 85.812445, 'val_total': 204}}\n",
      "2022-12-22 19:15:22,809 (monitor:936)INFO: Current best: {'test_acc': 0.813725, 'test_avg_loss': 0.469048, 'test_loss': 95.685873, 'test_total': 204, 'val_acc': 0.852941, 'val_avg_loss': 0.381255, 'val_loss': 77.775977, 'val_total': 204}\n"
     ]
    },
    {
     "name": "stdout",
     "output_type": "stream",
     "text": [
      "no improve counter: 16\n",
      "self.best_metric: 77.77597725391388\n",
      "no improve counter: 17\n",
      "self.best_metric: 0.38125479046036215\n"
     ]
    },
    {
     "name": "stderr",
     "output_type": "stream",
     "text": [
      "2022-12-22 19:15:23,082 (client:260)INFO: {'Role': 'Client #1', 'Round': 148, 'Results_raw': {'train_acc': 0.859595, 'train_avg_loss': 0.353211, 'train_loss': 576.086795, 'train_total': 1631}}\n",
      "2022-12-22 19:15:23,084 (server:496)INFO: {'Role': 'Server #', 'Round': 148, 'Results_avg': {'test_acc': 0.79902, 'test_avg_loss': 0.506107, 'test_loss': 103.245927, 'test_total': 204.0, 'val_acc': 0.808824, 'val_avg_loss': 0.420649, 'val_loss': 85.812445, 'val_total': 204.0}}\n",
      "2022-12-22 19:15:23,085 (monitor:936)INFO: Current best: {'test_acc': 0.813725, 'test_avg_loss': 0.469048, 'test_loss': 95.685873, 'test_total': 204.0, 'val_acc': 0.852941, 'val_avg_loss': 0.381255, 'val_loss': 77.775977, 'val_total': 204.0}\n",
      "2022-12-22 19:15:23,086 (monitor:936)INFO: Current best: {'test_acc': 0.813725, 'test_avg_loss': 0.469048, 'test_loss': 95.685873, 'test_total': 204.0, 'val_acc': 0.852941, 'val_avg_loss': 0.381255, 'val_loss': 77.775977, 'val_total': 204.0}\n",
      "2022-12-22 19:15:23,090 (server:323)INFO: Server #0: Starting evaluation at the end of round 148.\n",
      "2022-12-22 19:15:23,091 (server:330)INFO: ----------- Starting a new training round (Round #149) -------------\n",
      "2022-12-22 19:15:23,150 (client:415)INFO: {'Role': 'Client #1', 'Round': 149, 'Results_raw': {'test_acc': 0.813725, 'test_avg_loss': 0.472683, 'test_loss': 96.427234, 'test_total': 204, 'val_acc': 0.852941, 'val_avg_loss': 0.376083, 'val_loss': 76.720867, 'val_total': 204}}\n",
      "2022-12-22 19:15:23,151 (monitor:936)INFO: Current best: {'test_acc': 0.813725, 'test_avg_loss': 0.472683, 'test_loss': 96.427234, 'test_total': 204, 'val_acc': 0.852941, 'val_avg_loss': 0.376083, 'val_loss': 76.720867, 'val_total': 204}\n"
     ]
    },
    {
     "name": "stdout",
     "output_type": "stream",
     "text": [
      "no improve counter: 17\n",
      "self.best_metric: 77.77597725391388\n",
      "no improve counter: 0\n",
      "self.best_metric: 0.3760826792202744\n"
     ]
    },
    {
     "name": "stderr",
     "output_type": "stream",
     "text": [
      "2022-12-22 19:15:23,417 (client:260)INFO: {'Role': 'Client #1', 'Round': 149, 'Results_raw': {'train_acc': 0.858982, 'train_avg_loss': 0.35515, 'train_loss': 579.250448, 'train_total': 1631}}\n",
      "2022-12-22 19:15:23,419 (server:496)INFO: {'Role': 'Server #', 'Round': 149, 'Results_avg': {'test_acc': 0.813725, 'test_avg_loss': 0.472683, 'test_loss': 96.427234, 'test_total': 204.0, 'val_acc': 0.852941, 'val_avg_loss': 0.376083, 'val_loss': 76.720867, 'val_total': 204.0}}\n",
      "2022-12-22 19:15:23,420 (monitor:936)INFO: Current best: {'test_acc': [0.813725], 'test_avg_loss': [0.472683], 'test_loss': [96.427234], 'test_total': [204.0], 'val_acc': [0.852941], 'val_avg_loss': [0.376083], 'val_loss': [76.720867], 'val_total': [204.0]}\n",
      "2022-12-22 19:15:23,421 (monitor:936)INFO: Current best: {'test_acc': 0.813725, 'test_avg_loss': 0.472683, 'test_loss': 96.427234, 'test_total': 204.0, 'val_acc': 0.852941, 'val_avg_loss': 0.376083, 'val_loss': 76.720867, 'val_total': 204.0}\n",
      "2022-12-22 19:15:23,425 (server:323)INFO: Server #0: Starting evaluation at the end of round 149.\n",
      "2022-12-22 19:15:23,427 (server:330)INFO: ----------- Starting a new training round (Round #150) -------------\n",
      "2022-12-22 19:15:23,472 (client:415)INFO: {'Role': 'Client #1', 'Round': 150, 'Results_raw': {'test_acc': 0.808824, 'test_avg_loss': 0.472553, 'test_loss': 96.400838, 'test_total': 204, 'val_acc': 0.848039, 'val_avg_loss': 0.394642, 'val_loss': 80.506955, 'val_total': 204}}\n",
      "2022-12-22 19:15:23,473 (monitor:936)INFO: Current best: {'test_acc': 0.813725, 'test_avg_loss': 0.472683, 'test_loss': 96.427234, 'test_total': 204, 'val_acc': 0.852941, 'val_avg_loss': 0.376083, 'val_loss': 76.720867, 'val_total': 204}\n"
     ]
    },
    {
     "name": "stdout",
     "output_type": "stream",
     "text": [
      "no improve counter: 0\n",
      "self.best_metric: 76.72086656093597\n",
      "no improve counter: 1\n",
      "self.best_metric: 0.3760826792202744\n"
     ]
    },
    {
     "name": "stderr",
     "output_type": "stream",
     "text": [
      "2022-12-22 19:15:23,723 (client:260)INFO: {'Role': 'Client #1', 'Round': 150, 'Results_raw': {'train_acc': 0.857756, 'train_avg_loss': 0.350116, 'train_loss': 571.038998, 'train_total': 1631}}\n",
      "2022-12-22 19:15:23,726 (server:496)INFO: {'Role': 'Server #', 'Round': 150, 'Results_avg': {'test_acc': 0.808824, 'test_avg_loss': 0.472553, 'test_loss': 96.400838, 'test_total': 204.0, 'val_acc': 0.848039, 'val_avg_loss': 0.394642, 'val_loss': 80.506955, 'val_total': 204.0}}\n",
      "2022-12-22 19:15:23,727 (monitor:936)INFO: Current best: {'test_acc': 0.813725, 'test_avg_loss': 0.472683, 'test_loss': 96.427234, 'test_total': 204.0, 'val_acc': 0.852941, 'val_avg_loss': 0.376083, 'val_loss': 76.720867, 'val_total': 204.0}\n",
      "2022-12-22 19:15:23,729 (monitor:936)INFO: Current best: {'test_acc': 0.813725, 'test_avg_loss': 0.472683, 'test_loss': 96.427234, 'test_total': 204.0, 'val_acc': 0.852941, 'val_avg_loss': 0.376083, 'val_loss': 76.720867, 'val_total': 204.0}\n",
      "2022-12-22 19:15:23,732 (server:323)INFO: Server #0: Starting evaluation at the end of round 150.\n",
      "2022-12-22 19:15:23,733 (server:330)INFO: ----------- Starting a new training round (Round #151) -------------\n",
      "2022-12-22 19:15:23,793 (client:415)INFO: {'Role': 'Client #1', 'Round': 151, 'Results_raw': {'test_acc': 0.803922, 'test_avg_loss': 0.497155, 'test_loss': 101.419602, 'test_total': 204, 'val_acc': 0.823529, 'val_avg_loss': 0.391772, 'val_loss': 79.921523, 'val_total': 204}}\n",
      "2022-12-22 19:15:23,794 (monitor:936)INFO: Current best: {'test_acc': 0.813725, 'test_avg_loss': 0.472683, 'test_loss': 96.427234, 'test_total': 204, 'val_acc': 0.852941, 'val_avg_loss': 0.376083, 'val_loss': 76.720867, 'val_total': 204}\n"
     ]
    },
    {
     "name": "stdout",
     "output_type": "stream",
     "text": [
      "no improve counter: 1\n",
      "self.best_metric: 76.72086656093597\n",
      "no improve counter: 2\n",
      "self.best_metric: 0.3760826792202744\n"
     ]
    },
    {
     "name": "stderr",
     "output_type": "stream",
     "text": [
      "2022-12-22 19:15:24,069 (client:260)INFO: {'Role': 'Client #1', 'Round': 151, 'Results_raw': {'train_acc': 0.863887, 'train_avg_loss': 0.346412, 'train_loss': 564.997501, 'train_total': 1631}}\n",
      "2022-12-22 19:15:24,070 (server:496)INFO: {'Role': 'Server #', 'Round': 151, 'Results_avg': {'test_acc': 0.803922, 'test_avg_loss': 0.497155, 'test_loss': 101.419602, 'test_total': 204.0, 'val_acc': 0.823529, 'val_avg_loss': 0.391772, 'val_loss': 79.921523, 'val_total': 204.0}}\n",
      "2022-12-22 19:15:24,071 (monitor:936)INFO: Current best: {'test_acc': 0.813725, 'test_avg_loss': 0.472683, 'test_loss': 96.427234, 'test_total': 204.0, 'val_acc': 0.852941, 'val_avg_loss': 0.376083, 'val_loss': 76.720867, 'val_total': 204.0}\n",
      "2022-12-22 19:15:24,072 (monitor:936)INFO: Current best: {'test_acc': 0.813725, 'test_avg_loss': 0.472683, 'test_loss': 96.427234, 'test_total': 204.0, 'val_acc': 0.852941, 'val_avg_loss': 0.376083, 'val_loss': 76.720867, 'val_total': 204.0}\n",
      "2022-12-22 19:15:24,074 (server:323)INFO: Server #0: Starting evaluation at the end of round 151.\n",
      "2022-12-22 19:15:24,076 (server:330)INFO: ----------- Starting a new training round (Round #152) -------------\n",
      "2022-12-22 19:15:24,129 (client:415)INFO: {'Role': 'Client #1', 'Round': 152, 'Results_raw': {'test_acc': 0.789216, 'test_avg_loss': 0.531147, 'test_loss': 108.35392, 'test_total': 204, 'val_acc': 0.79902, 'val_avg_loss': 0.42003, 'val_loss': 85.686122, 'val_total': 204}}\n",
      "2022-12-22 19:15:24,130 (monitor:936)INFO: Current best: {'test_acc': 0.813725, 'test_avg_loss': 0.472683, 'test_loss': 96.427234, 'test_total': 204, 'val_acc': 0.852941, 'val_avg_loss': 0.376083, 'val_loss': 76.720867, 'val_total': 204}\n"
     ]
    },
    {
     "name": "stdout",
     "output_type": "stream",
     "text": [
      "no improve counter: 2\n",
      "self.best_metric: 76.72086656093597\n",
      "no improve counter: 3\n",
      "self.best_metric: 0.3760826792202744\n"
     ]
    },
    {
     "name": "stderr",
     "output_type": "stream",
     "text": [
      "2022-12-22 19:15:24,399 (client:260)INFO: {'Role': 'Client #1', 'Round': 152, 'Results_raw': {'train_acc': 0.868179, 'train_avg_loss': 0.345532, 'train_loss': 563.563244, 'train_total': 1631}}\n",
      "2022-12-22 19:15:24,402 (server:496)INFO: {'Role': 'Server #', 'Round': 152, 'Results_avg': {'test_acc': 0.789216, 'test_avg_loss': 0.531147, 'test_loss': 108.35392, 'test_total': 204.0, 'val_acc': 0.79902, 'val_avg_loss': 0.42003, 'val_loss': 85.686122, 'val_total': 204.0}}\n",
      "2022-12-22 19:15:24,403 (monitor:936)INFO: Current best: {'test_acc': 0.813725, 'test_avg_loss': 0.472683, 'test_loss': 96.427234, 'test_total': 204.0, 'val_acc': 0.852941, 'val_avg_loss': 0.376083, 'val_loss': 76.720867, 'val_total': 204.0}\n",
      "2022-12-22 19:15:24,405 (monitor:936)INFO: Current best: {'test_acc': 0.813725, 'test_avg_loss': 0.472683, 'test_loss': 96.427234, 'test_total': 204.0, 'val_acc': 0.852941, 'val_avg_loss': 0.376083, 'val_loss': 76.720867, 'val_total': 204.0}\n",
      "2022-12-22 19:15:24,406 (server:323)INFO: Server #0: Starting evaluation at the end of round 152.\n",
      "2022-12-22 19:15:24,407 (server:330)INFO: ----------- Starting a new training round (Round #153) -------------\n",
      "2022-12-22 19:15:24,458 (client:415)INFO: {'Role': 'Client #1', 'Round': 153, 'Results_raw': {'test_acc': 0.803922, 'test_avg_loss': 0.472565, 'test_loss': 96.403233, 'test_total': 204, 'val_acc': 0.838235, 'val_avg_loss': 0.375375, 'val_loss': 76.576455, 'val_total': 204}}\n",
      "2022-12-22 19:15:24,459 (monitor:936)INFO: Current best: {'test_acc': 0.803922, 'test_avg_loss': 0.472565, 'test_loss': 96.403233, 'test_total': 204, 'val_acc': 0.838235, 'val_avg_loss': 0.375375, 'val_loss': 76.576455, 'val_total': 204}\n"
     ]
    },
    {
     "name": "stdout",
     "output_type": "stream",
     "text": [
      "no improve counter: 3\n",
      "self.best_metric: 76.72086656093597\n",
      "no improve counter: 0\n",
      "self.best_metric: 0.37537477822864757\n"
     ]
    },
    {
     "name": "stderr",
     "output_type": "stream",
     "text": [
      "2022-12-22 19:15:24,734 (client:260)INFO: {'Role': 'Client #1', 'Round': 153, 'Results_raw': {'train_acc': 0.860822, 'train_avg_loss': 0.344338, 'train_loss': 561.615732, 'train_total': 1631}}\n",
      "2022-12-22 19:15:24,735 (server:496)INFO: {'Role': 'Server #', 'Round': 153, 'Results_avg': {'test_acc': 0.803922, 'test_avg_loss': 0.472565, 'test_loss': 96.403233, 'test_total': 204.0, 'val_acc': 0.838235, 'val_avg_loss': 0.375375, 'val_loss': 76.576455, 'val_total': 204.0}}\n",
      "2022-12-22 19:15:24,736 (monitor:936)INFO: Current best: {'test_acc': [0.803922], 'test_avg_loss': [0.472565], 'test_loss': [96.403233], 'test_total': [204.0], 'val_acc': [0.838235], 'val_avg_loss': [0.375375], 'val_loss': [76.576455], 'val_total': [204.0]}\n",
      "2022-12-22 19:15:24,738 (monitor:936)INFO: Current best: {'test_acc': 0.803922, 'test_avg_loss': 0.472565, 'test_loss': 96.403233, 'test_total': 204.0, 'val_acc': 0.838235, 'val_avg_loss': 0.375375, 'val_loss': 76.576455, 'val_total': 204.0}\n",
      "2022-12-22 19:15:24,740 (server:323)INFO: Server #0: Starting evaluation at the end of round 153.\n",
      "2022-12-22 19:15:24,741 (server:330)INFO: ----------- Starting a new training round (Round #154) -------------\n",
      "2022-12-22 19:15:24,814 (client:415)INFO: {'Role': 'Client #1', 'Round': 154, 'Results_raw': {'test_acc': 0.813725, 'test_avg_loss': 0.470222, 'test_loss': 95.925279, 'test_total': 204, 'val_acc': 0.838235, 'val_avg_loss': 0.394833, 'val_loss': 80.545955, 'val_total': 204}}\n",
      "2022-12-22 19:15:24,815 (monitor:936)INFO: Current best: {'test_acc': 0.803922, 'test_avg_loss': 0.472565, 'test_loss': 96.403233, 'test_total': 204, 'val_acc': 0.838235, 'val_avg_loss': 0.375375, 'val_loss': 76.576455, 'val_total': 204}\n"
     ]
    },
    {
     "name": "stdout",
     "output_type": "stream",
     "text": [
      "no improve counter: 0\n",
      "self.best_metric: 76.5764547586441\n",
      "no improve counter: 1\n",
      "self.best_metric: 0.37537477822864757\n"
     ]
    },
    {
     "name": "stderr",
     "output_type": "stream",
     "text": [
      "2022-12-22 19:15:25,082 (client:260)INFO: {'Role': 'Client #1', 'Round': 154, 'Results_raw': {'train_acc': 0.857143, 'train_avg_loss': 0.355521, 'train_loss': 579.85468, 'train_total': 1631}}\n",
      "2022-12-22 19:15:25,083 (server:496)INFO: {'Role': 'Server #', 'Round': 154, 'Results_avg': {'test_acc': 0.813725, 'test_avg_loss': 0.470222, 'test_loss': 95.925279, 'test_total': 204.0, 'val_acc': 0.838235, 'val_avg_loss': 0.394833, 'val_loss': 80.545955, 'val_total': 204.0}}\n",
      "2022-12-22 19:15:25,084 (monitor:936)INFO: Current best: {'test_acc': 0.803922, 'test_avg_loss': 0.472565, 'test_loss': 96.403233, 'test_total': 204.0, 'val_acc': 0.838235, 'val_avg_loss': 0.375375, 'val_loss': 76.576455, 'val_total': 204.0}\n",
      "2022-12-22 19:15:25,086 (monitor:936)INFO: Current best: {'test_acc': 0.803922, 'test_avg_loss': 0.472565, 'test_loss': 96.403233, 'test_total': 204.0, 'val_acc': 0.838235, 'val_avg_loss': 0.375375, 'val_loss': 76.576455, 'val_total': 204.0}\n",
      "2022-12-22 19:15:25,089 (server:323)INFO: Server #0: Starting evaluation at the end of round 154.\n",
      "2022-12-22 19:15:25,090 (server:330)INFO: ----------- Starting a new training round (Round #155) -------------\n",
      "2022-12-22 19:15:25,160 (client:415)INFO: {'Role': 'Client #1', 'Round': 155, 'Results_raw': {'test_acc': 0.803922, 'test_avg_loss': 0.50587, 'test_loss': 103.197543, 'test_total': 204, 'val_acc': 0.79902, 'val_avg_loss': 0.406776, 'val_loss': 82.982394, 'val_total': 204}}\n",
      "2022-12-22 19:15:25,161 (monitor:936)INFO: Current best: {'test_acc': 0.803922, 'test_avg_loss': 0.472565, 'test_loss': 96.403233, 'test_total': 204, 'val_acc': 0.838235, 'val_avg_loss': 0.375375, 'val_loss': 76.576455, 'val_total': 204}\n"
     ]
    },
    {
     "name": "stdout",
     "output_type": "stream",
     "text": [
      "no improve counter: 1\n",
      "self.best_metric: 76.5764547586441\n",
      "no improve counter: 2\n",
      "self.best_metric: 0.37537477822864757\n"
     ]
    },
    {
     "name": "stderr",
     "output_type": "stream",
     "text": [
      "2022-12-22 19:15:25,409 (client:260)INFO: {'Role': 'Client #1', 'Round': 155, 'Results_raw': {'train_acc': 0.855917, 'train_avg_loss': 0.3589, 'train_loss': 585.365616, 'train_total': 1631}}\n",
      "2022-12-22 19:15:25,411 (server:496)INFO: {'Role': 'Server #', 'Round': 155, 'Results_avg': {'test_acc': 0.803922, 'test_avg_loss': 0.50587, 'test_loss': 103.197543, 'test_total': 204.0, 'val_acc': 0.79902, 'val_avg_loss': 0.406776, 'val_loss': 82.982394, 'val_total': 204.0}}\n",
      "2022-12-22 19:15:25,412 (monitor:936)INFO: Current best: {'test_acc': 0.803922, 'test_avg_loss': 0.472565, 'test_loss': 96.403233, 'test_total': 204.0, 'val_acc': 0.838235, 'val_avg_loss': 0.375375, 'val_loss': 76.576455, 'val_total': 204.0}\n",
      "2022-12-22 19:15:25,414 (monitor:936)INFO: Current best: {'test_acc': 0.803922, 'test_avg_loss': 0.472565, 'test_loss': 96.403233, 'test_total': 204.0, 'val_acc': 0.838235, 'val_avg_loss': 0.375375, 'val_loss': 76.576455, 'val_total': 204.0}\n",
      "2022-12-22 19:15:25,416 (server:323)INFO: Server #0: Starting evaluation at the end of round 155.\n",
      "2022-12-22 19:15:25,417 (server:330)INFO: ----------- Starting a new training round (Round #156) -------------\n",
      "2022-12-22 19:15:25,466 (client:415)INFO: {'Role': 'Client #1', 'Round': 156, 'Results_raw': {'test_acc': 0.79902, 'test_avg_loss': 0.511653, 'test_loss': 104.377226, 'test_total': 204, 'val_acc': 0.79902, 'val_avg_loss': 0.41503, 'val_loss': 84.666195, 'val_total': 204}}\n",
      "2022-12-22 19:15:25,467 (monitor:936)INFO: Current best: {'test_acc': 0.803922, 'test_avg_loss': 0.472565, 'test_loss': 96.403233, 'test_total': 204, 'val_acc': 0.838235, 'val_avg_loss': 0.375375, 'val_loss': 76.576455, 'val_total': 204}\n"
     ]
    },
    {
     "name": "stdout",
     "output_type": "stream",
     "text": [
      "no improve counter: 2\n",
      "self.best_metric: 76.5764547586441\n",
      "no improve counter: 3\n",
      "self.best_metric: 0.37537477822864757\n"
     ]
    },
    {
     "name": "stderr",
     "output_type": "stream",
     "text": [
      "2022-12-22 19:15:25,720 (client:260)INFO: {'Role': 'Client #1', 'Round': 156, 'Results_raw': {'train_acc': 0.865113, 'train_avg_loss': 0.348343, 'train_loss': 568.14694, 'train_total': 1631}}\n",
      "2022-12-22 19:15:25,722 (server:496)INFO: {'Role': 'Server #', 'Round': 156, 'Results_avg': {'test_acc': 0.79902, 'test_avg_loss': 0.511653, 'test_loss': 104.377226, 'test_total': 204.0, 'val_acc': 0.79902, 'val_avg_loss': 0.41503, 'val_loss': 84.666195, 'val_total': 204.0}}\n",
      "2022-12-22 19:15:25,723 (monitor:936)INFO: Current best: {'test_acc': 0.803922, 'test_avg_loss': 0.472565, 'test_loss': 96.403233, 'test_total': 204.0, 'val_acc': 0.838235, 'val_avg_loss': 0.375375, 'val_loss': 76.576455, 'val_total': 204.0}\n",
      "2022-12-22 19:15:25,725 (monitor:936)INFO: Current best: {'test_acc': 0.803922, 'test_avg_loss': 0.472565, 'test_loss': 96.403233, 'test_total': 204.0, 'val_acc': 0.838235, 'val_avg_loss': 0.375375, 'val_loss': 76.576455, 'val_total': 204.0}\n",
      "2022-12-22 19:15:25,728 (server:323)INFO: Server #0: Starting evaluation at the end of round 156.\n",
      "2022-12-22 19:15:25,729 (server:330)INFO: ----------- Starting a new training round (Round #157) -------------\n",
      "2022-12-22 19:15:25,785 (client:415)INFO: {'Role': 'Client #1', 'Round': 157, 'Results_raw': {'test_acc': 0.79902, 'test_avg_loss': 0.494372, 'test_loss': 100.851953, 'test_total': 204, 'val_acc': 0.828431, 'val_avg_loss': 0.377824, 'val_loss': 77.076175, 'val_total': 204}}\n",
      "2022-12-22 19:15:25,786 (monitor:936)INFO: Current best: {'test_acc': 0.803922, 'test_avg_loss': 0.472565, 'test_loss': 96.403233, 'test_total': 204, 'val_acc': 0.838235, 'val_avg_loss': 0.375375, 'val_loss': 76.576455, 'val_total': 204}\n"
     ]
    },
    {
     "name": "stdout",
     "output_type": "stream",
     "text": [
      "no improve counter: 3\n",
      "self.best_metric: 76.5764547586441\n",
      "no improve counter: 4\n",
      "self.best_metric: 0.37537477822864757\n"
     ]
    },
    {
     "name": "stderr",
     "output_type": "stream",
     "text": [
      "2022-12-22 19:15:26,067 (client:260)INFO: {'Role': 'Client #1', 'Round': 157, 'Results_raw': {'train_acc': 0.860822, 'train_avg_loss': 0.351971, 'train_loss': 574.064185, 'train_total': 1631}}\n",
      "2022-12-22 19:15:26,069 (server:496)INFO: {'Role': 'Server #', 'Round': 157, 'Results_avg': {'test_acc': 0.79902, 'test_avg_loss': 0.494372, 'test_loss': 100.851953, 'test_total': 204.0, 'val_acc': 0.828431, 'val_avg_loss': 0.377824, 'val_loss': 77.076175, 'val_total': 204.0}}\n",
      "2022-12-22 19:15:26,069 (monitor:936)INFO: Current best: {'test_acc': 0.803922, 'test_avg_loss': 0.472565, 'test_loss': 96.403233, 'test_total': 204.0, 'val_acc': 0.838235, 'val_avg_loss': 0.375375, 'val_loss': 76.576455, 'val_total': 204.0}\n",
      "2022-12-22 19:15:26,070 (monitor:936)INFO: Current best: {'test_acc': 0.803922, 'test_avg_loss': 0.472565, 'test_loss': 96.403233, 'test_total': 204.0, 'val_acc': 0.838235, 'val_avg_loss': 0.375375, 'val_loss': 76.576455, 'val_total': 204.0}\n",
      "2022-12-22 19:15:26,074 (server:323)INFO: Server #0: Starting evaluation at the end of round 157.\n",
      "2022-12-22 19:15:26,075 (server:330)INFO: ----------- Starting a new training round (Round #158) -------------\n",
      "2022-12-22 19:15:26,148 (client:415)INFO: {'Role': 'Client #1', 'Round': 158, 'Results_raw': {'test_acc': 0.808824, 'test_avg_loss': 0.47936, 'test_loss': 97.789539, 'test_total': 204, 'val_acc': 0.833333, 'val_avg_loss': 0.392788, 'val_loss': 80.128712, 'val_total': 204}}\n",
      "2022-12-22 19:15:26,149 (monitor:936)INFO: Current best: {'test_acc': 0.803922, 'test_avg_loss': 0.472565, 'test_loss': 96.403233, 'test_total': 204, 'val_acc': 0.838235, 'val_avg_loss': 0.375375, 'val_loss': 76.576455, 'val_total': 204}\n"
     ]
    },
    {
     "name": "stdout",
     "output_type": "stream",
     "text": [
      "no improve counter: 4\n",
      "self.best_metric: 76.5764547586441\n",
      "no improve counter: 5\n",
      "self.best_metric: 0.37537477822864757\n"
     ]
    },
    {
     "name": "stderr",
     "output_type": "stream",
     "text": [
      "2022-12-22 19:15:26,443 (client:260)INFO: {'Role': 'Client #1', 'Round': 158, 'Results_raw': {'train_acc': 0.860208, 'train_avg_loss': 0.350346, 'train_loss': 571.414748, 'train_total': 1631}}\n",
      "2022-12-22 19:15:26,446 (server:496)INFO: {'Role': 'Server #', 'Round': 158, 'Results_avg': {'test_acc': 0.808824, 'test_avg_loss': 0.47936, 'test_loss': 97.789539, 'test_total': 204.0, 'val_acc': 0.833333, 'val_avg_loss': 0.392788, 'val_loss': 80.128712, 'val_total': 204.0}}\n",
      "2022-12-22 19:15:26,447 (monitor:936)INFO: Current best: {'test_acc': 0.803922, 'test_avg_loss': 0.472565, 'test_loss': 96.403233, 'test_total': 204.0, 'val_acc': 0.838235, 'val_avg_loss': 0.375375, 'val_loss': 76.576455, 'val_total': 204.0}\n",
      "2022-12-22 19:15:26,449 (monitor:936)INFO: Current best: {'test_acc': 0.803922, 'test_avg_loss': 0.472565, 'test_loss': 96.403233, 'test_total': 204.0, 'val_acc': 0.838235, 'val_avg_loss': 0.375375, 'val_loss': 76.576455, 'val_total': 204.0}\n",
      "2022-12-22 19:15:26,450 (server:323)INFO: Server #0: Starting evaluation at the end of round 158.\n",
      "2022-12-22 19:15:26,451 (server:330)INFO: ----------- Starting a new training round (Round #159) -------------\n",
      "2022-12-22 19:15:26,510 (client:415)INFO: {'Role': 'Client #1', 'Round': 159, 'Results_raw': {'test_acc': 0.779412, 'test_avg_loss': 0.522253, 'test_loss': 106.539677, 'test_total': 204, 'val_acc': 0.79902, 'val_avg_loss': 0.406391, 'val_loss': 82.903734, 'val_total': 204}}\n",
      "2022-12-22 19:15:26,511 (monitor:936)INFO: Current best: {'test_acc': 0.803922, 'test_avg_loss': 0.472565, 'test_loss': 96.403233, 'test_total': 204, 'val_acc': 0.838235, 'val_avg_loss': 0.375375, 'val_loss': 76.576455, 'val_total': 204}\n"
     ]
    },
    {
     "name": "stdout",
     "output_type": "stream",
     "text": [
      "no improve counter: 5\n",
      "self.best_metric: 76.5764547586441\n",
      "no improve counter: 6\n",
      "self.best_metric: 0.37537477822864757\n"
     ]
    },
    {
     "name": "stderr",
     "output_type": "stream",
     "text": [
      "2022-12-22 19:15:26,789 (client:260)INFO: {'Role': 'Client #1', 'Round': 159, 'Results_raw': {'train_acc': 0.85469, 'train_avg_loss': 0.355687, 'train_loss': 580.125776, 'train_total': 1631}}\n",
      "2022-12-22 19:15:26,790 (server:496)INFO: {'Role': 'Server #', 'Round': 159, 'Results_avg': {'test_acc': 0.779412, 'test_avg_loss': 0.522253, 'test_loss': 106.539677, 'test_total': 204.0, 'val_acc': 0.79902, 'val_avg_loss': 0.406391, 'val_loss': 82.903734, 'val_total': 204.0}}\n",
      "2022-12-22 19:15:26,791 (monitor:936)INFO: Current best: {'test_acc': 0.803922, 'test_avg_loss': 0.472565, 'test_loss': 96.403233, 'test_total': 204.0, 'val_acc': 0.838235, 'val_avg_loss': 0.375375, 'val_loss': 76.576455, 'val_total': 204.0}\n",
      "2022-12-22 19:15:26,792 (monitor:936)INFO: Current best: {'test_acc': 0.803922, 'test_avg_loss': 0.472565, 'test_loss': 96.403233, 'test_total': 204.0, 'val_acc': 0.838235, 'val_avg_loss': 0.375375, 'val_loss': 76.576455, 'val_total': 204.0}\n",
      "2022-12-22 19:15:26,794 (server:323)INFO: Server #0: Starting evaluation at the end of round 159.\n",
      "2022-12-22 19:15:26,795 (server:330)INFO: ----------- Starting a new training round (Round #160) -------------\n",
      "2022-12-22 19:15:26,847 (client:415)INFO: {'Role': 'Client #1', 'Round': 160, 'Results_raw': {'test_acc': 0.808824, 'test_avg_loss': 0.476599, 'test_loss': 97.22623, 'test_total': 204, 'val_acc': 0.862745, 'val_avg_loss': 0.373026, 'val_loss': 76.097249, 'val_total': 204}}\n",
      "2022-12-22 19:15:26,849 (monitor:936)INFO: Current best: {'test_acc': 0.808824, 'test_avg_loss': 0.476599, 'test_loss': 97.22623, 'test_total': 204, 'val_acc': 0.862745, 'val_avg_loss': 0.373026, 'val_loss': 76.097249, 'val_total': 204}\n"
     ]
    },
    {
     "name": "stdout",
     "output_type": "stream",
     "text": [
      "no improve counter: 6\n",
      "self.best_metric: 76.5764547586441\n",
      "no improve counter: 0\n",
      "self.best_metric: 0.3730257282070085\n"
     ]
    },
    {
     "name": "stderr",
     "output_type": "stream",
     "text": [
      "2022-12-22 19:15:27,085 (client:260)INFO: {'Role': 'Client #1', 'Round': 160, 'Results_raw': {'train_acc': 0.859595, 'train_avg_loss': 0.335866, 'train_loss': 547.79701, 'train_total': 1631}}\n",
      "2022-12-22 19:15:27,088 (server:496)INFO: {'Role': 'Server #', 'Round': 160, 'Results_avg': {'test_acc': 0.808824, 'test_avg_loss': 0.476599, 'test_loss': 97.22623, 'test_total': 204.0, 'val_acc': 0.862745, 'val_avg_loss': 0.373026, 'val_loss': 76.097249, 'val_total': 204.0}}\n",
      "2022-12-22 19:15:27,089 (monitor:936)INFO: Current best: {'test_acc': [0.808824], 'test_avg_loss': [0.476599], 'test_loss': [97.22623], 'test_total': [204.0], 'val_acc': [0.862745], 'val_avg_loss': [0.373026], 'val_loss': [76.097249], 'val_total': [204.0]}\n",
      "2022-12-22 19:15:27,090 (monitor:936)INFO: Current best: {'test_acc': 0.808824, 'test_avg_loss': 0.476599, 'test_loss': 97.22623, 'test_total': 204.0, 'val_acc': 0.862745, 'val_avg_loss': 0.373026, 'val_loss': 76.097249, 'val_total': 204.0}\n",
      "2022-12-22 19:15:27,092 (server:323)INFO: Server #0: Starting evaluation at the end of round 160.\n",
      "2022-12-22 19:15:27,093 (server:330)INFO: ----------- Starting a new training round (Round #161) -------------\n",
      "2022-12-22 19:15:27,144 (client:415)INFO: {'Role': 'Client #1', 'Round': 161, 'Results_raw': {'test_acc': 0.79902, 'test_avg_loss': 0.478735, 'test_loss': 97.661977, 'test_total': 204, 'val_acc': 0.843137, 'val_avg_loss': 0.381442, 'val_loss': 77.814093, 'val_total': 204}}\n",
      "2022-12-22 19:15:27,146 (monitor:936)INFO: Current best: {'test_acc': 0.808824, 'test_avg_loss': 0.476599, 'test_loss': 97.22623, 'test_total': 204, 'val_acc': 0.862745, 'val_avg_loss': 0.373026, 'val_loss': 76.097249, 'val_total': 204}\n"
     ]
    },
    {
     "name": "stdout",
     "output_type": "stream",
     "text": [
      "no improve counter: 0\n",
      "self.best_metric: 76.09724855422974\n",
      "no improve counter: 1\n",
      "self.best_metric: 0.3730257282070085\n"
     ]
    },
    {
     "name": "stderr",
     "output_type": "stream",
     "text": [
      "2022-12-22 19:15:27,430 (client:260)INFO: {'Role': 'Client #1', 'Round': 161, 'Results_raw': {'train_acc': 0.863887, 'train_avg_loss': 0.345854, 'train_loss': 564.088404, 'train_total': 1631}}\n",
      "2022-12-22 19:15:27,432 (server:496)INFO: {'Role': 'Server #', 'Round': 161, 'Results_avg': {'test_acc': 0.79902, 'test_avg_loss': 0.478735, 'test_loss': 97.661977, 'test_total': 204.0, 'val_acc': 0.843137, 'val_avg_loss': 0.381442, 'val_loss': 77.814093, 'val_total': 204.0}}\n",
      "2022-12-22 19:15:27,432 (monitor:936)INFO: Current best: {'test_acc': 0.808824, 'test_avg_loss': 0.476599, 'test_loss': 97.22623, 'test_total': 204.0, 'val_acc': 0.862745, 'val_avg_loss': 0.373026, 'val_loss': 76.097249, 'val_total': 204.0}\n",
      "2022-12-22 19:15:27,433 (monitor:936)INFO: Current best: {'test_acc': 0.808824, 'test_avg_loss': 0.476599, 'test_loss': 97.22623, 'test_total': 204.0, 'val_acc': 0.862745, 'val_avg_loss': 0.373026, 'val_loss': 76.097249, 'val_total': 204.0}\n",
      "2022-12-22 19:15:27,436 (server:323)INFO: Server #0: Starting evaluation at the end of round 161.\n",
      "2022-12-22 19:15:27,437 (server:330)INFO: ----------- Starting a new training round (Round #162) -------------\n",
      "2022-12-22 19:15:27,493 (client:415)INFO: {'Role': 'Client #1', 'Round': 162, 'Results_raw': {'test_acc': 0.79902, 'test_avg_loss': 0.50317, 'test_loss': 102.64668, 'test_total': 204, 'val_acc': 0.833333, 'val_avg_loss': 0.39216, 'val_loss': 80.000562, 'val_total': 204}}\n",
      "2022-12-22 19:15:27,494 (monitor:936)INFO: Current best: {'test_acc': 0.808824, 'test_avg_loss': 0.476599, 'test_loss': 97.22623, 'test_total': 204, 'val_acc': 0.862745, 'val_avg_loss': 0.373026, 'val_loss': 76.097249, 'val_total': 204}\n"
     ]
    },
    {
     "name": "stdout",
     "output_type": "stream",
     "text": [
      "no improve counter: 1\n",
      "self.best_metric: 76.09724855422974\n",
      "no improve counter: 2\n",
      "self.best_metric: 0.3730257282070085\n"
     ]
    },
    {
     "name": "stderr",
     "output_type": "stream",
     "text": [
      "2022-12-22 19:15:27,751 (client:260)INFO: {'Role': 'Client #1', 'Round': 162, 'Results_raw': {'train_acc': 0.859595, 'train_avg_loss': 0.355152, 'train_loss': 579.25317, 'train_total': 1631}}\n",
      "2022-12-22 19:15:27,753 (server:496)INFO: {'Role': 'Server #', 'Round': 162, 'Results_avg': {'test_acc': 0.79902, 'test_avg_loss': 0.50317, 'test_loss': 102.64668, 'test_total': 204.0, 'val_acc': 0.833333, 'val_avg_loss': 0.39216, 'val_loss': 80.000562, 'val_total': 204.0}}\n",
      "2022-12-22 19:15:27,755 (monitor:936)INFO: Current best: {'test_acc': 0.808824, 'test_avg_loss': 0.476599, 'test_loss': 97.22623, 'test_total': 204.0, 'val_acc': 0.862745, 'val_avg_loss': 0.373026, 'val_loss': 76.097249, 'val_total': 204.0}\n",
      "2022-12-22 19:15:27,756 (monitor:936)INFO: Current best: {'test_acc': 0.808824, 'test_avg_loss': 0.476599, 'test_loss': 97.22623, 'test_total': 204.0, 'val_acc': 0.862745, 'val_avg_loss': 0.373026, 'val_loss': 76.097249, 'val_total': 204.0}\n",
      "2022-12-22 19:15:27,758 (server:323)INFO: Server #0: Starting evaluation at the end of round 162.\n",
      "2022-12-22 19:15:27,759 (server:330)INFO: ----------- Starting a new training round (Round #163) -------------\n",
      "2022-12-22 19:15:27,810 (client:415)INFO: {'Role': 'Client #1', 'Round': 163, 'Results_raw': {'test_acc': 0.79902, 'test_avg_loss': 0.485753, 'test_loss': 99.093577, 'test_total': 204, 'val_acc': 0.823529, 'val_avg_loss': 0.399787, 'val_loss': 81.556648, 'val_total': 204}}\n",
      "2022-12-22 19:15:27,811 (monitor:936)INFO: Current best: {'test_acc': 0.808824, 'test_avg_loss': 0.476599, 'test_loss': 97.22623, 'test_total': 204, 'val_acc': 0.862745, 'val_avg_loss': 0.373026, 'val_loss': 76.097249, 'val_total': 204}\n"
     ]
    },
    {
     "name": "stdout",
     "output_type": "stream",
     "text": [
      "no improve counter: 2\n",
      "self.best_metric: 76.09724855422974\n",
      "no improve counter: 3\n",
      "self.best_metric: 0.3730257282070085\n"
     ]
    },
    {
     "name": "stderr",
     "output_type": "stream",
     "text": [
      "2022-12-22 19:15:28,099 (client:260)INFO: {'Role': 'Client #1', 'Round': 163, 'Results_raw': {'train_acc': 0.857143, 'train_avg_loss': 0.358524, 'train_loss': 584.752516, 'train_total': 1631}}\n",
      "2022-12-22 19:15:28,101 (server:496)INFO: {'Role': 'Server #', 'Round': 163, 'Results_avg': {'test_acc': 0.79902, 'test_avg_loss': 0.485753, 'test_loss': 99.093577, 'test_total': 204.0, 'val_acc': 0.823529, 'val_avg_loss': 0.399787, 'val_loss': 81.556648, 'val_total': 204.0}}\n",
      "2022-12-22 19:15:28,103 (monitor:936)INFO: Current best: {'test_acc': 0.808824, 'test_avg_loss': 0.476599, 'test_loss': 97.22623, 'test_total': 204.0, 'val_acc': 0.862745, 'val_avg_loss': 0.373026, 'val_loss': 76.097249, 'val_total': 204.0}\n",
      "2022-12-22 19:15:28,105 (monitor:936)INFO: Current best: {'test_acc': 0.808824, 'test_avg_loss': 0.476599, 'test_loss': 97.22623, 'test_total': 204.0, 'val_acc': 0.862745, 'val_avg_loss': 0.373026, 'val_loss': 76.097249, 'val_total': 204.0}\n",
      "2022-12-22 19:15:28,108 (server:323)INFO: Server #0: Starting evaluation at the end of round 163.\n",
      "2022-12-22 19:15:28,109 (server:330)INFO: ----------- Starting a new training round (Round #164) -------------\n",
      "2022-12-22 19:15:28,175 (client:415)INFO: {'Role': 'Client #1', 'Round': 164, 'Results_raw': {'test_acc': 0.803922, 'test_avg_loss': 0.485104, 'test_loss': 98.961273, 'test_total': 204, 'val_acc': 0.838235, 'val_avg_loss': 0.38252, 'val_loss': 78.034004, 'val_total': 204}}\n",
      "2022-12-22 19:15:28,176 (monitor:936)INFO: Current best: {'test_acc': 0.808824, 'test_avg_loss': 0.476599, 'test_loss': 97.22623, 'test_total': 204, 'val_acc': 0.862745, 'val_avg_loss': 0.373026, 'val_loss': 76.097249, 'val_total': 204}\n"
     ]
    },
    {
     "name": "stdout",
     "output_type": "stream",
     "text": [
      "no improve counter: 3\n",
      "self.best_metric: 76.09724855422974\n",
      "no improve counter: 4\n",
      "self.best_metric: 0.3730257282070085\n"
     ]
    },
    {
     "name": "stderr",
     "output_type": "stream",
     "text": [
      "2022-12-22 19:15:28,455 (client:260)INFO: {'Role': 'Client #1', 'Round': 164, 'Results_raw': {'train_acc': 0.860822, 'train_avg_loss': 0.347684, 'train_loss': 567.073036, 'train_total': 1631}}\n",
      "2022-12-22 19:15:28,456 (server:496)INFO: {'Role': 'Server #', 'Round': 164, 'Results_avg': {'test_acc': 0.803922, 'test_avg_loss': 0.485104, 'test_loss': 98.961273, 'test_total': 204.0, 'val_acc': 0.838235, 'val_avg_loss': 0.38252, 'val_loss': 78.034004, 'val_total': 204.0}}\n",
      "2022-12-22 19:15:28,457 (monitor:936)INFO: Current best: {'test_acc': 0.808824, 'test_avg_loss': 0.476599, 'test_loss': 97.22623, 'test_total': 204.0, 'val_acc': 0.862745, 'val_avg_loss': 0.373026, 'val_loss': 76.097249, 'val_total': 204.0}\n",
      "2022-12-22 19:15:28,459 (monitor:936)INFO: Current best: {'test_acc': 0.808824, 'test_avg_loss': 0.476599, 'test_loss': 97.22623, 'test_total': 204.0, 'val_acc': 0.862745, 'val_avg_loss': 0.373026, 'val_loss': 76.097249, 'val_total': 204.0}\n",
      "2022-12-22 19:15:28,460 (server:323)INFO: Server #0: Starting evaluation at the end of round 164.\n",
      "2022-12-22 19:15:28,461 (server:330)INFO: ----------- Starting a new training round (Round #165) -------------\n",
      "2022-12-22 19:15:28,515 (client:415)INFO: {'Role': 'Client #1', 'Round': 165, 'Results_raw': {'test_acc': 0.808824, 'test_avg_loss': 0.505829, 'test_loss': 103.189192, 'test_total': 204, 'val_acc': 0.843137, 'val_avg_loss': 0.383506, 'val_loss': 78.235159, 'val_total': 204}}\n",
      "2022-12-22 19:15:28,517 (monitor:936)INFO: Current best: {'test_acc': 0.808824, 'test_avg_loss': 0.476599, 'test_loss': 97.22623, 'test_total': 204, 'val_acc': 0.862745, 'val_avg_loss': 0.373026, 'val_loss': 76.097249, 'val_total': 204}\n"
     ]
    },
    {
     "name": "stdout",
     "output_type": "stream",
     "text": [
      "no improve counter: 4\n",
      "self.best_metric: 76.09724855422974\n",
      "no improve counter: 5\n",
      "self.best_metric: 0.3730257282070085\n"
     ]
    },
    {
     "name": "stderr",
     "output_type": "stream",
     "text": [
      "2022-12-22 19:15:28,768 (client:260)INFO: {'Role': 'Client #1', 'Round': 165, 'Results_raw': {'train_acc': 0.863887, 'train_avg_loss': 0.348232, 'train_loss': 567.965651, 'train_total': 1631}}\n",
      "2022-12-22 19:15:28,769 (server:496)INFO: {'Role': 'Server #', 'Round': 165, 'Results_avg': {'test_acc': 0.808824, 'test_avg_loss': 0.505829, 'test_loss': 103.189192, 'test_total': 204.0, 'val_acc': 0.843137, 'val_avg_loss': 0.383506, 'val_loss': 78.235159, 'val_total': 204.0}}\n",
      "2022-12-22 19:15:28,770 (monitor:936)INFO: Current best: {'test_acc': 0.808824, 'test_avg_loss': 0.476599, 'test_loss': 97.22623, 'test_total': 204.0, 'val_acc': 0.862745, 'val_avg_loss': 0.373026, 'val_loss': 76.097249, 'val_total': 204.0}\n",
      "2022-12-22 19:15:28,771 (monitor:936)INFO: Current best: {'test_acc': 0.808824, 'test_avg_loss': 0.476599, 'test_loss': 97.22623, 'test_total': 204.0, 'val_acc': 0.862745, 'val_avg_loss': 0.373026, 'val_loss': 76.097249, 'val_total': 204.0}\n",
      "2022-12-22 19:15:28,775 (server:323)INFO: Server #0: Starting evaluation at the end of round 165.\n",
      "2022-12-22 19:15:28,776 (server:330)INFO: ----------- Starting a new training round (Round #166) -------------\n",
      "2022-12-22 19:15:28,835 (client:415)INFO: {'Role': 'Client #1', 'Round': 166, 'Results_raw': {'test_acc': 0.808824, 'test_avg_loss': 0.491426, 'test_loss': 100.250864, 'test_total': 204, 'val_acc': 0.833333, 'val_avg_loss': 0.395572, 'val_loss': 80.69664, 'val_total': 204}}\n",
      "2022-12-22 19:15:28,836 (monitor:936)INFO: Current best: {'test_acc': 0.808824, 'test_avg_loss': 0.476599, 'test_loss': 97.22623, 'test_total': 204, 'val_acc': 0.862745, 'val_avg_loss': 0.373026, 'val_loss': 76.097249, 'val_total': 204}\n"
     ]
    },
    {
     "name": "stdout",
     "output_type": "stream",
     "text": [
      "no improve counter: 5\n",
      "self.best_metric: 76.09724855422974\n",
      "no improve counter: 6\n",
      "self.best_metric: 0.3730257282070085\n"
     ]
    },
    {
     "name": "stderr",
     "output_type": "stream",
     "text": [
      "2022-12-22 19:15:29,116 (client:260)INFO: {'Role': 'Client #1', 'Round': 166, 'Results_raw': {'train_acc': 0.857143, 'train_avg_loss': 0.354618, 'train_loss': 578.381631, 'train_total': 1631}}\n",
      "2022-12-22 19:15:29,118 (server:496)INFO: {'Role': 'Server #', 'Round': 166, 'Results_avg': {'test_acc': 0.808824, 'test_avg_loss': 0.491426, 'test_loss': 100.250864, 'test_total': 204.0, 'val_acc': 0.833333, 'val_avg_loss': 0.395572, 'val_loss': 80.69664, 'val_total': 204.0}}\n",
      "2022-12-22 19:15:29,119 (monitor:936)INFO: Current best: {'test_acc': 0.808824, 'test_avg_loss': 0.476599, 'test_loss': 97.22623, 'test_total': 204.0, 'val_acc': 0.862745, 'val_avg_loss': 0.373026, 'val_loss': 76.097249, 'val_total': 204.0}\n",
      "2022-12-22 19:15:29,122 (monitor:936)INFO: Current best: {'test_acc': 0.808824, 'test_avg_loss': 0.476599, 'test_loss': 97.22623, 'test_total': 204.0, 'val_acc': 0.862745, 'val_avg_loss': 0.373026, 'val_loss': 76.097249, 'val_total': 204.0}\n",
      "2022-12-22 19:15:29,124 (server:323)INFO: Server #0: Starting evaluation at the end of round 166.\n",
      "2022-12-22 19:15:29,125 (server:330)INFO: ----------- Starting a new training round (Round #167) -------------\n",
      "2022-12-22 19:15:29,192 (client:415)INFO: {'Role': 'Client #1', 'Round': 167, 'Results_raw': {'test_acc': 0.769608, 'test_avg_loss': 0.574379, 'test_loss': 117.173378, 'test_total': 204, 'val_acc': 0.789216, 'val_avg_loss': 0.443191, 'val_loss': 90.411036, 'val_total': 204}}\n",
      "2022-12-22 19:15:29,193 (monitor:936)INFO: Current best: {'test_acc': 0.808824, 'test_avg_loss': 0.476599, 'test_loss': 97.22623, 'test_total': 204, 'val_acc': 0.862745, 'val_avg_loss': 0.373026, 'val_loss': 76.097249, 'val_total': 204}\n"
     ]
    },
    {
     "name": "stdout",
     "output_type": "stream",
     "text": [
      "no improve counter: 6\n",
      "self.best_metric: 76.09724855422974\n",
      "no improve counter: 7\n",
      "self.best_metric: 0.3730257282070085\n"
     ]
    },
    {
     "name": "stderr",
     "output_type": "stream",
     "text": [
      "2022-12-22 19:15:29,489 (client:260)INFO: {'Role': 'Client #1', 'Round': 167, 'Results_raw': {'train_acc': 0.860822, 'train_avg_loss': 0.35006, 'train_loss': 570.948669, 'train_total': 1631}}\n",
      "2022-12-22 19:15:29,491 (server:496)INFO: {'Role': 'Server #', 'Round': 167, 'Results_avg': {'test_acc': 0.769608, 'test_avg_loss': 0.574379, 'test_loss': 117.173378, 'test_total': 204.0, 'val_acc': 0.789216, 'val_avg_loss': 0.443191, 'val_loss': 90.411036, 'val_total': 204.0}}\n",
      "2022-12-22 19:15:29,491 (monitor:936)INFO: Current best: {'test_acc': 0.808824, 'test_avg_loss': 0.476599, 'test_loss': 97.22623, 'test_total': 204.0, 'val_acc': 0.862745, 'val_avg_loss': 0.373026, 'val_loss': 76.097249, 'val_total': 204.0}\n",
      "2022-12-22 19:15:29,493 (monitor:936)INFO: Current best: {'test_acc': 0.808824, 'test_avg_loss': 0.476599, 'test_loss': 97.22623, 'test_total': 204.0, 'val_acc': 0.862745, 'val_avg_loss': 0.373026, 'val_loss': 76.097249, 'val_total': 204.0}\n",
      "2022-12-22 19:15:29,495 (server:323)INFO: Server #0: Starting evaluation at the end of round 167.\n",
      "2022-12-22 19:15:29,496 (server:330)INFO: ----------- Starting a new training round (Round #168) -------------\n",
      "2022-12-22 19:15:29,564 (client:415)INFO: {'Role': 'Client #1', 'Round': 168, 'Results_raw': {'test_acc': 0.813725, 'test_avg_loss': 0.463186, 'test_loss': 94.489974, 'test_total': 204, 'val_acc': 0.843137, 'val_avg_loss': 0.38225, 'val_loss': 77.979071, 'val_total': 204}}\n",
      "2022-12-22 19:15:29,565 (monitor:936)INFO: Current best: {'test_acc': 0.808824, 'test_avg_loss': 0.476599, 'test_loss': 97.22623, 'test_total': 204, 'val_acc': 0.862745, 'val_avg_loss': 0.373026, 'val_loss': 76.097249, 'val_total': 204}\n"
     ]
    },
    {
     "name": "stdout",
     "output_type": "stream",
     "text": [
      "no improve counter: 7\n",
      "self.best_metric: 76.09724855422974\n",
      "no improve counter: 8\n",
      "self.best_metric: 0.3730257282070085\n"
     ]
    },
    {
     "name": "stderr",
     "output_type": "stream",
     "text": [
      "2022-12-22 19:15:29,849 (client:260)INFO: {'Role': 'Client #1', 'Round': 168, 'Results_raw': {'train_acc': 0.858982, 'train_avg_loss': 0.347778, 'train_loss': 567.225322, 'train_total': 1631}}\n",
      "2022-12-22 19:15:29,851 (server:496)INFO: {'Role': 'Server #', 'Round': 168, 'Results_avg': {'test_acc': 0.813725, 'test_avg_loss': 0.463186, 'test_loss': 94.489974, 'test_total': 204.0, 'val_acc': 0.843137, 'val_avg_loss': 0.38225, 'val_loss': 77.979071, 'val_total': 204.0}}\n",
      "2022-12-22 19:15:29,852 (monitor:936)INFO: Current best: {'test_acc': 0.808824, 'test_avg_loss': 0.476599, 'test_loss': 97.22623, 'test_total': 204.0, 'val_acc': 0.862745, 'val_avg_loss': 0.373026, 'val_loss': 76.097249, 'val_total': 204.0}\n",
      "2022-12-22 19:15:29,853 (monitor:936)INFO: Current best: {'test_acc': 0.808824, 'test_avg_loss': 0.476599, 'test_loss': 97.22623, 'test_total': 204.0, 'val_acc': 0.862745, 'val_avg_loss': 0.373026, 'val_loss': 76.097249, 'val_total': 204.0}\n",
      "2022-12-22 19:15:29,855 (server:323)INFO: Server #0: Starting evaluation at the end of round 168.\n",
      "2022-12-22 19:15:29,856 (server:330)INFO: ----------- Starting a new training round (Round #169) -------------\n",
      "2022-12-22 19:15:29,923 (client:415)INFO: {'Role': 'Client #1', 'Round': 169, 'Results_raw': {'test_acc': 0.803922, 'test_avg_loss': 0.50033, 'test_loss': 102.067415, 'test_total': 204, 'val_acc': 0.818627, 'val_avg_loss': 0.409306, 'val_loss': 83.498367, 'val_total': 204}}\n",
      "2022-12-22 19:15:29,924 (monitor:936)INFO: Current best: {'test_acc': 0.808824, 'test_avg_loss': 0.476599, 'test_loss': 97.22623, 'test_total': 204, 'val_acc': 0.862745, 'val_avg_loss': 0.373026, 'val_loss': 76.097249, 'val_total': 204}\n"
     ]
    },
    {
     "name": "stdout",
     "output_type": "stream",
     "text": [
      "no improve counter: 8\n",
      "self.best_metric: 76.09724855422974\n",
      "no improve counter: 9\n",
      "self.best_metric: 0.3730257282070085\n"
     ]
    },
    {
     "name": "stderr",
     "output_type": "stream",
     "text": [
      "2022-12-22 19:15:30,189 (client:260)INFO: {'Role': 'Client #1', 'Round': 169, 'Results_raw': {'train_acc': 0.8645, 'train_avg_loss': 0.341571, 'train_loss': 557.102118, 'train_total': 1631}}\n",
      "2022-12-22 19:15:30,192 (server:496)INFO: {'Role': 'Server #', 'Round': 169, 'Results_avg': {'test_acc': 0.803922, 'test_avg_loss': 0.50033, 'test_loss': 102.067415, 'test_total': 204.0, 'val_acc': 0.818627, 'val_avg_loss': 0.409306, 'val_loss': 83.498367, 'val_total': 204.0}}\n",
      "2022-12-22 19:15:30,193 (monitor:936)INFO: Current best: {'test_acc': 0.808824, 'test_avg_loss': 0.476599, 'test_loss': 97.22623, 'test_total': 204.0, 'val_acc': 0.862745, 'val_avg_loss': 0.373026, 'val_loss': 76.097249, 'val_total': 204.0}\n",
      "2022-12-22 19:15:30,194 (monitor:936)INFO: Current best: {'test_acc': 0.808824, 'test_avg_loss': 0.476599, 'test_loss': 97.22623, 'test_total': 204.0, 'val_acc': 0.862745, 'val_avg_loss': 0.373026, 'val_loss': 76.097249, 'val_total': 204.0}\n",
      "2022-12-22 19:15:30,196 (server:323)INFO: Server #0: Starting evaluation at the end of round 169.\n",
      "2022-12-22 19:15:30,197 (server:330)INFO: ----------- Starting a new training round (Round #170) -------------\n",
      "2022-12-22 19:15:30,243 (client:415)INFO: {'Role': 'Client #1', 'Round': 170, 'Results_raw': {'test_acc': 0.803922, 'test_avg_loss': 0.517354, 'test_loss': 105.540189, 'test_total': 204, 'val_acc': 0.818627, 'val_avg_loss': 0.398775, 'val_loss': 81.35018, 'val_total': 204}}\n",
      "2022-12-22 19:15:30,244 (monitor:936)INFO: Current best: {'test_acc': 0.808824, 'test_avg_loss': 0.476599, 'test_loss': 97.22623, 'test_total': 204, 'val_acc': 0.862745, 'val_avg_loss': 0.373026, 'val_loss': 76.097249, 'val_total': 204}\n"
     ]
    },
    {
     "name": "stdout",
     "output_type": "stream",
     "text": [
      "no improve counter: 9\n",
      "self.best_metric: 76.09724855422974\n",
      "no improve counter: 10\n",
      "self.best_metric: 0.3730257282070085\n"
     ]
    },
    {
     "name": "stderr",
     "output_type": "stream",
     "text": [
      "2022-12-22 19:15:30,503 (client:260)INFO: {'Role': 'Client #1', 'Round': 170, 'Results_raw': {'train_acc': 0.862048, 'train_avg_loss': 0.347056, 'train_loss': 566.048427, 'train_total': 1631}}\n",
      "2022-12-22 19:15:30,505 (server:496)INFO: {'Role': 'Server #', 'Round': 170, 'Results_avg': {'test_acc': 0.803922, 'test_avg_loss': 0.517354, 'test_loss': 105.540189, 'test_total': 204.0, 'val_acc': 0.818627, 'val_avg_loss': 0.398775, 'val_loss': 81.35018, 'val_total': 204.0}}\n",
      "2022-12-22 19:15:30,506 (monitor:936)INFO: Current best: {'test_acc': 0.808824, 'test_avg_loss': 0.476599, 'test_loss': 97.22623, 'test_total': 204.0, 'val_acc': 0.862745, 'val_avg_loss': 0.373026, 'val_loss': 76.097249, 'val_total': 204.0}\n",
      "2022-12-22 19:15:30,507 (monitor:936)INFO: Current best: {'test_acc': 0.808824, 'test_avg_loss': 0.476599, 'test_loss': 97.22623, 'test_total': 204.0, 'val_acc': 0.862745, 'val_avg_loss': 0.373026, 'val_loss': 76.097249, 'val_total': 204.0}\n",
      "2022-12-22 19:15:30,509 (server:323)INFO: Server #0: Starting evaluation at the end of round 170.\n",
      "2022-12-22 19:15:30,509 (server:330)INFO: ----------- Starting a new training round (Round #171) -------------\n",
      "2022-12-22 19:15:30,556 (client:415)INFO: {'Role': 'Client #1', 'Round': 171, 'Results_raw': {'test_acc': 0.803922, 'test_avg_loss': 0.492866, 'test_loss': 100.544625, 'test_total': 204, 'val_acc': 0.852941, 'val_avg_loss': 0.379473, 'val_loss': 77.412508, 'val_total': 204}}\n",
      "2022-12-22 19:15:30,557 (monitor:936)INFO: Current best: {'test_acc': 0.808824, 'test_avg_loss': 0.476599, 'test_loss': 97.22623, 'test_total': 204, 'val_acc': 0.862745, 'val_avg_loss': 0.373026, 'val_loss': 76.097249, 'val_total': 204}\n"
     ]
    },
    {
     "name": "stdout",
     "output_type": "stream",
     "text": [
      "no improve counter: 10\n",
      "self.best_metric: 76.09724855422974\n",
      "no improve counter: 11\n",
      "self.best_metric: 0.3730257282070085\n"
     ]
    },
    {
     "name": "stderr",
     "output_type": "stream",
     "text": [
      "2022-12-22 19:15:30,806 (client:260)INFO: {'Role': 'Client #1', 'Round': 171, 'Results_raw': {'train_acc': 0.863274, 'train_avg_loss': 0.34181, 'train_loss': 557.492136, 'train_total': 1631}}\n",
      "2022-12-22 19:15:30,808 (server:496)INFO: {'Role': 'Server #', 'Round': 171, 'Results_avg': {'test_acc': 0.803922, 'test_avg_loss': 0.492866, 'test_loss': 100.544625, 'test_total': 204.0, 'val_acc': 0.852941, 'val_avg_loss': 0.379473, 'val_loss': 77.412508, 'val_total': 204.0}}\n",
      "2022-12-22 19:15:30,809 (monitor:936)INFO: Current best: {'test_acc': 0.808824, 'test_avg_loss': 0.476599, 'test_loss': 97.22623, 'test_total': 204.0, 'val_acc': 0.862745, 'val_avg_loss': 0.373026, 'val_loss': 76.097249, 'val_total': 204.0}\n",
      "2022-12-22 19:15:30,812 (monitor:936)INFO: Current best: {'test_acc': 0.808824, 'test_avg_loss': 0.476599, 'test_loss': 97.22623, 'test_total': 204.0, 'val_acc': 0.862745, 'val_avg_loss': 0.373026, 'val_loss': 76.097249, 'val_total': 204.0}\n",
      "2022-12-22 19:15:30,813 (server:323)INFO: Server #0: Starting evaluation at the end of round 171.\n",
      "2022-12-22 19:15:30,814 (server:330)INFO: ----------- Starting a new training round (Round #172) -------------\n",
      "2022-12-22 19:15:30,863 (client:415)INFO: {'Role': 'Client #1', 'Round': 172, 'Results_raw': {'test_acc': 0.813725, 'test_avg_loss': 0.465963, 'test_loss': 95.056463, 'test_total': 204, 'val_acc': 0.872549, 'val_avg_loss': 0.371511, 'val_loss': 75.788295, 'val_total': 204}}\n",
      "2022-12-22 19:15:30,864 (monitor:936)INFO: Current best: {'test_acc': 0.813725, 'test_avg_loss': 0.465963, 'test_loss': 95.056463, 'test_total': 204, 'val_acc': 0.872549, 'val_avg_loss': 0.371511, 'val_loss': 75.788295, 'val_total': 204}\n"
     ]
    },
    {
     "name": "stdout",
     "output_type": "stream",
     "text": [
      "no improve counter: 11\n",
      "self.best_metric: 76.09724855422974\n",
      "no improve counter: 0\n",
      "self.best_metric: 0.37151125014996994\n"
     ]
    },
    {
     "name": "stderr",
     "output_type": "stream",
     "text": [
      "2022-12-22 19:15:31,145 (client:260)INFO: {'Role': 'Client #1', 'Round': 172, 'Results_raw': {'train_acc': 0.865113, 'train_avg_loss': 0.347749, 'train_loss': 567.178141, 'train_total': 1631}}\n",
      "2022-12-22 19:15:31,146 (server:496)INFO: {'Role': 'Server #', 'Round': 172, 'Results_avg': {'test_acc': 0.813725, 'test_avg_loss': 0.465963, 'test_loss': 95.056463, 'test_total': 204.0, 'val_acc': 0.872549, 'val_avg_loss': 0.371511, 'val_loss': 75.788295, 'val_total': 204.0}}\n",
      "2022-12-22 19:15:31,148 (monitor:936)INFO: Current best: {'test_acc': [0.813725], 'test_avg_loss': [0.465963], 'test_loss': [95.056463], 'test_total': [204.0], 'val_acc': [0.872549], 'val_avg_loss': [0.371511], 'val_loss': [75.788295], 'val_total': [204.0]}\n",
      "2022-12-22 19:15:31,150 (monitor:936)INFO: Current best: {'test_acc': 0.813725, 'test_avg_loss': 0.465963, 'test_loss': 95.056463, 'test_total': 204.0, 'val_acc': 0.872549, 'val_avg_loss': 0.371511, 'val_loss': 75.788295, 'val_total': 204.0}\n",
      "2022-12-22 19:15:31,152 (server:323)INFO: Server #0: Starting evaluation at the end of round 172.\n",
      "2022-12-22 19:15:31,153 (server:330)INFO: ----------- Starting a new training round (Round #173) -------------\n",
      "2022-12-22 19:15:31,222 (client:415)INFO: {'Role': 'Client #1', 'Round': 173, 'Results_raw': {'test_acc': 0.79902, 'test_avg_loss': 0.497693, 'test_loss': 101.52942, 'test_total': 204, 'val_acc': 0.818627, 'val_avg_loss': 0.406039, 'val_loss': 82.831993, 'val_total': 204}}\n",
      "2022-12-22 19:15:31,223 (monitor:936)INFO: Current best: {'test_acc': 0.813725, 'test_avg_loss': 0.465963, 'test_loss': 95.056463, 'test_total': 204, 'val_acc': 0.872549, 'val_avg_loss': 0.371511, 'val_loss': 75.788295, 'val_total': 204}\n"
     ]
    },
    {
     "name": "stdout",
     "output_type": "stream",
     "text": [
      "no improve counter: 0\n",
      "self.best_metric: 75.78829503059387\n",
      "no improve counter: 1\n",
      "self.best_metric: 0.37151125014996994\n"
     ]
    },
    {
     "name": "stderr",
     "output_type": "stream",
     "text": [
      "2022-12-22 19:15:31,513 (client:260)INFO: {'Role': 'Client #1', 'Round': 173, 'Results_raw': {'train_acc': 0.858369, 'train_avg_loss': 0.352623, 'train_loss': 575.12834, 'train_total': 1631}}\n",
      "2022-12-22 19:15:31,515 (server:496)INFO: {'Role': 'Server #', 'Round': 173, 'Results_avg': {'test_acc': 0.79902, 'test_avg_loss': 0.497693, 'test_loss': 101.52942, 'test_total': 204.0, 'val_acc': 0.818627, 'val_avg_loss': 0.406039, 'val_loss': 82.831993, 'val_total': 204.0}}\n",
      "2022-12-22 19:15:31,518 (monitor:936)INFO: Current best: {'test_acc': 0.813725, 'test_avg_loss': 0.465963, 'test_loss': 95.056463, 'test_total': 204.0, 'val_acc': 0.872549, 'val_avg_loss': 0.371511, 'val_loss': 75.788295, 'val_total': 204.0}\n",
      "2022-12-22 19:15:31,520 (monitor:936)INFO: Current best: {'test_acc': 0.813725, 'test_avg_loss': 0.465963, 'test_loss': 95.056463, 'test_total': 204.0, 'val_acc': 0.872549, 'val_avg_loss': 0.371511, 'val_loss': 75.788295, 'val_total': 204.0}\n",
      "2022-12-22 19:15:31,522 (server:323)INFO: Server #0: Starting evaluation at the end of round 173.\n",
      "2022-12-22 19:15:31,523 (server:330)INFO: ----------- Starting a new training round (Round #174) -------------\n",
      "2022-12-22 19:15:31,574 (client:415)INFO: {'Role': 'Client #1', 'Round': 174, 'Results_raw': {'test_acc': 0.803922, 'test_avg_loss': 0.491074, 'test_loss': 100.179119, 'test_total': 204, 'val_acc': 0.818627, 'val_avg_loss': 0.399752, 'val_loss': 81.54938, 'val_total': 204}}\n",
      "2022-12-22 19:15:31,575 (monitor:936)INFO: Current best: {'test_acc': 0.813725, 'test_avg_loss': 0.465963, 'test_loss': 95.056463, 'test_total': 204, 'val_acc': 0.872549, 'val_avg_loss': 0.371511, 'val_loss': 75.788295, 'val_total': 204}\n"
     ]
    },
    {
     "name": "stdout",
     "output_type": "stream",
     "text": [
      "no improve counter: 1\n",
      "self.best_metric: 75.78829503059387\n",
      "no improve counter: 2\n",
      "self.best_metric: 0.37151125014996994\n"
     ]
    },
    {
     "name": "stderr",
     "output_type": "stream",
     "text": [
      "2022-12-22 19:15:31,857 (client:260)INFO: {'Role': 'Client #1', 'Round': 174, 'Results_raw': {'train_acc': 0.865113, 'train_avg_loss': 0.349697, 'train_loss': 570.35657, 'train_total': 1631}}\n",
      "2022-12-22 19:15:31,860 (server:496)INFO: {'Role': 'Server #', 'Round': 174, 'Results_avg': {'test_acc': 0.803922, 'test_avg_loss': 0.491074, 'test_loss': 100.179119, 'test_total': 204.0, 'val_acc': 0.818627, 'val_avg_loss': 0.399752, 'val_loss': 81.54938, 'val_total': 204.0}}\n",
      "2022-12-22 19:15:31,861 (monitor:936)INFO: Current best: {'test_acc': 0.813725, 'test_avg_loss': 0.465963, 'test_loss': 95.056463, 'test_total': 204.0, 'val_acc': 0.872549, 'val_avg_loss': 0.371511, 'val_loss': 75.788295, 'val_total': 204.0}\n",
      "2022-12-22 19:15:31,862 (monitor:936)INFO: Current best: {'test_acc': 0.813725, 'test_avg_loss': 0.465963, 'test_loss': 95.056463, 'test_total': 204.0, 'val_acc': 0.872549, 'val_avg_loss': 0.371511, 'val_loss': 75.788295, 'val_total': 204.0}\n",
      "2022-12-22 19:15:31,865 (server:323)INFO: Server #0: Starting evaluation at the end of round 174.\n",
      "2022-12-22 19:15:31,866 (server:330)INFO: ----------- Starting a new training round (Round #175) -------------\n",
      "2022-12-22 19:15:31,933 (client:415)INFO: {'Role': 'Client #1', 'Round': 175, 'Results_raw': {'test_acc': 0.803922, 'test_avg_loss': 0.487644, 'test_loss': 99.479421, 'test_total': 204, 'val_acc': 0.823529, 'val_avg_loss': 0.399111, 'val_loss': 81.418717, 'val_total': 204}}\n",
      "2022-12-22 19:15:31,935 (monitor:936)INFO: Current best: {'test_acc': 0.813725, 'test_avg_loss': 0.465963, 'test_loss': 95.056463, 'test_total': 204, 'val_acc': 0.872549, 'val_avg_loss': 0.371511, 'val_loss': 75.788295, 'val_total': 204}\n"
     ]
    },
    {
     "name": "stdout",
     "output_type": "stream",
     "text": [
      "no improve counter: 2\n",
      "self.best_metric: 75.78829503059387\n",
      "no improve counter: 3\n",
      "self.best_metric: 0.37151125014996994\n"
     ]
    },
    {
     "name": "stderr",
     "output_type": "stream",
     "text": [
      "2022-12-22 19:15:32,212 (client:260)INFO: {'Role': 'Client #1', 'Round': 175, 'Results_raw': {'train_acc': 0.859595, 'train_avg_loss': 0.347184, 'train_loss': 566.256871, 'train_total': 1631}}\n",
      "2022-12-22 19:15:32,214 (server:496)INFO: {'Role': 'Server #', 'Round': 175, 'Results_avg': {'test_acc': 0.803922, 'test_avg_loss': 0.487644, 'test_loss': 99.479421, 'test_total': 204.0, 'val_acc': 0.823529, 'val_avg_loss': 0.399111, 'val_loss': 81.418717, 'val_total': 204.0}}\n",
      "2022-12-22 19:15:32,214 (monitor:936)INFO: Current best: {'test_acc': 0.813725, 'test_avg_loss': 0.465963, 'test_loss': 95.056463, 'test_total': 204.0, 'val_acc': 0.872549, 'val_avg_loss': 0.371511, 'val_loss': 75.788295, 'val_total': 204.0}\n",
      "2022-12-22 19:15:32,215 (monitor:936)INFO: Current best: {'test_acc': 0.813725, 'test_avg_loss': 0.465963, 'test_loss': 95.056463, 'test_total': 204.0, 'val_acc': 0.872549, 'val_avg_loss': 0.371511, 'val_loss': 75.788295, 'val_total': 204.0}\n",
      "2022-12-22 19:15:32,217 (server:323)INFO: Server #0: Starting evaluation at the end of round 175.\n",
      "2022-12-22 19:15:32,218 (server:330)INFO: ----------- Starting a new training round (Round #176) -------------\n",
      "2022-12-22 19:15:32,286 (client:415)INFO: {'Role': 'Client #1', 'Round': 176, 'Results_raw': {'test_acc': 0.789216, 'test_avg_loss': 0.513611, 'test_loss': 104.776597, 'test_total': 204, 'val_acc': 0.803922, 'val_avg_loss': 0.430287, 'val_loss': 87.778578, 'val_total': 204}}\n",
      "2022-12-22 19:15:32,287 (monitor:936)INFO: Current best: {'test_acc': 0.813725, 'test_avg_loss': 0.465963, 'test_loss': 95.056463, 'test_total': 204, 'val_acc': 0.872549, 'val_avg_loss': 0.371511, 'val_loss': 75.788295, 'val_total': 204}\n"
     ]
    },
    {
     "name": "stdout",
     "output_type": "stream",
     "text": [
      "no improve counter: 3\n",
      "self.best_metric: 75.78829503059387\n",
      "no improve counter: 4\n",
      "self.best_metric: 0.37151125014996994\n"
     ]
    },
    {
     "name": "stderr",
     "output_type": "stream",
     "text": [
      "2022-12-22 19:15:32,574 (client:260)INFO: {'Role': 'Client #1', 'Round': 176, 'Results_raw': {'train_acc': 0.861435, 'train_avg_loss': 0.339571, 'train_loss': 553.840775, 'train_total': 1631}}\n",
      "2022-12-22 19:15:32,576 (server:496)INFO: {'Role': 'Server #', 'Round': 176, 'Results_avg': {'test_acc': 0.789216, 'test_avg_loss': 0.513611, 'test_loss': 104.776597, 'test_total': 204.0, 'val_acc': 0.803922, 'val_avg_loss': 0.430287, 'val_loss': 87.778578, 'val_total': 204.0}}\n",
      "2022-12-22 19:15:32,577 (monitor:936)INFO: Current best: {'test_acc': 0.813725, 'test_avg_loss': 0.465963, 'test_loss': 95.056463, 'test_total': 204.0, 'val_acc': 0.872549, 'val_avg_loss': 0.371511, 'val_loss': 75.788295, 'val_total': 204.0}\n",
      "2022-12-22 19:15:32,579 (monitor:936)INFO: Current best: {'test_acc': 0.813725, 'test_avg_loss': 0.465963, 'test_loss': 95.056463, 'test_total': 204.0, 'val_acc': 0.872549, 'val_avg_loss': 0.371511, 'val_loss': 75.788295, 'val_total': 204.0}\n",
      "2022-12-22 19:15:32,581 (server:323)INFO: Server #0: Starting evaluation at the end of round 176.\n",
      "2022-12-22 19:15:32,582 (server:330)INFO: ----------- Starting a new training round (Round #177) -------------\n",
      "2022-12-22 19:15:32,653 (client:415)INFO: {'Role': 'Client #1', 'Round': 177, 'Results_raw': {'test_acc': 0.769608, 'test_avg_loss': 0.599415, 'test_loss': 122.280592, 'test_total': 204, 'val_acc': 0.794118, 'val_avg_loss': 0.448043, 'val_loss': 91.40072, 'val_total': 204}}\n",
      "2022-12-22 19:15:32,654 (monitor:936)INFO: Current best: {'test_acc': 0.813725, 'test_avg_loss': 0.465963, 'test_loss': 95.056463, 'test_total': 204, 'val_acc': 0.872549, 'val_avg_loss': 0.371511, 'val_loss': 75.788295, 'val_total': 204}\n"
     ]
    },
    {
     "name": "stdout",
     "output_type": "stream",
     "text": [
      "no improve counter: 4\n",
      "self.best_metric: 75.78829503059387\n",
      "no improve counter: 5\n",
      "self.best_metric: 0.37151125014996994\n"
     ]
    },
    {
     "name": "stderr",
     "output_type": "stream",
     "text": [
      "2022-12-22 19:15:32,921 (client:260)INFO: {'Role': 'Client #1', 'Round': 177, 'Results_raw': {'train_acc': 0.861435, 'train_avg_loss': 0.348111, 'train_loss': 567.768274, 'train_total': 1631}}\n",
      "2022-12-22 19:15:32,924 (server:496)INFO: {'Role': 'Server #', 'Round': 177, 'Results_avg': {'test_acc': 0.769608, 'test_avg_loss': 0.599415, 'test_loss': 122.280592, 'test_total': 204.0, 'val_acc': 0.794118, 'val_avg_loss': 0.448043, 'val_loss': 91.40072, 'val_total': 204.0}}\n",
      "2022-12-22 19:15:32,925 (monitor:936)INFO: Current best: {'test_acc': 0.813725, 'test_avg_loss': 0.465963, 'test_loss': 95.056463, 'test_total': 204.0, 'val_acc': 0.872549, 'val_avg_loss': 0.371511, 'val_loss': 75.788295, 'val_total': 204.0}\n",
      "2022-12-22 19:15:32,926 (monitor:936)INFO: Current best: {'test_acc': 0.813725, 'test_avg_loss': 0.465963, 'test_loss': 95.056463, 'test_total': 204.0, 'val_acc': 0.872549, 'val_avg_loss': 0.371511, 'val_loss': 75.788295, 'val_total': 204.0}\n",
      "2022-12-22 19:15:32,928 (server:323)INFO: Server #0: Starting evaluation at the end of round 177.\n",
      "2022-12-22 19:15:32,928 (server:330)INFO: ----------- Starting a new training round (Round #178) -------------\n",
      "2022-12-22 19:15:32,972 (client:415)INFO: {'Role': 'Client #1', 'Round': 178, 'Results_raw': {'test_acc': 0.808824, 'test_avg_loss': 0.495087, 'test_loss': 100.997674, 'test_total': 204, 'val_acc': 0.828431, 'val_avg_loss': 0.394096, 'val_loss': 80.395587, 'val_total': 204}}\n",
      "2022-12-22 19:15:32,973 (monitor:936)INFO: Current best: {'test_acc': 0.813725, 'test_avg_loss': 0.465963, 'test_loss': 95.056463, 'test_total': 204, 'val_acc': 0.872549, 'val_avg_loss': 0.371511, 'val_loss': 75.788295, 'val_total': 204}\n"
     ]
    },
    {
     "name": "stdout",
     "output_type": "stream",
     "text": [
      "no improve counter: 5\n",
      "self.best_metric: 75.78829503059387\n",
      "no improve counter: 6\n",
      "self.best_metric: 0.37151125014996994\n"
     ]
    },
    {
     "name": "stderr",
     "output_type": "stream",
     "text": [
      "2022-12-22 19:15:33,242 (client:260)INFO: {'Role': 'Client #1', 'Round': 178, 'Results_raw': {'train_acc': 0.85653, 'train_avg_loss': 0.350191, 'train_loss': 571.162011, 'train_total': 1631}}\n",
      "2022-12-22 19:15:33,244 (server:496)INFO: {'Role': 'Server #', 'Round': 178, 'Results_avg': {'test_acc': 0.808824, 'test_avg_loss': 0.495087, 'test_loss': 100.997674, 'test_total': 204.0, 'val_acc': 0.828431, 'val_avg_loss': 0.394096, 'val_loss': 80.395587, 'val_total': 204.0}}\n",
      "2022-12-22 19:15:33,245 (monitor:936)INFO: Current best: {'test_acc': 0.813725, 'test_avg_loss': 0.465963, 'test_loss': 95.056463, 'test_total': 204.0, 'val_acc': 0.872549, 'val_avg_loss': 0.371511, 'val_loss': 75.788295, 'val_total': 204.0}\n",
      "2022-12-22 19:15:33,246 (monitor:936)INFO: Current best: {'test_acc': 0.813725, 'test_avg_loss': 0.465963, 'test_loss': 95.056463, 'test_total': 204.0, 'val_acc': 0.872549, 'val_avg_loss': 0.371511, 'val_loss': 75.788295, 'val_total': 204.0}\n",
      "2022-12-22 19:15:33,248 (server:323)INFO: Server #0: Starting evaluation at the end of round 178.\n",
      "2022-12-22 19:15:33,249 (server:330)INFO: ----------- Starting a new training round (Round #179) -------------\n",
      "2022-12-22 19:15:33,309 (client:415)INFO: {'Role': 'Client #1', 'Round': 179, 'Results_raw': {'test_acc': 0.79902, 'test_avg_loss': 0.496415, 'test_loss': 101.268567, 'test_total': 204, 'val_acc': 0.808824, 'val_avg_loss': 0.407286, 'val_loss': 83.086267, 'val_total': 204}}\n",
      "2022-12-22 19:15:33,310 (monitor:936)INFO: Current best: {'test_acc': 0.813725, 'test_avg_loss': 0.465963, 'test_loss': 95.056463, 'test_total': 204, 'val_acc': 0.872549, 'val_avg_loss': 0.371511, 'val_loss': 75.788295, 'val_total': 204}\n"
     ]
    },
    {
     "name": "stdout",
     "output_type": "stream",
     "text": [
      "no improve counter: 6\n",
      "self.best_metric: 75.78829503059387\n",
      "no improve counter: 7\n",
      "self.best_metric: 0.37151125014996994\n"
     ]
    },
    {
     "name": "stderr",
     "output_type": "stream",
     "text": [
      "2022-12-22 19:15:33,602 (client:260)INFO: {'Role': 'Client #1', 'Round': 179, 'Results_raw': {'train_acc': 0.858369, 'train_avg_loss': 0.348698, 'train_loss': 568.725914, 'train_total': 1631}}\n",
      "2022-12-22 19:15:33,605 (server:496)INFO: {'Role': 'Server #', 'Round': 179, 'Results_avg': {'test_acc': 0.79902, 'test_avg_loss': 0.496415, 'test_loss': 101.268567, 'test_total': 204.0, 'val_acc': 0.808824, 'val_avg_loss': 0.407286, 'val_loss': 83.086267, 'val_total': 204.0}}\n",
      "2022-12-22 19:15:33,606 (monitor:936)INFO: Current best: {'test_acc': 0.813725, 'test_avg_loss': 0.465963, 'test_loss': 95.056463, 'test_total': 204.0, 'val_acc': 0.872549, 'val_avg_loss': 0.371511, 'val_loss': 75.788295, 'val_total': 204.0}\n",
      "2022-12-22 19:15:33,607 (monitor:936)INFO: Current best: {'test_acc': 0.813725, 'test_avg_loss': 0.465963, 'test_loss': 95.056463, 'test_total': 204.0, 'val_acc': 0.872549, 'val_avg_loss': 0.371511, 'val_loss': 75.788295, 'val_total': 204.0}\n",
      "2022-12-22 19:15:33,610 (server:323)INFO: Server #0: Starting evaluation at the end of round 179.\n",
      "2022-12-22 19:15:33,611 (server:330)INFO: ----------- Starting a new training round (Round #180) -------------\n",
      "2022-12-22 19:15:33,666 (client:415)INFO: {'Role': 'Client #1', 'Round': 180, 'Results_raw': {'test_acc': 0.79902, 'test_avg_loss': 0.506091, 'test_loss': 103.242582, 'test_total': 204, 'val_acc': 0.808824, 'val_avg_loss': 0.401243, 'val_loss': 81.853647, 'val_total': 204}}\n",
      "2022-12-22 19:15:33,667 (monitor:936)INFO: Current best: {'test_acc': 0.813725, 'test_avg_loss': 0.465963, 'test_loss': 95.056463, 'test_total': 204, 'val_acc': 0.872549, 'val_avg_loss': 0.371511, 'val_loss': 75.788295, 'val_total': 204}\n"
     ]
    },
    {
     "name": "stdout",
     "output_type": "stream",
     "text": [
      "no improve counter: 7\n",
      "self.best_metric: 75.78829503059387\n",
      "no improve counter: 8\n",
      "self.best_metric: 0.37151125014996994\n"
     ]
    },
    {
     "name": "stderr",
     "output_type": "stream",
     "text": [
      "2022-12-22 19:15:33,938 (client:260)INFO: {'Role': 'Client #1', 'Round': 180, 'Results_raw': {'train_acc': 0.865727, 'train_avg_loss': 0.34639, 'train_loss': 564.962829, 'train_total': 1631}}\n",
      "2022-12-22 19:15:33,940 (server:496)INFO: {'Role': 'Server #', 'Round': 180, 'Results_avg': {'test_acc': 0.79902, 'test_avg_loss': 0.506091, 'test_loss': 103.242582, 'test_total': 204.0, 'val_acc': 0.808824, 'val_avg_loss': 0.401243, 'val_loss': 81.853647, 'val_total': 204.0}}\n",
      "2022-12-22 19:15:33,941 (monitor:936)INFO: Current best: {'test_acc': 0.813725, 'test_avg_loss': 0.465963, 'test_loss': 95.056463, 'test_total': 204.0, 'val_acc': 0.872549, 'val_avg_loss': 0.371511, 'val_loss': 75.788295, 'val_total': 204.0}\n",
      "2022-12-22 19:15:33,942 (monitor:936)INFO: Current best: {'test_acc': 0.813725, 'test_avg_loss': 0.465963, 'test_loss': 95.056463, 'test_total': 204.0, 'val_acc': 0.872549, 'val_avg_loss': 0.371511, 'val_loss': 75.788295, 'val_total': 204.0}\n",
      "2022-12-22 19:15:33,944 (server:323)INFO: Server #0: Starting evaluation at the end of round 180.\n",
      "2022-12-22 19:15:33,945 (server:330)INFO: ----------- Starting a new training round (Round #181) -------------\n",
      "2022-12-22 19:15:33,992 (client:415)INFO: {'Role': 'Client #1', 'Round': 181, 'Results_raw': {'test_acc': 0.789216, 'test_avg_loss': 0.463857, 'test_loss': 94.626875, 'test_total': 204, 'val_acc': 0.818627, 'val_avg_loss': 0.377546, 'val_loss': 77.01931, 'val_total': 204}}\n",
      "2022-12-22 19:15:33,993 (monitor:936)INFO: Current best: {'test_acc': 0.813725, 'test_avg_loss': 0.465963, 'test_loss': 95.056463, 'test_total': 204, 'val_acc': 0.872549, 'val_avg_loss': 0.371511, 'val_loss': 75.788295, 'val_total': 204}\n"
     ]
    },
    {
     "name": "stdout",
     "output_type": "stream",
     "text": [
      "no improve counter: 8\n",
      "self.best_metric: 75.78829503059387\n",
      "no improve counter: 9\n",
      "self.best_metric: 0.37151125014996994\n"
     ]
    },
    {
     "name": "stderr",
     "output_type": "stream",
     "text": [
      "2022-12-22 19:15:34,282 (client:260)INFO: {'Role': 'Client #1', 'Round': 181, 'Results_raw': {'train_acc': 0.863887, 'train_avg_loss': 0.348092, 'train_loss': 567.738145, 'train_total': 1631}}\n",
      "2022-12-22 19:15:34,284 (server:496)INFO: {'Role': 'Server #', 'Round': 181, 'Results_avg': {'test_acc': 0.789216, 'test_avg_loss': 0.463857, 'test_loss': 94.626875, 'test_total': 204.0, 'val_acc': 0.818627, 'val_avg_loss': 0.377546, 'val_loss': 77.01931, 'val_total': 204.0}}\n",
      "2022-12-22 19:15:34,285 (monitor:936)INFO: Current best: {'test_acc': 0.813725, 'test_avg_loss': 0.465963, 'test_loss': 95.056463, 'test_total': 204.0, 'val_acc': 0.872549, 'val_avg_loss': 0.371511, 'val_loss': 75.788295, 'val_total': 204.0}\n",
      "2022-12-22 19:15:34,287 (monitor:936)INFO: Current best: {'test_acc': 0.813725, 'test_avg_loss': 0.465963, 'test_loss': 95.056463, 'test_total': 204.0, 'val_acc': 0.872549, 'val_avg_loss': 0.371511, 'val_loss': 75.788295, 'val_total': 204.0}\n",
      "2022-12-22 19:15:34,289 (server:323)INFO: Server #0: Starting evaluation at the end of round 181.\n",
      "2022-12-22 19:15:34,290 (server:330)INFO: ----------- Starting a new training round (Round #182) -------------\n",
      "2022-12-22 19:15:34,348 (client:415)INFO: {'Role': 'Client #1', 'Round': 182, 'Results_raw': {'test_acc': 0.803922, 'test_avg_loss': 0.475113, 'test_loss': 96.923137, 'test_total': 204, 'val_acc': 0.838235, 'val_avg_loss': 0.404561, 'val_loss': 82.53048, 'val_total': 204}}\n",
      "2022-12-22 19:15:34,349 (monitor:936)INFO: Current best: {'test_acc': 0.813725, 'test_avg_loss': 0.465963, 'test_loss': 95.056463, 'test_total': 204, 'val_acc': 0.872549, 'val_avg_loss': 0.371511, 'val_loss': 75.788295, 'val_total': 204}\n"
     ]
    },
    {
     "name": "stdout",
     "output_type": "stream",
     "text": [
      "no improve counter: 9\n",
      "self.best_metric: 75.78829503059387\n",
      "no improve counter: 10\n",
      "self.best_metric: 0.37151125014996994\n"
     ]
    },
    {
     "name": "stderr",
     "output_type": "stream",
     "text": [
      "2022-12-22 19:15:34,618 (client:260)INFO: {'Role': 'Client #1', 'Round': 182, 'Results_raw': {'train_acc': 0.868792, 'train_avg_loss': 0.34834, 'train_loss': 568.143004, 'train_total': 1631}}\n",
      "2022-12-22 19:15:34,621 (server:496)INFO: {'Role': 'Server #', 'Round': 182, 'Results_avg': {'test_acc': 0.803922, 'test_avg_loss': 0.475113, 'test_loss': 96.923137, 'test_total': 204.0, 'val_acc': 0.838235, 'val_avg_loss': 0.404561, 'val_loss': 82.53048, 'val_total': 204.0}}\n",
      "2022-12-22 19:15:34,622 (monitor:936)INFO: Current best: {'test_acc': 0.813725, 'test_avg_loss': 0.465963, 'test_loss': 95.056463, 'test_total': 204.0, 'val_acc': 0.872549, 'val_avg_loss': 0.371511, 'val_loss': 75.788295, 'val_total': 204.0}\n",
      "2022-12-22 19:15:34,624 (monitor:936)INFO: Current best: {'test_acc': 0.813725, 'test_avg_loss': 0.465963, 'test_loss': 95.056463, 'test_total': 204.0, 'val_acc': 0.872549, 'val_avg_loss': 0.371511, 'val_loss': 75.788295, 'val_total': 204.0}\n",
      "2022-12-22 19:15:34,626 (server:323)INFO: Server #0: Starting evaluation at the end of round 182.\n",
      "2022-12-22 19:15:34,627 (server:330)INFO: ----------- Starting a new training round (Round #183) -------------\n",
      "2022-12-22 19:15:34,684 (client:415)INFO: {'Role': 'Client #1', 'Round': 183, 'Results_raw': {'test_acc': 0.79902, 'test_avg_loss': 0.484182, 'test_loss': 98.773122, 'test_total': 204, 'val_acc': 0.818627, 'val_avg_loss': 0.405984, 'val_loss': 82.820657, 'val_total': 204}}\n",
      "2022-12-22 19:15:34,684 (monitor:936)INFO: Current best: {'test_acc': 0.813725, 'test_avg_loss': 0.465963, 'test_loss': 95.056463, 'test_total': 204, 'val_acc': 0.872549, 'val_avg_loss': 0.371511, 'val_loss': 75.788295, 'val_total': 204}\n"
     ]
    },
    {
     "name": "stdout",
     "output_type": "stream",
     "text": [
      "no improve counter: 10\n",
      "self.best_metric: 75.78829503059387\n",
      "no improve counter: 11\n",
      "self.best_metric: 0.37151125014996994\n"
     ]
    },
    {
     "name": "stderr",
     "output_type": "stream",
     "text": [
      "2022-12-22 19:15:34,934 (client:260)INFO: {'Role': 'Client #1', 'Round': 183, 'Results_raw': {'train_acc': 0.87431, 'train_avg_loss': 0.335069, 'train_loss': 546.497899, 'train_total': 1631}}\n",
      "2022-12-22 19:15:34,937 (server:496)INFO: {'Role': 'Server #', 'Round': 183, 'Results_avg': {'test_acc': 0.79902, 'test_avg_loss': 0.484182, 'test_loss': 98.773122, 'test_total': 204.0, 'val_acc': 0.818627, 'val_avg_loss': 0.405984, 'val_loss': 82.820657, 'val_total': 204.0}}\n",
      "2022-12-22 19:15:34,938 (monitor:936)INFO: Current best: {'test_acc': 0.813725, 'test_avg_loss': 0.465963, 'test_loss': 95.056463, 'test_total': 204.0, 'val_acc': 0.872549, 'val_avg_loss': 0.371511, 'val_loss': 75.788295, 'val_total': 204.0}\n",
      "2022-12-22 19:15:34,940 (monitor:936)INFO: Current best: {'test_acc': 0.813725, 'test_avg_loss': 0.465963, 'test_loss': 95.056463, 'test_total': 204.0, 'val_acc': 0.872549, 'val_avg_loss': 0.371511, 'val_loss': 75.788295, 'val_total': 204.0}\n",
      "2022-12-22 19:15:34,942 (server:323)INFO: Server #0: Starting evaluation at the end of round 183.\n",
      "2022-12-22 19:15:34,943 (server:330)INFO: ----------- Starting a new training round (Round #184) -------------\n",
      "2022-12-22 19:15:35,001 (client:415)INFO: {'Role': 'Client #1', 'Round': 184, 'Results_raw': {'test_acc': 0.808824, 'test_avg_loss': 0.460918, 'test_loss': 94.027217, 'test_total': 204, 'val_acc': 0.848039, 'val_avg_loss': 0.385721, 'val_loss': 78.6871, 'val_total': 204}}\n",
      "2022-12-22 19:15:35,002 (monitor:936)INFO: Current best: {'test_acc': 0.813725, 'test_avg_loss': 0.465963, 'test_loss': 95.056463, 'test_total': 204, 'val_acc': 0.872549, 'val_avg_loss': 0.371511, 'val_loss': 75.788295, 'val_total': 204}\n"
     ]
    },
    {
     "name": "stdout",
     "output_type": "stream",
     "text": [
      "no improve counter: 11\n",
      "self.best_metric: 75.78829503059387\n",
      "no improve counter: 12\n",
      "self.best_metric: 0.37151125014996994\n"
     ]
    },
    {
     "name": "stderr",
     "output_type": "stream",
     "text": [
      "2022-12-22 19:15:35,296 (client:260)INFO: {'Role': 'Client #1', 'Round': 184, 'Results_raw': {'train_acc': 0.860822, 'train_avg_loss': 0.352421, 'train_loss': 574.799245, 'train_total': 1631}}\n",
      "2022-12-22 19:15:35,298 (server:496)INFO: {'Role': 'Server #', 'Round': 184, 'Results_avg': {'test_acc': 0.808824, 'test_avg_loss': 0.460918, 'test_loss': 94.027217, 'test_total': 204.0, 'val_acc': 0.848039, 'val_avg_loss': 0.385721, 'val_loss': 78.6871, 'val_total': 204.0}}\n",
      "2022-12-22 19:15:35,299 (monitor:936)INFO: Current best: {'test_acc': 0.813725, 'test_avg_loss': 0.465963, 'test_loss': 95.056463, 'test_total': 204.0, 'val_acc': 0.872549, 'val_avg_loss': 0.371511, 'val_loss': 75.788295, 'val_total': 204.0}\n",
      "2022-12-22 19:15:35,301 (monitor:936)INFO: Current best: {'test_acc': 0.813725, 'test_avg_loss': 0.465963, 'test_loss': 95.056463, 'test_total': 204.0, 'val_acc': 0.872549, 'val_avg_loss': 0.371511, 'val_loss': 75.788295, 'val_total': 204.0}\n",
      "2022-12-22 19:15:35,303 (server:323)INFO: Server #0: Starting evaluation at the end of round 184.\n",
      "2022-12-22 19:15:35,305 (server:330)INFO: ----------- Starting a new training round (Round #185) -------------\n",
      "2022-12-22 19:15:35,375 (client:415)INFO: {'Role': 'Client #1', 'Round': 185, 'Results_raw': {'test_acc': 0.803922, 'test_avg_loss': 0.464105, 'test_loss': 94.677476, 'test_total': 204, 'val_acc': 0.848039, 'val_avg_loss': 0.377313, 'val_loss': 76.971759, 'val_total': 204}}\n",
      "2022-12-22 19:15:35,376 (monitor:936)INFO: Current best: {'test_acc': 0.813725, 'test_avg_loss': 0.465963, 'test_loss': 95.056463, 'test_total': 204, 'val_acc': 0.872549, 'val_avg_loss': 0.371511, 'val_loss': 75.788295, 'val_total': 204}\n"
     ]
    },
    {
     "name": "stdout",
     "output_type": "stream",
     "text": [
      "no improve counter: 12\n",
      "self.best_metric: 75.78829503059387\n",
      "no improve counter: 13\n",
      "self.best_metric: 0.37151125014996994\n"
     ]
    },
    {
     "name": "stderr",
     "output_type": "stream",
     "text": [
      "2022-12-22 19:15:35,650 (client:260)INFO: {'Role': 'Client #1', 'Round': 185, 'Results_raw': {'train_acc': 0.865727, 'train_avg_loss': 0.335474, 'train_loss': 547.157325, 'train_total': 1631}}\n",
      "2022-12-22 19:15:35,652 (server:496)INFO: {'Role': 'Server #', 'Round': 185, 'Results_avg': {'test_acc': 0.803922, 'test_avg_loss': 0.464105, 'test_loss': 94.677476, 'test_total': 204.0, 'val_acc': 0.848039, 'val_avg_loss': 0.377313, 'val_loss': 76.971759, 'val_total': 204.0}}\n",
      "2022-12-22 19:15:35,653 (monitor:936)INFO: Current best: {'test_acc': 0.813725, 'test_avg_loss': 0.465963, 'test_loss': 95.056463, 'test_total': 204.0, 'val_acc': 0.872549, 'val_avg_loss': 0.371511, 'val_loss': 75.788295, 'val_total': 204.0}\n",
      "2022-12-22 19:15:35,655 (monitor:936)INFO: Current best: {'test_acc': 0.813725, 'test_avg_loss': 0.465963, 'test_loss': 95.056463, 'test_total': 204.0, 'val_acc': 0.872549, 'val_avg_loss': 0.371511, 'val_loss': 75.788295, 'val_total': 204.0}\n",
      "2022-12-22 19:15:35,658 (server:323)INFO: Server #0: Starting evaluation at the end of round 185.\n",
      "2022-12-22 19:15:35,660 (server:330)INFO: ----------- Starting a new training round (Round #186) -------------\n",
      "2022-12-22 19:15:35,720 (client:415)INFO: {'Role': 'Client #1', 'Round': 186, 'Results_raw': {'test_acc': 0.808824, 'test_avg_loss': 0.478157, 'test_loss': 97.544012, 'test_total': 204, 'val_acc': 0.838235, 'val_avg_loss': 0.379404, 'val_loss': 77.398348, 'val_total': 204}}\n",
      "2022-12-22 19:15:35,721 (monitor:936)INFO: Current best: {'test_acc': 0.813725, 'test_avg_loss': 0.465963, 'test_loss': 95.056463, 'test_total': 204, 'val_acc': 0.872549, 'val_avg_loss': 0.371511, 'val_loss': 75.788295, 'val_total': 204}\n"
     ]
    },
    {
     "name": "stdout",
     "output_type": "stream",
     "text": [
      "no improve counter: 13\n",
      "self.best_metric: 75.78829503059387\n",
      "no improve counter: 14\n",
      "self.best_metric: 0.37151125014996994\n"
     ]
    },
    {
     "name": "stderr",
     "output_type": "stream",
     "text": [
      "2022-12-22 19:15:36,012 (client:260)INFO: {'Role': 'Client #1', 'Round': 186, 'Results_raw': {'train_acc': 0.863887, 'train_avg_loss': 0.345555, 'train_loss': 563.599715, 'train_total': 1631}}\n",
      "2022-12-22 19:15:36,014 (server:496)INFO: {'Role': 'Server #', 'Round': 186, 'Results_avg': {'test_acc': 0.808824, 'test_avg_loss': 0.478157, 'test_loss': 97.544012, 'test_total': 204.0, 'val_acc': 0.838235, 'val_avg_loss': 0.379404, 'val_loss': 77.398348, 'val_total': 204.0}}\n",
      "2022-12-22 19:15:36,015 (monitor:936)INFO: Current best: {'test_acc': 0.813725, 'test_avg_loss': 0.465963, 'test_loss': 95.056463, 'test_total': 204.0, 'val_acc': 0.872549, 'val_avg_loss': 0.371511, 'val_loss': 75.788295, 'val_total': 204.0}\n",
      "2022-12-22 19:15:36,016 (monitor:936)INFO: Current best: {'test_acc': 0.813725, 'test_avg_loss': 0.465963, 'test_loss': 95.056463, 'test_total': 204.0, 'val_acc': 0.872549, 'val_avg_loss': 0.371511, 'val_loss': 75.788295, 'val_total': 204.0}\n",
      "2022-12-22 19:15:36,018 (server:323)INFO: Server #0: Starting evaluation at the end of round 186.\n",
      "2022-12-22 19:15:36,019 (server:330)INFO: ----------- Starting a new training round (Round #187) -------------\n",
      "2022-12-22 19:15:36,077 (client:415)INFO: {'Role': 'Client #1', 'Round': 187, 'Results_raw': {'test_acc': 0.808824, 'test_avg_loss': 0.46651, 'test_loss': 95.168074, 'test_total': 204, 'val_acc': 0.833333, 'val_avg_loss': 0.384003, 'val_loss': 78.336697, 'val_total': 204}}\n",
      "2022-12-22 19:15:36,078 (monitor:936)INFO: Current best: {'test_acc': 0.813725, 'test_avg_loss': 0.465963, 'test_loss': 95.056463, 'test_total': 204, 'val_acc': 0.872549, 'val_avg_loss': 0.371511, 'val_loss': 75.788295, 'val_total': 204}\n"
     ]
    },
    {
     "name": "stdout",
     "output_type": "stream",
     "text": [
      "no improve counter: 14\n",
      "self.best_metric: 75.78829503059387\n",
      "no improve counter: 15\n",
      "self.best_metric: 0.37151125014996994\n"
     ]
    },
    {
     "name": "stderr",
     "output_type": "stream",
     "text": [
      "2022-12-22 19:15:36,346 (client:260)INFO: {'Role': 'Client #1', 'Round': 187, 'Results_raw': {'train_acc': 0.860822, 'train_avg_loss': 0.340905, 'train_loss': 556.016626, 'train_total': 1631}}\n",
      "2022-12-22 19:15:36,348 (server:496)INFO: {'Role': 'Server #', 'Round': 187, 'Results_avg': {'test_acc': 0.808824, 'test_avg_loss': 0.46651, 'test_loss': 95.168074, 'test_total': 204.0, 'val_acc': 0.833333, 'val_avg_loss': 0.384003, 'val_loss': 78.336697, 'val_total': 204.0}}\n",
      "2022-12-22 19:15:36,349 (monitor:936)INFO: Current best: {'test_acc': 0.813725, 'test_avg_loss': 0.465963, 'test_loss': 95.056463, 'test_total': 204.0, 'val_acc': 0.872549, 'val_avg_loss': 0.371511, 'val_loss': 75.788295, 'val_total': 204.0}\n",
      "2022-12-22 19:15:36,351 (monitor:936)INFO: Current best: {'test_acc': 0.813725, 'test_avg_loss': 0.465963, 'test_loss': 95.056463, 'test_total': 204.0, 'val_acc': 0.872549, 'val_avg_loss': 0.371511, 'val_loss': 75.788295, 'val_total': 204.0}\n",
      "2022-12-22 19:15:36,355 (server:323)INFO: Server #0: Starting evaluation at the end of round 187.\n",
      "2022-12-22 19:15:36,356 (server:330)INFO: ----------- Starting a new training round (Round #188) -------------\n",
      "2022-12-22 19:15:36,420 (client:415)INFO: {'Role': 'Client #1', 'Round': 188, 'Results_raw': {'test_acc': 0.813725, 'test_avg_loss': 0.459875, 'test_loss': 93.814591, 'test_total': 204, 'val_acc': 0.867647, 'val_avg_loss': 0.368885, 'val_loss': 75.252599, 'val_total': 204}}\n",
      "2022-12-22 19:15:36,421 (monitor:936)INFO: Current best: {'test_acc': 0.813725, 'test_avg_loss': 0.459875, 'test_loss': 93.814591, 'test_total': 204, 'val_acc': 0.867647, 'val_avg_loss': 0.368885, 'val_loss': 75.252599, 'val_total': 204}\n"
     ]
    },
    {
     "name": "stdout",
     "output_type": "stream",
     "text": [
      "no improve counter: 15\n",
      "self.best_metric: 75.78829503059387\n",
      "no improve counter: 0\n",
      "self.best_metric: 0.3688852886358897\n"
     ]
    },
    {
     "name": "stderr",
     "output_type": "stream",
     "text": [
      "2022-12-22 19:15:36,701 (client:260)INFO: {'Role': 'Client #1', 'Round': 188, 'Results_raw': {'train_acc': 0.861435, 'train_avg_loss': 0.336559, 'train_loss': 548.928507, 'train_total': 1631}}\n",
      "2022-12-22 19:15:36,703 (server:496)INFO: {'Role': 'Server #', 'Round': 188, 'Results_avg': {'test_acc': 0.813725, 'test_avg_loss': 0.459875, 'test_loss': 93.814591, 'test_total': 204.0, 'val_acc': 0.867647, 'val_avg_loss': 0.368885, 'val_loss': 75.252599, 'val_total': 204.0}}\n",
      "2022-12-22 19:15:36,704 (monitor:936)INFO: Current best: {'test_acc': [0.813725], 'test_avg_loss': [0.459875], 'test_loss': [93.814591], 'test_total': [204.0], 'val_acc': [0.867647], 'val_avg_loss': [0.368885], 'val_loss': [75.252599], 'val_total': [204.0]}\n",
      "2022-12-22 19:15:36,706 (monitor:936)INFO: Current best: {'test_acc': 0.813725, 'test_avg_loss': 0.459875, 'test_loss': 93.814591, 'test_total': 204.0, 'val_acc': 0.867647, 'val_avg_loss': 0.368885, 'val_loss': 75.252599, 'val_total': 204.0}\n",
      "2022-12-22 19:15:36,709 (server:323)INFO: Server #0: Starting evaluation at the end of round 188.\n",
      "2022-12-22 19:15:36,710 (server:330)INFO: ----------- Starting a new training round (Round #189) -------------\n",
      "2022-12-22 19:15:36,759 (client:415)INFO: {'Role': 'Client #1', 'Round': 189, 'Results_raw': {'test_acc': 0.779412, 'test_avg_loss': 0.53375, 'test_loss': 108.884916, 'test_total': 204, 'val_acc': 0.789216, 'val_avg_loss': 0.4148, 'val_loss': 84.619276, 'val_total': 204}}\n",
      "2022-12-22 19:15:36,760 (monitor:936)INFO: Current best: {'test_acc': 0.813725, 'test_avg_loss': 0.459875, 'test_loss': 93.814591, 'test_total': 204, 'val_acc': 0.867647, 'val_avg_loss': 0.368885, 'val_loss': 75.252599, 'val_total': 204}\n"
     ]
    },
    {
     "name": "stdout",
     "output_type": "stream",
     "text": [
      "no improve counter: 0\n",
      "self.best_metric: 75.2525988817215\n",
      "no improve counter: 1\n",
      "self.best_metric: 0.3688852886358897\n"
     ]
    },
    {
     "name": "stderr",
     "output_type": "stream",
     "text": [
      "2022-12-22 19:15:36,993 (client:260)INFO: {'Role': 'Client #1', 'Round': 189, 'Results_raw': {'train_acc': 0.866953, 'train_avg_loss': 0.339874, 'train_loss': 554.33416, 'train_total': 1631}}\n",
      "2022-12-22 19:15:36,995 (server:496)INFO: {'Role': 'Server #', 'Round': 189, 'Results_avg': {'test_acc': 0.779412, 'test_avg_loss': 0.53375, 'test_loss': 108.884916, 'test_total': 204.0, 'val_acc': 0.789216, 'val_avg_loss': 0.4148, 'val_loss': 84.619276, 'val_total': 204.0}}\n",
      "2022-12-22 19:15:36,996 (monitor:936)INFO: Current best: {'test_acc': 0.813725, 'test_avg_loss': 0.459875, 'test_loss': 93.814591, 'test_total': 204.0, 'val_acc': 0.867647, 'val_avg_loss': 0.368885, 'val_loss': 75.252599, 'val_total': 204.0}\n",
      "2022-12-22 19:15:36,997 (monitor:936)INFO: Current best: {'test_acc': 0.813725, 'test_avg_loss': 0.459875, 'test_loss': 93.814591, 'test_total': 204.0, 'val_acc': 0.867647, 'val_avg_loss': 0.368885, 'val_loss': 75.252599, 'val_total': 204.0}\n",
      "2022-12-22 19:15:36,999 (server:323)INFO: Server #0: Starting evaluation at the end of round 189.\n",
      "2022-12-22 19:15:37,000 (server:330)INFO: ----------- Starting a new training round (Round #190) -------------\n",
      "2022-12-22 19:15:37,055 (client:415)INFO: {'Role': 'Client #1', 'Round': 190, 'Results_raw': {'test_acc': 0.803922, 'test_avg_loss': 0.46595, 'test_loss': 95.053779, 'test_total': 204, 'val_acc': 0.828431, 'val_avg_loss': 0.38774, 'val_loss': 79.098894, 'val_total': 204}}\n",
      "2022-12-22 19:15:37,056 (monitor:936)INFO: Current best: {'test_acc': 0.813725, 'test_avg_loss': 0.459875, 'test_loss': 93.814591, 'test_total': 204, 'val_acc': 0.867647, 'val_avg_loss': 0.368885, 'val_loss': 75.252599, 'val_total': 204}\n"
     ]
    },
    {
     "name": "stdout",
     "output_type": "stream",
     "text": [
      "no improve counter: 1\n",
      "self.best_metric: 75.2525988817215\n",
      "no improve counter: 2\n",
      "self.best_metric: 0.3688852886358897\n"
     ]
    },
    {
     "name": "stderr",
     "output_type": "stream",
     "text": [
      "2022-12-22 19:15:37,343 (client:260)INFO: {'Role': 'Client #1', 'Round': 190, 'Results_raw': {'train_acc': 0.860822, 'train_avg_loss': 0.353073, 'train_loss': 575.862574, 'train_total': 1631}}\n",
      "2022-12-22 19:15:37,345 (server:496)INFO: {'Role': 'Server #', 'Round': 190, 'Results_avg': {'test_acc': 0.803922, 'test_avg_loss': 0.46595, 'test_loss': 95.053779, 'test_total': 204.0, 'val_acc': 0.828431, 'val_avg_loss': 0.38774, 'val_loss': 79.098894, 'val_total': 204.0}}\n",
      "2022-12-22 19:15:37,346 (monitor:936)INFO: Current best: {'test_acc': 0.813725, 'test_avg_loss': 0.459875, 'test_loss': 93.814591, 'test_total': 204.0, 'val_acc': 0.867647, 'val_avg_loss': 0.368885, 'val_loss': 75.252599, 'val_total': 204.0}\n",
      "2022-12-22 19:15:37,348 (monitor:936)INFO: Current best: {'test_acc': 0.813725, 'test_avg_loss': 0.459875, 'test_loss': 93.814591, 'test_total': 204.0, 'val_acc': 0.867647, 'val_avg_loss': 0.368885, 'val_loss': 75.252599, 'val_total': 204.0}\n",
      "2022-12-22 19:15:37,352 (server:323)INFO: Server #0: Starting evaluation at the end of round 190.\n",
      "2022-12-22 19:15:37,352 (server:330)INFO: ----------- Starting a new training round (Round #191) -------------\n",
      "2022-12-22 19:15:37,408 (client:415)INFO: {'Role': 'Client #1', 'Round': 191, 'Results_raw': {'test_acc': 0.803922, 'test_avg_loss': 0.518255, 'test_loss': 105.724077, 'test_total': 204, 'val_acc': 0.79902, 'val_avg_loss': 0.430787, 'val_loss': 87.880515, 'val_total': 204}}\n",
      "2022-12-22 19:15:37,409 (monitor:936)INFO: Current best: {'test_acc': 0.813725, 'test_avg_loss': 0.459875, 'test_loss': 93.814591, 'test_total': 204, 'val_acc': 0.867647, 'val_avg_loss': 0.368885, 'val_loss': 75.252599, 'val_total': 204}\n"
     ]
    },
    {
     "name": "stdout",
     "output_type": "stream",
     "text": [
      "no improve counter: 2\n",
      "self.best_metric: 75.2525988817215\n",
      "no improve counter: 3\n",
      "self.best_metric: 0.3688852886358897\n"
     ]
    },
    {
     "name": "stderr",
     "output_type": "stream",
     "text": [
      "2022-12-22 19:15:37,646 (client:260)INFO: {'Role': 'Client #1', 'Round': 191, 'Results_raw': {'train_acc': 0.870632, 'train_avg_loss': 0.333805, 'train_loss': 544.436641, 'train_total': 1631}}\n",
      "2022-12-22 19:15:37,648 (server:496)INFO: {'Role': 'Server #', 'Round': 191, 'Results_avg': {'test_acc': 0.803922, 'test_avg_loss': 0.518255, 'test_loss': 105.724077, 'test_total': 204.0, 'val_acc': 0.79902, 'val_avg_loss': 0.430787, 'val_loss': 87.880515, 'val_total': 204.0}}\n",
      "2022-12-22 19:15:37,649 (monitor:936)INFO: Current best: {'test_acc': 0.813725, 'test_avg_loss': 0.459875, 'test_loss': 93.814591, 'test_total': 204.0, 'val_acc': 0.867647, 'val_avg_loss': 0.368885, 'val_loss': 75.252599, 'val_total': 204.0}\n",
      "2022-12-22 19:15:37,651 (monitor:936)INFO: Current best: {'test_acc': 0.813725, 'test_avg_loss': 0.459875, 'test_loss': 93.814591, 'test_total': 204.0, 'val_acc': 0.867647, 'val_avg_loss': 0.368885, 'val_loss': 75.252599, 'val_total': 204.0}\n",
      "2022-12-22 19:15:37,653 (server:323)INFO: Server #0: Starting evaluation at the end of round 191.\n",
      "2022-12-22 19:15:37,653 (server:330)INFO: ----------- Starting a new training round (Round #192) -------------\n",
      "2022-12-22 19:15:37,705 (client:415)INFO: {'Role': 'Client #1', 'Round': 192, 'Results_raw': {'test_acc': 0.779412, 'test_avg_loss': 0.515929, 'test_loss': 105.249533, 'test_total': 204, 'val_acc': 0.818627, 'val_avg_loss': 0.404326, 'val_loss': 82.48253, 'val_total': 204}}\n",
      "2022-12-22 19:15:37,706 (monitor:936)INFO: Current best: {'test_acc': 0.813725, 'test_avg_loss': 0.459875, 'test_loss': 93.814591, 'test_total': 204, 'val_acc': 0.867647, 'val_avg_loss': 0.368885, 'val_loss': 75.252599, 'val_total': 204}\n"
     ]
    },
    {
     "name": "stdout",
     "output_type": "stream",
     "text": [
      "no improve counter: 3\n",
      "self.best_metric: 75.2525988817215\n",
      "no improve counter: 4\n",
      "self.best_metric: 0.3688852886358897\n"
     ]
    },
    {
     "name": "stderr",
     "output_type": "stream",
     "text": [
      "2022-12-22 19:15:37,982 (client:260)INFO: {'Role': 'Client #1', 'Round': 192, 'Results_raw': {'train_acc': 0.863274, 'train_avg_loss': 0.33661, 'train_loss': 549.011183, 'train_total': 1631}}\n",
      "2022-12-22 19:15:37,984 (server:496)INFO: {'Role': 'Server #', 'Round': 192, 'Results_avg': {'test_acc': 0.779412, 'test_avg_loss': 0.515929, 'test_loss': 105.249533, 'test_total': 204.0, 'val_acc': 0.818627, 'val_avg_loss': 0.404326, 'val_loss': 82.48253, 'val_total': 204.0}}\n",
      "2022-12-22 19:15:37,985 (monitor:936)INFO: Current best: {'test_acc': 0.813725, 'test_avg_loss': 0.459875, 'test_loss': 93.814591, 'test_total': 204.0, 'val_acc': 0.867647, 'val_avg_loss': 0.368885, 'val_loss': 75.252599, 'val_total': 204.0}\n",
      "2022-12-22 19:15:37,986 (monitor:936)INFO: Current best: {'test_acc': 0.813725, 'test_avg_loss': 0.459875, 'test_loss': 93.814591, 'test_total': 204.0, 'val_acc': 0.867647, 'val_avg_loss': 0.368885, 'val_loss': 75.252599, 'val_total': 204.0}\n",
      "2022-12-22 19:15:37,988 (server:323)INFO: Server #0: Starting evaluation at the end of round 192.\n",
      "2022-12-22 19:15:37,989 (server:330)INFO: ----------- Starting a new training round (Round #193) -------------\n",
      "2022-12-22 19:15:38,036 (client:415)INFO: {'Role': 'Client #1', 'Round': 193, 'Results_raw': {'test_acc': 0.803922, 'test_avg_loss': 0.489195, 'test_loss': 99.795868, 'test_total': 204, 'val_acc': 0.828431, 'val_avg_loss': 0.369704, 'val_loss': 75.419602, 'val_total': 204}}\n",
      "2022-12-22 19:15:38,037 (monitor:936)INFO: Current best: {'test_acc': 0.813725, 'test_avg_loss': 0.459875, 'test_loss': 93.814591, 'test_total': 204, 'val_acc': 0.867647, 'val_avg_loss': 0.368885, 'val_loss': 75.252599, 'val_total': 204}\n"
     ]
    },
    {
     "name": "stdout",
     "output_type": "stream",
     "text": [
      "no improve counter: 4\n",
      "self.best_metric: 75.2525988817215\n",
      "no improve counter: 5\n",
      "self.best_metric: 0.3688852886358897\n"
     ]
    },
    {
     "name": "stderr",
     "output_type": "stream",
     "text": [
      "2022-12-22 19:15:38,320 (client:260)INFO: {'Role': 'Client #1', 'Round': 193, 'Results_raw': {'train_acc': 0.865113, 'train_avg_loss': 0.341569, 'train_loss': 557.098761, 'train_total': 1631}}\n",
      "2022-12-22 19:15:38,323 (server:496)INFO: {'Role': 'Server #', 'Round': 193, 'Results_avg': {'test_acc': 0.803922, 'test_avg_loss': 0.489195, 'test_loss': 99.795868, 'test_total': 204.0, 'val_acc': 0.828431, 'val_avg_loss': 0.369704, 'val_loss': 75.419602, 'val_total': 204.0}}\n",
      "2022-12-22 19:15:38,325 (monitor:936)INFO: Current best: {'test_acc': 0.813725, 'test_avg_loss': 0.459875, 'test_loss': 93.814591, 'test_total': 204.0, 'val_acc': 0.867647, 'val_avg_loss': 0.368885, 'val_loss': 75.252599, 'val_total': 204.0}\n",
      "2022-12-22 19:15:38,328 (monitor:936)INFO: Current best: {'test_acc': 0.813725, 'test_avg_loss': 0.459875, 'test_loss': 93.814591, 'test_total': 204.0, 'val_acc': 0.867647, 'val_avg_loss': 0.368885, 'val_loss': 75.252599, 'val_total': 204.0}\n",
      "2022-12-22 19:15:38,332 (server:323)INFO: Server #0: Starting evaluation at the end of round 193.\n",
      "2022-12-22 19:15:38,333 (server:330)INFO: ----------- Starting a new training round (Round #194) -------------\n",
      "2022-12-22 19:15:38,392 (client:415)INFO: {'Role': 'Client #1', 'Round': 194, 'Results_raw': {'test_acc': 0.784314, 'test_avg_loss': 0.49672, 'test_loss': 101.330951, 'test_total': 204, 'val_acc': 0.803922, 'val_avg_loss': 0.397697, 'val_loss': 81.130279, 'val_total': 204}}\n",
      "2022-12-22 19:15:38,393 (monitor:936)INFO: Current best: {'test_acc': 0.813725, 'test_avg_loss': 0.459875, 'test_loss': 93.814591, 'test_total': 204, 'val_acc': 0.867647, 'val_avg_loss': 0.368885, 'val_loss': 75.252599, 'val_total': 204}\n"
     ]
    },
    {
     "name": "stdout",
     "output_type": "stream",
     "text": [
      "no improve counter: 5\n",
      "self.best_metric: 75.2525988817215\n",
      "no improve counter: 6\n",
      "self.best_metric: 0.3688852886358897\n"
     ]
    },
    {
     "name": "stderr",
     "output_type": "stream",
     "text": [
      "2022-12-22 19:15:38,667 (client:260)INFO: {'Role': 'Client #1', 'Round': 194, 'Results_raw': {'train_acc': 0.865727, 'train_avg_loss': 0.341563, 'train_loss': 557.089034, 'train_total': 1631}}\n",
      "2022-12-22 19:15:38,669 (server:496)INFO: {'Role': 'Server #', 'Round': 194, 'Results_avg': {'test_acc': 0.784314, 'test_avg_loss': 0.49672, 'test_loss': 101.330951, 'test_total': 204.0, 'val_acc': 0.803922, 'val_avg_loss': 0.397697, 'val_loss': 81.130279, 'val_total': 204.0}}\n",
      "2022-12-22 19:15:38,670 (monitor:936)INFO: Current best: {'test_acc': 0.813725, 'test_avg_loss': 0.459875, 'test_loss': 93.814591, 'test_total': 204.0, 'val_acc': 0.867647, 'val_avg_loss': 0.368885, 'val_loss': 75.252599, 'val_total': 204.0}\n",
      "2022-12-22 19:15:38,672 (monitor:936)INFO: Current best: {'test_acc': 0.813725, 'test_avg_loss': 0.459875, 'test_loss': 93.814591, 'test_total': 204.0, 'val_acc': 0.867647, 'val_avg_loss': 0.368885, 'val_loss': 75.252599, 'val_total': 204.0}\n",
      "2022-12-22 19:15:38,674 (server:323)INFO: Server #0: Starting evaluation at the end of round 194.\n",
      "2022-12-22 19:15:38,675 (server:330)INFO: ----------- Starting a new training round (Round #195) -------------\n",
      "2022-12-22 19:15:38,728 (client:415)INFO: {'Role': 'Client #1', 'Round': 195, 'Results_raw': {'test_acc': 0.813725, 'test_avg_loss': 0.454011, 'test_loss': 92.618316, 'test_total': 204, 'val_acc': 0.843137, 'val_avg_loss': 0.398966, 'val_loss': 81.389155, 'val_total': 204}}\n",
      "2022-12-22 19:15:38,729 (monitor:936)INFO: Current best: {'test_acc': 0.813725, 'test_avg_loss': 0.459875, 'test_loss': 93.814591, 'test_total': 204, 'val_acc': 0.867647, 'val_avg_loss': 0.368885, 'val_loss': 75.252599, 'val_total': 204}\n"
     ]
    },
    {
     "name": "stdout",
     "output_type": "stream",
     "text": [
      "no improve counter: 6\n",
      "self.best_metric: 75.2525988817215\n",
      "no improve counter: 7\n",
      "self.best_metric: 0.3688852886358897\n"
     ]
    },
    {
     "name": "stderr",
     "output_type": "stream",
     "text": [
      "2022-12-22 19:15:38,998 (client:260)INFO: {'Role': 'Client #1', 'Round': 195, 'Results_raw': {'train_acc': 0.865727, 'train_avg_loss': 0.341609, 'train_loss': 557.164026, 'train_total': 1631}}\n",
      "2022-12-22 19:15:39,000 (server:496)INFO: {'Role': 'Server #', 'Round': 195, 'Results_avg': {'test_acc': 0.813725, 'test_avg_loss': 0.454011, 'test_loss': 92.618316, 'test_total': 204.0, 'val_acc': 0.843137, 'val_avg_loss': 0.398966, 'val_loss': 81.389155, 'val_total': 204.0}}\n",
      "2022-12-22 19:15:39,001 (monitor:936)INFO: Current best: {'test_acc': 0.813725, 'test_avg_loss': 0.459875, 'test_loss': 93.814591, 'test_total': 204.0, 'val_acc': 0.867647, 'val_avg_loss': 0.368885, 'val_loss': 75.252599, 'val_total': 204.0}\n",
      "2022-12-22 19:15:39,003 (monitor:936)INFO: Current best: {'test_acc': 0.813725, 'test_avg_loss': 0.459875, 'test_loss': 93.814591, 'test_total': 204.0, 'val_acc': 0.867647, 'val_avg_loss': 0.368885, 'val_loss': 75.252599, 'val_total': 204.0}\n",
      "2022-12-22 19:15:39,005 (server:323)INFO: Server #0: Starting evaluation at the end of round 195.\n",
      "2022-12-22 19:15:39,006 (server:330)INFO: ----------- Starting a new training round (Round #196) -------------\n",
      "2022-12-22 19:15:39,067 (client:415)INFO: {'Role': 'Client #1', 'Round': 196, 'Results_raw': {'test_acc': 0.808824, 'test_avg_loss': 0.46575, 'test_loss': 95.013035, 'test_total': 204, 'val_acc': 0.857843, 'val_avg_loss': 0.370188, 'val_loss': 75.518328, 'val_total': 204}}\n",
      "2022-12-22 19:15:39,068 (monitor:936)INFO: Current best: {'test_acc': 0.813725, 'test_avg_loss': 0.459875, 'test_loss': 93.814591, 'test_total': 204, 'val_acc': 0.867647, 'val_avg_loss': 0.368885, 'val_loss': 75.252599, 'val_total': 204}\n"
     ]
    },
    {
     "name": "stdout",
     "output_type": "stream",
     "text": [
      "no improve counter: 7\n",
      "self.best_metric: 75.2525988817215\n",
      "no improve counter: 8\n",
      "self.best_metric: 0.3688852886358897\n"
     ]
    },
    {
     "name": "stderr",
     "output_type": "stream",
     "text": [
      "2022-12-22 19:15:39,339 (client:260)INFO: {'Role': 'Client #1', 'Round': 196, 'Results_raw': {'train_acc': 0.862661, 'train_avg_loss': 0.34315, 'train_loss': 559.677463, 'train_total': 1631}}\n",
      "2022-12-22 19:15:39,342 (server:496)INFO: {'Role': 'Server #', 'Round': 196, 'Results_avg': {'test_acc': 0.808824, 'test_avg_loss': 0.46575, 'test_loss': 95.013035, 'test_total': 204.0, 'val_acc': 0.857843, 'val_avg_loss': 0.370188, 'val_loss': 75.518328, 'val_total': 204.0}}\n",
      "2022-12-22 19:15:39,343 (monitor:936)INFO: Current best: {'test_acc': 0.813725, 'test_avg_loss': 0.459875, 'test_loss': 93.814591, 'test_total': 204.0, 'val_acc': 0.867647, 'val_avg_loss': 0.368885, 'val_loss': 75.252599, 'val_total': 204.0}\n",
      "2022-12-22 19:15:39,346 (monitor:936)INFO: Current best: {'test_acc': 0.813725, 'test_avg_loss': 0.459875, 'test_loss': 93.814591, 'test_total': 204.0, 'val_acc': 0.867647, 'val_avg_loss': 0.368885, 'val_loss': 75.252599, 'val_total': 204.0}\n",
      "2022-12-22 19:15:39,349 (server:323)INFO: Server #0: Starting evaluation at the end of round 196.\n",
      "2022-12-22 19:15:39,350 (server:330)INFO: ----------- Starting a new training round (Round #197) -------------\n",
      "2022-12-22 19:15:39,409 (client:415)INFO: {'Role': 'Client #1', 'Round': 197, 'Results_raw': {'test_acc': 0.79902, 'test_avg_loss': 0.491851, 'test_loss': 100.337689, 'test_total': 204, 'val_acc': 0.818627, 'val_avg_loss': 0.403293, 'val_loss': 82.271826, 'val_total': 204}}\n",
      "2022-12-22 19:15:39,411 (monitor:936)INFO: Current best: {'test_acc': 0.813725, 'test_avg_loss': 0.459875, 'test_loss': 93.814591, 'test_total': 204, 'val_acc': 0.867647, 'val_avg_loss': 0.368885, 'val_loss': 75.252599, 'val_total': 204}\n"
     ]
    },
    {
     "name": "stdout",
     "output_type": "stream",
     "text": [
      "no improve counter: 8\n",
      "self.best_metric: 75.2525988817215\n",
      "no improve counter: 9\n",
      "self.best_metric: 0.3688852886358897\n"
     ]
    },
    {
     "name": "stderr",
     "output_type": "stream",
     "text": [
      "2022-12-22 19:15:39,687 (client:260)INFO: {'Role': 'Client #1', 'Round': 197, 'Results_raw': {'train_acc': 0.871245, 'train_avg_loss': 0.334701, 'train_loss': 545.897199, 'train_total': 1631}}\n",
      "2022-12-22 19:15:39,688 (server:496)INFO: {'Role': 'Server #', 'Round': 197, 'Results_avg': {'test_acc': 0.79902, 'test_avg_loss': 0.491851, 'test_loss': 100.337689, 'test_total': 204.0, 'val_acc': 0.818627, 'val_avg_loss': 0.403293, 'val_loss': 82.271826, 'val_total': 204.0}}\n",
      "2022-12-22 19:15:39,690 (monitor:936)INFO: Current best: {'test_acc': 0.813725, 'test_avg_loss': 0.459875, 'test_loss': 93.814591, 'test_total': 204.0, 'val_acc': 0.867647, 'val_avg_loss': 0.368885, 'val_loss': 75.252599, 'val_total': 204.0}\n",
      "2022-12-22 19:15:39,692 (monitor:936)INFO: Current best: {'test_acc': 0.813725, 'test_avg_loss': 0.459875, 'test_loss': 93.814591, 'test_total': 204.0, 'val_acc': 0.867647, 'val_avg_loss': 0.368885, 'val_loss': 75.252599, 'val_total': 204.0}\n",
      "2022-12-22 19:15:39,697 (server:323)INFO: Server #0: Starting evaluation at the end of round 197.\n",
      "2022-12-22 19:15:39,698 (server:330)INFO: ----------- Starting a new training round (Round #198) -------------\n",
      "2022-12-22 19:15:39,765 (client:415)INFO: {'Role': 'Client #1', 'Round': 198, 'Results_raw': {'test_acc': 0.813725, 'test_avg_loss': 0.456065, 'test_loss': 93.037322, 'test_total': 204, 'val_acc': 0.857843, 'val_avg_loss': 0.369236, 'val_loss': 75.3241, 'val_total': 204}}\n",
      "2022-12-22 19:15:39,766 (monitor:936)INFO: Current best: {'test_acc': 0.813725, 'test_avg_loss': 0.459875, 'test_loss': 93.814591, 'test_total': 204, 'val_acc': 0.867647, 'val_avg_loss': 0.368885, 'val_loss': 75.252599, 'val_total': 204}\n"
     ]
    },
    {
     "name": "stdout",
     "output_type": "stream",
     "text": [
      "no improve counter: 9\n",
      "self.best_metric: 75.2525988817215\n",
      "no improve counter: 10\n",
      "self.best_metric: 0.3688852886358897\n"
     ]
    },
    {
     "name": "stderr",
     "output_type": "stream",
     "text": [
      "2022-12-22 19:15:40,026 (client:260)INFO: {'Role': 'Client #1', 'Round': 198, 'Results_raw': {'train_acc': 0.866953, 'train_avg_loss': 0.336035, 'train_loss': 548.072405, 'train_total': 1631}}\n",
      "2022-12-22 19:15:40,028 (server:496)INFO: {'Role': 'Server #', 'Round': 198, 'Results_avg': {'test_acc': 0.813725, 'test_avg_loss': 0.456065, 'test_loss': 93.037322, 'test_total': 204.0, 'val_acc': 0.857843, 'val_avg_loss': 0.369236, 'val_loss': 75.3241, 'val_total': 204.0}}\n",
      "2022-12-22 19:15:40,029 (monitor:936)INFO: Current best: {'test_acc': 0.813725, 'test_avg_loss': 0.459875, 'test_loss': 93.814591, 'test_total': 204.0, 'val_acc': 0.867647, 'val_avg_loss': 0.368885, 'val_loss': 75.252599, 'val_total': 204.0}\n",
      "2022-12-22 19:15:40,030 (monitor:936)INFO: Current best: {'test_acc': 0.813725, 'test_avg_loss': 0.459875, 'test_loss': 93.814591, 'test_total': 204.0, 'val_acc': 0.867647, 'val_avg_loss': 0.368885, 'val_loss': 75.252599, 'val_total': 204.0}\n",
      "2022-12-22 19:15:40,032 (server:323)INFO: Server #0: Starting evaluation at the end of round 198.\n",
      "2022-12-22 19:15:40,032 (server:330)INFO: ----------- Starting a new training round (Round #199) -------------\n",
      "2022-12-22 19:15:40,088 (client:415)INFO: {'Role': 'Client #1', 'Round': 199, 'Results_raw': {'test_acc': 0.803922, 'test_avg_loss': 0.488109, 'test_loss': 99.574198, 'test_total': 204, 'val_acc': 0.828431, 'val_avg_loss': 0.387918, 'val_loss': 79.135231, 'val_total': 204}}\n",
      "2022-12-22 19:15:40,089 (monitor:936)INFO: Current best: {'test_acc': 0.813725, 'test_avg_loss': 0.459875, 'test_loss': 93.814591, 'test_total': 204, 'val_acc': 0.867647, 'val_avg_loss': 0.368885, 'val_loss': 75.252599, 'val_total': 204}\n"
     ]
    },
    {
     "name": "stdout",
     "output_type": "stream",
     "text": [
      "no improve counter: 10\n",
      "self.best_metric: 75.2525988817215\n",
      "no improve counter: 11\n",
      "self.best_metric: 0.3688852886358897\n"
     ]
    },
    {
     "name": "stderr",
     "output_type": "stream",
     "text": [
      "2022-12-22 19:15:40,371 (client:260)INFO: {'Role': 'Client #1', 'Round': 199, 'Results_raw': {'train_acc': 0.859595, 'train_avg_loss': 0.334208, 'train_loss': 545.093294, 'train_total': 1631}}\n",
      "2022-12-22 19:15:40,373 (server:496)INFO: {'Role': 'Server #', 'Round': 199, 'Results_avg': {'test_acc': 0.803922, 'test_avg_loss': 0.488109, 'test_loss': 99.574198, 'test_total': 204.0, 'val_acc': 0.828431, 'val_avg_loss': 0.387918, 'val_loss': 79.135231, 'val_total': 204.0}}\n",
      "2022-12-22 19:15:40,374 (monitor:936)INFO: Current best: {'test_acc': 0.813725, 'test_avg_loss': 0.459875, 'test_loss': 93.814591, 'test_total': 204.0, 'val_acc': 0.867647, 'val_avg_loss': 0.368885, 'val_loss': 75.252599, 'val_total': 204.0}\n",
      "2022-12-22 19:15:40,375 (monitor:936)INFO: Current best: {'test_acc': 0.813725, 'test_avg_loss': 0.459875, 'test_loss': 93.814591, 'test_total': 204.0, 'val_acc': 0.867647, 'val_avg_loss': 0.368885, 'val_loss': 75.252599, 'val_total': 204.0}\n",
      "2022-12-22 19:15:40,379 (server:323)INFO: Server #0: Starting evaluation at the end of round 199.\n",
      "2022-12-22 19:15:40,381 (server:330)INFO: ----------- Starting a new training round (Round #200) -------------\n",
      "2022-12-22 19:15:40,441 (client:415)INFO: {'Role': 'Client #1', 'Round': 200, 'Results_raw': {'test_acc': 0.794118, 'test_avg_loss': 0.517159, 'test_loss': 105.500406, 'test_total': 204, 'val_acc': 0.823529, 'val_avg_loss': 0.407463, 'val_loss': 83.12236, 'val_total': 204}}\n",
      "2022-12-22 19:15:40,442 (monitor:936)INFO: Current best: {'test_acc': 0.813725, 'test_avg_loss': 0.459875, 'test_loss': 93.814591, 'test_total': 204, 'val_acc': 0.867647, 'val_avg_loss': 0.368885, 'val_loss': 75.252599, 'val_total': 204}\n"
     ]
    },
    {
     "name": "stdout",
     "output_type": "stream",
     "text": [
      "no improve counter: 11\n",
      "self.best_metric: 75.2525988817215\n",
      "no improve counter: 12\n",
      "self.best_metric: 0.3688852886358897\n"
     ]
    },
    {
     "name": "stderr",
     "output_type": "stream",
     "text": [
      "2022-12-22 19:15:40,701 (client:260)INFO: {'Role': 'Client #1', 'Round': 200, 'Results_raw': {'train_acc': 0.863274, 'train_avg_loss': 0.330751, 'train_loss': 539.454923, 'train_total': 1631}}\n",
      "2022-12-22 19:15:40,704 (server:496)INFO: {'Role': 'Server #', 'Round': 200, 'Results_avg': {'test_acc': 0.794118, 'test_avg_loss': 0.517159, 'test_loss': 105.500406, 'test_total': 204.0, 'val_acc': 0.823529, 'val_avg_loss': 0.407463, 'val_loss': 83.12236, 'val_total': 204.0}}\n",
      "2022-12-22 19:15:40,705 (monitor:936)INFO: Current best: {'test_acc': 0.813725, 'test_avg_loss': 0.459875, 'test_loss': 93.814591, 'test_total': 204.0, 'val_acc': 0.867647, 'val_avg_loss': 0.368885, 'val_loss': 75.252599, 'val_total': 204.0}\n",
      "2022-12-22 19:15:40,707 (monitor:936)INFO: Current best: {'test_acc': 0.813725, 'test_avg_loss': 0.459875, 'test_loss': 93.814591, 'test_total': 204.0, 'val_acc': 0.867647, 'val_avg_loss': 0.368885, 'val_loss': 75.252599, 'val_total': 204.0}\n",
      "2022-12-22 19:15:40,709 (server:323)INFO: Server #0: Starting evaluation at the end of round 200.\n",
      "2022-12-22 19:15:40,711 (server:330)INFO: ----------- Starting a new training round (Round #201) -------------\n",
      "2022-12-22 19:15:40,777 (client:415)INFO: {'Role': 'Client #1', 'Round': 201, 'Results_raw': {'test_acc': 0.79902, 'test_avg_loss': 0.475127, 'test_loss': 96.925991, 'test_total': 204, 'val_acc': 0.828431, 'val_avg_loss': 0.380107, 'val_loss': 77.541788, 'val_total': 204}}\n",
      "2022-12-22 19:15:40,779 (monitor:936)INFO: Current best: {'test_acc': 0.813725, 'test_avg_loss': 0.459875, 'test_loss': 93.814591, 'test_total': 204, 'val_acc': 0.867647, 'val_avg_loss': 0.368885, 'val_loss': 75.252599, 'val_total': 204}\n"
     ]
    },
    {
     "name": "stdout",
     "output_type": "stream",
     "text": [
      "no improve counter: 12\n",
      "self.best_metric: 75.2525988817215\n",
      "no improve counter: 13\n",
      "self.best_metric: 0.3688852886358897\n"
     ]
    },
    {
     "name": "stderr",
     "output_type": "stream",
     "text": [
      "2022-12-22 19:15:41,068 (client:260)INFO: {'Role': 'Client #1', 'Round': 201, 'Results_raw': {'train_acc': 0.860208, 'train_avg_loss': 0.338703, 'train_loss': 552.424995, 'train_total': 1631}}\n",
      "2022-12-22 19:15:41,071 (server:496)INFO: {'Role': 'Server #', 'Round': 201, 'Results_avg': {'test_acc': 0.79902, 'test_avg_loss': 0.475127, 'test_loss': 96.925991, 'test_total': 204.0, 'val_acc': 0.828431, 'val_avg_loss': 0.380107, 'val_loss': 77.541788, 'val_total': 204.0}}\n",
      "2022-12-22 19:15:41,072 (monitor:936)INFO: Current best: {'test_acc': 0.813725, 'test_avg_loss': 0.459875, 'test_loss': 93.814591, 'test_total': 204.0, 'val_acc': 0.867647, 'val_avg_loss': 0.368885, 'val_loss': 75.252599, 'val_total': 204.0}\n",
      "2022-12-22 19:15:41,074 (monitor:936)INFO: Current best: {'test_acc': 0.813725, 'test_avg_loss': 0.459875, 'test_loss': 93.814591, 'test_total': 204.0, 'val_acc': 0.867647, 'val_avg_loss': 0.368885, 'val_loss': 75.252599, 'val_total': 204.0}\n",
      "2022-12-22 19:15:41,078 (server:323)INFO: Server #0: Starting evaluation at the end of round 201.\n",
      "2022-12-22 19:15:41,079 (server:330)INFO: ----------- Starting a new training round (Round #202) -------------\n",
      "2022-12-22 19:15:41,138 (client:415)INFO: {'Role': 'Client #1', 'Round': 202, 'Results_raw': {'test_acc': 0.794118, 'test_avg_loss': 0.490088, 'test_loss': 99.977901, 'test_total': 204, 'val_acc': 0.813725, 'val_avg_loss': 0.433543, 'val_loss': 88.4428, 'val_total': 204}}\n",
      "2022-12-22 19:15:41,139 (monitor:936)INFO: Current best: {'test_acc': 0.813725, 'test_avg_loss': 0.459875, 'test_loss': 93.814591, 'test_total': 204, 'val_acc': 0.867647, 'val_avg_loss': 0.368885, 'val_loss': 75.252599, 'val_total': 204}\n"
     ]
    },
    {
     "name": "stdout",
     "output_type": "stream",
     "text": [
      "no improve counter: 13\n",
      "self.best_metric: 75.2525988817215\n",
      "no improve counter: 14\n",
      "self.best_metric: 0.3688852886358897\n"
     ]
    },
    {
     "name": "stderr",
     "output_type": "stream",
     "text": [
      "2022-12-22 19:15:41,407 (client:260)INFO: {'Role': 'Client #1', 'Round': 202, 'Results_raw': {'train_acc': 0.867566, 'train_avg_loss': 0.339296, 'train_loss': 553.392087, 'train_total': 1631}}\n",
      "2022-12-22 19:15:41,408 (server:496)INFO: {'Role': 'Server #', 'Round': 202, 'Results_avg': {'test_acc': 0.794118, 'test_avg_loss': 0.490088, 'test_loss': 99.977901, 'test_total': 204.0, 'val_acc': 0.813725, 'val_avg_loss': 0.433543, 'val_loss': 88.4428, 'val_total': 204.0}}\n",
      "2022-12-22 19:15:41,410 (monitor:936)INFO: Current best: {'test_acc': 0.813725, 'test_avg_loss': 0.459875, 'test_loss': 93.814591, 'test_total': 204.0, 'val_acc': 0.867647, 'val_avg_loss': 0.368885, 'val_loss': 75.252599, 'val_total': 204.0}\n",
      "2022-12-22 19:15:41,412 (monitor:936)INFO: Current best: {'test_acc': 0.813725, 'test_avg_loss': 0.459875, 'test_loss': 93.814591, 'test_total': 204.0, 'val_acc': 0.867647, 'val_avg_loss': 0.368885, 'val_loss': 75.252599, 'val_total': 204.0}\n",
      "2022-12-22 19:15:41,415 (server:323)INFO: Server #0: Starting evaluation at the end of round 202.\n",
      "2022-12-22 19:15:41,416 (server:330)INFO: ----------- Starting a new training round (Round #203) -------------\n",
      "2022-12-22 19:15:41,465 (client:415)INFO: {'Role': 'Client #1', 'Round': 203, 'Results_raw': {'test_acc': 0.803922, 'test_avg_loss': 0.475738, 'test_loss': 97.050483, 'test_total': 204, 'val_acc': 0.843137, 'val_avg_loss': 0.379524, 'val_loss': 77.422859, 'val_total': 204}}\n",
      "2022-12-22 19:15:41,467 (monitor:936)INFO: Current best: {'test_acc': 0.813725, 'test_avg_loss': 0.459875, 'test_loss': 93.814591, 'test_total': 204, 'val_acc': 0.867647, 'val_avg_loss': 0.368885, 'val_loss': 75.252599, 'val_total': 204}\n"
     ]
    },
    {
     "name": "stdout",
     "output_type": "stream",
     "text": [
      "no improve counter: 14\n",
      "self.best_metric: 75.2525988817215\n",
      "no improve counter: 15\n",
      "self.best_metric: 0.3688852886358897\n"
     ]
    },
    {
     "name": "stderr",
     "output_type": "stream",
     "text": [
      "2022-12-22 19:15:41,729 (client:260)INFO: {'Role': 'Client #1', 'Round': 203, 'Results_raw': {'train_acc': 0.865727, 'train_avg_loss': 0.337217, 'train_loss': 550.000998, 'train_total': 1631}}\n",
      "2022-12-22 19:15:41,731 (server:496)INFO: {'Role': 'Server #', 'Round': 203, 'Results_avg': {'test_acc': 0.803922, 'test_avg_loss': 0.475738, 'test_loss': 97.050483, 'test_total': 204.0, 'val_acc': 0.843137, 'val_avg_loss': 0.379524, 'val_loss': 77.422859, 'val_total': 204.0}}\n",
      "2022-12-22 19:15:41,733 (monitor:936)INFO: Current best: {'test_acc': 0.813725, 'test_avg_loss': 0.459875, 'test_loss': 93.814591, 'test_total': 204.0, 'val_acc': 0.867647, 'val_avg_loss': 0.368885, 'val_loss': 75.252599, 'val_total': 204.0}\n",
      "2022-12-22 19:15:41,734 (monitor:936)INFO: Current best: {'test_acc': 0.813725, 'test_avg_loss': 0.459875, 'test_loss': 93.814591, 'test_total': 204.0, 'val_acc': 0.867647, 'val_avg_loss': 0.368885, 'val_loss': 75.252599, 'val_total': 204.0}\n",
      "2022-12-22 19:15:41,736 (server:323)INFO: Server #0: Starting evaluation at the end of round 203.\n",
      "2022-12-22 19:15:41,737 (server:330)INFO: ----------- Starting a new training round (Round #204) -------------\n",
      "2022-12-22 19:15:41,794 (client:415)INFO: {'Role': 'Client #1', 'Round': 204, 'Results_raw': {'test_acc': 0.79902, 'test_avg_loss': 0.512652, 'test_loss': 104.581041, 'test_total': 204, 'val_acc': 0.808824, 'val_avg_loss': 0.405585, 'val_loss': 82.739282, 'val_total': 204}}\n",
      "2022-12-22 19:15:41,795 (monitor:936)INFO: Current best: {'test_acc': 0.813725, 'test_avg_loss': 0.459875, 'test_loss': 93.814591, 'test_total': 204, 'val_acc': 0.867647, 'val_avg_loss': 0.368885, 'val_loss': 75.252599, 'val_total': 204}\n"
     ]
    },
    {
     "name": "stdout",
     "output_type": "stream",
     "text": [
      "no improve counter: 15\n",
      "self.best_metric: 75.2525988817215\n",
      "no improve counter: 16\n",
      "self.best_metric: 0.3688852886358897\n"
     ]
    },
    {
     "name": "stderr",
     "output_type": "stream",
     "text": [
      "2022-12-22 19:15:42,070 (client:260)INFO: {'Role': 'Client #1', 'Round': 204, 'Results_raw': {'train_acc': 0.865727, 'train_avg_loss': 0.328632, 'train_loss': 535.99957, 'train_total': 1631}}\n",
      "2022-12-22 19:15:42,072 (server:496)INFO: {'Role': 'Server #', 'Round': 204, 'Results_avg': {'test_acc': 0.79902, 'test_avg_loss': 0.512652, 'test_loss': 104.581041, 'test_total': 204.0, 'val_acc': 0.808824, 'val_avg_loss': 0.405585, 'val_loss': 82.739282, 'val_total': 204.0}}\n",
      "2022-12-22 19:15:42,073 (monitor:936)INFO: Current best: {'test_acc': 0.813725, 'test_avg_loss': 0.459875, 'test_loss': 93.814591, 'test_total': 204.0, 'val_acc': 0.867647, 'val_avg_loss': 0.368885, 'val_loss': 75.252599, 'val_total': 204.0}\n",
      "2022-12-22 19:15:42,074 (monitor:936)INFO: Current best: {'test_acc': 0.813725, 'test_avg_loss': 0.459875, 'test_loss': 93.814591, 'test_total': 204.0, 'val_acc': 0.867647, 'val_avg_loss': 0.368885, 'val_loss': 75.252599, 'val_total': 204.0}\n",
      "2022-12-22 19:15:42,076 (server:323)INFO: Server #0: Starting evaluation at the end of round 204.\n",
      "2022-12-22 19:15:42,077 (server:330)INFO: ----------- Starting a new training round (Round #205) -------------\n",
      "2022-12-22 19:15:42,132 (client:415)INFO: {'Role': 'Client #1', 'Round': 205, 'Results_raw': {'test_acc': 0.808824, 'test_avg_loss': 0.469879, 'test_loss': 95.855351, 'test_total': 204, 'val_acc': 0.848039, 'val_avg_loss': 0.372879, 'val_loss': 76.067403, 'val_total': 204}}\n",
      "2022-12-22 19:15:42,133 (monitor:936)INFO: Current best: {'test_acc': 0.813725, 'test_avg_loss': 0.459875, 'test_loss': 93.814591, 'test_total': 204, 'val_acc': 0.867647, 'val_avg_loss': 0.368885, 'val_loss': 75.252599, 'val_total': 204}\n"
     ]
    },
    {
     "name": "stdout",
     "output_type": "stream",
     "text": [
      "no improve counter: 16\n",
      "self.best_metric: 75.2525988817215\n",
      "no improve counter: 17\n",
      "self.best_metric: 0.3688852886358897\n"
     ]
    },
    {
     "name": "stderr",
     "output_type": "stream",
     "text": [
      "2022-12-22 19:15:42,413 (client:260)INFO: {'Role': 'Client #1', 'Round': 205, 'Results_raw': {'train_acc': 0.862048, 'train_avg_loss': 0.335081, 'train_loss': 546.517143, 'train_total': 1631}}\n",
      "2022-12-22 19:15:42,415 (server:496)INFO: {'Role': 'Server #', 'Round': 205, 'Results_avg': {'test_acc': 0.808824, 'test_avg_loss': 0.469879, 'test_loss': 95.855351, 'test_total': 204.0, 'val_acc': 0.848039, 'val_avg_loss': 0.372879, 'val_loss': 76.067403, 'val_total': 204.0}}\n",
      "2022-12-22 19:15:42,417 (monitor:936)INFO: Current best: {'test_acc': 0.813725, 'test_avg_loss': 0.459875, 'test_loss': 93.814591, 'test_total': 204.0, 'val_acc': 0.867647, 'val_avg_loss': 0.368885, 'val_loss': 75.252599, 'val_total': 204.0}\n",
      "2022-12-22 19:15:42,419 (monitor:936)INFO: Current best: {'test_acc': 0.813725, 'test_avg_loss': 0.459875, 'test_loss': 93.814591, 'test_total': 204.0, 'val_acc': 0.867647, 'val_avg_loss': 0.368885, 'val_loss': 75.252599, 'val_total': 204.0}\n",
      "2022-12-22 19:15:42,421 (server:323)INFO: Server #0: Starting evaluation at the end of round 205.\n",
      "2022-12-22 19:15:42,422 (server:330)INFO: ----------- Starting a new training round (Round #206) -------------\n",
      "2022-12-22 19:15:42,470 (client:415)INFO: {'Role': 'Client #1', 'Round': 206, 'Results_raw': {'test_acc': 0.808824, 'test_avg_loss': 0.455827, 'test_loss': 92.988687, 'test_total': 204, 'val_acc': 0.828431, 'val_avg_loss': 0.409726, 'val_loss': 83.584103, 'val_total': 204}}\n",
      "2022-12-22 19:15:42,471 (monitor:936)INFO: Current best: {'test_acc': 0.813725, 'test_avg_loss': 0.459875, 'test_loss': 93.814591, 'test_total': 204, 'val_acc': 0.867647, 'val_avg_loss': 0.368885, 'val_loss': 75.252599, 'val_total': 204}\n"
     ]
    },
    {
     "name": "stdout",
     "output_type": "stream",
     "text": [
      "no improve counter: 17\n",
      "self.best_metric: 75.2525988817215\n",
      "no improve counter: 18\n",
      "self.best_metric: 0.3688852886358897\n"
     ]
    },
    {
     "name": "stderr",
     "output_type": "stream",
     "text": [
      "2022-12-22 19:15:42,741 (client:260)INFO: {'Role': 'Client #1', 'Round': 206, 'Results_raw': {'train_acc': 0.86634, 'train_avg_loss': 0.337697, 'train_loss': 550.784307, 'train_total': 1631}}\n",
      "2022-12-22 19:15:42,742 (server:496)INFO: {'Role': 'Server #', 'Round': 206, 'Results_avg': {'test_acc': 0.808824, 'test_avg_loss': 0.455827, 'test_loss': 92.988687, 'test_total': 204.0, 'val_acc': 0.828431, 'val_avg_loss': 0.409726, 'val_loss': 83.584103, 'val_total': 204.0}}\n",
      "2022-12-22 19:15:42,745 (monitor:936)INFO: Current best: {'test_acc': 0.813725, 'test_avg_loss': 0.459875, 'test_loss': 93.814591, 'test_total': 204.0, 'val_acc': 0.867647, 'val_avg_loss': 0.368885, 'val_loss': 75.252599, 'val_total': 204.0}\n",
      "2022-12-22 19:15:42,747 (monitor:936)INFO: Current best: {'test_acc': 0.813725, 'test_avg_loss': 0.459875, 'test_loss': 93.814591, 'test_total': 204.0, 'val_acc': 0.867647, 'val_avg_loss': 0.368885, 'val_loss': 75.252599, 'val_total': 204.0}\n",
      "2022-12-22 19:15:42,751 (server:323)INFO: Server #0: Starting evaluation at the end of round 206.\n",
      "2022-12-22 19:15:42,752 (server:330)INFO: ----------- Starting a new training round (Round #207) -------------\n",
      "2022-12-22 19:15:42,806 (client:415)INFO: {'Role': 'Client #1', 'Round': 207, 'Results_raw': {'test_acc': 0.818627, 'test_avg_loss': 0.465706, 'test_loss': 95.004105, 'test_total': 204, 'val_acc': 0.867647, 'val_avg_loss': 0.369588, 'val_loss': 75.396044, 'val_total': 204}}\n",
      "2022-12-22 19:15:42,807 (monitor:936)INFO: Current best: {'test_acc': 0.813725, 'test_avg_loss': 0.459875, 'test_loss': 93.814591, 'test_total': 204, 'val_acc': 0.867647, 'val_avg_loss': 0.368885, 'val_loss': 75.252599, 'val_total': 204}\n"
     ]
    },
    {
     "name": "stdout",
     "output_type": "stream",
     "text": [
      "no improve counter: 18\n",
      "self.best_metric: 75.2525988817215\n",
      "no improve counter: 19\n",
      "self.best_metric: 0.3688852886358897\n"
     ]
    },
    {
     "name": "stderr",
     "output_type": "stream",
     "text": [
      "2022-12-22 19:15:43,079 (client:260)INFO: {'Role': 'Client #1', 'Round': 207, 'Results_raw': {'train_acc': 0.862661, 'train_avg_loss': 0.336338, 'train_loss': 548.567207, 'train_total': 1631}}\n",
      "2022-12-22 19:15:43,082 (server:496)INFO: {'Role': 'Server #', 'Round': 207, 'Results_avg': {'test_acc': 0.818627, 'test_avg_loss': 0.465706, 'test_loss': 95.004105, 'test_total': 204.0, 'val_acc': 0.867647, 'val_avg_loss': 0.369588, 'val_loss': 75.396044, 'val_total': 204.0}}\n",
      "2022-12-22 19:15:43,083 (monitor:936)INFO: Current best: {'test_acc': 0.813725, 'test_avg_loss': 0.459875, 'test_loss': 93.814591, 'test_total': 204.0, 'val_acc': 0.867647, 'val_avg_loss': 0.368885, 'val_loss': 75.252599, 'val_total': 204.0}\n",
      "2022-12-22 19:15:43,085 (monitor:936)INFO: Current best: {'test_acc': 0.813725, 'test_avg_loss': 0.459875, 'test_loss': 93.814591, 'test_total': 204.0, 'val_acc': 0.867647, 'val_avg_loss': 0.368885, 'val_loss': 75.252599, 'val_total': 204.0}\n",
      "2022-12-22 19:15:43,086 (server:323)INFO: Server #0: Starting evaluation at the end of round 207.\n",
      "2022-12-22 19:15:43,087 (server:330)INFO: ----------- Starting a new training round (Round #208) -------------\n",
      "2022-12-22 19:15:43,149 (client:415)INFO: {'Role': 'Client #1', 'Round': 208, 'Results_raw': {'test_acc': 0.808824, 'test_avg_loss': 0.472415, 'test_loss': 96.372628, 'test_total': 204, 'val_acc': 0.823529, 'val_avg_loss': 0.397096, 'val_loss': 81.00757, 'val_total': 204}}\n",
      "2022-12-22 19:15:43,150 (monitor:936)INFO: Current best: {'test_acc': 0.813725, 'test_avg_loss': 0.459875, 'test_loss': 93.814591, 'test_total': 204, 'val_acc': 0.867647, 'val_avg_loss': 0.368885, 'val_loss': 75.252599, 'val_total': 204}\n"
     ]
    },
    {
     "name": "stdout",
     "output_type": "stream",
     "text": [
      "no improve counter: 19\n",
      "self.best_metric: 75.2525988817215\n",
      "no improve counter: 20\n",
      "self.best_metric: 0.3688852886358897\n"
     ]
    },
    {
     "name": "stderr",
     "output_type": "stream",
     "text": [
      "2022-12-22 19:15:43,410 (client:260)INFO: {'Role': 'Client #1', 'Round': 208, 'Results_raw': {'train_acc': 0.861435, 'train_avg_loss': 0.334304, 'train_loss': 545.249495, 'train_total': 1631}}\n",
      "2022-12-22 19:15:43,412 (server:496)INFO: {'Role': 'Server #', 'Round': 208, 'Results_avg': {'test_acc': 0.808824, 'test_avg_loss': 0.472415, 'test_loss': 96.372628, 'test_total': 204.0, 'val_acc': 0.823529, 'val_avg_loss': 0.397096, 'val_loss': 81.00757, 'val_total': 204.0}}\n",
      "2022-12-22 19:15:43,414 (monitor:936)INFO: Current best: {'test_acc': 0.813725, 'test_avg_loss': 0.459875, 'test_loss': 93.814591, 'test_total': 204.0, 'val_acc': 0.867647, 'val_avg_loss': 0.368885, 'val_loss': 75.252599, 'val_total': 204.0}\n",
      "2022-12-22 19:15:43,417 (monitor:936)INFO: Current best: {'test_acc': 0.813725, 'test_avg_loss': 0.459875, 'test_loss': 93.814591, 'test_total': 204.0, 'val_acc': 0.867647, 'val_avg_loss': 0.368885, 'val_loss': 75.252599, 'val_total': 204.0}\n",
      "2022-12-22 19:15:43,420 (server:323)INFO: Server #0: Starting evaluation at the end of round 208.\n",
      "2022-12-22 19:15:43,421 (server:330)INFO: ----------- Starting a new training round (Round #209) -------------\n",
      "2022-12-22 19:15:43,477 (client:415)INFO: {'Role': 'Client #1', 'Round': 209, 'Results_raw': {'test_acc': 0.79902, 'test_avg_loss': 0.474849, 'test_loss': 96.869286, 'test_total': 204, 'val_acc': 0.833333, 'val_avg_loss': 0.397932, 'val_loss': 81.178128, 'val_total': 204}}\n",
      "2022-12-22 19:15:43,478 (monitor:936)INFO: Current best: {'test_acc': 0.813725, 'test_avg_loss': 0.459875, 'test_loss': 93.814591, 'test_total': 204, 'val_acc': 0.867647, 'val_avg_loss': 0.368885, 'val_loss': 75.252599, 'val_total': 204}\n"
     ]
    },
    {
     "name": "stdout",
     "output_type": "stream",
     "text": [
      "no improve counter: 20\n",
      "self.best_metric: 75.2525988817215\n",
      "no improve counter: 21\n",
      "self.best_metric: 0.3688852886358897\n"
     ]
    },
    {
     "name": "stderr",
     "output_type": "stream",
     "text": [
      "2022-12-22 19:15:43,731 (client:260)INFO: {'Role': 'Client #1', 'Round': 209, 'Results_raw': {'train_acc': 0.861435, 'train_avg_loss': 0.330596, 'train_loss': 539.202608, 'train_total': 1631}}\n",
      "2022-12-22 19:15:43,734 (server:496)INFO: {'Role': 'Server #', 'Round': 209, 'Results_avg': {'test_acc': 0.79902, 'test_avg_loss': 0.474849, 'test_loss': 96.869286, 'test_total': 204.0, 'val_acc': 0.833333, 'val_avg_loss': 0.397932, 'val_loss': 81.178128, 'val_total': 204.0}}\n",
      "2022-12-22 19:15:43,735 (monitor:936)INFO: Current best: {'test_acc': 0.813725, 'test_avg_loss': 0.459875, 'test_loss': 93.814591, 'test_total': 204.0, 'val_acc': 0.867647, 'val_avg_loss': 0.368885, 'val_loss': 75.252599, 'val_total': 204.0}\n",
      "2022-12-22 19:15:43,736 (monitor:936)INFO: Current best: {'test_acc': 0.813725, 'test_avg_loss': 0.459875, 'test_loss': 93.814591, 'test_total': 204.0, 'val_acc': 0.867647, 'val_avg_loss': 0.368885, 'val_loss': 75.252599, 'val_total': 204.0}\n",
      "2022-12-22 19:15:43,738 (server:323)INFO: Server #0: Starting evaluation at the end of round 209.\n",
      "2022-12-22 19:15:43,739 (server:330)INFO: ----------- Starting a new training round (Round #210) -------------\n",
      "2022-12-22 19:15:43,792 (client:415)INFO: {'Role': 'Client #1', 'Round': 210, 'Results_raw': {'test_acc': 0.813725, 'test_avg_loss': 0.47469, 'test_loss': 96.836845, 'test_total': 204, 'val_acc': 0.857843, 'val_avg_loss': 0.355348, 'val_loss': 72.490919, 'val_total': 204}}\n",
      "2022-12-22 19:15:43,793 (monitor:936)INFO: Current best: {'test_acc': 0.813725, 'test_avg_loss': 0.47469, 'test_loss': 96.836845, 'test_total': 204, 'val_acc': 0.857843, 'val_avg_loss': 0.355348, 'val_loss': 72.490919, 'val_total': 204}\n"
     ]
    },
    {
     "name": "stdout",
     "output_type": "stream",
     "text": [
      "no improve counter: 21\n",
      "self.best_metric: 75.2525988817215\n",
      "no improve counter: 0\n",
      "self.best_metric: 0.3553476421272053\n"
     ]
    },
    {
     "name": "stderr",
     "output_type": "stream",
     "text": [
      "2022-12-22 19:15:44,079 (client:260)INFO: {'Role': 'Client #1', 'Round': 210, 'Results_raw': {'train_acc': 0.869405, 'train_avg_loss': 0.33284, 'train_loss': 542.861769, 'train_total': 1631}}\n",
      "2022-12-22 19:15:44,081 (server:496)INFO: {'Role': 'Server #', 'Round': 210, 'Results_avg': {'test_acc': 0.813725, 'test_avg_loss': 0.47469, 'test_loss': 96.836845, 'test_total': 204.0, 'val_acc': 0.857843, 'val_avg_loss': 0.355348, 'val_loss': 72.490919, 'val_total': 204.0}}\n",
      "2022-12-22 19:15:44,082 (monitor:936)INFO: Current best: {'test_acc': [0.813725], 'test_avg_loss': [0.47469], 'test_loss': [96.836845], 'test_total': [204.0], 'val_acc': [0.857843], 'val_avg_loss': [0.355348], 'val_loss': [72.490919], 'val_total': [204.0]}\n",
      "2022-12-22 19:15:44,083 (monitor:936)INFO: Current best: {'test_acc': 0.813725, 'test_avg_loss': 0.47469, 'test_loss': 96.836845, 'test_total': 204.0, 'val_acc': 0.857843, 'val_avg_loss': 0.355348, 'val_loss': 72.490919, 'val_total': 204.0}\n",
      "2022-12-22 19:15:44,084 (server:323)INFO: Server #0: Starting evaluation at the end of round 210.\n",
      "2022-12-22 19:15:44,085 (server:330)INFO: ----------- Starting a new training round (Round #211) -------------\n",
      "2022-12-22 19:15:44,141 (client:415)INFO: {'Role': 'Client #1', 'Round': 211, 'Results_raw': {'test_acc': 0.79902, 'test_avg_loss': 0.494623, 'test_loss': 100.903165, 'test_total': 204, 'val_acc': 0.833333, 'val_avg_loss': 0.417468, 'val_loss': 85.163416, 'val_total': 204}}\n",
      "2022-12-22 19:15:44,143 (monitor:936)INFO: Current best: {'test_acc': 0.813725, 'test_avg_loss': 0.47469, 'test_loss': 96.836845, 'test_total': 204, 'val_acc': 0.857843, 'val_avg_loss': 0.355348, 'val_loss': 72.490919, 'val_total': 204}\n"
     ]
    },
    {
     "name": "stdout",
     "output_type": "stream",
     "text": [
      "no improve counter: 0\n",
      "self.best_metric: 72.49091899394989\n",
      "no improve counter: 1\n",
      "self.best_metric: 0.3553476421272053\n"
     ]
    },
    {
     "name": "stderr",
     "output_type": "stream",
     "text": [
      "2022-12-22 19:15:44,407 (client:260)INFO: {'Role': 'Client #1', 'Round': 211, 'Results_raw': {'train_acc': 0.858369, 'train_avg_loss': 0.338238, 'train_loss': 551.665846, 'train_total': 1631}}\n",
      "2022-12-22 19:15:44,409 (server:496)INFO: {'Role': 'Server #', 'Round': 211, 'Results_avg': {'test_acc': 0.79902, 'test_avg_loss': 0.494623, 'test_loss': 100.903165, 'test_total': 204.0, 'val_acc': 0.833333, 'val_avg_loss': 0.417468, 'val_loss': 85.163416, 'val_total': 204.0}}\n",
      "2022-12-22 19:15:44,411 (monitor:936)INFO: Current best: {'test_acc': 0.813725, 'test_avg_loss': 0.47469, 'test_loss': 96.836845, 'test_total': 204.0, 'val_acc': 0.857843, 'val_avg_loss': 0.355348, 'val_loss': 72.490919, 'val_total': 204.0}\n",
      "2022-12-22 19:15:44,413 (monitor:936)INFO: Current best: {'test_acc': 0.813725, 'test_avg_loss': 0.47469, 'test_loss': 96.836845, 'test_total': 204.0, 'val_acc': 0.857843, 'val_avg_loss': 0.355348, 'val_loss': 72.490919, 'val_total': 204.0}\n",
      "2022-12-22 19:15:44,418 (server:323)INFO: Server #0: Starting evaluation at the end of round 211.\n",
      "2022-12-22 19:15:44,419 (server:330)INFO: ----------- Starting a new training round (Round #212) -------------\n",
      "2022-12-22 19:15:44,482 (client:415)INFO: {'Role': 'Client #1', 'Round': 212, 'Results_raw': {'test_acc': 0.784314, 'test_avg_loss': 0.544849, 'test_loss': 111.1491, 'test_total': 204, 'val_acc': 0.789216, 'val_avg_loss': 0.420018, 'val_loss': 85.683614, 'val_total': 204}}\n",
      "2022-12-22 19:15:44,483 (monitor:936)INFO: Current best: {'test_acc': 0.813725, 'test_avg_loss': 0.47469, 'test_loss': 96.836845, 'test_total': 204, 'val_acc': 0.857843, 'val_avg_loss': 0.355348, 'val_loss': 72.490919, 'val_total': 204}\n"
     ]
    },
    {
     "name": "stdout",
     "output_type": "stream",
     "text": [
      "no improve counter: 1\n",
      "self.best_metric: 72.49091899394989\n",
      "no improve counter: 2\n",
      "self.best_metric: 0.3553476421272053\n"
     ]
    },
    {
     "name": "stderr",
     "output_type": "stream",
     "text": [
      "2022-12-22 19:15:44,724 (client:260)INFO: {'Role': 'Client #1', 'Round': 212, 'Results_raw': {'train_acc': 0.863274, 'train_avg_loss': 0.33338, 'train_loss': 543.743571, 'train_total': 1631}}\n",
      "2022-12-22 19:15:44,726 (server:496)INFO: {'Role': 'Server #', 'Round': 212, 'Results_avg': {'test_acc': 0.784314, 'test_avg_loss': 0.544849, 'test_loss': 111.1491, 'test_total': 204.0, 'val_acc': 0.789216, 'val_avg_loss': 0.420018, 'val_loss': 85.683614, 'val_total': 204.0}}\n",
      "2022-12-22 19:15:44,727 (monitor:936)INFO: Current best: {'test_acc': 0.813725, 'test_avg_loss': 0.47469, 'test_loss': 96.836845, 'test_total': 204.0, 'val_acc': 0.857843, 'val_avg_loss': 0.355348, 'val_loss': 72.490919, 'val_total': 204.0}\n",
      "2022-12-22 19:15:44,729 (monitor:936)INFO: Current best: {'test_acc': 0.813725, 'test_avg_loss': 0.47469, 'test_loss': 96.836845, 'test_total': 204.0, 'val_acc': 0.857843, 'val_avg_loss': 0.355348, 'val_loss': 72.490919, 'val_total': 204.0}\n",
      "2022-12-22 19:15:44,732 (server:323)INFO: Server #0: Starting evaluation at the end of round 212.\n",
      "2022-12-22 19:15:44,733 (server:330)INFO: ----------- Starting a new training round (Round #213) -------------\n",
      "2022-12-22 19:15:44,788 (client:415)INFO: {'Role': 'Client #1', 'Round': 213, 'Results_raw': {'test_acc': 0.808824, 'test_avg_loss': 0.488086, 'test_loss': 99.56945, 'test_total': 204, 'val_acc': 0.848039, 'val_avg_loss': 0.394364, 'val_loss': 80.450204, 'val_total': 204}}\n",
      "2022-12-22 19:15:44,789 (monitor:936)INFO: Current best: {'test_acc': 0.813725, 'test_avg_loss': 0.47469, 'test_loss': 96.836845, 'test_total': 204, 'val_acc': 0.857843, 'val_avg_loss': 0.355348, 'val_loss': 72.490919, 'val_total': 204}\n"
     ]
    },
    {
     "name": "stdout",
     "output_type": "stream",
     "text": [
      "no improve counter: 2\n",
      "self.best_metric: 72.49091899394989\n",
      "no improve counter: 3\n",
      "self.best_metric: 0.3553476421272053\n"
     ]
    },
    {
     "name": "stderr",
     "output_type": "stream",
     "text": [
      "2022-12-22 19:15:45,066 (client:260)INFO: {'Role': 'Client #1', 'Round': 213, 'Results_raw': {'train_acc': 0.862661, 'train_avg_loss': 0.334182, 'train_loss': 545.050422, 'train_total': 1631}}\n",
      "2022-12-22 19:15:45,068 (server:496)INFO: {'Role': 'Server #', 'Round': 213, 'Results_avg': {'test_acc': 0.808824, 'test_avg_loss': 0.488086, 'test_loss': 99.56945, 'test_total': 204.0, 'val_acc': 0.848039, 'val_avg_loss': 0.394364, 'val_loss': 80.450204, 'val_total': 204.0}}\n",
      "2022-12-22 19:15:45,069 (monitor:936)INFO: Current best: {'test_acc': 0.813725, 'test_avg_loss': 0.47469, 'test_loss': 96.836845, 'test_total': 204.0, 'val_acc': 0.857843, 'val_avg_loss': 0.355348, 'val_loss': 72.490919, 'val_total': 204.0}\n",
      "2022-12-22 19:15:45,070 (monitor:936)INFO: Current best: {'test_acc': 0.813725, 'test_avg_loss': 0.47469, 'test_loss': 96.836845, 'test_total': 204.0, 'val_acc': 0.857843, 'val_avg_loss': 0.355348, 'val_loss': 72.490919, 'val_total': 204.0}\n",
      "2022-12-22 19:15:45,072 (server:323)INFO: Server #0: Starting evaluation at the end of round 213.\n",
      "2022-12-22 19:15:45,072 (server:330)INFO: ----------- Starting a new training round (Round #214) -------------\n",
      "2022-12-22 19:15:45,121 (client:415)INFO: {'Role': 'Client #1', 'Round': 214, 'Results_raw': {'test_acc': 0.77451, 'test_avg_loss': 0.552187, 'test_loss': 112.646153, 'test_total': 204, 'val_acc': 0.789216, 'val_avg_loss': 0.424155, 'val_loss': 86.527709, 'val_total': 204}}\n",
      "2022-12-22 19:15:45,122 (monitor:936)INFO: Current best: {'test_acc': 0.813725, 'test_avg_loss': 0.47469, 'test_loss': 96.836845, 'test_total': 204, 'val_acc': 0.857843, 'val_avg_loss': 0.355348, 'val_loss': 72.490919, 'val_total': 204}\n"
     ]
    },
    {
     "name": "stdout",
     "output_type": "stream",
     "text": [
      "no improve counter: 3\n",
      "self.best_metric: 72.49091899394989\n",
      "no improve counter: 4\n",
      "self.best_metric: 0.3553476421272053\n"
     ]
    },
    {
     "name": "stderr",
     "output_type": "stream",
     "text": [
      "2022-12-22 19:15:45,387 (client:260)INFO: {'Role': 'Client #1', 'Round': 214, 'Results_raw': {'train_acc': 0.862048, 'train_avg_loss': 0.338018, 'train_loss': 551.307333, 'train_total': 1631}}\n",
      "2022-12-22 19:15:45,389 (server:496)INFO: {'Role': 'Server #', 'Round': 214, 'Results_avg': {'test_acc': 0.77451, 'test_avg_loss': 0.552187, 'test_loss': 112.646153, 'test_total': 204.0, 'val_acc': 0.789216, 'val_avg_loss': 0.424155, 'val_loss': 86.527709, 'val_total': 204.0}}\n",
      "2022-12-22 19:15:45,391 (monitor:936)INFO: Current best: {'test_acc': 0.813725, 'test_avg_loss': 0.47469, 'test_loss': 96.836845, 'test_total': 204.0, 'val_acc': 0.857843, 'val_avg_loss': 0.355348, 'val_loss': 72.490919, 'val_total': 204.0}\n",
      "2022-12-22 19:15:45,393 (monitor:936)INFO: Current best: {'test_acc': 0.813725, 'test_avg_loss': 0.47469, 'test_loss': 96.836845, 'test_total': 204.0, 'val_acc': 0.857843, 'val_avg_loss': 0.355348, 'val_loss': 72.490919, 'val_total': 204.0}\n",
      "2022-12-22 19:15:45,395 (server:323)INFO: Server #0: Starting evaluation at the end of round 214.\n",
      "2022-12-22 19:15:45,396 (server:330)INFO: ----------- Starting a new training round (Round #215) -------------\n",
      "2022-12-22 19:15:45,455 (client:415)INFO: {'Role': 'Client #1', 'Round': 215, 'Results_raw': {'test_acc': 0.808824, 'test_avg_loss': 0.456804, 'test_loss': 93.188005, 'test_total': 204, 'val_acc': 0.838235, 'val_avg_loss': 0.365601, 'val_loss': 74.582589, 'val_total': 204}}\n",
      "2022-12-22 19:15:45,457 (monitor:936)INFO: Current best: {'test_acc': 0.813725, 'test_avg_loss': 0.47469, 'test_loss': 96.836845, 'test_total': 204, 'val_acc': 0.857843, 'val_avg_loss': 0.355348, 'val_loss': 72.490919, 'val_total': 204}\n"
     ]
    },
    {
     "name": "stdout",
     "output_type": "stream",
     "text": [
      "no improve counter: 4\n",
      "self.best_metric: 72.49091899394989\n",
      "no improve counter: 5\n",
      "self.best_metric: 0.3553476421272053\n"
     ]
    },
    {
     "name": "stderr",
     "output_type": "stream",
     "text": [
      "2022-12-22 19:15:45,716 (client:260)INFO: {'Role': 'Client #1', 'Round': 215, 'Results_raw': {'train_acc': 0.867566, 'train_avg_loss': 0.333324, 'train_loss': 543.651531, 'train_total': 1631}}\n",
      "2022-12-22 19:15:45,718 (server:496)INFO: {'Role': 'Server #', 'Round': 215, 'Results_avg': {'test_acc': 0.808824, 'test_avg_loss': 0.456804, 'test_loss': 93.188005, 'test_total': 204.0, 'val_acc': 0.838235, 'val_avg_loss': 0.365601, 'val_loss': 74.582589, 'val_total': 204.0}}\n",
      "2022-12-22 19:15:45,719 (monitor:936)INFO: Current best: {'test_acc': 0.813725, 'test_avg_loss': 0.47469, 'test_loss': 96.836845, 'test_total': 204.0, 'val_acc': 0.857843, 'val_avg_loss': 0.355348, 'val_loss': 72.490919, 'val_total': 204.0}\n",
      "2022-12-22 19:15:45,720 (monitor:936)INFO: Current best: {'test_acc': 0.813725, 'test_avg_loss': 0.47469, 'test_loss': 96.836845, 'test_total': 204.0, 'val_acc': 0.857843, 'val_avg_loss': 0.355348, 'val_loss': 72.490919, 'val_total': 204.0}\n",
      "2022-12-22 19:15:45,722 (server:323)INFO: Server #0: Starting evaluation at the end of round 215.\n",
      "2022-12-22 19:15:45,722 (server:330)INFO: ----------- Starting a new training round (Round #216) -------------\n",
      "2022-12-22 19:15:45,780 (client:415)INFO: {'Role': 'Client #1', 'Round': 216, 'Results_raw': {'test_acc': 0.813725, 'test_avg_loss': 0.460778, 'test_loss': 93.998635, 'test_total': 204, 'val_acc': 0.872549, 'val_avg_loss': 0.359691, 'val_loss': 73.376894, 'val_total': 204}}\n",
      "2022-12-22 19:15:45,782 (monitor:936)INFO: Current best: {'test_acc': 0.813725, 'test_avg_loss': 0.47469, 'test_loss': 96.836845, 'test_total': 204, 'val_acc': 0.857843, 'val_avg_loss': 0.355348, 'val_loss': 72.490919, 'val_total': 204}\n"
     ]
    },
    {
     "name": "stdout",
     "output_type": "stream",
     "text": [
      "no improve counter: 5\n",
      "self.best_metric: 72.49091899394989\n",
      "no improve counter: 6\n",
      "self.best_metric: 0.3553476421272053\n"
     ]
    },
    {
     "name": "stderr",
     "output_type": "stream",
     "text": [
      "2022-12-22 19:15:46,036 (client:260)INFO: {'Role': 'Client #1', 'Round': 216, 'Results_raw': {'train_acc': 0.8645, 'train_avg_loss': 0.333726, 'train_loss': 544.30779, 'train_total': 1631}}\n",
      "2022-12-22 19:15:46,038 (server:496)INFO: {'Role': 'Server #', 'Round': 216, 'Results_avg': {'test_acc': 0.813725, 'test_avg_loss': 0.460778, 'test_loss': 93.998635, 'test_total': 204.0, 'val_acc': 0.872549, 'val_avg_loss': 0.359691, 'val_loss': 73.376894, 'val_total': 204.0}}\n",
      "2022-12-22 19:15:46,039 (monitor:936)INFO: Current best: {'test_acc': 0.813725, 'test_avg_loss': 0.47469, 'test_loss': 96.836845, 'test_total': 204.0, 'val_acc': 0.857843, 'val_avg_loss': 0.355348, 'val_loss': 72.490919, 'val_total': 204.0}\n",
      "2022-12-22 19:15:46,040 (monitor:936)INFO: Current best: {'test_acc': 0.813725, 'test_avg_loss': 0.47469, 'test_loss': 96.836845, 'test_total': 204.0, 'val_acc': 0.857843, 'val_avg_loss': 0.355348, 'val_loss': 72.490919, 'val_total': 204.0}\n",
      "2022-12-22 19:15:46,042 (server:323)INFO: Server #0: Starting evaluation at the end of round 216.\n",
      "2022-12-22 19:15:46,043 (server:330)INFO: ----------- Starting a new training round (Round #217) -------------\n",
      "2022-12-22 19:15:46,101 (client:415)INFO: {'Role': 'Client #1', 'Round': 217, 'Results_raw': {'test_acc': 0.794118, 'test_avg_loss': 0.498487, 'test_loss': 101.691298, 'test_total': 204, 'val_acc': 0.803922, 'val_avg_loss': 0.418167, 'val_loss': 85.306018, 'val_total': 204}}\n",
      "2022-12-22 19:15:46,102 (monitor:936)INFO: Current best: {'test_acc': 0.813725, 'test_avg_loss': 0.47469, 'test_loss': 96.836845, 'test_total': 204, 'val_acc': 0.857843, 'val_avg_loss': 0.355348, 'val_loss': 72.490919, 'val_total': 204}\n"
     ]
    },
    {
     "name": "stdout",
     "output_type": "stream",
     "text": [
      "no improve counter: 6\n",
      "self.best_metric: 72.49091899394989\n",
      "no improve counter: 7\n",
      "self.best_metric: 0.3553476421272053\n"
     ]
    },
    {
     "name": "stderr",
     "output_type": "stream",
     "text": [
      "2022-12-22 19:15:46,357 (client:260)INFO: {'Role': 'Client #1', 'Round': 217, 'Results_raw': {'train_acc': 0.863274, 'train_avg_loss': 0.347, 'train_loss': 565.957298, 'train_total': 1631}}\n",
      "2022-12-22 19:15:46,359 (server:496)INFO: {'Role': 'Server #', 'Round': 217, 'Results_avg': {'test_acc': 0.794118, 'test_avg_loss': 0.498487, 'test_loss': 101.691298, 'test_total': 204.0, 'val_acc': 0.803922, 'val_avg_loss': 0.418167, 'val_loss': 85.306018, 'val_total': 204.0}}\n",
      "2022-12-22 19:15:46,360 (monitor:936)INFO: Current best: {'test_acc': 0.813725, 'test_avg_loss': 0.47469, 'test_loss': 96.836845, 'test_total': 204.0, 'val_acc': 0.857843, 'val_avg_loss': 0.355348, 'val_loss': 72.490919, 'val_total': 204.0}\n",
      "2022-12-22 19:15:46,363 (monitor:936)INFO: Current best: {'test_acc': 0.813725, 'test_avg_loss': 0.47469, 'test_loss': 96.836845, 'test_total': 204.0, 'val_acc': 0.857843, 'val_avg_loss': 0.355348, 'val_loss': 72.490919, 'val_total': 204.0}\n",
      "2022-12-22 19:15:46,366 (server:323)INFO: Server #0: Starting evaluation at the end of round 217.\n",
      "2022-12-22 19:15:46,367 (server:330)INFO: ----------- Starting a new training round (Round #218) -------------\n",
      "2022-12-22 19:15:46,447 (client:415)INFO: {'Role': 'Client #1', 'Round': 218, 'Results_raw': {'test_acc': 0.818627, 'test_avg_loss': 0.443272, 'test_loss': 90.427584, 'test_total': 204, 'val_acc': 0.862745, 'val_avg_loss': 0.372827, 'val_loss': 76.056764, 'val_total': 204}}\n",
      "2022-12-22 19:15:46,449 (monitor:936)INFO: Current best: {'test_acc': 0.813725, 'test_avg_loss': 0.47469, 'test_loss': 96.836845, 'test_total': 204, 'val_acc': 0.857843, 'val_avg_loss': 0.355348, 'val_loss': 72.490919, 'val_total': 204}\n"
     ]
    },
    {
     "name": "stdout",
     "output_type": "stream",
     "text": [
      "no improve counter: 7\n",
      "self.best_metric: 72.49091899394989\n",
      "no improve counter: 8\n",
      "self.best_metric: 0.3553476421272053\n"
     ]
    },
    {
     "name": "stderr",
     "output_type": "stream",
     "text": [
      "2022-12-22 19:15:46,726 (client:260)INFO: {'Role': 'Client #1', 'Round': 218, 'Results_raw': {'train_acc': 0.872471, 'train_avg_loss': 0.336681, 'train_loss': 549.126616, 'train_total': 1631}}\n",
      "2022-12-22 19:15:46,728 (server:496)INFO: {'Role': 'Server #', 'Round': 218, 'Results_avg': {'test_acc': 0.818627, 'test_avg_loss': 0.443272, 'test_loss': 90.427584, 'test_total': 204.0, 'val_acc': 0.862745, 'val_avg_loss': 0.372827, 'val_loss': 76.056764, 'val_total': 204.0}}\n",
      "2022-12-22 19:15:46,729 (monitor:936)INFO: Current best: {'test_acc': 0.813725, 'test_avg_loss': 0.47469, 'test_loss': 96.836845, 'test_total': 204.0, 'val_acc': 0.857843, 'val_avg_loss': 0.355348, 'val_loss': 72.490919, 'val_total': 204.0}\n",
      "2022-12-22 19:15:46,732 (monitor:936)INFO: Current best: {'test_acc': 0.813725, 'test_avg_loss': 0.47469, 'test_loss': 96.836845, 'test_total': 204.0, 'val_acc': 0.857843, 'val_avg_loss': 0.355348, 'val_loss': 72.490919, 'val_total': 204.0}\n",
      "2022-12-22 19:15:46,734 (server:323)INFO: Server #0: Starting evaluation at the end of round 218.\n",
      "2022-12-22 19:15:46,735 (server:330)INFO: ----------- Starting a new training round (Round #219) -------------\n",
      "2022-12-22 19:15:46,796 (client:415)INFO: {'Role': 'Client #1', 'Round': 219, 'Results_raw': {'test_acc': 0.803922, 'test_avg_loss': 0.484251, 'test_loss': 98.787295, 'test_total': 204, 'val_acc': 0.818627, 'val_avg_loss': 0.404349, 'val_loss': 82.487186, 'val_total': 204}}\n",
      "2022-12-22 19:15:46,797 (monitor:936)INFO: Current best: {'test_acc': 0.813725, 'test_avg_loss': 0.47469, 'test_loss': 96.836845, 'test_total': 204, 'val_acc': 0.857843, 'val_avg_loss': 0.355348, 'val_loss': 72.490919, 'val_total': 204}\n"
     ]
    },
    {
     "name": "stdout",
     "output_type": "stream",
     "text": [
      "no improve counter: 8\n",
      "self.best_metric: 72.49091899394989\n",
      "no improve counter: 9\n",
      "self.best_metric: 0.3553476421272053\n"
     ]
    },
    {
     "name": "stderr",
     "output_type": "stream",
     "text": [
      "2022-12-22 19:15:47,078 (client:260)INFO: {'Role': 'Client #1', 'Round': 219, 'Results_raw': {'train_acc': 0.868792, 'train_avg_loss': 0.33593, 'train_loss': 547.902436, 'train_total': 1631}}\n",
      "2022-12-22 19:15:47,081 (server:496)INFO: {'Role': 'Server #', 'Round': 219, 'Results_avg': {'test_acc': 0.803922, 'test_avg_loss': 0.484251, 'test_loss': 98.787295, 'test_total': 204.0, 'val_acc': 0.818627, 'val_avg_loss': 0.404349, 'val_loss': 82.487186, 'val_total': 204.0}}\n",
      "2022-12-22 19:15:47,083 (monitor:936)INFO: Current best: {'test_acc': 0.813725, 'test_avg_loss': 0.47469, 'test_loss': 96.836845, 'test_total': 204.0, 'val_acc': 0.857843, 'val_avg_loss': 0.355348, 'val_loss': 72.490919, 'val_total': 204.0}\n",
      "2022-12-22 19:15:47,085 (monitor:936)INFO: Current best: {'test_acc': 0.813725, 'test_avg_loss': 0.47469, 'test_loss': 96.836845, 'test_total': 204.0, 'val_acc': 0.857843, 'val_avg_loss': 0.355348, 'val_loss': 72.490919, 'val_total': 204.0}\n",
      "2022-12-22 19:15:47,087 (server:323)INFO: Server #0: Starting evaluation at the end of round 219.\n",
      "2022-12-22 19:15:47,088 (server:330)INFO: ----------- Starting a new training round (Round #220) -------------\n",
      "2022-12-22 19:15:47,151 (client:415)INFO: {'Role': 'Client #1', 'Round': 220, 'Results_raw': {'test_acc': 0.813725, 'test_avg_loss': 0.48779, 'test_loss': 99.509212, 'test_total': 204, 'val_acc': 0.862745, 'val_avg_loss': 0.366192, 'val_loss': 74.703195, 'val_total': 204}}\n",
      "2022-12-22 19:15:47,152 (monitor:936)INFO: Current best: {'test_acc': 0.813725, 'test_avg_loss': 0.47469, 'test_loss': 96.836845, 'test_total': 204, 'val_acc': 0.857843, 'val_avg_loss': 0.355348, 'val_loss': 72.490919, 'val_total': 204}\n"
     ]
    },
    {
     "name": "stdout",
     "output_type": "stream",
     "text": [
      "no improve counter: 9\n",
      "self.best_metric: 72.49091899394989\n",
      "no improve counter: 10\n",
      "self.best_metric: 0.3553476421272053\n"
     ]
    },
    {
     "name": "stderr",
     "output_type": "stream",
     "text": [
      "2022-12-22 19:15:47,434 (client:260)INFO: {'Role': 'Client #1', 'Round': 220, 'Results_raw': {'train_acc': 0.877989, 'train_avg_loss': 0.329914, 'train_loss': 538.090142, 'train_total': 1631}}\n",
      "2022-12-22 19:15:47,436 (server:496)INFO: {'Role': 'Server #', 'Round': 220, 'Results_avg': {'test_acc': 0.813725, 'test_avg_loss': 0.48779, 'test_loss': 99.509212, 'test_total': 204.0, 'val_acc': 0.862745, 'val_avg_loss': 0.366192, 'val_loss': 74.703195, 'val_total': 204.0}}\n",
      "2022-12-22 19:15:47,438 (monitor:936)INFO: Current best: {'test_acc': 0.813725, 'test_avg_loss': 0.47469, 'test_loss': 96.836845, 'test_total': 204.0, 'val_acc': 0.857843, 'val_avg_loss': 0.355348, 'val_loss': 72.490919, 'val_total': 204.0}\n",
      "2022-12-22 19:15:47,440 (monitor:936)INFO: Current best: {'test_acc': 0.813725, 'test_avg_loss': 0.47469, 'test_loss': 96.836845, 'test_total': 204.0, 'val_acc': 0.857843, 'val_avg_loss': 0.355348, 'val_loss': 72.490919, 'val_total': 204.0}\n",
      "2022-12-22 19:15:47,443 (server:323)INFO: Server #0: Starting evaluation at the end of round 220.\n",
      "2022-12-22 19:15:47,444 (server:330)INFO: ----------- Starting a new training round (Round #221) -------------\n",
      "2022-12-22 19:15:47,499 (client:415)INFO: {'Role': 'Client #1', 'Round': 221, 'Results_raw': {'test_acc': 0.794118, 'test_avg_loss': 0.460593, 'test_loss': 93.960978, 'test_total': 204, 'val_acc': 0.838235, 'val_avg_loss': 0.384492, 'val_loss': 78.43642, 'val_total': 204}}\n",
      "2022-12-22 19:15:47,500 (monitor:936)INFO: Current best: {'test_acc': 0.813725, 'test_avg_loss': 0.47469, 'test_loss': 96.836845, 'test_total': 204, 'val_acc': 0.857843, 'val_avg_loss': 0.355348, 'val_loss': 72.490919, 'val_total': 204}\n"
     ]
    },
    {
     "name": "stdout",
     "output_type": "stream",
     "text": [
      "no improve counter: 10\n",
      "self.best_metric: 72.49091899394989\n",
      "no improve counter: 11\n",
      "self.best_metric: 0.3553476421272053\n"
     ]
    },
    {
     "name": "stderr",
     "output_type": "stream",
     "text": [
      "2022-12-22 19:15:47,763 (client:260)INFO: {'Role': 'Client #1', 'Round': 221, 'Results_raw': {'train_acc': 0.86634, 'train_avg_loss': 0.34838, 'train_loss': 568.20831, 'train_total': 1631}}\n",
      "2022-12-22 19:15:47,767 (server:496)INFO: {'Role': 'Server #', 'Round': 221, 'Results_avg': {'test_acc': 0.794118, 'test_avg_loss': 0.460593, 'test_loss': 93.960978, 'test_total': 204.0, 'val_acc': 0.838235, 'val_avg_loss': 0.384492, 'val_loss': 78.43642, 'val_total': 204.0}}\n",
      "2022-12-22 19:15:47,768 (monitor:936)INFO: Current best: {'test_acc': 0.813725, 'test_avg_loss': 0.47469, 'test_loss': 96.836845, 'test_total': 204.0, 'val_acc': 0.857843, 'val_avg_loss': 0.355348, 'val_loss': 72.490919, 'val_total': 204.0}\n",
      "2022-12-22 19:15:47,770 (monitor:936)INFO: Current best: {'test_acc': 0.813725, 'test_avg_loss': 0.47469, 'test_loss': 96.836845, 'test_total': 204.0, 'val_acc': 0.857843, 'val_avg_loss': 0.355348, 'val_loss': 72.490919, 'val_total': 204.0}\n",
      "2022-12-22 19:15:47,773 (server:323)INFO: Server #0: Starting evaluation at the end of round 221.\n",
      "2022-12-22 19:15:47,774 (server:330)INFO: ----------- Starting a new training round (Round #222) -------------\n",
      "2022-12-22 19:15:47,847 (client:415)INFO: {'Role': 'Client #1', 'Round': 222, 'Results_raw': {'test_acc': 0.803922, 'test_avg_loss': 0.468718, 'test_loss': 95.618439, 'test_total': 204, 'val_acc': 0.833333, 'val_avg_loss': 0.376289, 'val_loss': 76.762881, 'val_total': 204}}\n",
      "2022-12-22 19:15:47,848 (monitor:936)INFO: Current best: {'test_acc': 0.813725, 'test_avg_loss': 0.47469, 'test_loss': 96.836845, 'test_total': 204, 'val_acc': 0.857843, 'val_avg_loss': 0.355348, 'val_loss': 72.490919, 'val_total': 204}\n"
     ]
    },
    {
     "name": "stdout",
     "output_type": "stream",
     "text": [
      "no improve counter: 11\n",
      "self.best_metric: 72.49091899394989\n",
      "no improve counter: 12\n",
      "self.best_metric: 0.3553476421272053\n"
     ]
    },
    {
     "name": "stderr",
     "output_type": "stream",
     "text": [
      "2022-12-22 19:15:48,116 (client:260)INFO: {'Role': 'Client #1', 'Round': 222, 'Results_raw': {'train_acc': 0.861435, 'train_avg_loss': 0.343068, 'train_loss': 559.544322, 'train_total': 1631}}\n",
      "2022-12-22 19:15:48,117 (server:496)INFO: {'Role': 'Server #', 'Round': 222, 'Results_avg': {'test_acc': 0.803922, 'test_avg_loss': 0.468718, 'test_loss': 95.618439, 'test_total': 204.0, 'val_acc': 0.833333, 'val_avg_loss': 0.376289, 'val_loss': 76.762881, 'val_total': 204.0}}\n",
      "2022-12-22 19:15:48,119 (monitor:936)INFO: Current best: {'test_acc': 0.813725, 'test_avg_loss': 0.47469, 'test_loss': 96.836845, 'test_total': 204.0, 'val_acc': 0.857843, 'val_avg_loss': 0.355348, 'val_loss': 72.490919, 'val_total': 204.0}\n",
      "2022-12-22 19:15:48,121 (monitor:936)INFO: Current best: {'test_acc': 0.813725, 'test_avg_loss': 0.47469, 'test_loss': 96.836845, 'test_total': 204.0, 'val_acc': 0.857843, 'val_avg_loss': 0.355348, 'val_loss': 72.490919, 'val_total': 204.0}\n",
      "2022-12-22 19:15:48,125 (server:323)INFO: Server #0: Starting evaluation at the end of round 222.\n",
      "2022-12-22 19:15:48,127 (server:330)INFO: ----------- Starting a new training round (Round #223) -------------\n",
      "2022-12-22 19:15:48,190 (client:415)INFO: {'Role': 'Client #1', 'Round': 223, 'Results_raw': {'test_acc': 0.79902, 'test_avg_loss': 0.47306, 'test_loss': 96.504248, 'test_total': 204, 'val_acc': 0.833333, 'val_avg_loss': 0.387145, 'val_loss': 78.977562, 'val_total': 204}}\n",
      "2022-12-22 19:15:48,191 (monitor:936)INFO: Current best: {'test_acc': 0.813725, 'test_avg_loss': 0.47469, 'test_loss': 96.836845, 'test_total': 204, 'val_acc': 0.857843, 'val_avg_loss': 0.355348, 'val_loss': 72.490919, 'val_total': 204}\n"
     ]
    },
    {
     "name": "stdout",
     "output_type": "stream",
     "text": [
      "no improve counter: 12\n",
      "self.best_metric: 72.49091899394989\n",
      "no improve counter: 13\n",
      "self.best_metric: 0.3553476421272053\n"
     ]
    },
    {
     "name": "stderr",
     "output_type": "stream",
     "text": [
      "2022-12-22 19:15:48,467 (client:260)INFO: {'Role': 'Client #1', 'Round': 223, 'Results_raw': {'train_acc': 0.862661, 'train_avg_loss': 0.331665, 'train_loss': 540.945006, 'train_total': 1631}}\n",
      "2022-12-22 19:15:48,469 (server:496)INFO: {'Role': 'Server #', 'Round': 223, 'Results_avg': {'test_acc': 0.79902, 'test_avg_loss': 0.47306, 'test_loss': 96.504248, 'test_total': 204.0, 'val_acc': 0.833333, 'val_avg_loss': 0.387145, 'val_loss': 78.977562, 'val_total': 204.0}}\n",
      "2022-12-22 19:15:48,470 (monitor:936)INFO: Current best: {'test_acc': 0.813725, 'test_avg_loss': 0.47469, 'test_loss': 96.836845, 'test_total': 204.0, 'val_acc': 0.857843, 'val_avg_loss': 0.355348, 'val_loss': 72.490919, 'val_total': 204.0}\n",
      "2022-12-22 19:15:48,471 (monitor:936)INFO: Current best: {'test_acc': 0.813725, 'test_avg_loss': 0.47469, 'test_loss': 96.836845, 'test_total': 204.0, 'val_acc': 0.857843, 'val_avg_loss': 0.355348, 'val_loss': 72.490919, 'val_total': 204.0}\n",
      "2022-12-22 19:15:48,473 (server:323)INFO: Server #0: Starting evaluation at the end of round 223.\n",
      "2022-12-22 19:15:48,475 (server:330)INFO: ----------- Starting a new training round (Round #224) -------------\n",
      "2022-12-22 19:15:48,537 (client:415)INFO: {'Role': 'Client #1', 'Round': 224, 'Results_raw': {'test_acc': 0.808824, 'test_avg_loss': 0.447113, 'test_loss': 91.211039, 'test_total': 204, 'val_acc': 0.848039, 'val_avg_loss': 0.375796, 'val_loss': 76.662288, 'val_total': 204}}\n",
      "2022-12-22 19:15:48,538 (monitor:936)INFO: Current best: {'test_acc': 0.813725, 'test_avg_loss': 0.47469, 'test_loss': 96.836845, 'test_total': 204, 'val_acc': 0.857843, 'val_avg_loss': 0.355348, 'val_loss': 72.490919, 'val_total': 204}\n"
     ]
    },
    {
     "name": "stdout",
     "output_type": "stream",
     "text": [
      "no improve counter: 13\n",
      "self.best_metric: 72.49091899394989\n",
      "no improve counter: 14\n",
      "self.best_metric: 0.3553476421272053\n"
     ]
    },
    {
     "name": "stderr",
     "output_type": "stream",
     "text": [
      "2022-12-22 19:15:48,825 (client:260)INFO: {'Role': 'Client #1', 'Round': 224, 'Results_raw': {'train_acc': 0.870018, 'train_avg_loss': 0.342204, 'train_loss': 558.135318, 'train_total': 1631}}\n",
      "2022-12-22 19:15:48,828 (server:496)INFO: {'Role': 'Server #', 'Round': 224, 'Results_avg': {'test_acc': 0.808824, 'test_avg_loss': 0.447113, 'test_loss': 91.211039, 'test_total': 204.0, 'val_acc': 0.848039, 'val_avg_loss': 0.375796, 'val_loss': 76.662288, 'val_total': 204.0}}\n",
      "2022-12-22 19:15:48,829 (monitor:936)INFO: Current best: {'test_acc': 0.813725, 'test_avg_loss': 0.47469, 'test_loss': 96.836845, 'test_total': 204.0, 'val_acc': 0.857843, 'val_avg_loss': 0.355348, 'val_loss': 72.490919, 'val_total': 204.0}\n",
      "2022-12-22 19:15:48,831 (monitor:936)INFO: Current best: {'test_acc': 0.813725, 'test_avg_loss': 0.47469, 'test_loss': 96.836845, 'test_total': 204.0, 'val_acc': 0.857843, 'val_avg_loss': 0.355348, 'val_loss': 72.490919, 'val_total': 204.0}\n",
      "2022-12-22 19:15:48,833 (server:323)INFO: Server #0: Starting evaluation at the end of round 224.\n",
      "2022-12-22 19:15:48,833 (server:330)INFO: ----------- Starting a new training round (Round #225) -------------\n",
      "2022-12-22 19:15:48,899 (client:415)INFO: {'Role': 'Client #1', 'Round': 225, 'Results_raw': {'test_acc': 0.818627, 'test_avg_loss': 0.464037, 'test_loss': 94.663647, 'test_total': 204, 'val_acc': 0.833333, 'val_avg_loss': 0.411062, 'val_loss': 83.85675, 'val_total': 204}}\n",
      "2022-12-22 19:15:48,899 (monitor:936)INFO: Current best: {'test_acc': 0.813725, 'test_avg_loss': 0.47469, 'test_loss': 96.836845, 'test_total': 204, 'val_acc': 0.857843, 'val_avg_loss': 0.355348, 'val_loss': 72.490919, 'val_total': 204}\n"
     ]
    },
    {
     "name": "stdout",
     "output_type": "stream",
     "text": [
      "no improve counter: 14\n",
      "self.best_metric: 72.49091899394989\n",
      "no improve counter: 15\n",
      "self.best_metric: 0.3553476421272053\n"
     ]
    },
    {
     "name": "stderr",
     "output_type": "stream",
     "text": [
      "2022-12-22 19:15:49,171 (client:260)INFO: {'Role': 'Client #1', 'Round': 225, 'Results_raw': {'train_acc': 0.870018, 'train_avg_loss': 0.333061, 'train_loss': 543.222089, 'train_total': 1631}}\n",
      "2022-12-22 19:15:49,173 (server:496)INFO: {'Role': 'Server #', 'Round': 225, 'Results_avg': {'test_acc': 0.818627, 'test_avg_loss': 0.464037, 'test_loss': 94.663647, 'test_total': 204.0, 'val_acc': 0.833333, 'val_avg_loss': 0.411062, 'val_loss': 83.85675, 'val_total': 204.0}}\n",
      "2022-12-22 19:15:49,174 (monitor:936)INFO: Current best: {'test_acc': 0.813725, 'test_avg_loss': 0.47469, 'test_loss': 96.836845, 'test_total': 204.0, 'val_acc': 0.857843, 'val_avg_loss': 0.355348, 'val_loss': 72.490919, 'val_total': 204.0}\n",
      "2022-12-22 19:15:49,176 (monitor:936)INFO: Current best: {'test_acc': 0.813725, 'test_avg_loss': 0.47469, 'test_loss': 96.836845, 'test_total': 204.0, 'val_acc': 0.857843, 'val_avg_loss': 0.355348, 'val_loss': 72.490919, 'val_total': 204.0}\n",
      "2022-12-22 19:15:49,179 (server:323)INFO: Server #0: Starting evaluation at the end of round 225.\n",
      "2022-12-22 19:15:49,180 (server:330)INFO: ----------- Starting a new training round (Round #226) -------------\n",
      "2022-12-22 19:15:49,250 (client:415)INFO: {'Role': 'Client #1', 'Round': 226, 'Results_raw': {'test_acc': 0.803922, 'test_avg_loss': 0.453166, 'test_loss': 92.445893, 'test_total': 204, 'val_acc': 0.848039, 'val_avg_loss': 0.373382, 'val_loss': 76.169851, 'val_total': 204}}\n",
      "2022-12-22 19:15:49,251 (monitor:936)INFO: Current best: {'test_acc': 0.813725, 'test_avg_loss': 0.47469, 'test_loss': 96.836845, 'test_total': 204, 'val_acc': 0.857843, 'val_avg_loss': 0.355348, 'val_loss': 72.490919, 'val_total': 204}\n"
     ]
    },
    {
     "name": "stdout",
     "output_type": "stream",
     "text": [
      "no improve counter: 15\n",
      "self.best_metric: 72.49091899394989\n",
      "no improve counter: 16\n",
      "self.best_metric: 0.3553476421272053\n"
     ]
    },
    {
     "name": "stderr",
     "output_type": "stream",
     "text": [
      "2022-12-22 19:15:49,484 (client:260)INFO: {'Role': 'Client #1', 'Round': 226, 'Results_raw': {'train_acc': 0.869405, 'train_avg_loss': 0.332219, 'train_loss': 541.848896, 'train_total': 1631}}\n",
      "2022-12-22 19:15:49,486 (server:496)INFO: {'Role': 'Server #', 'Round': 226, 'Results_avg': {'test_acc': 0.803922, 'test_avg_loss': 0.453166, 'test_loss': 92.445893, 'test_total': 204.0, 'val_acc': 0.848039, 'val_avg_loss': 0.373382, 'val_loss': 76.169851, 'val_total': 204.0}}\n",
      "2022-12-22 19:15:49,487 (monitor:936)INFO: Current best: {'test_acc': 0.813725, 'test_avg_loss': 0.47469, 'test_loss': 96.836845, 'test_total': 204.0, 'val_acc': 0.857843, 'val_avg_loss': 0.355348, 'val_loss': 72.490919, 'val_total': 204.0}\n",
      "2022-12-22 19:15:49,489 (monitor:936)INFO: Current best: {'test_acc': 0.813725, 'test_avg_loss': 0.47469, 'test_loss': 96.836845, 'test_total': 204.0, 'val_acc': 0.857843, 'val_avg_loss': 0.355348, 'val_loss': 72.490919, 'val_total': 204.0}\n",
      "2022-12-22 19:15:49,491 (server:323)INFO: Server #0: Starting evaluation at the end of round 226.\n",
      "2022-12-22 19:15:49,492 (server:330)INFO: ----------- Starting a new training round (Round #227) -------------\n",
      "2022-12-22 19:15:49,536 (client:415)INFO: {'Role': 'Client #1', 'Round': 227, 'Results_raw': {'test_acc': 0.779412, 'test_avg_loss': 0.491813, 'test_loss': 100.32989, 'test_total': 204, 'val_acc': 0.813725, 'val_avg_loss': 0.412116, 'val_loss': 84.071754, 'val_total': 204}}\n",
      "2022-12-22 19:15:49,538 (monitor:936)INFO: Current best: {'test_acc': 0.813725, 'test_avg_loss': 0.47469, 'test_loss': 96.836845, 'test_total': 204, 'val_acc': 0.857843, 'val_avg_loss': 0.355348, 'val_loss': 72.490919, 'val_total': 204}\n"
     ]
    },
    {
     "name": "stdout",
     "output_type": "stream",
     "text": [
      "no improve counter: 16\n",
      "self.best_metric: 72.49091899394989\n",
      "no improve counter: 17\n",
      "self.best_metric: 0.3553476421272053\n"
     ]
    },
    {
     "name": "stderr",
     "output_type": "stream",
     "text": [
      "2022-12-22 19:15:49,768 (client:260)INFO: {'Role': 'Client #1', 'Round': 227, 'Results_raw': {'train_acc': 0.86634, 'train_avg_loss': 0.336848, 'train_loss': 549.399497, 'train_total': 1631}}\n",
      "2022-12-22 19:15:49,771 (server:496)INFO: {'Role': 'Server #', 'Round': 227, 'Results_avg': {'test_acc': 0.779412, 'test_avg_loss': 0.491813, 'test_loss': 100.32989, 'test_total': 204.0, 'val_acc': 0.813725, 'val_avg_loss': 0.412116, 'val_loss': 84.071754, 'val_total': 204.0}}\n",
      "2022-12-22 19:15:49,773 (monitor:936)INFO: Current best: {'test_acc': 0.813725, 'test_avg_loss': 0.47469, 'test_loss': 96.836845, 'test_total': 204.0, 'val_acc': 0.857843, 'val_avg_loss': 0.355348, 'val_loss': 72.490919, 'val_total': 204.0}\n",
      "2022-12-22 19:15:49,775 (monitor:936)INFO: Current best: {'test_acc': 0.813725, 'test_avg_loss': 0.47469, 'test_loss': 96.836845, 'test_total': 204.0, 'val_acc': 0.857843, 'val_avg_loss': 0.355348, 'val_loss': 72.490919, 'val_total': 204.0}\n",
      "2022-12-22 19:15:49,778 (server:323)INFO: Server #0: Starting evaluation at the end of round 227.\n",
      "2022-12-22 19:15:49,779 (server:330)INFO: ----------- Starting a new training round (Round #228) -------------\n",
      "2022-12-22 19:15:49,842 (client:415)INFO: {'Role': 'Client #1', 'Round': 228, 'Results_raw': {'test_acc': 0.808824, 'test_avg_loss': 0.464102, 'test_loss': 94.676831, 'test_total': 204, 'val_acc': 0.848039, 'val_avg_loss': 0.378097, 'val_loss': 77.131696, 'val_total': 204}}\n",
      "2022-12-22 19:15:49,844 (monitor:936)INFO: Current best: {'test_acc': 0.813725, 'test_avg_loss': 0.47469, 'test_loss': 96.836845, 'test_total': 204, 'val_acc': 0.857843, 'val_avg_loss': 0.355348, 'val_loss': 72.490919, 'val_total': 204}\n"
     ]
    },
    {
     "name": "stdout",
     "output_type": "stream",
     "text": [
      "no improve counter: 17\n",
      "self.best_metric: 72.49091899394989\n",
      "no improve counter: 18\n",
      "self.best_metric: 0.3553476421272053\n"
     ]
    },
    {
     "name": "stderr",
     "output_type": "stream",
     "text": [
      "2022-12-22 19:15:50,117 (client:260)INFO: {'Role': 'Client #1', 'Round': 228, 'Results_raw': {'train_acc': 0.871858, 'train_avg_loss': 0.3213, 'train_loss': 524.040557, 'train_total': 1631}}\n",
      "2022-12-22 19:15:50,119 (server:496)INFO: {'Role': 'Server #', 'Round': 228, 'Results_avg': {'test_acc': 0.808824, 'test_avg_loss': 0.464102, 'test_loss': 94.676831, 'test_total': 204.0, 'val_acc': 0.848039, 'val_avg_loss': 0.378097, 'val_loss': 77.131696, 'val_total': 204.0}}\n",
      "2022-12-22 19:15:50,121 (monitor:936)INFO: Current best: {'test_acc': 0.813725, 'test_avg_loss': 0.47469, 'test_loss': 96.836845, 'test_total': 204.0, 'val_acc': 0.857843, 'val_avg_loss': 0.355348, 'val_loss': 72.490919, 'val_total': 204.0}\n",
      "2022-12-22 19:15:50,122 (monitor:936)INFO: Current best: {'test_acc': 0.813725, 'test_avg_loss': 0.47469, 'test_loss': 96.836845, 'test_total': 204.0, 'val_acc': 0.857843, 'val_avg_loss': 0.355348, 'val_loss': 72.490919, 'val_total': 204.0}\n",
      "2022-12-22 19:15:50,124 (server:323)INFO: Server #0: Starting evaluation at the end of round 228.\n",
      "2022-12-22 19:15:50,125 (server:330)INFO: ----------- Starting a new training round (Round #229) -------------\n",
      "2022-12-22 19:15:50,181 (client:415)INFO: {'Role': 'Client #1', 'Round': 229, 'Results_raw': {'test_acc': 0.823529, 'test_avg_loss': 0.452206, 'test_loss': 92.249965, 'test_total': 204, 'val_acc': 0.848039, 'val_avg_loss': 0.389648, 'val_loss': 79.488209, 'val_total': 204}}\n",
      "2022-12-22 19:15:50,182 (monitor:936)INFO: Current best: {'test_acc': 0.813725, 'test_avg_loss': 0.47469, 'test_loss': 96.836845, 'test_total': 204, 'val_acc': 0.857843, 'val_avg_loss': 0.355348, 'val_loss': 72.490919, 'val_total': 204}\n"
     ]
    },
    {
     "name": "stdout",
     "output_type": "stream",
     "text": [
      "no improve counter: 18\n",
      "self.best_metric: 72.49091899394989\n",
      "no improve counter: 19\n",
      "self.best_metric: 0.3553476421272053\n"
     ]
    },
    {
     "name": "stderr",
     "output_type": "stream",
     "text": [
      "2022-12-22 19:15:50,469 (client:260)INFO: {'Role': 'Client #1', 'Round': 229, 'Results_raw': {'train_acc': 0.863274, 'train_avg_loss': 0.333005, 'train_loss': 543.131479, 'train_total': 1631}}\n",
      "2022-12-22 19:15:50,471 (server:496)INFO: {'Role': 'Server #', 'Round': 229, 'Results_avg': {'test_acc': 0.823529, 'test_avg_loss': 0.452206, 'test_loss': 92.249965, 'test_total': 204.0, 'val_acc': 0.848039, 'val_avg_loss': 0.389648, 'val_loss': 79.488209, 'val_total': 204.0}}\n",
      "2022-12-22 19:15:50,472 (monitor:936)INFO: Current best: {'test_acc': 0.813725, 'test_avg_loss': 0.47469, 'test_loss': 96.836845, 'test_total': 204.0, 'val_acc': 0.857843, 'val_avg_loss': 0.355348, 'val_loss': 72.490919, 'val_total': 204.0}\n",
      "2022-12-22 19:15:50,474 (monitor:936)INFO: Current best: {'test_acc': 0.813725, 'test_avg_loss': 0.47469, 'test_loss': 96.836845, 'test_total': 204.0, 'val_acc': 0.857843, 'val_avg_loss': 0.355348, 'val_loss': 72.490919, 'val_total': 204.0}\n",
      "2022-12-22 19:15:50,477 (server:323)INFO: Server #0: Starting evaluation at the end of round 229.\n",
      "2022-12-22 19:15:50,477 (server:330)INFO: ----------- Starting a new training round (Round #230) -------------\n",
      "2022-12-22 19:15:50,529 (client:415)INFO: {'Role': 'Client #1', 'Round': 230, 'Results_raw': {'test_acc': 0.818627, 'test_avg_loss': 0.483478, 'test_loss': 98.629548, 'test_total': 204, 'val_acc': 0.862745, 'val_avg_loss': 0.366157, 'val_loss': 74.695993, 'val_total': 204}}\n",
      "2022-12-22 19:15:50,530 (monitor:936)INFO: Current best: {'test_acc': 0.813725, 'test_avg_loss': 0.47469, 'test_loss': 96.836845, 'test_total': 204, 'val_acc': 0.857843, 'val_avg_loss': 0.355348, 'val_loss': 72.490919, 'val_total': 204}\n"
     ]
    },
    {
     "name": "stdout",
     "output_type": "stream",
     "text": [
      "no improve counter: 19\n",
      "self.best_metric: 72.49091899394989\n",
      "no improve counter: 20\n",
      "self.best_metric: 0.3553476421272053\n"
     ]
    },
    {
     "name": "stderr",
     "output_type": "stream",
     "text": [
      "2022-12-22 19:15:50,791 (client:260)INFO: {'Role': 'Client #1', 'Round': 230, 'Results_raw': {'train_acc': 0.867566, 'train_avg_loss': 0.335537, 'train_loss': 547.26054, 'train_total': 1631}}\n",
      "2022-12-22 19:15:50,793 (server:496)INFO: {'Role': 'Server #', 'Round': 230, 'Results_avg': {'test_acc': 0.818627, 'test_avg_loss': 0.483478, 'test_loss': 98.629548, 'test_total': 204.0, 'val_acc': 0.862745, 'val_avg_loss': 0.366157, 'val_loss': 74.695993, 'val_total': 204.0}}\n",
      "2022-12-22 19:15:50,795 (monitor:936)INFO: Current best: {'test_acc': 0.813725, 'test_avg_loss': 0.47469, 'test_loss': 96.836845, 'test_total': 204.0, 'val_acc': 0.857843, 'val_avg_loss': 0.355348, 'val_loss': 72.490919, 'val_total': 204.0}\n",
      "2022-12-22 19:15:50,796 (monitor:936)INFO: Current best: {'test_acc': 0.813725, 'test_avg_loss': 0.47469, 'test_loss': 96.836845, 'test_total': 204.0, 'val_acc': 0.857843, 'val_avg_loss': 0.355348, 'val_loss': 72.490919, 'val_total': 204.0}\n",
      "2022-12-22 19:15:50,797 (server:323)INFO: Server #0: Starting evaluation at the end of round 230.\n",
      "2022-12-22 19:15:50,798 (server:330)INFO: ----------- Starting a new training round (Round #231) -------------\n",
      "2022-12-22 19:15:50,859 (client:415)INFO: {'Role': 'Client #1', 'Round': 231, 'Results_raw': {'test_acc': 0.803922, 'test_avg_loss': 0.509737, 'test_loss': 103.986409, 'test_total': 204, 'val_acc': 0.813725, 'val_avg_loss': 0.421046, 'val_loss': 85.893433, 'val_total': 204}}\n",
      "2022-12-22 19:15:50,860 (monitor:936)INFO: Current best: {'test_acc': 0.813725, 'test_avg_loss': 0.47469, 'test_loss': 96.836845, 'test_total': 204, 'val_acc': 0.857843, 'val_avg_loss': 0.355348, 'val_loss': 72.490919, 'val_total': 204}\n"
     ]
    },
    {
     "name": "stdout",
     "output_type": "stream",
     "text": [
      "no improve counter: 20\n",
      "self.best_metric: 72.49091899394989\n",
      "no improve counter: 21\n",
      "self.best_metric: 0.3553476421272053\n"
     ]
    },
    {
     "name": "stderr",
     "output_type": "stream",
     "text": [
      "2022-12-22 19:15:51,124 (client:260)INFO: {'Role': 'Client #1', 'Round': 231, 'Results_raw': {'train_acc': 0.871858, 'train_avg_loss': 0.318061, 'train_loss': 518.757758, 'train_total': 1631}}\n",
      "2022-12-22 19:15:51,126 (server:496)INFO: {'Role': 'Server #', 'Round': 231, 'Results_avg': {'test_acc': 0.803922, 'test_avg_loss': 0.509737, 'test_loss': 103.986409, 'test_total': 204.0, 'val_acc': 0.813725, 'val_avg_loss': 0.421046, 'val_loss': 85.893433, 'val_total': 204.0}}\n",
      "2022-12-22 19:15:51,128 (monitor:936)INFO: Current best: {'test_acc': 0.813725, 'test_avg_loss': 0.47469, 'test_loss': 96.836845, 'test_total': 204.0, 'val_acc': 0.857843, 'val_avg_loss': 0.355348, 'val_loss': 72.490919, 'val_total': 204.0}\n",
      "2022-12-22 19:15:51,129 (monitor:936)INFO: Current best: {'test_acc': 0.813725, 'test_avg_loss': 0.47469, 'test_loss': 96.836845, 'test_total': 204.0, 'val_acc': 0.857843, 'val_avg_loss': 0.355348, 'val_loss': 72.490919, 'val_total': 204.0}\n",
      "2022-12-22 19:15:51,131 (server:323)INFO: Server #0: Starting evaluation at the end of round 231.\n",
      "2022-12-22 19:15:51,133 (server:330)INFO: ----------- Starting a new training round (Round #232) -------------\n",
      "2022-12-22 19:15:51,200 (client:415)INFO: {'Role': 'Client #1', 'Round': 232, 'Results_raw': {'test_acc': 0.813725, 'test_avg_loss': 0.449694, 'test_loss': 91.737625, 'test_total': 204, 'val_acc': 0.833333, 'val_avg_loss': 0.386667, 'val_loss': 78.880073, 'val_total': 204}}\n",
      "2022-12-22 19:15:51,202 (monitor:936)INFO: Current best: {'test_acc': 0.813725, 'test_avg_loss': 0.47469, 'test_loss': 96.836845, 'test_total': 204, 'val_acc': 0.857843, 'val_avg_loss': 0.355348, 'val_loss': 72.490919, 'val_total': 204}\n"
     ]
    },
    {
     "name": "stdout",
     "output_type": "stream",
     "text": [
      "no improve counter: 21\n",
      "self.best_metric: 72.49091899394989\n",
      "no improve counter: 22\n",
      "self.best_metric: 0.3553476421272053\n"
     ]
    },
    {
     "name": "stderr",
     "output_type": "stream",
     "text": [
      "2022-12-22 19:15:51,462 (client:260)INFO: {'Role': 'Client #1', 'Round': 232, 'Results_raw': {'train_acc': 0.867566, 'train_avg_loss': 0.320997, 'train_loss': 523.546149, 'train_total': 1631}}\n",
      "2022-12-22 19:15:51,465 (server:496)INFO: {'Role': 'Server #', 'Round': 232, 'Results_avg': {'test_acc': 0.813725, 'test_avg_loss': 0.449694, 'test_loss': 91.737625, 'test_total': 204.0, 'val_acc': 0.833333, 'val_avg_loss': 0.386667, 'val_loss': 78.880073, 'val_total': 204.0}}\n",
      "2022-12-22 19:15:51,466 (monitor:936)INFO: Current best: {'test_acc': 0.813725, 'test_avg_loss': 0.47469, 'test_loss': 96.836845, 'test_total': 204.0, 'val_acc': 0.857843, 'val_avg_loss': 0.355348, 'val_loss': 72.490919, 'val_total': 204.0}\n",
      "2022-12-22 19:15:51,467 (monitor:936)INFO: Current best: {'test_acc': 0.813725, 'test_avg_loss': 0.47469, 'test_loss': 96.836845, 'test_total': 204.0, 'val_acc': 0.857843, 'val_avg_loss': 0.355348, 'val_loss': 72.490919, 'val_total': 204.0}\n",
      "2022-12-22 19:15:51,470 (server:323)INFO: Server #0: Starting evaluation at the end of round 232.\n",
      "2022-12-22 19:15:51,471 (server:330)INFO: ----------- Starting a new training round (Round #233) -------------\n",
      "2022-12-22 19:15:51,526 (client:415)INFO: {'Role': 'Client #1', 'Round': 233, 'Results_raw': {'test_acc': 0.813725, 'test_avg_loss': 0.45356, 'test_loss': 92.526142, 'test_total': 204, 'val_acc': 0.848039, 'val_avg_loss': 0.376328, 'val_loss': 76.770914, 'val_total': 204}}\n",
      "2022-12-22 19:15:51,527 (monitor:936)INFO: Current best: {'test_acc': 0.813725, 'test_avg_loss': 0.47469, 'test_loss': 96.836845, 'test_total': 204, 'val_acc': 0.857843, 'val_avg_loss': 0.355348, 'val_loss': 72.490919, 'val_total': 204}\n"
     ]
    },
    {
     "name": "stdout",
     "output_type": "stream",
     "text": [
      "no improve counter: 22\n",
      "self.best_metric: 72.49091899394989\n",
      "no improve counter: 23\n",
      "self.best_metric: 0.3553476421272053\n"
     ]
    },
    {
     "name": "stderr",
     "output_type": "stream",
     "text": [
      "2022-12-22 19:15:51,790 (client:260)INFO: {'Role': 'Client #1', 'Round': 233, 'Results_raw': {'train_acc': 0.863274, 'train_avg_loss': 0.327106, 'train_loss': 533.510038, 'train_total': 1631}}\n",
      "2022-12-22 19:15:51,792 (server:496)INFO: {'Role': 'Server #', 'Round': 233, 'Results_avg': {'test_acc': 0.813725, 'test_avg_loss': 0.45356, 'test_loss': 92.526142, 'test_total': 204.0, 'val_acc': 0.848039, 'val_avg_loss': 0.376328, 'val_loss': 76.770914, 'val_total': 204.0}}\n",
      "2022-12-22 19:15:51,793 (monitor:936)INFO: Current best: {'test_acc': 0.813725, 'test_avg_loss': 0.47469, 'test_loss': 96.836845, 'test_total': 204.0, 'val_acc': 0.857843, 'val_avg_loss': 0.355348, 'val_loss': 72.490919, 'val_total': 204.0}\n",
      "2022-12-22 19:15:51,796 (monitor:936)INFO: Current best: {'test_acc': 0.813725, 'test_avg_loss': 0.47469, 'test_loss': 96.836845, 'test_total': 204.0, 'val_acc': 0.857843, 'val_avg_loss': 0.355348, 'val_loss': 72.490919, 'val_total': 204.0}\n",
      "2022-12-22 19:15:51,797 (server:323)INFO: Server #0: Starting evaluation at the end of round 233.\n",
      "2022-12-22 19:15:51,798 (server:330)INFO: ----------- Starting a new training round (Round #234) -------------\n",
      "2022-12-22 19:15:51,853 (client:415)INFO: {'Role': 'Client #1', 'Round': 234, 'Results_raw': {'test_acc': 0.808824, 'test_avg_loss': 0.485552, 'test_loss': 99.052515, 'test_total': 204, 'val_acc': 0.838235, 'val_avg_loss': 0.380932, 'val_loss': 77.710178, 'val_total': 204}}\n",
      "2022-12-22 19:15:51,854 (monitor:936)INFO: Current best: {'test_acc': 0.813725, 'test_avg_loss': 0.47469, 'test_loss': 96.836845, 'test_total': 204, 'val_acc': 0.857843, 'val_avg_loss': 0.355348, 'val_loss': 72.490919, 'val_total': 204}\n"
     ]
    },
    {
     "name": "stdout",
     "output_type": "stream",
     "text": [
      "no improve counter: 23\n",
      "self.best_metric: 72.49091899394989\n",
      "no improve counter: 24\n",
      "self.best_metric: 0.3553476421272053\n"
     ]
    },
    {
     "name": "stderr",
     "output_type": "stream",
     "text": [
      "2022-12-22 19:15:52,137 (client:260)INFO: {'Role': 'Client #1', 'Round': 234, 'Results_raw': {'train_acc': 0.862048, 'train_avg_loss': 0.341604, 'train_loss': 557.155371, 'train_total': 1631}}\n",
      "2022-12-22 19:15:52,139 (server:496)INFO: {'Role': 'Server #', 'Round': 234, 'Results_avg': {'test_acc': 0.808824, 'test_avg_loss': 0.485552, 'test_loss': 99.052515, 'test_total': 204.0, 'val_acc': 0.838235, 'val_avg_loss': 0.380932, 'val_loss': 77.710178, 'val_total': 204.0}}\n",
      "2022-12-22 19:15:52,140 (monitor:936)INFO: Current best: {'test_acc': 0.813725, 'test_avg_loss': 0.47469, 'test_loss': 96.836845, 'test_total': 204.0, 'val_acc': 0.857843, 'val_avg_loss': 0.355348, 'val_loss': 72.490919, 'val_total': 204.0}\n",
      "2022-12-22 19:15:52,141 (monitor:936)INFO: Current best: {'test_acc': 0.813725, 'test_avg_loss': 0.47469, 'test_loss': 96.836845, 'test_total': 204.0, 'val_acc': 0.857843, 'val_avg_loss': 0.355348, 'val_loss': 72.490919, 'val_total': 204.0}\n",
      "2022-12-22 19:15:52,143 (server:323)INFO: Server #0: Starting evaluation at the end of round 234.\n",
      "2022-12-22 19:15:52,144 (server:330)INFO: ----------- Starting a new training round (Round #235) -------------\n",
      "2022-12-22 19:15:52,206 (client:415)INFO: {'Role': 'Client #1', 'Round': 235, 'Results_raw': {'test_acc': 0.779412, 'test_avg_loss': 0.535896, 'test_loss': 109.322883, 'test_total': 204, 'val_acc': 0.803922, 'val_avg_loss': 0.398853, 'val_loss': 81.366105, 'val_total': 204}}\n",
      "2022-12-22 19:15:52,207 (monitor:936)INFO: Current best: {'test_acc': 0.813725, 'test_avg_loss': 0.47469, 'test_loss': 96.836845, 'test_total': 204, 'val_acc': 0.857843, 'val_avg_loss': 0.355348, 'val_loss': 72.490919, 'val_total': 204}\n"
     ]
    },
    {
     "name": "stdout",
     "output_type": "stream",
     "text": [
      "no improve counter: 24\n",
      "self.best_metric: 72.49091899394989\n",
      "no improve counter: 25\n",
      "self.best_metric: 0.3553476421272053\n"
     ]
    },
    {
     "name": "stderr",
     "output_type": "stream",
     "text": [
      "2022-12-22 19:15:52,495 (client:260)INFO: {'Role': 'Client #1', 'Round': 235, 'Results_raw': {'train_acc': 0.873084, 'train_avg_loss': 0.328253, 'train_loss': 535.379988, 'train_total': 1631}}\n",
      "2022-12-22 19:15:52,497 (server:496)INFO: {'Role': 'Server #', 'Round': 235, 'Results_avg': {'test_acc': 0.779412, 'test_avg_loss': 0.535896, 'test_loss': 109.322883, 'test_total': 204.0, 'val_acc': 0.803922, 'val_avg_loss': 0.398853, 'val_loss': 81.366105, 'val_total': 204.0}}\n",
      "2022-12-22 19:15:52,498 (monitor:936)INFO: Current best: {'test_acc': 0.813725, 'test_avg_loss': 0.47469, 'test_loss': 96.836845, 'test_total': 204.0, 'val_acc': 0.857843, 'val_avg_loss': 0.355348, 'val_loss': 72.490919, 'val_total': 204.0}\n",
      "2022-12-22 19:15:52,500 (monitor:936)INFO: Current best: {'test_acc': 0.813725, 'test_avg_loss': 0.47469, 'test_loss': 96.836845, 'test_total': 204.0, 'val_acc': 0.857843, 'val_avg_loss': 0.355348, 'val_loss': 72.490919, 'val_total': 204.0}\n",
      "2022-12-22 19:15:52,502 (server:323)INFO: Server #0: Starting evaluation at the end of round 235.\n",
      "2022-12-22 19:15:52,503 (server:330)INFO: ----------- Starting a new training round (Round #236) -------------\n",
      "2022-12-22 19:15:52,561 (client:415)INFO: {'Role': 'Client #1', 'Round': 236, 'Results_raw': {'test_acc': 0.813725, 'test_avg_loss': 0.459623, 'test_loss': 93.763155, 'test_total': 204, 'val_acc': 0.867647, 'val_avg_loss': 0.367838, 'val_loss': 75.038927, 'val_total': 204}}\n",
      "2022-12-22 19:15:52,563 (monitor:936)INFO: Current best: {'test_acc': 0.813725, 'test_avg_loss': 0.47469, 'test_loss': 96.836845, 'test_total': 204, 'val_acc': 0.857843, 'val_avg_loss': 0.355348, 'val_loss': 72.490919, 'val_total': 204}\n"
     ]
    },
    {
     "name": "stdout",
     "output_type": "stream",
     "text": [
      "no improve counter: 25\n",
      "self.best_metric: 72.49091899394989\n",
      "no improve counter: 26\n",
      "self.best_metric: 0.3553476421272053\n"
     ]
    },
    {
     "name": "stderr",
     "output_type": "stream",
     "text": [
      "2022-12-22 19:15:52,851 (client:260)INFO: {'Role': 'Client #1', 'Round': 236, 'Results_raw': {'train_acc': 0.862048, 'train_avg_loss': 0.336641, 'train_loss': 549.062242, 'train_total': 1631}}\n",
      "2022-12-22 19:15:52,854 (server:496)INFO: {'Role': 'Server #', 'Round': 236, 'Results_avg': {'test_acc': 0.813725, 'test_avg_loss': 0.459623, 'test_loss': 93.763155, 'test_total': 204.0, 'val_acc': 0.867647, 'val_avg_loss': 0.367838, 'val_loss': 75.038927, 'val_total': 204.0}}\n",
      "2022-12-22 19:15:52,855 (monitor:936)INFO: Current best: {'test_acc': 0.813725, 'test_avg_loss': 0.47469, 'test_loss': 96.836845, 'test_total': 204.0, 'val_acc': 0.857843, 'val_avg_loss': 0.355348, 'val_loss': 72.490919, 'val_total': 204.0}\n",
      "2022-12-22 19:15:52,857 (monitor:936)INFO: Current best: {'test_acc': 0.813725, 'test_avg_loss': 0.47469, 'test_loss': 96.836845, 'test_total': 204.0, 'val_acc': 0.857843, 'val_avg_loss': 0.355348, 'val_loss': 72.490919, 'val_total': 204.0}\n",
      "2022-12-22 19:15:52,858 (server:323)INFO: Server #0: Starting evaluation at the end of round 236.\n",
      "2022-12-22 19:15:52,860 (server:330)INFO: ----------- Starting a new training round (Round #237) -------------\n",
      "2022-12-22 19:15:52,916 (client:415)INFO: {'Role': 'Client #1', 'Round': 237, 'Results_raw': {'test_acc': 0.79902, 'test_avg_loss': 0.48064, 'test_loss': 98.050632, 'test_total': 204, 'val_acc': 0.818627, 'val_avg_loss': 0.40484, 'val_loss': 82.587372, 'val_total': 204}}\n",
      "2022-12-22 19:15:52,917 (monitor:936)INFO: Current best: {'test_acc': 0.813725, 'test_avg_loss': 0.47469, 'test_loss': 96.836845, 'test_total': 204, 'val_acc': 0.857843, 'val_avg_loss': 0.355348, 'val_loss': 72.490919, 'val_total': 204}\n"
     ]
    },
    {
     "name": "stdout",
     "output_type": "stream",
     "text": [
      "no improve counter: 26\n",
      "self.best_metric: 72.49091899394989\n",
      "no improve counter: 27\n",
      "self.best_metric: 0.3553476421272053\n"
     ]
    },
    {
     "name": "stderr",
     "output_type": "stream",
     "text": [
      "2022-12-22 19:15:53,173 (client:260)INFO: {'Role': 'Client #1', 'Round': 237, 'Results_raw': {'train_acc': 0.857756, 'train_avg_loss': 0.340806, 'train_loss': 555.855132, 'train_total': 1631}}\n",
      "2022-12-22 19:15:53,176 (server:496)INFO: {'Role': 'Server #', 'Round': 237, 'Results_avg': {'test_acc': 0.79902, 'test_avg_loss': 0.48064, 'test_loss': 98.050632, 'test_total': 204.0, 'val_acc': 0.818627, 'val_avg_loss': 0.40484, 'val_loss': 82.587372, 'val_total': 204.0}}\n",
      "2022-12-22 19:15:53,177 (monitor:936)INFO: Current best: {'test_acc': 0.813725, 'test_avg_loss': 0.47469, 'test_loss': 96.836845, 'test_total': 204.0, 'val_acc': 0.857843, 'val_avg_loss': 0.355348, 'val_loss': 72.490919, 'val_total': 204.0}\n",
      "2022-12-22 19:15:53,178 (monitor:936)INFO: Current best: {'test_acc': 0.813725, 'test_avg_loss': 0.47469, 'test_loss': 96.836845, 'test_total': 204.0, 'val_acc': 0.857843, 'val_avg_loss': 0.355348, 'val_loss': 72.490919, 'val_total': 204.0}\n",
      "2022-12-22 19:15:53,181 (server:323)INFO: Server #0: Starting evaluation at the end of round 237.\n",
      "2022-12-22 19:15:53,182 (server:330)INFO: ----------- Starting a new training round (Round #238) -------------\n",
      "2022-12-22 19:15:53,236 (client:415)INFO: {'Role': 'Client #1', 'Round': 238, 'Results_raw': {'test_acc': 0.79902, 'test_avg_loss': 0.479782, 'test_loss': 97.87557, 'test_total': 204, 'val_acc': 0.813725, 'val_avg_loss': 0.416471, 'val_loss': 84.960162, 'val_total': 204}}\n",
      "2022-12-22 19:15:53,237 (monitor:936)INFO: Current best: {'test_acc': 0.813725, 'test_avg_loss': 0.47469, 'test_loss': 96.836845, 'test_total': 204, 'val_acc': 0.857843, 'val_avg_loss': 0.355348, 'val_loss': 72.490919, 'val_total': 204}\n"
     ]
    },
    {
     "name": "stdout",
     "output_type": "stream",
     "text": [
      "no improve counter: 27\n",
      "self.best_metric: 72.49091899394989\n",
      "no improve counter: 28\n",
      "self.best_metric: 0.3553476421272053\n"
     ]
    },
    {
     "name": "stderr",
     "output_type": "stream",
     "text": [
      "2022-12-22 19:15:53,511 (client:260)INFO: {'Role': 'Client #1', 'Round': 238, 'Results_raw': {'train_acc': 0.8645, 'train_avg_loss': 0.335277, 'train_loss': 546.836674, 'train_total': 1631}}\n",
      "2022-12-22 19:15:53,513 (server:496)INFO: {'Role': 'Server #', 'Round': 238, 'Results_avg': {'test_acc': 0.79902, 'test_avg_loss': 0.479782, 'test_loss': 97.87557, 'test_total': 204.0, 'val_acc': 0.813725, 'val_avg_loss': 0.416471, 'val_loss': 84.960162, 'val_total': 204.0}}\n",
      "2022-12-22 19:15:53,514 (monitor:936)INFO: Current best: {'test_acc': 0.813725, 'test_avg_loss': 0.47469, 'test_loss': 96.836845, 'test_total': 204.0, 'val_acc': 0.857843, 'val_avg_loss': 0.355348, 'val_loss': 72.490919, 'val_total': 204.0}\n",
      "2022-12-22 19:15:53,515 (monitor:936)INFO: Current best: {'test_acc': 0.813725, 'test_avg_loss': 0.47469, 'test_loss': 96.836845, 'test_total': 204.0, 'val_acc': 0.857843, 'val_avg_loss': 0.355348, 'val_loss': 72.490919, 'val_total': 204.0}\n",
      "2022-12-22 19:15:53,516 (server:323)INFO: Server #0: Starting evaluation at the end of round 238.\n",
      "2022-12-22 19:15:53,517 (server:330)INFO: ----------- Starting a new training round (Round #239) -------------\n",
      "2022-12-22 19:15:53,571 (client:415)INFO: {'Role': 'Client #1', 'Round': 239, 'Results_raw': {'test_acc': 0.803922, 'test_avg_loss': 0.462649, 'test_loss': 94.380324, 'test_total': 204, 'val_acc': 0.828431, 'val_avg_loss': 0.387211, 'val_loss': 78.991126, 'val_total': 204}}\n",
      "2022-12-22 19:15:53,572 (monitor:936)INFO: Current best: {'test_acc': 0.813725, 'test_avg_loss': 0.47469, 'test_loss': 96.836845, 'test_total': 204, 'val_acc': 0.857843, 'val_avg_loss': 0.355348, 'val_loss': 72.490919, 'val_total': 204}\n"
     ]
    },
    {
     "name": "stdout",
     "output_type": "stream",
     "text": [
      "no improve counter: 28\n",
      "self.best_metric: 72.49091899394989\n",
      "no improve counter: 29\n",
      "self.best_metric: 0.3553476421272053\n"
     ]
    },
    {
     "name": "stderr",
     "output_type": "stream",
     "text": [
      "2022-12-22 19:15:53,850 (client:260)INFO: {'Role': 'Client #1', 'Round': 239, 'Results_raw': {'train_acc': 0.870018, 'train_avg_loss': 0.323904, 'train_loss': 528.286879, 'train_total': 1631}}\n",
      "2022-12-22 19:15:53,852 (server:496)INFO: {'Role': 'Server #', 'Round': 239, 'Results_avg': {'test_acc': 0.803922, 'test_avg_loss': 0.462649, 'test_loss': 94.380324, 'test_total': 204.0, 'val_acc': 0.828431, 'val_avg_loss': 0.387211, 'val_loss': 78.991126, 'val_total': 204.0}}\n",
      "2022-12-22 19:15:53,853 (monitor:936)INFO: Current best: {'test_acc': 0.813725, 'test_avg_loss': 0.47469, 'test_loss': 96.836845, 'test_total': 204.0, 'val_acc': 0.857843, 'val_avg_loss': 0.355348, 'val_loss': 72.490919, 'val_total': 204.0}\n",
      "2022-12-22 19:15:53,854 (monitor:936)INFO: Current best: {'test_acc': 0.813725, 'test_avg_loss': 0.47469, 'test_loss': 96.836845, 'test_total': 204.0, 'val_acc': 0.857843, 'val_avg_loss': 0.355348, 'val_loss': 72.490919, 'val_total': 204.0}\n",
      "2022-12-22 19:15:53,858 (server:323)INFO: Server #0: Starting evaluation at the end of round 239.\n",
      "2022-12-22 19:15:53,860 (server:330)INFO: ----------- Starting a new training round (Round #240) -------------\n",
      "2022-12-22 19:15:53,926 (client:415)INFO: {'Role': 'Client #1', 'Round': 240, 'Results_raw': {'test_acc': 0.803922, 'test_avg_loss': 0.462682, 'test_loss': 94.387066, 'test_total': 204, 'val_acc': 0.867647, 'val_avg_loss': 0.359112, 'val_loss': 73.258793, 'val_total': 204}}\n",
      "2022-12-22 19:15:53,927 (monitor:936)INFO: Current best: {'test_acc': 0.813725, 'test_avg_loss': 0.47469, 'test_loss': 96.836845, 'test_total': 204, 'val_acc': 0.857843, 'val_avg_loss': 0.355348, 'val_loss': 72.490919, 'val_total': 204}\n"
     ]
    },
    {
     "name": "stdout",
     "output_type": "stream",
     "text": [
      "no improve counter: 29\n",
      "self.best_metric: 72.49091899394989\n",
      "no improve counter: 30\n",
      "self.best_metric: 0.3553476421272053\n"
     ]
    },
    {
     "name": "stderr",
     "output_type": "stream",
     "text": [
      "2022-12-22 19:15:54,191 (client:260)INFO: {'Role': 'Client #1', 'Round': 240, 'Results_raw': {'train_acc': 0.871858, 'train_avg_loss': 0.328393, 'train_loss': 535.609286, 'train_total': 1631}}\n",
      "2022-12-22 19:15:54,193 (server:496)INFO: {'Role': 'Server #', 'Round': 240, 'Results_avg': {'test_acc': 0.803922, 'test_avg_loss': 0.462682, 'test_loss': 94.387066, 'test_total': 204.0, 'val_acc': 0.867647, 'val_avg_loss': 0.359112, 'val_loss': 73.258793, 'val_total': 204.0}}\n",
      "2022-12-22 19:15:54,194 (monitor:936)INFO: Current best: {'test_acc': 0.813725, 'test_avg_loss': 0.47469, 'test_loss': 96.836845, 'test_total': 204.0, 'val_acc': 0.857843, 'val_avg_loss': 0.355348, 'val_loss': 72.490919, 'val_total': 204.0}\n",
      "2022-12-22 19:15:54,195 (monitor:936)INFO: Current best: {'test_acc': 0.813725, 'test_avg_loss': 0.47469, 'test_loss': 96.836845, 'test_total': 204.0, 'val_acc': 0.857843, 'val_avg_loss': 0.355348, 'val_loss': 72.490919, 'val_total': 204.0}\n",
      "2022-12-22 19:15:54,197 (server:323)INFO: Server #0: Starting evaluation at the end of round 240.\n",
      "2022-12-22 19:15:54,198 (server:330)INFO: ----------- Starting a new training round (Round #241) -------------\n",
      "2022-12-22 19:15:54,246 (client:415)INFO: {'Role': 'Client #1', 'Round': 241, 'Results_raw': {'test_acc': 0.818627, 'test_avg_loss': 0.433953, 'test_loss': 88.526314, 'test_total': 204, 'val_acc': 0.862745, 'val_avg_loss': 0.370949, 'val_loss': 75.673678, 'val_total': 204}}\n",
      "2022-12-22 19:15:54,247 (monitor:936)INFO: Current best: {'test_acc': 0.813725, 'test_avg_loss': 0.47469, 'test_loss': 96.836845, 'test_total': 204, 'val_acc': 0.857843, 'val_avg_loss': 0.355348, 'val_loss': 72.490919, 'val_total': 204}\n"
     ]
    },
    {
     "name": "stdout",
     "output_type": "stream",
     "text": [
      "no improve counter: 30\n",
      "self.best_metric: 72.49091899394989\n",
      "no improve counter: 31\n",
      "self.best_metric: 0.3553476421272053\n"
     ]
    },
    {
     "name": "stderr",
     "output_type": "stream",
     "text": [
      "2022-12-22 19:15:54,524 (client:260)INFO: {'Role': 'Client #1', 'Round': 241, 'Results_raw': {'train_acc': 0.861435, 'train_avg_loss': 0.328595, 'train_loss': 535.938502, 'train_total': 1631}}\n",
      "2022-12-22 19:15:54,527 (server:496)INFO: {'Role': 'Server #', 'Round': 241, 'Results_avg': {'test_acc': 0.818627, 'test_avg_loss': 0.433953, 'test_loss': 88.526314, 'test_total': 204.0, 'val_acc': 0.862745, 'val_avg_loss': 0.370949, 'val_loss': 75.673678, 'val_total': 204.0}}\n",
      "2022-12-22 19:15:54,528 (monitor:936)INFO: Current best: {'test_acc': 0.813725, 'test_avg_loss': 0.47469, 'test_loss': 96.836845, 'test_total': 204.0, 'val_acc': 0.857843, 'val_avg_loss': 0.355348, 'val_loss': 72.490919, 'val_total': 204.0}\n",
      "2022-12-22 19:15:54,530 (monitor:936)INFO: Current best: {'test_acc': 0.813725, 'test_avg_loss': 0.47469, 'test_loss': 96.836845, 'test_total': 204.0, 'val_acc': 0.857843, 'val_avg_loss': 0.355348, 'val_loss': 72.490919, 'val_total': 204.0}\n",
      "2022-12-22 19:15:54,532 (server:323)INFO: Server #0: Starting evaluation at the end of round 241.\n",
      "2022-12-22 19:15:54,532 (server:330)INFO: ----------- Starting a new training round (Round #242) -------------\n",
      "2022-12-22 19:15:54,596 (client:415)INFO: {'Role': 'Client #1', 'Round': 242, 'Results_raw': {'test_acc': 0.823529, 'test_avg_loss': 0.445578, 'test_loss': 90.89789, 'test_total': 204, 'val_acc': 0.848039, 'val_avg_loss': 0.371043, 'val_loss': 75.692727, 'val_total': 204}}\n",
      "2022-12-22 19:15:54,597 (monitor:936)INFO: Current best: {'test_acc': 0.813725, 'test_avg_loss': 0.47469, 'test_loss': 96.836845, 'test_total': 204, 'val_acc': 0.857843, 'val_avg_loss': 0.355348, 'val_loss': 72.490919, 'val_total': 204}\n"
     ]
    },
    {
     "name": "stdout",
     "output_type": "stream",
     "text": [
      "no improve counter: 31\n",
      "self.best_metric: 72.49091899394989\n",
      "no improve counter: 32\n",
      "self.best_metric: 0.3553476421272053\n"
     ]
    },
    {
     "name": "stderr",
     "output_type": "stream",
     "text": [
      "2022-12-22 19:15:54,893 (client:260)INFO: {'Role': 'Client #1', 'Round': 242, 'Results_raw': {'train_acc': 0.860208, 'train_avg_loss': 0.331355, 'train_loss': 540.43949, 'train_total': 1631}}\n",
      "2022-12-22 19:15:54,895 (server:496)INFO: {'Role': 'Server #', 'Round': 242, 'Results_avg': {'test_acc': 0.823529, 'test_avg_loss': 0.445578, 'test_loss': 90.89789, 'test_total': 204.0, 'val_acc': 0.848039, 'val_avg_loss': 0.371043, 'val_loss': 75.692727, 'val_total': 204.0}}\n",
      "2022-12-22 19:15:54,896 (monitor:936)INFO: Current best: {'test_acc': 0.813725, 'test_avg_loss': 0.47469, 'test_loss': 96.836845, 'test_total': 204.0, 'val_acc': 0.857843, 'val_avg_loss': 0.355348, 'val_loss': 72.490919, 'val_total': 204.0}\n",
      "2022-12-22 19:15:54,898 (monitor:936)INFO: Current best: {'test_acc': 0.813725, 'test_avg_loss': 0.47469, 'test_loss': 96.836845, 'test_total': 204.0, 'val_acc': 0.857843, 'val_avg_loss': 0.355348, 'val_loss': 72.490919, 'val_total': 204.0}\n",
      "2022-12-22 19:15:54,900 (server:323)INFO: Server #0: Starting evaluation at the end of round 242.\n",
      "2022-12-22 19:15:54,901 (server:330)INFO: ----------- Starting a new training round (Round #243) -------------\n",
      "2022-12-22 19:15:54,957 (client:415)INFO: {'Role': 'Client #1', 'Round': 243, 'Results_raw': {'test_acc': 0.818627, 'test_avg_loss': 0.455275, 'test_loss': 92.876122, 'test_total': 204, 'val_acc': 0.838235, 'val_avg_loss': 0.376979, 'val_loss': 76.90375, 'val_total': 204}}\n",
      "2022-12-22 19:15:54,959 (monitor:936)INFO: Current best: {'test_acc': 0.813725, 'test_avg_loss': 0.47469, 'test_loss': 96.836845, 'test_total': 204, 'val_acc': 0.857843, 'val_avg_loss': 0.355348, 'val_loss': 72.490919, 'val_total': 204}\n"
     ]
    },
    {
     "name": "stdout",
     "output_type": "stream",
     "text": [
      "no improve counter: 32\n",
      "self.best_metric: 72.49091899394989\n",
      "no improve counter: 33\n",
      "self.best_metric: 0.3553476421272053\n"
     ]
    },
    {
     "name": "stderr",
     "output_type": "stream",
     "text": [
      "2022-12-22 19:15:55,219 (client:260)INFO: {'Role': 'Client #1', 'Round': 243, 'Results_raw': {'train_acc': 0.857143, 'train_avg_loss': 0.341382, 'train_loss': 556.793483, 'train_total': 1631}}\n",
      "2022-12-22 19:15:55,221 (server:496)INFO: {'Role': 'Server #', 'Round': 243, 'Results_avg': {'test_acc': 0.818627, 'test_avg_loss': 0.455275, 'test_loss': 92.876122, 'test_total': 204.0, 'val_acc': 0.838235, 'val_avg_loss': 0.376979, 'val_loss': 76.90375, 'val_total': 204.0}}\n",
      "2022-12-22 19:15:55,222 (monitor:936)INFO: Current best: {'test_acc': 0.813725, 'test_avg_loss': 0.47469, 'test_loss': 96.836845, 'test_total': 204.0, 'val_acc': 0.857843, 'val_avg_loss': 0.355348, 'val_loss': 72.490919, 'val_total': 204.0}\n",
      "2022-12-22 19:15:55,224 (monitor:936)INFO: Current best: {'test_acc': 0.813725, 'test_avg_loss': 0.47469, 'test_loss': 96.836845, 'test_total': 204.0, 'val_acc': 0.857843, 'val_avg_loss': 0.355348, 'val_loss': 72.490919, 'val_total': 204.0}\n",
      "2022-12-22 19:15:55,228 (server:323)INFO: Server #0: Starting evaluation at the end of round 243.\n",
      "2022-12-22 19:15:55,228 (server:330)INFO: ----------- Starting a new training round (Round #244) -------------\n",
      "2022-12-22 19:15:55,287 (client:415)INFO: {'Role': 'Client #1', 'Round': 244, 'Results_raw': {'test_acc': 0.813725, 'test_avg_loss': 0.504201, 'test_loss': 102.857036, 'test_total': 204, 'val_acc': 0.833333, 'val_avg_loss': 0.382423, 'val_loss': 78.014239, 'val_total': 204}}\n",
      "2022-12-22 19:15:55,288 (monitor:936)INFO: Current best: {'test_acc': 0.813725, 'test_avg_loss': 0.47469, 'test_loss': 96.836845, 'test_total': 204, 'val_acc': 0.857843, 'val_avg_loss': 0.355348, 'val_loss': 72.490919, 'val_total': 204}\n"
     ]
    },
    {
     "name": "stdout",
     "output_type": "stream",
     "text": [
      "no improve counter: 33\n",
      "self.best_metric: 72.49091899394989\n",
      "no improve counter: 34\n",
      "self.best_metric: 0.3553476421272053\n"
     ]
    },
    {
     "name": "stderr",
     "output_type": "stream",
     "text": [
      "2022-12-22 19:15:55,535 (client:260)INFO: {'Role': 'Client #1', 'Round': 244, 'Results_raw': {'train_acc': 0.867566, 'train_avg_loss': 0.323986, 'train_loss': 528.421115, 'train_total': 1631}}\n",
      "2022-12-22 19:15:55,537 (server:496)INFO: {'Role': 'Server #', 'Round': 244, 'Results_avg': {'test_acc': 0.813725, 'test_avg_loss': 0.504201, 'test_loss': 102.857036, 'test_total': 204.0, 'val_acc': 0.833333, 'val_avg_loss': 0.382423, 'val_loss': 78.014239, 'val_total': 204.0}}\n",
      "2022-12-22 19:15:55,539 (monitor:936)INFO: Current best: {'test_acc': 0.813725, 'test_avg_loss': 0.47469, 'test_loss': 96.836845, 'test_total': 204.0, 'val_acc': 0.857843, 'val_avg_loss': 0.355348, 'val_loss': 72.490919, 'val_total': 204.0}\n",
      "2022-12-22 19:15:55,541 (monitor:936)INFO: Current best: {'test_acc': 0.813725, 'test_avg_loss': 0.47469, 'test_loss': 96.836845, 'test_total': 204.0, 'val_acc': 0.857843, 'val_avg_loss': 0.355348, 'val_loss': 72.490919, 'val_total': 204.0}\n",
      "2022-12-22 19:15:55,545 (server:323)INFO: Server #0: Starting evaluation at the end of round 244.\n",
      "2022-12-22 19:15:55,545 (server:330)INFO: ----------- Starting a new training round (Round #245) -------------\n",
      "2022-12-22 19:15:55,597 (client:415)INFO: {'Role': 'Client #1', 'Round': 245, 'Results_raw': {'test_acc': 0.808824, 'test_avg_loss': 0.458664, 'test_loss': 93.567428, 'test_total': 204, 'val_acc': 0.857843, 'val_avg_loss': 0.356893, 'val_loss': 72.806128, 'val_total': 204}}\n",
      "2022-12-22 19:15:55,598 (monitor:936)INFO: Current best: {'test_acc': 0.813725, 'test_avg_loss': 0.47469, 'test_loss': 96.836845, 'test_total': 204, 'val_acc': 0.857843, 'val_avg_loss': 0.355348, 'val_loss': 72.490919, 'val_total': 204}\n"
     ]
    },
    {
     "name": "stdout",
     "output_type": "stream",
     "text": [
      "no improve counter: 34\n",
      "self.best_metric: 72.49091899394989\n",
      "no improve counter: 35\n",
      "self.best_metric: 0.3553476421272053\n"
     ]
    },
    {
     "name": "stderr",
     "output_type": "stream",
     "text": [
      "2022-12-22 19:15:55,837 (client:260)INFO: {'Role': 'Client #1', 'Round': 245, 'Results_raw': {'train_acc': 0.873084, 'train_avg_loss': 0.323086, 'train_loss': 526.953716, 'train_total': 1631}}\n",
      "2022-12-22 19:15:55,838 (server:496)INFO: {'Role': 'Server #', 'Round': 245, 'Results_avg': {'test_acc': 0.808824, 'test_avg_loss': 0.458664, 'test_loss': 93.567428, 'test_total': 204.0, 'val_acc': 0.857843, 'val_avg_loss': 0.356893, 'val_loss': 72.806128, 'val_total': 204.0}}\n",
      "2022-12-22 19:15:55,839 (monitor:936)INFO: Current best: {'test_acc': 0.813725, 'test_avg_loss': 0.47469, 'test_loss': 96.836845, 'test_total': 204.0, 'val_acc': 0.857843, 'val_avg_loss': 0.355348, 'val_loss': 72.490919, 'val_total': 204.0}\n",
      "2022-12-22 19:15:55,841 (monitor:936)INFO: Current best: {'test_acc': 0.813725, 'test_avg_loss': 0.47469, 'test_loss': 96.836845, 'test_total': 204.0, 'val_acc': 0.857843, 'val_avg_loss': 0.355348, 'val_loss': 72.490919, 'val_total': 204.0}\n",
      "2022-12-22 19:15:55,843 (server:323)INFO: Server #0: Starting evaluation at the end of round 245.\n",
      "2022-12-22 19:15:55,844 (server:330)INFO: ----------- Starting a new training round (Round #246) -------------\n",
      "2022-12-22 19:15:55,903 (client:415)INFO: {'Role': 'Client #1', 'Round': 246, 'Results_raw': {'test_acc': 0.818627, 'test_avg_loss': 0.438206, 'test_loss': 89.393925, 'test_total': 204, 'val_acc': 0.862745, 'val_avg_loss': 0.367942, 'val_loss': 75.060224, 'val_total': 204}}\n",
      "2022-12-22 19:15:55,904 (monitor:936)INFO: Current best: {'test_acc': 0.813725, 'test_avg_loss': 0.47469, 'test_loss': 96.836845, 'test_total': 204, 'val_acc': 0.857843, 'val_avg_loss': 0.355348, 'val_loss': 72.490919, 'val_total': 204}\n"
     ]
    },
    {
     "name": "stdout",
     "output_type": "stream",
     "text": [
      "no improve counter: 35\n",
      "self.best_metric: 72.49091899394989\n",
      "no improve counter: 36\n",
      "self.best_metric: 0.3553476421272053\n"
     ]
    },
    {
     "name": "stderr",
     "output_type": "stream",
     "text": [
      "2022-12-22 19:15:56,170 (client:260)INFO: {'Role': 'Client #1', 'Round': 246, 'Results_raw': {'train_acc': 0.871245, 'train_avg_loss': 0.325558, 'train_loss': 530.985516, 'train_total': 1631}}\n",
      "2022-12-22 19:15:56,172 (server:496)INFO: {'Role': 'Server #', 'Round': 246, 'Results_avg': {'test_acc': 0.818627, 'test_avg_loss': 0.438206, 'test_loss': 89.393925, 'test_total': 204.0, 'val_acc': 0.862745, 'val_avg_loss': 0.367942, 'val_loss': 75.060224, 'val_total': 204.0}}\n",
      "2022-12-22 19:15:56,172 (monitor:936)INFO: Current best: {'test_acc': 0.813725, 'test_avg_loss': 0.47469, 'test_loss': 96.836845, 'test_total': 204.0, 'val_acc': 0.857843, 'val_avg_loss': 0.355348, 'val_loss': 72.490919, 'val_total': 204.0}\n",
      "2022-12-22 19:15:56,174 (monitor:936)INFO: Current best: {'test_acc': 0.813725, 'test_avg_loss': 0.47469, 'test_loss': 96.836845, 'test_total': 204.0, 'val_acc': 0.857843, 'val_avg_loss': 0.355348, 'val_loss': 72.490919, 'val_total': 204.0}\n",
      "2022-12-22 19:15:56,176 (server:323)INFO: Server #0: Starting evaluation at the end of round 246.\n",
      "2022-12-22 19:15:56,177 (server:330)INFO: ----------- Starting a new training round (Round #247) -------------\n",
      "2022-12-22 19:15:56,235 (client:415)INFO: {'Role': 'Client #1', 'Round': 247, 'Results_raw': {'test_acc': 0.789216, 'test_avg_loss': 0.507615, 'test_loss': 103.553394, 'test_total': 204, 'val_acc': 0.823529, 'val_avg_loss': 0.387116, 'val_loss': 78.971636, 'val_total': 204}}\n",
      "2022-12-22 19:15:56,236 (monitor:936)INFO: Current best: {'test_acc': 0.813725, 'test_avg_loss': 0.47469, 'test_loss': 96.836845, 'test_total': 204, 'val_acc': 0.857843, 'val_avg_loss': 0.355348, 'val_loss': 72.490919, 'val_total': 204}\n"
     ]
    },
    {
     "name": "stdout",
     "output_type": "stream",
     "text": [
      "no improve counter: 36\n",
      "self.best_metric: 72.49091899394989\n",
      "no improve counter: 37\n",
      "self.best_metric: 0.3553476421272053\n"
     ]
    },
    {
     "name": "stderr",
     "output_type": "stream",
     "text": [
      "2022-12-22 19:15:56,513 (client:260)INFO: {'Role': 'Client #1', 'Round': 247, 'Results_raw': {'train_acc': 0.869405, 'train_avg_loss': 0.331014, 'train_loss': 539.883945, 'train_total': 1631}}\n",
      "2022-12-22 19:15:56,516 (server:496)INFO: {'Role': 'Server #', 'Round': 247, 'Results_avg': {'test_acc': 0.789216, 'test_avg_loss': 0.507615, 'test_loss': 103.553394, 'test_total': 204.0, 'val_acc': 0.823529, 'val_avg_loss': 0.387116, 'val_loss': 78.971636, 'val_total': 204.0}}\n",
      "2022-12-22 19:15:56,517 (monitor:936)INFO: Current best: {'test_acc': 0.813725, 'test_avg_loss': 0.47469, 'test_loss': 96.836845, 'test_total': 204.0, 'val_acc': 0.857843, 'val_avg_loss': 0.355348, 'val_loss': 72.490919, 'val_total': 204.0}\n",
      "2022-12-22 19:15:56,518 (monitor:936)INFO: Current best: {'test_acc': 0.813725, 'test_avg_loss': 0.47469, 'test_loss': 96.836845, 'test_total': 204.0, 'val_acc': 0.857843, 'val_avg_loss': 0.355348, 'val_loss': 72.490919, 'val_total': 204.0}\n",
      "2022-12-22 19:15:56,521 (server:323)INFO: Server #0: Starting evaluation at the end of round 247.\n",
      "2022-12-22 19:15:56,522 (server:330)INFO: ----------- Starting a new training round (Round #248) -------------\n",
      "2022-12-22 19:15:56,577 (client:415)INFO: {'Role': 'Client #1', 'Round': 248, 'Results_raw': {'test_acc': 0.803922, 'test_avg_loss': 0.458191, 'test_loss': 93.470967, 'test_total': 204, 'val_acc': 0.818627, 'val_avg_loss': 0.392387, 'val_loss': 80.046953, 'val_total': 204}}\n",
      "2022-12-22 19:15:56,578 (monitor:936)INFO: Current best: {'test_acc': 0.813725, 'test_avg_loss': 0.47469, 'test_loss': 96.836845, 'test_total': 204, 'val_acc': 0.857843, 'val_avg_loss': 0.355348, 'val_loss': 72.490919, 'val_total': 204}\n"
     ]
    },
    {
     "name": "stdout",
     "output_type": "stream",
     "text": [
      "no improve counter: 37\n",
      "self.best_metric: 72.49091899394989\n",
      "no improve counter: 38\n",
      "self.best_metric: 0.3553476421272053\n"
     ]
    },
    {
     "name": "stderr",
     "output_type": "stream",
     "text": [
      "2022-12-22 19:15:56,848 (client:260)INFO: {'Role': 'Client #1', 'Round': 248, 'Results_raw': {'train_acc': 0.862661, 'train_avg_loss': 0.322963, 'train_loss': 526.752934, 'train_total': 1631}}\n",
      "2022-12-22 19:15:56,849 (server:496)INFO: {'Role': 'Server #', 'Round': 248, 'Results_avg': {'test_acc': 0.803922, 'test_avg_loss': 0.458191, 'test_loss': 93.470967, 'test_total': 204.0, 'val_acc': 0.818627, 'val_avg_loss': 0.392387, 'val_loss': 80.046953, 'val_total': 204.0}}\n",
      "2022-12-22 19:15:56,850 (monitor:936)INFO: Current best: {'test_acc': 0.813725, 'test_avg_loss': 0.47469, 'test_loss': 96.836845, 'test_total': 204.0, 'val_acc': 0.857843, 'val_avg_loss': 0.355348, 'val_loss': 72.490919, 'val_total': 204.0}\n",
      "2022-12-22 19:15:56,851 (monitor:936)INFO: Current best: {'test_acc': 0.813725, 'test_avg_loss': 0.47469, 'test_loss': 96.836845, 'test_total': 204.0, 'val_acc': 0.857843, 'val_avg_loss': 0.355348, 'val_loss': 72.490919, 'val_total': 204.0}\n",
      "2022-12-22 19:15:56,853 (server:323)INFO: Server #0: Starting evaluation at the end of round 248.\n",
      "2022-12-22 19:15:56,854 (server:330)INFO: ----------- Starting a new training round (Round #249) -------------\n",
      "2022-12-22 19:15:56,918 (client:415)INFO: {'Role': 'Client #1', 'Round': 249, 'Results_raw': {'test_acc': 0.813725, 'test_avg_loss': 0.44915, 'test_loss': 91.626652, 'test_total': 204, 'val_acc': 0.843137, 'val_avg_loss': 0.36881, 'val_loss': 75.237218, 'val_total': 204}}\n",
      "2022-12-22 19:15:56,920 (monitor:936)INFO: Current best: {'test_acc': 0.813725, 'test_avg_loss': 0.47469, 'test_loss': 96.836845, 'test_total': 204, 'val_acc': 0.857843, 'val_avg_loss': 0.355348, 'val_loss': 72.490919, 'val_total': 204}\n"
     ]
    },
    {
     "name": "stdout",
     "output_type": "stream",
     "text": [
      "no improve counter: 38\n",
      "self.best_metric: 72.49091899394989\n",
      "no improve counter: 39\n",
      "self.best_metric: 0.3553476421272053\n"
     ]
    },
    {
     "name": "stderr",
     "output_type": "stream",
     "text": [
      "2022-12-22 19:15:57,194 (client:260)INFO: {'Role': 'Client #1', 'Round': 249, 'Results_raw': {'train_acc': 0.858982, 'train_avg_loss': 0.333403, 'train_loss': 543.780124, 'train_total': 1631}}\n",
      "2022-12-22 19:15:57,196 (server:496)INFO: {'Role': 'Server #', 'Round': 249, 'Results_avg': {'test_acc': 0.813725, 'test_avg_loss': 0.44915, 'test_loss': 91.626652, 'test_total': 204.0, 'val_acc': 0.843137, 'val_avg_loss': 0.36881, 'val_loss': 75.237218, 'val_total': 204.0}}\n",
      "2022-12-22 19:15:57,196 (monitor:936)INFO: Current best: {'test_acc': 0.813725, 'test_avg_loss': 0.47469, 'test_loss': 96.836845, 'test_total': 204.0, 'val_acc': 0.857843, 'val_avg_loss': 0.355348, 'val_loss': 72.490919, 'val_total': 204.0}\n",
      "2022-12-22 19:15:57,198 (monitor:936)INFO: Current best: {'test_acc': 0.813725, 'test_avg_loss': 0.47469, 'test_loss': 96.836845, 'test_total': 204.0, 'val_acc': 0.857843, 'val_avg_loss': 0.355348, 'val_loss': 72.490919, 'val_total': 204.0}\n",
      "2022-12-22 19:15:57,200 (server:323)INFO: Server #0: Starting evaluation at the end of round 249.\n",
      "2022-12-22 19:15:57,200 (server:330)INFO: ----------- Starting a new training round (Round #250) -------------\n",
      "2022-12-22 19:15:57,252 (client:415)INFO: {'Role': 'Client #1', 'Round': 250, 'Results_raw': {'test_acc': 0.813725, 'test_avg_loss': 0.455213, 'test_loss': 92.863371, 'test_total': 204, 'val_acc': 0.843137, 'val_avg_loss': 0.385296, 'val_loss': 78.600344, 'val_total': 204}}\n",
      "2022-12-22 19:15:57,253 (monitor:936)INFO: Current best: {'test_acc': 0.813725, 'test_avg_loss': 0.47469, 'test_loss': 96.836845, 'test_total': 204, 'val_acc': 0.857843, 'val_avg_loss': 0.355348, 'val_loss': 72.490919, 'val_total': 204}\n"
     ]
    },
    {
     "name": "stdout",
     "output_type": "stream",
     "text": [
      "no improve counter: 39\n",
      "self.best_metric: 72.49091899394989\n",
      "no improve counter: 40\n",
      "self.best_metric: 0.3553476421272053\n"
     ]
    },
    {
     "name": "stderr",
     "output_type": "stream",
     "text": [
      "2022-12-22 19:15:57,501 (client:260)INFO: {'Role': 'Client #1', 'Round': 250, 'Results_raw': {'train_acc': 0.876763, 'train_avg_loss': 0.319528, 'train_loss': 521.150387, 'train_total': 1631}}\n",
      "2022-12-22 19:15:57,503 (server:496)INFO: {'Role': 'Server #', 'Round': 250, 'Results_avg': {'test_acc': 0.813725, 'test_avg_loss': 0.455213, 'test_loss': 92.863371, 'test_total': 204.0, 'val_acc': 0.843137, 'val_avg_loss': 0.385296, 'val_loss': 78.600344, 'val_total': 204.0}}\n",
      "2022-12-22 19:15:57,504 (monitor:936)INFO: Current best: {'test_acc': 0.813725, 'test_avg_loss': 0.47469, 'test_loss': 96.836845, 'test_total': 204.0, 'val_acc': 0.857843, 'val_avg_loss': 0.355348, 'val_loss': 72.490919, 'val_total': 204.0}\n",
      "2022-12-22 19:15:57,506 (monitor:936)INFO: Current best: {'test_acc': 0.813725, 'test_avg_loss': 0.47469, 'test_loss': 96.836845, 'test_total': 204.0, 'val_acc': 0.857843, 'val_avg_loss': 0.355348, 'val_loss': 72.490919, 'val_total': 204.0}\n",
      "2022-12-22 19:15:57,509 (server:323)INFO: Server #0: Starting evaluation at the end of round 250.\n",
      "2022-12-22 19:15:57,510 (server:330)INFO: ----------- Starting a new training round (Round #251) -------------\n",
      "2022-12-22 19:15:57,568 (client:415)INFO: {'Role': 'Client #1', 'Round': 251, 'Results_raw': {'test_acc': 0.823529, 'test_avg_loss': 0.438651, 'test_loss': 89.484821, 'test_total': 204, 'val_acc': 0.862745, 'val_avg_loss': 0.362655, 'val_loss': 73.981711, 'val_total': 204}}\n",
      "2022-12-22 19:15:57,569 (monitor:936)INFO: Current best: {'test_acc': 0.813725, 'test_avg_loss': 0.47469, 'test_loss': 96.836845, 'test_total': 204, 'val_acc': 0.857843, 'val_avg_loss': 0.355348, 'val_loss': 72.490919, 'val_total': 204}\n"
     ]
    },
    {
     "name": "stdout",
     "output_type": "stream",
     "text": [
      "no improve counter: 40\n",
      "self.best_metric: 72.49091899394989\n",
      "no improve counter: 41\n",
      "self.best_metric: 0.3553476421272053\n"
     ]
    },
    {
     "name": "stderr",
     "output_type": "stream",
     "text": [
      "2022-12-22 19:15:57,861 (client:260)INFO: {'Role': 'Client #1', 'Round': 251, 'Results_raw': {'train_acc': 0.868792, 'train_avg_loss': 0.327004, 'train_loss': 533.343649, 'train_total': 1631}}\n",
      "2022-12-22 19:15:57,862 (server:496)INFO: {'Role': 'Server #', 'Round': 251, 'Results_avg': {'test_acc': 0.823529, 'test_avg_loss': 0.438651, 'test_loss': 89.484821, 'test_total': 204.0, 'val_acc': 0.862745, 'val_avg_loss': 0.362655, 'val_loss': 73.981711, 'val_total': 204.0}}\n",
      "2022-12-22 19:15:57,863 (monitor:936)INFO: Current best: {'test_acc': 0.813725, 'test_avg_loss': 0.47469, 'test_loss': 96.836845, 'test_total': 204.0, 'val_acc': 0.857843, 'val_avg_loss': 0.355348, 'val_loss': 72.490919, 'val_total': 204.0}\n",
      "2022-12-22 19:15:57,865 (monitor:936)INFO: Current best: {'test_acc': 0.813725, 'test_avg_loss': 0.47469, 'test_loss': 96.836845, 'test_total': 204.0, 'val_acc': 0.857843, 'val_avg_loss': 0.355348, 'val_loss': 72.490919, 'val_total': 204.0}\n",
      "2022-12-22 19:15:57,867 (server:323)INFO: Server #0: Starting evaluation at the end of round 251.\n",
      "2022-12-22 19:15:57,868 (server:330)INFO: ----------- Starting a new training round (Round #252) -------------\n",
      "2022-12-22 19:15:57,934 (client:415)INFO: {'Role': 'Client #1', 'Round': 252, 'Results_raw': {'test_acc': 0.79902, 'test_avg_loss': 0.456721, 'test_loss': 93.171142, 'test_total': 204, 'val_acc': 0.833333, 'val_avg_loss': 0.381416, 'val_loss': 77.808764, 'val_total': 204}}\n",
      "2022-12-22 19:15:57,935 (monitor:936)INFO: Current best: {'test_acc': 0.813725, 'test_avg_loss': 0.47469, 'test_loss': 96.836845, 'test_total': 204, 'val_acc': 0.857843, 'val_avg_loss': 0.355348, 'val_loss': 72.490919, 'val_total': 204}\n"
     ]
    },
    {
     "name": "stdout",
     "output_type": "stream",
     "text": [
      "no improve counter: 41\n",
      "self.best_metric: 72.49091899394989\n",
      "no improve counter: 42\n",
      "self.best_metric: 0.3553476421272053\n"
     ]
    },
    {
     "name": "stderr",
     "output_type": "stream",
     "text": [
      "2022-12-22 19:15:58,197 (client:260)INFO: {'Role': 'Client #1', 'Round': 252, 'Results_raw': {'train_acc': 0.867566, 'train_avg_loss': 0.330518, 'train_loss': 539.074574, 'train_total': 1631}}\n",
      "2022-12-22 19:15:58,199 (server:496)INFO: {'Role': 'Server #', 'Round': 252, 'Results_avg': {'test_acc': 0.79902, 'test_avg_loss': 0.456721, 'test_loss': 93.171142, 'test_total': 204.0, 'val_acc': 0.833333, 'val_avg_loss': 0.381416, 'val_loss': 77.808764, 'val_total': 204.0}}\n",
      "2022-12-22 19:15:58,200 (monitor:936)INFO: Current best: {'test_acc': 0.813725, 'test_avg_loss': 0.47469, 'test_loss': 96.836845, 'test_total': 204.0, 'val_acc': 0.857843, 'val_avg_loss': 0.355348, 'val_loss': 72.490919, 'val_total': 204.0}\n",
      "2022-12-22 19:15:58,201 (monitor:936)INFO: Current best: {'test_acc': 0.813725, 'test_avg_loss': 0.47469, 'test_loss': 96.836845, 'test_total': 204.0, 'val_acc': 0.857843, 'val_avg_loss': 0.355348, 'val_loss': 72.490919, 'val_total': 204.0}\n",
      "2022-12-22 19:15:58,203 (server:323)INFO: Server #0: Starting evaluation at the end of round 252.\n",
      "2022-12-22 19:15:58,203 (server:330)INFO: ----------- Starting a new training round (Round #253) -------------\n",
      "2022-12-22 19:15:58,267 (client:415)INFO: {'Role': 'Client #1', 'Round': 253, 'Results_raw': {'test_acc': 0.808824, 'test_avg_loss': 0.477792, 'test_loss': 97.469656, 'test_total': 204, 'val_acc': 0.833333, 'val_avg_loss': 0.378292, 'val_loss': 77.171546, 'val_total': 204}}\n",
      "2022-12-22 19:15:58,268 (monitor:936)INFO: Current best: {'test_acc': 0.813725, 'test_avg_loss': 0.47469, 'test_loss': 96.836845, 'test_total': 204, 'val_acc': 0.857843, 'val_avg_loss': 0.355348, 'val_loss': 72.490919, 'val_total': 204}\n"
     ]
    },
    {
     "name": "stdout",
     "output_type": "stream",
     "text": [
      "no improve counter: 42\n",
      "self.best_metric: 72.49091899394989\n",
      "no improve counter: 43\n",
      "self.best_metric: 0.3553476421272053\n"
     ]
    },
    {
     "name": "stderr",
     "output_type": "stream",
     "text": [
      "2022-12-22 19:15:58,563 (client:260)INFO: {'Role': 'Client #1', 'Round': 253, 'Results_raw': {'train_acc': 0.863887, 'train_avg_loss': 0.322358, 'train_loss': 525.765151, 'train_total': 1631}}\n",
      "2022-12-22 19:15:58,565 (server:496)INFO: {'Role': 'Server #', 'Round': 253, 'Results_avg': {'test_acc': 0.808824, 'test_avg_loss': 0.477792, 'test_loss': 97.469656, 'test_total': 204.0, 'val_acc': 0.833333, 'val_avg_loss': 0.378292, 'val_loss': 77.171546, 'val_total': 204.0}}\n",
      "2022-12-22 19:15:58,566 (monitor:936)INFO: Current best: {'test_acc': 0.813725, 'test_avg_loss': 0.47469, 'test_loss': 96.836845, 'test_total': 204.0, 'val_acc': 0.857843, 'val_avg_loss': 0.355348, 'val_loss': 72.490919, 'val_total': 204.0}\n",
      "2022-12-22 19:15:58,568 (monitor:936)INFO: Current best: {'test_acc': 0.813725, 'test_avg_loss': 0.47469, 'test_loss': 96.836845, 'test_total': 204.0, 'val_acc': 0.857843, 'val_avg_loss': 0.355348, 'val_loss': 72.490919, 'val_total': 204.0}\n",
      "2022-12-22 19:15:58,569 (server:323)INFO: Server #0: Starting evaluation at the end of round 253.\n",
      "2022-12-22 19:15:58,570 (server:330)INFO: ----------- Starting a new training round (Round #254) -------------\n",
      "2022-12-22 19:15:58,623 (client:415)INFO: {'Role': 'Client #1', 'Round': 254, 'Results_raw': {'test_acc': 0.808824, 'test_avg_loss': 0.470891, 'test_loss': 96.061763, 'test_total': 204, 'val_acc': 0.828431, 'val_avg_loss': 0.397743, 'val_loss': 81.139602, 'val_total': 204}}\n",
      "2022-12-22 19:15:58,625 (monitor:936)INFO: Current best: {'test_acc': 0.813725, 'test_avg_loss': 0.47469, 'test_loss': 96.836845, 'test_total': 204, 'val_acc': 0.857843, 'val_avg_loss': 0.355348, 'val_loss': 72.490919, 'val_total': 204}\n"
     ]
    },
    {
     "name": "stdout",
     "output_type": "stream",
     "text": [
      "no improve counter: 43\n",
      "self.best_metric: 72.49091899394989\n",
      "no improve counter: 44\n",
      "self.best_metric: 0.3553476421272053\n"
     ]
    },
    {
     "name": "stderr",
     "output_type": "stream",
     "text": [
      "2022-12-22 19:15:58,908 (client:260)INFO: {'Role': 'Client #1', 'Round': 254, 'Results_raw': {'train_acc': 0.871245, 'train_avg_loss': 0.325864, 'train_loss': 531.483552, 'train_total': 1631}}\n",
      "2022-12-22 19:15:58,909 (server:496)INFO: {'Role': 'Server #', 'Round': 254, 'Results_avg': {'test_acc': 0.808824, 'test_avg_loss': 0.470891, 'test_loss': 96.061763, 'test_total': 204.0, 'val_acc': 0.828431, 'val_avg_loss': 0.397743, 'val_loss': 81.139602, 'val_total': 204.0}}\n",
      "2022-12-22 19:15:58,911 (monitor:936)INFO: Current best: {'test_acc': 0.813725, 'test_avg_loss': 0.47469, 'test_loss': 96.836845, 'test_total': 204.0, 'val_acc': 0.857843, 'val_avg_loss': 0.355348, 'val_loss': 72.490919, 'val_total': 204.0}\n",
      "2022-12-22 19:15:58,913 (monitor:936)INFO: Current best: {'test_acc': 0.813725, 'test_avg_loss': 0.47469, 'test_loss': 96.836845, 'test_total': 204.0, 'val_acc': 0.857843, 'val_avg_loss': 0.355348, 'val_loss': 72.490919, 'val_total': 204.0}\n",
      "2022-12-22 19:15:58,915 (server:323)INFO: Server #0: Starting evaluation at the end of round 254.\n",
      "2022-12-22 19:15:58,916 (server:330)INFO: ----------- Starting a new training round (Round #255) -------------\n",
      "2022-12-22 19:15:58,969 (client:415)INFO: {'Role': 'Client #1', 'Round': 255, 'Results_raw': {'test_acc': 0.813725, 'test_avg_loss': 0.4506, 'test_loss': 91.922311, 'test_total': 204, 'val_acc': 0.857843, 'val_avg_loss': 0.362684, 'val_loss': 73.987594, 'val_total': 204}}\n",
      "2022-12-22 19:15:58,970 (monitor:936)INFO: Current best: {'test_acc': 0.813725, 'test_avg_loss': 0.47469, 'test_loss': 96.836845, 'test_total': 204, 'val_acc': 0.857843, 'val_avg_loss': 0.355348, 'val_loss': 72.490919, 'val_total': 204}\n"
     ]
    },
    {
     "name": "stdout",
     "output_type": "stream",
     "text": [
      "no improve counter: 44\n",
      "self.best_metric: 72.49091899394989\n",
      "no improve counter: 45\n",
      "self.best_metric: 0.3553476421272053\n"
     ]
    },
    {
     "name": "stderr",
     "output_type": "stream",
     "text": [
      "2022-12-22 19:15:59,229 (client:260)INFO: {'Role': 'Client #1', 'Round': 255, 'Results_raw': {'train_acc': 0.873084, 'train_avg_loss': 0.326054, 'train_loss': 531.794454, 'train_total': 1631}}\n",
      "2022-12-22 19:15:59,231 (server:496)INFO: {'Role': 'Server #', 'Round': 255, 'Results_avg': {'test_acc': 0.813725, 'test_avg_loss': 0.4506, 'test_loss': 91.922311, 'test_total': 204.0, 'val_acc': 0.857843, 'val_avg_loss': 0.362684, 'val_loss': 73.987594, 'val_total': 204.0}}\n",
      "2022-12-22 19:15:59,232 (monitor:936)INFO: Current best: {'test_acc': 0.813725, 'test_avg_loss': 0.47469, 'test_loss': 96.836845, 'test_total': 204.0, 'val_acc': 0.857843, 'val_avg_loss': 0.355348, 'val_loss': 72.490919, 'val_total': 204.0}\n",
      "2022-12-22 19:15:59,234 (monitor:936)INFO: Current best: {'test_acc': 0.813725, 'test_avg_loss': 0.47469, 'test_loss': 96.836845, 'test_total': 204.0, 'val_acc': 0.857843, 'val_avg_loss': 0.355348, 'val_loss': 72.490919, 'val_total': 204.0}\n",
      "2022-12-22 19:15:59,237 (server:323)INFO: Server #0: Starting evaluation at the end of round 255.\n",
      "2022-12-22 19:15:59,238 (server:330)INFO: ----------- Starting a new training round (Round #256) -------------\n",
      "2022-12-22 19:15:59,294 (client:415)INFO: {'Role': 'Client #1', 'Round': 256, 'Results_raw': {'test_acc': 0.818627, 'test_avg_loss': 0.450332, 'test_loss': 91.867729, 'test_total': 204, 'val_acc': 0.862745, 'val_avg_loss': 0.356808, 'val_loss': 72.78873, 'val_total': 204}}\n",
      "2022-12-22 19:15:59,295 (monitor:936)INFO: Current best: {'test_acc': 0.813725, 'test_avg_loss': 0.47469, 'test_loss': 96.836845, 'test_total': 204, 'val_acc': 0.857843, 'val_avg_loss': 0.355348, 'val_loss': 72.490919, 'val_total': 204}\n"
     ]
    },
    {
     "name": "stdout",
     "output_type": "stream",
     "text": [
      "no improve counter: 45\n",
      "self.best_metric: 72.49091899394989\n",
      "no improve counter: 46\n",
      "self.best_metric: 0.3553476421272053\n"
     ]
    },
    {
     "name": "stderr",
     "output_type": "stream",
     "text": [
      "2022-12-22 19:15:59,564 (client:260)INFO: {'Role': 'Client #1', 'Round': 256, 'Results_raw': {'train_acc': 0.872471, 'train_avg_loss': 0.305003, 'train_loss': 497.459834, 'train_total': 1631}}\n",
      "2022-12-22 19:15:59,565 (server:496)INFO: {'Role': 'Server #', 'Round': 256, 'Results_avg': {'test_acc': 0.818627, 'test_avg_loss': 0.450332, 'test_loss': 91.867729, 'test_total': 204.0, 'val_acc': 0.862745, 'val_avg_loss': 0.356808, 'val_loss': 72.78873, 'val_total': 204.0}}\n",
      "2022-12-22 19:15:59,566 (monitor:936)INFO: Current best: {'test_acc': 0.813725, 'test_avg_loss': 0.47469, 'test_loss': 96.836845, 'test_total': 204.0, 'val_acc': 0.857843, 'val_avg_loss': 0.355348, 'val_loss': 72.490919, 'val_total': 204.0}\n",
      "2022-12-22 19:15:59,567 (monitor:936)INFO: Current best: {'test_acc': 0.813725, 'test_avg_loss': 0.47469, 'test_loss': 96.836845, 'test_total': 204.0, 'val_acc': 0.857843, 'val_avg_loss': 0.355348, 'val_loss': 72.490919, 'val_total': 204.0}\n",
      "2022-12-22 19:15:59,569 (server:323)INFO: Server #0: Starting evaluation at the end of round 256.\n",
      "2022-12-22 19:15:59,569 (server:330)INFO: ----------- Starting a new training round (Round #257) -------------\n",
      "2022-12-22 19:15:59,620 (client:415)INFO: {'Role': 'Client #1', 'Round': 257, 'Results_raw': {'test_acc': 0.808824, 'test_avg_loss': 0.477325, 'test_loss': 97.374268, 'test_total': 204, 'val_acc': 0.857843, 'val_avg_loss': 0.365934, 'val_loss': 74.650522, 'val_total': 204}}\n",
      "2022-12-22 19:15:59,621 (monitor:936)INFO: Current best: {'test_acc': 0.813725, 'test_avg_loss': 0.47469, 'test_loss': 96.836845, 'test_total': 204, 'val_acc': 0.857843, 'val_avg_loss': 0.355348, 'val_loss': 72.490919, 'val_total': 204}\n"
     ]
    },
    {
     "name": "stdout",
     "output_type": "stream",
     "text": [
      "no improve counter: 46\n",
      "self.best_metric: 72.49091899394989\n",
      "no improve counter: 47\n",
      "self.best_metric: 0.3553476421272053\n"
     ]
    },
    {
     "name": "stderr",
     "output_type": "stream",
     "text": [
      "2022-12-22 19:15:59,890 (client:260)INFO: {'Role': 'Client #1', 'Round': 257, 'Results_raw': {'train_acc': 0.871245, 'train_avg_loss': 0.326074, 'train_loss': 531.827062, 'train_total': 1631}}\n",
      "2022-12-22 19:15:59,892 (server:496)INFO: {'Role': 'Server #', 'Round': 257, 'Results_avg': {'test_acc': 0.808824, 'test_avg_loss': 0.477325, 'test_loss': 97.374268, 'test_total': 204.0, 'val_acc': 0.857843, 'val_avg_loss': 0.365934, 'val_loss': 74.650522, 'val_total': 204.0}}\n",
      "2022-12-22 19:15:59,893 (monitor:936)INFO: Current best: {'test_acc': 0.813725, 'test_avg_loss': 0.47469, 'test_loss': 96.836845, 'test_total': 204.0, 'val_acc': 0.857843, 'val_avg_loss': 0.355348, 'val_loss': 72.490919, 'val_total': 204.0}\n",
      "2022-12-22 19:15:59,895 (monitor:936)INFO: Current best: {'test_acc': 0.813725, 'test_avg_loss': 0.47469, 'test_loss': 96.836845, 'test_total': 204.0, 'val_acc': 0.857843, 'val_avg_loss': 0.355348, 'val_loss': 72.490919, 'val_total': 204.0}\n",
      "2022-12-22 19:15:59,898 (server:323)INFO: Server #0: Starting evaluation at the end of round 257.\n",
      "2022-12-22 19:15:59,899 (server:330)INFO: ----------- Starting a new training round (Round #258) -------------\n",
      "2022-12-22 19:15:59,950 (client:415)INFO: {'Role': 'Client #1', 'Round': 258, 'Results_raw': {'test_acc': 0.808824, 'test_avg_loss': 0.487379, 'test_loss': 99.425253, 'test_total': 204, 'val_acc': 0.848039, 'val_avg_loss': 0.38871, 'val_loss': 79.296792, 'val_total': 204}}\n",
      "2022-12-22 19:15:59,952 (monitor:936)INFO: Current best: {'test_acc': 0.813725, 'test_avg_loss': 0.47469, 'test_loss': 96.836845, 'test_total': 204, 'val_acc': 0.857843, 'val_avg_loss': 0.355348, 'val_loss': 72.490919, 'val_total': 204}\n"
     ]
    },
    {
     "name": "stdout",
     "output_type": "stream",
     "text": [
      "no improve counter: 47\n",
      "self.best_metric: 72.49091899394989\n",
      "no improve counter: 48\n",
      "self.best_metric: 0.3553476421272053\n"
     ]
    },
    {
     "name": "stderr",
     "output_type": "stream",
     "text": [
      "2022-12-22 19:16:00,217 (client:260)INFO: {'Role': 'Client #1', 'Round': 258, 'Results_raw': {'train_acc': 0.882281, 'train_avg_loss': 0.32236, 'train_loss': 525.769836, 'train_total': 1631}}\n",
      "2022-12-22 19:16:00,219 (server:496)INFO: {'Role': 'Server #', 'Round': 258, 'Results_avg': {'test_acc': 0.808824, 'test_avg_loss': 0.487379, 'test_loss': 99.425253, 'test_total': 204.0, 'val_acc': 0.848039, 'val_avg_loss': 0.38871, 'val_loss': 79.296792, 'val_total': 204.0}}\n",
      "2022-12-22 19:16:00,220 (monitor:936)INFO: Current best: {'test_acc': 0.813725, 'test_avg_loss': 0.47469, 'test_loss': 96.836845, 'test_total': 204.0, 'val_acc': 0.857843, 'val_avg_loss': 0.355348, 'val_loss': 72.490919, 'val_total': 204.0}\n",
      "2022-12-22 19:16:00,222 (monitor:936)INFO: Current best: {'test_acc': 0.813725, 'test_avg_loss': 0.47469, 'test_loss': 96.836845, 'test_total': 204.0, 'val_acc': 0.857843, 'val_avg_loss': 0.355348, 'val_loss': 72.490919, 'val_total': 204.0}\n",
      "2022-12-22 19:16:00,224 (server:323)INFO: Server #0: Starting evaluation at the end of round 258.\n",
      "2022-12-22 19:16:00,225 (server:330)INFO: ----------- Starting a new training round (Round #259) -------------\n",
      "2022-12-22 19:16:00,284 (client:415)INFO: {'Role': 'Client #1', 'Round': 259, 'Results_raw': {'test_acc': 0.813725, 'test_avg_loss': 0.450019, 'test_loss': 91.803892, 'test_total': 204, 'val_acc': 0.843137, 'val_avg_loss': 0.365372, 'val_loss': 74.535888, 'val_total': 204}}\n",
      "2022-12-22 19:16:00,285 (monitor:936)INFO: Current best: {'test_acc': 0.813725, 'test_avg_loss': 0.47469, 'test_loss': 96.836845, 'test_total': 204, 'val_acc': 0.857843, 'val_avg_loss': 0.355348, 'val_loss': 72.490919, 'val_total': 204}\n"
     ]
    },
    {
     "name": "stdout",
     "output_type": "stream",
     "text": [
      "no improve counter: 48\n",
      "self.best_metric: 72.49091899394989\n",
      "no improve counter: 49\n",
      "self.best_metric: 0.3553476421272053\n"
     ]
    },
    {
     "name": "stderr",
     "output_type": "stream",
     "text": [
      "2022-12-22 19:16:00,550 (client:260)INFO: {'Role': 'Client #1', 'Round': 259, 'Results_raw': {'train_acc': 0.868179, 'train_avg_loss': 0.32694, 'train_loss': 533.239336, 'train_total': 1631}}\n",
      "2022-12-22 19:16:00,553 (server:496)INFO: {'Role': 'Server #', 'Round': 259, 'Results_avg': {'test_acc': 0.813725, 'test_avg_loss': 0.450019, 'test_loss': 91.803892, 'test_total': 204.0, 'val_acc': 0.843137, 'val_avg_loss': 0.365372, 'val_loss': 74.535888, 'val_total': 204.0}}\n",
      "2022-12-22 19:16:00,554 (monitor:936)INFO: Current best: {'test_acc': 0.813725, 'test_avg_loss': 0.47469, 'test_loss': 96.836845, 'test_total': 204.0, 'val_acc': 0.857843, 'val_avg_loss': 0.355348, 'val_loss': 72.490919, 'val_total': 204.0}\n",
      "2022-12-22 19:16:00,556 (monitor:936)INFO: Current best: {'test_acc': 0.813725, 'test_avg_loss': 0.47469, 'test_loss': 96.836845, 'test_total': 204.0, 'val_acc': 0.857843, 'val_avg_loss': 0.355348, 'val_loss': 72.490919, 'val_total': 204.0}\n",
      "2022-12-22 19:16:00,558 (server:323)INFO: Server #0: Starting evaluation at the end of round 259.\n",
      "2022-12-22 19:16:00,559 (server:330)INFO: ----------- Starting a new training round (Round #260) -------------\n",
      "2022-12-22 19:16:00,611 (client:415)INFO: {'Role': 'Client #1', 'Round': 260, 'Results_raw': {'test_acc': 0.813725, 'test_avg_loss': 0.47806, 'test_loss': 97.524266, 'test_total': 204, 'val_acc': 0.828431, 'val_avg_loss': 0.387697, 'val_loss': 79.090277, 'val_total': 204}}\n",
      "2022-12-22 19:16:00,613 (monitor:936)INFO: Current best: {'test_acc': 0.813725, 'test_avg_loss': 0.47469, 'test_loss': 96.836845, 'test_total': 204, 'val_acc': 0.857843, 'val_avg_loss': 0.355348, 'val_loss': 72.490919, 'val_total': 204}\n",
      "2022-12-22 19:16:00,618 (client:239)INFO: [Local/Global mode] Client #1 has been early stopped, we will skip the local training\n",
      "2022-12-22 19:16:00,621 (server:496)INFO: {'Role': 'Server #', 'Round': 260, 'Results_avg': {'test_acc': 0.813725, 'test_avg_loss': 0.47806, 'test_loss': 97.524266, 'test_total': 204.0, 'val_acc': 0.828431, 'val_avg_loss': 0.387697, 'val_loss': 79.090277, 'val_total': 204.0}}\n",
      "2022-12-22 19:16:00,622 (monitor:936)INFO: Current best: {'test_acc': 0.813725, 'test_avg_loss': 0.47469, 'test_loss': 96.836845, 'test_total': 204.0, 'val_acc': 0.857843, 'val_avg_loss': 0.355348, 'val_loss': 72.490919, 'val_total': 204.0}\n",
      "2022-12-22 19:16:00,623 (monitor:936)INFO: Current best: {'test_acc': 0.813725, 'test_avg_loss': 0.47469, 'test_loss': 96.836845, 'test_total': 204.0, 'val_acc': 0.857843, 'val_avg_loss': 0.355348, 'val_loss': 72.490919, 'val_total': 204.0}\n",
      "2022-12-22 19:16:00,624 (server:395)INFO: Server #0: Final evaluation is finished! Starting merging results.\n",
      "2022-12-22 19:16:00,625 (server:425)INFO: {'Role': 'Server #', 'Round': 'Final', 'Results_raw': {'client_best_individual': {'val_loss': 72.490919}, 'client_summarized_avg': {'val_loss': 72.490919}}}\n",
      "2022-12-22 19:16:00,626 (server:446)INFO: {'Role': 'Client #1', 'Round': 10001, 'Results_raw': {'test_acc': 0.813725, 'test_avg_loss': 0.47806, 'test_loss': 97.524266, 'test_total': 204, 'val_acc': 0.828431, 'val_avg_loss': 0.387697, 'val_loss': 79.090277, 'val_total': 204}}\n",
      "2022-12-22 19:16:00,628 (monitor:125)INFO: In worker #0, the system-related metrics are: {'id': 0, 'fl_end_time_minutes': 1.504995, 'total_model_size': 0, 'total_flops': 0, 'total_upload_bytes': 33360, 'total_download_bytes': 308896, 'global_convergence_round': 260, 'local_convergence_round': 0, 'global_convergence_time_minutes': 1.504938, 'local_convergence_time_minutes': 0}\n",
      "2022-12-22 19:16:00,631 (client:448)INFO: ================= client 1 received finish message =================\n",
      "2022-12-22 19:16:00,633 (monitor:125)INFO: In worker #1, the system-related metrics are: {'id': 1, 'fl_end_time_minutes': 1.50451, 'total_model_size': 304514, 'total_flops': 0, 'total_upload_bytes': 310080, 'total_download_bytes': 33360, 'global_convergence_round': 260, 'local_convergence_round': 260, 'global_convergence_time_minutes': 1.504463, 'local_convergence_time_minutes': 1.504287}\n",
      "2022-12-22 19:16:00,634 (monitor:282)INFO: We will compress the file eval_results.raw into a .gz file, and delete the old one\n",
      "2022-12-22 19:16:00,651 (monitor:199)INFO: After merging the system metrics from all works, we got avg: defaultdict(None, {'id': 'sys_avg', 'sys_avg/fl_end_time_minutes': 1.504753, 'sys_avg/total_model_size': '148.69K', 'sys_avg/total_flops': '0.0', 'sys_avg/total_upload_bytes': '167.7K', 'sys_avg/total_download_bytes': '167.12K', 'sys_avg/global_convergence_round': 260.0, 'sys_avg/local_convergence_round': 130.0, 'sys_avg/global_convergence_time_minutes': 1.5047, 'sys_avg/local_convergence_time_minutes': 0.752143})\n",
      "2022-12-22 19:16:00,652 (monitor:202)INFO: After merging the system metrics from all works, we got std: defaultdict(None, {'id': 'sys_std', 'sys_std/fl_end_time_minutes': 0.000243, 'sys_std/total_model_size': '148.69K', 'sys_std/total_flops': '0.0', 'sys_std/total_upload_bytes': '135.12K', 'sys_std/total_download_bytes': '134.54K', 'sys_std/global_convergence_round': 0.0, 'sys_std/local_convergence_round': 130.0, 'sys_std/global_convergence_time_minutes': 0.000237, 'sys_std/local_convergence_time_minutes': 0.752143})\n"
     ]
    },
    {
     "name": "stdout",
     "output_type": "stream",
     "text": [
      "no improve counter: 49\n",
      "self.best_metric: 72.49091899394989\n",
      "no improve counter: 50\n",
      "self.best_metric: 0.3553476421272053\n",
      "no improve counter: 50\n",
      "self.best_metric: 72.49091899394989\n"
     ]
    }
   ],
   "source": [
    "runner = FedRunner(data=data,\n",
    "                   server_class=get_server_cls(init_cfg),\n",
    "                   client_class=get_client_cls(init_cfg),\n",
    "                   config=init_cfg.clone(),\n",
    "                   client_config=cfg_client)\n",
    "_ = runner.run()"
   ],
   "metadata": {
    "collapsed": false
   }
  },
  {
   "cell_type": "code",
   "execution_count": 4,
   "outputs": [
    {
     "data": {
      "text/plain": "1"
     },
     "execution_count": 4,
     "metadata": {},
     "output_type": "execute_result"
    }
   ],
   "source": [
    "1"
   ],
   "metadata": {
    "collapsed": false
   }
  },
  {
   "cell_type": "code",
   "execution_count": null,
   "outputs": [],
   "source": [
    "import sys\n",
    "print(sys.executable)\n",
    "print(sys.version)\n",
    "print(sys.version_info)\n"
   ],
   "metadata": {
    "collapsed": false
   }
  },
  {
   "cell_type": "code",
   "execution_count": null,
   "outputs": [],
   "source": [
    "cfg_client['client_5']['eval']['metrics']=['mse']"
   ],
   "metadata": {
    "collapsed": false
   }
  },
  {
   "cell_type": "code",
   "execution_count": null,
   "outputs": [],
   "source": [
    "cfg_client['client_6']['eval']['metrics']=['mse']"
   ],
   "metadata": {
    "collapsed": false
   }
  },
  {
   "cell_type": "code",
   "execution_count": null,
   "outputs": [],
   "source": [
    "cfg_client['client_7']['eval']['metrics']=['mse']"
   ],
   "metadata": {
    "collapsed": false
   }
  },
  {
   "cell_type": "code",
   "execution_count": null,
   "outputs": [],
   "source": [
    "cfg_client['client_8']['eval']['metrics']=['mse']"
   ],
   "metadata": {
    "collapsed": false
   }
  },
  {
   "cell_type": "code",
   "execution_count": null,
   "outputs": [],
   "source": [
    "cfg_client['client_9']['eval']['metrics']=['mse']"
   ],
   "metadata": {
    "collapsed": false
   }
  },
  {
   "cell_type": "code",
   "execution_count": null,
   "outputs": [],
   "source": [
    "cfg_client['client_10']['eval']['metrics']=['mse']"
   ],
   "metadata": {
    "collapsed": false
   }
  },
  {
   "cell_type": "code",
   "execution_count": null,
   "outputs": [],
   "source": [
    "cfg_client['client_11']['eval']['metrics']=['mse']"
   ],
   "metadata": {
    "collapsed": false
   }
  },
  {
   "cell_type": "code",
   "execution_count": null,
   "outputs": [],
   "source": [
    "cfg_client['client_12']['eval']['metrics']=['mse']"
   ],
   "metadata": {
    "collapsed": false
   }
  },
  {
   "cell_type": "code",
   "execution_count": null,
   "outputs": [],
   "source": [
    "cfg_client['client_13']['eval']['metrics']=['mse']"
   ],
   "metadata": {
    "collapsed": false
   }
  },
  {
   "cell_type": "code",
   "execution_count": null,
   "outputs": [],
   "source": [
    "cl_list = ['client_' + str(i) for i in range(1,17)]"
   ],
   "metadata": {
    "collapsed": false
   }
  },
  {
   "cell_type": "code",
   "execution_count": null,
   "outputs": [],
   "source": [
    "cl_list"
   ],
   "metadata": {
    "collapsed": false
   }
  },
  {
   "cell_type": "code",
   "execution_count": null,
   "outputs": [],
   "source": [
    "cfg_client['client_13']['train']['local_update_steps']"
   ],
   "metadata": {
    "collapsed": false
   }
  },
  {
   "cell_type": "code",
   "execution_count": null,
   "outputs": [],
   "source": [
    "for el in cl_list:\n",
    "    cfg_client[el]['train']['local_update_steps']=1"
   ],
   "metadata": {
    "collapsed": false
   }
  },
  {
   "cell_type": "code",
   "execution_count": null,
   "outputs": [],
   "source": [
    "cfg_client"
   ],
   "metadata": {
    "collapsed": false
   }
  },
  {
   "cell_type": "code",
   "execution_count": null,
   "outputs": [],
   "source": [],
   "metadata": {
    "collapsed": false
   }
  }
 ],
 "metadata": {
  "kernelspec": {
   "display_name": "Python 3",
   "language": "python",
   "name": "python3"
  },
  "language_info": {
   "codemirror_mode": {
    "name": "ipython",
    "version": 2
   },
   "file_extension": ".py",
   "mimetype": "text/x-python",
   "name": "python",
   "nbconvert_exporter": "python",
   "pygments_lexer": "ipython2",
   "version": "2.7.6"
  }
 },
 "nbformat": 4,
 "nbformat_minor": 0
}
