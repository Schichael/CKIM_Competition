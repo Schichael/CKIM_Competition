{
 "cells": [
  {
   "cell_type": "code",
   "execution_count": 279,
   "metadata": {
    "collapsed": true
   },
   "outputs": [],
   "source": [
    "import torch\n",
    "import numpy as np\n",
    "from glob import glob\n",
    "import os\n",
    "import matplotlib\n",
    "PATH = '/home/michael/Dropbox/Master thesis/results_graph_dc_new_lr_0_5/2_out/with_fixed/multi_runs/Graph-DC_2_out_only_COSINE_Diff_global_private_MSE_SIM_WITH_FIXED_global_multiruns_clf_loss_lr_0_05_A0_F0_01_H10_I0_01/FedDomSep_GraphDC_gin_on_fs_contest_data_lr0.05_lstep1_/features'\n",
    "\n",
    "train_test_val = 'val'\n",
    "\n",
    "save_path = '/home/michael/Dropbox/Master thesis/results_graph_dc_new_lr_0_5/2_out/with_fixed/CSV/feature_analysis_new/sim=0.01/diff_0_01' +'/'+ train_test_val + '/'\n",
    "if train_test_val == 'train':\n",
    "    nun_samples = 11649\n",
    "elif train_test_val == 'val':\n",
    "    nun_samples = 3883\n",
    "elif train_test_val == 'test':\n",
    "    nun_samples = 3889"
   ]
  },
  {
   "cell_type": "code",
   "execution_count": 280,
   "outputs": [],
   "source": [
    "font = {'size'   : 22}\n",
    "\n",
    "matplotlib.rc('font', **font)"
   ],
   "metadata": {
    "collapsed": false
   }
  },
  {
   "cell_type": "code",
   "execution_count": 281,
   "outputs": [],
   "source": [
    "#interm_trains = {1:[], 2:[],3:[], 4:[],5:[], 6:[],7:[], 8:[],9:[], 10:[],11:[], 12:[],13:[]}\n",
    "global_trains = {1:[], 2:[],3:[], 4:[],5:[], 6:[],7:[], 8:[],9:[], 10:[],11:[], 12:[],13:[]}\n",
    "local_trains = {1:[], 2:[],3:[], 4:[],5:[], 6:[],7:[], 8:[],9:[], 10:[],11:[], 12:[],13:[]}\n",
    "labels = {1:[], 2:[],3:[], 4:[],5:[], 6:[],7:[], 8:[],9:[], 10:[],11:[], 12:[],13:[]}\n"
   ],
   "metadata": {
    "collapsed": false
   }
  },
  {
   "cell_type": "code",
   "execution_count": 282,
   "outputs": [],
   "source": [
    "all_files = [file\n",
    "                 for path, subdir, files in os.walk(PATH)\n",
    "                 for file in glob(os.path.join(path, '*.pt'))]\n",
    "all_files.sort()"
   ],
   "metadata": {
    "collapsed": false
   }
  },
  {
   "cell_type": "markdown",
   "source": [],
   "metadata": {
    "collapsed": false
   }
  },
  {
   "cell_type": "code",
   "execution_count": 283,
   "outputs": [],
   "source": [
    "def get_files(path):\n",
    "    for client in range(1, 13+1):\n",
    "        client_path = f\"{PATH}/client_{client}\"\n",
    "        all_files = [file\n",
    "                 for path, subdir, files in os.walk(client_path)\n",
    "                 for file in glob(os.path.join(path, '*.pt'))]\n",
    "        all_files.sort()\n",
    "        for file in all_files:\n",
    "            file_name = os.path.basename(file)\n",
    "            file_name_without_ending = file_name[:-3]\n",
    "            if file_name_without_ending.startswith('global_' + train_test_val) and \\\n",
    "                    not file_name_without_ending.endswith('labels'):\n",
    "                global_trains[client].append(torch.load(file).cpu().detach().numpy())\n",
    "            if file_name_without_ending.startswith('local_' + train_test_val) and not\\\n",
    "                    file_name_without_ending.endswith('labels'):\n",
    "                local_trains[client].append(torch.load(file).cpu().detach().numpy())\n",
    "            if file_name_without_ending.startswith(train_test_val) and file_name_without_ending.endswith('labels'):\n",
    "                labels[client].append(torch.load(file).cpu().detach().numpy())\n",
    "        #interm_trains[client] = np.concatenate(interm_trains[client])\n",
    "        global_trains[client] = np.concatenate(global_trains[client])\n",
    "        local_trains[client] = np.concatenate(local_trains[client])\n",
    "        labels[client] = np.concatenate(labels[client])\n"
   ],
   "metadata": {
    "collapsed": false
   }
  },
  {
   "cell_type": "code",
   "execution_count": 284,
   "outputs": [
    {
     "data": {
      "text/plain": "'/home/michael/Dropbox/Master thesis/results_graph_dc_new_lr_0_5/2_out/with_fixed/multi_runs/Graph-DC_2_out_only_COSINE_Diff_global_private_MSE_SIM_WITH_FIXED_global_multiruns_clf_loss_lr_0_05_A0_F0_01_H10_I0_01/FedDomSep_GraphDC_gin_on_fs_contest_data_lr0.05_lstep1_/features'"
     },
     "execution_count": 284,
     "metadata": {},
     "output_type": "execute_result"
    }
   ],
   "source": [
    "PATH"
   ],
   "metadata": {
    "collapsed": false
   }
  },
  {
   "cell_type": "code",
   "execution_count": 285,
   "outputs": [],
   "source": [
    "get_files(PATH)"
   ],
   "metadata": {
    "collapsed": false
   }
  },
  {
   "cell_type": "code",
   "execution_count": 286,
   "outputs": [],
   "source": [
    "import numpy as np\n",
    "#concat_X=global_train\n",
    "data_out_local_global = {}\n",
    "data_out_local = {}\n",
    "data_out_global = {}\n",
    "\n",
    "for key in local_trains.keys():\n",
    "    data_out_local_global[key] = global_trains[key] + local_trains[key]\n",
    "    data_out_local[key] = local_trains[key]\n",
    "    data_out_global[key] = global_trains[key]\n",
    "\n",
    "X_concat_local_global = []\n",
    "X_concat_local = []\n",
    "X_concat_global = []\n",
    "labels_concat = []\n",
    "\n",
    "for key in local_trains.keys():\n",
    "    X_concat_local_global.append(data_out_local_global[key])\n",
    "    X_concat_local.append(data_out_local[key])\n",
    "    X_concat_global.append(data_out_global[key])\n",
    "    labels_concat.append(labels[key])\n",
    "\n",
    "X_concat_local_global = np.concatenate(X_concat_local_global)\n",
    "X_concat_local = np.concatenate(X_concat_local)\n",
    "X_concat_global = np.concatenate(X_concat_global)\n",
    "\n",
    "labels_concat = np.concatenate(labels_concat)"
   ],
   "metadata": {
    "collapsed": false
   }
  },
  {
   "cell_type": "code",
   "execution_count": 287,
   "outputs": [],
   "source": [
    "from sklearn.manifold import TSNE"
   ],
   "metadata": {
    "collapsed": false
   }
  },
  {
   "cell_type": "code",
   "execution_count": 288,
   "outputs": [],
   "source": [
    "labels_global = labels.copy()\n"
   ],
   "metadata": {
    "collapsed": false
   }
  },
  {
   "cell_type": "code",
   "execution_count": 289,
   "outputs": [],
   "source": [
    "X_concat = np.concatenate([X_concat_local_global, X_concat_local, X_concat_global])\n",
    "labels_double_concat = np.concatenate([labels_concat, labels_concat, labels_concat])"
   ],
   "metadata": {
    "collapsed": false
   }
  },
  {
   "cell_type": "code",
   "execution_count": 289,
   "outputs": [],
   "source": [],
   "metadata": {
    "collapsed": false
   }
  },
  {
   "cell_type": "code",
   "execution_count": 289,
   "outputs": [],
   "source": [],
   "metadata": {
    "collapsed": false
   }
  },
  {
   "cell_type": "code",
   "execution_count": 289,
   "outputs": [],
   "source": [],
   "metadata": {
    "collapsed": false
   }
  },
  {
   "cell_type": "code",
   "execution_count": 290,
   "outputs": [
    {
     "data": {
      "text/plain": "array([[0.        , 0.05497781, 0.06118797, ..., 0.06858435, 0.0765269 ,\n        0.047277  ],\n       [0.        , 0.        , 0.        , ..., 0.        , 0.        ,\n        0.05208367],\n       [0.        , 0.        , 0.        , ..., 0.        , 0.        ,\n        0.        ],\n       ...,\n       [0.        , 0.        , 0.        , ..., 0.        , 0.        ,\n        0.        ],\n       [0.        , 0.04016893, 0.        , ..., 0.04605097, 0.02831868,\n        0.        ],\n       [0.        , 0.        , 0.        , ..., 0.        , 0.        ,\n        0.        ]], dtype=float32)"
     },
     "execution_count": 290,
     "metadata": {},
     "output_type": "execute_result"
    }
   ],
   "source": [
    "# Feature Analysis for client 9:\n",
    "global_trains[9]"
   ],
   "metadata": {
    "collapsed": false
   }
  },
  {
   "cell_type": "code",
   "execution_count": 290,
   "outputs": [],
   "source": [],
   "metadata": {
    "collapsed": false
   }
  },
  {
   "cell_type": "code",
   "execution_count": 291,
   "outputs": [
    {
     "data": {
      "text/plain": "array([[0.        , 0.        , 0.253363  , ..., 0.        , 0.        ,\n        0.        ],\n       [0.        , 0.        , 0.24556358, ..., 0.        , 0.        ,\n        0.        ],\n       [0.43370798, 0.06155359, 0.41128373, ..., 0.03698129, 0.06102033,\n        0.        ],\n       ...,\n       [0.24467142, 0.        , 0.307189  , ..., 0.        , 0.        ,\n        0.        ],\n       [0.14788659, 0.        , 0.39288437, ..., 0.        , 0.04311338,\n        0.03397454],\n       [0.02186631, 0.25194755, 0.29520825, ..., 0.2531304 , 0.2288625 ,\n        0.        ]], dtype=float32)"
     },
     "execution_count": 291,
     "metadata": {},
     "output_type": "execute_result"
    }
   ],
   "source": [
    "local_trains[9]"
   ],
   "metadata": {
    "collapsed": false
   }
  },
  {
   "cell_type": "code",
   "execution_count": 292,
   "outputs": [],
   "source": [
    "cos_sim = torch.nn.CosineSimilarity()"
   ],
   "metadata": {
    "collapsed": false
   }
  },
  {
   "cell_type": "code",
   "execution_count": 293,
   "outputs": [],
   "source": [
    "isExist = os.path.exists(save_path)\n",
    "if not isExist:\n",
    "    os.makedirs(save_path)"
   ],
   "metadata": {
    "collapsed": false
   }
  },
  {
   "cell_type": "code",
   "execution_count": 293,
   "outputs": [],
   "source": [],
   "metadata": {
    "collapsed": false
   }
  },
  {
   "cell_type": "code",
   "execution_count": 294,
   "outputs": [],
   "source": [
    "import pandas as pd\n",
    "\n",
    "df = pd.DataFrame()"
   ],
   "metadata": {
    "collapsed": false
   }
  },
  {
   "cell_type": "code",
   "execution_count": 294,
   "outputs": [],
   "source": [],
   "metadata": {
    "collapsed": false
   }
  },
  {
   "cell_type": "code",
   "execution_count": 295,
   "outputs": [],
   "source": [
    "num_total_features = []\n",
    "num_local_features_not_0 = []\n",
    "avg_local_features_not_0 = []\n",
    "num_global_features_not_0 = []\n",
    "num_features_global_local = []\n",
    "avg_global_features_not_0 = []\n",
    "num_local_global_features_not_0 = []\n",
    "avg_local_global_features_not_0 = []\n",
    "cos_sim_local_global = []\n",
    "cos_sim_local_local_global = []\n",
    "cos_sim_global_local_global = []"
   ],
   "metadata": {
    "collapsed": false
   }
  },
  {
   "cell_type": "code",
   "execution_count": 295,
   "outputs": [],
   "source": [],
   "metadata": {
    "collapsed": false
   }
  },
  {
   "cell_type": "code",
   "execution_count": 295,
   "outputs": [],
   "source": [],
   "metadata": {
    "collapsed": false
   }
  },
  {
   "cell_type": "code",
   "execution_count": 295,
   "outputs": [],
   "source": [],
   "metadata": {
    "collapsed": false
   }
  },
  {
   "cell_type": "code",
   "execution_count": 296,
   "outputs": [],
   "source": [
    "for client in range(1, 13+1):\n",
    "\n",
    "\n",
    "    local_train_curr = local_trains[client]\n",
    "    global_train_curr = global_trains[client]\n",
    "\n",
    "    num_total_features.append(local_train_curr.shape[0] * local_train_curr.shape[1])\n",
    "    num_total_features_curr = local_train_curr.shape[0] * local_train_curr.shape[1]\n",
    "\n",
    "    local_global = local_train_curr + global_train_curr\n",
    "\n",
    "    mult_local_global = global_train_curr*local_train_curr\n",
    "\n",
    "    num_local_features_not_0.append(np.sum(local_train_curr != 0) / num_total_features_curr)\n",
    "\n",
    "    avg_local_features_not_0.append(local_train_curr.sum() / np.sum(local_train_curr != 0))\n",
    "    num_global_features_not_0.append(np.sum(global_train_curr != 0) / num_total_features_curr)\n",
    "    avg_global_features_not_0.append(global_train_curr.sum() / np.sum(global_train_curr != 0))\n",
    "    num_local_global_features_not_0.append(np.sum(local_global != 0) / num_total_features_curr)\n",
    "    avg_local_global_features_not_0.append(local_global.sum() / np.sum(local_global != 0))\n",
    "\n",
    "    num_features_global_local.append(np.sum(mult_local_global != 0) / num_total_features_curr)\n",
    "\n",
    "    cos_sim_local_global.append(cos_sim(torch.Tensor(global_train_curr), torch.Tensor(local_train_curr)).mean().item())\n",
    "    cos_sim_local_local_global.append(cos_sim(torch.Tensor(local_train_curr), torch.Tensor(local_global)).mean().item())\n",
    "    cos_sim_global_local_global.append(cos_sim(torch.Tensor(global_train_curr), torch.Tensor(local_global)).mean().item())\n",
    "    \"\"\"\n",
    "    print(f\"############ Client {client} ##############\")\n",
    "    print(f\"total features: {round(num_total_features,2)}\")\n",
    "    print(f\"num_local_features_not_0:\\n{round(num_local_features_not_0,2)}\")\n",
    "    print(f\"avg_local_features_not_0:\\n{round(avg_local_features_not_0,2)}\")\n",
    "\n",
    "    print(f\"num_global_features_not_0:\\n{round(num_global_features_not_0,2)}\")\n",
    "    print(f\"num_features_global_local:\\n{round(num_features_global_local,2)}\")\n",
    "    print(f\"avg_global_features_not_0:\\n{round(avg_global_features_not_0,2)}\")\n",
    "\n",
    "    print(f\"num_local_global_features_not_0:\\n{round(num_local_global_features_not_0,2)}\")\n",
    "    print(f\"avg_local_global_features_not_0:\\n{round(avg_local_global_features_not_0,2)}\")\n",
    "\n",
    "    print(f\"cos_sim_global_local:\\n{round(cos_sim_local_global,2)}\")\n",
    "    print(f\"cos_sim_local_local_global:\\n{round(cos_sim_local_local_global,2)}\")\n",
    "    print(f\"cos_sim_global_local_global:\\n{round(cos_sim_global_local_global,2)}\")\n",
    "\n",
    "    \"\"\""
   ],
   "metadata": {
    "collapsed": false
   }
  },
  {
   "cell_type": "code",
   "execution_count": 297,
   "outputs": [],
   "source": [
    "data_map = {\n",
    "    ('total','# Features'): num_total_features,\n",
    "    ('local', '# features != 0'): num_local_features_not_0,\n",
    "    ('local', 'avg features != 0'): avg_local_features_not_0,\n",
    "    ('global', '# features != 0'): num_global_features_not_0,\n",
    "    ('global', '# Features != 0 in both local and global'): num_features_global_local,\n",
    "    ('global', 'avg features != 0'): avg_global_features_not_0,\n",
    "    ('local-global', '# features != 0'): num_local_global_features_not_0,\n",
    "    ('local-global', 'avg features != 0'): avg_local_global_features_not_0,\n",
    "    ('cos_sim', 'local_global',): cos_sim_local_global,\n",
    "    ('cos_sim', 'local__local-global',): cos_sim_local_local_global,\n",
    "    ('cos_sim', 'global__local-global',): cos_sim_global_local_global,\n",
    "}\n",
    "df = pd.DataFrame(data=data_map)\n",
    "df.to_csv(save_path + 'statistics.csv')"
   ],
   "metadata": {
    "collapsed": false
   }
  },
  {
   "cell_type": "code",
   "execution_count": 298,
   "outputs": [
    {
     "data": {
      "text/plain": "5824"
     },
     "execution_count": 298,
     "metadata": {},
     "output_type": "execute_result"
    }
   ],
   "source": [
    "X_embedded = TSNE(n_components=2, learning_rate='auto', init='random',\n",
    "                  perplexity=25).fit_transform(X_concat, labels_double_concat)\n",
    "X_embedded.shape[0] // 2"
   ],
   "metadata": {
    "collapsed": false
   }
  },
  {
   "cell_type": "code",
   "execution_count": 299,
   "outputs": [],
   "source": [
    "X_embedded_local_global = X_embedded[:nun_samples,:]\n",
    "X_embedded_local = X_embedded[nun_samples:nun_samples+nun_samples,:]\n",
    "X_embedded_global = X_embedded[nun_samples+nun_samples:,:]\n"
   ],
   "metadata": {
    "collapsed": false
   }
  },
  {
   "cell_type": "code",
   "execution_count": 300,
   "outputs": [
    {
     "data": {
      "text/plain": "3883.0"
     },
     "execution_count": 300,
     "metadata": {},
     "output_type": "execute_result"
    }
   ],
   "source": [
    "X_embedded.shape[0]/3"
   ],
   "metadata": {
    "collapsed": false
   }
  },
  {
   "cell_type": "code",
   "execution_count": 301,
   "outputs": [],
   "source": [
    "#X_embedded_global = TSNE(n_components=2, learning_rate='auto', init='random', perplexity=25).fit_transform(X_concat_global, labels_concat)\n",
    "#X_embedded_local = TSNE(n_components=2, learning_rate='auto', init='random', perplexity=25).fit_transform(X_concat_interm, labels_concat)\n",
    "#X_embedded_interm = X_embedded_local"
   ],
   "metadata": {
    "collapsed": false
   }
  },
  {
   "cell_type": "code",
   "execution_count": 302,
   "outputs": [],
   "source": [
    "#X_embedded_interm = X_embedded_local"
   ],
   "metadata": {
    "collapsed": false
   }
  },
  {
   "cell_type": "code",
   "execution_count": 303,
   "outputs": [
    {
     "name": "stdout",
     "output_type": "stream",
     "text": [
      "size client 1: 38\n",
      "size client 2: 81\n",
      "size client 3: 93\n",
      "size client 4: 151\n",
      "size client 5: 69\n",
      "size client 6: 400\n",
      "size client 7: 822\n",
      "size client 8: 867\n",
      "size client 9: 825\n",
      "size client 10: 67\n",
      "size client 11: 70\n",
      "size client 12: 200\n",
      "size client 13: 200\n"
     ]
    }
   ],
   "source": [
    "X_embedded_global_clients = {}\n",
    "X_embedded_local_clients = {}\n",
    "X_embedded_local_global_clients = {}\n",
    "labels_clients = {}\n",
    "total_size = 0\n",
    "\n",
    "for client in range(1, 13+1):\n",
    "    print(f\"size client {client}: {local_trains[client].shape[0]}\")\n",
    "    size = local_trains[client].shape[0]\n",
    "    size_old = total_size\n",
    "    total_size += size\n",
    "    X_embedded_global_clients[client] = X_embedded_global[size_old:total_size,:]\n",
    "    X_embedded_local_clients[client] = X_embedded_local[size_old:total_size,:]\n",
    "    X_embedded_local_global_clients[client] = X_embedded_local_global[size_old:total_size,:]\n",
    "    labels_clients[client] = labels_concat[size_old:total_size]"
   ],
   "metadata": {
    "collapsed": false
   }
  },
  {
   "cell_type": "code",
   "execution_count": 304,
   "outputs": [
    {
     "data": {
      "text/plain": "<Figure size 3000x3000 with 0 Axes>"
     },
     "metadata": {},
     "output_type": "display_data"
    }
   ],
   "source": [
    "import matplotlib.pyplot as plt\n",
    "fig = plt.figure(figsize=(30, 30))\n",
    "plt.rcParams[\"figure.figsize\"] = (30,30)\n",
    "plt.rc('xtick', labelsize=64)    # fontsize of the tick labels\n",
    "plt.rc('ytick', labelsize=64)    # fontsize of the tick labels\n",
    "plt.rc('legend', fontsize=64)\n",
    "plt.rc('font', size=64)\n",
    "plt.rcParams[\"axes.linewidth\"] = 4"
   ],
   "metadata": {
    "collapsed": false
   }
  },
  {
   "cell_type": "code",
   "execution_count": 305,
   "outputs": [
    {
     "data": {
      "text/plain": "'yellow: label=1'"
     },
     "execution_count": 305,
     "metadata": {},
     "output_type": "execute_result"
    }
   ],
   "source": [
    "\"\"\"yellow: label=1\"\"\""
   ],
   "metadata": {
    "collapsed": false
   }
  },
  {
   "cell_type": "code",
   "execution_count": 306,
   "outputs": [],
   "source": [
    "client_num = 13"
   ],
   "metadata": {
    "collapsed": false
   }
  },
  {
   "cell_type": "code",
   "execution_count": 307,
   "outputs": [
    {
     "data": {
      "text/plain": "'/home/michael/Dropbox/Master thesis/results_graph_dc_new_lr_0_5/2_out/with_fixed/CSV/feature_analysis_new/sim=0.01/diff_0_01/val/'"
     },
     "execution_count": 307,
     "metadata": {},
     "output_type": "execute_result"
    }
   ],
   "source": [
    "save_path"
   ],
   "metadata": {
    "collapsed": false
   }
  },
  {
   "cell_type": "code",
   "execution_count": 307,
   "outputs": [],
   "source": [],
   "metadata": {
    "collapsed": false
   }
  },
  {
   "cell_type": "code",
   "execution_count": 308,
   "outputs": [
    {
     "data": {
      "text/plain": "<Figure size 3000x3000 with 0 Axes>"
     },
     "metadata": {},
     "output_type": "display_data"
    }
   ],
   "source": [
    "colors=['red', 'blue']\n",
    "for client in range(1, client_num+1):\n",
    "    for i in range(1+1):\n",
    "        labels_use = labels_clients[client] == i\n",
    "        X_use = X_embedded_global_clients[client][labels_use, :]\n",
    "        plt.scatter(X_use[:, 0], X_use[:, 1], c=[colors[i]]*X_use.shape[0], label=f'Label = {i}', s=150, )\n",
    "    plt.xlim(-120, 120)\n",
    "    plt.ylim(-120, 120)\n",
    "    plt.legend(prop={'size': 60}, markerscale=4)\n",
    "    frame1 = plt.gca()\n",
    "    frame1.axes.xaxis.set_ticklabels([])\n",
    "    frame1.axes.yaxis.set_ticklabels([])\n",
    "    plt.savefig(save_path + 'client_' + str(client) + '_global')\n",
    "    plt.clf()\n",
    "\n",
    "    for i in range(1+1):\n",
    "        labels_use = labels_clients[client] == i\n",
    "        X_use = X_embedded_local_clients[client][labels_use, :]\n",
    "        plt.scatter(X_use[:, 0], X_use[:, 1], c=[colors[i]]*X_use.shape[0], label=f'Label = {i}', s=150, )\n",
    "    plt.xlim(-120, 120)\n",
    "    plt.ylim(-120, 120)\n",
    "    plt.legend(prop={'size': 60}, markerscale=4)\n",
    "    frame1 = plt.gca()\n",
    "    frame1.axes.xaxis.set_ticklabels([])\n",
    "    frame1.axes.yaxis.set_ticklabels([])\n",
    "    plt.savefig(save_path + 'client_' + str(client) + '_local')\n",
    "    plt.clf()\n",
    "\n",
    "    for i in range(1+1):\n",
    "        labels_use = labels_clients[client] == i\n",
    "        X_use = X_embedded_local_global_clients[client][labels_use, :]\n",
    "        plt.scatter(X_use[:, 0], X_use[:, 1], c=[colors[i]]*X_use.shape[0], label=f'Label = {i}', s=150)\n",
    "    plt.xlim(-120, 120)\n",
    "    plt.ylim(-120, 120)\n",
    "    plt.legend(prop={'size': 60}, markerscale=4)\n",
    "    frame1 = plt.gca()\n",
    "    frame1.axes.xaxis.set_ticklabels([])\n",
    "    frame1.axes.yaxis.set_ticklabels([])\n",
    "    plt.savefig(save_path + 'client_' + str(client) + '_local_global', bbox_inches='tight')\n",
    "    plt.clf()\n",
    "\n",
    "\n"
   ],
   "metadata": {
    "collapsed": false
   }
  },
  {
   "cell_type": "code",
   "execution_count": 309,
   "outputs": [
    {
     "data": {
      "text/plain": "<Figure size 3000x3000 with 0 Axes>"
     },
     "metadata": {},
     "output_type": "display_data"
    }
   ],
   "source": [
    "plt.scatter(X_embedded_global_clients[client_num][:, 0], X_embedded_global_clients[client_num][:, 1], c=labels_clients[client_num], s=150 )\n",
    "plt.xlim(-120, 120)\n",
    "plt.ylim(-120, 120)\n",
    "plt.clf()"
   ],
   "metadata": {
    "collapsed": false
   }
  },
  {
   "cell_type": "code",
   "execution_count": 309,
   "outputs": [],
   "source": [],
   "metadata": {
    "collapsed": false
   }
  },
  {
   "cell_type": "code",
   "execution_count": 310,
   "outputs": [
    {
     "data": {
      "text/plain": "'\\nplt.scatter(X_embedded_global_clients[client_num][:, 0], X_embedded_global_clients[client_num][:, 1], c=labels_clients[client_num], )\\nplt.xlim(-110, 110)\\nplt.ylim(-100, 90)\\nplt.show()\\n'"
     },
     "execution_count": 310,
     "metadata": {},
     "output_type": "execute_result"
    }
   ],
   "source": [
    "\"\"\"\n",
    "plt.scatter(X_embedded_global_clients[client_num][:, 0], X_embedded_global_clients[client_num][:, 1], c=labels_clients[client_num], )\n",
    "plt.xlim(-110, 110)\n",
    "plt.ylim(-100, 90)\n",
    "plt.show()\n",
    "\"\"\""
   ],
   "metadata": {
    "collapsed": false
   }
  },
  {
   "cell_type": "code",
   "execution_count": 311,
   "outputs": [
    {
     "data": {
      "text/plain": "'\\nplt.scatter(X_embedded_local_clients[client_num][:, 0], X_embedded_local_clients[client_num][:, 1], c=labels_clients[client_num], )\\nplt.xlim(-110, 110)\\nplt.ylim(-100, 90)\\nplt.show()\\n'"
     },
     "execution_count": 311,
     "metadata": {},
     "output_type": "execute_result"
    }
   ],
   "source": [
    "\"\"\"\n",
    "plt.scatter(X_embedded_local_clients[client_num][:, 0], X_embedded_local_clients[client_num][:, 1], c=labels_clients[client_num], )\n",
    "plt.xlim(-110, 110)\n",
    "plt.ylim(-100, 90)\n",
    "plt.show()\n",
    "\"\"\""
   ],
   "metadata": {
    "collapsed": false
   }
  },
  {
   "cell_type": "code",
   "execution_count": 312,
   "outputs": [
    {
     "data": {
      "text/plain": "'\\nplt.scatter(X_embedded_local_global_clients[client_num][:, 0], X_embedded_local_global_clients[client_num][:, 1], c=labels_clients[client_num], )\\nplt.xlim(-110, 110)\\nplt.ylim(-100, 90)\\nplt.show()\\n'"
     },
     "execution_count": 312,
     "metadata": {},
     "output_type": "execute_result"
    }
   ],
   "source": [
    "\"\"\"\n",
    "plt.scatter(X_embedded_local_global_clients[client_num][:, 0], X_embedded_local_global_clients[client_num][:, 1], c=labels_clients[client_num], )\n",
    "plt.xlim(-110, 110)\n",
    "plt.ylim(-100, 90)\n",
    "plt.show()\n",
    "\"\"\""
   ],
   "metadata": {
    "collapsed": false
   }
  },
  {
   "cell_type": "code",
   "execution_count": 313,
   "outputs": [],
   "source": [
    "#import matplotlib.pyplot as plt\n",
    "#fig = plt.figure(figsize=(30, 18))\n",
    "#plt.rcParams[\"figure.figsize\"] = (30,18)"
   ],
   "metadata": {
    "collapsed": false
   }
  },
  {
   "cell_type": "code",
   "execution_count": 314,
   "outputs": [
    {
     "data": {
      "text/plain": "<Figure size 3000x3000 with 0 Axes>"
     },
     "metadata": {},
     "output_type": "display_data"
    }
   ],
   "source": [
    "colors=['red', 'blue']\n",
    "for i in range(1+1):\n",
    "    labels_use = labels_concat == i\n",
    "    X_use = X_embedded_global[labels_use, :]\n",
    "    plt.scatter(X_use[:, 0], X_use[:, 1], c=[colors[i]]*X_use.shape[0], label=f'Label = {i}', s=150)\n",
    "plt.legend(prop={'size': 60}, markerscale=4)\n",
    "plt.xlim(-120, 120)\n",
    "plt.ylim(-120, 120)\n",
    "frame1 = plt.gca()\n",
    "frame1.axes.xaxis.set_ticklabels([])\n",
    "frame1.axes.yaxis.set_ticklabels([])\n",
    "plt.savefig(save_path + 'all_clients' + '_global', bbox_inches='tight')\n",
    "plt.clf()"
   ],
   "metadata": {
    "collapsed": false
   }
  },
  {
   "cell_type": "code",
   "execution_count": 315,
   "outputs": [
    {
     "data": {
      "text/plain": "<Figure size 3000x3000 with 0 Axes>"
     },
     "metadata": {},
     "output_type": "display_data"
    }
   ],
   "source": [
    "\n",
    "colors=['red', 'blue']\n",
    "for i in range(1+1):\n",
    "    labels_use = labels_concat == i\n",
    "    X_use = X_embedded_local[labels_use, :]\n",
    "    plt.scatter(X_use[:, 0], X_use[:, 1], c=[colors[i]]*X_use.shape[0], label=f'Label = {i}', s=150)\n",
    "plt.legend(prop={'size': 60}, markerscale=4)\n",
    "plt.xlim(-120, 120)\n",
    "plt.ylim(-120, 120)\n",
    "frame1 = plt.gca()\n",
    "frame1.axes.xaxis.set_ticklabels([])\n",
    "frame1.axes.yaxis.set_ticklabels([])\n",
    "plt.savefig(save_path + 'all_clients' + '_local', bbox_inches='tight')\n",
    "plt.clf()"
   ],
   "metadata": {
    "collapsed": false
   }
  },
  {
   "cell_type": "code",
   "execution_count": 316,
   "outputs": [
    {
     "data": {
      "text/plain": "<Figure size 3000x3000 with 0 Axes>"
     },
     "metadata": {},
     "output_type": "display_data"
    }
   ],
   "source": [
    "colors=['red', 'blue']\n",
    "for i in range(1+1):\n",
    "    labels_use = labels_concat == i\n",
    "    X_use = X_embedded_local_global[labels_use, :]\n",
    "    plt.scatter(X_use[:, 0], X_use[:, 1], c=[colors[i]]*X_use.shape[0], label=f'Label = {i}', s=150)\n",
    "plt.legend(prop={'size': 60}, markerscale=4)\n",
    "plt.xlim(-120, 120)\n",
    "plt.ylim(-120, 120)\n",
    "frame1 = plt.gca()\n",
    "frame1.axes.xaxis.set_ticklabels([])\n",
    "frame1.axes.yaxis.set_ticklabels([])\n",
    "plt.savefig(save_path + 'all_clients' + '_local_global', bbox_inches='tight')\n",
    "plt.clf()"
   ],
   "metadata": {
    "collapsed": false
   }
  },
  {
   "cell_type": "code",
   "execution_count": 317,
   "outputs": [
    {
     "data": {
      "text/plain": "<Figure size 3000x3000 with 0 Axes>"
     },
     "metadata": {},
     "output_type": "display_data"
    }
   ],
   "source": [
    "\n",
    "colors = []\n",
    "NUM_COLORS = 13\n",
    "cm = plt.get_cmap('tab20')\n",
    "colors_use = list(map(cm, colors))\n",
    "fig = plt.figure()\n",
    "for client in range(1, client_num+1):\n",
    "    data_size = X_embedded_global_clients[client].shape[0]\n",
    "    colors_curr = data_size*[client]\n",
    "    colors += colors_curr\n",
    "\n",
    "ax = fig.add_subplot(111)\n",
    "ax.set_prop_cycle(color=[cm(1.*i/NUM_COLORS) for i in range(NUM_COLORS)])\n",
    "\n",
    "for client in range(1, client_num+1):\n",
    "    labels_0 = labels_clients[client] == 0\n",
    "    X_embedded_global_clients_only_label_0 = X_embedded_global_clients[client][labels_0, :]\n",
    "    ax.scatter(X_embedded_global_clients_only_label_0[:,0],\n",
    "               X_embedded_global_clients_only_label_0[:,1], label = f'{client}', s=150)\n",
    "\n",
    "\n",
    "\n",
    "#ax.legend_elements()\n",
    "box = ax.get_position()\n",
    "ax.set_position([box.x0, box.y0 + box.height * 0.05,\n",
    "                 box.width, box.height * 0.95])\n",
    "ax.legend(title=\"Client:\", prop={'size': 60}, markerscale=4, loc='upper center', bbox_to_anchor=(0.5,\n",
    "    -0.01), ncol=13)\n",
    "\n",
    "plt.xlim(-120, 120)\n",
    "plt.ylim(-120, 120)\n",
    "frame1 = plt.gca()\n",
    "frame1.axes.xaxis.set_ticklabels([])\n",
    "frame1.axes.yaxis.set_ticklabels([])\n",
    "plt.savefig(save_path + 'global_comparison_label_0', bbox_inches='tight')\n",
    "plt.clf()"
   ],
   "metadata": {
    "collapsed": false
   }
  },
  {
   "cell_type": "code",
   "execution_count": 318,
   "outputs": [
    {
     "data": {
      "text/plain": "<Figure size 3000x3000 with 0 Axes>"
     },
     "metadata": {},
     "output_type": "display_data"
    }
   ],
   "source": [
    "\n",
    "colors = []\n",
    "NUM_COLORS = 13\n",
    "cm = plt.get_cmap('tab20')\n",
    "colors_use = list(map(cm, colors))\n",
    "fig = plt.figure()\n",
    "for client in range(1, client_num+1):\n",
    "    data_size = X_embedded_global_clients[client].shape[0]\n",
    "    colors_curr = data_size*[client]\n",
    "    colors += colors_curr\n",
    "\n",
    "ax = fig.add_subplot(111)\n",
    "ax.set_prop_cycle(color=[cm(1.*i/NUM_COLORS) for i in range(NUM_COLORS)])\n",
    "\n",
    "for client in range(1, client_num+1):\n",
    "    labels_1 = labels_clients[client] == 1\n",
    "    X_embedded_global_clients_only_label_1 = X_embedded_global_clients[client][labels_1, :]\n",
    "    ax.scatter(X_embedded_global_clients_only_label_1[:,0],\n",
    "               X_embedded_global_clients_only_label_1[:,1], label = f'{client}', s=150)\n",
    "\n",
    "\n",
    "\n",
    "#ax.legend_elements()\n",
    "box = ax.get_position()\n",
    "ax.set_position([box.x0, box.y0 + box.height * 0.05,\n",
    "                 box.width, box.height * 0.95])\n",
    "ax.legend(title=\"Client:\", prop={'size': 60}, markerscale=4, loc='upper center', bbox_to_anchor=(0.5,\n",
    "    -0.01), ncol=13)\n",
    "\n",
    "plt.xlim(-120, 120)\n",
    "plt.ylim(-120, 120)\n",
    "frame1 = plt.gca()\n",
    "frame1.axes.xaxis.set_ticklabels([])\n",
    "frame1.axes.yaxis.set_ticklabels([])\n",
    "plt.savefig(save_path + 'global_comparison_label_1', bbox_inches='tight')\n",
    "plt.clf()"
   ],
   "metadata": {
    "collapsed": false
   }
  },
  {
   "cell_type": "code",
   "execution_count": 319,
   "outputs": [
    {
     "data": {
      "text/plain": "<Figure size 3000x3000 with 0 Axes>"
     },
     "metadata": {},
     "output_type": "display_data"
    }
   ],
   "source": [
    "\n",
    "colors = []\n",
    "NUM_COLORS = 13\n",
    "cm = plt.get_cmap('tab20')\n",
    "colors_use = list(map(cm, colors))\n",
    "fig = plt.figure()\n",
    "for client in range(1, client_num+1):\n",
    "    data_size = X_embedded_local_clients[client].shape[0]\n",
    "    colors_curr = data_size*[client]\n",
    "    colors += colors_curr\n",
    "\n",
    "ax = fig.add_subplot(111)\n",
    "ax.set_prop_cycle(color=[cm(1.*i/NUM_COLORS) for i in range(NUM_COLORS)])\n",
    "\n",
    "for client in range(1, client_num+1):\n",
    "    labels_0 = labels_clients[client] == 0\n",
    "    X_embedded_local_clients_only_label_0 = X_embedded_local_clients[client][labels_0, :]\n",
    "    ax.scatter(X_embedded_local_clients_only_label_0[:,0],\n",
    "               X_embedded_local_clients_only_label_0[:,1], label = f'{client}', s=150)\n",
    "\n",
    "\n",
    "\n",
    "#ax.legend_elements()\n",
    "box = ax.get_position()\n",
    "ax.set_position([box.x0, box.y0 + box.height * 0.05,\n",
    "                 box.width, box.height * 0.95])\n",
    "ax.legend(title=\"Client:\", prop={'size': 60}, markerscale=4, loc='upper center', bbox_to_anchor=(0.5,\n",
    "    -0.01), ncol=13)\n",
    "\n",
    "plt.xlim(-120, 120)\n",
    "plt.ylim(-120, 120)\n",
    "frame1 = plt.gca()\n",
    "frame1.axes.xaxis.set_ticklabels([])\n",
    "frame1.axes.yaxis.set_ticklabels([])\n",
    "plt.savefig(save_path + 'local_comparison_label_0', bbox_inches='tight')\n",
    "plt.clf()"
   ],
   "metadata": {
    "collapsed": false
   }
  },
  {
   "cell_type": "code",
   "execution_count": 320,
   "outputs": [
    {
     "data": {
      "text/plain": "<Figure size 3000x3000 with 0 Axes>"
     },
     "metadata": {},
     "output_type": "display_data"
    }
   ],
   "source": [
    "\n",
    "colors = []\n",
    "NUM_COLORS = 13\n",
    "cm = plt.get_cmap('tab20')\n",
    "colors_use = list(map(cm, colors))\n",
    "fig = plt.figure()\n",
    "for client in range(1, client_num+1):\n",
    "    data_size = X_embedded_local_clients[client].shape[0]\n",
    "    colors_curr = data_size*[client]\n",
    "    colors += colors_curr\n",
    "\n",
    "ax = fig.add_subplot(111)\n",
    "ax.set_prop_cycle(color=[cm(1.*i/NUM_COLORS) for i in range(NUM_COLORS)])\n",
    "\n",
    "for client in range(1, client_num+1):\n",
    "    labels_0 = labels_clients[client] == 1\n",
    "    X_embedded_local_clients_only_label_0 = X_embedded_local_clients[client][labels_0, :]\n",
    "    ax.scatter(X_embedded_local_clients_only_label_0[:,0],\n",
    "               X_embedded_local_clients_only_label_0[:,1], label = f'{client}', s=150)\n",
    "\n",
    "\n",
    "#ax.legend(title=\"Client:\", loc='upper center', bbox_to_anchor=(0.5, -0.05),\n",
    "#          fancybox=True, shadow=True, ncol=13)\n",
    "#ax.legend_elements()\n",
    "box = ax.get_position()\n",
    "ax.set_position([box.x0, box.y0 + box.height * 0.05,\n",
    "                 box.width, box.height * 0.95])\n",
    "ax.legend(title=\"Client:\", prop={'size': 60}, markerscale=4, loc='upper center', bbox_to_anchor=(0.5,\n",
    "    -0.01), ncol=13)\n",
    "plt.xlim(-120, 120)\n",
    "plt.ylim(-120, 120)\n",
    "frame1 = plt.gca()\n",
    "frame1.axes.xaxis.set_ticklabels([])\n",
    "frame1.axes.yaxis.set_ticklabels([])\n",
    "plt.savefig(save_path + 'local_comparison_label_1', bbox_inches='tight')\n",
    "plt.clf()"
   ],
   "metadata": {
    "collapsed": false
   }
  },
  {
   "cell_type": "code",
   "execution_count": 321,
   "outputs": [
    {
     "data": {
      "text/plain": "<Figure size 3000x3000 with 0 Axes>"
     },
     "metadata": {},
     "output_type": "display_data"
    }
   ],
   "source": [
    "\n",
    "colors = []\n",
    "NUM_COLORS = 13\n",
    "cm = plt.get_cmap('tab20')\n",
    "colors_use = list(map(cm, colors))\n",
    "fig = plt.figure()\n",
    "for client in range(1, client_num+1):\n",
    "    data_size = X_embedded_local_global_clients[client].shape[0]\n",
    "    colors_curr = data_size*[client]\n",
    "    colors += colors_curr\n",
    "\n",
    "ax = fig.add_subplot(111)\n",
    "ax.set_prop_cycle(color=[cm(1.*i/NUM_COLORS) for i in range(NUM_COLORS)])\n",
    "\n",
    "for client in range(1, client_num+1):\n",
    "    labels_0 = labels_clients[client] == 0\n",
    "    X_embedded_local_global_clients_only_label_0 = X_embedded_local_global_clients[client][labels_0, :]\n",
    "    ax.scatter(X_embedded_local_global_clients_only_label_0[:,0],\n",
    "               X_embedded_local_global_clients_only_label_0[:,1], label = f'{client}', s=150)\n",
    "\n",
    "\n",
    "frame1 = plt.gca()\n",
    "frame1.axes.xaxis.set_ticklabels([])\n",
    "frame1.axes.yaxis.set_ticklabels([])\n",
    "#ax.legend_elements()\n",
    "box = ax.get_position()\n",
    "ax.set_position([box.x0, box.y0 + box.height * 0.05,\n",
    "                 box.width, box.height * 0.95])\n",
    "ax.legend(title=\"Client:\", prop={'size': 60}, markerscale=4, loc='upper center', bbox_to_anchor=(0.5,\n",
    "    -0.01), ncol=13)\n",
    "\n",
    "plt.xlim(-120, 120)\n",
    "plt.ylim(-120, 120)\n",
    "frame1 = plt.gca()\n",
    "frame1.axes.xaxis.set_ticklabels([])\n",
    "frame1.axes.yaxis.set_ticklabels([])\n",
    "plt.savefig(save_path + 'local_global_comparison_label_0', bbox_inches='tight')\n",
    "plt.clf()"
   ],
   "metadata": {
    "collapsed": false
   }
  },
  {
   "cell_type": "code",
   "execution_count": 322,
   "outputs": [
    {
     "data": {
      "text/plain": "<Figure size 3000x3000 with 0 Axes>"
     },
     "metadata": {},
     "output_type": "display_data"
    }
   ],
   "source": [
    "\n",
    "colors = []\n",
    "NUM_COLORS = 13\n",
    "cm = plt.get_cmap('tab20')\n",
    "colors_use = list(map(cm, colors))\n",
    "fig = plt.figure()\n",
    "for client in range(1, client_num+1):\n",
    "    data_size = X_embedded_local_global_clients[client].shape[0]\n",
    "    colors_curr = data_size*[client]\n",
    "    colors += colors_curr\n",
    "\n",
    "ax = fig.add_subplot(111)\n",
    "ax.set_prop_cycle(color=[cm(1.*i/NUM_COLORS) for i in range(NUM_COLORS)])\n",
    "\n",
    "for client in range(1, client_num+1):\n",
    "    labels_0 = labels_clients[client] == 1\n",
    "    X_embedded_local_global_clients_only_label_0 = X_embedded_local_global_clients[client][labels_0, :]\n",
    "    ax.scatter(X_embedded_local_global_clients_only_label_0[:,0], X_embedded_local_global_clients_only_label_0[:,1], label = f'{client}', s=150)\n",
    "\n",
    "\n",
    "\n",
    "#ax.legend_elements()\n",
    "box = ax.get_position()\n",
    "ax.set_position([box.x0, box.y0 + box.height * 0.05,\n",
    "                 box.width, box.height * 0.95])\n",
    "ax.legend(title=\"Client:\", prop={'size': 60}, markerscale=4, loc='upper center', bbox_to_anchor=(0.5,\n",
    "    -0.01), ncol=13)\n",
    "\n",
    "plt.xlim(-120, 120)\n",
    "plt.ylim(-120, 120)\n",
    "frame1 = plt.gca()\n",
    "frame1.axes.xaxis.set_ticklabels([])\n",
    "frame1.axes.yaxis.set_ticklabels([])\n",
    "plt.savefig(save_path + 'local_global_comparison_label_1', bbox_inches='tight')\n",
    "plt.clf()"
   ],
   "metadata": {
    "collapsed": false
   }
  },
  {
   "cell_type": "code",
   "execution_count": 323,
   "outputs": [
    {
     "data": {
      "text/plain": "<Figure size 3000x3000 with 0 Axes>"
     },
     "metadata": {},
     "output_type": "display_data"
    }
   ],
   "source": [
    "colors=['red', 'blue']\n",
    "\n",
    "labels_use = labels_concat == 0\n",
    "X_use_local = X_embedded_local[labels_use, :]\n",
    "X_use_global = X_embedded_global[labels_use, :]\n",
    "plt.scatter(X_use_local[:, 0], X_use_local[:, 1], c=[colors[0]]*X_use_local.shape[0],\n",
    "            label=f'Local', s=150)\n",
    "plt.scatter(X_use_global[:, 0], X_use_global[:, 1], c=[colors[1]]*X_use_global.shape[0],\n",
    "            label=f'Global', s=150)\n",
    "plt.legend(title=\"Client:\", prop={'size': 60}, markerscale=4)\n",
    "plt.xlim(-120, 120)\n",
    "plt.ylim(-120, 120)\n",
    "frame1 = plt.gca()\n",
    "frame1.axes.xaxis.set_ticklabels([])\n",
    "frame1.axes.yaxis.set_ticklabels([])\n",
    "plt.savefig(save_path + 'all_clients' + 'comparison_local_to_global_label_0', bbox_inches='tight')\n",
    "plt.clf()"
   ],
   "metadata": {
    "collapsed": false
   }
  },
  {
   "cell_type": "code",
   "execution_count": 324,
   "outputs": [
    {
     "data": {
      "text/plain": "<Figure size 3000x3000 with 0 Axes>"
     },
     "metadata": {},
     "output_type": "display_data"
    }
   ],
   "source": [
    "colors=['red', 'blue']\n",
    "\n",
    "labels_use = labels_concat == 1\n",
    "X_use_local = X_embedded_local[labels_use, :]\n",
    "X_use_global = X_embedded_global[labels_use, :]\n",
    "plt.scatter(X_use_local[:, 0], X_use_local[:, 1], c=[colors[0]]*X_use_local.shape[0],\n",
    "            label=f'Local', s=150)\n",
    "plt.scatter(X_use_global[:, 0], X_use_global[:, 1], c=[colors[1]]*X_use_global.shape[0],\n",
    "            label=f'Global', s=150)\n",
    "plt.legend(title=\"Client:\", prop={'size': 60}, markerscale=4)\n",
    "plt.xlim(-120, 120)\n",
    "plt.ylim(-120, 120)\n",
    "frame1 = plt.gca()\n",
    "frame1.axes.xaxis.set_ticklabels([])\n",
    "frame1.axes.yaxis.set_ticklabels([])\n",
    "\n",
    "plt.savefig(save_path + 'all_clients' + 'comparison_local_to_global_label_1', bbox_inches='tight')\n",
    "plt.clf()\n"
   ],
   "metadata": {
    "collapsed": false
   }
  },
  {
   "cell_type": "code",
   "execution_count": 324,
   "outputs": [],
   "source": [],
   "metadata": {
    "collapsed": false
   }
  },
  {
   "cell_type": "code",
   "execution_count": 324,
   "outputs": [],
   "source": [],
   "metadata": {
    "collapsed": false
   }
  },
  {
   "cell_type": "code",
   "execution_count": 324,
   "outputs": [],
   "source": [],
   "metadata": {
    "collapsed": false
   }
  },
  {
   "cell_type": "code",
   "execution_count": 324,
   "outputs": [],
   "source": [],
   "metadata": {
    "collapsed": false
   }
  },
  {
   "cell_type": "code",
   "execution_count": 324,
   "outputs": [],
   "source": [],
   "metadata": {
    "collapsed": false
   }
  }
 ],
 "metadata": {
  "kernelspec": {
   "display_name": "Python 3",
   "language": "python",
   "name": "python3"
  },
  "language_info": {
   "codemirror_mode": {
    "name": "ipython",
    "version": 2
   },
   "file_extension": ".py",
   "mimetype": "text/x-python",
   "name": "python",
   "nbconvert_exporter": "python",
   "pygments_lexer": "ipython2",
   "version": "2.7.6"
  }
 },
 "nbformat": 4,
 "nbformat_minor": 0
}
