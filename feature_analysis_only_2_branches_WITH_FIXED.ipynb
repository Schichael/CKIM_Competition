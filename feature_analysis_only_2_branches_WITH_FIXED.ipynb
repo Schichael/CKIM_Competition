{
 "cells": [
  {
   "cell_type": "code",
   "execution_count": 32,
   "metadata": {
    "collapsed": true
   },
   "outputs": [],
   "source": [
    "import torch\n",
    "import numpy as np\n",
    "from glob import glob\n",
    "import os\n",
    "import matplotlib\n",
    "PATH = '/home/michael/Dropbox/Master thesis/results_graph_dc_new_lr_0_5/2_out/with_fixed/multi_runs/new/Graph-DC_2_out_only_COSINE_Diff_global_private_MSE_SIM_WITH_FIXED_global_multiruns_clf_loss_lr_0_05_A0_F0_05_H10_I1/FedDomSep_GraphDC_gin_on_fs_contest_data_lr0.05_lstep1_/features'\n",
    "\n",
    "train_test_val = 'val'\n",
    "\n",
    "save_path = '/home/michael/Dropbox/Master thesis/results_graph_dc_new_lr_0_5/2_out/with_fixed/CSV/new/feature_analysis/Graph-DC_2_out_only_COSINE_Diff_global_private_MSE_SIM_WITH_FIXED_global_multiruns_clf_loss_lr_0_05_A0_F0_05_H10_I1' +'/'+ train_test_val + '/'\n",
    "if train_test_val == 'train':\n",
    "    nun_samples = 11649\n",
    "elif train_test_val == 'val':\n",
    "    nun_samples = 3883\n",
    "elif train_test_val == 'test':\n",
    "    nun_samples = 3889"
   ]
  },
  {
   "cell_type": "code",
   "execution_count": 33,
   "outputs": [],
   "source": [
    "font = {'size'   : 22}\n",
    "\n",
    "matplotlib.rc('font', **font)"
   ],
   "metadata": {
    "collapsed": false
   }
  },
  {
   "cell_type": "code",
   "execution_count": 34,
   "outputs": [],
   "source": [
    "#interm_trains = {1:[], 2:[],3:[], 4:[],5:[], 6:[],7:[], 8:[],9:[], 10:[],11:[], 12:[],13:[]}\n",
    "global_trains = {1:[], 2:[],3:[], 4:[],5:[], 6:[],7:[], 8:[],9:[], 10:[],11:[], 12:[],13:[]}\n",
    "fixed_trains = {1:[], 2:[],3:[], 4:[],5:[], 6:[],7:[], 8:[],9:[], 10:[],11:[], 12:[],13:[]}\n",
    "local_trains = {1:[], 2:[],3:[], 4:[],5:[], 6:[],7:[], 8:[],9:[], 10:[],11:[], 12:[],13:[]}\n",
    "labels = {1:[], 2:[],3:[], 4:[],5:[], 6:[],7:[], 8:[],9:[], 10:[],11:[], 12:[],13:[]}\n"
   ],
   "metadata": {
    "collapsed": false
   }
  },
  {
   "cell_type": "code",
   "execution_count": 35,
   "outputs": [],
   "source": [
    "all_files = [file\n",
    "                 for path, subdir, files in os.walk(PATH)\n",
    "                 for file in glob(os.path.join(path, '*.pt'))]\n",
    "all_files.sort()"
   ],
   "metadata": {
    "collapsed": false
   }
  },
  {
   "cell_type": "markdown",
   "source": [],
   "metadata": {
    "collapsed": false
   }
  },
  {
   "cell_type": "code",
   "execution_count": 36,
   "outputs": [],
   "source": [
    "def get_files(path):\n",
    "    for client in range(1, 13+1):\n",
    "        client_path = f\"{PATH}/client_{client}\"\n",
    "        all_files = [file\n",
    "                 for path, subdir, files in os.walk(client_path)\n",
    "                 for file in glob(os.path.join(path, '*.pt'))]\n",
    "        all_files.sort()\n",
    "        for file in all_files:\n",
    "            file_name = os.path.basename(file)\n",
    "            file_name_without_ending = file_name[:-3]\n",
    "            if file_name_without_ending.startswith('global_' + train_test_val) and not file_name_without_ending.endswith('labels'):\n",
    "                global_trains[client].append(torch.load(file).cpu().detach().numpy())\n",
    "            if file_name_without_ending.startswith('local_' + train_test_val) and not file_name_without_ending.endswith('labels'):\n",
    "                local_trains[client].append(torch.load(file).cpu().detach().numpy())\n",
    "            if file_name_without_ending.startswith('fixed_' + train_test_val) and not \\\n",
    "                    file_name_without_ending.endswith('labels'):\n",
    "                fixed_trains[client].append(torch.load(file).cpu().detach().numpy())\n",
    "            if file_name_without_ending.startswith(train_test_val) and file_name_without_ending.endswith('labels'):\n",
    "                labels[client].append(torch.load(file).cpu().detach().numpy())\n",
    "        #interm_trains[client] = np.concatenate(interm_trains[client])\n",
    "        global_trains[client] = np.concatenate(global_trains[client])\n",
    "        local_trains[client] = np.concatenate(local_trains[client])\n",
    "        fixed_trains[client] = np.concatenate(fixed_trains[client])\n",
    "        labels[client] = np.concatenate(labels[client])\n"
   ],
   "metadata": {
    "collapsed": false
   }
  },
  {
   "cell_type": "code",
   "execution_count": 37,
   "outputs": [],
   "source": [
    "get_files(PATH)"
   ],
   "metadata": {
    "collapsed": false
   }
  },
  {
   "cell_type": "code",
   "execution_count": 38,
   "outputs": [],
   "source": [
    "import numpy as np\n",
    "#concat_X=global_train\n",
    "data_out_local_global = {}\n",
    "data_out_local = {}\n",
    "data_out_global = {}\n",
    "data_out_fixed = {}\n",
    "\n",
    "for key in local_trains.keys():\n",
    "    data_out_local_global[key] = global_trains[key] + local_trains[key]\n",
    "    data_out_local[key] = local_trains[key]\n",
    "    data_out_global[key] = global_trains[key]\n",
    "    data_out_fixed[key] = fixed_trains[key]\n",
    "\n",
    "X_concat_local_global = []\n",
    "X_concat_local = []\n",
    "X_concat_global = []\n",
    "X_concat_fixed = []\n",
    "labels_concat = []\n",
    "\n",
    "for key in local_trains.keys():\n",
    "    X_concat_local_global.append(data_out_local_global[key])\n",
    "    X_concat_local.append(data_out_local[key])\n",
    "    X_concat_global.append(data_out_global[key])\n",
    "    X_concat_fixed.append(data_out_fixed[key])\n",
    "    labels_concat.append(labels[key])\n",
    "\n",
    "X_concat_local_global = np.concatenate(X_concat_local_global)\n",
    "X_concat_local = np.concatenate(X_concat_local)\n",
    "X_concat_global = np.concatenate(X_concat_global)\n",
    "X_concat_fixed = np.concatenate(X_concat_fixed)\n",
    "\n",
    "labels_concat = np.concatenate(labels_concat)"
   ],
   "metadata": {
    "collapsed": false
   }
  },
  {
   "cell_type": "code",
   "execution_count": 39,
   "outputs": [],
   "source": [
    "from sklearn.manifold import TSNE"
   ],
   "metadata": {
    "collapsed": false
   }
  },
  {
   "cell_type": "code",
   "execution_count": 40,
   "outputs": [],
   "source": [
    "labels_global = labels.copy()\n"
   ],
   "metadata": {
    "collapsed": false
   }
  },
  {
   "cell_type": "code",
   "execution_count": 41,
   "outputs": [],
   "source": [
    "#X_concat = np.concatenate([X_concat_local_global, X_concat_local, X_concat_global])\n",
    "#labels_double_concat = np.concatenate([labels_concat, labels_concat, labels_concat])"
   ],
   "metadata": {
    "collapsed": false
   }
  },
  {
   "cell_type": "code",
   "execution_count": 42,
   "outputs": [],
   "source": [
    "#X_embedded = TSNE(n_components=2, learning_rate='auto', init='random',\n",
    "# perplexity=25).fit_transform(X_concat, labels_double_concat)"
   ],
   "metadata": {
    "collapsed": false
   }
  },
  {
   "cell_type": "code",
   "execution_count": 42,
   "outputs": [],
   "source": [],
   "metadata": {
    "collapsed": false
   }
  },
  {
   "cell_type": "code",
   "execution_count": 43,
   "outputs": [],
   "source": [
    "cos_loss = torch.nn.CosineEmbeddingLoss()\n",
    "def cosine_diff_loss(x1, x2):\n",
    "    # cosine embedding loss: 1-cos(x1, x2). The 1 defines this loss function.\n",
    "    x1 = torch.Tensor(x1)\n",
    "    x2 = torch.Tensor(x2)\n",
    "    y = torch.ones(x1.shape[0])\n",
    "    y = -y\n",
    "    diff_loss = cos_loss(x1, x2, y)\n",
    "    return diff_loss\n",
    "\n"
   ],
   "metadata": {
    "collapsed": false
   }
  },
  {
   "cell_type": "code",
   "execution_count": 44,
   "outputs": [],
   "source": [
    "cos_sim = torch.nn.CosineSimilarity()"
   ],
   "metadata": {
    "collapsed": false
   }
  },
  {
   "cell_type": "code",
   "execution_count": 45,
   "outputs": [],
   "source": [
    "isExist = os.path.exists(save_path)\n",
    "if not isExist:\n",
    "    os.makedirs(save_path)"
   ],
   "metadata": {
    "collapsed": false
   }
  },
  {
   "cell_type": "code",
   "execution_count": 45,
   "outputs": [],
   "source": [],
   "metadata": {
    "collapsed": false
   }
  },
  {
   "cell_type": "code",
   "execution_count": 46,
   "outputs": [],
   "source": [
    "import pandas as pd\n",
    "\n",
    "df = pd.DataFrame()"
   ],
   "metadata": {
    "collapsed": false
   }
  },
  {
   "cell_type": "code",
   "execution_count": 47,
   "outputs": [],
   "source": [
    "num_total_features = []\n",
    "num_local_features_not_0 = []\n",
    "avg_local_features_not_0 = []\n",
    "num_global_features_not_0 = []\n",
    "num_features_global_local = []\n",
    "avg_global_features_not_0 = []\n",
    "num_local_global_features_not_0 = []\n",
    "avg_local_global_features_not_0 = []\n",
    "cos_sim_local_global = []\n",
    "cos_sim_local_fixed = []\n",
    "cos_sim_global_fixed = []\n",
    "cos_sim_local_local_global = []\n",
    "cos_sim_global_local_global = []\n",
    "cosine_diff_loss_local_global = []\n",
    "cosine_diff_loss_local_fixed = []"
   ],
   "metadata": {
    "collapsed": false
   }
  },
  {
   "cell_type": "code",
   "execution_count": 47,
   "outputs": [],
   "source": [],
   "metadata": {
    "collapsed": false
   }
  },
  {
   "cell_type": "code",
   "execution_count": 47,
   "outputs": [],
   "source": [],
   "metadata": {
    "collapsed": false
   }
  },
  {
   "cell_type": "code",
   "execution_count": 47,
   "outputs": [],
   "source": [],
   "metadata": {
    "collapsed": false
   }
  },
  {
   "cell_type": "code",
   "execution_count": 48,
   "outputs": [],
   "source": [
    "for client in range(1, 13+1):\n",
    "\n",
    "\n",
    "    local_train_curr = local_trains[client]\n",
    "    global_train_curr = global_trains[client]\n",
    "    fixed_train_curr = fixed_trains[client]\n",
    "\n",
    "    num_total_features.append(local_train_curr.shape[0] * local_train_curr.shape[1])\n",
    "    num_total_features_curr = local_train_curr.shape[0] * local_train_curr.shape[1]\n",
    "\n",
    "    local_global = local_train_curr + global_train_curr\n",
    "\n",
    "    mult_local_global = global_train_curr*local_train_curr\n",
    "\n",
    "    num_local_features_not_0.append(np.sum(local_train_curr != 0) / num_total_features_curr)\n",
    "    avg_local_features_not_0.append(local_train_curr.sum() / np.sum(local_train_curr != 0))\n",
    "    num_global_features_not_0.append(np.sum(global_train_curr != 0) / num_total_features_curr)\n",
    "    avg_global_features_not_0.append(global_train_curr.sum() / np.sum(global_train_curr != 0))\n",
    "    num_local_global_features_not_0.append(np.sum(local_global != 0) / num_total_features_curr)\n",
    "    avg_local_global_features_not_0.append(local_global.sum() / np.sum(local_global != 0))\n",
    "\n",
    "    num_features_global_local.append(np.sum(mult_local_global != 0) / num_total_features_curr)\n",
    "\n",
    "    cos_sim_local_global.append(cos_sim(torch.Tensor(global_train_curr), torch.Tensor(local_train_curr)).mean().item())\n",
    "    cos_sim_local_local_global.append(cos_sim(torch.Tensor(local_train_curr), torch.Tensor(local_global)).mean().item())\n",
    "    cos_sim_global_local_global.append(cos_sim(torch.Tensor(global_train_curr), torch.Tensor(local_global)).mean().item())\n",
    "\n",
    "    cos_sim_local_fixed.append(cos_sim(torch.Tensor(fixed_train_curr), torch.Tensor\n",
    "    (local_train_curr)).mean().item())\n",
    "    cos_sim_global_fixed.append(cos_sim(torch.Tensor(fixed_train_curr), torch.Tensor\n",
    "    (global_train_curr)).mean().item())\n",
    "\n",
    "    cosine_diff_loss_local_global.append(cosine_diff_loss(global_train_curr,\n",
    "                                                          local_train_curr).detach().item())\n",
    "    cosine_diff_loss_local_fixed.append(cosine_diff_loss(fixed_train_curr, local_train_curr).detach().item())\n",
    "\n"
   ],
   "metadata": {
    "collapsed": false
   }
  },
  {
   "cell_type": "code",
   "execution_count": 49,
   "outputs": [],
   "source": [
    "data_map = {\n",
    "    ('total','# Features'): num_total_features,\n",
    "    ('local', '# features != 0'): num_local_features_not_0,\n",
    "    ('local', 'avg features != 0'): avg_local_features_not_0,\n",
    "    ('global', '# features != 0'): num_global_features_not_0,\n",
    "    ('global', '# Features != 0 in both local and global'): num_features_global_local,\n",
    "    ('global', 'avg features != 0'): avg_global_features_not_0,\n",
    "    ('local-global', '# features != 0'): num_local_global_features_not_0,\n",
    "    ('local-global', 'avg features != 0'): avg_local_global_features_not_0,\n",
    "    ('cos_sim', 'local_global',): cos_sim_local_global,\n",
    "    ('cos_sim', 'local__local-global',): cos_sim_local_local_global,\n",
    "    ('cos_sim', 'global__local-global',): cos_sim_global_local_global,\n",
    "    ('cos_sim', 'global_fixed',): cos_sim_global_fixed,\n",
    "    ('cos_sim', 'local_fixed',): cos_sim_local_fixed,\n",
    "    ('cos_diff', 'local_global',): cosine_diff_loss_local_global,\n",
    "    ('cos_diff', 'local_fixed',): cosine_diff_loss_local_fixed,\n",
    "}\n",
    "df = pd.DataFrame(data=data_map)\n",
    "df.to_csv(save_path + 'statistics.csv')"
   ],
   "metadata": {
    "collapsed": false
   }
  },
  {
   "cell_type": "code",
   "execution_count": 50,
   "outputs": [
    {
     "ename": "SyntaxError",
     "evalue": "cannot assign to literal (2139596213.py, line 1)",
     "output_type": "error",
     "traceback": [
      "\u001B[0;36m  Cell \u001B[0;32mIn[50], line 1\u001B[0;36m\u001B[0m\n\u001B[0;31m    2=asd\u001B[0m\n\u001B[0m    ^\u001B[0m\n\u001B[0;31mSyntaxError\u001B[0m\u001B[0;31m:\u001B[0m cannot assign to literal\n"
     ]
    }
   ],
   "source": [
    "2=asd"
   ],
   "metadata": {
    "collapsed": false
   }
  },
  {
   "cell_type": "code",
   "execution_count": null,
   "outputs": [],
   "source": [
    "cosine_diff_loss_local_fixed"
   ],
   "metadata": {
    "collapsed": false
   }
  },
  {
   "cell_type": "code",
   "execution_count": null,
   "outputs": [],
   "source": [
    "X_embedded_local_global = X_embedded[:nun_samples,:]\n",
    "X_embedded_local = X_embedded[nun_samples:nun_samples+nun_samples,:]\n",
    "X_embedded_global = X_embedded[nun_samples+nun_samples:,:]\n"
   ],
   "metadata": {
    "collapsed": false
   }
  },
  {
   "cell_type": "code",
   "execution_count": null,
   "outputs": [],
   "source": [
    "X_embedded.shape[0]/3"
   ],
   "metadata": {
    "collapsed": false
   }
  },
  {
   "cell_type": "code",
   "execution_count": null,
   "outputs": [],
   "source": [
    "#X_embedded_global = TSNE(n_components=2, learning_rate='auto', init='random', perplexity=25).fit_transform(X_concat_global, labels_concat)\n",
    "#X_embedded_local = TSNE(n_components=2, learning_rate='auto', init='random', perplexity=25).fit_transform(X_concat_interm, labels_concat)\n",
    "#X_embedded_interm = X_embedded_local"
   ],
   "metadata": {
    "collapsed": false
   }
  },
  {
   "cell_type": "code",
   "execution_count": null,
   "outputs": [],
   "source": [
    "#X_embedded_interm = X_embedded_local"
   ],
   "metadata": {
    "collapsed": false
   }
  },
  {
   "cell_type": "code",
   "execution_count": null,
   "outputs": [],
   "source": [
    "X_embedded_global_clients = {}\n",
    "X_embedded_local_clients = {}\n",
    "X_embedded_local_global_clients = {}\n",
    "labels_clients = {}\n",
    "total_size = 0\n",
    "\n",
    "for client in range(1, 13+1):\n",
    "    print(f\"size client {client}: {local_trains[client].shape[0]}\")\n",
    "    size = local_trains[client].shape[0]\n",
    "    size_old = total_size\n",
    "    total_size += size\n",
    "    X_embedded_global_clients[client] = X_embedded_global[size_old:total_size,:]\n",
    "    X_embedded_local_clients[client] = X_embedded_local[size_old:total_size,:]\n",
    "    X_embedded_local_global_clients[client] = X_embedded_local_global[size_old:total_size,:]\n",
    "    labels_clients[client] = labels_concat[size_old:total_size]"
   ],
   "metadata": {
    "collapsed": false
   }
  },
  {
   "cell_type": "code",
   "execution_count": null,
   "outputs": [],
   "source": [
    "import matplotlib.pyplot as plt\n",
    "fig = plt.figure(figsize=(30, 18))\n",
    "plt.rcParams[\"figure.figsize\"] = (30,18)\n",
    "plt.rc('xtick', labelsize=32)    # fontsize of the tick labels\n",
    "plt.rc('ytick', labelsize=32)    # fontsize of the tick labels\n",
    "plt.rc('legend', fontsize=32)\n",
    "plt.rc('font', size=32)"
   ],
   "metadata": {
    "collapsed": false
   }
  },
  {
   "cell_type": "code",
   "execution_count": null,
   "outputs": [],
   "source": [
    "\"\"\"yellow: label=1\"\"\""
   ],
   "metadata": {
    "collapsed": false
   }
  },
  {
   "cell_type": "code",
   "execution_count": null,
   "outputs": [],
   "source": [
    "client_num = 13"
   ],
   "metadata": {
    "collapsed": false
   }
  },
  {
   "cell_type": "code",
   "execution_count": null,
   "outputs": [],
   "source": [
    "save_path"
   ],
   "metadata": {
    "collapsed": false
   }
  },
  {
   "cell_type": "code",
   "execution_count": null,
   "outputs": [],
   "source": [],
   "metadata": {
    "collapsed": false
   }
  },
  {
   "cell_type": "code",
   "execution_count": null,
   "outputs": [],
   "source": [
    "colors=['red', 'blue']\n",
    "for client in range(1, client_num+1):\n",
    "    for i in range(1+1):\n",
    "        labels_use = labels_clients[client] == i\n",
    "        X_use = X_embedded_global_clients[client][labels_use, :]\n",
    "        plt.scatter(X_use[:, 0], X_use[:, 1], c=[colors[i]]*X_use.shape[0], label=f'Label = {i}', s=60, )\n",
    "    plt.xlim(-120, 120)\n",
    "    plt.ylim(-120, 120)\n",
    "    plt.legend(prop={'size': 26}, markerscale=2)\n",
    "    plt.savefig(save_path + 'client_' + str(client) + '_global')\n",
    "    plt.clf()\n",
    "\n",
    "    for i in range(1+1):\n",
    "        labels_use = labels_clients[client] == i\n",
    "        X_use = X_embedded_local_clients[client][labels_use, :]\n",
    "        plt.scatter(X_use[:, 0], X_use[:, 1], c=[colors[i]]*X_use.shape[0], label=f'Label = {i}', s=60, )\n",
    "    plt.xlim(-120, 120)\n",
    "    plt.ylim(-120, 120)\n",
    "    plt.legend(prop={'size': 26}, markerscale=2)\n",
    "    plt.savefig(save_path + 'client_' + str(client) + '_local')\n",
    "    plt.clf()\n",
    "\n",
    "    for i in range(1+1):\n",
    "        labels_use = labels_clients[client] == i\n",
    "        X_use = X_embedded_local_global_clients[client][labels_use, :]\n",
    "        plt.scatter(X_use[:, 0], X_use[:, 1], c=[colors[i]]*X_use.shape[0], label=f'Label = {i}', s=60)\n",
    "    plt.xlim(-120, 120)\n",
    "    plt.ylim(-120, 120)\n",
    "    plt.legend(prop={'size': 26}, markerscale=2)\n",
    "    plt.savefig(save_path + 'client_' + str(client) + '_local_global')\n",
    "    plt.clf()\n",
    "\n",
    "\n"
   ],
   "metadata": {
    "collapsed": false
   }
  },
  {
   "cell_type": "code",
   "execution_count": null,
   "outputs": [],
   "source": [
    "plt.scatter(X_embedded_global_clients[client_num][:, 0], X_embedded_global_clients[client_num][:, 1], c=labels_clients[client_num], s=40 )\n",
    "plt.xlim(-120, 120)\n",
    "plt.ylim(-120, 120)"
   ],
   "metadata": {
    "collapsed": false
   }
  },
  {
   "cell_type": "code",
   "execution_count": null,
   "outputs": [],
   "source": [],
   "metadata": {
    "collapsed": false
   }
  },
  {
   "cell_type": "code",
   "execution_count": null,
   "outputs": [],
   "source": [
    "\"\"\"\n",
    "plt.scatter(X_embedded_global_clients[client_num][:, 0], X_embedded_global_clients[client_num][:, 1], c=labels_clients[client_num], )\n",
    "plt.xlim(-110, 110)\n",
    "plt.ylim(-100, 90)\n",
    "plt.show()\n",
    "\"\"\""
   ],
   "metadata": {
    "collapsed": false
   }
  },
  {
   "cell_type": "code",
   "execution_count": null,
   "outputs": [],
   "source": [
    "\"\"\"\n",
    "plt.scatter(X_embedded_local_clients[client_num][:, 0], X_embedded_local_clients[client_num][:, 1], c=labels_clients[client_num], )\n",
    "plt.xlim(-110, 110)\n",
    "plt.ylim(-100, 90)\n",
    "plt.show()\n",
    "\"\"\""
   ],
   "metadata": {
    "collapsed": false
   }
  },
  {
   "cell_type": "code",
   "execution_count": null,
   "outputs": [],
   "source": [
    "\"\"\"\n",
    "plt.scatter(X_embedded_local_global_clients[client_num][:, 0], X_embedded_local_global_clients[client_num][:, 1], c=labels_clients[client_num], )\n",
    "plt.xlim(-110, 110)\n",
    "plt.ylim(-100, 90)\n",
    "plt.show()\n",
    "\"\"\""
   ],
   "metadata": {
    "collapsed": false
   }
  },
  {
   "cell_type": "code",
   "execution_count": null,
   "outputs": [],
   "source": [
    "#import matplotlib.pyplot as plt\n",
    "#fig = plt.figure(figsize=(30, 18))\n",
    "#plt.rcParams[\"figure.figsize\"] = (30,18)"
   ],
   "metadata": {
    "collapsed": false
   }
  },
  {
   "cell_type": "code",
   "execution_count": null,
   "outputs": [],
   "source": [
    "colors=['red', 'blue']\n",
    "for i in range(1+1):\n",
    "    labels_use = labels_concat == i\n",
    "    X_use = X_embedded_global[labels_use, :]\n",
    "    plt.scatter(X_use[:, 0], X_use[:, 1], c=[colors[i]]*X_use.shape[0], label=f'Label = {i}', s=60)\n",
    "plt.legend(prop={'size': 26}, markerscale=2)\n",
    "plt.xlim(-120, 120)\n",
    "plt.ylim(-120, 120)\n",
    "plt.savefig(save_path + 'all_clients' + '_global')\n",
    "plt.clf()"
   ],
   "metadata": {
    "collapsed": false
   }
  },
  {
   "cell_type": "code",
   "execution_count": null,
   "outputs": [],
   "source": [
    "\n",
    "colors=['red', 'blue']\n",
    "for i in range(1+1):\n",
    "    labels_use = labels_concat == i\n",
    "    X_use = X_embedded_local[labels_use, :]\n",
    "    plt.scatter(X_use[:, 0], X_use[:, 1], c=[colors[i]]*X_use.shape[0], label=f'Label = {i}', s=60)\n",
    "plt.legend(prop={'size': 26}, markerscale=2)\n",
    "plt.xlim(-120, 120)\n",
    "plt.ylim(-120, 120)\n",
    "plt.savefig(save_path + 'all_clients' + '_local')\n",
    "plt.clf()"
   ],
   "metadata": {
    "collapsed": false
   }
  },
  {
   "cell_type": "code",
   "execution_count": null,
   "outputs": [],
   "source": [
    "colors=['red', 'blue']\n",
    "for i in range(1+1):\n",
    "    labels_use = labels_concat == i\n",
    "    X_use = X_embedded_local_global[labels_use, :]\n",
    "    plt.scatter(X_use[:, 0], X_use[:, 1], c=[colors[i]]*X_use.shape[0], label=f'Label = {i}', s=60)\n",
    "plt.legend(prop={'size': 26}, markerscale=2)\n",
    "plt.xlim(-120, 120)\n",
    "plt.ylim(-120, 120)\n",
    "plt.savefig(save_path + 'all_clients' + '_local_global')\n",
    "plt.clf()"
   ],
   "metadata": {
    "collapsed": false
   }
  },
  {
   "cell_type": "code",
   "execution_count": null,
   "outputs": [],
   "source": [
    "\n",
    "colors = []\n",
    "NUM_COLORS = 13\n",
    "cm = plt.get_cmap('tab20')\n",
    "colors_use = list(map(cm, colors))\n",
    "fig = plt.figure()\n",
    "for client in range(1, client_num+1):\n",
    "    data_size = X_embedded_global_clients[client].shape[0]\n",
    "    colors_curr = data_size*[client]\n",
    "    colors += colors_curr\n",
    "\n",
    "ax = fig.add_subplot(111)\n",
    "ax.set_prop_cycle(color=[cm(1.*i/NUM_COLORS) for i in range(NUM_COLORS)])\n",
    "\n",
    "for client in range(1, client_num+1):\n",
    "    labels_0 = labels_clients[client] == 0\n",
    "    X_embedded_global_clients_only_label_0 = X_embedded_global_clients[client][labels_0, :]\n",
    "    ax.scatter(X_embedded_global_clients_only_label_0[:,0], X_embedded_global_clients_only_label_0[:,1], label = f'Client {client}', s=60)\n",
    "\n",
    "\n",
    "\n",
    "#ax.legend_elements()\n",
    "ax.legend(prop={'size': 26}, markerscale=2)\n",
    "\n",
    "plt.xlim(-120, 120)\n",
    "plt.ylim(-120, 120)\n",
    "plt.savefig(save_path + 'global_comparison_label_0')\n",
    "plt.clf()"
   ],
   "metadata": {
    "collapsed": false
   }
  },
  {
   "cell_type": "code",
   "execution_count": null,
   "outputs": [],
   "source": [
    "\n",
    "colors = []\n",
    "NUM_COLORS = 13\n",
    "cm = plt.get_cmap('tab20')\n",
    "colors_use = list(map(cm, colors))\n",
    "fig = plt.figure()\n",
    "for client in range(1, client_num+1):\n",
    "    data_size = X_embedded_global_clients[client].shape[0]\n",
    "    colors_curr = data_size*[client]\n",
    "    colors += colors_curr\n",
    "\n",
    "ax = fig.add_subplot(111)\n",
    "ax.set_prop_cycle(color=[cm(1.*i/NUM_COLORS) for i in range(NUM_COLORS)])\n",
    "\n",
    "for client in range(1, client_num+1):\n",
    "    labels_1 = labels_clients[client] == 1\n",
    "    X_embedded_global_clients_only_label_1 = X_embedded_global_clients[client][labels_1, :]\n",
    "    ax.scatter(X_embedded_global_clients_only_label_1[:,0], X_embedded_global_clients_only_label_1[:,1], label = f'Client {client}', s=60)\n",
    "\n",
    "\n",
    "\n",
    "#ax.legend_elements()\n",
    "ax.legend(prop={'size': 26}, markerscale=2)\n",
    "\n",
    "plt.xlim(-120, 120)\n",
    "plt.ylim(-120, 120)\n",
    "plt.savefig(save_path + 'global_comparison_label_1')\n",
    "plt.clf()"
   ],
   "metadata": {
    "collapsed": false
   }
  },
  {
   "cell_type": "code",
   "execution_count": null,
   "outputs": [],
   "source": [
    "\n",
    "colors = []\n",
    "NUM_COLORS = 13\n",
    "cm = plt.get_cmap('tab20')\n",
    "colors_use = list(map(cm, colors))\n",
    "fig = plt.figure()\n",
    "for client in range(1, client_num+1):\n",
    "    data_size = X_embedded_local_clients[client].shape[0]\n",
    "    colors_curr = data_size*[client]\n",
    "    colors += colors_curr\n",
    "\n",
    "ax = fig.add_subplot(111)\n",
    "ax.set_prop_cycle(color=[cm(1.*i/NUM_COLORS) for i in range(NUM_COLORS)])\n",
    "\n",
    "for client in range(1, client_num+1):\n",
    "    labels_0 = labels_clients[client] == 0\n",
    "    X_embedded_local_clients_only_label_0 = X_embedded_local_clients[client][labels_0, :]\n",
    "    ax.scatter(X_embedded_local_clients_only_label_0[:,0], X_embedded_local_clients_only_label_0[:,1], label = f'Client {client}', s=60)\n",
    "\n",
    "\n",
    "\n",
    "#ax.legend_elements()\n",
    "ax.legend(prop={'size': 26}, markerscale=2)\n",
    "\n",
    "plt.xlim(-120, 120)\n",
    "plt.ylim(-120, 120)\n",
    "plt.savefig(save_path + 'local_comparison_label_0')\n",
    "plt.clf()"
   ],
   "metadata": {
    "collapsed": false
   }
  },
  {
   "cell_type": "code",
   "execution_count": null,
   "outputs": [],
   "source": [
    "\n",
    "colors = []\n",
    "NUM_COLORS = 13\n",
    "cm = plt.get_cmap('tab20')\n",
    "colors_use = list(map(cm, colors))\n",
    "fig = plt.figure()\n",
    "for client in range(1, client_num+1):\n",
    "    data_size = X_embedded_local_clients[client].shape[0]\n",
    "    colors_curr = data_size*[client]\n",
    "    colors += colors_curr\n",
    "\n",
    "ax = fig.add_subplot(111)\n",
    "ax.set_prop_cycle(color=[cm(1.*i/NUM_COLORS) for i in range(NUM_COLORS)])\n",
    "\n",
    "for client in range(1, client_num+1):\n",
    "    labels_0 = labels_clients[client] == 1\n",
    "    X_embedded_local_clients_only_label_0 = X_embedded_local_clients[client][labels_0, :]\n",
    "    ax.scatter(X_embedded_local_clients_only_label_0[:,0], X_embedded_local_clients_only_label_0[:,1], label = f'Client {client}', s=60)\n",
    "\n",
    "\n",
    "\n",
    "#ax.legend_elements()\n",
    "ax.legend(prop={'size': 26}, markerscale=2)\n",
    "plt.xlim(-120, 120)\n",
    "plt.ylim(-120, 120)\n",
    "plt.savefig(save_path + 'local_comparison_label_1')\n",
    "plt.clf()"
   ],
   "metadata": {
    "collapsed": false
   }
  },
  {
   "cell_type": "code",
   "execution_count": null,
   "outputs": [],
   "source": [
    "\n",
    "colors = []\n",
    "NUM_COLORS = 13\n",
    "cm = plt.get_cmap('tab20')\n",
    "colors_use = list(map(cm, colors))\n",
    "fig = plt.figure()\n",
    "for client in range(1, client_num+1):\n",
    "    data_size = X_embedded_local_global_clients[client].shape[0]\n",
    "    colors_curr = data_size*[client]\n",
    "    colors += colors_curr\n",
    "\n",
    "ax = fig.add_subplot(111)\n",
    "ax.set_prop_cycle(color=[cm(1.*i/NUM_COLORS) for i in range(NUM_COLORS)])\n",
    "\n",
    "for client in range(1, client_num+1):\n",
    "    labels_0 = labels_clients[client] == 0\n",
    "    X_embedded_local_global_clients_only_label_0 = X_embedded_local_global_clients[client][labels_0, :]\n",
    "    ax.scatter(X_embedded_local_global_clients_only_label_0[:,0], X_embedded_local_global_clients_only_label_0[:,1], label = f'Client {client}', s=60)\n",
    "\n",
    "\n",
    "\n",
    "#ax.legend_elements()\n",
    "ax.legend(prop={'size': 26}, markerscale=2)\n",
    "\n",
    "plt.xlim(-120, 120)\n",
    "plt.ylim(-120, 120)\n",
    "plt.savefig(save_path + 'local_global_comparison_label_0')\n",
    "plt.clf()"
   ],
   "metadata": {
    "collapsed": false
   }
  },
  {
   "cell_type": "code",
   "execution_count": null,
   "outputs": [],
   "source": [
    "\n",
    "colors = []\n",
    "NUM_COLORS = 13\n",
    "cm = plt.get_cmap('tab20')\n",
    "colors_use = list(map(cm, colors))\n",
    "fig = plt.figure()\n",
    "for client in range(1, client_num+1):\n",
    "    data_size = X_embedded_local_global_clients[client].shape[0]\n",
    "    colors_curr = data_size*[client]\n",
    "    colors += colors_curr\n",
    "\n",
    "ax = fig.add_subplot(111)\n",
    "ax.set_prop_cycle(color=[cm(1.*i/NUM_COLORS) for i in range(NUM_COLORS)])\n",
    "\n",
    "for client in range(1, client_num+1):\n",
    "    labels_0 = labels_clients[client] == 1\n",
    "    X_embedded_local_global_clients_only_label_0 = X_embedded_local_global_clients[client][labels_0, :]\n",
    "    ax.scatter(X_embedded_local_global_clients_only_label_0[:,0], X_embedded_local_global_clients_only_label_0[:,1], label = f'Client {client}', s=60)\n",
    "\n",
    "\n",
    "\n",
    "#ax.legend_elements()\n",
    "ax.legend(prop={'size': 26}, markerscale=2)\n",
    "\n",
    "plt.xlim(-120, 120)\n",
    "plt.ylim(-120, 120)\n",
    "plt.savefig(save_path + 'local_global_comparison_label_1')\n",
    "plt.clf()"
   ],
   "metadata": {
    "collapsed": false
   }
  },
  {
   "cell_type": "code",
   "execution_count": null,
   "outputs": [],
   "source": [],
   "metadata": {
    "collapsed": false
   }
  },
  {
   "cell_type": "code",
   "execution_count": null,
   "outputs": [],
   "source": [],
   "metadata": {
    "collapsed": false
   }
  },
  {
   "cell_type": "code",
   "execution_count": null,
   "outputs": [],
   "source": [
    "colors=['red', 'blue']\n",
    "\n",
    "labels_use = labels_concat == 0\n",
    "X_use_local = X_embedded_local[labels_use, :]\n",
    "X_use_global = X_embedded_global[labels_use, :]\n",
    "plt.scatter(X_use_local[:, 0], X_use_local[:, 1], c=[colors[0]]*X_use_local.shape[0],\n",
    "            label=f'Local', s=60)\n",
    "plt.scatter(X_use_global[:, 0], X_use_global[:, 1], c=[colors[1]]*X_use_global.shape[0],\n",
    "            label=f'Global', s=60)\n",
    "plt.legend(prop={'size': 26}, markerscale=2)\n",
    "plt.xlim(-120, 120)\n",
    "plt.ylim(-120, 120)\n",
    "plt.savefig(save_path + 'all_clients' + 'comparison_local_to_global_label_0')\n",
    "plt.clf()"
   ],
   "metadata": {
    "collapsed": false
   }
  },
  {
   "cell_type": "code",
   "execution_count": null,
   "outputs": [],
   "source": [],
   "metadata": {
    "collapsed": false
   }
  },
  {
   "cell_type": "code",
   "execution_count": null,
   "outputs": [],
   "source": [
    "colors=['red', 'blue']\n",
    "\n",
    "labels_use = labels_concat == 1\n",
    "X_use_local = X_embedded_local[labels_use, :]\n",
    "X_use_global = X_embedded_global[labels_use, :]\n",
    "plt.scatter(X_use_local[:, 0], X_use_local[:, 1], c=[colors[0]]*X_use_local.shape[0],\n",
    "            label=f'Local', s=60)\n",
    "plt.scatter(X_use_global[:, 0], X_use_global[:, 1], c=[colors[1]]*X_use_global.shape[0],\n",
    "            label=f'Global', s=60)\n",
    "plt.legend(prop={'size': 26}, markerscale=2)\n",
    "plt.xlim(-120, 120)\n",
    "plt.ylim(-120, 120)\n",
    "plt.savefig(save_path + 'all_clients' + 'comparison_local_to_global_label_1')\n",
    "plt.clf()"
   ],
   "metadata": {
    "collapsed": false
   }
  }
 ],
 "metadata": {
  "kernelspec": {
   "display_name": "Python 3",
   "language": "python",
   "name": "python3"
  },
  "language_info": {
   "codemirror_mode": {
    "name": "ipython",
    "version": 2
   },
   "file_extension": ".py",
   "mimetype": "text/x-python",
   "name": "python",
   "nbconvert_exporter": "python",
   "pygments_lexer": "ipython2",
   "version": "2.7.6"
  }
 },
 "nbformat": 4,
 "nbformat_minor": 0
}
