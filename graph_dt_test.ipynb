{
 "cells": [
  {
   "cell_type": "code",
   "execution_count": null,
   "outputs": [],
   "source": [
    "import torch\n",
    "# The train split of client 1\n",
    "cl_num = 0\n",
    "train_data_client = torch.load(f'./data/graph_dt/processed/{cl_num}/train.pt')\n",
    "val_data_client = torch.load(f'./data/graph_dt/processed/{cl_num}/val.pt')\n",
    "test_data_client = torch.load(f'./data/graph_dt/processed/{cl_num}/test.pt')\n",
    "print(len(train_data_client) + len(val_data_client) + len(test_data_client))\n"
   ],
   "metadata": {
    "collapsed": false
   }
  },
  {
   "cell_type": "markdown",
   "source": [
    "1: ESOL(12)\n",
    "2: FreeSolv(11)\n",
    "3: Lipophilicity (13)\n",
    "4: BACE (7)\n",
    "5: BBBP (8)\n",
    "6: ClinTox (6)\n",
    "7: MUTAG (1)\n",
    "8: PTC_MR (3)\n",
    "9: PTC_MM (2)\n",
    "10:  PTC_FM (4)\n",
    "11: PTC_FR (5) Zu viele Datem: 1440\n",
    "12: NCI109 (10)\n",
    "13: NCI1 (9)\n",
    "14: alchemy_full (15)\n",
    "15: ZINC_full (16)\n",
    "16: QM9 (14) (zu viele Daten? 130831)"
   ],
   "metadata": {
    "collapsed": false
   }
  },
  {
   "cell_type": "code",
   "execution_count": null,
   "outputs": [],
   "source": [
    "len(train_data_client)"
   ],
   "metadata": {
    "collapsed": false
   }
  },
  {
   "cell_type": "code",
   "execution_count": null,
   "metadata": {
    "collapsed": true
   },
   "outputs": [],
   "source": [
    "import os\n",
    "import sys\n",
    "\n",
    "# from federatedscope.core.cmd_args import parse_args\n",
    "from federatedscope.core.auxiliaries.data_builder import get_data\n",
    "from federatedscope.core.auxiliaries.utils import setup_seed, update_logger\n",
    "from federatedscope.core.auxiliaries.worker_builder import get_client_cls, get_server_cls\n",
    "from federatedscope.core.configs.config import global_cfg\n",
    "from federatedscope.core.fed_runner import FedRunner\n",
    "from yacs.config import CfgNode\n",
    "from rdkit.Chem.Draw import IPythonConsole\n",
    "\n",
    "if os.environ.get('https_proxy'):\n",
    "    del os.environ['https_proxy']\n",
    "if os.environ.get('http_proxy'):\n",
    "    del os.environ['http_proxy']"
   ]
  },
  {
   "cell_type": "code",
   "execution_count": null,
   "outputs": [],
   "source": [
    "def train(client, lr):\n",
    "    cfg_file = 'scripts/B-FHTL_exp_scripts/Graph-DT/isolated.yaml'\n",
    "    cfg_client = 'scripts/B-FHTL_exp_scripts/Graph-DT/cfg_per_client_isolated.yaml'\n",
    "    #'scripts/B-FHTL_exp_scripts/Graph-DT/cfg_per_client.yaml'\n",
    "\n",
    "    init_cfg = global_cfg.clone()\n",
    "    init_cfg.merge_from_file(cfg_file)\n",
    "\n",
    "    # init_cfg.data.subdirectory = 'graph_dt_backup/processed'\n",
    "    # init_cfg.merge_from_list(args.opts)\n",
    "    init_cfg.data.client = client\n",
    "    init_cfg.train.optimizer.lr = lr\n",
    "    update_logger(init_cfg)\n",
    "    setup_seed(init_cfg.seed)\n",
    "\n",
    "    # federated dataset might change the number of clients\n",
    "    # thus, we allow the creation procedure of dataset to modify the global cfg object\n",
    "    data, modified_cfg = get_data(config=init_cfg.clone())\n",
    "    init_cfg.merge_from_other_cfg(modified_cfg)\n",
    "\n",
    "    init_cfg.freeze()\n",
    "\n",
    "    # allow different settings for different clients\n",
    "    # cfg_client.merge_from_file(args.cfg_client)\n",
    "    if cfg_client is None:\n",
    "        cfg_client = None\n",
    "    else:\n",
    "        cfg_client = CfgNode.load_cfg(open(cfg_client, 'r')).clone()\n",
    "    runner = FedRunner(data=data,\n",
    "                   server_class=get_server_cls(init_cfg),\n",
    "                   client_class=get_client_cls(init_cfg),\n",
    "                   config=init_cfg.clone(),\n",
    "                   client_config=cfg_client)\n",
    "    _ = runner.run()"
   ],
   "metadata": {
    "collapsed": false
   }
  },
  {
   "cell_type": "code",
   "execution_count": null,
   "outputs": [],
   "source": [
    "clients = range(1, 16+1)\n",
    "lrs = [0.01, 0.001]\n",
    "num_trainings = 3\n",
    "for client in clients:\n",
    "    for lr in lrs:\n",
    "        print(f\"Client: {client},\\tlr: {lr}\")\n",
    "        for i in range(num_trainings):\n",
    "            print(f\"training run: {i+1}\")\n",
    "            train(client, lr)"
   ],
   "metadata": {
    "collapsed": false
   }
  },
  {
   "cell_type": "code",
   "execution_count": null,
   "outputs": [],
   "source": [
    "cfg_file = 'scripts/B-FHTL_exp_scripts/Graph-DT/isolated.yaml'\n",
    "cfg_client = 'scripts/B-FHTL_exp_scripts/Graph-DT/cfg_per_client_isolated.yaml'\n",
    "#'scripts/B-FHTL_exp_scripts/Graph-DT/cfg_per_client.yaml'\n",
    "\n",
    "init_cfg = global_cfg.clone()\n",
    "init_cfg.merge_from_file(cfg_file)\n",
    "\n",
    "# init_cfg.data.subdirectory = 'graph_dt_backup/processed'\n",
    "# init_cfg.merge_from_list(args.opts)\n",
    "init_cfg.data.client = 5\n",
    "init_cfg.train.optimizer.lr = 0.01\n",
    "update_logger(init_cfg)\n",
    "setup_seed(init_cfg.seed)\n",
    "\n",
    "# federated dataset might change the number of clients\n",
    "# thus, we allow the creation procedure of dataset to modify the global cfg object\n",
    "data, modified_cfg = get_data(config=init_cfg.clone())\n",
    "init_cfg.merge_from_other_cfg(modified_cfg)\n",
    "\n",
    "init_cfg.freeze()\n",
    "\n",
    "# allow different settings for different clients\n",
    "# cfg_client.merge_from_file(args.cfg_client)\n",
    "if cfg_client is None:\n",
    "    cfg_client = None\n",
    "else:\n",
    "    cfg_client = CfgNode.load_cfg(open(cfg_client, 'r')).clone()\n",
    "\n"
   ],
   "metadata": {
    "collapsed": false
   }
  },
  {
   "cell_type": "code",
   "execution_count": null,
   "outputs": [],
   "source": [],
   "metadata": {
    "collapsed": false
   }
  },
  {
   "cell_type": "code",
   "execution_count": null,
   "outputs": [],
   "source": [
    "runner = FedRunner(data=data,\n",
    "                   server_class=get_server_cls(init_cfg),\n",
    "                   client_class=get_client_cls(init_cfg),\n",
    "                   config=init_cfg.clone(),\n",
    "                   client_config=cfg_client)\n",
    "_ = runner.run()"
   ],
   "metadata": {
    "collapsed": false
   }
  },
  {
   "cell_type": "code",
   "execution_count": null,
   "outputs": [],
   "source": [
    "1"
   ],
   "metadata": {
    "collapsed": false
   }
  },
  {
   "cell_type": "code",
   "execution_count": null,
   "outputs": [],
   "source": [
    "import sys\n",
    "print(sys.executable)\n",
    "print(sys.version)\n",
    "print(sys.version_info)\n"
   ],
   "metadata": {
    "collapsed": false
   }
  },
  {
   "cell_type": "code",
   "execution_count": null,
   "outputs": [],
   "source": [
    "cfg_client['client_5']['eval']['metrics']=['mse']"
   ],
   "metadata": {
    "collapsed": false
   }
  },
  {
   "cell_type": "code",
   "execution_count": null,
   "outputs": [],
   "source": [
    "cfg_client['client_6']['eval']['metrics']=['mse']"
   ],
   "metadata": {
    "collapsed": false
   }
  },
  {
   "cell_type": "code",
   "execution_count": null,
   "outputs": [],
   "source": [
    "cfg_client['client_7']['eval']['metrics']=['mse']"
   ],
   "metadata": {
    "collapsed": false
   }
  },
  {
   "cell_type": "code",
   "execution_count": null,
   "outputs": [],
   "source": [
    "cfg_client['client_8']['eval']['metrics']=['mse']"
   ],
   "metadata": {
    "collapsed": false
   }
  },
  {
   "cell_type": "code",
   "execution_count": null,
   "outputs": [],
   "source": [
    "cfg_client['client_9']['eval']['metrics']=['mse']"
   ],
   "metadata": {
    "collapsed": false
   }
  },
  {
   "cell_type": "code",
   "execution_count": null,
   "outputs": [],
   "source": [
    "cfg_client['client_10']['eval']['metrics']=['mse']"
   ],
   "metadata": {
    "collapsed": false
   }
  },
  {
   "cell_type": "code",
   "execution_count": null,
   "outputs": [],
   "source": [
    "cfg_client['client_11']['eval']['metrics']=['mse']"
   ],
   "metadata": {
    "collapsed": false
   }
  },
  {
   "cell_type": "code",
   "execution_count": null,
   "outputs": [],
   "source": [
    "cfg_client['client_12']['eval']['metrics']=['mse']"
   ],
   "metadata": {
    "collapsed": false
   }
  },
  {
   "cell_type": "code",
   "execution_count": null,
   "outputs": [],
   "source": [
    "cfg_client['client_13']['eval']['metrics']=['mse']"
   ],
   "metadata": {
    "collapsed": false
   }
  },
  {
   "cell_type": "code",
   "execution_count": null,
   "outputs": [],
   "source": [
    "cl_list = ['client_' + str(i) for i in range(1,17)]"
   ],
   "metadata": {
    "collapsed": false
   }
  },
  {
   "cell_type": "code",
   "execution_count": null,
   "outputs": [],
   "source": [
    "cl_list"
   ],
   "metadata": {
    "collapsed": false
   }
  },
  {
   "cell_type": "code",
   "execution_count": null,
   "outputs": [],
   "source": [
    "cfg_client['client_13']['train']['local_update_steps']"
   ],
   "metadata": {
    "collapsed": false
   }
  },
  {
   "cell_type": "code",
   "execution_count": null,
   "outputs": [],
   "source": [
    "for el in cl_list:\n",
    "    cfg_client[el]['train']['local_update_steps']=1"
   ],
   "metadata": {
    "collapsed": false
   }
  },
  {
   "cell_type": "code",
   "execution_count": null,
   "outputs": [],
   "source": [
    "cfg_client"
   ],
   "metadata": {
    "collapsed": false
   }
  },
  {
   "cell_type": "code",
   "execution_count": null,
   "outputs": [],
   "source": [],
   "metadata": {
    "collapsed": false
   }
  }
 ],
 "metadata": {
  "kernelspec": {
   "display_name": "Python 3",
   "language": "python",
   "name": "python3"
  },
  "language_info": {
   "codemirror_mode": {
    "name": "ipython",
    "version": 2
   },
   "file_extension": ".py",
   "mimetype": "text/x-python",
   "name": "python",
   "nbconvert_exporter": "python",
   "pygments_lexer": "ipython2",
   "version": "2.7.6"
  }
 },
 "nbformat": 4,
 "nbformat_minor": 0
}
