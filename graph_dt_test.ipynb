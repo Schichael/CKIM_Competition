{
 "cells": [
  {
   "cell_type": "code",
   "execution_count": 2,
   "outputs": [
    {
     "name": "stdout",
     "output_type": "stream",
     "text": [
      "1127\n"
     ]
    }
   ],
   "source": [
    "import torch\n",
    "# The train split of client 1\n",
    "cl_num = 0\n",
    "train_data_client = torch.load(f'./data/graph_dt/processed/{cl_num}/train.pt')\n",
    "val_data_client = torch.load(f'./data/graph_dt/processed/{cl_num}/val.pt')\n",
    "test_data_client = torch.load(f'./data/graph_dt/processed/{cl_num}/test.pt')\n",
    "print(len(train_data_client) + len(val_data_client) + len(test_data_client))\n"
   ],
   "metadata": {
    "collapsed": false
   }
  },
  {
   "cell_type": "markdown",
   "source": [
    "1: ESOL(12)\n",
    "2: FreeSolv(11)\n",
    "3: Lipophilicity (13)\n",
    "4: BACE (7)\n",
    "5: BBBP (8)\n",
    "6: ClinTox (6)\n",
    "7: MUTAG (1)\n",
    "8: PTC_MR (3)\n",
    "9: PTC_MM (2)\n",
    "10: PTC_FM (4)\n",
    "11: PTC_FR (5)\n",
    "12: NCI109 (10)\n",
    "13: NCI1 (9)\n",
    "14: alchemy_full (15)\n",
    "15: ZINC_full (16)\n",
    "16: QM9 (14)"
   ],
   "metadata": {
    "collapsed": false
   }
  },
  {
   "cell_type": "code",
   "execution_count": null,
   "outputs": [],
   "source": [
    "len(train_data_client)"
   ],
   "metadata": {
    "collapsed": false
   }
  },
  {
   "cell_type": "code",
   "execution_count": 10,
   "metadata": {
    "collapsed": true
   },
   "outputs": [],
   "source": [
    "import os\n",
    "import sys\n",
    "\n",
    "# from federatedscope.core.cmd_args import parse_args\n",
    "from federatedscope.core.auxiliaries.data_builder import get_data\n",
    "from federatedscope.core.auxiliaries.utils import setup_seed, update_logger\n",
    "from federatedscope.core.auxiliaries.worker_builder import get_client_cls, get_server_cls\n",
    "from federatedscope.core.configs.config import global_cfg\n",
    "from federatedscope.core.fed_runner import FedRunner\n",
    "from yacs.config import CfgNode\n",
    "from rdkit.Chem.Draw import IPythonConsole\n",
    "from IPython.display import clear_output\n",
    "\n",
    "\n",
    "if os.environ.get('https_proxy'):\n",
    "    del os.environ['https_proxy']\n",
    "if os.environ.get('http_proxy'):\n",
    "    del os.environ['http_proxy']"
   ]
  },
  {
   "cell_type": "code",
   "execution_count": 2,
   "outputs": [],
   "source": [
    "def train(client, lr):\n",
    "    cfg_file = 'scripts/B-FHTL_exp_scripts/Graph-DT/isolated.yaml'\n",
    "    cfg_client = 'scripts/B-FHTL_exp_scripts/Graph-DT/cfg_per_client_isolated.yaml'\n",
    "    #'scripts/B-FHTL_exp_scripts/Graph-DT/cfg_per_client.yaml'\n",
    "\n",
    "    init_cfg = global_cfg.clone()\n",
    "    init_cfg.merge_from_file(cfg_file)\n",
    "\n",
    "    # init_cfg.data.subdirectory = 'graph_dt_backup/processed'\n",
    "    # init_cfg.merge_from_list(args.opts)\n",
    "    init_cfg.data.client = client\n",
    "    init_cfg.train.optimizer.lr = lr\n",
    "    init_cfg.data.save_dir = 'isolated_theirs'\n",
    "    update_logger(init_cfg)\n",
    "    setup_seed(init_cfg.seed)\n",
    "\n",
    "    # federated dataset might change the number of clients\n",
    "    # thus, we allow the creation procedure of dataset to modify the global cfg object\n",
    "    data, modified_cfg = get_data(config=init_cfg.clone())\n",
    "    init_cfg.merge_from_other_cfg(modified_cfg)\n",
    "\n",
    "    init_cfg.freeze()\n",
    "\n",
    "    # allow different settings for different clients\n",
    "    # cfg_client.merge_from_file(args.cfg_client)\n",
    "    if cfg_client is None:\n",
    "        cfg_client = None\n",
    "    else:\n",
    "        cfg_client = CfgNode.load_cfg(open(cfg_client, 'r')).clone()\n",
    "    runner = FedRunner(data=data,\n",
    "                   server_class=get_server_cls(init_cfg),\n",
    "                   client_class=get_client_cls(init_cfg),\n",
    "                   config=init_cfg.clone(),\n",
    "                   client_config=cfg_client)\n",
    "    _ = runner.run()"
   ],
   "metadata": {
    "collapsed": false
   }
  },
  {
   "cell_type": "code",
   "execution_count": null,
   "outputs": [],
   "source": [
    "clients = range(1, 1+1)\n",
    "lrs = [0.01]\n",
    "num_trainings = 3\n",
    "for client in clients:\n",
    "    clear_output(wait=True)\n",
    "    for lr in lrs:\n",
    "        print(f\"Client: {client},\\tlr: {lr}\")\n",
    "        for i in range(num_trainings):\n",
    "            print(f\"training run: {i+1}\")\n",
    "            train(client, lr)"
   ],
   "metadata": {
    "collapsed": false
   }
  },
  {
   "cell_type": "code",
   "execution_count": 11,
   "outputs": [
    {
     "name": "stderr",
     "output_type": "stream",
     "text": [
      "2023-01-05 20:11:35,315 (utils:129)INFO: the current machine is at 127.0.1.1\n",
      "2023-01-05 20:11:35,316 (utils:131)INFO: the current dir is /home/michael/Master-Thesis/CKIM_Competition\n",
      "2023-01-05 20:11:35,317 (utils:132)INFO: the output dir is exp/test_dir/Ditto_gin_on_graph-dt_lr0.1_lstep1_/sub_exp_20230105201135\n"
     ]
    },
    {
     "ename": "KeyError",
     "evalue": "'train'",
     "output_type": "error",
     "traceback": [
      "\u001B[0;31m---------------------------------------------------------------------------\u001B[0m",
      "\u001B[0;31mKeyError\u001B[0m                                  Traceback (most recent call last)",
      "Cell \u001B[0;32mIn [11], line 18\u001B[0m\n\u001B[1;32m     14\u001B[0m setup_seed(init_cfg\u001B[38;5;241m.\u001B[39mseed)\n\u001B[1;32m     16\u001B[0m \u001B[38;5;66;03m# federated dataset might change the number of clients\u001B[39;00m\n\u001B[1;32m     17\u001B[0m \u001B[38;5;66;03m# thus, we allow the creation procedure of dataset to modify the global cfg object\u001B[39;00m\n\u001B[0;32m---> 18\u001B[0m data, modified_cfg \u001B[38;5;241m=\u001B[39m \u001B[43mget_data\u001B[49m\u001B[43m(\u001B[49m\u001B[43mconfig\u001B[49m\u001B[38;5;241;43m=\u001B[39;49m\u001B[43minit_cfg\u001B[49m\u001B[38;5;241;43m.\u001B[39;49m\u001B[43mclone\u001B[49m\u001B[43m(\u001B[49m\u001B[43m)\u001B[49m\u001B[43m)\u001B[49m\n\u001B[1;32m     19\u001B[0m init_cfg\u001B[38;5;241m.\u001B[39mmerge_from_other_cfg(modified_cfg)\n\u001B[1;32m     21\u001B[0m init_cfg\u001B[38;5;241m.\u001B[39mfreeze()\n",
      "File \u001B[0;32m~/Master-Thesis/CKIM_Competition/federatedscope/core/auxiliaries/data_builder.py:533\u001B[0m, in \u001B[0;36mget_data\u001B[0;34m(config)\u001B[0m\n\u001B[1;32m    524\u001B[0m \u001B[38;5;124;03m\"\"\"Instantiate the dataset and update the configuration accordingly if\u001B[39;00m\n\u001B[1;32m    525\u001B[0m \u001B[38;5;124;03mnecessary.\u001B[39;00m\n\u001B[1;32m    526\u001B[0m \u001B[38;5;124;03mArguments:\u001B[39;00m\n\u001B[0;32m   (...)\u001B[0m\n\u001B[1;32m    530\u001B[0m \u001B[38;5;124;03m    cfg.node: The updated configuration.\u001B[39;00m\n\u001B[1;32m    531\u001B[0m \u001B[38;5;124;03m\"\"\"\u001B[39;00m\n\u001B[1;32m    532\u001B[0m \u001B[38;5;28;01mfor\u001B[39;00m func \u001B[38;5;129;01min\u001B[39;00m register\u001B[38;5;241m.\u001B[39mdata_dict\u001B[38;5;241m.\u001B[39mvalues():\n\u001B[0;32m--> 533\u001B[0m     data_and_config \u001B[38;5;241m=\u001B[39m \u001B[43mfunc\u001B[49m\u001B[43m(\u001B[49m\u001B[43mconfig\u001B[49m\u001B[43m)\u001B[49m\n\u001B[1;32m    534\u001B[0m     \u001B[38;5;28;01mif\u001B[39;00m data_and_config \u001B[38;5;129;01mis\u001B[39;00m \u001B[38;5;129;01mnot\u001B[39;00m \u001B[38;5;28;01mNone\u001B[39;00m:\n\u001B[1;32m    535\u001B[0m         \u001B[38;5;28;01mreturn\u001B[39;00m data_and_config\n",
      "File \u001B[0;32m~/Master-Thesis/CKIM_Competition/federatedscope/contrib/data/graph_dt.py:312\u001B[0m, in \u001B[0;36mcall_graph_dt_data\u001B[0;34m(config)\u001B[0m\n\u001B[1;32m    310\u001B[0m \u001B[38;5;28;01mdef\u001B[39;00m \u001B[38;5;21mcall_graph_dt_data\u001B[39m(config):\n\u001B[1;32m    311\u001B[0m     \u001B[38;5;28;01mif\u001B[39;00m config\u001B[38;5;241m.\u001B[39mdata\u001B[38;5;241m.\u001B[39mtype \u001B[38;5;241m==\u001B[39m \u001B[38;5;124m\"\u001B[39m\u001B[38;5;124mgraph-dt\u001B[39m\u001B[38;5;124m\"\u001B[39m:\n\u001B[0;32m--> 312\u001B[0m         data, modified_config \u001B[38;5;241m=\u001B[39m \u001B[43mload_graph_dt_data\u001B[49m\u001B[43m(\u001B[49m\u001B[43mconfig\u001B[49m\u001B[43m)\u001B[49m\n\u001B[1;32m    313\u001B[0m         \u001B[38;5;28;01mreturn\u001B[39;00m data, modified_config\n",
      "File \u001B[0;32m~/Master-Thesis/CKIM_Competition/federatedscope/contrib/data/graph_dt.py:291\u001B[0m, in \u001B[0;36mload_graph_dt_data\u001B[0;34m(config)\u001B[0m\n\u001B[1;32m    286\u001B[0m \u001B[38;5;28;01mif\u001B[39;00m \u001B[38;5;124m'\u001B[39m\u001B[38;5;124mtrain\u001B[39m\u001B[38;5;124m'\u001B[39m \u001B[38;5;129;01min\u001B[39;00m dataset[client_idx \u001B[38;5;241m-\u001B[39m \u001B[38;5;241m1\u001B[39m]:\n\u001B[1;32m    287\u001B[0m     dataloader_dict[\u001B[38;5;124m'\u001B[39m\u001B[38;5;124mtrain\u001B[39m\u001B[38;5;124m'\u001B[39m] \u001B[38;5;241m=\u001B[39m DataLoader(dataset[client_idx \u001B[38;5;241m-\u001B[39m\n\u001B[1;32m    288\u001B[0m                                                   \u001B[38;5;241m1\u001B[39m][\u001B[38;5;124m'\u001B[39m\u001B[38;5;124mtrain\u001B[39m\u001B[38;5;124m'\u001B[39m],\n\u001B[1;32m    289\u001B[0m                                           config\u001B[38;5;241m.\u001B[39mdata\u001B[38;5;241m.\u001B[39mbatch_size,\n\u001B[1;32m    290\u001B[0m                                           shuffle\u001B[38;5;241m=\u001B[39mconfig\u001B[38;5;241m.\u001B[39mdata\u001B[38;5;241m.\u001B[39mshuffle)\n\u001B[0;32m--> 291\u001B[0m     tmp_dataset \u001B[38;5;241m+\u001B[39m\u001B[38;5;241m=\u001B[39m \u001B[43mdataset\u001B[49m\u001B[43m[\u001B[49m\u001B[43mclient_idx\u001B[49m\u001B[43m \u001B[49m\u001B[38;5;241;43m-\u001B[39;49m\u001B[43m \u001B[49m\u001B[38;5;241;43m1\u001B[39;49m\u001B[43m]\u001B[49m\u001B[43m[\u001B[49m\u001B[38;5;124;43m'\u001B[39;49m\u001B[38;5;124;43mtrain\u001B[39;49m\u001B[38;5;124;43m'\u001B[39;49m\u001B[43m]\u001B[49m\n\u001B[1;32m    292\u001B[0m \u001B[38;5;28;01mif\u001B[39;00m \u001B[38;5;124m'\u001B[39m\u001B[38;5;124mval\u001B[39m\u001B[38;5;124m'\u001B[39m \u001B[38;5;129;01min\u001B[39;00m dataset[client_idx \u001B[38;5;241m-\u001B[39m \u001B[38;5;241m1\u001B[39m]:\n\u001B[1;32m    293\u001B[0m     dataloader_dict[\u001B[38;5;124m'\u001B[39m\u001B[38;5;124mval\u001B[39m\u001B[38;5;124m'\u001B[39m] \u001B[38;5;241m=\u001B[39m DataLoader(dataset[client_idx \u001B[38;5;241m-\u001B[39m \u001B[38;5;241m1\u001B[39m][\u001B[38;5;124m'\u001B[39m\u001B[38;5;124mval\u001B[39m\u001B[38;5;124m'\u001B[39m],\n\u001B[1;32m    294\u001B[0m                                         config\u001B[38;5;241m.\u001B[39mdata\u001B[38;5;241m.\u001B[39mbatch_size,\n\u001B[1;32m    295\u001B[0m                                         shuffle\u001B[38;5;241m=\u001B[39m\u001B[38;5;28;01mFalse\u001B[39;00m)\n",
      "\u001B[0;31mKeyError\u001B[0m: 'train'"
     ]
    }
   ],
   "source": [
    "cfg_file = 'scripts/B-FHTL_exp_scripts/Graph-DT/fedDitto.yaml'\n",
    "cfg_client = 'scripts/B-FHTL_exp_scripts/Graph-DT/cfg_per_client_theirs.yaml'\n",
    "#'scripts/B-FHTL_exp_scripts/Graph-DT/cfg_per_client.yaml'\n",
    "\n",
    "init_cfg = global_cfg.clone()\n",
    "init_cfg.merge_from_file(cfg_file)\n",
    "init_cfg.federate.client_num = 16\n",
    "# init_cfg.data.subdirectory = 'graph_dt_backup/processed'\n",
    "# init_cfg.merge_from_list(args.opts)\n",
    "#init_cfg.data.client = 5\n",
    "#init_cfg.train.optgraph_level_defaultimizer.lr = 0.01\n",
    "init_cfg.data.save_dir = 'test_dir'\n",
    "update_logger(init_cfg)\n",
    "setup_seed(init_cfg.seed)\n",
    "\n",
    "# federated dataset might change the number of clients\n",
    "# thus, we allow the creation procedure of dataset to modify the global cfg object\n",
    "data, modified_cfg = get_data(config=init_cfg.clone())\n",
    "init_cfg.merge_from_other_cfg(modified_cfg)\n",
    "\n",
    "init_cfg.freeze()\n",
    "\n",
    "# allow different settings for different clients\n",
    "# cfg_client.merge_from_file(args.cfg_client)\n",
    "if cfg_client is None:\n",
    "    cfg_client = None\n",
    "else:\n",
    "    cfg_client = CfgNode.load_cfg(open(cfg_client, 'r')).clone()\n",
    "\n"
   ],
   "metadata": {
    "collapsed": false
   }
  },
  {
   "cell_type": "code",
   "execution_count": 4,
   "outputs": [
    {
     "data": {
      "text/plain": "1"
     },
     "execution_count": 4,
     "metadata": {},
     "output_type": "execute_result"
    }
   ],
   "source": [
    "1\n"
   ],
   "metadata": {
    "collapsed": false
   }
  },
  {
   "cell_type": "code",
   "execution_count": null,
   "outputs": [],
   "source": [
    "runner = FedRunner(data=data,\n",
    "                   server_class=get_server_cls(init_cfg),\n",
    "                   client_class=get_client_cls(init_cfg),\n",
    "                   config=init_cfg.clone(),\n",
    "                   client_config=cfg_client)\n",
    "_ = runner.run()"
   ],
   "metadata": {
    "collapsed": false
   }
  },
  {
   "cell_type": "code",
   "execution_count": null,
   "outputs": [],
   "source": [
    "1"
   ],
   "metadata": {
    "collapsed": false
   }
  },
  {
   "cell_type": "code",
   "execution_count": null,
   "outputs": [],
   "source": [
    "import sys\n",
    "print(sys.executable)\n",
    "print(sys.version)\n",
    "print(sys.version_info)\n"
   ],
   "metadata": {
    "collapsed": false
   }
  },
  {
   "cell_type": "code",
   "execution_count": null,
   "outputs": [],
   "source": [
    "cfg_client['client_5']['eval']['metrics']=['mse']"
   ],
   "metadata": {
    "collapsed": false
   }
  },
  {
   "cell_type": "code",
   "execution_count": null,
   "outputs": [],
   "source": [
    "cfg_client['client_6']['eval']['metrics']=['mse']"
   ],
   "metadata": {
    "collapsed": false
   }
  },
  {
   "cell_type": "code",
   "execution_count": null,
   "outputs": [],
   "source": [
    "cfg_client['client_7']['eval']['metrics']=['mse']"
   ],
   "metadata": {
    "collapsed": false
   }
  },
  {
   "cell_type": "code",
   "execution_count": null,
   "outputs": [],
   "source": [
    "cfg_client['client_8']['eval']['metrics']=['mse']"
   ],
   "metadata": {
    "collapsed": false
   }
  },
  {
   "cell_type": "code",
   "execution_count": null,
   "outputs": [],
   "source": [
    "cfg_client['client_9']['eval']['metrics']=['mse']"
   ],
   "metadata": {
    "collapsed": false
   }
  },
  {
   "cell_type": "code",
   "execution_count": null,
   "outputs": [],
   "source": [
    "cfg_client['client_10']['eval']['metrics']=['mse']"
   ],
   "metadata": {
    "collapsed": false
   }
  },
  {
   "cell_type": "code",
   "execution_count": null,
   "outputs": [],
   "source": [
    "cfg_client['client_11']['eval']['metrics']=['mse']"
   ],
   "metadata": {
    "collapsed": false
   }
  },
  {
   "cell_type": "code",
   "execution_count": null,
   "outputs": [],
   "source": [
    "cfg_client['client_12']['eval']['metrics']=['mse']"
   ],
   "metadata": {
    "collapsed": false
   }
  },
  {
   "cell_type": "code",
   "execution_count": null,
   "outputs": [],
   "source": [
    "cfg_client['client_13']['eval']['metrics']=['mse']"
   ],
   "metadata": {
    "collapsed": false
   }
  },
  {
   "cell_type": "code",
   "execution_count": null,
   "outputs": [],
   "source": [
    "cl_list = ['client_' + str(i) for i in range(1,17)]"
   ],
   "metadata": {
    "collapsed": false
   }
  },
  {
   "cell_type": "code",
   "execution_count": null,
   "outputs": [],
   "source": [
    "cl_list"
   ],
   "metadata": {
    "collapsed": false
   }
  },
  {
   "cell_type": "code",
   "execution_count": null,
   "outputs": [],
   "source": [
    "cfg_client['client_13']['train']['local_update_steps']"
   ],
   "metadata": {
    "collapsed": false
   }
  },
  {
   "cell_type": "code",
   "execution_count": null,
   "outputs": [],
   "source": [
    "for el in cl_list:\n",
    "    cfg_client[el]['train']['local_update_steps']=1"
   ],
   "metadata": {
    "collapsed": false
   }
  },
  {
   "cell_type": "code",
   "execution_count": null,
   "outputs": [],
   "source": [
    "cfg_client"
   ],
   "metadata": {
    "collapsed": false
   }
  },
  {
   "cell_type": "code",
   "execution_count": null,
   "outputs": [],
   "source": [],
   "metadata": {
    "collapsed": false
   }
  }
 ],
 "metadata": {
  "kernelspec": {
   "display_name": "Python 3",
   "language": "python",
   "name": "python3"
  },
  "language_info": {
   "codemirror_mode": {
    "name": "ipython",
    "version": 2
   },
   "file_extension": ".py",
   "mimetype": "text/x-python",
   "name": "python",
   "nbconvert_exporter": "python",
   "pygments_lexer": "ipython2",
   "version": "2.7.6"
  }
 },
 "nbformat": 4,
 "nbformat_minor": 0
}
