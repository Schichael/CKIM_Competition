{
 "cells": [
  {
   "cell_type": "code",
   "execution_count": 1,
   "outputs": [
    {
     "ename": "FileNotFoundError",
     "evalue": "[Errno 2] No such file or directory: './data/graph_dt/processed/5/train.pt'",
     "output_type": "error",
     "traceback": [
      "\u001B[0;31m---------------------------------------------------------------------------\u001B[0m",
      "\u001B[0;31mFileNotFoundError\u001B[0m                         Traceback (most recent call last)",
      "Cell \u001B[0;32mIn [1], line 4\u001B[0m\n\u001B[1;32m      2\u001B[0m \u001B[38;5;66;03m# The train split of client 1\u001B[39;00m\n\u001B[1;32m      3\u001B[0m cl_num \u001B[38;5;241m=\u001B[39m \u001B[38;5;241m5\u001B[39m\n\u001B[0;32m----> 4\u001B[0m train_data_client \u001B[38;5;241m=\u001B[39m \u001B[43mtorch\u001B[49m\u001B[38;5;241;43m.\u001B[39;49m\u001B[43mload\u001B[49m\u001B[43m(\u001B[49m\u001B[38;5;124;43mf\u001B[39;49m\u001B[38;5;124;43m'\u001B[39;49m\u001B[38;5;124;43m./data/graph_dt/processed/\u001B[39;49m\u001B[38;5;132;43;01m{\u001B[39;49;00m\u001B[43mcl_num\u001B[49m\u001B[38;5;132;43;01m}\u001B[39;49;00m\u001B[38;5;124;43m/train.pt\u001B[39;49m\u001B[38;5;124;43m'\u001B[39;49m\u001B[43m)\u001B[49m\n\u001B[1;32m      5\u001B[0m val_data_client \u001B[38;5;241m=\u001B[39m torch\u001B[38;5;241m.\u001B[39mload(\u001B[38;5;124mf\u001B[39m\u001B[38;5;124m'\u001B[39m\u001B[38;5;124m./data/graph_dt/processed/\u001B[39m\u001B[38;5;132;01m{\u001B[39;00mcl_num\u001B[38;5;132;01m}\u001B[39;00m\u001B[38;5;124m/val.pt\u001B[39m\u001B[38;5;124m'\u001B[39m)\n\u001B[1;32m      6\u001B[0m test_data_client \u001B[38;5;241m=\u001B[39m torch\u001B[38;5;241m.\u001B[39mload(\u001B[38;5;124mf\u001B[39m\u001B[38;5;124m'\u001B[39m\u001B[38;5;124m./data/graph_dt/processed/\u001B[39m\u001B[38;5;132;01m{\u001B[39;00mcl_num\u001B[38;5;132;01m}\u001B[39;00m\u001B[38;5;124m/test.pt\u001B[39m\u001B[38;5;124m'\u001B[39m)\n",
      "File \u001B[0;32m~/test/CKIM_Competition/venv/lib/python3.9/site-packages/torch/serialization.py:699\u001B[0m, in \u001B[0;36mload\u001B[0;34m(f, map_location, pickle_module, **pickle_load_args)\u001B[0m\n\u001B[1;32m    696\u001B[0m \u001B[38;5;28;01mif\u001B[39;00m \u001B[38;5;124m'\u001B[39m\u001B[38;5;124mencoding\u001B[39m\u001B[38;5;124m'\u001B[39m \u001B[38;5;129;01mnot\u001B[39;00m \u001B[38;5;129;01min\u001B[39;00m pickle_load_args\u001B[38;5;241m.\u001B[39mkeys():\n\u001B[1;32m    697\u001B[0m     pickle_load_args[\u001B[38;5;124m'\u001B[39m\u001B[38;5;124mencoding\u001B[39m\u001B[38;5;124m'\u001B[39m] \u001B[38;5;241m=\u001B[39m \u001B[38;5;124m'\u001B[39m\u001B[38;5;124mutf-8\u001B[39m\u001B[38;5;124m'\u001B[39m\n\u001B[0;32m--> 699\u001B[0m \u001B[38;5;28;01mwith\u001B[39;00m \u001B[43m_open_file_like\u001B[49m\u001B[43m(\u001B[49m\u001B[43mf\u001B[49m\u001B[43m,\u001B[49m\u001B[43m \u001B[49m\u001B[38;5;124;43m'\u001B[39;49m\u001B[38;5;124;43mrb\u001B[39;49m\u001B[38;5;124;43m'\u001B[39;49m\u001B[43m)\u001B[49m \u001B[38;5;28;01mas\u001B[39;00m opened_file:\n\u001B[1;32m    700\u001B[0m     \u001B[38;5;28;01mif\u001B[39;00m _is_zipfile(opened_file):\n\u001B[1;32m    701\u001B[0m         \u001B[38;5;66;03m# The zipfile reader is going to advance the current file position.\u001B[39;00m\n\u001B[1;32m    702\u001B[0m         \u001B[38;5;66;03m# If we want to actually tail call to torch.jit.load, we need to\u001B[39;00m\n\u001B[1;32m    703\u001B[0m         \u001B[38;5;66;03m# reset back to the original position.\u001B[39;00m\n\u001B[1;32m    704\u001B[0m         orig_position \u001B[38;5;241m=\u001B[39m opened_file\u001B[38;5;241m.\u001B[39mtell()\n",
      "File \u001B[0;32m~/test/CKIM_Competition/venv/lib/python3.9/site-packages/torch/serialization.py:230\u001B[0m, in \u001B[0;36m_open_file_like\u001B[0;34m(name_or_buffer, mode)\u001B[0m\n\u001B[1;32m    228\u001B[0m \u001B[38;5;28;01mdef\u001B[39;00m \u001B[38;5;21m_open_file_like\u001B[39m(name_or_buffer, mode):\n\u001B[1;32m    229\u001B[0m     \u001B[38;5;28;01mif\u001B[39;00m _is_path(name_or_buffer):\n\u001B[0;32m--> 230\u001B[0m         \u001B[38;5;28;01mreturn\u001B[39;00m \u001B[43m_open_file\u001B[49m\u001B[43m(\u001B[49m\u001B[43mname_or_buffer\u001B[49m\u001B[43m,\u001B[49m\u001B[43m \u001B[49m\u001B[43mmode\u001B[49m\u001B[43m)\u001B[49m\n\u001B[1;32m    231\u001B[0m     \u001B[38;5;28;01melse\u001B[39;00m:\n\u001B[1;32m    232\u001B[0m         \u001B[38;5;28;01mif\u001B[39;00m \u001B[38;5;124m'\u001B[39m\u001B[38;5;124mw\u001B[39m\u001B[38;5;124m'\u001B[39m \u001B[38;5;129;01min\u001B[39;00m mode:\n",
      "File \u001B[0;32m~/test/CKIM_Competition/venv/lib/python3.9/site-packages/torch/serialization.py:211\u001B[0m, in \u001B[0;36m_open_file.__init__\u001B[0;34m(self, name, mode)\u001B[0m\n\u001B[1;32m    210\u001B[0m \u001B[38;5;28;01mdef\u001B[39;00m \u001B[38;5;21m__init__\u001B[39m(\u001B[38;5;28mself\u001B[39m, name, mode):\n\u001B[0;32m--> 211\u001B[0m     \u001B[38;5;28msuper\u001B[39m(_open_file, \u001B[38;5;28mself\u001B[39m)\u001B[38;5;241m.\u001B[39m\u001B[38;5;21m__init__\u001B[39m(\u001B[38;5;28;43mopen\u001B[39;49m\u001B[43m(\u001B[49m\u001B[43mname\u001B[49m\u001B[43m,\u001B[49m\u001B[43m \u001B[49m\u001B[43mmode\u001B[49m\u001B[43m)\u001B[49m)\n",
      "\u001B[0;31mFileNotFoundError\u001B[0m: [Errno 2] No such file or directory: './data/graph_dt/processed/5/train.pt'"
     ]
    }
   ],
   "source": [
    "import torch\n",
    "# The train split of client 1\n",
    "cl_num = 0\n",
    "train_data_client = torch.load(f'./data/graph_dt/processed/{cl_num}/train.pt')\n",
    "val_data_client = torch.load(f'./data/graph_dt/processed/{cl_num}/val.pt')\n",
    "test_data_client = torch.load(f'./data/graph_dt/processed/{cl_num}/test.pt')\n",
    "print(len(train_data_client) + len(val_data_client) + len(test_data_client))\n"
   ],
   "metadata": {
    "collapsed": false
   }
  },
  {
   "cell_type": "markdown",
   "source": [
    "1: ESOL(12)\n",
    "2: FreeSolv(11)\n",
    "3: Lipophilicity (13)\n",
    "4: BACE (7)\n",
    "5: BBBP (8)\n",
    "6: ClinTox (Zu viele Daten: 2314)\n",
    "7: MUTAG (1)\n",
    "8: PTC_MR (3)\n",
    "9: PTC_MM (2)\n",
    "10:  PTC_FM (4)\n",
    "11: PTC_FR (5) Zu viele Datem: 1440\n",
    "12: NCI109 (10)\n",
    "13: NCI1 (9)\n",
    "14: alchemy_full (15)\n",
    "15: ZINC_full (16)\n",
    "16: QM9 (13) (zu viele Daten? 130831)"
   ],
   "metadata": {
    "collapsed": false
   }
  },
  {
   "cell_type": "code",
   "execution_count": null,
   "outputs": [],
   "source": [
    "len(train_data_client)"
   ],
   "metadata": {
    "collapsed": false
   }
  },
  {
   "cell_type": "code",
   "execution_count": 1,
   "metadata": {
    "collapsed": true
   },
   "outputs": [
    {
     "name": "stderr",
     "output_type": "stream",
     "text": [
      "2022-12-18 20:40:04,529 (trainer_builder:11)WARNING: No module named 'federatedscope.contrib.optimizer' in `federatedscope.contrib.trainer`, some modules are not available.\n"
     ]
    }
   ],
   "source": [
    "import os\n",
    "import sys\n",
    "\n",
    "from federatedscope.core.cmd_args import parse_args\n",
    "from federatedscope.core.auxiliaries.data_builder import get_data\n",
    "from federatedscope.core.auxiliaries.utils import setup_seed, update_logger\n",
    "from federatedscope.core.auxiliaries.worker_builder import get_client_cls, get_server_cls\n",
    "from federatedscope.core.configs.config import global_cfg\n",
    "from federatedscope.core.fed_runner import FedRunner\n",
    "from yacs.config import CfgNode\n",
    "from rdkit.Chem.Draw import IPythonConsole\n",
    "\n",
    "if os.environ.get('https_proxy'):\n",
    "    del os.environ['https_proxy']\n",
    "if os.environ.get('http_proxy'):\n",
    "    del os.environ['http_proxy']"
   ]
  },
  {
   "cell_type": "code",
   "execution_count": null,
   "outputs": [
    {
     "name": "stderr",
     "output_type": "stream",
     "text": [
      "2022-12-18 20:40:04,553 (utils:129)INFO: the current machine is at 127.0.1.1\n",
      "2022-12-18 20:40:04,555 (utils:131)INFO: the current dir is /home/michael/Projects/CKIM_Competition\n",
      "2022-12-18 20:40:04,556 (utils:132)INFO: the output dir is exp/Graph-DC-FedAvg_gin_on_graph-dt_lr0.5_lstep21_\n",
      "Processing...\n",
      "Downloading https://deepchemdata.s3-us-west-1.amazonaws.com/datasets/delaney-processed.csv\n",
      "Processing...\n",
      "Done!\n",
      "Downloading https://deepchemdata.s3-us-west-1.amazonaws.com/datasets/SAMPL.csv\n",
      "Processing...\n",
      "Done!\n",
      "Downloading https://deepchemdata.s3-us-west-1.amazonaws.com/datasets/Lipophilicity.csv\n",
      "Processing...\n",
      "Done!\n",
      "Downloading https://deepchemdata.s3-us-west-1.amazonaws.com/datasets/BBBP.csv\n",
      "Processing...\n",
      "RDKit ERROR: [20:40:23] Explicit valence for atom # 1 N, 4, is greater than permitted\n",
      "[20:40:23] Explicit valence for atom # 1 N, 4, is greater than permitted\n",
      "RDKit WARNING: [20:40:23] WARNING: not removing hydrogen atom without neighbors\n",
      "[20:40:23] WARNING: not removing hydrogen atom without neighbors\n",
      "RDKit ERROR: [20:40:23] Explicit valence for atom # 6 N, 4, is greater than permitted\n",
      "[20:40:23] Explicit valence for atom # 6 N, 4, is greater than permitted\n",
      "RDKit WARNING: [20:40:23] WARNING: not removing hydrogen atom without neighbors\n",
      "[20:40:23] WARNING: not removing hydrogen atom without neighbors\n",
      "RDKit WARNING: [20:40:23] WARNING: not removing hydrogen atom without neighbors\n",
      "[20:40:23] WARNING: not removing hydrogen atom without neighbors\n",
      "RDKit WARNING: [20:40:23] WARNING: not removing hydrogen atom without neighbors\n",
      "[20:40:23] WARNING: not removing hydrogen atom without neighbors\n",
      "RDKit WARNING: [20:40:23] WARNING: not removing hydrogen atom without neighbors\n",
      "[20:40:23] WARNING: not removing hydrogen atom without neighbors\n",
      "RDKit WARNING: [20:40:23] WARNING: not removing hydrogen atom without neighbors\n",
      "RDKit WARNING: [20:40:23] WARNING: not removing hydrogen atom without neighbors\n",
      "[20:40:23] WARNING: not removing hydrogen atom without neighbors\n",
      "[20:40:23] WARNING: not removing hydrogen atom without neighbors\n",
      "RDKit ERROR: [20:40:24] Explicit valence for atom # 6 N, 4, is greater than permitted\n",
      "[20:40:24] Explicit valence for atom # 6 N, 4, is greater than permitted\n",
      "RDKit WARNING: [20:40:24] WARNING: not removing hydrogen atom without neighbors\n",
      "[20:40:24] WARNING: not removing hydrogen atom without neighbors\n",
      "RDKit WARNING: [20:40:24] WARNING: not removing hydrogen atom without neighbors\n",
      "[20:40:24] WARNING: not removing hydrogen atom without neighbors\n",
      "RDKit WARNING: [20:40:24] WARNING: not removing hydrogen atom without neighbors\n",
      "[20:40:24] WARNING: not removing hydrogen atom without neighbors\n",
      "RDKit WARNING: [20:40:24] WARNING: not removing hydrogen atom without neighbors\n",
      "[20:40:24] WARNING: not removing hydrogen atom without neighbors\n",
      "RDKit ERROR: [20:40:24] Explicit valence for atom # 11 N, 4, is greater than permitted\n",
      "[20:40:24] Explicit valence for atom # 11 N, 4, is greater than permitted\n",
      "RDKit ERROR: [20:40:24] Explicit valence for atom # 12 N, 4, is greater than permitted\n",
      "[20:40:24] Explicit valence for atom # 12 N, 4, is greater than permitted\n",
      "RDKit ERROR: [20:40:24] Explicit valence for atom # 5 N, 4, is greater than permitted\n",
      "[20:40:24] Explicit valence for atom # 5 N, 4, is greater than permitted\n",
      "RDKit ERROR: [20:40:24] Explicit valence for atom # 5 N, 4, is greater than permitted\n",
      "[20:40:24] Explicit valence for atom # 5 N, 4, is greater than permitted\n",
      "RDKit ERROR: [20:40:24] Explicit valence for atom # 5 N, 4, is greater than permitted\n",
      "[20:40:24] Explicit valence for atom # 5 N, 4, is greater than permitted\n",
      "RDKit ERROR: [20:40:24] Explicit valence for atom # 5 N, 4, is greater than permitted\n",
      "[20:40:24] Explicit valence for atom # 5 N, 4, is greater than permitted\n",
      "RDKit ERROR: [20:40:24] Explicit valence for atom # 5 N, 4, is greater than permitted\n",
      "[20:40:24] Explicit valence for atom # 5 N, 4, is greater than permitted\n",
      "RDKit WARNING: [20:40:24] WARNING: not removing hydrogen atom without neighbors\n",
      "RDKit WARNING: [20:40:24] WARNING: not removing hydrogen atom without neighbors\n",
      "[20:40:24] WARNING: not removing hydrogen atom without neighbors\n",
      "[20:40:24] WARNING: not removing hydrogen atom without neighbors\n",
      "RDKit ERROR: [20:40:24] Explicit valence for atom # 5 N, 4, is greater than permitted\n",
      "[20:40:24] Explicit valence for atom # 5 N, 4, is greater than permitted\n",
      "RDKit WARNING: [20:40:24] WARNING: not removing hydrogen atom without neighbors\n",
      "[20:40:24] WARNING: not removing hydrogen atom without neighbors\n",
      "RDKit WARNING: [20:40:24] WARNING: not removing hydrogen atom without neighbors\n",
      "[20:40:24] WARNING: not removing hydrogen atom without neighbors\n",
      "RDKit WARNING: [20:40:24] WARNING: not removing hydrogen atom without neighbors\n",
      "[20:40:24] WARNING: not removing hydrogen atom without neighbors\n",
      "RDKit WARNING: [20:40:24] WARNING: not removing hydrogen atom without neighbors\n",
      "[20:40:24] WARNING: not removing hydrogen atom without neighbors\n",
      "RDKit WARNING: [20:40:24] WARNING: not removing hydrogen atom without neighbors\n",
      "[20:40:24] WARNING: not removing hydrogen atom without neighbors\n",
      "RDKit WARNING: [20:40:24] WARNING: not removing hydrogen atom without neighbors\n",
      "[20:40:24] WARNING: not removing hydrogen atom without neighbors\n",
      "RDKit WARNING: [20:40:24] WARNING: not removing hydrogen atom without neighbors\n",
      "[20:40:24] WARNING: not removing hydrogen atom without neighbors\n",
      "RDKit WARNING: [20:40:24] WARNING: not removing hydrogen atom without neighbors\n",
      "[20:40:24] WARNING: not removing hydrogen atom without neighbors\n",
      "RDKit WARNING: [20:40:24] WARNING: not removing hydrogen atom without neighbors\n",
      "[20:40:24] WARNING: not removing hydrogen atom without neighbors\n",
      "RDKit WARNING: [20:40:24] WARNING: not removing hydrogen atom without neighbors\n",
      "[20:40:24] WARNING: not removing hydrogen atom without neighbors\n",
      "RDKit WARNING: [20:40:24] WARNING: not removing hydrogen atom without neighbors\n",
      "[20:40:24] WARNING: not removing hydrogen atom without neighbors\n",
      "RDKit WARNING: [20:40:24] WARNING: not removing hydrogen atom without neighbors\n",
      "[20:40:24] WARNING: not removing hydrogen atom without neighbors\n",
      "RDKit WARNING: [20:40:24] WARNING: not removing hydrogen atom without neighbors\n",
      "[20:40:24] WARNING: not removing hydrogen atom without neighbors\n",
      "RDKit WARNING: [20:40:24] WARNING: not removing hydrogen atom without neighbors\n",
      "[20:40:24] WARNING: not removing hydrogen atom without neighbors\n",
      "RDKit WARNING: [20:40:24] WARNING: not removing hydrogen atom without neighbors\n",
      "[20:40:24] WARNING: not removing hydrogen atom without neighbors\n",
      "RDKit WARNING: [20:40:24] WARNING: not removing hydrogen atom without neighbors\n",
      "[20:40:24] WARNING: not removing hydrogen atom without neighbors\n",
      "RDKit WARNING: [20:40:24] WARNING: not removing hydrogen atom without neighbors\n",
      "[20:40:24] WARNING: not removing hydrogen atom without neighbors\n",
      "RDKit WARNING: [20:40:25] WARNING: not removing hydrogen atom without neighbors\n",
      "[20:40:25] WARNING: not removing hydrogen atom without neighbors\n",
      "RDKit WARNING: [20:40:25] WARNING: not removing hydrogen atom without neighbors\n",
      "[20:40:25] WARNING: not removing hydrogen atom without neighbors\n",
      "RDKit WARNING: [20:40:25] WARNING: not removing hydrogen atom without neighbors\n",
      "[20:40:25] WARNING: not removing hydrogen atom without neighbors\n",
      "RDKit WARNING: [20:40:25] WARNING: not removing hydrogen atom without neighbors\n",
      "[20:40:25] WARNING: not removing hydrogen atom without neighbors\n",
      "RDKit WARNING: [20:40:25] WARNING: not removing hydrogen atom without neighbors\n",
      "[20:40:25] WARNING: not removing hydrogen atom without neighbors\n",
      "RDKit WARNING: [20:40:25] WARNING: not removing hydrogen atom without neighbors\n",
      "[20:40:25] WARNING: not removing hydrogen atom without neighbors\n",
      "RDKit WARNING: [20:40:25] WARNING: not removing hydrogen atom without neighbors\n",
      "[20:40:25] WARNING: not removing hydrogen atom without neighbors\n",
      "RDKit WARNING: [20:40:25] WARNING: not removing hydrogen atom without neighbors\n",
      "[20:40:25] WARNING: not removing hydrogen atom without neighbors\n",
      "RDKit WARNING: [20:40:25] WARNING: not removing hydrogen atom without neighbors\n",
      "[20:40:25] WARNING: not removing hydrogen atom without neighbors\n",
      "RDKit WARNING: [20:40:25] WARNING: not removing hydrogen atom without neighbors\n",
      "[20:40:25] WARNING: not removing hydrogen atom without neighbors\n",
      "Done!\n",
      "RDKit WARNING: [20:40:25] WARNING: not removing hydrogen atom without neighbors\n",
      "[20:40:25] WARNING: not removing hydrogen atom without neighbors\n",
      "RDKit WARNING: [20:40:25] WARNING: not removing hydrogen atom without neighbors\n",
      "[20:40:25] WARNING: not removing hydrogen atom without neighbors\n",
      "RDKit WARNING: [20:40:25] WARNING: not removing hydrogen atom without neighbors\n",
      "[20:40:25] WARNING: not removing hydrogen atom without neighbors\n",
      "RDKit WARNING: [20:40:25] WARNING: not removing hydrogen atom without neighbors\n",
      "[20:40:25] WARNING: not removing hydrogen atom without neighbors\n",
      "RDKit WARNING: [20:40:25] WARNING: not removing hydrogen atom without neighbors\n",
      "RDKit WARNING: [20:40:25] WARNING: not removing hydrogen atom without neighbors\n",
      "RDKit WARNING: [20:40:25] WARNING: not removing hydrogen atom without neighbors\n",
      "[20:40:25] WARNING: not removing hydrogen atom without neighbors\n",
      "[20:40:25] WARNING: not removing hydrogen atom without neighbors\n",
      "[20:40:25] WARNING: not removing hydrogen atom without neighbors\n",
      "RDKit WARNING: [20:40:25] WARNING: not removing hydrogen atom without neighbors\n",
      "[20:40:25] WARNING: not removing hydrogen atom without neighbors\n",
      "RDKit WARNING: [20:40:25] WARNING: not removing hydrogen atom without neighbors\n",
      "[20:40:25] WARNING: not removing hydrogen atom without neighbors\n",
      "RDKit WARNING: [20:40:25] WARNING: not removing hydrogen atom without neighbors\n",
      "[20:40:25] WARNING: not removing hydrogen atom without neighbors\n",
      "RDKit WARNING: [20:40:26] WARNING: not removing hydrogen atom without neighbors\n",
      "[20:40:26] WARNING: not removing hydrogen atom without neighbors\n",
      "RDKit WARNING: [20:40:26] WARNING: not removing hydrogen atom without neighbors\n",
      "RDKit WARNING: [20:40:26] WARNING: not removing hydrogen atom without neighbors\n",
      "[20:40:26] WARNING: not removing hydrogen atom without neighbors\n",
      "[20:40:26] WARNING: not removing hydrogen atom without neighbors\n",
      "RDKit WARNING: [20:40:26] WARNING: not removing hydrogen atom without neighbors\n",
      "[20:40:26] WARNING: not removing hydrogen atom without neighbors\n",
      "RDKit WARNING: [20:40:26] WARNING: not removing hydrogen atom without neighbors\n",
      "[20:40:26] WARNING: not removing hydrogen atom without neighbors\n",
      "RDKit WARNING: [20:40:26] WARNING: not removing hydrogen atom without neighbors\n",
      "[20:40:26] WARNING: not removing hydrogen atom without neighbors\n",
      "RDKit WARNING: [20:40:26] WARNING: not removing hydrogen atom without neighbors\n",
      "[20:40:26] WARNING: not removing hydrogen atom without neighbors\n",
      "RDKit WARNING: [20:40:26] WARNING: not removing hydrogen atom without neighbors\n",
      "[20:40:26] WARNING: not removing hydrogen atom without neighbors\n",
      "RDKit WARNING: [20:40:26] WARNING: not removing hydrogen atom without neighbors\n",
      "[20:40:26] WARNING: not removing hydrogen atom without neighbors\n",
      "RDKit WARNING: [20:40:26] WARNING: not removing hydrogen atom without neighbors\n",
      "[20:40:26] WARNING: not removing hydrogen atom without neighbors\n",
      "RDKit WARNING: [20:40:26] WARNING: not removing hydrogen atom without neighbors\n",
      "[20:40:26] WARNING: not removing hydrogen atom without neighbors\n",
      "RDKit WARNING: [20:40:26] WARNING: not removing hydrogen atom without neighbors\n",
      "[20:40:26] WARNING: not removing hydrogen atom without neighbors\n",
      "RDKit WARNING: [20:40:26] WARNING: not removing hydrogen atom without neighbors\n",
      "[20:40:26] WARNING: not removing hydrogen atom without neighbors\n",
      "RDKit WARNING: [20:40:26] WARNING: not removing hydrogen atom without neighbors\n",
      "[20:40:26] WARNING: not removing hydrogen atom without neighbors\n",
      "RDKit WARNING: [20:40:26] WARNING: not removing hydrogen atom without neighbors\n",
      "[20:40:26] WARNING: not removing hydrogen atom without neighbors\n",
      "RDKit WARNING: [20:40:26] WARNING: not removing hydrogen atom without neighbors\n",
      "[20:40:26] WARNING: not removing hydrogen atom without neighbors\n",
      "RDKit WARNING: [20:40:26] WARNING: not removing hydrogen atom without neighbors\n",
      "[20:40:26] WARNING: not removing hydrogen atom without neighbors\n",
      "RDKit WARNING: [20:40:26] WARNING: not removing hydrogen atom without neighbors\n",
      "[20:40:26] WARNING: not removing hydrogen atom without neighbors\n",
      "RDKit WARNING: [20:40:26] WARNING: not removing hydrogen atom without neighbors\n",
      "[20:40:26] WARNING: not removing hydrogen atom without neighbors\n",
      "RDKit WARNING: [20:40:26] WARNING: not removing hydrogen atom without neighbors\n",
      "[20:40:26] WARNING: not removing hydrogen atom without neighbors\n",
      "RDKit WARNING: [20:40:27] WARNING: not removing hydrogen atom without neighbors\n",
      "[20:40:27] WARNING: not removing hydrogen atom without neighbors\n",
      "RDKit WARNING: [20:40:27] WARNING: not removing hydrogen atom without neighbors\n",
      "[20:40:27] WARNING: not removing hydrogen atom without neighbors\n",
      "RDKit WARNING: [20:40:27] WARNING: not removing hydrogen atom without neighbors\n",
      "[20:40:27] WARNING: not removing hydrogen atom without neighbors\n",
      "RDKit WARNING: [20:40:27] WARNING: not removing hydrogen atom without neighbors\n",
      "[20:40:27] WARNING: not removing hydrogen atom without neighbors\n",
      "RDKit WARNING: [20:40:27] WARNING: not removing hydrogen atom without neighbors\n",
      "[20:40:27] WARNING: not removing hydrogen atom without neighbors\n",
      "RDKit WARNING: [20:40:27] WARNING: not removing hydrogen atom without neighbors\n",
      "[20:40:27] WARNING: not removing hydrogen atom without neighbors\n",
      "RDKit WARNING: [20:40:27] WARNING: not removing hydrogen atom without neighbors\n",
      "[20:40:27] WARNING: not removing hydrogen atom without neighbors\n",
      "RDKit WARNING: [20:40:27] WARNING: not removing hydrogen atom without neighbors\n",
      "[20:40:27] WARNING: not removing hydrogen atom without neighbors\n",
      "RDKit WARNING: [20:40:27] WARNING: not removing hydrogen atom without neighbors\n",
      "[20:40:27] WARNING: not removing hydrogen atom without neighbors\n",
      "RDKit WARNING: [20:40:27] WARNING: not removing hydrogen atom without neighbors\n",
      "[20:40:27] WARNING: not removing hydrogen atom without neighbors\n",
      "Downloading https://deepchemdata.s3-us-west-1.amazonaws.com/datasets/clintox.csv.gz\n",
      "Extracting data/clintox/raw/clintox.csv.gz\n",
      "Processing...\n",
      "RDKit ERROR: [20:40:28] Explicit valence for atom # 0 N, 5, is greater than permitted\n",
      "[20:40:28] Explicit valence for atom # 0 N, 5, is greater than permitted\n",
      "RDKit ERROR: [20:40:29] Can't kekulize mol.  Unkekulized atoms: 9\n",
      "[20:40:29] Can't kekulize mol.  Unkekulized atoms: 9\n",
      "\n",
      "RDKit ERROR: \n",
      "RDKit ERROR: [20:40:29] Explicit valence for atom # 10 N, 4, is greater than permitted\n",
      "[20:40:29] Explicit valence for atom # 10 N, 4, is greater than permitted\n",
      "RDKit ERROR: [20:40:29] Explicit valence for atom # 10 N, 4, is greater than permitted\n",
      "[20:40:29] Explicit valence for atom # 10 N, 4, is greater than permitted\n",
      "RDKit ERROR: [20:40:30] Can't kekulize mol.  Unkekulized atoms: 4\n",
      "[20:40:30] Can't kekulize mol.  Unkekulized atoms: 4\n",
      "\n",
      "RDKit ERROR: \n",
      "RDKit ERROR: [20:40:30] Can't kekulize mol.  Unkekulized atoms: 4\n",
      "RDKit ERROR: \n",
      "[20:40:30] Can't kekulize mol.  Unkekulized atoms: 4\n",
      "\n",
      "Done!\n",
      "Downloading https://www.chrsmrrs.com/graphkerneldatasets/PTC_FM.zip\n",
      "Extracting data/PTC_FM/PTC_FM.zip\n",
      "Processing...\n",
      "Done!\n",
      "Downloading https://www.chrsmrrs.com/graphkerneldatasets/alchemy_full.zip\n",
      "Extracting data/alchemy_full/alchemy_full.zip\n",
      "Processing...\n",
      "Done!\n",
      "Downloading https://www.chrsmrrs.com/graphkerneldatasets/ZINC_full.zip\n",
      "Extracting data/ZINC_full/ZINC_full.zip\n",
      "Processing...\n",
      "Done!\n"
     ]
    }
   ],
   "source": [
    "cfg_file = 'scripts/B-FHTL_exp_scripts/Graph-DT/fedavg.yaml'\n",
    "cfg_client = 'scripts/B-FHTL_exp_scripts/Graph-DT/cfg_per_client.yaml'\n",
    "\n",
    "init_cfg = global_cfg.clone()\n",
    "init_cfg.merge_from_file(cfg_file)\n",
    "# init_cfg.merge_from_list(args.opts)\n",
    "\n",
    "update_logger(init_cfg)\n",
    "setup_seed(init_cfg.seed)\n",
    "\n",
    "# federated dataset might change the number of clients\n",
    "# thus, we allow the creation procedure of dataset to modify the global cfg object\n",
    "data, modified_cfg = get_data(config=init_cfg.clone())\n",
    "init_cfg.merge_from_other_cfg(modified_cfg)\n",
    "\n",
    "init_cfg.freeze()\n",
    "\n",
    "# allow different settings for different clients\n",
    "# cfg_client.merge_from_file(args.cfg_client)\n",
    "if cfg_client is None:\n",
    "    cfg_client = None\n",
    "else:\n",
    "    cfg_client = CfgNode.load_cfg(open(cfg_client, 'r')).clone()\n",
    "\n"
   ],
   "metadata": {
    "collapsed": false,
    "pycharm": {
     "is_executing": true
    }
   }
  },
  {
   "cell_type": "code",
   "execution_count": null,
   "outputs": [],
   "source": [],
   "metadata": {
    "collapsed": false,
    "pycharm": {
     "is_executing": true
    }
   }
  },
  {
   "cell_type": "code",
   "execution_count": null,
   "outputs": [],
   "source": [
    "runner = FedRunner(data=data,\n",
    "                   server_class=get_server_cls(init_cfg),\n",
    "                   client_class=get_client_cls(init_cfg),\n",
    "                   config=init_cfg.clone(),\n",
    "                   client_config=cfg_client)\n",
    "_ = runner.run()"
   ],
   "metadata": {
    "collapsed": false,
    "pycharm": {
     "is_executing": true
    }
   }
  },
  {
   "cell_type": "code",
   "execution_count": null,
   "outputs": [],
   "source": [
    "1"
   ],
   "metadata": {
    "collapsed": false
   }
  },
  {
   "cell_type": "code",
   "execution_count": 45,
   "outputs": [],
   "source": [
    "cfg_client['client_4']['eval']['metrics']=['mse']"
   ],
   "metadata": {
    "collapsed": false
   }
  },
  {
   "cell_type": "code",
   "execution_count": 46,
   "outputs": [],
   "source": [
    "cfg_client['client_5']['eval']['metrics']=['mse']"
   ],
   "metadata": {
    "collapsed": false
   }
  },
  {
   "cell_type": "code",
   "execution_count": 47,
   "outputs": [],
   "source": [
    "cfg_client['client_6']['eval']['metrics']=['mse']"
   ],
   "metadata": {
    "collapsed": false
   }
  },
  {
   "cell_type": "code",
   "execution_count": 48,
   "outputs": [],
   "source": [
    "cfg_client['client_7']['eval']['metrics']=['mse']"
   ],
   "metadata": {
    "collapsed": false
   }
  },
  {
   "cell_type": "code",
   "execution_count": 49,
   "outputs": [],
   "source": [
    "cfg_client['client_8']['eval']['metrics']=['mse']"
   ],
   "metadata": {
    "collapsed": false
   }
  },
  {
   "cell_type": "code",
   "execution_count": 50,
   "outputs": [],
   "source": [
    "cfg_client['client_9']['eval']['metrics']=['mse']"
   ],
   "metadata": {
    "collapsed": false
   }
  },
  {
   "cell_type": "code",
   "execution_count": 51,
   "outputs": [],
   "source": [
    "cfg_client['client_10']['eval']['metrics']=['mse']"
   ],
   "metadata": {
    "collapsed": false
   }
  },
  {
   "cell_type": "code",
   "execution_count": 52,
   "outputs": [],
   "source": [
    "cfg_client['client_11']['eval']['metrics']=['mse']"
   ],
   "metadata": {
    "collapsed": false
   }
  },
  {
   "cell_type": "code",
   "execution_count": 53,
   "outputs": [],
   "source": [
    "cfg_client['client_12']['eval']['metrics']=['mse']"
   ],
   "metadata": {
    "collapsed": false
   }
  },
  {
   "cell_type": "code",
   "execution_count": 54,
   "outputs": [],
   "source": [
    "cfg_client['client_13']['eval']['metrics']=['mse']"
   ],
   "metadata": {
    "collapsed": false
   }
  },
  {
   "cell_type": "code",
   "execution_count": 27,
   "outputs": [],
   "source": [
    "cl_list = ['client_' + str(i) for i in range(1,17)]"
   ],
   "metadata": {
    "collapsed": false
   }
  },
  {
   "cell_type": "code",
   "execution_count": 28,
   "outputs": [
    {
     "data": {
      "text/plain": "['client_1',\n 'client_2',\n 'client_3',\n 'client_4',\n 'client_5',\n 'client_6',\n 'client_7',\n 'client_8',\n 'client_9',\n 'client_10',\n 'client_11',\n 'client_12',\n 'client_13',\n 'client_14',\n 'client_15',\n 'client_16']"
     },
     "execution_count": 28,
     "metadata": {},
     "output_type": "execute_result"
    }
   ],
   "source": [
    "cl_list"
   ],
   "metadata": {
    "collapsed": false
   }
  },
  {
   "cell_type": "code",
   "execution_count": 30,
   "outputs": [
    {
     "data": {
      "text/plain": "21"
     },
     "execution_count": 30,
     "metadata": {},
     "output_type": "execute_result"
    }
   ],
   "source": [
    "cfg_client['client_13']['train']['local_update_steps']"
   ],
   "metadata": {
    "collapsed": false
   }
  },
  {
   "cell_type": "code",
   "execution_count": 31,
   "outputs": [],
   "source": [
    "for el in cl_list:\n",
    "    cfg_client[el]['train']['local_update_steps']=1"
   ],
   "metadata": {
    "collapsed": false
   }
  },
  {
   "cell_type": "code",
   "execution_count": 32,
   "outputs": [
    {
     "data": {
      "text/plain": "CfgNode({'client_1': CfgNode({'model': CfgNode({'out_channels': 1, 'task': 'graphRegression'}), 'criterion': CfgNode({'type': 'MSELoss'}), 'train': CfgNode({'optimizer': CfgNode({'lr': 0.01}), 'local_update_steps': 1})}), 'client_2': CfgNode({'model': CfgNode({'out_channels': 1, 'task': 'graphRegression'}), 'criterion': CfgNode({'type': 'MSELoss'}), 'train': CfgNode({'optimizer': CfgNode({'lr': 0.1}), 'local_update_steps': 1})}), 'client_3': CfgNode({'model': CfgNode({'out_channels': 1, 'task': 'graphRegression'}), 'criterion': CfgNode({'type': 'MSELoss'}), 'train': CfgNode({'optimizer': CfgNode({'lr': 0.1}), 'local_update_steps': 1})}), 'client_4': CfgNode({'model': CfgNode({'out_channels': 2, 'task': 'graphClassification'}), 'criterion': CfgNode({'type': 'CrossEntropyLoss'}), 'train': CfgNode({'optimizer': CfgNode({'lr': 0.01}), 'local_update_steps': 1}), 'eval': CfgNode({'metrics': ['acc']})}), 'client_5': CfgNode({'model': CfgNode({'out_channels': 2, 'task': 'graphClassification'}), 'criterion': CfgNode({'type': 'CrossEntropyLoss'}), 'train': CfgNode({'optimizer': CfgNode({'lr': 0.05}), 'local_update_steps': 1}), 'eval': CfgNode({'metrics': ['acc']})}), 'client_6': CfgNode({'model': CfgNode({'out_channels': 2, 'task': 'graphClassification'}), 'criterion': CfgNode({'type': 'CrossEntropyLoss'}), 'train': CfgNode({'optimizer': CfgNode({'lr': 0.05}), 'local_update_steps': 1}), 'eval': CfgNode({'metrics': ['acc']})}), 'client_7': CfgNode({'model': CfgNode({'out_channels': 2, 'task': 'graphClassification'}), 'criterion': CfgNode({'type': 'CrossEntropyLoss'}), 'train': CfgNode({'optimizer': CfgNode({'lr': 0.1}), 'local_update_steps': 1}), 'eval': CfgNode({'metrics': ['acc']})}), 'client_8': CfgNode({'model': CfgNode({'out_channels': 2, 'task': 'graphClassification'}), 'criterion': CfgNode({'type': 'CrossEntropyLoss'}), 'train': CfgNode({'optimizer': CfgNode({'lr': 0.0001}), 'local_update_steps': 1}), 'eval': CfgNode({'metrics': ['acc']})}), 'client_9': CfgNode({'model': CfgNode({'out_channels': 2, 'task': 'graphClassification'}), 'criterion': CfgNode({'type': 'CrossEntropyLoss'}), 'train': CfgNode({'optimizer': CfgNode({'lr': 0.05}), 'local_update_steps': 1}), 'eval': CfgNode({'metrics': ['acc']})}), 'client_10': CfgNode({'model': CfgNode({'out_channels': 2, 'task': 'graphClassification'}), 'criterion': CfgNode({'type': 'CrossEntropyLoss'}), 'train': CfgNode({'optimizer': CfgNode({'lr': 0.05}), 'local_update_steps': 1}), 'eval': CfgNode({'metrics': ['acc']})}), 'client_11': CfgNode({'model': CfgNode({'out_channels': 2, 'task': 'graphClassification'}), 'criterion': CfgNode({'type': 'CrossEntropyLoss'}), 'train': CfgNode({'optimizer': CfgNode({'lr': 0.1}), 'local_update_steps': 1}), 'eval': CfgNode({'metrics': ['acc']})}), 'client_12': CfgNode({'model': CfgNode({'out_channels': 2, 'task': 'graphClassification'}), 'criterion': CfgNode({'type': 'CrossEntropyLoss'}), 'train': CfgNode({'optimizer': CfgNode({'lr': 0.05}), 'local_update_steps': 1}), 'eval': CfgNode({'metrics': ['acc']})}), 'client_13': CfgNode({'model': CfgNode({'out_channels': 2, 'task': 'graphClassification'}), 'criterion': CfgNode({'type': 'CrossEntropyLoss'}), 'train': CfgNode({'optimizer': CfgNode({'lr': 0.05}), 'local_update_steps': 1}), 'eval': CfgNode({'metrics': ['acc']})}), 'client_14': CfgNode({'model': CfgNode({'out_channels': 12, 'task': 'graphRegression'}), 'criterion': CfgNode({'type': 'MSELoss'}), 'train': CfgNode({'optimizer': CfgNode({'lr': 0.05}), 'local_update_steps': 1})}), 'client_15': CfgNode({'model': CfgNode({'out_channels': 1, 'task': 'graphRegression'}), 'criterion': CfgNode({'type': 'MSELoss'}), 'train': CfgNode({'optimizer': CfgNode({'lr': 0.1}), 'local_update_steps': 1})}), 'client_16': CfgNode({'model': CfgNode({'out_channels': 19, 'task': 'graphRegression'}), 'criterion': CfgNode({'type': 'MSELoss'}), 'train': CfgNode({'optimizer': CfgNode({'lr': 0.05}), 'local_update_steps': 1})})})"
     },
     "execution_count": 32,
     "metadata": {},
     "output_type": "execute_result"
    }
   ],
   "source": [
    "cfg_client"
   ],
   "metadata": {
    "collapsed": false
   }
  },
  {
   "cell_type": "code",
   "execution_count": null,
   "outputs": [],
   "source": [],
   "metadata": {
    "collapsed": false
   }
  }
 ],
 "metadata": {
  "kernelspec": {
   "display_name": "Python 3",
   "language": "python",
   "name": "python3"
  },
  "language_info": {
   "codemirror_mode": {
    "name": "ipython",
    "version": 2
   },
   "file_extension": ".py",
   "mimetype": "text/x-python",
   "name": "python",
   "nbconvert_exporter": "python",
   "pygments_lexer": "ipython2",
   "version": "2.7.6"
  }
 },
 "nbformat": 4,
 "nbformat_minor": 0
}
