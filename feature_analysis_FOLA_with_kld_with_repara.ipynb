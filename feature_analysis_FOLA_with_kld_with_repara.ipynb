{
 "cells": [
  {
   "cell_type": "code",
   "execution_count": null,
   "metadata": {
    "collapsed": true
   },
   "outputs": [],
   "source": [
    "import torch\n",
    "import numpy as np\n",
    "from glob import glob\n",
    "import os\n",
    "import matplotlib\n",
    "import pandas as pd\n",
    "\n",
    "PATH = '/home/michael/Dropbox/Master thesis/results_graph_dc_new_lr_0_5/FedFOLA/kld/with_reparam/Graph-DC_FedFOLA_NE_KLD_WITH_repara_multistep_lr_0_05_local_update_steps_1_csd_imp_10_kld_imp_0/FedFOLA_GraphDC_gin_on_fs_contest_data_lr0.05_lstep1_/features'\n",
    "\n",
    "train_test_val = 'val'\n",
    "\n",
    "save_path = '/home/michael/Dropbox/Master thesis/results_graph_dc_new_lr_0_5/FedFOLA/CSV/kld/with_reparam/feature_analysis/Graph-DC_FedFOLA_NE_KLD_WITH_repara_multistep_lr_0_05_local_update_steps_1_csd_imp_10_kld_imp_0' +'/'+ train_test_val + '/'\n",
    "if train_test_val == 'train':\n",
    "    nun_samples = 11649\n",
    "elif train_test_val == 'val':\n",
    "    nun_samples = 3883\n",
    "elif train_test_val == 'test':\n",
    "    nun_samples = 3889"
   ]
  },
  {
   "cell_type": "code",
   "execution_count": null,
   "outputs": [],
   "source": [
    "font = {'size'   : 22}\n",
    "\n",
    "matplotlib.rc('font', **font)"
   ],
   "metadata": {
    "collapsed": false
   }
  },
  {
   "cell_type": "code",
   "execution_count": null,
   "outputs": [],
   "source": [
    "#interm_trains = {1:[], 2:[],3:[], 4:[],5:[], 6:[],7:[], 8:[],9:[], 10:[],11:[], 12:[],13:[]}\n",
    "mu_trains = {1:[], 2:[],3:[], 4:[],5:[], 6:[],7:[], 8:[],9:[], 10:[],11:[], 12:[],13:[]}\n",
    "logvar_trains = {1:[], 2:[],3:[], 4:[],5:[], 6:[],7:[], 8:[],9:[], 10:[],11:[], 12:[],\n",
    "              13:[]}\n"
   ],
   "metadata": {
    "collapsed": false
   }
  },
  {
   "cell_type": "code",
   "execution_count": null,
   "outputs": [],
   "source": [
    "all_files = [file\n",
    "                 for path, subdir, files in os.walk(PATH)\n",
    "                 for file in glob(os.path.join(path, '*.pt'))]\n",
    "all_files.sort()"
   ],
   "metadata": {
    "collapsed": false
   }
  },
  {
   "cell_type": "markdown",
   "source": [],
   "metadata": {
    "collapsed": false
   }
  },
  {
   "cell_type": "code",
   "execution_count": null,
   "outputs": [],
   "source": [
    "def get_files(path):\n",
    "    for client in range(1, 13+1):\n",
    "        client_path = f\"{PATH}/client_{client}\"\n",
    "        all_files = [file\n",
    "                 for path, subdir, files in os.walk(client_path)\n",
    "                 for file in glob(os.path.join(path, '*.pt'))]\n",
    "        all_files.sort()\n",
    "        for file in all_files:\n",
    "            file_name = os.path.basename(file)\n",
    "            file_name_without_ending = file_name[:-3]\n",
    "            if file_name_without_ending.startswith('mu_' + train_test_val) and not \\\n",
    "                    file_name_without_ending.endswith('labels'):\n",
    "                mu_trains[client].append(torch.load(file).cpu().detach().numpy())\n",
    "            if file_name_without_ending.startswith('std' + train_test_val) and not\\\n",
    "                    file_name_without_ending.endswith('labels'):\n",
    "                logvar_trains[client].append(torch.load(file).cpu().detach().numpy())\n",
    "\n",
    "        #interm_trains[client] = np.concatenate(interm_trains[client])\n",
    "        mu_trains[client] = np.concatenate(mu_trains[client])\n",
    "        logvar_trains[client] = np.concatenate(logvar_trains[client])\n",
    "\n"
   ],
   "metadata": {
    "collapsed": false
   }
  },
  {
   "cell_type": "code",
   "execution_count": null,
   "outputs": [],
   "source": [
    "PATH"
   ],
   "metadata": {
    "collapsed": false
   }
  },
  {
   "cell_type": "code",
   "execution_count": null,
   "outputs": [],
   "source": [
    "get_files(PATH)"
   ],
   "metadata": {
    "collapsed": false
   }
  },
  {
   "cell_type": "code",
   "execution_count": null,
   "outputs": [],
   "source": [
    "import numpy as np\n",
    "#concat_X=global_train\n",
    "data_out_logvar = {}\n",
    "data_out_mu = {}\n",
    "\n",
    "for key in logvar_trains.keys():\n",
    "    data_out_logvar[key] = logvar_trains[key]\n",
    "    data_out_mu[key] = mu_trains[key]\n",
    "\n",
    "X_concat_logvar = []\n",
    "X_concat_mu = []\n",
    "\n",
    "for key in logvar_trains.keys():\n",
    "    X_concat_logvar.append(data_out_logvar[key])\n",
    "    X_concat_mu.append(data_out_mu[key])\n",
    "\n",
    "X_concat_logvar = np.concatenate(X_concat_logvar)\n",
    "X_concat_mu = np.concatenate(X_concat_mu)\n",
    "\n"
   ],
   "metadata": {
    "collapsed": false
   }
  },
  {
   "cell_type": "code",
   "execution_count": null,
   "outputs": [],
   "source": [
    "isExist = os.path.exists(save_path)\n",
    "if not isExist:\n",
    "    os.makedirs(save_path)"
   ],
   "metadata": {
    "collapsed": false
   }
  },
  {
   "cell_type": "code",
   "execution_count": null,
   "outputs": [],
   "source": [
    "val_mu = []\n",
    "val_std = []\n",
    "mu_trains_mean = []\n",
    "std_trains_mean = []"
   ],
   "metadata": {
    "collapsed": false
   }
  },
  {
   "cell_type": "code",
   "execution_count": null,
   "outputs": [],
   "source": [
    "for client in range(1, 13+1):\n",
    "\n",
    "\n",
    "    val_mu_curr = mu_trains[client].mean()\n",
    "    val_std_curr = np.mean(np.exp(logvar_trains[client] * 0.5))\n",
    "\n",
    "    val_mu.append(val_mu_curr)\n",
    "    val_std.append(val_std_curr)\n",
    "\n",
    "    mu_mean = np.mean(mu_trains[client], axis = 0)\n",
    "    std_mean = np.mean(np.exp(logvar_trains[client] * 0.5), axis = 0)\n",
    "\n",
    "    mu_trains_mean.append(mu_mean)\n",
    "    std_trains_mean.append(std_mean)\n"
   ],
   "metadata": {
    "collapsed": false
   }
  },
  {
   "cell_type": "code",
   "execution_count": null,
   "outputs": [],
   "source": [
    "data_map = {\n",
    "    ('mu_mean'): val_mu,\n",
    "    ('std_mean'): val_std,\n",
    "}\n",
    "df = pd.DataFrame(data=data_map)\n",
    "df.to_csv(save_path + 'statistics.csv')"
   ],
   "metadata": {
    "collapsed": false
   }
  },
  {
   "cell_type": "code",
   "execution_count": null,
   "outputs": [],
   "source": [
    "import matplotlib.pyplot as plt"
   ],
   "metadata": {
    "collapsed": false
   }
  },
  {
   "cell_type": "code",
   "execution_count": null,
   "outputs": [],
   "source": [
    "import matplotlib.pyplot as plt\n",
    "fig = plt.figure(figsize=(20, 9))\n",
    "plt.rcParams[\"figure.figsize\"] = (20, 9)\n",
    "plt.rc('xtick', labelsize=24)    # fontsize of the tick labels\n",
    "plt.rc('ytick', labelsize=24)    # fontsize of the tick labels\n",
    "plt.rc('legend', fontsize=24)\n",
    "plt.rc('font', size=24)"
   ],
   "metadata": {
    "collapsed": false
   }
  },
  {
   "cell_type": "code",
   "execution_count": null,
   "outputs": [],
   "source": [
    "x = range(1,65)"
   ],
   "metadata": {
    "collapsed": false
   }
  },
  {
   "cell_type": "code",
   "execution_count": null,
   "outputs": [],
   "source": [
    "for client in range(1, 13+1):\n",
    "    plt.plot(x, std_trains_mean[client-1], label = client)\n",
    "plt.legend(bbox_to_anchor=(1.12, 1.0))\n",
    "plt.savefig(save_path + 'std_clients')"
   ],
   "metadata": {
    "collapsed": false
   }
  },
  {
   "cell_type": "code",
   "execution_count": null,
   "outputs": [],
   "source": [
    "for client in range(1, 13+1):\n",
    "    plt.plot(x, mu_trains_mean[client-1], label = client)\n",
    "plt.legend(bbox_to_anchor=(1.12, 1.0))\n",
    "plt.savefig(save_path + 'mu_clients')"
   ],
   "metadata": {
    "collapsed": false
   }
  },
  {
   "cell_type": "code",
   "execution_count": null,
   "outputs": [],
   "source": [],
   "metadata": {
    "collapsed": false
   }
  }
 ],
 "metadata": {
  "kernelspec": {
   "display_name": "Python 3",
   "language": "python",
   "name": "python3"
  },
  "language_info": {
   "codemirror_mode": {
    "name": "ipython",
    "version": 2
   },
   "file_extension": ".py",
   "mimetype": "text/x-python",
   "name": "python",
   "nbconvert_exporter": "python",
   "pygments_lexer": "ipython2",
   "version": "2.7.6"
  }
 },
 "nbformat": 4,
 "nbformat_minor": 0
}
