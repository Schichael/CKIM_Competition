{
 "cells": [
  {
   "cell_type": "code",
   "execution_count": 2,
   "metadata": {
    "collapsed": true
   },
   "outputs": [],
   "source": [
    "import torch"
   ]
  },
  {
   "cell_type": "code",
   "execution_count": 93,
   "outputs": [],
   "source": [
    "a = torch.Tensor([[1,1], [2,2], [3,3]])\n",
    "b = torch.Tensor([[1,1], [2,2], [3,3]])"
   ],
   "metadata": {
    "collapsed": false
   }
  },
  {
   "cell_type": "code",
   "execution_count": 93,
   "outputs": [],
   "source": [],
   "metadata": {
    "collapsed": false
   }
  },
  {
   "cell_type": "code",
   "execution_count": 94,
   "outputs": [],
   "source": [
    "def forward(input1, input2):\n",
    "    batch_size = input1.size(0)\n",
    "    input1 = input1.view(batch_size, -1)\n",
    "    input2 = input2.view(batch_size, -1)\n",
    "    print(input1)\n",
    "    input1_l2_norm = torch.norm(input1, p=2, dim=1, keepdim=True).detach()\n",
    "    print(input1_l2_norm)\n",
    "    input1_l2 = input1.div(input1_l2_norm.expand_as(input1) + 1e-6)\n",
    "    print(input1_l2)\n",
    "\n",
    "    input2_l2_norm = torch.norm(input2, p=2, dim=1, keepdim=True).detach()\n",
    "    input2_l2 = input2.div(input2_l2_norm.expand_as(input2) + 1e-6)\n",
    "    print(input2_l2)\n",
    "    diff_loss = torch.mean((input1.t().mm(input2)).pow(2))\n",
    "\n",
    "    return diff_loss"
   ],
   "metadata": {
    "collapsed": false
   }
  },
  {
   "cell_type": "code",
   "execution_count": 95,
   "outputs": [
    {
     "name": "stdout",
     "output_type": "stream",
     "text": [
      "tensor([[1., 1.],\n",
      "        [2., 2.],\n",
      "        [3., 3.]])\n",
      "tensor([[1.4142],\n",
      "        [2.8284],\n",
      "        [4.2426]])\n",
      "tensor([[0.7071, 0.7071],\n",
      "        [0.7071, 0.7071],\n",
      "        [0.7071, 0.7071]])\n",
      "tensor([[0.7071, 0.7071],\n",
      "        [0.7071, 0.7071],\n",
      "        [0.7071, 0.7071]])\n"
     ]
    },
    {
     "data": {
      "text/plain": "tensor(196.)"
     },
     "execution_count": 95,
     "metadata": {},
     "output_type": "execute_result"
    }
   ],
   "source": [
    "forward(a,b)"
   ],
   "metadata": {
    "collapsed": false
   }
  },
  {
   "cell_type": "code",
   "execution_count": 65,
   "outputs": [],
   "source": [],
   "metadata": {
    "collapsed": false
   }
  },
  {
   "cell_type": "code",
   "execution_count": null,
   "outputs": [],
   "source": [],
   "metadata": {
    "collapsed": false
   }
  },
  {
   "cell_type": "code",
   "execution_count": null,
   "outputs": [],
   "source": [],
   "metadata": {
    "collapsed": false
   }
  },
  {
   "cell_type": "code",
   "execution_count": null,
   "outputs": [],
   "source": [],
   "metadata": {
    "collapsed": false
   }
  },
  {
   "cell_type": "code",
   "execution_count": null,
   "outputs": [],
   "source": [],
   "metadata": {
    "collapsed": false
   }
  },
  {
   "cell_type": "code",
   "execution_count": null,
   "outputs": [],
   "source": [],
   "metadata": {
    "collapsed": false
   }
  },
  {
   "cell_type": "code",
   "execution_count": null,
   "outputs": [],
   "source": [],
   "metadata": {
    "collapsed": false
   }
  },
  {
   "cell_type": "code",
   "execution_count": null,
   "outputs": [],
   "source": [],
   "metadata": {
    "collapsed": false
   }
  },
  {
   "cell_type": "code",
   "execution_count": null,
   "outputs": [],
   "source": [],
   "metadata": {
    "collapsed": false
   }
  },
  {
   "cell_type": "code",
   "execution_count": null,
   "outputs": [],
   "source": [],
   "metadata": {
    "collapsed": false
   }
  },
  {
   "cell_type": "code",
   "execution_count": 2,
   "outputs": [
    {
     "data": {
      "text/plain": "array([[-0.49078941, -0.2923246 ],\n       [-0.79202389, -0.48998526],\n       [ 0.31017057,  0.53817494],\n       [-1.06978377, -0.75609477],\n       [-1.82777587, -1.24171745],\n       [-2.68973676, -2.34460155],\n       [-0.39912216,  0.42128307],\n       [ 0.384915  ,  0.50746536],\n       [ 1.74402231,  1.85666967],\n       [ 0.95182507,  1.0636386 ],\n       [ 0.14752857, -0.20643161],\n       [-1.50407367, -2.19086867],\n       [ 0.87868791,  0.59247856],\n       [-0.49972743, -0.66337643],\n       [-0.41090189, -0.24924447],\n       [ 1.20084434,  1.15697343],\n       [-0.04158464, -0.14451038],\n       [ 0.62609941,  0.093792  ],\n       [ 0.66380265,  0.220834  ],\n       [ 0.37974101,  0.35507449],\n       [ 0.62579096,  0.74871706],\n       [ 2.5592614 ,  1.92038387],\n       [ 0.08961008, -0.46331465],\n       [-0.12221028, -0.73169423],\n       [ 0.08891445,  0.03529864],\n       [ 0.38612717,  0.05365423],\n       [ 0.67756775,  0.77653046],\n       [ 1.01595174,  1.20231207],\n       [-0.23252599,  0.11416961],\n       [-0.23069436, -0.32608301],\n       [ 0.06324587,  0.20396505],\n       [ 0.21699244,  0.80806239],\n       [ 0.94626938,  0.27211137],\n       [-0.23788812,  0.15850416],\n       [-0.21827032,  0.53116832],\n       [ 1.11615317,  0.82285568],\n       [-1.51784824, -1.40973401],\n       [ 0.08827091, -0.38932776],\n       [ 0.21758608, -0.15363667],\n       [-0.50064985, -1.12951189],\n       [-0.92417299, -1.24999873],\n       [ 0.57366417,  0.60364599],\n       [ 0.12560739, -0.01527338],\n       [-1.10777471, -1.34037054],\n       [-1.06504604, -0.89633932],\n       [ 0.60270294,  0.06691489],\n       [ 0.77972547,  0.83491768],\n       [ 0.5452962 ,  0.82695615],\n       [ 0.18880636,  0.30254924],\n       [ 1.6399445 ,  1.6591188 ],\n       [ 1.10048793,  1.14439982],\n       [ 0.47121468,  0.55022402],\n       [ 0.1026642 ,  0.57181613],\n       [-0.26749254,  0.11466083],\n       [ 0.8703744 , -0.01142036],\n       [-0.28939206, -0.08140249],\n       [ 0.49012517,  0.75238422],\n       [-0.20612439, -0.97711505],\n       [ 0.79190432, -0.23612871],\n       [-1.45019201, -1.47278088],\n       [ 0.89044469,  0.56131238],\n       [-0.45747441, -0.35197402],\n       [ 1.47421393,  1.05562712],\n       [ 0.13703546, -0.27075742],\n       [ 0.19920782,  0.38470786],\n       [-1.18463697, -1.45398444],\n       [-1.02980287, -0.79114672],\n       [-0.30918611,  0.04010275],\n       [-0.54012894, -0.78604324],\n       [ 0.04570041,  0.65684677],\n       [ 0.80841578,  0.231581  ],\n       [-0.95850926, -1.00147522],\n       [ 0.83922249,  0.64423344],\n       [ 0.37608871,  0.92996089],\n       [-0.32330197,  0.2166696 ],\n       [-0.11609038,  0.32119987],\n       [-0.04206904, -0.51043481],\n       [-0.26872479, -0.23346997],\n       [-2.15463812, -1.71458932],\n       [-0.81921563, -0.04368089],\n       [ 0.5635251 ,  0.63574333],\n       [-0.41368508, -1.04761717],\n       [-0.39981583, -0.15756545],\n       [-0.8909051 , -0.58909978],\n       [-0.43781183, -0.65927208],\n       [-1.34518739, -2.01137751],\n       [-1.66636056, -2.07134835],\n       [-2.34024717, -2.55686318],\n       [-0.57968278, -0.80926221],\n       [ 0.06304908,  0.06271835],\n       [-0.19968342, -0.41034569],\n       [ 2.06013237,  2.17649319],\n       [ 0.94780524,  0.8491821 ],\n       [-0.38126674, -0.06321873],\n       [ 0.3786553 ,  0.1910232 ],\n       [-0.37880906,  0.20523553],\n       [ 0.71827367,  1.16802754],\n       [-0.31652239,  0.07461832],\n       [ 0.90742592,  0.16967019],\n       [-2.29385816, -2.52839279],\n       [-1.16640544, -0.8095976 ],\n       [ 0.82304458,  0.01862559],\n       [ 0.23756808, -0.2359915 ],\n       [ 0.65301252, -0.51655586],\n       [ 0.51221363,  2.04428499],\n       [-0.55470002, -0.95392454],\n       [-0.98223675, -1.02734812],\n       [-0.99891914, -1.56883701],\n       [-0.12917007, -0.22077926],\n       [ 0.30524179, -0.38291774],\n       [-0.12988537, -0.21051532],\n       [-1.69362071, -2.2848394 ],\n       [ 0.14224102,  0.24996602],\n       [ 0.01880225,  0.25877928],\n       [-0.25924366,  0.13906791],\n       [-0.05725122,  0.16180317],\n       [ 0.13329551,  0.37947746],\n       [ 0.58758332,  1.54162661],\n       [ 1.00909775,  1.08229832],\n       [-1.72172984, -2.58482577],\n       [ 0.14974897, -0.5147794 ],\n       [ 2.00765483,  2.31623608],\n       [ 0.11571968,  0.4705653 ],\n       [-0.42486399, -0.33630564],\n       [-0.65451292, -0.80898225],\n       [-0.1094238 ,  0.06325881],\n       [-0.41312985, -0.07563836],\n       [ 0.89776403,  0.82069196],\n       [ 0.54981806,  0.02917165],\n       [-1.26476961, -1.45743028],\n       [-1.50267401, -1.85701237],\n       [ 2.33121375,  2.37432782],\n       [-0.46030708, -1.38749482],\n       [-1.75589121, -1.16035371],\n       [ 0.23754302,  0.40322254],\n       [-0.7722541 , -0.90228136],\n       [-1.1385747 , -0.82872453],\n       [ 0.38798309,  0.21124824],\n       [-0.86343238, -1.22583696],\n       [ 1.44553818,  1.39458234],\n       [ 0.14640729, -0.64795415],\n       [-2.87958248, -2.33257459],\n       [-0.40326417, -0.16075043],\n       [-1.32726106, -1.56674757],\n       [ 0.71445657,  0.89618859],\n       [-0.23307529,  0.48544045],\n       [-1.78645544, -2.3521213 ],\n       [ 1.93381989,  1.51578792],\n       [ 1.39972421,  1.11772569],\n       [ 1.21579132,  0.65922481],\n       [-0.13280462, -0.48879616],\n       [ 0.53117527,  0.4430775 ],\n       [-0.28910615, -1.03226548],\n       [ 0.54351201,  0.57673572],\n       [ 0.29308528, -0.02338789],\n       [-0.74637209, -0.89811432],\n       [ 0.08738826,  0.92977208],\n       [ 0.28499087,  0.69405388],\n       [ 0.12256624,  0.75098821],\n       [-0.13916651, -0.12811076],\n       [-0.12532275,  0.0900413 ],\n       [-0.42616925, -0.22577088],\n       [-0.91309906, -0.12212498],\n       [-1.01262071, -0.6920668 ],\n       [ 1.41714784,  0.71873707],\n       [ 0.95648719,  0.611418  ],\n       [ 0.03496206, -0.06758016],\n       [ 0.74342637,  1.15803304],\n       [-0.63550635, -0.73209178],\n       [-1.98182768, -2.08875768],\n       [ 0.30602179,  0.92002318],\n       [ 1.28835937,  0.86202545],\n       [ 0.80075212,  1.22014186],\n       [-0.18667877, -0.18449751],\n       [ 2.05135196,  1.5914951 ],\n       [-0.80141188, -0.42366519],\n       [ 0.22470713, -0.08530107],\n       [ 0.85384211,  1.25310103],\n       [ 0.06561521,  0.29133152],\n       [ 1.10969061,  1.0018148 ],\n       [ 1.05334545,  1.0719986 ],\n       [ 0.00899605, -0.16113973],\n       [-1.59987665, -1.22320216],\n       [-0.67895398, -1.0178812 ],\n       [ 0.67326201,  0.61559841],\n       [-0.1975923 ,  0.60916199],\n       [ 0.98247333,  0.4244345 ],\n       [ 0.3577385 ,  0.4294085 ],\n       [-0.65101013, -0.55666138],\n       [-0.85402721, -0.70782723],\n       [-0.26085651, -0.0774004 ],\n       [-0.8010183 , -0.79519696],\n       [ 0.068998  ,  0.73345099],\n       [-0.02241035, -0.12325894],\n       [ 0.44529701,  0.11889917],\n       [ 0.41727726,  0.69292572],\n       [ 2.09682045,  1.78208777],\n       [ 0.04686904, -0.4517897 ],\n       [ 0.55087324, -0.37784135],\n       [ 0.19511293,  0.09549611],\n       [-0.40006881, -0.00970071],\n       [ 0.57129932, -0.01209651],\n       [ 0.03818118,  0.70187824],\n       [-0.5169493 , -0.79814701],\n       [-0.14810826, -0.01897068],\n       [ 0.47870249,  0.34833147],\n       [ 1.71355428,  1.51951306],\n       [-1.01662592, -1.09684715],\n       [ 2.0780673 ,  1.8427276 ],\n       [ 0.10489238, -0.06973266],\n       [-1.75756616, -2.19326026],\n       [ 0.1962463 ,  0.06179775],\n       [ 0.11824649,  0.47808066],\n       [-0.60848389, -0.79877609],\n       [ 0.14468349,  0.50359021],\n       [ 1.02222777,  0.68330598],\n       [-0.8958473 , -1.07579708],\n       [ 0.20875318, -0.52565947],\n       [ 0.82437041,  0.62497337],\n       [-0.66969123, -0.92561206],\n       [ 0.08334546, -0.38183785],\n       [ 0.24582805,  0.33171961],\n       [ 0.25550465, -0.32203808],\n       [ 0.5355687 , -0.1194211 ],\n       [-0.12166671, -0.61580374],\n       [-0.35209893, -0.24928968],\n       [ 0.34984308,  0.62182581],\n       [ 1.13002099,  0.55042632],\n       [-1.26049834, -1.0271715 ],\n       [ 0.23152093, -0.01853382],\n       [-0.22780973,  0.15990855],\n       [ 0.785923  ,  0.65387583],\n       [-0.9152991 , -0.24294554],\n       [ 0.64178755,  0.5749728 ],\n       [-2.03944399, -2.30201354],\n       [ 0.71537446,  0.90030989],\n       [ 0.25353672,  0.64785042],\n       [-0.14485769, -0.02759853],\n       [ 2.03210511,  1.84177071],\n       [ 0.29799799,  0.14992778],\n       [-0.62893402,  0.11459423],\n       [-0.21239286,  0.52472515],\n       [ 0.7372885 ,  0.99278521],\n       [ 0.13137164,  0.01866944],\n       [ 1.43694514,  0.59696118],\n       [ 0.24289958, -0.25093726],\n       [-0.70810387, -0.63774215],\n       [-1.36116476, -1.27918027],\n       [-1.37323528, -0.36598497],\n       [-0.18251818, -1.27230068],\n       [-0.60456795,  0.106262  ],\n       [-1.06586267, -1.27651031],\n       [-0.20866063,  0.37548457],\n       [-1.31318984, -1.59838174],\n       [ 0.95251242,  0.32694851],\n       [-1.21005966, -1.4189589 ],\n       [-0.71793467, -0.03068882],\n       [-1.27758309, -0.35665745],\n       [ 0.04601283, -0.2673606 ],\n       [ 0.30005909,  1.2804624 ],\n       [ 0.3215974 ,  0.40173202],\n       [ 0.07229881, -0.20051689],\n       [ 1.30753471,  0.95944384],\n       [-0.57805495, -1.31939732],\n       [ 0.14714383,  0.49430545],\n       [-0.94852102, -0.91244991],\n       [-0.56842411, -0.5147405 ],\n       [-1.983081  , -1.1922961 ],\n       [ 2.05823389,  1.35405777],\n       [ 0.63499456,  0.98675826],\n       [-0.92739798, -0.78030173],\n       [-1.57435751, -1.74293284],\n       [-1.20830316, -1.53262181],\n       [ 0.47961971,  0.54082815],\n       [-1.52468189, -1.28259498],\n       [ 1.70352021,  1.00655369],\n       [-0.95831447, -1.1310859 ],\n       [ 0.28871908,  1.15370906],\n       [-0.65183966, -0.69976488],\n       [-0.79177043, -1.59271377],\n       [-0.108095  , -0.18199159],\n       [ 0.27333827,  0.58982718],\n       [-0.04556394, -0.04359943],\n       [ 2.21576289,  1.33630172],\n       [ 1.52727024,  0.88942459],\n       [ 0.26488265, -0.04547555],\n       [ 0.58925804, -0.17740134],\n       [ 0.41658636,  0.28135303],\n       [-1.17037515, -1.21558472],\n       [ 2.42407242,  1.66767161],\n       [ 0.1241729 , -0.28091944],\n       [-0.97273849, -0.53958054],\n       [ 1.11373391,  0.63352696],\n       [-1.86798985, -1.41631855],\n       [-1.4738811 , -2.10757093],\n       [-1.46778315, -1.46833276],\n       [ 1.32796522,  1.17579578],\n       [-0.16405163, -0.34956834],\n       [ 0.09497103,  0.04582494],\n       [-0.98217203, -1.33458109]])"
     },
     "execution_count": 2,
     "metadata": {},
     "output_type": "execute_result"
    }
   ],
   "source": [
    "rho_data"
   ],
   "metadata": {
    "collapsed": false
   }
  },
  {
   "cell_type": "code",
   "execution_count": 3,
   "outputs": [],
   "source": [
    "import torch"
   ],
   "metadata": {
    "collapsed": false
   }
  },
  {
   "cell_type": "code",
   "execution_count": 4,
   "outputs": [],
   "source": [
    "a = torch.normal(0,3, size=(64,512))"
   ],
   "metadata": {
    "collapsed": false
   }
  },
  {
   "cell_type": "code",
   "execution_count": 5,
   "outputs": [
    {
     "data": {
      "text/plain": "tensor([[-0.0906, -6.2236, -2.2263,  ..., -0.6967,  0.1048,  0.9349],\n        [-1.4139, -2.9358,  1.1636,  ..., -3.9133, -1.6324,  0.8730],\n        [-3.0204,  2.9446, -4.8308,  ..., -4.2680, -0.1978,  0.2965],\n        ...,\n        [ 3.5705, -0.9740, -3.8369,  ..., -0.5043,  0.4298,  2.5196],\n        [-1.4540, -0.3725, -2.7886,  ..., -0.0189,  2.8597, -1.9920],\n        [ 2.1273, -0.5393, -3.7211,  ...,  1.9747, -3.0517, -2.3277]])"
     },
     "execution_count": 5,
     "metadata": {},
     "output_type": "execute_result"
    }
   ],
   "source": [
    "a"
   ],
   "metadata": {
    "collapsed": false
   }
  },
  {
   "cell_type": "code",
   "execution_count": 6,
   "outputs": [],
   "source": [
    "x = np.random.multivariate_normal( mean=[0,0],\n",
    "                                  cov=[[1,0.8],[0.8,1]],\n",
    "                                 size = (64,1))"
   ],
   "metadata": {
    "collapsed": false
   }
  },
  {
   "cell_type": "code",
   "execution_count": 7,
   "outputs": [],
   "source": [
    "x_1 = x[:,:,0:1]"
   ],
   "metadata": {
    "collapsed": false
   }
  },
  {
   "cell_type": "code",
   "execution_count": 8,
   "outputs": [
    {
     "data": {
      "text/plain": "array([[[ 0.67046532]],\n\n       [[ 0.34616545]],\n\n       [[ 0.38991884]],\n\n       [[-1.77612658]],\n\n       [[-0.14414848]],\n\n       [[-1.20774585]],\n\n       [[ 1.29355016]],\n\n       [[-0.8635706 ]],\n\n       [[ 1.37558559]],\n\n       [[ 0.2731224 ]],\n\n       [[ 0.07749822]],\n\n       [[ 1.88390253]],\n\n       [[ 1.73452898]],\n\n       [[ 0.38846777]],\n\n       [[ 0.50475763]],\n\n       [[-1.67825078]],\n\n       [[-0.30424783]],\n\n       [[-0.45457923]],\n\n       [[-0.97042346]],\n\n       [[-0.25988772]],\n\n       [[-0.47592474]],\n\n       [[-0.11772016]],\n\n       [[ 0.41248567]],\n\n       [[ 1.41618271]],\n\n       [[-1.44528921]],\n\n       [[ 1.16208921]],\n\n       [[ 0.92868338]],\n\n       [[ 0.71562145]],\n\n       [[-0.62674905]],\n\n       [[ 0.879626  ]],\n\n       [[-1.5552406 ]],\n\n       [[ 0.0338778 ]],\n\n       [[ 1.29077357]],\n\n       [[-1.09242223]],\n\n       [[ 1.57843911]],\n\n       [[-0.7437657 ]],\n\n       [[ 0.4314983 ]],\n\n       [[-0.13520804]],\n\n       [[ 1.14522257]],\n\n       [[-0.49581753]],\n\n       [[ 0.76655295]],\n\n       [[-1.03917923]],\n\n       [[-0.35528971]],\n\n       [[ 0.82076066]],\n\n       [[ 0.53479251]],\n\n       [[ 2.37514959]],\n\n       [[ 1.43957785]],\n\n       [[-0.27634674]],\n\n       [[ 0.17910994]],\n\n       [[ 0.13702349]],\n\n       [[-0.64195636]],\n\n       [[-1.49549789]],\n\n       [[ 1.03235584]],\n\n       [[ 0.28920216]],\n\n       [[ 2.40423196]],\n\n       [[ 0.04538579]],\n\n       [[-0.29764678]],\n\n       [[-1.64487989]],\n\n       [[ 0.41699798]],\n\n       [[-0.11271532]],\n\n       [[ 0.98879234]],\n\n       [[-1.47905766]],\n\n       [[-0.63063538]],\n\n       [[-0.43475119]]])"
     },
     "execution_count": 8,
     "metadata": {},
     "output_type": "execute_result"
    }
   ],
   "source": [
    "x_1"
   ],
   "metadata": {
    "collapsed": false
   }
  },
  {
   "cell_type": "code",
   "execution_count": 9,
   "outputs": [],
   "source": [
    "x_2 = x[:,:,1]"
   ],
   "metadata": {
    "collapsed": false
   }
  },
  {
   "cell_type": "code",
   "execution_count": 10,
   "outputs": [
    {
     "data": {
      "text/plain": "[<matplotlib.lines.Line2D at 0x7f3355999160>,\n <matplotlib.lines.Line2D at 0x7f33559991c0>]"
     },
     "execution_count": 10,
     "metadata": {},
     "output_type": "execute_result"
    },
    {
     "data": {
      "text/plain": "<Figure size 640x480 with 1 Axes>",
      "image/png": "[encoded data removed]"
     },
     "metadata": {},
     "output_type": "display_data"
    }
   ],
   "source": [
    "import matplotlib.pyplot as plt\n",
    "plt.plot(x[1,:,:])\n",
    "#plt.plot(x_2[0,:])"
   ],
   "metadata": {
    "collapsed": false
   }
  },
  {
   "cell_type": "code",
   "execution_count": 11,
   "outputs": [
    {
     "data": {
      "text/plain": "array([[ 0.34616545, -0.04239312]])"
     },
     "execution_count": 11,
     "metadata": {},
     "output_type": "execute_result"
    }
   ],
   "source": [
    "x[1,:,:]"
   ],
   "metadata": {
    "collapsed": false
   }
  },
  {
   "cell_type": "code",
   "execution_count": 12,
   "outputs": [
    {
     "data": {
      "text/plain": "array([[ 0.34616545, -0.04239312]])"
     },
     "execution_count": 12,
     "metadata": {},
     "output_type": "execute_result"
    }
   ],
   "source": [
    "x[1,:,:]"
   ],
   "metadata": {
    "collapsed": false
   }
  },
  {
   "cell_type": "code",
   "execution_count": 13,
   "outputs": [
    {
     "data": {
      "text/plain": "array([ 0.34616545, -0.04239312])"
     },
     "execution_count": 13,
     "metadata": {},
     "output_type": "execute_result"
    }
   ],
   "source": [
    "x[1,:,:][0]"
   ],
   "metadata": {
    "collapsed": false
   }
  },
  {
   "cell_type": "code",
   "execution_count": 14,
   "outputs": [
    {
     "data": {
      "text/plain": "(64, 1, 1)"
     },
     "execution_count": 14,
     "metadata": {},
     "output_type": "execute_result"
    }
   ],
   "source": [
    "x_1.shape"
   ],
   "metadata": {
    "collapsed": false
   }
  },
  {
   "cell_type": "code",
   "execution_count": 1,
   "outputs": [
    {
     "data": {
      "text/plain": "0.8303656034108255"
     },
     "execution_count": 1,
     "metadata": {},
     "output_type": "execute_result"
    }
   ],
   "source": [
    "import numpy as np\n",
    "cov_matrix = np.array([[1,0.9], [0.9,1]])\n",
    "-0.5 * np.log(np.linalg.det(cov_matrix))"
   ],
   "metadata": {
    "collapsed": false
   }
  },
  {
   "cell_type": "code",
   "execution_count": null,
   "outputs": [],
   "source": [],
   "metadata": {
    "collapsed": false
   }
  }
 ],
 "metadata": {
  "kernelspec": {
   "display_name": "Python 3",
   "language": "python",
   "name": "python3"
  },
  "language_info": {
   "codemirror_mode": {
    "name": "ipython",
    "version": 2
   },
   "file_extension": ".py",
   "mimetype": "text/x-python",
   "name": "python",
   "nbconvert_exporter": "python",
   "pygments_lexer": "ipython2",
   "version": "2.7.6"
  }
 },
 "nbformat": 4,
 "nbformat_minor": 0
}
