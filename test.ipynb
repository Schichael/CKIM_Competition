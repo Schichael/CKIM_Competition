{
 "cells": [
  {
   "cell_type": "code",
   "execution_count": 2,
   "metadata": {
    "collapsed": true
   },
   "outputs": [],
   "source": [
    "import torch"
   ]
  },
  {
   "cell_type": "code",
   "execution_count": 93,
   "outputs": [],
   "source": [
    "a = torch.Tensor([[1,1], [2,2], [3,3]])\n",
    "b = torch.Tensor([[1,1], [2,2], [3,3]])"
   ],
   "metadata": {
    "collapsed": false
   }
  },
  {
   "cell_type": "code",
   "execution_count": 93,
   "outputs": [],
   "source": [],
   "metadata": {
    "collapsed": false
   }
  },
  {
   "cell_type": "code",
   "execution_count": 94,
   "outputs": [],
   "source": [
    "def forward(input1, input2):\n",
    "    batch_size = input1.size(0)\n",
    "    input1 = input1.view(batch_size, -1)\n",
    "    input2 = input2.view(batch_size, -1)\n",
    "    print(input1)\n",
    "    input1_l2_norm = torch.norm(input1, p=2, dim=1, keepdim=True).detach()\n",
    "    print(input1_l2_norm)\n",
    "    input1_l2 = input1.div(input1_l2_norm.expand_as(input1) + 1e-6)\n",
    "    print(input1_l2)\n",
    "\n",
    "    input2_l2_norm = torch.norm(input2, p=2, dim=1, keepdim=True).detach()\n",
    "    input2_l2 = input2.div(input2_l2_norm.expand_as(input2) + 1e-6)\n",
    "    print(input2_l2)\n",
    "    diff_loss = torch.mean((input1.t().mm(input2)).pow(2))\n",
    "\n",
    "    return diff_loss"
   ],
   "metadata": {
    "collapsed": false
   }
  },
  {
   "cell_type": "code",
   "execution_count": 95,
   "outputs": [
    {
     "name": "stdout",
     "output_type": "stream",
     "text": [
      "tensor([[1., 1.],\n",
      "        [2., 2.],\n",
      "        [3., 3.]])\n",
      "tensor([[1.4142],\n",
      "        [2.8284],\n",
      "        [4.2426]])\n",
      "tensor([[0.7071, 0.7071],\n",
      "        [0.7071, 0.7071],\n",
      "        [0.7071, 0.7071]])\n",
      "tensor([[0.7071, 0.7071],\n",
      "        [0.7071, 0.7071],\n",
      "        [0.7071, 0.7071]])\n"
     ]
    },
    {
     "data": {
      "text/plain": "tensor(196.)"
     },
     "execution_count": 95,
     "metadata": {},
     "output_type": "execute_result"
    }
   ],
   "source": [
    "forward(a,b)"
   ],
   "metadata": {
    "collapsed": false
   }
  },
  {
   "cell_type": "code",
   "execution_count": 65,
   "outputs": [],
   "source": [],
   "metadata": {
    "collapsed": false
   }
  },
  {
   "cell_type": "code",
   "execution_count": null,
   "outputs": [],
   "source": [],
   "metadata": {
    "collapsed": false
   }
  },
  {
   "cell_type": "code",
   "execution_count": null,
   "outputs": [],
   "source": [],
   "metadata": {
    "collapsed": false
   }
  },
  {
   "cell_type": "code",
   "execution_count": null,
   "outputs": [],
   "source": [],
   "metadata": {
    "collapsed": false
   }
  },
  {
   "cell_type": "code",
   "execution_count": null,
   "outputs": [],
   "source": [],
   "metadata": {
    "collapsed": false
   }
  },
  {
   "cell_type": "code",
   "execution_count": null,
   "outputs": [],
   "source": [],
   "metadata": {
    "collapsed": false
   }
  },
  {
   "cell_type": "code",
   "execution_count": null,
   "outputs": [],
   "source": [],
   "metadata": {
    "collapsed": false
   }
  },
  {
   "cell_type": "code",
   "execution_count": null,
   "outputs": [],
   "source": [],
   "metadata": {
    "collapsed": false
   }
  },
  {
   "cell_type": "code",
   "execution_count": null,
   "outputs": [],
   "source": [],
   "metadata": {
    "collapsed": false
   }
  },
  {
   "cell_type": "code",
   "execution_count": null,
   "outputs": [],
   "source": [],
   "metadata": {
    "collapsed": false
   }
  },
  {
   "cell_type": "code",
   "execution_count": 2,
   "outputs": [
    {
     "data": {
      "text/plain": "array([[-0.49078941, -0.2923246 ],\n       [-0.79202389, -0.48998526],\n       [ 0.31017057,  0.53817494],\n       [-1.06978377, -0.75609477],\n       [-1.82777587, -1.24171745],\n       [-2.68973676, -2.34460155],\n       [-0.39912216,  0.42128307],\n       [ 0.384915  ,  0.50746536],\n       [ 1.74402231,  1.85666967],\n       [ 0.95182507,  1.0636386 ],\n       [ 0.14752857, -0.20643161],\n       [-1.50407367, -2.19086867],\n       [ 0.87868791,  0.59247856],\n       [-0.49972743, -0.66337643],\n       [-0.41090189, -0.24924447],\n       [ 1.20084434,  1.15697343],\n       [-0.04158464, -0.14451038],\n       [ 0.62609941,  0.093792  ],\n       [ 0.66380265,  0.220834  ],\n       [ 0.37974101,  0.35507449],\n       [ 0.62579096,  0.74871706],\n       [ 2.5592614 ,  1.92038387],\n       [ 0.08961008, -0.46331465],\n       [-0.12221028, -0.73169423],\n       [ 0.08891445,  0.03529864],\n       [ 0.38612717,  0.05365423],\n       [ 0.67756775,  0.77653046],\n       [ 1.01595174,  1.20231207],\n       [-0.23252599,  0.11416961],\n       [-0.23069436, -0.32608301],\n       [ 0.06324587,  0.20396505],\n       [ 0.21699244,  0.80806239],\n       [ 0.94626938,  0.27211137],\n       [-0.23788812,  0.15850416],\n       [-0.21827032,  0.53116832],\n       [ 1.11615317,  0.82285568],\n       [-1.51784824, -1.40973401],\n       [ 0.08827091, -0.38932776],\n       [ 0.21758608, -0.15363667],\n       [-0.50064985, -1.12951189],\n       [-0.92417299, -1.24999873],\n       [ 0.57366417,  0.60364599],\n       [ 0.12560739, -0.01527338],\n       [-1.10777471, -1.34037054],\n       [-1.06504604, -0.89633932],\n       [ 0.60270294,  0.06691489],\n       [ 0.77972547,  0.83491768],\n       [ 0.5452962 ,  0.82695615],\n       [ 0.18880636,  0.30254924],\n       [ 1.6399445 ,  1.6591188 ],\n       [ 1.10048793,  1.14439982],\n       [ 0.47121468,  0.55022402],\n       [ 0.1026642 ,  0.57181613],\n       [-0.26749254,  0.11466083],\n       [ 0.8703744 , -0.01142036],\n       [-0.28939206, -0.08140249],\n       [ 0.49012517,  0.75238422],\n       [-0.20612439, -0.97711505],\n       [ 0.79190432, -0.23612871],\n       [-1.45019201, -1.47278088],\n       [ 0.89044469,  0.56131238],\n       [-0.45747441, -0.35197402],\n       [ 1.47421393,  1.05562712],\n       [ 0.13703546, -0.27075742],\n       [ 0.19920782,  0.38470786],\n       [-1.18463697, -1.45398444],\n       [-1.02980287, -0.79114672],\n       [-0.30918611,  0.04010275],\n       [-0.54012894, -0.78604324],\n       [ 0.04570041,  0.65684677],\n       [ 0.80841578,  0.231581  ],\n       [-0.95850926, -1.00147522],\n       [ 0.83922249,  0.64423344],\n       [ 0.37608871,  0.92996089],\n       [-0.32330197,  0.2166696 ],\n       [-0.11609038,  0.32119987],\n       [-0.04206904, -0.51043481],\n       [-0.26872479, -0.23346997],\n       [-2.15463812, -1.71458932],\n       [-0.81921563, -0.04368089],\n       [ 0.5635251 ,  0.63574333],\n       [-0.41368508, -1.04761717],\n       [-0.39981583, -0.15756545],\n       [-0.8909051 , -0.58909978],\n       [-0.43781183, -0.65927208],\n       [-1.34518739, -2.01137751],\n       [-1.66636056, -2.07134835],\n       [-2.34024717, -2.55686318],\n       [-0.57968278, -0.80926221],\n       [ 0.06304908,  0.06271835],\n       [-0.19968342, -0.41034569],\n       [ 2.06013237,  2.17649319],\n       [ 0.94780524,  0.8491821 ],\n       [-0.38126674, -0.06321873],\n       [ 0.3786553 ,  0.1910232 ],\n       [-0.37880906,  0.20523553],\n       [ 0.71827367,  1.16802754],\n       [-0.31652239,  0.07461832],\n       [ 0.90742592,  0.16967019],\n       [-2.29385816, -2.52839279],\n       [-1.16640544, -0.8095976 ],\n       [ 0.82304458,  0.01862559],\n       [ 0.23756808, -0.2359915 ],\n       [ 0.65301252, -0.51655586],\n       [ 0.51221363,  2.04428499],\n       [-0.55470002, -0.95392454],\n       [-0.98223675, -1.02734812],\n       [-0.99891914, -1.56883701],\n       [-0.12917007, -0.22077926],\n       [ 0.30524179, -0.38291774],\n       [-0.12988537, -0.21051532],\n       [-1.69362071, -2.2848394 ],\n       [ 0.14224102,  0.24996602],\n       [ 0.01880225,  0.25877928],\n       [-0.25924366,  0.13906791],\n       [-0.05725122,  0.16180317],\n       [ 0.13329551,  0.37947746],\n       [ 0.58758332,  1.54162661],\n       [ 1.00909775,  1.08229832],\n       [-1.72172984, -2.58482577],\n       [ 0.14974897, -0.5147794 ],\n       [ 2.00765483,  2.31623608],\n       [ 0.11571968,  0.4705653 ],\n       [-0.42486399, -0.33630564],\n       [-0.65451292, -0.80898225],\n       [-0.1094238 ,  0.06325881],\n       [-0.41312985, -0.07563836],\n       [ 0.89776403,  0.82069196],\n       [ 0.54981806,  0.02917165],\n       [-1.26476961, -1.45743028],\n       [-1.50267401, -1.85701237],\n       [ 2.33121375,  2.37432782],\n       [-0.46030708, -1.38749482],\n       [-1.75589121, -1.16035371],\n       [ 0.23754302,  0.40322254],\n       [-0.7722541 , -0.90228136],\n       [-1.1385747 , -0.82872453],\n       [ 0.38798309,  0.21124824],\n       [-0.86343238, -1.22583696],\n       [ 1.44553818,  1.39458234],\n       [ 0.14640729, -0.64795415],\n       [-2.87958248, -2.33257459],\n       [-0.40326417, -0.16075043],\n       [-1.32726106, -1.56674757],\n       [ 0.71445657,  0.89618859],\n       [-0.23307529,  0.48544045],\n       [-1.78645544, -2.3521213 ],\n       [ 1.93381989,  1.51578792],\n       [ 1.39972421,  1.11772569],\n       [ 1.21579132,  0.65922481],\n       [-0.13280462, -0.48879616],\n       [ 0.53117527,  0.4430775 ],\n       [-0.28910615, -1.03226548],\n       [ 0.54351201,  0.57673572],\n       [ 0.29308528, -0.02338789],\n       [-0.74637209, -0.89811432],\n       [ 0.08738826,  0.92977208],\n       [ 0.28499087,  0.69405388],\n       [ 0.12256624,  0.75098821],\n       [-0.13916651, -0.12811076],\n       [-0.12532275,  0.0900413 ],\n       [-0.42616925, -0.22577088],\n       [-0.91309906, -0.12212498],\n       [-1.01262071, -0.6920668 ],\n       [ 1.41714784,  0.71873707],\n       [ 0.95648719,  0.611418  ],\n       [ 0.03496206, -0.06758016],\n       [ 0.74342637,  1.15803304],\n       [-0.63550635, -0.73209178],\n       [-1.98182768, -2.08875768],\n       [ 0.30602179,  0.92002318],\n       [ 1.28835937,  0.86202545],\n       [ 0.80075212,  1.22014186],\n       [-0.18667877, -0.18449751],\n       [ 2.05135196,  1.5914951 ],\n       [-0.80141188, -0.42366519],\n       [ 0.22470713, -0.08530107],\n       [ 0.85384211,  1.25310103],\n       [ 0.06561521,  0.29133152],\n       [ 1.10969061,  1.0018148 ],\n       [ 1.05334545,  1.0719986 ],\n       [ 0.00899605, -0.16113973],\n       [-1.59987665, -1.22320216],\n       [-0.67895398, -1.0178812 ],\n       [ 0.67326201,  0.61559841],\n       [-0.1975923 ,  0.60916199],\n       [ 0.98247333,  0.4244345 ],\n       [ 0.3577385 ,  0.4294085 ],\n       [-0.65101013, -0.55666138],\n       [-0.85402721, -0.70782723],\n       [-0.26085651, -0.0774004 ],\n       [-0.8010183 , -0.79519696],\n       [ 0.068998  ,  0.73345099],\n       [-0.02241035, -0.12325894],\n       [ 0.44529701,  0.11889917],\n       [ 0.41727726,  0.69292572],\n       [ 2.09682045,  1.78208777],\n       [ 0.04686904, -0.4517897 ],\n       [ 0.55087324, -0.37784135],\n       [ 0.19511293,  0.09549611],\n       [-0.40006881, -0.00970071],\n       [ 0.57129932, -0.01209651],\n       [ 0.03818118,  0.70187824],\n       [-0.5169493 , -0.79814701],\n       [-0.14810826, -0.01897068],\n       [ 0.47870249,  0.34833147],\n       [ 1.71355428,  1.51951306],\n       [-1.01662592, -1.09684715],\n       [ 2.0780673 ,  1.8427276 ],\n       [ 0.10489238, -0.06973266],\n       [-1.75756616, -2.19326026],\n       [ 0.1962463 ,  0.06179775],\n       [ 0.11824649,  0.47808066],\n       [-0.60848389, -0.79877609],\n       [ 0.14468349,  0.50359021],\n       [ 1.02222777,  0.68330598],\n       [-0.8958473 , -1.07579708],\n       [ 0.20875318, -0.52565947],\n       [ 0.82437041,  0.62497337],\n       [-0.66969123, -0.92561206],\n       [ 0.08334546, -0.38183785],\n       [ 0.24582805,  0.33171961],\n       [ 0.25550465, -0.32203808],\n       [ 0.5355687 , -0.1194211 ],\n       [-0.12166671, -0.61580374],\n       [-0.35209893, -0.24928968],\n       [ 0.34984308,  0.62182581],\n       [ 1.13002099,  0.55042632],\n       [-1.26049834, -1.0271715 ],\n       [ 0.23152093, -0.01853382],\n       [-0.22780973,  0.15990855],\n       [ 0.785923  ,  0.65387583],\n       [-0.9152991 , -0.24294554],\n       [ 0.64178755,  0.5749728 ],\n       [-2.03944399, -2.30201354],\n       [ 0.71537446,  0.90030989],\n       [ 0.25353672,  0.64785042],\n       [-0.14485769, -0.02759853],\n       [ 2.03210511,  1.84177071],\n       [ 0.29799799,  0.14992778],\n       [-0.62893402,  0.11459423],\n       [-0.21239286,  0.52472515],\n       [ 0.7372885 ,  0.99278521],\n       [ 0.13137164,  0.01866944],\n       [ 1.43694514,  0.59696118],\n       [ 0.24289958, -0.25093726],\n       [-0.70810387, -0.63774215],\n       [-1.36116476, -1.27918027],\n       [-1.37323528, -0.36598497],\n       [-0.18251818, -1.27230068],\n       [-0.60456795,  0.106262  ],\n       [-1.06586267, -1.27651031],\n       [-0.20866063,  0.37548457],\n       [-1.31318984, -1.59838174],\n       [ 0.95251242,  0.32694851],\n       [-1.21005966, -1.4189589 ],\n       [-0.71793467, -0.03068882],\n       [-1.27758309, -0.35665745],\n       [ 0.04601283, -0.2673606 ],\n       [ 0.30005909,  1.2804624 ],\n       [ 0.3215974 ,  0.40173202],\n       [ 0.07229881, -0.20051689],\n       [ 1.30753471,  0.95944384],\n       [-0.57805495, -1.31939732],\n       [ 0.14714383,  0.49430545],\n       [-0.94852102, -0.91244991],\n       [-0.56842411, -0.5147405 ],\n       [-1.983081  , -1.1922961 ],\n       [ 2.05823389,  1.35405777],\n       [ 0.63499456,  0.98675826],\n       [-0.92739798, -0.78030173],\n       [-1.57435751, -1.74293284],\n       [-1.20830316, -1.53262181],\n       [ 0.47961971,  0.54082815],\n       [-1.52468189, -1.28259498],\n       [ 1.70352021,  1.00655369],\n       [-0.95831447, -1.1310859 ],\n       [ 0.28871908,  1.15370906],\n       [-0.65183966, -0.69976488],\n       [-0.79177043, -1.59271377],\n       [-0.108095  , -0.18199159],\n       [ 0.27333827,  0.58982718],\n       [-0.04556394, -0.04359943],\n       [ 2.21576289,  1.33630172],\n       [ 1.52727024,  0.88942459],\n       [ 0.26488265, -0.04547555],\n       [ 0.58925804, -0.17740134],\n       [ 0.41658636,  0.28135303],\n       [-1.17037515, -1.21558472],\n       [ 2.42407242,  1.66767161],\n       [ 0.1241729 , -0.28091944],\n       [-0.97273849, -0.53958054],\n       [ 1.11373391,  0.63352696],\n       [-1.86798985, -1.41631855],\n       [-1.4738811 , -2.10757093],\n       [-1.46778315, -1.46833276],\n       [ 1.32796522,  1.17579578],\n       [-0.16405163, -0.34956834],\n       [ 0.09497103,  0.04582494],\n       [-0.98217203, -1.33458109]])"
     },
     "execution_count": 2,
     "metadata": {},
     "output_type": "execute_result"
    }
   ],
   "source": [
    "rho_data"
   ],
   "metadata": {
    "collapsed": false
   }
  },
  {
   "cell_type": "code",
   "execution_count": 3,
   "outputs": [],
   "source": [
    "import torch"
   ],
   "metadata": {
    "collapsed": false
   }
  },
  {
   "cell_type": "code",
   "execution_count": 4,
   "outputs": [],
   "source": [
    "a = torch.normal(0,3, size=(64,512))"
   ],
   "metadata": {
    "collapsed": false
   }
  },
  {
   "cell_type": "code",
   "execution_count": 5,
   "outputs": [
    {
     "data": {
      "text/plain": "tensor([[-0.0906, -6.2236, -2.2263,  ..., -0.6967,  0.1048,  0.9349],\n        [-1.4139, -2.9358,  1.1636,  ..., -3.9133, -1.6324,  0.8730],\n        [-3.0204,  2.9446, -4.8308,  ..., -4.2680, -0.1978,  0.2965],\n        ...,\n        [ 3.5705, -0.9740, -3.8369,  ..., -0.5043,  0.4298,  2.5196],\n        [-1.4540, -0.3725, -2.7886,  ..., -0.0189,  2.8597, -1.9920],\n        [ 2.1273, -0.5393, -3.7211,  ...,  1.9747, -3.0517, -2.3277]])"
     },
     "execution_count": 5,
     "metadata": {},
     "output_type": "execute_result"
    }
   ],
   "source": [
    "a"
   ],
   "metadata": {
    "collapsed": false
   }
  },
  {
   "cell_type": "code",
   "execution_count": 11,
   "outputs": [
    {
     "data": {
      "text/plain": "array([[[ 0.11447721,  0.44359983],\n        [-0.29927912,  0.04104213],\n        [-1.61891251, -1.36501977],\n        ...,\n        [-0.12613843, -0.61575219],\n        [-0.74511717, -0.53297471],\n        [ 0.48811852, -0.81426543]],\n\n       [[ 0.95002084,  0.46124978],\n        [-0.5303964 , -1.720745  ],\n        [-2.03488843, -0.67471703],\n        ...,\n        [-1.96543482, -1.137616  ],\n        [ 1.38863393,  1.3783188 ],\n        [ 0.49088648, -0.38710023]],\n\n       [[-1.20743737, -0.94668818],\n        [ 0.97301899,  0.76546677],\n        [-0.04638374,  0.1719172 ],\n        ...,\n        [ 1.55912672,  1.16696385],\n        [-2.17034526, -1.3642363 ],\n        [-0.52074085,  0.45560409]],\n\n       ...,\n\n       [[-0.31948149,  0.48284343],\n        [ 0.63294717,  0.52253128],\n        [ 0.15670795,  0.2858439 ],\n        ...,\n        [ 0.17541391, -0.09554413],\n        [-0.19648636,  0.07927534],\n        [ 0.19548711, -0.70046788]],\n\n       [[ 0.48745854,  0.2546059 ],\n        [-0.12129129, -0.83747627],\n        [ 0.53617254, -0.32342095],\n        ...,\n        [ 0.13674707,  0.02346002],\n        [ 0.00962317,  0.87872056],\n        [-0.43913855, -0.75409725]],\n\n       [[-1.18300057, -0.86018549],\n        [-1.26961039, -0.28625689],\n        [-0.32043574, -0.85197623],\n        ...,\n        [ 0.32518492, -0.13338134],\n        [-0.49407758, -0.12745798],\n        [ 0.60377068,  0.3585217 ]]])"
     },
     "execution_count": 11,
     "metadata": {},
     "output_type": "execute_result"
    }
   ],
   "source": [
    "x=np.random.multivariate_normal( mean=[0,0],\n",
    "                                  cov=[[1,0.8],[0.8,1]],\n",
    "                                 size = (64,64))\n",
    "x"
   ],
   "metadata": {
    "collapsed": false
   }
  },
  {
   "cell_type": "code",
   "execution_count": 12,
   "outputs": [
    {
     "data": {
      "text/plain": "(64, 64, 2)"
     },
     "execution_count": 12,
     "metadata": {},
     "output_type": "execute_result"
    }
   ],
   "source": [
    "x.shape"
   ],
   "metadata": {
    "collapsed": false
   }
  },
  {
   "cell_type": "code",
   "execution_count": 7,
   "outputs": [],
   "source": [
    "x_1 = x[:,:,0:1]"
   ],
   "metadata": {
    "collapsed": false
   }
  },
  {
   "cell_type": "code",
   "execution_count": 10,
   "outputs": [
    {
     "data": {
      "text/plain": "(64, 1, 1)"
     },
     "execution_count": 10,
     "metadata": {},
     "output_type": "execute_result"
    }
   ],
   "source": [
    "x_1.shape"
   ],
   "metadata": {
    "collapsed": false
   }
  },
  {
   "cell_type": "code",
   "execution_count": 9,
   "outputs": [],
   "source": [
    "x_2 = x[:,:,1]"
   ],
   "metadata": {
    "collapsed": false
   }
  },
  {
   "cell_type": "code",
   "execution_count": 10,
   "outputs": [
    {
     "data": {
      "text/plain": "[<matplotlib.lines.Line2D at 0x7f3355999160>,\n <matplotlib.lines.Line2D at 0x7f33559991c0>]"
     },
     "execution_count": 10,
     "metadata": {},
     "output_type": "execute_result"
    },
    {
     "data": {
      "text/plain": "<Figure size 640x480 with 1 Axes>",
      "image/png": "[encoded data removed]"
     },
     "metadata": {},
     "output_type": "display_data"
    }
   ],
   "source": [
    "import matplotlib.pyplot as plt\n",
    "plt.plot(x[1,:,:])\n",
    "#plt.plot(x_2[0,:])"
   ],
   "metadata": {
    "collapsed": false
   }
  },
  {
   "cell_type": "code",
   "execution_count": 11,
   "outputs": [
    {
     "data": {
      "text/plain": "array([[ 0.34616545, -0.04239312]])"
     },
     "execution_count": 11,
     "metadata": {},
     "output_type": "execute_result"
    }
   ],
   "source": [
    "x[1,:,:]"
   ],
   "metadata": {
    "collapsed": false
   }
  },
  {
   "cell_type": "code",
   "execution_count": 12,
   "outputs": [
    {
     "data": {
      "text/plain": "array([[ 0.34616545, -0.04239312]])"
     },
     "execution_count": 12,
     "metadata": {},
     "output_type": "execute_result"
    }
   ],
   "source": [
    "x[1,:,:]"
   ],
   "metadata": {
    "collapsed": false
   }
  },
  {
   "cell_type": "code",
   "execution_count": 13,
   "outputs": [
    {
     "data": {
      "text/plain": "array([ 0.34616545, -0.04239312])"
     },
     "execution_count": 13,
     "metadata": {},
     "output_type": "execute_result"
    }
   ],
   "source": [
    "x[1,:,:][0]"
   ],
   "metadata": {
    "collapsed": false
   }
  },
  {
   "cell_type": "code",
   "execution_count": 14,
   "outputs": [
    {
     "data": {
      "text/plain": "(64, 1, 1)"
     },
     "execution_count": 14,
     "metadata": {},
     "output_type": "execute_result"
    }
   ],
   "source": [
    "x_1.shape"
   ],
   "metadata": {
    "collapsed": false
   }
  },
  {
   "cell_type": "code",
   "execution_count": 1,
   "outputs": [
    {
     "data": {
      "text/plain": "0.8303656034108255"
     },
     "execution_count": 1,
     "metadata": {},
     "output_type": "execute_result"
    }
   ],
   "source": [
    "import numpy as np\n",
    "cov_matrix = np.array([[1,0.9], [0.9,1]])\n",
    "-0.5 * np.log(np.linalg.det(cov_matrix))"
   ],
   "metadata": {
    "collapsed": false
   }
  },
  {
   "cell_type": "code",
   "execution_count": 1,
   "outputs": [
    {
     "data": {
      "text/plain": "array([[-1.77900879e-02, -6.93450118e-01],\n       [-1.19157292e+00, -1.36736552e+00],\n       [-3.69668228e-01, -1.79881296e-01],\n       [-1.50898740e+00, -1.02297585e+00],\n       [-7.03749956e-01, -4.95714626e-01],\n       [-2.57826480e-01, -4.26052277e-02],\n       [-1.84266373e+00, -1.55057452e+00],\n       [ 9.62918909e-01,  1.34391208e+00],\n       [ 6.32503938e-02, -1.63567221e-01],\n       [-1.87221221e+00, -2.00509273e+00],\n       [ 2.24083072e+00,  9.39441272e-01],\n       [-8.84486179e-01, -1.47482338e-01],\n       [-2.80088590e-01,  9.48638847e-02],\n       [ 8.96322122e-01,  1.63790264e+00],\n       [ 1.83219749e+00,  1.12851167e+00],\n       [-2.21693869e+00, -1.88514079e+00],\n       [-5.65899166e-01, -1.25118141e+00],\n       [ 1.41665779e+00,  8.74907789e-01],\n       [-3.22180269e-01, -5.44800421e-01],\n       [ 1.32454626e+00,  6.87781244e-01],\n       [ 1.39565396e+00,  6.06776311e-01],\n       [-1.03983205e+00, -1.65895521e+00],\n       [-1.65241812e-01,  5.04203599e-01],\n       [ 2.14859009e+00,  1.48743285e+00],\n       [ 4.42329260e-01,  4.72662771e-01],\n       [ 7.10833138e-01,  6.24590026e-01],\n       [-6.73661075e-01, -5.17314688e-01],\n       [-7.26402356e-01, -1.02087076e+00],\n       [ 4.80047035e-01, -1.07623219e-03],\n       [-9.26592009e-01, -1.59456221e+00],\n       [-4.78391908e-01,  1.35623821e-01],\n       [ 1.83987628e+00,  1.84850427e+00],\n       [-5.05140163e-01, -1.09232700e+00],\n       [ 2.02104260e-01,  5.62652175e-01],\n       [ 4.30512733e-02,  1.10212798e-01],\n       [ 1.45144029e+00,  1.04142679e+00],\n       [ 3.00348317e-01,  4.63152898e-02],\n       [-1.02201714e+00, -5.62652395e-01],\n       [-5.04538786e-01, -4.77552629e-01],\n       [-8.90563502e-01, -1.02849131e+00],\n       [-5.31308050e-01, -1.46765067e+00],\n       [-2.29002088e+00, -1.50656276e+00],\n       [-1.10928094e+00, -1.06149336e+00],\n       [-2.17450189e-01, -3.80371935e-01],\n       [-5.50345835e-01, -1.17822827e+00],\n       [ 2.19767749e+00,  2.91027795e+00],\n       [-1.16236944e+00, -6.32509462e-01],\n       [ 2.62341823e-01,  4.93514699e-01],\n       [-2.41987989e-01,  1.16012192e-01],\n       [-2.33861412e-01,  6.28695154e-01],\n       [-1.27170299e+00, -3.37242509e-01],\n       [-5.06492954e-02, -7.33025171e-01],\n       [-2.88141495e-01, -9.14115088e-01],\n       [-1.24239535e+00, -1.06484399e+00],\n       [-2.83186478e-01, -1.19490053e-01],\n       [-1.89956881e+00, -1.21985644e+00],\n       [-1.57846731e-01,  3.59638202e-02],\n       [ 8.69169177e-01,  8.80111285e-01],\n       [ 7.06686169e-01,  3.65213729e-01],\n       [-1.92988387e+00, -8.50466600e-01],\n       [ 1.21100260e+00,  9.78307927e-01],\n       [ 1.09209002e+00,  1.46603264e+00],\n       [ 5.72902029e-01,  1.19427891e+00],\n       [-1.20875391e+00, -8.82417609e-01],\n       [-6.76736386e-01,  4.52063632e-01],\n       [ 1.00836093e-01,  5.00270684e-01],\n       [-6.39818761e-01, -3.89673102e-01],\n       [-9.81584357e-01, -2.84224539e-01],\n       [ 1.37667617e+00,  1.90788025e+00],\n       [ 1.22541084e-01, -2.57317778e-01],\n       [-7.02253784e-01, -4.90394094e-01],\n       [ 6.16572046e-02, -3.35611892e-01],\n       [ 3.65933404e-01, -2.53674938e-01],\n       [-6.05401962e-02,  2.07807955e-01],\n       [-1.81081391e-01, -9.77444988e-01],\n       [-5.49059094e-01, -1.58744445e-01],\n       [ 1.39606459e+00,  1.41729311e+00],\n       [-5.62171390e-01, -4.43349982e-01],\n       [-7.40939720e-01,  4.27941798e-01],\n       [ 7.04704157e-01, -3.52428197e-01],\n       [-3.65834233e+00, -2.53627023e+00],\n       [-2.93675030e-01,  5.48253134e-02],\n       [-1.36526809e-01, -2.15747026e-02],\n       [ 7.15478119e-01,  1.49208719e+00],\n       [ 6.09418898e-01,  1.41056979e+00],\n       [ 2.49704617e+00,  2.26469213e+00],\n       [-3.44289181e-01, -6.91853532e-01],\n       [ 1.43915310e+00,  5.98990348e-01],\n       [ 1.24950091e+00,  4.10084397e-01],\n       [ 5.24529091e-01,  3.28826691e-01],\n       [ 3.48937212e-01,  9.61275989e-01],\n       [ 7.35296795e-01,  1.16500717e-01],\n       [ 5.86981145e-01,  8.25998416e-01],\n       [-2.18777476e-01, -5.49017775e-01],\n       [-8.83660446e-01, -4.95808865e-01],\n       [ 8.62175200e-01,  5.94874382e-01],\n       [ 1.20055294e+00,  7.95459264e-01],\n       [ 2.89329775e-01,  1.10820047e+00],\n       [ 6.47841151e-01,  1.20610194e+00],\n       [-5.43230257e-01,  3.92129508e-01],\n       [-8.36345830e-01, -1.67699275e+00],\n       [ 1.21426064e+00, -8.52938693e-03],\n       [ 1.44149848e+00,  1.41252165e+00],\n       [ 1.01256646e+00,  1.03688575e+00],\n       [-3.25560697e-01,  6.39463376e-01],\n       [-1.43840488e+00, -2.01858627e+00],\n       [ 3.80322067e-02,  1.27972571e-01],\n       [ 2.88669599e-01,  5.57234473e-02],\n       [ 3.63516929e-01,  5.89534635e-01],\n       [-1.36482838e+00, -8.89430261e-01],\n       [ 1.16355718e+00,  1.47966105e+00],\n       [ 7.14988716e-01, -2.78192351e-01],\n       [ 1.89843429e+00,  1.21240316e+00],\n       [ 4.87752142e-01, -5.11953083e-01],\n       [ 2.48183219e+00,  2.03022703e+00],\n       [-3.25065831e-01,  2.43328232e-02],\n       [ 6.64221138e-01, -6.50226903e-02],\n       [-8.83183135e-01, -1.25360211e+00],\n       [ 6.33237083e-01,  1.69439107e-01],\n       [ 6.97739850e-01,  5.70305772e-01],\n       [ 3.98200236e-01, -4.48829527e-02],\n       [-2.28111447e-01,  9.24886453e-01],\n       [ 2.47402258e-01,  4.00486464e-01],\n       [ 7.53449365e-01,  1.12067397e+00],\n       [-1.07329754e-01,  4.60386329e-01],\n       [-1.02162778e+00, -5.32515567e-01],\n       [-1.32309959e-01,  1.21125372e+00],\n       [ 1.83368628e+00,  2.34576949e+00],\n       [ 2.93964324e-01,  4.82945105e-01],\n       [ 2.03038183e-02, -5.95227846e-01],\n       [-1.01143446e+00, -1.04690630e+00],\n       [ 1.07359220e+00, -7.58280633e-02],\n       [ 4.34375621e-01,  1.02251155e-01],\n       [ 8.78617843e-02,  5.56767898e-01],\n       [-7.70863735e-01, -1.37418693e+00],\n       [-9.37188129e-02,  7.93518541e-01],\n       [-5.23885565e-01, -1.12800823e+00],\n       [ 5.89352514e-01,  9.32032658e-01],\n       [ 3.29434284e-01,  6.35351159e-01],\n       [ 8.54888371e-01,  2.64590736e-01],\n       [-1.26624617e+00, -1.75285683e-01],\n       [ 1.24409872e+00,  2.29641166e-01],\n       [-1.22353496e+00, -8.67768634e-01],\n       [-3.28929113e-01, -4.72722211e-01],\n       [-7.11771730e-01, -8.50092887e-01],\n       [ 1.28094908e+00,  9.23114669e-01],\n       [ 2.37427134e-01,  9.34052258e-01],\n       [-6.38990891e-01, -3.23075421e-01],\n       [-5.15987139e-01, -5.47836995e-01],\n       [ 1.35220221e+00,  2.02803786e+00],\n       [ 1.73179748e+00,  1.07977107e+00],\n       [-3.60559316e-01, -1.61855960e+00],\n       [ 9.91222414e-01,  8.64592736e-01],\n       [ 8.30535934e-01, -6.98901488e-01],\n       [ 1.58524739e+00,  1.54190272e+00],\n       [ 5.23293509e-01,  3.20288266e-01],\n       [-8.22623850e-01, -1.06804102e+00],\n       [-9.55061227e-01, -1.55690549e+00],\n       [-1.31221894e+00, -8.77399013e-01],\n       [-7.99101408e-01, -1.70976089e+00],\n       [ 6.39424454e-01,  7.50064124e-01],\n       [ 5.04249599e-01,  2.99757988e-01],\n       [-2.87303927e-01, -8.82034719e-01],\n       [ 4.65626670e-01,  2.46095777e-01],\n       [ 9.70054916e-01,  9.79574705e-01],\n       [ 3.30550378e-01,  7.29826597e-01],\n       [ 7.89475106e-01,  7.69712673e-01],\n       [ 2.04533985e-01,  1.51887468e-02],\n       [ 5.07395283e-01,  8.20603709e-02],\n       [ 1.26832066e-01, -4.60461064e-02],\n       [-2.18454548e-01, -7.15147337e-01],\n       [ 9.68086955e-03,  2.04678759e-01],\n       [-1.41850529e+00, -5.40622838e-01],\n       [ 2.47693449e-01,  3.09557055e-01],\n       [ 9.42034666e-01,  1.74153243e+00],\n       [-2.25487361e+00, -1.28110809e+00],\n       [-1.68847572e+00, -1.64210225e+00],\n       [ 9.44598846e-01,  1.40162190e+00],\n       [ 4.92481864e-01,  3.91166460e-01],\n       [-1.12145223e+00, -1.00650594e+00],\n       [-1.74467351e+00, -7.41137363e-01],\n       [-8.89379031e-02, -4.41892103e-01],\n       [ 1.23415987e-01,  1.69656214e-01],\n       [-2.55490040e-01,  1.31293704e-01],\n       [-5.34387579e-01, -7.06610803e-02],\n       [-8.96574179e-01, -4.45079460e-01],\n       [ 8.90044426e-01,  1.54758728e+00],\n       [ 2.95420439e-01, -7.70182424e-02],\n       [-7.52173876e-01, -5.45506954e-01],\n       [-9.82880321e-02, -4.09752785e-01],\n       [ 1.18057227e+00, -1.55533974e-01],\n       [-1.19185081e+00, -1.05970870e+00],\n       [-6.70253639e-01, -3.50838427e-01],\n       [ 2.18896552e+00,  2.21807480e+00],\n       [ 3.18950598e-02, -2.60788368e-01],\n       [-1.93855142e+00, -2.14533167e+00],\n       [ 1.79357348e+00,  5.79829263e-01],\n       [ 5.92854352e-01,  1.72253610e-01],\n       [ 1.47914262e-01, -1.35718078e-01],\n       [-9.17592813e-01, -5.98407944e-01],\n       [-6.06754199e-01, -2.81834777e-02],\n       [-4.68844095e-01, -7.92049669e-01],\n       [ 3.01545462e-01,  7.63047616e-01],\n       [-1.59559917e+00,  1.86229983e-01],\n       [-2.04293344e-02, -4.69257587e-01],\n       [ 2.41673125e-01, -1.90600255e-01],\n       [ 3.34491589e-01, -6.19289184e-01],\n       [-1.12785924e-01, -1.81921485e-01],\n       [-1.48465960e+00, -1.82892554e+00],\n       [-1.54743002e-01, -2.99262762e-01],\n       [ 2.05377230e+00,  1.58839738e+00],\n       [-6.87805152e-01, -1.41187387e-01],\n       [-3.08089607e-01, -1.37395479e-01],\n       [-6.02395385e-01,  9.46819866e-02],\n       [ 1.89671919e+00,  1.81077697e+00],\n       [-7.35159349e-01, -1.31493834e+00],\n       [ 8.36446985e-01,  4.60083625e-01],\n       [ 1.68457269e+00,  3.67418158e-02],\n       [ 8.51811791e-01,  8.34902533e-01],\n       [-1.20262998e+00, -1.71322259e+00],\n       [ 1.86236942e+00,  1.55796808e+00],\n       [ 8.26491228e-01,  8.00658557e-01],\n       [-1.49072308e+00, -8.91189154e-01],\n       [-4.70228749e-01, -2.48671347e-01],\n       [ 8.21926506e-01, -2.51207040e-01],\n       [-2.29795082e-01, -5.00937158e-01],\n       [ 7.54530566e-01,  1.19265526e+00],\n       [ 8.65240011e-01,  1.91550425e+00],\n       [-3.55061824e-01, -7.06653524e-01],\n       [-1.58927164e+00, -1.16627713e+00],\n       [-1.32267992e-01,  1.28769077e+00],\n       [ 1.55131162e+00,  4.33470421e-01],\n       [-1.99196987e+00, -1.77782865e+00],\n       [ 1.69941659e+00,  9.38635516e-01],\n       [-6.77176729e-01, -2.50616787e-01],\n       [ 6.67891175e-01, -4.15880807e-01],\n       [ 1.78314487e-01,  3.31499043e-02],\n       [ 6.97358270e-01,  5.33267092e-01],\n       [-6.77409992e-01, -7.14385147e-01],\n       [ 4.42700612e-01,  1.03586656e+00],\n       [ 1.42352557e+00,  1.45995483e+00],\n       [ 4.25108627e-01,  2.12327776e-01],\n       [ 9.73234637e-01,  1.23274099e+00],\n       [ 1.30988865e+00, -6.67904464e-03],\n       [ 8.08178080e-01,  1.29224090e-02],\n       [-7.83968315e-01, -7.40958356e-01],\n       [ 1.75056430e+00,  1.94657881e+00],\n       [-1.38181679e+00, -1.17616837e+00],\n       [-1.97878785e+00, -2.20113486e+00],\n       [-2.67898146e-01,  1.80793703e-02],\n       [-1.70795975e-01, -3.23441045e-01],\n       [-1.52940716e+00, -1.66448631e+00],\n       [ 1.68960681e+00,  2.41992279e+00],\n       [ 2.75381117e+00,  2.90306184e+00],\n       [ 4.75953855e-01,  1.50559251e+00],\n       [-5.76412424e-01, -3.76386423e-01],\n       [-7.60904141e-01, -2.21805320e-01],\n       [ 9.82228166e-01,  6.20794407e-01],\n       [ 1.06340770e+00,  1.67134904e+00],\n       [-1.08077046e+00, -6.76078061e-01],\n       [-3.10081532e-01,  6.06780406e-01],\n       [ 8.34076297e-01,  4.22662898e-01],\n       [-2.33423637e+00, -1.86491468e+00],\n       [ 7.50116578e-01,  1.48333070e+00],\n       [-1.25771138e+00, -2.03265495e+00],\n       [ 3.73682293e-01,  1.24391282e-01],\n       [ 1.22737992e-01,  3.67362443e-01],\n       [-1.67752705e+00, -7.13154575e-01],\n       [ 1.20548620e+00,  1.52628031e+00],\n       [-4.59388310e-01, -7.75977445e-01],\n       [-1.67013830e-01,  9.29053811e-02],\n       [ 3.44582122e-01, -2.68392466e-01],\n       [-1.09263750e+00, -1.06832435e+00],\n       [ 2.22006381e+00,  2.56377579e+00],\n       [-2.33708681e-01, -7.55561458e-01],\n       [-5.91311543e-01, -1.67735863e-01],\n       [-1.11142156e+00, -8.55455421e-02],\n       [ 7.29425339e-02,  6.49587603e-01],\n       [-1.06063553e+00, -3.20313884e-01],\n       [ 1.24743040e+00,  1.39645312e+00],\n       [ 1.50910730e-01, -9.29913735e-01],\n       [ 1.25022739e+00,  1.52592326e+00],\n       [-3.33702631e-01, -8.34219022e-01],\n       [-9.56201136e-01, -3.43538633e-01],\n       [ 1.24409117e-01,  2.23447158e-01],\n       [ 2.38075468e-01,  2.65848064e-01],\n       [-2.87859403e-02, -1.46716311e-01],\n       [ 2.35986694e-01,  7.40583867e-01],\n       [-4.03285450e-01, -3.08291274e-01],\n       [-1.18626598e+00, -6.01445656e-01],\n       [-9.05620480e-01,  1.67845677e-01],\n       [-6.70463931e-01, -7.06499631e-01],\n       [-1.11426504e+00, -1.61095099e+00],\n       [ 7.24581035e-02, -2.78048359e-01],\n       [ 1.21079139e+00,  1.51642498e+00],\n       [-2.03296852e-01,  9.53482618e-01],\n       [ 2.50754725e+00,  2.28941636e+00],\n       [-9.96936737e-01, -8.54350401e-01],\n       [ 1.76555700e-01,  3.09770339e-01],\n       [-2.82971539e-01, -4.66618740e-01]])"
     },
     "execution_count": 1,
     "metadata": {},
     "output_type": "execute_result"
    }
   ],
   "source": [
    "import numpy as np\n",
    "np.random.multivariate_normal(mean=[0, 0],\n",
    "                                          cov=[[1, 0.8], [0.8, 1]],\n",
    "                                          size=300)"
   ],
   "metadata": {
    "collapsed": false
   }
  },
  {
   "cell_type": "code",
   "execution_count": 4,
   "outputs": [
    {
     "data": {
      "text/plain": "[array([ 0.10638986,  0.49267927,  0.20363224,  0.30161237,  0.30992042,\n        -1.09995692,  0.84973784,  0.03153952, -0.26803445,  0.22495529,\n         0.06555581, -0.46282171,  0.14504669, -0.33049271,  0.07794076,\n        -0.23508864, -0.11240775,  0.29866097,  0.11059903, -0.45570096,\n        -0.29307277, -0.05853552, -0.03389402, -0.49861162, -0.35813872,\n        -0.66640081,  0.55980443, -0.2157767 , -0.84099644, -0.32553049,\n         0.85271154,  0.64520254,  0.52132265,  1.03102233,  0.93689475,\n         0.07941307,  0.49605655, -0.12529978,  0.44545416,  0.11252271,\n         0.0480604 , -0.58447524,  0.5790167 , -0.30714751,  0.12586399,\n         0.40983563, -0.49481518, -0.2473499 ,  0.25197586,  0.92344481,\n         0.40825315,  0.5040225 , -0.37077885, -1.16205983, -0.40233982,\n         0.43826953, -0.75707718, -0.48893829, -0.20165462, -1.01047354,\n        -0.71207823,  0.17768576, -1.90848486, -0.05949043]),\n array([-0.28437266,  0.01677381,  0.03941866,  0.08194868,  0.23054856,\n        -0.20150077, -0.43017139, -0.12091869,  0.29918431,  0.09797735,\n        -0.66613232,  0.64836923, -0.20737485,  0.86974312,  0.67502544,\n        -0.4872623 , -0.86479113,  0.37726131, -0.2130185 ,  0.31130561,\n        -0.48104286,  0.17532789, -0.10803065,  1.18246508, -0.28749968,\n         0.51813403,  0.01530491,  0.64937546, -0.73964711, -0.27114521,\n         0.66599727,  0.07078843, -0.46818107,  0.10489755,  0.08211741,\n         0.44274465, -0.04606327,  0.51078339, -0.92782016,  0.31938331,\n         0.03457327, -0.18178284,  0.25589871, -0.16171234, -0.13831775,\n         0.2641496 ,  0.58189869, -0.251159  ,  0.02912666,  0.20249381,\n         0.41731826,  0.13740302,  0.01892958, -0.38019632, -0.50032283,\n        -0.82436304,  0.02276874, -0.73087718, -0.02116521, -0.34639794,\n        -0.38751368,  0.18875553, -0.25080783,  0.20576633]),\n array([-0.00864444, -0.67018941, -0.26264055, -0.08829089,  0.24902441,\n         0.72724918, -0.29165397, -0.60032542,  0.21070665,  0.57179917,\n        -0.49444786,  0.41170269,  0.04438645, -0.10609462, -0.54166953,\n        -0.84980839, -0.28700372,  0.32097794, -0.15069183, -0.01903135,\n         0.50124564,  0.75698371,  0.2766106 , -0.6724108 , -1.12120516,\n         0.41050591, -0.81142823,  0.96161244, -0.90765936,  0.16320415,\n        -0.91410082,  0.00970979,  0.25222981, -0.06163446, -0.28431331,\n         1.08689048,  0.45376368,  0.01567956,  0.14710317, -0.16843274,\n        -0.2959281 , -0.87300804, -0.62048987,  0.27254842,  0.4867202 ,\n        -0.06260769,  0.17233278, -0.53825541, -0.42267042, -0.32198652,\n         0.0234378 ,  0.24423447,  0.70336416, -0.48381714,  0.16349236,\n        -0.18263046, -0.11162933,  0.36226302, -0.37336711,  0.34326554,\n         1.03657119,  0.04994557,  0.53752619,  0.64437082]),\n array([ 0.36087245, -0.31128857,  0.60661932, -0.26436449, -0.17600167,\n         0.32023432, -0.17807586, -0.34795986,  0.55046214,  0.45507795,\n         0.67645523,  0.85096449,  1.46480662,  0.178435  ,  0.83478816,\n        -0.41999036, -0.18068237,  0.06443698,  0.62040286, -0.36347547,\n         0.45614726,  0.16586357,  0.60282932, -0.30552482,  0.3248895 ,\n        -0.27102914,  0.39781658,  0.36340292, -0.32658311,  0.10135529,\n         0.87948887, -0.7085452 , -0.26211546, -0.11436468,  0.23569317,\n        -0.23394384, -0.16880313,  0.30377447,  0.64741418, -0.07758687,\n        -0.35277568,  0.51947336,  0.1415579 , -0.34384417,  0.34032366,\n         0.06413307,  0.3295788 , -0.47476133,  0.65811959,  0.42860749,\n         0.21056912, -0.6969742 , -0.26429455,  0.33007493,  0.641541  ,\n        -0.60850138,  0.38681607, -0.51041071, -0.24883981,  0.48334812,\n         0.59340343,  0.74767149, -0.65917958, -0.02405609]),\n array([ 0.08543215,  1.1307563 ,  0.04339838,  0.28103537,  0.1747913 ,\n         0.31401989, -0.85768043, -0.15990444,  0.21428101, -0.17230093,\n         0.14551234, -0.14128823, -0.92077024,  0.30608882,  0.3387338 ,\n         0.12521426, -0.14303555, -0.46016359,  0.80147835, -0.31446025,\n         0.28340428, -0.13807597,  0.10197408,  0.03656451,  0.31158321,\n         0.86108657,  0.00329992,  0.47975244,  0.16272944,  1.62376088,\n        -0.55121639,  0.59754918,  0.9868037 ,  0.53443094, -0.08240095,\n        -0.12554876,  0.05631982, -0.05109574, -0.16686479, -0.06064588,\n        -0.17737511,  1.14605541, -1.21461158, -0.13285946,  0.21124452,\n         0.11854267,  0.11951928, -0.34104073, -0.30103285, -0.06838685,\n         0.82377378, -0.21764759,  0.03271175,  0.84609187,  1.28356183,\n         0.46225764, -0.18731917, -0.20606309, -0.03575048, -0.55782152,\n         0.40679107,  0.6065892 ,  0.19465551, -0.58100815]),\n array([ 9.25701630e-02, -3.81479773e-01,  8.92613400e-02,  4.72382863e-01,\n         2.84111487e-01,  4.76471509e-01,  9.97182404e-01,  2.66811006e-01,\n        -1.35627808e+00, -3.49346355e-01,  3.75586424e-01, -2.87359855e-01,\n        -1.94318719e-01, -5.32259805e-01,  2.26370262e-01,  5.90914620e-01,\n         2.39253012e-01,  4.58367011e-01,  8.47642626e-03, -3.63958847e-02,\n        -6.46504231e-01,  2.37730100e-01,  7.16486204e-01, -1.53806895e-01,\n        -6.70601921e-01,  2.09295289e-01,  6.29055025e-02,  7.43010211e-01,\n         4.63641102e-02, -2.65119754e-01, -3.83683314e-01, -1.60568104e-01,\n         5.31885191e-01,  1.82818360e-01,  7.67052256e-01,  2.63202488e-01,\n         1.38046684e-01, -4.09302865e-01, -5.21608998e-01, -3.26111062e-02,\n        -2.45695559e-02,  5.58873219e-01,  2.67036955e-02, -3.72670479e-01,\n        -9.35998656e-02, -7.58920951e-01, -5.31013765e-01,  5.65065644e-01,\n         3.16512520e-02, -4.12760328e-01, -6.04805461e-01,  4.99103057e-01,\n         3.47790744e-01,  1.60554238e-01,  3.36361777e-01, -1.62217177e-01,\n         1.12128872e-01, -2.32806420e-02,  6.13650992e-01,  3.55887211e-01,\n        -4.04233607e-01,  5.28761356e-01,  2.66337164e-04,  5.12969856e-01]),\n array([ 0.23189453,  0.16450853,  0.4120955 , -0.2065002 ,  0.36112713,\n         0.70789919, -0.41555325, -0.09707716,  0.8505591 ,  0.22538287,\n        -0.02956274,  0.31068478,  0.43430744, -0.21506688,  0.10287822,\n        -0.3107017 ,  0.4934464 , -0.42037008,  0.29661963,  0.30750198,\n         0.68822653, -0.98945955, -0.64766779, -0.5174254 , -1.04858112,\n         0.13566053,  0.57901474,  0.91229294, -1.173994  , -0.91195772,\n         0.26430365,  0.42515835, -0.15089235,  0.04995008,  0.13511947,\n        -0.31733245,  0.03412197, -0.51330918,  0.07426199, -0.18911954,\n        -0.02510946,  0.35581165,  0.26757702,  0.10510544, -0.66459943,\n        -0.52821578,  0.04300852,  0.48143508,  0.91971577,  0.16278285,\n        -0.96869942, -0.02128362,  0.11335746,  0.35036967,  0.24529049,\n         0.61077835, -0.91798639, -0.31807141,  1.00622659,  0.79654657,\n         1.08651213,  0.05865911, -0.06253301, -0.24855777]),\n array([-0.85544923, -0.5894303 ,  0.03140134, -0.14550535, -0.08791681,\n         0.36331393,  0.48383549,  0.90462886, -0.58019464,  0.12184534,\n        -0.61931983, -0.35011818, -0.47809975,  0.09967326, -0.1494806 ,\n        -0.08883472, -0.42313867, -0.7559812 , -0.49290082,  0.28215079,\n        -0.3368244 ,  0.54185874, -0.05242747, -0.81850423, -0.19529122,\n        -0.84125728,  0.59877905, -0.08280188, -0.08744007, -0.40957162,\n        -0.40589676, -0.24545844, -0.01755746, -0.03053393,  0.83133565,\n        -0.54059634, -0.91683575, -0.12965368, -0.41771131, -0.65229469,\n        -0.31174564, -0.03604863, -1.01553054,  0.54301683, -0.40335306,\n         0.16131996,  0.58754053,  0.41812888,  0.40387787,  0.86919197,\n         0.56759988, -0.74478592, -0.36640313,  0.13341018, -0.37696372,\n        -0.62405832,  0.54137803, -0.50205825,  0.88170285,  0.26686917,\n        -0.2373308 ,  0.64281685, -0.33484017,  0.2930141 ]),\n array([-0.56029113, -0.11186481,  0.68611524,  0.23082216, -0.45437588,\n         0.06102983, -0.18072414,  0.51375701,  0.0106737 , -0.12354057,\n        -1.51302804, -0.03966203,  0.54980177, -1.33042812, -0.62326088,\n        -0.2082552 , -0.11904876, -0.7266632 ,  0.25185026,  0.12344142,\n         0.1240851 ,  1.20717492, -0.29763686,  0.63596827,  0.25854055,\n         0.18772544,  0.40513183, -0.04995044,  0.49068392, -0.1351318 ,\n        -0.32788385, -0.44715937,  1.21467915,  0.65765946, -0.26032907,\n         0.24002139,  0.20294122,  0.91746424, -0.32704521,  0.30647562,\n        -0.16571379, -0.44063163,  0.08403937, -0.56487644,  0.24377746,\n         0.11809306, -0.89658434, -1.1600023 ,  0.91172436, -0.65391142,\n        -0.64639842,  0.45293025, -0.48573438, -0.71520549,  1.70366215,\n        -0.25653694, -0.07092679, -0.79268918,  0.29620445,  0.11958361,\n        -0.2908099 ,  0.51736975, -0.64232744,  0.26420592]),\n array([-0.42018949,  0.99514933, -0.63902793, -0.1251815 , -0.11522993,\n        -0.16772087,  0.06787115, -0.00420181, -0.66076603,  0.64974192,\n         0.52272427,  0.40448464,  0.2480689 , -0.31721906,  0.22217606,\n        -0.06568552,  0.16418211,  0.46691818,  0.54756759, -0.37513112,\n        -0.52243492, -0.42541106, -0.95218608,  0.40649873, -0.21789274,\n        -0.36004153, -0.29435947, -0.26750305, -0.3499995 ,  0.99725178,\n        -0.16210683,  1.27739833,  0.3712226 ,  0.40621662,  0.24347722,\n        -0.37146607, -0.42382849, -0.24405309, -0.63450309,  0.89366213,\n         0.50184424, -0.301049  , -0.37338365, -0.26144138,  0.42470502,\n        -0.53208565, -0.87380829, -0.47155332, -0.01281677,  0.07015882,\n         0.23478983, -0.37823436,  0.38196818, -0.05704727, -0.73563643,\n         0.10721236,  0.00581301, -0.20509675,  0.2593914 , -1.0144254 ,\n         0.06689488, -0.77699256, -0.09893844, -0.60945749]),\n array([-0.20727405, -0.18116829, -0.42788976,  0.5923214 , -0.42596196,\n         1.35391363, -0.08105506,  0.18910616,  0.52574429, -0.82218691,\n         0.40742576, -0.45800898,  0.18968439,  0.03055179,  0.1933377 ,\n        -0.18285207,  0.34524021, -0.02637195, -0.53141195,  0.18166538,\n        -0.23191096, -0.10909549, -0.19171479,  0.03996039, -0.69077633,\n        -0.19483364,  0.59012995, -1.02084048, -0.16140513,  0.45121364,\n         0.48397529, -0.06322315,  0.11328226,  1.0483313 ,  0.66047869,\n         0.34655511,  0.23744871,  0.41639512, -0.26949579,  0.24691485,\n         0.03436088,  0.29115353,  0.40265566, -0.12041709,  0.38819245,\n         0.36050919,  0.13294198, -0.76033997, -0.84616279,  0.10168121,\n         0.03686155,  0.41004208,  0.54908432,  0.2674585 ,  0.3697465 ,\n        -0.55499165, -0.28723881, -0.07015672, -0.75026294, -0.56490943,\n        -0.02403026, -0.71137141, -0.1570853 , -0.6304461 ]),\n array([-4.53235708e-01, -3.59050163e-01, -2.55216077e-01,  2.36963508e-01,\n         2.14173694e-01,  5.39672469e-02, -2.75898355e-01, -2.42397328e-01,\n        -1.70240001e-01, -5.42044861e-01, -1.70226359e-01, -3.70294652e-01,\n        -1.60667521e-01, -5.37101176e-01, -4.30120138e-01,  4.36121725e-01,\n         9.42003883e-01, -1.08965006e-01,  1.50871817e-02, -1.78177068e-02,\n         3.17748653e-01, -4.56093036e-01, -4.78382097e-01,  2.68701132e-02,\n         2.42949948e-01,  1.23086261e+00,  4.77336975e-01,  9.87907307e-01,\n        -8.38721304e-02,  5.09576770e-02, -4.73247774e-01, -6.47939020e-02,\n         2.28987303e-01, -5.97196672e-01,  4.50933350e-01,  2.43443426e-01,\n         2.33449222e-01, -4.18802132e-01, -4.84667834e-02,  6.03027491e-01,\n        -5.37158302e-02, -2.12977861e-01,  1.92104951e-02, -3.17516869e-01,\n         6.39290668e-01,  1.64068405e-02,  9.96245319e-05,  1.07862442e-01,\n        -1.38826074e-01, -1.01736102e-01, -3.63375811e-01,  1.24558176e-01,\n         3.58649298e-01, -2.05877099e-01,  4.78998307e-01,  3.99158402e-01,\n        -6.62227898e-01, -4.40414335e-01,  4.29488100e-01,  5.59238291e-02,\n         1.21931970e-01,  3.84839295e-02,  3.26162878e-01,  8.05019322e-01]),\n array([-0.96332961,  0.66027861,  0.06799251,  0.88619689,  0.68398107,\n        -0.29791986, -0.8842855 , -0.6358012 ,  0.7565961 ,  0.73108403,\n        -0.69473655, -0.03754699, -0.38019678,  0.25529037,  0.12513089,\n         0.32604581, -0.04852661, -0.02087002,  0.38205831,  0.03929503,\n         0.23628867, -0.95783386, -0.09423758, -0.23433509, -0.13368537,\n         0.76952039,  0.47004796, -0.22886625, -0.67654523, -0.04741341,\n        -0.03915986, -0.19124063,  0.44997091, -0.13313323,  0.19241667,\n         0.59803403, -0.14682299, -0.17430688,  0.6467357 , -0.6398351 ,\n        -0.2279389 ,  0.30772966, -0.26593423, -0.05804569,  0.9080852 ,\n         0.17365797, -0.55627224, -0.43135597,  0.87062457,  0.24475911,\n        -0.74441606,  0.86867388, -0.04730276, -0.30308057,  0.15597136,\n         0.57633879, -0.38611506,  0.39048769, -0.17340746, -0.52964677,\n        -0.38277449,  0.32154253,  0.21386523,  0.37273685]),\n array([ 0.30250825,  0.54254661,  0.73693523, -0.89456977, -0.82361516,\n         0.22703159,  0.55167112,  0.44695656, -0.51803405, -0.66592407,\n        -0.49813036,  1.16641202, -0.48232286, -0.08700454, -0.30419646,\n        -0.51101462,  0.67045193, -0.49969614, -0.23455547,  0.30209545,\n        -0.23036622, -0.00578779, -0.01155216, -0.06901666,  0.07284706,\n         0.72294901, -0.5842858 , -0.01419796,  0.74697849,  0.0023571 ,\n         0.03256935, -0.8775457 ,  0.46963226,  0.15448738, -0.00237952,\n        -0.02448953, -0.52005565,  0.51759394, -0.90490435, -0.01237732,\n        -0.15920049, -0.36280976, -0.91159229,  0.11604797, -0.89656071,\n         0.02880589, -0.59697665,  0.11225874,  0.67825972,  0.62213429,\n        -0.91848072,  0.5133278 , -0.669175  ,  0.41972054,  0.33288026,\n        -0.29820847, -0.23620809, -0.74518113, -0.24882642,  0.24714384,\n        -0.83318462,  0.74985626,  0.38642207,  0.39707768]),\n array([ 0.55750406,  0.57039018, -0.26040684,  0.21293384, -0.10865867,\n        -0.27416695, -0.37643849,  0.25009663, -0.19880382, -0.81612934,\n         0.28005433,  0.96324259, -0.39142645, -0.44964089,  0.27180401,\n         0.62544651,  0.08787174,  0.39578354,  1.48689627,  0.15397125,\n        -0.19212207,  0.80716059,  1.25713881, -0.19532783,  0.79839949,\n        -0.28833133,  0.41603656,  0.18910782,  0.83664611,  0.57680991,\n        -0.33753231, -0.03482037,  0.3188156 , -0.67257708, -0.20057904,\n         0.58991603, -0.51123711,  0.15486643, -0.3536022 , -0.17237856,\n        -0.52026922, -0.65694451,  0.92946896, -0.38546039,  0.42866848,\n         0.03977855, -0.21493215, -0.10798442, -0.12822649, -0.11936039,\n        -1.0966908 ,  0.29494982,  0.1143513 , -0.05619962,  0.69029879,\n        -0.74002302,  0.26610059,  0.29644539,  0.05618368, -0.48538605,\n        -0.58928809, -0.26985903, -0.3769832 , -0.18218328]),\n array([ 1.07812593,  0.75081636, -0.15582749, -0.08242133,  0.18631149,\n         0.07603096,  0.5867775 , -0.30342948, -0.34361448, -0.887375  ,\n         0.29758046, -0.00270616,  0.61338005, -0.20016352, -0.40384748,\n         1.20728682,  0.62745541, -0.18925085, -0.31034978, -0.88303482,\n         0.14702635, -0.57999583, -1.29414035,  0.32953134,  0.17073198,\n        -0.19162686,  0.28601322, -0.38145319,  0.06041021, -0.33413566,\n        -0.7037773 ,  0.47425891, -0.19722184, -0.79173971, -0.05316487,\n         0.3130008 ,  0.18763989,  0.4544389 ,  0.78864787, -0.98868735,\n        -0.06807111,  0.32257428, -0.29351678,  0.09623502, -0.11739329,\n        -0.32544057,  1.31758364, -0.17630734, -0.83591187,  0.92850358,\n         0.65190805, -0.75822321, -0.07145194,  0.38162639,  0.80832666,\n         0.93148122,  0.5748479 , -0.3530777 , -0.20751035, -0.62495763,\n         0.20397764, -0.04251501, -0.0697296 , -0.13361367]),\n array([ 0.38471135, -0.4258605 , -0.47541828, -0.27147246, -0.1715847 ,\n        -0.07540014,  0.50673248,  0.10487998,  0.0979288 , -0.65193726,\n        -0.28478271, -0.89715284, -0.22172088,  0.91781829,  0.41520969,\n        -0.50475781, -0.66619641, -0.18926716,  0.20646142,  0.90026134,\n        -0.62495187,  0.58813995,  0.26952321,  0.16918925,  0.11563131,\n        -0.01865834, -0.35161739, -0.26345647, -0.43647293,  0.9777435 ,\n         0.56215714, -0.57195696,  0.1258346 , -0.02205164, -0.74428925,\n         0.28668133, -0.35557574,  0.36675008,  0.08328903,  0.4583009 ,\n         0.20046579, -1.22557734,  0.49620725, -0.02923821,  0.5469806 ,\n         0.26083626,  0.23958623,  0.10793779,  0.64619708, -0.02465323,\n         0.67191293,  0.35424703,  0.16324521, -0.54049363, -0.17813143,\n         0.13549268, -0.05630607,  0.27826392,  0.02209692,  0.1651819 ,\n         0.03883631, -0.36763344, -0.0610861 ,  0.58636415]),\n array([ 0.07504998, -0.54163222,  0.09030275,  0.7577162 , -0.34974296,\n         0.44820456,  0.67010842,  0.29497221, -0.33348181, -0.09220689,\n         0.18735778, -0.03413736,  1.07575722,  0.94317514, -0.3071854 ,\n        -0.37568636, -0.88711503, -0.15394963, -0.9725828 ,  0.58902812,\n         0.30969005, -0.14121979, -0.29105435,  0.65385553, -0.23186363,\n        -0.35569595,  0.65254341, -0.43557008, -0.01836266, -1.29874464,\n        -0.08270758,  0.38183798, -0.29896603,  0.42224824, -0.23495273,\n        -0.36517177, -0.99897509,  0.49399144,  0.14133641, -0.04575414,\n         0.22109928,  0.88376037,  1.28309351,  0.66957756, -0.03578916,\n        -0.37775793, -0.19069337,  0.07675571, -0.2816076 ,  0.27641205,\n        -0.08486556, -0.62374508, -0.50192931, -0.75781528,  1.47155583,\n        -0.08101826, -0.3165967 , -0.12918576,  0.32392271, -0.70427029,\n         0.077748  ,  0.69872605, -0.18582413,  0.74747388]),\n array([ 0.59586867,  0.08407978,  0.60527799,  0.4474658 ,  0.23245386,\n        -0.05166405, -0.05647528, -0.15747613, -0.1417355 ,  0.33721689,\n        -0.7393083 ,  0.09858922, -0.77885553, -0.61591421, -0.56528365,\n         0.18454383, -0.21094528, -0.21242038,  0.19675939, -0.23737922,\n         0.21747444,  0.25140058,  0.38313708, -0.58691823, -0.21811827,\n         0.07617919,  0.03452446,  0.34616752, -0.43076114,  0.74089393,\n         0.07636731,  0.13394023,  0.64209857, -0.36282956,  0.32778407,\n         0.03822089, -0.3217894 , -0.11228126,  0.10850457,  0.00505739,\n        -0.06714523, -0.29615026, -0.471348  , -0.06060178,  0.41460352,\n         0.384379  , -0.41125408, -1.15535039,  0.09809472, -0.22185308,\n        -0.22023867, -0.54324521, -0.41516552, -0.19123363,  1.64007167,\n         0.11947532,  0.17975095,  0.36367579,  0.17028057,  0.35951789,\n         0.1573105 ,  0.27144671, -0.25671442, -0.22801361]),\n array([-0.16906108,  0.26270669, -0.59093577, -0.13389227, -0.50939427,\n         0.77283822,  0.35318291, -0.68582795, -0.83530944,  0.30360548,\n         0.05136675,  0.30191206, -0.03923506, -0.88797633,  0.40945625,\n         0.0262958 ,  0.12537722, -0.25685037, -0.69225043, -0.35788408,\n        -0.31010671, -0.28874888,  0.25444192, -0.69598728,  0.64522732,\n        -0.41391785,  0.16947136, -0.33232196,  0.52313775,  0.44876234,\n         0.12291803,  0.34364988, -0.16362636,  0.68954983,  0.25612864,\n        -1.01334815, -1.22388936, -0.64049491,  1.18072143, -0.28889147,\n         0.23444392,  0.72339427,  0.18064237,  0.90863817, -0.33192185,\n         0.08502713,  0.35990481, -0.23123208, -0.07092291,  0.7770754 ,\n         0.32314382, -0.81037477, -1.00550357,  0.43028779,  0.31812498,\n        -0.05518618,  0.09230354,  0.67632854, -0.59662036,  0.07951732,\n         0.5506597 , -0.61016767,  0.20871422, -0.02442373]),\n array([-0.48076549,  0.58581629, -0.01565372, -0.38746043,  0.07750711,\n        -0.78502781, -0.42211824, -0.38645959,  0.25444008, -0.50448938,\n         1.27226955, -0.75141495, -1.08894137,  0.11797241,  0.19674544,\n        -0.34580869,  1.52955257, -1.10195013, -0.47127231, -0.422095  ,\n        -0.54707143,  0.07355706,  0.8140808 ,  0.21794494, -0.28433823,\n        -0.54540523, -0.93726121, -0.48761206,  0.74688045,  0.49957325,\n        -0.23068651,  1.26230325, -0.18187939,  0.05756791,  0.17862537,\n         0.05767885, -0.21867698, -1.09860682, -0.43989583, -0.31167523,\n         0.6139134 ,  0.04014237,  0.5662752 ,  0.16695309,  0.21466267,\n         0.28066386,  0.23481629, -0.42313763,  0.55181063, -0.81732032,\n         0.36871979,  0.22664068,  0.72192595, -0.5782809 ,  0.7180927 ,\n         0.08065196,  0.1572608 , -0.24123164, -0.08892513, -0.64342674,\n         0.19820167, -0.65459244, -0.32449019,  0.17411866]),\n array([ 0.01535342,  0.64528377,  0.34469911, -0.59011066, -0.10364967,\n        -0.20581895,  0.35497912,  0.01456828, -0.172143  ,  0.11341691,\n        -0.1064026 ,  0.63834386,  0.07281825,  0.01662839, -0.43997026,\n        -0.79889227, -0.09235286, -0.11735273,  0.45461547, -0.25146497,\n        -0.57904117,  0.08691695,  0.11733448,  0.01402147,  0.56301674,\n         0.32475704, -0.24539006,  0.15721481, -0.03724453,  0.3142858 ,\n        -0.12500381, -0.26247092,  0.46107965, -0.24474352, -0.68380602,\n         0.36279791,  0.02703337, -0.99722129,  0.58794386, -1.12214966,\n         0.10578992,  0.05969419,  0.11391669, -0.41989687, -0.32807792,\n         0.13886205,  0.05068499,  0.34444831, -0.22488421,  0.27911735,\n         0.46594958,  0.03717858, -0.2801345 , -1.11561001,  0.16216614,\n         0.05602889,  0.78408402, -0.31023405, -0.35591471, -0.20724446,\n         0.61561465,  0.09732049,  1.13060133,  0.12979821]),\n array([-0.60900268,  0.89893836, -0.59460019, -0.2460179 , -0.129687  ,\n         0.05914013,  0.1666534 ,  0.51541391, -0.28788359, -0.07929554,\n         0.3747626 ,  0.88559719,  0.1327026 , -0.54106635,  0.69640862,\n        -0.81833377, -0.10883052, -0.68862883,  0.59105186,  0.13240844,\n        -0.46397126,  0.50444005, -0.3370237 , -0.89943107, -0.44401909,\n        -0.15462494, -0.53499617,  0.26806489,  0.75290632,  0.90488553,\n         0.2831256 , -0.69623447, -0.92800273,  0.34703674,  0.14492649,\n         0.26819583, -0.34300187, -0.55147881,  0.44326908, -0.31528088,\n        -0.2637992 , -0.26420267,  0.012693  , -0.50810814,  0.04981991,\n        -0.02251542, -0.0315014 , -0.19652948,  0.01967444,  1.07541054,\n        -0.24370468, -0.3843288 ,  0.24791023,  0.41074445, -1.03764091,\n        -0.42000471,  0.37426984, -0.29497562, -0.00269083, -0.06081282,\n         0.43659227, -0.39773425,  0.08584624,  0.36459404]),\n array([ 0.11712002,  0.0728598 , -0.86871875,  0.69487724,  0.18742199,\n        -0.3685596 , -0.37734312,  0.24804661, -0.38576484, -0.09094029,\n         0.13447679,  0.32007956, -0.42213069, -0.06159955,  0.18186117,\n        -0.27453693,  0.11287358,  0.51400592, -0.93363889, -0.19143041,\n         0.64392143, -0.29785776, -0.51668913, -0.27643085,  0.26014929,\n         0.69333892, -0.3818183 ,  0.41251548,  0.0016328 , -0.02456151,\n        -0.07534356, -0.20109855,  0.37880153,  0.70061302, -0.33581773,\n        -0.22997786,  0.50828557, -0.29139584, -0.42163261, -0.81407987,\n        -0.36296055, -0.17378311, -0.0142698 , -0.01608763, -0.12228529,\n         0.11051072,  0.26343403,  0.35301363, -0.67992145,  0.39332111,\n        -0.04019054,  0.64089764, -0.0169847 , -0.95086158, -0.41555874,\n         0.3207619 , -0.40977719,  0.41571629,  0.48220097, -0.32523458,\n         0.80198792,  0.24822272, -0.14244399,  0.62573162]),\n array([-0.23010876,  0.40700027,  0.44378878,  1.16814946,  0.88092243,\n         0.4251245 , -0.30548649,  0.70495322,  0.78184293, -0.0244057 ,\n        -0.64920897,  0.95405134, -0.38468647,  0.53961727,  0.20795703,\n         0.38459623, -0.44132604, -0.92283558,  0.6449882 , -0.6536883 ,\n         0.29912348, -0.03148897, -0.21347663, -0.64001652,  0.20932272,\n         0.03147493,  0.31692895,  0.29869433,  0.25399956, -0.05402775,\n        -0.16138348, -0.06432327, -0.0799895 ,  0.00131335,  0.12473474,\n        -0.82215701,  0.43242193, -0.66486873, -0.17433555, -0.1275987 ,\n         1.04837928,  0.44960933,  0.06003158, -1.16154494, -0.17271967,\n         0.95057452, -1.21974981, -0.35858179,  0.38645117,  0.86668429,\n        -0.46235764, -0.3207765 ,  0.21403211,  0.31091171,  0.11001852,\n         0.18644481, -0.30648873,  0.60974698, -0.69196929, -0.38974895,\n        -0.32953728, -0.72679152, -0.05975829,  0.02267957]),\n array([ 0.92122053,  0.82239099, -0.24529226,  0.51605673, -0.17830877,\n        -0.22031034,  0.37383607, -0.41667272, -0.21939534,  0.52341754,\n         0.59106763, -0.43019195,  0.15699706,  1.11052998,  0.31977735,\n        -0.97136575,  0.85439845,  0.74488176,  0.37176935, -0.53734778,\n         0.47925652, -0.52014846,  0.0445952 ,  0.4218412 , -0.08615603,\n        -0.15659853,  0.53021484,  0.16316986, -0.66950462, -0.63887816,\n         0.19286887,  0.13897583, -0.57551831,  0.63145995, -0.28500846,\n         0.01849455, -0.14772898, -0.28617962,  0.13710765,  0.55621175,\n         0.19204946, -0.86530048, -0.14934254,  0.57611942,  1.11332641,\n         0.38841865,  0.53500987, -0.31184599,  0.60288895, -0.23324168,\n         0.46500264, -0.48980594,  0.36425922, -0.11087144, -0.18644928,\n         0.70105537,  0.70402578,  0.22784895,  0.75514931, -0.62690434,\n         0.08708019,  0.57855967, -0.16863517, -0.23555294]),\n array([-0.24272317,  1.35803637,  0.21955432, -1.15803476,  0.14920294,\n         0.3758287 , -0.45166339,  0.00379084, -0.45960916, -0.11050232,\n        -0.19963982,  0.31156327, -0.13787442, -0.22969278,  0.77009852,\n         0.24765471,  0.64166082,  0.27356318, -0.45912118,  0.78738268,\n         0.29725864,  0.10871141, -0.15166715, -0.12785856,  0.65873878,\n        -1.40803973, -0.71628653,  0.51513134, -0.04951792,  0.2896718 ,\n        -0.12113816, -1.01023384, -0.36465644,  0.96342028, -0.25557059,\n        -0.45952392, -0.12005854, -0.12829849, -0.3049884 ,  1.15429952,\n         0.46282443,  0.16224484, -0.38506972,  0.27189965,  0.34192212,\n        -0.17080315,  0.03584381,  0.40079453,  0.37851014, -0.04722161,\n         0.36517265,  0.07164263, -0.3219355 , -0.72005188, -0.69649808,\n         0.2969991 ,  0.29145727,  0.14825041,  0.41389324,  0.20851807,\n         0.38378383,  0.13935012, -0.01281266,  0.33320064]),\n array([ 0.07406784, -0.07038811,  0.80333276,  0.12319637,  0.27832768,\n         0.28368039,  0.4279755 , -0.25044396,  0.6353342 ,  0.32457853,\n         0.11042061, -0.24678313, -0.90978961,  0.19181382, -0.48856069,\n        -0.33821527,  0.43598765, -0.36735496,  0.27077515, -0.44347172,\n         0.46492366,  0.21517076, -0.35767464, -0.04107576, -0.25480279,\n         0.65855021,  0.77426612, -0.27558913,  0.5220801 ,  0.44760147,\n         0.45263535, -0.8639752 , -0.02615597, -0.2137686 ,  0.51654101,\n         0.22256499,  0.49820978,  0.56963024,  0.35050107, -0.10854382,\n        -1.10866587,  0.3034878 , -0.68975035, -0.42579444, -0.44401111,\n        -0.26604027,  0.46066837,  1.30320228,  0.15699601,  1.35809623,\n        -0.64137872,  0.56112812,  0.1030392 , -0.0781568 , -0.39166896,\n         0.4011617 , -0.81958407, -0.07109377,  0.09644476, -0.60569871,\n         0.06150094, -0.05526805, -0.17102847,  0.03690106]),\n array([ 0.77989989, -0.24668125, -0.31301719, -0.46587642, -0.07227551,\n         0.69101742,  0.68529034, -1.01546494, -0.94530544,  1.18545149,\n         0.13915923, -0.78675794, -0.49926959,  0.79014558, -0.02681246,\n         0.10766782, -0.22266084,  0.08812233,  0.00724199, -0.45523091,\n        -1.27905465,  0.82307301,  0.0375423 ,  0.0404902 ,  0.91642625,\n         1.16882727, -0.05400565, -1.07911939,  0.3136764 ,  0.4222479 ,\n         1.09529748, -0.16291278, -0.07237544, -0.42415124, -0.05313013,\n        -0.3626    , -0.46797239, -0.54468647, -0.88250444, -0.46552401,\n         0.69521067, -0.04496255, -0.11548848, -0.97144462, -0.0138233 ,\n        -0.23630414,  0.28019264, -0.02574647, -0.53456293, -0.13868011,\n         0.89809413, -0.05673589,  0.07453629, -0.16444641,  0.48123928,\n        -0.96237989, -0.76854459, -0.06798783, -0.85249362,  0.23582937,\n         0.22807648,  0.6086886 ,  0.21997636, -0.04278204]),\n array([-0.28076798, -0.41861701,  0.30042507, -0.15571652, -0.02373366,\n         0.20957738, -0.70498793, -0.24245581, -0.0729319 , -0.5089793 ,\n        -0.14055851, -0.38584629, -0.6639448 , -0.32994829,  0.22985743,\n         0.55657616,  0.33766728, -0.82947471, -0.53365995, -0.65590664,\n        -0.08591888,  0.43461556, -0.04188787, -0.09777952,  0.04502947,\n        -0.1877999 ,  0.50636777, -0.18804248,  0.28789261,  0.34486411,\n         0.16482077,  0.26327282,  0.21199383,  0.17142588,  0.28283643,\n        -0.2222012 , -0.4479591 , -0.0119329 , -0.99624883, -0.16692559,\n         0.1487695 , -0.23440144,  0.6987269 , -0.07277768, -0.92878503,\n        -0.70422353, -0.33331387, -0.12413046,  0.87175564,  0.0213554 ,\n         0.38152818,  0.08823829, -0.44137877, -0.68464507, -0.29529498,\n        -0.76871342,  0.47466578, -0.06106707,  0.72458401, -0.01346068,\n        -0.44167214, -0.00891352, -0.23703481, -0.54694087]),\n array([-0.03187581,  0.12092404, -0.51923358, -0.87615591, -0.24922675,\n        -1.02982488,  0.32729348,  0.22059539, -0.21992937, -0.02956047,\n        -0.54954185,  0.18072077, -1.03923735,  0.95778815, -0.00348294,\n        -0.53303171,  0.07361608, -0.6875246 ,  0.20213763, -0.33444355,\n         0.27452095, -0.62587216, -0.16451413, -0.62492492,  0.53763582,\n         0.08503962, -0.02782065, -0.22375038,  0.23879207, -0.03965124,\n         1.00496058,  0.11430809, -0.13072887, -0.13179612,  0.36078438,\n         0.89137034,  0.19888096, -0.34741007,  0.64037108,  0.06732952,\n         0.75381095,  0.61443825,  0.69831425,  0.31344737, -0.28957792,\n        -0.11928079, -0.29181438,  0.3396455 ,  0.00600039,  0.36868111,\n         0.56295223,  0.39947855, -0.06368542,  0.92228241, -0.2608809 ,\n         0.30542628,  0.23067698,  0.05084196,  0.07662158,  0.37016917,\n        -0.05018694, -0.57317699,  0.14853516,  0.4713187 ]),\n array([ 0.0249468 ,  0.31609053, -0.70344433,  0.33831422, -0.02343485,\n        -0.19455665, -0.63082731, -0.57355489,  0.35942597, -0.26619769,\n         0.90796778, -0.83254139,  0.60050127, -0.26189346,  1.12674044,\n         0.29171316, -0.077597  ,  0.34574506,  0.2162739 , -0.95444555,\n        -0.54521726, -0.94580882, -0.0675077 ,  1.09917126, -0.09421752,\n        -0.57310271, -0.32346324,  0.21198166,  0.34536333,  0.19984129,\n         0.49567179, -0.32880973, -0.0254877 ,  0.01090718, -0.70349946,\n        -0.37752958, -0.58339343, -0.0586854 , -0.3000759 , -0.32192433,\n        -0.33011255,  0.83410976,  0.07100777, -0.47086466,  0.03080168,\n        -0.73737785,  0.21790305,  0.11097271,  0.72580133,  0.27083896,\n         0.18885119,  0.36172433,  0.20554795, -0.80611715,  0.18732486,\n        -0.04758599, -0.74367543, -0.3646786 , -0.0779466 , -0.23237286,\n        -0.35737103,  0.22066589,  0.9059137 ,  0.68914836]),\n array([-0.7291041 ,  0.47043345,  0.56101002,  0.10283412,  0.58883084,\n        -0.08615143, -0.48009118,  0.08626908,  0.61811704, -0.61262477,\n         0.2480774 ,  0.217083  ,  0.21744754, -0.17999434, -0.24184078,\n         0.19162799,  0.969841  , -0.95753539, -0.32915349, -0.12281042,\n        -0.2734286 ,  1.1766667 ,  0.61911183,  0.83454225,  0.32965202,\n        -0.34480697, -0.88683019, -0.00802677,  2.09009616, -0.05502764,\n         0.31066367, -0.14800677,  0.39165988, -0.89983306,  0.14808024,\n        -0.02787694,  0.09046713, -0.20692246,  0.37456609, -0.13746746,\n        -0.17882671, -0.24967872, -0.32203082,  0.60603904, -0.088191  ,\n         0.07100334,  0.40707979, -0.78352667,  0.21559048,  0.51289382,\n         0.63833343, -0.1558576 ,  0.33082332,  0.07908243, -0.0642629 ,\n        -0.39214253, -0.48432989,  0.5670063 ,  0.19068955,  0.12334899,\n        -0.79363064, -0.18632327, -0.06678684,  0.49721181]),\n array([-0.25197013, -1.19881554,  0.16480431,  0.42112914, -0.03911333,\n         0.06879275, -0.33672043,  1.1050007 ,  0.1392806 ,  0.04793827,\n         0.45109098,  0.28508269, -0.14466399, -0.16997301, -0.412134  ,\n         0.6139043 , -0.6848541 ,  0.51231675,  0.04321068, -0.68394263,\n        -0.04902291,  0.18945059,  0.29011008, -0.41178737,  0.45929592,\n         0.25833062,  0.17088613,  0.05582567,  0.63534304, -0.1627163 ,\n         0.5385326 ,  0.16600702,  0.61263041, -0.73742223, -0.25114318,\n         0.04563513, -0.29662147, -0.60728398, -0.20521745,  0.23062115,\n        -0.72161573,  0.18473449,  0.3896568 , -0.02481106,  0.39264648,\n         0.07584548,  0.73501569,  0.06895911, -0.61840121, -0.08217201,\n         0.66942918, -0.5220126 ,  0.51199859, -0.3204885 , -0.09985405,\n        -0.3773806 ,  0.67203681,  0.61329814,  0.26424545,  0.18742026,\n         0.32816532,  0.01730951, -0.52623501, -0.68725087]),\n array([ 3.26771001e-01,  7.82501123e-01, -3.18981847e-01,  2.39000327e-01,\n        -6.15875073e-01,  5.61433981e-01, -3.47498955e-01,  7.93311925e-01,\n         5.47027740e-01,  2.55300555e-01, -2.87307377e-01,  7.17283352e-01,\n        -4.61105245e-01,  2.03573691e-01, -3.19271744e-01,  2.14675988e-01,\n        -2.77777852e-02,  9.24422269e-04,  7.17593473e-01,  3.74490251e-01,\n        -8.50711184e-01, -1.07762457e-01, -9.44125534e-01, -1.97390706e-01,\n         7.78975510e-01,  5.71427628e-01, -4.59781023e-01, -2.95150248e-01,\n        -8.30775071e-03, -6.28061930e-02,  1.00746091e-01, -6.68686186e-01,\n         2.69766500e-01,  2.09664652e-01, -4.21354659e-01,  6.64616974e-01,\n         5.84063257e-01,  6.57237458e-01, -1.00998269e+00, -2.24765350e-01,\n         5.77903422e-02, -7.68191739e-01,  2.13955363e-01, -2.21244176e-01,\n         2.58315395e-01,  3.76084963e-01,  1.97559977e-01,  7.40335613e-01,\n        -9.75493492e-02,  6.43699777e-01, -3.96783886e-01,  1.99664056e-01,\n        -1.92153415e-01, -7.12671927e-01,  9.44778931e-02, -5.09490857e-01,\n        -2.55678101e-01, -3.36886264e-01, -1.24079780e-01, -5.41301506e-01,\n         1.53259258e-01, -2.61178442e-01,  6.78796506e-01,  7.13954865e-01]),\n array([ 0.69787043,  0.07017525,  0.28271676, -0.55652834, -0.81457283,\n        -1.16065328, -0.02765686,  0.67647926, -0.17225077, -0.76958418,\n         0.69762886,  0.25425813, -0.50518596,  0.83053563, -0.28649564,\n         0.53429981, -0.42341186,  0.59217977,  0.33502708, -0.156443  ,\n         0.2083922 , -0.51617461, -0.18940056, -0.34906957,  0.2317434 ,\n         0.03879657, -0.76922177, -0.12925778, -0.38800944,  0.06010131,\n         0.77494106, -0.82424388,  0.57563539, -0.14900538,  0.40027214,\n        -0.14185535, -0.92896581,  0.59293157, -0.56923548, -0.51950821,\n        -0.59037346,  0.95014497, -0.32946723, -0.30355344,  0.62524674,\n        -0.28452187, -0.64278106,  0.04033367,  0.612737  , -0.39692637,\n        -0.46418264,  0.60340795,  0.74922384, -0.03679628, -0.60603611,\n         0.11596357,  0.12360637, -0.83156359,  0.3327057 ,  0.21128631,\n         0.9620754 , -0.8117738 , -0.84435039,  0.9316353 ]),\n array([ 0.53629994,  0.78482027, -0.16598412, -0.49366608,  0.41907587,\n        -0.76346297, -0.07227397,  0.62911723,  0.60208548, -0.98710875,\n        -0.61237706, -0.4480094 ,  0.06719306,  0.41433671, -0.15821948,\n        -0.58017689, -0.42088336, -0.19553522, -0.26741608,  0.17913357,\n         0.13637375, -0.02689544, -0.38833651,  0.03413019, -0.33185634,\n         0.44982044,  0.07016184,  0.05353249,  0.0382796 ,  0.26252222,\n         0.07867052,  0.29661034, -0.00479049, -0.81931243, -0.36483989,\n         0.34383204,  0.27032138, -0.55639443, -0.1292474 , -0.10611788,\n        -0.07707413,  0.41338043,  0.4745263 ,  0.4700814 ,  0.46298224,\n        -0.87707678,  0.5926184 , -0.25410611, -0.07118086, -0.45847568,\n         0.54983363,  0.50480117,  0.5085746 , -0.38219994,  0.4573065 ,\n         0.64673639,  0.62638765,  0.23063456,  0.20006151, -0.16672322,\n         0.1917136 , -0.38505243, -0.14797568, -0.82922167]),\n array([ 0.16085224, -0.09928212, -1.03826357, -0.21633901, -0.38271159,\n         0.73414543,  0.09113111,  0.2845391 , -0.15072756, -0.11432511,\n        -0.4998054 ,  0.64771209,  0.46535428, -0.96980669,  0.54878555,\n         0.84460428, -0.49819427, -0.42788604,  0.34632682,  0.24030327,\n         0.16798597,  0.58063073,  0.03173634, -0.21449783, -0.41587772,\n         0.54360712,  0.4345399 , -0.33661977,  0.71746317, -0.47614655,\n         0.34534842, -0.22399365, -0.19118802, -0.82786067,  0.8968617 ,\n         0.39274236, -0.15432499, -0.31226036, -0.53278645, -0.42828904,\n        -0.29063306,  0.58518671, -0.35571443, -0.69133357, -0.24933731,\n         0.47697486,  0.57334911, -0.4474397 , -0.35897882,  0.12899563,\n        -0.25370699,  0.30190261,  0.23172046,  0.54692102,  0.20982791,\n         0.8811028 ,  0.14876266, -0.13055745, -0.15900676, -0.11433136,\n         0.65633551,  0.86308329, -0.45504891, -0.12984762]),\n array([ 0.1473933 ,  0.40875729,  0.42094981, -0.62051033,  0.15659404,\n         0.19456764,  0.86891301,  0.11750698, -0.42318678,  0.29077771,\n         0.09888963,  0.51857073, -0.20651761,  0.51231317,  0.60251723,\n         0.97892131,  0.23908931,  0.19691536, -0.18122919,  0.7792035 ,\n         0.42156359, -0.29497478,  0.12221137,  0.10964512, -0.26793562,\n        -0.87497386,  1.02564744,  0.02768023,  0.53743115,  0.5056048 ,\n         0.1800892 , -0.70752139,  0.04147845,  0.19635989,  0.54709168,\n         0.87374475, -0.11874208,  0.19093978, -0.44513798,  0.07188697,\n         0.27242656,  0.47150822, -0.36876506, -0.33394294, -0.19636042,\n         0.59627571, -0.37304549, -0.35561937, -0.34676084,  0.23954677,\n         0.36348277,  0.0293564 ,  0.4196017 ,  0.17407663, -0.62466158,\n        -0.26693412,  0.11748939, -0.60491034,  1.11621235, -0.72608438,\n         0.66592951, -0.09593433, -0.20242952,  0.01033975]),\n array([ 0.60321946,  0.16568442, -0.66998099,  0.20694082,  0.63477323,\n        -0.45229295, -0.2530298 ,  0.28385319,  0.28574464,  0.72259119,\n         0.68840731, -0.01646718,  0.37923036, -0.15728206, -0.78134651,\n         0.30040315,  0.47097004, -0.32502198,  0.16019827, -0.0441152 ,\n         0.82783733,  0.36408308,  0.97874683, -0.40188577,  0.28257637,\n        -0.19137685,  0.31227962,  0.19774276,  0.89308097,  0.47209205,\n        -0.43911199, -0.14310301, -0.60008458, -0.33704057, -0.42903518,\n         0.40592124,  0.19520009,  0.21516109,  0.69373816,  0.05999633,\n        -0.34053235,  0.5533561 ,  0.0604647 ,  0.01127805,  0.69162835,\n         0.23132544,  0.3688474 , -0.73531796, -0.03586935, -0.63620135,\n        -0.51753264,  0.03500031, -0.1615154 ,  0.27606893,  0.47846969,\n        -0.78933015,  0.42147844, -0.24178779, -0.75314731,  0.72214527,\n         0.35830204, -0.1124143 , -0.23551597,  0.84305559]),\n array([-5.31902279e-01,  1.49165543e-01,  6.01785424e-01, -2.73635801e-01,\n         1.27632052e-01, -9.80180418e-01,  5.34748927e-01, -7.07233996e-04,\n         1.14572691e+00, -6.89993908e-02,  5.21369906e-01,  2.90945729e-01,\n        -4.21620757e-01, -4.87334740e-01,  2.05448990e-01,  1.45480650e-01,\n         1.03992471e-01, -9.44665862e-01, -8.50568212e-01,  6.44647161e-03,\n        -6.41773674e-01,  1.06097160e+00,  3.29659404e-01,  2.30680706e-01,\n        -4.94386679e-01, -2.02660542e-01,  2.72898507e-01, -6.69711943e-01,\n         5.37730119e-01, -3.51268092e-01,  6.66789949e-02,  1.62857807e-01,\n        -3.01347927e-01,  1.45399540e-01, -1.09189659e+00, -2.24107308e-01,\n        -2.70482238e-01,  4.22108791e-01, -4.38162582e-01, -1.01007580e+00,\n        -4.01021609e-01, -3.61733573e-01, -7.24406436e-02, -4.27085998e-01,\n        -3.21886098e-01,  6.09986749e-01,  2.67889488e-01, -3.65508951e-01,\n         2.93813994e-01, -3.49438200e-01,  7.58971927e-01,  4.77915238e-01,\n         7.35983922e-01,  6.49339779e-01, -8.63800617e-01,  7.66171585e-01,\n        -3.87700468e-01,  1.53930617e+00,  7.42671990e-01, -6.87546271e-02,\n        -1.75463222e-01, -4.35019730e-01,  7.85683344e-02,  5.10823705e-01]),\n array([ 0.41273189, -0.54675582, -1.12569052, -0.09150197,  0.79502367,\n         0.03531419,  0.84915964,  0.08860429, -0.2316848 ,  0.72821941,\n        -0.29836233,  0.96081756,  0.17117943, -0.01829178,  0.06647093,\n         0.03121372,  0.1228753 ,  0.0233325 ,  0.32729803,  0.54905943,\n        -0.15578325, -0.58949403, -0.00710817,  0.53940922, -0.09478929,\n        -0.13397276,  0.04836139,  0.163178  ,  0.20549119, -0.40519631,\n         0.43754786,  0.62601097, -0.10054582, -0.72566946, -0.43990699,\n         1.46455305, -0.30030059,  0.25239194, -0.04127277, -0.07759441,\n         0.40847348, -0.56001915,  0.17600383,  0.35973566,  0.50397796,\n         0.35113251,  0.46907874,  0.90696457, -0.70604432, -0.13329866,\n         0.64443659, -0.01900077,  0.66953209,  0.40423314, -0.09774644,\n         0.10371259,  0.48967439,  0.03399569, -0.34674972,  0.31821104,\n         0.09412946,  0.26147745,  0.1953147 ,  0.15714889]),\n array([ 0.21009313, -0.46454294,  0.25115173, -0.12103773,  0.54078604,\n        -0.80616764,  0.43178638, -0.86167006,  0.51378576,  0.57766224,\n        -0.12879694, -0.57797162,  0.22699054, -0.29409925, -0.23681896,\n        -0.59226592, -0.76981868,  0.52811006, -0.37567957, -0.21511447,\n        -0.05215876, -0.71086204, -0.2729277 ,  0.17488661, -0.8093261 ,\n         0.31372427,  0.52811395,  0.11801894, -0.2597813 ,  1.16639389,\n         0.09512766,  0.2362138 ,  0.07841257, -0.32969539,  0.62548927,\n         0.81285793,  0.04797092, -0.00715056,  0.32434491,  0.53524039,\n        -0.99524287, -0.31827912, -0.04107902,  0.1750064 ,  0.19263575,\n        -0.40759244, -0.24158295, -0.61228521, -0.14910827,  0.68207874,\n         0.07750882,  0.22769381,  0.30010603,  0.29050226,  0.06951978,\n        -0.080049  ,  0.4040187 , -0.76566729, -0.20439745, -0.14995123,\n         0.84128098,  0.58622964,  0.2386573 ,  0.66986042]),\n array([-0.46207954,  0.48538502,  0.42825944,  1.1943145 , -0.58205126,\n        -0.08599601,  0.09424936,  0.0305116 ,  0.16768774,  0.25134125,\n         0.1964478 , -0.41849665, -0.07387518, -0.13328115,  0.23145697,\n         0.19752502, -0.07976761, -0.42021818,  1.01976112,  0.06107106,\n         0.15542462,  0.49985638, -0.10186071,  0.00529111,  0.3992387 ,\n         0.24214273, -0.33884615, -0.13269894,  0.19321133, -0.97537978,\n         0.25508555,  0.23866675, -0.08282746, -0.08439768, -1.00390105,\n        -0.29943752,  0.61253579, -0.04547876,  0.54706437,  0.63459243,\n        -0.17041605, -0.50192817,  0.06979137,  0.30294141,  0.45441155,\n         0.20667803,  1.06746793, -0.16140979,  0.34916137,  0.52697658,\n        -0.67199945, -0.8376193 ,  0.38513323,  0.26137921,  0.17555838,\n        -0.12361704,  0.5279795 , -0.80993354,  0.42878538,  0.52747925,\n        -0.54608051, -0.84990303,  0.03374552, -0.6512625 ]),\n array([-0.12944572,  0.47433211, -0.39478693,  0.1916972 ,  0.33393901,\n        -0.26885815, -0.03842914, -0.28769814, -0.92422678,  0.15520856,\n        -0.81244094, -0.61492266, -0.23746199, -0.58295387,  0.4795596 ,\n         0.08546861,  0.85504935, -0.11272188, -0.14810689, -0.44842493,\n        -1.15063904,  0.26659928, -0.15758132,  1.00929491, -0.42701301,\n        -0.48412506, -0.01611841,  0.58175018,  0.53605866, -0.08461598,\n        -0.70674193,  0.12680799,  0.34337134, -0.38388698, -0.13731927,\n        -0.17002714,  0.75261045, -0.7061547 ,  0.09253319,  0.73109402,\n         0.10175442,  0.75490869, -0.57762156,  0.29779075, -0.19208423,\n        -0.97208874,  0.57061294,  0.61891961, -0.15531732,  0.31769809,\n        -0.0624952 ,  0.15223372,  0.00169082, -0.09127595, -0.11452437,\n        -0.27471984, -0.35380845, -0.0114066 , -0.55714037,  0.29499995,\n        -0.32768678, -0.32216822,  0.71837324, -0.06812622]),\n array([ 0.2538114 ,  0.15645178, -0.14846012, -0.03835203, -0.08108059,\n         0.55353762, -0.67187269,  0.00260784,  0.3022797 ,  0.51239036,\n        -0.08261724,  0.4618979 ,  0.67201651,  0.26453621, -0.04002901,\n        -0.13469054, -0.42136222,  0.17460224,  1.07670362,  0.56744058,\n         0.12029034,  0.24688534, -0.26652402,  0.41334031,  0.54497663,\n         0.30581147, -0.16128513,  0.43270719,  0.24914957, -0.47678714,\n        -0.17987773,  0.11623944, -0.26895233,  0.73476044,  0.35440267,\n        -0.0050269 , -0.17070611, -0.90635983, -1.40833602,  0.6139848 ,\n         0.02716784,  0.51018037,  0.25532751,  1.14104744, -0.13438786,\n         0.2538491 , -0.43950123, -0.41780601,  0.41197562, -0.22442379,\n        -0.2435168 ,  0.03227123,  0.24028981, -0.30664858, -0.49656772,\n        -0.60606779, -0.35878468, -0.30787661, -0.069508  , -0.10518463,\n         0.35491134, -0.47826187,  0.6044171 , -0.20768415]),\n array([-0.17859573, -0.58098602, -0.18248992, -1.01674723, -0.563273  ,\n         0.08628005, -0.03315059, -0.01734953,  0.41583091,  0.27231879,\n         0.77020152,  0.36154753,  0.09984379,  0.34092054, -0.0795097 ,\n        -0.38042802, -0.2895145 ,  0.21939449,  0.2025028 ,  0.7617446 ,\n        -0.42812081,  0.12089281, -0.02380885, -0.01862218, -0.66578697,\n        -0.87473871, -0.79502588, -1.2261358 ,  0.16635911,  0.15464763,\n        -0.03986185,  0.79934474,  0.97848948,  0.70298375, -0.01835058,\n        -0.52902819,  0.07702858,  1.35533113, -0.18469005, -0.01685539,\n         0.27608128, -0.27911785, -0.57323613, -0.52593629,  0.48257052,\n         0.17028755, -0.58474706,  0.53527989,  0.0665281 ,  0.56022511,\n        -0.44901442,  0.28992797,  0.54944059,  0.64711546,  0.05065979,\n         0.11786088, -0.19980493,  1.59031492, -0.79853206, -0.46575778,\n         0.35158814,  0.42107579,  0.04802327, -0.04869871]),\n array([-0.73714584,  0.53198828, -0.73209803, -0.03753975,  0.12263008,\n        -0.35362397,  1.36583274, -0.51800544,  0.34789799, -1.06196383,\n        -0.32140583,  0.26990267, -1.48532109,  0.60367643,  0.40589736,\n        -0.17883427, -0.35231569, -0.12020816, -0.68622371, -0.55928903,\n         0.47885439, -0.57753679, -0.38342688, -1.01729759, -0.71698486,\n         0.10556427,  0.13721019,  0.18639821,  0.09156206, -0.03771672,\n         0.26595707,  0.02549048, -0.21226955, -0.11592655, -0.16525886,\n         0.198365  , -0.86010725, -0.10172291,  0.31629129, -0.04164274,\n         0.14213632, -0.16512062, -0.0716478 ,  0.43892922,  0.50951962,\n        -0.48432018,  0.26645192, -0.14986793, -0.35709856,  0.11108233,\n        -0.22811718, -0.48704638,  0.58485176,  0.20664618, -0.5749798 ,\n         0.33772737, -0.6901019 ,  0.26270132, -0.03150678, -0.9024787 ,\n         0.27256684,  0.58132992, -0.7107947 , -0.57025688]),\n array([-0.99183237,  0.02523355, -0.34122039, -1.01565549, -0.2033384 ,\n         1.05809111,  0.24076026,  0.04842581, -0.9946909 , -0.18451822,\n        -0.86359057,  0.32783519, -0.95209815, -0.51871826, -0.52004237,\n        -0.18461166, -0.65712399, -0.39734228, -0.12212578,  0.13848428,\n         0.83579816,  0.40676415, -0.64405505,  0.79855439,  0.37747675,\n        -0.41419666, -0.85108744, -0.30945482, -0.00883153,  0.39732605,\n        -0.86538938, -0.63307026,  0.15729394,  0.22294905,  0.56610149,\n         0.05214449, -0.50432297,  0.08887556, -0.00678755, -0.30176001,\n        -0.56011148,  0.69691052, -0.2197112 ,  0.41897745,  0.20407025,\n         0.28722904,  0.92531666, -0.34031089,  0.28797447, -0.95620753,\n        -0.1939957 , -0.96970401,  0.70357372, -0.33225062, -0.4253922 ,\n         0.10840981,  0.90539299, -0.27545182,  0.09240971,  0.97942124,\n         0.37080667,  0.4849645 ,  1.20700552,  0.43417226]),\n array([-7.13930814e-04,  5.20336038e-01, -7.69477766e-01,  8.60565330e-02,\n        -2.59640505e-01, -7.42021782e-01, -3.27551540e-01, -6.81482438e-01,\n         3.27826059e-01, -2.99498840e-01,  8.53175562e-01, -4.15912065e-01,\n        -9.44198080e-01,  7.75837486e-01,  9.60826556e-01,  6.90425992e-01,\n        -1.02667645e-01, -2.93800852e-01,  5.78247323e-01,  7.34954861e-01,\n         2.78554900e-01, -5.13281049e-01,  7.39945152e-02,  3.60639882e-01,\n        -7.95329146e-01, -8.62268199e-02, -3.62148919e-01,  3.69850428e-01,\n        -3.16501704e-01,  2.68904111e-01, -6.65091268e-01, -2.29541657e-01,\n        -4.96449539e-01,  5.13038256e-02,  5.34011435e-01,  5.65168987e-01,\n         5.32943734e-01, -2.94476110e-01,  1.86056584e-01,  7.60286876e-01,\n        -1.56879517e-01, -2.10429782e-01, -5.70226709e-01,  4.75105088e-01,\n        -4.07220909e-01, -4.05648108e-01, -5.89123306e-01,  2.89862891e-04,\n         9.67712079e-01, -8.37851892e-01, -1.53818174e-01, -4.30786954e-01,\n         6.49989849e-01,  5.30949182e-01,  2.97369486e-01, -6.20013031e-01,\n        -1.91268971e-01,  6.26408601e-01,  3.08824028e-01, -4.01064220e-01,\n         6.76346865e-01, -7.52497135e-01,  7.62163716e-02, -9.65384360e-01]),\n array([ 2.51209639e-01, -3.53850813e-01, -6.15505846e-01,  1.22571107e+00,\n        -2.88211070e-01,  2.66139339e-01, -5.30409783e-01,  5.43772109e-02,\n         6.62415006e-01,  2.43791016e-01, -8.48854809e-01, -1.56147319e-02,\n        -7.86388801e-01, -3.88282468e-01, -4.99920753e-01,  2.82719943e-01,\n        -4.39462367e-01, -7.66108129e-01,  5.07570597e-02,  3.10137698e-01,\n        -1.15893614e-03, -2.48182617e-02,  3.81269781e-01,  6.02193850e-01,\n         5.99757487e-01, -3.23823601e-01,  1.40465402e-01,  3.50082308e-01,\n        -1.22727318e+00, -3.83745841e-01, -5.31639089e-01,  1.21875824e-01,\n         1.43779614e-01, -2.91032454e-01,  5.17938191e-01,  5.59576741e-01,\n        -2.48596125e-01, -4.27198804e-02,  7.26490923e-01,  6.77479889e-01,\n        -1.33826459e+00,  5.01992385e-01, -9.87598706e-02,  5.24713864e-01,\n         5.43814821e-02, -8.45757372e-02,  3.45196702e-02, -8.46506778e-01,\n        -3.19911174e-02,  4.41507981e-01,  3.30005884e-01,  2.95348399e-02,\n        -2.65390871e-01,  2.33431993e-01,  2.27359823e-01,  6.37407246e-01,\n         1.85690162e-01, -9.01794682e-02, -8.10581725e-01,  4.58187769e-01,\n        -1.32350606e-01, -1.08288932e+00,  4.21961669e-01,  1.21272077e-01]),\n array([-0.21208655,  0.1743624 , -0.11451678, -0.629546  , -0.20039427,\n         0.28558635,  0.82444626, -0.28472263, -0.51508754, -0.51166907,\n         0.1435522 ,  0.05037333, -0.30267774, -0.02528765,  0.55836302,\n        -0.26315088, -0.17215183, -0.35160706, -0.60202457,  0.82411809,\n         0.64411828,  0.42893882,  0.64578073,  0.06364762, -0.2033663 ,\n        -0.2825135 ,  0.83848585, -1.40653907,  0.620879  ,  0.24953473,\n         0.14285232,  0.31009557,  0.46753903,  0.55924213,  0.7231242 ,\n         0.19309068, -0.68097388, -0.010594  ,  0.54770929, -0.45562394,\n        -0.44213056,  0.09022233, -0.52145961,  0.21108325, -0.80980805,\n        -0.90459128, -0.86196116, -0.11380641, -0.68118418,  0.16406179,\n         0.11443934, -0.44701267,  1.14146957,  0.12383721,  0.72178562,\n         0.75083786,  0.23618514, -0.42017123, -0.19566674, -0.16192833,\n        -1.0851458 , -0.25742651, -0.92594604, -0.46080472]),\n array([ 0.9500708 , -0.43809111, -0.30514576, -0.58852975,  0.03203168,\n         0.25420245,  0.05786725, -0.00272745,  0.10978299,  0.25313209,\n        -0.93693626, -0.66304721,  0.39972936,  0.912832  , -0.29142603,\n        -0.16267287, -0.19189871, -0.34186636, -0.01896499,  0.19688431,\n        -0.43323385,  0.4252319 ,  0.05238145,  0.53977362, -0.10726081,\n        -0.174347  ,  0.62691235, -0.15125087,  1.11150556, -0.42497434,\n         0.46561814,  0.36787164,  0.17861519, -0.06242257, -0.07007333,\n        -0.16334522,  0.16678178, -0.30769043,  0.1348707 ,  0.2913373 ,\n         0.61622449,  0.04632374,  0.1731613 , -0.24172435, -0.14199963,\n         0.35391029, -0.19291277,  0.10588071, -0.09097055, -0.43177837,\n        -0.92636303, -0.36432479, -0.42987451,  0.31506524,  0.44856825,\n         0.2402933 , -0.4382025 ,  0.38477128, -0.57368923,  0.2200851 ,\n        -0.10936463, -0.35308807, -0.35997535, -0.72901609]),\n array([-0.29433956, -0.17392846,  0.50443016, -0.42592061, -0.26830741,\n        -0.27496771, -0.20477199, -0.58378833,  0.12182688, -0.25271616,\n        -0.7252234 ,  0.51132457, -0.31736868,  0.29891272, -1.04496285,\n        -0.26770285, -0.56621081, -0.44169853, -0.48793263, -0.81879582,\n        -0.19362044,  1.0088125 ,  0.05028547, -0.07370142, -0.07692072,\n         0.05576747, -0.34432496, -0.63330137, -0.09700342, -0.91729488,\n         0.09782523,  0.19706953,  0.34198155,  0.48774045, -0.11456027,\n        -0.5674423 , -0.04174279,  0.47314021,  0.08440545, -0.58348595,\n        -0.74592328, -0.13244007,  0.914183  , -0.31841479, -0.08814931,\n        -0.40456126, -0.65890784, -0.62398028, -0.86754461, -0.48984182,\n         0.22326786,  0.88540736,  0.10018322, -0.89607249, -0.32658949,\n        -0.39425029, -0.16437605,  0.61427974, -0.4878148 ,  0.10452471,\n         0.53356175,  0.5356997 ,  0.14803966,  0.00371157]),\n array([-1.66816071e-01,  5.16299965e-01,  6.00713231e-01,  5.20804468e-01,\n         1.47357038e-01, -9.59582405e-01, -1.36698080e-01,  8.13762482e-01,\n        -2.88453910e-02, -3.83919606e-01,  1.71556445e-01, -2.51206730e-01,\n        -1.02133845e-01, -2.22455011e-02, -5.34651444e-01,  1.23896739e+00,\n        -3.16991256e-01, -3.14483802e-02,  1.47558325e-01,  2.34953368e-01,\n         5.02187200e-01, -3.87151468e-01, -3.34001515e-01,  2.14025859e-01,\n         1.33515296e-01, -5.70167787e-01, -9.22295702e-03,  4.73918192e-01,\n        -2.69784180e-01, -2.07523804e-01,  9.87240049e-02,  4.66564394e-01,\n         2.00580617e-01,  1.67246207e-01,  5.30975469e-01,  4.79375701e-01,\n        -7.36791172e-01,  5.91486900e-01, -2.98912697e-01,  4.80013058e-01,\n        -2.97516155e-01,  2.38642533e-01,  5.60780872e-01, -3.27092601e-01,\n         3.31564536e-01, -1.24820980e-01, -1.34965974e-01,  8.48628778e-02,\n         6.38238335e-02, -9.07732382e-02,  6.47774418e-02, -8.02152157e-01,\n        -2.66716838e-01, -4.15065927e-01, -6.63211535e-02, -1.79687867e-04,\n        -1.30400076e-01,  1.32812761e-02,  3.83581698e-01, -6.54856717e-02,\n         5.18183600e-02,  2.69349407e-01,  2.38793710e-01,  4.57346777e-01]),\n array([ 0.28090526, -0.27205276,  0.22933333, -0.25945448,  0.03661363,\n        -0.05458302,  0.45899737, -0.40134884,  0.35772882,  0.26947373,\n        -0.37501229, -1.20270901, -0.3714859 ,  0.40403616, -0.53401253,\n         0.46176505,  0.5028519 , -0.38856246, -0.50291314,  0.18444518,\n        -0.14141713,  0.32999554, -0.3819967 ,  0.21752455,  0.11792197,\n         0.09745239, -0.06093314,  0.93905332,  0.03760243, -0.8767685 ,\n         0.71642347, -0.25833989, -0.28359953,  0.71250962, -0.03014547,\n        -0.89005393, -0.71326338,  0.41859959, -0.10954213, -0.29630873,\n        -0.75090599,  0.12032033, -0.17873433,  0.48051048, -0.17154521,\n        -0.62717842, -0.07238557, -0.42900899, -0.70841594,  0.12379187,\n        -0.34645506,  0.09487112,  0.36110571,  0.11279136, -0.14428111,\n        -0.25694851,  0.80270289,  0.31619151,  0.38125407,  0.73036034,\n        -0.44098564,  0.23249613,  0.53744583,  0.52525588]),\n array([ 0.28253723,  0.21808736,  0.08716513,  1.09542252,  0.14698846,\n         0.59210276, -0.42624468, -0.74312114,  0.37116004, -0.29866239,\n        -0.63089879, -0.18962779,  0.10075202, -0.31991672,  0.35342086,\n        -0.03757806, -0.28384304, -0.34770877, -0.18720841,  0.2510542 ,\n        -0.0890757 ,  0.47699964, -0.53176374, -0.45096676, -0.02835527,\n         0.70468218, -0.1075114 , -0.05444324, -0.48375076,  0.03163966,\n         0.9516933 , -0.81300723,  0.05351177,  0.58688763, -0.56679197,\n         0.08450083,  0.89104225,  0.25363297,  0.54302962,  0.78575525,\n         0.39726628, -0.98444867, -0.62910126,  0.60931696, -0.36112256,\n         0.61511904,  0.55778555, -0.43270398, -0.01063264,  0.66819743,\n         0.25214871, -0.31170636, -0.92844197,  0.60148942,  0.24850214,\n         0.45920867, -0.59442955, -0.09875505,  0.90998121, -0.12974831,\n        -1.11151385, -0.05102852, -1.19952614,  0.9037082 ]),\n array([ 0.09997008,  0.22499227, -0.75234927,  0.0488581 , -0.41318484,\n         0.21712987,  0.34074802, -0.33445995, -0.19418616, -0.26872303,\n         0.17992984, -0.23820567, -0.82893505, -0.43721605, -0.35876402,\n         0.08403239,  0.17677427, -0.17207596,  0.25829467, -0.09522351,\n        -0.0767976 ,  0.43123246,  0.05486571,  0.12661714,  0.54356636,\n        -0.40464083, -1.10009541,  0.39574398,  0.42659834, -0.30270305,\n         0.63267647,  0.08847183,  0.48227277, -0.77022477,  0.20034621,\n        -0.69748252,  0.15275155, -0.44259209,  0.06375838,  0.09433467,\n        -0.7211947 ,  0.17555571,  0.56165664,  0.39372031,  0.0225621 ,\n        -0.17700691,  0.46326676, -0.14527405, -0.40077347, -0.20758469,\n         0.20283329, -0.18578978, -0.53066553,  0.61059956,  0.00262269,\n        -0.3141091 , -0.24518978, -0.83938801, -0.11881247,  0.00926118,\n         0.47082025,  0.87015679, -0.08458041,  0.90433895]),\n array([ 0.10390674,  0.16667661, -0.43143291, -0.47430557, -0.15122065,\n        -0.17817456, -0.83736835,  0.75262702,  0.09250029, -0.27474241,\n        -0.22213678, -0.2079206 ,  0.19253697,  0.00618871, -0.23816827,\n         0.08453819, -0.0654482 , -1.06200491, -0.12449944,  0.43390359,\n         0.48006765,  0.52785015, -0.0098029 , -0.36229955,  0.41378559,\n        -0.07191298, -1.14311828,  0.82329323, -0.51960942,  0.09512772,\n        -0.54339753, -0.0199865 , -0.28407417, -0.20538688,  0.07204598,\n        -0.08737554, -0.05166158,  0.18201429,  0.03467114,  0.24730006,\n        -0.0035402 , -0.09136447,  0.01894272, -0.27967982,  0.21045008,\n        -0.033898  ,  0.39486223, -0.37943233, -0.02763494,  0.1284719 ,\n         0.30040186,  0.63313692, -0.14255549, -0.5523469 , -0.08089267,\n         0.43310612, -0.48602602,  0.21735791, -0.21798388, -0.03863685,\n        -0.98150613, -0.32321425, -0.63923054,  0.13615617]),\n array([ 0.22060419, -0.36233812, -0.70335499,  0.22785872,  0.25950984,\n        -0.74807663, -0.28894686, -0.02753996,  0.08001519,  1.06106569,\n         0.16324181,  0.14732821, -0.30710246, -0.19843021,  0.159193  ,\n        -0.48161534,  0.10432649, -0.46857278,  0.17562885,  0.27457435,\n         0.23395929,  0.14036279,  0.54617476,  0.97705577,  0.31529237,\n         0.44669119, -0.10572224,  0.7421691 , -0.41317234,  0.24397185,\n         0.13621579, -0.01677673,  0.50650713,  0.60948832, -0.42798182,\n         0.17158989, -0.47262183, -0.15119722, -0.50435836, -0.77453954,\n        -0.02257782,  0.03074956, -0.12086988, -0.57738483, -0.44845588,\n         0.16367398, -0.81069413,  0.46898555,  0.32773399,  0.49170253,\n        -0.62597105,  0.23690139,  0.00373124, -0.18995946,  0.64099236,\n        -0.65436227, -0.38195701,  0.20057753,  0.19346842, -0.23443863,\n        -0.10659912,  0.26962032, -0.52896678,  0.21981097]),\n array([ 2.33229125e-01,  5.13811847e-01, -2.43988912e-01, -2.12115721e-01,\n         6.66886974e-01, -1.98513783e-01, -8.92575085e-01,  6.90843174e-01,\n        -3.15011735e-05,  2.31157877e-01,  1.83063237e-01,  1.39472704e-01,\n         9.59758553e-01, -1.98332477e-01,  5.92637424e-01,  7.67577194e-02,\n         2.47787977e-01,  4.45892831e-01, -1.82087310e-01, -4.32636398e-01,\n        -1.32111838e-01, -1.11286289e+00, -7.66568481e-01, -8.65540387e-02,\n        -1.30434115e+00, -5.33760861e-01, -1.45094165e-01,  2.88331343e-01,\n        -5.66223841e-02,  9.11519394e-01, -4.02116340e-01,  6.45757007e-01,\n         1.92705913e-01, -6.73222314e-01, -3.40199540e-02,  2.29614907e-01,\n         1.21210009e-01, -1.13215071e+00, -5.47753362e-01, -1.47374076e-01,\n         2.31972447e-01,  8.74895082e-02,  4.46338155e-01,  3.71666161e-01,\n        -6.72399532e-01, -2.90638654e-01,  2.18956318e-01,  3.27805795e-01,\n         9.35757505e-01,  3.31102440e-01,  2.39468301e-01, -6.06619627e-01,\n        -4.51678979e-01, -4.32809961e-01,  3.22303329e-01, -8.80965952e-02,\n         2.14250180e-01, -5.23648511e-01, -1.49511615e-01, -2.46848065e-01,\n         2.62772768e-01, -2.51288266e-01, -1.61424651e+00, -2.79442274e-01]),\n array([-1.0367682 , -1.18963712,  0.03985339, -1.32809519,  0.50021735,\n        -0.15296115, -0.34584133,  0.43466649,  0.47691604,  0.3507409 ,\n        -0.09333941,  0.09034805,  0.01487548,  0.34194563,  0.41869288,\n         0.8073304 , -0.13999324, -0.71656101,  0.35502039, -0.82877443,\n         0.04030995, -0.47297052, -0.05324295, -0.05010286,  0.54358945,\n        -1.03280168, -0.28343764,  0.0148573 , -0.16956646,  0.67909735,\n         0.46231662, -0.53936308, -0.00133484,  0.53435357, -0.47131518,\n        -0.08296656, -0.08175787, -0.49566968,  0.44291226,  0.50366271,\n         1.03707812, -0.05110989,  0.9121971 , -0.18576513,  0.28638884,\n         0.05997824,  0.47328484,  0.645953  ,  0.4963479 , -0.4178904 ,\n         0.2415908 , -0.09231348, -0.41081832,  0.2990678 , -0.21044478,\n         0.59235743, -0.21464118,  0.49006407,  0.05494795,  0.2413446 ,\n         0.27170324,  0.03543947, -1.05391961, -0.15083814]),\n array([ 0.62685755,  0.64609221,  0.07812005,  0.11172269, -0.34456461,\n        -0.20738742,  0.8654703 , -0.22698883, -0.65086716, -0.70836001,\n         0.41141979, -0.00850413,  0.04687545, -0.18281288,  0.41269141,\n        -0.07819004,  0.16979296, -0.42769539, -0.42516563,  1.36072762,\n        -0.07750425,  0.80206671, -0.0587208 , -0.98684842, -1.49699524,\n        -0.1734692 ,  0.02428415, -1.34785632, -0.49617794, -0.33263382,\n         0.41184387,  0.15518374, -0.43815141,  0.23226944,  0.09338276,\n        -0.09855907,  0.48034387, -0.73121615,  0.74520965,  0.05203155,\n        -0.49512585, -0.57608045,  0.37438238,  0.14762429, -0.57101142,\n        -0.80573476,  0.1450375 ,  0.22554002, -0.01130434, -0.01427792,\n         0.51004062, -0.21020616, -0.37634655, -0.25610049, -0.57921421,\n         0.40626266,  0.42089567, -0.40522752, -0.42153931,  0.03004959,\n         0.05547131,  0.02802554,  0.41654984, -0.67953454]),\n array([-0.23620683,  0.3147632 , -0.13683804,  0.48039714, -0.25354613,\n        -0.07174635, -0.45279396, -0.31066118,  0.06401245, -0.62208352,\n         0.85424221, -0.55043139,  0.15017321, -0.77616599,  0.11028157,\n        -0.60265155,  0.31635984,  0.10831338,  0.28144848,  0.68761741,\n        -0.54565756, -0.74774209, -0.04585152,  0.36735328,  0.29951725,\n         0.76883148,  0.23420858,  0.18409843,  0.59600927,  0.62026298,\n        -0.76217417,  1.60498834, -0.34848567, -0.31508068,  0.01351921,\n        -0.48487999,  0.24915133,  0.34657296,  0.1110702 ,  0.79558569,\n        -0.39348769, -0.39331699, -1.06962451, -0.41196249,  0.07623022,\n         0.07469379, -0.46159279,  0.16490926, -0.64286574, -0.51040309,\n        -0.05521846,  1.00593209, -0.39702738, -0.38738182, -0.36264541,\n        -0.73425603,  0.8636456 ,  0.47744434, -0.30791398,  0.16215259,\n        -0.79139532, -0.55343021,  0.34086978, -0.12274323])]"
     },
     "execution_count": 4,
     "metadata": {},
     "output_type": "execute_result"
    }
   ],
   "source": [
    "[np.random.normal(loc=0,scale=0.5, size=64) for i in range(64)]"
   ],
   "metadata": {
    "collapsed": false
   }
  },
  {
   "cell_type": "code",
   "execution_count": null,
   "outputs": [],
   "source": [],
   "metadata": {
    "collapsed": false
   }
  },
  {
   "cell_type": "code",
   "execution_count": null,
   "outputs": [],
   "source": [],
   "metadata": {
    "collapsed": false
   }
  },
  {
   "cell_type": "code",
   "execution_count": null,
   "outputs": [],
   "source": [],
   "metadata": {
    "collapsed": false
   }
  },
  {
   "cell_type": "code",
   "execution_count": null,
   "outputs": [],
   "source": [],
   "metadata": {
    "collapsed": false
   }
  },
  {
   "cell_type": "code",
   "execution_count": null,
   "outputs": [],
   "source": [],
   "metadata": {
    "collapsed": false
   }
  }
 ],
 "metadata": {
  "kernelspec": {
   "display_name": "Python 3",
   "language": "python",
   "name": "python3"
  },
  "language_info": {
   "codemirror_mode": {
    "name": "ipython",
    "version": 2
   },
   "file_extension": ".py",
   "mimetype": "text/x-python",
   "name": "python",
   "nbconvert_exporter": "python",
   "pygments_lexer": "ipython2",
   "version": "2.7.6"
  }
 },
 "nbformat": 4,
 "nbformat_minor": 0
}
