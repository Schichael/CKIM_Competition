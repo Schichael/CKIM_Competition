{
 "cells": [
  {
   "cell_type": "code",
   "execution_count": null,
   "outputs": [],
   "source": [
    "20"
   ],
   "metadata": {
    "collapsed": false
   }
  },
  {
   "cell_type": "code",
   "execution_count": null,
   "outputs": [],
   "source": [
    "20"
   ],
   "metadata": {
    "collapsed": false
   }
  },
  {
   "cell_type": "markdown",
   "source": [],
   "metadata": {
    "collapsed": false
   }
  },
  {
   "cell_type": "code",
   "execution_count": 1,
   "outputs": [],
   "source": [
    "from federatedscope.register import register_data\n",
    "from federatedscope.register import register_trainer\n",
    "from federatedscope.register import register_metric\n",
    "from federatedscope.register import register_model\n",
    "\n",
    "\n"
   ],
   "metadata": {
    "collapsed": false
   }
  },
  {
   "cell_type": "code",
   "execution_count": 1,
   "outputs": [],
   "source": [],
   "metadata": {
    "collapsed": false
   }
  },
  {
   "cell_type": "markdown",
   "source": [
    "\n"
   ],
   "metadata": {
    "collapsed": false
   }
  },
  {
   "cell_type": "markdown",
   "source": [
    "### Register model"
   ],
   "metadata": {
    "collapsed": false
   }
  },
  {
   "cell_type": "code",
   "execution_count": 2,
   "outputs": [],
   "source": [
    "#from federatedscope.contrib.model.mnist_model import call_my_net\n",
    "#register_model(\"mynet\", call_my_net)"
   ],
   "metadata": {
    "collapsed": false
   }
  },
  {
   "cell_type": "code",
   "execution_count": 3,
   "outputs": [],
   "source": [
    "from federatedscope.contrib.metrics.custom_losses import call_recon_loss_metric\n",
    "\n",
    "register_metric(\"recon_loss\", call_recon_loss_metric)"
   ],
   "metadata": {
    "collapsed": false
   }
  },
  {
   "cell_type": "markdown",
   "source": [
    "### Register trainer"
   ],
   "metadata": {
    "collapsed": false
   }
  },
  {
   "cell_type": "code",
   "execution_count": 4,
   "outputs": [
    {
     "name": "stderr",
     "output_type": "stream",
     "text": [
      "/home/michael/Master-Thesis/CKIM_Competition/venv/lib/python3.9/site-packages/torch_geometric/graphgym/imports.py:14: UserWarning: Please install 'pytorch_lightning' for using the GraphGym experiment manager via 'pip install pytorch_lightning'\n",
      "  warnings.warn(\"Please install 'pytorch_lightning' for using the GraphGym \"\n",
      "/home/michael/Master-Thesis/CKIM_Competition/venv/lib/python3.9/site-packages/torch_geometric/graphgym/logger.py:23: UserWarning: Please install 'pytorch_lightning' for using the GraphGym experiment manager via 'pip install pytorch_lightning'\n",
      "  warnings.warn(\"Please install 'pytorch_lightning' for using the GraphGym \"\n"
     ]
    },
    {
     "name": "stdout",
     "output_type": "stream",
     "text": [
      "Device: cuda\n"
     ]
    }
   ],
   "source": [
    "\n",
    "from federatedscope.contrib.trainer.laplacian_trainer_with_domain_separation_VAE_separated_other_diff_other_sim import call_laplacian_trainer\n",
    "\n",
    "register_trainer('laplacian_trainer', call_laplacian_trainer)"
   ],
   "metadata": {
    "collapsed": false
   }
  },
  {
   "cell_type": "markdown",
   "source": [
    "### Register metric"
   ],
   "metadata": {
    "collapsed": false
   }
  },
  {
   "cell_type": "markdown",
   "source": [
    "### Create the config"
   ],
   "metadata": {
    "collapsed": false
   }
  },
  {
   "cell_type": "markdown",
   "source": [
    "#### Set data, model, trainer and metric"
   ],
   "metadata": {
    "collapsed": false
   }
  },
  {
   "cell_type": "code",
   "execution_count": 5,
   "outputs": [],
   "source": [
    "from federatedscope.core.configs.config import global_cfg, CN\n",
    "cfg = global_cfg.clone()\n",
    "\n",
    "cfg.merge_from_file(\"scripts/B-FHTL_exp_scripts/Graph-DT/fed_dom_sep_otherDiff_otherSim.yaml\")\n",
    "cfg.data.save_dir = 'test_dir'\n",
    "# cfg.data.type = 'cikm_cup'\n",
    "#cfg.data.root = 'data'\n",
    "#cfg.data.shuffle=True\n",
    "#cfg.data.transform = [['ToTensor'], ['Normalize', {'mean': [0.], 'std': [1]}]]\n",
    "#cfg.model.type = 'gin'\n",
    "#cfg.model.out_channels = 10\n",
    "#cfg.model.hidden = 64\n",
    "#cfg.model.task='graph'\n",
    "#cfg.model.dropout = 0.5\n",
    "#cfg.personalization.local_param = ['encoder_atom', 'encoder', 'clf']#['node_encoder', 'clf']\n",
    "#cfg.train.batch_or_epoch = \"epoch\"\n",
    "cfg.trainer.type = 'laplacian_trainer'\n",
    "cfg.data.batch_size = 64\n",
    "# cfg.eval.metric = ['mymetric']\n",
    "cfg.params = CN()\n",
    "cfg.params.alpha=0.1\n",
    "cfg.params.csd_importance= 1e2\n",
    "cfg.params.sim_importance = 0.\n",
    "cfg.params.diff_importance = 0.\n",
    "cfg.params.eps=1e-20\n",
    "cfg.params.p=0.\n",
    "cfg.params.lam = 0.\n",
    "cfg.params.recon_importance = 0.\n",
    "cfg.params.kld_importance = 0.\n",
    "cfg.model.dropout=0.\n"
   ],
   "metadata": {
    "collapsed": false
   }
  },
  {
   "cell_type": "markdown",
   "source": [
    "#### configure other options"
   ],
   "metadata": {
    "collapsed": false
   }
  },
  {
   "cell_type": "code",
   "execution_count": 6,
   "outputs": [],
   "source": [
    "#cfg.use_gpu = True 0.05 [0.02-0.03] 0.04-0.06\n",
    "#cfg.best_res_update_round_wise_key = \"test_loss\"\n",
    "\n",
    "#cfg.federate.mode = 'standalone'\n",
    "\n",
    "cfg.federate.method = \\\n",
    "    f'Laplacian_MINE_VAE_test_no_KLD'\n",
    "\n",
    "#cfg.federate.local_update_steps = 20000000\n",
    "cfg.personalization.local_update_steps = 1\n",
    "#cfg.finetune.local_update_steps = 20000000\n",
    "#cfg.train.local_update_steps = 1\n",
    "\n",
    "cfg.federate.total_round_num = 2000\n",
    "cfg.federate.client_num = 2\n",
    "cfg.early_stop.patience = 3000\n",
    "#cfg.train.optimizer.lr = 0.001\n",
    "#cfg.train.optimizer.weight_decay = 0.0005\n",
    "#cfg.grad.grad_clip = 2.0\n",
    "cfg.criterion.type = 'CrossEntropyLoss'\n",
    "#cfg.seed = 123\n",
    "cfg.eval.freq = 1\n",
    "cfg.eval.report = ['avg']\n",
    "cfg.eval.best_res_update_round_wise_key = 'val_imp_ratio'\n"
   ],
   "metadata": {
    "collapsed": false
   }
  },
  {
   "cell_type": "code",
   "execution_count": 7,
   "outputs": [],
   "source": [
    "import torch\n",
    "#torch.manual_seed(0)\n",
    "#torch.backends.cudnn.benchmark = False\n",
    "#torch.use_deterministic_algorithms(F/home/michael/Desktop/backup files/FederatedScope/data/CIKM22Competitionalse)\n",
    "#import random\n",
    "#random.seed(0)\n",
    "#import numpy as np\n",
    "#np.random.seed(0)"
   ],
   "metadata": {
    "collapsed": false
   }
  },
  {
   "cell_type": "code",
   "execution_count": 8,
   "outputs": [],
   "source": [
    "from yacs.config import CfgNode\n",
    "client_cfg_file = \"scripts/B-FHTL_exp_scripts/Graph-DT/cfg_per_client_theirs.yaml\"# \"scripts/B-FHTL_exp_scripts/Graph-DT/cfg_per_client_ours_lr_local_steps.yaml\"\n",
    "client_cfg = CfgNode.load_cfg(open(client_cfg_file,\n",
    "                                       'r')) if client_cfg_file else None\n"
   ],
   "metadata": {
    "collapsed": false
   }
  },
  {
   "cell_type": "markdown",
   "source": [
    "### Start the FL prosess"
   ],
   "metadata": {
    "collapsed": false
   }
  },
  {
   "cell_type": "code",
   "execution_count": 9,
   "outputs": [
    {
     "name": "stderr",
     "output_type": "stream",
     "text": [
      "2023-01-29 12:31:46,791 (trainer_builder:11)WARNING: No module named 'federatedscope.contrib.optimizer' in `federatedscope.contrib.trainer`, some modules are not available.\n"
     ]
    }
   ],
   "source": [
    "from federatedscope.core.auxiliaries.data_builder import get_data\n",
    "from federatedscope.core.auxiliaries.utils import setup_seed, update_logger\n",
    "from federatedscope.core.fed_runner import FedRunner\n",
    "from federatedscope.core.auxiliaries.worker_builder import get_server_cls, get_client_cls\n"
   ],
   "metadata": {
    "collapsed": false
   }
  },
  {
   "cell_type": "code",
   "execution_count": 10,
   "outputs": [
    {
     "name": "stderr",
     "output_type": "stream",
     "text": [
      "2023-01-29 12:31:46,802 (utils:129)INFO: the current machine is at 127.0.1.1\n",
      "2023-01-29 12:31:46,803 (utils:131)INFO: the current dir is /home/michael/Master-Thesis/CKIM_Competition\n",
      "2023-01-29 12:31:46,803 (utils:132)INFO: the output dir is exp/test_dir/Laplacian_MINE_VAE_test_no_KLD_gin_on_graph-dt_lr0.1_lstep1_/sub_exp_20230129123146\n"
     ]
    }
   ],
   "source": [
    "from federatedscope.contrib.workers.laplacian_with_domain_separation_MI_client import LaplacianDomainSeparationMIClient\n",
    "from federatedscope.contrib.workers.laplacian_server_dom_sep import LaplacianServerDomSep\n",
    "\n",
    "setup_seed(cfg.seed)\n",
    "update_logger(cfg)\n",
    "data, modified_cfg = get_data(cfg)\n",
    "cfg.merge_from_other_cfg(modified_cfg)\n"
   ],
   "metadata": {
    "collapsed": false
   }
  },
  {
   "cell_type": "code",
   "execution_count": 11,
   "outputs": [
    {
     "name": "stdout",
     "output_type": "stream",
     "text": [
      "rho: 0.0\n",
      "server params: \n",
      "encoder_atom.atom_embedding_list.0.weight\n"
     ]
    },
    {
     "name": "stderr",
     "output_type": "stream",
     "text": [
      "/home/michael/Master-Thesis/CKIM_Competition/venv/lib/python3.9/site-packages/torch/nn/init.py:405: UserWarning: Initializing zero-element tensors is a no-op\n",
      "  warnings.warn(\"Initializing zero-element tensors is a no-op\")\n",
      "2023-01-29 12:31:49,153 (fed_runner:249)INFO: Server #0 has been set up ... \n",
      "2023-01-29 12:31:49,164 (config:261)INFO: the used configs are: \n",
      "asyn:\n",
      "  min_received_num: 2\n",
      "  min_received_rate: -1.0\n",
      "  timeout: 0\n",
      "  use: True\n",
      "attack:\n",
      "  alpha_TV: 0.001\n",
      "  alpha_prop_loss: 0\n",
      "  attack_method: \n",
      "  attacker_id: -1\n",
      "  classifier_PIA: randomforest\n",
      "  info_diff_type: l2\n",
      "  inject_round: 0\n",
      "  max_ite: 400\n",
      "  reconstruct_lr: 0.01\n",
      "  reconstruct_optim: Adam\n",
      "  target_label_ind: -1\n",
      "backend: torch\n",
      "cfg_file: \n",
      "criterion:\n",
      "  type: MSELoss\n",
      "data:\n",
      "  args: []\n",
      "  batch_size: 64\n",
      "  cSBM_phi: [0.5, 0.5, 0.5]\n",
      "  consistent_label_distribution: False\n",
      "  drop_last: False\n",
      "  graphsaint:\n",
      "    num_steps: 30\n",
      "    walk_length: 2\n",
      "  loader: \n",
      "  num_workers: 0\n",
      "  pre_transform: []\n",
      "  quadratic:\n",
      "    dim: 1\n",
      "    max_curv: 12.5\n",
      "    min_curv: 0.02\n",
      "  root: data/\n",
      "  save_dir: test_dir\n",
      "  server_holds_all: False\n",
      "  shuffle: True\n",
      "  sizes: [10, 5]\n",
      "  splits: [0.8, 0.1, 0.1]\n",
      "  splitter: ooxx\n",
      "  splitter_args: []\n",
      "  subsample: 1.0\n",
      "  target_transform: []\n",
      "  transform: []\n",
      "  type: graph-dt\n",
      "device: 0\n",
      "distribute:\n",
      "  use: False\n",
      "early_stop:\n",
      "  delta: 0.0\n",
      "  improve_indicator_mode: best\n",
      "  patience: 3000\n",
      "  the_smaller_the_better: False\n",
      "eval:\n",
      "  base: 0.9243\n",
      "  best_res_update_round_wise_key: val_imp_ratio\n",
      "  count_flops: False\n",
      "  freq: 1\n",
      "  metrics: ['imp_ratio', 'recon_loss']\n",
      "  monitoring: []\n",
      "  report: ['avg']\n",
      "  save_data: False\n",
      "  split: ['test', 'val']\n",
      "expname: Laplacian_MINE_VAE_test_no_KLD_gin_on_graph-dt_lr0.1_lstep1_\n",
      "expname_tag: \n",
      "federate:\n",
      "  client_num: 2\n",
      "  data_weighted_aggr: False\n",
      "  ignore_weight: False\n",
      "  join_in_info: []\n",
      "  make_global_eval: False\n",
      "  method: Laplacian_MINE_VAE_test_no_KLD\n",
      "  mode: standalone\n",
      "  online_aggr: False\n",
      "  restore_from: \n",
      "  sample_client_num: 2\n",
      "  sample_client_rate: -1.0\n",
      "  sampler: uniform\n",
      "  save_to: \n",
      "  share_local_model: False\n",
      "  total_round_num: 2000\n",
      "  unseen_clients_rate: 0.0\n",
      "  use_diff: False\n",
      "  use_ss: False\n",
      "fedopt:\n",
      "  use: False\n",
      "fedprox:\n",
      "  use: False\n",
      "fedsageplus:\n",
      "  a: 1.0\n",
      "  b: 1.0\n",
      "  c: 1.0\n",
      "  fedgen_epoch: 200\n",
      "  gen_hidden: 128\n",
      "  hide_portion: 0.5\n",
      "  loc_epoch: 1\n",
      "  num_pred: 5\n",
      "finetune:\n",
      "  batch_or_epoch: epoch\n",
      "  before_eval: False\n",
      "  freeze_param: \n",
      "  local_update_steps: 1\n",
      "  optimizer:\n",
      "    lr: 0.1\n",
      "    type: SGD\n",
      "flitplus:\n",
      "  factor_ema: 0.8\n",
      "  lambdavat: 0.5\n",
      "  tmpFed: 0.5\n",
      "  weightReg: 1.0\n",
      "gcflplus:\n",
      "  EPS_1: 0.05\n",
      "  EPS_2: 0.1\n",
      "  seq_length: 5\n",
      "  standardize: False\n",
      "grad:\n",
      "  grad_clip: 5.0\n",
      "hpo:\n",
      "  fedex:\n",
      "    cutoff: 0.0\n",
      "    diff: False\n",
      "    eta0: -1.0\n",
      "    flatten_ss: True\n",
      "    gamma: 0.0\n",
      "    num_arms: 16\n",
      "    sched: auto\n",
      "    ss: \n",
      "    use: False\n",
      "  init_cand_num: 16\n",
      "  larger_better: False\n",
      "  log_scale: False\n",
      "  metric: client_summarized_weighted_avg.val_loss\n",
      "  num_workers: 0\n",
      "  pbt:\n",
      "    max_stage: 5\n",
      "    perf_threshold: 0.1\n",
      "  plot_interval: 1\n",
      "  scheduler: rs\n",
      "  sha:\n",
      "    budgets: []\n",
      "    elim_rate: 3\n",
      "    elim_round_num: 3\n",
      "  ss: \n",
      "  table:\n",
      "    eps: 0.1\n",
      "    idx: 0\n",
      "    num: 27\n",
      "    ss: \n",
      "  working_folder: hpo\n",
      "maml:\n",
      "  use: False\n",
      "model:\n",
      "  dropout: 0.0\n",
      "  embed_size: 8\n",
      "  graph_pooling: mean\n",
      "  hidden: 64\n",
      "  in_channels: 0\n",
      "  layer: 2\n",
      "  model_num_per_trainer: 1\n",
      "  num_item: 0\n",
      "  num_user: 0\n",
      "  out_channels: 1\n",
      "  task: graphRegression\n",
      "  type: gin\n",
      "  use_bias: True\n",
      "nbafl:\n",
      "  use: False\n",
      "outdir: exp/test_dir/Laplacian_MINE_VAE_test_no_KLD_gin_on_graph-dt_lr0.1_lstep1_/sub_exp_20230129123146\n",
      "params:\n",
      "  alpha: 0.1\n",
      "  csd_importance: 100.0\n",
      "  diff_importance: 0.0\n",
      "  eps: 1e-20\n",
      "  kld_importance: 0.0\n",
      "  lam: 0.0\n",
      "  p: 0.0\n",
      "  recon_importance: 0.0\n",
      "  sim_importance: 0.0\n",
      "personalization:\n",
      "  K: 5\n",
      "  beta: 1.0\n",
      "  local_param: ['encoder_atom', 'encoder', 'clf', 'local', 'fixed', 'vae_decoder']\n",
      "  local_update_steps: 1\n",
      "  lr: 0.1\n",
      "  regular_weight: 0.1\n",
      "  share_non_trainable_para: False\n",
      "print_decimal_digits: 6\n",
      "regularizer:\n",
      "  mu: 0.0\n",
      "  type: \n",
      "seed: 0\n",
      "sgdmf:\n",
      "  use: False\n",
      "train:\n",
      "  batch_or_epoch: epoch\n",
      "  local_update_steps: 1\n",
      "  optimizer:\n",
      "    lr: 0.01\n",
      "    type: SGD\n",
      "    weight_decay: 0.0005\n",
      "trainer:\n",
      "  type: laplacian_trainer\n",
      "use_gpu: True\n",
      "verbose: 1\n",
      "vertical:\n",
      "  use: False\n",
      "wandb:\n",
      "  use: False\n",
      "2023-01-29 12:31:49,184 (trainer:50)WARNING: Will not use monitor in trainer with class <class 'federatedscope.contrib.trainer.laplacian_trainer_with_domain_separation_VAE_separated_other_diff_other_sim.LaplacianDomainSeparationVAE_Separated_OtherDiff_OtherSim_Trainer'>\n",
      "2023-01-29 12:31:49,185 (fed_runner:302)INFO: Client 1 has been set up ... \n",
      "2023-01-29 12:31:49,195 (config:261)INFO: the used configs are: \n",
      "asyn:\n",
      "  min_received_num: 2\n",
      "  min_received_rate: -1.0\n",
      "  timeout: 0\n",
      "  use: True\n",
      "attack:\n",
      "  alpha_TV: 0.001\n",
      "  alpha_prop_loss: 0\n",
      "  attack_method: \n",
      "  attacker_id: -1\n",
      "  classifier_PIA: randomforest\n",
      "  info_diff_type: l2\n",
      "  inject_round: 0\n",
      "  max_ite: 400\n",
      "  reconstruct_lr: 0.01\n",
      "  reconstruct_optim: Adam\n",
      "  target_label_ind: -1\n",
      "backend: torch\n",
      "cfg_file: \n",
      "criterion:\n",
      "  type: MSELoss\n",
      "data:\n",
      "  args: []\n",
      "  batch_size: 64\n",
      "  cSBM_phi: [0.5, 0.5, 0.5]\n",
      "  consistent_label_distribution: False\n",
      "  drop_last: False\n",
      "  graphsaint:\n",
      "    num_steps: 30\n",
      "    walk_length: 2\n",
      "  loader: \n",
      "  num_workers: 0\n",
      "  pre_transform: []\n",
      "  quadratic:\n",
      "    dim: 1\n",
      "    max_curv: 12.5\n",
      "    min_curv: 0.02\n",
      "  root: data/\n",
      "  save_dir: test_dir\n",
      "  server_holds_all: False\n",
      "  shuffle: True\n",
      "  sizes: [10, 5]\n",
      "  splits: [0.8, 0.1, 0.1]\n",
      "  splitter: ooxx\n",
      "  splitter_args: []\n",
      "  subsample: 1.0\n",
      "  target_transform: []\n",
      "  transform: []\n",
      "  type: graph-dt\n",
      "device: 0\n",
      "distribute:\n",
      "  use: False\n",
      "early_stop:\n",
      "  delta: 0.0\n",
      "  improve_indicator_mode: best\n",
      "  patience: 3000\n",
      "  the_smaller_the_better: False\n",
      "eval:\n",
      "  base: 0.0265\n",
      "  best_res_update_round_wise_key: val_imp_ratio\n",
      "  count_flops: False\n",
      "  freq: 1\n",
      "  metrics: ['imp_ratio', 'recon_loss']\n",
      "  monitoring: []\n",
      "  report: ['avg']\n",
      "  save_data: False\n",
      "  split: ['test', 'val']\n",
      "expname: Laplacian_MINE_VAE_test_no_KLD_gin_on_graph-dt_lr0.1_lstep1_\n",
      "expname_tag: \n",
      "federate:\n",
      "  client_num: 2\n",
      "  data_weighted_aggr: False\n",
      "  ignore_weight: False\n",
      "  join_in_info: []\n",
      "  make_global_eval: False\n",
      "  method: Laplacian_MINE_VAE_test_no_KLD\n",
      "  mode: standalone\n",
      "  online_aggr: False\n",
      "  restore_from: \n",
      "  sample_client_num: 2\n",
      "  sample_client_rate: -1.0\n",
      "  sampler: uniform\n",
      "  save_to: \n",
      "  share_local_model: False\n",
      "  total_round_num: 2000\n",
      "  unseen_clients_rate: 0.0\n",
      "  use_diff: False\n",
      "  use_ss: False\n",
      "fedopt:\n",
      "  use: False\n",
      "fedprox:\n",
      "  use: False\n",
      "fedsageplus:\n",
      "  a: 1.0\n",
      "  b: 1.0\n",
      "  c: 1.0\n",
      "  fedgen_epoch: 200\n",
      "  gen_hidden: 128\n",
      "  hide_portion: 0.5\n",
      "  loc_epoch: 1\n",
      "  num_pred: 5\n",
      "finetune:\n",
      "  batch_or_epoch: epoch\n",
      "  before_eval: False\n",
      "  freeze_param: \n",
      "  local_update_steps: 1\n",
      "  optimizer:\n",
      "    lr: 0.1\n",
      "    type: SGD\n",
      "flitplus:\n",
      "  factor_ema: 0.8\n",
      "  lambdavat: 0.5\n",
      "  tmpFed: 0.5\n",
      "  weightReg: 1.0\n",
      "gcflplus:\n",
      "  EPS_1: 0.05\n",
      "  EPS_2: 0.1\n",
      "  seq_length: 5\n",
      "  standardize: False\n",
      "grad:\n",
      "  grad_clip: 5.0\n",
      "hpo:\n",
      "  fedex:\n",
      "    cutoff: 0.0\n",
      "    diff: False\n",
      "    eta0: -1.0\n",
      "    flatten_ss: True\n",
      "    gamma: 0.0\n",
      "    num_arms: 16\n",
      "    sched: auto\n",
      "    ss: \n",
      "    use: False\n",
      "  init_cand_num: 16\n",
      "  larger_better: False\n",
      "  log_scale: False\n",
      "  metric: client_summarized_weighted_avg.val_loss\n",
      "  num_workers: 0\n",
      "  pbt:\n",
      "    max_stage: 5\n",
      "    perf_threshold: 0.1\n",
      "  plot_interval: 1\n",
      "  scheduler: rs\n",
      "  sha:\n",
      "    budgets: []\n",
      "    elim_rate: 3\n",
      "    elim_round_num: 3\n",
      "  ss: \n",
      "  table:\n",
      "    eps: 0.1\n",
      "    idx: 0\n",
      "    num: 27\n",
      "    ss: \n",
      "  working_folder: hpo\n",
      "maml:\n",
      "  use: False\n",
      "model:\n",
      "  dropout: 0.0\n",
      "  embed_size: 8\n",
      "  graph_pooling: mean\n",
      "  hidden: 64\n",
      "  in_channels: 0\n",
      "  layer: 2\n",
      "  model_num_per_trainer: 1\n",
      "  num_item: 0\n",
      "  num_user: 0\n",
      "  out_channels: 1\n",
      "  task: graphRegression\n",
      "  type: gin\n",
      "  use_bias: True\n",
      "nbafl:\n",
      "  use: False\n",
      "outdir: exp/test_dir/Laplacian_MINE_VAE_test_no_KLD_gin_on_graph-dt_lr0.1_lstep1_/sub_exp_20230129123146\n",
      "params:\n",
      "  alpha: 0.1\n",
      "  csd_importance: 100.0\n",
      "  diff_importance: 0.0\n",
      "  eps: 1e-20\n",
      "  kld_importance: 0.0\n",
      "  lam: 0.0\n",
      "  p: 0.0\n",
      "  recon_importance: 0.0\n",
      "  sim_importance: 0.0\n",
      "personalization:\n",
      "  K: 5\n",
      "  beta: 1.0\n",
      "  local_param: ['encoder_atom', 'encoder', 'clf', 'local', 'fixed', 'vae_decoder']\n",
      "  local_update_steps: 1\n",
      "  lr: 0.1\n",
      "  regular_weight: 0.1\n",
      "  share_non_trainable_para: False\n",
      "print_decimal_digits: 6\n",
      "regularizer:\n",
      "  mu: 0.0\n",
      "  type: \n",
      "seed: 0\n",
      "sgdmf:\n",
      "  use: False\n",
      "train:\n",
      "  batch_or_epoch: epoch\n",
      "  local_update_steps: 1\n",
      "  optimizer:\n",
      "    lr: 0.1\n",
      "    type: SGD\n",
      "    weight_decay: 0.0005\n",
      "trainer:\n",
      "  type: laplacian_trainer\n",
      "use_gpu: True\n",
      "verbose: 1\n",
      "vertical:\n",
      "  use: False\n",
      "wandb:\n",
      "  use: False\n",
      "2023-01-29 12:31:49,218 (trainer:50)WARNING: Will not use monitor in trainer with class <class 'federatedscope.contrib.trainer.laplacian_trainer_with_domain_separation_VAE_separated_other_diff_other_sim.LaplacianDomainSeparationVAE_Separated_OtherDiff_OtherSim_Trainer'>\n",
      "2023-01-29 12:31:49,219 (fed_runner:302)INFO: Client 2 has been set up ... \n",
      "2023-01-29 12:31:49,220 (trainer:326)INFO: Model meta-info: <class 'federatedscope.gfl.model.graph_level.GNN_Net_Graph'>.\n",
      "2023-01-29 12:31:49,224 (trainer:334)INFO: Num of original para names: 160.\n",
      "2023-01-29 12:31:49,224 (trainer:335)INFO: Num of original trainable para names: 100.\n",
      "2023-01-29 12:31:49,225 (trainer:337)INFO: Num of preserved para names in local update: 56. \n",
      "Preserved para names in local update: {'bn_linear0_loc.num_batches_tracked', 'bn_linear2.weight', 'global_gnn.convs.0.nn.norms.1.weight', 'global_gnn.convs.1.nn.linears.1.bias', 'linear_out2.0.weight', 'global_gnn.convs.0.nn.norms.1.running_mean', 'global_gnn.convs.1.nn.norms.1.weight', 'bn_linear0_loc.running_var', 'bn_linear1_loc.bias', 'bn_after_summation.bias', 'global_gnn.convs.1.nn.norms.0.running_var', 'bn_after_summation.running_mean', 'global_gnn.convs.0.nn.norms.0.weight', 'bn_after_summation.running_var', 'global_linear_out1.bias', 'bn_linear0_loc.running_mean', 'global_gnn.convs.0.nn.linears.0.bias', 'global_gnn.convs.0.nn.norms.0.running_mean', 'bn_linear2.num_batches_tracked', 'global_gnn.convs.0.nn.norms.0.num_batches_tracked', 'global_gnn.convs.0.nn.norms.1.num_batches_tracked', 'global_gnn.convs.0.nn.norms.0.bias', 'global_gnn.convs.1.eps', 'bn_linear1_loc.weight', 'bn_linear2.bias', 'emb.weight', 'global_gnn.convs.1.nn.norms.1.num_batches_tracked', 'bn_linear2.running_mean', 'bn_after_summation.num_batches_tracked', 'global_gnn.convs.1.nn.norms.0.num_batches_tracked', 'global_gnn.convs.1.nn.norms.1.bias', 'bn_linear0_loc.weight', 'global_gnn.convs.1.nn.norms.0.weight', 'bn_linear1_loc.num_batches_tracked', 'global_gnn.convs.1.nn.norms.0.bias', 'global_gnn.convs.1.nn.norms.1.running_mean', 'global_gnn.convs.0.nn.linears.0.weight', 'global_gnn.convs.1.nn.norms.1.running_var', 'linear_out2.0.bias', 'global_gnn.convs.0.nn.linears.1.bias', 'global_gnn.convs.1.nn.linears.0.weight', 'global_gnn.convs.0.nn.norms.1.running_var', 'global_gnn.convs.0.eps', 'bn_after_summation.weight', 'emb.bias', 'global_gnn.convs.1.nn.linears.1.weight', 'bn_linear1_loc.running_var', 'global_gnn.convs.0.nn.linears.1.weight', 'bn_linear2.running_var', 'global_gnn.convs.0.nn.norms.1.bias', 'global_gnn.convs.0.nn.norms.0.running_var', 'global_linear_out1.weight', 'bn_linear1_loc.running_mean', 'bn_linear0_loc.bias', 'global_gnn.convs.1.nn.linears.0.bias', 'global_gnn.convs.1.nn.norms.0.running_mean'}.\n",
      "2023-01-29 12:31:49,226 (trainer:341)INFO: Num of filtered para names in local update: 104. \n",
      "Filtered para names in local update: {'vae_decoder.bn1.num_batches_tracked', 'local_gnn.convs.0.nn.linears.0.bias', 'fixed_gnn.convs.0.nn.norms.1.bias', 'local_gnn.convs.1.eps', 'vae_decoder.bn2.running_mean', 'encoder_atom.atom_embedding_list.2.weight', 'fixed_gnn.convs.1.nn.norms.0.weight', 'fixed_gnn.convs.1.nn.norms.1.bias', 'encoder_atom.atom_embedding_list.1.weight', 'local_gnn.convs.0.nn.linears.1.bias', 'fixed_gnn.convs.1.nn.norms.0.num_batches_tracked', 'local_gnn.convs.1.nn.norms.1.weight', 'local_gnn.convs.0.eps', 'fixed_gnn.convs.1.nn.linears.1.weight', 'fixed_gnn.convs.0.nn.norms.0.num_batches_tracked', 'vae_decoder.clf.weight', 'fixed_gnn.convs.1.nn.norms.1.running_mean', 'vae_decoder.clf.bias', 'fixed_gnn.convs.1.nn.linears.0.bias', 'fixed_gnn.convs.0.nn.linears.0.bias', 'local_gnn.convs.0.nn.linears.0.weight', 'fixed_gnn.convs.1.nn.norms.0.running_var', 'fixed_gnn.convs.0.nn.linears.0.weight', 'vae_decoder.lin1.0.bias', 'local_gnn.convs.0.nn.norms.0.num_batches_tracked', 'local_gnn.convs.0.nn.norms.0.running_mean', 'encoder_atom.atom_embedding_list.15.weight', 'fixed_gnn.convs.0.nn.norms.1.num_batches_tracked', 'local_gnn.convs.1.nn.linears.1.bias', 'encoder_atom.atom_embedding_list.4.weight', 'local_gnn.convs.0.nn.norms.0.running_var', 'local_gnn.convs.0.nn.norms.1.num_batches_tracked', 'local_gnn.convs.0.nn.linears.1.weight', 'vae_decoder.lin1.0.weight', 'fixed_gnn.convs.1.nn.norms.1.running_var', 'fixed_gnn.convs.0.nn.norms.1.running_mean', 'fixed_gnn.convs.1.nn.linears.0.weight', 'local_linear_out1.bias', 'local_gnn.convs.1.nn.norms.1.num_batches_tracked', 'vae_decoder.bn1.running_mean', 'encoder_atom.atom_embedding_list.18.weight', 'local_linear_out1.weight', 'fixed_gnn.convs.1.nn.norms.0.bias', 'fixed_gnn.convs.1.eps', 'local_gnn.convs.1.nn.norms.0.running_var', 'local_gnn.convs.1.nn.norms.0.running_mean', 'fixed_gnn.convs.0.nn.norms.1.running_var', 'local_gnn.convs.1.nn.linears.1.weight', 'fixed_gnn.convs.1.nn.norms.1.weight', 'fixed_gnn.convs.0.eps', 'fixed_gnn.convs.0.nn.linears.1.bias', 'local_gnn.convs.1.nn.norms.1.running_mean', 'fixed_gnn.convs.0.nn.linears.1.weight', 'vae_decoder.bn2.num_batches_tracked', 'encoder_atom.atom_embedding_list.6.weight', 'encoder.bias', 'encoder_atom.atom_embedding_list.12.weight', 'vae_decoder.bn2.bias', 'encoder_atom.atom_embedding_list.17.weight', 'local_gnn.convs.1.nn.linears.0.bias', 'vae_decoder.lin2.0.weight', 'vae_decoder.bn2.weight', 'local_gnn.convs.0.nn.norms.1.running_var', 'local_gnn.convs.1.nn.norms.0.weight', 'local_gnn.convs.1.nn.linears.0.weight', 'local_gnn.convs.1.nn.norms.0.bias', 'local_gnn.convs.0.nn.norms.1.bias', 'encoder_atom.atom_embedding_list.14.weight', 'encoder_atom.atom_embedding_list.20.weight', 'fixed_gnn.convs.0.nn.norms.0.bias', 'encoder_atom.atom_embedding_list.5.weight', 'local_gnn.convs.0.nn.norms.1.running_mean', 'local_gnn.convs.1.nn.norms.0.num_batches_tracked', 'encoder_atom.atom_embedding_list.3.weight', 'local_gnn.convs.1.nn.norms.1.running_var', 'local_gnn.convs.0.nn.norms.1.weight', 'encoder_atom.atom_embedding_list.8.weight', 'local_gnn.convs.0.nn.norms.0.weight', 'encoder_atom.atom_embedding_list.10.weight', 'encoder_atom.atom_embedding_list.13.weight', 'vae_decoder.bn2.running_var', 'fixed_gnn.convs.1.nn.norms.0.running_mean', 'encoder_atom.atom_embedding_list.0.weight', 'encoder_atom.atom_embedding_list.7.weight', 'encoder_atom.atom_embedding_list.11.weight', 'local_gnn.convs.1.nn.norms.1.bias', 'vae_decoder.lin2.0.bias', 'vae_decoder.bn1.weight', 'fixed_gnn.convs.0.nn.norms.0.weight', 'fixed_gnn.convs.0.nn.norms.1.weight', 'fixed_gnn.convs.1.nn.norms.1.num_batches_tracked', 'clf.weight', 'clf.bias', 'encoder_atom.atom_embedding_list.19.weight', 'vae_decoder.bn1.running_var', 'encoder_atom.atom_embedding_list.21.weight', 'encoder_atom.atom_embedding_list.9.weight', 'encoder_atom.atom_embedding_list.16.weight', 'fixed_gnn.convs.1.nn.linears.1.bias', 'vae_decoder.bn1.bias', 'local_gnn.convs.0.nn.norms.0.bias', 'fixed_gnn.convs.0.nn.norms.0.running_mean', 'encoder.weight', 'fixed_gnn.convs.0.nn.norms.0.running_var'}.\n",
      "2023-01-29 12:31:49,227 (trainer:346)INFO: After register default hooks,\n",
      "\tthe hooks_in_train is:\n",
      "\t{\n",
      "\t  \"on_fit_start\": [\n",
      "\t    \"_hook_on_fit_start_init\",\n",
      "\t    \"_hook_on_fit_start_calculate_model_size\"\n",
      "\t  ],\n",
      "\t  \"on_epoch_start\": [\n",
      "\t    \"_hook_on_epoch_start\"\n",
      "\t  ],\n",
      "\t  \"on_batch_start\": [\n",
      "\t    \"_hook_on_batch_start_init\"\n",
      "\t  ],\n",
      "\t  \"on_batch_forward\": [\n",
      "\t    \"_hook_on_batch_forward\",\n",
      "\t    \"_hook_on_batch_forward_regularizer\",\n",
      "\t    \"_hook_on_batch_forward_flop_count\"\n",
      "\t  ],\n",
      "\t  \"on_batch_backward\": [\n",
      "\t    \"_hook_on_batch_backward\"\n",
      "\t  ],\n",
      "\t  \"on_batch_end\": [\n",
      "\t    \"_hook_on_batch_end\"\n",
      "\t  ],\n",
      "\t  \"on_fit_end\": [\n",
      "\t    \"_hook_on_fit_end\"\n",
      "\t  ]\n",
      "\t};\n",
      "\tthe hooks_in_eval is:\n",
      "            t{\n",
      "\t  \"on_fit_start\": [\n",
      "\t    \"_hook_on_fit_start_init\"\n",
      "\t  ],\n",
      "\t  \"on_epoch_start\": [\n",
      "\t    \"_hook_on_epoch_start\"\n",
      "\t  ],\n",
      "\t  \"on_batch_start\": [\n",
      "\t    \"_hook_on_batch_start_init\"\n",
      "\t  ],\n",
      "\t  \"on_batch_forward\": [\n",
      "\t    \"_hook_on_batch_forward\"\n",
      "\t  ],\n",
      "\t  \"on_batch_end\": [\n",
      "\t    \"_hook_on_batch_end\"\n",
      "\t  ],\n",
      "\t  \"on_fit_end\": [\n",
      "\t    \"_hook_on_fit_end\"\n",
      "\t  ]\n",
      "\t}\n",
      "2023-01-29 12:31:49,231 (server:628)INFO: ----------- Starting training (Round #0) -------------\n"
     ]
    },
    {
     "name": "stdout",
     "output_type": "stream",
     "text": [
      "encoder_atom.atom_embedding_list.1.weight\n",
      "encoder_atom.atom_embedding_list.2.weight\n",
      "encoder_atom.atom_embedding_list.3.weight\n",
      "encoder_atom.atom_embedding_list.4.weight\n",
      "encoder_atom.atom_embedding_list.5.weight\n",
      "encoder_atom.atom_embedding_list.6.weight\n",
      "encoder_atom.atom_embedding_list.7.weight\n",
      "encoder_atom.atom_embedding_list.8.weight\n",
      "encoder_atom.atom_embedding_list.9.weight\n",
      "encoder_atom.atom_embedding_list.10.weight\n",
      "encoder_atom.atom_embedding_list.11.weight\n",
      "encoder_atom.atom_embedding_list.12.weight\n",
      "encoder_atom.atom_embedding_list.13.weight\n",
      "encoder_atom.atom_embedding_list.14.weight\n",
      "encoder_atom.atom_embedding_list.15.weight\n",
      "encoder_atom.atom_embedding_list.16.weight\n",
      "encoder_atom.atom_embedding_list.17.weight\n",
      "encoder_atom.atom_embedding_list.18.weight\n",
      "encoder_atom.atom_embedding_list.19.weight\n",
      "encoder_atom.atom_embedding_list.20.weight\n",
      "encoder_atom.atom_embedding_list.21.weight\n",
      "encoder.weight\n",
      "encoder.bias\n",
      "local_gnn.convs.0.nn.linears.0.weight\n",
      "local_gnn.convs.0.nn.linears.0.bias\n",
      "local_gnn.convs.0.nn.linears.1.weight\n",
      "local_gnn.convs.0.nn.linears.1.bias\n",
      "local_gnn.convs.0.nn.norms.0.weight\n",
      "local_gnn.convs.0.nn.norms.0.bias\n",
      "local_gnn.convs.0.nn.norms.1.weight\n",
      "local_gnn.convs.0.nn.norms.1.bias\n",
      "local_gnn.convs.1.nn.linears.0.weight\n",
      "local_gnn.convs.1.nn.linears.0.bias\n",
      "local_gnn.convs.1.nn.linears.1.weight\n",
      "local_gnn.convs.1.nn.linears.1.bias\n",
      "local_gnn.convs.1.nn.norms.0.weight\n",
      "local_gnn.convs.1.nn.norms.0.bias\n",
      "local_gnn.convs.1.nn.norms.1.weight\n",
      "local_gnn.convs.1.nn.norms.1.bias\n",
      "global_gnn.convs.0.nn.linears.0.weight\n",
      "global_gnn.convs.0.nn.linears.0.bias\n",
      "global_gnn.convs.0.nn.linears.1.weight\n",
      "global_gnn.convs.0.nn.linears.1.bias\n",
      "global_gnn.convs.0.nn.norms.0.weight\n",
      "global_gnn.convs.0.nn.norms.0.bias\n",
      "global_gnn.convs.0.nn.norms.1.weight\n",
      "global_gnn.convs.0.nn.norms.1.bias\n",
      "global_gnn.convs.1.nn.linears.0.weight\n",
      "global_gnn.convs.1.nn.linears.0.bias\n",
      "global_gnn.convs.1.nn.linears.1.weight\n",
      "global_gnn.convs.1.nn.linears.1.bias\n",
      "global_gnn.convs.1.nn.norms.0.weight\n",
      "global_gnn.convs.1.nn.norms.0.bias\n",
      "global_gnn.convs.1.nn.norms.1.weight\n",
      "global_gnn.convs.1.nn.norms.1.bias\n",
      "fixed_gnn.convs.0.nn.linears.0.weight\n",
      "fixed_gnn.convs.0.nn.linears.0.bias\n",
      "fixed_gnn.convs.0.nn.linears.1.weight\n",
      "fixed_gnn.convs.0.nn.linears.1.bias\n",
      "fixed_gnn.convs.0.nn.norms.0.weight\n",
      "fixed_gnn.convs.0.nn.norms.0.bias\n",
      "fixed_gnn.convs.0.nn.norms.1.weight\n",
      "fixed_gnn.convs.0.nn.norms.1.bias\n",
      "fixed_gnn.convs.1.nn.linears.0.weight\n",
      "fixed_gnn.convs.1.nn.linears.0.bias\n",
      "fixed_gnn.convs.1.nn.linears.1.weight\n",
      "fixed_gnn.convs.1.nn.linears.1.bias\n",
      "fixed_gnn.convs.1.nn.norms.0.weight\n",
      "fixed_gnn.convs.1.nn.norms.0.bias\n",
      "fixed_gnn.convs.1.nn.norms.1.weight\n",
      "fixed_gnn.convs.1.nn.norms.1.bias\n",
      "global_linear_out1.weight\n",
      "global_linear_out1.bias\n",
      "local_linear_out1.weight\n",
      "local_linear_out1.bias\n",
      "bn_linear0_loc.weight\n",
      "bn_linear0_loc.bias\n",
      "bn_linear1_loc.weight\n",
      "bn_linear1_loc.bias\n",
      "bn_after_summation.weight\n",
      "bn_after_summation.bias\n",
      "linear_out2.0.weight\n",
      "linear_out2.0.bias\n",
      "bn_linear2.weight\n",
      "bn_linear2.bias\n",
      "clf.weight\n",
      "clf.bias\n",
      "emb.weight\n",
      "emb.bias\n",
      "vae_decoder.lin1.0.weight\n",
      "vae_decoder.lin1.0.bias\n",
      "vae_decoder.bn1.weight\n",
      "vae_decoder.bn1.bias\n",
      "vae_decoder.lin2.0.weight\n",
      "vae_decoder.lin2.0.bias\n",
      "vae_decoder.bn2.weight\n",
      "vae_decoder.bn2.bias\n",
      "vae_decoder.clf.weight\n",
      "vae_decoder.clf.bias\n",
      "rho: 0.0\n",
      "rho: 0.0\n"
     ]
    },
    {
     "name": "stderr",
     "output_type": "stream",
     "text": [
      "2023-01-29 12:31:50,740 (laplacian_with_domain_separation_VAE_Separated_otherDiff_otherSim_client:142)INFO: {'Role': 'Client #2', 'Round': 0, 'Results_raw': {'train_avg_loss': 1.313181, 'train_total': 512, 'train_loss': 672.348896, 'train_imp_ratio': -4855.401511, 'train_recon_loss': 0.999979}}\n",
      "2023-01-29 12:31:52,404 (laplacian_with_domain_separation_VAE_Separated_otherDiff_otherSim_client:142)INFO: {'Role': 'Client #1', 'Round': 0, 'Results_raw': {'train_avg_loss': 8.602216, 'train_total': 901, 'train_loss': 7750.596349, 'train_imp_ratio': -830.673566, 'train_recon_loss': 1.031006}}\n",
      "2023-01-29 12:31:52,467 (laplacian_server:160)INFO: Server #0: Starting evaluation at the end of round 0.\n",
      "2023-01-29 12:31:52,471 (laplacian_server:167)INFO: ----------- Starting a new training round (Round #1) -------------\n",
      "2023-01-29 12:31:52,592 (client:410)INFO: {'Role': 'Client #1', 'Round': 1, 'Results_raw': {'test_avg_loss': 5.708896, 'test_total': 113, 'test_loss': 645.105288, 'test_imp_ratio': -517.645371, 'test_recon_loss': 1.159096, 'val_avg_loss': 5.353374, 'val_total': 113, 'val_loss': 604.931297, 'val_imp_ratio': -479.181487, 'val_recon_loss': 1.153816}}\n",
      "2023-01-29 12:31:52,593 (monitor:513)INFO: current_best=-479.181487, should_save=True\n",
      "2023-01-29 12:31:52,594 (client:431)INFO: Client: #1, val_imp_ratio: -479.181487. model saved at exp/test_dir/Laplacian_MINE_VAE_test_no_KLD_gin_on_graph-dt_lr0.1_lstep1_/sub_exp_20230129123146/model1.pth\n",
      "2023-01-29 12:31:52,691 (client:410)INFO: {'Role': 'Client #2', 'Round': 1, 'Results_raw': {'test_avg_loss': 0.234654, 'test_total': 64, 'test_loss': 15.017884, 'test_imp_ratio': -785.488402, 'test_recon_loss': 1.106488, 'val_avg_loss': 0.283138, 'val_total': 63, 'val_loss': 17.837709, 'val_imp_ratio': -968.446096, 'val_recon_loss': 1.088568}}\n",
      "2023-01-29 12:31:52,692 (monitor:513)INFO: current_best=-968.446096, should_save=True\n",
      "2023-01-29 12:31:52,693 (client:431)INFO: Client: #2, val_imp_ratio: -968.446096. model saved at exp/test_dir/Laplacian_MINE_VAE_test_no_KLD_gin_on_graph-dt_lr0.1_lstep1_/sub_exp_20230129123146/model2.pth\n",
      "2023-01-29 12:31:54,465 (laplacian_with_domain_separation_VAE_Separated_otherDiff_otherSim_client:142)INFO: {'Role': 'Client #1', 'Round': 1, 'Results_raw': {'train_avg_loss': 2.96855, 'train_total': 901, 'train_loss': 2674.66398, 'train_imp_ratio': -221.167444, 'train_recon_loss': 1.048606}}\n",
      "2023-01-29 12:31:55,356 (laplacian_with_domain_separation_VAE_Separated_otherDiff_otherSim_client:142)INFO: {'Role': 'Client #2', 'Round': 1, 'Results_raw': {'train_avg_loss': 0.531762, 'train_total': 512, 'train_loss': 272.262156, 'train_imp_ratio': -1906.649071, 'train_recon_loss': 0.993444}}\n",
      "2023-01-29 12:31:55,358 (server:480)INFO: {'Role': 'Server #', 'Round': 1, 'Results_avg': {'test_avg_loss': 2.971775, 'test_total': 88.5, 'test_loss': 330.061586, 'test_imp_ratio': -651.566886, 'test_recon_loss': 1.132792, 'val_avg_loss': 2.818256, 'val_total': 88.0, 'val_loss': 311.384503, 'val_imp_ratio': -723.813792, 'val_recon_loss': 1.121192}}\n",
      "2023-01-29 12:31:55,359 (monitor:513)INFO: current_best=-10000, should_save=False\n",
      "2023-01-29 12:31:55,360 (monitor:513)INFO: current_best=-723.813792, should_save=True\n",
      "2023-01-29 12:31:55,416 (laplacian_server:160)INFO: Server #0: Starting evaluation at the end of round 1.\n",
      "2023-01-29 12:31:55,419 (laplacian_server:167)INFO: ----------- Starting a new training round (Round #2) -------------\n",
      "2023-01-29 12:31:55,525 (client:410)INFO: {'Role': 'Client #1', 'Round': 2, 'Results_raw': {'test_avg_loss': 3.055046, 'test_total': 113, 'test_loss': 345.22018, 'test_imp_ratio': -230.525328, 'test_recon_loss': 1.167237, 'val_avg_loss': 2.468377, 'val_total': 113, 'val_loss': 278.926607, 'val_imp_ratio': -167.053674, 'val_recon_loss': 1.169419}}\n",
      "2023-01-29 12:31:55,526 (monitor:513)INFO: current_best=-167.053674, should_save=True\n",
      "2023-01-29 12:31:55,527 (client:431)INFO: Client: #1, val_imp_ratio: -167.053674. model saved at exp/test_dir/Laplacian_MINE_VAE_test_no_KLD_gin_on_graph-dt_lr0.1_lstep1_/sub_exp_20230129123146/model1.pth\n",
      "2023-01-29 12:31:55,619 (client:410)INFO: {'Role': 'Client #2', 'Round': 2, 'Results_raw': {'test_avg_loss': 0.134474, 'test_total': 64, 'test_loss': 8.60631, 'test_imp_ratio': -407.447517, 'test_recon_loss': 1.106473, 'val_avg_loss': 0.233434, 'val_total': 63, 'val_loss': 14.706323, 'val_imp_ratio': -780.88175, 'val_recon_loss': 1.088277}}\n",
      "2023-01-29 12:31:55,620 (monitor:513)INFO: current_best=-780.88175, should_save=True\n",
      "2023-01-29 12:31:55,620 (client:431)INFO: Client: #2, val_imp_ratio: -780.88175. model saved at exp/test_dir/Laplacian_MINE_VAE_test_no_KLD_gin_on_graph-dt_lr0.1_lstep1_/sub_exp_20230129123146/model2.pth\n",
      "2023-01-29 12:31:57,930 (laplacian_with_domain_separation_VAE_Separated_otherDiff_otherSim_client:142)INFO: {'Role': 'Client #1', 'Round': 2, 'Results_raw': {'train_avg_loss': 2.306602, 'train_total': 901, 'train_loss': 2078.248227, 'train_imp_ratio': -149.551202, 'train_recon_loss': 1.044842}}\n",
      "2023-01-29 12:31:58,873 (laplacian_with_domain_separation_VAE_Separated_otherDiff_otherSim_client:142)INFO: {'Role': 'Client #2', 'Round': 2, 'Results_raw': {'train_avg_loss': 0.273988, 'train_total': 512, 'train_loss': 140.28175, 'train_imp_ratio': -933.916114, 'train_recon_loss': 1.004006}}\n",
      "2023-01-29 12:31:58,875 (server:480)INFO: {'Role': 'Server #', 'Round': 2, 'Results_avg': {'test_avg_loss': 1.59476, 'test_total': 88.5, 'test_loss': 176.913245, 'test_imp_ratio': -318.986422, 'test_recon_loss': 1.136855, 'val_avg_loss': 1.350905, 'val_total': 88.0, 'val_loss': 146.816465, 'val_imp_ratio': -473.967712, 'val_recon_loss': 1.128848}}\n",
      "2023-01-29 12:31:58,876 (monitor:513)INFO: current_best=-723.813792, should_save=False\n",
      "2023-01-29 12:31:58,877 (monitor:513)INFO: current_best=-473.967712, should_save=True\n",
      "2023-01-29 12:31:58,937 (laplacian_server:160)INFO: Server #0: Starting evaluation at the end of round 2.\n",
      "2023-01-29 12:31:58,940 (laplacian_server:167)INFO: ----------- Starting a new training round (Round #3) -------------\n",
      "2023-01-29 12:31:59,045 (client:410)INFO: {'Role': 'Client #1', 'Round': 3, 'Results_raw': {'test_avg_loss': 2.173698, 'test_total': 113, 'test_loss': 245.627912, 'test_imp_ratio': -135.172367, 'test_recon_loss': 1.059906, 'val_avg_loss': 1.874214, 'val_total': 113, 'val_loss': 211.786163, 'val_imp_ratio': -102.771158, 'val_recon_loss': 1.058683}}\n",
      "2023-01-29 12:31:59,045 (monitor:513)INFO: current_best=-102.771158, should_save=True\n",
      "2023-01-29 12:31:59,046 (client:431)INFO: Client: #1, val_imp_ratio: -102.771158. model saved at exp/test_dir/Laplacian_MINE_VAE_test_no_KLD_gin_on_graph-dt_lr0.1_lstep1_/sub_exp_20230129123146/model1.pth\n",
      "2023-01-29 12:31:59,145 (client:410)INFO: {'Role': 'Client #2', 'Round': 3, 'Results_raw': {'test_avg_loss': 0.183156, 'test_total': 64, 'test_loss': 11.721981, 'test_imp_ratio': -591.154487, 'test_recon_loss': 1.059273, 'val_avg_loss': 0.271299, 'val_total': 63, 'val_loss': 17.091856, 'val_imp_ratio': -923.770841, 'val_recon_loss': 1.051793}}\n",
      "2023-01-29 12:31:59,147 (monitor:513)INFO: current_best=-780.88175, should_save=False\n",
      "2023-01-29 12:32:00,083 (laplacian_with_domain_separation_VAE_Separated_otherDiff_otherSim_client:142)INFO: {'Role': 'Client #2', 'Round': 3, 'Results_raw': {'train_avg_loss': 0.175543, 'train_total': 512, 'train_loss': 89.878115, 'train_imp_ratio': -562.427128, 'train_recon_loss': 1.000128}}\n",
      "2023-01-29 12:32:01,761 (laplacian_with_domain_separation_VAE_Separated_otherDiff_otherSim_client:142)INFO: {'Role': 'Client #1', 'Round': 3, 'Results_raw': {'train_avg_loss': 2.100157, 'train_total': 901, 'train_loss': 1892.241034, 'train_imp_ratio': -127.215898, 'train_recon_loss': 1.024676}}\n",
      "2023-01-29 12:32:01,763 (server:480)INFO: {'Role': 'Server #', 'Round': 3, 'Results_avg': {'test_avg_loss': 1.178427, 'test_total': 88.5, 'test_loss': 128.674946, 'test_imp_ratio': -363.163427, 'test_recon_loss': 1.05959, 'val_avg_loss': 1.072757, 'val_total': 88.0, 'val_loss': 114.43901, 'val_imp_ratio': -513.270999, 'val_recon_loss': 1.055238}}\n",
      "2023-01-29 12:32:01,763 (monitor:513)INFO: current_best=-473.967712, should_save=False\n",
      "2023-01-29 12:32:01,764 (monitor:513)INFO: current_best=-473.967712, should_save=False\n",
      "2023-01-29 12:32:01,822 (laplacian_server:160)INFO: Server #0: Starting evaluation at the end of round 3.\n",
      "2023-01-29 12:32:01,828 (laplacian_server:167)INFO: ----------- Starting a new training round (Round #4) -------------\n",
      "2023-01-29 12:32:01,938 (client:410)INFO: {'Role': 'Client #1', 'Round': 4, 'Results_raw': {'test_avg_loss': 2.303811, 'test_total': 113, 'test_loss': 260.330616, 'test_imp_ratio': -149.249278, 'test_recon_loss': 1.014527, 'val_avg_loss': 2.188549, 'val_total': 113, 'val_loss': 247.305995, 'val_imp_ratio': -136.779029, 'val_recon_loss': 1.017057}}\n",
      "2023-01-29 12:32:01,939 (monitor:513)INFO: current_best=-102.771158, should_save=False\n",
      "2023-01-29 12:32:02,023 (client:410)INFO: {'Role': 'Client #2', 'Round': 4, 'Results_raw': {'test_avg_loss': 0.079029, 'test_total': 64, 'test_loss': 5.057839, 'test_imp_ratio': -198.221662, 'test_recon_loss': 1.054479, 'val_avg_loss': 0.139765, 'val_total': 63, 'val_loss': 8.805207, 'val_imp_ratio': -427.415635, 'val_recon_loss': 1.056709}}\n",
      "2023-01-29 12:32:02,024 (monitor:513)INFO: current_best=-427.415635, should_save=True\n",
      "2023-01-29 12:32:02,024 (client:431)INFO: Client: #2, val_imp_ratio: -427.415635. model saved at exp/test_dir/Laplacian_MINE_VAE_test_no_KLD_gin_on_graph-dt_lr0.1_lstep1_/sub_exp_20230129123146/model2.pth\n",
      "\n",
      "KeyboardInterrupt\n",
      "\n"
     ]
    }
   ],
   "source": [
    "from federatedscope.contrib.workers.laplacian_with_domain_separation_VAE_Separated_otherDiff_otherSim_client import LaplacianDomainSeparation1MINE_Separated_OtherDiff_OtherSim_Client\n",
    "from federatedscope.contrib.workers.laplacian_with_domain_separation_1MINE_Other_DiffLoss_VAE_client import LaplacianDomainSeparation1MINEOtherDiffClient\n",
    "from federatedscope.contrib.workers.laplacian_server import LaplacianServer\n",
    "\n",
    "Fed_runner = FedRunner(data=data,\n",
    "                       server_class=LaplacianServer,\n",
    "                       client_class=LaplacianDomainSeparation1MINE_Separated_OtherDiff_OtherSim_Client,\n",
    "                       config=cfg.clone(),\n",
    "                       client_config=client_cfg)\n",
    "Fed_runner.run()"
   ],
   "metadata": {
    "collapsed": false
   }
  },
  {
   "cell_type": "markdown",
   "source": [
    "client 0 times: 0.346s\n",
    "bei normal fedavg: 0.15s\n",
    "mit MINE: 1.7 Sekunden"
   ],
   "metadata": {
    "collapsed": false
   }
  },
  {
   "cell_type": "markdown",
   "source": [],
   "metadata": {
    "collapsed": false
   }
  },
  {
   "cell_type": "markdown",
   "source": [
    "\n",
    "+"
   ],
   "metadata": {
    "collapsed": false
   }
  },
  {
   "cell_type": "code",
   "execution_count": null,
   "outputs": [],
   "source": [
    "777-431\n"
   ],
   "metadata": {
    "collapsed": false
   }
  },
  {
   "cell_type": "markdown",
   "source": [],
   "metadata": {
    "collapsed": false
   }
  },
  {
   "cell_type": "code",
   "execution_count": null,
   "outputs": [],
   "source": [
    "data"
   ],
   "metadata": {
    "collapsed": false
   }
  },
  {
   "cell_type": "code",
   "execution_count": null,
   "outputs": [],
   "source": [],
   "metadata": {
    "collapsed": false
   }
  },
  {
   "cell_type": "code",
   "execution_count": null,
   "outputs": [],
   "source": [],
   "metadata": {
    "collapsed": false
   }
  },
  {
   "cell_type": "markdown",
   "source": [],
   "metadata": {
    "collapsed": false
   }
  },
  {
   "cell_type": "markdown",
   "source": [],
   "metadata": {
    "collapsed": false
   }
  },
  {
   "cell_type": "code",
   "execution_count": null,
   "outputs": [],
   "source": [],
   "metadata": {
    "collapsed": false
   }
  },
  {
   "cell_type": "code",
   "execution_count": null,
   "outputs": [],
   "source": [
    "import os"
   ],
   "metadata": {
    "collapsed": false
   }
  },
  {
   "cell_type": "markdown",
   "source": [
    ",,0After 10 rounds:\n",
    "\n",
    "diff: 0, csd: 0:\n",
    "server: -8\n",
    "c1 t/val: 0.375 /0.37\n",
    "c2 t/val: 0.678 /0.606\n",
    "c3 t/val: 0.699 /0.608\n",
    "c4 t/val: 0.599 /0.537\n",
    "\n",
    "diff: 0, csd: 0:\n",
    "server: -4.5\n",
    "c1 t/val: 0.372879 /0.328\n",
    "c2 t/val: 0.678992 /0.605809\n",
    "c3 t/val: 0.70166 /0.608609\n",
    "c4 t/val: 0.597455 /0.534253\n",
    "\n",
    "\n",
    "\n",
    "diff: 10, csd: 0:\n",
    "server: -35\n",
    "c1 t/val: 0.482/0.52\n",
    "c2 t/val: 0.694/0.65\n",
    "c3 t/val: 0.724/0.65\n",
    "c4 t/val: 0.674/0.575\n",
    "\n",
    "diff: 1, csd: 0:\n",
    "server: -9.6\n",
    "c1 t/val: 0.378194/0.319349\n",
    "c2 t/val: 0.67461/0.609163\n",
    "c3 t/val: 0.705559/0.615019\n",
    "c4 t/val: 0.605581/0.572086\n",
    "\n",
    "diff: 0, csd: 1e4:\n",
    "server: -18\n",
    "c1 t/val: 0.280962/0.23074\n",
    "c2 t/val: 0.682652/0.603175\n",
    "c3 t/val: 0.699094/0.67027\n",
    "c4 t/val: 0.594985/0.609611\n",
    "\n",
    "diff: 0 csd: 1e8\n",
    "server: -18\n",
    "c1 t/val: 0.2606/0.348(0.197)\n",
    "c2 t/val: 0.653/0.0.602\n",
    "c3 t/val: 0.691/0.597\n",
    "c4 t/val: 0.581/0.629\n",
    "\n",
    "diff: 0 csd: 1e8\n",
    "server: -12.7\n",
    "c1 t/val: 0.262647/0.249875\n",
    "c2 t/val: 0.649273/0.0.600435\n",
    "c3 t/val: 0.696132/0.615158\n",
    "c4 t/val: 0.586597/0.656992\n",
    "\n",
    "\n",
    "diff: 0.1 csd: 0\n",
    "server: -11\n",
    "c1 t/val: 0.2606/0.332837\n",
    "c2 t/val: 0.678326/0.0.610099\n",
    "c3 t/val: 0.704083/0.616179\n",
    "c4 t/val: 0.604177/0.559658\n",
    "\n",
    "\n"
   ],
   "metadata": {
    "collapsed": false
   }
  },
  {
   "cell_type": "code",
   "execution_count": null,
   "outputs": [],
   "source": [],
   "metadata": {
    "collapsed": false
   }
  },
  {
   "cell_type": "code",
   "execution_count": null,
   "outputs": [],
   "source": [
    "os.environ['CUBLAS_WORKSPACE_CONFIG']"
   ],
   "metadata": {
    "collapsed": false
   }
  },
  {
   "cell_type": "code",
   "execution_count": null,
   "outputs": [],
   "source": [],
   "metadata": {
    "collapsed": false
   }
  }
 ],
 "metadata": {
  "kernelspec": {
   "display_name": "Python 3",
   "language": "python",
   "name": "python3"
  },
  "language_info": {
   "codemirror_mode": {
    "name": "ipython",
    "version": 2
   },
   "file_extension": ".py",
   "mimetype": "text/x-python",
   "name": "python",
   "nbconvert_exporter": "python",
   "pygments_lexer": "ipython2",
   "version": "2.7.6"
  }
 },
 "nbformat": 4,
 "nbformat_minor": 0
}
