{
 "cells": [
  {
   "cell_type": "code",
   "execution_count": 422,
   "metadata": {
    "collapsed": true
   },
   "outputs": [],
   "source": [
    "import torch\n",
    "import numpy as np\n",
    "PATH = '/home/michael/Master-Thesis/CKIM_Competition/exp/Feature_Analysis_Graph-DC_FedVAE_2_out_global_private_NEW_sim_loss_lr_0_1_A0_F0_001_G0_001_H10_I5sim_loss_mse/FedDomSep_GraphDC_gin_on_fs_contest_data_lr0.1_lstep1_/features/client_10'"
   ]
  },
  {
   "cell_type": "code",
   "execution_count": 423,
   "outputs": [],
   "source": [
    "interm_trains = []\n",
    "global_trains = []\n",
    "local_trains = []\n",
    "labels = []\n"
   ],
   "metadata": {
    "collapsed": false
   }
  },
  {
   "cell_type": "code",
   "execution_count": 424,
   "outputs": [],
   "source": [
    "from glob import glob\n",
    "import os\n",
    "\n",
    "all_files = [file\n",
    "                 for path, subdir, files in os.walk(PATH)\n",
    "                 for file in glob(os.path.join(path, '*.pt'))]\n",
    "all_files.sort()"
   ],
   "metadata": {
    "collapsed": false
   }
  },
  {
   "cell_type": "code",
   "execution_count": 425,
   "outputs": [
    {
     "data": {
      "text/plain": "<generator object _walk at 0x7f840a03ef90>"
     },
     "execution_count": 425,
     "metadata": {},
     "output_type": "execute_result"
    }
   ],
   "source": [
    "os.walk(PATH)"
   ],
   "metadata": {
    "collapsed": false
   }
  },
  {
   "cell_type": "markdown",
   "source": [],
   "metadata": {
    "collapsed": false
   }
  },
  {
   "cell_type": "code",
   "execution_count": 426,
   "outputs": [],
   "source": [
    "for file in all_files:\n",
    "    file_name = os.path.basename(file)\n",
    "    file_name_without_ending = file_name[:-3]\n",
    "    if file_name_without_ending.startswith('global_val') and not file_name_without_ending.endswith('labels'):\n",
    "        global_trains.append(torch.load(file).cpu().detach().numpy())\n",
    "    if file_name_without_ending.startswith('interm_val') and not file_name_without_ending.endswith('labels'):\n",
    "        interm_trains.append(torch.load(file).cpu().detach().numpy())\n",
    "    if file_name_without_ending.startswith('local_val') and not file_name_without_ending.endswith('labels'):\n",
    "        local_trains.append(torch.load(file).cpu().detach().numpy())\n",
    "    if file_name_without_ending.startswith('train') and file_name_without_ending.endswith('labels'):\n",
    "        labels.append(torch.load(file).cpu().detach().numpy())"
   ],
   "metadata": {
    "collapsed": false
   }
  },
  {
   "cell_type": "code",
   "execution_count": 426,
   "outputs": [],
   "source": [],
   "metadata": {
    "collapsed": false
   }
  },
  {
   "cell_type": "code",
   "execution_count": 427,
   "outputs": [],
   "source": [
    "interm_train = np.concatenate(interm_trains)\n",
    "global_train = np.concatenate(global_trains)\n",
    "local_train = np.concatenate(local_trains)\n",
    "labels = np.concatenate(labels)"
   ],
   "metadata": {
    "collapsed": false
   }
  },
  {
   "cell_type": "code",
   "execution_count": 428,
   "outputs": [],
   "source": [
    "#interm_train"
   ],
   "metadata": {
    "collapsed": false
   }
  },
  {
   "cell_type": "code",
   "execution_count": 429,
   "outputs": [],
   "source": [
    "#local_train"
   ],
   "metadata": {
    "collapsed": false
   }
  },
  {
   "cell_type": "code",
   "execution_count": 430,
   "outputs": [
    {
     "data": {
      "text/plain": "860"
     },
     "execution_count": 430,
     "metadata": {},
     "output_type": "execute_result"
    }
   ],
   "source": [
    "np.sum(interm_train != 0)"
   ],
   "metadata": {
    "collapsed": false
   }
  },
  {
   "cell_type": "code",
   "execution_count": 431,
   "outputs": [
    {
     "data": {
      "text/plain": "3.804703"
     },
     "execution_count": 431,
     "metadata": {},
     "output_type": "execute_result"
    }
   ],
   "source": [
    "x = interm_train * local_train\n",
    "x.sum()"
   ],
   "metadata": {
    "collapsed": false
   }
  },
  {
   "cell_type": "code",
   "execution_count": 432,
   "outputs": [
    {
     "data": {
      "text/plain": "457"
     },
     "execution_count": 432,
     "metadata": {},
     "output_type": "execute_result"
    }
   ],
   "source": [
    "f = x != 0\n",
    "f.sum()"
   ],
   "metadata": {
    "collapsed": false
   }
  },
  {
   "cell_type": "code",
   "execution_count": 433,
   "outputs": [],
   "source": [
    "cos_sim = torch.nn.CosineSimilarity()\n",
    "x = cos_sim(torch.Tensor(interm_train), torch.Tensor(local_train))"
   ],
   "metadata": {
    "collapsed": false
   }
  },
  {
   "cell_type": "code",
   "execution_count": 434,
   "outputs": [
    {
     "data": {
      "text/plain": "tensor(0.2166)"
     },
     "execution_count": 434,
     "metadata": {},
     "output_type": "execute_result"
    }
   ],
   "source": [
    "x.mean()"
   ],
   "metadata": {
    "collapsed": false
   }
  },
  {
   "cell_type": "code",
   "execution_count": 435,
   "outputs": [
    {
     "data": {
      "text/plain": "tensor(0.2004)"
     },
     "execution_count": 435,
     "metadata": {},
     "output_type": "execute_result"
    }
   ],
   "source": [
    "class DiffLoss(torch.nn.Module):\n",
    "\n",
    "    def __init__(self):\n",
    "        super(DiffLoss, self).__init__()\n",
    "\n",
    "    def forward(self, input1, input2):\n",
    "        batch_size = input1.size(0)\n",
    "        input1 = input1.view(batch_size, -1)\n",
    "        input2 = input2.view(batch_size, -1)\n",
    "\n",
    "        input1_l2_norm = torch.norm(input1, p=2, dim=1, keepdim=True).detach()\n",
    "        input1_l2 = input1.div(input1_l2_norm.expand_as(input1) + 1e-6)\n",
    "\n",
    "        input2_l2_norm = torch.norm(input2, p=2, dim=1, keepdim=True).detach()\n",
    "        input2_l2 = input2.div(input2_l2_norm.expand_as(input2) + 1e-6)\n",
    "\n",
    "        diff_loss = torch.mean((input1_l2.t().mm(input2_l2)).pow(2))\n",
    "\n",
    "        return diff_loss\n",
    "\n",
    "\n",
    "diffLoss = DiffLoss()\n",
    "diffLoss(torch.Tensor(interm_train[:64,]), torch.Tensor(local_train[:64, :]))"
   ],
   "metadata": {
    "collapsed": false
   }
  },
  {
   "cell_type": "code",
   "execution_count": 436,
   "outputs": [],
   "source": [
    "from sklearn.preprocessing import StandardScaler\n",
    "scaler = StandardScaler()\n",
    "#global_train = scaler.fit_transform(global_train)\n",
    "#interm_train = scaler.fit_transform(interm_train)\n",
    "#local_train = scaler.fit_transform(local_train)"
   ],
   "metadata": {
    "collapsed": false
   }
  },
  {
   "cell_type": "code",
   "execution_count": 437,
   "outputs": [],
   "source": [
    "import numpy as np\n",
    "#concat_X=global_train\n",
    "concat_X = np.concatenate([global_train, interm_train, local_train])"
   ],
   "metadata": {
    "collapsed": false
   }
  },
  {
   "cell_type": "code",
   "execution_count": 438,
   "outputs": [],
   "source": [
    "from sklearn.manifold import TSNE"
   ],
   "metadata": {
    "collapsed": false
   }
  },
  {
   "cell_type": "code",
   "execution_count": 439,
   "outputs": [],
   "source": [
    "labels_global = labels.copy()\n",
    "labels_interm = labels.copy() + 2\n",
    "labels_local = labels.copy() + 4\n",
    "labels = np.concatenate([labels_global, labels_interm, labels_local])"
   ],
   "metadata": {
    "collapsed": false
   }
  },
  {
   "cell_type": "code",
   "execution_count": 440,
   "outputs": [],
   "source": [
    "X_embedded = TSNE(n_components=2, learning_rate='auto', init='random', perplexity=25).fit_transform(concat_X, labels)"
   ],
   "metadata": {
    "collapsed": false
   }
  },
  {
   "cell_type": "code",
   "execution_count": 441,
   "outputs": [
    {
     "data": {
      "text/plain": "array([[-1.12896461e+01,  5.19005346e+00],\n       [-9.46401310e+00,  9.26189709e+00],\n       [-9.50951195e+00,  5.26300621e+00],\n       [ 4.64440250e+00,  3.48393655e+00],\n       [-8.12326908e+00, -1.59195411e+00],\n       [-1.12363796e+01,  5.80594969e+00],\n       [-8.46157932e+00, -1.08586788e+00],\n       [-1.31221304e+01,  1.14048147e+01],\n       [ 3.87854362e+00,  3.45212793e+00],\n       [ 4.20876408e+00,  3.45764542e+00],\n       [-1.02875481e+01, -1.03792644e+00],\n       [-1.24747896e+01,  8.04867268e+00],\n       [-1.16645641e+01,  1.11778727e+01],\n       [-1.04026489e+01, -2.07995033e+00],\n       [-1.02625370e+01, -1.12792885e+00],\n       [-7.63991785e+00,  6.25875092e+00],\n       [ 4.20876360e+00,  3.45764494e+00],\n       [-9.46614933e+00,  9.26435375e+00],\n       [-1.08277464e+01,  4.03460312e+00],\n       [-1.01559963e+01,  6.49170637e-01],\n       [-1.88534307e+00,  4.49220037e+00],\n       [-9.25157261e+00,  4.67563725e+00],\n       [-1.13065281e+01, -1.30150020e-01],\n       [-8.53893185e+00,  5.36712456e+00],\n       [-9.89221859e+00,  7.09213066e+00],\n       [-7.01185513e+00,  1.08908405e+01],\n       [-1.32183237e+01,  1.14114218e+01],\n       [-8.79104137e+00,  4.71698189e+00],\n       [-9.51672745e+00,  6.72054338e+00],\n       [-8.20024204e+00,  5.88647318e+00],\n       [-7.59239101e+00, -1.71268499e+00],\n       [-4.36363316e+00,  7.49821806e+00],\n       [-9.60942173e+00, -2.08540726e+00],\n       [-7.55955744e+00,  4.77417135e+00],\n       [-1.94923532e+00,  4.39847517e+00],\n       [-8.24212933e+00,  4.64110184e+00],\n       [-7.85610533e+00,  4.07205725e+00],\n       [-1.03948555e+01,  4.74466133e+00],\n       [-7.24514914e+00,  1.06335163e+01],\n       [-9.22963142e+00,  6.24582815e+00],\n       [-1.08269510e+01,  6.24323940e+00],\n       [-8.57159138e+00,  6.76536083e+00],\n       [-1.05864725e+01,  5.32474375e+00],\n       [-1.16479540e+01,  1.12058039e+01],\n       [-1.81235456e+00,  4.17967939e+00],\n       [-1.08195333e+01,  1.05934887e+01],\n       [-9.56122780e+00, -8.80580366e-01],\n       [-1.27301426e+01,  4.09693289e+00],\n       [-1.11360874e+01,  4.58558846e+00],\n       [ 5.17015743e+00,  3.58410072e+00],\n       [-8.97070217e+00,  5.41150761e+00],\n       [-1.15589714e+01,  2.68767715e+00],\n       [-1.05216236e+01, -7.08683550e-01],\n       [-5.40069771e+00,  7.98051929e+00],\n       [-1.07033958e+01,  1.05063763e+01],\n       [-5.19909143e+00,  5.01879597e+00],\n       [-1.17672024e+01,  8.02315617e+00],\n       [-1.18337049e+01,  8.04094410e+00],\n       [-9.50732327e+00,  5.79527712e+00],\n       [ 4.72209644e+00,  3.51371765e+00],\n       [-9.90214348e+00,  4.96279192e+00],\n       [-1.01133785e+01, -9.36724091e+00],\n       [-1.02590666e+01, -5.78752339e-01],\n       [-1.01959839e+01,  5.60801601e+00],\n       [-4.69128180e+00,  7.91580915e+00],\n       [-1.06899481e+01, -4.13855582e-01],\n       [-8.96081638e+00,  7.22310686e+00],\n       [-4.43612194e+00,  1.76297820e+00],\n       [-2.55199957e+00,  2.40512416e-01],\n       [-8.70976257e+00,  6.10480690e+00],\n       [ 3.91893220e+00, -7.72185230e+00],\n       [ 1.70083070e+00, -3.76376677e+00],\n       [ 3.55078554e+00, -6.27529526e+00],\n       [ 1.84482276e+00, -5.40468216e+00],\n       [ 3.37671101e-01, -2.35482860e+00],\n       [-6.75079393e+00,  1.16153157e+00],\n       [ 3.20613050e+00, -7.79432201e+00],\n       [ 2.39872646e+00, -6.35025167e+00],\n       [ 2.32898188e+00, -7.73239565e+00],\n       [ 9.12093401e-01, -2.86940241e+00],\n       [-4.20862961e+00,  8.30196095e+00],\n       [ 2.78568435e+00, -6.45685530e+00],\n       [-1.56212444e+01,  4.57276440e+00],\n       [ 3.20613098e+00, -7.79432201e+00],\n       [-7.37853289e+00,  5.62346125e+00],\n       [-9.71150017e+00,  3.32546163e+00],\n       [ 3.84768629e+00, -6.66650200e+00],\n       [ 1.62555838e+00, -4.49668169e+00],\n       [-1.18565285e+00, -9.44289982e-01],\n       [ 1.74034342e-01, -4.14183998e+00],\n       [-4.20624542e+00,  1.54110861e+00],\n       [-1.26843798e+00, -8.65068674e-01],\n       [-1.56631098e+01,  4.52229404e+00],\n       [-6.18007803e+00,  3.48792863e+00],\n       [-1.78634369e+00, -4.12838668e-01],\n       [-8.58486366e+00,  4.03999281e+00],\n       [-3.23956752e+00,  6.18164778e-01],\n       [ 2.82854104e+00, -6.24901772e+00],\n       [-2.97204137e+00,  8.52412105e-01],\n       [ 1.93761897e+00, -4.32891178e+00],\n       [-3.86462235e+00,  1.20272863e+00],\n       [ 1.84936976e+00, -4.97703266e+00],\n       [-9.60563278e+00,  4.27650166e+00],\n       [ 1.14036894e+00, -3.30966973e+00],\n       [ 2.50208259e+00, -4.99678516e+00],\n       [-1.01571381e+00, -4.08587885e+00],\n       [-9.20808411e+00,  3.91093230e+00],\n       [-2.59848803e-01, -1.86817503e+00],\n       [-6.05497074e+00,  3.98488307e+00],\n       [-1.02743311e+01,  3.55805564e+00],\n       [ 3.73552489e+00, -5.59535408e+00],\n       [ 2.70837754e-01, -3.84038830e+00],\n       [-8.34701538e+00,  3.46616101e+00],\n       [ 3.32931805e+00, -7.02425766e+00],\n       [-6.72269201e+00,  1.17162001e+00],\n       [-1.01450567e+01,  4.17414904e+00],\n       [ 2.82171750e+00, -7.03296709e+00],\n       [-7.90050745e+00,  5.24808216e+00],\n       [ 3.91112065e+00, -7.32247686e+00],\n       [ 2.22844267e+00, -4.11606598e+00],\n       [-1.43475180e+01,  5.79678154e+00],\n       [-1.72017479e+00, -4.80505288e-01],\n       [-3.75089216e+00,  1.10332954e+00],\n       [-7.41938400e+00,  1.04415836e+01],\n       [-5.45138645e+00,  4.58397436e+00],\n       [-1.04137478e+01,  6.62587166e+00],\n       [ 2.65798330e+00, -7.47614813e+00],\n       [-1.11599302e+00, -2.06541419e+00],\n       [-9.04769230e+00,  3.23115849e+00],\n       [ 1.80947793e+00, -3.45795250e+00],\n       [-7.99638271e+00,  6.83750200e+00],\n       [-1.00296879e+01,  6.10681534e+00],\n       [ 1.06916308e+00, -2.36021733e+00],\n       [-1.43921194e+01,  5.76811218e+00],\n       [ 1.21326199e+01,  1.63581514e+00],\n       [ 1.36542845e+01, -6.59899616e+00],\n       [ 9.86976147e+00,  4.90571213e+00],\n       [ 1.12915497e+01,  3.99385190e+00],\n       [ 9.86789036e+00, -2.74685311e+00],\n       [ 1.09682131e+01,  7.18635321e-01],\n       [ 1.35317898e+01, -1.02472124e+01],\n       [ 1.37867727e+01, -7.16183090e+00],\n       [ 1.13715839e+01, -6.43202066e+00],\n       [ 1.22581034e+01, -2.04957008e+00],\n       [ 1.10227251e+01, -5.85775518e+00],\n       [ 1.37232046e+01, -1.08033161e+01],\n       [ 1.37047777e+01, -7.04590511e+00],\n       [ 1.12372522e+01,  2.27302358e-01],\n       [ 1.14093895e+01, -1.16639674e+00],\n       [ 1.00634680e+01, -1.02905712e+01],\n       [ 1.22581024e+01, -2.04956985e+00],\n       [ 1.00165396e+01, -7.28892422e+00],\n       [ 1.00220165e+01,  4.59836912e+00],\n       [ 1.06923494e+01,  1.17811346e+00],\n       [ 1.04995441e+01, -6.78253317e+00],\n       [ 1.12231989e+01,  2.18929935e+00],\n       [ 1.26325216e+01, -9.35749054e+00],\n       [ 1.19712114e+01,  1.90229034e+00],\n       [ 1.11589727e+01,  2.47807312e+00],\n       [ 1.13238468e+01, -1.18324881e+01],\n       [ 1.43801136e+01, -6.93916225e+00],\n       [ 1.01345673e+01, -2.61457467e+00],\n       [ 1.14917746e+01,  1.15850723e+00],\n       [ 1.23959436e+01, -7.47647464e-01],\n       [ 1.14796953e+01, -1.22390032e+00],\n       [ 1.16448526e+01, -9.06656742e+00],\n       [ 1.15761843e+01,  2.18445611e+00],\n       [ 1.01043091e+01, -7.39532757e+00],\n       [ 1.30865345e+01, -7.23161602e+00],\n       [ 9.68494987e+00,  4.93782139e+00],\n       [ 9.90188408e+00, -6.78580856e+00],\n       [ 1.11970062e+01,  9.56584066e-02],\n       [ 1.41371527e+01, -1.07356663e+01],\n       [ 1.16141844e+01, -1.14750509e+01],\n       [ 9.69076252e+00, -3.47920918e+00],\n       [ 1.00056906e+01,  3.41408443e+00],\n       [ 1.04972677e+01, -1.00185184e+01],\n       [ 1.07922287e+01, -6.27599657e-01],\n       [ 1.34497414e+01, -8.85043621e+00],\n       [ 1.29730988e+01, -7.55693102e+00],\n       [ 1.37128496e+01, -1.05584517e+01],\n       [ 8.95228958e+00,  5.80312824e+00],\n       [ 8.83160973e+00,  3.39606547e+00],\n       [ 1.11992044e+01,  4.35087109e+00],\n       [ 9.63592243e+00, -3.70500231e+00],\n       [ 1.10118380e+01, -1.92804813e+00],\n       [ 1.15039091e+01, -1.16422996e-02],\n       [ 1.01952963e+01, -1.01388979e+01],\n       [ 1.28355122e+01,  9.27353680e-01],\n       [ 1.25813942e+01, -6.71336269e+00],\n       [ 1.23108521e+01, -1.13344030e+01],\n       [ 1.30978298e+01, -1.09744825e+01],\n       [ 9.54495239e+00, -1.41408515e+00],\n       [ 1.27255068e+01, -6.65143871e+00],\n       [ 8.56326866e+00,  5.14631653e+00],\n       [ 9.89337730e+00, -1.03195391e+01],\n       [ 1.12123156e+01,  1.41797090e+00],\n       [ 9.66154194e+00, -6.90777206e+00],\n       [ 1.11649284e+01, -9.32553577e+00],\n       [ 1.08227777e+01,  3.36175585e+00],\n       [ 9.47458267e+00,  4.71410084e+00]], dtype=float32)"
     },
     "execution_count": 441,
     "metadata": {},
     "output_type": "execute_result"
    }
   ],
   "source": [
    "X_embedded"
   ],
   "metadata": {
    "collapsed": false
   }
  },
  {
   "cell_type": "code",
   "execution_count": 442,
   "outputs": [
    {
     "data": {
      "text/plain": "<Figure size 3000x1800 with 0 Axes>"
     },
     "metadata": {},
     "output_type": "display_data"
    }
   ],
   "source": [
    "import matplotlib.pyplot as plt\n",
    "fig = plt.figure(figsize=(30, 18))\n",
    "plt.rcParams[\"figure.figsize\"] = (30,18)"
   ],
   "metadata": {
    "collapsed": false
   }
  },
  {
   "cell_type": "code",
   "execution_count": 443,
   "outputs": [
    {
     "ename": "ValueError",
     "evalue": "'c' argument has 603 elements, which is inconsistent with 'x' and 'y' with size 201.",
     "output_type": "error",
     "traceback": [
      "\u001B[0;31m---------------------------------------------------------------------------\u001B[0m",
      "\u001B[0;31mValueError\u001B[0m                                Traceback (most recent call last)",
      "File \u001B[0;32m~/Master-Thesis/CKIM_Competition/venv/lib/python3.9/site-packages/matplotlib/axes/_axes.py:4375\u001B[0m, in \u001B[0;36mAxes._parse_scatter_color_args\u001B[0;34m(c, edgecolors, kwargs, xsize, get_next_color_func)\u001B[0m\n\u001B[1;32m   4374\u001B[0m \u001B[38;5;28;01mtry\u001B[39;00m:  \u001B[38;5;66;03m# Is 'c' acceptable as PathCollection facecolors?\u001B[39;00m\n\u001B[0;32m-> 4375\u001B[0m     colors \u001B[38;5;241m=\u001B[39m \u001B[43mmcolors\u001B[49m\u001B[38;5;241;43m.\u001B[39;49m\u001B[43mto_rgba_array\u001B[49m\u001B[43m(\u001B[49m\u001B[43mc\u001B[49m\u001B[43m)\u001B[49m\n\u001B[1;32m   4376\u001B[0m \u001B[38;5;28;01mexcept\u001B[39;00m (\u001B[38;5;167;01mTypeError\u001B[39;00m, \u001B[38;5;167;01mValueError\u001B[39;00m) \u001B[38;5;28;01mas\u001B[39;00m err:\n",
      "File \u001B[0;32m~/Master-Thesis/CKIM_Competition/venv/lib/python3.9/site-packages/matplotlib/colors.py:487\u001B[0m, in \u001B[0;36mto_rgba_array\u001B[0;34m(c, alpha)\u001B[0m\n\u001B[1;32m    486\u001B[0m \u001B[38;5;28;01melse\u001B[39;00m:\n\u001B[0;32m--> 487\u001B[0m     rgba \u001B[38;5;241m=\u001B[39m np\u001B[38;5;241m.\u001B[39marray([to_rgba(cc) \u001B[38;5;28;01mfor\u001B[39;00m cc \u001B[38;5;129;01min\u001B[39;00m c])\n\u001B[1;32m    489\u001B[0m \u001B[38;5;28;01mif\u001B[39;00m alpha \u001B[38;5;129;01mis\u001B[39;00m \u001B[38;5;129;01mnot\u001B[39;00m \u001B[38;5;28;01mNone\u001B[39;00m:\n",
      "File \u001B[0;32m~/Master-Thesis/CKIM_Competition/venv/lib/python3.9/site-packages/matplotlib/colors.py:487\u001B[0m, in \u001B[0;36m<listcomp>\u001B[0;34m(.0)\u001B[0m\n\u001B[1;32m    486\u001B[0m \u001B[38;5;28;01melse\u001B[39;00m:\n\u001B[0;32m--> 487\u001B[0m     rgba \u001B[38;5;241m=\u001B[39m np\u001B[38;5;241m.\u001B[39marray([\u001B[43mto_rgba\u001B[49m\u001B[43m(\u001B[49m\u001B[43mcc\u001B[49m\u001B[43m)\u001B[49m \u001B[38;5;28;01mfor\u001B[39;00m cc \u001B[38;5;129;01min\u001B[39;00m c])\n\u001B[1;32m    489\u001B[0m \u001B[38;5;28;01mif\u001B[39;00m alpha \u001B[38;5;129;01mis\u001B[39;00m \u001B[38;5;129;01mnot\u001B[39;00m \u001B[38;5;28;01mNone\u001B[39;00m:\n",
      "File \u001B[0;32m~/Master-Thesis/CKIM_Competition/venv/lib/python3.9/site-packages/matplotlib/colors.py:299\u001B[0m, in \u001B[0;36mto_rgba\u001B[0;34m(c, alpha)\u001B[0m\n\u001B[1;32m    298\u001B[0m \u001B[38;5;28;01mif\u001B[39;00m rgba \u001B[38;5;129;01mis\u001B[39;00m \u001B[38;5;28;01mNone\u001B[39;00m:  \u001B[38;5;66;03m# Suppress exception chaining of cache lookup failure.\u001B[39;00m\n\u001B[0;32m--> 299\u001B[0m     rgba \u001B[38;5;241m=\u001B[39m \u001B[43m_to_rgba_no_colorcycle\u001B[49m\u001B[43m(\u001B[49m\u001B[43mc\u001B[49m\u001B[43m,\u001B[49m\u001B[43m \u001B[49m\u001B[43malpha\u001B[49m\u001B[43m)\u001B[49m\n\u001B[1;32m    300\u001B[0m     \u001B[38;5;28;01mtry\u001B[39;00m:\n",
      "File \u001B[0;32m~/Master-Thesis/CKIM_Competition/venv/lib/python3.9/site-packages/matplotlib/colors.py:381\u001B[0m, in \u001B[0;36m_to_rgba_no_colorcycle\u001B[0;34m(c, alpha)\u001B[0m\n\u001B[1;32m    380\u001B[0m \u001B[38;5;28;01mif\u001B[39;00m \u001B[38;5;129;01mnot\u001B[39;00m np\u001B[38;5;241m.\u001B[39miterable(c):\n\u001B[0;32m--> 381\u001B[0m     \u001B[38;5;28;01mraise\u001B[39;00m \u001B[38;5;167;01mValueError\u001B[39;00m(\u001B[38;5;124mf\u001B[39m\u001B[38;5;124m\"\u001B[39m\u001B[38;5;124mInvalid RGBA argument: \u001B[39m\u001B[38;5;132;01m{\u001B[39;00morig_c\u001B[38;5;132;01m!r}\u001B[39;00m\u001B[38;5;124m\"\u001B[39m)\n\u001B[1;32m    382\u001B[0m \u001B[38;5;28;01mif\u001B[39;00m \u001B[38;5;28mlen\u001B[39m(c) \u001B[38;5;129;01mnot\u001B[39;00m \u001B[38;5;129;01min\u001B[39;00m [\u001B[38;5;241m3\u001B[39m, \u001B[38;5;241m4\u001B[39m]:\n",
      "\u001B[0;31mValueError\u001B[0m: Invalid RGBA argument: 1.0",
      "\nThe above exception was the direct cause of the following exception:\n",
      "\u001B[0;31mValueError\u001B[0m                                Traceback (most recent call last)",
      "Cell \u001B[0;32mIn [443], line 1\u001B[0m\n\u001B[0;32m----> 1\u001B[0m \u001B[43mplt\u001B[49m\u001B[38;5;241;43m.\u001B[39;49m\u001B[43mscatter\u001B[49m\u001B[43m(\u001B[49m\u001B[43mX_embedded\u001B[49m\u001B[43m[\u001B[49m\u001B[43m:\u001B[49m\u001B[43m,\u001B[49m\u001B[43m \u001B[49m\u001B[38;5;241;43m0\u001B[39;49m\u001B[43m]\u001B[49m\u001B[43m,\u001B[49m\u001B[43m \u001B[49m\u001B[43mX_embedded\u001B[49m\u001B[43m[\u001B[49m\u001B[43m:\u001B[49m\u001B[43m,\u001B[49m\u001B[43m \u001B[49m\u001B[38;5;241;43m1\u001B[39;49m\u001B[43m]\u001B[49m\u001B[43m,\u001B[49m\u001B[43m \u001B[49m\u001B[43mc\u001B[49m\u001B[38;5;241;43m=\u001B[39;49m\u001B[43mlabels\u001B[49m\u001B[43m)\u001B[49m\n\u001B[1;32m      2\u001B[0m plt\u001B[38;5;241m.\u001B[39mshow()\n",
      "File \u001B[0;32m~/Master-Thesis/CKIM_Competition/venv/lib/python3.9/site-packages/matplotlib/pyplot.py:2790\u001B[0m, in \u001B[0;36mscatter\u001B[0;34m(x, y, s, c, marker, cmap, norm, vmin, vmax, alpha, linewidths, edgecolors, plotnonfinite, data, **kwargs)\u001B[0m\n\u001B[1;32m   2785\u001B[0m \u001B[38;5;129m@_copy_docstring_and_deprecators\u001B[39m(Axes\u001B[38;5;241m.\u001B[39mscatter)\n\u001B[1;32m   2786\u001B[0m \u001B[38;5;28;01mdef\u001B[39;00m \u001B[38;5;21mscatter\u001B[39m(\n\u001B[1;32m   2787\u001B[0m         x, y, s\u001B[38;5;241m=\u001B[39m\u001B[38;5;28;01mNone\u001B[39;00m, c\u001B[38;5;241m=\u001B[39m\u001B[38;5;28;01mNone\u001B[39;00m, marker\u001B[38;5;241m=\u001B[39m\u001B[38;5;28;01mNone\u001B[39;00m, cmap\u001B[38;5;241m=\u001B[39m\u001B[38;5;28;01mNone\u001B[39;00m, norm\u001B[38;5;241m=\u001B[39m\u001B[38;5;28;01mNone\u001B[39;00m,\n\u001B[1;32m   2788\u001B[0m         vmin\u001B[38;5;241m=\u001B[39m\u001B[38;5;28;01mNone\u001B[39;00m, vmax\u001B[38;5;241m=\u001B[39m\u001B[38;5;28;01mNone\u001B[39;00m, alpha\u001B[38;5;241m=\u001B[39m\u001B[38;5;28;01mNone\u001B[39;00m, linewidths\u001B[38;5;241m=\u001B[39m\u001B[38;5;28;01mNone\u001B[39;00m, \u001B[38;5;241m*\u001B[39m,\n\u001B[1;32m   2789\u001B[0m         edgecolors\u001B[38;5;241m=\u001B[39m\u001B[38;5;28;01mNone\u001B[39;00m, plotnonfinite\u001B[38;5;241m=\u001B[39m\u001B[38;5;28;01mFalse\u001B[39;00m, data\u001B[38;5;241m=\u001B[39m\u001B[38;5;28;01mNone\u001B[39;00m, \u001B[38;5;241m*\u001B[39m\u001B[38;5;241m*\u001B[39mkwargs):\n\u001B[0;32m-> 2790\u001B[0m     __ret \u001B[38;5;241m=\u001B[39m \u001B[43mgca\u001B[49m\u001B[43m(\u001B[49m\u001B[43m)\u001B[49m\u001B[38;5;241;43m.\u001B[39;49m\u001B[43mscatter\u001B[49m\u001B[43m(\u001B[49m\n\u001B[1;32m   2791\u001B[0m \u001B[43m        \u001B[49m\u001B[43mx\u001B[49m\u001B[43m,\u001B[49m\u001B[43m \u001B[49m\u001B[43my\u001B[49m\u001B[43m,\u001B[49m\u001B[43m \u001B[49m\u001B[43ms\u001B[49m\u001B[38;5;241;43m=\u001B[39;49m\u001B[43ms\u001B[49m\u001B[43m,\u001B[49m\u001B[43m \u001B[49m\u001B[43mc\u001B[49m\u001B[38;5;241;43m=\u001B[39;49m\u001B[43mc\u001B[49m\u001B[43m,\u001B[49m\u001B[43m \u001B[49m\u001B[43mmarker\u001B[49m\u001B[38;5;241;43m=\u001B[39;49m\u001B[43mmarker\u001B[49m\u001B[43m,\u001B[49m\u001B[43m \u001B[49m\u001B[43mcmap\u001B[49m\u001B[38;5;241;43m=\u001B[39;49m\u001B[43mcmap\u001B[49m\u001B[43m,\u001B[49m\u001B[43m \u001B[49m\u001B[43mnorm\u001B[49m\u001B[38;5;241;43m=\u001B[39;49m\u001B[43mnorm\u001B[49m\u001B[43m,\u001B[49m\n\u001B[1;32m   2792\u001B[0m \u001B[43m        \u001B[49m\u001B[43mvmin\u001B[49m\u001B[38;5;241;43m=\u001B[39;49m\u001B[43mvmin\u001B[49m\u001B[43m,\u001B[49m\u001B[43m \u001B[49m\u001B[43mvmax\u001B[49m\u001B[38;5;241;43m=\u001B[39;49m\u001B[43mvmax\u001B[49m\u001B[43m,\u001B[49m\u001B[43m \u001B[49m\u001B[43malpha\u001B[49m\u001B[38;5;241;43m=\u001B[39;49m\u001B[43malpha\u001B[49m\u001B[43m,\u001B[49m\u001B[43m \u001B[49m\u001B[43mlinewidths\u001B[49m\u001B[38;5;241;43m=\u001B[39;49m\u001B[43mlinewidths\u001B[49m\u001B[43m,\u001B[49m\n\u001B[1;32m   2793\u001B[0m \u001B[43m        \u001B[49m\u001B[43medgecolors\u001B[49m\u001B[38;5;241;43m=\u001B[39;49m\u001B[43medgecolors\u001B[49m\u001B[43m,\u001B[49m\u001B[43m \u001B[49m\u001B[43mplotnonfinite\u001B[49m\u001B[38;5;241;43m=\u001B[39;49m\u001B[43mplotnonfinite\u001B[49m\u001B[43m,\u001B[49m\n\u001B[1;32m   2794\u001B[0m \u001B[43m        \u001B[49m\u001B[38;5;241;43m*\u001B[39;49m\u001B[38;5;241;43m*\u001B[39;49m\u001B[43m(\u001B[49m\u001B[43m{\u001B[49m\u001B[38;5;124;43m\"\u001B[39;49m\u001B[38;5;124;43mdata\u001B[39;49m\u001B[38;5;124;43m\"\u001B[39;49m\u001B[43m:\u001B[49m\u001B[43m \u001B[49m\u001B[43mdata\u001B[49m\u001B[43m}\u001B[49m\u001B[43m \u001B[49m\u001B[38;5;28;43;01mif\u001B[39;49;00m\u001B[43m \u001B[49m\u001B[43mdata\u001B[49m\u001B[43m \u001B[49m\u001B[38;5;129;43;01mis\u001B[39;49;00m\u001B[43m \u001B[49m\u001B[38;5;129;43;01mnot\u001B[39;49;00m\u001B[43m \u001B[49m\u001B[38;5;28;43;01mNone\u001B[39;49;00m\u001B[43m \u001B[49m\u001B[38;5;28;43;01melse\u001B[39;49;00m\u001B[43m \u001B[49m\u001B[43m{\u001B[49m\u001B[43m}\u001B[49m\u001B[43m)\u001B[49m\u001B[43m,\u001B[49m\u001B[43m \u001B[49m\u001B[38;5;241;43m*\u001B[39;49m\u001B[38;5;241;43m*\u001B[39;49m\u001B[43mkwargs\u001B[49m\u001B[43m)\u001B[49m\n\u001B[1;32m   2795\u001B[0m     sci(__ret)\n\u001B[1;32m   2796\u001B[0m     \u001B[38;5;28;01mreturn\u001B[39;00m __ret\n",
      "File \u001B[0;32m~/Master-Thesis/CKIM_Competition/venv/lib/python3.9/site-packages/matplotlib/__init__.py:1423\u001B[0m, in \u001B[0;36m_preprocess_data.<locals>.inner\u001B[0;34m(ax, data, *args, **kwargs)\u001B[0m\n\u001B[1;32m   1420\u001B[0m \u001B[38;5;129m@functools\u001B[39m\u001B[38;5;241m.\u001B[39mwraps(func)\n\u001B[1;32m   1421\u001B[0m \u001B[38;5;28;01mdef\u001B[39;00m \u001B[38;5;21minner\u001B[39m(ax, \u001B[38;5;241m*\u001B[39margs, data\u001B[38;5;241m=\u001B[39m\u001B[38;5;28;01mNone\u001B[39;00m, \u001B[38;5;241m*\u001B[39m\u001B[38;5;241m*\u001B[39mkwargs):\n\u001B[1;32m   1422\u001B[0m     \u001B[38;5;28;01mif\u001B[39;00m data \u001B[38;5;129;01mis\u001B[39;00m \u001B[38;5;28;01mNone\u001B[39;00m:\n\u001B[0;32m-> 1423\u001B[0m         \u001B[38;5;28;01mreturn\u001B[39;00m \u001B[43mfunc\u001B[49m\u001B[43m(\u001B[49m\u001B[43max\u001B[49m\u001B[43m,\u001B[49m\u001B[43m \u001B[49m\u001B[38;5;241;43m*\u001B[39;49m\u001B[38;5;28;43mmap\u001B[39;49m\u001B[43m(\u001B[49m\u001B[43msanitize_sequence\u001B[49m\u001B[43m,\u001B[49m\u001B[43m \u001B[49m\u001B[43margs\u001B[49m\u001B[43m)\u001B[49m\u001B[43m,\u001B[49m\u001B[43m \u001B[49m\u001B[38;5;241;43m*\u001B[39;49m\u001B[38;5;241;43m*\u001B[39;49m\u001B[43mkwargs\u001B[49m\u001B[43m)\u001B[49m\n\u001B[1;32m   1425\u001B[0m     bound \u001B[38;5;241m=\u001B[39m new_sig\u001B[38;5;241m.\u001B[39mbind(ax, \u001B[38;5;241m*\u001B[39margs, \u001B[38;5;241m*\u001B[39m\u001B[38;5;241m*\u001B[39mkwargs)\n\u001B[1;32m   1426\u001B[0m     auto_label \u001B[38;5;241m=\u001B[39m (bound\u001B[38;5;241m.\u001B[39marguments\u001B[38;5;241m.\u001B[39mget(label_namer)\n\u001B[1;32m   1427\u001B[0m                   \u001B[38;5;129;01mor\u001B[39;00m bound\u001B[38;5;241m.\u001B[39mkwargs\u001B[38;5;241m.\u001B[39mget(label_namer))\n",
      "File \u001B[0;32m~/Master-Thesis/CKIM_Competition/venv/lib/python3.9/site-packages/matplotlib/axes/_axes.py:4538\u001B[0m, in \u001B[0;36mAxes.scatter\u001B[0;34m(self, x, y, s, c, marker, cmap, norm, vmin, vmax, alpha, linewidths, edgecolors, plotnonfinite, **kwargs)\u001B[0m\n\u001B[1;32m   4535\u001B[0m \u001B[38;5;28;01mif\u001B[39;00m edgecolors \u001B[38;5;129;01mis\u001B[39;00m \u001B[38;5;28;01mNone\u001B[39;00m:\n\u001B[1;32m   4536\u001B[0m     orig_edgecolor \u001B[38;5;241m=\u001B[39m kwargs\u001B[38;5;241m.\u001B[39mget(\u001B[38;5;124m'\u001B[39m\u001B[38;5;124medgecolor\u001B[39m\u001B[38;5;124m'\u001B[39m, \u001B[38;5;28;01mNone\u001B[39;00m)\n\u001B[1;32m   4537\u001B[0m c, colors, edgecolors \u001B[38;5;241m=\u001B[39m \\\n\u001B[0;32m-> 4538\u001B[0m     \u001B[38;5;28;43mself\u001B[39;49m\u001B[38;5;241;43m.\u001B[39;49m\u001B[43m_parse_scatter_color_args\u001B[49m\u001B[43m(\u001B[49m\n\u001B[1;32m   4539\u001B[0m \u001B[43m        \u001B[49m\u001B[43mc\u001B[49m\u001B[43m,\u001B[49m\u001B[43m \u001B[49m\u001B[43medgecolors\u001B[49m\u001B[43m,\u001B[49m\u001B[43m \u001B[49m\u001B[43mkwargs\u001B[49m\u001B[43m,\u001B[49m\u001B[43m \u001B[49m\u001B[43mx\u001B[49m\u001B[38;5;241;43m.\u001B[39;49m\u001B[43msize\u001B[49m\u001B[43m,\u001B[49m\n\u001B[1;32m   4540\u001B[0m \u001B[43m        \u001B[49m\u001B[43mget_next_color_func\u001B[49m\u001B[38;5;241;43m=\u001B[39;49m\u001B[38;5;28;43mself\u001B[39;49m\u001B[38;5;241;43m.\u001B[39;49m\u001B[43m_get_patches_for_fill\u001B[49m\u001B[38;5;241;43m.\u001B[39;49m\u001B[43mget_next_color\u001B[49m\u001B[43m)\u001B[49m\n\u001B[1;32m   4542\u001B[0m \u001B[38;5;28;01mif\u001B[39;00m plotnonfinite \u001B[38;5;129;01mand\u001B[39;00m colors \u001B[38;5;129;01mis\u001B[39;00m \u001B[38;5;28;01mNone\u001B[39;00m:\n\u001B[1;32m   4543\u001B[0m     c \u001B[38;5;241m=\u001B[39m np\u001B[38;5;241m.\u001B[39mma\u001B[38;5;241m.\u001B[39mmasked_invalid(c)\n",
      "File \u001B[0;32m~/Master-Thesis/CKIM_Competition/venv/lib/python3.9/site-packages/matplotlib/axes/_axes.py:4381\u001B[0m, in \u001B[0;36mAxes._parse_scatter_color_args\u001B[0;34m(c, edgecolors, kwargs, xsize, get_next_color_func)\u001B[0m\n\u001B[1;32m   4379\u001B[0m \u001B[38;5;28;01melse\u001B[39;00m:\n\u001B[1;32m   4380\u001B[0m     \u001B[38;5;28;01mif\u001B[39;00m \u001B[38;5;129;01mnot\u001B[39;00m valid_shape:\n\u001B[0;32m-> 4381\u001B[0m         \u001B[38;5;28;01mraise\u001B[39;00m invalid_shape_exception(c\u001B[38;5;241m.\u001B[39msize, xsize) \u001B[38;5;28;01mfrom\u001B[39;00m \u001B[38;5;21;01merr\u001B[39;00m\n\u001B[1;32m   4382\u001B[0m     \u001B[38;5;66;03m# Both the mapping *and* the RGBA conversion failed: pretty\u001B[39;00m\n\u001B[1;32m   4383\u001B[0m     \u001B[38;5;66;03m# severe failure => one may appreciate a verbose feedback.\u001B[39;00m\n\u001B[1;32m   4384\u001B[0m     \u001B[38;5;28;01mraise\u001B[39;00m \u001B[38;5;167;01mValueError\u001B[39;00m(\n\u001B[1;32m   4385\u001B[0m         \u001B[38;5;124mf\u001B[39m\u001B[38;5;124m\"\u001B[39m\u001B[38;5;124m'\u001B[39m\u001B[38;5;124mc\u001B[39m\u001B[38;5;124m'\u001B[39m\u001B[38;5;124m argument must be a color, a sequence of colors, \u001B[39m\u001B[38;5;124m\"\u001B[39m\n\u001B[1;32m   4386\u001B[0m         \u001B[38;5;124mf\u001B[39m\u001B[38;5;124m\"\u001B[39m\u001B[38;5;124mor a sequence of numbers, not \u001B[39m\u001B[38;5;132;01m{\u001B[39;00mc\u001B[38;5;132;01m}\u001B[39;00m\u001B[38;5;124m\"\u001B[39m) \u001B[38;5;28;01mfrom\u001B[39;00m \u001B[38;5;21;01merr\u001B[39;00m\n",
      "\u001B[0;31mValueError\u001B[0m: 'c' argument has 603 elements, which is inconsistent with 'x' and 'y' with size 201."
     ]
    },
    {
     "data": {
      "text/plain": "<Figure size 3000x1800 with 1 Axes>",
      "image/png": "[encoded data removed]"
     },
     "metadata": {},
     "output_type": "display_data"
    }
   ],
   "source": [
    "plt.scatter(X_embedded[:, 0], X_embedded[:, 1], c=labels)\n",
    "plt.show()"
   ],
   "metadata": {
    "collapsed": false
   }
  },
  {
   "cell_type": "code",
   "execution_count": null,
   "outputs": [],
   "source": [
    "\n",
    "fig, ax = plt.subplots()"
   ],
   "metadata": {
    "collapsed": false
   }
  },
  {
   "cell_type": "code",
   "execution_count": null,
   "outputs": [],
   "source": [
    "color_map = {0:'red', 1:'yellow', 2:'orange', 3:'green', 4:'cyan', 5:'grey'}\n",
    "colors = list(map(color_map.get, labels))"
   ],
   "metadata": {
    "collapsed": false
   }
  },
  {
   "cell_type": "code",
   "execution_count": null,
   "outputs": [],
   "source": [
    "scatter = ax.scatter(X_embedded[:, 0], X_embedded[:, 1], c=colors)"
   ],
   "metadata": {
    "collapsed": false
   }
  },
  {
   "cell_type": "code",
   "execution_count": null,
   "outputs": [],
   "source": [
    "legend1 = ax.legend(*scatter.legend_elements(),\n",
    "                    loc=\"lower left\", title=\"Classes\")"
   ],
   "metadata": {
    "collapsed": false
   }
  },
  {
   "cell_type": "code",
   "execution_count": null,
   "outputs": [],
   "source": [
    "ax.add_artist(legend1)"
   ],
   "metadata": {
    "collapsed": false
   }
  },
  {
   "cell_type": "code",
   "execution_count": null,
   "outputs": [],
   "source": [
    "plt.show()"
   ],
   "metadata": {
    "collapsed": false
   }
  },
  {
   "cell_type": "code",
   "execution_count": null,
   "outputs": [],
   "source": [
    "fig"
   ],
   "metadata": {
    "collapsed": false
   }
  },
  {
   "cell_type": "code",
   "execution_count": null,
   "outputs": [],
   "source": [
    "scatter.legend_elements()"
   ],
   "metadata": {
    "collapsed": false
   }
  },
  {
   "cell_type": "code",
   "execution_count": null,
   "outputs": [],
   "source": [
    "X_embedded.shape[0]"
   ],
   "metadata": {
    "collapsed": false
   }
  },
  {
   "cell_type": "code",
   "execution_count": null,
   "outputs": [],
   "source": [
    "X_embedded.shape[0]//2"
   ],
   "metadata": {
    "collapsed": false
   }
  },
  {
   "cell_type": "code",
   "execution_count": null,
   "outputs": [],
   "source": [
    "X_embedded_combined = X_embedded[:X_embedded.shape[0]//2, :]"
   ],
   "metadata": {
    "collapsed": false
   }
  },
  {
   "cell_type": "code",
   "execution_count": null,
   "outputs": [],
   "source": [
    "X_embedded_combined"
   ],
   "metadata": {
    "collapsed": false
   }
  },
  {
   "cell_type": "code",
   "execution_count": null,
   "outputs": [],
   "source": [
    "X_embedded_local = X_embedded[X_embedded.shape[0]//2:, :]"
   ],
   "metadata": {
    "collapsed": false
   }
  },
  {
   "cell_type": "code",
   "execution_count": null,
   "outputs": [],
   "source": [
    "X_embedded_local"
   ],
   "metadata": {
    "collapsed": false
   }
  },
  {
   "cell_type": "code",
   "execution_count": null,
   "outputs": [],
   "source": [
    "x_diff = X_embedded_local - X_embedded_combined"
   ],
   "metadata": {
    "collapsed": false
   }
  },
  {
   "cell_type": "code",
   "execution_count": null,
   "outputs": [],
   "source": [
    "x_diff"
   ],
   "metadata": {
    "collapsed": false
   }
  },
  {
   "cell_type": "code",
   "execution_count": null,
   "outputs": [],
   "source": [
    "labels"
   ],
   "metadata": {
    "collapsed": false
   }
  },
  {
   "cell_type": "code",
   "execution_count": null,
   "outputs": [],
   "source": [
    "import torch\n",
    "cos = torch.nn.CosineEmbeddingLoss()"
   ],
   "metadata": {
    "collapsed": false
   }
  },
  {
   "cell_type": "code",
   "execution_count": null,
   "outputs": [],
   "source": [
    "a = torch.Tensor([[0,0, 0, 0, 0]])\n",
    "b = torch.Tensor([[0,0, 0, 0, 0]])\n",
    "y = torch.Tensor([-1,])\n",
    "cos(a,b, y)"
   ],
   "metadata": {
    "collapsed": false
   }
  },
  {
   "cell_type": "code",
   "execution_count": null,
   "outputs": [],
   "source": [
    "cos_sim = torch.nn.CosineSimilarity()\n",
    "cos_sim(a,b)"
   ],
   "metadata": {
    "collapsed": false
   }
  },
  {
   "cell_type": "code",
   "execution_count": null,
   "outputs": [],
   "source": [],
   "metadata": {
    "collapsed": false
   }
  },
  {
   "cell_type": "code",
   "execution_count": null,
   "outputs": [],
   "source": [],
   "metadata": {
    "collapsed": false
   }
  }
 ],
 "metadata": {
  "kernelspec": {
   "display_name": "Python 3",
   "language": "python",
   "name": "python3"
  },
  "language_info": {
   "codemirror_mode": {
    "name": "ipython",
    "version": 2
   },
   "file_extension": ".py",
   "mimetype": "text/x-python",
   "name": "python",
   "nbconvert_exporter": "python",
   "pygments_lexer": "ipython2",
   "version": "2.7.6"
  }
 },
 "nbformat": 4,
 "nbformat_minor": 0
}
