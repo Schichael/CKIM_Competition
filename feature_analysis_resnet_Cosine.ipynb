{
 "cells": [
  {
   "cell_type": "code",
   "execution_count": 27,
   "metadata": {
    "collapsed": true
   },
   "outputs": [],
   "source": [
    "import torch\n",
    "import numpy as np\n",
    "from glob import glob\n",
    "import os\n",
    "import matplotlib\n",
    "PATH = '/home/michael/Dropbox/Master thesis/results_graph-dc/CSVs/ResNet/on_MLP_level/cosine_diff/Feature Analysis/FeatureAnalysisGraph-DC_2_ResNet_lr_0_1_A0_F0_1_F0_1_H10/FedDomSep_GraphDC_gin_on_fs_contest_data_lr0.1_lstep1_/features'\n",
    "\n",
    "train_test_val = 'val'\n",
    "\n",
    "save_path = '/home/michael/Dropbox/Master thesis/results_graph-dc/CSVs/ResNet/on_MLP_level/cosine_diff/Feature Analysis/FeatureAnalysisGraph-DC_2_ResNet_lr_0_1_A0_F0_1_F0_1_H10' +'/'+ train_test_val + '/'\n",
    "if train_test_val == 'train':\n",
    "    nun_samples = 11649\n",
    "elif train_test_val == 'val':\n",
    "    nun_samples = 3883\n",
    "elif train_test_val == 'test':\n",
    "    nun_samples = 3889\n",
    "\n",
    "stage = 1"
   ]
  },
  {
   "cell_type": "code",
   "execution_count": 28,
   "outputs": [],
   "source": [
    "font = {'size'   : 22}\n",
    "\n",
    "matplotlib.rc('font', **font)"
   ],
   "metadata": {
    "collapsed": false
   }
  },
  {
   "cell_type": "code",
   "execution_count": 28,
   "outputs": [],
   "source": [],
   "metadata": {
    "collapsed": false
   }
  },
  {
   "cell_type": "code",
   "execution_count": 29,
   "outputs": [],
   "source": [
    "#interm_trains = {1:[], 2:[],3:[], 4:[],5:[], 6:[],7:[], 8:[],9:[], 10:[],11:[], 12:[],13:[]}\n",
    "global_trains = {1:[], 2:[],3:[], 4:[],5:[], 6:[],7:[], 8:[],9:[], 10:[],11:[], 12:[],13:[]}\n",
    "local_trains = {1:[], 2:[],3:[], 4:[],5:[], 6:[],7:[], 8:[],9:[], 10:[],11:[], 12:[],13:[]}\n",
    "labels = {1:[], 2:[],3:[], 4:[],5:[], 6:[],7:[], 8:[],9:[], 10:[],11:[], 12:[],13:[]}\n"
   ],
   "metadata": {
    "collapsed": false
   }
  },
  {
   "cell_type": "code",
   "execution_count": 29,
   "outputs": [],
   "source": [],
   "metadata": {
    "collapsed": false
   }
  },
  {
   "cell_type": "code",
   "execution_count": 30,
   "outputs": [],
   "source": [
    "all_files = [file\n",
    "                 for path, subdir, files in os.walk(PATH)\n",
    "                 for file in glob(os.path.join(path, '*.pt'))]\n",
    "all_files.sort()"
   ],
   "metadata": {
    "collapsed": false
   }
  },
  {
   "cell_type": "markdown",
   "source": [],
   "metadata": {
    "collapsed": false
   }
  },
  {
   "cell_type": "code",
   "execution_count": 31,
   "outputs": [],
   "source": [
    "def get_files(path):\n",
    "    for client in range(1, 13+1):\n",
    "        print(client)\n",
    "        client_path = f\"{PATH}/client_{client}\"\n",
    "        all_files = [file\n",
    "                 for path, subdir, files in os.walk(client_path)\n",
    "                 for file in glob(os.path.join(path, '*.pt'))]\n",
    "        all_files.sort()\n",
    "        for file in all_files:\n",
    "            file_name = os.path.basename(file)\n",
    "            file_name_without_ending = file_name[:-3]\n",
    "            if file_name_without_ending.startswith(f'x_global_{stage}_' + train_test_val) and not file_name_without_ending.endswith('labels'):\n",
    "                print(file_name_without_ending)\n",
    "                global_trains[client].append(torch.load(file).cpu().detach().numpy())\n",
    "                print(torch.load(file).cpu().detach().numpy().shape)\n",
    "            if file_name_without_ending.startswith(f'x_local_{stage}_' + train_test_val) and not file_name_without_ending.endswith('labels'):\n",
    "                local_trains[client].append(torch.load(file).cpu().detach().numpy())\n",
    "            if file_name_without_ending.startswith(train_test_val) and file_name_without_ending.endswith('labels'):\n",
    "                labels[client].append(torch.load(file).cpu().detach().numpy())\n",
    "        #interm_trains[client] = np.concatenate(interm_trains[client])\n",
    "        global_trains[client] = np.concatenate(global_trains[client])\n",
    "        local_trains[client] = np.concatenate(local_trains[client])\n",
    "        labels[client] = np.concatenate(labels[client])\n"
   ],
   "metadata": {
    "collapsed": false
   }
  },
  {
   "cell_type": "code",
   "execution_count": 32,
   "outputs": [
    {
     "name": "stdout",
     "output_type": "stream",
     "text": [
      "1\n",
      "x_global_1_val_0\n",
      "(696, 64)\n",
      "2\n",
      "x_global_1_val_0\n",
      "(2270, 64)\n",
      "x_global_1_val_1\n",
      "(606, 64)\n",
      "3\n",
      "x_global_1_val_0\n",
      "(2644, 64)\n",
      "x_global_1_val_1\n",
      "(1196, 64)\n",
      "4\n",
      "x_global_1_val_0\n",
      "(2757, 64)\n",
      "x_global_1_val_1\n",
      "(2648, 64)\n",
      "x_global_1_val_2\n",
      "(997, 64)\n",
      "5\n",
      "x_global_1_val_0\n",
      "(1020, 64)\n",
      "x_global_1_val_1\n",
      "(79, 64)\n",
      "6\n",
      "x_global_1_val_0\n",
      "(883, 64)\n",
      "x_global_1_val_1\n",
      "(1086, 64)\n",
      "x_global_1_val_2\n",
      "(979, 64)\n",
      "x_global_1_val_3\n",
      "(919, 64)\n",
      "x_global_1_val_4\n",
      "(842, 64)\n",
      "x_global_1_val_5\n",
      "(1119, 64)\n",
      "x_global_1_val_6\n",
      "(337, 64)\n",
      "7\n",
      "x_global_1_val_0\n",
      "(1894, 64)\n",
      "x_global_1_val_1\n",
      "(1820, 64)\n",
      "x_global_1_val_10\n",
      "(2050, 64)\n",
      "x_global_1_val_11\n",
      "(1867, 64)\n",
      "x_global_1_val_12\n",
      "(1546, 64)\n",
      "x_global_1_val_2\n",
      "(1840, 64)\n",
      "x_global_1_val_3\n",
      "(1790, 64)\n",
      "x_global_1_val_4\n",
      "(1835, 64)\n",
      "x_global_1_val_5\n",
      "(2032, 64)\n",
      "x_global_1_val_6\n",
      "(1841, 64)\n",
      "x_global_1_val_7\n",
      "(1842, 64)\n",
      "x_global_1_val_8\n",
      "(1688, 64)\n",
      "x_global_1_val_9\n",
      "(2099, 64)\n",
      "8\n",
      "x_global_1_val_0\n",
      "(1836, 64)\n",
      "x_global_1_val_1\n",
      "(2275, 64)\n",
      "x_global_1_val_10\n",
      "(2075, 64)\n",
      "x_global_1_val_11\n",
      "(2021, 64)\n",
      "x_global_1_val_12\n",
      "(1829, 64)\n",
      "x_global_1_val_13\n",
      "(1123, 64)\n",
      "x_global_1_val_2\n",
      "(1829, 64)\n",
      "x_global_1_val_3\n",
      "(1783, 64)\n",
      "x_global_1_val_4\n",
      "(1784, 64)\n",
      "x_global_1_val_5\n",
      "(1798, 64)\n",
      "x_global_1_val_6\n",
      "(1700, 64)\n",
      "x_global_1_val_7\n",
      "(2175, 64)\n",
      "x_global_1_val_8\n",
      "(1826, 64)\n",
      "x_global_1_val_9\n",
      "(1826, 64)\n",
      "9\n",
      "x_global_1_val_0\n",
      "(2001, 64)\n",
      "x_global_1_val_1\n",
      "(1789, 64)\n",
      "x_global_1_val_10\n",
      "(1835, 64)\n",
      "x_global_1_val_11\n",
      "(1949, 64)\n",
      "x_global_1_val_12\n",
      "(1552, 64)\n",
      "x_global_1_val_2\n",
      "(1848, 64)\n",
      "x_global_1_val_3\n",
      "(1817, 64)\n",
      "x_global_1_val_4\n",
      "(1831, 64)\n",
      "x_global_1_val_5\n",
      "(1930, 64)\n",
      "x_global_1_val_6\n",
      "(2053, 64)\n",
      "x_global_1_val_7\n",
      "(1862, 64)\n",
      "x_global_1_val_8\n",
      "(1779, 64)\n",
      "x_global_1_val_9\n",
      "(1944, 64)\n",
      "10\n",
      "x_global_1_val_0\n",
      "(910, 64)\n",
      "x_global_1_val_1\n",
      "(34, 64)\n",
      "11\n",
      "x_global_1_val_0\n",
      "(1025, 64)\n",
      "x_global_1_val_1\n",
      "(61, 64)\n",
      "12\n",
      "x_global_1_val_0\n",
      "(1702, 64)\n",
      "x_global_1_val_1\n",
      "(1595, 64)\n",
      "x_global_1_val_2\n",
      "(1667, 64)\n",
      "x_global_1_val_3\n",
      "(208, 64)\n",
      "13\n",
      "x_global_1_val_0\n",
      "(2255, 64)\n",
      "x_global_1_val_1\n",
      "(2236, 64)\n",
      "x_global_1_val_2\n",
      "(2166, 64)\n",
      "x_global_1_val_3\n",
      "(280, 64)\n"
     ]
    }
   ],
   "source": [
    "get_files(PATH)"
   ],
   "metadata": {
    "collapsed": false
   }
  },
  {
   "cell_type": "code",
   "execution_count": 7,
   "outputs": [],
   "source": [
    "import numpy as np\n",
    "#concat_X=global_train\n",
    "data_out_local_global = {}\n",
    "data_out_local = {}\n",
    "data_out_global = {}\n",
    "\n",
    "for key in local_trains.keys():\n",
    "    data_out_local_global[key] = global_trains[key] + local_trains[key]\n",
    "    data_out_local[key] = local_trains[key]\n",
    "    data_out_global[key] = global_trains[key]\n",
    "\n",
    "X_concat_local_global = []\n",
    "X_concat_local = []\n",
    "X_concat_global = []\n",
    "labels_concat = []\n",
    "\n",
    "for key in local_trains.keys():\n",
    "    X_concat_local_global.append(data_out_local_global[key])\n",
    "    X_concat_local.append(data_out_local[key])\n",
    "    X_concat_global.append(data_out_global[key])\n",
    "    labels_concat.append(labels[key])\n",
    "\n",
    "X_concat_local_global = np.concatenate(X_concat_local_global)\n",
    "X_concat_local = np.concatenate(X_concat_local)\n",
    "X_concat_global = np.concatenate(X_concat_global)\n",
    "\n",
    "labels_concat = np.concatenate(labels_concat)"
   ],
   "metadata": {
    "collapsed": false
   }
  },
  {
   "cell_type": "code",
   "execution_count": 8,
   "outputs": [
    {
     "data": {
      "text/plain": "(3883,)"
     },
     "execution_count": 8,
     "metadata": {},
     "output_type": "execute_result"
    }
   ],
   "source": [
    "labels_concat.shape"
   ],
   "metadata": {
    "collapsed": false
   }
  },
  {
   "cell_type": "code",
   "execution_count": 9,
   "outputs": [
    {
     "data": {
      "text/plain": "(696, 64)"
     },
     "execution_count": 9,
     "metadata": {},
     "output_type": "execute_result"
    }
   ],
   "source": [
    "global_trains[1].shape"
   ],
   "metadata": {
    "collapsed": false
   }
  },
  {
   "cell_type": "code",
   "execution_count": 10,
   "outputs": [
    {
     "data": {
      "text/plain": "(38,)"
     },
     "execution_count": 10,
     "metadata": {},
     "output_type": "execute_result"
    }
   ],
   "source": [
    "labels[1].shape"
   ],
   "metadata": {
    "collapsed": false
   }
  },
  {
   "cell_type": "code",
   "execution_count": 25,
   "outputs": [],
   "source": [
    "from sklearn.manifold import TSNE"
   ],
   "metadata": {
    "collapsed": false
   }
  },
  {
   "cell_type": "code",
   "execution_count": 26,
   "outputs": [],
   "source": [
    "labels_global = labels.copy()\n"
   ],
   "metadata": {
    "collapsed": false
   }
  },
  {
   "cell_type": "code",
   "execution_count": 27,
   "outputs": [],
   "source": [
    "X_concat = np.concatenate([X_concat_local_global, X_concat_local, X_concat_global])\n",
    "labels_double_concat = np.concatenate([labels_concat, labels_concat, labels_concat])"
   ],
   "metadata": {
    "collapsed": false
   }
  },
  {
   "cell_type": "code",
   "execution_count": 28,
   "outputs": [],
   "source": [
    "X_embedded = TSNE(n_components=2, learning_rate='auto', init='random', perplexity=25).fit_transform(X_concat, labels_double_concat)"
   ],
   "metadata": {
    "collapsed": false
   }
  },
  {
   "cell_type": "code",
   "execution_count": 29,
   "outputs": [
    {
     "data": {
      "text/plain": "164146"
     },
     "execution_count": 29,
     "metadata": {},
     "output_type": "execute_result"
    }
   ],
   "source": [
    "X_embedded.shape[0]//2"
   ],
   "metadata": {
    "collapsed": false
   }
  },
  {
   "cell_type": "code",
   "execution_count": 29,
   "outputs": [],
   "source": [],
   "metadata": {
    "collapsed": false
   }
  },
  {
   "cell_type": "code",
   "execution_count": 30,
   "outputs": [
    {
     "data": {
      "text/plain": "array([[ 0.03548764,  0.02409674, -0.18851441, ..., -0.02552205,\n        -0.03427534, -0.02120789],\n       [-0.03349617,  0.16278856, -0.27261162, ..., -0.3358704 ,\n        -0.06327467,  0.0383325 ],\n       [ 0.0456271 ,  0.07553679, -0.09290861, ..., -0.08228111,\n        -0.00804726,  0.08760299],\n       ...,\n       [ 0.01321941, -0.03883332, -0.2989742 , ..., -0.06566903,\n        -0.00750393,  0.00594858],\n       [ 0.01321941, -0.03883332, -0.2989742 , ..., -0.06566903,\n        -0.00750393,  0.00594858],\n       [-0.0232338 ,  0.08258294, -0.07230527, ..., -0.09355827,\n         0.00642899,  0.03578495]], dtype=float32)"
     },
     "execution_count": 30,
     "metadata": {},
     "output_type": "execute_result"
    }
   ],
   "source": [
    "# Feature Analysis for client 9:\n",
    "global_trains[9]"
   ],
   "metadata": {
    "collapsed": false
   }
  },
  {
   "cell_type": "code",
   "execution_count": 30,
   "outputs": [],
   "source": [],
   "metadata": {
    "collapsed": false
   }
  },
  {
   "cell_type": "code",
   "execution_count": 31,
   "outputs": [
    {
     "data": {
      "text/plain": "array([[ 0.09093752, -0.27521208,  0.05130374, ...,  0.20057908,\n         0.14476739, -0.33677903],\n       [-0.20055106, -0.21545143,  0.05439823, ...,  0.20752677,\n         0.17172359,  0.24084459],\n       [-0.05555886, -0.22350198,  0.05341482, ...,  0.16250794,\n        -0.095268  ,  0.01724274],\n       ...,\n       [ 0.03587125,  0.04144767,  0.05179763, ...,  0.04026882,\n         0.04742841, -0.07649257],\n       [ 0.03587125,  0.04144767,  0.05179763, ...,  0.04026882,\n         0.04742841, -0.07649257],\n       [-0.05405464, -0.26716146,  0.05228716, ...,  0.24559785,\n         0.41175902, -0.11317711]], dtype=float32)"
     },
     "execution_count": 31,
     "metadata": {},
     "output_type": "execute_result"
    }
   ],
   "source": [
    "local_trains[9]"
   ],
   "metadata": {
    "collapsed": false
   }
  },
  {
   "cell_type": "code",
   "execution_count": 32,
   "outputs": [],
   "source": [
    "cos_sim = torch.nn.CosineSimilarity()"
   ],
   "metadata": {
    "collapsed": false
   }
  },
  {
   "cell_type": "code",
   "execution_count": 33,
   "outputs": [],
   "source": [
    "isExist = os.path.exists(save_path)\n",
    "if not isExist:\n",
    "    os.makedirs(save_path)"
   ],
   "metadata": {
    "collapsed": false
   }
  },
  {
   "cell_type": "code",
   "execution_count": 33,
   "outputs": [],
   "source": [],
   "metadata": {
    "collapsed": false
   }
  },
  {
   "cell_type": "code",
   "execution_count": 34,
   "outputs": [],
   "source": [
    "import pandas as pd\n",
    "\n",
    "df = pd.DataFrame()"
   ],
   "metadata": {
    "collapsed": false
   }
  },
  {
   "cell_type": "code",
   "execution_count": 35,
   "outputs": [],
   "source": [
    "num_total_features = []\n",
    "num_local_features_not_0 = []\n",
    "avg_local_features_not_0 = []\n",
    "num_global_features_not_0 = []\n",
    "num_features_global_local = []\n",
    "avg_global_features_not_0 = []\n",
    "num_local_global_features_not_0 = []\n",
    "avg_local_global_features_not_0 = []\n",
    "cos_sim_local_global = []\n",
    "cos_sim_local_local_global = []\n",
    "cos_sim_global_local_global = []"
   ],
   "metadata": {
    "collapsed": false
   }
  },
  {
   "cell_type": "code",
   "execution_count": 35,
   "outputs": [],
   "source": [],
   "metadata": {
    "collapsed": false
   }
  },
  {
   "cell_type": "code",
   "execution_count": 35,
   "outputs": [],
   "source": [],
   "metadata": {
    "collapsed": false
   }
  },
  {
   "cell_type": "code",
   "execution_count": 35,
   "outputs": [],
   "source": [],
   "metadata": {
    "collapsed": false
   }
  },
  {
   "cell_type": "code",
   "execution_count": 36,
   "outputs": [],
   "source": [
    "for client in range(1, 13+1):\n",
    "\n",
    "\n",
    "    local_train_curr = local_trains[client]\n",
    "    global_train_curr = global_trains[client]\n",
    "\n",
    "    num_total_features.append(local_train_curr.shape[0] * local_train_curr.shape[1])\n",
    "    num_total_features_curr = local_train_curr.shape[0] * local_train_curr.shape[1]\n",
    "\n",
    "    local_global = local_train_curr + global_train_curr\n",
    "\n",
    "    mult_local_global = global_train_curr*local_train_curr\n",
    "\n",
    "    num_local_features_not_0.append(np.sum(local_train_curr != 0) / num_total_features_curr)\n",
    "    avg_local_features_not_0.append(local_train_curr.sum() / np.sum(local_train_curr != 0))\n",
    "    num_global_features_not_0.append(np.sum(global_train_curr != 0) / num_total_features_curr)\n",
    "    avg_global_features_not_0.append(global_train_curr.sum() / np.sum(global_train_curr != 0))\n",
    "    num_local_global_features_not_0.append(np.sum(local_global != 0) / num_total_features_curr)\n",
    "    avg_local_global_features_not_0.append(local_global.sum() / np.sum(local_global != 0))\n",
    "\n",
    "    num_features_global_local.append(np.sum(mult_local_global != 0) / num_total_features_curr)\n",
    "\n",
    "    cos_sim_local_global.append(cos_sim(torch.Tensor(global_train_curr), torch.Tensor(local_train_curr)).mean().item())\n",
    "    cos_sim_local_local_global.append(cos_sim(torch.Tensor(local_train_curr), torch.Tensor(local_global)).mean().item())\n",
    "    cos_sim_global_local_global.append(cos_sim(torch.Tensor(global_train_curr), torch.Tensor(local_global)).mean().item())\n",
    "    \"\"\"\n",
    "    print(f\"############ Client {client} ##############\")\n",
    "    print(f\"total features: {round(num_total_features,2)}\")\n",
    "    print(f\"num_local_features_not_0:\\n{round(num_local_features_not_0,2)}\")\n",
    "    print(f\"avg_local_features_not_0:\\n{round(avg_local_features_not_0,2)}\")\n",
    "\n",
    "    print(f\"num_global_features_not_0:\\n{round(num_global_features_not_0,2)}\")\n",
    "    print(f\"num_features_global_local:\\n{round(num_features_global_local,2)}\")\n",
    "    print(f\"avg_global_features_not_0:\\n{round(avg_global_features_not_0,2)}\")\n",
    "\n",
    "    print(f\"num_local_global_features_not_0:\\n{round(num_local_global_features_not_0,2)}\")\n",
    "    print(f\"avg_local_global_features_not_0:\\n{round(avg_local_global_features_not_0,2)}\")\n",
    "\n",
    "    print(f\"cos_sim_global_local:\\n{round(cos_sim_local_global,2)}\")\n",
    "    print(f\"cos_sim_local_local_global:\\n{round(cos_sim_local_local_global,2)}\")\n",
    "    print(f\"cos_sim_global_local_global:\\n{round(cos_sim_global_local_global,2)}\")\n",
    "\n",
    "    \"\"\""
   ],
   "metadata": {
    "collapsed": false
   }
  },
  {
   "cell_type": "code",
   "execution_count": 37,
   "outputs": [],
   "source": [
    "data_map = {\n",
    "    ('total','# Features'): num_total_features,\n",
    "    ('local', '# features != 0'): num_local_features_not_0,\n",
    "    ('local', 'avg features != 0'): avg_local_features_not_0,\n",
    "    ('global', '# features != 0'): num_global_features_not_0,\n",
    "    ('global', '# Features != 0 in both local and global'): num_features_global_local,\n",
    "    ('global', 'avg features != 0'): avg_global_features_not_0,\n",
    "    ('local-global', '# features != 0'): num_local_global_features_not_0,\n",
    "    ('local-global', 'avg features != 0'): avg_local_global_features_not_0,\n",
    "    ('cos_sim', 'local_global',): cos_sim_local_global,\n",
    "    ('cos_sim', 'local__local-global',): cos_sim_local_local_global,\n",
    "    ('cos_sim', 'global__local-global',): cos_sim_global_local_global,\n",
    "}\n",
    "df = pd.DataFrame(data=data_map)\n",
    "df.to_csv(save_path + f'statistics_stage{stage}.csv')"
   ],
   "metadata": {
    "collapsed": false
   }
  },
  {
   "cell_type": "code",
   "execution_count": 37,
   "outputs": [],
   "source": [],
   "metadata": {
    "collapsed": false
   }
  },
  {
   "cell_type": "code",
   "execution_count": 38,
   "outputs": [],
   "source": [
    "X_embedded_local_global = X_embedded[:nun_samples,:]\n",
    "X_embedded_local = X_embedded[nun_samples:nun_samples+nun_samples,:]\n",
    "X_embedded_global = X_embedded[nun_samples+nun_samples:,:]\n"
   ],
   "metadata": {
    "collapsed": false
   }
  },
  {
   "cell_type": "code",
   "execution_count": 39,
   "outputs": [
    {
     "data": {
      "text/plain": "109431.0"
     },
     "execution_count": 39,
     "metadata": {},
     "output_type": "execute_result"
    }
   ],
   "source": [
    "X_embedded.shape[0]/3"
   ],
   "metadata": {
    "collapsed": false
   }
  },
  {
   "cell_type": "code",
   "execution_count": 49,
   "outputs": [
    {
     "data": {
      "text/plain": "3883"
     },
     "execution_count": 49,
     "metadata": {},
     "output_type": "execute_result"
    }
   ],
   "source": [
    "nun_samples"
   ],
   "metadata": {
    "collapsed": false
   }
  },
  {
   "cell_type": "code",
   "execution_count": 40,
   "outputs": [],
   "source": [
    "#X_embedded_global = TSNE(n_components=2, learning_rate='auto', init='random', perplexity=25).fit_transform(X_concat_global, labels_concat)\n",
    "#X_embedded_local = TSNE(n_components=2, learning_rate='auto', init='random', perplexity=25).fit_transform(X_concat_interm, labels_concat)\n",
    "#X_embedded_interm = X_embedded_local"
   ],
   "metadata": {
    "collapsed": false
   }
  },
  {
   "cell_type": "code",
   "execution_count": 41,
   "outputs": [],
   "source": [
    "#X_embedded_interm = X_embedded_local"
   ],
   "metadata": {
    "collapsed": false
   }
  },
  {
   "cell_type": "code",
   "execution_count": 42,
   "outputs": [
    {
     "name": "stdout",
     "output_type": "stream",
     "text": [
      "size client 1: 696\n",
      "size client 2: 2876\n",
      "size client 3: 3840\n",
      "size client 4: 6402\n",
      "size client 5: 1099\n",
      "size client 6: 6165\n",
      "size client 7: 24144\n",
      "size client 8: 25880\n",
      "size client 9: 24190\n",
      "size client 10: 944\n",
      "size client 11: 1086\n",
      "size client 12: 5172\n",
      "size client 13: 6937\n"
     ]
    }
   ],
   "source": [
    "X_embedded_global_clients = {}\n",
    "X_embedded_local_clients = {}\n",
    "X_embedded_local_global_clients = {}\n",
    "labels_clients = {}\n",
    "total_size = 0\n",
    "\n",
    "for client in range(1, 13+1):\n",
    "    print(f\"size client {client}: {local_trains[client].shape[0]}\")\n",
    "    size = local_trains[client].shape[0]\n",
    "    size_old = total_size\n",
    "    total_size += size\n",
    "    X_embedded_global_clients[client] = X_embedded_global[size_old:total_size,:]\n",
    "    X_embedded_local_clients[client] = X_embedded_local[size_old:total_size,:]\n",
    "    X_embedded_local_global_clients[client] = X_embedded_local_global[size_old:total_size,:]\n",
    "    labels_clients[client] = labels_concat[size_old:total_size]"
   ],
   "metadata": {
    "collapsed": false
   }
  },
  {
   "cell_type": "code",
   "execution_count": 43,
   "outputs": [
    {
     "data": {
      "text/plain": "<Figure size 3000x1800 with 0 Axes>"
     },
     "metadata": {},
     "output_type": "display_data"
    }
   ],
   "source": [
    "import matplotlib.pyplot as plt\n",
    "fig = plt.figure(figsize=(30, 18))\n",
    "plt.rcParams[\"figure.figsize\"] = (30,18)\n",
    "plt.rc('xtick', labelsize=32)    # fontsize of the tick labels\n",
    "plt.rc('ytick', labelsize=32)    # fontsize of the tick labels\n",
    "plt.rc('legend', fontsize=32)\n",
    "plt.rc('font', size=32)"
   ],
   "metadata": {
    "collapsed": false
   }
  },
  {
   "cell_type": "code",
   "execution_count": 44,
   "outputs": [
    {
     "data": {
      "text/plain": "'yellow: label=1'"
     },
     "execution_count": 44,
     "metadata": {},
     "output_type": "execute_result"
    }
   ],
   "source": [
    "\"\"\"yellow: label=1\"\"\""
   ],
   "metadata": {
    "collapsed": false
   }
  },
  {
   "cell_type": "code",
   "execution_count": 45,
   "outputs": [],
   "source": [
    "client_num = 13"
   ],
   "metadata": {
    "collapsed": false
   }
  },
  {
   "cell_type": "code",
   "execution_count": 46,
   "outputs": [
    {
     "data": {
      "text/plain": "'/home/michael/Dropbox/Master thesis/results_graph-dc/CSVs/ResNet/on_MLP_level/cosine_diff/Feature Analysis/FeatureAnalysisGraph-DC_2_ResNet_lr_0_1_A0_F0_1_F0_1_H10/val/'"
     },
     "execution_count": 46,
     "metadata": {},
     "output_type": "execute_result"
    }
   ],
   "source": [
    "save_path"
   ],
   "metadata": {
    "collapsed": false
   }
  },
  {
   "cell_type": "code",
   "execution_count": 46,
   "outputs": [],
   "source": [],
   "metadata": {
    "collapsed": false
   }
  },
  {
   "cell_type": "code",
   "execution_count": 47,
   "outputs": [
    {
     "ename": "IndexError",
     "evalue": "boolean index did not match indexed array along dimension 0; dimension is 3840 but corresponding boolean dimension is 311",
     "output_type": "error",
     "traceback": [
      "\u001B[0;31m---------------------------------------------------------------------------\u001B[0m",
      "\u001B[0;31mIndexError\u001B[0m                                Traceback (most recent call last)",
      "Cell \u001B[0;32mIn [47], line 5\u001B[0m\n\u001B[1;32m      3\u001B[0m \u001B[38;5;28;01mfor\u001B[39;00m i \u001B[38;5;129;01min\u001B[39;00m \u001B[38;5;28mrange\u001B[39m(\u001B[38;5;241m1\u001B[39m\u001B[38;5;241m+\u001B[39m\u001B[38;5;241m1\u001B[39m):\n\u001B[1;32m      4\u001B[0m     labels_use \u001B[38;5;241m=\u001B[39m labels_clients[client] \u001B[38;5;241m==\u001B[39m i\n\u001B[0;32m----> 5\u001B[0m     X_use \u001B[38;5;241m=\u001B[39m \u001B[43mX_embedded_global_clients\u001B[49m\u001B[43m[\u001B[49m\u001B[43mclient\u001B[49m\u001B[43m]\u001B[49m\u001B[43m[\u001B[49m\u001B[43mlabels_use\u001B[49m\u001B[43m,\u001B[49m\u001B[43m \u001B[49m\u001B[43m:\u001B[49m\u001B[43m]\u001B[49m\n\u001B[1;32m      6\u001B[0m     plt\u001B[38;5;241m.\u001B[39mscatter(X_use[:, \u001B[38;5;241m0\u001B[39m], X_use[:, \u001B[38;5;241m1\u001B[39m], c\u001B[38;5;241m=\u001B[39m[colors[i]]\u001B[38;5;241m*\u001B[39mX_use\u001B[38;5;241m.\u001B[39mshape[\u001B[38;5;241m0\u001B[39m], label\u001B[38;5;241m=\u001B[39m\u001B[38;5;124mf\u001B[39m\u001B[38;5;124m'\u001B[39m\u001B[38;5;124mLabel = \u001B[39m\u001B[38;5;132;01m{\u001B[39;00mi\u001B[38;5;132;01m}\u001B[39;00m\u001B[38;5;124m'\u001B[39m, s\u001B[38;5;241m=\u001B[39m\u001B[38;5;241m60\u001B[39m, )\n\u001B[1;32m      7\u001B[0m plt\u001B[38;5;241m.\u001B[39mxlim(\u001B[38;5;241m-\u001B[39m\u001B[38;5;241m120\u001B[39m, \u001B[38;5;241m120\u001B[39m)\n",
      "\u001B[0;31mIndexError\u001B[0m: boolean index did not match indexed array along dimension 0; dimension is 3840 but corresponding boolean dimension is 311"
     ]
    },
    {
     "data": {
      "text/plain": "<Figure size 3000x1800 with 0 Axes>"
     },
     "metadata": {},
     "output_type": "display_data"
    }
   ],
   "source": [
    "colors=['red', 'blue']\n",
    "for client in range(1, client_num+1):\n",
    "    for i in range(1+1):\n",
    "        labels_use = labels_clients[client] == i\n",
    "        X_use = X_embedded_global_clients[client][labels_use, :]\n",
    "        plt.scatter(X_use[:, 0], X_use[:, 1], c=[colors[i]]*X_use.shape[0], label=f'Label = {i}', s=60, )\n",
    "    plt.xlim(-120, 120)\n",
    "    plt.ylim(-120, 120)\n",
    "    plt.legend(prop={'size': 26}, markerscale=2)\n",
    "    plt.savefig(save_path + 'client_' + str(client) + '_global')\n",
    "    plt.clf()\n",
    "\n",
    "    for i in range(1+1):\n",
    "        labels_use = labels_clients[client] == i\n",
    "        X_use = X_embedded_local_clients[client][labels_use, :]\n",
    "        plt.scatter(X_use[:, 0], X_use[:, 1], c=[colors[i]]*X_use.shape[0], label=f'Label = {i}', s=60, )\n",
    "    plt.xlim(-120, 120)\n",
    "    plt.ylim(-120, 120)\n",
    "    plt.legend(prop={'size': 26}, markerscale=2)\n",
    "    plt.savefig(save_path + 'client_' + str(client) + '_local')\n",
    "    plt.clf()\n",
    "\n",
    "    for i in range(1+1):\n",
    "        labels_use = labels_clients[client] == i\n",
    "        X_use = X_embedded_local_global_clients[client][labels_use, :]\n",
    "        plt.scatter(X_use[:, 0], X_use[:, 1], c=[colors[i]]*X_use.shape[0], label=f'Label = {i}', s=60)\n",
    "    plt.xlim(-120, 120)\n",
    "    plt.ylim(-120, 120)\n",
    "    plt.legend(prop={'size': 26}, markerscale=2)\n",
    "    plt.savefig(save_path + 'client_' + str(client) + '_local_global')\n",
    "    plt.clf()\n",
    "\n",
    "\n"
   ],
   "metadata": {
    "collapsed": false
   }
  },
  {
   "cell_type": "code",
   "execution_count": null,
   "outputs": [],
   "source": [
    "plt.scatter(X_embedded_global_clients[client_num][:, 0], X_embedded_global_clients[client_num][:, 1], c=labels_clients[client_num], s=40 )\n",
    "plt.xlim(-120, 120)\n",
    "plt.ylim(-120, 120)"
   ],
   "metadata": {
    "collapsed": false
   }
  },
  {
   "cell_type": "code",
   "execution_count": null,
   "outputs": [],
   "source": [],
   "metadata": {
    "collapsed": false
   }
  },
  {
   "cell_type": "code",
   "execution_count": null,
   "outputs": [],
   "source": [
    "\"\"\"\n",
    "plt.scatter(X_embedded_global_clients[client_num][:, 0], X_embedded_global_clients[client_num][:, 1], c=labels_clients[client_num], )\n",
    "plt.xlim(-110, 110)\n",
    "plt.ylim(-100, 90)\n",
    "plt.show()\n",
    "\"\"\""
   ],
   "metadata": {
    "collapsed": false
   }
  },
  {
   "cell_type": "code",
   "execution_count": null,
   "outputs": [],
   "source": [
    "\"\"\"\n",
    "plt.scatter(X_embedded_local_clients[client_num][:, 0], X_embedded_local_clients[client_num][:, 1], c=labels_clients[client_num], )\n",
    "plt.xlim(-110, 110)\n",
    "plt.ylim(-100, 90)\n",
    "plt.show()\n",
    "\"\"\""
   ],
   "metadata": {
    "collapsed": false
   }
  },
  {
   "cell_type": "code",
   "execution_count": null,
   "outputs": [],
   "source": [
    "\"\"\"\n",
    "plt.scatter(X_embedded_local_global_clients[client_num][:, 0], X_embedded_local_global_clients[client_num][:, 1], c=labels_clients[client_num], )\n",
    "plt.xlim(-110, 110)\n",
    "plt.ylim(-100, 90)\n",
    "plt.show()\n",
    "\"\"\""
   ],
   "metadata": {
    "collapsed": false
   }
  },
  {
   "cell_type": "code",
   "execution_count": null,
   "outputs": [],
   "source": [
    "#import matplotlib.pyplot as plt\n",
    "#fig = plt.figure(figsize=(30, 18))\n",
    "#plt.rcParams[\"figure.figsize\"] = (30,18)"
   ],
   "metadata": {
    "collapsed": false
   }
  },
  {
   "cell_type": "code",
   "execution_count": null,
   "outputs": [],
   "source": [
    "colors=['red', 'blue']\n",
    "for i in range(1+1):\n",
    "    labels_use = labels_concat == i\n",
    "    X_use = X_embedded_global[labels_use, :]\n",
    "    plt.scatter(X_use[:, 0], X_use[:, 1], c=[colors[i]]*X_use.shape[0], label=f'Label = {i}', s=60)\n",
    "plt.legend(prop={'size': 26}, markerscale=2)\n",
    "plt.xlim(-120, 120)\n",
    "plt.ylim(-120, 120)\n",
    "plt.savefig(save_path + 'all_clients' + '_global')\n",
    "plt.show()\n",
    "plt.clf()"
   ],
   "metadata": {
    "collapsed": false
   }
  },
  {
   "cell_type": "code",
   "execution_count": null,
   "outputs": [],
   "source": [
    "\n",
    "colors=['red', 'blue']\n",
    "for i in range(1+1):\n",
    "    labels_use = labels_concat == i\n",
    "    X_use = X_embedded_local[labels_use, :]\n",
    "    plt.scatter(X_use[:, 0], X_use[:, 1], c=[colors[i]]*X_use.shape[0], label=f'Label = {i}', s=60)\n",
    "plt.legend(prop={'size': 26}, markerscale=2)\n",
    "plt.xlim(-120, 120)\n",
    "plt.ylim(-120, 120)\n",
    "plt.savefig(save_path + 'all_clients' + '_local')\n",
    "plt.show()\n",
    "plt.clf()"
   ],
   "metadata": {
    "collapsed": false
   }
  },
  {
   "cell_type": "code",
   "execution_count": null,
   "outputs": [],
   "source": [
    "colors=['red', 'blue']\n",
    "for i in range(1+1):\n",
    "    labels_use = labels_concat == i\n",
    "    X_use = X_embedded_local_global[labels_use, :]\n",
    "    plt.scatter(X_use[:, 0], X_use[:, 1], c=[colors[i]]*X_use.shape[0], label=f'Label = {i}', s=60)\n",
    "plt.legend(prop={'size': 26}, markerscale=2)\n",
    "plt.xlim(-120, 120)\n",
    "plt.ylim(-120, 120)\n",
    "plt.savefig(save_path + 'all_clients' + '_local_global')\n",
    "plt.show()\n",
    "plt.clf()"
   ],
   "metadata": {
    "collapsed": false
   }
  },
  {
   "cell_type": "code",
   "execution_count": null,
   "outputs": [],
   "source": [
    "\n",
    "colors = []\n",
    "NUM_COLORS = 13\n",
    "cm = plt.get_cmap('tab20')\n",
    "colors_use = list(map(cm, colors))\n",
    "fig = plt.figure()\n",
    "for client in range(1, client_num+1):\n",
    "    data_size = X_embedded_global_clients[client].shape[0]\n",
    "    colors_curr = data_size*[client]\n",
    "    colors += colors_curr\n",
    "\n",
    "ax = fig.add_subplot(111)\n",
    "ax.set_prop_cycle(color=[cm(1.*i/NUM_COLORS) for i in range(NUM_COLORS)])\n",
    "\n",
    "for client in range(1, client_num+1):\n",
    "    labels_0 = labels_clients[client] == 0\n",
    "    X_embedded_global_clients_only_label_0 = X_embedded_global_clients[client][labels_0, :]\n",
    "    ax.scatter(X_embedded_global_clients_only_label_0[:,0], X_embedded_global_clients_only_label_0[:,1], label = f'Client {client}', s=60)\n",
    "\n",
    "\n",
    "\n",
    "#ax.legend_elements()\n",
    "ax.legend(prop={'size': 26}, markerscale=2)\n",
    "\n",
    "plt.xlim(-120, 120)\n",
    "plt.ylim(-120, 120)\n",
    "plt.savefig(save_path + 'global_comparison_label_0')"
   ],
   "metadata": {
    "collapsed": false
   }
  },
  {
   "cell_type": "code",
   "execution_count": null,
   "outputs": [],
   "source": [
    "\n",
    "colors = []\n",
    "NUM_COLORS = 13\n",
    "cm = plt.get_cmap('tab20')\n",
    "colors_use = list(map(cm, colors))\n",
    "fig = plt.figure()\n",
    "for client in range(1, client_num+1):\n",
    "    data_size = X_embedded_global_clients[client].shape[0]\n",
    "    colors_curr = data_size*[client]\n",
    "    colors += colors_curr\n",
    "\n",
    "ax = fig.add_subplot(111)\n",
    "ax.set_prop_cycle(color=[cm(1.*i/NUM_COLORS) for i in range(NUM_COLORS)])\n",
    "\n",
    "for client in range(1, client_num+1):\n",
    "    labels_1 = labels_clients[client] == 1\n",
    "    X_embedded_global_clients_only_label_1 = X_embedded_global_clients[client][labels_1, :]\n",
    "    ax.scatter(X_embedded_global_clients_only_label_1[:,0], X_embedded_global_clients_only_label_1[:,1], label = f'Client {client}', s=60)\n",
    "\n",
    "\n",
    "\n",
    "#ax.legend_elements()\n",
    "ax.legend(prop={'size': 26}, markerscale=2)\n",
    "\n",
    "plt.xlim(-120, 120)\n",
    "plt.ylim(-120, 120)\n",
    "plt.savefig(save_path + 'global_comparison_label_1')"
   ],
   "metadata": {
    "collapsed": false
   }
  },
  {
   "cell_type": "code",
   "execution_count": null,
   "outputs": [],
   "source": [
    "\n",
    "colors = []\n",
    "NUM_COLORS = 13\n",
    "cm = plt.get_cmap('tab20')\n",
    "colors_use = list(map(cm, colors))\n",
    "fig = plt.figure()\n",
    "for client in range(1, client_num+1):\n",
    "    data_size = X_embedded_local_clients[client].shape[0]\n",
    "    colors_curr = data_size*[client]\n",
    "    colors += colors_curr\n",
    "\n",
    "ax = fig.add_subplot(111)\n",
    "ax.set_prop_cycle(color=[cm(1.*i/NUM_COLORS) for i in range(NUM_COLORS)])\n",
    "\n",
    "for client in range(1, client_num+1):\n",
    "    labels_0 = labels_clients[client] == 0\n",
    "    X_embedded_local_clients_only_label_0 = X_embedded_local_clients[client][labels_0, :]\n",
    "    ax.scatter(X_embedded_local_clients_only_label_0[:,0], X_embedded_local_clients_only_label_0[:,1], label = f'Client {client}', s=60)\n",
    "\n",
    "\n",
    "\n",
    "#ax.legend_elements()\n",
    "ax.legend(prop={'size': 26}, markerscale=2)\n",
    "\n",
    "plt.xlim(-120, 120)\n",
    "plt.ylim(-120, 120)\n",
    "plt.savefig(save_path + 'local_comparison_label_0')"
   ],
   "metadata": {
    "collapsed": false
   }
  },
  {
   "cell_type": "code",
   "execution_count": null,
   "outputs": [],
   "source": [
    "\n",
    "colors = []\n",
    "NUM_COLORS = 13\n",
    "cm = plt.get_cmap('tab20')\n",
    "colors_use = list(map(cm, colors))\n",
    "fig = plt.figure()\n",
    "for client in range(1, client_num+1):\n",
    "    data_size = X_embedded_local_clients[client].shape[0]\n",
    "    colors_curr = data_size*[client]\n",
    "    colors += colors_curr\n",
    "\n",
    "ax = fig.add_subplot(111)\n",
    "ax.set_prop_cycle(color=[cm(1.*i/NUM_COLORS) for i in range(NUM_COLORS)])\n",
    "\n",
    "for client in range(1, client_num+1):\n",
    "    labels_0 = labels_clients[client] == 1\n",
    "    X_embedded_local_clients_only_label_0 = X_embedded_local_clients[client][labels_0, :]\n",
    "    ax.scatter(X_embedded_local_clients_only_label_0[:,0], X_embedded_local_clients_only_label_0[:,1], label = f'Client {client}', s=60)\n",
    "\n",
    "\n",
    "\n",
    "#ax.legend_elements()\n",
    "ax.legend(prop={'size': 26}, markerscale=2)\n",
    "plt.xlim(-120, 120)\n",
    "plt.ylim(-120, 120)\n",
    "plt.savefig(save_path + 'local_comparison_label_1')"
   ],
   "metadata": {
    "collapsed": false
   }
  },
  {
   "cell_type": "code",
   "execution_count": null,
   "outputs": [],
   "source": [
    "\n",
    "colors = []\n",
    "NUM_COLORS = 13\n",
    "cm = plt.get_cmap('tab20')\n",
    "colors_use = list(map(cm, colors))\n",
    "fig = plt.figure()\n",
    "for client in range(1, client_num+1):\n",
    "    data_size = X_embedded_local_global_clients[client].shape[0]\n",
    "    colors_curr = data_size*[client]\n",
    "    colors += colors_curr\n",
    "\n",
    "ax = fig.add_subplot(111)\n",
    "ax.set_prop_cycle(color=[cm(1.*i/NUM_COLORS) for i in range(NUM_COLORS)])\n",
    "\n",
    "for client in range(1, client_num+1):\n",
    "    labels_0 = labels_clients[client] == 0\n",
    "    X_embedded_local_global_clients_only_label_0 = X_embedded_local_global_clients[client][labels_0, :]\n",
    "    ax.scatter(X_embedded_local_global_clients_only_label_0[:,0], X_embedded_local_global_clients_only_label_0[:,1], label = f'Client {client}', s=60)\n",
    "\n",
    "\n",
    "\n",
    "#ax.legend_elements()\n",
    "ax.legend(prop={'size': 26}, markerscale=2)\n",
    "\n",
    "plt.xlim(-120, 120)\n",
    "plt.ylim(-120, 120)\n",
    "plt.savefig(save_path + 'local_global_comparison_label_0')"
   ],
   "metadata": {
    "collapsed": false
   }
  },
  {
   "cell_type": "code",
   "execution_count": null,
   "outputs": [],
   "source": [
    "\n",
    "colors = []\n",
    "NUM_COLORS = 13\n",
    "cm = plt.get_cmap('tab20')\n",
    "colors_use = list(map(cm, colors))\n",
    "fig = plt.figure()\n",
    "for client in range(1, client_num+1):\n",
    "    data_size = X_embedded_local_global_clients[client].shape[0]\n",
    "    colors_curr = data_size*[client]\n",
    "    colors += colors_curr\n",
    "\n",
    "ax = fig.add_subplot(111)\n",
    "ax.set_prop_cycle(color=[cm(1.*i/NUM_COLORS) for i in range(NUM_COLORS)])\n",
    "\n",
    "for client in range(1, client_num+1):\n",
    "    labels_0 = labels_clients[client] == 1\n",
    "    X_embedded_local_global_clients_only_label_0 = X_embedded_local_global_clients[client][labels_0, :]\n",
    "    ax.scatter(X_embedded_local_global_clients_only_label_0[:,0], X_embedded_local_global_clients_only_label_0[:,1], label = f'Client {client}', s=60)\n",
    "\n",
    "\n",
    "\n",
    "#ax.legend_elements()\n",
    "ax.legend(prop={'size': 26}, markerscale=2)\n",
    "\n",
    "plt.xlim(-120, 120)\n",
    "plt.ylim(-120, 120)\n",
    "plt.savefig(save_path + 'local_global_comparison_label_1')"
   ],
   "metadata": {
    "collapsed": false
   }
  },
  {
   "cell_type": "code",
   "execution_count": null,
   "outputs": [],
   "source": [],
   "metadata": {
    "collapsed": false
   }
  },
  {
   "cell_type": "code",
   "execution_count": null,
   "outputs": [],
   "source": [],
   "metadata": {
    "collapsed": false
   }
  }
 ],
 "metadata": {
  "kernelspec": {
   "display_name": "Python 3",
   "language": "python",
   "name": "python3"
  },
  "language_info": {
   "codemirror_mode": {
    "name": "ipython",
    "version": 2
   },
   "file_extension": ".py",
   "mimetype": "text/x-python",
   "name": "python",
   "nbconvert_exporter": "python",
   "pygments_lexer": "ipython2",
   "version": "2.7.6"
  }
 },
 "nbformat": 4,
 "nbformat_minor": 0
}
