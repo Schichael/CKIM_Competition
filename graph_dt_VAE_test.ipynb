{
 "cells": [
  {
   "cell_type": "code",
   "execution_count": 1,
   "outputs": [
    {
     "name": "stdout",
     "output_type": "stream",
     "text": [
      "1127\n"
     ]
    }
   ],
   "source": [
    "import torch\n",
    "# The train split of client 1\n",
    "cl_num = 0\n",
    "train_data_client = torch.load(f'./data/graph_dt/processed/{cl_num}/train.pt')\n",
    "val_data_client = torch.load(f'./data/graph_dt/processed/{cl_num}/val.pt')\n",
    "test_data_client = torch.load(f'./data/graph_dt/processed/{cl_num}/test.pt')\n",
    "print(len(train_data_client) + len(val_data_client) + len(test_data_client))\n"
   ],
   "metadata": {
    "collapsed": false
   }
  },
  {
   "cell_type": "markdown",
   "source": [
    "1: ESOL(12)\n",
    "2: FreeSolv(11)\n",
    "3: Lipophilicity (13)\n",
    "4: BACE (7)\n",
    "5: BBBP (8)\n",
    "6: ClinTox (6)\n",
    "7: MUTAG (1)\n",
    "8: PTC_MR (3)\n",
    "9: PTC_MM (2)\n",
    "10:  PTC_FM (4)\n",
    "11: PTC_FR (5) Zu viele Datem: 1440\n",
    "12: NCI109 (10)\n",
    "13: NCI1 (9)\n",
    "14: alchemy_full (15)\n",
    "15: ZINC_full (16)\n",
    "16: QM9 (14) (zu viele Daten? 130831)"
   ],
   "metadata": {
    "collapsed": false
   }
  },
  {
   "cell_type": "code",
   "execution_count": 1,
   "outputs": [],
   "source": [
    "\n",
    "from federatedscope.register import register_trainer\n",
    "from federatedscope.contrib.trainer.FedAvg_VAE_trainer import call_fedavg_VAE_trainer\n",
    "\n",
    "register_trainer('FedAvg_VAE_trainer', call_fedavg_VAE_trainer)"
   ],
   "metadata": {
    "collapsed": false
   }
  },
  {
   "cell_type": "code",
   "execution_count": 2,
   "metadata": {
    "collapsed": true
   },
   "outputs": [
    {
     "name": "stderr",
     "output_type": "stream",
     "text": [
      "/home/michael/Master-Thesis/CKIM_Competition/venv/lib/python3.9/site-packages/torch_geometric/graphgym/imports.py:14: UserWarning: Please install 'pytorch_lightning' for using the GraphGym experiment manager via 'pip install pytorch_lightning'\n",
      "  warnings.warn(\"Please install 'pytorch_lightning' for using the GraphGym \"\n",
      "/home/michael/Master-Thesis/CKIM_Competition/venv/lib/python3.9/site-packages/torch_geometric/graphgym/logger.py:23: UserWarning: Please install 'pytorch_lightning' for using the GraphGym experiment manager via 'pip install pytorch_lightning'\n",
      "  warnings.warn(\"Please install 'pytorch_lightning' for using the GraphGym \"\n",
      "2023-01-02 20:06:41,086 (trainer_builder:11)WARNING: No module named 'federatedscope.contrib.optimizer' in `federatedscope.contrib.trainer`, some modules are not available.\n"
     ]
    }
   ],
   "source": [
    "import os\n",
    "import sys\n",
    "\n",
    "# from federatedscope.core.cmd_args import parse_args\n",
    "from federatedscope.core.auxiliaries.data_builder import get_data\n",
    "from federatedscope.core.auxiliaries.utils import setup_seed, update_logger\n",
    "from federatedscope.core.auxiliaries.worker_builder import get_client_cls, get_server_cls\n",
    "from federatedscope.core.configs.config import global_cfg\n",
    "from federatedscope.core.fed_runner import FedRunner\n",
    "from yacs.config import CfgNode\n",
    "from rdkit.Chem.Draw import IPythonConsole\n",
    "from IPython.display import clear_output\n",
    "\n",
    "\n",
    "if os.environ.get('https_proxy'):\n",
    "    del os.environ['https_proxy']\n",
    "if os.environ.get('http_proxy'):\n",
    "    del os.environ['http_proxy']"
   ]
  },
  {
   "cell_type": "code",
   "execution_count": 3,
   "outputs": [],
   "source": [
    "def train(client, lr):\n",
    "    cfg_file = 'scripts/B-FHTL_exp_scripts/Graph-DT/fedavg_VAE.yaml'\n",
    "    cfg_client = 'scripts/B-FHTL_exp_scripts/Graph-DT/cfg_per_client_isolated.yaml'\n",
    "    #'scripts/B-FHTL_exp_scripts/Graph-DT/cfg_per_client.yaml'\n",
    "\n",
    "    init_cfg = global_cfg.clone()\n",
    "    init_cfg.merge_from_file(cfg_file)\n",
    "\n",
    "    # init_cfg.data.subdirectory = 'graph_dt_backup/processed'\n",
    "    # init_cfg.merge_from_list(args.opts)\n",
    "    init_cfg.data.client = client\n",
    "    init_cfg.train.optimizer.lr = lr\n",
    "    init_cfg.data.save_dir = 'test'\n",
    "    update_logger(init_cfg)\n",
    "    setup_seed(init_cfg.seed)\n",
    "\n",
    "    # federated dataset might change the number of clients\n",
    "    # thus, we allow the creation procedure of dataset to modify the global cfg object\n",
    "    data, modified_cfg = get_data(config=init_cfg.clone())\n",
    "    init_cfg.merge_from_other_cfg(modified_cfg)\n",
    "\n",
    "    init_cfg.freeze()\n",
    "\n",
    "    # allow different settings for different clients\n",
    "    # cfg_client.merge_from_file(args.cfg_client)\n",
    "    if cfg_client is None:\n",
    "        cfg_client = None\n",
    "    else:\n",
    "        cfg_client = CfgNode.load_cfg(open(cfg_client, 'r')).clone()\n",
    "    runner = FedRunner(data=data,\n",
    "                   server_class=get_server_cls(init_cfg),\n",
    "                   client_class=get_client_cls(init_cfg),\n",
    "                   config=init_cfg.clone(),\n",
    "                   client_config=cfg_client)\n",
    "    _ = runner.run()"
   ],
   "metadata": {
    "collapsed": false
   }
  },
  {
   "cell_type": "code",
   "execution_count": 4,
   "outputs": [
    {
     "name": "stderr",
     "output_type": "stream",
     "text": [
      "2023-01-02 19:40:04,212 (cfg_fl_setting:104)WARNING: In local/global training mode, the sampling related configs are in-valid, we will use all clients. \n",
      "2023-01-02 19:40:04,213 (utils:129)INFO: the current machine is at 127.0.1.1\n",
      "2023-01-02 19:40:04,215 (utils:131)INFO: the current dir is /home/michael/Master-Thesis/CKIM_Competition\n",
      "2023-01-02 19:40:04,215 (utils:132)INFO: the output dir is exp/test/local_gin_on_graph-dt_lr0.01_lstep1_/sub_exp_20230102194004\n"
     ]
    },
    {
     "name": "stdout",
     "output_type": "stream",
     "text": [
      "Client: 1,\tlr: 0.01\n",
      "training run: 1\n"
     ]
    },
    {
     "name": "stderr",
     "output_type": "stream",
     "text": [
      "2023-01-02 19:40:04,854 (cfg_fl_setting:104)WARNING: In local/global training mode, the sampling related configs are in-valid, we will use all clients. \n",
      "2023-01-02 19:40:04,855 (cfg_fl_setting:104)WARNING: In local/global training mode, the sampling related configs are in-valid, we will use all clients. \n",
      "2023-01-02 19:40:04,864 (config:261)INFO: the used configs are: \n",
      "asyn:\n",
      "  min_received_num: 1\n",
      "  min_received_rate: -1.0\n",
      "  timeout: 0\n",
      "  use: True\n",
      "attack:\n",
      "  alpha_TV: 0.001\n",
      "  alpha_prop_loss: 0\n",
      "  attack_method: \n",
      "  attacker_id: -1\n",
      "  classifier_PIA: randomforest\n",
      "  info_diff_type: l2\n",
      "  inject_round: 0\n",
      "  max_ite: 400\n",
      "  reconstruct_lr: 0.01\n",
      "  reconstruct_optim: Adam\n",
      "  target_label_ind: -1\n",
      "backend: torch\n",
      "cfg_file: \n",
      "criterion:\n",
      "  type: CrossEntropyLoss\n",
      "data:\n",
      "  args: []\n",
      "  batch_size: 64\n",
      "  cSBM_phi: [0.5, 0.5, 0.5]\n",
      "  client: 1\n",
      "  consistent_label_distribution: False\n",
      "  drop_last: False\n",
      "  graphsaint:\n",
      "    num_steps: 30\n",
      "    walk_length: 2\n",
      "  loader: \n",
      "  num_workers: 0\n",
      "  pre_transform: []\n",
      "  quadratic:\n",
      "    dim: 1\n",
      "    max_curv: 12.5\n",
      "    min_curv: 0.02\n",
      "  root: data/\n",
      "  save_dir: test\n",
      "  server_holds_all: False\n",
      "  shuffle: True\n",
      "  sizes: [10, 5]\n",
      "  splits: [0.8, 0.1, 0.1]\n",
      "  splitter: ooxx\n",
      "  splitter_args: []\n",
      "  subsample: 1.0\n",
      "  target_transform: []\n",
      "  transform: []\n",
      "  type: graph-dt\n",
      "device: 0\n",
      "distribute:\n",
      "  use: False\n",
      "early_stop:\n",
      "  delta: 0.0\n",
      "  improve_indicator_mode: best\n",
      "  patience: 200\n",
      "  the_smaller_the_better: True\n",
      "eval:\n",
      "  base: 0.0\n",
      "  best_res_update_round_wise_key: val_loss\n",
      "  count_flops: False\n",
      "  freq: 1\n",
      "  metrics: []\n",
      "  monitoring: []\n",
      "  report: ['avg']\n",
      "  save_data: False\n",
      "  split: ['test', 'val']\n",
      "expname: local_gin_on_graph-dt_lr0.01_lstep1_\n",
      "expname_tag: \n",
      "federate:\n",
      "  client_num: 1\n",
      "  data_weighted_aggr: False\n",
      "  ignore_weight: False\n",
      "  join_in_info: []\n",
      "  make_global_eval: False\n",
      "  method: local\n",
      "  mode: standalone\n",
      "  online_aggr: False\n",
      "  restore_from: \n",
      "  sample_client_num: 1\n",
      "  sample_client_rate: -1.0\n",
      "  sampler: uniform\n",
      "  save_to: \n",
      "  share_local_model: False\n",
      "  total_round_num: 10000\n",
      "  unseen_clients_rate: 0.0\n",
      "  use_diff: False\n",
      "  use_ss: False\n",
      "fedopt:\n",
      "  use: False\n",
      "fedprox:\n",
      "  use: False\n",
      "fedsageplus:\n",
      "  a: 1.0\n",
      "  b: 1.0\n",
      "  c: 1.0\n",
      "  fedgen_epoch: 200\n",
      "  gen_hidden: 128\n",
      "  hide_portion: 0.5\n",
      "  loc_epoch: 1\n",
      "  num_pred: 5\n",
      "finetune:\n",
      "  batch_or_epoch: epoch\n",
      "  before_eval: False\n",
      "  freeze_param: \n",
      "  local_update_steps: 1\n",
      "  optimizer:\n",
      "    lr: 0.1\n",
      "    type: SGD\n",
      "flitplus:\n",
      "  factor_ema: 0.8\n",
      "  lambdavat: 0.5\n",
      "  tmpFed: 0.5\n",
      "  weightReg: 1.0\n",
      "gcflplus:\n",
      "  EPS_1: 0.05\n",
      "  EPS_2: 0.1\n",
      "  seq_length: 5\n",
      "  standardize: False\n",
      "grad:\n",
      "  grad_clip: 5.0\n",
      "hpo:\n",
      "  fedex:\n",
      "    cutoff: 0.0\n",
      "    diff: False\n",
      "    eta0: -1.0\n",
      "    flatten_ss: True\n",
      "    gamma: 0.0\n",
      "    num_arms: 16\n",
      "    sched: auto\n",
      "    ss: \n",
      "    use: False\n",
      "  init_cand_num: 16\n",
      "  larger_better: False\n",
      "  log_scale: False\n",
      "  metric: client_summarized_weighted_avg.val_loss\n",
      "  num_workers: 0\n",
      "  pbt:\n",
      "    max_stage: 5\n",
      "    perf_threshold: 0.1\n",
      "  plot_interval: 1\n",
      "  scheduler: rs\n",
      "  sha:\n",
      "    budgets: []\n",
      "    elim_rate: 3\n",
      "    elim_round_num: 3\n",
      "  ss: \n",
      "  table:\n",
      "    eps: 0.1\n",
      "    idx: 0\n",
      "    num: 27\n",
      "    ss: \n",
      "  working_folder: hpo\n",
      "maml:\n",
      "  use: False\n",
      "model:\n",
      "  dropout: 0.5\n",
      "  embed_size: 8\n",
      "  graph_pooling: mean\n",
      "  hidden: 64\n",
      "  in_channels: 0\n",
      "  layer: 2\n",
      "  model_num_per_trainer: 1\n",
      "  num_item: 0\n",
      "  num_user: 0\n",
      "  out_channels: 0\n",
      "  task: graph\n",
      "  type: gin\n",
      "  use_bias: True\n",
      "nbafl:\n",
      "  use: False\n",
      "outdir: exp/test/local_gin_on_graph-dt_lr0.01_lstep1_/sub_exp_20230102194004\n",
      "personalization:\n",
      "  K: 5\n",
      "  beta: 1.0\n",
      "  local_param: ['encoder_atom', 'encoder', 'clf']\n",
      "  local_update_steps: 1\n",
      "  lr: 0.1\n",
      "  regular_weight: 0.1\n",
      "  share_non_trainable_para: False\n",
      "print_decimal_digits: 6\n",
      "regularizer:\n",
      "  mu: 0.0\n",
      "  type: \n",
      "seed: 0\n",
      "sgdmf:\n",
      "  use: False\n",
      "train:\n",
      "  batch_or_epoch: epoch\n",
      "  local_update_steps: 1\n",
      "  optimizer:\n",
      "    lr: 0.01\n",
      "    type: SGD\n",
      "    weight_decay: 0.0005\n",
      "trainer:\n",
      "  type: graphminibatch_trainer\n",
      "use_gpu: True\n",
      "verbose: 1\n",
      "vertical:\n",
      "  use: False\n",
      "wandb:\n",
      "  use: False\n"
     ]
    },
    {
     "ename": "TypeError",
     "evalue": "Unsupported data type.",
     "output_type": "error",
     "traceback": [
      "\u001B[0;31m---------------------------------------------------------------------------\u001B[0m",
      "\u001B[0;31mTypeError\u001B[0m                                 Traceback (most recent call last)",
      "Cell \u001B[0;32mIn [4], line 10\u001B[0m\n\u001B[1;32m      8\u001B[0m \u001B[38;5;28;01mfor\u001B[39;00m i \u001B[38;5;129;01min\u001B[39;00m \u001B[38;5;28mrange\u001B[39m(num_trainings):\n\u001B[1;32m      9\u001B[0m     \u001B[38;5;28mprint\u001B[39m(\u001B[38;5;124mf\u001B[39m\u001B[38;5;124m\"\u001B[39m\u001B[38;5;124mtraining run: \u001B[39m\u001B[38;5;132;01m{\u001B[39;00mi\u001B[38;5;241m+\u001B[39m\u001B[38;5;241m1\u001B[39m\u001B[38;5;132;01m}\u001B[39;00m\u001B[38;5;124m\"\u001B[39m)\n\u001B[0;32m---> 10\u001B[0m     \u001B[43mtrain\u001B[49m\u001B[43m(\u001B[49m\u001B[43mclient\u001B[49m\u001B[43m,\u001B[49m\u001B[43m \u001B[49m\u001B[43mlr\u001B[49m\u001B[43m)\u001B[49m\n",
      "Cell \u001B[0;32mIn [3], line 30\u001B[0m, in \u001B[0;36mtrain\u001B[0;34m(client, lr)\u001B[0m\n\u001B[1;32m     28\u001B[0m \u001B[38;5;28;01melse\u001B[39;00m:\n\u001B[1;32m     29\u001B[0m     cfg_client \u001B[38;5;241m=\u001B[39m CfgNode\u001B[38;5;241m.\u001B[39mload_cfg(\u001B[38;5;28mopen\u001B[39m(cfg_client, \u001B[38;5;124m'\u001B[39m\u001B[38;5;124mr\u001B[39m\u001B[38;5;124m'\u001B[39m))\u001B[38;5;241m.\u001B[39mclone()\n\u001B[0;32m---> 30\u001B[0m runner \u001B[38;5;241m=\u001B[39m \u001B[43mFedRunner\u001B[49m\u001B[43m(\u001B[49m\u001B[43mdata\u001B[49m\u001B[38;5;241;43m=\u001B[39;49m\u001B[43mdata\u001B[49m\u001B[43m,\u001B[49m\n\u001B[1;32m     31\u001B[0m \u001B[43m               \u001B[49m\u001B[43mserver_class\u001B[49m\u001B[38;5;241;43m=\u001B[39;49m\u001B[43mget_server_cls\u001B[49m\u001B[43m(\u001B[49m\u001B[43minit_cfg\u001B[49m\u001B[43m)\u001B[49m\u001B[43m,\u001B[49m\n\u001B[1;32m     32\u001B[0m \u001B[43m               \u001B[49m\u001B[43mclient_class\u001B[49m\u001B[38;5;241;43m=\u001B[39;49m\u001B[43mget_client_cls\u001B[49m\u001B[43m(\u001B[49m\u001B[43minit_cfg\u001B[49m\u001B[43m)\u001B[49m\u001B[43m,\u001B[49m\n\u001B[1;32m     33\u001B[0m \u001B[43m               \u001B[49m\u001B[43mconfig\u001B[49m\u001B[38;5;241;43m=\u001B[39;49m\u001B[43minit_cfg\u001B[49m\u001B[38;5;241;43m.\u001B[39;49m\u001B[43mclone\u001B[49m\u001B[43m(\u001B[49m\u001B[43m)\u001B[49m\u001B[43m,\u001B[49m\n\u001B[1;32m     34\u001B[0m \u001B[43m               \u001B[49m\u001B[43mclient_config\u001B[49m\u001B[38;5;241;43m=\u001B[39;49m\u001B[43mcfg_client\u001B[49m\u001B[43m)\u001B[49m\n\u001B[1;32m     35\u001B[0m _ \u001B[38;5;241m=\u001B[39m runner\u001B[38;5;241m.\u001B[39mrun()\n",
      "File \u001B[0;32m~/Master-Thesis/CKIM_Competition/federatedscope/core/fed_runner.py:58\u001B[0m, in \u001B[0;36mFedRunner.__init__\u001B[0;34m(self, data, server_class, client_class, config, client_config)\u001B[0m\n\u001B[1;32m     56\u001B[0m \u001B[38;5;28;01mif\u001B[39;00m \u001B[38;5;28mself\u001B[39m\u001B[38;5;241m.\u001B[39mmode \u001B[38;5;241m==\u001B[39m \u001B[38;5;124m'\u001B[39m\u001B[38;5;124mstandalone\u001B[39m\u001B[38;5;124m'\u001B[39m:\n\u001B[1;32m     57\u001B[0m     \u001B[38;5;28mself\u001B[39m\u001B[38;5;241m.\u001B[39mshared_comm_queue \u001B[38;5;241m=\u001B[39m deque()\n\u001B[0;32m---> 58\u001B[0m     \u001B[38;5;28;43mself\u001B[39;49m\u001B[38;5;241;43m.\u001B[39;49m\u001B[43m_setup_for_standalone\u001B[49m\u001B[43m(\u001B[49m\u001B[43m)\u001B[49m\n\u001B[1;32m     59\u001B[0m     \u001B[38;5;66;03m# in standalone mode, by default, we print the trainer info only\u001B[39;00m\n\u001B[1;32m     60\u001B[0m     \u001B[38;5;66;03m# once for better logs readability\u001B[39;00m\n\u001B[1;32m     61\u001B[0m     trainer_representative \u001B[38;5;241m=\u001B[39m \u001B[38;5;28mself\u001B[39m\u001B[38;5;241m.\u001B[39mclient[\u001B[38;5;241m1\u001B[39m]\u001B[38;5;241m.\u001B[39mtrainer\n",
      "File \u001B[0;32m~/Master-Thesis/CKIM_Competition/federatedscope/core/fed_runner.py:104\u001B[0m, in \u001B[0;36mFedRunner._setup_for_standalone\u001B[0;34m(self)\u001B[0m\n\u001B[1;32m    101\u001B[0m         \u001B[38;5;28mself\u001B[39m\u001B[38;5;241m.\u001B[39mcfg\u001B[38;5;241m.\u001B[39mfederate\u001B[38;5;241m.\u001B[39msample_client_num \u001B[38;5;241m=\u001B[39m \u001B[38;5;241m1\u001B[39m\n\u001B[1;32m    102\u001B[0m         \u001B[38;5;28mself\u001B[39m\u001B[38;5;241m.\u001B[39mcfg\u001B[38;5;241m.\u001B[39mfreeze()\n\u001B[0;32m--> 104\u001B[0m \u001B[38;5;28mself\u001B[39m\u001B[38;5;241m.\u001B[39mserver \u001B[38;5;241m=\u001B[39m \u001B[38;5;28;43mself\u001B[39;49m\u001B[38;5;241;43m.\u001B[39;49m\u001B[43m_setup_server\u001B[49m\u001B[43m(\u001B[49m\u001B[43m)\u001B[49m\n\u001B[1;32m    106\u001B[0m \u001B[38;5;28mself\u001B[39m\u001B[38;5;241m.\u001B[39mclient \u001B[38;5;241m=\u001B[39m \u001B[38;5;28mdict\u001B[39m()\n\u001B[1;32m    108\u001B[0m \u001B[38;5;66;03m# assume the client-wise data are consistent in their input&output\u001B[39;00m\n\u001B[1;32m    109\u001B[0m \u001B[38;5;66;03m# shape\u001B[39;00m\n",
      "File \u001B[0;32m~/Master-Thesis/CKIM_Competition/federatedscope/core/fed_runner.py:213\u001B[0m, in \u001B[0;36mFedRunner._setup_server\u001B[0;34m(self)\u001B[0m\n\u001B[1;32m    211\u001B[0m \u001B[38;5;28;01melse\u001B[39;00m:\n\u001B[1;32m    212\u001B[0m     server_data \u001B[38;5;241m=\u001B[39m \u001B[38;5;28;01mNone\u001B[39;00m\n\u001B[0;32m--> 213\u001B[0m     model \u001B[38;5;241m=\u001B[39m \u001B[43mget_model\u001B[49m\u001B[43m(\u001B[49m\n\u001B[1;32m    214\u001B[0m \u001B[43m        \u001B[49m\u001B[38;5;28;43mself\u001B[39;49m\u001B[38;5;241;43m.\u001B[39;49m\u001B[43mcfg\u001B[49m\u001B[38;5;241;43m.\u001B[39;49m\u001B[43mmodel\u001B[49m\u001B[43m,\u001B[49m\u001B[43m \u001B[49m\u001B[38;5;28;43mself\u001B[39;49m\u001B[38;5;241;43m.\u001B[39;49m\u001B[43mdata\u001B[49m\u001B[43m[\u001B[49m\u001B[38;5;241;43m1\u001B[39;49m\u001B[43m]\u001B[49m\u001B[43m,\u001B[49m\u001B[43m \u001B[49m\u001B[43mbackend\u001B[49m\u001B[38;5;241;43m=\u001B[39;49m\u001B[38;5;28;43mself\u001B[39;49m\u001B[38;5;241;43m.\u001B[39;49m\u001B[43mcfg\u001B[49m\u001B[38;5;241;43m.\u001B[39;49m\u001B[43mbackend\u001B[49m\n\u001B[1;32m    215\u001B[0m \u001B[43m    \u001B[49m\u001B[43m)\u001B[49m  \u001B[38;5;66;03m# get the model according to client's data if the server\u001B[39;00m\n\u001B[1;32m    216\u001B[0m     \u001B[38;5;66;03m# does not own data\u001B[39;00m\n\u001B[1;32m    217\u001B[0m kw \u001B[38;5;241m=\u001B[39m {\u001B[38;5;124m'\u001B[39m\u001B[38;5;124mshared_comm_queue\u001B[39m\u001B[38;5;124m'\u001B[39m: \u001B[38;5;28mself\u001B[39m\u001B[38;5;241m.\u001B[39mshared_comm_queue}\n",
      "File \u001B[0;32m~/Master-Thesis/CKIM_Competition/federatedscope/core/auxiliaries/model_builder.py:103\u001B[0m, in \u001B[0;36mget_model\u001B[0;34m(model_config, local_data, backend)\u001B[0m\n\u001B[1;32m     99\u001B[0m \u001B[38;5;28;01melif\u001B[39;00m model_config\u001B[38;5;241m.\u001B[39mtype\u001B[38;5;241m.\u001B[39mlower() \u001B[38;5;129;01min\u001B[39;00m [\n\u001B[1;32m    100\u001B[0m         \u001B[38;5;124m'\u001B[39m\u001B[38;5;124mgcn\u001B[39m\u001B[38;5;124m'\u001B[39m, \u001B[38;5;124m'\u001B[39m\u001B[38;5;124msage\u001B[39m\u001B[38;5;124m'\u001B[39m, \u001B[38;5;124m'\u001B[39m\u001B[38;5;124mgpr\u001B[39m\u001B[38;5;124m'\u001B[39m, \u001B[38;5;124m'\u001B[39m\u001B[38;5;124mgat\u001B[39m\u001B[38;5;124m'\u001B[39m, \u001B[38;5;124m'\u001B[39m\u001B[38;5;124mgin\u001B[39m\u001B[38;5;124m'\u001B[39m, \u001B[38;5;124m'\u001B[39m\u001B[38;5;124mmpnn\u001B[39m\u001B[38;5;124m'\u001B[39m\n\u001B[1;32m    101\u001B[0m ]:\n\u001B[1;32m    102\u001B[0m     \u001B[38;5;28;01mfrom\u001B[39;00m \u001B[38;5;21;01mfederatedscope\u001B[39;00m\u001B[38;5;21;01m.\u001B[39;00m\u001B[38;5;21;01mgfl\u001B[39;00m\u001B[38;5;21;01m.\u001B[39;00m\u001B[38;5;21;01mmodel\u001B[39;00m \u001B[38;5;28;01mimport\u001B[39;00m get_gnn\n\u001B[0;32m--> 103\u001B[0m     model \u001B[38;5;241m=\u001B[39m \u001B[43mget_gnn\u001B[49m\u001B[43m(\u001B[49m\u001B[43mmodel_config\u001B[49m\u001B[43m,\u001B[49m\u001B[43m \u001B[49m\u001B[43mlocal_data\u001B[49m\u001B[43m)\u001B[49m\n\u001B[1;32m    104\u001B[0m \u001B[38;5;28;01melif\u001B[39;00m model_config\u001B[38;5;241m.\u001B[39mtype\u001B[38;5;241m.\u001B[39mlower() \u001B[38;5;129;01min\u001B[39;00m [\u001B[38;5;124m'\u001B[39m\u001B[38;5;124mvmfnet\u001B[39m\u001B[38;5;124m'\u001B[39m, \u001B[38;5;124m'\u001B[39m\u001B[38;5;124mhmfnet\u001B[39m\u001B[38;5;124m'\u001B[39m]:\n\u001B[1;32m    105\u001B[0m     \u001B[38;5;28;01mfrom\u001B[39;00m \u001B[38;5;21;01mfederatedscope\u001B[39;00m\u001B[38;5;21;01m.\u001B[39;00m\u001B[38;5;21;01mmf\u001B[39;00m\u001B[38;5;21;01m.\u001B[39;00m\u001B[38;5;21;01mmodel\u001B[39;00m\u001B[38;5;21;01m.\u001B[39;00m\u001B[38;5;21;01mmodel_builder\u001B[39;00m \u001B[38;5;28;01mimport\u001B[39;00m get_mfnet\n",
      "File \u001B[0;32m~/Master-Thesis/CKIM_Competition/federatedscope/gfl/model/model_builder.py:25\u001B[0m, in \u001B[0;36mget_gnn\u001B[0;34m(model_config, local_data)\u001B[0m\n\u001B[1;32m     23\u001B[0m             num_label \u001B[38;5;241m=\u001B[39m local_data[\u001B[38;5;124m'\u001B[39m\u001B[38;5;124mnum_label\u001B[39m\u001B[38;5;124m'\u001B[39m]\n\u001B[1;32m     24\u001B[0m     \u001B[38;5;28;01melse\u001B[39;00m:\n\u001B[0;32m---> 25\u001B[0m         \u001B[38;5;28;01mraise\u001B[39;00m \u001B[38;5;167;01mTypeError\u001B[39;00m(\u001B[38;5;124m'\u001B[39m\u001B[38;5;124mUnsupported data type.\u001B[39m\u001B[38;5;124m'\u001B[39m)\n\u001B[1;32m     26\u001B[0m \u001B[38;5;28;01melse\u001B[39;00m:\n\u001B[1;32m     27\u001B[0m     data \u001B[38;5;241m=\u001B[39m local_data\n",
      "\u001B[0;31mTypeError\u001B[0m: Unsupported data type."
     ]
    }
   ],
   "source": [
    "clients = range(1, 1+1)\n",
    "lrs = [0.01]\n",
    "num_trainings = 3\n",
    "for client in clients:\n",
    "    clear_output(wait=True)\n",
    "    for lr in lrs:\n",
    "        print(f\"Client: {client},\\tlr: {lr}\")\n",
    "        for i in range(num_trainings):\n",
    "            print(f\"training run: {i+1}\")\n",
    "            train(client, lr)"
   ],
   "metadata": {
    "collapsed": false
   }
  },
  {
   "cell_type": "code",
   "execution_count": 6,
   "outputs": [
    {
     "name": "stderr",
     "output_type": "stream",
     "text": [
      "2023-01-02 20:08:09,938 (utils:129)INFO: the current machine is at 127.0.1.1\n",
      "2023-01-02 20:08:09,939 (utils:131)INFO: the current dir is /home/michael/Master-Thesis/CKIM_Competition\n",
      "2023-01-02 20:08:09,940 (utils:132)INFO: the output dir is exp/test_dir/Graph-DT-FedAvg_gin_on_graph-dt_lr0.1_lstep1_/sub_exp_20230102200809\n",
      "2023-01-02 20:08:10,869 (config:261)INFO: the used configs are: \n",
      "asyn:\n",
      "  min_received_num: 1\n",
      "  min_received_rate: -1.0\n",
      "  timeout: 0\n",
      "  use: True\n",
      "attack:\n",
      "  alpha_TV: 0.001\n",
      "  alpha_prop_loss: 0\n",
      "  attack_method: \n",
      "  attacker_id: -1\n",
      "  classifier_PIA: randomforest\n",
      "  info_diff_type: l2\n",
      "  inject_round: 0\n",
      "  max_ite: 400\n",
      "  reconstruct_lr: 0.01\n",
      "  reconstruct_optim: Adam\n",
      "  target_label_ind: -1\n",
      "backend: torch\n",
      "cfg_file: \n",
      "criterion:\n",
      "  type: CrossEntropyLoss\n",
      "data:\n",
      "  args: []\n",
      "  batch_size: 64\n",
      "  cSBM_phi: [0.5, 0.5, 0.5]\n",
      "  consistent_label_distribution: False\n",
      "  drop_last: False\n",
      "  graphsaint:\n",
      "    num_steps: 30\n",
      "    walk_length: 2\n",
      "  loader: \n",
      "  num_workers: 0\n",
      "  pre_transform: []\n",
      "  quadratic:\n",
      "    dim: 1\n",
      "    max_curv: 12.5\n",
      "    min_curv: 0.02\n",
      "  root: data/\n",
      "  save_dir: test_dir\n",
      "  server_holds_all: False\n",
      "  shuffle: True\n",
      "  sizes: [10, 5]\n",
      "  splits: [0.8, 0.1, 0.1]\n",
      "  splitter: ooxx\n",
      "  splitter_args: []\n",
      "  subsample: 1.0\n",
      "  target_transform: []\n",
      "  transform: []\n",
      "  type: graph-dt\n",
      "device: 0\n",
      "distribute:\n",
      "  use: False\n",
      "early_stop:\n",
      "  delta: 0.0\n",
      "  improve_indicator_mode: best\n",
      "  patience: 200\n",
      "  the_smaller_the_better: False\n",
      "eval:\n",
      "  base: 0.0\n",
      "  best_res_update_round_wise_key: val_imp_ratio\n",
      "  count_flops: False\n",
      "  freq: 1\n",
      "  metrics: ['imp_ratio']\n",
      "  monitoring: []\n",
      "  report: ['avg']\n",
      "  save_data: False\n",
      "  split: ['test', 'val']\n",
      "expname: Graph-DT-FedAvg_gin_on_graph-dt_lr0.1_lstep1_\n",
      "expname_tag: \n",
      "federate:\n",
      "  client_num: 1\n",
      "  data_weighted_aggr: False\n",
      "  ignore_weight: False\n",
      "  join_in_info: []\n",
      "  make_global_eval: False\n",
      "  method: Graph-DT-FedAvg\n",
      "  mode: standalone\n",
      "  online_aggr: False\n",
      "  restore_from: \n",
      "  sample_client_num: 1\n",
      "  sample_client_rate: -1.0\n",
      "  sampler: uniform\n",
      "  save_to: \n",
      "  share_local_model: False\n",
      "  total_round_num: 10000\n",
      "  unseen_clients_rate: 0.0\n",
      "  use_diff: False\n",
      "  use_ss: False\n",
      "fedopt:\n",
      "  use: False\n",
      "fedprox:\n",
      "  use: False\n",
      "fedsageplus:\n",
      "  a: 1.0\n",
      "  b: 1.0\n",
      "  c: 1.0\n",
      "  fedgen_epoch: 200\n",
      "  gen_hidden: 128\n",
      "  hide_portion: 0.5\n",
      "  loc_epoch: 1\n",
      "  num_pred: 5\n",
      "finetune:\n",
      "  batch_or_epoch: epoch\n",
      "  before_eval: False\n",
      "  freeze_param: \n",
      "  local_update_steps: 1\n",
      "  optimizer:\n",
      "    lr: 0.1\n",
      "    type: SGD\n",
      "flitplus:\n",
      "  factor_ema: 0.8\n",
      "  lambdavat: 0.5\n",
      "  tmpFed: 0.5\n",
      "  weightReg: 1.0\n",
      "gcflplus:\n",
      "  EPS_1: 0.05\n",
      "  EPS_2: 0.1\n",
      "  seq_length: 5\n",
      "  standardize: False\n",
      "grad:\n",
      "  grad_clip: 5.0\n",
      "hpo:\n",
      "  fedex:\n",
      "    cutoff: 0.0\n",
      "    diff: False\n",
      "    eta0: -1.0\n",
      "    flatten_ss: True\n",
      "    gamma: 0.0\n",
      "    num_arms: 16\n",
      "    sched: auto\n",
      "    ss: \n",
      "    use: False\n",
      "  init_cand_num: 16\n",
      "  larger_better: False\n",
      "  log_scale: False\n",
      "  metric: client_summarized_weighted_avg.val_loss\n",
      "  num_workers: 0\n",
      "  pbt:\n",
      "    max_stage: 5\n",
      "    perf_threshold: 0.1\n",
      "  plot_interval: 1\n",
      "  scheduler: rs\n",
      "  sha:\n",
      "    budgets: []\n",
      "    elim_rate: 3\n",
      "    elim_round_num: 3\n",
      "  ss: \n",
      "  table:\n",
      "    eps: 0.1\n",
      "    idx: 0\n",
      "    num: 27\n",
      "    ss: \n",
      "  working_folder: hpo\n",
      "maml:\n",
      "  use: False\n",
      "model:\n",
      "  dropout: 0.5\n",
      "  embed_size: 8\n",
      "  graph_pooling: mean\n",
      "  hidden: 64\n",
      "  in_channels: 0\n",
      "  layer: 2\n",
      "  model_num_per_trainer: 1\n",
      "  num_item: 0\n",
      "  num_user: 0\n",
      "  out_channels: 0\n",
      "  task: graph\n",
      "  type: gin\n",
      "  use_bias: True\n",
      "nbafl:\n",
      "  use: False\n",
      "outdir: exp/test_dir/Graph-DT-FedAvg_gin_on_graph-dt_lr0.1_lstep1_/sub_exp_20230102200809\n",
      "params:\n",
      "  alpha: 0.1\n",
      "personalization:\n",
      "  K: 5\n",
      "  beta: 1.0\n",
      "  local_param: ['encoder_atom', 'encoder', 'clf', 'vae_decoder']\n",
      "  local_update_steps: 1\n",
      "  lr: 0.1\n",
      "  regular_weight: 0.1\n",
      "  share_non_trainable_para: False\n",
      "print_decimal_digits: 6\n",
      "regularizer:\n",
      "  mu: 0.0\n",
      "  type: \n",
      "seed: 0\n",
      "sgdmf:\n",
      "  use: False\n",
      "train:\n",
      "  batch_or_epoch: epoch\n",
      "  local_update_steps: 1\n",
      "  optimizer:\n",
      "    lr: 0.1\n",
      "    type: SGD\n",
      "    weight_decay: 0.0005\n",
      "trainer:\n",
      "  type: FedAvg_VAE_trainer\n",
      "use_gpu: True\n",
      "verbose: 1\n",
      "vertical:\n",
      "  use: False\n",
      "wandb:\n",
      "  use: False\n"
     ]
    }
   ],
   "source": [
    "from federatedscope.core.configs import CN\n",
    "\n",
    "cfg_file = 'scripts/B-FHTL_exp_scripts/Graph-DT/fedavg_VAE.yaml'\n",
    "cfg_client = 'scripts/B-FHTL_exp_scripts/Graph-DT/cfg_per_client_theirs.yaml'\n",
    "#'scripts/B-FHTL_exp_scripts/Graph-DT/cfg_per_client.yaml'\n",
    "\n",
    "init_cfg = global_cfg.clone()\n",
    "init_cfg.merge_from_file(cfg_file)\n",
    "init_cfg.federate.client_num = 1\n",
    "init_cfg.params = CN()\n",
    "init_cfg.params.alpha=0.1\n",
    "# init_cfg.data.subdirectory = 'graph_dt_backup/processed'\n",
    "# init_cfg.merge_from_list(args.opts)\n",
    "#init_cfg.data.client = 5\n",
    "#init_cfg.train.optgraph_level_defaultimizer.lr = 0.01\n",
    "init_cfg.data.save_dir = 'test_dir'\n",
    "update_logger(init_cfg)\n",
    "setup_seed(init_cfg.seed)\n",
    "\n",
    "# federated dataset might change the number of clients\n",
    "# thus, we allow the creation procedure of dataset to modify the global cfg object\n",
    "data, modified_cfg = get_data(config=init_cfg.clone())\n",
    "init_cfg.merge_from_other_cfg(modified_cfg)\n",
    "\n",
    "init_cfg.freeze()\n",
    "\n",
    "# allow different settings for different clients\n",
    "# cfg_client.merge_from_file(args.cfg_client)\n",
    "if cfg_client is None:\n",
    "    cfg_client = None\n",
    "else:\n",
    "    cfg_client = CfgNode.load_cfg(open(cfg_client, 'r')).clone()\n",
    "\n"
   ],
   "metadata": {
    "collapsed": false
   }
  },
  {
   "cell_type": "code",
   "execution_count": 7,
   "outputs": [
    {
     "data": {
      "text/plain": "1"
     },
     "execution_count": 7,
     "metadata": {},
     "output_type": "execute_result"
    }
   ],
   "source": [
    "1\n"
   ],
   "metadata": {
    "collapsed": false
   }
  },
  {
   "cell_type": "code",
   "execution_count": 9,
   "outputs": [
    {
     "name": "stderr",
     "output_type": "stream",
     "text": [
      "2023-01-02 20:09:07,361 (worker_builder:73)WARNING: Server for method Graph-DT-FedAvg is not implemented. Will use default one\n",
      "2023-01-02 20:09:07,526 (aggregator_builder:21)WARNING: Aggregator for method Graph-DT-FedAvg is not implemented. Will use default one\n",
      "2023-01-02 20:09:07,527 (fed_runner:249)INFO: Server #0 has been set up ... \n",
      "2023-01-02 20:09:07,582 (config:261)INFO: the used configs are: \n",
      "asyn:\n",
      "  min_received_num: 1\n",
      "  min_received_rate: -1.0\n",
      "  timeout: 0\n",
      "  use: True\n",
      "attack:\n",
      "  alpha_TV: 0.001\n",
      "  alpha_prop_loss: 0\n",
      "  attack_method: \n",
      "  attacker_id: -1\n",
      "  classifier_PIA: randomforest\n",
      "  info_diff_type: l2\n",
      "  inject_round: 0\n",
      "  max_ite: 400\n",
      "  reconstruct_lr: 0.01\n",
      "  reconstruct_optim: Adam\n",
      "  target_label_ind: -1\n",
      "backend: torch\n",
      "cfg_file: \n",
      "criterion:\n",
      "  type: MSELoss\n",
      "data:\n",
      "  args: []\n",
      "  batch_size: 64\n",
      "  cSBM_phi: [0.5, 0.5, 0.5]\n",
      "  consistent_label_distribution: False\n",
      "  drop_last: False\n",
      "  graphsaint:\n",
      "    num_steps: 30\n",
      "    walk_length: 2\n",
      "  loader: \n",
      "  num_workers: 0\n",
      "  pre_transform: []\n",
      "  quadratic:\n",
      "    dim: 1\n",
      "    max_curv: 12.5\n",
      "    min_curv: 0.02\n",
      "  root: data/\n",
      "  save_dir: test_dir\n",
      "  server_holds_all: False\n",
      "  shuffle: True\n",
      "  sizes: [10, 5]\n",
      "  splits: [0.8, 0.1, 0.1]\n",
      "  splitter: ooxx\n",
      "  splitter_args: []\n",
      "  subsample: 1.0\n",
      "  target_transform: []\n",
      "  transform: []\n",
      "  type: graph-dt\n",
      "device: 0\n",
      "distribute:\n",
      "  use: False\n",
      "early_stop:\n",
      "  delta: 0.0\n",
      "  improve_indicator_mode: best\n",
      "  patience: 200\n",
      "  the_smaller_the_better: False\n",
      "eval:\n",
      "  base: 0.9243\n",
      "  best_res_update_round_wise_key: val_imp_ratio\n",
      "  count_flops: False\n",
      "  freq: 1\n",
      "  metrics: ['imp_ratio']\n",
      "  monitoring: []\n",
      "  report: ['avg']\n",
      "  save_data: False\n",
      "  split: ['test', 'val']\n",
      "expname: Graph-DT-FedAvg_gin_on_graph-dt_lr0.1_lstep1_\n",
      "expname_tag: \n",
      "federate:\n",
      "  client_num: 1\n",
      "  data_weighted_aggr: False\n",
      "  ignore_weight: False\n",
      "  join_in_info: []\n",
      "  make_global_eval: False\n",
      "  method: Graph-DT-FedAvg\n",
      "  mode: standalone\n",
      "  online_aggr: False\n",
      "  restore_from: \n",
      "  sample_client_num: 1\n",
      "  sample_client_rate: -1.0\n",
      "  sampler: uniform\n",
      "  save_to: \n",
      "  share_local_model: False\n",
      "  total_round_num: 10000\n",
      "  unseen_clients_rate: 0.0\n",
      "  use_diff: False\n",
      "  use_ss: False\n",
      "fedopt:\n",
      "  use: False\n",
      "fedprox:\n",
      "  use: False\n",
      "fedsageplus:\n",
      "  a: 1.0\n",
      "  b: 1.0\n",
      "  c: 1.0\n",
      "  fedgen_epoch: 200\n",
      "  gen_hidden: 128\n",
      "  hide_portion: 0.5\n",
      "  loc_epoch: 1\n",
      "  num_pred: 5\n",
      "finetune:\n",
      "  batch_or_epoch: epoch\n",
      "  before_eval: False\n",
      "  freeze_param: \n",
      "  local_update_steps: 1\n",
      "  optimizer:\n",
      "    lr: 0.1\n",
      "    type: SGD\n",
      "flitplus:\n",
      "  factor_ema: 0.8\n",
      "  lambdavat: 0.5\n",
      "  tmpFed: 0.5\n",
      "  weightReg: 1.0\n",
      "gcflplus:\n",
      "  EPS_1: 0.05\n",
      "  EPS_2: 0.1\n",
      "  seq_length: 5\n",
      "  standardize: False\n",
      "grad:\n",
      "  grad_clip: 5.0\n",
      "hpo:\n",
      "  fedex:\n",
      "    cutoff: 0.0\n",
      "    diff: False\n",
      "    eta0: -1.0\n",
      "    flatten_ss: True\n",
      "    gamma: 0.0\n",
      "    num_arms: 16\n",
      "    sched: auto\n",
      "    ss: \n",
      "    use: False\n",
      "  init_cand_num: 16\n",
      "  larger_better: False\n",
      "  log_scale: False\n",
      "  metric: client_summarized_weighted_avg.val_loss\n",
      "  num_workers: 0\n",
      "  pbt:\n",
      "    max_stage: 5\n",
      "    perf_threshold: 0.1\n",
      "  plot_interval: 1\n",
      "  scheduler: rs\n",
      "  sha:\n",
      "    budgets: []\n",
      "    elim_rate: 3\n",
      "    elim_round_num: 3\n",
      "  ss: \n",
      "  table:\n",
      "    eps: 0.1\n",
      "    idx: 0\n",
      "    num: 27\n",
      "    ss: \n",
      "  working_folder: hpo\n",
      "maml:\n",
      "  use: False\n",
      "model:\n",
      "  dropout: 0.5\n",
      "  embed_size: 8\n",
      "  graph_pooling: mean\n",
      "  hidden: 64\n",
      "  in_channels: 0\n",
      "  layer: 2\n",
      "  model_num_per_trainer: 1\n",
      "  num_item: 0\n",
      "  num_user: 0\n",
      "  out_channels: 1\n",
      "  task: graphRegression\n",
      "  type: gin\n",
      "  use_bias: True\n",
      "nbafl:\n",
      "  use: False\n",
      "outdir: exp/test_dir/Graph-DT-FedAvg_gin_on_graph-dt_lr0.1_lstep1_/sub_exp_20230102200809\n",
      "params:\n",
      "  alpha: 0.1\n",
      "personalization:\n",
      "  K: 5\n",
      "  beta: 1.0\n",
      "  local_param: ['encoder_atom', 'encoder', 'clf', 'vae_decoder']\n",
      "  local_update_steps: 1\n",
      "  lr: 0.1\n",
      "  regular_weight: 0.1\n",
      "  share_non_trainable_para: False\n",
      "print_decimal_digits: 6\n",
      "regularizer:\n",
      "  mu: 0.0\n",
      "  type: \n",
      "seed: 0\n",
      "sgdmf:\n",
      "  use: False\n",
      "train:\n",
      "  batch_or_epoch: epoch\n",
      "  local_update_steps: 1\n",
      "  optimizer:\n",
      "    lr: 0.01\n",
      "    type: SGD\n",
      "    weight_decay: 0.0005\n",
      "trainer:\n",
      "  type: FedAvg_VAE_trainer\n",
      "use_gpu: True\n",
      "verbose: 1\n",
      "vertical:\n",
      "  use: False\n",
      "wandb:\n",
      "  use: False\n",
      "2023-01-02 20:09:07,608 (trainer:50)WARNING: Will not use monitor in trainer with class <class 'federatedscope.contrib.trainer.FedAvg_VAE_trainer.FedAvg_VAE_trainer'>\n",
      "2023-01-02 20:09:07,610 (fed_runner:302)INFO: Client 1 has been set up ... \n",
      "2023-01-02 20:09:07,611 (trainer:324)INFO: Model meta-info: <class 'federatedscope.gfl.model.graph_level.GNN_Net_Graph'>.\n",
      "2023-01-02 20:09:07,618 (trainer:332)INFO: Num of original para names: 74.\n",
      "2023-01-02 20:09:07,619 (trainer:333)INFO: Num of original trainable para names: 54.\n",
      "2023-01-02 20:09:07,620 (trainer:335)INFO: Num of preserved para names in local update: 32. \n",
      "Preserved para names in local update: {'gnn.convs.1.nn.linears.0.bias', 'gnn.convs.0.nn.norms.0.bias', 'gnn.convs.0.nn.norms.0.running_var', 'gnn.convs.0.nn.norms.0.num_batches_tracked', 'linear.0.bias', 'gnn.convs.0.nn.norms.0.weight', 'linear.0.weight', 'gnn.convs.0.nn.linears.1.bias', 'gnn.convs.1.nn.norms.1.num_batches_tracked', 'gnn.convs.0.nn.norms.1.num_batches_tracked', 'gnn.convs.1.nn.norms.0.weight', 'gnn.convs.1.nn.norms.0.running_var', 'gnn.convs.0.nn.norms.1.running_mean', 'gnn.convs.1.nn.norms.1.weight', 'gnn.convs.0.nn.norms.1.weight', 'gnn.convs.0.nn.norms.1.running_var', 'gnn.convs.1.nn.norms.1.running_var', 'gnn.convs.0.nn.linears.1.weight', 'gnn.convs.1.nn.norms.0.bias', 'gnn.convs.1.nn.linears.1.weight', 'gnn.convs.1.nn.norms.0.running_mean', 'gnn.convs.0.nn.norms.0.running_mean', 'gnn.convs.0.nn.linears.0.bias', 'gnn.convs.0.nn.norms.1.bias', 'gnn.convs.0.nn.linears.0.weight', 'gnn.convs.1.nn.norms.1.bias', 'gnn.convs.1.nn.linears.1.bias', 'gnn.convs.1.nn.norms.0.num_batches_tracked', 'gnn.convs.0.eps', 'gnn.convs.1.nn.norms.1.running_mean', 'gnn.convs.1.nn.linears.0.weight', 'gnn.convs.1.eps'}.\n",
      "2023-01-02 20:09:07,621 (trainer:339)INFO: Num of filtered para names in local update: 42. \n",
      "Filtered para names in local update: {'encoder_atom.atom_embedding_list.11.weight', 'encoder_atom.atom_embedding_list.1.weight', 'encoder_atom.atom_embedding_list.2.weight', 'encoder_atom.atom_embedding_list.7.weight', 'vae_decoder.lin2.0.bias', 'encoder_atom.atom_embedding_list.19.weight', 'vae_decoder.bn2.weight', 'encoder_atom.atom_embedding_list.6.weight', 'vae_decoder.bn1.num_batches_tracked', 'vae_decoder.bn2.running_mean', 'vae_decoder.lin1.0.bias', 'encoder_atom.atom_embedding_list.5.weight', 'encoder_atom.atom_embedding_list.4.weight', 'encoder_atom.atom_embedding_list.0.weight', 'encoder.weight', 'vae_decoder.bn2.bias', 'vae_decoder.clf.bias', 'vae_decoder.bn1.bias', 'clf.weight', 'encoder_atom.atom_embedding_list.16.weight', 'encoder.bias', 'encoder_atom.atom_embedding_list.10.weight', 'vae_decoder.clf.weight', 'vae_decoder.bn1.running_mean', 'encoder_atom.atom_embedding_list.12.weight', 'vae_decoder.bn1.running_var', 'encoder_atom.atom_embedding_list.18.weight', 'encoder_atom.atom_embedding_list.3.weight', 'vae_decoder.lin2.0.weight', 'encoder_atom.atom_embedding_list.8.weight', 'encoder_atom.atom_embedding_list.15.weight', 'encoder_atom.atom_embedding_list.21.weight', 'vae_decoder.bn1.weight', 'encoder_atom.atom_embedding_list.13.weight', 'encoder_atom.atom_embedding_list.17.weight', 'vae_decoder.lin1.0.weight', 'encoder_atom.atom_embedding_list.9.weight', 'clf.bias', 'encoder_atom.atom_embedding_list.14.weight', 'vae_decoder.bn2.running_var', 'vae_decoder.bn2.num_batches_tracked', 'encoder_atom.atom_embedding_list.20.weight'}.\n",
      "2023-01-02 20:09:07,625 (trainer:344)INFO: After register default hooks,\n",
      "\tthe hooks_in_train is:\n",
      "\t{\n",
      "\t  \"on_fit_start\": [\n",
      "\t    \"_hook_on_fit_start_init\",\n",
      "\t    \"_hook_on_fit_start_calculate_model_size\"\n",
      "\t  ],\n",
      "\t  \"on_epoch_start\": [\n",
      "\t    \"_hook_on_epoch_start\"\n",
      "\t  ],\n",
      "\t  \"on_batch_start\": [\n",
      "\t    \"_hook_on_batch_start_init\"\n",
      "\t  ],\n",
      "\t  \"on_batch_forward\": [\n",
      "\t    \"_hook_on_batch_forward\",\n",
      "\t    \"_hook_on_batch_forward_regularizer\",\n",
      "\t    \"_hook_on_batch_forward_flop_count\"\n",
      "\t  ],\n",
      "\t  \"on_batch_backward\": [\n",
      "\t    \"_hook_on_batch_backward\"\n",
      "\t  ],\n",
      "\t  \"on_batch_end\": [\n",
      "\t    \"_hook_on_batch_end\"\n",
      "\t  ],\n",
      "\t  \"on_fit_end\": [\n",
      "\t    \"_hook_on_fit_end\"\n",
      "\t  ]\n",
      "\t};\n",
      "\tthe hooks_in_eval is:\n",
      "            t{\n",
      "\t  \"on_fit_start\": [\n",
      "\t    \"_hook_on_fit_start_init\"\n",
      "\t  ],\n",
      "\t  \"on_epoch_start\": [\n",
      "\t    \"_hook_on_epoch_start\"\n",
      "\t  ],\n",
      "\t  \"on_batch_start\": [\n",
      "\t    \"_hook_on_batch_start_init\"\n",
      "\t  ],\n",
      "\t  \"on_batch_forward\": [\n",
      "\t    \"_hook_on_batch_forward\"\n",
      "\t  ],\n",
      "\t  \"on_batch_end\": [\n",
      "\t    \"_hook_on_batch_end\"\n",
      "\t  ],\n",
      "\t  \"on_fit_end\": [\n",
      "\t    \"_hook_on_fit_end\"\n",
      "\t  ]\n",
      "\t}\n",
      "2023-01-02 20:09:07,628 (server:644)INFO: ----------- Starting training (Round #0) -------------\n"
     ]
    },
    {
     "name": "stdout",
     "output_type": "stream",
     "text": [
      "vae_loss: 2.3140084743499756\n",
      "vae_loss: 2.302180290222168\n",
      "vae_loss: 2.2623884677886963\n",
      "vae_loss: 2.248159408569336\n",
      "vae_loss: 2.202038049697876\n",
      "vae_loss: 2.1752772331237793\n",
      "vae_loss: 2.1553525924682617\n",
      "vae_loss: 2.1193735599517822\n",
      "vae_loss: 2.0919835567474365\n",
      "vae_loss: 2.0689194202423096\n",
      "vae_loss: 2.047959804534912\n",
      "vae_loss: 2.0223851203918457\n",
      "vae_loss: 1.9829695224761963\n",
      "vae_loss: 1.9727274179458618\n",
      "vae_loss: 1.945608377456665\n"
     ]
    },
    {
     "name": "stderr",
     "output_type": "stream",
     "text": [
      "2023-01-02 20:10:06,095 (client:255)INFO: {'Role': 'Client #1', 'Round': 0, 'Results_raw': {'train_avg_loss': 12.029993, 'train_total': 901, 'train_imp_ratio': -1201.524728, 'train_loss': 10839.02357}}\n",
      "2023-01-02 20:10:06,106 (server:323)INFO: Server #0: Starting evaluation at the end of round 0.\n",
      "2023-01-02 20:10:06,114 (server:330)INFO: ----------- Starting a new training round (Round #1) -------------\n",
      "2023-01-02 20:10:06,211 (client:410)INFO: {'Role': 'Client #1', 'Round': 1, 'Results_raw': {'test_avg_loss': 9.239628, 'test_total': 113, 'test_imp_ratio': -899.635269, 'test_loss': 1044.077963, 'val_avg_loss': 9.242317, 'val_total': 113, 'val_imp_ratio': -899.926231, 'val_loss': 1044.38183}}\n",
      "2023-01-02 20:10:06,213 (monitor:513)INFO: current_best=-899.926231, should_save=True\n",
      "2023-01-02 20:10:06,214 (client:431)INFO: Client: #1, val_imp_ratio: -899.926231. model saved at exp/test_dir/Graph-DT-FedAvg_gin_on_graph-dt_lr0.1_lstep1_/sub_exp_20230102200809/model1.pth\n"
     ]
    },
    {
     "name": "stdout",
     "output_type": "stream",
     "text": [
      "vae_loss: 1.6548593044281006\n",
      "vae_loss: 1.6402397155761719\n",
      "vae_loss: 1.6416888236999512\n",
      "vae_loss: 1.6457631587982178\n",
      "vae_loss: 1.9231219291687012\n",
      "vae_loss: 1.9164633750915527\n",
      "vae_loss: 1.8654006719589233\n",
      "vae_loss: 1.8638417720794678\n",
      "vae_loss: 1.8239482641220093\n",
      "vae_loss: 1.7951691150665283\n",
      "vae_loss: 1.7942075729370117\n"
     ]
    },
    {
     "name": "stderr",
     "output_type": "stream",
     "text": [
      "2023-01-02 20:10:06,519 (client:255)INFO: {'Role': 'Client #1', 'Round': 1, 'Results_raw': {'train_avg_loss': 8.032604, 'train_total': 901, 'train_imp_ratio': -769.047303, 'train_loss': 7237.376154}}\n",
      "2023-01-02 20:10:06,525 (server:496)INFO: {'Role': 'Server #', 'Round': 1, 'Results_avg': {'test_avg_loss': 9.239628, 'test_total': 113.0, 'test_imp_ratio': -899.635269, 'test_loss': 1044.077963, 'val_avg_loss': 9.242317, 'val_total': 113.0, 'val_imp_ratio': -899.926231, 'val_loss': 1044.38183}}\n",
      "2023-01-02 20:10:06,526 (monitor:513)INFO: current_best=-10000, should_save=False\n",
      "2023-01-02 20:10:06,528 (monitor:513)INFO: current_best=-899.926231, should_save=True\n",
      "2023-01-02 20:10:06,536 (server:323)INFO: Server #0: Starting evaluation at the end of round 1.\n",
      "2023-01-02 20:10:06,545 (server:330)INFO: ----------- Starting a new training round (Round #2) -------------\n"
     ]
    },
    {
     "name": "stdout",
     "output_type": "stream",
     "text": [
      "vae_loss: 1.7523181438446045\n",
      "vae_loss: 1.7174683809280396\n",
      "vae_loss: 1.6934438943862915\n",
      "vae_loss: 1.6929707527160645\n",
      "vae_loss: 1.6646050214767456\n",
      "vae_loss: 1.6451687812805176\n",
      "vae_loss: 1.6080806255340576\n",
      "vae_loss: 1.6150016784667969\n"
     ]
    },
    {
     "name": "stderr",
     "output_type": "stream",
     "text": [
      "2023-01-02 20:10:06,623 (client:410)INFO: {'Role': 'Client #1', 'Round': 2, 'Results_raw': {'test_avg_loss': 6.088632, 'test_total': 113, 'test_imp_ratio': -558.728944, 'test_loss': 688.015366, 'val_avg_loss': 5.707365, 'val_total': 113, 'val_imp_ratio': -517.479718, 'val_loss': 644.932281}}\n",
      "2023-01-02 20:10:06,625 (monitor:513)INFO: current_best=-517.479718, should_save=True\n",
      "2023-01-02 20:10:06,626 (client:431)INFO: Client: #1, val_imp_ratio: -517.479718. model saved at exp/test_dir/Graph-DT-FedAvg_gin_on_graph-dt_lr0.1_lstep1_/sub_exp_20230102200809/model1.pth\n"
     ]
    },
    {
     "name": "stdout",
     "output_type": "stream",
     "text": [
      "vae_loss: 1.4750722646713257\n",
      "vae_loss: 1.4458050727844238\n",
      "vae_loss: 1.4549777507781982\n",
      "vae_loss: 1.4520227909088135\n",
      "vae_loss: 1.5881701707839966\n",
      "vae_loss: 1.58544921875\n",
      "vae_loss: 1.535775065422058\n",
      "vae_loss: 1.52603280544281\n",
      "vae_loss: 1.5341815948486328\n",
      "vae_loss: 1.4795161485671997\n"
     ]
    },
    {
     "name": "stderr",
     "output_type": "stream",
     "text": [
      "2023-01-02 20:10:06,951 (client:255)INFO: {'Role': 'Client #1', 'Round': 2, 'Results_raw': {'train_avg_loss': 5.739073, 'train_total': 901, 'train_imp_ratio': -520.910181, 'train_loss': 5170.904749}}\n",
      "2023-01-02 20:10:06,955 (server:496)INFO: {'Role': 'Server #', 'Round': 2, 'Results_avg': {'test_avg_loss': 6.088632, 'test_total': 113.0, 'test_imp_ratio': -558.728944, 'test_loss': 688.015366, 'val_avg_loss': 5.707365, 'val_total': 113.0, 'val_imp_ratio': -517.479718, 'val_loss': 644.932281}}\n",
      "2023-01-02 20:10:06,957 (monitor:513)INFO: current_best=-899.926231, should_save=False\n",
      "2023-01-02 20:10:06,958 (monitor:513)INFO: current_best=-517.479718, should_save=True\n",
      "2023-01-02 20:10:06,964 (server:323)INFO: Server #0: Starting evaluation at the end of round 2.\n",
      "2023-01-02 20:10:06,971 (server:330)INFO: ----------- Starting a new training round (Round #3) -------------\n"
     ]
    },
    {
     "name": "stdout",
     "output_type": "stream",
     "text": [
      "vae_loss: 1.5126460790634155\n",
      "vae_loss: 1.4606761932373047\n",
      "vae_loss: 1.4458082914352417\n",
      "vae_loss: 1.4444105625152588\n",
      "vae_loss: 1.3949768543243408\n",
      "vae_loss: 1.4095615148544312\n",
      "vae_loss: 1.3726602792739868\n",
      "vae_loss: 1.3645519018173218\n",
      "vae_loss: 1.4088119268417358\n"
     ]
    },
    {
     "name": "stderr",
     "output_type": "stream",
     "text": [
      "2023-01-02 20:10:07,054 (client:410)INFO: {'Role': 'Client #1', 'Round': 3, 'Results_raw': {'test_avg_loss': 4.621323, 'test_total': 113, 'test_imp_ratio': -399.980862, 'test_loss': 522.209551, 'val_avg_loss': 3.954072, 'val_total': 113, 'val_imp_ratio': -327.791028, 'val_loss': 446.810176}}\n",
      "2023-01-02 20:10:07,056 (monitor:513)INFO: current_best=-327.791028, should_save=True\n",
      "2023-01-02 20:10:07,059 (client:431)INFO: Client: #1, val_imp_ratio: -327.791028. model saved at exp/test_dir/Graph-DT-FedAvg_gin_on_graph-dt_lr0.1_lstep1_/sub_exp_20230102200809/model1.pth\n"
     ]
    },
    {
     "name": "stdout",
     "output_type": "stream",
     "text": [
      "vae_loss: 1.3171226978302002\n",
      "vae_loss: 1.2912474870681763\n",
      "vae_loss: 1.2945845127105713\n",
      "vae_loss: 1.3002935647964478\n",
      "vae_loss: 1.3506563901901245\n",
      "vae_loss: 1.3177380561828613\n",
      "vae_loss: 1.3156553506851196\n",
      "vae_loss: 1.3167288303375244\n",
      "vae_loss: 1.3141443729400635\n",
      "vae_loss: 1.2661391496658325\n"
     ]
    },
    {
     "name": "stderr",
     "output_type": "stream",
     "text": [
      "2023-01-02 20:10:07,359 (client:255)INFO: {'Role': 'Client #1', 'Round': 3, 'Results_raw': {'train_avg_loss': 4.823737, 'train_total': 901, 'train_imp_ratio': -421.880085, 'train_loss': 4346.187457}}\n",
      "2023-01-02 20:10:07,363 (server:496)INFO: {'Role': 'Server #', 'Round': 3, 'Results_avg': {'test_avg_loss': 4.621323, 'test_total': 113.0, 'test_imp_ratio': -399.980862, 'test_loss': 522.209551, 'val_avg_loss': 3.954072, 'val_total': 113.0, 'val_imp_ratio': -327.791028, 'val_loss': 446.810176}}\n",
      "2023-01-02 20:10:07,364 (monitor:513)INFO: current_best=-517.479718, should_save=False\n",
      "2023-01-02 20:10:07,365 (monitor:513)INFO: current_best=-327.791028, should_save=True\n",
      "2023-01-02 20:10:07,370 (server:323)INFO: Server #0: Starting evaluation at the end of round 3.\n",
      "2023-01-02 20:10:07,377 (server:330)INFO: ----------- Starting a new training round (Round #4) -------------\n"
     ]
    },
    {
     "name": "stdout",
     "output_type": "stream",
     "text": [
      "vae_loss: 1.2588412761688232\n",
      "vae_loss: 1.2375205755233765\n",
      "vae_loss: 1.2627240419387817\n",
      "vae_loss: 1.2535676956176758\n",
      "vae_loss: 1.2525579929351807\n",
      "vae_loss: 1.2260717153549194\n",
      "vae_loss: 1.1881670951843262\n",
      "vae_loss: 1.1773931980133057\n",
      "vae_loss: 1.177445888519287\n"
     ]
    },
    {
     "name": "stderr",
     "output_type": "stream",
     "text": [
      "2023-01-02 20:10:07,466 (client:410)INFO: {'Role': 'Client #1', 'Round': 4, 'Results_raw': {'test_avg_loss': 4.419955, 'test_total': 113, 'test_imp_ratio': -378.194826, 'test_loss': 499.454869, 'val_avg_loss': 3.536228, 'val_total': 113, 'val_imp_ratio': -282.584488, 'val_loss': 399.59379}}\n",
      "2023-01-02 20:10:07,468 (monitor:513)INFO: current_best=-282.584488, should_save=True\n",
      "2023-01-02 20:10:07,469 (client:431)INFO: Client: #1, val_imp_ratio: -282.584488. model saved at exp/test_dir/Graph-DT-FedAvg_gin_on_graph-dt_lr0.1_lstep1_/sub_exp_20230102200809/model1.pth\n"
     ]
    },
    {
     "name": "stdout",
     "output_type": "stream",
     "text": [
      "vae_loss: 1.1881035566329956\n",
      "vae_loss: 1.1598618030548096\n",
      "vae_loss: 1.1676571369171143\n",
      "vae_loss: 1.16830575466156\n",
      "vae_loss: 1.1931018829345703\n",
      "vae_loss: 1.167553424835205\n",
      "vae_loss: 1.156097173690796\n",
      "vae_loss: 1.1830146312713623\n",
      "vae_loss: 1.1587886810302734\n",
      "vae_loss: 1.1437044143676758\n",
      "vae_loss: 1.1128801107406616\n"
     ]
    },
    {
     "name": "stderr",
     "output_type": "stream",
     "text": [
      "2023-01-02 20:10:07,768 (client:255)INFO: {'Role': 'Client #1', 'Round': 4, 'Results_raw': {'train_avg_loss': 4.622239, 'train_total': 901, 'train_imp_ratio': -400.080016, 'train_loss': 4164.637779}}\n",
      "2023-01-02 20:10:07,772 (server:496)INFO: {'Role': 'Server #', 'Round': 4, 'Results_avg': {'test_avg_loss': 4.419955, 'test_total': 113.0, 'test_imp_ratio': -378.194826, 'test_loss': 499.454869, 'val_avg_loss': 3.536228, 'val_total': 113.0, 'val_imp_ratio': -282.584488, 'val_loss': 399.59379}}\n",
      "2023-01-02 20:10:07,774 (monitor:513)INFO: current_best=-327.791028, should_save=False\n",
      "2023-01-02 20:10:07,775 (monitor:513)INFO: current_best=-282.584488, should_save=True\n",
      "2023-01-02 20:10:07,784 (server:323)INFO: Server #0: Starting evaluation at the end of round 4.\n",
      "2023-01-02 20:10:07,793 (server:330)INFO: ----------- Starting a new training round (Round #5) -------------\n"
     ]
    },
    {
     "name": "stdout",
     "output_type": "stream",
     "text": [
      "vae_loss: 1.0944504737854004\n",
      "vae_loss: 1.111433744430542\n",
      "vae_loss: 1.07438325881958\n",
      "vae_loss: 1.0964560508728027\n",
      "vae_loss: 1.0718252658843994\n",
      "vae_loss: 1.0826318264007568\n",
      "vae_loss: 1.055514931678772\n",
      "vae_loss: 1.063830852508545\n"
     ]
    },
    {
     "name": "stderr",
     "output_type": "stream",
     "text": [
      "2023-01-02 20:10:07,896 (client:410)INFO: {'Role': 'Client #1', 'Round': 5, 'Results_raw': {'test_avg_loss': 4.336219, 'test_total': 113, 'test_imp_ratio': -369.135487, 'test_loss': 489.992749, 'val_avg_loss': 3.418683, 'val_total': 113, 'val_imp_ratio': -269.867205, 'val_loss': 386.311123}}\n",
      "2023-01-02 20:10:07,897 (monitor:513)INFO: current_best=-269.867205, should_save=True\n",
      "2023-01-02 20:10:07,899 (client:431)INFO: Client: #1, val_imp_ratio: -269.867205. model saved at exp/test_dir/Graph-DT-FedAvg_gin_on_graph-dt_lr0.1_lstep1_/sub_exp_20230102200809/model1.pth\n"
     ]
    },
    {
     "name": "stdout",
     "output_type": "stream",
     "text": [
      "vae_loss: 1.0730128288269043\n",
      "vae_loss: 1.031501293182373\n",
      "vae_loss: 1.051560640335083\n",
      "vae_loss: 1.0532147884368896\n",
      "vae_loss: 1.0828323364257812\n",
      "vae_loss: 1.04920494556427\n",
      "vae_loss: 1.072511911392212\n",
      "vae_loss: 1.0406867265701294\n",
      "vae_loss: 1.050723671913147\n",
      "vae_loss: 1.0161617994308472\n"
     ]
    },
    {
     "name": "stderr",
     "output_type": "stream",
     "text": [
      "2023-01-02 20:10:08,196 (client:255)INFO: {'Role': 'Client #1', 'Round': 5, 'Results_raw': {'train_avg_loss': 4.631928, 'train_total': 901, 'train_imp_ratio': -401.12815, 'train_loss': 4173.36692}}\n",
      "2023-01-02 20:10:08,202 (server:496)INFO: {'Role': 'Server #', 'Round': 5, 'Results_avg': {'test_avg_loss': 4.336219, 'test_total': 113.0, 'test_imp_ratio': -369.135487, 'test_loss': 489.992749, 'val_avg_loss': 3.418683, 'val_total': 113.0, 'val_imp_ratio': -269.867205, 'val_loss': 386.311123}}\n",
      "2023-01-02 20:10:08,203 (monitor:513)INFO: current_best=-282.584488, should_save=False\n",
      "2023-01-02 20:10:08,204 (monitor:513)INFO: current_best=-269.867205, should_save=True\n",
      "2023-01-02 20:10:08,210 (server:323)INFO: Server #0: Starting evaluation at the end of round 5.\n",
      "2023-01-02 20:10:08,217 (server:330)INFO: ----------- Starting a new training round (Round #6) -------------\n"
     ]
    },
    {
     "name": "stdout",
     "output_type": "stream",
     "text": [
      "vae_loss: 1.0145102739334106\n",
      "vae_loss: 1.017601490020752\n",
      "vae_loss: 0.9983965754508972\n",
      "vae_loss: 0.9982181787490845\n",
      "vae_loss: 0.990994393825531\n",
      "vae_loss: 0.9921352863311768\n",
      "vae_loss: 0.9768506288528442\n",
      "vae_loss: 0.9699571132659912\n",
      "vae_loss: 0.8984835147857666\n",
      "vae_loss: 0.9833739995956421\n"
     ]
    },
    {
     "name": "stderr",
     "output_type": "stream",
     "text": [
      "2023-01-02 20:10:08,287 (client:410)INFO: {'Role': 'Client #1', 'Round': 6, 'Results_raw': {'test_avg_loss': 4.290463, 'test_total': 113, 'test_imp_ratio': -364.185161, 'test_loss': 484.822327, 'val_avg_loss': 3.400657, 'val_total': 113, 'val_imp_ratio': -267.917063, 'val_loss': 384.274253}}\n",
      "2023-01-02 20:10:08,288 (monitor:513)INFO: current_best=-267.917063, should_save=True\n",
      "2023-01-02 20:10:08,289 (client:431)INFO: Client: #1, val_imp_ratio: -267.917063. model saved at exp/test_dir/Graph-DT-FedAvg_gin_on_graph-dt_lr0.1_lstep1_/sub_exp_20230102200809/model1.pth\n"
     ]
    },
    {
     "name": "stdout",
     "output_type": "stream",
     "text": [
      "vae_loss: 0.9504592418670654\n",
      "vae_loss: 0.9617280960083008\n",
      "vae_loss: 0.9683248400688171\n",
      "vae_loss: 0.9872666597366333\n",
      "vae_loss: 0.9619759321212769\n",
      "vae_loss: 0.9392604231834412\n",
      "vae_loss: 0.9254099130630493\n",
      "vae_loss: 0.9667827486991882\n",
      "vae_loss: 0.9885972738265991\n",
      "vae_loss: 0.9367761611938477\n",
      "vae_loss: 0.9391679763793945\n"
     ]
    },
    {
     "name": "stderr",
     "output_type": "stream",
     "text": [
      "2023-01-02 20:10:08,582 (client:255)INFO: {'Role': 'Client #1', 'Round': 6, 'Results_raw': {'train_avg_loss': 4.525103, 'train_total': 901, 'train_imp_ratio': -389.570872, 'train_loss': 4077.11809}}\n",
      "2023-01-02 20:10:08,586 (server:496)INFO: {'Role': 'Server #', 'Round': 6, 'Results_avg': {'test_avg_loss': 4.290463, 'test_total': 113.0, 'test_imp_ratio': -364.185161, 'test_loss': 484.822327, 'val_avg_loss': 3.400657, 'val_total': 113.0, 'val_imp_ratio': -267.917063, 'val_loss': 384.274253}}\n",
      "2023-01-02 20:10:08,587 (monitor:513)INFO: current_best=-269.867205, should_save=False\n",
      "2023-01-02 20:10:08,588 (monitor:513)INFO: current_best=-267.917063, should_save=True\n",
      "2023-01-02 20:10:08,595 (server:323)INFO: Server #0: Starting evaluation at the end of round 6.\n",
      "2023-01-02 20:10:08,601 (server:330)INFO: ----------- Starting a new training round (Round #7) -------------\n"
     ]
    },
    {
     "name": "stdout",
     "output_type": "stream",
     "text": [
      "vae_loss: 0.9521657228469849\n",
      "vae_loss: 0.9409846067428589\n",
      "vae_loss: 0.8978449106216431\n",
      "vae_loss: 0.890436053276062\n",
      "vae_loss: 0.9034754633903503\n",
      "vae_loss: 0.9264234304428101\n",
      "vae_loss: 0.9602003693580627\n",
      "vae_loss: 0.9080485701560974\n",
      "vae_loss: 0.8785728216171265\n"
     ]
    },
    {
     "name": "stderr",
     "output_type": "stream",
     "text": [
      "2023-01-02 20:10:08,675 (client:410)INFO: {'Role': 'Client #1', 'Round': 7, 'Results_raw': {'test_avg_loss': 3.83023, 'test_total': 113, 'test_imp_ratio': -314.392539, 'test_loss': 432.81602, 'val_avg_loss': 3.210936, 'val_total': 113, 'val_imp_ratio': -247.391089, 'val_loss': 362.835721}}\n",
      "2023-01-02 20:10:08,677 (monitor:513)INFO: current_best=-247.391089, should_save=True\n",
      "2023-01-02 20:10:08,678 (client:431)INFO: Client: #1, val_imp_ratio: -247.391089. model saved at exp/test_dir/Graph-DT-FedAvg_gin_on_graph-dt_lr0.1_lstep1_/sub_exp_20230102200809/model1.pth\n"
     ]
    },
    {
     "name": "stdout",
     "output_type": "stream",
     "text": [
      "vae_loss: 0.8859649896621704\n",
      "vae_loss: 0.8923946022987366\n",
      "vae_loss: 0.9063377380371094\n",
      "vae_loss: 0.8894661664962769\n",
      "vae_loss: 0.8923401236534119\n",
      "vae_loss: 0.879702091217041\n",
      "vae_loss: 0.8654431104660034\n",
      "vae_loss: 0.8969055414199829\n",
      "vae_loss: 0.8667341470718384\n",
      "vae_loss: 0.8871499300003052\n",
      "vae_loss: 0.8663297891616821\n"
     ]
    },
    {
     "name": "stderr",
     "output_type": "stream",
     "text": [
      "2023-01-02 20:10:08,993 (client:255)INFO: {'Role': 'Client #1', 'Round': 7, 'Results_raw': {'train_avg_loss': 4.418999, 'train_total': 901, 'train_imp_ratio': -378.091442, 'train_loss': 3981.518274}}\n",
      "2023-01-02 20:10:08,999 (server:496)INFO: {'Role': 'Server #', 'Round': 7, 'Results_avg': {'test_avg_loss': 3.83023, 'test_total': 113.0, 'test_imp_ratio': -314.392539, 'test_loss': 432.81602, 'val_avg_loss': 3.210936, 'val_total': 113.0, 'val_imp_ratio': -247.391089, 'val_loss': 362.835721}}\n",
      "2023-01-02 20:10:09,000 (monitor:513)INFO: current_best=-267.917063, should_save=False\n",
      "2023-01-02 20:10:09,001 (monitor:513)INFO: current_best=-247.391089, should_save=True\n",
      "2023-01-02 20:10:09,007 (server:323)INFO: Server #0: Starting evaluation at the end of round 7.\n",
      "2023-01-02 20:10:09,014 (server:330)INFO: ----------- Starting a new training round (Round #8) -------------\n"
     ]
    },
    {
     "name": "stdout",
     "output_type": "stream",
     "text": [
      "vae_loss: 0.8882453441619873\n",
      "vae_loss: 0.8473125696182251\n",
      "vae_loss: 0.8690125942230225\n",
      "vae_loss: 0.8420278429985046\n",
      "vae_loss: 0.8633383512496948\n",
      "vae_loss: 0.8574648499488831\n",
      "vae_loss: 0.8568166494369507\n",
      "vae_loss: 0.8181805610656738\n",
      "vae_loss: 0.8317800164222717\n"
     ]
    },
    {
     "name": "stderr",
     "output_type": "stream",
     "text": [
      "2023-01-02 20:10:09,092 (client:410)INFO: {'Role': 'Client #1', 'Round': 8, 'Results_raw': {'test_avg_loss': 4.031907, 'test_total': 113, 'test_imp_ratio': -336.211953, 'test_loss': 455.605483, 'val_avg_loss': 3.170492, 'val_total': 113, 'val_imp_ratio': -243.015464, 'val_loss': 358.265621}}\n",
      "2023-01-02 20:10:09,093 (monitor:513)INFO: current_best=-243.015464, should_save=True\n",
      "2023-01-02 20:10:09,094 (client:431)INFO: Client: #1, val_imp_ratio: -243.015464. model saved at exp/test_dir/Graph-DT-FedAvg_gin_on_graph-dt_lr0.1_lstep1_/sub_exp_20230102200809/model1.pth\n"
     ]
    },
    {
     "name": "stdout",
     "output_type": "stream",
     "text": [
      "vae_loss: 0.8358407020568848\n",
      "vae_loss: 0.860514760017395\n",
      "vae_loss: 0.8373560905456543\n",
      "vae_loss: 0.8454875946044922\n",
      "vae_loss: 0.8132339119911194\n",
      "vae_loss: 0.8226714134216309\n",
      "vae_loss: 0.8301635980606079\n",
      "vae_loss: 0.8199605941772461\n",
      "vae_loss: 0.8201515078544617\n",
      "vae_loss: 0.8373231887817383\n",
      "vae_loss: 0.8041759133338928\n"
     ]
    },
    {
     "name": "stderr",
     "output_type": "stream",
     "text": [
      "2023-01-02 20:10:09,397 (client:255)INFO: {'Role': 'Client #1', 'Round': 8, 'Results_raw': {'train_avg_loss': 4.267634, 'train_total': 901, 'train_imp_ratio': -361.715183, 'train_loss': 3845.137826}}\n",
      "2023-01-02 20:10:09,404 (server:496)INFO: {'Role': 'Server #', 'Round': 8, 'Results_avg': {'test_avg_loss': 4.031907, 'test_total': 113.0, 'test_imp_ratio': -336.211953, 'test_loss': 455.605483, 'val_avg_loss': 3.170492, 'val_total': 113.0, 'val_imp_ratio': -243.015464, 'val_loss': 358.265621}}\n",
      "2023-01-02 20:10:09,405 (monitor:513)INFO: current_best=-247.391089, should_save=False\n",
      "2023-01-02 20:10:09,407 (monitor:513)INFO: current_best=-243.015464, should_save=True\n",
      "2023-01-02 20:10:09,418 (server:323)INFO: Server #0: Starting evaluation at the end of round 8.\n",
      "2023-01-02 20:10:09,424 (server:330)INFO: ----------- Starting a new training round (Round #9) -------------\n",
      "2023-01-02 20:10:09,496 (client:410)INFO: {'Role': 'Client #1', 'Round': 9, 'Results_raw': {'test_avg_loss': 4.172378, 'test_total': 113, 'test_imp_ratio': -351.409506, 'test_loss': 471.478749, 'val_avg_loss': 3.07618, 'val_total': 113, 'val_imp_ratio': -232.81183, 'val_loss': 347.608316}}\n",
      "2023-01-02 20:10:09,497 (monitor:513)INFO: current_best=-232.81183, should_save=True\n",
      "2023-01-02 20:10:09,498 (client:431)INFO: Client: #1, val_imp_ratio: -232.81183. model saved at exp/test_dir/Graph-DT-FedAvg_gin_on_graph-dt_lr0.1_lstep1_/sub_exp_20230102200809/model1.pth\n"
     ]
    },
    {
     "name": "stdout",
     "output_type": "stream",
     "text": [
      "vae_loss: 0.7971720695495605\n",
      "vae_loss: 0.8216216564178467\n",
      "vae_loss: 0.8194956183433533\n",
      "vae_loss: 0.8039261102676392\n",
      "vae_loss: 0.806287944316864\n",
      "vae_loss: 0.8098366260528564\n",
      "vae_loss: 0.7812317609786987\n",
      "vae_loss: 0.7810439467430115\n",
      "vae_loss: 0.7877851724624634\n",
      "vae_loss: 0.7906754016876221\n",
      "vae_loss: 0.7886354923248291\n",
      "vae_loss: 0.7948180437088013\n",
      "vae_loss: 0.8018203973770142\n",
      "vae_loss: 0.754508376121521\n",
      "vae_loss: 0.7775391340255737\n",
      "vae_loss: 0.758912205696106\n",
      "vae_loss: 0.7623846530914307\n",
      "vae_loss: 0.7869130373001099\n",
      "vae_loss: 0.7839646339416504\n",
      "vae_loss: 0.7855475544929504\n",
      "vae_loss: 0.7655913829803467\n"
     ]
    },
    {
     "name": "stderr",
     "output_type": "stream",
     "text": [
      "2023-01-02 20:10:09,827 (client:255)INFO: {'Role': 'Client #1', 'Round': 9, 'Results_raw': {'train_avg_loss': 4.421229, 'train_total': 901, 'train_imp_ratio': -378.332723, 'train_loss': 3983.527372}}\n",
      "2023-01-02 20:10:09,834 (server:496)INFO: {'Role': 'Server #', 'Round': 9, 'Results_avg': {'test_avg_loss': 4.172378, 'test_total': 113.0, 'test_imp_ratio': -351.409506, 'test_loss': 471.478749, 'val_avg_loss': 3.07618, 'val_total': 113.0, 'val_imp_ratio': -232.81183, 'val_loss': 347.608316}}\n",
      "2023-01-02 20:10:09,836 (monitor:513)INFO: current_best=-243.015464, should_save=False\n",
      "2023-01-02 20:10:09,837 (monitor:513)INFO: current_best=-232.81183, should_save=True\n",
      "2023-01-02 20:10:09,844 (server:323)INFO: Server #0: Starting evaluation at the end of round 9.\n",
      "2023-01-02 20:10:09,851 (server:330)INFO: ----------- Starting a new training round (Round #10) -------------\n",
      "2023-01-02 20:10:09,930 (client:410)INFO: {'Role': 'Client #1', 'Round': 10, 'Results_raw': {'test_avg_loss': 3.737632, 'test_total': 113, 'test_imp_ratio': -304.374315, 'test_loss': 422.352397, 'val_avg_loss': 3.048217, 'val_total': 113, 'val_imp_ratio': -229.786599, 'val_loss': 344.448571}}\n",
      "2023-01-02 20:10:09,931 (monitor:513)INFO: current_best=-229.786599, should_save=True\n",
      "2023-01-02 20:10:09,933 (client:431)INFO: Client: #1, val_imp_ratio: -229.786599. model saved at exp/test_dir/Graph-DT-FedAvg_gin_on_graph-dt_lr0.1_lstep1_/sub_exp_20230102200809/model1.pth\n"
     ]
    },
    {
     "name": "stdout",
     "output_type": "stream",
     "text": [
      "vae_loss: 0.7759443521499634\n",
      "vae_loss: 0.7662328481674194\n",
      "vae_loss: 0.8729968070983887\n",
      "vae_loss: 0.7758278250694275\n",
      "vae_loss: 0.7366661429405212\n",
      "vae_loss: 0.7492585182189941\n",
      "vae_loss: 0.7449232935905457\n",
      "vae_loss: 0.7467274069786072\n",
      "vae_loss: 0.7563823461532593\n",
      "vae_loss: 0.7563285827636719\n",
      "vae_loss: 0.7444924712181091\n",
      "vae_loss: 0.7379178404808044\n",
      "vae_loss: 0.7545850276947021\n",
      "vae_loss: 0.7470812797546387\n",
      "vae_loss: 0.7252489328384399\n",
      "vae_loss: 0.7577707767486572\n",
      "vae_loss: 0.7337409257888794\n",
      "vae_loss: 0.7780979871749878\n",
      "vae_loss: 0.7157173752784729\n",
      "vae_loss: 0.7411707639694214\n"
     ]
    },
    {
     "name": "stderr",
     "output_type": "stream",
     "text": [
      "2023-01-02 20:10:10,233 (client:255)INFO: {'Role': 'Client #1', 'Round': 10, 'Results_raw': {'train_avg_loss': 4.175659, 'train_total': 901, 'train_imp_ratio': -351.76449, 'train_loss': 3762.269089}}\n",
      "2023-01-02 20:10:10,237 (server:496)INFO: {'Role': 'Server #', 'Round': 10, 'Results_avg': {'test_avg_loss': 3.737632, 'test_total': 113.0, 'test_imp_ratio': -304.374315, 'test_loss': 422.352397, 'val_avg_loss': 3.048217, 'val_total': 113.0, 'val_imp_ratio': -229.786599, 'val_loss': 344.448571}}\n",
      "2023-01-02 20:10:10,238 (monitor:513)INFO: current_best=-232.81183, should_save=False\n",
      "2023-01-02 20:10:10,239 (monitor:513)INFO: current_best=-229.786599, should_save=True\n",
      "2023-01-02 20:10:10,245 (server:323)INFO: Server #0: Starting evaluation at the end of round 10.\n",
      "2023-01-02 20:10:10,255 (server:330)INFO: ----------- Starting a new training round (Round #11) -------------\n",
      "2023-01-02 20:10:10,332 (client:410)INFO: {'Role': 'Client #1', 'Round': 11, 'Results_raw': {'test_avg_loss': 4.234879, 'test_total': 113, 'test_imp_ratio': -358.171431, 'test_loss': 478.54128, 'val_avg_loss': 3.226111, 'val_total': 113, 'val_imp_ratio': -249.032934, 'val_loss': 364.550595}}\n",
      "2023-01-02 20:10:10,333 (monitor:513)INFO: current_best=-229.786599, should_save=False\n"
     ]
    },
    {
     "name": "stdout",
     "output_type": "stream",
     "text": [
      "vae_loss: 0.7251856327056885\n",
      "vae_loss: 0.6542133092880249\n",
      "vae_loss: 0.7291070222854614\n",
      "vae_loss: 0.6955821514129639\n",
      "vae_loss: 0.7175239324569702\n",
      "vae_loss: 0.7249648571014404\n",
      "vae_loss: 0.7204552888870239\n",
      "vae_loss: 0.718158483505249\n",
      "vae_loss: 0.7006147503852844\n",
      "vae_loss: 0.7122609615325928\n",
      "vae_loss: 0.7149962186813354\n",
      "vae_loss: 0.7363519072532654\n",
      "vae_loss: 0.667156457901001\n",
      "vae_loss: 0.7012937068939209\n",
      "vae_loss: 0.7115517854690552\n",
      "vae_loss: 0.744390606880188\n",
      "vae_loss: 0.7173371315002441\n",
      "vae_loss: 0.7204972505569458\n",
      "vae_loss: 0.6968433260917664\n",
      "vae_loss: 0.7009705305099487\n",
      "vae_loss: 0.6954236626625061\n"
     ]
    },
    {
     "name": "stderr",
     "output_type": "stream",
     "text": [
      "2023-01-02 20:10:10,621 (client:255)INFO: {'Role': 'Client #1', 'Round': 11, 'Results_raw': {'train_avg_loss': 4.407674, 'train_total': 901, 'train_imp_ratio': -376.866203, 'train_loss': 3971.314721}}\n",
      "2023-01-02 20:10:10,625 (server:496)INFO: {'Role': 'Server #', 'Round': 11, 'Results_avg': {'test_avg_loss': 4.234879, 'test_total': 113.0, 'test_imp_ratio': -358.171431, 'test_loss': 478.54128, 'val_avg_loss': 3.226111, 'val_total': 113.0, 'val_imp_ratio': -249.032934, 'val_loss': 364.550595}}\n",
      "2023-01-02 20:10:10,626 (monitor:513)INFO: current_best=-229.786599, should_save=False\n",
      "2023-01-02 20:10:10,628 (monitor:513)INFO: current_best=-229.786599, should_save=False\n",
      "2023-01-02 20:10:10,635 (server:323)INFO: Server #0: Starting evaluation at the end of round 11.\n",
      "2023-01-02 20:10:10,644 (server:330)INFO: ----------- Starting a new training round (Round #12) -------------\n",
      "2023-01-02 20:10:10,719 (client:410)INFO: {'Role': 'Client #1', 'Round': 12, 'Results_raw': {'test_avg_loss': 4.258041, 'test_total': 113, 'test_imp_ratio': -360.677367, 'test_loss': 481.158589, 'val_avg_loss': 3.328442, 'val_total': 113, 'val_imp_ratio': -260.104089, 'val_loss': 376.113917}}\n",
      "2023-01-02 20:10:10,720 (monitor:513)INFO: current_best=-229.786599, should_save=False\n"
     ]
    },
    {
     "name": "stdout",
     "output_type": "stream",
     "text": [
      "vae_loss: 0.7042719125747681\n",
      "vae_loss: 0.6798736453056335\n",
      "vae_loss: 0.687637448310852\n",
      "vae_loss: 0.6906928420066833\n",
      "vae_loss: 0.685429573059082\n",
      "vae_loss: 0.7088721990585327\n",
      "vae_loss: 0.6873583197593689\n",
      "vae_loss: 0.7098439931869507\n",
      "vae_loss: 0.6576964259147644\n",
      "vae_loss: 0.6951755285263062\n",
      "vae_loss: 0.6888409852981567\n"
     ]
    },
    {
     "name": "stderr",
     "output_type": "stream",
     "text": [
      "2023-01-02 20:10:11,012 (client:255)INFO: {'Role': 'Client #1', 'Round': 12, 'Results_raw': {'train_avg_loss': 4.257431, 'train_total': 901, 'train_imp_ratio': -360.611385, 'train_loss': 3835.94536}}\n",
      "2023-01-02 20:10:11,017 (server:496)INFO: {'Role': 'Server #', 'Round': 12, 'Results_avg': {'test_avg_loss': 4.258041, 'test_total': 113.0, 'test_imp_ratio': -360.677367, 'test_loss': 481.158589, 'val_avg_loss': 3.328442, 'val_total': 113.0, 'val_imp_ratio': -260.104089, 'val_loss': 376.113917}}\n",
      "2023-01-02 20:10:11,018 (monitor:513)INFO: current_best=-229.786599, should_save=False\n",
      "2023-01-02 20:10:11,018 (monitor:513)INFO: current_best=-229.786599, should_save=False\n",
      "2023-01-02 20:10:11,023 (server:323)INFO: Server #0: Starting evaluation at the end of round 12.\n",
      "2023-01-02 20:10:11,029 (server:330)INFO: ----------- Starting a new training round (Round #13) -------------\n"
     ]
    },
    {
     "name": "stdout",
     "output_type": "stream",
     "text": [
      "vae_loss: 0.6678789854049683\n",
      "vae_loss: 0.6897892951965332\n",
      "vae_loss: 0.6947852373123169\n",
      "vae_loss: 0.6757307052612305\n",
      "vae_loss: 0.6904768943786621\n",
      "vae_loss: 0.667686402797699\n",
      "vae_loss: 0.6568807363510132\n",
      "vae_loss: 0.6633870601654053\n",
      "vae_loss: 0.6739761829376221\n",
      "vae_loss: 0.6475636959075928\n"
     ]
    },
    {
     "name": "stderr",
     "output_type": "stream",
     "text": [
      "2023-01-02 20:10:11,111 (client:410)INFO: {'Role': 'Client #1', 'Round': 13, 'Results_raw': {'test_avg_loss': 3.893309, 'test_total': 113, 'test_imp_ratio': -321.217042, 'test_loss': 439.943915, 'val_avg_loss': 3.075894, 'val_total': 113, 'val_imp_ratio': -232.780876, 'val_loss': 347.575981}}\n",
      "2023-01-02 20:10:11,112 (monitor:513)INFO: current_best=-229.786599, should_save=False\n"
     ]
    },
    {
     "name": "stdout",
     "output_type": "stream",
     "text": [
      "vae_loss: 0.6578072309494019\n",
      "vae_loss: 0.6668038368225098\n",
      "vae_loss: 0.6557222008705139\n",
      "vae_loss: 0.6699230670928955\n",
      "vae_loss: 0.646564781665802\n",
      "vae_loss: 0.7059615850448608\n",
      "vae_loss: 0.6669942140579224\n",
      "vae_loss: 0.6515012979507446\n",
      "vae_loss: 0.638547956943512\n",
      "vae_loss: 0.6486059427261353\n",
      "vae_loss: 0.6525646448135376\n",
      "vae_loss: 0.6435599327087402\n"
     ]
    },
    {
     "name": "stderr",
     "output_type": "stream",
     "text": [
      "2023-01-02 20:10:11,381 (client:255)INFO: {'Role': 'Client #1', 'Round': 13, 'Results_raw': {'train_avg_loss': 4.142913, 'train_total': 901, 'train_imp_ratio': -348.221667, 'train_loss': 3732.764997}}\n",
      "2023-01-02 20:10:11,385 (server:496)INFO: {'Role': 'Server #', 'Round': 13, 'Results_avg': {'test_avg_loss': 3.893309, 'test_total': 113.0, 'test_imp_ratio': -321.217042, 'test_loss': 439.943915, 'val_avg_loss': 3.075894, 'val_total': 113.0, 'val_imp_ratio': -232.780876, 'val_loss': 347.575981}}\n",
      "2023-01-02 20:10:11,386 (monitor:513)INFO: current_best=-229.786599, should_save=False\n",
      "2023-01-02 20:10:11,387 (monitor:513)INFO: current_best=-229.786599, should_save=False\n",
      "2023-01-02 20:10:11,392 (server:323)INFO: Server #0: Starting evaluation at the end of round 13.\n",
      "2023-01-02 20:10:11,399 (server:330)INFO: ----------- Starting a new training round (Round #14) -------------\n",
      "2023-01-02 20:10:11,480 (client:410)INFO: {'Role': 'Client #1', 'Round': 14, 'Results_raw': {'test_avg_loss': 3.789778, 'test_total': 113, 'test_imp_ratio': -310.015986, 'test_loss': 428.244858, 'val_avg_loss': 2.999818, 'val_total': 113, 'val_imp_ratio': -224.550315, 'val_loss': 338.979488}}\n",
      "2023-01-02 20:10:11,481 (monitor:513)INFO: current_best=-224.550315, should_save=True\n",
      "2023-01-02 20:10:11,482 (client:431)INFO: Client: #1, val_imp_ratio: -224.550315. model saved at exp/test_dir/Graph-DT-FedAvg_gin_on_graph-dt_lr0.1_lstep1_/sub_exp_20230102200809/model1.pth\n"
     ]
    },
    {
     "name": "stdout",
     "output_type": "stream",
     "text": [
      "vae_loss: 0.6391477584838867\n",
      "vae_loss: 0.6599360704421997\n",
      "vae_loss: 0.6530167460441589\n",
      "vae_loss: 0.6379379630088806\n",
      "vae_loss: 0.6200485825538635\n",
      "vae_loss: 0.6490732431411743\n",
      "vae_loss: 0.6204738616943359\n",
      "vae_loss: 0.6293318867683411\n",
      "vae_loss: 0.6460052728652954\n",
      "vae_loss: 0.6609477996826172\n",
      "vae_loss: 0.6335704326629639\n",
      "vae_loss: 0.660769522190094\n",
      "vae_loss: 0.642571747303009\n",
      "vae_loss: 0.6347597241401672\n",
      "vae_loss: 0.6305642127990723\n",
      "vae_loss: 0.627913236618042\n",
      "vae_loss: 0.6189965009689331\n",
      "vae_loss: 0.6320853233337402\n",
      "vae_loss: 0.6260329484939575\n",
      "vae_loss: 0.6241419315338135\n",
      "vae_loss: 0.632037878036499\n",
      "vae_loss: 0.6001513004302979\n",
      "vae_loss: 0.634279727935791\n",
      "vae_loss: 0.6207771301269531\n"
     ]
    },
    {
     "name": "stderr",
     "output_type": "stream",
     "text": [
      "2023-01-02 20:10:11,735 (client:255)INFO: {'Role': 'Client #1', 'Round': 14, 'Results_raw': {'train_avg_loss': 4.163224, 'train_total': 901, 'train_imp_ratio': -350.4191, 'train_loss': 3751.064593}}\n",
      "2023-01-02 20:10:11,743 (server:496)INFO: {'Role': 'Server #', 'Round': 14, 'Results_avg': {'test_avg_loss': 3.789778, 'test_total': 113.0, 'test_imp_ratio': -310.015986, 'test_loss': 428.244858, 'val_avg_loss': 2.999818, 'val_total': 113.0, 'val_imp_ratio': -224.550315, 'val_loss': 338.979488}}\n",
      "2023-01-02 20:10:11,744 (monitor:513)INFO: current_best=-229.786599, should_save=False\n",
      "2023-01-02 20:10:11,745 (monitor:513)INFO: current_best=-224.550315, should_save=True\n",
      "2023-01-02 20:10:11,751 (server:323)INFO: Server #0: Starting evaluation at the end of round 14.\n",
      "2023-01-02 20:10:11,758 (server:330)INFO: ----------- Starting a new training round (Round #15) -------------\n",
      "2023-01-02 20:10:11,835 (client:410)INFO: {'Role': 'Client #1', 'Round': 15, 'Results_raw': {'test_avg_loss': 3.597029, 'test_total': 113, 'test_imp_ratio': -289.162472, 'test_loss': 406.464262, 'val_avg_loss': 3.207163, 'val_total': 113, 'val_imp_ratio': -246.982891, 'val_loss': 362.409392}}\n",
      "2023-01-02 20:10:11,837 (monitor:513)INFO: current_best=-224.550315, should_save=False\n"
     ]
    },
    {
     "name": "stdout",
     "output_type": "stream",
     "text": [
      "vae_loss: 0.6225284337997437\n",
      "vae_loss: 0.5966797471046448\n",
      "vae_loss: 0.601210355758667\n",
      "vae_loss: 0.6096673011779785\n",
      "vae_loss: 0.6245971918106079\n",
      "vae_loss: 0.6417801380157471\n",
      "vae_loss: 0.6274378299713135\n",
      "vae_loss: 0.5959758758544922\n",
      "vae_loss: 0.6170258522033691\n",
      "vae_loss: 0.6058237552642822\n",
      "vae_loss: 0.6232653856277466\n",
      "vae_loss: 0.6079338788986206\n",
      "vae_loss: 0.5910509824752808\n"
     ]
    },
    {
     "name": "stderr",
     "output_type": "stream",
     "text": [
      "2023-01-02 20:10:12,107 (client:255)INFO: {'Role': 'Client #1', 'Round': 15, 'Results_raw': {'train_avg_loss': 4.24123, 'train_total': 901, 'train_imp_ratio': -358.858648, 'train_loss': 3821.348658}}\n",
      "2023-01-02 20:10:12,112 (server:496)INFO: {'Role': 'Server #', 'Round': 15, 'Results_avg': {'test_avg_loss': 3.597029, 'test_total': 113.0, 'test_imp_ratio': -289.162472, 'test_loss': 406.464262, 'val_avg_loss': 3.207163, 'val_total': 113.0, 'val_imp_ratio': -246.982891, 'val_loss': 362.409392}}\n",
      "2023-01-02 20:10:12,113 (monitor:513)INFO: current_best=-224.550315, should_save=False\n",
      "2023-01-02 20:10:12,114 (monitor:513)INFO: current_best=-224.550315, should_save=False\n",
      "2023-01-02 20:10:12,119 (server:323)INFO: Server #0: Starting evaluation at the end of round 15.\n",
      "2023-01-02 20:10:12,125 (server:330)INFO: ----------- Starting a new training round (Round #16) -------------\n",
      "2023-01-02 20:10:12,202 (client:410)INFO: {'Role': 'Client #1', 'Round': 16, 'Results_raw': {'test_avg_loss': 3.66732, 'test_total': 113, 'test_imp_ratio': -296.767285, 'test_loss': 414.407157, 'val_avg_loss': 3.394364, 'val_total': 113, 'val_imp_ratio': -267.236166, 'val_loss': 383.563093}}\n",
      "2023-01-02 20:10:12,204 (monitor:513)INFO: current_best=-224.550315, should_save=False\n"
     ]
    },
    {
     "name": "stdout",
     "output_type": "stream",
     "text": [
      "vae_loss: 0.5903841257095337\n",
      "vae_loss: 0.6355752944946289\n",
      "vae_loss: 0.6165966987609863\n",
      "vae_loss: 0.5920553207397461\n",
      "vae_loss: 0.6076411604881287\n",
      "vae_loss: 0.5294122695922852\n",
      "vae_loss: 0.615215539932251\n",
      "vae_loss: 0.58174729347229\n",
      "vae_loss: 0.5893445611000061\n",
      "vae_loss: 0.5947679281234741\n",
      "vae_loss: 0.5708612203598022\n",
      "vae_loss: 0.6182072162628174\n",
      "vae_loss: 0.5974445343017578\n",
      "vae_loss: 0.5880016088485718\n",
      "vae_loss: 0.6063395142555237\n",
      "vae_loss: 0.5779043436050415\n",
      "vae_loss: 0.6230604648590088\n",
      "vae_loss: 0.5835597515106201\n",
      "vae_loss: 0.6000468134880066\n",
      "vae_loss: 0.5846898555755615\n",
      "vae_loss: 0.5883525013923645\n",
      "vae_loss: 0.5818281173706055\n"
     ]
    },
    {
     "name": "stderr",
     "output_type": "stream",
     "text": [
      "2023-01-02 20:10:12,495 (client:255)INFO: {'Role': 'Client #1', 'Round': 16, 'Results_raw': {'train_avg_loss': 4.027591, 'train_total': 901, 'train_imp_ratio': -335.745021, 'train_loss': 3628.859733}}\n",
      "2023-01-02 20:10:12,500 (server:496)INFO: {'Role': 'Server #', 'Round': 16, 'Results_avg': {'test_avg_loss': 3.66732, 'test_total': 113.0, 'test_imp_ratio': -296.767285, 'test_loss': 414.407157, 'val_avg_loss': 3.394364, 'val_total': 113.0, 'val_imp_ratio': -267.236166, 'val_loss': 383.563093}}\n",
      "2023-01-02 20:10:12,502 (monitor:513)INFO: current_best=-224.550315, should_save=False\n",
      "2023-01-02 20:10:12,503 (monitor:513)INFO: current_best=-224.550315, should_save=False\n",
      "2023-01-02 20:10:12,509 (server:323)INFO: Server #0: Starting evaluation at the end of round 16.\n",
      "2023-01-02 20:10:12,516 (server:330)INFO: ----------- Starting a new training round (Round #17) -------------\n",
      "2023-01-02 20:10:12,605 (client:410)INFO: {'Role': 'Client #1', 'Round': 17, 'Results_raw': {'test_avg_loss': 3.822087, 'test_total': 113, 'test_imp_ratio': -313.511553, 'test_loss': 431.895847, 'val_avg_loss': 3.048715, 'val_total': 113, 'val_imp_ratio': -229.840381, 'val_loss': 344.504778}}\n",
      "2023-01-02 20:10:12,606 (monitor:513)INFO: current_best=-224.550315, should_save=False\n"
     ]
    },
    {
     "name": "stdout",
     "output_type": "stream",
     "text": [
      "vae_loss: 0.5768054723739624\n",
      "vae_loss: 0.5952586531639099\n",
      "vae_loss: 0.5218903422355652\n",
      "vae_loss: 0.5920112133026123\n",
      "vae_loss: 0.5590109825134277\n",
      "vae_loss: 0.5694231986999512\n",
      "vae_loss: 0.5783277750015259\n",
      "vae_loss: 0.5776058435440063\n",
      "vae_loss: 0.579942524433136\n",
      "vae_loss: 0.5908066034317017\n",
      "vae_loss: 0.5804526805877686\n",
      "vae_loss: 0.5460772514343262\n",
      "vae_loss: 0.5857481956481934\n",
      "vae_loss: 0.5886847972869873\n",
      "vae_loss: 0.5779427289962769\n",
      "vae_loss: 0.5466443300247192\n",
      "vae_loss: 0.5527700185775757\n",
      "vae_loss: 0.5794460773468018\n",
      "vae_loss: 0.5914424061775208\n",
      "vae_loss: 0.5504163503646851\n"
     ]
    },
    {
     "name": "stderr",
     "output_type": "stream",
     "text": [
      "2023-01-02 20:10:12,898 (client:255)INFO: {'Role': 'Client #1', 'Round': 17, 'Results_raw': {'train_avg_loss': 3.946979, 'train_total': 901, 'train_imp_ratio': -327.023642, 'train_loss': 3556.228504}}\n",
      "2023-01-02 20:10:12,903 (server:496)INFO: {'Role': 'Server #', 'Round': 17, 'Results_avg': {'test_avg_loss': 3.822087, 'test_total': 113.0, 'test_imp_ratio': -313.511553, 'test_loss': 431.895847, 'val_avg_loss': 3.048715, 'val_total': 113.0, 'val_imp_ratio': -229.840381, 'val_loss': 344.504778}}\n",
      "2023-01-02 20:10:12,904 (monitor:513)INFO: current_best=-224.550315, should_save=False\n",
      "2023-01-02 20:10:12,905 (monitor:513)INFO: current_best=-224.550315, should_save=False\n",
      "2023-01-02 20:10:12,911 (server:323)INFO: Server #0: Starting evaluation at the end of round 17.\n",
      "2023-01-02 20:10:12,919 (server:330)INFO: ----------- Starting a new training round (Round #18) -------------\n",
      "2023-01-02 20:10:13,004 (client:410)INFO: {'Role': 'Client #1', 'Round': 18, 'Results_raw': {'test_avg_loss': 3.865243, 'test_total': 113, 'test_imp_ratio': -318.180513, 'test_loss': 436.772421, 'val_avg_loss': 3.181655, 'val_total': 113, 'val_imp_ratio': -244.223188, 'val_loss': 359.527008}}\n",
      "2023-01-02 20:10:13,006 (monitor:513)INFO: current_best=-224.550315, should_save=False\n"
     ]
    },
    {
     "name": "stdout",
     "output_type": "stream",
     "text": [
      "vae_loss: 0.5897725224494934\n",
      "vae_loss: 0.4402390718460083\n",
      "vae_loss: 0.5728105306625366\n",
      "vae_loss: 0.5396099090576172\n",
      "vae_loss: 0.5530278086662292\n",
      "vae_loss: 0.5578660368919373\n",
      "vae_loss: 0.6007459163665771\n",
      "vae_loss: 0.5336509943008423\n",
      "vae_loss: 0.5575377941131592\n",
      "vae_loss: 0.5755413770675659\n",
      "vae_loss: 0.5714236497879028\n",
      "vae_loss: 0.5555725693702698\n",
      "vae_loss: 0.559585690498352\n",
      "vae_loss: 0.5609039068222046\n"
     ]
    },
    {
     "name": "stderr",
     "output_type": "stream",
     "text": [
      "2023-01-02 20:12:36,749 (client:255)INFO: {'Role': 'Client #1', 'Round': 18, 'Results_raw': {'train_avg_loss': 4.001206, 'train_total': 901, 'train_imp_ratio': -332.890395, 'train_loss': 3605.086458}}\n",
      "2023-01-02 20:12:36,754 (server:496)INFO: {'Role': 'Server #', 'Round': 18, 'Results_avg': {'test_avg_loss': 3.865243, 'test_total': 113.0, 'test_imp_ratio': -318.180513, 'test_loss': 436.772421, 'val_avg_loss': 3.181655, 'val_total': 113.0, 'val_imp_ratio': -244.223188, 'val_loss': 359.527008}}\n",
      "2023-01-02 20:12:36,756 (monitor:513)INFO: current_best=-224.550315, should_save=False\n",
      "2023-01-02 20:12:36,757 (monitor:513)INFO: current_best=-224.550315, should_save=False\n",
      "2023-01-02 20:12:36,764 (server:323)INFO: Server #0: Starting evaluation at the end of round 18.\n",
      "2023-01-02 20:12:36,771 (server:330)INFO: ----------- Starting a new training round (Round #19) -------------\n"
     ]
    },
    {
     "name": "stdout",
     "output_type": "stream",
     "text": [
      "vae_loss: 0.5449039936065674\n",
      "vae_loss: 0.5618305206298828\n",
      "vae_loss: 0.5684228539466858\n",
      "vae_loss: 0.5328094363212585\n",
      "vae_loss: 0.5487216711044312\n",
      "vae_loss: 0.5467280149459839\n",
      "vae_loss: 0.44922545552253723\n",
      "vae_loss: 0.5545453429222107\n",
      "vae_loss: 0.5310903787612915\n"
     ]
    },
    {
     "name": "stderr",
     "output_type": "stream",
     "text": [
      "2023-01-02 20:12:36,854 (client:410)INFO: {'Role': 'Client #1', 'Round': 19, 'Results_raw': {'test_avg_loss': 3.753708, 'test_total': 113, 'test_imp_ratio': -306.113665, 'test_loss': 424.169033, 'val_avg_loss': 2.931642, 'val_total': 113, 'val_imp_ratio': -217.174223, 'val_loss': 331.275506}}\n",
      "2023-01-02 20:12:36,855 (monitor:513)INFO: current_best=-217.174223, should_save=True\n",
      "2023-01-02 20:12:36,856 (client:431)INFO: Client: #1, val_imp_ratio: -217.174223. model saved at exp/test_dir/Graph-DT-FedAvg_gin_on_graph-dt_lr0.1_lstep1_/sub_exp_20230102200809/model1.pth\n"
     ]
    },
    {
     "name": "stdout",
     "output_type": "stream",
     "text": [
      "vae_loss: 0.5401385426521301\n",
      "vae_loss: 0.544624388217926\n",
      "vae_loss: 0.5387236475944519\n",
      "vae_loss: 0.533815860748291\n",
      "vae_loss: 0.5732144713401794\n",
      "vae_loss: 0.5380614995956421\n",
      "vae_loss: 0.5483344197273254\n",
      "vae_loss: 0.5392524003982544\n",
      "vae_loss: 0.529274582862854\n"
     ]
    },
    {
     "name": "stderr",
     "output_type": "stream",
     "text": [
      "2023-01-02 20:12:37,181 (client:255)INFO: {'Role': 'Client #1', 'Round': 19, 'Results_raw': {'train_avg_loss': 4.004772, 'train_total': 901, 'train_imp_ratio': -333.276178, 'train_loss': 3608.299287}}\n",
      "2023-01-02 20:12:37,185 (server:496)INFO: {'Role': 'Server #', 'Round': 19, 'Results_avg': {'test_avg_loss': 3.753708, 'test_total': 113.0, 'test_imp_ratio': -306.113665, 'test_loss': 424.169033, 'val_avg_loss': 2.931642, 'val_total': 113.0, 'val_imp_ratio': -217.174223, 'val_loss': 331.275506}}\n",
      "2023-01-02 20:12:37,186 (monitor:513)INFO: current_best=-224.550315, should_save=False\n",
      "2023-01-02 20:12:37,187 (monitor:513)INFO: current_best=-217.174223, should_save=True\n",
      "2023-01-02 20:12:37,193 (server:323)INFO: Server #0: Starting evaluation at the end of round 19.\n",
      "2023-01-02 20:12:37,201 (server:330)INFO: ----------- Starting a new training round (Round #20) -------------\n"
     ]
    },
    {
     "name": "stdout",
     "output_type": "stream",
     "text": [
      "vae_loss: 0.5323050022125244\n",
      "vae_loss: 0.5709209442138672\n",
      "vae_loss: 0.5773353576660156\n",
      "vae_loss: 0.5338274240493774\n",
      "vae_loss: 0.5323969125747681\n",
      "vae_loss: 0.5229321122169495\n",
      "vae_loss: 0.5431364178657532\n",
      "vae_loss: 0.527319073677063\n"
     ]
    },
    {
     "name": "stderr",
     "output_type": "stream",
     "text": [
      "2023-01-02 20:12:37,283 (client:410)INFO: {'Role': 'Client #1', 'Round': 20, 'Results_raw': {'test_avg_loss': 3.94046, 'test_total': 113, 'test_imp_ratio': -326.318317, 'test_loss': 445.271991, 'val_avg_loss': 2.978522, 'val_total': 113, 'val_imp_ratio': -222.246247, 'val_loss': 336.572982}}\n",
      "2023-01-02 20:12:37,285 (monitor:513)INFO: current_best=-217.174223, should_save=False\n"
     ]
    },
    {
     "name": "stdout",
     "output_type": "stream",
     "text": [
      "vae_loss: 0.5475353002548218\n",
      "vae_loss: 0.5135681629180908\n",
      "vae_loss: 0.525343656539917\n",
      "vae_loss: 0.5317243933677673\n",
      "vae_loss: 0.5350232124328613\n",
      "vae_loss: 0.518660306930542\n",
      "vae_loss: 0.5220844745635986\n",
      "vae_loss: 0.5373392701148987\n",
      "vae_loss: 0.5259036421775818\n",
      "vae_loss: 0.5475758910179138\n",
      "vae_loss: 0.5285075306892395\n"
     ]
    },
    {
     "name": "stderr",
     "output_type": "stream",
     "text": [
      "2023-01-02 20:12:37,586 (client:255)INFO: {'Role': 'Client #1', 'Round': 20, 'Results_raw': {'train_avg_loss': 4.279595, 'train_total': 901, 'train_imp_ratio': -363.009293, 'train_loss': 3855.915153}}\n",
      "2023-01-02 20:12:37,594 (server:496)INFO: {'Role': 'Server #', 'Round': 20, 'Results_avg': {'test_avg_loss': 3.94046, 'test_total': 113.0, 'test_imp_ratio': -326.318317, 'test_loss': 445.271991, 'val_avg_loss': 2.978522, 'val_total': 113.0, 'val_imp_ratio': -222.246247, 'val_loss': 336.572982}}\n",
      "2023-01-02 20:12:37,598 (monitor:513)INFO: current_best=-217.174223, should_save=False\n",
      "2023-01-02 20:12:37,601 (monitor:513)INFO: current_best=-217.174223, should_save=False\n",
      "2023-01-02 20:12:37,610 (server:323)INFO: Server #0: Starting evaluation at the end of round 20.\n",
      "2023-01-02 20:12:37,617 (server:330)INFO: ----------- Starting a new training round (Round #21) -------------\n"
     ]
    },
    {
     "name": "stdout",
     "output_type": "stream",
     "text": [
      "vae_loss: 0.5399191379547119\n",
      "vae_loss: 0.4994492530822754\n",
      "vae_loss: 0.5236223340034485\n",
      "vae_loss: 0.5491241216659546\n",
      "vae_loss: 0.5486148595809937\n",
      "vae_loss: 0.5242746472358704\n",
      "vae_loss: 0.5240499377250671\n",
      "vae_loss: 0.5006982088088989\n"
     ]
    },
    {
     "name": "stderr",
     "output_type": "stream",
     "text": [
      "2023-01-02 20:12:37,701 (client:410)INFO: {'Role': 'Client #1', 'Round': 21, 'Results_raw': {'test_avg_loss': 3.560275, 'test_total': 113, 'test_imp_ratio': -285.186069, 'test_loss': 402.311062, 'val_avg_loss': 3.168651, 'val_total': 113, 'val_imp_ratio': -242.816253, 'val_loss': 358.057517}}\n",
      "2023-01-02 20:12:37,702 (monitor:513)INFO: current_best=-217.174223, should_save=False\n"
     ]
    },
    {
     "name": "stdout",
     "output_type": "stream",
     "text": [
      "vae_loss: 0.5367115139961243\n",
      "vae_loss: 0.5055365562438965\n",
      "vae_loss: 0.5106666088104248\n",
      "vae_loss: 0.5210538506507874\n",
      "vae_loss: 0.5005248785018921\n",
      "vae_loss: 0.5180251598358154\n",
      "vae_loss: 0.5369093418121338\n",
      "vae_loss: 0.5122778415679932\n",
      "vae_loss: 0.4912186563014984\n",
      "vae_loss: 0.5212942361831665\n",
      "vae_loss: 0.5045223832130432\n",
      "vae_loss: 0.539653480052948\n"
     ]
    },
    {
     "name": "stderr",
     "output_type": "stream",
     "text": [
      "2023-01-02 20:12:37,993 (client:255)INFO: {'Role': 'Client #1', 'Round': 21, 'Results_raw': {'train_avg_loss': 4.086889, 'train_total': 901, 'train_imp_ratio': -342.160475, 'train_loss': 3682.287095}}\n",
      "2023-01-02 20:12:37,997 (server:496)INFO: {'Role': 'Server #', 'Round': 21, 'Results_avg': {'test_avg_loss': 3.560275, 'test_total': 113.0, 'test_imp_ratio': -285.186069, 'test_loss': 402.311062, 'val_avg_loss': 3.168651, 'val_total': 113.0, 'val_imp_ratio': -242.816253, 'val_loss': 358.057517}}\n",
      "2023-01-02 20:12:37,998 (monitor:513)INFO: current_best=-217.174223, should_save=False\n",
      "2023-01-02 20:12:37,999 (monitor:513)INFO: current_best=-217.174223, should_save=False\n",
      "2023-01-02 20:12:38,007 (server:323)INFO: Server #0: Starting evaluation at the end of round 21.\n",
      "2023-01-02 20:12:38,016 (server:330)INFO: ----------- Starting a new training round (Round #22) -------------\n"
     ]
    },
    {
     "name": "stdout",
     "output_type": "stream",
     "text": [
      "vae_loss: 0.5244942903518677\n",
      "vae_loss: 0.5081735849380493\n",
      "vae_loss: 0.5307868719100952\n",
      "vae_loss: 0.5296710133552551\n",
      "vae_loss: 0.5113060474395752\n",
      "vae_loss: 0.5187233686447144\n",
      "vae_loss: 0.41982513666152954\n",
      "vae_loss: 0.5200626254081726\n",
      "vae_loss: 0.4909871816635132\n"
     ]
    },
    {
     "name": "stderr",
     "output_type": "stream",
     "text": [
      "2023-01-02 20:12:38,108 (client:410)INFO: {'Role': 'Client #1', 'Round': 22, 'Results_raw': {'test_avg_loss': 3.646578, 'test_total': 113, 'test_imp_ratio': -294.523215, 'test_loss': 412.063315, 'val_avg_loss': 3.170131, 'val_total': 113, 'val_imp_ratio': -242.976411, 'val_loss': 358.22478}}\n",
      "2023-01-02 20:12:38,110 (monitor:513)INFO: current_best=-217.174223, should_save=False\n"
     ]
    },
    {
     "name": "stdout",
     "output_type": "stream",
     "text": [
      "vae_loss: 0.5021330714225769\n",
      "vae_loss: 0.5037475228309631\n",
      "vae_loss: 0.5061733722686768\n",
      "vae_loss: 0.5106536746025085\n",
      "vae_loss: 0.5157328844070435\n",
      "vae_loss: 0.49543148279190063\n",
      "vae_loss: 0.521861732006073\n",
      "vae_loss: 0.4883365035057068\n",
      "vae_loss: 0.5068616271018982\n",
      "vae_loss: 0.5137976408004761\n"
     ]
    },
    {
     "name": "stderr",
     "output_type": "stream",
     "text": [
      "2023-01-02 20:12:38,421 (client:255)INFO: {'Role': 'Client #1', 'Round': 22, 'Results_raw': {'train_avg_loss': 3.970949, 'train_total': 901, 'train_imp_ratio': -329.616866, 'train_loss': 3577.824752}}\n",
      "2023-01-02 20:12:38,425 (server:496)INFO: {'Role': 'Server #', 'Round': 22, 'Results_avg': {'test_avg_loss': 3.646578, 'test_total': 113.0, 'test_imp_ratio': -294.523215, 'test_loss': 412.063315, 'val_avg_loss': 3.170131, 'val_total': 113.0, 'val_imp_ratio': -242.976411, 'val_loss': 358.22478}}\n",
      "2023-01-02 20:12:38,426 (monitor:513)INFO: current_best=-217.174223, should_save=False\n",
      "2023-01-02 20:12:38,427 (monitor:513)INFO: current_best=-217.174223, should_save=False\n",
      "2023-01-02 20:12:38,433 (server:323)INFO: Server #0: Starting evaluation at the end of round 22.\n",
      "2023-01-02 20:12:38,439 (server:330)INFO: ----------- Starting a new training round (Round #23) -------------\n"
     ]
    },
    {
     "name": "stdout",
     "output_type": "stream",
     "text": [
      "vae_loss: 0.5124555826187134\n",
      "vae_loss: 0.5270158052444458\n",
      "vae_loss: 0.5099889039993286\n",
      "vae_loss: 0.49433690309524536\n",
      "vae_loss: 0.5113089084625244\n",
      "vae_loss: 0.49067896604537964\n",
      "vae_loss: 0.4358469247817993\n",
      "vae_loss: 0.5111589431762695\n",
      "vae_loss: 0.48324042558670044\n"
     ]
    },
    {
     "name": "stderr",
     "output_type": "stream",
     "text": [
      "2023-01-02 20:12:38,531 (client:410)INFO: {'Role': 'Client #1', 'Round': 23, 'Results_raw': {'test_avg_loss': 3.61631, 'test_total': 113, 'test_imp_ratio': -291.2485, 'test_loss': 408.643029, 'val_avg_loss': 3.212404, 'val_total': 113, 'val_imp_ratio': -247.549983, 'val_loss': 363.001702}}\n",
      "2023-01-02 20:12:38,532 (monitor:513)INFO: current_best=-217.174223, should_save=False\n"
     ]
    },
    {
     "name": "stdout",
     "output_type": "stream",
     "text": [
      "vae_loss: 0.49441882967948914\n",
      "vae_loss: 0.4928768575191498\n",
      "vae_loss: 0.48379766941070557\n",
      "vae_loss: 0.5218600034713745\n",
      "vae_loss: 0.4966616928577423\n",
      "vae_loss: 0.4908790588378906\n",
      "vae_loss: 0.5064066648483276\n",
      "vae_loss: 0.4921385943889618\n",
      "vae_loss: 0.5021878480911255\n",
      "vae_loss: 0.5121110677719116\n",
      "vae_loss: 0.48527032136917114\n",
      "vae_loss: 0.4776431620121002\n",
      "vae_loss: 0.5036957263946533\n"
     ]
    },
    {
     "name": "stderr",
     "output_type": "stream",
     "text": [
      "2023-01-02 20:12:38,802 (client:255)INFO: {'Role': 'Client #1', 'Round': 23, 'Results_raw': {'train_avg_loss': 4.12898, 'train_total': 901, 'train_imp_ratio': -346.714288, 'train_loss': 3720.210932}}\n",
      "2023-01-02 20:12:38,809 (server:496)INFO: {'Role': 'Server #', 'Round': 23, 'Results_avg': {'test_avg_loss': 3.61631, 'test_total': 113.0, 'test_imp_ratio': -291.2485, 'test_loss': 408.643029, 'val_avg_loss': 3.212404, 'val_total': 113.0, 'val_imp_ratio': -247.549983, 'val_loss': 363.001702}}\n",
      "2023-01-02 20:12:38,811 (monitor:513)INFO: current_best=-217.174223, should_save=False\n",
      "2023-01-02 20:12:38,812 (monitor:513)INFO: current_best=-217.174223, should_save=False\n",
      "2023-01-02 20:12:38,818 (server:323)INFO: Server #0: Starting evaluation at the end of round 23.\n",
      "2023-01-02 20:12:38,824 (server:330)INFO: ----------- Starting a new training round (Round #24) -------------\n",
      "2023-01-02 20:12:38,905 (client:410)INFO: {'Role': 'Client #1', 'Round': 24, 'Results_raw': {'test_avg_loss': 3.359748, 'test_total': 113, 'test_imp_ratio': -263.491036, 'test_loss': 379.651473, 'val_avg_loss': 3.052504, 'val_total': 113, 'val_imp_ratio': -230.250358, 'val_loss': 344.932946}}\n",
      "2023-01-02 20:12:38,906 (monitor:513)INFO: current_best=-217.174223, should_save=False\n"
     ]
    },
    {
     "name": "stdout",
     "output_type": "stream",
     "text": [
      "vae_loss: 0.5023109316825867\n",
      "vae_loss: 0.4738427400588989\n",
      "vae_loss: 0.4839862585067749\n",
      "vae_loss: 0.44447892904281616\n",
      "vae_loss: 0.49943819642066956\n",
      "vae_loss: 0.4802364110946655\n",
      "vae_loss: 0.4816734194755554\n",
      "vae_loss: 0.4873623251914978\n",
      "vae_loss: 0.4561704993247986\n",
      "vae_loss: 0.4883803129196167\n",
      "vae_loss: 0.4666866660118103\n",
      "vae_loss: 0.5052175521850586\n",
      "vae_loss: 0.49895840883255005\n",
      "vae_loss: 0.522746205329895\n",
      "vae_loss: 0.5058779716491699\n",
      "vae_loss: 0.48923903703689575\n",
      "vae_loss: 0.47632092237472534\n",
      "vae_loss: 0.5047824382781982\n",
      "vae_loss: 0.4664071500301361\n"
     ]
    },
    {
     "name": "stderr",
     "output_type": "stream",
     "text": [
      "2023-01-02 20:12:39,229 (client:255)INFO: {'Role': 'Client #1', 'Round': 24, 'Results_raw': {'train_avg_loss': 4.177551, 'train_total': 901, 'train_imp_ratio': -351.969195, 'train_loss': 3763.973728}}\n",
      "2023-01-02 20:12:39,233 (server:496)INFO: {'Role': 'Server #', 'Round': 24, 'Results_avg': {'test_avg_loss': 3.359748, 'test_total': 113.0, 'test_imp_ratio': -263.491036, 'test_loss': 379.651473, 'val_avg_loss': 3.052504, 'val_total': 113.0, 'val_imp_ratio': -230.250358, 'val_loss': 344.932946}}\n",
      "2023-01-02 20:12:39,234 (monitor:513)INFO: current_best=-217.174223, should_save=False\n",
      "2023-01-02 20:12:39,236 (monitor:513)INFO: current_best=-217.174223, should_save=False\n",
      "2023-01-02 20:12:39,247 (server:323)INFO: Server #0: Starting evaluation at the end of round 24.\n",
      "2023-01-02 20:12:39,255 (server:330)INFO: ----------- Starting a new training round (Round #25) -------------\n",
      "2023-01-02 20:12:39,332 (client:410)INFO: {'Role': 'Client #1', 'Round': 25, 'Results_raw': {'test_avg_loss': 3.584324, 'test_total': 113, 'test_imp_ratio': -287.787961, 'test_loss': 405.02858, 'val_avg_loss': 3.175188, 'val_total': 113, 'val_imp_ratio': -243.523487, 'val_loss': 358.79622}}\n",
      "2023-01-02 20:12:39,334 (monitor:513)INFO: current_best=-217.174223, should_save=False\n"
     ]
    },
    {
     "name": "stdout",
     "output_type": "stream",
     "text": [
      "vae_loss: 0.4986198842525482\n",
      "vae_loss: 0.47503378987312317\n",
      "vae_loss: 0.4659966230392456\n",
      "vae_loss: 0.4231645464897156\n",
      "vae_loss: 0.4887442886829376\n",
      "vae_loss: 0.46508097648620605\n",
      "vae_loss: 0.4702000617980957\n",
      "vae_loss: 0.4794357419013977\n",
      "vae_loss: 0.4966620206832886\n",
      "vae_loss: 0.48987555503845215\n",
      "vae_loss: 0.47915005683898926\n",
      "vae_loss: 0.49505525827407837\n",
      "vae_loss: 0.4689764082431793\n",
      "vae_loss: 0.4980678856372833\n",
      "vae_loss: 0.48061519861221313\n",
      "vae_loss: 0.47599074244499207\n",
      "vae_loss: 0.45161107182502747\n",
      "vae_loss: 0.47399622201919556\n",
      "vae_loss: 0.46378040313720703\n",
      "vae_loss: 0.45838767290115356\n"
     ]
    },
    {
     "name": "stderr",
     "output_type": "stream",
     "text": [
      "2023-01-02 20:12:39,619 (client:255)INFO: {'Role': 'Client #1', 'Round': 25, 'Results_raw': {'train_avg_loss': 4.158581, 'train_total': 901, 'train_imp_ratio': -349.916778, 'train_loss': 3746.881339}}\n",
      "2023-01-02 20:12:39,624 (server:496)INFO: {'Role': 'Server #', 'Round': 25, 'Results_avg': {'test_avg_loss': 3.584324, 'test_total': 113.0, 'test_imp_ratio': -287.787961, 'test_loss': 405.02858, 'val_avg_loss': 3.175188, 'val_total': 113.0, 'val_imp_ratio': -243.523487, 'val_loss': 358.79622}}\n",
      "2023-01-02 20:12:39,625 (monitor:513)INFO: current_best=-217.174223, should_save=False\n",
      "2023-01-02 20:12:39,626 (monitor:513)INFO: current_best=-217.174223, should_save=False\n",
      "2023-01-02 20:12:39,633 (server:323)INFO: Server #0: Starting evaluation at the end of round 25.\n",
      "2023-01-02 20:12:39,639 (server:330)INFO: ----------- Starting a new training round (Round #26) -------------\n",
      "2023-01-02 20:12:39,723 (client:410)INFO: {'Role': 'Client #1', 'Round': 26, 'Results_raw': {'test_avg_loss': 3.843427, 'test_total': 113, 'test_imp_ratio': -315.820368, 'test_loss': 434.307299, 'val_avg_loss': 2.987723, 'val_total': 113, 'val_imp_ratio': -223.241734, 'val_loss': 337.612732}}\n",
      "2023-01-02 20:12:39,726 (monitor:513)INFO: current_best=-217.174223, should_save=False\n"
     ]
    },
    {
     "name": "stdout",
     "output_type": "stream",
     "text": [
      "vae_loss: 0.4694690406322479\n",
      "vae_loss: 0.4510793685913086\n",
      "vae_loss: 0.49198228120803833\n",
      "vae_loss: 0.47714173793792725\n",
      "vae_loss: 0.4561140537261963\n",
      "vae_loss: 0.4616503417491913\n",
      "vae_loss: 0.46833938360214233\n",
      "vae_loss: 0.4666436016559601\n",
      "vae_loss: 0.465151309967041\n",
      "vae_loss: 0.48279303312301636\n",
      "vae_loss: 0.4537057876586914\n",
      "vae_loss: 0.47760117053985596\n",
      "vae_loss: 0.44108423590660095\n",
      "vae_loss: 0.47094470262527466\n",
      "vae_loss: 0.4662611484527588\n",
      "vae_loss: 0.4583114981651306\n",
      "vae_loss: 0.46840232610702515\n",
      "vae_loss: 0.4721115231513977\n",
      "vae_loss: 0.4825562834739685\n",
      "vae_loss: 0.44208627939224243\n"
     ]
    },
    {
     "name": "stderr",
     "output_type": "stream",
     "text": [
      "2023-01-02 20:12:40,026 (client:255)INFO: {'Role': 'Client #1', 'Round': 26, 'Results_raw': {'train_avg_loss': 3.976089, 'train_total': 901, 'train_imp_ratio': -330.17297, 'train_loss': 3582.456096}}\n",
      "2023-01-02 20:12:40,030 (server:496)INFO: {'Role': 'Server #', 'Round': 26, 'Results_avg': {'test_avg_loss': 3.843427, 'test_total': 113.0, 'test_imp_ratio': -315.820368, 'test_loss': 434.307299, 'val_avg_loss': 2.987723, 'val_total': 113.0, 'val_imp_ratio': -223.241734, 'val_loss': 337.612732}}\n",
      "2023-01-02 20:12:40,031 (monitor:513)INFO: current_best=-217.174223, should_save=False\n",
      "2023-01-02 20:12:40,032 (monitor:513)INFO: current_best=-217.174223, should_save=False\n",
      "2023-01-02 20:12:40,038 (server:323)INFO: Server #0: Starting evaluation at the end of round 26.\n",
      "2023-01-02 20:12:40,045 (server:330)INFO: ----------- Starting a new training round (Round #27) -------------\n",
      "2023-01-02 20:12:40,125 (client:410)INFO: {'Role': 'Client #1', 'Round': 27, 'Results_raw': {'test_avg_loss': 3.44612, 'test_total': 113, 'test_imp_ratio': -272.835636, 'test_loss': 389.411516, 'val_avg_loss': 3.003306, 'val_total': 113, 'val_imp_ratio': -224.927586, 'val_loss': 339.373559}}\n",
      "2023-01-02 20:12:40,126 (monitor:513)INFO: current_best=-217.174223, should_save=False\n"
     ]
    },
    {
     "name": "stdout",
     "output_type": "stream",
     "text": [
      "vae_loss: 0.4600715637207031\n",
      "vae_loss: 0.5016525983810425\n",
      "vae_loss: 0.46805083751678467\n",
      "vae_loss: 0.44540590047836304\n",
      "vae_loss: 0.4479246735572815\n",
      "vae_loss: 0.4538438022136688\n",
      "vae_loss: 0.4676455557346344\n",
      "vae_loss: 0.476318359375\n",
      "vae_loss: 0.4783248007297516\n",
      "vae_loss: 0.467482328414917\n",
      "vae_loss: 0.43442487716674805\n",
      "vae_loss: 0.45149409770965576\n",
      "vae_loss: 0.4849585294723511\n",
      "vae_loss: 0.4595010280609131\n",
      "vae_loss: 0.4393957555294037\n",
      "vae_loss: 0.4515452980995178\n",
      "vae_loss: 0.43401843309402466\n",
      "vae_loss: 0.4372102618217468\n",
      "vae_loss: 0.4454689025878906\n",
      "vae_loss: 0.4500366449356079\n",
      "vae_loss: 0.45155465602874756\n"
     ]
    },
    {
     "name": "stderr",
     "output_type": "stream",
     "text": [
      "2023-01-02 20:12:40,401 (client:255)INFO: {'Role': 'Client #1', 'Round': 27, 'Results_raw': {'train_avg_loss': 3.966152, 'train_total': 901, 'train_imp_ratio': -329.097855, 'train_loss': 3573.502596}}\n",
      "2023-01-02 20:12:40,411 (server:496)INFO: {'Role': 'Server #', 'Round': 27, 'Results_avg': {'test_avg_loss': 3.44612, 'test_total': 113.0, 'test_imp_ratio': -272.835636, 'test_loss': 389.411516, 'val_avg_loss': 3.003306, 'val_total': 113.0, 'val_imp_ratio': -224.927586, 'val_loss': 339.373559}}\n",
      "2023-01-02 20:12:40,414 (monitor:513)INFO: current_best=-217.174223, should_save=False\n",
      "2023-01-02 20:12:40,415 (monitor:513)INFO: current_best=-217.174223, should_save=False\n",
      "2023-01-02 20:12:40,426 (server:323)INFO: Server #0: Starting evaluation at the end of round 27.\n",
      "2023-01-02 20:12:40,435 (server:330)INFO: ----------- Starting a new training round (Round #28) -------------\n",
      "2023-01-02 20:12:40,510 (client:410)INFO: {'Role': 'Client #1', 'Round': 28, 'Results_raw': {'test_avg_loss': 3.878275, 'test_total': 113, 'test_imp_ratio': -319.590466, 'test_loss': 438.245025, 'val_avg_loss': 3.128834, 'val_total': 113, 'val_imp_ratio': -238.50852, 'val_loss': 353.558285}}\n",
      "2023-01-02 20:12:40,512 (monitor:513)INFO: current_best=-217.174223, should_save=False\n"
     ]
    },
    {
     "name": "stdout",
     "output_type": "stream",
     "text": [
      "vae_loss: 0.4539605379104614\n",
      "vae_loss: 0.4325870871543884\n",
      "vae_loss: 0.43681269884109497\n",
      "vae_loss: 0.4492976665496826\n",
      "vae_loss: 0.43483981490135193\n",
      "vae_loss: 0.4717044532299042\n",
      "vae_loss: 0.4468926787376404\n",
      "vae_loss: 0.4467847943305969\n",
      "vae_loss: 0.4486173391342163\n",
      "vae_loss: 0.4440155327320099\n",
      "vae_loss: 0.45077458024024963\n",
      "vae_loss: 0.425742506980896\n",
      "vae_loss: 0.4308481216430664\n"
     ]
    },
    {
     "name": "stderr",
     "output_type": "stream",
     "text": [
      "2023-01-02 20:12:40,777 (client:255)INFO: {'Role': 'Client #1', 'Round': 28, 'Results_raw': {'train_avg_loss': 3.956385, 'train_total': 901, 'train_imp_ratio': -328.041261, 'train_loss': 3564.702995}}\n",
      "2023-01-02 20:12:40,781 (server:496)INFO: {'Role': 'Server #', 'Round': 28, 'Results_avg': {'test_avg_loss': 3.878275, 'test_total': 113.0, 'test_imp_ratio': -319.590466, 'test_loss': 438.245025, 'val_avg_loss': 3.128834, 'val_total': 113.0, 'val_imp_ratio': -238.50852, 'val_loss': 353.558285}}\n",
      "2023-01-02 20:12:40,782 (monitor:513)INFO: current_best=-217.174223, should_save=False\n",
      "2023-01-02 20:12:40,783 (monitor:513)INFO: current_best=-217.174223, should_save=False\n",
      "2023-01-02 20:12:40,791 (server:323)INFO: Server #0: Starting evaluation at the end of round 28.\n",
      "2023-01-02 20:12:40,798 (server:330)INFO: ----------- Starting a new training round (Round #29) -------------\n",
      "2023-01-02 20:12:40,878 (client:410)INFO: {'Role': 'Client #1', 'Round': 29, 'Results_raw': {'test_avg_loss': 3.480058, 'test_total': 113, 'test_imp_ratio': -276.507406, 'test_loss': 393.246534, 'val_avg_loss': 3.005915, 'val_total': 113, 'val_imp_ratio': -225.209906, 'val_loss': 339.668425}}\n",
      "2023-01-02 20:12:40,880 (monitor:513)INFO: current_best=-217.174223, should_save=False\n"
     ]
    },
    {
     "name": "stdout",
     "output_type": "stream",
     "text": [
      "vae_loss: 0.44594424962997437\n",
      "vae_loss: 0.4430358409881592\n",
      "vae_loss: 0.45393940806388855\n",
      "vae_loss: 0.4423128068447113\n",
      "vae_loss: 0.4391883611679077\n",
      "vae_loss: 0.4851039946079254\n",
      "vae_loss: 0.44971001148223877\n",
      "vae_loss: 0.42226314544677734\n",
      "vae_loss: 0.4333462715148926\n",
      "vae_loss: 0.44087398052215576\n",
      "vae_loss: 0.4182479977607727\n",
      "vae_loss: 0.43799978494644165\n",
      "vae_loss: 0.45021963119506836\n",
      "vae_loss: 0.4514341950416565\n",
      "vae_loss: 0.43578386306762695\n",
      "vae_loss: 0.45221221446990967\n",
      "vae_loss: 0.42155566811561584\n",
      "vae_loss: 0.4542043209075928\n",
      "vae_loss: 0.4103361666202545\n",
      "vae_loss: 0.43925222754478455\n",
      "vae_loss: 0.445198655128479\n",
      "vae_loss: 0.4322240352630615\n"
     ]
    },
    {
     "name": "stderr",
     "output_type": "stream",
     "text": [
      "2023-01-02 20:12:41,160 (client:255)INFO: {'Role': 'Client #1', 'Round': 29, 'Results_raw': {'train_avg_loss': 4.089089, 'train_total': 901, 'train_imp_ratio': -342.398455, 'train_loss': 3684.269282}}\n",
      "2023-01-02 20:12:41,164 (server:496)INFO: {'Role': 'Server #', 'Round': 29, 'Results_avg': {'test_avg_loss': 3.480058, 'test_total': 113.0, 'test_imp_ratio': -276.507406, 'test_loss': 393.246534, 'val_avg_loss': 3.005915, 'val_total': 113.0, 'val_imp_ratio': -225.209906, 'val_loss': 339.668425}}\n",
      "2023-01-02 20:12:41,166 (monitor:513)INFO: current_best=-217.174223, should_save=False\n",
      "2023-01-02 20:12:41,167 (monitor:513)INFO: current_best=-217.174223, should_save=False\n",
      "2023-01-02 20:12:41,172 (server:323)INFO: Server #0: Starting evaluation at the end of round 29.\n",
      "2023-01-02 20:12:41,180 (server:330)INFO: ----------- Starting a new training round (Round #30) -------------\n",
      "2023-01-02 20:12:41,268 (client:410)INFO: {'Role': 'Client #1', 'Round': 30, 'Results_raw': {'test_avg_loss': 3.807477, 'test_total': 113, 'test_imp_ratio': -311.930866, 'test_loss': 430.244876, 'val_avg_loss': 2.950692, 'val_total': 113, 'val_imp_ratio': -219.235281, 'val_loss': 333.428141}}\n",
      "2023-01-02 20:12:41,269 (monitor:513)INFO: current_best=-217.174223, should_save=False\n"
     ]
    },
    {
     "name": "stdout",
     "output_type": "stream",
     "text": [
      "vae_loss: 0.4288345277309418\n",
      "vae_loss: 0.43259197473526\n",
      "vae_loss: 0.419016033411026\n",
      "vae_loss: 0.4417511224746704\n",
      "vae_loss: 0.414079487323761\n",
      "vae_loss: 0.42118775844573975\n",
      "vae_loss: 0.42783060669898987\n",
      "vae_loss: 0.42973792552948\n",
      "vae_loss: 0.4251660704612732\n",
      "vae_loss: 0.45431116223335266\n",
      "vae_loss: 0.44579651951789856\n",
      "vae_loss: 0.4534660279750824\n",
      "vae_loss: 0.429910808801651\n",
      "vae_loss: 0.4319712221622467\n",
      "vae_loss: 0.40136706829071045\n",
      "vae_loss: 0.4444941580295563\n",
      "vae_loss: 0.4160987138748169\n",
      "vae_loss: 0.4232620894908905\n",
      "vae_loss: 0.41776546835899353\n"
     ]
    },
    {
     "name": "stderr",
     "output_type": "stream",
     "text": [
      "2023-01-02 20:12:41,568 (client:255)INFO: {'Role': 'Client #1', 'Round': 30, 'Results_raw': {'train_avg_loss': 3.852983, 'train_total': 901, 'train_imp_ratio': -316.854108, 'train_loss': 3471.537287}}\n",
      "2023-01-02 20:12:41,572 (server:496)INFO: {'Role': 'Server #', 'Round': 30, 'Results_avg': {'test_avg_loss': 3.807477, 'test_total': 113.0, 'test_imp_ratio': -311.930866, 'test_loss': 430.244876, 'val_avg_loss': 2.950692, 'val_total': 113.0, 'val_imp_ratio': -219.235281, 'val_loss': 333.428141}}\n",
      "2023-01-02 20:12:41,573 (monitor:513)INFO: current_best=-217.174223, should_save=False\n",
      "2023-01-02 20:12:41,574 (monitor:513)INFO: current_best=-217.174223, should_save=False\n",
      "2023-01-02 20:12:41,580 (server:323)INFO: Server #0: Starting evaluation at the end of round 30.\n",
      "2023-01-02 20:12:41,592 (server:330)INFO: ----------- Starting a new training round (Round #31) -------------\n",
      "2023-01-02 20:12:41,673 (client:410)INFO: {'Role': 'Client #1', 'Round': 31, 'Results_raw': {'test_avg_loss': 3.735331, 'test_total': 113, 'test_imp_ratio': -304.125399, 'test_loss': 422.092418, 'val_avg_loss': 2.864206, 'val_total': 113, 'val_imp_ratio': -209.878325, 'val_loss': 323.655229}}\n",
      "2023-01-02 20:12:41,674 (monitor:513)INFO: current_best=-209.878325, should_save=True\n",
      "2023-01-02 20:12:41,675 (client:431)INFO: Client: #1, val_imp_ratio: -209.878325. model saved at exp/test_dir/Graph-DT-FedAvg_gin_on_graph-dt_lr0.1_lstep1_/sub_exp_20230102200809/model1.pth\n"
     ]
    },
    {
     "name": "stdout",
     "output_type": "stream",
     "text": [
      "vae_loss: 0.4137904644012451\n",
      "vae_loss: 0.42670938372612\n",
      "vae_loss: 0.387041836977005\n",
      "vae_loss: 0.43043217062950134\n",
      "vae_loss: 0.40780314803123474\n",
      "vae_loss: 0.4129500985145569\n",
      "vae_loss: 0.4216533899307251\n",
      "vae_loss: 0.43204009532928467\n",
      "vae_loss: 0.4178062975406647\n",
      "vae_loss: 0.4213632643222809\n",
      "vae_loss: 0.42286747694015503\n",
      "vae_loss: 0.42253345251083374\n",
      "vae_loss: 0.41662484407424927\n",
      "vae_loss: 0.42016223073005676\n",
      "vae_loss: 0.42121055722236633\n",
      "vae_loss: 0.4342019557952881\n",
      "vae_loss: 0.427145779132843\n",
      "vae_loss: 0.4138520061969757\n",
      "vae_loss: 0.4255409836769104\n"
     ]
    },
    {
     "name": "stderr",
     "output_type": "stream",
     "text": [
      "2023-01-02 20:12:41,986 (client:255)INFO: {'Role': 'Client #1', 'Round': 31, 'Results_raw': {'train_avg_loss': 3.918606, 'train_total': 901, 'train_imp_ratio': -323.953916, 'train_loss': 3530.663997}}\n",
      "2023-01-02 20:12:41,990 (server:496)INFO: {'Role': 'Server #', 'Round': 31, 'Results_avg': {'test_avg_loss': 3.735331, 'test_total': 113.0, 'test_imp_ratio': -304.125399, 'test_loss': 422.092418, 'val_avg_loss': 2.864206, 'val_total': 113.0, 'val_imp_ratio': -209.878325, 'val_loss': 323.655229}}\n",
      "2023-01-02 20:12:41,991 (monitor:513)INFO: current_best=-217.174223, should_save=False\n",
      "2023-01-02 20:12:41,992 (monitor:513)INFO: current_best=-209.878325, should_save=True\n",
      "2023-01-02 20:12:41,997 (server:323)INFO: Server #0: Starting evaluation at the end of round 31.\n",
      "2023-01-02 20:12:42,004 (server:330)INFO: ----------- Starting a new training round (Round #32) -------------\n",
      "2023-01-02 20:12:42,079 (client:410)INFO: {'Role': 'Client #1', 'Round': 32, 'Results_raw': {'test_avg_loss': 3.690019, 'test_total': 113, 'test_imp_ratio': -299.22305, 'test_loss': 416.972116, 'val_avg_loss': 3.229255, 'val_total': 113, 'val_imp_ratio': -249.372983, 'val_loss': 364.905761}}\n",
      "2023-01-02 20:12:42,081 (monitor:513)INFO: current_best=-209.878325, should_save=False\n"
     ]
    },
    {
     "name": "stdout",
     "output_type": "stream",
     "text": [
      "vae_loss: 0.4091634750366211\n",
      "vae_loss: 0.4294583201408386\n",
      "vae_loss: 0.33136415481567383\n",
      "vae_loss: 0.4291648864746094\n",
      "vae_loss: 0.39759397506713867\n",
      "vae_loss: 0.41272348165512085\n",
      "vae_loss: 0.4137304425239563\n",
      "vae_loss: 0.39985206723213196\n",
      "vae_loss: 0.4212283194065094\n",
      "vae_loss: 0.4210762679576874\n",
      "vae_loss: 0.41198182106018066\n",
      "vae_loss: 0.4141227602958679\n",
      "vae_loss: 0.4337591528892517\n",
      "vae_loss: 0.4129638075828552\n",
      "vae_loss: 0.4052228331565857\n",
      "vae_loss: 0.4186854064464569\n",
      "vae_loss: 0.38848865032196045\n",
      "vae_loss: 0.42025113105773926\n",
      "vae_loss: 0.42059847712516785\n",
      "vae_loss: 0.41866737604141235\n",
      "vae_loss: 0.4141293168067932\n"
     ]
    },
    {
     "name": "stderr",
     "output_type": "stream",
     "text": [
      "2023-01-02 20:12:42,359 (client:255)INFO: {'Role': 'Client #1', 'Round': 32, 'Results_raw': {'train_avg_loss': 3.970684, 'train_total': 901, 'train_imp_ratio': -329.588183, 'train_loss': 3577.586023}}\n",
      "2023-01-02 20:12:42,366 (server:496)INFO: {'Role': 'Server #', 'Round': 32, 'Results_avg': {'test_avg_loss': 3.690019, 'test_total': 113.0, 'test_imp_ratio': -299.22305, 'test_loss': 416.972116, 'val_avg_loss': 3.229255, 'val_total': 113.0, 'val_imp_ratio': -249.372983, 'val_loss': 364.905761}}\n",
      "2023-01-02 20:12:42,367 (monitor:513)INFO: current_best=-209.878325, should_save=False\n",
      "2023-01-02 20:12:42,369 (monitor:513)INFO: current_best=-209.878325, should_save=False\n",
      "2023-01-02 20:12:42,374 (server:323)INFO: Server #0: Starting evaluation at the end of round 32.\n",
      "2023-01-02 20:12:42,380 (server:330)INFO: ----------- Starting a new training round (Round #33) -------------\n",
      "2023-01-02 20:12:42,454 (client:410)INFO: {'Role': 'Client #1', 'Round': 33, 'Results_raw': {'test_avg_loss': 3.976006, 'test_total': 113, 'test_imp_ratio': -330.164071, 'test_loss': 449.288715, 'val_avg_loss': 2.965986, 'val_total': 113, 'val_imp_ratio': -220.889998, 'val_loss': 335.156418}}\n",
      "2023-01-02 20:12:42,455 (monitor:513)INFO: current_best=-209.878325, should_save=False\n"
     ]
    },
    {
     "name": "stdout",
     "output_type": "stream",
     "text": [
      "vae_loss: 0.4373841881752014\n",
      "vae_loss: 0.4192262887954712\n",
      "vae_loss: 0.39391201734542847\n",
      "vae_loss: 0.39970162510871887\n",
      "vae_loss: 0.4108441472053528\n",
      "vae_loss: 0.41714486479759216\n",
      "vae_loss: 0.3996219038963318\n",
      "vae_loss: 0.414684534072876\n",
      "vae_loss: 0.4234296679496765\n"
     ]
    },
    {
     "name": "stderr",
     "output_type": "stream",
     "text": [
      "2023-01-02 20:12:42,728 (client:255)INFO: {'Role': 'Client #1', 'Round': 33, 'Results_raw': {'train_avg_loss': 3.981209, 'train_total': 901, 'train_imp_ratio': -330.726933, 'train_loss': 3587.069417}}\n",
      "2023-01-02 20:12:42,733 (server:496)INFO: {'Role': 'Server #', 'Round': 33, 'Results_avg': {'test_avg_loss': 3.976006, 'test_total': 113.0, 'test_imp_ratio': -330.164071, 'test_loss': 449.288715, 'val_avg_loss': 2.965986, 'val_total': 113.0, 'val_imp_ratio': -220.889998, 'val_loss': 335.156418}}\n",
      "2023-01-02 20:12:42,734 (monitor:513)INFO: current_best=-209.878325, should_save=False\n",
      "2023-01-02 20:12:42,735 (monitor:513)INFO: current_best=-209.878325, should_save=False\n",
      "2023-01-02 20:12:42,741 (server:323)INFO: Server #0: Starting evaluation at the end of round 33.\n",
      "2023-01-02 20:12:42,748 (server:330)INFO: ----------- Starting a new training round (Round #34) -------------\n"
     ]
    },
    {
     "name": "stdout",
     "output_type": "stream",
     "text": [
      "vae_loss: 0.40565624833106995\n",
      "vae_loss: 0.392056941986084\n",
      "vae_loss: 0.41352468729019165\n",
      "vae_loss: 0.40692734718322754\n",
      "vae_loss: 0.4151172637939453\n",
      "vae_loss: 0.41422733664512634\n",
      "vae_loss: 0.4084656834602356\n",
      "vae_loss: 0.4034760594367981\n",
      "vae_loss: 0.39971375465393066\n",
      "vae_loss: 0.40472033619880676\n",
      "vae_loss: 0.4035770297050476\n"
     ]
    },
    {
     "name": "stderr",
     "output_type": "stream",
     "text": [
      "2023-01-02 20:12:42,825 (client:410)INFO: {'Role': 'Client #1', 'Round': 34, 'Results_raw': {'test_avg_loss': 3.991224, 'test_total': 113, 'test_imp_ratio': -331.810431, 'test_loss': 451.008283, 'val_avg_loss': 2.786843, 'val_total': 113, 'val_imp_ratio': -201.508525, 'val_loss': 314.913309}}\n",
      "2023-01-02 20:12:42,826 (monitor:513)INFO: current_best=-201.508525, should_save=True\n",
      "2023-01-02 20:12:42,827 (client:431)INFO: Client: #1, val_imp_ratio: -201.508525. model saved at exp/test_dir/Graph-DT-FedAvg_gin_on_graph-dt_lr0.1_lstep1_/sub_exp_20230102200809/model1.pth\n"
     ]
    },
    {
     "name": "stdout",
     "output_type": "stream",
     "text": [
      "vae_loss: 0.4126274287700653\n",
      "vae_loss: 0.38400667905807495\n",
      "vae_loss: 0.39938777685165405\n",
      "vae_loss: 0.4094468057155609\n",
      "vae_loss: 0.4079641103744507\n",
      "vae_loss: 0.4093504548072815\n",
      "vae_loss: 0.38972580432891846\n",
      "vae_loss: 0.40360188484191895\n",
      "vae_loss: 0.40663808584213257\n",
      "vae_loss: 0.41512030363082886\n",
      "vae_loss: 0.40704524517059326\n"
     ]
    },
    {
     "name": "stderr",
     "output_type": "stream",
     "text": [
      "2023-01-02 20:12:43,118 (client:255)INFO: {'Role': 'Client #1', 'Round': 34, 'Results_raw': {'train_avg_loss': 4.076305, 'train_total': 901, 'train_imp_ratio': -341.015302, 'train_loss': 3672.750381}}\n",
      "2023-01-02 20:12:43,128 (server:496)INFO: {'Role': 'Server #', 'Round': 34, 'Results_avg': {'test_avg_loss': 3.991224, 'test_total': 113.0, 'test_imp_ratio': -331.810431, 'test_loss': 451.008283, 'val_avg_loss': 2.786843, 'val_total': 113.0, 'val_imp_ratio': -201.508525, 'val_loss': 314.913309}}\n",
      "2023-01-02 20:12:43,130 (monitor:513)INFO: current_best=-209.878325, should_save=False\n",
      "2023-01-02 20:12:43,130 (monitor:513)INFO: current_best=-201.508525, should_save=True\n",
      "2023-01-02 20:12:43,140 (server:323)INFO: Server #0: Starting evaluation at the end of round 34.\n",
      "2023-01-02 20:12:43,148 (server:330)INFO: ----------- Starting a new training round (Round #35) -------------\n"
     ]
    },
    {
     "name": "stdout",
     "output_type": "stream",
     "text": [
      "vae_loss: 0.39691221714019775\n",
      "vae_loss: 0.3988392651081085\n",
      "vae_loss: 0.4006451368331909\n",
      "vae_loss: 0.41251838207244873\n",
      "vae_loss: 0.4031147062778473\n",
      "vae_loss: 0.3916926085948944\n",
      "vae_loss: 0.38284289836883545\n",
      "vae_loss: 0.46300625801086426\n",
      "vae_loss: 0.40632742643356323\n"
     ]
    },
    {
     "name": "stderr",
     "output_type": "stream",
     "text": [
      "2023-01-02 20:12:43,238 (client:410)INFO: {'Role': 'Client #1', 'Round': 35, 'Results_raw': {'test_avg_loss': 3.318776, 'test_total': 113, 'test_imp_ratio': -259.058329, 'test_loss': 375.021677, 'val_avg_loss': 3.050276, 'val_total': 113, 'val_imp_ratio': -230.009283, 'val_loss': 344.68114}}\n",
      "2023-01-02 20:12:43,239 (monitor:513)INFO: current_best=-201.508525, should_save=False\n"
     ]
    },
    {
     "name": "stdout",
     "output_type": "stream",
     "text": [
      "vae_loss: 0.3802015483379364\n",
      "vae_loss: 0.3880334496498108\n",
      "vae_loss: 0.39670050144195557\n",
      "vae_loss: 0.404291570186615\n",
      "vae_loss: 0.4059638977050781\n",
      "vae_loss: 0.40320247411727905\n",
      "vae_loss: 0.40280675888061523\n",
      "vae_loss: 0.375180721282959\n",
      "vae_loss: 0.42229288816452026\n",
      "vae_loss: 0.3713771402835846\n"
     ]
    },
    {
     "name": "stderr",
     "output_type": "stream",
     "text": [
      "2023-01-02 20:12:43,535 (client:255)INFO: {'Role': 'Client #1', 'Round': 35, 'Results_raw': {'train_avg_loss': 3.945557, 'train_total': 901, 'train_imp_ratio': -326.869726, 'train_loss': 3554.946828}}\n",
      "2023-01-02 20:12:43,539 (server:496)INFO: {'Role': 'Server #', 'Round': 35, 'Results_avg': {'test_avg_loss': 3.318776, 'test_total': 113.0, 'test_imp_ratio': -259.058329, 'test_loss': 375.021677, 'val_avg_loss': 3.050276, 'val_total': 113.0, 'val_imp_ratio': -230.009283, 'val_loss': 344.68114}}\n",
      "2023-01-02 20:12:43,540 (monitor:513)INFO: current_best=-201.508525, should_save=False\n",
      "2023-01-02 20:12:43,541 (monitor:513)INFO: current_best=-201.508525, should_save=False\n",
      "2023-01-02 20:12:43,547 (server:323)INFO: Server #0: Starting evaluation at the end of round 35.\n",
      "2023-01-02 20:12:43,554 (server:330)INFO: ----------- Starting a new training round (Round #36) -------------\n"
     ]
    },
    {
     "name": "stdout",
     "output_type": "stream",
     "text": [
      "vae_loss: 0.3918291926383972\n",
      "vae_loss: 0.3948459029197693\n",
      "vae_loss: 0.38975775241851807\n",
      "vae_loss: 0.40435951948165894\n",
      "vae_loss: 0.3910822868347168\n",
      "vae_loss: 0.39752256870269775\n",
      "vae_loss: 0.39005666971206665\n",
      "vae_loss: 0.3507649898529053\n",
      "vae_loss: 0.4041118025779724\n",
      "vae_loss: 0.38004183769226074\n"
     ]
    },
    {
     "name": "stderr",
     "output_type": "stream",
     "text": [
      "2023-01-02 20:12:43,637 (client:410)INFO: {'Role': 'Client #1', 'Round': 36, 'Results_raw': {'test_avg_loss': 3.667562, 'test_total': 113, 'test_imp_ratio': -296.79344, 'test_loss': 414.434481, 'val_avg_loss': 3.057881, 'val_total': 113, 'val_imp_ratio': -230.832128, 'val_loss': 345.540574}}\n",
      "2023-01-02 20:12:43,638 (monitor:513)INFO: current_best=-201.508525, should_save=False\n"
     ]
    },
    {
     "name": "stdout",
     "output_type": "stream",
     "text": [
      "vae_loss: 0.3864257335662842\n",
      "vae_loss: 0.38997334241867065\n",
      "vae_loss: 0.37625670433044434\n",
      "vae_loss: 0.3830990791320801\n",
      "vae_loss: 0.3884134888648987\n",
      "vae_loss: 0.3786003291606903\n",
      "vae_loss: 0.3737581968307495\n",
      "vae_loss: 0.4102691113948822\n",
      "vae_loss: 0.40102630853652954\n",
      "vae_loss: 0.38622310757637024\n",
      "vae_loss: 0.3956342935562134\n"
     ]
    },
    {
     "name": "stderr",
     "output_type": "stream",
     "text": [
      "2023-01-02 20:12:43,932 (client:255)INFO: {'Role': 'Client #1', 'Round': 36, 'Results_raw': {'train_avg_loss': 3.877832, 'train_total': 901, 'train_imp_ratio': -319.542592, 'train_loss': 3493.926685}}\n",
      "2023-01-02 20:12:43,938 (server:496)INFO: {'Role': 'Server #', 'Round': 36, 'Results_avg': {'test_avg_loss': 3.667562, 'test_total': 113.0, 'test_imp_ratio': -296.79344, 'test_loss': 414.434481, 'val_avg_loss': 3.057881, 'val_total': 113.0, 'val_imp_ratio': -230.832128, 'val_loss': 345.540574}}\n",
      "2023-01-02 20:12:43,939 (monitor:513)INFO: current_best=-201.508525, should_save=False\n",
      "2023-01-02 20:12:43,940 (monitor:513)INFO: current_best=-201.508525, should_save=False\n",
      "2023-01-02 20:12:43,950 (server:323)INFO: Server #0: Starting evaluation at the end of round 36.\n",
      "2023-01-02 20:12:43,960 (server:330)INFO: ----------- Starting a new training round (Round #37) -------------\n"
     ]
    },
    {
     "name": "stdout",
     "output_type": "stream",
     "text": [
      "vae_loss: 0.39608848094940186\n",
      "vae_loss: 0.3995620310306549\n",
      "vae_loss: 0.3832254707813263\n",
      "vae_loss: 0.40136635303497314\n",
      "vae_loss: 0.398442804813385\n",
      "vae_loss: 0.389982670545578\n",
      "vae_loss: 0.3983016014099121\n",
      "vae_loss: 0.37386995553970337\n",
      "vae_loss: 0.37822380661964417\n"
     ]
    },
    {
     "name": "stderr",
     "output_type": "stream",
     "text": [
      "2023-01-02 20:12:44,042 (client:410)INFO: {'Role': 'Client #1', 'Round': 37, 'Results_raw': {'test_avg_loss': 3.856716, 'test_total': 113, 'test_imp_ratio': -317.25805, 'test_loss': 435.808905, 'val_avg_loss': 2.755417, 'val_total': 113, 'val_imp_ratio': -198.108552, 'val_loss': 311.362123}}\n",
      "2023-01-02 20:12:44,043 (monitor:513)INFO: current_best=-198.108552, should_save=True\n",
      "2023-01-02 20:12:44,044 (client:431)INFO: Client: #1, val_imp_ratio: -198.108552. model saved at exp/test_dir/Graph-DT-FedAvg_gin_on_graph-dt_lr0.1_lstep1_/sub_exp_20230102200809/model1.pth\n"
     ]
    },
    {
     "name": "stdout",
     "output_type": "stream",
     "text": [
      "vae_loss: 0.3830689489841461\n",
      "vae_loss: 0.3775818347930908\n",
      "vae_loss: 0.38781070709228516\n",
      "vae_loss: 0.38684844970703125\n",
      "vae_loss: 0.3847527801990509\n",
      "vae_loss: 0.4007318615913391\n",
      "vae_loss: 0.38764145970344543\n",
      "vae_loss: 0.3795897364616394\n",
      "vae_loss: 0.3731343448162079\n",
      "vae_loss: 0.3845115303993225\n"
     ]
    },
    {
     "name": "stderr",
     "output_type": "stream",
     "text": [
      "2023-01-02 20:12:44,342 (client:255)INFO: {'Role': 'Client #1', 'Round': 37, 'Results_raw': {'train_avg_loss': 4.011596, 'train_total': 901, 'train_imp_ratio': -334.014519, 'train_loss': 3614.448369}}\n",
      "2023-01-02 20:12:44,346 (server:496)INFO: {'Role': 'Server #', 'Round': 37, 'Results_avg': {'test_avg_loss': 3.856716, 'test_total': 113.0, 'test_imp_ratio': -317.25805, 'test_loss': 435.808905, 'val_avg_loss': 2.755417, 'val_total': 113.0, 'val_imp_ratio': -198.108552, 'val_loss': 311.362123}}\n",
      "2023-01-02 20:12:44,348 (monitor:513)INFO: current_best=-201.508525, should_save=False\n",
      "2023-01-02 20:12:44,349 (monitor:513)INFO: current_best=-198.108552, should_save=True\n",
      "2023-01-02 20:12:44,355 (server:323)INFO: Server #0: Starting evaluation at the end of round 37.\n",
      "2023-01-02 20:12:44,362 (server:330)INFO: ----------- Starting a new training round (Round #38) -------------\n"
     ]
    },
    {
     "name": "stdout",
     "output_type": "stream",
     "text": [
      "vae_loss: 0.3962176442146301\n",
      "vae_loss: 0.37825441360473633\n",
      "vae_loss: 0.39778250455856323\n",
      "vae_loss: 0.3845202922821045\n",
      "vae_loss: 0.3819054961204529\n",
      "vae_loss: 0.35336774587631226\n",
      "vae_loss: 0.38977986574172974\n",
      "vae_loss: 0.3599497675895691\n",
      "vae_loss: 0.3736618757247925\n"
     ]
    },
    {
     "name": "stderr",
     "output_type": "stream",
     "text": [
      "2023-01-02 20:12:44,448 (client:410)INFO: {'Role': 'Client #1', 'Round': 38, 'Results_raw': {'test_avg_loss': 3.852617, 'test_total': 113, 'test_imp_ratio': -316.814514, 'test_loss': 435.345692, 'val_avg_loss': 2.799954, 'val_total': 113, 'val_imp_ratio': -202.927042, 'val_loss': 316.39483}}\n",
      "2023-01-02 20:12:44,450 (monitor:513)INFO: current_best=-198.108552, should_save=False\n"
     ]
    },
    {
     "name": "stdout",
     "output_type": "stream",
     "text": [
      "vae_loss: 0.3837020695209503\n",
      "vae_loss: 0.3789953887462616\n",
      "vae_loss: 0.38441091775894165\n",
      "vae_loss: 0.36696380376815796\n",
      "vae_loss: 0.3872218132019043\n",
      "vae_loss: 0.39281368255615234\n",
      "vae_loss: 0.39553338289260864\n",
      "vae_loss: 0.39218246936798096\n",
      "vae_loss: 0.3934364318847656\n",
      "vae_loss: 0.376730740070343\n",
      "vae_loss: 0.36807364225387573\n"
     ]
    },
    {
     "name": "stderr",
     "output_type": "stream",
     "text": [
      "2023-01-02 20:12:44,732 (client:255)INFO: {'Role': 'Client #1', 'Round': 38, 'Results_raw': {'train_avg_loss': 3.933526, 'train_total': 901, 'train_imp_ratio': -325.56811, 'train_loss': 3544.107118}}\n",
      "2023-01-02 20:12:44,741 (server:496)INFO: {'Role': 'Server #', 'Round': 38, 'Results_avg': {'test_avg_loss': 3.852617, 'test_total': 113.0, 'test_imp_ratio': -316.814514, 'test_loss': 435.345692, 'val_avg_loss': 2.799954, 'val_total': 113.0, 'val_imp_ratio': -202.927042, 'val_loss': 316.39483}}\n",
      "2023-01-02 20:12:44,743 (monitor:513)INFO: current_best=-198.108552, should_save=False\n",
      "2023-01-02 20:12:44,744 (monitor:513)INFO: current_best=-198.108552, should_save=False\n",
      "2023-01-02 20:12:44,755 (server:323)INFO: Server #0: Starting evaluation at the end of round 38.\n",
      "2023-01-02 20:12:44,761 (server:330)INFO: ----------- Starting a new training round (Round #39) -------------\n",
      "2023-01-02 20:12:44,837 (client:410)INFO: {'Role': 'Client #1', 'Round': 39, 'Results_raw': {'test_avg_loss': 3.654534, 'test_total': 113, 'test_imp_ratio': -295.383977, 'test_loss': 412.962335, 'val_avg_loss': 2.670191, 'val_total': 113, 'val_imp_ratio': -188.887946, 'val_loss': 301.731622}}\n",
      "2023-01-02 20:12:44,838 (monitor:513)INFO: current_best=-188.887946, should_save=True\n",
      "2023-01-02 20:12:44,839 (client:431)INFO: Client: #1, val_imp_ratio: -188.887946. model saved at exp/test_dir/Graph-DT-FedAvg_gin_on_graph-dt_lr0.1_lstep1_/sub_exp_20230102200809/model1.pth\n"
     ]
    },
    {
     "name": "stdout",
     "output_type": "stream",
     "text": [
      "vae_loss: 0.35985925793647766\n",
      "vae_loss: 0.39306575059890747\n",
      "vae_loss: 0.38701313734054565\n",
      "vae_loss: 0.35550132393836975\n",
      "vae_loss: 0.35859614610671997\n",
      "vae_loss: 0.38716667890548706\n",
      "vae_loss: 0.3634271025657654\n",
      "vae_loss: 0.37200072407722473\n",
      "vae_loss: 0.3755033016204834\n",
      "vae_loss: 0.3871839642524719\n",
      "vae_loss: 0.36425745487213135\n",
      "vae_loss: 0.3857995569705963\n",
      "vae_loss: 0.38039106130599976\n",
      "vae_loss: 0.3854653239250183\n",
      "vae_loss: 0.3747771978378296\n",
      "vae_loss: 0.3762591481208801\n",
      "vae_loss: 0.35771292448043823\n",
      "vae_loss: 0.3607219457626343\n",
      "vae_loss: 0.37333858013153076\n",
      "vae_loss: 0.37901756167411804\n",
      "vae_loss: 0.3786084055900574\n"
     ]
    },
    {
     "name": "stderr",
     "output_type": "stream",
     "text": [
      "2023-01-02 20:12:45,131 (client:255)INFO: {'Role': 'Client #1', 'Round': 39, 'Results_raw': {'train_avg_loss': 3.939671, 'train_total': 901, 'train_imp_ratio': -326.23286, 'train_loss': 3549.643128}}\n",
      "2023-01-02 20:12:45,137 (server:496)INFO: {'Role': 'Server #', 'Round': 39, 'Results_avg': {'test_avg_loss': 3.654534, 'test_total': 113.0, 'test_imp_ratio': -295.383977, 'test_loss': 412.962335, 'val_avg_loss': 2.670191, 'val_total': 113.0, 'val_imp_ratio': -188.887946, 'val_loss': 301.731622}}\n",
      "2023-01-02 20:12:45,139 (monitor:513)INFO: current_best=-198.108552, should_save=False\n",
      "2023-01-02 20:12:45,140 (monitor:513)INFO: current_best=-188.887946, should_save=True\n",
      "2023-01-02 20:12:45,150 (server:323)INFO: Server #0: Starting evaluation at the end of round 39.\n",
      "2023-01-02 20:12:45,156 (server:330)INFO: ----------- Starting a new training round (Round #40) -------------\n",
      "2023-01-02 20:12:45,242 (client:410)INFO: {'Role': 'Client #1', 'Round': 40, 'Results_raw': {'test_avg_loss': 3.543495, 'test_total': 113, 'test_imp_ratio': -283.37073, 'test_loss': 400.414967, 'val_avg_loss': 3.144014, 'val_total': 113, 'val_imp_ratio': -240.15083, 'val_loss': 355.273569}}\n",
      "2023-01-02 20:12:45,243 (monitor:513)INFO: current_best=-188.887946, should_save=False\n"
     ]
    },
    {
     "name": "stdout",
     "output_type": "stream",
     "text": [
      "vae_loss: 0.3844842314720154\n",
      "vae_loss: 0.35941869020462036\n",
      "vae_loss: 0.3612731695175171\n",
      "vae_loss: 0.38204967975616455\n",
      "vae_loss: 0.3532699942588806\n",
      "vae_loss: 0.36338645219802856\n",
      "vae_loss: 0.36793267726898193\n",
      "vae_loss: 0.3792327642440796\n",
      "vae_loss: 0.36686885356903076\n",
      "vae_loss: 0.37871772050857544\n",
      "vae_loss: 0.3701801896095276\n",
      "vae_loss: 0.3784823417663574\n",
      "vae_loss: 0.37772250175476074\n",
      "vae_loss: 0.3883320093154907\n",
      "vae_loss: 0.35551637411117554\n",
      "vae_loss: 0.37355777621269226\n",
      "vae_loss: 0.3616983890533447\n",
      "vae_loss: 0.3833952248096466\n",
      "vae_loss: 0.3546607494354248\n"
     ]
    },
    {
     "name": "stderr",
     "output_type": "stream",
     "text": [
      "2023-01-02 20:12:45,546 (client:255)INFO: {'Role': 'Client #1', 'Round': 40, 'Results_raw': {'train_avg_loss': 3.91277, 'train_total': 901, 'train_imp_ratio': -323.322544, 'train_loss': 3525.405897}}\n",
      "2023-01-02 20:12:45,550 (server:496)INFO: {'Role': 'Server #', 'Round': 40, 'Results_avg': {'test_avg_loss': 3.543495, 'test_total': 113.0, 'test_imp_ratio': -283.37073, 'test_loss': 400.414967, 'val_avg_loss': 3.144014, 'val_total': 113.0, 'val_imp_ratio': -240.15083, 'val_loss': 355.273569}}\n",
      "2023-01-02 20:12:45,552 (monitor:513)INFO: current_best=-188.887946, should_save=False\n",
      "2023-01-02 20:12:45,553 (monitor:513)INFO: current_best=-188.887946, should_save=False\n",
      "2023-01-02 20:12:45,558 (server:323)INFO: Server #0: Starting evaluation at the end of round 40.\n",
      "2023-01-02 20:12:45,565 (server:330)INFO: ----------- Starting a new training round (Round #41) -------------\n",
      "2023-01-02 20:12:45,642 (client:410)INFO: {'Role': 'Client #1', 'Round': 41, 'Results_raw': {'test_avg_loss': 3.592203, 'test_total': 113, 'test_imp_ratio': -288.640417, 'test_loss': 405.918974, 'val_avg_loss': 3.013489, 'val_total': 113, 'val_imp_ratio': -226.029269, 'val_loss': 340.524218}}\n",
      "2023-01-02 20:12:45,644 (monitor:513)INFO: current_best=-188.887946, should_save=False\n"
     ]
    },
    {
     "name": "stdout",
     "output_type": "stream",
     "text": [
      "vae_loss: 0.35665595531463623\n",
      "vae_loss: 0.36190545558929443\n",
      "vae_loss: 0.37774890661239624\n",
      "vae_loss: 0.37351661920547485\n",
      "vae_loss: 0.3490460515022278\n",
      "vae_loss: 0.3616865277290344\n",
      "vae_loss: 0.3632969260215759\n",
      "vae_loss: 0.35477352142333984\n",
      "vae_loss: 0.37562549114227295\n",
      "vae_loss: 0.373035192489624\n",
      "vae_loss: 0.3520299196243286\n",
      "vae_loss: 0.36723992228507996\n",
      "vae_loss: 0.3697262406349182\n",
      "vae_loss: 0.36501848697662354\n",
      "vae_loss: 0.38334783911705017\n",
      "vae_loss: 0.3897826671600342\n",
      "vae_loss: 0.3452480137348175\n",
      "vae_loss: 0.35005199909210205\n",
      "vae_loss: 0.35925841331481934\n",
      "vae_loss: 0.360690176486969\n",
      "vae_loss: 0.3516852557659149\n"
     ]
    },
    {
     "name": "stderr",
     "output_type": "stream",
     "text": [
      "2023-01-02 20:12:45,942 (client:255)INFO: {'Role': 'Client #1', 'Round': 41, 'Results_raw': {'train_avg_loss': 3.955285, 'train_total': 901, 'train_imp_ratio': -327.922297, 'train_loss': 3563.712226}}\n",
      "2023-01-02 20:12:45,948 (server:496)INFO: {'Role': 'Server #', 'Round': 41, 'Results_avg': {'test_avg_loss': 3.592203, 'test_total': 113.0, 'test_imp_ratio': -288.640417, 'test_loss': 405.918974, 'val_avg_loss': 3.013489, 'val_total': 113.0, 'val_imp_ratio': -226.029269, 'val_loss': 340.524218}}\n",
      "2023-01-02 20:12:45,950 (monitor:513)INFO: current_best=-188.887946, should_save=False\n",
      "2023-01-02 20:12:45,951 (monitor:513)INFO: current_best=-188.887946, should_save=False\n",
      "2023-01-02 20:12:45,958 (server:323)INFO: Server #0: Starting evaluation at the end of round 41.\n",
      "2023-01-02 20:12:45,965 (server:330)INFO: ----------- Starting a new training round (Round #42) -------------\n",
      "2023-01-02 20:12:46,050 (client:410)INFO: {'Role': 'Client #1', 'Round': 42, 'Results_raw': {'test_avg_loss': 3.406562, 'test_total': 113, 'test_imp_ratio': -268.555864, 'test_loss': 384.941524, 'val_avg_loss': 3.099138, 'val_total': 113, 'val_imp_ratio': -235.295711, 'val_loss': 350.202606}}\n",
      "2023-01-02 20:12:46,052 (monitor:513)INFO: current_best=-188.887946, should_save=False\n"
     ]
    },
    {
     "name": "stdout",
     "output_type": "stream",
     "text": [
      "vae_loss: 0.3386194705963135\n",
      "vae_loss: 0.3695189356803894\n",
      "vae_loss: 0.34748780727386475\n",
      "vae_loss: 0.3557124435901642\n",
      "vae_loss: 0.3599788546562195\n",
      "vae_loss: 0.3831241726875305\n",
      "vae_loss: 0.3544378876686096\n",
      "vae_loss: 0.38122624158859253\n",
      "vae_loss: 0.35011762380599976\n",
      "vae_loss: 0.3634934425354004\n",
      "vae_loss: 0.37488365173339844\n",
      "vae_loss: 0.35714811086654663\n",
      "vae_loss: 0.33299270272254944\n",
      "vae_loss: 0.3484193682670593\n",
      "vae_loss: 0.37017425894737244\n",
      "vae_loss: 0.3519667983055115\n",
      "vae_loss: 0.353122353553772\n",
      "vae_loss: 0.3506318926811218\n",
      "vae_loss: 0.368303120136261\n",
      "vae_loss: 0.3005969226360321\n"
     ]
    },
    {
     "name": "stderr",
     "output_type": "stream",
     "text": [
      "2023-01-02 20:12:46,336 (client:255)INFO: {'Role': 'Client #1', 'Round': 42, 'Results_raw': {'train_avg_loss': 3.985183, 'train_total': 901, 'train_imp_ratio': -331.156901, 'train_loss': 3590.650072}}\n",
      "2023-01-02 20:12:46,341 (server:496)INFO: {'Role': 'Server #', 'Round': 42, 'Results_avg': {'test_avg_loss': 3.406562, 'test_total': 113.0, 'test_imp_ratio': -268.555864, 'test_loss': 384.941524, 'val_avg_loss': 3.099138, 'val_total': 113.0, 'val_imp_ratio': -235.295711, 'val_loss': 350.202606}}\n",
      "2023-01-02 20:12:46,342 (monitor:513)INFO: current_best=-188.887946, should_save=False\n",
      "2023-01-02 20:12:46,342 (monitor:513)INFO: current_best=-188.887946, should_save=False\n",
      "2023-01-02 20:12:46,348 (server:323)INFO: Server #0: Starting evaluation at the end of round 42.\n",
      "2023-01-02 20:12:46,355 (server:330)INFO: ----------- Starting a new training round (Round #43) -------------\n",
      "2023-01-02 20:12:46,441 (client:410)INFO: {'Role': 'Client #1', 'Round': 43, 'Results_raw': {'test_avg_loss': 3.717712, 'test_total': 113, 'test_imp_ratio': -302.219211, 'test_loss': 420.101496, 'val_avg_loss': 3.234476, 'val_total': 113, 'val_imp_ratio': -249.937883, 'val_loss': 365.495802}}\n",
      "2023-01-02 20:12:46,442 (monitor:513)INFO: current_best=-188.887946, should_save=False\n"
     ]
    },
    {
     "name": "stdout",
     "output_type": "stream",
     "text": [
      "vae_loss: 0.3614790737628937\n",
      "vae_loss: 0.341052770614624\n",
      "vae_loss: 0.3524251878261566\n",
      "vae_loss: 0.35308873653411865\n",
      "vae_loss: 0.3624289333820343\n",
      "vae_loss: 0.37039679288864136\n",
      "vae_loss: 0.36371076107025146\n",
      "vae_loss: 0.3435141444206238\n",
      "vae_loss: 0.3813437819480896\n",
      "vae_loss: 0.3521280586719513\n",
      "vae_loss: 0.3610915541648865\n",
      "vae_loss: 0.3595707416534424\n"
     ]
    },
    {
     "name": "stderr",
     "output_type": "stream",
     "text": [
      "2023-01-02 20:12:46,738 (client:255)INFO: {'Role': 'Client #1', 'Round': 43, 'Results_raw': {'train_avg_loss': 3.816123, 'train_total': 901, 'train_imp_ratio': -312.866252, 'train_loss': 3438.32667}}\n",
      "2023-01-02 20:12:46,742 (server:496)INFO: {'Role': 'Server #', 'Round': 43, 'Results_avg': {'test_avg_loss': 3.717712, 'test_total': 113.0, 'test_imp_ratio': -302.219211, 'test_loss': 420.101496, 'val_avg_loss': 3.234476, 'val_total': 113.0, 'val_imp_ratio': -249.937883, 'val_loss': 365.495802}}\n",
      "2023-01-02 20:12:46,743 (monitor:513)INFO: current_best=-188.887946, should_save=False\n",
      "2023-01-02 20:12:46,744 (monitor:513)INFO: current_best=-188.887946, should_save=False\n",
      "2023-01-02 20:12:46,750 (server:323)INFO: Server #0: Starting evaluation at the end of round 43.\n",
      "2023-01-02 20:12:46,762 (server:330)INFO: ----------- Starting a new training round (Round #44) -------------\n"
     ]
    },
    {
     "name": "stdout",
     "output_type": "stream",
     "text": [
      "vae_loss: 0.3547792136669159\n",
      "vae_loss: 0.3383316993713379\n",
      "vae_loss: 0.3535836935043335\n",
      "vae_loss: 0.359178364276886\n",
      "vae_loss: 0.33274173736572266\n",
      "vae_loss: 0.3436388373374939\n",
      "vae_loss: 0.2955566346645355\n",
      "vae_loss: 0.3624271750450134\n",
      "vae_loss: 0.3360676169395447\n"
     ]
    },
    {
     "name": "stderr",
     "output_type": "stream",
     "text": [
      "2023-01-02 20:12:46,839 (client:410)INFO: {'Role': 'Client #1', 'Round': 44, 'Results_raw': {'test_avg_loss': 3.559888, 'test_total': 113, 'test_imp_ratio': -285.144257, 'test_loss': 402.267399, 'val_avg_loss': 2.681428, 'val_total': 113, 'val_imp_ratio': -190.10359, 'val_loss': 303.001346}}\n",
      "2023-01-02 20:12:46,841 (monitor:513)INFO: current_best=-188.887946, should_save=False\n"
     ]
    },
    {
     "name": "stdout",
     "output_type": "stream",
     "text": [
      "vae_loss: 0.34609854221343994\n",
      "vae_loss: 0.35339996218681335\n",
      "vae_loss: 0.36295247077941895\n",
      "vae_loss: 0.3373302221298218\n",
      "vae_loss: 0.3712960183620453\n",
      "vae_loss: 0.34902966022491455\n",
      "vae_loss: 0.3492490351200104\n",
      "vae_loss: 0.344373494386673\n",
      "vae_loss: 0.3313765525817871\n",
      "vae_loss: 0.3533898591995239\n",
      "vae_loss: 0.364294171333313\n"
     ]
    },
    {
     "name": "stderr",
     "output_type": "stream",
     "text": [
      "2023-01-02 20:12:47,140 (client:255)INFO: {'Role': 'Client #1', 'Round': 44, 'Results_raw': {'train_avg_loss': 3.85046, 'train_total': 901, 'train_imp_ratio': -316.581151, 'train_loss': 3469.264198}}\n",
      "2023-01-02 20:12:47,144 (server:496)INFO: {'Role': 'Server #', 'Round': 44, 'Results_avg': {'test_avg_loss': 3.559888, 'test_total': 113.0, 'test_imp_ratio': -285.144257, 'test_loss': 402.267399, 'val_avg_loss': 2.681428, 'val_total': 113.0, 'val_imp_ratio': -190.10359, 'val_loss': 303.001346}}\n",
      "2023-01-02 20:12:47,145 (monitor:513)INFO: current_best=-188.887946, should_save=False\n",
      "2023-01-02 20:12:47,146 (monitor:513)INFO: current_best=-188.887946, should_save=False\n",
      "2023-01-02 20:12:47,151 (server:323)INFO: Server #0: Starting evaluation at the end of round 44.\n",
      "2023-01-02 20:12:47,158 (server:330)INFO: ----------- Starting a new training round (Round #45) -------------\n",
      "2023-01-02 20:12:47,238 (client:410)INFO: {'Role': 'Client #1', 'Round': 45, 'Results_raw': {'test_avg_loss': 3.473035, 'test_total': 113, 'test_imp_ratio': -275.747603, 'test_loss': 392.452954, 'val_avg_loss': 2.726086, 'val_total': 113, 'val_imp_ratio': -194.935209, 'val_loss': 308.047712}}\n"
     ]
    },
    {
     "name": "stdout",
     "output_type": "stream",
     "text": [
      "vae_loss: 0.36720454692840576\n",
      "vae_loss: 0.3532918691635132\n",
      "vae_loss: 0.3555004596710205\n",
      "vae_loss: 0.3563728928565979\n",
      "vae_loss: 0.3264380395412445\n",
      "vae_loss: 0.26923757791519165\n",
      "vae_loss: 0.35975873470306396\n",
      "vae_loss: 0.33212682604789734\n",
      "vae_loss: 0.34585434198379517\n",
      "vae_loss: 0.3522689938545227\n"
     ]
    },
    {
     "name": "stderr",
     "output_type": "stream",
     "text": [
      "2023-01-02 20:12:47,239 (monitor:513)INFO: current_best=-188.887946, should_save=False\n"
     ]
    },
    {
     "name": "stdout",
     "output_type": "stream",
     "text": [
      "vae_loss: 0.3622398376464844\n",
      "vae_loss: 0.35282862186431885\n",
      "vae_loss: 0.3411588668823242\n",
      "vae_loss: 0.36923694610595703\n",
      "vae_loss: 0.3638041913509369\n",
      "vae_loss: 0.33219173550605774\n",
      "vae_loss: 0.3421343266963959\n",
      "vae_loss: 0.36446332931518555\n",
      "vae_loss: 0.3493070602416992\n",
      "vae_loss: 0.3402175009250641\n",
      "vae_loss: 0.33324509859085083\n"
     ]
    },
    {
     "name": "stderr",
     "output_type": "stream",
     "text": [
      "2023-01-02 20:12:47,534 (client:255)INFO: {'Role': 'Client #1', 'Round': 45, 'Results_raw': {'train_avg_loss': 3.821297, 'train_total': 901, 'train_imp_ratio': -313.426045, 'train_loss': 3442.988421}}\n",
      "2023-01-02 20:12:47,539 (server:496)INFO: {'Role': 'Server #', 'Round': 45, 'Results_avg': {'test_avg_loss': 3.473035, 'test_total': 113.0, 'test_imp_ratio': -275.747603, 'test_loss': 392.452954, 'val_avg_loss': 2.726086, 'val_total': 113.0, 'val_imp_ratio': -194.935209, 'val_loss': 308.047712}}\n",
      "2023-01-02 20:12:47,540 (monitor:513)INFO: current_best=-188.887946, should_save=False\n",
      "2023-01-02 20:12:47,541 (monitor:513)INFO: current_best=-188.887946, should_save=False\n",
      "2023-01-02 20:12:47,546 (server:323)INFO: Server #0: Starting evaluation at the end of round 45.\n",
      "2023-01-02 20:12:47,553 (server:330)INFO: ----------- Starting a new training round (Round #46) -------------\n",
      "2023-01-02 20:12:47,635 (client:410)INFO: {'Role': 'Client #1', 'Round': 46, 'Results_raw': {'test_avg_loss': 3.59288, 'test_total': 113, 'test_imp_ratio': -288.713674, 'test_loss': 405.995441, 'val_avg_loss': 3.108228, 'val_total': 113, 'val_imp_ratio': -236.279101, 'val_loss': 351.22975}}\n",
      "2023-01-02 20:12:47,636 (monitor:513)INFO: current_best=-188.887946, should_save=False\n"
     ]
    },
    {
     "name": "stdout",
     "output_type": "stream",
     "text": [
      "vae_loss: 0.33777719736099243\n",
      "vae_loss: 0.3304501175880432\n",
      "vae_loss: 0.3529415726661682\n",
      "vae_loss: 0.29550451040267944\n",
      "vae_loss: 0.35426273941993713\n",
      "vae_loss: 0.3276888132095337\n",
      "vae_loss: 0.3389577865600586\n",
      "vae_loss: 0.3443715572357178\n",
      "vae_loss: 0.3358021676540375\n",
      "vae_loss: 0.35403209924697876\n",
      "vae_loss: 0.34390032291412354\n",
      "vae_loss: 0.3374927043914795\n",
      "vae_loss: 0.3598734736442566\n",
      "vae_loss: 0.32994046807289124\n",
      "vae_loss: 0.3269643187522888\n",
      "vae_loss: 0.35423141717910767\n",
      "vae_loss: 0.32906484603881836\n",
      "vae_loss: 0.3447569012641907\n",
      "vae_loss: 0.3353751599788666\n",
      "vae_loss: 0.3485015630722046\n",
      "vae_loss: 0.3571324646472931\n"
     ]
    },
    {
     "name": "stderr",
     "output_type": "stream",
     "text": [
      "2023-01-02 20:12:47,922 (client:255)INFO: {'Role': 'Client #1', 'Round': 46, 'Results_raw': {'train_avg_loss': 3.923013, 'train_total': 901, 'train_imp_ratio': -324.430701, 'train_loss': 3534.634738}}\n",
      "2023-01-02 20:12:47,926 (server:496)INFO: {'Role': 'Server #', 'Round': 46, 'Results_avg': {'test_avg_loss': 3.59288, 'test_total': 113.0, 'test_imp_ratio': -288.713674, 'test_loss': 405.995441, 'val_avg_loss': 3.108228, 'val_total': 113.0, 'val_imp_ratio': -236.279101, 'val_loss': 351.22975}}\n",
      "2023-01-02 20:12:47,928 (monitor:513)INFO: current_best=-188.887946, should_save=False\n",
      "2023-01-02 20:12:47,929 (monitor:513)INFO: current_best=-188.887946, should_save=False\n",
      "2023-01-02 20:12:47,934 (server:323)INFO: Server #0: Starting evaluation at the end of round 46.\n",
      "2023-01-02 20:12:47,941 (server:330)INFO: ----------- Starting a new training round (Round #47) -------------\n",
      "2023-01-02 20:12:48,022 (client:410)INFO: {'Role': 'Client #1', 'Round': 47, 'Results_raw': {'test_avg_loss': 3.589533, 'test_total': 113, 'test_imp_ratio': -288.351545, 'test_loss': 405.61727, 'val_avg_loss': 3.173172, 'val_total': 113, 'val_imp_ratio': -243.305394, 'val_loss': 358.568431}}\n",
      "2023-01-02 20:12:48,023 (monitor:513)INFO: current_best=-188.887946, should_save=False\n"
     ]
    },
    {
     "name": "stdout",
     "output_type": "stream",
     "text": [
      "vae_loss: 0.33126547932624817\n",
      "vae_loss: 0.33475443720817566\n",
      "vae_loss: 0.35117095708847046\n",
      "vae_loss: 0.32729572057724\n",
      "vae_loss: 0.33242350816726685\n",
      "vae_loss: 0.3397132158279419\n",
      "vae_loss: 0.3577989339828491\n",
      "vae_loss: 0.338534951210022\n",
      "vae_loss: 0.34343624114990234\n",
      "vae_loss: 0.32673346996307373\n",
      "vae_loss: 0.3546130061149597\n",
      "vae_loss: 0.3426448106765747\n",
      "vae_loss: 0.3322998881340027\n",
      "vae_loss: 0.3306426703929901\n",
      "vae_loss: 0.3282977342605591\n",
      "vae_loss: 0.33525151014328003\n",
      "vae_loss: 0.3495272994041443\n",
      "vae_loss: 0.3376041650772095\n",
      "vae_loss: 0.32475146651268005\n",
      "vae_loss: 0.34786683320999146\n",
      "vae_loss: 0.33737456798553467\n"
     ]
    },
    {
     "name": "stderr",
     "output_type": "stream",
     "text": [
      "2023-01-02 20:12:48,315 (client:255)INFO: {'Role': 'Client #1', 'Round': 47, 'Results_raw': {'train_avg_loss': 3.871665, 'train_total': 901, 'train_imp_ratio': -318.875417, 'train_loss': 3488.370282}}\n",
      "2023-01-02 20:12:48,326 (server:496)INFO: {'Role': 'Server #', 'Round': 47, 'Results_avg': {'test_avg_loss': 3.589533, 'test_total': 113.0, 'test_imp_ratio': -288.351545, 'test_loss': 405.61727, 'val_avg_loss': 3.173172, 'val_total': 113.0, 'val_imp_ratio': -243.305394, 'val_loss': 358.568431}}\n",
      "2023-01-02 20:12:48,327 (monitor:513)INFO: current_best=-188.887946, should_save=False\n",
      "2023-01-02 20:12:48,328 (monitor:513)INFO: current_best=-188.887946, should_save=False\n",
      "2023-01-02 20:12:48,334 (server:323)INFO: Server #0: Starting evaluation at the end of round 47.\n",
      "2023-01-02 20:12:48,341 (server:330)INFO: ----------- Starting a new training round (Round #48) -------------\n",
      "2023-01-02 20:12:48,425 (client:410)INFO: {'Role': 'Client #1', 'Round': 48, 'Results_raw': {'test_avg_loss': 3.507112, 'test_total': 113, 'test_imp_ratio': -279.434386, 'test_loss': 396.303652, 'val_avg_loss': 2.892186, 'val_total': 113, 'val_imp_ratio': -212.905516, 'val_loss': 326.816985}}\n",
      "2023-01-02 20:12:48,426 (monitor:513)INFO: current_best=-188.887946, should_save=False\n"
     ]
    },
    {
     "name": "stdout",
     "output_type": "stream",
     "text": [
      "vae_loss: 0.3473810851573944\n",
      "vae_loss: 0.32577085494995117\n",
      "vae_loss: 0.3296853303909302\n",
      "vae_loss: 0.337974488735199\n",
      "vae_loss: 0.3383445143699646\n",
      "vae_loss: 0.31824958324432373\n",
      "vae_loss: 0.3485484719276428\n",
      "vae_loss: 0.34470728039741516\n",
      "vae_loss: 0.35613399744033813\n",
      "vae_loss: 0.3245512843132019\n",
      "vae_loss: 0.3308326303958893\n",
      "vae_loss: 0.3294856548309326\n"
     ]
    },
    {
     "name": "stderr",
     "output_type": "stream",
     "text": [
      "2023-01-02 20:12:48,702 (client:255)INFO: {'Role': 'Client #1', 'Round': 48, 'Results_raw': {'train_avg_loss': 3.93595, 'train_total': 901, 'train_imp_ratio': -325.830388, 'train_loss': 3546.291351}}\n",
      "2023-01-02 20:12:48,707 (server:496)INFO: {'Role': 'Server #', 'Round': 48, 'Results_avg': {'test_avg_loss': 3.507112, 'test_total': 113.0, 'test_imp_ratio': -279.434386, 'test_loss': 396.303652, 'val_avg_loss': 2.892186, 'val_total': 113.0, 'val_imp_ratio': -212.905516, 'val_loss': 326.816985}}\n",
      "2023-01-02 20:12:48,708 (monitor:513)INFO: current_best=-188.887946, should_save=False\n",
      "2023-01-02 20:12:48,710 (monitor:513)INFO: current_best=-188.887946, should_save=False\n",
      "2023-01-02 20:12:48,717 (server:323)INFO: Server #0: Starting evaluation at the end of round 48.\n",
      "2023-01-02 20:12:48,724 (server:330)INFO: ----------- Starting a new training round (Round #49) -------------\n"
     ]
    },
    {
     "name": "stdout",
     "output_type": "stream",
     "text": [
      "vae_loss: 0.34158194065093994\n",
      "vae_loss: 0.32705122232437134\n",
      "vae_loss: 0.32725995779037476\n",
      "vae_loss: 0.32561570405960083\n",
      "vae_loss: 0.3403192162513733\n",
      "vae_loss: 0.3325901925563812\n",
      "vae_loss: 0.30292707681655884\n",
      "vae_loss: 0.34379515051841736\n",
      "vae_loss: 0.3188171088695526\n"
     ]
    },
    {
     "name": "stderr",
     "output_type": "stream",
     "text": [
      "2023-01-02 20:12:48,811 (client:410)INFO: {'Role': 'Client #1', 'Round': 49, 'Results_raw': {'test_avg_loss': 3.705483, 'test_total': 113, 'test_imp_ratio': -300.896159, 'test_loss': 418.719561, 'val_avg_loss': 3.076283, 'val_total': 113, 'val_imp_ratio': -232.822999, 'val_loss': 347.619962}}\n",
      "2023-01-02 20:12:48,813 (monitor:513)INFO: current_best=-188.887946, should_save=False\n"
     ]
    },
    {
     "name": "stdout",
     "output_type": "stream",
     "text": [
      "vae_loss: 0.32653215527534485\n",
      "vae_loss: 0.33602339029312134\n",
      "vae_loss: 0.343049556016922\n",
      "vae_loss: 0.31629228591918945\n",
      "vae_loss: 0.3466961979866028\n",
      "vae_loss: 0.33616918325424194\n",
      "vae_loss: 0.32269299030303955\n",
      "vae_loss: 0.3404389023780823\n",
      "vae_loss: 0.32961440086364746\n",
      "vae_loss: 0.34403377771377563\n",
      "vae_loss: 0.314535528421402\n"
     ]
    },
    {
     "name": "stderr",
     "output_type": "stream",
     "text": [
      "2023-01-02 20:12:49,112 (client:255)INFO: {'Role': 'Client #1', 'Round': 49, 'Results_raw': {'train_avg_loss': 3.832101, 'train_total': 901, 'train_imp_ratio': -314.594922, 'train_loss': 3452.722916}}\n",
      "2023-01-02 20:12:49,116 (server:496)INFO: {'Role': 'Server #', 'Round': 49, 'Results_avg': {'test_avg_loss': 3.705483, 'test_total': 113.0, 'test_imp_ratio': -300.896159, 'test_loss': 418.719561, 'val_avg_loss': 3.076283, 'val_total': 113.0, 'val_imp_ratio': -232.822999, 'val_loss': 347.619962}}\n",
      "2023-01-02 20:12:49,118 (monitor:513)INFO: current_best=-188.887946, should_save=False\n",
      "2023-01-02 20:12:49,119 (monitor:513)INFO: current_best=-188.887946, should_save=False\n",
      "2023-01-02 20:12:49,124 (server:323)INFO: Server #0: Starting evaluation at the end of round 49.\n",
      "2023-01-02 20:12:49,132 (server:330)INFO: ----------- Starting a new training round (Round #50) -------------\n"
     ]
    },
    {
     "name": "stdout",
     "output_type": "stream",
     "text": [
      "vae_loss: 0.34015125036239624\n",
      "vae_loss: 0.3307945132255554\n",
      "vae_loss: 0.33617016673088074\n",
      "vae_loss: 0.3128771185874939\n",
      "vae_loss: 0.3217213451862335\n",
      "vae_loss: 0.36432313919067383\n",
      "vae_loss: 0.33982449769973755\n",
      "vae_loss: 0.31823617219924927\n",
      "vae_loss: 0.32483208179473877\n"
     ]
    },
    {
     "name": "stderr",
     "output_type": "stream",
     "text": [
      "2023-01-02 20:12:49,216 (client:410)INFO: {'Role': 'Client #1', 'Round': 50, 'Results_raw': {'test_avg_loss': 3.816589, 'test_total': 113, 'test_imp_ratio': -312.916603, 'test_loss': 431.274504, 'val_avg_loss': 2.827936, 'val_total': 113, 'val_imp_ratio': -205.954362, 'val_loss': 319.55679}}\n",
      "2023-01-02 20:12:49,217 (monitor:513)INFO: current_best=-188.887946, should_save=False\n"
     ]
    },
    {
     "name": "stdout",
     "output_type": "stream",
     "text": [
      "vae_loss: 0.32510679960250854\n",
      "vae_loss: 0.326985239982605\n",
      "vae_loss: 0.32026857137680054\n",
      "vae_loss: 0.31054192781448364\n",
      "vae_loss: 0.3239840269088745\n",
      "vae_loss: 0.32234281301498413\n",
      "vae_loss: 0.3390556871891022\n",
      "vae_loss: 0.31839805841445923\n",
      "vae_loss: 0.33215755224227905\n",
      "vae_loss: 0.34731680154800415\n"
     ]
    },
    {
     "name": "stderr",
     "output_type": "stream",
     "text": [
      "2023-01-02 20:12:49,522 (client:255)INFO: {'Role': 'Client #1', 'Round': 50, 'Results_raw': {'train_avg_loss': 4.008777, 'train_total': 901, 'train_imp_ratio': -333.709474, 'train_loss': 3611.907838}}\n",
      "2023-01-02 20:12:49,527 (server:496)INFO: {'Role': 'Server #', 'Round': 50, 'Results_avg': {'test_avg_loss': 3.816589, 'test_total': 113.0, 'test_imp_ratio': -312.916603, 'test_loss': 431.274504, 'val_avg_loss': 2.827936, 'val_total': 113.0, 'val_imp_ratio': -205.954362, 'val_loss': 319.55679}}\n",
      "2023-01-02 20:12:49,528 (monitor:513)INFO: current_best=-188.887946, should_save=False\n",
      "2023-01-02 20:12:49,529 (monitor:513)INFO: current_best=-188.887946, should_save=False\n",
      "2023-01-02 20:12:49,542 (server:323)INFO: Server #0: Starting evaluation at the end of round 50.\n",
      "2023-01-02 20:12:49,547 (server:330)INFO: ----------- Starting a new training round (Round #51) -------------\n"
     ]
    },
    {
     "name": "stdout",
     "output_type": "stream",
     "text": [
      "vae_loss: 0.3196955919265747\n",
      "vae_loss: 0.34860920906066895\n",
      "vae_loss: 0.35002386569976807\n",
      "vae_loss: 0.30588090419769287\n",
      "vae_loss: 0.32210615277290344\n",
      "vae_loss: 0.28699758648872375\n",
      "vae_loss: 0.33257097005844116\n",
      "vae_loss: 0.31181854009628296\n",
      "vae_loss: 0.31834131479263306\n"
     ]
    },
    {
     "name": "stderr",
     "output_type": "stream",
     "text": [
      "2023-01-02 20:12:49,637 (client:410)INFO: {'Role': 'Client #1', 'Round': 51, 'Results_raw': {'test_avg_loss': 3.718141, 'test_total': 113, 'test_imp_ratio': -302.265641, 'test_loss': 420.149956, 'val_avg_loss': 3.312168, 'val_total': 113, 'val_imp_ratio': -258.343434, 'val_loss': 374.275001}}\n",
      "2023-01-02 20:12:49,639 (monitor:513)INFO: current_best=-188.887946, should_save=False\n"
     ]
    },
    {
     "name": "stdout",
     "output_type": "stream",
     "text": [
      "vae_loss: 0.3247310519218445\n",
      "vae_loss: 0.314314067363739\n",
      "vae_loss: 0.3263855576515198\n",
      "vae_loss: 0.3345205783843994\n",
      "vae_loss: 0.32552313804626465\n",
      "vae_loss: 0.3345796465873718\n",
      "vae_loss: 0.31319716572761536\n",
      "vae_loss: 0.30430346727371216\n",
      "vae_loss: 0.3308095932006836\n",
      "vae_loss: 0.3295465111732483\n"
     ]
    },
    {
     "name": "stderr",
     "output_type": "stream",
     "text": [
      "2023-01-02 20:12:49,959 (client:255)INFO: {'Role': 'Client #1', 'Round': 51, 'Results_raw': {'train_avg_loss': 3.847404, 'train_total': 901, 'train_imp_ratio': -316.250594, 'train_loss': 3466.511154}}\n",
      "2023-01-02 20:12:49,965 (server:496)INFO: {'Role': 'Server #', 'Round': 51, 'Results_avg': {'test_avg_loss': 3.718141, 'test_total': 113.0, 'test_imp_ratio': -302.265641, 'test_loss': 420.149956, 'val_avg_loss': 3.312168, 'val_total': 113.0, 'val_imp_ratio': -258.343434, 'val_loss': 374.275001}}\n",
      "2023-01-02 20:12:49,967 (monitor:513)INFO: current_best=-188.887946, should_save=False\n",
      "2023-01-02 20:12:49,968 (monitor:513)INFO: current_best=-188.887946, should_save=False\n",
      "2023-01-02 20:12:49,977 (server:323)INFO: Server #0: Starting evaluation at the end of round 51.\n",
      "2023-01-02 20:12:49,986 (server:330)INFO: ----------- Starting a new training round (Round #52) -------------\n"
     ]
    },
    {
     "name": "stdout",
     "output_type": "stream",
     "text": [
      "vae_loss: 0.32680588960647583\n",
      "vae_loss: 0.33326905965805054\n",
      "vae_loss: 0.31202882528305054\n",
      "vae_loss: 0.33161813020706177\n",
      "vae_loss: 0.3122051954269409\n",
      "vae_loss: 0.3793800473213196\n",
      "vae_loss: 0.3311234414577484\n",
      "vae_loss: 0.30839991569519043\n"
     ]
    },
    {
     "name": "stderr",
     "output_type": "stream",
     "text": [
      "2023-01-02 20:12:50,079 (client:410)INFO: {'Role': 'Client #1', 'Round': 52, 'Results_raw': {'test_avg_loss': 3.519711, 'test_total': 113, 'test_imp_ratio': -280.797444, 'test_loss': 397.727317, 'val_avg_loss': 2.83417, 'val_total': 113, 'val_imp_ratio': -206.62876, 'val_loss': 320.261162}}\n",
      "2023-01-02 20:12:50,081 (monitor:513)INFO: current_best=-188.887946, should_save=False\n"
     ]
    },
    {
     "name": "stdout",
     "output_type": "stream",
     "text": [
      "vae_loss: 0.3164726197719574\n",
      "vae_loss: 0.3188053369522095\n",
      "vae_loss: 0.3272174298763275\n",
      "vae_loss: 0.3170003294944763\n",
      "vae_loss: 0.3212350606918335\n",
      "vae_loss: 0.32396405935287476\n",
      "vae_loss: 0.2858375906944275\n",
      "vae_loss: 0.3307183086872101\n",
      "vae_loss: 0.33111703395843506\n",
      "vae_loss: 0.3271244168281555\n"
     ]
    },
    {
     "name": "stderr",
     "output_type": "stream",
     "text": [
      "2023-01-02 20:13:52,733 (client:255)INFO: {'Role': 'Client #1', 'Round': 52, 'Results_raw': {'train_avg_loss': 3.807611, 'train_total': 901, 'train_imp_ratio': -311.945389, 'train_loss': 3430.657868}}\n",
      "2023-01-02 20:13:52,738 (server:496)INFO: {'Role': 'Server #', 'Round': 52, 'Results_avg': {'test_avg_loss': 3.519711, 'test_total': 113.0, 'test_imp_ratio': -280.797444, 'test_loss': 397.727317, 'val_avg_loss': 2.83417, 'val_total': 113.0, 'val_imp_ratio': -206.62876, 'val_loss': 320.261162}}\n",
      "2023-01-02 20:13:52,739 (monitor:513)INFO: current_best=-188.887946, should_save=False\n",
      "2023-01-02 20:13:52,740 (monitor:513)INFO: current_best=-188.887946, should_save=False\n",
      "2023-01-02 20:13:52,746 (server:323)INFO: Server #0: Starting evaluation at the end of round 52.\n",
      "2023-01-02 20:13:52,753 (server:330)INFO: ----------- Starting a new training round (Round #53) -------------\n"
     ]
    },
    {
     "name": "stdout",
     "output_type": "stream",
     "text": [
      "vae_loss: 0.3279450535774231\n",
      "vae_loss: 0.3051808476448059\n",
      "vae_loss: 0.3200770616531372\n",
      "vae_loss: 0.3258982002735138\n",
      "vae_loss: 0.3204687833786011\n",
      "vae_loss: 0.332364946603775\n",
      "vae_loss: 0.274495005607605\n",
      "vae_loss: 0.3266133964061737\n",
      "vae_loss: 0.30586379766464233\n"
     ]
    },
    {
     "name": "stderr",
     "output_type": "stream",
     "text": [
      "2023-01-02 20:13:52,843 (client:410)INFO: {'Role': 'Client #1', 'Round': 53, 'Results_raw': {'test_avg_loss': 4.086173, 'test_total': 113, 'test_imp_ratio': -342.08304, 'test_loss': 461.73757, 'val_avg_loss': 3.112519, 'val_total': 113, 'val_imp_ratio': -236.743376, 'val_loss': 351.714662}}\n",
      "2023-01-02 20:13:52,844 (monitor:513)INFO: current_best=-188.887946, should_save=False\n"
     ]
    },
    {
     "name": "stdout",
     "output_type": "stream",
     "text": [
      "vae_loss: 0.31470152735710144\n",
      "vae_loss: 0.31810617446899414\n",
      "vae_loss: 0.30999577045440674\n",
      "vae_loss: 0.3373417854309082\n",
      "vae_loss: 0.3273066580295563\n",
      "vae_loss: 0.31548237800598145\n",
      "vae_loss: 0.3110763430595398\n",
      "vae_loss: 0.3087441623210907\n",
      "vae_loss: 0.3428804874420166\n",
      "vae_loss: 0.3068031668663025\n",
      "vae_loss: 0.3090396523475647\n",
      "vae_loss: 0.3051632046699524\n"
     ]
    },
    {
     "name": "stderr",
     "output_type": "stream",
     "text": [
      "2023-01-02 20:13:53,132 (client:255)INFO: {'Role': 'Client #1', 'Round': 53, 'Results_raw': {'train_avg_loss': 3.644646, 'train_total': 901, 'train_imp_ratio': -294.31415, 'train_loss': 3283.8256}}\n",
      "2023-01-02 20:13:53,137 (server:496)INFO: {'Role': 'Server #', 'Round': 53, 'Results_avg': {'test_avg_loss': 4.086173, 'test_total': 113.0, 'test_imp_ratio': -342.08304, 'test_loss': 461.73757, 'val_avg_loss': 3.112519, 'val_total': 113.0, 'val_imp_ratio': -236.743376, 'val_loss': 351.714662}}\n",
      "2023-01-02 20:13:53,138 (monitor:513)INFO: current_best=-188.887946, should_save=False\n",
      "2023-01-02 20:13:53,139 (monitor:513)INFO: current_best=-188.887946, should_save=False\n",
      "2023-01-02 20:13:53,144 (server:323)INFO: Server #0: Starting evaluation at the end of round 53.\n",
      "2023-01-02 20:13:53,151 (server:330)INFO: ----------- Starting a new training round (Round #54) -------------\n",
      "2023-01-02 20:13:53,227 (client:410)INFO: {'Role': 'Client #1', 'Round': 54, 'Results_raw': {'test_avg_loss': 3.44158, 'test_total': 113, 'test_imp_ratio': -272.344535, 'test_loss': 388.898583, 'val_avg_loss': 3.306705, 'val_total': 113, 'val_imp_ratio': -257.752405, 'val_loss': 373.657709}}\n",
      "2023-01-02 20:13:53,229 (monitor:513)INFO: current_best=-188.887946, should_save=False\n"
     ]
    },
    {
     "name": "stdout",
     "output_type": "stream",
     "text": [
      "vae_loss: 0.32214516401290894\n",
      "vae_loss: 0.3318740129470825\n",
      "vae_loss: 0.30310148000717163\n",
      "vae_loss: 0.3227662444114685\n",
      "vae_loss: 0.3363889157772064\n",
      "vae_loss: 0.32193830609321594\n",
      "vae_loss: 0.30167055130004883\n",
      "vae_loss: 0.3081858456134796\n",
      "vae_loss: 0.31372779607772827\n",
      "vae_loss: 0.3282734155654907\n",
      "vae_loss: 0.31699833273887634\n",
      "vae_loss: 0.31832802295684814\n",
      "vae_loss: 0.31125566363334656\n",
      "vae_loss: 0.3032533526420593\n",
      "vae_loss: 0.3155837059020996\n",
      "vae_loss: 0.31482309103012085\n",
      "vae_loss: 0.3236626982688904\n",
      "vae_loss: 0.3112872242927551\n",
      "vae_loss: 0.30477356910705566\n",
      "vae_loss: 0.29823535680770874\n",
      "vae_loss: 0.3196302652359009\n"
     ]
    },
    {
     "name": "stderr",
     "output_type": "stream",
     "text": [
      "2023-01-02 20:13:53,517 (client:255)INFO: {'Role': 'Client #1', 'Round': 54, 'Results_raw': {'train_avg_loss': 3.787986, 'train_total': 901, 'train_imp_ratio': -309.822088, 'train_loss': 3412.97521}}\n",
      "2023-01-02 20:13:53,525 (server:496)INFO: {'Role': 'Server #', 'Round': 54, 'Results_avg': {'test_avg_loss': 3.44158, 'test_total': 113.0, 'test_imp_ratio': -272.344535, 'test_loss': 388.898583, 'val_avg_loss': 3.306705, 'val_total': 113.0, 'val_imp_ratio': -257.752405, 'val_loss': 373.657709}}\n",
      "2023-01-02 20:13:53,527 (monitor:513)INFO: current_best=-188.887946, should_save=False\n",
      "2023-01-02 20:13:53,528 (monitor:513)INFO: current_best=-188.887946, should_save=False\n",
      "2023-01-02 20:13:53,536 (server:323)INFO: Server #0: Starting evaluation at the end of round 54.\n",
      "2023-01-02 20:13:53,544 (server:330)INFO: ----------- Starting a new training round (Round #55) -------------\n",
      "2023-01-02 20:13:53,623 (client:410)INFO: {'Role': 'Client #1', 'Round': 55, 'Results_raw': {'test_avg_loss': 3.553404, 'test_total': 113, 'test_imp_ratio': -284.442749, 'test_loss': 401.534685, 'val_avg_loss': 2.941786, 'val_total': 113, 'val_imp_ratio': -218.27183, 'val_loss': 332.421853}}\n",
      "2023-01-02 20:13:53,625 (monitor:513)INFO: current_best=-188.887946, should_save=False\n"
     ]
    },
    {
     "name": "stdout",
     "output_type": "stream",
     "text": [
      "vae_loss: 0.31754258275032043\n",
      "vae_loss: 0.318039208650589\n",
      "vae_loss: 0.2407185435295105\n",
      "vae_loss: 0.32072263956069946\n",
      "vae_loss: 0.29907363653182983\n",
      "vae_loss: 0.30539679527282715\n",
      "vae_loss: 0.31189513206481934\n",
      "vae_loss: 0.3152175545692444\n",
      "vae_loss: 0.32636958360671997\n"
     ]
    },
    {
     "name": "stderr",
     "output_type": "stream",
     "text": [
      "2023-01-02 20:13:53,881 (client:255)INFO: {'Role': 'Client #1', 'Round': 55, 'Results_raw': {'train_avg_loss': 3.864036, 'train_total': 901, 'train_imp_ratio': -318.049993, 'train_loss': 3481.496622}}\n"
     ]
    },
    {
     "name": "stdout",
     "output_type": "stream",
     "text": [
      "vae_loss: 0.3129417300224304\n",
      "vae_loss: 0.31243157386779785\n",
      "vae_loss: 0.300896018743515\n",
      "vae_loss: 0.29951706528663635\n",
      "vae_loss: 0.3085889220237732\n",
      "vae_loss: 0.32092005014419556\n",
      "vae_loss: 0.29657182097435\n",
      "vae_loss: 0.32154738903045654\n",
      "vae_loss: 0.31222862005233765\n",
      "vae_loss: 0.3046359717845917\n",
      "vae_loss: 0.2996055483818054\n",
      "vae_loss: 0.3130870759487152\n",
      "vae_loss: 0.36783817410469055\n"
     ]
    },
    {
     "name": "stderr",
     "output_type": "stream",
     "text": [
      "2023-01-02 20:13:53,891 (server:496)INFO: {'Role': 'Server #', 'Round': 55, 'Results_avg': {'test_avg_loss': 3.553404, 'test_total': 113.0, 'test_imp_ratio': -284.442749, 'test_loss': 401.534685, 'val_avg_loss': 2.941786, 'val_total': 113.0, 'val_imp_ratio': -218.27183, 'val_loss': 332.421853}}\n",
      "2023-01-02 20:13:53,893 (monitor:513)INFO: current_best=-188.887946, should_save=False\n",
      "2023-01-02 20:13:53,894 (monitor:513)INFO: current_best=-188.887946, should_save=False\n",
      "2023-01-02 20:13:53,899 (server:323)INFO: Server #0: Starting evaluation at the end of round 55.\n",
      "2023-01-02 20:13:53,906 (server:330)INFO: ----------- Starting a new training round (Round #56) -------------\n",
      "2023-01-02 20:13:53,982 (client:410)INFO: {'Role': 'Client #1', 'Round': 56, 'Results_raw': {'test_avg_loss': 3.380649, 'test_total': 113, 'test_imp_ratio': -265.752389, 'test_loss': 382.013379, 'val_avg_loss': 2.736789, 'val_total': 113, 'val_imp_ratio': -196.093176, 'val_loss': 309.257187}}\n",
      "2023-01-02 20:13:53,984 (monitor:513)INFO: current_best=-188.887946, should_save=False\n"
     ]
    },
    {
     "name": "stdout",
     "output_type": "stream",
     "text": [
      "vae_loss: 0.31821590662002563\n",
      "vae_loss: 0.2954404354095459\n",
      "vae_loss: 0.30231693387031555\n",
      "vae_loss: 0.30764031410217285\n",
      "vae_loss: 0.31901490688323975\n",
      "vae_loss: 0.3045397102832794\n",
      "vae_loss: 0.3105278015136719\n",
      "vae_loss: 0.3227698802947998\n",
      "vae_loss: 0.2974317669868469\n",
      "vae_loss: 0.2934769093990326\n",
      "vae_loss: 0.30484434962272644\n",
      "vae_loss: 0.2982688546180725\n"
     ]
    },
    {
     "name": "stderr",
     "output_type": "stream",
     "text": [
      "2023-01-02 20:13:54,268 (client:255)INFO: {'Role': 'Client #1', 'Round': 56, 'Results_raw': {'train_avg_loss': 3.865519, 'train_total': 901, 'train_imp_ratio': -318.210383, 'train_loss': 3482.832274}}\n",
      "2023-01-02 20:13:54,273 (server:496)INFO: {'Role': 'Server #', 'Round': 56, 'Results_avg': {'test_avg_loss': 3.380649, 'test_total': 113.0, 'test_imp_ratio': -265.752389, 'test_loss': 382.013379, 'val_avg_loss': 2.736789, 'val_total': 113.0, 'val_imp_ratio': -196.093176, 'val_loss': 309.257187}}\n",
      "2023-01-02 20:13:54,275 (monitor:513)INFO: current_best=-188.887946, should_save=False\n",
      "2023-01-02 20:13:54,276 (monitor:513)INFO: current_best=-188.887946, should_save=False\n",
      "2023-01-02 20:13:54,281 (server:323)INFO: Server #0: Starting evaluation at the end of round 56.\n",
      "2023-01-02 20:13:54,288 (server:330)INFO: ----------- Starting a new training round (Round #57) -------------\n"
     ]
    },
    {
     "name": "stdout",
     "output_type": "stream",
     "text": [
      "vae_loss: 0.31642553210258484\n",
      "vae_loss: 0.29077866673469543\n",
      "vae_loss: 0.3266519606113434\n",
      "vae_loss: 0.3070879876613617\n",
      "vae_loss: 0.31233853101730347\n",
      "vae_loss: 0.2985173463821411\n",
      "vae_loss: 0.31989309191703796\n",
      "vae_loss: 0.31590571999549866\n",
      "vae_loss: 0.293888658285141\n",
      "vae_loss: 0.2998731732368469\n"
     ]
    },
    {
     "name": "stderr",
     "output_type": "stream",
     "text": [
      "2023-01-02 20:13:54,370 (client:410)INFO: {'Role': 'Client #1', 'Round': 57, 'Results_raw': {'test_avg_loss': 3.748535, 'test_total': 113, 'test_imp_ratio': -305.553924, 'test_loss': 423.584421, 'val_avg_loss': 2.665784, 'val_total': 113, 'val_imp_ratio': -188.411212, 'val_loss': 301.23363}}\n",
      "2023-01-02 20:13:54,371 (monitor:513)INFO: current_best=-188.411212, should_save=True\n",
      "2023-01-02 20:13:54,372 (client:431)INFO: Client: #1, val_imp_ratio: -188.411212. model saved at exp/test_dir/Graph-DT-FedAvg_gin_on_graph-dt_lr0.1_lstep1_/sub_exp_20230102200809/model1.pth\n"
     ]
    },
    {
     "name": "stdout",
     "output_type": "stream",
     "text": [
      "vae_loss: 0.31136554479599\n",
      "vae_loss: 0.3273512125015259\n",
      "vae_loss: 0.29463261365890503\n",
      "vae_loss: 0.31733646988868713\n",
      "vae_loss: 0.2844858467578888\n",
      "vae_loss: 0.2943234443664551\n",
      "vae_loss: 0.3090469241142273\n",
      "vae_loss: 0.306231826543808\n",
      "vae_loss: 0.3230150640010834\n",
      "vae_loss: 0.2907114028930664\n"
     ]
    },
    {
     "name": "stderr",
     "output_type": "stream",
     "text": [
      "2023-01-02 20:13:54,672 (client:255)INFO: {'Role': 'Client #1', 'Round': 57, 'Results_raw': {'train_avg_loss': 3.782111, 'train_total': 901, 'train_imp_ratio': -309.186486, 'train_loss': 3407.68171}}\n",
      "2023-01-02 20:13:54,676 (server:496)INFO: {'Role': 'Server #', 'Round': 57, 'Results_avg': {'test_avg_loss': 3.748535, 'test_total': 113.0, 'test_imp_ratio': -305.553924, 'test_loss': 423.584421, 'val_avg_loss': 2.665784, 'val_total': 113.0, 'val_imp_ratio': -188.411212, 'val_loss': 301.23363}}\n",
      "2023-01-02 20:13:54,677 (monitor:513)INFO: current_best=-188.887946, should_save=False\n",
      "2023-01-02 20:13:54,678 (monitor:513)INFO: current_best=-188.411212, should_save=True\n",
      "2023-01-02 20:13:54,684 (server:323)INFO: Server #0: Starting evaluation at the end of round 57.\n",
      "2023-01-02 20:13:54,691 (server:330)INFO: ----------- Starting a new training round (Round #58) -------------\n",
      "2023-01-02 20:13:54,773 (client:410)INFO: {'Role': 'Client #1', 'Round': 58, 'Results_raw': {'test_avg_loss': 3.534814, 'test_total': 113, 'test_imp_ratio': -282.431475, 'test_loss': 399.433984, 'val_avg_loss': 3.123878, 'val_total': 113, 'val_imp_ratio': -237.972329, 'val_loss': 352.998211}}\n",
      "2023-01-02 20:13:54,775 (monitor:513)INFO: current_best=-188.411212, should_save=False\n"
     ]
    },
    {
     "name": "stdout",
     "output_type": "stream",
     "text": [
      "vae_loss: 0.30848273634910583\n",
      "vae_loss: 0.3009735941886902\n",
      "vae_loss: 0.3033509850502014\n",
      "vae_loss: 0.3188415765762329\n",
      "vae_loss: 0.29784220457077026\n",
      "vae_loss: 0.2702476978302002\n",
      "vae_loss: 0.31118544936180115\n",
      "vae_loss: 0.2886936068534851\n",
      "vae_loss: 0.3006156086921692\n",
      "vae_loss: 0.3040672838687897\n",
      "vae_loss: 0.297410786151886\n",
      "vae_loss: 0.29891878366470337\n",
      "vae_loss: 0.30690547823905945\n",
      "vae_loss: 0.2899355888366699\n",
      "vae_loss: 0.3006078600883484\n",
      "vae_loss: 0.3133871853351593\n",
      "vae_loss: 0.3011457920074463\n",
      "vae_loss: 0.31598466634750366\n",
      "vae_loss: 0.2985151410102844\n",
      "vae_loss: 0.29837092757225037\n",
      "vae_loss: 0.3064148426055908\n",
      "vae_loss: 0.31104958057403564\n",
      "vae_loss: 0.3010345697402954\n",
      "vae_loss: 0.29597365856170654\n"
     ]
    },
    {
     "name": "stderr",
     "output_type": "stream",
     "text": [
      "2023-01-02 20:13:55,018 (client:255)INFO: {'Role': 'Client #1', 'Round': 58, 'Results_raw': {'train_avg_loss': 3.828571, 'train_total': 901, 'train_imp_ratio': -314.213035, 'train_loss': 3449.542306}}\n",
      "2023-01-02 20:13:55,023 (server:496)INFO: {'Role': 'Server #', 'Round': 58, 'Results_avg': {'test_avg_loss': 3.534814, 'test_total': 113.0, 'test_imp_ratio': -282.431475, 'test_loss': 399.433984, 'val_avg_loss': 3.123878, 'val_total': 113.0, 'val_imp_ratio': -237.972329, 'val_loss': 352.998211}}\n",
      "2023-01-02 20:13:55,024 (monitor:513)INFO: current_best=-188.411212, should_save=False\n",
      "2023-01-02 20:13:55,025 (monitor:513)INFO: current_best=-188.411212, should_save=False\n",
      "2023-01-02 20:13:55,031 (server:323)INFO: Server #0: Starting evaluation at the end of round 58.\n",
      "2023-01-02 20:13:55,039 (server:330)INFO: ----------- Starting a new training round (Round #59) -------------\n",
      "2023-01-02 20:13:55,118 (client:410)INFO: {'Role': 'Client #1', 'Round': 59, 'Results_raw': {'test_avg_loss': 3.621583, 'test_total': 113, 'test_imp_ratio': -291.818945, 'test_loss': 409.238865, 'val_avg_loss': 2.755748, 'val_total': 113, 'val_imp_ratio': -198.144355, 'val_loss': 311.399561}}\n",
      "2023-01-02 20:13:55,119 (monitor:513)INFO: current_best=-188.411212, should_save=False\n"
     ]
    },
    {
     "name": "stdout",
     "output_type": "stream",
     "text": [
      "vae_loss: 0.30027496814727783\n",
      "vae_loss: 0.3099868893623352\n",
      "vae_loss: 0.2858894467353821\n",
      "vae_loss: 0.29375627636909485\n",
      "vae_loss: 0.296796053647995\n",
      "vae_loss: 0.29703113436698914\n",
      "vae_loss: 0.3038296103477478\n",
      "vae_loss: 0.2837443947792053\n",
      "vae_loss: 0.2866894006729126\n"
     ]
    },
    {
     "name": "stderr",
     "output_type": "stream",
     "text": [
      "2023-01-02 20:13:55,413 (client:255)INFO: {'Role': 'Client #1', 'Round': 59, 'Results_raw': {'train_avg_loss': 3.777716, 'train_total': 901, 'train_imp_ratio': -308.711093, 'train_loss': 3403.722504}}\n",
      "2023-01-02 20:13:55,417 (server:496)INFO: {'Role': 'Server #', 'Round': 59, 'Results_avg': {'test_avg_loss': 3.621583, 'test_total': 113.0, 'test_imp_ratio': -291.818945, 'test_loss': 409.238865, 'val_avg_loss': 2.755748, 'val_total': 113.0, 'val_imp_ratio': -198.144355, 'val_loss': 311.399561}}\n",
      "2023-01-02 20:13:55,419 (monitor:513)INFO: current_best=-188.411212, should_save=False\n",
      "2023-01-02 20:13:55,420 (monitor:513)INFO: current_best=-188.411212, should_save=False\n"
     ]
    },
    {
     "name": "stdout",
     "output_type": "stream",
     "text": [
      "vae_loss: 0.2938835620880127\n",
      "vae_loss: 0.311857670545578\n",
      "vae_loss: 0.2973204255104065\n",
      "vae_loss: 0.3025791645050049\n",
      "vae_loss: 0.29274463653564453\n",
      "vae_loss: 0.3091203272342682\n",
      "vae_loss: 0.3068786859512329\n",
      "vae_loss: 0.30798572301864624\n",
      "vae_loss: 0.287932813167572\n",
      "vae_loss: 0.3054906725883484\n",
      "vae_loss: 0.3888912796974182\n"
     ]
    },
    {
     "name": "stderr",
     "output_type": "stream",
     "text": [
      "2023-01-02 20:13:55,425 (server:323)INFO: Server #0: Starting evaluation at the end of round 59.\n",
      "2023-01-02 20:13:55,432 (server:330)INFO: ----------- Starting a new training round (Round #60) -------------\n",
      "2023-01-02 20:13:55,508 (client:410)INFO: {'Role': 'Client #1', 'Round': 60, 'Results_raw': {'test_avg_loss': 3.72691, 'test_total': 113, 'test_imp_ratio': -303.214337, 'test_loss': 421.140867, 'val_avg_loss': 2.843027, 'val_total': 113, 'val_imp_ratio': -207.587025, 'val_loss': 321.262026}}\n",
      "2023-01-02 20:13:55,510 (monitor:513)INFO: current_best=-188.411212, should_save=False\n"
     ]
    },
    {
     "name": "stdout",
     "output_type": "stream",
     "text": [
      "vae_loss: 0.3081713020801544\n",
      "vae_loss: 0.28305307030677795\n",
      "vae_loss: 0.2926776111125946\n",
      "vae_loss: 0.29954028129577637\n",
      "vae_loss: 0.30804651975631714\n",
      "vae_loss: 0.29595962166786194\n",
      "vae_loss: 0.2918005585670471\n",
      "vae_loss: 0.29980283975601196\n",
      "vae_loss: 0.27116942405700684\n",
      "vae_loss: 0.2985779047012329\n",
      "vae_loss: 0.3157239556312561\n"
     ]
    },
    {
     "name": "stderr",
     "output_type": "stream",
     "text": [
      "2023-01-02 20:13:55,806 (client:255)INFO: {'Role': 'Client #1', 'Round': 60, 'Results_raw': {'train_avg_loss': 3.868023, 'train_total': 901, 'train_imp_ratio': -318.481303, 'train_loss': 3485.088425}}\n",
      "2023-01-02 20:13:55,812 (server:496)INFO: {'Role': 'Server #', 'Round': 60, 'Results_avg': {'test_avg_loss': 3.72691, 'test_total': 113.0, 'test_imp_ratio': -303.214337, 'test_loss': 421.140867, 'val_avg_loss': 2.843027, 'val_total': 113.0, 'val_imp_ratio': -207.587025, 'val_loss': 321.262026}}\n",
      "2023-01-02 20:13:55,814 (monitor:513)INFO: current_best=-188.411212, should_save=False\n",
      "2023-01-02 20:13:55,815 (monitor:513)INFO: current_best=-188.411212, should_save=False\n",
      "2023-01-02 20:13:55,822 (server:323)INFO: Server #0: Starting evaluation at the end of round 60.\n",
      "2023-01-02 20:13:55,829 (server:330)INFO: ----------- Starting a new training round (Round #61) -------------\n"
     ]
    },
    {
     "name": "stdout",
     "output_type": "stream",
     "text": [
      "vae_loss: 0.29492008686065674\n",
      "vae_loss: 0.2912018299102783\n",
      "vae_loss: 0.2979065775871277\n",
      "vae_loss: 0.32324811816215515\n",
      "vae_loss: 0.30035802721977234\n",
      "vae_loss: 0.2975269556045532\n",
      "vae_loss: 0.2750938832759857\n",
      "vae_loss: 0.3050551116466522\n"
     ]
    },
    {
     "name": "stderr",
     "output_type": "stream",
     "text": [
      "2023-01-02 20:13:55,915 (client:410)INFO: {'Role': 'Client #1', 'Round': 61, 'Results_raw': {'test_avg_loss': 3.385437, 'test_total': 113, 'test_imp_ratio': -266.27042, 'test_loss': 382.554425, 'val_avg_loss': 3.012393, 'val_total': 113, 'val_imp_ratio': -225.910795, 'val_loss': 340.400438}}\n",
      "2023-01-02 20:13:55,917 (monitor:513)INFO: current_best=-188.411212, should_save=False\n"
     ]
    },
    {
     "name": "stdout",
     "output_type": "stream",
     "text": [
      "vae_loss: 0.30398958921432495\n",
      "vae_loss: 0.2800191342830658\n",
      "vae_loss: 0.2912435829639435\n",
      "vae_loss: 0.29512250423431396\n",
      "vae_loss: 0.3025931119918823\n",
      "vae_loss: 0.28425875306129456\n",
      "vae_loss: 0.291180282831192\n",
      "vae_loss: 0.2920430898666382\n",
      "vae_loss: 0.28195202350616455\n",
      "vae_loss: 0.2833104729652405\n",
      "vae_loss: 0.30239832401275635\n",
      "vae_loss: 0.2869587242603302\n"
     ]
    },
    {
     "name": "stderr",
     "output_type": "stream",
     "text": [
      "2023-01-02 20:13:56,198 (client:255)INFO: {'Role': 'Client #1', 'Round': 61, 'Results_raw': {'train_avg_loss': 3.847335, 'train_total': 901, 'train_imp_ratio': -316.243088, 'train_loss': 3466.448984}}\n",
      "2023-01-02 20:13:56,210 (server:496)INFO: {'Role': 'Server #', 'Round': 61, 'Results_avg': {'test_avg_loss': 3.385437, 'test_total': 113.0, 'test_imp_ratio': -266.27042, 'test_loss': 382.554425, 'val_avg_loss': 3.012393, 'val_total': 113.0, 'val_imp_ratio': -225.910795, 'val_loss': 340.400438}}\n",
      "2023-01-02 20:13:56,212 (monitor:513)INFO: current_best=-188.411212, should_save=False\n",
      "2023-01-02 20:13:56,213 (monitor:513)INFO: current_best=-188.411212, should_save=False\n",
      "2023-01-02 20:13:56,220 (server:323)INFO: Server #0: Starting evaluation at the end of round 61.\n",
      "2023-01-02 20:13:56,230 (server:330)INFO: ----------- Starting a new training round (Round #62) -------------\n"
     ]
    },
    {
     "name": "stdout",
     "output_type": "stream",
     "text": [
      "vae_loss: 0.2936677932739258\n",
      "vae_loss: 0.2917179465293884\n",
      "vae_loss: 0.28727978467941284\n",
      "vae_loss: 0.28829067945480347\n",
      "vae_loss: 0.30732452869415283\n",
      "vae_loss: 0.3210584819316864\n",
      "vae_loss: 0.29925715923309326\n",
      "vae_loss: 0.3000165820121765\n",
      "vae_loss: 0.2778772711753845\n"
     ]
    },
    {
     "name": "stderr",
     "output_type": "stream",
     "text": [
      "2023-01-02 20:13:56,316 (client:410)INFO: {'Role': 'Client #1', 'Round': 62, 'Results_raw': {'test_avg_loss': 3.896535, 'test_total': 113, 'test_imp_ratio': -321.566016, 'test_loss': 440.308404, 'val_avg_loss': 2.599711, 'val_total': 113, 'val_imp_ratio': -181.262731, 'val_loss': 293.76738}}\n",
      "2023-01-02 20:13:56,317 (monitor:513)INFO: current_best=-181.262731, should_save=True\n",
      "2023-01-02 20:13:56,319 (client:431)INFO: Client: #1, val_imp_ratio: -181.262731. model saved at exp/test_dir/Graph-DT-FedAvg_gin_on_graph-dt_lr0.1_lstep1_/sub_exp_20230102200809/model1.pth\n"
     ]
    },
    {
     "name": "stdout",
     "output_type": "stream",
     "text": [
      "vae_loss: 0.28403544425964355\n",
      "vae_loss: 0.2940952777862549\n",
      "vae_loss: 0.2913467586040497\n",
      "vae_loss: 0.29091835021972656\n",
      "vae_loss: 0.2996370196342468\n",
      "vae_loss: 0.27740687131881714\n",
      "vae_loss: 0.28288158774375916\n",
      "vae_loss: 0.288168728351593\n",
      "vae_loss: 0.2867033779621124\n",
      "vae_loss: 0.31394338607788086\n",
      "vae_loss: 0.2686222791671753\n"
     ]
    },
    {
     "name": "stderr",
     "output_type": "stream",
     "text": [
      "2023-01-02 20:13:56,614 (client:255)INFO: {'Role': 'Client #1', 'Round': 62, 'Results_raw': {'train_avg_loss': 4.035267, 'train_total': 901, 'train_imp_ratio': -336.575552, 'train_loss': 3635.776011}}\n",
      "2023-01-02 20:13:56,619 (server:496)INFO: {'Role': 'Server #', 'Round': 62, 'Results_avg': {'test_avg_loss': 3.896535, 'test_total': 113.0, 'test_imp_ratio': -321.566016, 'test_loss': 440.308404, 'val_avg_loss': 2.599711, 'val_total': 113.0, 'val_imp_ratio': -181.262731, 'val_loss': 293.76738}}\n",
      "2023-01-02 20:13:56,620 (monitor:513)INFO: current_best=-188.411212, should_save=False\n",
      "2023-01-02 20:13:56,621 (monitor:513)INFO: current_best=-181.262731, should_save=True\n",
      "2023-01-02 20:13:56,627 (server:323)INFO: Server #0: Starting evaluation at the end of round 62.\n",
      "2023-01-02 20:13:56,635 (server:330)INFO: ----------- Starting a new training round (Round #63) -------------\n",
      "2023-01-02 20:13:56,714 (client:410)INFO: {'Role': 'Client #1', 'Round': 63, 'Results_raw': {'test_avg_loss': 3.478453, 'test_total': 113, 'test_imp_ratio': -276.333758, 'test_loss': 393.065153, 'val_avg_loss': 3.199571, 'val_total': 113, 'val_imp_ratio': -246.161568, 'val_loss': 361.551521}}\n",
      "2023-01-02 20:13:56,716 (monitor:513)INFO: current_best=-181.262731, should_save=False\n"
     ]
    },
    {
     "name": "stdout",
     "output_type": "stream",
     "text": [
      "vae_loss: 0.3141442835330963\n",
      "vae_loss: 0.2896590232849121\n",
      "vae_loss: 0.29722386598587036\n",
      "vae_loss: 0.28874146938323975\n",
      "vae_loss: 0.2938224673271179\n",
      "vae_loss: 0.3072982430458069\n",
      "vae_loss: 0.29699936509132385\n",
      "vae_loss: 0.2753349840641022\n",
      "vae_loss: 0.2850381135940552\n",
      "vae_loss: 0.2906007170677185\n",
      "vae_loss: 0.29078179597854614\n",
      "vae_loss: 0.2740952968597412\n",
      "vae_loss: 0.2815953493118286\n",
      "vae_loss: 0.2935517132282257\n",
      "vae_loss: 0.2970677614212036\n",
      "vae_loss: 0.2856937050819397\n",
      "vae_loss: 0.2886882424354553\n",
      "vae_loss: 0.30160096287727356\n",
      "vae_loss: 0.29465457797050476\n",
      "vae_loss: 0.30076009035110474\n",
      "vae_loss: 0.2882366180419922\n",
      "vae_loss: 0.27407532930374146\n"
     ]
    },
    {
     "name": "stderr",
     "output_type": "stream",
     "text": [
      "2023-01-02 20:13:57,008 (client:255)INFO: {'Role': 'Client #1', 'Round': 63, 'Results_raw': {'train_avg_loss': 3.878034, 'train_total': 901, 'train_imp_ratio': -319.564465, 'train_loss': 3494.109049}}\n",
      "2023-01-02 20:13:57,012 (server:496)INFO: {'Role': 'Server #', 'Round': 63, 'Results_avg': {'test_avg_loss': 3.478453, 'test_total': 113.0, 'test_imp_ratio': -276.333758, 'test_loss': 393.065153, 'val_avg_loss': 3.199571, 'val_total': 113.0, 'val_imp_ratio': -246.161568, 'val_loss': 361.551521}}\n",
      "2023-01-02 20:13:57,013 (monitor:513)INFO: current_best=-181.262731, should_save=False\n",
      "2023-01-02 20:13:57,014 (monitor:513)INFO: current_best=-181.262731, should_save=False\n",
      "2023-01-02 20:13:57,019 (server:323)INFO: Server #0: Starting evaluation at the end of round 63.\n",
      "2023-01-02 20:13:57,026 (server:330)INFO: ----------- Starting a new training round (Round #64) -------------\n",
      "2023-01-02 20:13:57,107 (client:410)INFO: {'Role': 'Client #1', 'Round': 64, 'Results_raw': {'test_avg_loss': 3.525063, 'test_total': 113, 'test_imp_ratio': -281.376479, 'test_loss': 398.332124, 'val_avg_loss': 2.894439, 'val_total': 113, 'val_imp_ratio': -213.1493, 'val_loss': 327.071595}}\n",
      "2023-01-02 20:13:57,109 (monitor:513)INFO: current_best=-181.262731, should_save=False\n"
     ]
    },
    {
     "name": "stdout",
     "output_type": "stream",
     "text": [
      "vae_loss: 0.27167952060699463\n",
      "vae_loss: 0.29401397705078125\n",
      "vae_loss: 0.3308612108230591\n",
      "vae_loss: 0.2951509356498718\n",
      "vae_loss: 0.27314293384552\n",
      "vae_loss: 0.28053733706474304\n",
      "vae_loss: 0.28564465045928955\n",
      "vae_loss: 0.27387362718582153\n",
      "vae_loss: 0.28380414843559265\n",
      "vae_loss: 0.2861080765724182\n",
      "vae_loss: 0.28782540559768677\n",
      "vae_loss: 0.2852657437324524\n",
      "vae_loss: 0.2947885990142822\n",
      "vae_loss: 0.29227524995803833\n",
      "vae_loss: 0.2972831726074219\n",
      "vae_loss: 0.2735424041748047\n",
      "vae_loss: 0.2889549136161804\n",
      "vae_loss: 0.2720052897930145\n",
      "vae_loss: 0.2896184027194977\n"
     ]
    },
    {
     "name": "stderr",
     "output_type": "stream",
     "text": [
      "2023-01-02 20:13:57,431 (client:255)INFO: {'Role': 'Client #1', 'Round': 64, 'Results_raw': {'train_avg_loss': 3.808283, 'train_total': 901, 'train_imp_ratio': -312.018052, 'train_loss': 3431.263051}}\n",
      "2023-01-02 20:13:57,436 (server:496)INFO: {'Role': 'Server #', 'Round': 64, 'Results_avg': {'test_avg_loss': 3.525063, 'test_total': 113.0, 'test_imp_ratio': -281.376479, 'test_loss': 398.332124, 'val_avg_loss': 2.894439, 'val_total': 113.0, 'val_imp_ratio': -213.1493, 'val_loss': 327.071595}}\n",
      "2023-01-02 20:13:57,438 (monitor:513)INFO: current_best=-181.262731, should_save=False\n",
      "2023-01-02 20:13:57,439 (monitor:513)INFO: current_best=-181.262731, should_save=False\n",
      "2023-01-02 20:13:57,444 (server:323)INFO: Server #0: Starting evaluation at the end of round 64.\n",
      "2023-01-02 20:13:57,451 (server:330)INFO: ----------- Starting a new training round (Round #65) -------------\n",
      "2023-01-02 20:13:57,534 (client:410)INFO: {'Role': 'Client #1', 'Round': 65, 'Results_raw': {'test_avg_loss': 3.803396, 'test_total': 113, 'test_imp_ratio': -311.489342, 'test_loss': 429.783717, 'val_avg_loss': 3.021487, 'val_total': 113, 'val_imp_ratio': -226.894597, 'val_loss': 341.428019}}\n",
      "2023-01-02 20:13:57,535 (monitor:513)INFO: current_best=-181.262731, should_save=False\n"
     ]
    },
    {
     "name": "stdout",
     "output_type": "stream",
     "text": [
      "vae_loss: 0.2939782738685608\n",
      "vae_loss: 0.29593151807785034\n",
      "vae_loss: 0.2359689474105835\n",
      "vae_loss: 0.29248762130737305\n",
      "vae_loss: 0.27245306968688965\n",
      "vae_loss: 0.28044456243515015\n",
      "vae_loss: 0.28278112411499023\n",
      "vae_loss: 0.28133851289749146\n",
      "vae_loss: 0.2786964178085327\n",
      "vae_loss: 0.29040783643722534\n",
      "vae_loss: 0.28935688734054565\n",
      "vae_loss: 0.2877824008464813\n",
      "vae_loss: 0.278321236371994\n",
      "vae_loss: 0.28589433431625366\n",
      "vae_loss: 0.2894975543022156\n",
      "vae_loss: 0.2830303907394409\n",
      "vae_loss: 0.2837781310081482\n",
      "vae_loss: 0.2696534991264343\n",
      "vae_loss: 0.2909296751022339\n",
      "vae_loss: 0.28612661361694336\n",
      "vae_loss: 0.27319905161857605\n"
     ]
    },
    {
     "name": "stderr",
     "output_type": "stream",
     "text": [
      "2023-01-02 20:13:57,825 (client:255)INFO: {'Role': 'Client #1', 'Round': 65, 'Results_raw': {'train_avg_loss': 4.018057, 'train_total': 901, 'train_imp_ratio': -334.713499, 'train_loss': 3620.269182}}\n",
      "2023-01-02 20:13:57,829 (server:496)INFO: {'Role': 'Server #', 'Round': 65, 'Results_avg': {'test_avg_loss': 3.803396, 'test_total': 113.0, 'test_imp_ratio': -311.489342, 'test_loss': 429.783717, 'val_avg_loss': 3.021487, 'val_total': 113.0, 'val_imp_ratio': -226.894597, 'val_loss': 341.428019}}\n",
      "2023-01-02 20:13:57,831 (monitor:513)INFO: current_best=-181.262731, should_save=False\n",
      "2023-01-02 20:13:57,831 (monitor:513)INFO: current_best=-181.262731, should_save=False\n",
      "2023-01-02 20:13:57,836 (server:323)INFO: Server #0: Starting evaluation at the end of round 65.\n",
      "2023-01-02 20:13:57,844 (server:330)INFO: ----------- Starting a new training round (Round #66) -------------\n",
      "2023-01-02 20:13:57,925 (client:410)INFO: {'Role': 'Client #1', 'Round': 66, 'Results_raw': {'test_avg_loss': 3.737115, 'test_total': 113, 'test_imp_ratio': -304.318445, 'test_loss': 422.294035, 'val_avg_loss': 2.971434, 'val_total': 113, 'val_imp_ratio': -221.479351, 'val_loss': 335.77199}}\n",
      "2023-01-02 20:13:57,927 (monitor:513)INFO: current_best=-181.262731, should_save=False\n"
     ]
    },
    {
     "name": "stdout",
     "output_type": "stream",
     "text": [
      "vae_loss: 0.2709702253341675\n",
      "vae_loss: 0.29184556007385254\n",
      "vae_loss: 0.2681630849838257\n",
      "vae_loss: 0.27672117948532104\n",
      "vae_loss: 0.2821880578994751\n",
      "vae_loss: 0.2651293873786926\n",
      "vae_loss: 0.30806341767311096\n",
      "vae_loss: 0.29714709520339966\n",
      "vae_loss: 0.2754882872104645\n"
     ]
    },
    {
     "name": "stderr",
     "output_type": "stream",
     "text": [
      "2023-01-02 20:13:58,178 (client:255)INFO: {'Role': 'Client #1', 'Round': 66, 'Results_raw': {'train_avg_loss': 3.918436, 'train_total': 901, 'train_imp_ratio': -323.935473, 'train_loss': 3530.510562}}\n",
      "2023-01-02 20:13:58,182 (server:496)INFO: {'Role': 'Server #', 'Round': 66, 'Results_avg': {'test_avg_loss': 3.737115, 'test_total': 113.0, 'test_imp_ratio': -304.318445, 'test_loss': 422.294035, 'val_avg_loss': 2.971434, 'val_total': 113.0, 'val_imp_ratio': -221.479351, 'val_loss': 335.77199}}\n",
      "2023-01-02 20:13:58,183 (monitor:513)INFO: current_best=-181.262731, should_save=False\n",
      "2023-01-02 20:13:58,184 (monitor:513)INFO: current_best=-181.262731, should_save=False\n",
      "2023-01-02 20:13:58,189 (server:323)INFO: Server #0: Starting evaluation at the end of round 66.\n",
      "2023-01-02 20:13:58,196 (server:330)INFO: ----------- Starting a new training round (Round #67) -------------\n"
     ]
    },
    {
     "name": "stdout",
     "output_type": "stream",
     "text": [
      "vae_loss: 0.29639655351638794\n",
      "vae_loss: 0.2637931704521179\n",
      "vae_loss: 0.2963821291923523\n",
      "vae_loss: 0.26739853620529175\n",
      "vae_loss: 0.26057034730911255\n",
      "vae_loss: 0.29141291975975037\n",
      "vae_loss: 0.2764885127544403\n",
      "vae_loss: 0.2621258497238159\n",
      "vae_loss: 0.2520289719104767\n",
      "vae_loss: 0.31243425607681274\n",
      "vae_loss: 0.24702192842960358\n"
     ]
    },
    {
     "name": "stderr",
     "output_type": "stream",
     "text": [
      "2023-01-02 20:13:58,279 (client:410)INFO: {'Role': 'Client #1', 'Round': 67, 'Results_raw': {'test_avg_loss': 3.786049, 'test_total': 113, 'test_imp_ratio': -309.612611, 'test_loss': 427.823584, 'val_avg_loss': 3.151134, 'val_total': 113, 'val_imp_ratio': -240.921105, 'val_loss': 356.078118}}\n",
      "2023-01-02 20:13:58,281 (monitor:513)INFO: current_best=-181.262731, should_save=False\n"
     ]
    },
    {
     "name": "stdout",
     "output_type": "stream",
     "text": [
      "vae_loss: 0.2871837019920349\n",
      "vae_loss: 0.2648906409740448\n",
      "vae_loss: 0.27261850237846375\n",
      "vae_loss: 0.2794535458087921\n",
      "vae_loss: 0.2612748146057129\n",
      "vae_loss: 0.2745903730392456\n",
      "vae_loss: 0.26063793897628784\n",
      "vae_loss: 0.29931387305259705\n",
      "vae_loss: 0.2775120139122009\n",
      "vae_loss: 0.2650150954723358\n",
      "vae_loss: 0.2990938425064087\n",
      "vae_loss: 0.28090691566467285\n",
      "vae_loss: 0.2913474440574646\n"
     ]
    },
    {
     "name": "stderr",
     "output_type": "stream",
     "text": [
      "2023-01-02 20:13:58,522 (client:255)INFO: {'Role': 'Client #1', 'Round': 67, 'Results_raw': {'train_avg_loss': 3.744819, 'train_total': 901, 'train_imp_ratio': -305.151917, 'train_loss': 3374.081999}}\n",
      "2023-01-02 20:13:58,527 (server:496)INFO: {'Role': 'Server #', 'Round': 67, 'Results_avg': {'test_avg_loss': 3.786049, 'test_total': 113.0, 'test_imp_ratio': -309.612611, 'test_loss': 427.823584, 'val_avg_loss': 3.151134, 'val_total': 113.0, 'val_imp_ratio': -240.921105, 'val_loss': 356.078118}}\n",
      "2023-01-02 20:13:58,528 (monitor:513)INFO: current_best=-181.262731, should_save=False\n",
      "2023-01-02 20:13:58,529 (monitor:513)INFO: current_best=-181.262731, should_save=False\n",
      "2023-01-02 20:13:58,535 (server:323)INFO: Server #0: Starting evaluation at the end of round 67.\n",
      "2023-01-02 20:13:58,541 (server:330)INFO: ----------- Starting a new training round (Round #68) -------------\n",
      "2023-01-02 20:13:58,621 (client:410)INFO: {'Role': 'Client #1', 'Round': 68, 'Results_raw': {'test_avg_loss': 3.693566, 'test_total': 113, 'test_imp_ratio': -299.606847, 'test_loss': 417.372972, 'val_avg_loss': 3.050601, 'val_total': 113, 'val_imp_ratio': -230.044544, 'val_loss': 344.717964}}\n",
      "2023-01-02 20:13:58,623 (monitor:513)INFO: current_best=-181.262731, should_save=False\n"
     ]
    },
    {
     "name": "stdout",
     "output_type": "stream",
     "text": [
      "vae_loss: 0.26892730593681335\n",
      "vae_loss: 0.28997382521629333\n",
      "vae_loss: 0.26279211044311523\n",
      "vae_loss: 0.30230844020843506\n",
      "vae_loss: 0.2678762376308441\n",
      "vae_loss: 0.22386625409126282\n",
      "vae_loss: 0.28904521465301514\n",
      "vae_loss: 0.2661254405975342\n",
      "vae_loss: 0.27248579263687134\n",
      "vae_loss: 0.2770993113517761\n",
      "vae_loss: 0.27535685896873474\n",
      "vae_loss: 0.2835320234298706\n",
      "vae_loss: 0.2791905105113983\n",
      "vae_loss: 0.272606760263443\n",
      "vae_loss: 0.28726691007614136\n",
      "vae_loss: 0.26707351207733154\n",
      "vae_loss: 0.2752670645713806\n",
      "vae_loss: 0.2604735195636749\n",
      "vae_loss: 0.2994505763053894\n",
      "vae_loss: 0.2872132956981659\n",
      "vae_loss: 0.297146201133728\n",
      "vae_loss: 0.2623194754123688\n",
      "vae_loss: 0.2732197642326355\n"
     ]
    },
    {
     "name": "stderr",
     "output_type": "stream",
     "text": [
      "2023-01-02 20:13:58,886 (client:255)INFO: {'Role': 'Client #1', 'Round': 68, 'Results_raw': {'train_avg_loss': 3.79834, 'train_total': 901, 'train_imp_ratio': -310.942318, 'train_loss': 3422.304117}}\n",
      "2023-01-02 20:13:58,891 (server:496)INFO: {'Role': 'Server #', 'Round': 68, 'Results_avg': {'test_avg_loss': 3.693566, 'test_total': 113.0, 'test_imp_ratio': -299.606847, 'test_loss': 417.372972, 'val_avg_loss': 3.050601, 'val_total': 113.0, 'val_imp_ratio': -230.044544, 'val_loss': 344.717964}}\n",
      "2023-01-02 20:13:58,893 (monitor:513)INFO: current_best=-181.262731, should_save=False\n",
      "2023-01-02 20:13:58,894 (monitor:513)INFO: current_best=-181.262731, should_save=False\n",
      "2023-01-02 20:13:58,899 (server:323)INFO: Server #0: Starting evaluation at the end of round 68.\n",
      "2023-01-02 20:13:58,906 (server:330)INFO: ----------- Starting a new training round (Round #69) -------------\n",
      "2023-01-02 20:13:58,981 (client:410)INFO: {'Role': 'Client #1', 'Round': 69, 'Results_raw': {'test_avg_loss': 3.443964, 'test_total': 113, 'test_imp_ratio': -272.602377, 'test_loss': 389.167936, 'val_avg_loss': 2.984449, 'val_total': 113, 'val_imp_ratio': -222.887421, 'val_loss': 337.242686}}\n",
      "2023-01-02 20:13:58,983 (monitor:513)INFO: current_best=-181.262731, should_save=False\n"
     ]
    },
    {
     "name": "stdout",
     "output_type": "stream",
     "text": [
      "vae_loss: 0.2643270492553711\n",
      "vae_loss: 0.212544247508049\n",
      "vae_loss: 0.2840971052646637\n",
      "vae_loss: 0.2578895390033722\n",
      "vae_loss: 0.2721395492553711\n",
      "vae_loss: 0.27459320425987244\n",
      "vae_loss: 0.27493295073509216\n",
      "vae_loss: 0.2761162519454956\n",
      "vae_loss: 0.26764509081840515\n"
     ]
    },
    {
     "name": "stderr",
     "output_type": "stream",
     "text": [
      "2023-01-02 20:13:59,253 (client:255)INFO: {'Role': 'Client #1', 'Round': 69, 'Results_raw': {'train_avg_loss': 3.710636, 'train_total': 901, 'train_imp_ratio': -301.453656, 'train_loss': 3343.283249}}\n",
      "2023-01-02 20:13:59,258 (server:496)INFO: {'Role': 'Server #', 'Round': 69, 'Results_avg': {'test_avg_loss': 3.443964, 'test_total': 113.0, 'test_imp_ratio': -272.602377, 'test_loss': 389.167936, 'val_avg_loss': 2.984449, 'val_total': 113.0, 'val_imp_ratio': -222.887421, 'val_loss': 337.242686}}\n",
      "2023-01-02 20:13:59,259 (monitor:513)INFO: current_best=-181.262731, should_save=False\n",
      "2023-01-02 20:13:59,261 (monitor:513)INFO: current_best=-181.262731, should_save=False\n"
     ]
    },
    {
     "name": "stdout",
     "output_type": "stream",
     "text": [
      "vae_loss: 0.27660930156707764\n",
      "vae_loss: 0.2745804786682129\n",
      "vae_loss: 0.2777453064918518\n",
      "vae_loss: 0.27234089374542236\n",
      "vae_loss: 0.2865324914455414\n",
      "vae_loss: 0.2863318920135498\n",
      "vae_loss: 0.2742747664451599\n",
      "vae_loss: 0.269170343875885\n",
      "vae_loss: 0.280021071434021\n",
      "vae_loss: 0.2721918225288391\n",
      "vae_loss: 0.26621103286743164\n",
      "vae_loss: 0.2431856095790863\n"
     ]
    },
    {
     "name": "stderr",
     "output_type": "stream",
     "text": [
      "2023-01-02 20:13:59,270 (server:323)INFO: Server #0: Starting evaluation at the end of round 69.\n",
      "2023-01-02 20:13:59,278 (server:330)INFO: ----------- Starting a new training round (Round #70) -------------\n",
      "2023-01-02 20:13:59,350 (client:410)INFO: {'Role': 'Client #1', 'Round': 70, 'Results_raw': {'test_avg_loss': 3.262162, 'test_total': 113, 'test_imp_ratio': -252.933295, 'test_loss': 368.624354, 'val_avg_loss': 3.107429, 'val_total': 113, 'val_imp_ratio': -236.192741, 'val_loss': 351.139497}}\n",
      "2023-01-02 20:13:59,351 (monitor:513)INFO: current_best=-181.262731, should_save=False\n"
     ]
    },
    {
     "name": "stdout",
     "output_type": "stream",
     "text": [
      "vae_loss: 0.28049734234809875\n",
      "vae_loss: 0.259665846824646\n",
      "vae_loss: 0.2695557177066803\n",
      "vae_loss: 0.2706916332244873\n",
      "vae_loss: 0.29049617052078247\n",
      "vae_loss: 0.26999011635780334\n",
      "vae_loss: 0.2987315356731415\n",
      "vae_loss: 0.2643045485019684\n",
      "vae_loss: 0.280560165643692\n",
      "vae_loss: 0.2514161169528961\n",
      "vae_loss: 0.2617771625518799\n",
      "vae_loss: 0.27610185742378235\n"
     ]
    },
    {
     "name": "stderr",
     "output_type": "stream",
     "text": [
      "2023-01-02 20:13:59,660 (client:255)INFO: {'Role': 'Client #1', 'Round': 70, 'Results_raw': {'train_avg_loss': 3.876285, 'train_total': 901, 'train_imp_ratio': -319.375185, 'train_loss': 3492.532639}}\n",
      "2023-01-02 20:13:59,664 (server:496)INFO: {'Role': 'Server #', 'Round': 70, 'Results_avg': {'test_avg_loss': 3.262162, 'test_total': 113.0, 'test_imp_ratio': -252.933295, 'test_loss': 368.624354, 'val_avg_loss': 3.107429, 'val_total': 113.0, 'val_imp_ratio': -236.192741, 'val_loss': 351.139497}}\n",
      "2023-01-02 20:13:59,665 (monitor:513)INFO: current_best=-181.262731, should_save=False\n",
      "2023-01-02 20:13:59,666 (monitor:513)INFO: current_best=-181.262731, should_save=False\n",
      "2023-01-02 20:13:59,671 (server:323)INFO: Server #0: Starting evaluation at the end of round 70.\n",
      "2023-01-02 20:13:59,679 (server:330)INFO: ----------- Starting a new training round (Round #71) -------------\n"
     ]
    },
    {
     "name": "stdout",
     "output_type": "stream",
     "text": [
      "vae_loss: 0.27419111132621765\n",
      "vae_loss: 0.2627031207084656\n",
      "vae_loss: 0.28641149401664734\n",
      "vae_loss: 0.26133447885513306\n",
      "vae_loss: 0.2722803056240082\n",
      "vae_loss: 0.26647642254829407\n",
      "vae_loss: 0.26081427931785583\n",
      "vae_loss: 0.2792472243309021\n"
     ]
    },
    {
     "name": "stderr",
     "output_type": "stream",
     "text": [
      "2023-01-02 20:13:59,766 (client:410)INFO: {'Role': 'Client #1', 'Round': 71, 'Results_raw': {'test_avg_loss': 3.54714, 'test_total': 113, 'test_imp_ratio': -283.764999, 'test_loss': 400.826799, 'val_avg_loss': 3.14548, 'val_total': 113, 'val_imp_ratio': -240.309414, 'val_loss': 355.439218}}\n",
      "2023-01-02 20:13:59,767 (monitor:513)INFO: current_best=-181.262731, should_save=False\n"
     ]
    },
    {
     "name": "stdout",
     "output_type": "stream",
     "text": [
      "vae_loss: 0.26016348600387573\n",
      "vae_loss: 0.2655307650566101\n",
      "vae_loss: 0.2731285095214844\n",
      "vae_loss: 0.2629888653755188\n",
      "vae_loss: 0.26705870032310486\n",
      "vae_loss: 0.26983025670051575\n",
      "vae_loss: 0.27681204676628113\n",
      "vae_loss: 0.25621598958969116\n",
      "vae_loss: 0.2879558801651001\n",
      "vae_loss: 0.2594913840293884\n",
      "vae_loss: 0.27765458822250366\n"
     ]
    },
    {
     "name": "stderr",
     "output_type": "stream",
     "text": [
      "2023-01-02 20:14:00,055 (client:255)INFO: {'Role': 'Client #1', 'Round': 71, 'Results_raw': {'train_avg_loss': 3.729132, 'train_total': 901, 'train_imp_ratio': -303.454741, 'train_loss': 3359.947954}}\n",
      "2023-01-02 20:14:00,060 (server:496)INFO: {'Role': 'Server #', 'Round': 71, 'Results_avg': {'test_avg_loss': 3.54714, 'test_total': 113.0, 'test_imp_ratio': -283.764999, 'test_loss': 400.826799, 'val_avg_loss': 3.14548, 'val_total': 113.0, 'val_imp_ratio': -240.309414, 'val_loss': 355.439218}}\n",
      "2023-01-02 20:14:00,061 (monitor:513)INFO: current_best=-181.262731, should_save=False\n",
      "2023-01-02 20:14:00,062 (monitor:513)INFO: current_best=-181.262731, should_save=False\n",
      "2023-01-02 20:14:00,067 (server:323)INFO: Server #0: Starting evaluation at the end of round 71.\n",
      "2023-01-02 20:14:00,075 (server:330)INFO: ----------- Starting a new training round (Round #72) -------------\n"
     ]
    },
    {
     "name": "stdout",
     "output_type": "stream",
     "text": [
      "vae_loss: 0.26599976420402527\n",
      "vae_loss: 0.2745773196220398\n",
      "vae_loss: 0.2663390636444092\n",
      "vae_loss: 0.2810347378253937\n",
      "vae_loss: 0.27455762028694153\n",
      "vae_loss: 0.2720368206501007\n",
      "vae_loss: 0.2373032569885254\n",
      "vae_loss: 0.2795369029045105\n",
      "vae_loss: 0.2558503746986389\n"
     ]
    },
    {
     "name": "stderr",
     "output_type": "stream",
     "text": [
      "2023-01-02 20:14:00,155 (client:410)INFO: {'Role': 'Client #1', 'Round': 72, 'Results_raw': {'test_avg_loss': 3.693049, 'test_total': 113, 'test_imp_ratio': -299.55095, 'test_loss': 417.314562, 'val_avg_loss': 2.723038, 'val_total': 113, 'val_imp_ratio': -194.605375, 'val_loss': 307.703245}}\n",
      "2023-01-02 20:14:00,157 (monitor:513)INFO: current_best=-181.262731, should_save=False\n"
     ]
    },
    {
     "name": "stdout",
     "output_type": "stream",
     "text": [
      "vae_loss: 0.2638505697250366\n",
      "vae_loss: 0.26963797211647034\n",
      "vae_loss: 0.26458680629730225\n",
      "vae_loss: 0.26311326026916504\n",
      "vae_loss: 0.25699713826179504\n",
      "vae_loss: 0.28046151995658875\n",
      "vae_loss: 0.27626484632492065\n",
      "vae_loss: 0.2606976628303528\n",
      "vae_loss: 0.2922411262989044\n",
      "vae_loss: 0.24451521039009094\n",
      "vae_loss: 0.27813681960105896\n"
     ]
    },
    {
     "name": "stderr",
     "output_type": "stream",
     "text": [
      "2023-01-02 20:14:00,452 (client:255)INFO: {'Role': 'Client #1', 'Round': 72, 'Results_raw': {'train_avg_loss': 3.591662, 'train_total': 901, 'train_imp_ratio': -288.581838, 'train_loss': 3236.087436}}\n",
      "2023-01-02 20:14:00,456 (server:496)INFO: {'Role': 'Server #', 'Round': 72, 'Results_avg': {'test_avg_loss': 3.693049, 'test_total': 113.0, 'test_imp_ratio': -299.55095, 'test_loss': 417.314562, 'val_avg_loss': 2.723038, 'val_total': 113.0, 'val_imp_ratio': -194.605375, 'val_loss': 307.703245}}\n",
      "2023-01-02 20:14:00,457 (monitor:513)INFO: current_best=-181.262731, should_save=False\n",
      "2023-01-02 20:14:00,458 (monitor:513)INFO: current_best=-181.262731, should_save=False\n",
      "2023-01-02 20:14:00,464 (server:323)INFO: Server #0: Starting evaluation at the end of round 72.\n",
      "2023-01-02 20:14:00,471 (server:330)INFO: ----------- Starting a new training round (Round #73) -------------\n"
     ]
    },
    {
     "name": "stdout",
     "output_type": "stream",
     "text": [
      "vae_loss: 0.2682279944419861\n",
      "vae_loss: 0.2709880471229553\n",
      "vae_loss: 0.2689688503742218\n",
      "vae_loss: 0.2667698860168457\n",
      "vae_loss: 0.27116572856903076\n",
      "vae_loss: 0.29103145003318787\n",
      "vae_loss: 0.2743303179740906\n",
      "vae_loss: 0.2550431191921234\n",
      "vae_loss: 0.2648989260196686\n",
      "vae_loss: 0.26943832635879517\n"
     ]
    },
    {
     "name": "stderr",
     "output_type": "stream",
     "text": [
      "2023-01-02 20:14:00,551 (client:410)INFO: {'Role': 'Client #1', 'Round': 73, 'Results_raw': {'test_avg_loss': 3.519131, 'test_total': 113, 'test_imp_ratio': -280.734661, 'test_loss': 397.661747, 'val_avg_loss': 3.037909, 'val_total': 113, 'val_imp_ratio': -228.671322, 'val_loss': 343.283687}}\n",
      "2023-01-02 20:14:00,552 (monitor:513)INFO: current_best=-181.262731, should_save=False\n"
     ]
    },
    {
     "name": "stdout",
     "output_type": "stream",
     "text": [
      "vae_loss: 0.26835477352142334\n",
      "vae_loss: 0.24701912701129913\n",
      "vae_loss: 0.28725573420524597\n",
      "vae_loss: 0.2827035188674927\n",
      "vae_loss: 0.26631540060043335\n",
      "vae_loss: 0.28551971912384033\n",
      "vae_loss: 0.25614872574806213\n",
      "vae_loss: 0.2785162925720215\n",
      "vae_loss: 0.2501963973045349\n",
      "vae_loss: 0.2521383464336395\n",
      "vae_loss: 0.2677830755710602\n",
      "vae_loss: 0.26245254278182983\n"
     ]
    },
    {
     "name": "stderr",
     "output_type": "stream",
     "text": [
      "2023-01-02 20:14:00,831 (client:255)INFO: {'Role': 'Client #1', 'Round': 73, 'Results_raw': {'train_avg_loss': 3.67066, 'train_total': 901, 'train_imp_ratio': -297.128666, 'train_loss': 3307.264787}}\n",
      "2023-01-02 20:14:00,836 (server:496)INFO: {'Role': 'Server #', 'Round': 73, 'Results_avg': {'test_avg_loss': 3.519131, 'test_total': 113.0, 'test_imp_ratio': -280.734661, 'test_loss': 397.661747, 'val_avg_loss': 3.037909, 'val_total': 113.0, 'val_imp_ratio': -228.671322, 'val_loss': 343.283687}}\n",
      "2023-01-02 20:14:00,837 (monitor:513)INFO: current_best=-181.262731, should_save=False\n",
      "2023-01-02 20:14:00,838 (monitor:513)INFO: current_best=-181.262731, should_save=False\n",
      "2023-01-02 20:14:00,845 (server:323)INFO: Server #0: Starting evaluation at the end of round 73.\n",
      "2023-01-02 20:14:00,855 (server:330)INFO: ----------- Starting a new training round (Round #74) -------------\n",
      "2023-01-02 20:14:00,948 (client:410)INFO: {'Role': 'Client #1', 'Round': 74, 'Results_raw': {'test_avg_loss': 3.983703, 'test_total': 113, 'test_imp_ratio': -330.996821, 'test_loss': 450.158485, 'val_avg_loss': 3.063751, 'val_total': 113, 'val_imp_ratio': -231.467162, 'val_loss': 346.203834}}\n",
      "2023-01-02 20:14:00,950 (monitor:513)INFO: current_best=-181.262731, should_save=False\n"
     ]
    },
    {
     "name": "stdout",
     "output_type": "stream",
     "text": [
      "vae_loss: 0.2761775553226471\n",
      "vae_loss: 0.2610746920108795\n",
      "vae_loss: 0.29022216796875\n",
      "vae_loss: 0.27587106823921204\n",
      "vae_loss: 0.25221797823905945\n",
      "vae_loss: 0.2626734673976898\n",
      "vae_loss: 0.2629743814468384\n",
      "vae_loss: 0.27929922938346863\n",
      "vae_loss: 0.2695798873901367\n",
      "vae_loss: 0.2739459276199341\n",
      "vae_loss: 0.2736879289150238\n",
      "vae_loss: 0.2711271643638611\n",
      "vae_loss: 0.2656855583190918\n",
      "vae_loss: 0.25046342611312866\n",
      "vae_loss: 0.2750825881958008\n",
      "vae_loss: 0.2573607563972473\n",
      "vae_loss: 0.25095707178115845\n",
      "vae_loss: 0.26903727650642395\n",
      "vae_loss: 0.26136094331741333\n",
      "vae_loss: 0.27074748277664185\n",
      "vae_loss: 0.26775363087654114\n"
     ]
    },
    {
     "name": "stderr",
     "output_type": "stream",
     "text": [
      "2023-01-02 20:14:01,219 (client:255)INFO: {'Role': 'Client #1', 'Round': 74, 'Results_raw': {'train_avg_loss': 3.696117, 'train_total': 901, 'train_imp_ratio': -299.882848, 'train_loss': 3330.201668}}\n",
      "2023-01-02 20:14:01,224 (server:496)INFO: {'Role': 'Server #', 'Round': 74, 'Results_avg': {'test_avg_loss': 3.983703, 'test_total': 113.0, 'test_imp_ratio': -330.996821, 'test_loss': 450.158485, 'val_avg_loss': 3.063751, 'val_total': 113.0, 'val_imp_ratio': -231.467162, 'val_loss': 346.203834}}\n",
      "2023-01-02 20:14:01,225 (monitor:513)INFO: current_best=-181.262731, should_save=False\n",
      "2023-01-02 20:14:01,226 (monitor:513)INFO: current_best=-181.262731, should_save=False\n",
      "2023-01-02 20:14:01,232 (server:323)INFO: Server #0: Starting evaluation at the end of round 74.\n",
      "2023-01-02 20:14:01,240 (server:330)INFO: ----------- Starting a new training round (Round #75) -------------\n",
      "2023-01-02 20:14:01,317 (client:410)INFO: {'Role': 'Client #1', 'Round': 75, 'Results_raw': {'test_avg_loss': 3.301936, 'test_total': 113, 'test_imp_ratio': -257.236308, 'test_loss': 373.118721, 'val_avg_loss': 2.631045, 'val_total': 113, 'val_imp_ratio': -184.652696, 'val_loss': 297.308062}}\n",
      "2023-01-02 20:14:01,318 (monitor:513)INFO: current_best=-181.262731, should_save=False\n"
     ]
    },
    {
     "name": "stdout",
     "output_type": "stream",
     "text": [
      "vae_loss: 0.24043551087379456\n",
      "vae_loss: 0.273222953081131\n",
      "vae_loss: 0.2547491192817688\n",
      "vae_loss: 0.2569337785243988\n",
      "vae_loss: 0.26593440771102905\n",
      "vae_loss: 0.26316800713539124\n",
      "vae_loss: 0.26282984018325806\n",
      "vae_loss: 0.26169058680534363\n",
      "vae_loss: 0.2523787021636963\n",
      "vae_loss: 0.2553204894065857\n",
      "vae_loss: 0.27265745401382446\n",
      "vae_loss: 0.2664351463317871\n",
      "vae_loss: 0.2584189772605896\n",
      "vae_loss: 0.2775845229625702\n",
      "vae_loss: 0.26808372139930725\n",
      "vae_loss: 0.27297765016555786\n",
      "vae_loss: 0.2664177417755127\n",
      "vae_loss: 0.259612500667572\n",
      "vae_loss: 0.28342804312705994\n",
      "vae_loss: 0.25119835138320923\n"
     ]
    },
    {
     "name": "stderr",
     "output_type": "stream",
     "text": [
      "2023-01-02 20:14:01,612 (client:255)INFO: {'Role': 'Client #1', 'Round': 75, 'Results_raw': {'train_avg_loss': 3.811888, 'train_total': 901, 'train_imp_ratio': -312.408116, 'train_loss': 3434.511163}}\n",
      "2023-01-02 20:14:01,616 (server:496)INFO: {'Role': 'Server #', 'Round': 75, 'Results_avg': {'test_avg_loss': 3.301936, 'test_total': 113.0, 'test_imp_ratio': -257.236308, 'test_loss': 373.118721, 'val_avg_loss': 2.631045, 'val_total': 113.0, 'val_imp_ratio': -184.652696, 'val_loss': 297.308062}}\n",
      "2023-01-02 20:14:01,618 (monitor:513)INFO: current_best=-181.262731, should_save=False\n",
      "2023-01-02 20:14:01,618 (monitor:513)INFO: current_best=-181.262731, should_save=False\n",
      "2023-01-02 20:14:01,624 (server:323)INFO: Server #0: Starting evaluation at the end of round 75.\n",
      "2023-01-02 20:14:01,631 (server:330)INFO: ----------- Starting a new training round (Round #76) -------------\n",
      "2023-01-02 20:14:01,717 (client:410)INFO: {'Role': 'Client #1', 'Round': 76, 'Results_raw': {'test_avg_loss': 3.829495, 'test_total': 113, 'test_imp_ratio': -314.312937, 'test_loss': 432.732901, 'val_avg_loss': 2.610271, 'val_total': 113, 'val_imp_ratio': -182.405246, 'val_loss': 294.96067}}\n",
      "2023-01-02 20:14:01,718 (monitor:513)INFO: current_best=-181.262731, should_save=False\n"
     ]
    },
    {
     "name": "stdout",
     "output_type": "stream",
     "text": [
      "vae_loss: 0.2708558738231659\n",
      "vae_loss: 0.2501063644886017\n",
      "vae_loss: 0.2570793628692627\n",
      "vae_loss: 0.2620946168899536\n",
      "vae_loss: 0.25433778762817383\n",
      "vae_loss: 0.27668365836143494\n",
      "vae_loss: 0.2510656416416168\n",
      "vae_loss: 0.2684049904346466\n",
      "vae_loss: 0.2556723356246948\n",
      "vae_loss: 0.2573438286781311\n",
      "vae_loss: 0.26306506991386414\n",
      "vae_loss: 0.27536144852638245\n"
     ]
    },
    {
     "name": "stderr",
     "output_type": "stream",
     "text": [
      "2023-01-02 20:14:01,999 (client:255)INFO: {'Role': 'Client #1', 'Round': 76, 'Results_raw': {'train_avg_loss': 3.724331, 'train_total': 901, 'train_imp_ratio': -302.935343, 'train_loss': 3355.62257}}\n",
      "2023-01-02 20:14:02,004 (server:496)INFO: {'Role': 'Server #', 'Round': 76, 'Results_avg': {'test_avg_loss': 3.829495, 'test_total': 113.0, 'test_imp_ratio': -314.312937, 'test_loss': 432.732901, 'val_avg_loss': 2.610271, 'val_total': 113.0, 'val_imp_ratio': -182.405246, 'val_loss': 294.96067}}\n",
      "2023-01-02 20:14:02,005 (monitor:513)INFO: current_best=-181.262731, should_save=False\n",
      "2023-01-02 20:14:02,006 (monitor:513)INFO: current_best=-181.262731, should_save=False\n",
      "2023-01-02 20:14:02,013 (server:323)INFO: Server #0: Starting evaluation at the end of round 76.\n",
      "2023-01-02 20:14:02,020 (server:330)INFO: ----------- Starting a new training round (Round #77) -------------\n"
     ]
    },
    {
     "name": "stdout",
     "output_type": "stream",
     "text": [
      "vae_loss: 0.26466166973114014\n",
      "vae_loss: 0.2569460868835449\n",
      "vae_loss: 0.2692490816116333\n",
      "vae_loss: 0.27830809354782104\n",
      "vae_loss: 0.26237308979034424\n",
      "vae_loss: 0.26462557911872864\n",
      "vae_loss: 0.2635994851589203\n",
      "vae_loss: 0.27225178480148315\n",
      "vae_loss: 0.2502891719341278\n"
     ]
    },
    {
     "name": "stderr",
     "output_type": "stream",
     "text": [
      "2023-01-02 20:14:02,099 (client:410)INFO: {'Role': 'Client #1', 'Round': 77, 'Results_raw': {'test_avg_loss': 3.68747, 'test_total': 113, 'test_imp_ratio': -298.947281, 'test_loss': 416.684062, 'val_avg_loss': 2.85196, 'val_total': 113, 'val_imp_ratio': -208.553545, 'val_loss': 322.271491}}\n",
      "2023-01-02 20:14:02,100 (monitor:513)INFO: current_best=-181.262731, should_save=False\n"
     ]
    },
    {
     "name": "stdout",
     "output_type": "stream",
     "text": [
      "vae_loss: 0.25798386335372925\n",
      "vae_loss: 0.26574674248695374\n",
      "vae_loss: 0.2674897313117981\n",
      "vae_loss: 0.2729566693305969\n",
      "vae_loss: 0.25118446350097656\n",
      "vae_loss: 0.25335413217544556\n",
      "vae_loss: 0.2632310688495636\n",
      "vae_loss: 0.26838693022727966\n",
      "vae_loss: 0.2582472860813141\n",
      "vae_loss: 0.2646050453186035\n",
      "vae_loss: 0.26901721954345703\n",
      "vae_loss: 0.25668004155158997\n"
     ]
    },
    {
     "name": "stderr",
     "output_type": "stream",
     "text": [
      "2023-01-02 20:14:02,387 (client:255)INFO: {'Role': 'Client #1', 'Round': 77, 'Results_raw': {'train_avg_loss': 3.803742, 'train_total': 901, 'train_imp_ratio': -311.52677, 'train_loss': 3427.171379}}\n",
      "2023-01-02 20:14:02,391 (server:496)INFO: {'Role': 'Server #', 'Round': 77, 'Results_avg': {'test_avg_loss': 3.68747, 'test_total': 113.0, 'test_imp_ratio': -298.947281, 'test_loss': 416.684062, 'val_avg_loss': 2.85196, 'val_total': 113.0, 'val_imp_ratio': -208.553545, 'val_loss': 322.271491}}\n",
      "2023-01-02 20:14:02,392 (monitor:513)INFO: current_best=-181.262731, should_save=False\n",
      "2023-01-02 20:14:02,393 (monitor:513)INFO: current_best=-181.262731, should_save=False\n",
      "2023-01-02 20:14:02,400 (server:323)INFO: Server #0: Starting evaluation at the end of round 77.\n",
      "2023-01-02 20:14:02,407 (server:330)INFO: ----------- Starting a new training round (Round #78) -------------\n",
      "2023-01-02 20:14:02,496 (client:410)INFO: {'Role': 'Client #1', 'Round': 78, 'Results_raw': {'test_avg_loss': 3.47538, 'test_total': 113, 'test_imp_ratio': -276.001266, 'test_loss': 392.717906, 'val_avg_loss': 2.899649, 'val_total': 113, 'val_imp_ratio': -213.713013, 'val_loss': 327.660379}}\n",
      "2023-01-02 20:14:02,497 (monitor:513)INFO: current_best=-181.262731, should_save=False\n"
     ]
    },
    {
     "name": "stdout",
     "output_type": "stream",
     "text": [
      "vae_loss: 0.2697446942329407\n",
      "vae_loss: 0.2785114347934723\n",
      "vae_loss: 0.24708661437034607\n",
      "vae_loss: 0.2736878991127014\n",
      "vae_loss: 0.2263881266117096\n",
      "vae_loss: 0.2700411081314087\n",
      "vae_loss: 0.2506805658340454\n",
      "vae_loss: 0.2563130855560303\n",
      "vae_loss: 0.2621317207813263\n",
      "vae_loss: 0.2658516764640808\n",
      "vae_loss: 0.25836315751075745\n",
      "vae_loss: 0.268791526556015\n",
      "vae_loss: 0.27019158005714417\n",
      "vae_loss: 0.24609225988388062\n",
      "vae_loss: 0.2741508483886719\n",
      "vae_loss: 0.25384923815727234\n",
      "vae_loss: 0.2618112564086914\n",
      "vae_loss: 0.26932787895202637\n",
      "vae_loss: 0.25157344341278076\n",
      "vae_loss: 0.2663898169994354\n",
      "vae_loss: 0.2746258080005646\n"
     ]
    },
    {
     "name": "stderr",
     "output_type": "stream",
     "text": [
      "2023-01-02 20:14:02,787 (client:255)INFO: {'Role': 'Client #1', 'Round': 78, 'Results_raw': {'train_avg_loss': 3.64126, 'train_total': 901, 'train_imp_ratio': -293.947843, 'train_loss': 3280.77507}}\n",
      "2023-01-02 20:14:02,791 (server:496)INFO: {'Role': 'Server #', 'Round': 78, 'Results_avg': {'test_avg_loss': 3.47538, 'test_total': 113.0, 'test_imp_ratio': -276.001266, 'test_loss': 392.717906, 'val_avg_loss': 2.899649, 'val_total': 113.0, 'val_imp_ratio': -213.713013, 'val_loss': 327.660379}}\n",
      "2023-01-02 20:14:02,792 (monitor:513)INFO: current_best=-181.262731, should_save=False\n",
      "2023-01-02 20:14:02,793 (monitor:513)INFO: current_best=-181.262731, should_save=False\n",
      "2023-01-02 20:14:02,799 (server:323)INFO: Server #0: Starting evaluation at the end of round 78.\n",
      "2023-01-02 20:14:02,806 (server:330)INFO: ----------- Starting a new training round (Round #79) -------------\n",
      "2023-01-02 20:14:02,882 (client:410)INFO: {'Role': 'Client #1', 'Round': 79, 'Results_raw': {'test_avg_loss': 3.638967, 'test_total': 113, 'test_imp_ratio': -293.699803, 'test_loss': 411.203305, 'val_avg_loss': 2.714068, 'val_total': 113, 'val_imp_ratio': -193.634908, 'val_loss': 306.689652}}\n",
      "2023-01-02 20:14:02,883 (monitor:513)INFO: current_best=-181.262731, should_save=False\n"
     ]
    },
    {
     "name": "stdout",
     "output_type": "stream",
     "text": [
      "vae_loss: 0.24902278184890747\n",
      "vae_loss: 0.259685218334198\n",
      "vae_loss: 0.27646470069885254\n",
      "vae_loss: 0.26966196298599243\n",
      "vae_loss: 0.24630425870418549\n",
      "vae_loss: 0.2553616464138031\n",
      "vae_loss: 0.2597416639328003\n",
      "vae_loss: 0.25057151913642883\n",
      "vae_loss: 0.2646140456199646\n",
      "vae_loss: 0.259207159280777\n",
      "vae_loss: 0.26910096406936646\n",
      "vae_loss: 0.24959075450897217\n",
      "vae_loss: 0.27284005284309387\n",
      "vae_loss: 0.26371729373931885\n",
      "vae_loss: 0.24071481823921204\n",
      "vae_loss: 0.2749103605747223\n",
      "vae_loss: 0.2572630047798157\n",
      "vae_loss: 0.2594042420387268\n",
      "vae_loss: 0.24818575382232666\n",
      "vae_loss: 0.27791500091552734\n",
      "vae_loss: 0.26728782057762146\n",
      "vae_loss: 0.25513118505477905\n"
     ]
    },
    {
     "name": "stderr",
     "output_type": "stream",
     "text": [
      "2023-01-02 20:14:03,158 (client:255)INFO: {'Role': 'Client #1', 'Round': 79, 'Results_raw': {'train_avg_loss': 3.710559, 'train_total': 901, 'train_imp_ratio': -301.445272, 'train_loss': 3343.213463}}\n",
      "2023-01-02 20:14:03,162 (server:496)INFO: {'Role': 'Server #', 'Round': 79, 'Results_avg': {'test_avg_loss': 3.638967, 'test_total': 113.0, 'test_imp_ratio': -293.699803, 'test_loss': 411.203305, 'val_avg_loss': 2.714068, 'val_total': 113.0, 'val_imp_ratio': -193.634908, 'val_loss': 306.689652}}\n",
      "2023-01-02 20:14:03,163 (monitor:513)INFO: current_best=-181.262731, should_save=False\n",
      "2023-01-02 20:14:03,164 (monitor:513)INFO: current_best=-181.262731, should_save=False\n",
      "2023-01-02 20:14:03,172 (server:323)INFO: Server #0: Starting evaluation at the end of round 79.\n",
      "2023-01-02 20:14:03,178 (server:330)INFO: ----------- Starting a new training round (Round #80) -------------\n",
      "2023-01-02 20:14:03,255 (client:410)INFO: {'Role': 'Client #1', 'Round': 80, 'Results_raw': {'test_avg_loss': 3.320882, 'test_total': 113, 'test_imp_ratio': -259.286171, 'test_loss': 375.259636, 'val_avg_loss': 3.036422, 'val_total': 113, 'val_imp_ratio': -228.510493, 'val_loss': 343.115723}}\n",
      "2023-01-02 20:14:03,257 (monitor:513)INFO: current_best=-181.262731, should_save=False\n"
     ]
    },
    {
     "name": "stdout",
     "output_type": "stream",
     "text": [
      "vae_loss: 0.2684383690357208\n",
      "vae_loss: 0.24707448482513428\n",
      "vae_loss: 0.2547247111797333\n",
      "vae_loss: 0.261496901512146\n",
      "vae_loss: 0.2606756091117859\n",
      "vae_loss: 0.25254353880882263\n",
      "vae_loss: 0.27272072434425354\n",
      "vae_loss: 0.2606397271156311\n",
      "vae_loss: 0.24972443282604218\n",
      "vae_loss: 0.27744409441947937\n",
      "vae_loss: 0.26035645604133606\n"
     ]
    },
    {
     "name": "stderr",
     "output_type": "stream",
     "text": [
      "2023-01-02 20:14:03,559 (client:255)INFO: {'Role': 'Client #1', 'Round': 80, 'Results_raw': {'train_avg_loss': 3.72668, 'train_total': 901, 'train_imp_ratio': -303.189393, 'train_loss': 3357.738364}}\n",
      "2023-01-02 20:14:03,564 (server:496)INFO: {'Role': 'Server #', 'Round': 80, 'Results_avg': {'test_avg_loss': 3.320882, 'test_total': 113.0, 'test_imp_ratio': -259.286171, 'test_loss': 375.259636, 'val_avg_loss': 3.036422, 'val_total': 113.0, 'val_imp_ratio': -228.510493, 'val_loss': 343.115723}}\n",
      "2023-01-02 20:14:03,565 (monitor:513)INFO: current_best=-181.262731, should_save=False\n",
      "2023-01-02 20:14:03,566 (monitor:513)INFO: current_best=-181.262731, should_save=False\n",
      "2023-01-02 20:14:03,571 (server:323)INFO: Server #0: Starting evaluation at the end of round 80.\n",
      "2023-01-02 20:14:03,579 (server:330)INFO: ----------- Starting a new training round (Round #81) -------------\n"
     ]
    },
    {
     "name": "stdout",
     "output_type": "stream",
     "text": [
      "vae_loss: 0.25380122661590576\n",
      "vae_loss: 0.2520597279071808\n",
      "vae_loss: 0.2651267349720001\n",
      "vae_loss: 0.266265869140625\n",
      "vae_loss: 0.2512381970882416\n",
      "vae_loss: 0.25877976417541504\n",
      "vae_loss: 0.2573254108428955\n",
      "vae_loss: 0.22598794102668762\n",
      "vae_loss: 0.267173707485199\n"
     ]
    },
    {
     "name": "stderr",
     "output_type": "stream",
     "text": [
      "2023-01-02 20:14:03,660 (client:410)INFO: {'Role': 'Client #1', 'Round': 81, 'Results_raw': {'test_avg_loss': 3.636529, 'test_total': 113, 'test_imp_ratio': -293.436054, 'test_loss': 410.927804, 'val_avg_loss': 3.005392, 'val_total': 113, 'val_imp_ratio': -225.153236, 'val_loss': 339.609262}}\n",
      "2023-01-02 20:14:03,661 (monitor:513)INFO: current_best=-181.262731, should_save=False\n"
     ]
    },
    {
     "name": "stdout",
     "output_type": "stream",
     "text": [
      "vae_loss: 0.2458699494600296\n",
      "vae_loss: 0.25320664048194885\n",
      "vae_loss: 0.25787606835365295\n",
      "vae_loss: 0.289461612701416\n",
      "vae_loss: 0.25133025646209717\n",
      "vae_loss: 0.25345170497894287\n",
      "vae_loss: 0.25624310970306396\n",
      "vae_loss: 0.24191147089004517\n",
      "vae_loss: 0.2520451843738556\n",
      "vae_loss: 0.2505629360675812\n",
      "vae_loss: 0.2496797740459442\n"
     ]
    },
    {
     "name": "stderr",
     "output_type": "stream",
     "text": [
      "2023-01-02 20:14:03,956 (client:255)INFO: {'Role': 'Client #1', 'Round': 81, 'Results_raw': {'train_avg_loss': 3.636118, 'train_total': 901, 'train_imp_ratio': -293.391507, 'train_loss': 3276.14208}}\n",
      "2023-01-02 20:14:03,960 (server:496)INFO: {'Role': 'Server #', 'Round': 81, 'Results_avg': {'test_avg_loss': 3.636529, 'test_total': 113.0, 'test_imp_ratio': -293.436054, 'test_loss': 410.927804, 'val_avg_loss': 3.005392, 'val_total': 113.0, 'val_imp_ratio': -225.153236, 'val_loss': 339.609262}}\n",
      "2023-01-02 20:14:03,961 (monitor:513)INFO: current_best=-181.262731, should_save=False\n",
      "2023-01-02 20:14:03,962 (monitor:513)INFO: current_best=-181.262731, should_save=False\n",
      "2023-01-02 20:14:03,967 (server:323)INFO: Server #0: Starting evaluation at the end of round 81.\n",
      "2023-01-02 20:14:03,974 (server:330)INFO: ----------- Starting a new training round (Round #82) -------------\n"
     ]
    },
    {
     "name": "stdout",
     "output_type": "stream",
     "text": [
      "vae_loss: 0.27276384830474854\n",
      "vae_loss: 0.24460862576961517\n",
      "vae_loss: 0.23960259556770325\n",
      "vae_loss: 0.2745864987373352\n",
      "vae_loss: 0.25623464584350586\n",
      "vae_loss: 0.27266427874565125\n",
      "vae_loss: 0.24329319596290588\n",
      "vae_loss: 0.2649056613445282\n",
      "vae_loss: 0.24121522903442383\n",
      "vae_loss: 0.2499062716960907\n"
     ]
    },
    {
     "name": "stderr",
     "output_type": "stream",
     "text": [
      "2023-01-02 20:14:04,056 (client:410)INFO: {'Role': 'Client #1', 'Round': 82, 'Results_raw': {'test_avg_loss': 3.493765, 'test_total': 113, 'test_imp_ratio': -277.990435, 'test_loss': 394.795494, 'val_avg_loss': 3.002477, 'val_total': 113, 'val_imp_ratio': -224.83795, 'val_loss': 339.279917}}\n",
      "2023-01-02 20:14:04,057 (monitor:513)INFO: current_best=-181.262731, should_save=False\n"
     ]
    },
    {
     "name": "stdout",
     "output_type": "stream",
     "text": [
      "vae_loss: 0.25703635811805725\n",
      "vae_loss: 0.2568124830722809\n",
      "vae_loss: 0.2595038414001465\n",
      "vae_loss: 0.24774840474128723\n",
      "vae_loss: 0.24603989720344543\n",
      "vae_loss: 0.2515447437763214\n",
      "vae_loss: 0.27227723598480225\n",
      "vae_loss: 0.2618086636066437\n",
      "vae_loss: 0.25083643198013306\n",
      "vae_loss: 0.2494507133960724\n",
      "vae_loss: 0.26269954442977905\n"
     ]
    },
    {
     "name": "stderr",
     "output_type": "stream",
     "text": [
      "2023-01-02 20:14:04,347 (client:255)INFO: {'Role': 'Client #1', 'Round': 82, 'Results_raw': {'train_avg_loss': 3.778326, 'train_total': 901, 'train_imp_ratio': -308.776998, 'train_loss': 3404.271631}}\n",
      "2023-01-02 20:14:04,353 (server:496)INFO: {'Role': 'Server #', 'Round': 82, 'Results_avg': {'test_avg_loss': 3.493765, 'test_total': 113.0, 'test_imp_ratio': -277.990435, 'test_loss': 394.795494, 'val_avg_loss': 3.002477, 'val_total': 113.0, 'val_imp_ratio': -224.83795, 'val_loss': 339.279917}}\n",
      "2023-01-02 20:14:04,354 (monitor:513)INFO: current_best=-181.262731, should_save=False\n",
      "2023-01-02 20:14:04,355 (monitor:513)INFO: current_best=-181.262731, should_save=False\n",
      "2023-01-02 20:14:04,361 (server:323)INFO: Server #0: Starting evaluation at the end of round 82.\n",
      "2023-01-02 20:14:04,367 (server:330)INFO: ----------- Starting a new training round (Round #83) -------------\n",
      "2023-01-02 20:14:04,436 (client:410)INFO: {'Role': 'Client #1', 'Round': 83, 'Results_raw': {'test_avg_loss': 3.578125, 'test_total': 113, 'test_imp_ratio': -287.117278, 'test_loss': 404.328111, 'val_avg_loss': 2.802376, 'val_total': 113, 'val_imp_ratio': -203.188986, 'val_loss': 316.668485}}\n",
      "2023-01-02 20:14:04,437 (monitor:513)INFO: current_best=-181.262731, should_save=False\n"
     ]
    },
    {
     "name": "stdout",
     "output_type": "stream",
     "text": [
      "vae_loss: 0.2695041000843048\n",
      "vae_loss: 0.2553621530532837\n",
      "vae_loss: 0.23389121890068054\n",
      "vae_loss: 0.25236743688583374\n",
      "vae_loss: 0.2770736515522003\n",
      "vae_loss: 0.26175805926322937\n",
      "vae_loss: 0.24120929837226868\n",
      "vae_loss: 0.24834614992141724\n",
      "vae_loss: 0.25365591049194336\n",
      "vae_loss: 0.2544582784175873\n",
      "vae_loss: 0.258939653635025\n",
      "vae_loss: 0.2551487386226654\n",
      "vae_loss: 0.2565400302410126\n",
      "vae_loss: 0.2630766034126282\n",
      "vae_loss: 0.25054240226745605\n",
      "vae_loss: 0.24328532814979553\n",
      "vae_loss: 0.23770791292190552\n",
      "vae_loss: 0.25579601526260376\n",
      "vae_loss: 0.2801131010055542\n",
      "vae_loss: 0.2521221935749054\n",
      "vae_loss: 0.24938178062438965\n",
      "vae_loss: 0.2586062252521515\n",
      "vae_loss: 0.24762845039367676\n"
     ]
    },
    {
     "name": "stderr",
     "output_type": "stream",
     "text": [
      "2023-01-02 20:14:04,706 (client:255)INFO: {'Role': 'Client #1', 'Round': 83, 'Results_raw': {'train_avg_loss': 3.604718, 'train_total': 901, 'train_imp_ratio': -289.994371, 'train_loss': 3247.85094}}\n",
      "2023-01-02 20:14:04,710 (server:496)INFO: {'Role': 'Server #', 'Round': 83, 'Results_avg': {'test_avg_loss': 3.578125, 'test_total': 113.0, 'test_imp_ratio': -287.117278, 'test_loss': 404.328111, 'val_avg_loss': 2.802376, 'val_total': 113.0, 'val_imp_ratio': -203.188986, 'val_loss': 316.668485}}\n",
      "2023-01-02 20:14:04,711 (monitor:513)INFO: current_best=-181.262731, should_save=False\n",
      "2023-01-02 20:14:04,712 (monitor:513)INFO: current_best=-181.262731, should_save=False\n",
      "2023-01-02 20:14:04,718 (server:323)INFO: Server #0: Starting evaluation at the end of round 83.\n",
      "2023-01-02 20:14:04,725 (server:330)INFO: ----------- Starting a new training round (Round #84) -------------\n",
      "2023-01-02 20:14:04,799 (client:410)INFO: {'Role': 'Client #1', 'Round': 84, 'Results_raw': {'test_avg_loss': 3.356366, 'test_total': 113, 'test_imp_ratio': -263.125219, 'test_loss': 379.269372, 'val_avg_loss': 2.945061, 'val_total': 113, 'val_imp_ratio': -218.626066, 'val_loss': 332.791872}}\n",
      "2023-01-02 20:14:04,800 (monitor:513)INFO: current_best=-181.262731, should_save=False\n"
     ]
    },
    {
     "name": "stdout",
     "output_type": "stream",
     "text": [
      "vae_loss: 0.18489550054073334\n",
      "vae_loss: 0.2611857056617737\n",
      "vae_loss: 0.2384505271911621\n",
      "vae_loss: 0.24662825465202332\n",
      "vae_loss: 0.2527560889720917\n",
      "vae_loss: 0.2388852834701538\n",
      "vae_loss: 0.2417353391647339\n",
      "vae_loss: 0.25408583879470825\n",
      "vae_loss: 0.2535145878791809\n"
     ]
    },
    {
     "name": "stderr",
     "output_type": "stream",
     "text": [
      "2023-01-02 20:14:05,090 (client:255)INFO: {'Role': 'Client #1', 'Round': 84, 'Results_raw': {'train_avg_loss': 3.685703, 'train_total': 901, 'train_imp_ratio': -298.75617, 'train_loss': 3320.818701}}\n",
      "2023-01-02 20:14:05,095 (server:496)INFO: {'Role': 'Server #', 'Round': 84, 'Results_avg': {'test_avg_loss': 3.356366, 'test_total': 113.0, 'test_imp_ratio': -263.125219, 'test_loss': 379.269372, 'val_avg_loss': 2.945061, 'val_total': 113.0, 'val_imp_ratio': -218.626066, 'val_loss': 332.791872}}\n",
      "2023-01-02 20:14:05,096 (monitor:513)INFO: current_best=-181.262731, should_save=False\n",
      "2023-01-02 20:14:05,097 (monitor:513)INFO: current_best=-181.262731, should_save=False\n",
      "2023-01-02 20:14:05,104 (server:323)INFO: Server #0: Starting evaluation at the end of round 84.\n"
     ]
    },
    {
     "name": "stdout",
     "output_type": "stream",
     "text": [
      "vae_loss: 0.2587987184524536\n",
      "vae_loss: 0.248734250664711\n",
      "vae_loss: 0.25292032957077026\n",
      "vae_loss: 0.2569032311439514\n",
      "vae_loss: 0.2649444043636322\n",
      "vae_loss: 0.2599833607673645\n",
      "vae_loss: 0.2516237199306488\n",
      "vae_loss: 0.2619328498840332\n",
      "vae_loss: 0.23542162775993347\n",
      "vae_loss: 0.248206228017807\n",
      "vae_loss: 0.24433499574661255\n"
     ]
    },
    {
     "name": "stderr",
     "output_type": "stream",
     "text": [
      "2023-01-02 20:14:05,111 (server:330)INFO: ----------- Starting a new training round (Round #85) -------------\n",
      "2023-01-02 20:14:05,192 (client:410)INFO: {'Role': 'Client #1', 'Round': 85, 'Results_raw': {'test_avg_loss': 3.441569, 'test_total': 113, 'test_imp_ratio': -272.343271, 'test_loss': 388.897283, 'val_avg_loss': 2.95812, 'val_total': 113, 'val_imp_ratio': -220.038934, 'val_loss': 334.267532}}\n",
      "2023-01-02 20:14:05,194 (monitor:513)INFO: current_best=-181.262731, should_save=False\n"
     ]
    },
    {
     "name": "stdout",
     "output_type": "stream",
     "text": [
      "vae_loss: 0.26040658354759216\n",
      "vae_loss: 0.237833172082901\n",
      "vae_loss: 0.24608799815177917\n",
      "vae_loss: 0.2534997761249542\n",
      "vae_loss: 0.26881664991378784\n",
      "vae_loss: 0.26263073086738586\n",
      "vae_loss: 0.2588796317577362\n",
      "vae_loss: 0.24320349097251892\n",
      "vae_loss: 0.255429208278656\n",
      "vae_loss: 0.2518310844898224\n",
      "vae_loss: 0.2396642565727234\n",
      "vae_loss: 0.25434187054634094\n"
     ]
    },
    {
     "name": "stderr",
     "output_type": "stream",
     "text": [
      "2023-01-02 20:14:05,493 (client:255)INFO: {'Role': 'Client #1', 'Round': 85, 'Results_raw': {'train_avg_loss': 3.643937, 'train_total': 901, 'train_imp_ratio': -294.237541, 'train_loss': 3283.187607}}\n",
      "2023-01-02 20:14:05,502 (server:496)INFO: {'Role': 'Server #', 'Round': 85, 'Results_avg': {'test_avg_loss': 3.441569, 'test_total': 113.0, 'test_imp_ratio': -272.343271, 'test_loss': 388.897283, 'val_avg_loss': 2.95812, 'val_total': 113.0, 'val_imp_ratio': -220.038934, 'val_loss': 334.267532}}\n",
      "2023-01-02 20:14:05,503 (monitor:513)INFO: current_best=-181.262731, should_save=False\n",
      "2023-01-02 20:14:05,504 (monitor:513)INFO: current_best=-181.262731, should_save=False\n",
      "2023-01-02 20:14:05,511 (server:323)INFO: Server #0: Starting evaluation at the end of round 85.\n",
      "2023-01-02 20:14:05,518 (server:330)INFO: ----------- Starting a new training round (Round #86) -------------\n"
     ]
    },
    {
     "name": "stdout",
     "output_type": "stream",
     "text": [
      "vae_loss: 0.26566624641418457\n",
      "vae_loss: 0.2469240427017212\n",
      "vae_loss: 0.24293088912963867\n",
      "vae_loss: 0.26020216941833496\n",
      "vae_loss: 0.2353498637676239\n",
      "vae_loss: 0.23457969725131989\n",
      "vae_loss: 0.19470858573913574\n",
      "vae_loss: 0.26046425104141235\n",
      "vae_loss: 0.23634205758571625\n"
     ]
    },
    {
     "name": "stderr",
     "output_type": "stream",
     "text": [
      "2023-01-02 20:14:05,594 (client:410)INFO: {'Role': 'Client #1', 'Round': 86, 'Results_raw': {'test_avg_loss': 3.5304, 'test_total': 113, 'test_imp_ratio': -281.953915, 'test_loss': 398.935219, 'val_avg_loss': 2.786268, 'val_total': 113, 'val_imp_ratio': -201.446257, 'val_loss': 314.848279}}\n",
      "2023-01-02 20:14:05,596 (monitor:513)INFO: current_best=-181.262731, should_save=False\n"
     ]
    },
    {
     "name": "stdout",
     "output_type": "stream",
     "text": [
      "vae_loss: 0.2442282885313034\n",
      "vae_loss: 0.25063416361808777\n",
      "vae_loss: 0.25470489263534546\n",
      "vae_loss: 0.2510775029659271\n",
      "vae_loss: 0.24311694502830505\n",
      "vae_loss: 0.2273094654083252\n",
      "vae_loss: 0.2604789137840271\n",
      "vae_loss: 0.24934720993041992\n",
      "vae_loss: 0.26713991165161133\n",
      "vae_loss: 0.24540241062641144\n",
      "vae_loss: 0.26990723609924316\n"
     ]
    },
    {
     "name": "stderr",
     "output_type": "stream",
     "text": [
      "2023-01-02 20:14:05,894 (client:255)INFO: {'Role': 'Client #1', 'Round': 86, 'Results_raw': {'train_avg_loss': 3.625268, 'train_total': 901, 'train_imp_ratio': -292.217599, 'train_loss': 3266.366026}}\n",
      "2023-01-02 20:14:05,899 (server:496)INFO: {'Role': 'Server #', 'Round': 86, 'Results_avg': {'test_avg_loss': 3.5304, 'test_total': 113.0, 'test_imp_ratio': -281.953915, 'test_loss': 398.935219, 'val_avg_loss': 2.786268, 'val_total': 113.0, 'val_imp_ratio': -201.446257, 'val_loss': 314.848279}}\n",
      "2023-01-02 20:14:05,900 (monitor:513)INFO: current_best=-181.262731, should_save=False\n",
      "2023-01-02 20:14:05,901 (monitor:513)INFO: current_best=-181.262731, should_save=False\n",
      "2023-01-02 20:14:05,906 (server:323)INFO: Server #0: Starting evaluation at the end of round 86.\n",
      "2023-01-02 20:14:05,913 (server:330)INFO: ----------- Starting a new training round (Round #87) -------------\n",
      "2023-01-02 20:14:05,985 (client:410)INFO: {'Role': 'Client #1', 'Round': 87, 'Results_raw': {'test_avg_loss': 3.974636, 'test_total': 113, 'test_imp_ratio': -330.015753, 'test_loss': 449.133836, 'val_avg_loss': 2.481074, 'val_total': 113, 'val_imp_ratio': -168.427335, 'val_loss': 280.361356}}\n",
      "2023-01-02 20:14:05,986 (monitor:513)INFO: current_best=-168.427335, should_save=True\n",
      "2023-01-02 20:14:05,987 (client:431)INFO: Client: #1, val_imp_ratio: -168.427335. model saved at exp/test_dir/Graph-DT-FedAvg_gin_on_graph-dt_lr0.1_lstep1_/sub_exp_20230102200809/model1.pth\n"
     ]
    },
    {
     "name": "stdout",
     "output_type": "stream",
     "text": [
      "vae_loss: 0.245824933052063\n",
      "vae_loss: 0.25211215019226074\n",
      "vae_loss: 0.2518269419670105\n",
      "vae_loss: 0.23944272100925446\n",
      "vae_loss: 0.242935448884964\n",
      "vae_loss: 0.20699557662010193\n",
      "vae_loss: 0.2573361098766327\n",
      "vae_loss: 0.23427331447601318\n",
      "vae_loss: 0.24319863319396973\n",
      "vae_loss: 0.25241512060165405\n",
      "vae_loss: 0.2542567849159241\n",
      "vae_loss: 0.25143176317214966\n",
      "vae_loss: 0.246016263961792\n",
      "vae_loss: 0.24259468913078308\n",
      "vae_loss: 0.24949811398983002\n",
      "vae_loss: 0.24605903029441833\n",
      "vae_loss: 0.24419055879116058\n",
      "vae_loss: 0.2497035562992096\n",
      "vae_loss: 0.2376648485660553\n",
      "vae_loss: 0.24463105201721191\n",
      "vae_loss: 0.24395929276943207\n",
      "vae_loss: 0.2403562366962433\n"
     ]
    },
    {
     "name": "stderr",
     "output_type": "stream",
     "text": [
      "2023-01-02 20:14:06,281 (client:255)INFO: {'Role': 'Client #1', 'Round': 87, 'Results_raw': {'train_avg_loss': 3.81201, 'train_total': 901, 'train_imp_ratio': -312.421297, 'train_loss': 3434.620875}}\n",
      "2023-01-02 20:14:06,286 (server:496)INFO: {'Role': 'Server #', 'Round': 87, 'Results_avg': {'test_avg_loss': 3.974636, 'test_total': 113.0, 'test_imp_ratio': -330.015753, 'test_loss': 449.133836, 'val_avg_loss': 2.481074, 'val_total': 113.0, 'val_imp_ratio': -168.427335, 'val_loss': 280.361356}}\n",
      "2023-01-02 20:14:06,287 (monitor:513)INFO: current_best=-181.262731, should_save=False\n",
      "2023-01-02 20:14:06,288 (monitor:513)INFO: current_best=-168.427335, should_save=True\n",
      "2023-01-02 20:14:06,296 (server:323)INFO: Server #0: Starting evaluation at the end of round 87.\n",
      "2023-01-02 20:14:06,306 (server:330)INFO: ----------- Starting a new training round (Round #88) -------------\n",
      "2023-01-02 20:14:06,378 (client:410)INFO: {'Role': 'Client #1', 'Round': 88, 'Results_raw': {'test_avg_loss': 3.368327, 'test_total': 113, 'test_imp_ratio': -264.419277, 'test_loss': 380.620971, 'val_avg_loss': 2.986309, 'val_total': 113, 'val_imp_ratio': -223.088773, 'val_loss': 337.452967}}\n",
      "2023-01-02 20:14:06,380 (monitor:513)INFO: current_best=-168.427335, should_save=False\n"
     ]
    },
    {
     "name": "stdout",
     "output_type": "stream",
     "text": [
      "vae_loss: 0.25664758682250977\n",
      "vae_loss: 0.26627105474472046\n",
      "vae_loss: 0.23681817948818207\n",
      "vae_loss: 0.2537604570388794\n",
      "vae_loss: 0.23367513716220856\n",
      "vae_loss: 0.24178028106689453\n",
      "vae_loss: 0.24871236085891724\n",
      "vae_loss: 0.2622770071029663\n",
      "vae_loss: 0.2671336233615875\n",
      "vae_loss: 0.2561957836151123\n",
      "vae_loss: 0.2427838146686554\n",
      "vae_loss: 0.24020732939243317\n",
      "vae_loss: 0.2287602722644806\n",
      "vae_loss: 0.2268124520778656\n",
      "vae_loss: 0.24443069100379944\n",
      "vae_loss: 0.2504795491695404\n",
      "vae_loss: 0.24668864905834198\n",
      "vae_loss: 0.2512185871601105\n",
      "vae_loss: 0.25556647777557373\n",
      "vae_loss: 0.2581249177455902\n"
     ]
    },
    {
     "name": "stderr",
     "output_type": "stream",
     "text": [
      "2023-01-02 20:14:06,661 (client:255)INFO: {'Role': 'Client #1', 'Round': 88, 'Results_raw': {'train_avg_loss': 3.72477, 'train_total': 901, 'train_imp_ratio': -302.982779, 'train_loss': 3356.017812}}\n",
      "2023-01-02 20:14:06,665 (server:496)INFO: {'Role': 'Server #', 'Round': 88, 'Results_avg': {'test_avg_loss': 3.368327, 'test_total': 113.0, 'test_imp_ratio': -264.419277, 'test_loss': 380.620971, 'val_avg_loss': 2.986309, 'val_total': 113.0, 'val_imp_ratio': -223.088773, 'val_loss': 337.452967}}\n",
      "2023-01-02 20:14:06,666 (monitor:513)INFO: current_best=-168.427335, should_save=False\n",
      "2023-01-02 20:14:06,667 (monitor:513)INFO: current_best=-168.427335, should_save=False\n",
      "2023-01-02 20:14:06,673 (server:323)INFO: Server #0: Starting evaluation at the end of round 88.\n",
      "2023-01-02 20:14:06,680 (server:330)INFO: ----------- Starting a new training round (Round #89) -------------\n",
      "2023-01-02 20:14:06,757 (client:410)INFO: {'Role': 'Client #1', 'Round': 89, 'Results_raw': {'test_avg_loss': 3.494182, 'test_total': 113, 'test_imp_ratio': -278.03555, 'test_loss': 394.842603, 'val_avg_loss': 2.796919, 'val_total': 113, 'val_imp_ratio': -202.598653, 'val_loss': 316.051874}}\n",
      "2023-01-02 20:14:06,758 (monitor:513)INFO: current_best=-168.427335, should_save=False\n"
     ]
    },
    {
     "name": "stdout",
     "output_type": "stream",
     "text": [
      "vae_loss: 0.23098057508468628\n",
      "vae_loss: 0.2763216495513916\n",
      "vae_loss: 0.2543269395828247\n",
      "vae_loss: 0.23215354979038239\n",
      "vae_loss: 0.24024982750415802\n",
      "vae_loss: 0.24684131145477295\n",
      "vae_loss: 0.24094438552856445\n",
      "vae_loss: 0.23909738659858704\n",
      "vae_loss: 0.2610437870025635\n",
      "vae_loss: 0.24201828241348267\n",
      "vae_loss: 0.24676191806793213\n",
      "vae_loss: 0.2329847812652588\n",
      "vae_loss: 0.256988525390625\n",
      "vae_loss: 0.24298152327537537\n",
      "vae_loss: 0.25215601921081543\n",
      "vae_loss: 0.22439870238304138\n",
      "vae_loss: 0.2537645101547241\n",
      "vae_loss: 0.23529008030891418\n",
      "vae_loss: 0.23770438134670258\n",
      "vae_loss: 0.273388534784317\n",
      "vae_loss: 0.2611381411552429\n"
     ]
    },
    {
     "name": "stderr",
     "output_type": "stream",
     "text": [
      "2023-01-02 20:14:07,062 (client:255)INFO: {'Role': 'Client #1', 'Round': 89, 'Results_raw': {'train_avg_loss': 3.704231, 'train_total': 901, 'train_imp_ratio': -300.760686, 'train_loss': 3337.512323}}\n",
      "2023-01-02 20:14:07,072 (server:496)INFO: {'Role': 'Server #', 'Round': 89, 'Results_avg': {'test_avg_loss': 3.494182, 'test_total': 113.0, 'test_imp_ratio': -278.03555, 'test_loss': 394.842603, 'val_avg_loss': 2.796919, 'val_total': 113.0, 'val_imp_ratio': -202.598653, 'val_loss': 316.051874}}\n",
      "2023-01-02 20:14:07,075 (monitor:513)INFO: current_best=-168.427335, should_save=False\n",
      "2023-01-02 20:14:07,075 (monitor:513)INFO: current_best=-168.427335, should_save=False\n",
      "2023-01-02 20:14:07,085 (server:323)INFO: Server #0: Starting evaluation at the end of round 89.\n",
      "2023-01-02 20:14:07,092 (server:330)INFO: ----------- Starting a new training round (Round #90) -------------\n",
      "2023-01-02 20:14:07,182 (client:410)INFO: {'Role': 'Client #1', 'Round': 90, 'Results_raw': {'test_avg_loss': 3.691523, 'test_total': 113, 'test_imp_ratio': -299.385814, 'test_loss': 417.142122, 'val_avg_loss': 2.835275, 'val_total': 113, 'val_imp_ratio': -206.748317, 'val_loss': 320.38604}}\n",
      "2023-01-02 20:14:07,183 (monitor:513)INFO: current_best=-168.427335, should_save=False\n"
     ]
    },
    {
     "name": "stdout",
     "output_type": "stream",
     "text": [
      "vae_loss: 0.2528076767921448\n",
      "vae_loss: 0.23250916600227356\n",
      "vae_loss: 0.23771584033966064\n",
      "vae_loss: 0.2487831711769104\n",
      "vae_loss: 0.24873608350753784\n",
      "vae_loss: 0.25207528471946716\n",
      "vae_loss: 0.23879453539848328\n",
      "vae_loss: 0.25559091567993164\n",
      "vae_loss: 0.23895910382270813\n",
      "vae_loss: 0.2297295182943344\n",
      "vae_loss: 0.24846327304840088\n"
     ]
    },
    {
     "name": "stderr",
     "output_type": "stream",
     "text": [
      "2023-01-02 20:14:07,462 (client:255)INFO: {'Role': 'Client #1', 'Round': 90, 'Results_raw': {'train_avg_loss': 3.755907, 'train_total': 901, 'train_imp_ratio': -306.351464, 'train_loss': 3384.071974}}\n",
      "2023-01-02 20:14:07,467 (server:496)INFO: {'Role': 'Server #', 'Round': 90, 'Results_avg': {'test_avg_loss': 3.691523, 'test_total': 113.0, 'test_imp_ratio': -299.385814, 'test_loss': 417.142122, 'val_avg_loss': 2.835275, 'val_total': 113.0, 'val_imp_ratio': -206.748317, 'val_loss': 320.38604}}\n",
      "2023-01-02 20:14:07,468 (monitor:513)INFO: current_best=-168.427335, should_save=False\n",
      "2023-01-02 20:14:07,470 (monitor:513)INFO: current_best=-168.427335, should_save=False\n",
      "2023-01-02 20:14:07,477 (server:323)INFO: Server #0: Starting evaluation at the end of round 90.\n",
      "2023-01-02 20:14:07,484 (server:330)INFO: ----------- Starting a new training round (Round #91) -------------\n"
     ]
    },
    {
     "name": "stdout",
     "output_type": "stream",
     "text": [
      "vae_loss: 0.2369450032711029\n",
      "vae_loss: 0.23604696989059448\n",
      "vae_loss: 0.24679355323314667\n",
      "vae_loss: 0.2616913318634033\n",
      "vae_loss: 0.24083954095840454\n",
      "vae_loss: 0.245266854763031\n",
      "vae_loss: 0.24562658369541168\n",
      "vae_loss: 0.22677820920944214\n",
      "vae_loss: 0.250238835811615\n"
     ]
    },
    {
     "name": "stderr",
     "output_type": "stream",
     "text": [
      "2023-01-02 20:14:07,577 (client:410)INFO: {'Role': 'Client #1', 'Round': 91, 'Results_raw': {'test_avg_loss': 3.25926, 'test_total': 113, 'test_imp_ratio': -252.619247, 'test_loss': 368.296358, 'val_avg_loss': 3.131323, 'val_total': 113, 'val_imp_ratio': -238.777763, 'val_loss': 353.839478}}\n",
      "2023-01-02 20:14:07,578 (monitor:513)INFO: current_best=-168.427335, should_save=False\n"
     ]
    },
    {
     "name": "stdout",
     "output_type": "stream",
     "text": [
      "vae_loss: 0.23004671931266785\n",
      "vae_loss: 0.2389550358057022\n",
      "vae_loss: 0.24262714385986328\n",
      "vae_loss: 0.24971528351306915\n",
      "vae_loss: 0.23857463896274567\n",
      "vae_loss: 0.24631404876708984\n",
      "vae_loss: 0.24778980016708374\n",
      "vae_loss: 0.25356584787368774\n",
      "vae_loss: 0.2422700822353363\n",
      "vae_loss: 0.2614433765411377\n",
      "vae_loss: 0.24005140364170074\n"
     ]
    },
    {
     "name": "stderr",
     "output_type": "stream",
     "text": [
      "2023-01-02 20:14:07,886 (client:255)INFO: {'Role': 'Client #1', 'Round': 91, 'Results_raw': {'train_avg_loss': 3.698293, 'train_total': 901, 'train_imp_ratio': -300.118274, 'train_loss': 3332.161937}}\n",
      "2023-01-02 20:14:07,891 (server:496)INFO: {'Role': 'Server #', 'Round': 91, 'Results_avg': {'test_avg_loss': 3.25926, 'test_total': 113.0, 'test_imp_ratio': -252.619247, 'test_loss': 368.296358, 'val_avg_loss': 3.131323, 'val_total': 113.0, 'val_imp_ratio': -238.777763, 'val_loss': 353.839478}}\n",
      "2023-01-02 20:14:07,894 (monitor:513)INFO: current_best=-168.427335, should_save=False\n",
      "2023-01-02 20:14:07,895 (monitor:513)INFO: current_best=-168.427335, should_save=False\n",
      "2023-01-02 20:14:07,903 (server:323)INFO: Server #0: Starting evaluation at the end of round 91.\n",
      "2023-01-02 20:14:07,910 (server:330)INFO: ----------- Starting a new training round (Round #92) -------------\n"
     ]
    },
    {
     "name": "stdout",
     "output_type": "stream",
     "text": [
      "vae_loss: 0.24449525773525238\n",
      "vae_loss: 0.23227185010910034\n",
      "vae_loss: 0.2162255197763443\n",
      "vae_loss: 0.2427470088005066\n",
      "vae_loss: 0.24033492803573608\n",
      "vae_loss: 0.24478578567504883\n",
      "vae_loss: 0.22015081346035004\n",
      "vae_loss: 0.2512003779411316\n"
     ]
    },
    {
     "name": "stderr",
     "output_type": "stream",
     "text": [
      "2023-01-02 20:14:08,010 (client:410)INFO: {'Role': 'Client #1', 'Round': 92, 'Results_raw': {'test_avg_loss': 3.523758, 'test_total': 113, 'test_imp_ratio': -281.235384, 'test_loss': 398.184681, 'val_avg_loss': 2.970369, 'val_total': 113, 'val_imp_ratio': -221.364178, 'val_loss': 335.651683}}\n",
      "2023-01-02 20:14:08,011 (monitor:513)INFO: current_best=-168.427335, should_save=False\n"
     ]
    },
    {
     "name": "stdout",
     "output_type": "stream",
     "text": [
      "vae_loss: 0.2294384241104126\n",
      "vae_loss: 0.23811525106430054\n",
      "vae_loss: 0.24356709420681\n",
      "vae_loss: 0.24183771014213562\n",
      "vae_loss: 0.2425464540719986\n",
      "vae_loss: 0.2403724491596222\n",
      "vae_loss: 0.24054661393165588\n",
      "vae_loss: 0.2315119206905365\n",
      "vae_loss: 0.24502062797546387\n",
      "vae_loss: 0.24062350392341614\n"
     ]
    },
    {
     "name": "stderr",
     "output_type": "stream",
     "text": [
      "2023-01-02 20:14:08,307 (client:255)INFO: {'Role': 'Client #1', 'Round': 92, 'Results_raw': {'train_avg_loss': 3.677703, 'train_total': 901, 'train_imp_ratio': -297.89061, 'train_loss': 3313.61039}}\n",
      "2023-01-02 20:14:08,311 (server:496)INFO: {'Role': 'Server #', 'Round': 92, 'Results_avg': {'test_avg_loss': 3.523758, 'test_total': 113.0, 'test_imp_ratio': -281.235384, 'test_loss': 398.184681, 'val_avg_loss': 2.970369, 'val_total': 113.0, 'val_imp_ratio': -221.364178, 'val_loss': 335.651683}}\n",
      "2023-01-02 20:14:08,312 (monitor:513)INFO: current_best=-168.427335, should_save=False\n",
      "2023-01-02 20:14:08,313 (monitor:513)INFO: current_best=-168.427335, should_save=False\n",
      "2023-01-02 20:14:08,325 (server:323)INFO: Server #0: Starting evaluation at the end of round 92.\n",
      "2023-01-02 20:14:08,331 (server:330)INFO: ----------- Starting a new training round (Round #93) -------------\n"
     ]
    },
    {
     "name": "stdout",
     "output_type": "stream",
     "text": [
      "vae_loss: 0.2732197642326355\n",
      "vae_loss: 0.24145984649658203\n",
      "vae_loss: 0.24699094891548157\n",
      "vae_loss: 0.23867610096931458\n",
      "vae_loss: 0.2273956537246704\n",
      "vae_loss: 0.2435981184244156\n",
      "vae_loss: 0.24565808475017548\n",
      "vae_loss: 0.24625861644744873\n",
      "vae_loss: 0.24916508793830872\n"
     ]
    },
    {
     "name": "stderr",
     "output_type": "stream",
     "text": [
      "2023-01-02 20:14:08,421 (client:410)INFO: {'Role': 'Client #1', 'Round': 93, 'Results_raw': {'test_avg_loss': 3.43451, 'test_total': 113, 'test_imp_ratio': -271.579573, 'test_loss': 388.099638, 'val_avg_loss': 2.649692, 'val_total': 113, 'val_imp_ratio': -186.670161, 'val_loss': 299.415206}}\n",
      "2023-01-02 20:14:08,422 (monitor:513)INFO: current_best=-168.427335, should_save=False\n"
     ]
    },
    {
     "name": "stdout",
     "output_type": "stream",
     "text": [
      "vae_loss: 0.22706268727779388\n",
      "vae_loss: 0.23779118061065674\n",
      "vae_loss: 0.24398745596408844\n",
      "vae_loss: 0.2501445412635803\n",
      "vae_loss: 0.26239317655563354\n",
      "vae_loss: 0.2299504280090332\n",
      "vae_loss: 0.24681001901626587\n",
      "vae_loss: 0.23120170831680298\n",
      "vae_loss: 0.25184690952301025\n",
      "vae_loss: 0.22963710129261017\n",
      "vae_loss: 0.23428916931152344\n",
      "vae_loss: 0.23358038067817688\n"
     ]
    },
    {
     "name": "stderr",
     "output_type": "stream",
     "text": [
      "2023-01-02 20:14:08,679 (client:255)INFO: {'Role': 'Client #1', 'Round': 93, 'Results_raw': {'train_avg_loss': 3.575544, 'train_total': 901, 'train_imp_ratio': -286.838027, 'train_loss': 3221.564969}}\n",
      "2023-01-02 20:14:08,683 (server:496)INFO: {'Role': 'Server #', 'Round': 93, 'Results_avg': {'test_avg_loss': 3.43451, 'test_total': 113.0, 'test_imp_ratio': -271.579573, 'test_loss': 388.099638, 'val_avg_loss': 2.649692, 'val_total': 113.0, 'val_imp_ratio': -186.670161, 'val_loss': 299.415206}}\n",
      "2023-01-02 20:14:08,684 (monitor:513)INFO: current_best=-168.427335, should_save=False\n",
      "2023-01-02 20:14:08,685 (monitor:513)INFO: current_best=-168.427335, should_save=False\n",
      "2023-01-02 20:14:08,691 (server:323)INFO: Server #0: Starting evaluation at the end of round 93.\n",
      "2023-01-02 20:14:08,697 (server:330)INFO: ----------- Starting a new training round (Round #94) -------------\n",
      "2023-01-02 20:14:08,770 (client:410)INFO: {'Role': 'Client #1', 'Round': 94, 'Results_raw': {'test_avg_loss': 3.163396, 'test_total': 113, 'test_imp_ratio': -242.24782, 'test_loss': 357.4638, 'val_avg_loss': 2.978046, 'val_total': 113, 'val_imp_ratio': -222.194684, 'val_loss': 336.519158}}\n",
      "2023-01-02 20:14:08,771 (monitor:513)INFO: current_best=-168.427335, should_save=False\n"
     ]
    },
    {
     "name": "stdout",
     "output_type": "stream",
     "text": [
      "vae_loss: 0.24500146508216858\n",
      "vae_loss: 0.25824862718582153\n",
      "vae_loss: 0.22668103873729706\n",
      "vae_loss: 0.25022488832473755\n",
      "vae_loss: 0.24073348939418793\n",
      "vae_loss: 0.22217366099357605\n",
      "vae_loss: 0.2514168620109558\n",
      "vae_loss: 0.2296094298362732\n",
      "vae_loss: 0.23593679070472717\n",
      "vae_loss: 0.24294717609882355\n",
      "vae_loss: 0.2576897144317627\n",
      "vae_loss: 0.23413002490997314\n",
      "vae_loss: 0.253987193107605\n",
      "vae_loss: 0.23114080727100372\n",
      "vae_loss: 0.23817016184329987\n",
      "vae_loss: 0.2275417447090149\n",
      "vae_loss: 0.23989062011241913\n",
      "vae_loss: 0.25982919335365295\n",
      "vae_loss: 0.2319025844335556\n",
      "vae_loss: 0.23245516419410706\n",
      "vae_loss: 0.23689225316047668\n",
      "vae_loss: 0.2381744384765625\n"
     ]
    },
    {
     "name": "stderr",
     "output_type": "stream",
     "text": [
      "2023-01-02 20:14:09,064 (client:255)INFO: {'Role': 'Client #1', 'Round': 94, 'Results_raw': {'train_avg_loss': 3.592249, 'train_total': 901, 'train_imp_ratio': -288.64537, 'train_loss': 3236.616364}}\n",
      "2023-01-02 20:14:09,069 (server:496)INFO: {'Role': 'Server #', 'Round': 94, 'Results_avg': {'test_avg_loss': 3.163396, 'test_total': 113.0, 'test_imp_ratio': -242.24782, 'test_loss': 357.4638, 'val_avg_loss': 2.978046, 'val_total': 113.0, 'val_imp_ratio': -222.194684, 'val_loss': 336.519158}}\n",
      "2023-01-02 20:14:09,071 (monitor:513)INFO: current_best=-168.427335, should_save=False\n",
      "2023-01-02 20:14:09,071 (monitor:513)INFO: current_best=-168.427335, should_save=False\n",
      "2023-01-02 20:14:09,077 (server:323)INFO: Server #0: Starting evaluation at the end of round 94.\n",
      "2023-01-02 20:14:09,084 (server:330)INFO: ----------- Starting a new training round (Round #95) -------------\n",
      "2023-01-02 20:14:09,165 (client:410)INFO: {'Role': 'Client #1', 'Round': 95, 'Results_raw': {'test_avg_loss': 3.52699, 'test_total': 113, 'test_imp_ratio': -281.585002, 'test_loss': 398.549881, 'val_avg_loss': 3.1069, 'val_total': 113, 'val_imp_ratio': -236.135426, 'val_loss': 351.079698}}\n",
      "2023-01-02 20:14:09,167 (monitor:513)INFO: current_best=-168.427335, should_save=False\n"
     ]
    },
    {
     "name": "stdout",
     "output_type": "stream",
     "text": [
      "vae_loss: 0.24740982055664062\n",
      "vae_loss: 0.24616125226020813\n",
      "vae_loss: 0.24230429530143738\n",
      "vae_loss: 0.25007954239845276\n",
      "vae_loss: 0.2257230579853058\n",
      "vae_loss: 0.2355356216430664\n",
      "vae_loss: 0.2403055876493454\n",
      "vae_loss: 0.23312656581401825\n",
      "vae_loss: 0.23782747983932495\n",
      "vae_loss: 0.2515716850757599\n",
      "vae_loss: 0.25419360399246216\n",
      "vae_loss: 0.2632721960544586\n",
      "vae_loss: 0.2371724247932434\n",
      "vae_loss: 0.24508686363697052\n",
      "vae_loss: 0.23843279480934143\n",
      "vae_loss: 0.23831497132778168\n",
      "vae_loss: 0.23372244834899902\n",
      "vae_loss: 0.22605493664741516\n",
      "vae_loss: 0.22445394098758698\n",
      "vae_loss: 0.24281397461891174\n"
     ]
    },
    {
     "name": "stderr",
     "output_type": "stream",
     "text": [
      "2023-01-02 20:14:09,459 (client:255)INFO: {'Role': 'Client #1', 'Round': 95, 'Results_raw': {'train_avg_loss': 3.578582, 'train_total': 901, 'train_imp_ratio': -287.166649, 'train_loss': 3224.301937}}\n",
      "2023-01-02 20:14:09,465 (server:496)INFO: {'Role': 'Server #', 'Round': 95, 'Results_avg': {'test_avg_loss': 3.52699, 'test_total': 113.0, 'test_imp_ratio': -281.585002, 'test_loss': 398.549881, 'val_avg_loss': 3.1069, 'val_total': 113.0, 'val_imp_ratio': -236.135426, 'val_loss': 351.079698}}\n",
      "2023-01-02 20:14:09,466 (monitor:513)INFO: current_best=-168.427335, should_save=False\n",
      "2023-01-02 20:14:09,467 (monitor:513)INFO: current_best=-168.427335, should_save=False\n",
      "2023-01-02 20:14:09,475 (server:323)INFO: Server #0: Starting evaluation at the end of round 95.\n",
      "2023-01-02 20:14:09,485 (server:330)INFO: ----------- Starting a new training round (Round #96) -------------\n",
      "2023-01-02 20:14:09,567 (client:410)INFO: {'Role': 'Client #1', 'Round': 96, 'Results_raw': {'test_avg_loss': 3.360169, 'test_total': 113, 'test_imp_ratio': -263.536615, 'test_loss': 379.699067, 'val_avg_loss': 2.99028, 'val_total': 113, 'val_imp_ratio': -223.518329, 'val_loss': 337.901609}}\n",
      "2023-01-02 20:14:09,568 (monitor:513)INFO: current_best=-168.427335, should_save=False\n"
     ]
    },
    {
     "name": "stdout",
     "output_type": "stream",
     "text": [
      "vae_loss: 0.23636150360107422\n",
      "vae_loss: 0.23353001475334167\n",
      "vae_loss: 0.24786895513534546\n",
      "vae_loss: 0.22336356341838837\n",
      "vae_loss: 0.2330700159072876\n",
      "vae_loss: 0.23958665132522583\n",
      "vae_loss: 0.23475158214569092\n",
      "vae_loss: 0.25199949741363525\n",
      "vae_loss: 0.24847303330898285\n",
      "vae_loss: 0.23587673902511597\n",
      "vae_loss: 0.23042818903923035\n",
      "vae_loss: 0.23882940411567688\n",
      "vae_loss: 0.22578021883964539\n",
      "vae_loss: 0.2426188737154007\n",
      "vae_loss: 0.23223048448562622\n",
      "vae_loss: 0.24090829491615295\n",
      "vae_loss: 0.24060718715190887\n",
      "vae_loss: 0.23669534921646118\n",
      "vae_loss: 0.24709995090961456\n",
      "vae_loss: 0.24933889508247375\n",
      "vae_loss: 0.1669294536113739\n"
     ]
    },
    {
     "name": "stderr",
     "output_type": "stream",
     "text": [
      "2023-01-02 20:14:09,856 (client:255)INFO: {'Role': 'Client #1', 'Round': 96, 'Results_raw': {'train_avg_loss': 3.494414, 'train_total': 901, 'train_imp_ratio': -278.06057, 'train_loss': 3148.466988}}\n",
      "2023-01-02 20:14:09,860 (server:496)INFO: {'Role': 'Server #', 'Round': 96, 'Results_avg': {'test_avg_loss': 3.360169, 'test_total': 113.0, 'test_imp_ratio': -263.536615, 'test_loss': 379.699067, 'val_avg_loss': 2.99028, 'val_total': 113.0, 'val_imp_ratio': -223.518329, 'val_loss': 337.901609}}\n",
      "2023-01-02 20:14:09,861 (monitor:513)INFO: current_best=-168.427335, should_save=False\n",
      "2023-01-02 20:14:09,862 (monitor:513)INFO: current_best=-168.427335, should_save=False\n",
      "2023-01-02 20:14:09,870 (server:323)INFO: Server #0: Starting evaluation at the end of round 96.\n",
      "2023-01-02 20:14:09,878 (server:330)INFO: ----------- Starting a new training round (Round #97) -------------\n",
      "2023-01-02 20:14:09,950 (client:410)INFO: {'Role': 'Client #1', 'Round': 97, 'Results_raw': {'test_avg_loss': 3.551764, 'test_total': 113, 'test_imp_ratio': -284.265257, 'test_loss': 401.349323, 'val_avg_loss': 2.923333, 'val_total': 113, 'val_imp_ratio': -216.275362, 'val_loss': 330.336649}}\n",
      "2023-01-02 20:14:09,951 (monitor:513)INFO: current_best=-168.427335, should_save=False\n"
     ]
    },
    {
     "name": "stdout",
     "output_type": "stream",
     "text": [
      "vae_loss: 0.24566930532455444\n",
      "vae_loss: 0.22432902455329895\n",
      "vae_loss: 0.23395252227783203\n",
      "vae_loss: 0.2380775511264801\n",
      "vae_loss: 0.24543505907058716\n",
      "vae_loss: 0.23935097455978394\n",
      "vae_loss: 0.21998398005962372\n",
      "vae_loss: 0.2317330539226532\n",
      "vae_loss: 0.24124982953071594\n",
      "vae_loss: 0.24608729779720306\n",
      "vae_loss: 0.260558545589447\n",
      "vae_loss: 0.22134967148303986\n"
     ]
    },
    {
     "name": "stderr",
     "output_type": "stream",
     "text": [
      "2023-01-02 20:14:10,238 (client:255)INFO: {'Role': 'Client #1', 'Round': 97, 'Results_raw': {'train_avg_loss': 3.67892, 'train_total': 901, 'train_imp_ratio': -298.022342, 'train_loss': 3314.707312}}\n",
      "2023-01-02 20:14:10,246 (server:496)INFO: {'Role': 'Server #', 'Round': 97, 'Results_avg': {'test_avg_loss': 3.551764, 'test_total': 113.0, 'test_imp_ratio': -284.265257, 'test_loss': 401.349323, 'val_avg_loss': 2.923333, 'val_total': 113.0, 'val_imp_ratio': -216.275362, 'val_loss': 330.336649}}\n",
      "2023-01-02 20:14:10,249 (monitor:513)INFO: current_best=-168.427335, should_save=False\n",
      "2023-01-02 20:14:10,252 (monitor:513)INFO: current_best=-168.427335, should_save=False\n",
      "2023-01-02 20:14:10,262 (server:323)INFO: Server #0: Starting evaluation at the end of round 97.\n",
      "2023-01-02 20:14:10,270 (server:330)INFO: ----------- Starting a new training round (Round #98) -------------\n"
     ]
    },
    {
     "name": "stdout",
     "output_type": "stream",
     "text": [
      "vae_loss: 0.2662411332130432\n",
      "vae_loss: 0.23310503363609314\n",
      "vae_loss: 0.21676023304462433\n",
      "vae_loss: 0.2334563434123993\n",
      "vae_loss: 0.24123398959636688\n",
      "vae_loss: 0.24755612015724182\n",
      "vae_loss: 0.2637026906013489\n",
      "vae_loss: 0.24491259455680847\n",
      "vae_loss: 0.22320117056369781\n"
     ]
    },
    {
     "name": "stderr",
     "output_type": "stream",
     "text": [
      "2023-01-02 20:14:10,344 (client:410)INFO: {'Role': 'Client #1', 'Round': 98, 'Results_raw': {'test_avg_loss': 3.438981, 'test_total': 113, 'test_imp_ratio': -272.063271, 'test_loss': 388.604836, 'val_avg_loss': 2.849133, 'val_total': 113, 'val_imp_ratio': -208.247674, 'val_loss': 321.952083}}\n",
      "2023-01-02 20:14:10,345 (monitor:513)INFO: current_best=-168.427335, should_save=False\n"
     ]
    },
    {
     "name": "stdout",
     "output_type": "stream",
     "text": [
      "vae_loss: 0.23537024855613708\n",
      "vae_loss: 0.23789316415786743\n",
      "vae_loss: 0.22928765416145325\n",
      "vae_loss: 0.2458740770816803\n",
      "vae_loss: 0.22423958778381348\n",
      "vae_loss: 0.22625623643398285\n",
      "vae_loss: 0.24476751685142517\n",
      "vae_loss: 0.23496487736701965\n",
      "vae_loss: 0.2451423704624176\n",
      "vae_loss: 0.25417906045913696\n",
      "vae_loss: 0.2266278862953186\n"
     ]
    },
    {
     "name": "stderr",
     "output_type": "stream",
     "text": [
      "2023-01-02 20:14:10,639 (client:255)INFO: {'Role': 'Client #1', 'Round': 98, 'Results_raw': {'train_avg_loss': 3.618746, 'train_total': 901, 'train_imp_ratio': -291.512016, 'train_loss': 3260.489854}}\n",
      "2023-01-02 20:14:10,644 (server:496)INFO: {'Role': 'Server #', 'Round': 98, 'Results_avg': {'test_avg_loss': 3.438981, 'test_total': 113.0, 'test_imp_ratio': -272.063271, 'test_loss': 388.604836, 'val_avg_loss': 2.849133, 'val_total': 113.0, 'val_imp_ratio': -208.247674, 'val_loss': 321.952083}}\n",
      "2023-01-02 20:14:10,645 (monitor:513)INFO: current_best=-168.427335, should_save=False\n",
      "2023-01-02 20:14:10,647 (monitor:513)INFO: current_best=-168.427335, should_save=False\n",
      "2023-01-02 20:14:10,654 (server:323)INFO: Server #0: Starting evaluation at the end of round 98.\n",
      "2023-01-02 20:14:10,662 (server:330)INFO: ----------- Starting a new training round (Round #99) -------------\n"
     ]
    },
    {
     "name": "stdout",
     "output_type": "stream",
     "text": [
      "vae_loss: 0.24614286422729492\n",
      "vae_loss: 0.24639734625816345\n",
      "vae_loss: 0.23603279888629913\n",
      "vae_loss: 0.22169847786426544\n",
      "vae_loss: 0.24231703579425812\n",
      "vae_loss: 0.2980955243110657\n",
      "vae_loss: 0.2439534068107605\n",
      "vae_loss: 0.22324851155281067\n",
      "vae_loss: 0.2287481725215912\n"
     ]
    },
    {
     "name": "stderr",
     "output_type": "stream",
     "text": [
      "2023-01-02 20:14:10,746 (client:410)INFO: {'Role': 'Client #1', 'Round': 99, 'Results_raw': {'test_avg_loss': 3.309566, 'test_total': 113, 'test_imp_ratio': -258.061913, 'test_loss': 373.980986, 'val_avg_loss': 2.769337, 'val_total': 113, 'val_imp_ratio': -199.614538, 'val_loss': 312.935084}}\n",
      "2023-01-02 20:14:10,748 (monitor:513)INFO: current_best=-168.427335, should_save=False\n"
     ]
    },
    {
     "name": "stdout",
     "output_type": "stream",
     "text": [
      "vae_loss: 0.2373122274875641\n",
      "vae_loss: 0.2531924545764923\n",
      "vae_loss: 0.2329937368631363\n",
      "vae_loss: 0.23170600831508636\n",
      "vae_loss: 0.23346391320228577\n",
      "vae_loss: 0.2463902086019516\n",
      "vae_loss: 0.22992275655269623\n",
      "vae_loss: 0.22223752737045288\n",
      "vae_loss: 0.23001718521118164\n",
      "vae_loss: 0.23642513155937195\n"
     ]
    },
    {
     "name": "stderr",
     "output_type": "stream",
     "text": [
      "2023-01-02 20:14:11,052 (client:255)INFO: {'Role': 'Client #1', 'Round': 99, 'Results_raw': {'train_avg_loss': 3.627003, 'train_total': 901, 'train_imp_ratio': -292.405409, 'train_loss': 3267.9299}}\n",
      "2023-01-02 20:14:11,057 (server:496)INFO: {'Role': 'Server #', 'Round': 99, 'Results_avg': {'test_avg_loss': 3.309566, 'test_total': 113.0, 'test_imp_ratio': -258.061913, 'test_loss': 373.980986, 'val_avg_loss': 2.769337, 'val_total': 113.0, 'val_imp_ratio': -199.614538, 'val_loss': 312.935084}}\n",
      "2023-01-02 20:14:11,058 (monitor:513)INFO: current_best=-168.427335, should_save=False\n",
      "2023-01-02 20:14:11,059 (monitor:513)INFO: current_best=-168.427335, should_save=False\n",
      "2023-01-02 20:14:11,067 (server:323)INFO: Server #0: Starting evaluation at the end of round 99.\n",
      "2023-01-02 20:14:11,075 (server:330)INFO: ----------- Starting a new training round (Round #100) -------------\n"
     ]
    },
    {
     "name": "stdout",
     "output_type": "stream",
     "text": [
      "vae_loss: 0.24315688014030457\n",
      "vae_loss: 0.23973700404167175\n",
      "vae_loss: 0.24486352503299713\n",
      "vae_loss: 0.24098411202430725\n",
      "vae_loss: 0.22297361493110657\n",
      "vae_loss: 0.2716083824634552\n",
      "vae_loss: 0.24418073892593384\n",
      "vae_loss: 0.2218591868877411\n"
     ]
    },
    {
     "name": "stderr",
     "output_type": "stream",
     "text": [
      "2023-01-02 20:14:11,172 (client:410)INFO: {'Role': 'Client #1', 'Round': 100, 'Results_raw': {'test_avg_loss': 3.847773, 'test_total': 113, 'test_imp_ratio': -316.29055, 'test_loss': 434.798372, 'val_avg_loss': 2.964026, 'val_total': 113, 'val_imp_ratio': -220.677916, 'val_loss': 334.934934}}\n",
      "2023-01-02 20:14:11,173 (monitor:513)INFO: current_best=-168.427335, should_save=False\n"
     ]
    },
    {
     "name": "stdout",
     "output_type": "stream",
     "text": [
      "vae_loss: 0.23181168735027313\n",
      "vae_loss: 0.2382860779762268\n",
      "vae_loss: 0.22356227040290833\n",
      "vae_loss: 0.24155236780643463\n",
      "vae_loss: 0.2455594837665558\n",
      "vae_loss: 0.23965764045715332\n",
      "vae_loss: 0.2277696430683136\n",
      "vae_loss: 0.22031569480895996\n",
      "vae_loss: 0.24160808324813843\n",
      "vae_loss: 0.2303793728351593\n",
      "vae_loss: 0.2391279935836792\n"
     ]
    },
    {
     "name": "stderr",
     "output_type": "stream",
     "text": [
      "2023-01-02 20:14:11,476 (client:255)INFO: {'Role': 'Client #1', 'Round': 100, 'Results_raw': {'train_avg_loss': 3.665876, 'train_total': 901, 'train_imp_ratio': -296.611073, 'train_loss': 3302.95428}}\n",
      "2023-01-02 20:14:11,480 (server:496)INFO: {'Role': 'Server #', 'Round': 100, 'Results_avg': {'test_avg_loss': 3.847773, 'test_total': 113.0, 'test_imp_ratio': -316.29055, 'test_loss': 434.798372, 'val_avg_loss': 2.964026, 'val_total': 113.0, 'val_imp_ratio': -220.677916, 'val_loss': 334.934934}}\n",
      "2023-01-02 20:14:11,481 (monitor:513)INFO: current_best=-168.427335, should_save=False\n",
      "2023-01-02 20:14:11,482 (monitor:513)INFO: current_best=-168.427335, should_save=False\n",
      "2023-01-02 20:14:11,487 (server:323)INFO: Server #0: Starting evaluation at the end of round 100.\n",
      "2023-01-02 20:14:11,493 (server:330)INFO: ----------- Starting a new training round (Round #101) -------------\n"
     ]
    },
    {
     "name": "stdout",
     "output_type": "stream",
     "text": [
      "vae_loss: 0.22356653213500977\n",
      "vae_loss: 0.23264417052268982\n",
      "vae_loss: 0.24708503484725952\n",
      "vae_loss: 0.2575455605983734\n",
      "vae_loss: 0.24171750247478485\n",
      "vae_loss: 0.25845661759376526\n",
      "vae_loss: 0.24385377764701843\n",
      "vae_loss: 0.22144894301891327\n",
      "vae_loss: 0.23071438074111938\n"
     ]
    },
    {
     "name": "stderr",
     "output_type": "stream",
     "text": [
      "2023-01-02 20:14:11,582 (client:410)INFO: {'Role': 'Client #1', 'Round': 101, 'Results_raw': {'test_avg_loss': 3.622331, 'test_total': 113, 'test_imp_ratio': -291.899888, 'test_loss': 409.323371, 'val_avg_loss': 2.779275, 'val_total': 113, 'val_imp_ratio': -200.689679, 'val_loss': 314.058069}}\n",
      "2023-01-02 20:14:11,583 (monitor:513)INFO: current_best=-168.427335, should_save=False\n"
     ]
    },
    {
     "name": "stdout",
     "output_type": "stream",
     "text": [
      "vae_loss: 0.23708315193653107\n",
      "vae_loss: 0.23488807678222656\n",
      "vae_loss: 0.22914567589759827\n",
      "vae_loss: 0.23031333088874817\n",
      "vae_loss: 0.2367333471775055\n",
      "vae_loss: 0.23451873660087585\n",
      "vae_loss: 0.2159731090068817\n",
      "vae_loss: 0.24396270513534546\n",
      "vae_loss: 0.257207989692688\n",
      "vae_loss: 0.25111857056617737\n",
      "vae_loss: 0.2415974736213684\n",
      "vae_loss: 0.23069970309734344\n",
      "vae_loss: 0.22869502007961273\n"
     ]
    },
    {
     "name": "stderr",
     "output_type": "stream",
     "text": [
      "2023-01-02 20:14:11,838 (client:255)INFO: {'Role': 'Client #1', 'Round': 101, 'Results_raw': {'train_avg_loss': 3.546384, 'train_total': 901, 'train_imp_ratio': -283.683282, 'train_loss': 3195.292301}}\n",
      "2023-01-02 20:14:11,844 (server:496)INFO: {'Role': 'Server #', 'Round': 101, 'Results_avg': {'test_avg_loss': 3.622331, 'test_total': 113.0, 'test_imp_ratio': -291.899888, 'test_loss': 409.323371, 'val_avg_loss': 2.779275, 'val_total': 113.0, 'val_imp_ratio': -200.689679, 'val_loss': 314.058069}}\n",
      "2023-01-02 20:14:11,846 (monitor:513)INFO: current_best=-168.427335, should_save=False\n",
      "2023-01-02 20:14:11,847 (monitor:513)INFO: current_best=-168.427335, should_save=False\n",
      "2023-01-02 20:14:11,853 (server:323)INFO: Server #0: Starting evaluation at the end of round 101.\n",
      "2023-01-02 20:14:11,859 (server:330)INFO: ----------- Starting a new training round (Round #102) -------------\n",
      "2023-01-02 20:14:11,947 (client:410)INFO: {'Role': 'Client #1', 'Round': 102, 'Results_raw': {'test_avg_loss': 3.634774, 'test_total': 113, 'test_imp_ratio': -293.246181, 'test_loss': 410.72951, 'val_avg_loss': 2.962443, 'val_total': 113, 'val_imp_ratio': -220.506666, 'val_loss': 334.756104}}\n",
      "2023-01-02 20:14:11,949 (monitor:513)INFO: current_best=-168.427335, should_save=False\n"
     ]
    },
    {
     "name": "stdout",
     "output_type": "stream",
     "text": [
      "vae_loss: 0.22770190238952637\n",
      "vae_loss: 0.22171255946159363\n",
      "vae_loss: 0.3143678605556488\n",
      "vae_loss: 0.2423827052116394\n",
      "vae_loss: 0.21826529502868652\n",
      "vae_loss: 0.2290399968624115\n",
      "vae_loss: 0.2367444932460785\n",
      "vae_loss: 0.23950089514255524\n",
      "vae_loss: 0.24856680631637573\n",
      "vae_loss: 0.22842851281166077\n",
      "vae_loss: 0.2208324819803238\n",
      "vae_loss: 0.23390640318393707\n",
      "vae_loss: 0.2253359854221344\n",
      "vae_loss: 0.24240751564502716\n",
      "vae_loss: 0.2310713827610016\n",
      "vae_loss: 0.23034162819385529\n",
      "vae_loss: 0.24123571813106537\n",
      "vae_loss: 0.2333683967590332\n",
      "vae_loss: 0.23861846327781677\n",
      "vae_loss: 0.2290968894958496\n"
     ]
    },
    {
     "name": "stderr",
     "output_type": "stream",
     "text": [
      "2023-01-02 20:14:12,238 (client:255)INFO: {'Role': 'Client #1', 'Round': 102, 'Results_raw': {'train_avg_loss': 3.646999, 'train_total': 901, 'train_imp_ratio': -294.568742, 'train_loss': 3285.946029}}\n",
      "2023-01-02 20:14:12,243 (server:496)INFO: {'Role': 'Server #', 'Round': 102, 'Results_avg': {'test_avg_loss': 3.634774, 'test_total': 113.0, 'test_imp_ratio': -293.246181, 'test_loss': 410.72951, 'val_avg_loss': 2.962443, 'val_total': 113.0, 'val_imp_ratio': -220.506666, 'val_loss': 334.756104}}\n",
      "2023-01-02 20:14:12,244 (monitor:513)INFO: current_best=-168.427335, should_save=False\n",
      "2023-01-02 20:14:12,245 (monitor:513)INFO: current_best=-168.427335, should_save=False\n",
      "2023-01-02 20:14:12,250 (server:323)INFO: Server #0: Starting evaluation at the end of round 102.\n",
      "2023-01-02 20:14:12,262 (server:330)INFO: ----------- Starting a new training round (Round #103) -------------\n",
      "2023-01-02 20:14:12,342 (client:410)INFO: {'Role': 'Client #1', 'Round': 103, 'Results_raw': {'test_avg_loss': 3.450261, 'test_total': 113, 'test_imp_ratio': -273.283635, 'test_loss': 389.879452, 'val_avg_loss': 3.021622, 'val_total': 113, 'val_imp_ratio': -226.909248, 'val_loss': 341.4433}}\n",
      "2023-01-02 20:14:12,343 (monitor:513)INFO: current_best=-168.427335, should_save=False\n"
     ]
    },
    {
     "name": "stdout",
     "output_type": "stream",
     "text": [
      "vae_loss: 0.22848044335842133\n",
      "vae_loss: 0.2413260042667389\n",
      "vae_loss: 0.24020889401435852\n",
      "vae_loss: 0.218218594789505\n",
      "vae_loss: 0.22461330890655518\n",
      "vae_loss: 0.23146679997444153\n",
      "vae_loss: 0.2254188507795334\n",
      "vae_loss: 0.22644226253032684\n",
      "vae_loss: 0.2337668538093567\n",
      "vae_loss: 0.22448405623435974\n",
      "vae_loss: 0.21856141090393066\n",
      "vae_loss: 0.23188155889511108\n",
      "vae_loss: 0.24516955018043518\n",
      "vae_loss: 0.22020021080970764\n",
      "vae_loss: 0.23181015253067017\n",
      "vae_loss: 0.244337797164917\n",
      "vae_loss: 0.21537205576896667\n",
      "vae_loss: 0.24084940552711487\n",
      "vae_loss: 0.23828978836536407\n",
      "vae_loss: 0.2456708699464798\n",
      "vae_loss: 0.31705528497695923\n"
     ]
    },
    {
     "name": "stderr",
     "output_type": "stream",
     "text": [
      "2023-01-02 20:14:12,629 (client:255)INFO: {'Role': 'Client #1', 'Round': 103, 'Results_raw': {'train_avg_loss': 3.657486, 'train_total': 901, 'train_imp_ratio': -295.703339, 'train_loss': 3295.394831}}\n",
      "2023-01-02 20:14:12,633 (server:496)INFO: {'Role': 'Server #', 'Round': 103, 'Results_avg': {'test_avg_loss': 3.450261, 'test_total': 113.0, 'test_imp_ratio': -273.283635, 'test_loss': 389.879452, 'val_avg_loss': 3.021622, 'val_total': 113.0, 'val_imp_ratio': -226.909248, 'val_loss': 341.4433}}\n",
      "2023-01-02 20:14:12,634 (monitor:513)INFO: current_best=-168.427335, should_save=False\n",
      "2023-01-02 20:14:12,635 (monitor:513)INFO: current_best=-168.427335, should_save=False\n",
      "2023-01-02 20:14:12,641 (server:323)INFO: Server #0: Starting evaluation at the end of round 103.\n",
      "2023-01-02 20:14:12,655 (server:330)INFO: ----------- Starting a new training round (Round #104) -------------\n",
      "2023-01-02 20:14:12,747 (client:410)INFO: {'Role': 'Client #1', 'Round': 104, 'Results_raw': {'test_avg_loss': 4.03202, 'test_total': 113, 'test_imp_ratio': -336.22418, 'test_loss': 455.618259, 'val_avg_loss': 2.581416, 'val_total': 113, 'val_imp_ratio': -179.283312, 'val_loss': 291.699978}}\n",
      "2023-01-02 20:14:12,748 (monitor:513)INFO: current_best=-168.427335, should_save=False\n"
     ]
    },
    {
     "name": "stdout",
     "output_type": "stream",
     "text": [
      "vae_loss: 0.23903730511665344\n",
      "vae_loss: 0.2162335366010666\n",
      "vae_loss: 0.2243429273366928\n",
      "vae_loss: 0.23369993269443512\n",
      "vae_loss: 0.23514294624328613\n",
      "vae_loss: 0.2344505935907364\n",
      "vae_loss: 0.23245374858379364\n",
      "vae_loss: 0.23490527272224426\n",
      "vae_loss: 0.23556733131408691\n",
      "vae_loss: 0.2220844328403473\n",
      "vae_loss: 0.23168101906776428\n"
     ]
    },
    {
     "name": "stderr",
     "output_type": "stream",
     "text": [
      "2023-01-02 20:14:13,030 (client:255)INFO: {'Role': 'Client #1', 'Round': 104, 'Results_raw': {'train_avg_loss': 3.617801, 'train_total': 901, 'train_imp_ratio': -291.409818, 'train_loss': 3259.638647}}\n",
      "2023-01-02 20:14:13,034 (server:496)INFO: {'Role': 'Server #', 'Round': 104, 'Results_avg': {'test_avg_loss': 4.03202, 'test_total': 113.0, 'test_imp_ratio': -336.22418, 'test_loss': 455.618259, 'val_avg_loss': 2.581416, 'val_total': 113.0, 'val_imp_ratio': -179.283312, 'val_loss': 291.699978}}\n",
      "2023-01-02 20:14:13,035 (monitor:513)INFO: current_best=-168.427335, should_save=False\n",
      "2023-01-02 20:14:13,037 (monitor:513)INFO: current_best=-168.427335, should_save=False\n",
      "2023-01-02 20:14:13,042 (server:323)INFO: Server #0: Starting evaluation at the end of round 104.\n",
      "2023-01-02 20:14:13,048 (server:330)INFO: ----------- Starting a new training round (Round #105) -------------\n"
     ]
    },
    {
     "name": "stdout",
     "output_type": "stream",
     "text": [
      "vae_loss: 0.22075429558753967\n",
      "vae_loss: 0.24214902520179749\n",
      "vae_loss: 0.22083571553230286\n",
      "vae_loss: 0.2306509017944336\n",
      "vae_loss: 0.2198176085948944\n",
      "vae_loss: 0.25367850065231323\n",
      "vae_loss: 0.22621455788612366\n",
      "vae_loss: 0.19629883766174316\n",
      "vae_loss: 0.2364436686038971\n",
      "vae_loss: 0.218240886926651\n"
     ]
    },
    {
     "name": "stderr",
     "output_type": "stream",
     "text": [
      "2023-01-02 20:14:13,132 (client:410)INFO: {'Role': 'Client #1', 'Round': 105, 'Results_raw': {'test_avg_loss': 3.789603, 'test_total': 113, 'test_imp_ratio': -309.997078, 'test_loss': 428.225138, 'val_avg_loss': 2.985488, 'val_total': 113, 'val_imp_ratio': -222.999885, 'val_loss': 337.36012}}\n",
      "2023-01-02 20:14:13,133 (monitor:513)INFO: current_best=-168.427335, should_save=False\n"
     ]
    },
    {
     "name": "stdout",
     "output_type": "stream",
     "text": [
      "vae_loss: 0.22318923473358154\n",
      "vae_loss: 0.23203352093696594\n",
      "vae_loss: 0.2345779836177826\n",
      "vae_loss: 0.23421335220336914\n",
      "vae_loss: 0.21199648082256317\n",
      "vae_loss: 0.2386021614074707\n",
      "vae_loss: 0.21350082755088806\n",
      "vae_loss: 0.22908954322338104\n",
      "vae_loss: 0.22363293170928955\n",
      "vae_loss: 0.24510520696640015\n",
      "vae_loss: 0.2258279174566269\n",
      "vae_loss: 0.2367459237575531\n"
     ]
    },
    {
     "name": "stderr",
     "output_type": "stream",
     "text": [
      "2023-01-02 20:14:13,422 (client:255)INFO: {'Role': 'Client #1', 'Round': 105, 'Results_raw': {'train_avg_loss': 3.685765, 'train_total': 901, 'train_imp_ratio': -298.762825, 'train_loss': 3320.874064}}\n",
      "2023-01-02 20:14:13,427 (server:496)INFO: {'Role': 'Server #', 'Round': 105, 'Results_avg': {'test_avg_loss': 3.789603, 'test_total': 113.0, 'test_imp_ratio': -309.997078, 'test_loss': 428.225138, 'val_avg_loss': 2.985488, 'val_total': 113.0, 'val_imp_ratio': -222.999885, 'val_loss': 337.36012}}\n",
      "2023-01-02 20:14:13,428 (monitor:513)INFO: current_best=-168.427335, should_save=False\n",
      "2023-01-02 20:14:13,429 (monitor:513)INFO: current_best=-168.427335, should_save=False\n",
      "2023-01-02 20:14:13,434 (server:323)INFO: Server #0: Starting evaluation at the end of round 105.\n",
      "2023-01-02 20:14:13,446 (server:330)INFO: ----------- Starting a new training round (Round #106) -------------\n",
      "2023-01-02 20:14:13,534 (client:410)INFO: {'Role': 'Client #1', 'Round': 106, 'Results_raw': {'test_avg_loss': 3.598757, 'test_total': 113, 'test_imp_ratio': -289.349483, 'test_loss': 406.659567, 'val_avg_loss': 2.660318, 'val_total': 113, 'val_imp_ratio': -187.81977, 'val_loss': 300.615962}}\n",
      "2023-01-02 20:14:13,535 (monitor:513)INFO: current_best=-168.427335, should_save=False\n"
     ]
    },
    {
     "name": "stdout",
     "output_type": "stream",
     "text": [
      "vae_loss: 0.23801138997077942\n",
      "vae_loss: 0.2351822853088379\n",
      "vae_loss: 0.23755814135074615\n",
      "vae_loss: 0.22774526476860046\n",
      "vae_loss: 0.1636786162853241\n",
      "vae_loss: 0.23895199596881866\n",
      "vae_loss: 0.21593409776687622\n",
      "vae_loss: 0.2236725240945816\n",
      "vae_loss: 0.2322002351284027\n",
      "vae_loss: 0.22464114427566528\n",
      "vae_loss: 0.22816909849643707\n",
      "vae_loss: 0.2382519692182541\n",
      "vae_loss: 0.23990605771541595\n",
      "vae_loss: 0.24121686816215515\n",
      "vae_loss: 0.23712071776390076\n",
      "vae_loss: 0.2213030904531479\n",
      "vae_loss: 0.23284626007080078\n",
      "vae_loss: 0.22511887550354004\n",
      "vae_loss: 0.228139266371727\n",
      "vae_loss: 0.23272526264190674\n",
      "vae_loss: 0.23014149069786072\n"
     ]
    },
    {
     "name": "stderr",
     "output_type": "stream",
     "text": [
      "2023-01-02 20:14:13,823 (client:255)INFO: {'Role': 'Client #1', 'Round': 106, 'Results_raw': {'train_avg_loss': 3.552554, 'train_total': 901, 'train_imp_ratio': -284.350792, 'train_loss': 3200.851552}}\n",
      "2023-01-02 20:14:13,828 (server:496)INFO: {'Role': 'Server #', 'Round': 106, 'Results_avg': {'test_avg_loss': 3.598757, 'test_total': 113.0, 'test_imp_ratio': -289.349483, 'test_loss': 406.659567, 'val_avg_loss': 2.660318, 'val_total': 113.0, 'val_imp_ratio': -187.81977, 'val_loss': 300.615962}}\n",
      "2023-01-02 20:14:13,829 (monitor:513)INFO: current_best=-168.427335, should_save=False\n",
      "2023-01-02 20:14:13,830 (monitor:513)INFO: current_best=-168.427335, should_save=False\n",
      "2023-01-02 20:14:13,836 (server:323)INFO: Server #0: Starting evaluation at the end of round 106.\n",
      "2023-01-02 20:14:13,844 (server:330)INFO: ----------- Starting a new training round (Round #107) -------------\n",
      "2023-01-02 20:14:13,944 (client:410)INFO: {'Role': 'Client #1', 'Round': 107, 'Results_raw': {'test_avg_loss': 3.370086, 'test_total': 113, 'test_imp_ratio': -264.609486, 'test_loss': 380.819708, 'val_avg_loss': 2.710407, 'val_total': 113, 'val_imp_ratio': -193.238911, 'val_loss': 306.275993}}\n",
      "2023-01-02 20:14:13,946 (monitor:513)INFO: current_best=-168.427335, should_save=False\n"
     ]
    },
    {
     "name": "stdout",
     "output_type": "stream",
     "text": [
      "vae_loss: 0.22646939754486084\n",
      "vae_loss: 0.2340032011270523\n",
      "vae_loss: 0.16860206425189972\n",
      "vae_loss: 0.2383510172367096\n",
      "vae_loss: 0.21634092926979065\n",
      "vae_loss: 0.225396528840065\n",
      "vae_loss: 0.23277989029884338\n",
      "vae_loss: 0.21443438529968262\n",
      "vae_loss: 0.2372325360774994\n",
      "vae_loss: 0.23481786251068115\n",
      "vae_loss: 0.23211339116096497\n",
      "vae_loss: 0.2256922423839569\n",
      "vae_loss: 0.24270851910114288\n",
      "vae_loss: 0.21821928024291992\n",
      "vae_loss: 0.2446253001689911\n",
      "vae_loss: 0.23164638876914978\n",
      "vae_loss: 0.23359811305999756\n",
      "vae_loss: 0.23306843638420105\n",
      "vae_loss: 0.23802019655704498\n",
      "vae_loss: 0.21601295471191406\n"
     ]
    },
    {
     "name": "stderr",
     "output_type": "stream",
     "text": [
      "2023-01-02 20:14:14,232 (client:255)INFO: {'Role': 'Client #1', 'Round': 107, 'Results_raw': {'train_avg_loss': 3.684307, 'train_total': 901, 'train_imp_ratio': -298.605091, 'train_loss': 3319.560551}}\n",
      "2023-01-02 20:14:14,236 (server:496)INFO: {'Role': 'Server #', 'Round': 107, 'Results_avg': {'test_avg_loss': 3.370086, 'test_total': 113.0, 'test_imp_ratio': -264.609486, 'test_loss': 380.819708, 'val_avg_loss': 2.710407, 'val_total': 113.0, 'val_imp_ratio': -193.238911, 'val_loss': 306.275993}}\n",
      "2023-01-02 20:14:14,237 (monitor:513)INFO: current_best=-168.427335, should_save=False\n",
      "2023-01-02 20:14:14,238 (monitor:513)INFO: current_best=-168.427335, should_save=False\n",
      "2023-01-02 20:14:14,245 (server:323)INFO: Server #0: Starting evaluation at the end of round 107.\n",
      "2023-01-02 20:14:14,251 (server:330)INFO: ----------- Starting a new training round (Round #108) -------------\n",
      "2023-01-02 20:14:14,337 (client:410)INFO: {'Role': 'Client #1', 'Round': 108, 'Results_raw': {'test_avg_loss': 3.319699, 'test_total': 113, 'test_imp_ratio': -259.158153, 'test_loss': 375.125998, 'val_avg_loss': 2.688811, 'val_total': 113, 'val_imp_ratio': -190.902394, 'val_loss': 303.835609}}\n",
      "2023-01-02 20:14:14,338 (monitor:513)INFO: current_best=-168.427335, should_save=False\n"
     ]
    },
    {
     "name": "stdout",
     "output_type": "stream",
     "text": [
      "vae_loss: 0.2368127554655075\n",
      "vae_loss: 0.2047249972820282\n",
      "vae_loss: 0.23640428483486176\n",
      "vae_loss: 0.21571774780750275\n",
      "vae_loss: 0.22450849413871765\n",
      "vae_loss: 0.23455674946308136\n",
      "vae_loss: 0.2361283302307129\n",
      "vae_loss: 0.2244022786617279\n",
      "vae_loss: 0.22657063603401184\n",
      "vae_loss: 0.23890420794487\n",
      "vae_loss: 0.2087281048297882\n",
      "vae_loss: 0.2244059443473816\n",
      "vae_loss: 0.2281627357006073\n",
      "vae_loss: 0.21266022324562073\n",
      "vae_loss: 0.23305635154247284\n",
      "vae_loss: 0.23168428242206573\n",
      "vae_loss: 0.23769308626651764\n",
      "vae_loss: 0.23348647356033325\n",
      "vae_loss: 0.24263864755630493\n",
      "vae_loss: 0.242362380027771\n"
     ]
    },
    {
     "name": "stderr",
     "output_type": "stream",
     "text": [
      "2023-01-02 20:14:14,634 (client:255)INFO: {'Role': 'Client #1', 'Round': 108, 'Results_raw': {'train_avg_loss': 3.693626, 'train_total': 901, 'train_imp_ratio': -299.613321, 'train_loss': 3327.95708}}\n",
      "2023-01-02 20:14:14,638 (server:496)INFO: {'Role': 'Server #', 'Round': 108, 'Results_avg': {'test_avg_loss': 3.319699, 'test_total': 113.0, 'test_imp_ratio': -259.158153, 'test_loss': 375.125998, 'val_avg_loss': 2.688811, 'val_total': 113.0, 'val_imp_ratio': -190.902394, 'val_loss': 303.835609}}\n",
      "2023-01-02 20:14:14,639 (monitor:513)INFO: current_best=-168.427335, should_save=False\n",
      "2023-01-02 20:14:14,640 (monitor:513)INFO: current_best=-168.427335, should_save=False\n",
      "2023-01-02 20:14:14,647 (server:323)INFO: Server #0: Starting evaluation at the end of round 108.\n",
      "2023-01-02 20:14:14,658 (server:330)INFO: ----------- Starting a new training round (Round #109) -------------\n",
      "2023-01-02 20:14:14,744 (client:410)INFO: {'Role': 'Client #1', 'Round': 109, 'Results_raw': {'test_avg_loss': 3.516941, 'test_total': 113, 'test_imp_ratio': -280.497816, 'test_loss': 397.414375, 'val_avg_loss': 2.682089, 'val_total': 113, 'val_imp_ratio': -190.175118, 'val_loss': 303.076024}}\n",
      "2023-01-02 20:14:14,745 (monitor:513)INFO: current_best=-168.427335, should_save=False\n"
     ]
    },
    {
     "name": "stdout",
     "output_type": "stream",
     "text": [
      "vae_loss: 0.19797056913375854\n",
      "vae_loss: 0.23756323754787445\n",
      "vae_loss: 0.21665999293327332\n",
      "vae_loss: 0.22423633933067322\n",
      "vae_loss: 0.22833997011184692\n",
      "vae_loss: 0.23786661028862\n",
      "vae_loss: 0.22240813076496124\n",
      "vae_loss: 0.22050265967845917\n",
      "vae_loss: 0.23730868101119995\n",
      "vae_loss: 0.21600064635276794\n",
      "vae_loss: 0.22658032178878784\n",
      "vae_loss: 0.227278470993042\n",
      "vae_loss: 0.2133127599954605\n",
      "vae_loss: 0.24780285358428955\n",
      "vae_loss: 0.23232480883598328\n",
      "vae_loss: 0.23631641268730164\n",
      "vae_loss: 0.2251211553812027\n",
      "vae_loss: 0.21981725096702576\n",
      "vae_loss: 0.24803130328655243\n"
     ]
    },
    {
     "name": "stderr",
     "output_type": "stream",
     "text": [
      "2023-01-02 20:14:15,044 (client:255)INFO: {'Role': 'Client #1', 'Round': 109, 'Results_raw': {'train_avg_loss': 3.617627, 'train_total': 901, 'train_imp_ratio': -291.390963, 'train_loss': 3259.481709}}\n",
      "2023-01-02 20:14:15,048 (server:496)INFO: {'Role': 'Server #', 'Round': 109, 'Results_avg': {'test_avg_loss': 3.516941, 'test_total': 113.0, 'test_imp_ratio': -280.497816, 'test_loss': 397.414375, 'val_avg_loss': 2.682089, 'val_total': 113.0, 'val_imp_ratio': -190.175118, 'val_loss': 303.076024}}\n",
      "2023-01-02 20:14:15,050 (monitor:513)INFO: current_best=-168.427335, should_save=False\n",
      "2023-01-02 20:14:15,051 (monitor:513)INFO: current_best=-168.427335, should_save=False\n",
      "2023-01-02 20:14:15,057 (server:323)INFO: Server #0: Starting evaluation at the end of round 109.\n",
      "2023-01-02 20:14:15,069 (server:330)INFO: ----------- Starting a new training round (Round #110) -------------\n",
      "2023-01-02 20:14:15,158 (client:410)INFO: {'Role': 'Client #1', 'Round': 110, 'Results_raw': {'test_avg_loss': 3.430979, 'test_total': 113, 'test_imp_ratio': -271.197556, 'test_loss': 387.700613, 'val_avg_loss': 2.69824, 'val_total': 113, 'val_imp_ratio': -191.922592, 'val_loss': 304.901156}}\n",
      "2023-01-02 20:14:15,160 (monitor:513)INFO: current_best=-168.427335, should_save=False\n"
     ]
    },
    {
     "name": "stdout",
     "output_type": "stream",
     "text": [
      "vae_loss: 0.23457206785678864\n",
      "vae_loss: 0.23507320880889893\n",
      "vae_loss: 0.21306799352169037\n",
      "vae_loss: 0.22301232814788818\n",
      "vae_loss: 0.23002418875694275\n",
      "vae_loss: 0.24984192848205566\n",
      "vae_loss: 0.21573562920093536\n",
      "vae_loss: 0.2175998091697693\n",
      "vae_loss: 0.21460086107254028\n",
      "vae_loss: 0.22564059495925903\n",
      "vae_loss: 0.23704755306243896\n",
      "vae_loss: 0.2327723652124405\n",
      "vae_loss: 0.2099088728427887\n",
      "vae_loss: 0.23696482181549072\n",
      "vae_loss: 0.23656007647514343\n",
      "vae_loss: 0.2432066649198532\n",
      "vae_loss: 0.2219962179660797\n",
      "vae_loss: 0.22868070006370544\n",
      "vae_loss: 0.22260886430740356\n",
      "vae_loss: 0.2246946096420288\n"
     ]
    },
    {
     "name": "stderr",
     "output_type": "stream",
     "text": [
      "2023-01-02 20:14:15,450 (client:255)INFO: {'Role': 'Client #1', 'Round': 110, 'Results_raw': {'train_avg_loss': 3.576335, 'train_total': 901, 'train_imp_ratio': -286.923587, 'train_loss': 3222.277595}}\n",
      "2023-01-02 20:14:15,454 (server:496)INFO: {'Role': 'Server #', 'Round': 110, 'Results_avg': {'test_avg_loss': 3.430979, 'test_total': 113.0, 'test_imp_ratio': -271.197556, 'test_loss': 387.700613, 'val_avg_loss': 2.69824, 'val_total': 113.0, 'val_imp_ratio': -191.922592, 'val_loss': 304.901156}}\n",
      "2023-01-02 20:14:15,455 (monitor:513)INFO: current_best=-168.427335, should_save=False\n",
      "2023-01-02 20:14:15,456 (monitor:513)INFO: current_best=-168.427335, should_save=False\n",
      "2023-01-02 20:14:15,462 (server:323)INFO: Server #0: Starting evaluation at the end of round 110.\n",
      "2023-01-02 20:14:15,469 (server:330)INFO: ----------- Starting a new training round (Round #111) -------------\n",
      "2023-01-02 20:14:15,552 (client:410)INFO: {'Role': 'Client #1', 'Round': 111, 'Results_raw': {'test_avg_loss': 3.090305, 'test_total': 113, 'test_imp_ratio': -234.340025, 'test_loss': 349.20443, 'val_avg_loss': 2.815959, 'val_total': 113, 'val_imp_ratio': -204.65855, 'val_loss': 318.203338}}\n",
      "2023-01-02 20:14:15,553 (monitor:513)INFO: current_best=-168.427335, should_save=False\n"
     ]
    },
    {
     "name": "stdout",
     "output_type": "stream",
     "text": [
      "vae_loss: 0.2348204255104065\n",
      "vae_loss: 0.21507304906845093\n",
      "vae_loss: 0.22246932983398438\n",
      "vae_loss: 0.2275630533695221\n",
      "vae_loss: 0.2261575311422348\n",
      "vae_loss: 0.23883500695228577\n",
      "vae_loss: 0.22574210166931152\n",
      "vae_loss: 0.20612752437591553\n",
      "vae_loss: 0.2093420773744583\n",
      "vae_loss: 0.22563397884368896\n",
      "vae_loss: 0.23038923740386963\n",
      "vae_loss: 0.225136399269104\n"
     ]
    },
    {
     "name": "stderr",
     "output_type": "stream",
     "text": [
      "2023-01-02 20:14:15,843 (client:255)INFO: {'Role': 'Client #1', 'Round': 111, 'Results_raw': {'train_avg_loss': 3.781094, 'train_total': 901, 'train_imp_ratio': -309.076473, 'train_loss': 3406.765379}}\n",
      "2023-01-02 20:14:15,848 (server:496)INFO: {'Role': 'Server #', 'Round': 111, 'Results_avg': {'test_avg_loss': 3.090305, 'test_total': 113.0, 'test_imp_ratio': -234.340025, 'test_loss': 349.20443, 'val_avg_loss': 2.815959, 'val_total': 113.0, 'val_imp_ratio': -204.65855, 'val_loss': 318.203338}}\n",
      "2023-01-02 20:14:15,849 (monitor:513)INFO: current_best=-168.427335, should_save=False\n",
      "2023-01-02 20:14:15,850 (monitor:513)INFO: current_best=-168.427335, should_save=False\n",
      "2023-01-02 20:14:15,856 (server:323)INFO: Server #0: Starting evaluation at the end of round 111.\n",
      "2023-01-02 20:14:15,866 (server:330)INFO: ----------- Starting a new training round (Round #112) -------------\n"
     ]
    },
    {
     "name": "stdout",
     "output_type": "stream",
     "text": [
      "vae_loss: 0.24150550365447998\n",
      "vae_loss: 0.23106622695922852\n",
      "vae_loss: 0.2185659259557724\n",
      "vae_loss: 0.2404002547264099\n",
      "vae_loss: 0.23285433650016785\n",
      "vae_loss: 0.23921126127243042\n",
      "vae_loss: 0.19601643085479736\n",
      "vae_loss: 0.23457416892051697\n",
      "vae_loss: 0.21233808994293213\n"
     ]
    },
    {
     "name": "stderr",
     "output_type": "stream",
     "text": [
      "2023-01-02 20:14:15,973 (client:410)INFO: {'Role': 'Client #1', 'Round': 112, 'Results_raw': {'test_avg_loss': 3.701587, 'test_total': 113, 'test_imp_ratio': -300.474677, 'test_loss': 418.279375, 'val_avg_loss': 2.870708, 'val_total': 113, 'val_imp_ratio': -210.581845, 'val_loss': 324.390014}}\n",
      "2023-01-02 20:14:15,975 (monitor:513)INFO: current_best=-168.427335, should_save=False\n"
     ]
    },
    {
     "name": "stdout",
     "output_type": "stream",
     "text": [
      "vae_loss: 0.22267457842826843\n",
      "vae_loss: 0.22560903429985046\n",
      "vae_loss: 0.22250953316688538\n",
      "vae_loss: 0.22052767872810364\n",
      "vae_loss: 0.23165959119796753\n",
      "vae_loss: 0.22540369629859924\n",
      "vae_loss: 0.23658327758312225\n",
      "vae_loss: 0.2361653447151184\n",
      "vae_loss: 0.21029531955718994\n",
      "vae_loss: 0.2387632429599762\n"
     ]
    },
    {
     "name": "stderr",
     "output_type": "stream",
     "text": [
      "2023-01-02 20:14:16,285 (client:255)INFO: {'Role': 'Client #1', 'Round': 112, 'Results_raw': {'train_avg_loss': 3.637985, 'train_total': 901, 'train_imp_ratio': -293.593555, 'train_loss': 3277.824824}}\n",
      "2023-01-02 20:14:16,290 (server:496)INFO: {'Role': 'Server #', 'Round': 112, 'Results_avg': {'test_avg_loss': 3.701587, 'test_total': 113.0, 'test_imp_ratio': -300.474677, 'test_loss': 418.279375, 'val_avg_loss': 2.870708, 'val_total': 113.0, 'val_imp_ratio': -210.581845, 'val_loss': 324.390014}}\n",
      "2023-01-02 20:14:16,291 (monitor:513)INFO: current_best=-168.427335, should_save=False\n",
      "2023-01-02 20:14:16,293 (monitor:513)INFO: current_best=-168.427335, should_save=False\n",
      "2023-01-02 20:14:16,298 (server:323)INFO: Server #0: Starting evaluation at the end of round 112.\n",
      "2023-01-02 20:14:16,305 (server:330)INFO: ----------- Starting a new training round (Round #113) -------------\n"
     ]
    },
    {
     "name": "stdout",
     "output_type": "stream",
     "text": [
      "vae_loss: 0.21889977157115936\n",
      "vae_loss: 0.22445958852767944\n",
      "vae_loss: 0.21605810523033142\n",
      "vae_loss: 0.23478633165359497\n",
      "vae_loss: 0.2189590334892273\n",
      "vae_loss: 0.2242097109556198\n",
      "vae_loss: 0.20841504633426666\n",
      "vae_loss: 0.23436963558197021\n",
      "vae_loss: 0.2127484381198883\n"
     ]
    },
    {
     "name": "stderr",
     "output_type": "stream",
     "text": [
      "2023-01-02 20:14:16,386 (client:410)INFO: {'Role': 'Client #1', 'Round': 113, 'Results_raw': {'test_avg_loss': 3.565101, 'test_total': 113, 'test_imp_ratio': -285.708176, 'test_loss': 402.856369, 'val_avg_loss': 3.122133, 'val_total': 113, 'val_imp_ratio': -237.783488, 'val_loss': 352.800979}}\n",
      "2023-01-02 20:14:16,389 (monitor:513)INFO: current_best=-168.427335, should_save=False\n"
     ]
    },
    {
     "name": "stdout",
     "output_type": "stream",
     "text": [
      "vae_loss: 0.2222069501876831\n",
      "vae_loss: 0.22524100542068481\n",
      "vae_loss: 0.22571688890457153\n",
      "vae_loss: 0.20716115832328796\n",
      "vae_loss: 0.22687777876853943\n",
      "vae_loss: 0.237522691488266\n",
      "vae_loss: 0.24513868987560272\n",
      "vae_loss: 0.22119241952896118\n",
      "vae_loss: 0.21942582726478577\n",
      "vae_loss: 0.2268694043159485\n",
      "vae_loss: 0.2195630669593811\n",
      "vae_loss: 0.21863749623298645\n"
     ]
    },
    {
     "name": "stderr",
     "output_type": "stream",
     "text": [
      "2023-01-02 20:14:16,678 (client:255)INFO: {'Role': 'Client #1', 'Round': 113, 'Results_raw': {'train_avg_loss': 3.590197, 'train_total': 901, 'train_imp_ratio': -288.423331, 'train_loss': 3234.76742}}\n",
      "2023-01-02 20:14:16,682 (server:496)INFO: {'Role': 'Server #', 'Round': 113, 'Results_avg': {'test_avg_loss': 3.565101, 'test_total': 113.0, 'test_imp_ratio': -285.708176, 'test_loss': 402.856369, 'val_avg_loss': 3.122133, 'val_total': 113.0, 'val_imp_ratio': -237.783488, 'val_loss': 352.800979}}\n",
      "2023-01-02 20:14:16,683 (monitor:513)INFO: current_best=-168.427335, should_save=False\n",
      "2023-01-02 20:14:16,684 (monitor:513)INFO: current_best=-168.427335, should_save=False\n",
      "2023-01-02 20:14:16,691 (server:323)INFO: Server #0: Starting evaluation at the end of round 113.\n",
      "2023-01-02 20:14:16,701 (server:330)INFO: ----------- Starting a new training round (Round #114) -------------\n"
     ]
    },
    {
     "name": "stdout",
     "output_type": "stream",
     "text": [
      "vae_loss: 0.2361387014389038\n",
      "vae_loss: 0.23651450872421265\n",
      "vae_loss: 0.21878769993782043\n",
      "vae_loss: 0.22488713264465332\n",
      "vae_loss: 0.189642995595932\n",
      "vae_loss: 0.23305192589759827\n",
      "vae_loss: 0.2127857506275177\n",
      "vae_loss: 0.22182825207710266\n",
      "vae_loss: 0.22608381509780884\n"
     ]
    },
    {
     "name": "stderr",
     "output_type": "stream",
     "text": [
      "2023-01-02 20:14:16,794 (client:410)INFO: {'Role': 'Client #1', 'Round': 114, 'Results_raw': {'test_avg_loss': 3.349097, 'test_total': 113, 'test_imp_ratio': -262.338718, 'test_loss': 378.447946, 'val_avg_loss': 2.87079, 'val_total': 113, 'val_imp_ratio': -210.590692, 'val_loss': 324.399234}}\n",
      "2023-01-02 20:14:16,795 (monitor:513)INFO: current_best=-168.427335, should_save=False\n"
     ]
    },
    {
     "name": "stdout",
     "output_type": "stream",
     "text": [
      "vae_loss: 0.23360124230384827\n",
      "vae_loss: 0.24102886021137238\n",
      "vae_loss: 0.2112613320350647\n",
      "vae_loss: 0.23692286014556885\n",
      "vae_loss: 0.21676233410835266\n",
      "vae_loss: 0.23005425930023193\n",
      "vae_loss: 0.21940797567367554\n",
      "vae_loss: 0.22247695922851562\n",
      "vae_loss: 0.2390105277299881\n",
      "vae_loss: 0.24017278850078583\n",
      "vae_loss: 0.21619123220443726\n"
     ]
    },
    {
     "name": "stderr",
     "output_type": "stream",
     "text": [
      "2023-01-02 20:14:17,099 (client:255)INFO: {'Role': 'Client #1', 'Round': 114, 'Results_raw': {'train_avg_loss': 3.587397, 'train_total': 901, 'train_imp_ratio': -288.120478, 'train_loss': 3232.245079}}\n",
      "2023-01-02 20:14:17,104 (server:496)INFO: {'Role': 'Server #', 'Round': 114, 'Results_avg': {'test_avg_loss': 3.349097, 'test_total': 113.0, 'test_imp_ratio': -262.338718, 'test_loss': 378.447946, 'val_avg_loss': 2.87079, 'val_total': 113.0, 'val_imp_ratio': -210.590692, 'val_loss': 324.399234}}\n",
      "2023-01-02 20:14:17,105 (monitor:513)INFO: current_best=-168.427335, should_save=False\n",
      "2023-01-02 20:14:17,105 (monitor:513)INFO: current_best=-168.427335, should_save=False\n",
      "2023-01-02 20:14:17,111 (server:323)INFO: Server #0: Starting evaluation at the end of round 114.\n",
      "2023-01-02 20:14:17,117 (server:330)INFO: ----------- Starting a new training round (Round #115) -------------\n",
      "2023-01-02 20:14:17,200 (client:410)INFO: {'Role': 'Client #1', 'Round': 115, 'Results_raw': {'test_avg_loss': 3.195017, 'test_total': 113, 'test_imp_ratio': -245.668867, 'test_loss': 361.036952, 'val_avg_loss': 2.848716, 'val_total': 113, 'val_imp_ratio': -208.20256, 'val_loss': 321.904931}}\n",
      "2023-01-02 20:14:17,201 (monitor:513)INFO: current_best=-168.427335, should_save=False\n"
     ]
    },
    {
     "name": "stdout",
     "output_type": "stream",
     "text": [
      "vae_loss: 0.21448564529418945\n",
      "vae_loss: 0.21313929557800293\n",
      "vae_loss: 0.2301619052886963\n",
      "vae_loss: 0.18332539498806\n",
      "vae_loss: 0.23133262991905212\n",
      "vae_loss: 0.2115747332572937\n",
      "vae_loss: 0.22046583890914917\n",
      "vae_loss: 0.22416135668754578\n",
      "vae_loss: 0.21569889783859253\n",
      "vae_loss: 0.21949586272239685\n",
      "vae_loss: 0.21463793516159058\n",
      "vae_loss: 0.2381255179643631\n",
      "vae_loss: 0.2384675294160843\n",
      "vae_loss: 0.22763264179229736\n",
      "vae_loss: 0.22750157117843628\n",
      "vae_loss: 0.22218628227710724\n",
      "vae_loss: 0.23246493935585022\n",
      "vae_loss: 0.22099387645721436\n",
      "vae_loss: 0.23109805583953857\n",
      "vae_loss: 0.223082035779953\n",
      "vae_loss: 0.22173041105270386\n"
     ]
    },
    {
     "name": "stderr",
     "output_type": "stream",
     "text": [
      "2023-01-02 20:14:17,491 (client:255)INFO: {'Role': 'Client #1', 'Round': 115, 'Results_raw': {'train_avg_loss': 3.589172, 'train_total': 901, 'train_imp_ratio': -288.312415, 'train_loss': 3233.843942}}\n",
      "2023-01-02 20:14:17,495 (server:496)INFO: {'Role': 'Server #', 'Round': 115, 'Results_avg': {'test_avg_loss': 3.195017, 'test_total': 113.0, 'test_imp_ratio': -245.668867, 'test_loss': 361.036952, 'val_avg_loss': 2.848716, 'val_total': 113.0, 'val_imp_ratio': -208.20256, 'val_loss': 321.904931}}\n",
      "2023-01-02 20:14:17,497 (monitor:513)INFO: current_best=-168.427335, should_save=False\n",
      "2023-01-02 20:14:17,498 (monitor:513)INFO: current_best=-168.427335, should_save=False\n",
      "2023-01-02 20:14:17,507 (server:323)INFO: Server #0: Starting evaluation at the end of round 115.\n",
      "2023-01-02 20:14:17,515 (server:330)INFO: ----------- Starting a new training round (Round #116) -------------\n",
      "2023-01-02 20:14:17,596 (client:410)INFO: {'Role': 'Client #1', 'Round': 116, 'Results_raw': {'test_avg_loss': 3.530807, 'test_total': 113, 'test_imp_ratio': -281.997972, 'test_loss': 398.981238, 'val_avg_loss': 2.800422, 'val_total': 113, 'val_imp_ratio': -202.977522, 'val_loss': 316.447641}}\n",
      "2023-01-02 20:14:17,597 (monitor:513)INFO: current_best=-168.427335, should_save=False\n"
     ]
    },
    {
     "name": "stdout",
     "output_type": "stream",
     "text": [
      "vae_loss: 0.21415512263774872\n",
      "vae_loss: 0.27589547634124756\n",
      "vae_loss: 0.2322416603565216\n",
      "vae_loss: 0.21182012557983398\n",
      "vae_loss: 0.2218325436115265\n",
      "vae_loss: 0.22491616010665894\n",
      "vae_loss: 0.221038818359375\n",
      "vae_loss: 0.21977829933166504\n",
      "vae_loss: 0.2225983440876007\n",
      "vae_loss: 0.23693817853927612\n",
      "vae_loss: 0.23143833875656128\n",
      "vae_loss: 0.227778822183609\n",
      "vae_loss: 0.21614551544189453\n",
      "vae_loss: 0.21974438428878784\n",
      "vae_loss: 0.20895308256149292\n",
      "vae_loss: 0.24617160856723785\n",
      "vae_loss: 0.2287411391735077\n",
      "vae_loss: 0.21813303232192993\n",
      "vae_loss: 0.2250153124332428\n",
      "vae_loss: 0.21569111943244934\n",
      "vae_loss: 0.23423129320144653\n"
     ]
    },
    {
     "name": "stderr",
     "output_type": "stream",
     "text": [
      "2023-01-02 20:14:17,881 (client:255)INFO: {'Role': 'Client #1', 'Round': 116, 'Results_raw': {'train_avg_loss': 3.425387, 'train_total': 901, 'train_imp_ratio': -270.592598, 'train_loss': 3086.273942}}\n",
      "2023-01-02 20:14:17,886 (server:496)INFO: {'Role': 'Server #', 'Round': 116, 'Results_avg': {'test_avg_loss': 3.530807, 'test_total': 113.0, 'test_imp_ratio': -281.997972, 'test_loss': 398.981238, 'val_avg_loss': 2.800422, 'val_total': 113.0, 'val_imp_ratio': -202.977522, 'val_loss': 316.447641}}\n",
      "2023-01-02 20:14:17,887 (monitor:513)INFO: current_best=-168.427335, should_save=False\n",
      "2023-01-02 20:14:17,888 (monitor:513)INFO: current_best=-168.427335, should_save=False\n",
      "2023-01-02 20:14:17,896 (server:323)INFO: Server #0: Starting evaluation at the end of round 116.\n",
      "2023-01-02 20:14:17,904 (server:330)INFO: ----------- Starting a new training round (Round #117) -------------\n",
      "2023-01-02 20:14:17,980 (client:410)INFO: {'Role': 'Client #1', 'Round': 117, 'Results_raw': {'test_avg_loss': 3.700627, 'test_total': 113, 'test_imp_ratio': -300.370777, 'test_loss': 418.170898, 'val_avg_loss': 3.038829, 'val_total': 113, 'val_imp_ratio': -228.770863, 'val_loss': 343.387705}}\n",
      "2023-01-02 20:14:17,981 (monitor:513)INFO: current_best=-168.427335, should_save=False\n"
     ]
    },
    {
     "name": "stdout",
     "output_type": "stream",
     "text": [
      "vae_loss: 0.2326429784297943\n",
      "vae_loss: 0.2095528542995453\n",
      "vae_loss: 0.21938100457191467\n",
      "vae_loss: 0.22399494051933289\n",
      "vae_loss: 0.21807029843330383\n",
      "vae_loss: 0.2456870973110199\n",
      "vae_loss: 0.22149986028671265\n",
      "vae_loss: 0.22687497735023499\n",
      "vae_loss: 0.21723711490631104\n",
      "vae_loss: 0.21145370602607727\n",
      "vae_loss: 0.23183149099349976\n",
      "vae_loss: 0.2232547104358673\n"
     ]
    },
    {
     "name": "stderr",
     "output_type": "stream",
     "text": [
      "2023-01-02 20:14:18,263 (client:255)INFO: {'Role': 'Client #1', 'Round': 117, 'Results_raw': {'train_avg_loss': 3.690515, 'train_total': 901, 'train_imp_ratio': -299.27678, 'train_loss': 3325.154015}}\n",
      "2023-01-02 20:14:18,268 (server:496)INFO: {'Role': 'Server #', 'Round': 117, 'Results_avg': {'test_avg_loss': 3.700627, 'test_total': 113.0, 'test_imp_ratio': -300.370777, 'test_loss': 418.170898, 'val_avg_loss': 3.038829, 'val_total': 113.0, 'val_imp_ratio': -228.770863, 'val_loss': 343.387705}}\n",
      "2023-01-02 20:14:18,269 (monitor:513)INFO: current_best=-168.427335, should_save=False\n",
      "2023-01-02 20:14:18,270 (monitor:513)INFO: current_best=-168.427335, should_save=False\n",
      "2023-01-02 20:14:18,276 (server:323)INFO: Server #0: Starting evaluation at the end of round 117.\n",
      "2023-01-02 20:14:18,284 (server:330)INFO: ----------- Starting a new training round (Round #118) -------------\n"
     ]
    },
    {
     "name": "stdout",
     "output_type": "stream",
     "text": [
      "vae_loss: 0.21750730276107788\n",
      "vae_loss: 0.2108033001422882\n",
      "vae_loss: 0.21013601124286652\n",
      "vae_loss: 0.2391655445098877\n",
      "vae_loss: 0.2319127917289734\n",
      "vae_loss: 0.2175590693950653\n",
      "vae_loss: 0.308752179145813\n",
      "vae_loss: 0.2317490577697754\n",
      "vae_loss: 0.2104002684354782\n",
      "vae_loss: 0.2173675298690796\n"
     ]
    },
    {
     "name": "stderr",
     "output_type": "stream",
     "text": [
      "2023-01-02 20:14:18,363 (client:410)INFO: {'Role': 'Client #1', 'Round': 118, 'Results_raw': {'test_avg_loss': 3.707525, 'test_total': 113, 'test_imp_ratio': -301.117089, 'test_loss': 418.95032, 'val_avg_loss': 2.907093, 'val_total': 113, 'val_imp_ratio': -214.518318, 'val_loss': 328.501502}}\n",
      "2023-01-02 20:14:18,364 (monitor:513)INFO: current_best=-168.427335, should_save=False\n"
     ]
    },
    {
     "name": "stdout",
     "output_type": "stream",
     "text": [
      "vae_loss: 0.2259405255317688\n",
      "vae_loss: 0.20641356706619263\n",
      "vae_loss: 0.23158642649650574\n",
      "vae_loss: 0.22095753252506256\n",
      "vae_loss: 0.2277921736240387\n",
      "vae_loss: 0.2282436341047287\n",
      "vae_loss: 0.21305221319198608\n",
      "vae_loss: 0.20462729036808014\n",
      "vae_loss: 0.22945986688137054\n",
      "vae_loss: 0.20762723684310913\n"
     ]
    },
    {
     "name": "stderr",
     "output_type": "stream",
     "text": [
      "2023-01-02 20:14:18,675 (client:255)INFO: {'Role': 'Client #1', 'Round': 118, 'Results_raw': {'train_avg_loss': 3.513235, 'train_total': 901, 'train_imp_ratio': -280.096788, 'train_loss': 3165.424517}}\n",
      "2023-01-02 20:14:18,679 (server:496)INFO: {'Role': 'Server #', 'Round': 118, 'Results_avg': {'test_avg_loss': 3.707525, 'test_total': 113.0, 'test_imp_ratio': -301.117089, 'test_loss': 418.95032, 'val_avg_loss': 2.907093, 'val_total': 113.0, 'val_imp_ratio': -214.518318, 'val_loss': 328.501502}}\n",
      "2023-01-02 20:14:18,681 (monitor:513)INFO: current_best=-168.427335, should_save=False\n",
      "2023-01-02 20:14:18,682 (monitor:513)INFO: current_best=-168.427335, should_save=False\n",
      "2023-01-02 20:14:18,687 (server:323)INFO: Server #0: Starting evaluation at the end of round 118.\n",
      "2023-01-02 20:14:18,694 (server:330)INFO: ----------- Starting a new training round (Round #119) -------------\n"
     ]
    },
    {
     "name": "stdout",
     "output_type": "stream",
     "text": [
      "vae_loss: 0.22784416377544403\n",
      "vae_loss: 0.2323192059993744\n",
      "vae_loss: 0.23495331406593323\n",
      "vae_loss: 0.21591418981552124\n",
      "vae_loss: 0.2460973709821701\n",
      "vae_loss: 0.17383092641830444\n",
      "vae_loss: 0.23187954723834991\n",
      "vae_loss: 0.21034491062164307\n"
     ]
    },
    {
     "name": "stderr",
     "output_type": "stream",
     "text": [
      "2023-01-02 20:14:18,776 (client:410)INFO: {'Role': 'Client #1', 'Round': 119, 'Results_raw': {'test_avg_loss': 3.435366, 'test_total': 113, 'test_imp_ratio': -271.672253, 'test_loss': 388.196413, 'val_avg_loss': 2.881758, 'val_total': 113, 'val_imp_ratio': -211.777316, 'val_loss': 325.638608}}\n",
      "2023-01-02 20:14:18,778 (monitor:513)INFO: current_best=-168.427335, should_save=False\n"
     ]
    },
    {
     "name": "stdout",
     "output_type": "stream",
     "text": [
      "vae_loss: 0.2185669243335724\n",
      "vae_loss: 0.22338062524795532\n",
      "vae_loss: 0.22777396440505981\n",
      "vae_loss: 0.22097602486610413\n",
      "vae_loss: 0.20722201466560364\n",
      "vae_loss: 0.23091354966163635\n",
      "vae_loss: 0.2295512855052948\n",
      "vae_loss: 0.20060892403125763\n",
      "vae_loss: 0.23058795928955078\n",
      "vae_loss: 0.22057178616523743\n",
      "vae_loss: 0.2417164444923401\n"
     ]
    },
    {
     "name": "stderr",
     "output_type": "stream",
     "text": [
      "2023-01-02 20:14:19,068 (client:255)INFO: {'Role': 'Client #1', 'Round': 119, 'Results_raw': {'train_avg_loss': 3.539051, 'train_total': 901, 'train_imp_ratio': -282.889843, 'train_loss': 3188.684987}}\n",
      "2023-01-02 20:14:19,072 (server:496)INFO: {'Role': 'Server #', 'Round': 119, 'Results_avg': {'test_avg_loss': 3.435366, 'test_total': 113.0, 'test_imp_ratio': -271.672253, 'test_loss': 388.196413, 'val_avg_loss': 2.881758, 'val_total': 113.0, 'val_imp_ratio': -211.777316, 'val_loss': 325.638608}}\n",
      "2023-01-02 20:14:19,073 (monitor:513)INFO: current_best=-168.427335, should_save=False\n",
      "2023-01-02 20:14:19,074 (monitor:513)INFO: current_best=-168.427335, should_save=False\n",
      "2023-01-02 20:14:19,080 (server:323)INFO: Server #0: Starting evaluation at the end of round 119.\n",
      "2023-01-02 20:14:19,088 (server:330)INFO: ----------- Starting a new training round (Round #120) -------------\n",
      "2023-01-02 20:14:19,175 (client:410)INFO: {'Role': 'Client #1', 'Round': 120, 'Results_raw': {'test_avg_loss': 3.435016, 'test_total': 113, 'test_imp_ratio': -271.634309, 'test_loss': 388.156794, 'val_avg_loss': 2.708795, 'val_total': 113, 'val_imp_ratio': -193.064463, 'val_loss': 306.093789}}\n",
      "2023-01-02 20:14:19,177 (monitor:513)INFO: current_best=-168.427335, should_save=False\n"
     ]
    },
    {
     "name": "stdout",
     "output_type": "stream",
     "text": [
      "vae_loss: 0.2258632630109787\n",
      "vae_loss: 0.227675199508667\n",
      "vae_loss: 0.21803538501262665\n",
      "vae_loss: 0.22235560417175293\n",
      "vae_loss: 0.22798001766204834\n",
      "vae_loss: 0.2121940553188324\n",
      "vae_loss: 0.23171398043632507\n",
      "vae_loss: 0.20888599753379822\n",
      "vae_loss: 0.21805354952812195\n",
      "vae_loss: 0.22469104826450348\n",
      "vae_loss: 0.21469169855117798\n",
      "vae_loss: 0.208746999502182\n",
      "vae_loss: 0.2088354229927063\n",
      "vae_loss: 0.22417595982551575\n",
      "vae_loss: 0.22174224257469177\n",
      "vae_loss: 0.22360847890377045\n",
      "vae_loss: 0.23327010869979858\n",
      "vae_loss: 0.23212848603725433\n",
      "vae_loss: 0.22277677059173584\n",
      "vae_loss: 0.23036672174930573\n",
      "vae_loss: 0.21993425488471985\n",
      "vae_loss: 0.2192040979862213\n"
     ]
    },
    {
     "name": "stderr",
     "output_type": "stream",
     "text": [
      "2023-01-02 20:14:19,464 (client:255)INFO: {'Role': 'Client #1', 'Round': 120, 'Results_raw': {'train_avg_loss': 3.602897, 'train_total': 901, 'train_imp_ratio': -289.797327, 'train_loss': 3246.209812}}\n",
      "2023-01-02 20:14:19,469 (server:496)INFO: {'Role': 'Server #', 'Round': 120, 'Results_avg': {'test_avg_loss': 3.435016, 'test_total': 113.0, 'test_imp_ratio': -271.634309, 'test_loss': 388.156794, 'val_avg_loss': 2.708795, 'val_total': 113.0, 'val_imp_ratio': -193.064463, 'val_loss': 306.093789}}\n",
      "2023-01-02 20:14:19,470 (monitor:513)INFO: current_best=-168.427335, should_save=False\n",
      "2023-01-02 20:14:19,471 (monitor:513)INFO: current_best=-168.427335, should_save=False\n",
      "2023-01-02 20:14:19,479 (server:323)INFO: Server #0: Starting evaluation at the end of round 120.\n",
      "2023-01-02 20:14:19,485 (server:330)INFO: ----------- Starting a new training round (Round #121) -------------\n",
      "2023-01-02 20:14:19,581 (client:410)INFO: {'Role': 'Client #1', 'Round': 121, 'Results_raw': {'test_avg_loss': 3.619605, 'test_total': 113, 'test_imp_ratio': -291.60498, 'test_loss': 409.015339, 'val_avg_loss': 3.136144, 'val_total': 113, 'val_imp_ratio': -239.299328, 'val_loss': 354.384244}}\n",
      "2023-01-02 20:14:19,583 (monitor:513)INFO: current_best=-168.427335, should_save=False\n"
     ]
    },
    {
     "name": "stdout",
     "output_type": "stream",
     "text": [
      "vae_loss: 0.2291126251220703\n",
      "vae_loss: 0.2282596230506897\n",
      "vae_loss: 0.23554719984531403\n",
      "vae_loss: 0.2315494418144226\n",
      "vae_loss: 0.2088952362537384\n",
      "vae_loss: 0.21804015338420868\n",
      "vae_loss: 0.2241474986076355\n",
      "vae_loss: 0.2273082435131073\n",
      "vae_loss: 0.2347056269645691\n",
      "vae_loss: 0.212621808052063\n",
      "vae_loss: 0.23884382843971252\n",
      "vae_loss: 0.20593374967575073\n",
      "vae_loss: 0.2134189009666443\n",
      "vae_loss: 0.20997747778892517\n",
      "vae_loss: 0.2233559787273407\n",
      "vae_loss: 0.2245015799999237\n",
      "vae_loss: 0.21527709066867828\n",
      "vae_loss: 0.23767414689064026\n",
      "vae_loss: 0.2395687699317932\n",
      "vae_loss: 0.21506914496421814\n",
      "vae_loss: 0.23049521446228027\n"
     ]
    },
    {
     "name": "stderr",
     "output_type": "stream",
     "text": [
      "2023-01-02 20:14:19,861 (client:255)INFO: {'Role': 'Client #1', 'Round': 121, 'Results_raw': {'train_avg_loss': 3.600168, 'train_total': 901, 'train_imp_ratio': -289.50216, 'train_loss': 3243.751665}}\n",
      "2023-01-02 20:14:19,865 (server:496)INFO: {'Role': 'Server #', 'Round': 121, 'Results_avg': {'test_avg_loss': 3.619605, 'test_total': 113.0, 'test_imp_ratio': -291.60498, 'test_loss': 409.015339, 'val_avg_loss': 3.136144, 'val_total': 113.0, 'val_imp_ratio': -239.299328, 'val_loss': 354.384244}}\n",
      "2023-01-02 20:14:19,866 (monitor:513)INFO: current_best=-168.427335, should_save=False\n",
      "2023-01-02 20:14:19,868 (monitor:513)INFO: current_best=-168.427335, should_save=False\n",
      "2023-01-02 20:14:19,873 (server:323)INFO: Server #0: Starting evaluation at the end of round 121.\n",
      "2023-01-02 20:14:19,881 (server:330)INFO: ----------- Starting a new training round (Round #122) -------------\n",
      "2023-01-02 20:14:19,962 (client:410)INFO: {'Role': 'Client #1', 'Round': 122, 'Results_raw': {'test_avg_loss': 3.276787, 'test_total': 113, 'test_imp_ratio': -254.515581, 'test_loss': 370.27697, 'val_avg_loss': 2.805877, 'val_total': 113, 'val_imp_ratio': -203.567778, 'val_loss': 317.064118}}\n",
      "2023-01-02 20:14:19,963 (monitor:513)INFO: current_best=-168.427335, should_save=False\n"
     ]
    },
    {
     "name": "stdout",
     "output_type": "stream",
     "text": [
      "vae_loss: 0.1898024082183838\n",
      "vae_loss: 0.23177476227283478\n",
      "vae_loss: 0.20955950021743774\n",
      "vae_loss: 0.2172280251979828\n",
      "vae_loss: 0.22287264466285706\n",
      "vae_loss: 0.22811245918273926\n",
      "vae_loss: 0.20431047677993774\n",
      "vae_loss: 0.2135642170906067\n",
      "vae_loss: 0.23281723260879517\n"
     ]
    },
    {
     "name": "stderr",
     "output_type": "stream",
     "text": [
      "2023-01-02 20:14:20,247 (client:255)INFO: {'Role': 'Client #1', 'Round': 122, 'Results_raw': {'train_avg_loss': 3.673966, 'train_total': 901, 'train_imp_ratio': -297.486358, 'train_loss': 3310.243406}}\n",
      "2023-01-02 20:14:20,252 (server:496)INFO: {'Role': 'Server #', 'Round': 122, 'Results_avg': {'test_avg_loss': 3.276787, 'test_total': 113.0, 'test_imp_ratio': -254.515581, 'test_loss': 370.27697, 'val_avg_loss': 2.805877, 'val_total': 113.0, 'val_imp_ratio': -203.567778, 'val_loss': 317.064118}}\n",
      "2023-01-02 20:14:20,253 (monitor:513)INFO: current_best=-168.427335, should_save=False\n",
      "2023-01-02 20:14:20,254 (monitor:513)INFO: current_best=-168.427335, should_save=False\n",
      "2023-01-02 20:14:20,260 (server:323)INFO: Server #0: Starting evaluation at the end of round 122.\n"
     ]
    },
    {
     "name": "stdout",
     "output_type": "stream",
     "text": [
      "vae_loss: 0.22483380138874054\n",
      "vae_loss: 0.23434415459632874\n",
      "vae_loss: 0.22080716490745544\n",
      "vae_loss: 0.20612770318984985\n",
      "vae_loss: 0.22891536355018616\n",
      "vae_loss: 0.23440898954868317\n",
      "vae_loss: 0.21265098452568054\n",
      "vae_loss: 0.21465584635734558\n",
      "vae_loss: 0.23131713271141052\n",
      "vae_loss: 0.2247256189584732\n",
      "vae_loss: 0.24721474945545197\n"
     ]
    },
    {
     "name": "stderr",
     "output_type": "stream",
     "text": [
      "2023-01-02 20:14:20,267 (server:330)INFO: ----------- Starting a new training round (Round #123) -------------\n",
      "2023-01-02 20:14:20,352 (client:410)INFO: {'Role': 'Client #1', 'Round': 123, 'Results_raw': {'test_avg_loss': 3.436431, 'test_total': 113, 'test_imp_ratio': -271.787451, 'test_loss': 388.316751, 'val_avg_loss': 2.708464, 'val_total': 113, 'val_imp_ratio': -193.028712, 'val_loss': 306.056475}}\n",
      "2023-01-02 20:14:20,353 (monitor:513)INFO: current_best=-168.427335, should_save=False\n"
     ]
    },
    {
     "name": "stdout",
     "output_type": "stream",
     "text": [
      "vae_loss: 0.2287919670343399\n",
      "vae_loss: 0.20756444334983826\n",
      "vae_loss: 0.21777287125587463\n",
      "vae_loss: 0.22306275367736816\n",
      "vae_loss: 0.21469610929489136\n",
      "vae_loss: 0.21731942892074585\n",
      "vae_loss: 0.22216247022151947\n",
      "vae_loss: 0.22709313035011292\n",
      "vae_loss: 0.22555524110794067\n",
      "vae_loss: 0.20528416335582733\n",
      "vae_loss: 0.21241281926631927\n"
     ]
    },
    {
     "name": "stderr",
     "output_type": "stream",
     "text": [
      "2023-01-02 20:14:20,657 (client:255)INFO: {'Role': 'Client #1', 'Round': 123, 'Results_raw': {'train_avg_loss': 3.757055, 'train_total': 901, 'train_imp_ratio': -306.475665, 'train_loss': 3385.106134}}\n",
      "2023-01-02 20:14:20,662 (server:496)INFO: {'Role': 'Server #', 'Round': 123, 'Results_avg': {'test_avg_loss': 3.436431, 'test_total': 113.0, 'test_imp_ratio': -271.787451, 'test_loss': 388.316751, 'val_avg_loss': 2.708464, 'val_total': 113.0, 'val_imp_ratio': -193.028712, 'val_loss': 306.056475}}\n",
      "2023-01-02 20:14:20,663 (monitor:513)INFO: current_best=-168.427335, should_save=False\n",
      "2023-01-02 20:14:20,664 (monitor:513)INFO: current_best=-168.427335, should_save=False\n",
      "2023-01-02 20:14:20,676 (server:323)INFO: Server #0: Starting evaluation at the end of round 123.\n",
      "2023-01-02 20:14:20,682 (server:330)INFO: ----------- Starting a new training round (Round #124) -------------\n"
     ]
    },
    {
     "name": "stdout",
     "output_type": "stream",
     "text": [
      "vae_loss: 0.21740657091140747\n",
      "vae_loss: 0.22502601146697998\n",
      "vae_loss: 0.22716748714447021\n",
      "vae_loss: 0.2208521068096161\n",
      "vae_loss: 0.23334279656410217\n",
      "vae_loss: 0.22554044425487518\n",
      "vae_loss: 0.23620498180389404\n",
      "vae_loss: 0.2215370535850525\n"
     ]
    },
    {
     "name": "stderr",
     "output_type": "stream",
     "text": [
      "2023-01-02 20:14:20,772 (client:410)INFO: {'Role': 'Client #1', 'Round': 124, 'Results_raw': {'test_avg_loss': 3.472663, 'test_total': 113, 'test_imp_ratio': -275.707364, 'test_loss': 392.41095, 'val_avg_loss': 2.483059, 'val_total': 113, 'val_imp_ratio': -168.642074, 'val_loss': 280.585639}}\n",
      "2023-01-02 20:14:20,773 (monitor:513)INFO: current_best=-168.427335, should_save=False\n"
     ]
    },
    {
     "name": "stdout",
     "output_type": "stream",
     "text": [
      "vae_loss: 0.23091982305049896\n",
      "vae_loss: 0.20902639627456665\n",
      "vae_loss: 0.21693602204322815\n",
      "vae_loss: 0.22409725189208984\n",
      "vae_loss: 0.22698043286800385\n",
      "vae_loss: 0.216880202293396\n",
      "vae_loss: 0.2388586848974228\n",
      "vae_loss: 0.21210311353206635\n",
      "vae_loss: 0.22170764207839966\n",
      "vae_loss: 0.2165302038192749\n",
      "vae_loss: 0.22861860692501068\n"
     ]
    },
    {
     "name": "stderr",
     "output_type": "stream",
     "text": [
      "2023-01-02 20:14:21,089 (client:255)INFO: {'Role': 'Client #1', 'Round': 124, 'Results_raw': {'train_avg_loss': 3.595757, 'train_total': 901, 'train_imp_ratio': -289.024833, 'train_loss': 3239.776772}}\n",
      "2023-01-02 20:14:21,093 (server:496)INFO: {'Role': 'Server #', 'Round': 124, 'Results_avg': {'test_avg_loss': 3.472663, 'test_total': 113.0, 'test_imp_ratio': -275.707364, 'test_loss': 392.41095, 'val_avg_loss': 2.483059, 'val_total': 113.0, 'val_imp_ratio': -168.642074, 'val_loss': 280.585639}}\n",
      "2023-01-02 20:14:21,095 (monitor:513)INFO: current_best=-168.427335, should_save=False\n",
      "2023-01-02 20:14:21,096 (monitor:513)INFO: current_best=-168.427335, should_save=False\n",
      "2023-01-02 20:14:21,102 (server:323)INFO: Server #0: Starting evaluation at the end of round 124.\n",
      "2023-01-02 20:14:21,109 (server:330)INFO: ----------- Starting a new training round (Round #125) -------------\n"
     ]
    },
    {
     "name": "stdout",
     "output_type": "stream",
     "text": [
      "vae_loss: 0.2280333936214447\n",
      "vae_loss: 0.2191416174173355\n",
      "vae_loss: 0.20916011929512024\n",
      "vae_loss: 0.23077908158302307\n",
      "vae_loss: 0.2279159128665924\n",
      "vae_loss: 0.22127899527549744\n",
      "vae_loss: 0.22271040081977844\n",
      "vae_loss: 0.21253928542137146\n"
     ]
    },
    {
     "name": "stderr",
     "output_type": "stream",
     "text": [
      "2023-01-02 20:14:21,198 (client:410)INFO: {'Role': 'Client #1', 'Round': 125, 'Results_raw': {'test_avg_loss': 3.836665, 'test_total': 113, 'test_imp_ratio': -315.088681, 'test_loss': 433.543106, 'val_avg_loss': 2.888093, 'val_total': 113, 'val_imp_ratio': -212.462702, 'val_loss': 326.35452}}\n",
      "2023-01-02 20:14:21,199 (monitor:513)INFO: current_best=-168.427335, should_save=False\n"
     ]
    },
    {
     "name": "stdout",
     "output_type": "stream",
     "text": [
      "vae_loss: 0.2279437780380249\n",
      "vae_loss: 0.20590408146381378\n",
      "vae_loss: 0.21537846326828003\n",
      "vae_loss: 0.2236236333847046\n",
      "vae_loss: 0.22440579533576965\n",
      "vae_loss: 0.23189716041088104\n",
      "vae_loss: 0.2255849689245224\n",
      "vae_loss: 0.21088236570358276\n",
      "vae_loss: 0.225082665681839\n",
      "vae_loss: 0.2149837166070938\n",
      "vae_loss: 0.21794717013835907\n",
      "vae_loss: 0.2327623963356018\n"
     ]
    },
    {
     "name": "stderr",
     "output_type": "stream",
     "text": [
      "2023-01-02 20:14:21,495 (client:255)INFO: {'Role': 'Client #1', 'Round': 125, 'Results_raw': {'train_avg_loss': 3.635044, 'train_total': 901, 'train_imp_ratio': -293.275303, 'train_loss': 3275.174549}}\n",
      "2023-01-02 20:14:21,500 (server:496)INFO: {'Role': 'Server #', 'Round': 125, 'Results_avg': {'test_avg_loss': 3.836665, 'test_total': 113.0, 'test_imp_ratio': -315.088681, 'test_loss': 433.543106, 'val_avg_loss': 2.888093, 'val_total': 113.0, 'val_imp_ratio': -212.462702, 'val_loss': 326.35452}}\n",
      "2023-01-02 20:14:21,501 (monitor:513)INFO: current_best=-168.427335, should_save=False\n",
      "2023-01-02 20:14:21,502 (monitor:513)INFO: current_best=-168.427335, should_save=False\n",
      "2023-01-02 20:14:21,507 (server:323)INFO: Server #0: Starting evaluation at the end of round 125.\n",
      "2023-01-02 20:14:21,514 (server:330)INFO: ----------- Starting a new training round (Round #126) -------------\n"
     ]
    },
    {
     "name": "stdout",
     "output_type": "stream",
     "text": [
      "vae_loss: 0.22381892800331116\n",
      "vae_loss: 0.22544649243354797\n",
      "vae_loss: 0.2178993821144104\n",
      "vae_loss: 0.2072782814502716\n",
      "vae_loss: 0.21402405202388763\n",
      "vae_loss: 0.222110778093338\n",
      "vae_loss: 0.3307083249092102\n",
      "vae_loss: 0.22892428934574127\n",
      "vae_loss: 0.20639964938163757\n"
     ]
    },
    {
     "name": "stderr",
     "output_type": "stream",
     "text": [
      "2023-01-02 20:14:21,599 (client:410)INFO: {'Role': 'Client #1', 'Round': 126, 'Results_raw': {'test_avg_loss': 3.778827, 'test_total': 113, 'test_imp_ratio': -308.83127, 'test_loss': 427.007507, 'val_avg_loss': 2.699752, 'val_total': 113, 'val_imp_ratio': -192.086155, 'val_loss': 305.072012}}\n",
      "2023-01-02 20:14:21,601 (monitor:513)INFO: current_best=-168.427335, should_save=False\n"
     ]
    },
    {
     "name": "stdout",
     "output_type": "stream",
     "text": [
      "vae_loss: 0.21550020575523376\n",
      "vae_loss: 0.2220461666584015\n",
      "vae_loss: 0.2235458791255951\n",
      "vae_loss: 0.22469910979270935\n",
      "vae_loss: 0.2026423215866089\n",
      "vae_loss: 0.21221531927585602\n",
      "vae_loss: 0.229282408952713\n",
      "vae_loss: 0.21499061584472656\n",
      "vae_loss: 0.23204587399959564\n",
      "vae_loss: 0.204507976770401\n",
      "vae_loss: 0.22615137696266174\n",
      "vae_loss: 0.22570949792861938\n"
     ]
    },
    {
     "name": "stderr",
     "output_type": "stream",
     "text": [
      "2023-01-02 20:14:21,889 (client:255)INFO: {'Role': 'Client #1', 'Round': 126, 'Results_raw': {'train_avg_loss': 3.651154, 'train_total': 901, 'train_imp_ratio': -295.018237, 'train_loss': 3289.68944}}\n",
      "2023-01-02 20:14:21,895 (server:496)INFO: {'Role': 'Server #', 'Round': 126, 'Results_avg': {'test_avg_loss': 3.778827, 'test_total': 113.0, 'test_imp_ratio': -308.83127, 'test_loss': 427.007507, 'val_avg_loss': 2.699752, 'val_total': 113.0, 'val_imp_ratio': -192.086155, 'val_loss': 305.072012}}\n",
      "2023-01-02 20:14:21,897 (monitor:513)INFO: current_best=-168.427335, should_save=False\n",
      "2023-01-02 20:14:21,898 (monitor:513)INFO: current_best=-168.427335, should_save=False\n",
      "2023-01-02 20:14:21,904 (server:323)INFO: Server #0: Starting evaluation at the end of round 126.\n",
      "2023-01-02 20:14:21,910 (server:330)INFO: ----------- Starting a new training round (Round #127) -------------\n",
      "2023-01-02 20:14:21,992 (client:410)INFO: {'Role': 'Client #1', 'Round': 127, 'Results_raw': {'test_avg_loss': 3.57101, 'test_total': 113, 'test_imp_ratio': -286.347493, 'test_loss': 403.524093, 'val_avg_loss': 2.929686, 'val_total': 113, 'val_imp_ratio': -216.962605, 'val_loss': 331.054469}}\n",
      "2023-01-02 20:14:21,993 (monitor:513)INFO: current_best=-168.427335, should_save=False\n"
     ]
    },
    {
     "name": "stdout",
     "output_type": "stream",
     "text": [
      "vae_loss: 0.21581010520458221\n",
      "vae_loss: 0.21098613739013672\n",
      "vae_loss: 0.2501412034034729\n",
      "vae_loss: 0.22739601135253906\n",
      "vae_loss: 0.19037091732025146\n",
      "vae_loss: 0.22950419783592224\n",
      "vae_loss: 0.20857830345630646\n",
      "vae_loss: 0.21487140655517578\n",
      "vae_loss: 0.22184893488883972\n",
      "vae_loss: 0.21587930619716644\n",
      "vae_loss: 0.21038958430290222\n",
      "vae_loss: 0.23045367002487183\n",
      "vae_loss: 0.2381010502576828\n",
      "vae_loss: 0.23825596272945404\n",
      "vae_loss: 0.20475268363952637\n",
      "vae_loss: 0.21622060239315033\n",
      "vae_loss: 0.21714848279953003\n",
      "vae_loss: 0.21019402146339417\n",
      "vae_loss: 0.21673721075057983\n",
      "vae_loss: 0.22970649600028992\n",
      "vae_loss: 0.23320609331130981\n"
     ]
    },
    {
     "name": "stderr",
     "output_type": "stream",
     "text": [
      "2023-01-02 20:14:22,282 (client:255)INFO: {'Role': 'Client #1', 'Round': 127, 'Results_raw': {'train_avg_loss': 3.526092, 'train_total': 901, 'train_imp_ratio': -281.487783, 'train_loss': 3177.008478}}\n",
      "2023-01-02 20:14:22,287 (server:496)INFO: {'Role': 'Server #', 'Round': 127, 'Results_avg': {'test_avg_loss': 3.57101, 'test_total': 113.0, 'test_imp_ratio': -286.347493, 'test_loss': 403.524093, 'val_avg_loss': 2.929686, 'val_total': 113.0, 'val_imp_ratio': -216.962605, 'val_loss': 331.054469}}\n",
      "2023-01-02 20:14:22,290 (monitor:513)INFO: current_best=-168.427335, should_save=False\n",
      "2023-01-02 20:14:22,291 (monitor:513)INFO: current_best=-168.427335, should_save=False\n",
      "2023-01-02 20:14:22,296 (server:323)INFO: Server #0: Starting evaluation at the end of round 127.\n",
      "2023-01-02 20:14:22,306 (server:330)INFO: ----------- Starting a new training round (Round #128) -------------\n",
      "2023-01-02 20:14:22,374 (client:410)INFO: {'Role': 'Client #1', 'Round': 128, 'Results_raw': {'test_avg_loss': 3.627452, 'test_total': 113, 'test_imp_ratio': -292.453954, 'test_loss': 409.902071, 'val_avg_loss': 2.715055, 'val_total': 113, 'val_imp_ratio': -193.741801, 'val_loss': 306.801269}}\n",
      "2023-01-02 20:14:22,375 (monitor:513)INFO: current_best=-168.427335, should_save=False\n"
     ]
    },
    {
     "name": "stdout",
     "output_type": "stream",
     "text": [
      "vae_loss: 0.20575964450836182\n",
      "vae_loss: 0.23179097473621368\n",
      "vae_loss: 0.2508927881717682\n",
      "vae_loss: 0.22683954238891602\n",
      "vae_loss: 0.2081184983253479\n",
      "vae_loss: 0.21435889601707458\n",
      "vae_loss: 0.2209511250257492\n",
      "vae_loss: 0.21611295640468597\n",
      "vae_loss: 0.22290274500846863\n",
      "vae_loss: 0.2034975290298462\n",
      "vae_loss: 0.2210470288991928\n",
      "vae_loss: 0.2238004505634308\n",
      "vae_loss: 0.2152331918478012\n",
      "vae_loss: 0.226279616355896\n",
      "vae_loss: 0.19993367791175842\n",
      "vae_loss: 0.23253802955150604\n",
      "vae_loss: 0.21501660346984863\n",
      "vae_loss: 0.2205638885498047\n",
      "vae_loss: 0.23916712403297424\n",
      "vae_loss: 0.22264467179775238\n"
     ]
    },
    {
     "name": "stderr",
     "output_type": "stream",
     "text": [
      "2023-01-02 20:14:22,680 (client:255)INFO: {'Role': 'Client #1', 'Round': 128, 'Results_raw': {'train_avg_loss': 3.637347, 'train_total': 901, 'train_imp_ratio': -293.524555, 'train_loss': 3277.250019}}\n",
      "2023-01-02 20:14:22,684 (server:496)INFO: {'Role': 'Server #', 'Round': 128, 'Results_avg': {'test_avg_loss': 3.627452, 'test_total': 113.0, 'test_imp_ratio': -292.453954, 'test_loss': 409.902071, 'val_avg_loss': 2.715055, 'val_total': 113.0, 'val_imp_ratio': -193.741801, 'val_loss': 306.801269}}\n",
      "2023-01-02 20:14:22,686 (monitor:513)INFO: current_best=-168.427335, should_save=False\n",
      "2023-01-02 20:14:22,686 (monitor:513)INFO: current_best=-168.427335, should_save=False\n",
      "2023-01-02 20:14:22,695 (server:323)INFO: Server #0: Starting evaluation at the end of round 128.\n",
      "2023-01-02 20:14:22,702 (server:330)INFO: ----------- Starting a new training round (Round #129) -------------\n",
      "2023-01-02 20:14:22,784 (client:410)INFO: {'Role': 'Client #1', 'Round': 129, 'Results_raw': {'test_avg_loss': 3.544002, 'test_total': 113, 'test_imp_ratio': -283.425517, 'test_loss': 400.472227, 'val_avg_loss': 2.940886, 'val_total': 113, 'val_imp_ratio': -218.174379, 'val_loss': 332.320101}}\n",
      "2023-01-02 20:14:22,786 (monitor:513)INFO: current_best=-168.427335, should_save=False\n"
     ]
    },
    {
     "name": "stdout",
     "output_type": "stream",
     "text": [
      "vae_loss: 0.2272212654352188\n",
      "vae_loss: 0.22596782445907593\n",
      "vae_loss: 0.2279571294784546\n",
      "vae_loss: 0.20601242780685425\n",
      "vae_loss: 0.2122165411710739\n",
      "vae_loss: 0.2206776738166809\n",
      "vae_loss: 0.23349130153656006\n",
      "vae_loss: 0.23900151252746582\n",
      "vae_loss: 0.22592636942863464\n",
      "vae_loss: 0.2104077935218811\n",
      "vae_loss: 0.22372326254844666\n",
      "vae_loss: 0.23025798797607422\n",
      "vae_loss: 0.22392454743385315\n",
      "vae_loss: 0.21896274387836456\n",
      "vae_loss: 0.20447173714637756\n",
      "vae_loss: 0.205355703830719\n",
      "vae_loss: 0.20750197768211365\n",
      "vae_loss: 0.2180650532245636\n",
      "vae_loss: 0.2118506133556366\n",
      "vae_loss: 0.22156760096549988\n",
      "vae_loss: 0.21282432973384857\n"
     ]
    },
    {
     "name": "stderr",
     "output_type": "stream",
     "text": [
      "2023-01-02 20:14:23,063 (client:255)INFO: {'Role': 'Client #1', 'Round': 129, 'Results_raw': {'train_avg_loss': 3.537327, 'train_total': 901, 'train_imp_ratio': -282.703297, 'train_loss': 3187.13155}}\n",
      "2023-01-02 20:14:23,067 (server:496)INFO: {'Role': 'Server #', 'Round': 129, 'Results_avg': {'test_avg_loss': 3.544002, 'test_total': 113.0, 'test_imp_ratio': -283.425517, 'test_loss': 400.472227, 'val_avg_loss': 2.940886, 'val_total': 113.0, 'val_imp_ratio': -218.174379, 'val_loss': 332.320101}}\n",
      "2023-01-02 20:14:23,068 (monitor:513)INFO: current_best=-168.427335, should_save=False\n",
      "2023-01-02 20:14:23,069 (monitor:513)INFO: current_best=-168.427335, should_save=False\n",
      "2023-01-02 20:14:23,075 (server:323)INFO: Server #0: Starting evaluation at the end of round 129.\n",
      "2023-01-02 20:14:23,084 (server:330)INFO: ----------- Starting a new training round (Round #130) -------------\n",
      "2023-01-02 20:14:23,160 (client:410)INFO: {'Role': 'Client #1', 'Round': 130, 'Results_raw': {'test_avg_loss': 3.387701, 'test_total': 113, 'test_imp_ratio': -266.515313, 'test_loss': 382.810177, 'val_avg_loss': 2.922974, 'val_total': 113, 'val_imp_ratio': -216.236515, 'val_loss': 330.296078}}\n",
      "2023-01-02 20:14:23,161 (monitor:513)INFO: current_best=-168.427335, should_save=False\n"
     ]
    },
    {
     "name": "stdout",
     "output_type": "stream",
     "text": [
      "vae_loss: 0.2265796959400177\n",
      "vae_loss: 0.20387297868728638\n",
      "vae_loss: 0.21148769557476044\n",
      "vae_loss: 0.2214987426996231\n",
      "vae_loss: 0.22381365299224854\n",
      "vae_loss: 0.22866718471050262\n",
      "vae_loss: 0.21898992359638214\n",
      "vae_loss: 0.21798166632652283\n",
      "vae_loss: 0.23487979173660278\n",
      "vae_loss: 0.2217520773410797\n",
      "vae_loss: 0.21105971932411194\n",
      "vae_loss: 0.2115786075592041\n"
     ]
    },
    {
     "name": "stderr",
     "output_type": "stream",
     "text": [
      "2023-01-02 20:14:23,462 (client:255)INFO: {'Role': 'Client #1', 'Round': 130, 'Results_raw': {'train_avg_loss': 3.628487, 'train_total': 901, 'train_imp_ratio': -292.566005, 'train_loss': 3269.267058}}\n",
      "2023-01-02 20:14:23,467 (server:496)INFO: {'Role': 'Server #', 'Round': 130, 'Results_avg': {'test_avg_loss': 3.387701, 'test_total': 113.0, 'test_imp_ratio': -266.515313, 'test_loss': 382.810177, 'val_avg_loss': 2.922974, 'val_total': 113.0, 'val_imp_ratio': -216.236515, 'val_loss': 330.296078}}\n",
      "2023-01-02 20:14:23,468 (monitor:513)INFO: current_best=-168.427335, should_save=False\n",
      "2023-01-02 20:14:23,469 (monitor:513)INFO: current_best=-168.427335, should_save=False\n",
      "2023-01-02 20:14:23,475 (server:323)INFO: Server #0: Starting evaluation at the end of round 130.\n",
      "2023-01-02 20:14:23,483 (server:330)INFO: ----------- Starting a new training round (Round #131) -------------\n"
     ]
    },
    {
     "name": "stdout",
     "output_type": "stream",
     "text": [
      "vae_loss: 0.21940977871418\n",
      "vae_loss: 0.2311287820339203\n",
      "vae_loss: 0.21302887797355652\n",
      "vae_loss: 0.214689701795578\n",
      "vae_loss: 0.1977415382862091\n",
      "vae_loss: 0.21603792905807495\n",
      "vae_loss: 0.2239234894514084\n",
      "vae_loss: 0.22803668677806854\n",
      "vae_loss: 0.20557180047035217\n"
     ]
    },
    {
     "name": "stderr",
     "output_type": "stream",
     "text": [
      "2023-01-02 20:14:23,568 (client:410)INFO: {'Role': 'Client #1', 'Round': 131, 'Results_raw': {'test_avg_loss': 3.609874, 'test_total': 113, 'test_imp_ratio': -290.552203, 'test_loss': 407.915743, 'val_avg_loss': 2.596802, 'val_total': 113, 'val_imp_ratio': -180.947909, 'val_loss': 293.438587}}\n",
      "2023-01-02 20:14:23,569 (monitor:513)INFO: current_best=-168.427335, should_save=False\n"
     ]
    },
    {
     "name": "stdout",
     "output_type": "stream",
     "text": [
      "vae_loss: 0.21366459131240845\n",
      "vae_loss: 0.2210310995578766\n",
      "vae_loss: 0.21974804997444153\n",
      "vae_loss: 0.22872772812843323\n",
      "vae_loss: 0.2093178778886795\n",
      "vae_loss: 0.2042364776134491\n",
      "vae_loss: 0.21276205778121948\n",
      "vae_loss: 0.21855731308460236\n",
      "vae_loss: 0.23212867975234985\n",
      "vae_loss: 0.22365374863147736\n",
      "vae_loss: 0.21568848192691803\n",
      "vae_loss: 0.22531764209270477\n",
      "vae_loss: 0.225569486618042\n",
      "vae_loss: 0.2279653549194336\n",
      "vae_loss: 0.20544585585594177\n",
      "vae_loss: 0.22257953882217407\n",
      "vae_loss: 0.18383803963661194\n"
     ]
    },
    {
     "name": "stderr",
     "output_type": "stream",
     "text": [
      "2023-01-02 20:15:07,787 (client:255)INFO: {'Role': 'Client #1', 'Round': 131, 'Results_raw': {'train_avg_loss': 3.714492, 'train_total': 901, 'train_imp_ratio': -301.870779, 'train_loss': 3346.757092}}\n",
      "2023-01-02 20:15:07,793 (server:496)INFO: {'Role': 'Server #', 'Round': 131, 'Results_avg': {'test_avg_loss': 3.609874, 'test_total': 113.0, 'test_imp_ratio': -290.552203, 'test_loss': 407.915743, 'val_avg_loss': 2.596802, 'val_total': 113.0, 'val_imp_ratio': -180.947909, 'val_loss': 293.438587}}\n",
      "2023-01-02 20:15:07,794 (monitor:513)INFO: current_best=-168.427335, should_save=False\n",
      "2023-01-02 20:15:07,795 (monitor:513)INFO: current_best=-168.427335, should_save=False\n",
      "2023-01-02 20:15:07,801 (server:323)INFO: Server #0: Starting evaluation at the end of round 131.\n",
      "2023-01-02 20:15:07,809 (server:330)INFO: ----------- Starting a new training round (Round #132) -------------\n",
      "2023-01-02 20:15:07,879 (client:410)INFO: {'Role': 'Client #1', 'Round': 132, 'Results_raw': {'test_avg_loss': 3.432706, 'test_total': 113, 'test_imp_ratio': -271.384412, 'test_loss': 387.895767, 'val_avg_loss': 2.400627, 'val_total': 113, 'val_imp_ratio': -159.723754, 'val_loss': 271.270809}}\n",
      "2023-01-02 20:15:07,881 (monitor:513)INFO: current_best=-159.723754, should_save=True\n",
      "2023-01-02 20:15:07,882 (client:431)INFO: Client: #1, val_imp_ratio: -159.723754. model saved at exp/test_dir/Graph-DT-FedAvg_gin_on_graph-dt_lr0.1_lstep1_/sub_exp_20230102200809/model1.pth\n"
     ]
    },
    {
     "name": "stdout",
     "output_type": "stream",
     "text": [
      "vae_loss: 0.22700192034244537\n",
      "vae_loss: 0.20584920048713684\n",
      "vae_loss: 0.21411007642745972\n",
      "vae_loss: 0.21894919872283936\n",
      "vae_loss: 0.20929621160030365\n",
      "vae_loss: 0.20876044034957886\n",
      "vae_loss: 0.22477740049362183\n",
      "vae_loss: 0.20935732126235962\n",
      "vae_loss: 0.2207222878932953\n",
      "vae_loss: 0.2219805121421814\n"
     ]
    },
    {
     "name": "stderr",
     "output_type": "stream",
     "text": [
      "2023-01-02 20:15:08,199 (client:255)INFO: {'Role': 'Client #1', 'Round': 132, 'Results_raw': {'train_avg_loss': 3.417783, 'train_total': 901, 'train_imp_ratio': -269.769856, 'train_loss': 3079.422462}}\n",
      "2023-01-02 20:15:08,203 (server:496)INFO: {'Role': 'Server #', 'Round': 132, 'Results_avg': {'test_avg_loss': 3.432706, 'test_total': 113.0, 'test_imp_ratio': -271.384412, 'test_loss': 387.895767, 'val_avg_loss': 2.400627, 'val_total': 113.0, 'val_imp_ratio': -159.723754, 'val_loss': 271.270809}}\n",
      "2023-01-02 20:15:08,205 (monitor:513)INFO: current_best=-168.427335, should_save=False\n",
      "2023-01-02 20:15:08,206 (monitor:513)INFO: current_best=-159.723754, should_save=True\n",
      "2023-01-02 20:15:08,212 (server:323)INFO: Server #0: Starting evaluation at the end of round 132.\n",
      "2023-01-02 20:15:08,218 (server:330)INFO: ----------- Starting a new training round (Round #133) -------------\n"
     ]
    },
    {
     "name": "stdout",
     "output_type": "stream",
     "text": [
      "vae_loss: 0.2301771640777588\n",
      "vae_loss: 0.2342471182346344\n",
      "vae_loss: 0.21989169716835022\n",
      "vae_loss: 0.2212682068347931\n",
      "vae_loss: 0.22435104846954346\n",
      "vae_loss: 0.20989041030406952\n",
      "vae_loss: 0.21345645189285278\n",
      "vae_loss: 0.2164078950881958\n",
      "vae_loss: 0.22364941239356995\n"
     ]
    },
    {
     "name": "stderr",
     "output_type": "stream",
     "text": [
      "2023-01-02 20:15:08,306 (client:410)INFO: {'Role': 'Client #1', 'Round': 133, 'Results_raw': {'test_avg_loss': 3.613122, 'test_total': 113, 'test_imp_ratio': -290.903575, 'test_loss': 408.28273, 'val_avg_loss': 2.663586, 'val_total': 113, 'val_imp_ratio': -188.173361, 'val_loss': 300.985232}}\n",
      "2023-01-02 20:15:08,307 (monitor:513)INFO: current_best=-159.723754, should_save=False\n"
     ]
    },
    {
     "name": "stdout",
     "output_type": "stream",
     "text": [
      "vae_loss: 0.2258819043636322\n",
      "vae_loss: 0.2040083110332489\n",
      "vae_loss: 0.21327771246433258\n",
      "vae_loss: 0.22039681673049927\n",
      "vae_loss: 0.20067496597766876\n",
      "vae_loss: 0.22452113032341003\n",
      "vae_loss: 0.21249857544898987\n",
      "vae_loss: 0.22605301439762115\n",
      "vae_loss: 0.19662973284721375\n",
      "vae_loss: 0.2280101776123047\n"
     ]
    },
    {
     "name": "stderr",
     "output_type": "stream",
     "text": [
      "2023-01-02 20:15:08,635 (client:255)INFO: {'Role': 'Client #1', 'Round': 133, 'Results_raw': {'train_avg_loss': 3.617869, 'train_total': 901, 'train_imp_ratio': -291.417196, 'train_loss': 3259.700195}}\n",
      "2023-01-02 20:15:08,639 (server:496)INFO: {'Role': 'Server #', 'Round': 133, 'Results_avg': {'test_avg_loss': 3.613122, 'test_total': 113.0, 'test_imp_ratio': -290.903575, 'test_loss': 408.28273, 'val_avg_loss': 2.663586, 'val_total': 113.0, 'val_imp_ratio': -188.173361, 'val_loss': 300.985232}}\n",
      "2023-01-02 20:15:08,641 (monitor:513)INFO: current_best=-159.723754, should_save=False\n",
      "2023-01-02 20:15:08,642 (monitor:513)INFO: current_best=-159.723754, should_save=False\n",
      "2023-01-02 20:15:08,647 (server:323)INFO: Server #0: Starting evaluation at the end of round 133.\n",
      "2023-01-02 20:15:08,654 (server:330)INFO: ----------- Starting a new training round (Round #134) -------------\n"
     ]
    },
    {
     "name": "stdout",
     "output_type": "stream",
     "text": [
      "vae_loss: 0.21635887026786804\n",
      "vae_loss: 0.2151455134153366\n",
      "vae_loss: 0.21466240286827087\n",
      "vae_loss: 0.22350835800170898\n",
      "vae_loss: 0.23699192702770233\n",
      "vae_loss: 0.21104955673217773\n",
      "vae_loss: 0.23130643367767334\n",
      "vae_loss: 0.21841883659362793\n",
      "vae_loss: 0.3269643485546112\n"
     ]
    },
    {
     "name": "stderr",
     "output_type": "stream",
     "text": [
      "2023-01-02 20:15:08,733 (client:410)INFO: {'Role': 'Client #1', 'Round': 134, 'Results_raw': {'test_avg_loss': 3.288295, 'test_total': 113, 'test_imp_ratio': -255.760553, 'test_loss': 371.577295, 'val_avg_loss': 2.930047, 'val_total': 113, 'val_imp_ratio': -217.001735, 'val_loss': 331.095308}}\n",
      "2023-01-02 20:15:08,734 (monitor:513)INFO: current_best=-159.723754, should_save=False\n"
     ]
    },
    {
     "name": "stdout",
     "output_type": "stream",
     "text": [
      "vae_loss: 0.225762739777565\n",
      "vae_loss: 0.20575448870658875\n",
      "vae_loss: 0.21357345581054688\n",
      "vae_loss: 0.2198738306760788\n",
      "vae_loss: 0.21264919638633728\n",
      "vae_loss: 0.2098851203918457\n",
      "vae_loss: 0.21861949563026428\n",
      "vae_loss: 0.22454720735549927\n",
      "vae_loss: 0.22906649112701416\n",
      "vae_loss: 0.21059507131576538\n",
      "vae_loss: 0.2242434322834015\n",
      "vae_loss: 0.22145134210586548\n"
     ]
    },
    {
     "name": "stderr",
     "output_type": "stream",
     "text": [
      "2023-01-02 20:15:09,027 (client:255)INFO: {'Role': 'Client #1', 'Round': 134, 'Results_raw': {'train_avg_loss': 3.50645, 'train_total': 901, 'train_imp_ratio': -279.362806, 'train_loss': 3159.31163}}\n",
      "2023-01-02 20:15:09,031 (server:496)INFO: {'Role': 'Server #', 'Round': 134, 'Results_avg': {'test_avg_loss': 3.288295, 'test_total': 113.0, 'test_imp_ratio': -255.760553, 'test_loss': 371.577295, 'val_avg_loss': 2.930047, 'val_total': 113.0, 'val_imp_ratio': -217.001735, 'val_loss': 331.095308}}\n",
      "2023-01-02 20:15:09,032 (monitor:513)INFO: current_best=-159.723754, should_save=False\n",
      "2023-01-02 20:15:09,034 (monitor:513)INFO: current_best=-159.723754, should_save=False\n",
      "2023-01-02 20:15:09,039 (server:323)INFO: Server #0: Starting evaluation at the end of round 134.\n",
      "2023-01-02 20:15:09,045 (server:330)INFO: ----------- Starting a new training round (Round #135) -------------\n"
     ]
    },
    {
     "name": "stdout",
     "output_type": "stream",
     "text": [
      "vae_loss: 0.20274551212787628\n",
      "vae_loss: 0.22954007983207703\n",
      "vae_loss: 0.2381068468093872\n",
      "vae_loss: 0.23097041249275208\n",
      "vae_loss: 0.20742453634738922\n",
      "vae_loss: 0.2036474347114563\n",
      "vae_loss: 0.19172167778015137\n",
      "vae_loss: 0.226284921169281\n",
      "vae_loss: 0.20430564880371094\n"
     ]
    },
    {
     "name": "stderr",
     "output_type": "stream",
     "text": [
      "2023-01-02 20:15:09,130 (client:410)INFO: {'Role': 'Client #1', 'Round': 135, 'Results_raw': {'test_avg_loss': 3.55761, 'test_total': 113, 'test_imp_ratio': -284.897713, 'test_loss': 402.00989, 'val_avg_loss': 2.741862, 'val_total': 113, 'val_imp_ratio': -196.64198, 'val_loss': 309.830375}}\n",
      "2023-01-02 20:15:09,132 (monitor:513)INFO: current_best=-159.723754, should_save=False\n"
     ]
    },
    {
     "name": "stdout",
     "output_type": "stream",
     "text": [
      "vae_loss: 0.2132495939731598\n",
      "vae_loss: 0.219156876206398\n",
      "vae_loss: 0.24410125613212585\n",
      "vae_loss: 0.21049456298351288\n",
      "vae_loss: 0.2159925401210785\n",
      "vae_loss: 0.2216523289680481\n",
      "vae_loss: 0.2326146811246872\n",
      "vae_loss: 0.21392877399921417\n",
      "vae_loss: 0.21535435318946838\n"
     ]
    },
    {
     "name": "stderr",
     "output_type": "stream",
     "text": [
      "2023-01-02 20:15:09,466 (client:255)INFO: {'Role': 'Client #1', 'Round': 135, 'Results_raw': {'train_avg_loss': 3.543646, 'train_total': 901, 'train_imp_ratio': -283.386954, 'train_loss': 3192.824745}}\n",
      "2023-01-02 20:15:09,475 (server:496)INFO: {'Role': 'Server #', 'Round': 135, 'Results_avg': {'test_avg_loss': 3.55761, 'test_total': 113.0, 'test_imp_ratio': -284.897713, 'test_loss': 402.00989, 'val_avg_loss': 2.741862, 'val_total': 113.0, 'val_imp_ratio': -196.64198, 'val_loss': 309.830375}}\n",
      "2023-01-02 20:15:09,476 (monitor:513)INFO: current_best=-159.723754, should_save=False\n",
      "2023-01-02 20:15:09,478 (monitor:513)INFO: current_best=-159.723754, should_save=False\n",
      "2023-01-02 20:15:09,487 (server:323)INFO: Server #0: Starting evaluation at the end of round 135.\n",
      "2023-01-02 20:15:09,495 (server:330)INFO: ----------- Starting a new training round (Round #136) -------------\n"
     ]
    },
    {
     "name": "stdout",
     "output_type": "stream",
     "text": [
      "vae_loss: 0.20599326491355896\n",
      "vae_loss: 0.22082576155662537\n",
      "vae_loss: 0.2064639925956726\n",
      "vae_loss: 0.2044469118118286\n",
      "vae_loss: 0.2190137803554535\n",
      "vae_loss: 0.22303295135498047\n",
      "vae_loss: 0.21250566840171814\n",
      "vae_loss: 0.26413553953170776\n"
     ]
    },
    {
     "name": "stderr",
     "output_type": "stream",
     "text": [
      "2023-01-02 20:15:09,586 (client:410)INFO: {'Role': 'Client #1', 'Round': 136, 'Results_raw': {'test_avg_loss': 3.649579, 'test_total': 113, 'test_imp_ratio': -294.847916, 'test_loss': 412.402423, 'val_avg_loss': 3.005092, 'val_total': 113, 'val_imp_ratio': -225.12089, 'val_loss': 339.575437}}\n",
      "2023-01-02 20:15:09,587 (monitor:513)INFO: current_best=-159.723754, should_save=False\n"
     ]
    },
    {
     "name": "stdout",
     "output_type": "stream",
     "text": [
      "vae_loss: 0.22280248999595642\n",
      "vae_loss: 0.20293784141540527\n",
      "vae_loss: 0.21167556941509247\n",
      "vae_loss: 0.21974799036979675\n",
      "vae_loss: 0.2111799418926239\n",
      "vae_loss: 0.19656643271446228\n",
      "vae_loss: 0.20728899538516998\n",
      "vae_loss: 0.22570748627185822\n",
      "vae_loss: 0.21437333524227142\n",
      "vae_loss: 0.2131350189447403\n",
      "vae_loss: 0.22729089856147766\n",
      "vae_loss: 0.2217131108045578\n"
     ]
    },
    {
     "name": "stderr",
     "output_type": "stream",
     "text": [
      "2023-01-02 20:15:09,866 (client:255)INFO: {'Role': 'Client #1', 'Round': 136, 'Results_raw': {'train_avg_loss': 3.431606, 'train_total': 901, 'train_imp_ratio': -271.265396, 'train_loss': 3091.876995}}\n",
      "2023-01-02 20:15:09,870 (server:496)INFO: {'Role': 'Server #', 'Round': 136, 'Results_avg': {'test_avg_loss': 3.649579, 'test_total': 113.0, 'test_imp_ratio': -294.847916, 'test_loss': 412.402423, 'val_avg_loss': 3.005092, 'val_total': 113.0, 'val_imp_ratio': -225.12089, 'val_loss': 339.575437}}\n",
      "2023-01-02 20:15:09,871 (monitor:513)INFO: current_best=-159.723754, should_save=False\n",
      "2023-01-02 20:15:09,872 (monitor:513)INFO: current_best=-159.723754, should_save=False\n",
      "2023-01-02 20:15:09,881 (server:323)INFO: Server #0: Starting evaluation at the end of round 136.\n",
      "2023-01-02 20:15:09,894 (server:330)INFO: ----------- Starting a new training round (Round #137) -------------\n"
     ]
    },
    {
     "name": "stdout",
     "output_type": "stream",
     "text": [
      "vae_loss: 0.22388513386249542\n",
      "vae_loss: 0.22900334000587463\n",
      "vae_loss: 0.2231273353099823\n",
      "vae_loss: 0.2363954782485962\n",
      "vae_loss: 0.21271418035030365\n",
      "vae_loss: 0.20030517876148224\n",
      "vae_loss: 0.20237478613853455\n",
      "vae_loss: 0.2247447967529297\n",
      "vae_loss: 0.2034052312374115\n",
      "vae_loss: 0.21197643876075745\n"
     ]
    },
    {
     "name": "stderr",
     "output_type": "stream",
     "text": [
      "2023-01-02 20:15:09,970 (client:410)INFO: {'Role': 'Client #1', 'Round': 137, 'Results_raw': {'test_avg_loss': 3.135495, 'test_total': 113, 'test_imp_ratio': -239.229192, 'test_loss': 354.31099, 'val_avg_loss': 2.78271, 'val_total': 113, 'val_imp_ratio': -201.061352, 'val_loss': 314.446221}}\n",
      "2023-01-02 20:15:09,971 (monitor:513)INFO: current_best=-159.723754, should_save=False\n"
     ]
    },
    {
     "name": "stdout",
     "output_type": "stream",
     "text": [
      "vae_loss: 0.21691113710403442\n",
      "vae_loss: 0.20309484004974365\n",
      "vae_loss: 0.21872159838676453\n",
      "vae_loss: 0.2173609882593155\n",
      "vae_loss: 0.19883927702903748\n",
      "vae_loss: 0.21819719672203064\n",
      "vae_loss: 0.22959831357002258\n",
      "vae_loss: 0.22900420427322388\n",
      "vae_loss: 0.21498018503189087\n",
      "vae_loss: 0.22993646562099457\n",
      "vae_loss: 0.21812677383422852\n"
     ]
    },
    {
     "name": "stderr",
     "output_type": "stream",
     "text": [
      "2023-01-02 20:15:10,266 (client:255)INFO: {'Role': 'Client #1', 'Round': 137, 'Results_raw': {'train_avg_loss': 3.486304, 'train_total': 901, 'train_imp_ratio': -277.183119, 'train_loss': 3141.159527}}\n",
      "2023-01-02 20:15:10,271 (server:496)INFO: {'Role': 'Server #', 'Round': 137, 'Results_avg': {'test_avg_loss': 3.135495, 'test_total': 113.0, 'test_imp_ratio': -239.229192, 'test_loss': 354.31099, 'val_avg_loss': 2.78271, 'val_total': 113.0, 'val_imp_ratio': -201.061352, 'val_loss': 314.446221}}\n",
      "2023-01-02 20:15:10,272 (monitor:513)INFO: current_best=-159.723754, should_save=False\n",
      "2023-01-02 20:15:10,272 (monitor:513)INFO: current_best=-159.723754, should_save=False\n",
      "2023-01-02 20:15:10,279 (server:323)INFO: Server #0: Starting evaluation at the end of round 137.\n",
      "2023-01-02 20:15:10,285 (server:330)INFO: ----------- Starting a new training round (Round #138) -------------\n",
      "2023-01-02 20:15:10,354 (client:410)INFO: {'Role': 'Client #1', 'Round': 138, 'Results_raw': {'test_avg_loss': 3.174594, 'test_total': 113, 'test_imp_ratio': -243.459233, 'test_loss': 358.729097, 'val_avg_loss': 2.495358, 'val_total': 113, 'val_imp_ratio': -169.972812, 'val_loss': 281.97549}}\n",
      "2023-01-02 20:15:10,355 (monitor:513)INFO: current_best=-159.723754, should_save=False\n"
     ]
    },
    {
     "name": "stdout",
     "output_type": "stream",
     "text": [
      "vae_loss: 0.21374869346618652\n",
      "vae_loss: 0.20860937237739563\n",
      "vae_loss: 0.227749764919281\n",
      "vae_loss: 0.21577145159244537\n",
      "vae_loss: 0.1547360122203827\n",
      "vae_loss: 0.22383294999599457\n",
      "vae_loss: 0.20346376299858093\n",
      "vae_loss: 0.2113708257675171\n",
      "vae_loss: 0.2170814722776413\n",
      "vae_loss: 0.21963700652122498\n",
      "vae_loss: 0.21891972422599792\n",
      "vae_loss: 0.22881317138671875\n",
      "vae_loss: 0.2071826457977295\n",
      "vae_loss: 0.20605796575546265\n",
      "vae_loss: 0.2391219139099121\n",
      "vae_loss: 0.21002459526062012\n",
      "vae_loss: 0.22364211082458496\n",
      "vae_loss: 0.21232901513576508\n",
      "vae_loss: 0.23099547624588013\n",
      "vae_loss: 0.21072709560394287\n",
      "vae_loss: 0.23741883039474487\n",
      "vae_loss: 0.2076718509197235\n"
     ]
    },
    {
     "name": "stderr",
     "output_type": "stream",
     "text": [
      "2023-01-02 20:15:10,650 (client:255)INFO: {'Role': 'Client #1', 'Round': 138, 'Results_raw': {'train_avg_loss': 3.552863, 'train_total': 901, 'train_imp_ratio': -284.384144, 'train_loss': 3201.129128}}\n",
      "2023-01-02 20:15:10,653 (server:496)INFO: {'Role': 'Server #', 'Round': 138, 'Results_avg': {'test_avg_loss': 3.174594, 'test_total': 113.0, 'test_imp_ratio': -243.459233, 'test_loss': 358.729097, 'val_avg_loss': 2.495358, 'val_total': 113.0, 'val_imp_ratio': -169.972812, 'val_loss': 281.97549}}\n",
      "2023-01-02 20:15:10,654 (monitor:513)INFO: current_best=-159.723754, should_save=False\n",
      "2023-01-02 20:15:10,655 (monitor:513)INFO: current_best=-159.723754, should_save=False\n",
      "2023-01-02 20:15:10,660 (server:323)INFO: Server #0: Starting evaluation at the end of round 138.\n",
      "2023-01-02 20:15:10,667 (server:330)INFO: ----------- Starting a new training round (Round #139) -------------\n",
      "2023-01-02 20:15:10,754 (client:410)INFO: {'Role': 'Client #1', 'Round': 139, 'Results_raw': {'test_avg_loss': 3.27556, 'test_total': 113, 'test_imp_ratio': -254.38274, 'test_loss': 370.138241, 'val_avg_loss': 2.559267, 'val_total': 113, 'val_imp_ratio': -176.887054, 'val_loss': 289.197189}}\n",
      "2023-01-02 20:15:10,756 (monitor:513)INFO: current_best=-159.723754, should_save=False\n"
     ]
    },
    {
     "name": "stdout",
     "output_type": "stream",
     "text": [
      "vae_loss: 0.1918310523033142\n",
      "vae_loss: 0.19603115320205688\n",
      "vae_loss: 0.2243824005126953\n",
      "vae_loss: 0.20421883463859558\n",
      "vae_loss: 0.2096463143825531\n",
      "vae_loss: 0.21927201747894287\n",
      "vae_loss: 0.21870025992393494\n",
      "vae_loss: 0.23719064891338348\n",
      "vae_loss: 0.2198290228843689\n",
      "vae_loss: 0.20216605067253113\n",
      "vae_loss: 0.20979760587215424\n",
      "vae_loss: 0.22340115904808044\n",
      "vae_loss: 0.21056124567985535\n",
      "vae_loss: 0.21849840879440308\n",
      "vae_loss: 0.2057008445262909\n",
      "vae_loss: 0.20915193855762482\n",
      "vae_loss: 0.21558800339698792\n",
      "vae_loss: 0.21632614731788635\n",
      "vae_loss: 0.2188808023929596\n",
      "vae_loss: 0.23185208439826965\n"
     ]
    },
    {
     "name": "stderr",
     "output_type": "stream",
     "text": [
      "2023-01-02 20:15:11,052 (client:255)INFO: {'Role': 'Client #1', 'Round': 139, 'Results_raw': {'train_avg_loss': 3.583159, 'train_total': 901, 'train_imp_ratio': -287.661955, 'train_loss': 3228.42663}}\n",
      "2023-01-02 20:15:11,056 (server:496)INFO: {'Role': 'Server #', 'Round': 139, 'Results_avg': {'test_avg_loss': 3.27556, 'test_total': 113.0, 'test_imp_ratio': -254.38274, 'test_loss': 370.138241, 'val_avg_loss': 2.559267, 'val_total': 113.0, 'val_imp_ratio': -176.887054, 'val_loss': 289.197189}}\n",
      "2023-01-02 20:15:11,057 (monitor:513)INFO: current_best=-159.723754, should_save=False\n",
      "2023-01-02 20:15:11,057 (monitor:513)INFO: current_best=-159.723754, should_save=False\n",
      "2023-01-02 20:15:11,064 (server:323)INFO: Server #0: Starting evaluation at the end of round 139.\n",
      "2023-01-02 20:15:11,071 (server:330)INFO: ----------- Starting a new training round (Round #140) -------------\n",
      "2023-01-02 20:15:11,168 (client:410)INFO: {'Role': 'Client #1', 'Round': 140, 'Results_raw': {'test_avg_loss': 3.539151, 'test_total': 113, 'test_imp_ratio': -282.900754, 'test_loss': 399.924087, 'val_avg_loss': 2.799693, 'val_total': 113, 'val_imp_ratio': -202.898746, 'val_loss': 316.365333}}\n",
      "2023-01-02 20:15:11,170 (monitor:513)INFO: current_best=-159.723754, should_save=False\n"
     ]
    },
    {
     "name": "stdout",
     "output_type": "stream",
     "text": [
      "vae_loss: 0.18225498497486115\n",
      "vae_loss: 0.2238135039806366\n",
      "vae_loss: 0.20334723591804504\n",
      "vae_loss: 0.2113737016916275\n",
      "vae_loss: 0.21672144532203674\n",
      "vae_loss: 0.2309064418077469\n",
      "vae_loss: 0.20258785784244537\n",
      "vae_loss: 0.20176473259925842\n",
      "vae_loss: 0.24467575550079346\n",
      "vae_loss: 0.2085523158311844\n",
      "vae_loss: 0.21988962590694427\n",
      "vae_loss: 0.21144625544548035\n",
      "vae_loss: 0.23892223834991455\n",
      "vae_loss: 0.20879599452018738\n",
      "vae_loss: 0.19391238689422607\n",
      "vae_loss: 0.21461082994937897\n",
      "vae_loss: 0.22377929091453552\n",
      "vae_loss: 0.2101777195930481\n",
      "vae_loss: 0.21466806530952454\n"
     ]
    },
    {
     "name": "stderr",
     "output_type": "stream",
     "text": [
      "2023-01-02 20:15:11,479 (client:255)INFO: {'Role': 'Client #1', 'Round': 140, 'Results_raw': {'train_avg_loss': 3.403597, 'train_total': 901, 'train_imp_ratio': -268.235084, 'train_loss': 3066.640936}}\n",
      "2023-01-02 20:15:11,483 (server:496)INFO: {'Role': 'Server #', 'Round': 140, 'Results_avg': {'test_avg_loss': 3.539151, 'test_total': 113.0, 'test_imp_ratio': -282.900754, 'test_loss': 399.924087, 'val_avg_loss': 2.799693, 'val_total': 113.0, 'val_imp_ratio': -202.898746, 'val_loss': 316.365333}}\n",
      "2023-01-02 20:15:11,484 (monitor:513)INFO: current_best=-159.723754, should_save=False\n",
      "2023-01-02 20:15:11,485 (monitor:513)INFO: current_best=-159.723754, should_save=False\n",
      "2023-01-02 20:15:11,490 (server:323)INFO: Server #0: Starting evaluation at the end of round 140.\n",
      "2023-01-02 20:15:11,497 (server:330)INFO: ----------- Starting a new training round (Round #141) -------------\n",
      "2023-01-02 20:15:11,579 (client:410)INFO: {'Role': 'Client #1', 'Round': 141, 'Results_raw': {'test_avg_loss': 3.51107, 'test_total': 113, 'test_imp_ratio': -279.862549, 'test_loss': 396.750869, 'val_avg_loss': 2.977928, 'val_total': 113, 'val_imp_ratio': -222.181993, 'val_loss': 336.505889}}\n",
      "2023-01-02 20:15:11,582 (monitor:513)INFO: current_best=-159.723754, should_save=False\n"
     ]
    },
    {
     "name": "stdout",
     "output_type": "stream",
     "text": [
      "vae_loss: 0.23769204318523407\n",
      "vae_loss: 0.2243157923221588\n",
      "vae_loss: 0.20148181915283203\n",
      "vae_loss: 0.20972144603729248\n",
      "vae_loss: 0.2167399376630783\n",
      "vae_loss: 0.2238183319568634\n",
      "vae_loss: 0.21117249131202698\n",
      "vae_loss: 0.21686820685863495\n",
      "vae_loss: 0.2031184285879135\n",
      "vae_loss: 0.2256413996219635\n",
      "vae_loss: 0.21465547382831573\n",
      "vae_loss: 0.22465336322784424\n",
      "vae_loss: 0.19663499295711517\n",
      "vae_loss: 0.22437268495559692\n",
      "vae_loss: 0.19905266165733337\n",
      "vae_loss: 0.2215699553489685\n",
      "vae_loss: 0.21736720204353333\n",
      "vae_loss: 0.23596987128257751\n",
      "vae_loss: 0.208833247423172\n",
      "vae_loss: 0.1914817988872528\n"
     ]
    },
    {
     "name": "stderr",
     "output_type": "stream",
     "text": [
      "2023-01-02 20:15:11,874 (client:255)INFO: {'Role': 'Client #1', 'Round': 141, 'Results_raw': {'train_avg_loss': 3.463079, 'train_total': 901, 'train_imp_ratio': -274.670502, 'train_loss': 3120.234417}}\n",
      "2023-01-02 20:15:11,880 (server:496)INFO: {'Role': 'Server #', 'Round': 141, 'Results_avg': {'test_avg_loss': 3.51107, 'test_total': 113.0, 'test_imp_ratio': -279.862549, 'test_loss': 396.750869, 'val_avg_loss': 2.977928, 'val_total': 113.0, 'val_imp_ratio': -222.181993, 'val_loss': 336.505889}}\n",
      "2023-01-02 20:15:11,881 (monitor:513)INFO: current_best=-159.723754, should_save=False\n",
      "2023-01-02 20:15:11,883 (monitor:513)INFO: current_best=-159.723754, should_save=False\n",
      "2023-01-02 20:15:11,888 (server:323)INFO: Server #0: Starting evaluation at the end of round 141.\n",
      "2023-01-02 20:15:11,900 (server:330)INFO: ----------- Starting a new training round (Round #142) -------------\n",
      "2023-01-02 20:15:11,971 (client:410)INFO: {'Role': 'Client #1', 'Round': 142, 'Results_raw': {'test_avg_loss': 3.350086, 'test_total': 113, 'test_imp_ratio': -262.445766, 'test_loss': 378.559762, 'val_avg_loss': 2.925154, 'val_total': 113, 'val_imp_ratio': -216.472328, 'val_loss': 330.54238}}\n",
      "2023-01-02 20:15:11,973 (monitor:513)INFO: current_best=-159.723754, should_save=False\n"
     ]
    },
    {
     "name": "stdout",
     "output_type": "stream",
     "text": [
      "vae_loss: 0.2244439721107483\n",
      "vae_loss: 0.20077845454216003\n",
      "vae_loss: 0.20970261096954346\n",
      "vae_loss: 0.2169245481491089\n",
      "vae_loss: 0.21000972390174866\n",
      "vae_loss: 0.2276332527399063\n",
      "vae_loss: 0.20857402682304382\n",
      "vae_loss: 0.21675771474838257\n",
      "vae_loss: 0.21859794855117798\n",
      "vae_loss: 0.23352262377738953\n",
      "vae_loss: 0.21171261370182037\n",
      "vae_loss: 0.22209838032722473\n"
     ]
    },
    {
     "name": "stderr",
     "output_type": "stream",
     "text": [
      "2023-01-02 20:15:12,258 (client:255)INFO: {'Role': 'Client #1', 'Round': 142, 'Results_raw': {'train_avg_loss': 3.488967, 'train_total': 901, 'train_imp_ratio': -277.471321, 'train_loss': 3143.559521}}\n",
      "2023-01-02 20:15:12,263 (server:496)INFO: {'Role': 'Server #', 'Round': 142, 'Results_avg': {'test_avg_loss': 3.350086, 'test_total': 113.0, 'test_imp_ratio': -262.445766, 'test_loss': 378.559762, 'val_avg_loss': 2.925154, 'val_total': 113.0, 'val_imp_ratio': -216.472328, 'val_loss': 330.54238}}\n",
      "2023-01-02 20:15:12,264 (monitor:513)INFO: current_best=-159.723754, should_save=False\n",
      "2023-01-02 20:15:12,265 (monitor:513)INFO: current_best=-159.723754, should_save=False\n",
      "2023-01-02 20:15:12,271 (server:323)INFO: Server #0: Starting evaluation at the end of round 142.\n",
      "2023-01-02 20:15:12,277 (server:330)INFO: ----------- Starting a new training round (Round #143) -------------\n"
     ]
    },
    {
     "name": "stdout",
     "output_type": "stream",
     "text": [
      "vae_loss: 0.20466271042823792\n",
      "vae_loss: 0.20544302463531494\n",
      "vae_loss: 0.21453407406806946\n",
      "vae_loss: 0.2015416920185089\n",
      "vae_loss: 0.21052628755569458\n",
      "vae_loss: 0.22094230353832245\n",
      "vae_loss: 0.25014904141426086\n",
      "vae_loss: 0.22338902950286865\n",
      "vae_loss: 0.20256629586219788\n"
     ]
    },
    {
     "name": "stderr",
     "output_type": "stream",
     "text": [
      "2023-01-02 20:15:12,374 (client:410)INFO: {'Role': 'Client #1', 'Round': 143, 'Results_raw': {'test_avg_loss': 3.179922, 'test_total': 113, 'test_imp_ratio': -244.035714, 'test_loss': 359.331217, 'val_avg_loss': 2.779841, 'val_total': 113, 'val_imp_ratio': -200.750941, 'val_loss': 314.12205}}\n",
      "2023-01-02 20:15:12,376 (monitor:513)INFO: current_best=-159.723754, should_save=False\n"
     ]
    },
    {
     "name": "stdout",
     "output_type": "stream",
     "text": [
      "vae_loss: 0.20989680290222168\n",
      "vae_loss: 0.21790894865989685\n",
      "vae_loss: 0.22206450998783112\n",
      "vae_loss: 0.20569562911987305\n",
      "vae_loss: 0.2192183881998062\n",
      "vae_loss: 0.218278169631958\n",
      "vae_loss: 0.21299102902412415\n",
      "vae_loss: 0.22140514850616455\n",
      "vae_loss: 0.2179616093635559\n",
      "vae_loss: 0.20626306533813477\n",
      "vae_loss: 0.20279350876808167\n",
      "vae_loss: 0.21642935276031494\n"
     ]
    },
    {
     "name": "stderr",
     "output_type": "stream",
     "text": [
      "2023-01-02 20:15:12,631 (client:255)INFO: {'Role': 'Client #1', 'Round': 143, 'Results_raw': {'train_avg_loss': 3.426268, 'train_total': 901, 'train_imp_ratio': -270.687883, 'train_loss': 3087.067532}}\n",
      "2023-01-02 20:15:12,635 (server:496)INFO: {'Role': 'Server #', 'Round': 143, 'Results_avg': {'test_avg_loss': 3.179922, 'test_total': 113.0, 'test_imp_ratio': -244.035714, 'test_loss': 359.331217, 'val_avg_loss': 2.779841, 'val_total': 113.0, 'val_imp_ratio': -200.750941, 'val_loss': 314.12205}}\n",
      "2023-01-02 20:15:12,636 (monitor:513)INFO: current_best=-159.723754, should_save=False\n",
      "2023-01-02 20:15:12,637 (monitor:513)INFO: current_best=-159.723754, should_save=False\n",
      "2023-01-02 20:15:12,643 (server:323)INFO: Server #0: Starting evaluation at the end of round 143.\n",
      "2023-01-02 20:15:12,650 (server:330)INFO: ----------- Starting a new training round (Round #144) -------------\n",
      "2023-01-02 20:15:12,731 (client:410)INFO: {'Role': 'Client #1', 'Round': 144, 'Results_raw': {'test_avg_loss': 3.274563, 'test_total': 113, 'test_imp_ratio': -254.274945, 'test_loss': 370.025661, 'val_avg_loss': 2.63257, 'val_total': 113, 'val_imp_ratio': -184.817677, 'val_loss': 297.480357}}\n",
      "2023-01-02 20:15:12,732 (monitor:513)INFO: current_best=-159.723754, should_save=False\n"
     ]
    },
    {
     "name": "stdout",
     "output_type": "stream",
     "text": [
      "vae_loss: 0.2059342861175537\n",
      "vae_loss: 0.21663489937782288\n",
      "vae_loss: 0.2103223353624344\n",
      "vae_loss: 0.22708021104335785\n",
      "vae_loss: 0.24118399620056152\n",
      "vae_loss: 0.219654843211174\n",
      "vae_loss: 0.2017025649547577\n",
      "vae_loss: 0.208603173494339\n",
      "vae_loss: 0.21520200371742249\n",
      "vae_loss: 0.21301111578941345\n",
      "vae_loss: 0.21472087502479553\n",
      "vae_loss: 0.21179111301898956\n",
      "vae_loss: 0.21177978813648224\n",
      "vae_loss: 0.22983291745185852\n",
      "vae_loss: 0.20725513994693756\n",
      "vae_loss: 0.20737534761428833\n",
      "vae_loss: 0.22278621792793274\n",
      "vae_loss: 0.19968262314796448\n",
      "vae_loss: 0.2397448569536209\n",
      "vae_loss: 0.21757753193378448\n",
      "vae_loss: 0.2093621790409088\n"
     ]
    },
    {
     "name": "stderr",
     "output_type": "stream",
     "text": [
      "2023-01-02 20:15:13,036 (client:255)INFO: {'Role': 'Client #1', 'Round': 144, 'Results_raw': {'train_avg_loss': 3.505411, 'train_total': 901, 'train_imp_ratio': -279.250316, 'train_loss': 3158.375088}}\n",
      "2023-01-02 20:15:13,041 (server:496)INFO: {'Role': 'Server #', 'Round': 144, 'Results_avg': {'test_avg_loss': 3.274563, 'test_total': 113.0, 'test_imp_ratio': -254.274945, 'test_loss': 370.025661, 'val_avg_loss': 2.63257, 'val_total': 113.0, 'val_imp_ratio': -184.817677, 'val_loss': 297.480357}}\n",
      "2023-01-02 20:15:13,042 (monitor:513)INFO: current_best=-159.723754, should_save=False\n",
      "2023-01-02 20:15:13,043 (monitor:513)INFO: current_best=-159.723754, should_save=False\n",
      "2023-01-02 20:15:13,052 (server:323)INFO: Server #0: Starting evaluation at the end of round 144.\n",
      "2023-01-02 20:15:13,060 (server:330)INFO: ----------- Starting a new training round (Round #145) -------------\n",
      "2023-01-02 20:15:13,152 (client:410)INFO: {'Role': 'Client #1', 'Round': 145, 'Results_raw': {'test_avg_loss': 3.307584, 'test_total': 113, 'test_imp_ratio': -257.847457, 'test_loss': 373.757005, 'val_avg_loss': 2.892379, 'val_total': 113, 'val_imp_ratio': -212.92641, 'val_loss': 326.838823}}\n",
      "2023-01-02 20:15:13,154 (monitor:513)INFO: current_best=-159.723754, should_save=False\n"
     ]
    },
    {
     "name": "stdout",
     "output_type": "stream",
     "text": [
      "vae_loss: 0.2037767469882965\n",
      "vae_loss: 0.20312222838401794\n",
      "vae_loss: 0.20685744285583496\n",
      "vae_loss: 0.2222757637500763\n",
      "vae_loss: 0.20201027393341064\n",
      "vae_loss: 0.207644522190094\n",
      "vae_loss: 0.21490353345870972\n",
      "vae_loss: 0.21874195337295532\n",
      "vae_loss: 0.20902816951274872\n",
      "vae_loss: 0.2078922986984253\n",
      "vae_loss: 0.20951762795448303\n",
      "vae_loss: 0.21739841997623444\n",
      "vae_loss: 0.20589077472686768\n",
      "vae_loss: 0.23298895359039307\n",
      "vae_loss: 0.1994347870349884\n",
      "vae_loss: 0.21449187397956848\n",
      "vae_loss: 0.2015313059091568\n",
      "vae_loss: 0.21650978922843933\n",
      "vae_loss: 0.22557547688484192\n"
     ]
    },
    {
     "name": "stderr",
     "output_type": "stream",
     "text": [
      "2023-01-02 20:15:13,450 (client:255)INFO: {'Role': 'Client #1', 'Round': 145, 'Results_raw': {'train_avg_loss': 3.507197, 'train_total': 901, 'train_imp_ratio': -279.443568, 'train_loss': 3159.9844}}\n",
      "2023-01-02 20:15:13,456 (server:496)INFO: {'Role': 'Server #', 'Round': 145, 'Results_avg': {'test_avg_loss': 3.307584, 'test_total': 113.0, 'test_imp_ratio': -257.847457, 'test_loss': 373.757005, 'val_avg_loss': 2.892379, 'val_total': 113.0, 'val_imp_ratio': -212.92641, 'val_loss': 326.838823}}\n",
      "2023-01-02 20:15:13,457 (monitor:513)INFO: current_best=-159.723754, should_save=False\n",
      "2023-01-02 20:15:13,458 (monitor:513)INFO: current_best=-159.723754, should_save=False\n",
      "2023-01-02 20:15:13,465 (server:323)INFO: Server #0: Starting evaluation at the end of round 145.\n",
      "2023-01-02 20:15:13,471 (server:330)INFO: ----------- Starting a new training round (Round #146) -------------\n",
      "2023-01-02 20:15:13,555 (client:410)INFO: {'Role': 'Client #1', 'Round': 146, 'Results_raw': {'test_avg_loss': 3.389265, 'test_total': 113, 'test_imp_ratio': -266.684602, 'test_loss': 382.986995, 'val_avg_loss': 2.827738, 'val_total': 113, 'val_imp_ratio': -205.932979, 'val_loss': 319.534436}}\n",
      "2023-01-02 20:15:13,557 (monitor:513)INFO: current_best=-159.723754, should_save=False\n"
     ]
    },
    {
     "name": "stdout",
     "output_type": "stream",
     "text": [
      "vae_loss: 0.21568161249160767\n",
      "vae_loss: 0.22011971473693848\n",
      "vae_loss: 0.25904369354248047\n",
      "vae_loss: 0.22104014456272125\n",
      "vae_loss: 0.20155785977840424\n",
      "vae_loss: 0.20876431465148926\n",
      "vae_loss: 0.21455401182174683\n",
      "vae_loss: 0.2184937745332718\n",
      "vae_loss: 0.2093188762664795\n",
      "vae_loss: 0.21037572622299194\n",
      "vae_loss: 0.2056129276752472\n",
      "vae_loss: 0.20530226826667786\n",
      "vae_loss: 0.21407084167003632\n",
      "vae_loss: 0.21843422949314117\n",
      "vae_loss: 0.21580404043197632\n",
      "vae_loss: 0.22097666561603546\n",
      "vae_loss: 0.21251830458641052\n",
      "vae_loss: 0.22220444679260254\n",
      "vae_loss: 0.21012189984321594\n",
      "vae_loss: 0.20324867963790894\n",
      "vae_loss: 0.22332096099853516\n"
     ]
    },
    {
     "name": "stderr",
     "output_type": "stream",
     "text": [
      "2023-01-02 20:15:13,840 (client:255)INFO: {'Role': 'Client #1', 'Round': 146, 'Results_raw': {'train_avg_loss': 3.456992, 'train_total': 901, 'train_imp_ratio': -274.011865, 'train_loss': 3114.749552}}\n",
      "2023-01-02 20:15:13,844 (server:496)INFO: {'Role': 'Server #', 'Round': 146, 'Results_avg': {'test_avg_loss': 3.389265, 'test_total': 113.0, 'test_imp_ratio': -266.684602, 'test_loss': 382.986995, 'val_avg_loss': 2.827738, 'val_total': 113.0, 'val_imp_ratio': -205.932979, 'val_loss': 319.534436}}\n",
      "2023-01-02 20:15:13,845 (monitor:513)INFO: current_best=-159.723754, should_save=False\n",
      "2023-01-02 20:15:13,847 (monitor:513)INFO: current_best=-159.723754, should_save=False\n",
      "2023-01-02 20:15:13,859 (server:323)INFO: Server #0: Starting evaluation at the end of round 146.\n",
      "2023-01-02 20:15:13,867 (server:330)INFO: ----------- Starting a new training round (Round #147) -------------\n",
      "2023-01-02 20:15:13,954 (client:410)INFO: {'Role': 'Client #1', 'Round': 147, 'Results_raw': {'test_avg_loss': 3.149486, 'test_total': 113, 'test_imp_ratio': -240.742788, 'test_loss': 355.891872, 'val_avg_loss': 2.756477, 'val_total': 113, 'val_imp_ratio': -198.223234, 'val_loss': 311.481927}}\n",
      "2023-01-02 20:15:13,956 (monitor:513)INFO: current_best=-159.723754, should_save=False\n"
     ]
    },
    {
     "name": "stdout",
     "output_type": "stream",
     "text": [
      "vae_loss: 0.16615107655525208\n",
      "vae_loss: 0.2203720510005951\n",
      "vae_loss: 0.19953568279743195\n",
      "vae_loss: 0.20699968934059143\n",
      "vae_loss: 0.2139374315738678\n",
      "vae_loss: 0.2182048261165619\n",
      "vae_loss: 0.20366039872169495\n",
      "vae_loss: 0.22440606355667114\n",
      "vae_loss: 0.22315391898155212\n",
      "vae_loss: 0.21078640222549438\n",
      "vae_loss: 0.21491634845733643\n",
      "vae_loss: 0.19119074940681458\n",
      "vae_loss: 0.21637968719005585\n",
      "vae_loss: 0.19770698249340057\n",
      "vae_loss: 0.21873700618743896\n",
      "vae_loss: 0.20813590288162231\n",
      "vae_loss: 0.22904561460018158\n",
      "vae_loss: 0.2205592691898346\n",
      "vae_loss: 0.21732309460639954\n",
      "vae_loss: 0.23644545674324036\n"
     ]
    },
    {
     "name": "stderr",
     "output_type": "stream",
     "text": [
      "2023-01-02 20:15:14,244 (client:255)INFO: {'Role': 'Client #1', 'Round': 147, 'Results_raw': {'train_avg_loss': 3.557249, 'train_total': 901, 'train_imp_ratio': -284.858634, 'train_loss': 3205.081035}}\n",
      "2023-01-02 20:15:14,248 (server:496)INFO: {'Role': 'Server #', 'Round': 147, 'Results_avg': {'test_avg_loss': 3.149486, 'test_total': 113.0, 'test_imp_ratio': -240.742788, 'test_loss': 355.891872, 'val_avg_loss': 2.756477, 'val_total': 113.0, 'val_imp_ratio': -198.223234, 'val_loss': 311.481927}}\n",
      "2023-01-02 20:15:14,249 (monitor:513)INFO: current_best=-159.723754, should_save=False\n",
      "2023-01-02 20:15:14,250 (monitor:513)INFO: current_best=-159.723754, should_save=False\n",
      "2023-01-02 20:15:14,256 (server:323)INFO: Server #0: Starting evaluation at the end of round 147.\n",
      "2023-01-02 20:15:14,262 (server:330)INFO: ----------- Starting a new training round (Round #148) -------------\n",
      "2023-01-02 20:15:14,347 (client:410)INFO: {'Role': 'Client #1', 'Round': 148, 'Results_raw': {'test_avg_loss': 3.230695, 'test_total': 113, 'test_imp_ratio': -249.528834, 'test_loss': 365.068526, 'val_avg_loss': 3.18445, 'val_total': 113, 'val_imp_ratio': -244.525629, 'val_loss': 359.842891}}\n",
      "2023-01-02 20:15:14,349 (monitor:513)INFO: current_best=-159.723754, should_save=False\n"
     ]
    },
    {
     "name": "stdout",
     "output_type": "stream",
     "text": [
      "vae_loss: 0.2227611541748047\n",
      "vae_loss: 0.20086923241615295\n",
      "vae_loss: 0.207606241106987\n",
      "vae_loss: 0.2148313820362091\n",
      "vae_loss: 0.2221640944480896\n",
      "vae_loss: 0.21346551179885864\n",
      "vae_loss: 0.22097644209861755\n",
      "vae_loss: 0.22173550724983215\n",
      "vae_loss: 0.21531376242637634\n",
      "vae_loss: 0.20096293091773987\n",
      "vae_loss: 0.2131199836730957\n"
     ]
    },
    {
     "name": "stderr",
     "output_type": "stream",
     "text": [
      "2023-01-02 20:15:14,652 (client:255)INFO: {'Role': 'Client #1', 'Round': 148, 'Results_raw': {'train_avg_loss': 3.470628, 'train_total': 901, 'train_imp_ratio': -275.487156, 'train_loss': 3127.035625}}\n",
      "2023-01-02 20:15:14,656 (server:496)INFO: {'Role': 'Server #', 'Round': 148, 'Results_avg': {'test_avg_loss': 3.230695, 'test_total': 113.0, 'test_imp_ratio': -249.528834, 'test_loss': 365.068526, 'val_avg_loss': 3.18445, 'val_total': 113.0, 'val_imp_ratio': -244.525629, 'val_loss': 359.842891}}\n",
      "2023-01-02 20:15:14,657 (monitor:513)INFO: current_best=-159.723754, should_save=False\n",
      "2023-01-02 20:15:14,658 (monitor:513)INFO: current_best=-159.723754, should_save=False\n",
      "2023-01-02 20:15:14,663 (server:323)INFO: Server #0: Starting evaluation at the end of round 148.\n",
      "2023-01-02 20:15:14,670 (server:330)INFO: ----------- Starting a new training round (Round #149) -------------\n"
     ]
    },
    {
     "name": "stdout",
     "output_type": "stream",
     "text": [
      "vae_loss: 0.2075742781162262\n",
      "vae_loss: 0.20695747435092926\n",
      "vae_loss: 0.21912088990211487\n",
      "vae_loss: 0.2189095914363861\n",
      "vae_loss: 0.20656932890415192\n",
      "vae_loss: 0.22291487455368042\n",
      "vae_loss: 0.19964174926280975\n",
      "vae_loss: 0.2544265687465668\n"
     ]
    },
    {
     "name": "stderr",
     "output_type": "stream",
     "text": [
      "2023-01-02 20:15:14,764 (client:410)INFO: {'Role': 'Client #1', 'Round': 149, 'Results_raw': {'test_avg_loss': 3.459831, 'test_total': 113, 'test_imp_ratio': -274.319078, 'test_loss': 390.960912, 'val_avg_loss': 2.947894, 'val_total': 113, 'val_imp_ratio': -218.932556, 'val_loss': 333.111971}}\n",
      "2023-01-02 20:15:14,765 (monitor:513)INFO: current_best=-159.723754, should_save=False\n"
     ]
    },
    {
     "name": "stdout",
     "output_type": "stream",
     "text": [
      "vae_loss: 0.2214411199092865\n",
      "vae_loss: 0.19849011301994324\n",
      "vae_loss: 0.2071448564529419\n",
      "vae_loss: 0.21472308039665222\n",
      "vae_loss: 0.22045789659023285\n",
      "vae_loss: 0.21129339933395386\n",
      "vae_loss: 0.2093839943408966\n",
      "vae_loss: 0.21404841542243958\n",
      "vae_loss: 0.19946922361850739\n",
      "vae_loss: 0.22345736622810364\n",
      "vae_loss: 0.22566822171211243\n"
     ]
    },
    {
     "name": "stderr",
     "output_type": "stream",
     "text": [
      "2023-01-02 20:15:15,079 (client:255)INFO: {'Role': 'Client #1', 'Round': 149, 'Results_raw': {'train_avg_loss': 3.579452, 'train_total': 901, 'train_imp_ratio': -287.260928, 'train_loss': 3225.086649}}\n",
      "2023-01-02 20:15:15,084 (server:496)INFO: {'Role': 'Server #', 'Round': 149, 'Results_avg': {'test_avg_loss': 3.459831, 'test_total': 113.0, 'test_imp_ratio': -274.319078, 'test_loss': 390.960912, 'val_avg_loss': 2.947894, 'val_total': 113.0, 'val_imp_ratio': -218.932556, 'val_loss': 333.111971}}\n",
      "2023-01-02 20:15:15,085 (monitor:513)INFO: current_best=-159.723754, should_save=False\n",
      "2023-01-02 20:15:15,086 (monitor:513)INFO: current_best=-159.723754, should_save=False\n",
      "2023-01-02 20:15:15,091 (server:323)INFO: Server #0: Starting evaluation at the end of round 149.\n",
      "2023-01-02 20:15:15,097 (server:330)INFO: ----------- Starting a new training round (Round #150) -------------\n"
     ]
    },
    {
     "name": "stdout",
     "output_type": "stream",
     "text": [
      "vae_loss: 0.22905012965202332\n",
      "vae_loss: 0.1974395513534546\n",
      "vae_loss: 0.20904505252838135\n",
      "vae_loss: 0.20654669404029846\n",
      "vae_loss: 0.21409161388874054\n",
      "vae_loss: 0.19473254680633545\n",
      "vae_loss: 0.228700652718544\n",
      "vae_loss: 0.19979065656661987\n"
     ]
    },
    {
     "name": "stderr",
     "output_type": "stream",
     "text": [
      "2023-01-02 20:15:15,188 (client:410)INFO: {'Role': 'Client #1', 'Round': 150, 'Results_raw': {'test_avg_loss': 3.516571, 'test_total': 113, 'test_imp_ratio': -280.457705, 'test_loss': 397.372482, 'val_avg_loss': 3.003638, 'val_total': 113, 'val_imp_ratio': -224.963517, 'val_loss': 339.411104}}\n",
      "2023-01-02 20:15:15,190 (monitor:513)INFO: current_best=-159.723754, should_save=False\n"
     ]
    },
    {
     "name": "stdout",
     "output_type": "stream",
     "text": [
      "vae_loss: 0.21990622580051422\n",
      "vae_loss: 0.1993965208530426\n",
      "vae_loss: 0.2069559395313263\n",
      "vae_loss: 0.2132662683725357\n",
      "vae_loss: 0.2039026916027069\n",
      "vae_loss: 0.21800126135349274\n",
      "vae_loss: 0.20913812518119812\n",
      "vae_loss: 0.21375612914562225\n",
      "vae_loss: 0.19050419330596924\n",
      "vae_loss: 0.2120000123977661\n",
      "vae_loss: 0.1923535168170929\n"
     ]
    },
    {
     "name": "stderr",
     "output_type": "stream",
     "text": [
      "2023-01-02 20:15:15,498 (client:255)INFO: {'Role': 'Client #1', 'Round': 150, 'Results_raw': {'train_avg_loss': 3.654529, 'train_total': 901, 'train_imp_ratio': -295.383384, 'train_loss': 3292.730217}}\n",
      "2023-01-02 20:15:15,503 (server:496)INFO: {'Role': 'Server #', 'Round': 150, 'Results_avg': {'test_avg_loss': 3.516571, 'test_total': 113.0, 'test_imp_ratio': -280.457705, 'test_loss': 397.372482, 'val_avg_loss': 3.003638, 'val_total': 113.0, 'val_imp_ratio': -224.963517, 'val_loss': 339.411104}}\n",
      "2023-01-02 20:15:15,504 (monitor:513)INFO: current_best=-159.723754, should_save=False\n",
      "2023-01-02 20:15:15,505 (monitor:513)INFO: current_best=-159.723754, should_save=False\n",
      "2023-01-02 20:15:15,511 (server:323)INFO: Server #0: Starting evaluation at the end of round 150.\n",
      "2023-01-02 20:15:15,518 (server:330)INFO: ----------- Starting a new training round (Round #151) -------------\n"
     ]
    },
    {
     "name": "stdout",
     "output_type": "stream",
     "text": [
      "vae_loss: 0.21239086985588074\n",
      "vae_loss: 0.23260746896266937\n",
      "vae_loss: 0.22228768467903137\n",
      "vae_loss: 0.20877325534820557\n",
      "vae_loss: 0.2079446017742157\n",
      "vae_loss: 0.24805215001106262\n",
      "vae_loss: 0.21087537705898285\n",
      "vae_loss: 0.18905125558376312\n"
     ]
    },
    {
     "name": "stderr",
     "output_type": "stream",
     "text": [
      "2023-01-02 20:15:15,610 (client:410)INFO: {'Role': 'Client #1', 'Round': 151, 'Results_raw': {'test_avg_loss': 3.653222, 'test_total': 113, 'test_imp_ratio': -295.241953, 'test_loss': 412.814037, 'val_avg_loss': 2.799854, 'val_total': 113, 'val_imp_ratio': -202.916157, 'val_loss': 316.383482}}\n",
      "2023-01-02 20:15:15,612 (monitor:513)INFO: current_best=-159.723754, should_save=False\n"
     ]
    },
    {
     "name": "stdout",
     "output_type": "stream",
     "text": [
      "vae_loss: 0.21929602324962616\n",
      "vae_loss: 0.19904014468193054\n",
      "vae_loss: 0.20629540085792542\n",
      "vae_loss: 0.21258097887039185\n",
      "vae_loss: 0.2229708433151245\n",
      "vae_loss: 0.20962806046009064\n",
      "vae_loss: 0.23030979931354523\n",
      "vae_loss: 0.2006671130657196\n",
      "vae_loss: 0.2232961505651474\n",
      "vae_loss: 0.22333505749702454\n",
      "vae_loss: 0.2123461663722992\n",
      "vae_loss: 0.22416584193706512\n"
     ]
    },
    {
     "name": "stderr",
     "output_type": "stream",
     "text": [
      "2023-01-02 20:15:15,900 (client:255)INFO: {'Role': 'Client #1', 'Round': 151, 'Results_raw': {'train_avg_loss': 3.522345, 'train_total': 901, 'train_imp_ratio': -281.082448, 'train_loss': 3173.632921}}\n",
      "2023-01-02 20:15:15,904 (server:496)INFO: {'Role': 'Server #', 'Round': 151, 'Results_avg': {'test_avg_loss': 3.653222, 'test_total': 113.0, 'test_imp_ratio': -295.241953, 'test_loss': 412.814037, 'val_avg_loss': 2.799854, 'val_total': 113.0, 'val_imp_ratio': -202.916157, 'val_loss': 316.383482}}\n",
      "2023-01-02 20:15:15,905 (monitor:513)INFO: current_best=-159.723754, should_save=False\n",
      "2023-01-02 20:15:15,906 (monitor:513)INFO: current_best=-159.723754, should_save=False\n",
      "2023-01-02 20:15:15,911 (server:323)INFO: Server #0: Starting evaluation at the end of round 151.\n",
      "2023-01-02 20:15:15,918 (server:330)INFO: ----------- Starting a new training round (Round #152) -------------\n"
     ]
    },
    {
     "name": "stdout",
     "output_type": "stream",
     "text": [
      "vae_loss: 0.19032958149909973\n",
      "vae_loss: 0.21808220446109772\n",
      "vae_loss: 0.2056247740983963\n",
      "vae_loss: 0.20596128702163696\n",
      "vae_loss: 0.19265243411064148\n",
      "vae_loss: 0.19687050580978394\n",
      "vae_loss: 0.21732157468795776\n",
      "vae_loss: 0.21908605098724365\n",
      "vae_loss: 0.19759967923164368\n"
     ]
    },
    {
     "name": "stderr",
     "output_type": "stream",
     "text": [
      "2023-01-02 20:15:15,996 (client:410)INFO: {'Role': 'Client #1', 'Round': 152, 'Results_raw': {'test_avg_loss': 3.649954, 'test_total': 113, 'test_imp_ratio': -294.888439, 'test_loss': 412.444809, 'val_avg_loss': 2.655211, 'val_total': 113, 'val_imp_ratio': -187.267252, 'val_loss': 300.038882}}\n",
      "2023-01-02 20:15:15,999 (monitor:513)INFO: current_best=-159.723754, should_save=False\n"
     ]
    },
    {
     "name": "stdout",
     "output_type": "stream",
     "text": [
      "vae_loss: 0.20482292771339417\n",
      "vae_loss: 0.21367591619491577\n",
      "vae_loss: 0.1977020800113678\n",
      "vae_loss: 0.1974528431892395\n",
      "vae_loss: 0.19355115294456482\n",
      "vae_loss: 0.21148920059204102\n",
      "vae_loss: 0.21765880286693573\n",
      "vae_loss: 0.22262772917747498\n",
      "vae_loss: 0.21550270915031433\n",
      "vae_loss: 0.20942820608615875\n",
      "vae_loss: 0.23272515833377838\n"
     ]
    },
    {
     "name": "stderr",
     "output_type": "stream",
     "text": [
      "2023-01-02 20:15:16,285 (client:255)INFO: {'Role': 'Client #1', 'Round': 152, 'Results_raw': {'train_avg_loss': 3.558582, 'train_total': 901, 'train_imp_ratio': -285.002903, 'train_loss': 3206.282383}}\n",
      "2023-01-02 20:15:16,289 (server:496)INFO: {'Role': 'Server #', 'Round': 152, 'Results_avg': {'test_avg_loss': 3.649954, 'test_total': 113.0, 'test_imp_ratio': -294.888439, 'test_loss': 412.444809, 'val_avg_loss': 2.655211, 'val_total': 113.0, 'val_imp_ratio': -187.267252, 'val_loss': 300.038882}}\n",
      "2023-01-02 20:15:16,290 (monitor:513)INFO: current_best=-159.723754, should_save=False\n",
      "2023-01-02 20:15:16,292 (monitor:513)INFO: current_best=-159.723754, should_save=False\n",
      "2023-01-02 20:15:16,300 (server:323)INFO: Server #0: Starting evaluation at the end of round 152.\n",
      "2023-01-02 20:15:16,309 (server:330)INFO: ----------- Starting a new training round (Round #153) -------------\n"
     ]
    },
    {
     "name": "stdout",
     "output_type": "stream",
     "text": [
      "vae_loss: 0.22011098265647888\n",
      "vae_loss: 0.22246332466602325\n",
      "vae_loss: 0.2024480700492859\n",
      "vae_loss: 0.21323350071907043\n",
      "vae_loss: 0.20105883479118347\n",
      "vae_loss: 0.24659423530101776\n",
      "vae_loss: 0.21804162859916687\n",
      "vae_loss: 0.19766966998577118\n"
     ]
    },
    {
     "name": "stderr",
     "output_type": "stream",
     "text": [
      "2023-01-02 20:15:16,410 (client:410)INFO: {'Role': 'Client #1', 'Round': 153, 'Results_raw': {'test_avg_loss': 3.558374, 'test_total': 113, 'test_imp_ratio': -284.980384, 'test_loss': 402.096216, 'val_avg_loss': 3.02065, 'val_total': 113, 'val_imp_ratio': -226.804136, 'val_loss': 341.333505}}\n",
      "2023-01-02 20:15:16,412 (monitor:513)INFO: current_best=-159.723754, should_save=False\n"
     ]
    },
    {
     "name": "stdout",
     "output_type": "stream",
     "text": [
      "vae_loss: 0.20619717240333557\n",
      "vae_loss: 0.2129887193441391\n",
      "vae_loss: 0.19758960604667664\n",
      "vae_loss: 0.21889185905456543\n",
      "vae_loss: 0.19425378739833832\n",
      "vae_loss: 0.21389010548591614\n",
      "vae_loss: 0.203212708234787\n",
      "vae_loss: 0.20405879616737366\n",
      "vae_loss: 0.2114916443824768\n",
      "vae_loss: 0.21538648009300232\n"
     ]
    },
    {
     "name": "stderr",
     "output_type": "stream",
     "text": [
      "2023-01-02 20:15:16,711 (client:255)INFO: {'Role': 'Client #1', 'Round': 153, 'Results_raw': {'train_avg_loss': 3.627653, 'train_total': 901, 'train_imp_ratio': -292.475647, 'train_loss': 3268.514905}}\n",
      "2023-01-02 20:15:16,715 (server:496)INFO: {'Role': 'Server #', 'Round': 153, 'Results_avg': {'test_avg_loss': 3.558374, 'test_total': 113.0, 'test_imp_ratio': -284.980384, 'test_loss': 402.096216, 'val_avg_loss': 3.02065, 'val_total': 113.0, 'val_imp_ratio': -226.804136, 'val_loss': 341.333505}}\n",
      "2023-01-02 20:15:16,716 (monitor:513)INFO: current_best=-159.723754, should_save=False\n",
      "2023-01-02 20:15:16,717 (monitor:513)INFO: current_best=-159.723754, should_save=False\n",
      "2023-01-02 20:15:16,724 (server:323)INFO: Server #0: Starting evaluation at the end of round 153.\n",
      "2023-01-02 20:15:16,732 (server:330)INFO: ----------- Starting a new training round (Round #154) -------------\n"
     ]
    },
    {
     "name": "stdout",
     "output_type": "stream",
     "text": [
      "vae_loss: 0.2121618092060089\n",
      "vae_loss: 0.21998050808906555\n",
      "vae_loss: 0.20424315333366394\n",
      "vae_loss: 0.2104770690202713\n",
      "vae_loss: 0.23993317782878876\n",
      "vae_loss: 0.21788905560970306\n",
      "vae_loss: 0.17655320465564728\n",
      "vae_loss: 0.22047439217567444\n",
      "vae_loss: 0.19786107540130615\n"
     ]
    },
    {
     "name": "stderr",
     "output_type": "stream",
     "text": [
      "2023-01-02 20:15:16,820 (client:410)INFO: {'Role': 'Client #1', 'Round': 154, 'Results_raw': {'test_avg_loss': 3.399537, 'test_total': 113, 'test_imp_ratio': -267.795829, 'test_loss': 384.147638, 'val_avg_loss': 2.646258, 'val_total': 113, 'val_imp_ratio': -186.298643, 'val_loss': 299.027193}}\n",
      "2023-01-02 20:15:16,821 (monitor:513)INFO: current_best=-159.723754, should_save=False\n"
     ]
    },
    {
     "name": "stdout",
     "output_type": "stream",
     "text": [
      "vae_loss: 0.20628732442855835\n",
      "vae_loss: 0.214673712849617\n",
      "vae_loss: 0.19605758786201477\n",
      "vae_loss: 0.21457234025001526\n",
      "vae_loss: 0.2215762734413147\n",
      "vae_loss: 0.20808325707912445\n",
      "vae_loss: 0.207889586687088\n",
      "vae_loss: 0.2127527892589569\n",
      "vae_loss: 0.211520254611969\n",
      "vae_loss: 0.20768886804580688\n",
      "vae_loss: 0.1950182020664215\n"
     ]
    },
    {
     "name": "stderr",
     "output_type": "stream",
     "text": [
      "2023-01-02 20:15:17,117 (client:255)INFO: {'Role': 'Client #1', 'Round': 154, 'Results_raw': {'train_avg_loss': 3.544678, 'train_total': 901, 'train_imp_ratio': -283.498619, 'train_loss': 3193.75462}}\n",
      "2023-01-02 20:15:17,122 (server:496)INFO: {'Role': 'Server #', 'Round': 154, 'Results_avg': {'test_avg_loss': 3.399537, 'test_total': 113.0, 'test_imp_ratio': -267.795829, 'test_loss': 384.147638, 'val_avg_loss': 2.646258, 'val_total': 113.0, 'val_imp_ratio': -186.298643, 'val_loss': 299.027193}}\n",
      "2023-01-02 20:15:17,123 (monitor:513)INFO: current_best=-159.723754, should_save=False\n",
      "2023-01-02 20:15:17,124 (monitor:513)INFO: current_best=-159.723754, should_save=False\n",
      "2023-01-02 20:15:17,130 (server:323)INFO: Server #0: Starting evaluation at the end of round 154.\n",
      "2023-01-02 20:15:17,138 (server:330)INFO: ----------- Starting a new training round (Round #155) -------------\n",
      "2023-01-02 20:15:17,213 (client:410)INFO: {'Role': 'Client #1', 'Round': 155, 'Results_raw': {'test_avg_loss': 3.371557, 'test_total': 113, 'test_imp_ratio': -264.76869, 'test_loss': 380.985959, 'val_avg_loss': 2.905389, 'val_total': 113, 'val_imp_ratio': -214.334016, 'val_loss': 328.308976}}\n",
      "2023-01-02 20:15:17,215 (monitor:513)INFO: current_best=-159.723754, should_save=False\n"
     ]
    },
    {
     "name": "stdout",
     "output_type": "stream",
     "text": [
      "vae_loss: 0.20842960476875305\n",
      "vae_loss: 0.21237292885780334\n",
      "vae_loss: 0.22740033268928528\n",
      "vae_loss: 0.21472883224487305\n",
      "vae_loss: 0.2196805626153946\n",
      "vae_loss: 0.2119145393371582\n",
      "vae_loss: 0.21989360451698303\n",
      "vae_loss: 0.19636431336402893\n",
      "vae_loss: 0.20347166061401367\n",
      "vae_loss: 0.2118779867887497\n",
      "vae_loss: 0.22032365202903748\n",
      "vae_loss: 0.2091718167066574\n",
      "vae_loss: 0.21570461988449097\n",
      "vae_loss: 0.20600491762161255\n",
      "vae_loss: 0.19214212894439697\n",
      "vae_loss: 0.1912711262702942\n",
      "vae_loss: 0.20497572422027588\n",
      "vae_loss: 0.20552387833595276\n",
      "vae_loss: 0.21809640526771545\n",
      "vae_loss: 0.21951135993003845\n",
      "vae_loss: 0.21204304695129395\n",
      "vae_loss: 0.22493045032024384\n"
     ]
    },
    {
     "name": "stderr",
     "output_type": "stream",
     "text": [
      "2023-01-02 20:15:17,503 (client:255)INFO: {'Role': 'Client #1', 'Round': 155, 'Results_raw': {'train_avg_loss': 3.496296, 'train_total': 901, 'train_imp_ratio': -278.264192, 'train_loss': 3150.162611}}\n",
      "2023-01-02 20:15:17,508 (server:496)INFO: {'Role': 'Server #', 'Round': 155, 'Results_avg': {'test_avg_loss': 3.371557, 'test_total': 113.0, 'test_imp_ratio': -264.76869, 'test_loss': 380.985959, 'val_avg_loss': 2.905389, 'val_total': 113.0, 'val_imp_ratio': -214.334016, 'val_loss': 328.308976}}\n",
      "2023-01-02 20:15:17,509 (monitor:513)INFO: current_best=-159.723754, should_save=False\n",
      "2023-01-02 20:15:17,510 (monitor:513)INFO: current_best=-159.723754, should_save=False\n",
      "2023-01-02 20:15:17,518 (server:323)INFO: Server #0: Starting evaluation at the end of round 155.\n",
      "2023-01-02 20:15:17,526 (server:330)INFO: ----------- Starting a new training round (Round #156) -------------\n",
      "2023-01-02 20:15:17,605 (client:410)INFO: {'Role': 'Client #1', 'Round': 156, 'Results_raw': {'test_avg_loss': 3.441056, 'test_total': 113, 'test_imp_ratio': -272.287787, 'test_loss': 388.839328, 'val_avg_loss': 2.612308, 'val_total': 113, 'val_imp_ratio': -182.625635, 'val_loss': 295.190844}}\n",
      "2023-01-02 20:15:17,606 (monitor:513)INFO: current_best=-159.723754, should_save=False\n"
     ]
    },
    {
     "name": "stdout",
     "output_type": "stream",
     "text": [
      "vae_loss: 0.21396005153656006\n",
      "vae_loss: 0.21278029680252075\n",
      "vae_loss: 0.18209829926490784\n",
      "vae_loss: 0.2174558788537979\n",
      "vae_loss: 0.19715633988380432\n",
      "vae_loss: 0.20510217547416687\n",
      "vae_loss: 0.212090864777565\n",
      "vae_loss: 0.21352601051330566\n",
      "vae_loss: 0.19599393010139465\n",
      "vae_loss: 0.23329660296440125\n",
      "vae_loss: 0.21383164823055267\n",
      "vae_loss: 0.20022505521774292\n",
      "vae_loss: 0.2093988060951233\n",
      "vae_loss: 0.22279751300811768\n",
      "vae_loss: 0.21254262328147888\n",
      "vae_loss: 0.19780495762825012\n",
      "vae_loss: 0.1911095678806305\n",
      "vae_loss: 0.2122105062007904\n",
      "vae_loss: 0.23025064170360565\n",
      "vae_loss: 0.1940920650959015\n"
     ]
    },
    {
     "name": "stderr",
     "output_type": "stream",
     "text": [
      "2023-01-02 20:15:17,908 (client:255)INFO: {'Role': 'Client #1', 'Round': 156, 'Results_raw': {'train_avg_loss': 3.46321, 'train_total': 901, 'train_imp_ratio': -274.684638, 'train_loss': 3120.352381}}\n",
      "2023-01-02 20:15:17,914 (server:496)INFO: {'Role': 'Server #', 'Round': 156, 'Results_avg': {'test_avg_loss': 3.441056, 'test_total': 113.0, 'test_imp_ratio': -272.287787, 'test_loss': 388.839328, 'val_avg_loss': 2.612308, 'val_total': 113.0, 'val_imp_ratio': -182.625635, 'val_loss': 295.190844}}\n",
      "2023-01-02 20:15:17,915 (monitor:513)INFO: current_best=-159.723754, should_save=False\n",
      "2023-01-02 20:15:17,916 (monitor:513)INFO: current_best=-159.723754, should_save=False\n",
      "2023-01-02 20:15:17,923 (server:323)INFO: Server #0: Starting evaluation at the end of round 156.\n",
      "2023-01-02 20:15:17,934 (server:330)INFO: ----------- Starting a new training round (Round #157) -------------\n",
      "2023-01-02 20:15:18,034 (client:410)INFO: {'Role': 'Client #1', 'Round': 157, 'Results_raw': {'test_avg_loss': 3.442123, 'test_total': 113, 'test_imp_ratio': -272.403243, 'test_loss': 388.959906, 'val_avg_loss': 2.651146, 'val_total': 113, 'val_imp_ratio': -186.82743, 'val_loss': 299.579498}}\n",
      "2023-01-02 20:15:18,036 (monitor:513)INFO: current_best=-159.723754, should_save=False\n"
     ]
    },
    {
     "name": "stdout",
     "output_type": "stream",
     "text": [
      "vae_loss: 0.2133888304233551\n",
      "vae_loss: 0.22455449402332306\n",
      "vae_loss: 0.21999850869178772\n",
      "vae_loss: 0.19678139686584473\n",
      "vae_loss: 0.20442485809326172\n",
      "vae_loss: 0.2109837532043457\n",
      "vae_loss: 0.20894238352775574\n",
      "vae_loss: 0.2003578096628189\n",
      "vae_loss: 0.21124067902565002\n",
      "vae_loss: 0.19759711623191833\n",
      "vae_loss: 0.22438360750675201\n",
      "vae_loss: 0.20431393384933472\n",
      "vae_loss: 0.21178936958312988\n",
      "vae_loss: 0.20912155508995056\n",
      "vae_loss: 0.21652516722679138\n",
      "vae_loss: 0.21089385449886322\n",
      "vae_loss: 0.2118237167596817\n",
      "vae_loss: 0.21334096789360046\n",
      "vae_loss: 0.2134542465209961\n"
     ]
    },
    {
     "name": "stderr",
     "output_type": "stream",
     "text": [
      "2023-01-02 20:15:18,311 (client:255)INFO: {'Role': 'Client #1', 'Round': 157, 'Results_raw': {'train_avg_loss': 3.483575, 'train_total': 901, 'train_imp_ratio': -276.887927, 'train_loss': 3138.701196}}\n",
      "2023-01-02 20:15:18,315 (server:496)INFO: {'Role': 'Server #', 'Round': 157, 'Results_avg': {'test_avg_loss': 3.442123, 'test_total': 113.0, 'test_imp_ratio': -272.403243, 'test_loss': 388.959906, 'val_avg_loss': 2.651146, 'val_total': 113.0, 'val_imp_ratio': -186.82743, 'val_loss': 299.579498}}\n",
      "2023-01-02 20:15:18,316 (monitor:513)INFO: current_best=-159.723754, should_save=False\n",
      "2023-01-02 20:15:18,317 (monitor:513)INFO: current_best=-159.723754, should_save=False\n",
      "2023-01-02 20:15:18,323 (server:323)INFO: Server #0: Starting evaluation at the end of round 157.\n",
      "2023-01-02 20:15:18,331 (server:330)INFO: ----------- Starting a new training round (Round #158) -------------\n",
      "2023-01-02 20:15:18,400 (client:410)INFO: {'Role': 'Client #1', 'Round': 158, 'Results_raw': {'test_avg_loss': 3.614347, 'test_total': 113, 'test_imp_ratio': -291.036082, 'test_loss': 408.421165, 'val_avg_loss': 2.722914, 'val_total': 113, 'val_imp_ratio': -194.592013, 'val_loss': 307.689271}}\n",
      "2023-01-02 20:15:18,402 (monitor:513)INFO: current_best=-159.723754, should_save=False\n"
     ]
    },
    {
     "name": "stdout",
     "output_type": "stream",
     "text": [
      "vae_loss: 0.21681790053844452\n",
      "vae_loss: 0.18940192461013794\n",
      "vae_loss: 0.21884849667549133\n",
      "vae_loss: 0.195089653134346\n",
      "vae_loss: 0.20393672585487366\n",
      "vae_loss: 0.211755633354187\n",
      "vae_loss: 0.20231541991233826\n",
      "vae_loss: 0.22003434598445892\n",
      "vae_loss: 0.2200694978237152\n",
      "vae_loss: 0.23102565109729767\n",
      "vae_loss: 0.206614688038826\n",
      "vae_loss: 0.2122710794210434\n",
      "vae_loss: 0.21091175079345703\n",
      "vae_loss: 0.2017369568347931\n",
      "vae_loss: 0.20771145820617676\n",
      "vae_loss: 0.20911657810211182\n",
      "vae_loss: 0.21453562378883362\n",
      "vae_loss: 0.19984526932239532\n",
      "vae_loss: 0.2013058215379715\n",
      "vae_loss: 0.20963165163993835\n",
      "vae_loss: 0.2528459429740906\n"
     ]
    },
    {
     "name": "stderr",
     "output_type": "stream",
     "text": [
      "2023-01-02 20:15:18,701 (client:255)INFO: {'Role': 'Client #1', 'Round': 158, 'Results_raw': {'train_avg_loss': 3.448713, 'train_total': 901, 'train_imp_ratio': -273.116203, 'train_loss': 3107.290827}}\n",
      "2023-01-02 20:15:18,705 (server:496)INFO: {'Role': 'Server #', 'Round': 158, 'Results_avg': {'test_avg_loss': 3.614347, 'test_total': 113.0, 'test_imp_ratio': -291.036082, 'test_loss': 408.421165, 'val_avg_loss': 2.722914, 'val_total': 113.0, 'val_imp_ratio': -194.592013, 'val_loss': 307.689271}}\n",
      "2023-01-02 20:15:18,706 (monitor:513)INFO: current_best=-159.723754, should_save=False\n",
      "2023-01-02 20:15:18,707 (monitor:513)INFO: current_best=-159.723754, should_save=False\n",
      "2023-01-02 20:15:18,712 (server:323)INFO: Server #0: Starting evaluation at the end of round 158.\n",
      "2023-01-02 20:15:18,718 (server:330)INFO: ----------- Starting a new training round (Round #159) -------------\n",
      "2023-01-02 20:15:18,794 (client:410)INFO: {'Role': 'Client #1', 'Round': 159, 'Results_raw': {'test_avg_loss': 3.345503, 'test_total': 113, 'test_imp_ratio': -261.949944, 'test_loss': 378.041877, 'val_avg_loss': 2.791151, 'val_total': 113, 'val_imp_ratio': -201.97458, 'val_loss': 315.400052}}\n",
      "2023-01-02 20:15:18,796 (monitor:513)INFO: current_best=-159.723754, should_save=False\n"
     ]
    },
    {
     "name": "stdout",
     "output_type": "stream",
     "text": [
      "vae_loss: 0.21934297680854797\n",
      "vae_loss: 0.19632810354232788\n",
      "vae_loss: 0.2047276794910431\n",
      "vae_loss: 0.21209336817264557\n",
      "vae_loss: 0.19197238981723785\n",
      "vae_loss: 0.21076589822769165\n",
      "vae_loss: 0.22431159019470215\n",
      "vae_loss: 0.20767635107040405\n",
      "vae_loss: 0.21110302209854126\n",
      "vae_loss: 0.20401592552661896\n",
      "vae_loss: 0.20691221952438354\n"
     ]
    },
    {
     "name": "stderr",
     "output_type": "stream",
     "text": [
      "2023-01-02 20:15:19,114 (client:255)INFO: {'Role': 'Client #1', 'Round': 159, 'Results_raw': {'train_avg_loss': 3.478897, 'train_total': 901, 'train_imp_ratio': -276.381761, 'train_loss': 3134.485918}}\n",
      "2023-01-02 20:15:19,118 (server:496)INFO: {'Role': 'Server #', 'Round': 159, 'Results_avg': {'test_avg_loss': 3.345503, 'test_total': 113.0, 'test_imp_ratio': -261.949944, 'test_loss': 378.041877, 'val_avg_loss': 2.791151, 'val_total': 113.0, 'val_imp_ratio': -201.97458, 'val_loss': 315.400052}}\n",
      "2023-01-02 20:15:19,119 (monitor:513)INFO: current_best=-159.723754, should_save=False\n",
      "2023-01-02 20:15:19,120 (monitor:513)INFO: current_best=-159.723754, should_save=False\n",
      "2023-01-02 20:15:19,125 (server:323)INFO: Server #0: Starting evaluation at the end of round 159.\n",
      "2023-01-02 20:15:19,131 (server:330)INFO: ----------- Starting a new training round (Round #160) -------------\n"
     ]
    },
    {
     "name": "stdout",
     "output_type": "stream",
     "text": [
      "vae_loss: 0.2228817492723465\n",
      "vae_loss: 0.2049720138311386\n",
      "vae_loss: 0.2232896387577057\n",
      "vae_loss: 0.21771128475666046\n",
      "vae_loss: 0.20453569293022156\n",
      "vae_loss: 0.20921368896961212\n",
      "vae_loss: 0.21543043851852417\n",
      "vae_loss: 0.15164944529533386\n"
     ]
    },
    {
     "name": "stderr",
     "output_type": "stream",
     "text": [
      "2023-01-02 20:15:19,214 (client:410)INFO: {'Role': 'Client #1', 'Round': 160, 'Results_raw': {'test_avg_loss': 2.864588, 'test_total': 113, 'test_imp_ratio': -209.919648, 'test_loss': 323.698393, 'val_avg_loss': 2.881541, 'val_total': 113, 'val_imp_ratio': -211.753895, 'val_loss': 325.614143}}\n",
      "2023-01-02 20:15:19,215 (monitor:513)INFO: current_best=-159.723754, should_save=False\n"
     ]
    },
    {
     "name": "stdout",
     "output_type": "stream",
     "text": [
      "vae_loss: 0.21994012594223022\n",
      "vae_loss: 0.1967652142047882\n",
      "vae_loss: 0.20447897911071777\n",
      "vae_loss: 0.2120564579963684\n",
      "vae_loss: 0.21208621561527252\n",
      "vae_loss: 0.21231651306152344\n",
      "vae_loss: 0.21829265356063843\n",
      "vae_loss: 0.20628264546394348\n",
      "vae_loss: 0.21668240427970886\n",
      "vae_loss: 0.20198078453540802\n",
      "vae_loss: 0.19960522651672363\n",
      "vae_loss: 0.20095014572143555\n"
     ]
    },
    {
     "name": "stderr",
     "output_type": "stream",
     "text": [
      "2023-01-02 20:15:19,482 (client:255)INFO: {'Role': 'Client #1', 'Round': 160, 'Results_raw': {'train_avg_loss': 3.5581, 'train_total': 901, 'train_imp_ratio': -284.95072, 'train_loss': 3205.847719}}\n",
      "2023-01-02 20:15:19,486 (server:496)INFO: {'Role': 'Server #', 'Round': 160, 'Results_avg': {'test_avg_loss': 2.864588, 'test_total': 113.0, 'test_imp_ratio': -209.919648, 'test_loss': 323.698393, 'val_avg_loss': 2.881541, 'val_total': 113.0, 'val_imp_ratio': -211.753895, 'val_loss': 325.614143}}\n",
      "2023-01-02 20:15:19,488 (monitor:513)INFO: current_best=-159.723754, should_save=False\n",
      "2023-01-02 20:15:19,488 (monitor:513)INFO: current_best=-159.723754, should_save=False\n",
      "2023-01-02 20:15:19,496 (server:323)INFO: Server #0: Starting evaluation at the end of round 160.\n",
      "2023-01-02 20:15:19,507 (server:330)INFO: ----------- Starting a new training round (Round #161) -------------\n"
     ]
    },
    {
     "name": "stdout",
     "output_type": "stream",
     "text": [
      "vae_loss: 0.21710354089736938\n",
      "vae_loss: 0.2194763422012329\n",
      "vae_loss: 0.20256993174552917\n",
      "vae_loss: 0.2192230224609375\n",
      "vae_loss: 0.20928823947906494\n",
      "vae_loss: 0.20963533222675323\n",
      "vae_loss: 0.23509196937084198\n",
      "vae_loss: 0.21885935962200165\n",
      "vae_loss: 0.19612255692481995\n"
     ]
    },
    {
     "name": "stderr",
     "output_type": "stream",
     "text": [
      "2023-01-02 20:15:19,586 (client:410)INFO: {'Role': 'Client #1', 'Round': 161, 'Results_raw': {'test_avg_loss': 3.356667, 'test_total': 113, 'test_imp_ratio': -263.15772, 'test_loss': 379.303352, 'val_avg_loss': 2.884411, 'val_total': 113, 'val_imp_ratio': -212.064409, 'val_loss': 325.938495}}\n",
      "2023-01-02 20:15:19,587 (monitor:513)INFO: current_best=-159.723754, should_save=False\n"
     ]
    },
    {
     "name": "stdout",
     "output_type": "stream",
     "text": [
      "vae_loss: 0.20495066046714783\n",
      "vae_loss: 0.21267461776733398\n",
      "vae_loss: 0.22084423899650574\n",
      "vae_loss: 0.2172107696533203\n",
      "vae_loss: 0.22554582357406616\n",
      "vae_loss: 0.21656689047813416\n",
      "vae_loss: 0.2198937088251114\n",
      "vae_loss: 0.20919005572795868\n",
      "vae_loss: 0.19661885499954224\n",
      "vae_loss: 0.20520472526550293\n",
      "vae_loss: 0.19977730512619019\n",
      "vae_loss: 0.19339147210121155\n"
     ]
    },
    {
     "name": "stderr",
     "output_type": "stream",
     "text": [
      "2023-01-02 20:15:19,892 (client:255)INFO: {'Role': 'Client #1', 'Round': 161, 'Results_raw': {'train_avg_loss': 3.532789, 'train_total': 901, 'train_imp_ratio': -282.21235, 'train_loss': 3183.042683}}\n",
      "2023-01-02 20:15:19,896 (server:496)INFO: {'Role': 'Server #', 'Round': 161, 'Results_avg': {'test_avg_loss': 3.356667, 'test_total': 113.0, 'test_imp_ratio': -263.15772, 'test_loss': 379.303352, 'val_avg_loss': 2.884411, 'val_total': 113.0, 'val_imp_ratio': -212.064409, 'val_loss': 325.938495}}\n",
      "2023-01-02 20:15:19,898 (monitor:513)INFO: current_best=-159.723754, should_save=False\n",
      "2023-01-02 20:15:19,899 (monitor:513)INFO: current_best=-159.723754, should_save=False\n",
      "2023-01-02 20:15:19,906 (server:323)INFO: Server #0: Starting evaluation at the end of round 161.\n",
      "2023-01-02 20:15:19,913 (server:330)INFO: ----------- Starting a new training round (Round #162) -------------\n"
     ]
    },
    {
     "name": "stdout",
     "output_type": "stream",
     "text": [
      "vae_loss: 0.2194780707359314\n",
      "vae_loss: 0.2181360125541687\n",
      "vae_loss: 0.22028115391731262\n",
      "vae_loss: 0.20455209910869598\n",
      "vae_loss: 0.2241910994052887\n",
      "vae_loss: 0.21842515468597412\n",
      "vae_loss: 0.19666653871536255\n",
      "vae_loss: 0.20576056838035583\n"
     ]
    },
    {
     "name": "stderr",
     "output_type": "stream",
     "text": [
      "2023-01-02 20:15:20,009 (client:410)INFO: {'Role': 'Client #1', 'Round': 162, 'Results_raw': {'test_avg_loss': 3.3078, 'test_total': 113, 'test_imp_ratio': -257.870904, 'test_loss': 373.781448, 'val_avg_loss': 2.790058, 'val_total': 113, 'val_imp_ratio': -201.856338, 'val_loss': 315.276573}}\n",
      "2023-01-02 20:15:20,011 (monitor:513)INFO: current_best=-159.723754, should_save=False\n"
     ]
    },
    {
     "name": "stdout",
     "output_type": "stream",
     "text": [
      "vae_loss: 0.2127915620803833\n",
      "vae_loss: 0.22716686129570007\n",
      "vae_loss: 0.2089785635471344\n",
      "vae_loss: 0.21004928648471832\n",
      "vae_loss: 0.20081745088100433\n",
      "vae_loss: 0.20370447635650635\n",
      "vae_loss: 0.20760726928710938\n",
      "vae_loss: 0.20172488689422607\n",
      "vae_loss: 0.22698019444942474\n",
      "vae_loss: 0.2186892032623291\n"
     ]
    },
    {
     "name": "stderr",
     "output_type": "stream",
     "text": [
      "2023-01-02 20:15:20,316 (client:255)INFO: {'Role': 'Client #1', 'Round': 162, 'Results_raw': {'train_avg_loss': 3.549263, 'train_total': 901, 'train_imp_ratio': -283.994673, 'train_loss': 3197.885903}}\n",
      "2023-01-02 20:15:20,319 (server:496)INFO: {'Role': 'Server #', 'Round': 162, 'Results_avg': {'test_avg_loss': 3.3078, 'test_total': 113.0, 'test_imp_ratio': -257.870904, 'test_loss': 373.781448, 'val_avg_loss': 2.790058, 'val_total': 113.0, 'val_imp_ratio': -201.856338, 'val_loss': 315.276573}}\n",
      "2023-01-02 20:15:20,320 (monitor:513)INFO: current_best=-159.723754, should_save=False\n",
      "2023-01-02 20:15:20,321 (monitor:513)INFO: current_best=-159.723754, should_save=False\n",
      "2023-01-02 20:15:20,326 (server:323)INFO: Server #0: Starting evaluation at the end of round 162.\n",
      "2023-01-02 20:15:20,333 (server:330)INFO: ----------- Starting a new training round (Round #163) -------------\n"
     ]
    },
    {
     "name": "stdout",
     "output_type": "stream",
     "text": [
      "vae_loss: 0.2268214374780655\n",
      "vae_loss: 0.1986694633960724\n",
      "vae_loss: 0.18706302344799042\n",
      "vae_loss: 0.21566733717918396\n",
      "vae_loss: 0.23510658740997314\n",
      "vae_loss: 0.15364891290664673\n",
      "vae_loss: 0.2206612080335617\n",
      "vae_loss: 0.19747570157051086\n",
      "vae_loss: 0.2064383327960968\n"
     ]
    },
    {
     "name": "stderr",
     "output_type": "stream",
     "text": [
      "2023-01-02 20:15:20,417 (client:410)INFO: {'Role': 'Client #1', 'Round': 163, 'Results_raw': {'test_avg_loss': 3.193522, 'test_total': 113, 'test_imp_ratio': -245.507084, 'test_loss': 360.867977, 'val_avg_loss': 2.575212, 'val_total': 113, 'val_imp_ratio': -178.612165, 'val_loss': 290.999006}}\n",
      "2023-01-02 20:15:20,418 (monitor:513)INFO: current_best=-159.723754, should_save=False\n"
     ]
    },
    {
     "name": "stdout",
     "output_type": "stream",
     "text": [
      "vae_loss: 0.2130378782749176\n",
      "vae_loss: 0.19990772008895874\n",
      "vae_loss: 0.2125256061553955\n",
      "vae_loss: 0.22285881638526917\n",
      "vae_loss: 0.24208441376686096\n",
      "vae_loss: 0.2096319943666458\n",
      "vae_loss: 0.22941474616527557\n",
      "vae_loss: 0.2185857892036438\n",
      "vae_loss: 0.20116949081420898\n",
      "vae_loss: 0.2068215161561966\n",
      "vae_loss: 0.19964699447155\n"
     ]
    },
    {
     "name": "stderr",
     "output_type": "stream",
     "text": [
      "2023-01-02 20:15:20,712 (client:255)INFO: {'Role': 'Client #1', 'Round': 163, 'Results_raw': {'train_avg_loss': 3.494268, 'train_total': 901, 'train_imp_ratio': -278.044836, 'train_loss': 3148.33588}}\n",
      "2023-01-02 20:15:20,717 (server:496)INFO: {'Role': 'Server #', 'Round': 163, 'Results_avg': {'test_avg_loss': 3.193522, 'test_total': 113.0, 'test_imp_ratio': -245.507084, 'test_loss': 360.867977, 'val_avg_loss': 2.575212, 'val_total': 113.0, 'val_imp_ratio': -178.612165, 'val_loss': 290.999006}}\n",
      "2023-01-02 20:15:20,718 (monitor:513)INFO: current_best=-159.723754, should_save=False\n",
      "2023-01-02 20:15:20,719 (monitor:513)INFO: current_best=-159.723754, should_save=False\n",
      "2023-01-02 20:15:20,731 (server:323)INFO: Server #0: Starting evaluation at the end of round 163.\n",
      "2023-01-02 20:15:20,742 (server:330)INFO: ----------- Starting a new training round (Round #164) -------------\n",
      "2023-01-02 20:15:20,828 (client:410)INFO: {'Role': 'Client #1', 'Round': 164, 'Results_raw': {'test_avg_loss': 3.385734, 'test_total': 113, 'test_imp_ratio': -266.302508, 'test_loss': 382.587963, 'val_avg_loss': 2.508488, 'val_total': 113, 'val_imp_ratio': -171.393238, 'val_loss': 283.459103}}\n",
      "2023-01-02 20:15:20,829 (monitor:513)INFO: current_best=-159.723754, should_save=False\n"
     ]
    },
    {
     "name": "stdout",
     "output_type": "stream",
     "text": [
      "vae_loss: 0.21288566291332245\n",
      "vae_loss: 0.20207202434539795\n",
      "vae_loss: 0.20236994326114655\n",
      "vae_loss: 0.21104612946510315\n",
      "vae_loss: 0.2135232388973236\n",
      "vae_loss: 0.22018519043922424\n",
      "vae_loss: 0.19916275143623352\n",
      "vae_loss: 0.20587798953056335\n",
      "vae_loss: 0.2137371003627777\n",
      "vae_loss: 0.21303722262382507\n",
      "vae_loss: 0.2152026891708374\n",
      "vae_loss: 0.20908072590827942\n",
      "vae_loss: 0.21302136778831482\n",
      "vae_loss: 0.20237505435943604\n",
      "vae_loss: 0.21702313423156738\n",
      "vae_loss: 0.2088405191898346\n",
      "vae_loss: 0.20141762495040894\n",
      "vae_loss: 0.21969468891620636\n",
      "vae_loss: 0.1983325481414795\n",
      "vae_loss: 0.2121969759464264\n"
     ]
    },
    {
     "name": "stderr",
     "output_type": "stream",
     "text": [
      "2023-01-02 20:15:21,123 (client:255)INFO: {'Role': 'Client #1', 'Round': 164, 'Results_raw': {'train_avg_loss': 3.403186, 'train_total': 901, 'train_imp_ratio': -268.190614, 'train_loss': 3066.27027}}\n",
      "2023-01-02 20:15:21,128 (server:496)INFO: {'Role': 'Server #', 'Round': 164, 'Results_avg': {'test_avg_loss': 3.385734, 'test_total': 113.0, 'test_imp_ratio': -266.302508, 'test_loss': 382.587963, 'val_avg_loss': 2.508488, 'val_total': 113.0, 'val_imp_ratio': -171.393238, 'val_loss': 283.459103}}\n",
      "2023-01-02 20:15:21,130 (monitor:513)INFO: current_best=-159.723754, should_save=False\n",
      "2023-01-02 20:15:21,132 (monitor:513)INFO: current_best=-159.723754, should_save=False\n",
      "2023-01-02 20:15:21,142 (server:323)INFO: Server #0: Starting evaluation at the end of round 164.\n",
      "2023-01-02 20:15:21,155 (server:330)INFO: ----------- Starting a new training round (Round #165) -------------\n",
      "2023-01-02 20:15:21,246 (client:410)INFO: {'Role': 'Client #1', 'Round': 165, 'Results_raw': {'test_avg_loss': 3.323918, 'test_total': 113, 'test_imp_ratio': -259.614613, 'test_loss': 375.602727, 'val_avg_loss': 2.852211, 'val_total': 113, 'val_imp_ratio': -208.580681, 'val_loss': 322.299867}}\n",
      "2023-01-02 20:15:21,248 (monitor:513)INFO: current_best=-159.723754, should_save=False\n"
     ]
    },
    {
     "name": "stdout",
     "output_type": "stream",
     "text": [
      "vae_loss: 0.21044288575649261\n",
      "vae_loss: 0.21846866607666016\n",
      "vae_loss: 0.22240406274795532\n",
      "vae_loss: 0.19688984751701355\n",
      "vae_loss: 0.2183028757572174\n",
      "vae_loss: 0.19777601957321167\n",
      "vae_loss: 0.20419320464134216\n",
      "vae_loss: 0.2126283198595047\n",
      "vae_loss: 0.2265596091747284\n",
      "vae_loss: 0.2253323793411255\n",
      "vae_loss: 0.21520762145519257\n",
      "vae_loss: 0.21458777785301208\n",
      "vae_loss: 0.2148868590593338\n",
      "vae_loss: 0.20769035816192627\n",
      "vae_loss: 0.199445903301239\n",
      "vae_loss: 0.19042696058750153\n",
      "vae_loss: 0.21600806713104248\n",
      "vae_loss: 0.2134423553943634\n",
      "vae_loss: 0.2220410704612732\n",
      "vae_loss: 0.20372536778450012\n"
     ]
    },
    {
     "name": "stderr",
     "output_type": "stream",
     "text": [
      "2023-01-02 20:15:21,548 (client:255)INFO: {'Role': 'Client #1', 'Round': 165, 'Results_raw': {'train_avg_loss': 3.517695, 'train_total': 901, 'train_imp_ratio': -280.579378, 'train_loss': 3169.443442}}\n",
      "2023-01-02 20:15:21,551 (server:496)INFO: {'Role': 'Server #', 'Round': 165, 'Results_avg': {'test_avg_loss': 3.323918, 'test_total': 113.0, 'test_imp_ratio': -259.614613, 'test_loss': 375.602727, 'val_avg_loss': 2.852211, 'val_total': 113.0, 'val_imp_ratio': -208.580681, 'val_loss': 322.299867}}\n",
      "2023-01-02 20:15:21,552 (monitor:513)INFO: current_best=-159.723754, should_save=False\n",
      "2023-01-02 20:15:21,554 (monitor:513)INFO: current_best=-159.723754, should_save=False\n",
      "2023-01-02 20:15:21,567 (server:323)INFO: Server #0: Starting evaluation at the end of round 165.\n",
      "2023-01-02 20:15:21,579 (server:330)INFO: ----------- Starting a new training round (Round #166) -------------\n",
      "2023-01-02 20:15:21,670 (client:410)INFO: {'Role': 'Client #1', 'Round': 166, 'Results_raw': {'test_avg_loss': 3.535954, 'test_total': 113, 'test_imp_ratio': -282.554798, 'test_loss': 399.562812, 'val_avg_loss': 2.881937, 'val_total': 113, 'val_imp_ratio': -211.796714, 'val_loss': 325.658844}}\n",
      "2023-01-02 20:15:21,671 (monitor:513)INFO: current_best=-159.723754, should_save=False\n"
     ]
    },
    {
     "name": "stdout",
     "output_type": "stream",
     "text": [
      "vae_loss: 0.1957748532295227\n",
      "vae_loss: 0.20309288799762726\n",
      "vae_loss: 0.2738434374332428\n",
      "vae_loss: 0.21777188777923584\n",
      "vae_loss: 0.19696268439292908\n",
      "vae_loss: 0.20539817214012146\n",
      "vae_loss: 0.21318204700946808\n",
      "vae_loss: 0.19791950285434723\n",
      "vae_loss: 0.18748806416988373\n",
      "vae_loss: 0.20408396422863007\n",
      "vae_loss: 0.21461784839630127\n",
      "vae_loss: 0.22036558389663696\n",
      "vae_loss: 0.2060111165046692\n",
      "vae_loss: 0.22789981961250305\n",
      "vae_loss: 0.22159434854984283\n",
      "vae_loss: 0.21368372440338135\n",
      "vae_loss: 0.22088557481765747\n",
      "vae_loss: 0.21559327840805054\n",
      "vae_loss: 0.21181482076644897\n"
     ]
    },
    {
     "name": "stderr",
     "output_type": "stream",
     "text": [
      "2023-01-02 20:15:21,991 (client:255)INFO: {'Role': 'Client #1', 'Round': 166, 'Results_raw': {'train_avg_loss': 3.488561, 'train_total': 901, 'train_imp_ratio': -277.427341, 'train_loss': 3143.193593}}\n",
      "2023-01-02 20:15:21,995 (server:496)INFO: {'Role': 'Server #', 'Round': 166, 'Results_avg': {'test_avg_loss': 3.535954, 'test_total': 113.0, 'test_imp_ratio': -282.554798, 'test_loss': 399.562812, 'val_avg_loss': 2.881937, 'val_total': 113.0, 'val_imp_ratio': -211.796714, 'val_loss': 325.658844}}\n",
      "2023-01-02 20:15:21,996 (monitor:513)INFO: current_best=-159.723754, should_save=False\n",
      "2023-01-02 20:15:21,997 (monitor:513)INFO: current_best=-159.723754, should_save=False\n",
      "2023-01-02 20:15:22,003 (server:323)INFO: Server #0: Starting evaluation at the end of round 166.\n",
      "2023-01-02 20:15:22,010 (server:330)INFO: ----------- Starting a new training round (Round #167) -------------\n",
      "2023-01-02 20:15:22,094 (client:410)INFO: {'Role': 'Client #1', 'Round': 167, 'Results_raw': {'test_avg_loss': 3.188674, 'test_total': 113, 'test_imp_ratio': -244.982527, 'test_loss': 360.320106, 'val_avg_loss': 2.96092, 'val_total': 113, 'val_imp_ratio': -220.341916, 'val_loss': 334.583998}}\n",
      "2023-01-02 20:15:22,095 (monitor:513)INFO: current_best=-159.723754, should_save=False\n"
     ]
    },
    {
     "name": "stdout",
     "output_type": "stream",
     "text": [
      "vae_loss: 0.21191605925559998\n",
      "vae_loss: 0.20491847395896912\n",
      "vae_loss: 0.16868552565574646\n",
      "vae_loss: 0.217649906873703\n",
      "vae_loss: 0.1940445899963379\n",
      "vae_loss: 0.20355826616287231\n",
      "vae_loss: 0.21118639409542084\n",
      "vae_loss: 0.20871777832508087\n",
      "vae_loss: 0.2192724645137787\n",
      "vae_loss: 0.21811214089393616\n",
      "vae_loss: 0.20166917145252228\n",
      "vae_loss: 0.2243424952030182\n",
      "vae_loss: 0.21901148557662964\n",
      "vae_loss: 0.19169121980667114\n",
      "vae_loss: 0.20446202158927917\n",
      "vae_loss: 0.20097710192203522\n",
      "vae_loss: 0.22332587838172913\n",
      "vae_loss: 0.2217152714729309\n",
      "vae_loss: 0.20290863513946533\n",
      "vae_loss: 0.20287758111953735\n"
     ]
    },
    {
     "name": "stderr",
     "output_type": "stream",
     "text": [
      "2023-01-02 20:15:22,392 (client:255)INFO: {'Role': 'Client #1', 'Round': 167, 'Results_raw': {'train_avg_loss': 3.307671, 'train_total': 901, 'train_imp_ratio': -257.856898, 'train_loss': 2980.21186}}\n",
      "2023-01-02 20:15:22,397 (server:496)INFO: {'Role': 'Server #', 'Round': 167, 'Results_avg': {'test_avg_loss': 3.188674, 'test_total': 113.0, 'test_imp_ratio': -244.982527, 'test_loss': 360.320106, 'val_avg_loss': 2.96092, 'val_total': 113.0, 'val_imp_ratio': -220.341916, 'val_loss': 334.583998}}\n",
      "2023-01-02 20:15:22,399 (monitor:513)INFO: current_best=-159.723754, should_save=False\n",
      "2023-01-02 20:15:22,401 (monitor:513)INFO: current_best=-159.723754, should_save=False\n",
      "2023-01-02 20:15:22,409 (server:323)INFO: Server #0: Starting evaluation at the end of round 167.\n",
      "2023-01-02 20:15:22,416 (server:330)INFO: ----------- Starting a new training round (Round #168) -------------\n",
      "2023-01-02 20:15:22,499 (client:410)INFO: {'Role': 'Client #1', 'Round': 168, 'Results_raw': {'test_avg_loss': 3.642352, 'test_total': 113, 'test_imp_ratio': -294.065981, 'test_loss': 411.585731, 'val_avg_loss': 2.709822, 'val_total': 113, 'val_imp_ratio': -193.175663, 'val_loss': 306.209923}}\n",
      "2023-01-02 20:15:22,500 (monitor:513)INFO: current_best=-159.723754, should_save=False\n"
     ]
    },
    {
     "name": "stdout",
     "output_type": "stream",
     "text": [
      "vae_loss: 0.19997254014015198\n",
      "vae_loss: 0.18024174869060516\n",
      "vae_loss: 0.21771667897701263\n",
      "vae_loss: 0.19668860733509064\n",
      "vae_loss: 0.20419025421142578\n",
      "vae_loss: 0.21164314448833466\n",
      "vae_loss: 0.20071516931056976\n",
      "vae_loss: 0.22271421551704407\n",
      "vae_loss: 0.22881844639778137\n",
      "vae_loss: 0.2186024934053421\n",
      "vae_loss: 0.20707014203071594\n",
      "vae_loss: 0.1994551122188568\n",
      "vae_loss: 0.22323457896709442\n",
      "vae_loss: 0.20186671614646912\n",
      "vae_loss: 0.21923917531967163\n",
      "vae_loss: 0.20312900841236115\n",
      "vae_loss: 0.20472481846809387\n",
      "vae_loss: 0.20307976007461548\n",
      "vae_loss: 0.18680579960346222\n",
      "vae_loss: 0.2221638560295105\n",
      "vae_loss: 0.18795105814933777\n"
     ]
    },
    {
     "name": "stderr",
     "output_type": "stream",
     "text": [
      "2023-01-02 20:15:22,788 (client:255)INFO: {'Role': 'Client #1', 'Round': 168, 'Results_raw': {'train_avg_loss': 3.431747, 'train_total': 901, 'train_imp_ratio': -271.280589, 'train_loss': 3092.003684}}\n",
      "2023-01-02 20:15:22,792 (server:496)INFO: {'Role': 'Server #', 'Round': 168, 'Results_avg': {'test_avg_loss': 3.642352, 'test_total': 113.0, 'test_imp_ratio': -294.065981, 'test_loss': 411.585731, 'val_avg_loss': 2.709822, 'val_total': 113.0, 'val_imp_ratio': -193.175663, 'val_loss': 306.209923}}\n",
      "2023-01-02 20:15:22,793 (monitor:513)INFO: current_best=-159.723754, should_save=False\n",
      "2023-01-02 20:15:22,794 (monitor:513)INFO: current_best=-159.723754, should_save=False\n",
      "2023-01-02 20:15:22,800 (server:323)INFO: Server #0: Starting evaluation at the end of round 168.\n",
      "2023-01-02 20:15:22,807 (server:330)INFO: ----------- Starting a new training round (Round #169) -------------\n",
      "2023-01-02 20:15:22,879 (client:410)INFO: {'Role': 'Client #1', 'Round': 169, 'Results_raw': {'test_avg_loss': 3.419302, 'test_total': 113, 'test_imp_ratio': -269.934193, 'test_loss': 386.381093, 'val_avg_loss': 2.608498, 'val_total': 113, 'val_imp_ratio': -182.213309, 'val_loss': 294.760226}}\n",
      "2023-01-02 20:15:22,880 (monitor:513)INFO: current_best=-159.723754, should_save=False\n"
     ]
    },
    {
     "name": "stdout",
     "output_type": "stream",
     "text": [
      "vae_loss: 0.21749630570411682\n",
      "vae_loss: 0.19530442357063293\n",
      "vae_loss: 0.20536494255065918\n",
      "vae_loss: 0.2106444239616394\n",
      "vae_loss: 0.2157323658466339\n",
      "vae_loss: 0.21855323016643524\n",
      "vae_loss: 0.20759907364845276\n",
      "vae_loss: 0.21294544637203217\n",
      "vae_loss: 0.21130993962287903\n",
      "vae_loss: 0.2287980616092682\n",
      "vae_loss: 0.20343993604183197\n"
     ]
    },
    {
     "name": "stderr",
     "output_type": "stream",
     "text": [
      "2023-01-02 20:15:23,192 (client:255)INFO: {'Role': 'Client #1', 'Round': 169, 'Results_raw': {'train_avg_loss': 3.449585, 'train_total': 901, 'train_imp_ratio': -273.210559, 'train_loss': 3108.076093}}\n",
      "2023-01-02 20:15:23,196 (server:496)INFO: {'Role': 'Server #', 'Round': 169, 'Results_avg': {'test_avg_loss': 3.419302, 'test_total': 113.0, 'test_imp_ratio': -269.934193, 'test_loss': 386.381093, 'val_avg_loss': 2.608498, 'val_total': 113.0, 'val_imp_ratio': -182.213309, 'val_loss': 294.760226}}\n",
      "2023-01-02 20:15:23,197 (monitor:513)INFO: current_best=-159.723754, should_save=False\n",
      "2023-01-02 20:15:23,198 (monitor:513)INFO: current_best=-159.723754, should_save=False\n",
      "2023-01-02 20:15:23,204 (server:323)INFO: Server #0: Starting evaluation at the end of round 169.\n",
      "2023-01-02 20:15:23,211 (server:330)INFO: ----------- Starting a new training round (Round #170) -------------\n"
     ]
    },
    {
     "name": "stdout",
     "output_type": "stream",
     "text": [
      "vae_loss: 0.19909316301345825\n",
      "vae_loss: 0.20408833026885986\n",
      "vae_loss: 0.22441063821315765\n",
      "vae_loss: 0.20916089415550232\n",
      "vae_loss: 0.19900652766227722\n",
      "vae_loss: 0.21162846684455872\n",
      "vae_loss: 0.20539219677448273\n",
      "vae_loss: 0.16702887415885925\n"
     ]
    },
    {
     "name": "stderr",
     "output_type": "stream",
     "text": [
      "2023-01-02 20:15:23,297 (client:410)INFO: {'Role': 'Client #1', 'Round': 170, 'Results_raw': {'test_avg_loss': 3.500944, 'test_total': 113, 'test_imp_ratio': -278.767056, 'test_loss': 395.606631, 'val_avg_loss': 2.720927, 'val_total': 113, 'val_imp_ratio': -194.377068, 'val_loss': 307.464785}}\n",
      "2023-01-02 20:15:23,298 (monitor:513)INFO: current_best=-159.723754, should_save=False\n"
     ]
    },
    {
     "name": "stdout",
     "output_type": "stream",
     "text": [
      "vae_loss: 0.2180442214012146\n",
      "vae_loss: 0.1958722472190857\n",
      "vae_loss: 0.2046279013156891\n",
      "vae_loss: 0.21317139267921448\n",
      "vae_loss: 0.19986671209335327\n",
      "vae_loss: 0.21961694955825806\n",
      "vae_loss: 0.2026817500591278\n",
      "vae_loss: 0.21596011519432068\n",
      "vae_loss: 0.2289307713508606\n",
      "vae_loss: 0.221979022026062\n",
      "vae_loss: 0.21614885330200195\n",
      "vae_loss: 0.20142629742622375\n"
     ]
    },
    {
     "name": "stderr",
     "output_type": "stream",
     "text": [
      "2023-01-02 20:15:23,585 (client:255)INFO: {'Role': 'Client #1', 'Round': 170, 'Results_raw': {'train_avg_loss': 3.439801, 'train_total': 901, 'train_imp_ratio': -272.152005, 'train_loss': 3099.260907}}\n",
      "2023-01-02 20:15:23,589 (server:496)INFO: {'Role': 'Server #', 'Round': 170, 'Results_avg': {'test_avg_loss': 3.500944, 'test_total': 113.0, 'test_imp_ratio': -278.767056, 'test_loss': 395.606631, 'val_avg_loss': 2.720927, 'val_total': 113.0, 'val_imp_ratio': -194.377068, 'val_loss': 307.464785}}\n",
      "2023-01-02 20:15:23,590 (monitor:513)INFO: current_best=-159.723754, should_save=False\n",
      "2023-01-02 20:15:23,591 (monitor:513)INFO: current_best=-159.723754, should_save=False\n",
      "2023-01-02 20:15:23,597 (server:323)INFO: Server #0: Starting evaluation at the end of round 170.\n",
      "2023-01-02 20:15:23,604 (server:330)INFO: ----------- Starting a new training round (Round #171) -------------\n"
     ]
    },
    {
     "name": "stdout",
     "output_type": "stream",
     "text": [
      "vae_loss: 0.20307263731956482\n",
      "vae_loss: 0.20397992432117462\n",
      "vae_loss: 0.23824000358581543\n",
      "vae_loss: 0.19549867510795593\n",
      "vae_loss: 0.19876304268836975\n",
      "vae_loss: 0.20454972982406616\n",
      "vae_loss: 0.26483404636383057\n",
      "vae_loss: 0.21809980273246765\n",
      "vae_loss: 0.19657304883003235\n"
     ]
    },
    {
     "name": "stderr",
     "output_type": "stream",
     "text": [
      "2023-01-02 20:15:23,697 (client:410)INFO: {'Role': 'Client #1', 'Round': 171, 'Results_raw': {'test_avg_loss': 3.503079, 'test_total': 113, 'test_imp_ratio': -278.998123, 'test_loss': 395.847983, 'val_avg_loss': 2.65867, 'val_total': 113, 'val_imp_ratio': -187.641479, 'val_loss': 300.429681}}\n",
      "2023-01-02 20:15:23,698 (monitor:513)INFO: current_best=-159.723754, should_save=False\n"
     ]
    },
    {
     "name": "stdout",
     "output_type": "stream",
     "text": [
      "vae_loss: 0.2054463028907776\n",
      "vae_loss: 0.21292099356651306\n",
      "vae_loss: 0.21442103385925293\n",
      "vae_loss: 0.20463648438453674\n",
      "vae_loss: 0.2153370976448059\n",
      "vae_loss: 0.2162889689207077\n",
      "vae_loss: 0.22738879919052124\n",
      "vae_loss: 0.20972515642642975\n",
      "vae_loss: 0.19016429781913757\n",
      "vae_loss: 0.2118760496377945\n",
      "vae_loss: 0.21186059713363647\n",
      "vae_loss: 0.19631162285804749\n"
     ]
    },
    {
     "name": "stderr",
     "output_type": "stream",
     "text": [
      "2023-01-02 20:15:23,999 (client:255)INFO: {'Role': 'Client #1', 'Round': 171, 'Results_raw': {'train_avg_loss': 3.421629, 'train_total': 901, 'train_imp_ratio': -270.186025, 'train_loss': 3082.887848}}\n",
      "2023-01-02 20:15:24,003 (server:496)INFO: {'Role': 'Server #', 'Round': 171, 'Results_avg': {'test_avg_loss': 3.503079, 'test_total': 113.0, 'test_imp_ratio': -278.998123, 'test_loss': 395.847983, 'val_avg_loss': 2.65867, 'val_total': 113.0, 'val_imp_ratio': -187.641479, 'val_loss': 300.429681}}\n",
      "2023-01-02 20:15:24,004 (monitor:513)INFO: current_best=-159.723754, should_save=False\n",
      "2023-01-02 20:15:24,006 (monitor:513)INFO: current_best=-159.723754, should_save=False\n",
      "2023-01-02 20:15:24,014 (server:323)INFO: Server #0: Starting evaluation at the end of round 171.\n",
      "2023-01-02 20:15:24,023 (server:330)INFO: ----------- Starting a new training round (Round #172) -------------\n"
     ]
    },
    {
     "name": "stdout",
     "output_type": "stream",
     "text": [
      "vae_loss: 0.233697772026062\n",
      "vae_loss: 0.22169053554534912\n",
      "vae_loss: 0.19302380084991455\n",
      "vae_loss: 0.20663146674633026\n",
      "vae_loss: 0.20942211151123047\n",
      "vae_loss: 0.21938736736774445\n",
      "vae_loss: 0.19694145023822784\n"
     ]
    },
    {
     "name": "stderr",
     "output_type": "stream",
     "text": [
      "2023-01-02 20:15:24,121 (client:410)INFO: {'Role': 'Client #1', 'Round': 172, 'Results_raw': {'test_avg_loss': 3.184239, 'test_total': 113, 'test_imp_ratio': -244.502723, 'test_loss': 359.818968, 'val_avg_loss': 2.488077, 'val_total': 113, 'val_imp_ratio': -169.185048, 'val_loss': 281.15273}}\n",
      "2023-01-02 20:15:24,122 (monitor:513)INFO: current_best=-159.723754, should_save=False\n"
     ]
    },
    {
     "name": "stdout",
     "output_type": "stream",
     "text": [
      "vae_loss: 0.2052241563796997\n",
      "vae_loss: 0.21316185593605042\n",
      "vae_loss: 0.21712979674339294\n",
      "vae_loss: 0.1992541253566742\n",
      "vae_loss: 0.20840811729431152\n",
      "vae_loss: 0.1976723074913025\n",
      "vae_loss: 0.22792258858680725\n",
      "vae_loss: 0.20148973166942596\n",
      "vae_loss: 0.217856764793396\n",
      "vae_loss: 0.22257199883460999\n",
      "vae_loss: 0.22810420393943787\n"
     ]
    },
    {
     "name": "stderr",
     "output_type": "stream",
     "text": [
      "2023-01-02 20:15:24,417 (client:255)INFO: {'Role': 'Client #1', 'Round': 172, 'Results_raw': {'train_avg_loss': 3.548156, 'train_total': 901, 'train_imp_ratio': -283.874909, 'train_loss': 3196.888425}}\n",
      "2023-01-02 20:15:24,422 (server:496)INFO: {'Role': 'Server #', 'Round': 172, 'Results_avg': {'test_avg_loss': 3.184239, 'test_total': 113.0, 'test_imp_ratio': -244.502723, 'test_loss': 359.818968, 'val_avg_loss': 2.488077, 'val_total': 113.0, 'val_imp_ratio': -169.185048, 'val_loss': 281.15273}}\n",
      "2023-01-02 20:15:24,424 (monitor:513)INFO: current_best=-159.723754, should_save=False\n",
      "2023-01-02 20:15:24,426 (monitor:513)INFO: current_best=-159.723754, should_save=False\n",
      "2023-01-02 20:15:24,435 (server:323)INFO: Server #0: Starting evaluation at the end of round 172.\n",
      "2023-01-02 20:15:24,442 (server:330)INFO: ----------- Starting a new training round (Round #173) -------------\n"
     ]
    },
    {
     "name": "stdout",
     "output_type": "stream",
     "text": [
      "vae_loss: 0.21411052346229553\n",
      "vae_loss: 0.20452968776226044\n",
      "vae_loss: 0.20714959502220154\n",
      "vae_loss: 0.19931457936763763\n",
      "vae_loss: 0.21530193090438843\n",
      "vae_loss: 0.1566709578037262\n",
      "vae_loss: 0.21874815225601196\n",
      "vae_loss: 0.19544795155525208\n",
      "vae_loss: 0.20501255989074707\n",
      "vae_loss: 0.21075907349586487\n"
     ]
    },
    {
     "name": "stderr",
     "output_type": "stream",
     "text": [
      "2023-01-02 20:15:24,520 (client:410)INFO: {'Role': 'Client #1', 'Round': 173, 'Results_raw': {'test_avg_loss': 3.384934, 'test_total': 113, 'test_imp_ratio': -266.215967, 'test_loss': 382.497583, 'val_avg_loss': 2.69277, 'val_total': 113, 'val_imp_ratio': -191.330711, 'val_loss': 304.282966}}\n",
      "2023-01-02 20:15:24,521 (monitor:513)INFO: current_best=-159.723754, should_save=False\n"
     ]
    },
    {
     "name": "stdout",
     "output_type": "stream",
     "text": [
      "vae_loss: 0.2113802134990692\n",
      "vae_loss: 0.1926964521408081\n",
      "vae_loss: 0.2042129635810852\n",
      "vae_loss: 0.21018067002296448\n",
      "vae_loss: 0.2146170437335968\n",
      "vae_loss: 0.1957550048828125\n",
      "vae_loss: 0.21777279675006866\n",
      "vae_loss: 0.2049458622932434\n",
      "vae_loss: 0.21417886018753052\n",
      "vae_loss: 0.22266758978366852\n",
      "vae_loss: 0.21234284341335297\n",
      "vae_loss: 0.20403720438480377\n",
      "vae_loss: 0.21375983953475952\n"
     ]
    },
    {
     "name": "stderr",
     "output_type": "stream",
     "text": [
      "2023-01-02 20:15:24,795 (client:255)INFO: {'Role': 'Client #1', 'Round': 173, 'Results_raw': {'train_avg_loss': 3.384856, 'train_total': 901, 'train_imp_ratio': -266.207455, 'train_loss': 3049.754974}}\n",
      "2023-01-02 20:15:24,801 (server:496)INFO: {'Role': 'Server #', 'Round': 173, 'Results_avg': {'test_avg_loss': 3.384934, 'test_total': 113.0, 'test_imp_ratio': -266.215967, 'test_loss': 382.497583, 'val_avg_loss': 2.69277, 'val_total': 113.0, 'val_imp_ratio': -191.330711, 'val_loss': 304.282966}}\n",
      "2023-01-02 20:15:24,802 (monitor:513)INFO: current_best=-159.723754, should_save=False\n",
      "2023-01-02 20:15:24,803 (monitor:513)INFO: current_best=-159.723754, should_save=False\n",
      "2023-01-02 20:15:24,809 (server:323)INFO: Server #0: Starting evaluation at the end of round 173.\n",
      "2023-01-02 20:15:24,816 (server:330)INFO: ----------- Starting a new training round (Round #174) -------------\n",
      "2023-01-02 20:15:24,879 (client:410)INFO: {'Role': 'Client #1', 'Round': 174, 'Results_raw': {'test_avg_loss': 3.36206, 'test_total': 113, 'test_imp_ratio': -263.741191, 'test_loss': 379.912773, 'val_avg_loss': 2.77867, 'val_total': 113, 'val_imp_ratio': -200.624212, 'val_loss': 313.989657}}\n",
      "2023-01-02 20:15:24,881 (monitor:513)INFO: current_best=-159.723754, should_save=False\n"
     ]
    },
    {
     "name": "stdout",
     "output_type": "stream",
     "text": [
      "vae_loss: 0.21640615165233612\n",
      "vae_loss: 0.21769225597381592\n",
      "vae_loss: 0.21670955419540405\n",
      "vae_loss: 0.1960509717464447\n",
      "vae_loss: 0.20473435521125793\n",
      "vae_loss: 0.21143311262130737\n",
      "vae_loss: 0.2073386311531067\n",
      "vae_loss: 0.21225088834762573\n",
      "vae_loss: 0.22174718976020813\n",
      "vae_loss: 0.19756707549095154\n"
     ]
    },
    {
     "name": "stderr",
     "output_type": "stream",
     "text": [
      "2023-01-02 20:15:25,168 (client:255)INFO: {'Role': 'Client #1', 'Round': 174, 'Results_raw': {'train_avg_loss': 3.314171, 'train_total': 901, 'train_imp_ratio': -258.560134, 'train_loss': 2986.068256}}\n",
      "2023-01-02 20:15:25,173 (server:496)INFO: {'Role': 'Server #', 'Round': 174, 'Results_avg': {'test_avg_loss': 3.36206, 'test_total': 113.0, 'test_imp_ratio': -263.741191, 'test_loss': 379.912773, 'val_avg_loss': 2.77867, 'val_total': 113.0, 'val_imp_ratio': -200.624212, 'val_loss': 313.989657}}\n",
      "2023-01-02 20:15:25,174 (monitor:513)INFO: current_best=-159.723754, should_save=False\n"
     ]
    },
    {
     "name": "stdout",
     "output_type": "stream",
     "text": [
      "vae_loss: 0.19640494883060455\n",
      "vae_loss: 0.20713429152965546\n",
      "vae_loss: 0.2219434380531311\n",
      "vae_loss: 0.2073526382446289\n",
      "vae_loss: 0.22368641197681427\n",
      "vae_loss: 0.1984214186668396\n",
      "vae_loss: 0.20476514101028442\n",
      "vae_loss: 0.2095097303390503\n",
      "vae_loss: 0.21667292714118958\n",
      "vae_loss: 0.21416908502578735\n",
      "vae_loss: 0.2540770173072815\n"
     ]
    },
    {
     "name": "stderr",
     "output_type": "stream",
     "text": [
      "2023-01-02 20:15:25,176 (monitor:513)INFO: current_best=-159.723754, should_save=False\n",
      "2023-01-02 20:15:25,188 (server:323)INFO: Server #0: Starting evaluation at the end of round 174.\n",
      "2023-01-02 20:15:25,196 (server:330)INFO: ----------- Starting a new training round (Round #175) -------------\n",
      "2023-01-02 20:15:25,288 (client:410)INFO: {'Role': 'Client #1', 'Round': 175, 'Results_raw': {'test_avg_loss': 3.17917, 'test_total': 113, 'test_imp_ratio': -243.954332, 'test_loss': 359.246205, 'val_avg_loss': 2.92712, 'val_total': 113, 'val_imp_ratio': -216.685133, 'val_loss': 330.764613}}\n",
      "2023-01-02 20:15:25,289 (monitor:513)INFO: current_best=-159.723754, should_save=False\n"
     ]
    },
    {
     "name": "stdout",
     "output_type": "stream",
     "text": [
      "vae_loss: 0.21854448318481445\n",
      "vae_loss: 0.1964266300201416\n",
      "vae_loss: 0.2049046754837036\n",
      "vae_loss: 0.21210525929927826\n",
      "vae_loss: 0.19796207547187805\n",
      "vae_loss: 0.22037339210510254\n",
      "vae_loss: 0.21398812532424927\n",
      "vae_loss: 0.2078448235988617\n",
      "vae_loss: 0.19536474347114563\n",
      "vae_loss: 0.21862110495567322\n",
      "vae_loss: 0.21009767055511475\n"
     ]
    },
    {
     "name": "stderr",
     "output_type": "stream",
     "text": [
      "2023-01-02 20:15:25,581 (client:255)INFO: {'Role': 'Client #1', 'Round': 175, 'Results_raw': {'train_avg_loss': 3.362034, 'train_total': 901, 'train_imp_ratio': -263.738431, 'train_loss': 3029.192809}}\n",
      "2023-01-02 20:15:25,585 (server:496)INFO: {'Role': 'Server #', 'Round': 175, 'Results_avg': {'test_avg_loss': 3.17917, 'test_total': 113.0, 'test_imp_ratio': -243.954332, 'test_loss': 359.246205, 'val_avg_loss': 2.92712, 'val_total': 113.0, 'val_imp_ratio': -216.685133, 'val_loss': 330.764613}}\n",
      "2023-01-02 20:15:25,586 (monitor:513)INFO: current_best=-159.723754, should_save=False\n",
      "2023-01-02 20:15:25,587 (monitor:513)INFO: current_best=-159.723754, should_save=False\n",
      "2023-01-02 20:15:25,593 (server:323)INFO: Server #0: Starting evaluation at the end of round 175.\n",
      "2023-01-02 20:15:25,599 (server:330)INFO: ----------- Starting a new training round (Round #176) -------------\n"
     ]
    },
    {
     "name": "stdout",
     "output_type": "stream",
     "text": [
      "vae_loss: 0.21659570932388306\n",
      "vae_loss: 0.21545875072479248\n",
      "vae_loss: 0.21518221497535706\n",
      "vae_loss: 0.23091742396354675\n",
      "vae_loss: 0.19471749663352966\n",
      "vae_loss: 0.20649312436580658\n",
      "vae_loss: 0.19020313024520874\n",
      "vae_loss: 0.21507008373737335\n",
      "vae_loss: 0.21641948819160461\n",
      "vae_loss: 0.1950804889202118\n"
     ]
    },
    {
     "name": "stderr",
     "output_type": "stream",
     "text": [
      "2023-01-02 20:15:25,683 (client:410)INFO: {'Role': 'Client #1', 'Round': 176, 'Results_raw': {'test_avg_loss': 3.278992, 'test_total': 113, 'test_imp_ratio': -254.754052, 'test_loss': 370.526075, 'val_avg_loss': 2.447348, 'val_total': 113, 'val_imp_ratio': -164.778522, 'val_loss': 276.550317}}\n",
      "2023-01-02 20:15:25,684 (monitor:513)INFO: current_best=-159.723754, should_save=False\n"
     ]
    },
    {
     "name": "stdout",
     "output_type": "stream",
     "text": [
      "vae_loss: 0.2050783634185791\n",
      "vae_loss: 0.21185238659381866\n",
      "vae_loss: 0.2199893742799759\n",
      "vae_loss: 0.21295960247516632\n",
      "vae_loss: 0.20352089405059814\n",
      "vae_loss: 0.21843209862709045\n",
      "vae_loss: 0.20524701476097107\n",
      "vae_loss: 0.21125133335590363\n",
      "vae_loss: 0.20777231454849243\n",
      "vae_loss: 0.21240514516830444\n",
      "vae_loss: 0.22408533096313477\n",
      "vae_loss: 0.1873612403869629\n",
      "vae_loss: 0.20310178399085999\n"
     ]
    },
    {
     "name": "stderr",
     "output_type": "stream",
     "text": [
      "2023-01-02 20:15:25,924 (client:255)INFO: {'Role': 'Client #1', 'Round': 176, 'Results_raw': {'train_avg_loss': 3.569557, 'train_total': 901, 'train_imp_ratio': -286.190275, 'train_loss': 3216.170819}}\n",
      "2023-01-02 20:15:25,929 (server:496)INFO: {'Role': 'Server #', 'Round': 176, 'Results_avg': {'test_avg_loss': 3.278992, 'test_total': 113.0, 'test_imp_ratio': -254.754052, 'test_loss': 370.526075, 'val_avg_loss': 2.447348, 'val_total': 113.0, 'val_imp_ratio': -164.778522, 'val_loss': 276.550317}}\n",
      "2023-01-02 20:15:25,930 (monitor:513)INFO: current_best=-159.723754, should_save=False\n",
      "2023-01-02 20:15:25,931 (monitor:513)INFO: current_best=-159.723754, should_save=False\n",
      "2023-01-02 20:15:25,937 (server:323)INFO: Server #0: Starting evaluation at the end of round 176.\n",
      "2023-01-02 20:15:25,944 (server:330)INFO: ----------- Starting a new training round (Round #177) -------------\n",
      "2023-01-02 20:15:26,027 (client:410)INFO: {'Role': 'Client #1', 'Round': 177, 'Results_raw': {'test_avg_loss': 3.462806, 'test_total': 113, 'test_imp_ratio': -274.64089, 'test_loss': 391.297086, 'val_avg_loss': 2.716851, 'val_total': 113, 'val_imp_ratio': -193.936008, 'val_loss': 307.004114}}\n",
      "2023-01-02 20:15:26,028 (monitor:513)INFO: current_best=-159.723754, should_save=False\n"
     ]
    },
    {
     "name": "stdout",
     "output_type": "stream",
     "text": [
      "vae_loss: 0.215742826461792\n",
      "vae_loss: 0.221206933259964\n",
      "vae_loss: 0.2083272784948349\n",
      "vae_loss: 0.2119966745376587\n",
      "vae_loss: 0.2177123874425888\n",
      "vae_loss: 0.19585831463336945\n",
      "vae_loss: 0.2052316665649414\n",
      "vae_loss: 0.2124217450618744\n",
      "vae_loss: 0.20133531093597412\n",
      "vae_loss: 0.21245086193084717\n",
      "vae_loss: 0.21107518672943115\n",
      "vae_loss: 0.209123432636261\n",
      "vae_loss: 0.22474166750907898\n",
      "vae_loss: 0.2070809155702591\n",
      "vae_loss: 0.19436803460121155\n",
      "vae_loss: 0.2130272388458252\n",
      "vae_loss: 0.20774152874946594\n",
      "vae_loss: 0.2390412539243698\n",
      "vae_loss: 0.2150326818227768\n",
      "vae_loss: 0.217495396733284\n",
      "vae_loss: 0.20095734298229218\n",
      "vae_loss: 0.19752222299575806\n"
     ]
    },
    {
     "name": "stderr",
     "output_type": "stream",
     "text": [
      "2023-01-02 20:15:26,306 (client:255)INFO: {'Role': 'Client #1', 'Round': 177, 'Results_raw': {'train_avg_loss': 3.507735, 'train_total': 901, 'train_imp_ratio': -279.501787, 'train_loss': 3160.469422}}\n",
      "2023-01-02 20:15:26,312 (server:496)INFO: {'Role': 'Server #', 'Round': 177, 'Results_avg': {'test_avg_loss': 3.462806, 'test_total': 113.0, 'test_imp_ratio': -274.64089, 'test_loss': 391.297086, 'val_avg_loss': 2.716851, 'val_total': 113.0, 'val_imp_ratio': -193.936008, 'val_loss': 307.004114}}\n",
      "2023-01-02 20:15:26,314 (monitor:513)INFO: current_best=-159.723754, should_save=False\n",
      "2023-01-02 20:15:26,315 (monitor:513)INFO: current_best=-159.723754, should_save=False\n",
      "2023-01-02 20:15:26,321 (server:323)INFO: Server #0: Starting evaluation at the end of round 177.\n",
      "2023-01-02 20:15:26,332 (server:330)INFO: ----------- Starting a new training round (Round #178) -------------\n",
      "2023-01-02 20:15:26,411 (client:410)INFO: {'Role': 'Client #1', 'Round': 178, 'Results_raw': {'test_avg_loss': 3.158753, 'test_total': 113, 'test_imp_ratio': -241.745446, 'test_loss': 356.939095, 'val_avg_loss': 2.631203, 'val_total': 113, 'val_imp_ratio': -184.669823, 'val_loss': 297.325961}}\n",
      "2023-01-02 20:15:26,413 (monitor:513)INFO: current_best=-159.723754, should_save=False\n"
     ]
    },
    {
     "name": "stdout",
     "output_type": "stream",
     "text": [
      "vae_loss: 0.2603582739830017\n",
      "vae_loss: 0.2178095579147339\n",
      "vae_loss: 0.19686061143875122\n",
      "vae_loss: 0.2049182802438736\n",
      "vae_loss: 0.21272192895412445\n",
      "vae_loss: 0.20844492316246033\n",
      "vae_loss: 0.20117923617362976\n",
      "vae_loss: 0.2196439504623413\n",
      "vae_loss: 0.2112025022506714\n",
      "vae_loss: 0.20458672940731049\n",
      "vae_loss: 0.21540910005569458\n",
      "vae_loss: 0.21641740202903748\n",
      "vae_loss: 0.2008485496044159\n",
      "vae_loss: 0.20266950130462646\n",
      "vae_loss: 0.20610877871513367\n",
      "vae_loss: 0.2342132329940796\n",
      "vae_loss: 0.21464818716049194\n",
      "vae_loss: 0.20322196185588837\n",
      "vae_loss: 0.21143710613250732\n",
      "vae_loss: 0.23000934720039368\n"
     ]
    },
    {
     "name": "stderr",
     "output_type": "stream",
     "text": [
      "2023-01-02 20:15:26,716 (client:255)INFO: {'Role': 'Client #1', 'Round': 178, 'Results_raw': {'train_avg_loss': 3.472113, 'train_total': 901, 'train_imp_ratio': -275.647856, 'train_loss': 3128.37408}}\n",
      "2023-01-02 20:15:26,722 (server:496)INFO: {'Role': 'Server #', 'Round': 178, 'Results_avg': {'test_avg_loss': 3.158753, 'test_total': 113.0, 'test_imp_ratio': -241.745446, 'test_loss': 356.939095, 'val_avg_loss': 2.631203, 'val_total': 113.0, 'val_imp_ratio': -184.669823, 'val_loss': 297.325961}}\n",
      "2023-01-02 20:15:26,723 (monitor:513)INFO: current_best=-159.723754, should_save=False\n",
      "2023-01-02 20:15:26,724 (monitor:513)INFO: current_best=-159.723754, should_save=False\n",
      "2023-01-02 20:15:26,730 (server:323)INFO: Server #0: Starting evaluation at the end of round 178.\n",
      "2023-01-02 20:15:26,738 (server:330)INFO: ----------- Starting a new training round (Round #179) -------------\n",
      "2023-01-02 20:15:26,815 (client:410)INFO: {'Role': 'Client #1', 'Round': 179, 'Results_raw': {'test_avg_loss': 3.39694, 'test_total': 113, 'test_imp_ratio': -267.514875, 'test_loss': 383.854209, 'val_avg_loss': 2.435054, 'val_total': 113, 'val_imp_ratio': -163.448454, 'val_loss': 275.161086}}\n",
      "2023-01-02 20:15:26,816 (monitor:513)INFO: current_best=-159.723754, should_save=False\n"
     ]
    },
    {
     "name": "stdout",
     "output_type": "stream",
     "text": [
      "vae_loss: 0.21769961714744568\n",
      "vae_loss: 0.19634748995304108\n",
      "vae_loss: 0.20331314206123352\n",
      "vae_loss: 0.212673157453537\n",
      "vae_loss: 0.22291281819343567\n",
      "vae_loss: 0.1996474415063858\n",
      "vae_loss: 0.21164551377296448\n",
      "vae_loss: 0.20567113161087036\n",
      "vae_loss: 0.2032340168952942\n",
      "vae_loss: 0.20725589990615845\n",
      "vae_loss: 0.23053674399852753\n",
      "vae_loss: 0.21950502693653107\n"
     ]
    },
    {
     "name": "stderr",
     "output_type": "stream",
     "text": [
      "2023-01-02 20:15:27,121 (client:255)INFO: {'Role': 'Client #1', 'Round': 179, 'Results_raw': {'train_avg_loss': 3.451943, 'train_total': 901, 'train_imp_ratio': -273.465693, 'train_loss': 3110.20104}}\n",
      "2023-01-02 20:15:27,125 (server:496)INFO: {'Role': 'Server #', 'Round': 179, 'Results_avg': {'test_avg_loss': 3.39694, 'test_total': 113.0, 'test_imp_ratio': -267.514875, 'test_loss': 383.854209, 'val_avg_loss': 2.435054, 'val_total': 113.0, 'val_imp_ratio': -163.448454, 'val_loss': 275.161086}}\n",
      "2023-01-02 20:15:27,126 (monitor:513)INFO: current_best=-159.723754, should_save=False\n",
      "2023-01-02 20:15:27,128 (monitor:513)INFO: current_best=-159.723754, should_save=False\n",
      "2023-01-02 20:15:27,138 (server:323)INFO: Server #0: Starting evaluation at the end of round 179.\n",
      "2023-01-02 20:15:27,147 (server:330)INFO: ----------- Starting a new training round (Round #180) -------------\n"
     ]
    },
    {
     "name": "stdout",
     "output_type": "stream",
     "text": [
      "vae_loss: 0.2136484980583191\n",
      "vae_loss: 0.21146149933338165\n",
      "vae_loss: 0.21224039793014526\n",
      "vae_loss: 0.2101670503616333\n",
      "vae_loss: 0.19226402044296265\n",
      "vae_loss: 0.21478751301765442\n",
      "vae_loss: 0.24927200376987457\n",
      "vae_loss: 0.21786969900131226\n"
     ]
    },
    {
     "name": "stderr",
     "output_type": "stream",
     "text": [
      "2023-01-02 20:15:27,229 (client:410)INFO: {'Role': 'Client #1', 'Round': 180, 'Results_raw': {'test_avg_loss': 3.19388, 'test_total': 113, 'test_imp_ratio': -245.545801, 'test_loss': 360.908415, 'val_avg_loss': 2.701597, 'val_total': 113, 'val_imp_ratio': -192.285701, 'val_loss': 305.280428}}\n",
      "2023-01-02 20:15:27,231 (monitor:513)INFO: current_best=-159.723754, should_save=False\n"
     ]
    },
    {
     "name": "stdout",
     "output_type": "stream",
     "text": [
      "vae_loss: 0.1965891420841217\n",
      "vae_loss: 0.2038891613483429\n",
      "vae_loss: 0.21185994148254395\n",
      "vae_loss: 0.20363876223564148\n",
      "vae_loss: 0.2084052860736847\n",
      "vae_loss: 0.20206652581691742\n",
      "vae_loss: 0.2155281901359558\n",
      "vae_loss: 0.20610344409942627\n",
      "vae_loss: 0.20207002758979797\n",
      "vae_loss: 0.20290741324424744\n",
      "vae_loss: 0.20717132091522217\n"
     ]
    },
    {
     "name": "stderr",
     "output_type": "stream",
     "text": [
      "2023-01-02 20:15:27,519 (client:255)INFO: {'Role': 'Client #1', 'Round': 180, 'Results_raw': {'train_avg_loss': 3.482481, 'train_total': 901, 'train_imp_ratio': -276.76953, 'train_loss': 3137.715089}}\n",
      "2023-01-02 20:15:27,528 (server:496)INFO: {'Role': 'Server #', 'Round': 180, 'Results_avg': {'test_avg_loss': 3.19388, 'test_total': 113.0, 'test_imp_ratio': -245.545801, 'test_loss': 360.908415, 'val_avg_loss': 2.701597, 'val_total': 113.0, 'val_imp_ratio': -192.285701, 'val_loss': 305.280428}}\n",
      "2023-01-02 20:15:27,530 (monitor:513)INFO: current_best=-159.723754, should_save=False\n",
      "2023-01-02 20:15:27,531 (monitor:513)INFO: current_best=-159.723754, should_save=False\n",
      "2023-01-02 20:15:27,536 (server:323)INFO: Server #0: Starting evaluation at the end of round 180.\n",
      "2023-01-02 20:15:27,548 (server:330)INFO: ----------- Starting a new training round (Round #181) -------------\n"
     ]
    },
    {
     "name": "stdout",
     "output_type": "stream",
     "text": [
      "vae_loss: 0.2180301547050476\n",
      "vae_loss: 0.20019859075546265\n",
      "vae_loss: 0.21051645278930664\n",
      "vae_loss: 0.23564936220645905\n",
      "vae_loss: 0.21504291892051697\n",
      "vae_loss: 0.22280199825763702\n",
      "vae_loss: 0.25306764245033264\n",
      "vae_loss: 0.21911096572875977\n"
     ]
    },
    {
     "name": "stderr",
     "output_type": "stream",
     "text": [
      "2023-01-02 20:15:27,639 (client:410)INFO: {'Role': 'Client #1', 'Round': 181, 'Results_raw': {'test_avg_loss': 3.45265, 'test_total': 113, 'test_imp_ratio': -273.54207, 'test_loss': 390.14942, 'val_avg_loss': 3.094511, 'val_total': 113, 'val_imp_ratio': -234.795143, 'val_loss': 349.679775}}\n",
      "2023-01-02 20:15:27,641 (monitor:513)INFO: current_best=-159.723754, should_save=False\n"
     ]
    },
    {
     "name": "stdout",
     "output_type": "stream",
     "text": [
      "vae_loss: 0.19606086611747742\n",
      "vae_loss: 0.20417866110801697\n",
      "vae_loss: 0.21106523275375366\n",
      "vae_loss: 0.20540866255760193\n",
      "vae_loss: 0.2037874460220337\n",
      "vae_loss: 0.19441324472427368\n",
      "vae_loss: 0.2055043876171112\n",
      "vae_loss: 0.23509547114372253\n",
      "vae_loss: 0.21572089195251465\n",
      "vae_loss: 0.19714456796646118\n"
     ]
    },
    {
     "name": "stderr",
     "output_type": "stream",
     "text": [
      "2023-01-02 20:15:27,922 (client:255)INFO: {'Role': 'Client #1', 'Round': 181, 'Results_raw': {'train_avg_loss': 3.519287, 'train_total': 901, 'train_imp_ratio': -280.751633, 'train_loss': 3170.877819}}\n",
      "2023-01-02 20:15:27,927 (server:496)INFO: {'Role': 'Server #', 'Round': 181, 'Results_avg': {'test_avg_loss': 3.45265, 'test_total': 113.0, 'test_imp_ratio': -273.54207, 'test_loss': 390.14942, 'val_avg_loss': 3.094511, 'val_total': 113.0, 'val_imp_ratio': -234.795143, 'val_loss': 349.679775}}\n",
      "2023-01-02 20:15:27,929 (monitor:513)INFO: current_best=-159.723754, should_save=False\n",
      "2023-01-02 20:15:27,931 (monitor:513)INFO: current_best=-159.723754, should_save=False\n",
      "2023-01-02 20:15:27,942 (server:323)INFO: Server #0: Starting evaluation at the end of round 181.\n",
      "2023-01-02 20:15:27,955 (server:330)INFO: ----------- Starting a new training round (Round #182) -------------\n"
     ]
    },
    {
     "name": "stdout",
     "output_type": "stream",
     "text": [
      "vae_loss: 0.23837268352508545\n",
      "vae_loss: 0.19122326374053955\n",
      "vae_loss: 0.21389329433441162\n",
      "vae_loss: 0.20545506477355957\n",
      "vae_loss: 0.20902428030967712\n",
      "vae_loss: 0.2276764214038849\n",
      "vae_loss: 0.20762893557548523\n",
      "vae_loss: 0.2343631088733673\n",
      "vae_loss: 0.2170669138431549\n",
      "vae_loss: 0.19620758295059204\n"
     ]
    },
    {
     "name": "stderr",
     "output_type": "stream",
     "text": [
      "2023-01-02 20:15:28,038 (client:410)INFO: {'Role': 'Client #1', 'Round': 182, 'Results_raw': {'test_avg_loss': 3.676776, 'test_total': 113, 'test_imp_ratio': -297.79032, 'test_loss': 415.475701, 'val_avg_loss': 2.644701, 'val_total': 113, 'val_imp_ratio': -186.130127, 'val_loss': 298.851216}}\n",
      "2023-01-02 20:15:28,040 (monitor:513)INFO: current_best=-159.723754, should_save=False\n"
     ]
    },
    {
     "name": "stdout",
     "output_type": "stream",
     "text": [
      "vae_loss: 0.20338311791419983\n",
      "vae_loss: 0.21033142507076263\n",
      "vae_loss: 0.19010160863399506\n",
      "vae_loss: 0.21694421768188477\n",
      "vae_loss: 0.2181076854467392\n",
      "vae_loss: 0.23090244829654694\n",
      "vae_loss: 0.1704673171043396\n",
      "vae_loss: 0.20072488486766815\n",
      "vae_loss: 0.2274278849363327\n",
      "vae_loss: 0.20405834913253784\n",
      "vae_loss: 0.22301502525806427\n",
      "vae_loss: 0.2143496423959732\n"
     ]
    },
    {
     "name": "stderr",
     "output_type": "stream",
     "text": [
      "2023-01-02 20:15:28,317 (client:255)INFO: {'Role': 'Client #1', 'Round': 182, 'Results_raw': {'train_avg_loss': 3.401863, 'train_total': 901, 'train_imp_ratio': -268.04748, 'train_loss': 3065.07839}}\n",
      "2023-01-02 20:15:28,321 (server:496)INFO: {'Role': 'Server #', 'Round': 182, 'Results_avg': {'test_avg_loss': 3.676776, 'test_total': 113.0, 'test_imp_ratio': -297.79032, 'test_loss': 415.475701, 'val_avg_loss': 2.644701, 'val_total': 113.0, 'val_imp_ratio': -186.130127, 'val_loss': 298.851216}}\n",
      "2023-01-02 20:15:28,323 (monitor:513)INFO: current_best=-159.723754, should_save=False\n",
      "2023-01-02 20:15:28,324 (monitor:513)INFO: current_best=-159.723754, should_save=False\n",
      "2023-01-02 20:15:28,332 (server:323)INFO: Server #0: Starting evaluation at the end of round 182.\n",
      "2023-01-02 20:15:28,343 (server:330)INFO: ----------- Starting a new training round (Round #183) -------------\n",
      "2023-01-02 20:15:28,408 (client:410)INFO: {'Role': 'Client #1', 'Round': 183, 'Results_raw': {'test_avg_loss': 3.101988, 'test_total': 113, 'test_imp_ratio': -235.604007, 'test_loss': 350.524622, 'val_avg_loss': 2.530198, 'val_total': 113, 'val_imp_ratio': -173.74206, 'val_loss': 285.912374}}\n",
      "2023-01-02 20:15:28,409 (monitor:513)INFO: current_best=-159.723754, should_save=False\n"
     ]
    },
    {
     "name": "stdout",
     "output_type": "stream",
     "text": [
      "vae_loss: 0.21278923749923706\n",
      "vae_loss: 0.19983026385307312\n",
      "vae_loss: 0.2136482298374176\n",
      "vae_loss: 0.22168773412704468\n",
      "vae_loss: 0.21851763129234314\n",
      "vae_loss: 0.21851526200771332\n",
      "vae_loss: 0.19621556997299194\n",
      "vae_loss: 0.2037326991558075\n",
      "vae_loss: 0.21165338158607483\n",
      "vae_loss: 0.2153203934431076\n",
      "vae_loss: 0.21126751601696014\n",
      "vae_loss: 0.20598247647285461\n",
      "vae_loss: 0.21406695246696472\n",
      "vae_loss: 0.21106255054473877\n",
      "vae_loss: 0.20357559621334076\n",
      "vae_loss: 0.1956651508808136\n",
      "vae_loss: 0.21673539280891418\n",
      "vae_loss: 0.22886648774147034\n",
      "vae_loss: 0.20285478234291077\n",
      "vae_loss: 0.1911243498325348\n"
     ]
    },
    {
     "name": "stderr",
     "output_type": "stream",
     "text": [
      "2023-01-02 20:15:28,708 (client:255)INFO: {'Role': 'Client #1', 'Round': 183, 'Results_raw': {'train_avg_loss': 3.338084, 'train_total': 901, 'train_imp_ratio': -261.147245, 'train_loss': 3007.613818}}\n",
      "2023-01-02 20:15:28,712 (server:496)INFO: {'Role': 'Server #', 'Round': 183, 'Results_avg': {'test_avg_loss': 3.101988, 'test_total': 113.0, 'test_imp_ratio': -235.604007, 'test_loss': 350.524622, 'val_avg_loss': 2.530198, 'val_total': 113.0, 'val_imp_ratio': -173.74206, 'val_loss': 285.912374}}\n",
      "2023-01-02 20:15:28,713 (monitor:513)INFO: current_best=-159.723754, should_save=False\n",
      "2023-01-02 20:15:28,714 (monitor:513)INFO: current_best=-159.723754, should_save=False\n",
      "2023-01-02 20:15:28,721 (server:323)INFO: Server #0: Starting evaluation at the end of round 183.\n",
      "2023-01-02 20:15:28,727 (server:330)INFO: ----------- Starting a new training round (Round #184) -------------\n",
      "2023-01-02 20:15:28,807 (client:410)INFO: {'Role': 'Client #1', 'Round': 184, 'Results_raw': {'test_avg_loss': 3.530844, 'test_total': 113, 'test_imp_ratio': -282.001893, 'test_loss': 398.985338, 'val_avg_loss': 2.534488, 'val_total': 113, 'val_imp_ratio': -174.20618, 'val_loss': 286.397141}}\n",
      "2023-01-02 20:15:28,810 (monitor:513)INFO: current_best=-159.723754, should_save=False\n"
     ]
    },
    {
     "name": "stdout",
     "output_type": "stream",
     "text": [
      "vae_loss: 0.2178148478269577\n",
      "vae_loss: 0.21748605370521545\n",
      "vae_loss: 0.2182161659002304\n",
      "vae_loss: 0.15970921516418457\n",
      "vae_loss: 0.21810439229011536\n",
      "vae_loss: 0.19596993923187256\n",
      "vae_loss: 0.20523038506507874\n",
      "vae_loss: 0.21215102076530457\n",
      "vae_loss: 0.21117156744003296\n",
      "vae_loss: 0.1969771385192871\n",
      "vae_loss: 0.20225363969802856\n",
      "vae_loss: 0.19737112522125244\n",
      "vae_loss: 0.22381660342216492\n",
      "vae_loss: 0.21232673525810242\n",
      "vae_loss: 0.20883914828300476\n",
      "vae_loss: 0.2149820625782013\n",
      "vae_loss: 0.21337617933750153\n",
      "vae_loss: 0.22101618349552155\n",
      "vae_loss: 0.21813693642616272\n",
      "vae_loss: 0.2191014289855957\n"
     ]
    },
    {
     "name": "stderr",
     "output_type": "stream",
     "text": [
      "2023-01-02 20:15:29,115 (client:255)INFO: {'Role': 'Client #1', 'Round': 184, 'Results_raw': {'train_avg_loss': 3.374717, 'train_total': 901, 'train_imp_ratio': -265.11057, 'train_loss': 3040.619984}}\n",
      "2023-01-02 20:15:29,119 (server:496)INFO: {'Role': 'Server #', 'Round': 184, 'Results_avg': {'test_avg_loss': 3.530844, 'test_total': 113.0, 'test_imp_ratio': -282.001893, 'test_loss': 398.985338, 'val_avg_loss': 2.534488, 'val_total': 113.0, 'val_imp_ratio': -174.20618, 'val_loss': 286.397141}}\n",
      "2023-01-02 20:15:29,120 (monitor:513)INFO: current_best=-159.723754, should_save=False\n",
      "2023-01-02 20:15:29,121 (monitor:513)INFO: current_best=-159.723754, should_save=False\n",
      "2023-01-02 20:15:29,127 (server:323)INFO: Server #0: Starting evaluation at the end of round 184.\n",
      "2023-01-02 20:15:29,135 (server:330)INFO: ----------- Starting a new training round (Round #185) -------------\n",
      "2023-01-02 20:15:29,217 (client:410)INFO: {'Role': 'Client #1', 'Round': 185, 'Results_raw': {'test_avg_loss': 3.171619, 'test_total': 113, 'test_imp_ratio': -243.137343, 'test_loss': 358.392909, 'val_avg_loss': 2.654657, 'val_total': 113, 'val_imp_ratio': -187.207306, 'val_loss': 299.976254}}\n",
      "2023-01-02 20:15:29,218 (monitor:513)INFO: current_best=-159.723754, should_save=False\n"
     ]
    },
    {
     "name": "stdout",
     "output_type": "stream",
     "text": [
      "vae_loss: 0.21639780700206757\n",
      "vae_loss: 0.20428195595741272\n",
      "vae_loss: 0.22811830043792725\n",
      "vae_loss: 0.21839526295661926\n",
      "vae_loss: 0.19748324155807495\n",
      "vae_loss: 0.2061459720134735\n",
      "vae_loss: 0.21319061517715454\n",
      "vae_loss: 0.1968001276254654\n",
      "vae_loss: 0.20017430186271667\n",
      "vae_loss: 0.21015584468841553\n",
      "vae_loss: 0.2483418583869934\n",
      "vae_loss: 0.21154960989952087\n",
      "vae_loss: 0.22016063332557678\n",
      "vae_loss: 0.20800191164016724\n",
      "vae_loss: 0.2270127683877945\n",
      "vae_loss: 0.20926521718502045\n",
      "vae_loss: 0.1949559897184372\n",
      "vae_loss: 0.22224631905555725\n",
      "vae_loss: 0.2163059413433075\n"
     ]
    },
    {
     "name": "stderr",
     "output_type": "stream",
     "text": [
      "2023-01-02 20:15:29,539 (client:255)INFO: {'Role': 'Client #1', 'Round': 185, 'Results_raw': {'train_avg_loss': 3.42793, 'train_total': 901, 'train_imp_ratio': -270.867696, 'train_loss': 3088.564839}}\n",
      "2023-01-02 20:15:29,543 (server:496)INFO: {'Role': 'Server #', 'Round': 185, 'Results_avg': {'test_avg_loss': 3.171619, 'test_total': 113.0, 'test_imp_ratio': -243.137343, 'test_loss': 358.392909, 'val_avg_loss': 2.654657, 'val_total': 113.0, 'val_imp_ratio': -187.207306, 'val_loss': 299.976254}}\n",
      "2023-01-02 20:15:29,544 (monitor:513)INFO: current_best=-159.723754, should_save=False\n",
      "2023-01-02 20:15:29,546 (monitor:513)INFO: current_best=-159.723754, should_save=False\n",
      "2023-01-02 20:15:29,557 (server:323)INFO: Server #0: Starting evaluation at the end of round 185.\n",
      "2023-01-02 20:15:29,563 (server:330)INFO: ----------- Starting a new training round (Round #186) -------------\n",
      "2023-01-02 20:15:29,653 (client:410)INFO: {'Role': 'Client #1', 'Round': 186, 'Results_raw': {'test_avg_loss': 3.114678, 'test_total': 113, 'test_imp_ratio': -236.976971, 'test_loss': 351.958628, 'val_avg_loss': 2.584069, 'val_total': 113, 'val_imp_ratio': -179.570405, 'val_loss': 291.999825}}\n",
      "2023-01-02 20:15:29,655 (monitor:513)INFO: current_best=-159.723754, should_save=False\n"
     ]
    },
    {
     "name": "stdout",
     "output_type": "stream",
     "text": [
      "vae_loss: 0.20518188178539276\n",
      "vae_loss: 0.20314794778823853\n",
      "vae_loss: 0.20599158108234406\n",
      "vae_loss: 0.2203858494758606\n",
      "vae_loss: 0.19697999954223633\n",
      "vae_loss: 0.20599457621574402\n",
      "vae_loss: 0.21374072134494781\n",
      "vae_loss: 0.2086990773677826\n",
      "vae_loss: 0.19163882732391357\n",
      "vae_loss: 0.21528589725494385\n",
      "vae_loss: 0.21922697126865387\n",
      "vae_loss: 0.21149231493473053\n",
      "vae_loss: 0.2103724181652069\n",
      "vae_loss: 0.21903955936431885\n",
      "vae_loss: 0.2283991277217865\n",
      "vae_loss: 0.21745683252811432\n",
      "vae_loss: 0.20405080914497375\n",
      "vae_loss: 0.20471632480621338\n",
      "vae_loss: 0.2064460813999176\n"
     ]
    },
    {
     "name": "stderr",
     "output_type": "stream",
     "text": [
      "2023-01-02 20:15:29,957 (client:255)INFO: {'Role': 'Client #1', 'Round': 186, 'Results_raw': {'train_avg_loss': 3.409515, 'train_total': 901, 'train_imp_ratio': -268.875355, 'train_loss': 3071.972904}}\n",
      "2023-01-02 20:15:29,963 (server:496)INFO: {'Role': 'Server #', 'Round': 186, 'Results_avg': {'test_avg_loss': 3.114678, 'test_total': 113.0, 'test_imp_ratio': -236.976971, 'test_loss': 351.958628, 'val_avg_loss': 2.584069, 'val_total': 113.0, 'val_imp_ratio': -179.570405, 'val_loss': 291.999825}}\n",
      "2023-01-02 20:15:29,964 (monitor:513)INFO: current_best=-159.723754, should_save=False\n",
      "2023-01-02 20:15:29,965 (monitor:513)INFO: current_best=-159.723754, should_save=False\n",
      "2023-01-02 20:15:29,972 (server:323)INFO: Server #0: Starting evaluation at the end of round 186.\n",
      "2023-01-02 20:15:29,979 (server:330)INFO: ----------- Starting a new training round (Round #187) -------------\n",
      "2023-01-02 20:15:30,069 (client:410)INFO: {'Role': 'Client #1', 'Round': 187, 'Results_raw': {'test_avg_loss': 3.388753, 'test_total': 113, 'test_imp_ratio': -266.62917, 'test_loss': 382.929107, 'val_avg_loss': 2.621324, 'val_total': 113, 'val_imp_ratio': -183.601002, 'val_loss': 296.209621}}\n",
      "2023-01-02 20:15:30,070 (monitor:513)INFO: current_best=-159.723754, should_save=False\n"
     ]
    },
    {
     "name": "stdout",
     "output_type": "stream",
     "text": [
      "vae_loss: 0.22419337928295135\n",
      "vae_loss: 0.20733240246772766\n",
      "vae_loss: 0.1960705667734146\n",
      "vae_loss: 0.2204771637916565\n",
      "vae_loss: 0.1984599530696869\n",
      "vae_loss: 0.2059522271156311\n",
      "vae_loss: 0.21445927023887634\n",
      "vae_loss: 0.21089844405651093\n",
      "vae_loss: 0.21320128440856934\n",
      "vae_loss: 0.21762201189994812\n",
      "vae_loss: 0.2065436840057373\n",
      "vae_loss: 0.2103452831506729\n",
      "vae_loss: 0.23429709672927856\n",
      "vae_loss: 0.21573293209075928\n",
      "vae_loss: 0.21039411425590515\n",
      "vae_loss: 0.2057943195104599\n",
      "vae_loss: 0.207807719707489\n",
      "vae_loss: 0.19130009412765503\n",
      "vae_loss: 0.20821556448936462\n",
      "vae_loss: 0.219453364610672\n"
     ]
    },
    {
     "name": "stderr",
     "output_type": "stream",
     "text": [
      "2023-01-02 20:15:30,360 (client:255)INFO: {'Role': 'Client #1', 'Round': 187, 'Results_raw': {'train_avg_loss': 3.372291, 'train_total': 901, 'train_imp_ratio': -264.848111, 'train_loss': 3038.434311}}\n",
      "2023-01-02 20:15:30,369 (server:496)INFO: {'Role': 'Server #', 'Round': 187, 'Results_avg': {'test_avg_loss': 3.388753, 'test_total': 113.0, 'test_imp_ratio': -266.62917, 'test_loss': 382.929107, 'val_avg_loss': 2.621324, 'val_total': 113.0, 'val_imp_ratio': -183.601002, 'val_loss': 296.209621}}\n",
      "2023-01-02 20:15:30,371 (monitor:513)INFO: current_best=-159.723754, should_save=False\n",
      "2023-01-02 20:15:30,372 (monitor:513)INFO: current_best=-159.723754, should_save=False\n",
      "2023-01-02 20:15:30,381 (server:323)INFO: Server #0: Starting evaluation at the end of round 187.\n",
      "2023-01-02 20:15:30,389 (server:330)INFO: ----------- Starting a new training round (Round #188) -------------\n",
      "2023-01-02 20:15:30,466 (client:410)INFO: {'Role': 'Client #1', 'Round': 188, 'Results_raw': {'test_avg_loss': 3.173237, 'test_total': 113, 'test_imp_ratio': -243.312539, 'test_loss': 358.575837, 'val_avg_loss': 2.704807, 'val_total': 113, 'val_imp_ratio': -192.632998, 'val_loss': 305.643186}}\n",
      "2023-01-02 20:15:30,468 (monitor:513)INFO: current_best=-159.723754, should_save=False\n"
     ]
    },
    {
     "name": "stdout",
     "output_type": "stream",
     "text": [
      "vae_loss: 0.221607506275177\n",
      "vae_loss: 0.14751604199409485\n",
      "vae_loss: 0.21879813075065613\n",
      "vae_loss: 0.19807927310466766\n",
      "vae_loss: 0.2063344269990921\n",
      "vae_loss: 0.2144153118133545\n",
      "vae_loss: 0.19982537627220154\n",
      "vae_loss: 0.22268632054328918\n",
      "vae_loss: 0.20556163787841797\n",
      "vae_loss: 0.2094634771347046\n",
      "vae_loss: 0.20422214269638062\n",
      "vae_loss: 0.206131249666214\n",
      "vae_loss: 0.21142207086086273\n",
      "vae_loss: 0.2251097410917282\n",
      "vae_loss: 0.21427524089813232\n",
      "vae_loss: 0.20680373907089233\n",
      "vae_loss: 0.22726252675056458\n",
      "vae_loss: 0.22613608837127686\n",
      "vae_loss: 0.20892184972763062\n",
      "vae_loss: 0.19817812740802765\n"
     ]
    },
    {
     "name": "stderr",
     "output_type": "stream",
     "text": [
      "2023-01-02 20:15:30,759 (client:255)INFO: {'Role': 'Client #1', 'Round': 188, 'Results_raw': {'train_avg_loss': 3.460069, 'train_total': 901, 'train_imp_ratio': -274.344847, 'train_loss': 3117.52241}}\n",
      "2023-01-02 20:15:30,764 (server:496)INFO: {'Role': 'Server #', 'Round': 188, 'Results_avg': {'test_avg_loss': 3.173237, 'test_total': 113.0, 'test_imp_ratio': -243.312539, 'test_loss': 358.575837, 'val_avg_loss': 2.704807, 'val_total': 113.0, 'val_imp_ratio': -192.632998, 'val_loss': 305.643186}}\n",
      "2023-01-02 20:15:30,765 (monitor:513)INFO: current_best=-159.723754, should_save=False\n",
      "2023-01-02 20:15:30,766 (monitor:513)INFO: current_best=-159.723754, should_save=False\n",
      "2023-01-02 20:15:30,771 (server:323)INFO: Server #0: Starting evaluation at the end of round 188.\n",
      "2023-01-02 20:15:30,780 (server:330)INFO: ----------- Starting a new training round (Round #189) -------------\n",
      "2023-01-02 20:15:30,855 (client:410)INFO: {'Role': 'Client #1', 'Round': 189, 'Results_raw': {'test_avg_loss': 3.199132, 'test_total': 113, 'test_imp_ratio': -246.114029, 'test_loss': 361.501899, 'val_avg_loss': 2.614271, 'val_total': 113, 'val_imp_ratio': -182.837975, 'val_loss': 295.412652}}\n",
      "2023-01-02 20:15:30,857 (monitor:513)INFO: current_best=-159.723754, should_save=False\n"
     ]
    },
    {
     "name": "stdout",
     "output_type": "stream",
     "text": [
      "vae_loss: 0.257146954536438\n",
      "vae_loss: 0.2200949341058731\n",
      "vae_loss: 0.19679196178913116\n",
      "vae_loss: 0.20496805012226105\n",
      "vae_loss: 0.2142762541770935\n",
      "vae_loss: 0.20739269256591797\n",
      "vae_loss: 0.1975976824760437\n",
      "vae_loss: 0.22806823253631592\n",
      "vae_loss: 0.1957637220621109\n",
      "vae_loss: 0.20626607537269592\n",
      "vae_loss: 0.21717581152915955\n",
      "vae_loss: 0.20471547544002533\n",
      "vae_loss: 0.21275073289871216\n",
      "vae_loss: 0.2151324450969696\n",
      "vae_loss: 0.19396445155143738\n",
      "vae_loss: 0.23747147619724274\n",
      "vae_loss: 0.2004479020833969\n",
      "vae_loss: 0.21915896236896515\n",
      "vae_loss: 0.23384492099285126\n"
     ]
    },
    {
     "name": "stderr",
     "output_type": "stream",
     "text": [
      "2023-01-02 20:15:31,180 (client:255)INFO: {'Role': 'Client #1', 'Round': 189, 'Results_raw': {'train_avg_loss': 3.352889, 'train_total': 901, 'train_imp_ratio': -262.749057, 'train_loss': 3020.953419}}\n",
      "2023-01-02 20:15:31,187 (server:496)INFO: {'Role': 'Server #', 'Round': 189, 'Results_avg': {'test_avg_loss': 3.199132, 'test_total': 113.0, 'test_imp_ratio': -246.114029, 'test_loss': 361.501899, 'val_avg_loss': 2.614271, 'val_total': 113.0, 'val_imp_ratio': -182.837975, 'val_loss': 295.412652}}\n",
      "2023-01-02 20:15:31,189 (monitor:513)INFO: current_best=-159.723754, should_save=False\n",
      "2023-01-02 20:15:31,190 (monitor:513)INFO: current_best=-159.723754, should_save=False\n",
      "2023-01-02 20:15:31,199 (server:323)INFO: Server #0: Starting evaluation at the end of round 189.\n",
      "2023-01-02 20:15:31,208 (server:330)INFO: ----------- Starting a new training round (Round #190) -------------\n",
      "2023-01-02 20:15:31,283 (client:410)INFO: {'Role': 'Client #1', 'Round': 190, 'Results_raw': {'test_avg_loss': 3.181333, 'test_total': 113, 'test_imp_ratio': -244.188392, 'test_loss': 359.490646, 'val_avg_loss': 2.575472, 'val_total': 113, 'val_imp_ratio': -178.640281, 'val_loss': 291.028358}}\n",
      "2023-01-02 20:15:31,285 (monitor:513)INFO: current_best=-159.723754, should_save=False\n"
     ]
    },
    {
     "name": "stdout",
     "output_type": "stream",
     "text": [
      "vae_loss: 0.21639403700828552\n",
      "vae_loss: 0.2179553508758545\n",
      "vae_loss: 0.1953098177909851\n",
      "vae_loss: 0.20415687561035156\n",
      "vae_loss: 0.21211066842079163\n",
      "vae_loss: 0.23204100131988525\n",
      "vae_loss: 0.19713109731674194\n",
      "vae_loss: 0.20413722097873688\n",
      "vae_loss: 0.21594573557376862\n"
     ]
    },
    {
     "name": "stderr",
     "output_type": "stream",
     "text": [
      "2023-01-02 20:15:31,564 (client:255)INFO: {'Role': 'Client #1', 'Round': 190, 'Results_raw': {'train_avg_loss': 3.390895, 'train_total': 901, 'train_imp_ratio': -266.860856, 'train_loss': 3055.196409}}\n",
      "2023-01-02 20:15:31,568 (server:496)INFO: {'Role': 'Server #', 'Round': 190, 'Results_avg': {'test_avg_loss': 3.181333, 'test_total': 113.0, 'test_imp_ratio': -244.188392, 'test_loss': 359.490646, 'val_avg_loss': 2.575472, 'val_total': 113.0, 'val_imp_ratio': -178.640281, 'val_loss': 291.028358}}\n",
      "2023-01-02 20:15:31,569 (monitor:513)INFO: current_best=-159.723754, should_save=False\n",
      "2023-01-02 20:15:31,570 (monitor:513)INFO: current_best=-159.723754, should_save=False\n",
      "2023-01-02 20:15:31,575 (server:323)INFO: Server #0: Starting evaluation at the end of round 190.\n"
     ]
    },
    {
     "name": "stdout",
     "output_type": "stream",
     "text": [
      "vae_loss: 0.20620721578598022\n",
      "vae_loss: 0.20700716972351074\n",
      "vae_loss: 0.22644858062267303\n",
      "vae_loss: 0.2034292221069336\n",
      "vae_loss: 0.22045236825942993\n",
      "vae_loss: 0.20502358675003052\n",
      "vae_loss: 0.18762439489364624\n",
      "vae_loss: 0.23397430777549744\n",
      "vae_loss: 0.20278310775756836\n",
      "vae_loss: 0.20708878338336945\n",
      "vae_loss: 0.20197676122188568\n"
     ]
    },
    {
     "name": "stderr",
     "output_type": "stream",
     "text": [
      "2023-01-02 20:15:31,583 (server:330)INFO: ----------- Starting a new training round (Round #191) -------------\n",
      "2023-01-02 20:15:31,670 (client:410)INFO: {'Role': 'Client #1', 'Round': 191, 'Results_raw': {'test_avg_loss': 3.328637, 'test_total': 113, 'test_imp_ratio': -260.125215, 'test_loss': 376.136009, 'val_avg_loss': 2.631334, 'val_total': 113, 'val_imp_ratio': -184.683984, 'val_loss': 297.340747}}\n",
      "2023-01-02 20:15:31,671 (monitor:513)INFO: current_best=-159.723754, should_save=False\n"
     ]
    },
    {
     "name": "stdout",
     "output_type": "stream",
     "text": [
      "vae_loss: 0.21806477010250092\n",
      "vae_loss: 0.19502902030944824\n",
      "vae_loss: 0.20510147511959076\n",
      "vae_loss: 0.21331341564655304\n",
      "vae_loss: 0.22369521856307983\n",
      "vae_loss: 0.2171834409236908\n",
      "vae_loss: 0.238907590508461\n",
      "vae_loss: 0.2226453423500061\n",
      "vae_loss: 0.1825305074453354\n",
      "vae_loss: 0.21573832631111145\n",
      "vae_loss: 0.2151818573474884\n",
      "vae_loss: 0.21729342639446259\n"
     ]
    },
    {
     "name": "stderr",
     "output_type": "stream",
     "text": [
      "2023-01-02 20:15:31,961 (client:255)INFO: {'Role': 'Client #1', 'Round': 191, 'Results_raw': {'train_avg_loss': 3.357104, 'train_total': 901, 'train_imp_ratio': -263.205053, 'train_loss': 3024.750935}}\n",
      "2023-01-02 20:15:31,965 (server:496)INFO: {'Role': 'Server #', 'Round': 191, 'Results_avg': {'test_avg_loss': 3.328637, 'test_total': 113.0, 'test_imp_ratio': -260.125215, 'test_loss': 376.136009, 'val_avg_loss': 2.631334, 'val_total': 113.0, 'val_imp_ratio': -184.683984, 'val_loss': 297.340747}}\n",
      "2023-01-02 20:15:31,966 (monitor:513)INFO: current_best=-159.723754, should_save=False\n",
      "2023-01-02 20:15:31,967 (monitor:513)INFO: current_best=-159.723754, should_save=False\n",
      "2023-01-02 20:15:31,972 (server:323)INFO: Server #0: Starting evaluation at the end of round 191.\n",
      "2023-01-02 20:15:31,979 (server:330)INFO: ----------- Starting a new training round (Round #192) -------------\n"
     ]
    },
    {
     "name": "stdout",
     "output_type": "stream",
     "text": [
      "vae_loss: 0.20886990427970886\n",
      "vae_loss: 0.19969898462295532\n",
      "vae_loss: 0.21263352036476135\n",
      "vae_loss: 0.203838050365448\n",
      "vae_loss: 0.192262202501297\n",
      "vae_loss: 0.20338863134384155\n",
      "vae_loss: 0.17992588877677917\n",
      "vae_loss: 0.2174665331840515\n"
     ]
    },
    {
     "name": "stderr",
     "output_type": "stream",
     "text": [
      "2023-01-02 20:15:32,079 (client:410)INFO: {'Role': 'Client #1', 'Round': 192, 'Results_raw': {'test_avg_loss': 3.328153, 'test_total': 113, 'test_imp_ratio': -260.072775, 'test_loss': 376.081255, 'val_avg_loss': 2.734664, 'val_total': 113, 'val_imp_ratio': -195.863218, 'val_loss': 309.016982}}\n",
      "2023-01-02 20:15:32,080 (monitor:513)INFO: current_best=-159.723754, should_save=False\n"
     ]
    },
    {
     "name": "stdout",
     "output_type": "stream",
     "text": [
      "vae_loss: 0.19550970196723938\n",
      "vae_loss: 0.20397967100143433\n",
      "vae_loss: 0.21161219477653503\n",
      "vae_loss: 0.205031618475914\n",
      "vae_loss: 0.20515519380569458\n",
      "vae_loss: 0.219600647687912\n",
      "vae_loss: 0.20549646019935608\n",
      "vae_loss: 0.1928909569978714\n",
      "vae_loss: 0.19905322790145874\n",
      "vae_loss: 0.20393909513950348\n"
     ]
    },
    {
     "name": "stderr",
     "output_type": "stream",
     "text": [
      "2023-01-02 20:15:32,385 (client:255)INFO: {'Role': 'Client #1', 'Round': 192, 'Results_raw': {'train_avg_loss': 3.437547, 'train_total': 901, 'train_imp_ratio': -271.908143, 'train_loss': 3097.229956}}\n",
      "2023-01-02 20:15:32,390 (server:496)INFO: {'Role': 'Server #', 'Round': 192, 'Results_avg': {'test_avg_loss': 3.328153, 'test_total': 113.0, 'test_imp_ratio': -260.072775, 'test_loss': 376.081255, 'val_avg_loss': 2.734664, 'val_total': 113.0, 'val_imp_ratio': -195.863218, 'val_loss': 309.016982}}\n",
      "2023-01-02 20:15:32,391 (monitor:513)INFO: current_best=-159.723754, should_save=False\n",
      "2023-01-02 20:15:32,391 (monitor:513)INFO: current_best=-159.723754, should_save=False\n",
      "2023-01-02 20:15:32,396 (server:323)INFO: Server #0: Starting evaluation at the end of round 192.\n",
      "2023-01-02 20:15:32,404 (server:330)INFO: ----------- Starting a new training round (Round #193) -------------\n"
     ]
    },
    {
     "name": "stdout",
     "output_type": "stream",
     "text": [
      "vae_loss: 0.2151801586151123\n",
      "vae_loss: 0.2279691994190216\n",
      "vae_loss: 0.2254573106765747\n",
      "vae_loss: 0.21190707385540009\n",
      "vae_loss: 0.21549075841903687\n",
      "vae_loss: 0.20358341932296753\n",
      "vae_loss: 0.2072608470916748\n",
      "vae_loss: 0.335973858833313\n",
      "vae_loss: 0.21905791759490967\n",
      "vae_loss: 0.19523200392723083\n"
     ]
    },
    {
     "name": "stderr",
     "output_type": "stream",
     "text": [
      "2023-01-02 20:15:32,487 (client:410)INFO: {'Role': 'Client #1', 'Round': 193, 'Results_raw': {'test_avg_loss': 3.236397, 'test_total': 113, 'test_imp_ratio': -250.145761, 'test_loss': 365.712877, 'val_avg_loss': 2.772799, 'val_total': 113, 'val_imp_ratio': -199.989049, 'val_loss': 313.326262}}\n",
      "2023-01-02 20:15:32,488 (monitor:513)INFO: current_best=-159.723754, should_save=False\n"
     ]
    },
    {
     "name": "stdout",
     "output_type": "stream",
     "text": [
      "vae_loss: 0.20489439368247986\n",
      "vae_loss: 0.21171000599861145\n",
      "vae_loss: 0.21083581447601318\n",
      "vae_loss: 0.20577983558177948\n",
      "vae_loss: 0.21381337940692902\n",
      "vae_loss: 0.18915937840938568\n",
      "vae_loss: 0.21696990728378296\n",
      "vae_loss: 0.20230865478515625\n",
      "vae_loss: 0.2216944545507431\n",
      "vae_loss: 0.21659991145133972\n",
      "vae_loss: 0.2133771777153015\n"
     ]
    },
    {
     "name": "stderr",
     "output_type": "stream",
     "text": [
      "2023-01-02 20:15:32,775 (client:255)INFO: {'Role': 'Client #1', 'Round': 193, 'Results_raw': {'train_avg_loss': 3.521791, 'train_total': 901, 'train_imp_ratio': -281.022579, 'train_loss': 3173.134133}}\n",
      "2023-01-02 20:15:32,779 (server:496)INFO: {'Role': 'Server #', 'Round': 193, 'Results_avg': {'test_avg_loss': 3.236397, 'test_total': 113.0, 'test_imp_ratio': -250.145761, 'test_loss': 365.712877, 'val_avg_loss': 2.772799, 'val_total': 113.0, 'val_imp_ratio': -199.989049, 'val_loss': 313.326262}}\n",
      "2023-01-02 20:15:32,780 (monitor:513)INFO: current_best=-159.723754, should_save=False\n",
      "2023-01-02 20:15:32,783 (monitor:513)INFO: current_best=-159.723754, should_save=False\n",
      "2023-01-02 20:15:32,795 (server:323)INFO: Server #0: Starting evaluation at the end of round 193.\n",
      "2023-01-02 20:15:32,802 (server:330)INFO: ----------- Starting a new training round (Round #194) -------------\n",
      "2023-01-02 20:15:32,872 (client:410)INFO: {'Role': 'Client #1', 'Round': 194, 'Results_raw': {'test_avg_loss': 3.277543, 'test_total': 113, 'test_imp_ratio': -254.597376, 'test_loss': 370.36239, 'val_avg_loss': 2.629124, 'val_total': 113, 'val_imp_ratio': -184.444895, 'val_loss': 297.090981}}\n",
      "2023-01-02 20:15:32,874 (monitor:513)INFO: current_best=-159.723754, should_save=False\n"
     ]
    },
    {
     "name": "stdout",
     "output_type": "stream",
     "text": [
      "vae_loss: 0.2255752980709076\n",
      "vae_loss: 0.21028894186019897\n",
      "vae_loss: 0.20842573046684265\n",
      "vae_loss: 0.21263711154460907\n",
      "vae_loss: 0.21532389521598816\n",
      "vae_loss: 0.22531139850616455\n",
      "vae_loss: 0.218899667263031\n",
      "vae_loss: 0.196727454662323\n",
      "vae_loss: 0.20350506901741028\n",
      "vae_loss: 0.21280688047409058\n",
      "vae_loss: 0.22876068949699402\n",
      "vae_loss: 0.1952563226222992\n",
      "vae_loss: 0.20443890988826752\n",
      "vae_loss: 0.20478177070617676\n",
      "vae_loss: 0.21489854156970978\n",
      "vae_loss: 0.2311272919178009\n",
      "vae_loss: 0.20638728141784668\n",
      "vae_loss: 0.20994582772254944\n",
      "vae_loss: 0.20461127161979675\n",
      "vae_loss: 0.21271547675132751\n",
      "vae_loss: 0.22090446949005127\n",
      "vae_loss: 0.20450431108474731\n"
     ]
    },
    {
     "name": "stderr",
     "output_type": "stream",
     "text": [
      "2023-01-02 20:15:33,170 (client:255)INFO: {'Role': 'Client #1', 'Round': 194, 'Results_raw': {'train_avg_loss': 3.256788, 'train_total': 901, 'train_imp_ratio': -252.351887, 'train_loss': 2934.3664}}\n",
      "2023-01-02 20:15:33,174 (server:496)INFO: {'Role': 'Server #', 'Round': 194, 'Results_avg': {'test_avg_loss': 3.277543, 'test_total': 113.0, 'test_imp_ratio': -254.597376, 'test_loss': 370.36239, 'val_avg_loss': 2.629124, 'val_total': 113.0, 'val_imp_ratio': -184.444895, 'val_loss': 297.090981}}\n",
      "2023-01-02 20:15:33,175 (monitor:513)INFO: current_best=-159.723754, should_save=False\n",
      "2023-01-02 20:15:33,176 (monitor:513)INFO: current_best=-159.723754, should_save=False\n",
      "2023-01-02 20:15:33,181 (server:323)INFO: Server #0: Starting evaluation at the end of round 194.\n",
      "2023-01-02 20:15:33,193 (server:330)INFO: ----------- Starting a new training round (Round #195) -------------\n",
      "2023-01-02 20:15:33,269 (client:410)INFO: {'Role': 'Client #1', 'Round': 195, 'Results_raw': {'test_avg_loss': 3.198648, 'test_total': 113, 'test_imp_ratio': -246.061717, 'test_loss': 361.447246, 'val_avg_loss': 2.515749, 'val_total': 113, 'val_imp_ratio': -172.17881, 'val_loss': 284.279596}}\n",
      "2023-01-02 20:15:33,270 (monitor:513)INFO: current_best=-159.723754, should_save=False\n"
     ]
    },
    {
     "name": "stdout",
     "output_type": "stream",
     "text": [
      "vae_loss: 0.21087875962257385\n",
      "vae_loss: 0.19339589774608612\n",
      "vae_loss: 0.19257189333438873\n",
      "vae_loss: 0.21836405992507935\n",
      "vae_loss: 0.19636684656143188\n",
      "vae_loss: 0.20372551679611206\n",
      "vae_loss: 0.2129938006401062\n",
      "vae_loss: 0.21935094892978668\n",
      "vae_loss: 0.21054568886756897\n",
      "vae_loss: 0.22238121926784515\n",
      "vae_loss: 0.19825971126556396\n",
      "vae_loss: 0.2136194407939911\n",
      "vae_loss: 0.20800194144248962\n",
      "vae_loss: 0.22821439802646637\n",
      "vae_loss: 0.2143629491329193\n",
      "vae_loss: 0.20786303281784058\n",
      "vae_loss: 0.2100374400615692\n",
      "vae_loss: 0.2068312019109726\n",
      "vae_loss: 0.21633943915367126\n"
     ]
    },
    {
     "name": "stderr",
     "output_type": "stream",
     "text": [
      "2023-01-02 20:15:33,594 (client:255)INFO: {'Role': 'Client #1', 'Round': 195, 'Results_raw': {'train_avg_loss': 3.364241, 'train_total': 901, 'train_imp_ratio': -263.977185, 'train_loss': 3031.181028}}\n",
      "2023-01-02 20:15:33,599 (server:496)INFO: {'Role': 'Server #', 'Round': 195, 'Results_avg': {'test_avg_loss': 3.198648, 'test_total': 113.0, 'test_imp_ratio': -246.061717, 'test_loss': 361.447246, 'val_avg_loss': 2.515749, 'val_total': 113.0, 'val_imp_ratio': -172.17881, 'val_loss': 284.279596}}\n",
      "2023-01-02 20:15:33,600 (monitor:513)INFO: current_best=-159.723754, should_save=False\n",
      "2023-01-02 20:15:33,601 (monitor:513)INFO: current_best=-159.723754, should_save=False\n",
      "2023-01-02 20:15:33,608 (server:323)INFO: Server #0: Starting evaluation at the end of round 195.\n",
      "2023-01-02 20:15:33,619 (server:330)INFO: ----------- Starting a new training round (Round #196) -------------\n",
      "2023-01-02 20:15:33,703 (client:410)INFO: {'Role': 'Client #1', 'Round': 196, 'Results_raw': {'test_avg_loss': 3.157685, 'test_total': 113, 'test_imp_ratio': -241.629938, 'test_loss': 356.81845, 'val_avg_loss': 2.807427, 'val_total': 113, 'val_imp_ratio': -203.735442, 'val_loss': 317.239244}}\n",
      "2023-01-02 20:15:33,704 (monitor:513)INFO: current_best=-159.723754, should_save=False\n"
     ]
    },
    {
     "name": "stdout",
     "output_type": "stream",
     "text": [
      "vae_loss: 0.19167986512184143\n",
      "vae_loss: 0.19826678931713104\n",
      "vae_loss: 0.22285887598991394\n",
      "vae_loss: 0.21899375319480896\n",
      "vae_loss: 0.19687050580978394\n",
      "vae_loss: 0.2048426866531372\n",
      "vae_loss: 0.21319794654846191\n",
      "vae_loss: 0.20362871885299683\n",
      "vae_loss: 0.2099524438381195\n",
      "vae_loss: 0.22650110721588135\n",
      "vae_loss: 0.21542826294898987\n",
      "vae_loss: 0.21235814690589905\n",
      "vae_loss: 0.21288397908210754\n",
      "vae_loss: 0.20161989331245422\n",
      "vae_loss: 0.20845431089401245\n",
      "vae_loss: 0.2084231823682785\n",
      "vae_loss: 0.20617124438285828\n",
      "vae_loss: 0.18807002902030945\n",
      "vae_loss: 0.2240842580795288\n",
      "vae_loss: 0.22126181423664093\n"
     ]
    },
    {
     "name": "stderr",
     "output_type": "stream",
     "text": [
      "2023-01-02 20:15:33,987 (client:255)INFO: {'Role': 'Client #1', 'Round': 196, 'Results_raw': {'train_avg_loss': 3.231331, 'train_total': 901, 'train_imp_ratio': -249.597705, 'train_loss': 2911.429431}}\n",
      "2023-01-02 20:15:33,997 (server:496)INFO: {'Role': 'Server #', 'Round': 196, 'Results_avg': {'test_avg_loss': 3.157685, 'test_total': 113.0, 'test_imp_ratio': -241.629938, 'test_loss': 356.81845, 'val_avg_loss': 2.807427, 'val_total': 113.0, 'val_imp_ratio': -203.735442, 'val_loss': 317.239244}}\n",
      "2023-01-02 20:15:33,998 (monitor:513)INFO: current_best=-159.723754, should_save=False\n",
      "2023-01-02 20:15:34,000 (monitor:513)INFO: current_best=-159.723754, should_save=False\n",
      "2023-01-02 20:15:34,007 (server:323)INFO: Server #0: Starting evaluation at the end of round 196.\n",
      "2023-01-02 20:15:34,013 (server:330)INFO: ----------- Starting a new training round (Round #197) -------------\n",
      "2023-01-02 20:15:34,095 (client:410)INFO: {'Role': 'Client #1', 'Round': 197, 'Results_raw': {'test_avg_loss': 3.470478, 'test_total': 113, 'test_imp_ratio': -275.470931, 'test_loss': 392.163999, 'val_avg_loss': 2.835105, 'val_total': 113, 'val_imp_ratio': -206.730003, 'val_loss': 320.366894}}\n",
      "2023-01-02 20:15:34,096 (monitor:513)INFO: current_best=-159.723754, should_save=False\n"
     ]
    },
    {
     "name": "stdout",
     "output_type": "stream",
     "text": [
      "vae_loss: 0.20921221375465393\n",
      "vae_loss: 0.3084656596183777\n",
      "vae_loss: 0.21656014025211334\n",
      "vae_loss: 0.1947239488363266\n",
      "vae_loss: 0.20387926697731018\n",
      "vae_loss: 0.21211488544940948\n",
      "vae_loss: 0.20313480496406555\n",
      "vae_loss: 0.21728447079658508\n",
      "vae_loss: 0.19890311360359192\n",
      "vae_loss: 0.22829744219779968\n",
      "vae_loss: 0.22871911525726318\n",
      "vae_loss: 0.20517677068710327\n",
      "vae_loss: 0.21323689818382263\n",
      "vae_loss: 0.19594502449035645\n",
      "vae_loss: 0.2151678204536438\n",
      "vae_loss: 0.22189882397651672\n",
      "vae_loss: 0.20823271572589874\n",
      "vae_loss: 0.21508918702602386\n",
      "vae_loss: 0.20199859142303467\n",
      "vae_loss: 0.20126548409461975\n",
      "vae_loss: 0.23793014883995056\n"
     ]
    },
    {
     "name": "stderr",
     "output_type": "stream",
     "text": [
      "2023-01-02 20:15:34,373 (client:255)INFO: {'Role': 'Client #1', 'Round': 197, 'Results_raw': {'train_avg_loss': 3.466905, 'train_total': 901, 'train_imp_ratio': -275.084349, 'train_loss': 3123.681091}}\n",
      "2023-01-02 20:15:34,378 (server:496)INFO: {'Role': 'Server #', 'Round': 197, 'Results_avg': {'test_avg_loss': 3.470478, 'test_total': 113.0, 'test_imp_ratio': -275.470931, 'test_loss': 392.163999, 'val_avg_loss': 2.835105, 'val_total': 113.0, 'val_imp_ratio': -206.730003, 'val_loss': 320.366894}}\n",
      "2023-01-02 20:15:34,380 (monitor:513)INFO: current_best=-159.723754, should_save=False\n",
      "2023-01-02 20:15:34,382 (monitor:513)INFO: current_best=-159.723754, should_save=False\n",
      "2023-01-02 20:15:34,390 (server:323)INFO: Server #0: Starting evaluation at the end of round 197.\n",
      "2023-01-02 20:15:34,402 (server:330)INFO: ----------- Starting a new training round (Round #198) -------------\n",
      "2023-01-02 20:15:34,495 (client:410)INFO: {'Role': 'Client #1', 'Round': 198, 'Results_raw': {'test_avg_loss': 3.330142, 'test_total': 113, 'test_imp_ratio': -260.288004, 'test_loss': 376.30606, 'val_avg_loss': 2.527987, 'val_total': 113, 'val_imp_ratio': -173.502867, 'val_loss': 285.662536}}\n",
      "2023-01-02 20:15:34,496 (monitor:513)INFO: current_best=-159.723754, should_save=False\n"
     ]
    },
    {
     "name": "stdout",
     "output_type": "stream",
     "text": [
      "vae_loss: 0.21801483631134033\n",
      "vae_loss: 0.19610977172851562\n",
      "vae_loss: 0.20437707006931305\n",
      "vae_loss: 0.2120644748210907\n",
      "vae_loss: 0.20234766602516174\n",
      "vae_loss: 0.22310274839401245\n",
      "vae_loss: 0.22022709250450134\n",
      "vae_loss: 0.23535405099391937\n",
      "vae_loss: 0.2128537893295288\n",
      "vae_loss: 0.18283066153526306\n",
      "vae_loss: 0.20896773040294647\n",
      "vae_loss: 0.21106144785881042\n"
     ]
    },
    {
     "name": "stderr",
     "output_type": "stream",
     "text": [
      "2023-01-02 20:15:34,779 (client:255)INFO: {'Role': 'Client #1', 'Round': 198, 'Results_raw': {'train_avg_loss': 3.534318, 'train_total': 901, 'train_imp_ratio': -282.377822, 'train_loss': 3184.420557}}\n",
      "2023-01-02 20:15:34,783 (server:496)INFO: {'Role': 'Server #', 'Round': 198, 'Results_avg': {'test_avg_loss': 3.330142, 'test_total': 113.0, 'test_imp_ratio': -260.288004, 'test_loss': 376.30606, 'val_avg_loss': 2.527987, 'val_total': 113.0, 'val_imp_ratio': -173.502867, 'val_loss': 285.662536}}\n",
      "2023-01-02 20:15:34,784 (monitor:513)INFO: current_best=-159.723754, should_save=False\n",
      "2023-01-02 20:15:34,786 (monitor:513)INFO: current_best=-159.723754, should_save=False\n",
      "2023-01-02 20:15:34,792 (server:323)INFO: Server #0: Starting evaluation at the end of round 198.\n",
      "2023-01-02 20:15:34,799 (server:330)INFO: ----------- Starting a new training round (Round #199) -------------\n"
     ]
    },
    {
     "name": "stdout",
     "output_type": "stream",
     "text": [
      "vae_loss: 0.19702231884002686\n",
      "vae_loss: 0.21675848960876465\n",
      "vae_loss: 0.22396846115589142\n",
      "vae_loss: 0.2167423963546753\n",
      "vae_loss: 0.21795356273651123\n",
      "vae_loss: 0.19602808356285095\n",
      "vae_loss: 0.24819371104240417\n",
      "vae_loss: 0.21811828017234802\n",
      "vae_loss: 0.19741412997245789\n",
      "vae_loss: 0.20504871010780334\n",
      "vae_loss: 0.21285223960876465\n"
     ]
    },
    {
     "name": "stderr",
     "output_type": "stream",
     "text": [
      "2023-01-02 20:15:34,874 (client:410)INFO: {'Role': 'Client #1', 'Round': 199, 'Results_raw': {'test_avg_loss': 3.126025, 'test_total': 113, 'test_imp_ratio': -238.204583, 'test_loss': 353.240827, 'val_avg_loss': 2.812382, 'val_total': 113, 'val_imp_ratio': -204.271529, 'val_loss': 317.799115}}\n",
      "2023-01-02 20:15:34,875 (monitor:513)INFO: current_best=-159.723754, should_save=False\n"
     ]
    },
    {
     "name": "stdout",
     "output_type": "stream",
     "text": [
      "vae_loss: 0.21405747532844543\n",
      "vae_loss: 0.22755108773708344\n",
      "vae_loss: 0.20946088433265686\n",
      "vae_loss: 0.2357620894908905\n",
      "vae_loss: 0.22423136234283447\n",
      "vae_loss: 0.21730002760887146\n",
      "vae_loss: 0.2012012004852295\n",
      "vae_loss: 0.2045135796070099\n",
      "vae_loss: 0.20391201972961426\n",
      "vae_loss: 0.19734369218349457\n",
      "vae_loss: 0.19738887250423431\n",
      "vae_loss: 0.2161015272140503\n"
     ]
    },
    {
     "name": "stderr",
     "output_type": "stream",
     "text": [
      "2023-01-02 20:15:35,173 (client:255)INFO: {'Role': 'Client #1', 'Round': 199, 'Results_raw': {'train_avg_loss': 3.322146, 'train_total': 901, 'train_imp_ratio': -259.42296, 'train_loss': 2993.253769}}\n",
      "2023-01-02 20:15:35,177 (server:496)INFO: {'Role': 'Server #', 'Round': 199, 'Results_avg': {'test_avg_loss': 3.126025, 'test_total': 113.0, 'test_imp_ratio': -238.204583, 'test_loss': 353.240827, 'val_avg_loss': 2.812382, 'val_total': 113.0, 'val_imp_ratio': -204.271529, 'val_loss': 317.799115}}\n",
      "2023-01-02 20:15:35,178 (monitor:513)INFO: current_best=-159.723754, should_save=False\n",
      "2023-01-02 20:15:35,179 (monitor:513)INFO: current_best=-159.723754, should_save=False\n",
      "2023-01-02 20:15:35,185 (server:323)INFO: Server #0: Starting evaluation at the end of round 199.\n",
      "2023-01-02 20:15:35,192 (server:330)INFO: ----------- Starting a new training round (Round #200) -------------\n",
      "2023-01-02 20:15:35,271 (client:410)INFO: {'Role': 'Client #1', 'Round': 200, 'Results_raw': {'test_avg_loss': 3.221452, 'test_total': 113, 'test_imp_ratio': -248.528807, 'test_loss': 364.024049, 'val_avg_loss': 2.790744, 'val_total': 113, 'val_imp_ratio': -201.930575, 'val_loss': 315.354082}}\n",
      "2023-01-02 20:15:35,272 (monitor:513)INFO: current_best=-159.723754, should_save=False\n"
     ]
    },
    {
     "name": "stdout",
     "output_type": "stream",
     "text": [
      "vae_loss: 0.21262070536613464\n",
      "vae_loss: 0.21004167199134827\n",
      "vae_loss: 0.26855114102363586\n",
      "vae_loss: 0.21904098987579346\n",
      "vae_loss: 0.19421224296092987\n",
      "vae_loss: 0.20491425693035126\n",
      "vae_loss: 0.21291124820709229\n",
      "vae_loss: 0.19560810923576355\n",
      "vae_loss: 0.20695938169956207\n",
      "vae_loss: 0.20117822289466858\n",
      "vae_loss: 0.20585224032402039\n",
      "vae_loss: 0.21506597101688385\n",
      "vae_loss: 0.2082531750202179\n",
      "vae_loss: 0.2073788344860077\n",
      "vae_loss: 0.22665786743164062\n",
      "vae_loss: 0.24490468204021454\n",
      "vae_loss: 0.2248341143131256\n",
      "vae_loss: 0.21174824237823486\n",
      "vae_loss: 0.206726536154747\n",
      "vae_loss: 0.21110835671424866\n"
     ]
    },
    {
     "name": "stderr",
     "output_type": "stream",
     "text": [
      "2023-01-02 20:15:35,600 (client:255)INFO: {'Role': 'Client #1', 'Round': 200, 'Results_raw': {'train_avg_loss': 3.356115, 'train_total': 901, 'train_imp_ratio': -263.098057, 'train_loss': 3023.859871}}\n",
      "2023-01-02 20:15:35,605 (server:496)INFO: {'Role': 'Server #', 'Round': 200, 'Results_avg': {'test_avg_loss': 3.221452, 'test_total': 113.0, 'test_imp_ratio': -248.528807, 'test_loss': 364.024049, 'val_avg_loss': 2.790744, 'val_total': 113.0, 'val_imp_ratio': -201.930575, 'val_loss': 315.354082}}\n",
      "2023-01-02 20:15:35,606 (monitor:513)INFO: current_best=-159.723754, should_save=False\n",
      "2023-01-02 20:15:35,607 (monitor:513)INFO: current_best=-159.723754, should_save=False\n",
      "2023-01-02 20:15:35,614 (server:323)INFO: Server #0: Starting evaluation at the end of round 200.\n",
      "2023-01-02 20:15:35,622 (server:330)INFO: ----------- Starting a new training round (Round #201) -------------\n",
      "2023-01-02 20:15:35,712 (client:410)INFO: {'Role': 'Client #1', 'Round': 201, 'Results_raw': {'test_avg_loss': 3.419562, 'test_total': 113, 'test_imp_ratio': -269.962335, 'test_loss': 386.410492, 'val_avg_loss': 2.642638, 'val_total': 113, 'val_imp_ratio': -185.906953, 'val_loss': 298.618098}}\n",
      "2023-01-02 20:15:35,713 (monitor:513)INFO: current_best=-159.723754, should_save=False\n"
     ]
    },
    {
     "name": "stdout",
     "output_type": "stream",
     "text": [
      "vae_loss: 0.20475465059280396\n",
      "vae_loss: 0.2092636376619339\n",
      "vae_loss: 0.21937063336372375\n",
      "vae_loss: 0.1955236792564392\n",
      "vae_loss: 0.20430317521095276\n",
      "vae_loss: 0.21266810595989227\n",
      "vae_loss: 0.20497766137123108\n",
      "vae_loss: 0.2080163061618805\n",
      "vae_loss: 0.20091743767261505\n",
      "vae_loss: 0.22191829979419708\n",
      "vae_loss: 0.22902163863182068\n",
      "vae_loss: 0.2137880176305771\n",
      "vae_loss: 0.2131965458393097\n",
      "vae_loss: 0.20762008428573608\n",
      "vae_loss: 0.22954633831977844\n",
      "vae_loss: 0.21356675028800964\n",
      "vae_loss: 0.20371142029762268\n",
      "vae_loss: 0.19729919731616974\n",
      "vae_loss: 0.2144741714000702\n"
     ]
    },
    {
     "name": "stderr",
     "output_type": "stream",
     "text": [
      "2023-01-02 20:15:36,011 (client:255)INFO: {'Role': 'Client #1', 'Round': 201, 'Results_raw': {'train_avg_loss': 3.454729, 'train_total': 901, 'train_imp_ratio': -273.767101, 'train_loss': 3112.711168}}\n",
      "2023-01-02 20:15:36,015 (server:496)INFO: {'Role': 'Server #', 'Round': 201, 'Results_avg': {'test_avg_loss': 3.419562, 'test_total': 113.0, 'test_imp_ratio': -269.962335, 'test_loss': 386.410492, 'val_avg_loss': 2.642638, 'val_total': 113.0, 'val_imp_ratio': -185.906953, 'val_loss': 298.618098}}\n",
      "2023-01-02 20:15:36,016 (monitor:513)INFO: current_best=-159.723754, should_save=False\n",
      "2023-01-02 20:15:36,017 (monitor:513)INFO: current_best=-159.723754, should_save=False\n",
      "2023-01-02 20:15:36,024 (server:323)INFO: Server #0: Starting evaluation at the end of round 201.\n",
      "2023-01-02 20:15:36,032 (server:330)INFO: ----------- Starting a new training round (Round #202) -------------\n",
      "2023-01-02 20:15:36,128 (client:410)INFO: {'Role': 'Client #1', 'Round': 202, 'Results_raw': {'test_avg_loss': 2.987901, 'test_total': 113, 'test_imp_ratio': -223.260925, 'test_loss': 337.632778, 'val_avg_loss': 2.581246, 'val_total': 113, 'val_imp_ratio': -179.264972, 'val_loss': 291.680824}}\n",
      "2023-01-02 20:15:36,129 (monitor:513)INFO: current_best=-159.723754, should_save=False\n"
     ]
    },
    {
     "name": "stdout",
     "output_type": "stream",
     "text": [
      "vae_loss: 0.20455743372440338\n",
      "vae_loss: 0.20872525870800018\n",
      "vae_loss: 0.21778184175491333\n",
      "vae_loss: 0.19607169926166534\n",
      "vae_loss: 0.20473504066467285\n",
      "vae_loss: 0.2121732234954834\n",
      "vae_loss: 0.2188197374343872\n",
      "vae_loss: 0.19554510712623596\n",
      "vae_loss: 0.21666163206100464\n",
      "vae_loss: 0.20703992247581482\n",
      "vae_loss: 0.19399738311767578\n",
      "vae_loss: 0.19874046742916107\n",
      "vae_loss: 0.22538091242313385\n",
      "vae_loss: 0.21508121490478516\n",
      "vae_loss: 0.19903402030467987\n",
      "vae_loss: 0.20893746614456177\n",
      "vae_loss: 0.2180355191230774\n",
      "vae_loss: 0.23623964190483093\n",
      "vae_loss: 0.21538835763931274\n",
      "vae_loss: 0.21338409185409546\n"
     ]
    },
    {
     "name": "stderr",
     "output_type": "stream",
     "text": [
      "2023-01-02 20:15:36,424 (client:255)INFO: {'Role': 'Client #1', 'Round': 202, 'Results_raw': {'train_avg_loss': 3.441352, 'train_total': 901, 'train_imp_ratio': -272.319824, 'train_loss': 3100.65802}}\n",
      "2023-01-02 20:15:36,429 (server:496)INFO: {'Role': 'Server #', 'Round': 202, 'Results_avg': {'test_avg_loss': 2.987901, 'test_total': 113.0, 'test_imp_ratio': -223.260925, 'test_loss': 337.632778, 'val_avg_loss': 2.581246, 'val_total': 113.0, 'val_imp_ratio': -179.264972, 'val_loss': 291.680824}}\n",
      "2023-01-02 20:15:36,431 (monitor:513)INFO: current_best=-159.723754, should_save=False\n",
      "2023-01-02 20:15:36,432 (monitor:513)INFO: current_best=-159.723754, should_save=False\n",
      "2023-01-02 20:15:36,441 (server:323)INFO: Server #0: Starting evaluation at the end of round 202.\n",
      "2023-01-02 20:15:36,449 (server:330)INFO: ----------- Starting a new training round (Round #203) -------------\n",
      "2023-01-02 20:15:36,537 (client:410)INFO: {'Role': 'Client #1', 'Round': 203, 'Results_raw': {'test_avg_loss': 3.269565, 'test_total': 113, 'test_imp_ratio': -253.734189, 'test_loss': 369.460803, 'val_avg_loss': 2.450427, 'val_total': 113, 'val_imp_ratio': -165.11171, 'val_loss': 276.898291}}\n",
      "2023-01-02 20:15:36,538 (monitor:513)INFO: current_best=-159.723754, should_save=False\n"
     ]
    },
    {
     "name": "stdout",
     "output_type": "stream",
     "text": [
      "vae_loss: 0.1388254463672638\n",
      "vae_loss: 0.2185121774673462\n",
      "vae_loss: 0.19520169496536255\n",
      "vae_loss: 0.20360499620437622\n",
      "vae_loss: 0.21217186748981476\n",
      "vae_loss: 0.24017369747161865\n",
      "vae_loss: 0.2095373272895813\n",
      "vae_loss: 0.2208971381187439\n",
      "vae_loss: 0.21617865562438965\n",
      "vae_loss: 0.21072280406951904\n",
      "vae_loss: 0.20628076791763306\n",
      "vae_loss: 0.18970075249671936\n",
      "vae_loss: 0.20614133775234222\n",
      "vae_loss: 0.20719951391220093\n",
      "vae_loss: 0.21229150891304016\n",
      "vae_loss: 0.1972859501838684\n",
      "vae_loss: 0.20270609855651855\n",
      "vae_loss: 0.2256566435098648\n",
      "vae_loss: 0.2152302861213684\n",
      "vae_loss: 0.20799604058265686\n"
     ]
    },
    {
     "name": "stderr",
     "output_type": "stream",
     "text": [
      "2023-01-02 20:15:36,825 (client:255)INFO: {'Role': 'Client #1', 'Round': 203, 'Results_raw': {'train_avg_loss': 3.476046, 'train_total': 901, 'train_imp_ratio': -276.073414, 'train_loss': 3131.917864}}\n",
      "2023-01-02 20:15:36,830 (server:496)INFO: {'Role': 'Server #', 'Round': 203, 'Results_avg': {'test_avg_loss': 3.269565, 'test_total': 113.0, 'test_imp_ratio': -253.734189, 'test_loss': 369.460803, 'val_avg_loss': 2.450427, 'val_total': 113.0, 'val_imp_ratio': -165.11171, 'val_loss': 276.898291}}\n",
      "2023-01-02 20:15:36,831 (monitor:513)INFO: current_best=-159.723754, should_save=False\n",
      "2023-01-02 20:15:36,832 (monitor:513)INFO: current_best=-159.723754, should_save=False\n",
      "2023-01-02 20:15:36,837 (server:323)INFO: Server #0: Starting evaluation at the end of round 203.\n",
      "2023-01-02 20:15:36,845 (server:330)INFO: ----------- Starting a new training round (Round #204) -------------\n",
      "2023-01-02 20:15:36,924 (client:410)INFO: {'Role': 'Client #1', 'Round': 204, 'Results_raw': {'test_avg_loss': 3.207589, 'test_total': 113, 'test_imp_ratio': -247.029037, 'test_loss': 362.457594, 'val_avg_loss': 2.698525, 'val_total': 113, 'val_imp_ratio': -191.953391, 'val_loss': 304.933361}}\n",
      "2023-01-02 20:15:36,926 (monitor:513)INFO: current_best=-159.723754, should_save=False\n"
     ]
    },
    {
     "name": "stdout",
     "output_type": "stream",
     "text": [
      "vae_loss: 0.21804678440093994\n",
      "vae_loss: 0.19502009451389313\n",
      "vae_loss: 0.20438659191131592\n",
      "vae_loss: 0.21271060407161713\n",
      "vae_loss: 0.20707562565803528\n",
      "vae_loss: 0.20917828381061554\n",
      "vae_loss: 0.195030078291893\n",
      "vae_loss: 0.1998670995235443\n",
      "vae_loss: 0.18281158804893494\n",
      "vae_loss: 0.23571063578128815\n",
      "vae_loss: 0.21022823452949524\n",
      "vae_loss: 0.2361714392900467\n"
     ]
    },
    {
     "name": "stderr",
     "output_type": "stream",
     "text": [
      "2023-01-02 20:15:37,217 (client:255)INFO: {'Role': 'Client #1', 'Round': 204, 'Results_raw': {'train_avg_loss': 3.438719, 'train_total': 901, 'train_imp_ratio': -272.034923, 'train_loss': 3098.285464}}\n",
      "2023-01-02 20:15:37,222 (server:496)INFO: {'Role': 'Server #', 'Round': 204, 'Results_avg': {'test_avg_loss': 3.207589, 'test_total': 113.0, 'test_imp_ratio': -247.029037, 'test_loss': 362.457594, 'val_avg_loss': 2.698525, 'val_total': 113.0, 'val_imp_ratio': -191.953391, 'val_loss': 304.933361}}\n",
      "2023-01-02 20:15:37,224 (monitor:513)INFO: current_best=-159.723754, should_save=False\n",
      "2023-01-02 20:15:37,225 (monitor:513)INFO: current_best=-159.723754, should_save=False\n",
      "2023-01-02 20:15:37,231 (server:323)INFO: Server #0: Starting evaluation at the end of round 204.\n",
      "2023-01-02 20:15:37,239 (server:330)INFO: ----------- Starting a new training round (Round #205) -------------\n"
     ]
    },
    {
     "name": "stdout",
     "output_type": "stream",
     "text": [
      "vae_loss: 0.22252875566482544\n",
      "vae_loss: 0.22725282609462738\n",
      "vae_loss: 0.19727307558059692\n",
      "vae_loss: 0.21968352794647217\n",
      "vae_loss: 0.19971531629562378\n",
      "vae_loss: 0.22075223922729492\n",
      "vae_loss: 0.21909858286380768\n",
      "vae_loss: 0.21868929266929626\n",
      "vae_loss: 0.19599920511245728\n"
     ]
    },
    {
     "name": "stderr",
     "output_type": "stream",
     "text": [
      "2023-01-02 20:15:37,322 (client:410)INFO: {'Role': 'Client #1', 'Round': 205, 'Results_raw': {'test_avg_loss': 3.280484, 'test_total': 113, 'test_imp_ratio': -254.915525, 'test_loss': 370.694679, 'val_avg_loss': 2.690672, 'val_total': 113, 'val_imp_ratio': -191.103771, 'val_loss': 304.045975}}\n",
      "2023-01-02 20:15:37,323 (monitor:513)INFO: current_best=-159.723754, should_save=False\n"
     ]
    },
    {
     "name": "stdout",
     "output_type": "stream",
     "text": [
      "vae_loss: 0.20403163135051727\n",
      "vae_loss: 0.21167190372943878\n",
      "vae_loss: 0.20040559768676758\n",
      "vae_loss: 0.21748876571655273\n",
      "vae_loss: 0.20554772019386292\n",
      "vae_loss: 0.2100163847208023\n",
      "vae_loss: 0.2076316475868225\n",
      "vae_loss: 0.216637521982193\n",
      "vae_loss: 0.22457416355609894\n",
      "vae_loss: 0.20891517400741577\n",
      "vae_loss: 0.19646486639976501\n"
     ]
    },
    {
     "name": "stderr",
     "output_type": "stream",
     "text": [
      "2023-01-02 20:15:37,613 (client:255)INFO: {'Role': 'Client #1', 'Round': 205, 'Results_raw': {'train_avg_loss': 3.242354, 'train_total': 901, 'train_imp_ratio': -250.790185, 'train_loss': 2921.360796}}\n",
      "2023-01-02 20:15:37,617 (server:496)INFO: {'Role': 'Server #', 'Round': 205, 'Results_avg': {'test_avg_loss': 3.280484, 'test_total': 113.0, 'test_imp_ratio': -254.915525, 'test_loss': 370.694679, 'val_avg_loss': 2.690672, 'val_total': 113.0, 'val_imp_ratio': -191.103771, 'val_loss': 304.045975}}\n",
      "2023-01-02 20:15:37,618 (monitor:513)INFO: current_best=-159.723754, should_save=False\n",
      "2023-01-02 20:15:37,620 (monitor:513)INFO: current_best=-159.723754, should_save=False\n",
      "2023-01-02 20:15:37,627 (server:323)INFO: Server #0: Starting evaluation at the end of round 205.\n",
      "2023-01-02 20:15:37,634 (server:330)INFO: ----------- Starting a new training round (Round #206) -------------\n"
     ]
    },
    {
     "name": "stdout",
     "output_type": "stream",
     "text": [
      "vae_loss: 0.209180548787117\n",
      "vae_loss: 0.21976473927497864\n",
      "vae_loss: 0.2109096795320511\n",
      "vae_loss: 0.21780318021774292\n",
      "vae_loss: 0.20918062329292297\n",
      "vae_loss: 0.22540029883384705\n",
      "vae_loss: 0.21806782484054565\n",
      "vae_loss: 0.19670966267585754\n",
      "vae_loss: 0.20556524395942688\n",
      "vae_loss: 0.2125888615846634\n"
     ]
    },
    {
     "name": "stderr",
     "output_type": "stream",
     "text": [
      "2023-01-02 20:15:37,719 (client:410)INFO: {'Role': 'Client #1', 'Round': 206, 'Results_raw': {'test_avg_loss': 3.178091, 'test_total': 113, 'test_imp_ratio': -243.837561, 'test_loss': 359.124252, 'val_avg_loss': 2.925506, 'val_total': 113, 'val_imp_ratio': -216.510453, 'val_loss': 330.582215}}\n",
      "2023-01-02 20:15:37,721 (monitor:513)INFO: current_best=-159.723754, should_save=False\n"
     ]
    },
    {
     "name": "stdout",
     "output_type": "stream",
     "text": [
      "vae_loss: 0.22418825328350067\n",
      "vae_loss: 0.21329250931739807\n",
      "vae_loss: 0.20379191637039185\n",
      "vae_loss: 0.20291097462177277\n",
      "vae_loss: 0.20546630024909973\n",
      "vae_loss: 0.20956408977508545\n",
      "vae_loss: 0.20648746192455292\n",
      "vae_loss: 0.18547938764095306\n",
      "vae_loss: 0.22921469807624817\n",
      "vae_loss: 0.23499926924705505\n",
      "vae_loss: 0.19688396155834198\n",
      "vae_loss: 0.1964331567287445\n"
     ]
    },
    {
     "name": "stderr",
     "output_type": "stream",
     "text": [
      "2023-01-02 20:15:38,008 (client:255)INFO: {'Role': 'Client #1', 'Round': 206, 'Results_raw': {'train_avg_loss': 3.393386, 'train_total': 901, 'train_imp_ratio': -267.130408, 'train_loss': 3057.441231}}\n",
      "2023-01-02 20:15:38,012 (server:496)INFO: {'Role': 'Server #', 'Round': 206, 'Results_avg': {'test_avg_loss': 3.178091, 'test_total': 113.0, 'test_imp_ratio': -243.837561, 'test_loss': 359.124252, 'val_avg_loss': 2.925506, 'val_total': 113.0, 'val_imp_ratio': -216.510453, 'val_loss': 330.582215}}\n",
      "2023-01-02 20:15:38,013 (monitor:513)INFO: current_best=-159.723754, should_save=False\n",
      "2023-01-02 20:15:38,014 (monitor:513)INFO: current_best=-159.723754, should_save=False\n",
      "2023-01-02 20:15:38,021 (server:323)INFO: Server #0: Starting evaluation at the end of round 206.\n",
      "2023-01-02 20:15:38,034 (server:330)INFO: ----------- Starting a new training round (Round #207) -------------\n",
      "2023-01-02 20:15:38,121 (client:410)INFO: {'Role': 'Client #1', 'Round': 207, 'Results_raw': {'test_avg_loss': 3.273757, 'test_total': 113, 'test_imp_ratio': -254.187733, 'test_loss': 369.934568, 'val_avg_loss': 2.851994, 'val_total': 113, 'val_imp_ratio': -208.557208, 'val_loss': 322.275359}}\n",
      "2023-01-02 20:15:38,122 (monitor:513)INFO: current_best=-159.723754, should_save=False\n"
     ]
    },
    {
     "name": "stdout",
     "output_type": "stream",
     "text": [
      "vae_loss: 0.23139280080795288\n",
      "vae_loss: 0.21495705842971802\n",
      "vae_loss: 0.2774721086025238\n",
      "vae_loss: 0.21994324028491974\n",
      "vae_loss: 0.1956176906824112\n",
      "vae_loss: 0.20520246028900146\n",
      "vae_loss: 0.21262815594673157\n",
      "vae_loss: 0.2276473343372345\n",
      "vae_loss: 0.19994932413101196\n",
      "vae_loss: 0.22980664670467377\n",
      "vae_loss: 0.20316669344902039\n",
      "vae_loss: 0.22390352189540863\n",
      "vae_loss: 0.19853872060775757\n",
      "vae_loss: 0.20702674984931946\n",
      "vae_loss: 0.19690388441085815\n",
      "vae_loss: 0.22453440725803375\n",
      "vae_loss: 0.20645804703235626\n",
      "vae_loss: 0.21939784288406372\n",
      "vae_loss: 0.22362792491912842\n"
     ]
    },
    {
     "name": "stderr",
     "output_type": "stream",
     "text": [
      "2023-01-02 20:15:38,425 (client:255)INFO: {'Role': 'Client #1', 'Round': 207, 'Results_raw': {'train_avg_loss': 3.526181, 'train_total': 901, 'train_imp_ratio': -281.497404, 'train_loss': 3177.088715}}\n",
      "2023-01-02 20:15:38,429 (server:496)INFO: {'Role': 'Server #', 'Round': 207, 'Results_avg': {'test_avg_loss': 3.273757, 'test_total': 113.0, 'test_imp_ratio': -254.187733, 'test_loss': 369.934568, 'val_avg_loss': 2.851994, 'val_total': 113.0, 'val_imp_ratio': -208.557208, 'val_loss': 322.275359}}\n",
      "2023-01-02 20:15:38,430 (monitor:513)INFO: current_best=-159.723754, should_save=False\n",
      "2023-01-02 20:15:38,431 (monitor:513)INFO: current_best=-159.723754, should_save=False\n",
      "2023-01-02 20:15:38,438 (server:323)INFO: Server #0: Starting evaluation at the end of round 207.\n",
      "2023-01-02 20:15:38,445 (server:330)INFO: ----------- Starting a new training round (Round #208) -------------\n",
      "2023-01-02 20:15:38,526 (client:410)INFO: {'Role': 'Client #1', 'Round': 208, 'Results_raw': {'test_avg_loss': 3.208729, 'test_total': 113, 'test_imp_ratio': -247.15236, 'test_loss': 362.586418, 'val_avg_loss': 2.760505, 'val_total': 113, 'val_imp_ratio': -198.659033, 'val_loss': 311.937086}}\n",
      "2023-01-02 20:15:38,528 (monitor:513)INFO: current_best=-159.723754, should_save=False\n"
     ]
    },
    {
     "name": "stdout",
     "output_type": "stream",
     "text": [
      "vae_loss: 0.2013338804244995\n",
      "vae_loss: 0.20288246870040894\n",
      "vae_loss: 0.21036623418331146\n",
      "vae_loss: 0.2189139872789383\n",
      "vae_loss: 0.1969735324382782\n",
      "vae_loss: 0.20602303743362427\n",
      "vae_loss: 0.2140326052904129\n",
      "vae_loss: 0.21478497982025146\n",
      "vae_loss: 0.2179245948791504\n",
      "vae_loss: 0.20629891753196716\n",
      "vae_loss: 0.2161007821559906\n",
      "vae_loss: 0.2130891978740692\n",
      "vae_loss: 0.21059834957122803\n",
      "vae_loss: 0.19913095235824585\n",
      "vae_loss: 0.2041197419166565\n",
      "vae_loss: 0.21906961500644684\n",
      "vae_loss: 0.19846200942993164\n",
      "vae_loss: 0.2246904969215393\n",
      "vae_loss: 0.21293997764587402\n",
      "vae_loss: 0.2339596152305603\n"
     ]
    },
    {
     "name": "stderr",
     "output_type": "stream",
     "text": [
      "2023-01-02 20:15:38,820 (client:255)INFO: {'Role': 'Client #1', 'Round': 208, 'Results_raw': {'train_avg_loss': 3.445269, 'train_total': 901, 'train_imp_ratio': -272.743627, 'train_loss': 3104.187782}}\n",
      "2023-01-02 20:15:38,825 (server:496)INFO: {'Role': 'Server #', 'Round': 208, 'Results_avg': {'test_avg_loss': 3.208729, 'test_total': 113.0, 'test_imp_ratio': -247.15236, 'test_loss': 362.586418, 'val_avg_loss': 2.760505, 'val_total': 113.0, 'val_imp_ratio': -198.659033, 'val_loss': 311.937086}}\n",
      "2023-01-02 20:15:38,827 (monitor:513)INFO: current_best=-159.723754, should_save=False\n",
      "2023-01-02 20:15:38,828 (monitor:513)INFO: current_best=-159.723754, should_save=False\n",
      "2023-01-02 20:15:38,835 (server:323)INFO: Server #0: Starting evaluation at the end of round 208.\n",
      "2023-01-02 20:15:38,844 (server:330)INFO: ----------- Starting a new training round (Round #209) -------------\n",
      "2023-01-02 20:15:38,939 (client:410)INFO: {'Role': 'Client #1', 'Round': 209, 'Results_raw': {'test_avg_loss': 3.391669, 'test_total': 113, 'test_imp_ratio': -266.944611, 'test_loss': 383.258631, 'val_avg_loss': 2.755379, 'val_total': 113, 'val_imp_ratio': -198.104399, 'val_loss': 311.357834}}\n",
      "2023-01-02 20:15:38,941 (monitor:513)INFO: current_best=-159.723754, should_save=False\n"
     ]
    },
    {
     "name": "stdout",
     "output_type": "stream",
     "text": [
      "vae_loss: 0.21715772151947021\n",
      "vae_loss: 0.19234336912631989\n",
      "vae_loss: 0.22147753834724426\n",
      "vae_loss: 0.1988997757434845\n",
      "vae_loss: 0.20539116859436035\n",
      "vae_loss: 0.2141437530517578\n",
      "vae_loss: 0.20599475502967834\n",
      "vae_loss: 0.21957628428936005\n",
      "vae_loss: 0.22919818758964539\n",
      "vae_loss: 0.2345443069934845\n",
      "vae_loss: 0.21434849500656128\n",
      "vae_loss: 0.19344356656074524\n",
      "vae_loss: 0.1931941956281662\n",
      "vae_loss: 0.2415389120578766\n",
      "vae_loss: 0.21355634927749634\n",
      "vae_loss: 0.21480122208595276\n",
      "vae_loss: 0.21223461627960205\n",
      "vae_loss: 0.19877243041992188\n",
      "vae_loss: 0.22034287452697754\n"
     ]
    },
    {
     "name": "stderr",
     "output_type": "stream",
     "text": [
      "2023-01-02 20:15:39,239 (client:255)INFO: {'Role': 'Client #1', 'Round': 209, 'Results_raw': {'train_avg_loss': 3.37245, 'train_total': 901, 'train_imp_ratio': -264.865264, 'train_loss': 3038.577241}}\n",
      "2023-01-02 20:15:39,244 (server:496)INFO: {'Role': 'Server #', 'Round': 209, 'Results_avg': {'test_avg_loss': 3.391669, 'test_total': 113.0, 'test_imp_ratio': -266.944611, 'test_loss': 383.258631, 'val_avg_loss': 2.755379, 'val_total': 113.0, 'val_imp_ratio': -198.104399, 'val_loss': 311.357834}}\n",
      "2023-01-02 20:15:39,246 (monitor:513)INFO: current_best=-159.723754, should_save=False\n",
      "2023-01-02 20:15:39,247 (monitor:513)INFO: current_best=-159.723754, should_save=False\n",
      "2023-01-02 20:15:39,252 (server:323)INFO: Server #0: Starting evaluation at the end of round 209.\n",
      "2023-01-02 20:15:39,264 (server:330)INFO: ----------- Starting a new training round (Round #210) -------------\n",
      "2023-01-02 20:15:39,348 (client:410)INFO: {'Role': 'Client #1', 'Round': 210, 'Results_raw': {'test_avg_loss': 3.233763, 'test_total': 113, 'test_imp_ratio': -249.86068, 'test_loss': 365.415172, 'val_avg_loss': 3.07532, 'val_total': 113, 'val_imp_ratio': -232.718789, 'val_loss': 347.511106}}\n",
      "2023-01-02 20:15:39,350 (monitor:513)INFO: current_best=-159.723754, should_save=False\n"
     ]
    },
    {
     "name": "stdout",
     "output_type": "stream",
     "text": [
      "vae_loss: 0.20739732682704926\n",
      "vae_loss: 0.1921868771314621\n",
      "vae_loss: 0.2208079844713211\n",
      "vae_loss: 0.19917365908622742\n",
      "vae_loss: 0.2071336805820465\n",
      "vae_loss: 0.2147013247013092\n",
      "vae_loss: 0.21447749435901642\n",
      "vae_loss: 0.19621826708316803\n",
      "vae_loss: 0.23140637576580048\n",
      "vae_loss: 0.21573349833488464\n",
      "vae_loss: 0.21262069046497345\n",
      "vae_loss: 0.19233614206314087\n",
      "vae_loss: 0.22268609702587128\n",
      "vae_loss: 0.214657723903656\n",
      "vae_loss: 0.20859631896018982\n",
      "vae_loss: 0.21939268708229065\n",
      "vae_loss: 0.2373892068862915\n",
      "vae_loss: 0.219329833984375\n",
      "vae_loss: 0.21913748979568481\n",
      "vae_loss: 0.2025129199028015\n"
     ]
    },
    {
     "name": "stderr",
     "output_type": "stream",
     "text": [
      "2023-01-02 20:15:39,639 (client:255)INFO: {'Role': 'Client #1', 'Round': 210, 'Results_raw': {'train_avg_loss': 3.429711, 'train_total': 901, 'train_imp_ratio': -271.060407, 'train_loss': 3090.169737}}\n",
      "2023-01-02 20:15:39,645 (server:496)INFO: {'Role': 'Server #', 'Round': 210, 'Results_avg': {'test_avg_loss': 3.233763, 'test_total': 113.0, 'test_imp_ratio': -249.86068, 'test_loss': 365.415172, 'val_avg_loss': 3.07532, 'val_total': 113.0, 'val_imp_ratio': -232.718789, 'val_loss': 347.511106}}\n",
      "2023-01-02 20:15:39,647 (monitor:513)INFO: current_best=-159.723754, should_save=False\n",
      "2023-01-02 20:15:39,649 (monitor:513)INFO: current_best=-159.723754, should_save=False\n",
      "2023-01-02 20:15:39,656 (server:323)INFO: Server #0: Starting evaluation at the end of round 210.\n",
      "2023-01-02 20:15:39,663 (server:330)INFO: ----------- Starting a new training round (Round #211) -------------\n",
      "2023-01-02 20:15:39,742 (client:410)INFO: {'Role': 'Client #1', 'Round': 211, 'Results_raw': {'test_avg_loss': 3.181835, 'test_total': 113, 'test_imp_ratio': -244.242689, 'test_loss': 359.547376, 'val_avg_loss': 2.637871, 'val_total': 113, 'val_imp_ratio': -185.391218, 'val_loss': 298.079424}}\n",
      "2023-01-02 20:15:39,744 (monitor:513)INFO: current_best=-159.723754, should_save=False\n"
     ]
    },
    {
     "name": "stdout",
     "output_type": "stream",
     "text": [
      "vae_loss: 0.17177371680736542\n",
      "vae_loss: 0.2206096649169922\n",
      "vae_loss: 0.1976504921913147\n",
      "vae_loss: 0.20765072107315063\n",
      "vae_loss: 0.2156713902950287\n",
      "vae_loss: 0.23082588613033295\n",
      "vae_loss: 0.229049414396286\n",
      "vae_loss: 0.19891728460788727\n",
      "vae_loss: 0.2037273347377777\n",
      "vae_loss: 0.21939733624458313\n",
      "vae_loss: 0.22182516753673553\n",
      "vae_loss: 0.21597319841384888\n",
      "vae_loss: 0.20481356978416443\n",
      "vae_loss: 0.18975313007831573\n",
      "vae_loss: 0.22664153575897217\n",
      "vae_loss: 0.20793873071670532\n",
      "vae_loss: 0.21659837663173676\n",
      "vae_loss: 0.23276077210903168\n",
      "vae_loss: 0.20289361476898193\n"
     ]
    },
    {
     "name": "stderr",
     "output_type": "stream",
     "text": [
      "2023-01-02 20:15:40,053 (client:255)INFO: {'Role': 'Client #1', 'Round': 211, 'Results_raw': {'train_avg_loss': 3.428419, 'train_total': 901, 'train_imp_ratio': -270.920601, 'train_loss': 3089.00577}}\n",
      "2023-01-02 20:15:40,063 (server:496)INFO: {'Role': 'Server #', 'Round': 211, 'Results_avg': {'test_avg_loss': 3.181835, 'test_total': 113.0, 'test_imp_ratio': -244.242689, 'test_loss': 359.547376, 'val_avg_loss': 2.637871, 'val_total': 113.0, 'val_imp_ratio': -185.391218, 'val_loss': 298.079424}}\n",
      "2023-01-02 20:15:40,067 (monitor:513)INFO: current_best=-159.723754, should_save=False\n",
      "2023-01-02 20:15:40,068 (monitor:513)INFO: current_best=-159.723754, should_save=False\n",
      "2023-01-02 20:15:40,081 (server:323)INFO: Server #0: Starting evaluation at the end of round 211.\n",
      "2023-01-02 20:15:40,090 (server:330)INFO: ----------- Starting a new training round (Round #212) -------------\n",
      "2023-01-02 20:15:40,176 (client:410)INFO: {'Role': 'Client #1', 'Round': 212, 'Results_raw': {'test_avg_loss': 3.077571, 'test_total': 113, 'test_imp_ratio': -232.962289, 'test_loss': 347.765495, 'val_avg_loss': 2.775768, 'val_total': 113, 'val_imp_ratio': -200.310242, 'val_loss': 313.661766}}\n",
      "2023-01-02 20:15:40,178 (monitor:513)INFO: current_best=-159.723754, should_save=False\n"
     ]
    },
    {
     "name": "stdout",
     "output_type": "stream",
     "text": [
      "vae_loss: 0.1838870346546173\n",
      "vae_loss: 0.22127604484558105\n",
      "vae_loss: 0.19896407425403595\n",
      "vae_loss: 0.2065919041633606\n",
      "vae_loss: 0.2152077555656433\n",
      "vae_loss: 0.21301177144050598\n",
      "vae_loss: 0.21336421370506287\n",
      "vae_loss: 0.20892785489559174\n",
      "vae_loss: 0.20345568656921387\n",
      "vae_loss: 0.22468221187591553\n",
      "vae_loss: 0.2184864580631256\n",
      "vae_loss: 0.2128698229789734\n",
      "vae_loss: 0.2122780829668045\n",
      "vae_loss: 0.20793436467647552\n",
      "vae_loss: 0.22279377281665802\n",
      "vae_loss: 0.19360652565956116\n",
      "vae_loss: 0.22211383283138275\n",
      "vae_loss: 0.21963445842266083\n"
     ]
    },
    {
     "name": "stderr",
     "output_type": "stream",
     "text": [
      "2023-01-02 20:15:40,468 (client:255)INFO: {'Role': 'Client #1', 'Round': 212, 'Results_raw': {'train_avg_loss': 3.532918, 'train_total': 901, 'train_imp_ratio': -282.226331, 'train_loss': 3183.159374}}\n",
      "2023-01-02 20:15:40,472 (server:496)INFO: {'Role': 'Server #', 'Round': 212, 'Results_avg': {'test_avg_loss': 3.077571, 'test_total': 113.0, 'test_imp_ratio': -232.962289, 'test_loss': 347.765495, 'val_avg_loss': 2.775768, 'val_total': 113.0, 'val_imp_ratio': -200.310242, 'val_loss': 313.661766}}\n",
      "2023-01-02 20:15:40,473 (monitor:513)INFO: current_best=-159.723754, should_save=False\n",
      "2023-01-02 20:15:40,474 (monitor:513)INFO: current_best=-159.723754, should_save=False\n",
      "2023-01-02 20:15:40,480 (server:323)INFO: Server #0: Starting evaluation at the end of round 212.\n",
      "2023-01-02 20:15:40,489 (server:330)INFO: ----------- Starting a new training round (Round #213) -------------\n",
      "2023-01-02 20:15:40,563 (client:410)INFO: {'Role': 'Client #1', 'Round': 213, 'Results_raw': {'test_avg_loss': 3.444991, 'test_total': 113, 'test_imp_ratio': -272.713499, 'test_loss': 389.28395, 'val_avg_loss': 2.837796, 'val_total': 113, 'val_imp_ratio': -207.02112, 'val_loss': 320.670922}}\n",
      "2023-01-02 20:15:40,564 (monitor:513)INFO: current_best=-159.723754, should_save=False\n"
     ]
    },
    {
     "name": "stdout",
     "output_type": "stream",
     "text": [
      "vae_loss: 0.23062339425086975\n",
      "vae_loss: 0.2476220726966858\n",
      "vae_loss: 0.22205424308776855\n",
      "vae_loss: 0.19896318018436432\n",
      "vae_loss: 0.20945459604263306\n",
      "vae_loss: 0.215947225689888\n",
      "vae_loss: 0.22150808572769165\n",
      "vae_loss: 0.20564576983451843\n",
      "vae_loss: 0.22371400892734528\n",
      "vae_loss: 0.21194645762443542\n"
     ]
    },
    {
     "name": "stderr",
     "output_type": "stream",
     "text": [
      "2023-01-02 20:15:40,854 (client:255)INFO: {'Role': 'Client #1', 'Round': 213, 'Results_raw': {'train_avg_loss': 3.260539, 'train_total': 901, 'train_imp_ratio': -252.757712, 'train_loss': 2937.745908}}\n",
      "2023-01-02 20:15:40,858 (server:496)INFO: {'Role': 'Server #', 'Round': 213, 'Results_avg': {'test_avg_loss': 3.444991, 'test_total': 113.0, 'test_imp_ratio': -272.713499, 'test_loss': 389.28395, 'val_avg_loss': 2.837796, 'val_total': 113.0, 'val_imp_ratio': -207.02112, 'val_loss': 320.670922}}\n",
      "2023-01-02 20:15:40,860 (monitor:513)INFO: current_best=-159.723754, should_save=False\n",
      "2023-01-02 20:15:40,860 (monitor:513)INFO: current_best=-159.723754, should_save=False\n"
     ]
    },
    {
     "name": "stdout",
     "output_type": "stream",
     "text": [
      "vae_loss: 0.2219580113887787\n",
      "vae_loss: 0.2006511390209198\n",
      "vae_loss: 0.223800927400589\n",
      "vae_loss: 0.20767880976200104\n",
      "vae_loss: 0.2091052234172821\n",
      "vae_loss: 0.2041248083114624\n",
      "vae_loss: 0.21143344044685364\n",
      "vae_loss: 0.21805322170257568\n",
      "vae_loss: 0.22478191554546356\n",
      "vae_loss: 0.2157253623008728\n",
      "vae_loss: 0.15037067234516144\n"
     ]
    },
    {
     "name": "stderr",
     "output_type": "stream",
     "text": [
      "2023-01-02 20:15:40,868 (server:323)INFO: Server #0: Starting evaluation at the end of round 213.\n",
      "2023-01-02 20:15:40,877 (server:330)INFO: ----------- Starting a new training round (Round #214) -------------\n",
      "2023-01-02 20:15:40,969 (client:410)INFO: {'Role': 'Client #1', 'Round': 214, 'Results_raw': {'test_avg_loss': 3.125639, 'test_total': 113, 'test_imp_ratio': -238.162848, 'test_loss': 353.19725, 'val_avg_loss': 2.720711, 'val_total': 113, 'val_imp_ratio': -194.353724, 'val_loss': 307.440376}}\n",
      "2023-01-02 20:15:40,971 (monitor:513)INFO: current_best=-159.723754, should_save=False\n"
     ]
    },
    {
     "name": "stdout",
     "output_type": "stream",
     "text": [
      "vae_loss: 0.22238337993621826\n",
      "vae_loss: 0.1970735788345337\n",
      "vae_loss: 0.2080005705356598\n",
      "vae_loss: 0.21552926301956177\n",
      "vae_loss: 0.1982833296060562\n",
      "vae_loss: 0.21890035271644592\n",
      "vae_loss: 0.2045212835073471\n",
      "vae_loss: 0.219272181391716\n",
      "vae_loss: 0.20662575960159302\n",
      "vae_loss: 0.2201383411884308\n",
      "vae_loss: 0.22488172352313995\n"
     ]
    },
    {
     "name": "stderr",
     "output_type": "stream",
     "text": [
      "2023-01-02 20:15:41,267 (client:255)INFO: {'Role': 'Client #1', 'Round': 214, 'Results_raw': {'train_avg_loss': 3.388156, 'train_total': 901, 'train_imp_ratio': -266.56458, 'train_loss': 3052.728909}}\n",
      "2023-01-02 20:15:41,276 (server:496)INFO: {'Role': 'Server #', 'Round': 214, 'Results_avg': {'test_avg_loss': 3.125639, 'test_total': 113.0, 'test_imp_ratio': -238.162848, 'test_loss': 353.19725, 'val_avg_loss': 2.720711, 'val_total': 113.0, 'val_imp_ratio': -194.353724, 'val_loss': 307.440376}}\n",
      "2023-01-02 20:15:41,279 (monitor:513)INFO: current_best=-159.723754, should_save=False\n",
      "2023-01-02 20:15:41,280 (monitor:513)INFO: current_best=-159.723754, should_save=False\n",
      "2023-01-02 20:15:41,285 (server:323)INFO: Server #0: Starting evaluation at the end of round 214.\n",
      "2023-01-02 20:15:41,298 (server:330)INFO: ----------- Starting a new training round (Round #215) -------------\n"
     ]
    },
    {
     "name": "stdout",
     "output_type": "stream",
     "text": [
      "vae_loss: 0.21122097969055176\n",
      "vae_loss: 0.20786669850349426\n",
      "vae_loss: 0.21746370196342468\n",
      "vae_loss: 0.21782486140727997\n",
      "vae_loss: 0.21414372324943542\n",
      "vae_loss: 0.2150907814502716\n",
      "vae_loss: 0.21541737020015717\n",
      "vae_loss: 0.2883650064468384\n"
     ]
    },
    {
     "name": "stderr",
     "output_type": "stream",
     "text": [
      "2023-01-02 20:15:41,368 (client:410)INFO: {'Role': 'Client #1', 'Round': 215, 'Results_raw': {'test_avg_loss': 3.328187, 'test_total': 113, 'test_imp_ratio': -260.076412, 'test_loss': 376.085075, 'val_avg_loss': 2.532056, 'val_total': 113, 'val_imp_ratio': -173.943051, 'val_loss': 286.122291}}\n",
      "2023-01-02 20:15:41,369 (monitor:513)INFO: current_best=-159.723754, should_save=False\n"
     ]
    },
    {
     "name": "stdout",
     "output_type": "stream",
     "text": [
      "vae_loss: 0.22040385007858276\n",
      "vae_loss: 0.19923043251037598\n",
      "vae_loss: 0.20667342841625214\n",
      "vae_loss: 0.21553443372249603\n",
      "vae_loss: 0.22205352783203125\n",
      "vae_loss: 0.21385161578655243\n",
      "vae_loss: 0.21310481429100037\n",
      "vae_loss: 0.19213572144508362\n",
      "vae_loss: 0.22561612725257874\n",
      "vae_loss: 0.19097495079040527\n",
      "vae_loss: 0.2205638289451599\n",
      "vae_loss: 0.21393224596977234\n"
     ]
    },
    {
     "name": "stderr",
     "output_type": "stream",
     "text": [
      "2023-01-02 20:15:41,667 (client:255)INFO: {'Role': 'Client #1', 'Round': 215, 'Results_raw': {'train_avg_loss': 3.49326, 'train_total': 901, 'train_imp_ratio': -277.935802, 'train_loss': 3147.427592}}\n",
      "2023-01-02 20:15:41,672 (server:496)INFO: {'Role': 'Server #', 'Round': 215, 'Results_avg': {'test_avg_loss': 3.328187, 'test_total': 113.0, 'test_imp_ratio': -260.076412, 'test_loss': 376.085075, 'val_avg_loss': 2.532056, 'val_total': 113.0, 'val_imp_ratio': -173.943051, 'val_loss': 286.122291}}\n",
      "2023-01-02 20:15:41,673 (monitor:513)INFO: current_best=-159.723754, should_save=False\n",
      "2023-01-02 20:15:41,674 (monitor:513)INFO: current_best=-159.723754, should_save=False\n",
      "2023-01-02 20:15:41,680 (server:323)INFO: Server #0: Starting evaluation at the end of round 215.\n",
      "2023-01-02 20:15:41,688 (server:330)INFO: ----------- Starting a new training round (Round #216) -------------\n"
     ]
    },
    {
     "name": "stdout",
     "output_type": "stream",
     "text": [
      "vae_loss: 0.23532634973526\n",
      "vae_loss: 0.20682984590530396\n",
      "vae_loss: 0.22939324378967285\n",
      "vae_loss: 0.20433394610881805\n",
      "vae_loss: 0.20347844064235687\n",
      "vae_loss: 0.21213552355766296\n",
      "vae_loss: 0.2786206901073456\n",
      "vae_loss: 0.2213568538427353\n",
      "vae_loss: 0.19817335903644562\n"
     ]
    },
    {
     "name": "stderr",
     "output_type": "stream",
     "text": [
      "2023-01-02 20:15:41,774 (client:410)INFO: {'Role': 'Client #1', 'Round': 216, 'Results_raw': {'test_avg_loss': 3.169022, 'test_total': 113, 'test_imp_ratio': -242.856441, 'test_loss': 358.099482, 'val_avg_loss': 2.695696, 'val_total': 113, 'val_imp_ratio': -191.647339, 'val_loss': 304.613686}}\n",
      "2023-01-02 20:15:41,776 (monitor:513)INFO: current_best=-159.723754, should_save=False\n"
     ]
    },
    {
     "name": "stdout",
     "output_type": "stream",
     "text": [
      "vae_loss: 0.20677945017814636\n",
      "vae_loss: 0.2154116928577423\n",
      "vae_loss: 0.21386118233203888\n",
      "vae_loss: 0.19992952048778534\n",
      "vae_loss: 0.19400760531425476\n",
      "vae_loss: 0.2298012673854828\n",
      "vae_loss: 0.20794865489006042\n",
      "vae_loss: 0.20314565300941467\n",
      "vae_loss: 0.24357318878173828\n",
      "vae_loss: 0.20479059219360352\n",
      "vae_loss: 0.21203920245170593\n"
     ]
    },
    {
     "name": "stderr",
     "output_type": "stream",
     "text": [
      "2023-01-02 20:15:42,071 (client:255)INFO: {'Role': 'Client #1', 'Round': 216, 'Results_raw': {'train_avg_loss': 3.304332, 'train_total': 901, 'train_imp_ratio': -257.495646, 'train_loss': 2977.203355}}\n",
      "2023-01-02 20:15:42,076 (server:496)INFO: {'Role': 'Server #', 'Round': 216, 'Results_avg': {'test_avg_loss': 3.169022, 'test_total': 113.0, 'test_imp_ratio': -242.856441, 'test_loss': 358.099482, 'val_avg_loss': 2.695696, 'val_total': 113.0, 'val_imp_ratio': -191.647339, 'val_loss': 304.613686}}\n",
      "2023-01-02 20:15:42,077 (monitor:513)INFO: current_best=-159.723754, should_save=False\n",
      "2023-01-02 20:15:42,078 (monitor:513)INFO: current_best=-159.723754, should_save=False\n",
      "2023-01-02 20:15:42,083 (server:323)INFO: Server #0: Starting evaluation at the end of round 216.\n",
      "2023-01-02 20:15:42,089 (server:330)INFO: ----------- Starting a new training round (Round #217) -------------\n",
      "2023-01-02 20:15:42,163 (client:410)INFO: {'Role': 'Client #1', 'Round': 217, 'Results_raw': {'test_avg_loss': 3.073432, 'test_total': 113, 'test_imp_ratio': -232.514497, 'test_loss': 347.29777, 'val_avg_loss': 2.607524, 'val_total': 113, 'val_imp_ratio': -182.107991, 'val_loss': 294.650238}}\n",
      "2023-01-02 20:15:42,165 (monitor:513)INFO: current_best=-159.723754, should_save=False\n"
     ]
    },
    {
     "name": "stdout",
     "output_type": "stream",
     "text": [
      "vae_loss: 0.2356901466846466\n",
      "vae_loss: 0.21425968408584595\n",
      "vae_loss: 0.22161640226840973\n",
      "vae_loss: 0.21186593174934387\n",
      "vae_loss: 0.2056533545255661\n",
      "vae_loss: 0.2811078429222107\n",
      "vae_loss: 0.2212829440832138\n",
      "vae_loss: 0.198920339345932\n",
      "vae_loss: 0.20739832520484924\n",
      "vae_loss: 0.21524116396903992\n",
      "vae_loss: 0.23702472448349\n",
      "vae_loss: 0.21334195137023926\n",
      "vae_loss: 0.21456123888492584\n",
      "vae_loss: 0.2140493392944336\n",
      "vae_loss: 0.22263088822364807\n",
      "vae_loss: 0.2314911037683487\n",
      "vae_loss: 0.20888352394104004\n",
      "vae_loss: 0.21122857928276062\n",
      "vae_loss: 0.20094281435012817\n",
      "vae_loss: 0.24295765161514282\n",
      "vae_loss: 0.1891070008277893\n",
      "vae_loss: 0.20804572105407715\n"
     ]
    },
    {
     "name": "stderr",
     "output_type": "stream",
     "text": [
      "2023-01-02 20:15:42,450 (client:255)INFO: {'Role': 'Client #1', 'Round': 217, 'Results_raw': {'train_avg_loss': 3.293388, 'train_total': 901, 'train_imp_ratio': -256.311575, 'train_loss': 2967.342298}}\n",
      "2023-01-02 20:15:42,455 (server:496)INFO: {'Role': 'Server #', 'Round': 217, 'Results_avg': {'test_avg_loss': 3.073432, 'test_total': 113.0, 'test_imp_ratio': -232.514497, 'test_loss': 347.29777, 'val_avg_loss': 2.607524, 'val_total': 113.0, 'val_imp_ratio': -182.107991, 'val_loss': 294.650238}}\n",
      "2023-01-02 20:15:42,456 (monitor:513)INFO: current_best=-159.723754, should_save=False\n",
      "2023-01-02 20:15:42,457 (monitor:513)INFO: current_best=-159.723754, should_save=False\n",
      "2023-01-02 20:15:42,462 (server:323)INFO: Server #0: Starting evaluation at the end of round 217.\n",
      "2023-01-02 20:15:42,469 (server:330)INFO: ----------- Starting a new training round (Round #218) -------------\n",
      "2023-01-02 20:15:42,554 (client:410)INFO: {'Role': 'Client #1', 'Round': 218, 'Results_raw': {'test_avg_loss': 3.161182, 'test_total': 113, 'test_imp_ratio': -242.008266, 'test_loss': 357.213618, 'val_avg_loss': 2.699888, 'val_total': 113, 'val_imp_ratio': -192.10078, 'val_loss': 305.087298}}\n",
      "2023-01-02 20:15:42,556 (monitor:513)INFO: current_best=-159.723754, should_save=False\n"
     ]
    },
    {
     "name": "stdout",
     "output_type": "stream",
     "text": [
      "vae_loss: 0.20533069968223572\n",
      "vae_loss: 0.20027035474777222\n",
      "vae_loss: 0.21316967904567719\n",
      "vae_loss: 0.22193191945552826\n",
      "vae_loss: 0.19881178438663483\n",
      "vae_loss: 0.20750364661216736\n",
      "vae_loss: 0.21478694677352905\n",
      "vae_loss: 0.21229873597621918\n",
      "vae_loss: 0.23665860295295715\n",
      "vae_loss: 0.23442238569259644\n",
      "vae_loss: 0.1970536857843399\n",
      "vae_loss: 0.2136644572019577\n",
      "vae_loss: 0.20840343832969666\n",
      "vae_loss: 0.20725801587104797\n",
      "vae_loss: 0.22157810628414154\n",
      "vae_loss: 0.2142166793346405\n",
      "vae_loss: 0.21833668649196625\n",
      "vae_loss: 0.21216003596782684\n",
      "vae_loss: 0.20958398282527924\n",
      "vae_loss: 0.2083389312028885\n",
      "vae_loss: 0.20974060893058777\n"
     ]
    },
    {
     "name": "stderr",
     "output_type": "stream",
     "text": [
      "2023-01-02 20:15:42,845 (client:255)INFO: {'Role': 'Client #1', 'Round': 218, 'Results_raw': {'train_avg_loss': 3.425817, 'train_total': 901, 'train_imp_ratio': -270.639105, 'train_loss': 3086.66142}}\n",
      "2023-01-02 20:15:42,849 (server:496)INFO: {'Role': 'Server #', 'Round': 218, 'Results_avg': {'test_avg_loss': 3.161182, 'test_total': 113.0, 'test_imp_ratio': -242.008266, 'test_loss': 357.213618, 'val_avg_loss': 2.699888, 'val_total': 113.0, 'val_imp_ratio': -192.10078, 'val_loss': 305.087298}}\n",
      "2023-01-02 20:15:42,850 (monitor:513)INFO: current_best=-159.723754, should_save=False\n",
      "2023-01-02 20:15:42,851 (monitor:513)INFO: current_best=-159.723754, should_save=False\n",
      "2023-01-02 20:15:42,857 (server:323)INFO: Server #0: Starting evaluation at the end of round 218.\n",
      "2023-01-02 20:15:42,865 (server:330)INFO: ----------- Starting a new training round (Round #219) -------------\n",
      "2023-01-02 20:15:42,935 (client:410)INFO: {'Role': 'Client #1', 'Round': 219, 'Results_raw': {'test_avg_loss': 3.261083, 'test_total': 113, 'test_imp_ratio': -252.816523, 'test_loss': 368.502341, 'val_avg_loss': 2.65134, 'val_total': 113, 'val_imp_ratio': -186.848427, 'val_loss': 299.601379}}\n",
      "2023-01-02 20:15:42,937 (monitor:513)INFO: current_best=-159.723754, should_save=False\n"
     ]
    },
    {
     "name": "stdout",
     "output_type": "stream",
     "text": [
      "vae_loss: 0.18464864790439606\n",
      "vae_loss: 0.22131894528865814\n",
      "vae_loss: 0.19993852078914642\n",
      "vae_loss: 0.20730164647102356\n",
      "vae_loss: 0.21645335853099823\n",
      "vae_loss: 0.2150534689426422\n",
      "vae_loss: 0.22360746562480927\n",
      "vae_loss: 0.20595446228981018\n",
      "vae_loss: 0.21726971864700317\n",
      "vae_loss: 0.21164284646511078\n"
     ]
    },
    {
     "name": "stderr",
     "output_type": "stream",
     "text": [
      "2023-01-02 20:15:43,224 (client:255)INFO: {'Role': 'Client #1', 'Round': 219, 'Results_raw': {'train_avg_loss': 3.402564, 'train_total': 901, 'train_imp_ratio': -268.123316, 'train_loss': 3065.710179}}\n",
      "2023-01-02 20:15:43,230 (server:496)INFO: {'Role': 'Server #', 'Round': 219, 'Results_avg': {'test_avg_loss': 3.261083, 'test_total': 113.0, 'test_imp_ratio': -252.816523, 'test_loss': 368.502341, 'val_avg_loss': 2.65134, 'val_total': 113.0, 'val_imp_ratio': -186.848427, 'val_loss': 299.601379}}\n",
      "2023-01-02 20:15:43,233 (monitor:513)INFO: current_best=-159.723754, should_save=False\n",
      "2023-01-02 20:15:43,234 (monitor:513)INFO: current_best=-159.723754, should_save=False\n",
      "2023-01-02 20:15:43,240 (server:323)INFO: Server #0: Starting evaluation at the end of round 219.\n",
      "2023-01-02 20:15:43,247 (server:330)INFO: ----------- Starting a new training round (Round #220) -------------\n"
     ]
    },
    {
     "name": "stdout",
     "output_type": "stream",
     "text": [
      "vae_loss: 0.2301565706729889\n",
      "vae_loss: 0.22688362002372742\n",
      "vae_loss: 0.19927670061588287\n",
      "vae_loss: 0.19767634570598602\n",
      "vae_loss: 0.2237878441810608\n",
      "vae_loss: 0.2225888967514038\n",
      "vae_loss: 0.2005690336227417\n",
      "vae_loss: 0.20268018543720245\n",
      "vae_loss: 0.2265787422657013\n",
      "vae_loss: 0.20242761075496674\n"
     ]
    },
    {
     "name": "stderr",
     "output_type": "stream",
     "text": [
      "2023-01-02 20:15:43,330 (client:410)INFO: {'Role': 'Client #1', 'Round': 220, 'Results_raw': {'test_avg_loss': 3.269174, 'test_total': 113, 'test_imp_ratio': -253.691911, 'test_loss': 369.416646, 'val_avg_loss': 2.761835, 'val_total': 113, 'val_imp_ratio': -198.802888, 'val_loss': 312.087335}}\n",
      "2023-01-02 20:15:43,332 (monitor:513)INFO: current_best=-159.723754, should_save=False\n"
     ]
    },
    {
     "name": "stdout",
     "output_type": "stream",
     "text": [
      "vae_loss: 0.22138363122940063\n",
      "vae_loss: 0.19845826923847198\n",
      "vae_loss: 0.20698222517967224\n",
      "vae_loss: 0.2153463512659073\n",
      "vae_loss: 0.2249169945716858\n",
      "vae_loss: 0.20194673538208008\n",
      "vae_loss: 0.21653302013874054\n",
      "vae_loss: 0.21478667855262756\n",
      "vae_loss: 0.19426704943180084\n",
      "vae_loss: 0.20724578201770782\n",
      "vae_loss: 0.21866565942764282\n"
     ]
    },
    {
     "name": "stderr",
     "output_type": "stream",
     "text": [
      "2023-01-02 20:15:43,665 (client:255)INFO: {'Role': 'Client #1', 'Round': 220, 'Results_raw': {'train_avg_loss': 3.396459, 'train_total': 901, 'train_imp_ratio': -267.462874, 'train_loss': 3060.20997}}\n",
      "2023-01-02 20:15:43,669 (server:496)INFO: {'Role': 'Server #', 'Round': 220, 'Results_avg': {'test_avg_loss': 3.269174, 'test_total': 113.0, 'test_imp_ratio': -253.691911, 'test_loss': 369.416646, 'val_avg_loss': 2.761835, 'val_total': 113.0, 'val_imp_ratio': -198.802888, 'val_loss': 312.087335}}\n",
      "2023-01-02 20:15:43,670 (monitor:513)INFO: current_best=-159.723754, should_save=False\n",
      "2023-01-02 20:15:43,671 (monitor:513)INFO: current_best=-159.723754, should_save=False\n",
      "2023-01-02 20:15:43,676 (server:323)INFO: Server #0: Starting evaluation at the end of round 220.\n",
      "2023-01-02 20:15:43,687 (server:330)INFO: ----------- Starting a new training round (Round #221) -------------\n"
     ]
    },
    {
     "name": "stdout",
     "output_type": "stream",
     "text": [
      "vae_loss: 0.2190362513065338\n",
      "vae_loss: 0.21345634758472443\n",
      "vae_loss: 0.186906099319458\n",
      "vae_loss: 0.21254193782806396\n",
      "vae_loss: 0.23269277811050415\n",
      "vae_loss: 0.230668306350708\n",
      "vae_loss: 0.22590793669223785\n",
      "vae_loss: 0.23780405521392822\n"
     ]
    },
    {
     "name": "stderr",
     "output_type": "stream",
     "text": [
      "2023-01-02 20:15:43,767 (client:410)INFO: {'Role': 'Client #1', 'Round': 221, 'Results_raw': {'test_avg_loss': 2.966123, 'test_total': 113, 'test_imp_ratio': -220.904778, 'test_loss': 335.171903, 'val_avg_loss': 2.691235, 'val_total': 113, 'val_imp_ratio': -191.164646, 'val_loss': 304.109543}}\n",
      "2023-01-02 20:15:43,769 (monitor:513)INFO: current_best=-159.723754, should_save=False\n"
     ]
    },
    {
     "name": "stdout",
     "output_type": "stream",
     "text": [
      "vae_loss: 0.221745103597641\n",
      "vae_loss: 0.1991182416677475\n",
      "vae_loss: 0.20732484757900238\n",
      "vae_loss: 0.21518945693969727\n",
      "vae_loss: 0.2058907002210617\n",
      "vae_loss: 0.20104575157165527\n",
      "vae_loss: 0.2168210744857788\n",
      "vae_loss: 0.20438075065612793\n",
      "vae_loss: 0.2291969507932663\n",
      "vae_loss: 0.20903527736663818\n",
      "vae_loss: 0.21628844738006592\n",
      "vae_loss: 0.2096220850944519\n",
      "vae_loss: 0.20781156420707703\n"
     ]
    },
    {
     "name": "stderr",
     "output_type": "stream",
     "text": [
      "2023-01-02 20:15:44,053 (client:255)INFO: {'Role': 'Client #1', 'Round': 221, 'Results_raw': {'train_avg_loss': 3.459845, 'train_total': 901, 'train_imp_ratio': -274.320574, 'train_loss': 3117.320257}}\n",
      "2023-01-02 20:15:44,059 (server:496)INFO: {'Role': 'Server #', 'Round': 221, 'Results_avg': {'test_avg_loss': 2.966123, 'test_total': 113.0, 'test_imp_ratio': -220.904778, 'test_loss': 335.171903, 'val_avg_loss': 2.691235, 'val_total': 113.0, 'val_imp_ratio': -191.164646, 'val_loss': 304.109543}}\n",
      "2023-01-02 20:15:44,061 (monitor:513)INFO: current_best=-159.723754, should_save=False\n",
      "2023-01-02 20:15:44,062 (monitor:513)INFO: current_best=-159.723754, should_save=False\n",
      "2023-01-02 20:15:44,070 (server:323)INFO: Server #0: Starting evaluation at the end of round 221.\n",
      "2023-01-02 20:15:44,079 (server:330)INFO: ----------- Starting a new training round (Round #222) -------------\n"
     ]
    },
    {
     "name": "stdout",
     "output_type": "stream",
     "text": [
      "vae_loss: 0.23675742745399475\n",
      "vae_loss: 0.19970694184303284\n",
      "vae_loss: 0.21217167377471924\n",
      "vae_loss: 0.2175164520740509\n",
      "vae_loss: 0.2369263768196106\n",
      "vae_loss: 0.19221891462802887\n",
      "vae_loss: 0.22103777527809143\n",
      "vae_loss: 0.19885072112083435\n"
     ]
    },
    {
     "name": "stderr",
     "output_type": "stream",
     "text": [
      "2023-01-02 20:15:44,172 (client:410)INFO: {'Role': 'Client #1', 'Round': 222, 'Results_raw': {'test_avg_loss': 3.414776, 'test_total': 113, 'test_imp_ratio': -269.444562, 'test_loss': 385.869686, 'val_avg_loss': 2.701524, 'val_total': 113, 'val_imp_ratio': -192.277782, 'val_loss': 305.27217}}\n",
      "2023-01-02 20:15:44,173 (monitor:513)INFO: current_best=-159.723754, should_save=False\n"
     ]
    },
    {
     "name": "stdout",
     "output_type": "stream",
     "text": [
      "vae_loss: 0.20687773823738098\n",
      "vae_loss: 0.21533319354057312\n",
      "vae_loss: 0.22964057326316833\n",
      "vae_loss: 0.19424991309642792\n",
      "vae_loss: 0.2357652336359024\n",
      "vae_loss: 0.19924120604991913\n",
      "vae_loss: 0.21161645650863647\n",
      "vae_loss: 0.21081894636154175\n",
      "vae_loss: 0.23053057491779327\n",
      "vae_loss: 0.22912129759788513\n"
     ]
    },
    {
     "name": "stderr",
     "output_type": "stream",
     "text": [
      "2023-01-02 20:15:44,481 (client:255)INFO: {'Role': 'Client #1', 'Round': 222, 'Results_raw': {'train_avg_loss': 3.382789, 'train_total': 901, 'train_imp_ratio': -265.983894, 'train_loss': 3047.893114}}\n",
      "2023-01-02 20:15:44,485 (server:496)INFO: {'Role': 'Server #', 'Round': 222, 'Results_avg': {'test_avg_loss': 3.414776, 'test_total': 113.0, 'test_imp_ratio': -269.444562, 'test_loss': 385.869686, 'val_avg_loss': 2.701524, 'val_total': 113.0, 'val_imp_ratio': -192.277782, 'val_loss': 305.27217}}\n",
      "2023-01-02 20:15:44,486 (monitor:513)INFO: current_best=-159.723754, should_save=False\n",
      "2023-01-02 20:15:44,487 (monitor:513)INFO: current_best=-159.723754, should_save=False\n",
      "2023-01-02 20:15:44,494 (server:323)INFO: Server #0: Starting evaluation at the end of round 222.\n",
      "2023-01-02 20:15:44,501 (server:330)INFO: ----------- Starting a new training round (Round #223) -------------\n"
     ]
    },
    {
     "name": "stdout",
     "output_type": "stream",
     "text": [
      "vae_loss: 0.23837263882160187\n",
      "vae_loss: 0.2033761739730835\n",
      "vae_loss: 0.19500309228897095\n",
      "vae_loss: 0.2103431075811386\n",
      "vae_loss: 0.21388012170791626\n",
      "vae_loss: 0.21149560809135437\n",
      "vae_loss: 0.14163067936897278\n",
      "vae_loss: 0.2207290232181549\n",
      "vae_loss: 0.1985102742910385\n"
     ]
    },
    {
     "name": "stderr",
     "output_type": "stream",
     "text": [
      "2023-01-02 20:15:44,584 (client:410)INFO: {'Role': 'Client #1', 'Round': 223, 'Results_raw': {'test_avg_loss': 3.254061, 'test_total': 113, 'test_imp_ratio': -252.056824, 'test_loss': 367.708882, 'val_avg_loss': 2.612099, 'val_total': 113, 'val_imp_ratio': -182.603013, 'val_loss': 295.167228}}\n",
      "2023-01-02 20:15:44,586 (monitor:513)INFO: current_best=-159.723754, should_save=False\n"
     ]
    },
    {
     "name": "stdout",
     "output_type": "stream",
     "text": [
      "vae_loss: 0.20628546178340912\n",
      "vae_loss: 0.21537624299526215\n",
      "vae_loss: 0.2203315794467926\n",
      "vae_loss: 0.18745389580726624\n",
      "vae_loss: 0.21227103471755981\n",
      "vae_loss: 0.2104826122522354\n",
      "vae_loss: 0.23342877626419067\n",
      "vae_loss: 0.20615284144878387\n",
      "vae_loss: 0.22595787048339844\n",
      "vae_loss: 0.1992509812116623\n",
      "vae_loss: 0.19983553886413574\n"
     ]
    },
    {
     "name": "stderr",
     "output_type": "stream",
     "text": [
      "2023-01-02 20:15:44,879 (client:255)INFO: {'Role': 'Client #1', 'Round': 223, 'Results_raw': {'train_avg_loss': 3.437391, 'train_total': 901, 'train_imp_ratio': -271.891222, 'train_loss': 3097.08888}}\n",
      "2023-01-02 20:15:44,883 (server:496)INFO: {'Role': 'Server #', 'Round': 223, 'Results_avg': {'test_avg_loss': 3.254061, 'test_total': 113.0, 'test_imp_ratio': -252.056824, 'test_loss': 367.708882, 'val_avg_loss': 2.612099, 'val_total': 113.0, 'val_imp_ratio': -182.603013, 'val_loss': 295.167228}}\n",
      "2023-01-02 20:15:44,884 (monitor:513)INFO: current_best=-159.723754, should_save=False\n",
      "2023-01-02 20:15:44,886 (monitor:513)INFO: current_best=-159.723754, should_save=False\n",
      "2023-01-02 20:15:44,891 (server:323)INFO: Server #0: Starting evaluation at the end of round 223.\n",
      "2023-01-02 20:15:44,900 (server:330)INFO: ----------- Starting a new training round (Round #224) -------------\n"
     ]
    },
    {
     "name": "stdout",
     "output_type": "stream",
     "text": [
      "vae_loss: 0.20250561833381653\n",
      "vae_loss: 0.2252899706363678\n",
      "vae_loss: 0.24079905450344086\n",
      "vae_loss: 0.2161179780960083\n",
      "vae_loss: 0.21068042516708374\n",
      "vae_loss: 0.27035295963287354\n",
      "vae_loss: 0.2214108109474182\n",
      "vae_loss: 0.19827032089233398\n",
      "vae_loss: 0.2070448249578476\n",
      "vae_loss: 0.21453607082366943\n"
     ]
    },
    {
     "name": "stderr",
     "output_type": "stream",
     "text": [
      "2023-01-02 20:15:44,987 (client:410)INFO: {'Role': 'Client #1', 'Round': 224, 'Results_raw': {'test_avg_loss': 3.389567, 'test_total': 113, 'test_imp_ratio': -266.717206, 'test_loss': 383.021085, 'val_avg_loss': 2.780142, 'val_total': 113, 'val_imp_ratio': -200.783494, 'val_loss': 314.156029}}\n",
      "2023-01-02 20:15:44,988 (monitor:513)INFO: current_best=-159.723754, should_save=False\n"
     ]
    },
    {
     "name": "stdout",
     "output_type": "stream",
     "text": [
      "vae_loss: 0.21065108478069305\n",
      "vae_loss: 0.21225789189338684\n",
      "vae_loss: 0.22274437546730042\n",
      "vae_loss: 0.1929377317428589\n",
      "vae_loss: 0.20690836012363434\n",
      "vae_loss: 0.23900693655014038\n",
      "vae_loss: 0.20706745982170105\n",
      "vae_loss: 0.21778210997581482\n",
      "vae_loss: 0.20805105566978455\n",
      "vae_loss: 0.21867910027503967\n",
      "vae_loss: 0.21300208568572998\n"
     ]
    },
    {
     "name": "stderr",
     "output_type": "stream",
     "text": [
      "2023-01-02 20:15:45,289 (client:255)INFO: {'Role': 'Client #1', 'Round': 224, 'Results_raw': {'train_avg_loss': 3.392167, 'train_total': 901, 'train_imp_ratio': -266.998521, 'train_loss': 3056.342542}}\n",
      "2023-01-02 20:15:45,293 (server:496)INFO: {'Role': 'Server #', 'Round': 224, 'Results_avg': {'test_avg_loss': 3.389567, 'test_total': 113.0, 'test_imp_ratio': -266.717206, 'test_loss': 383.021085, 'val_avg_loss': 2.780142, 'val_total': 113.0, 'val_imp_ratio': -200.783494, 'val_loss': 314.156029}}\n",
      "2023-01-02 20:15:45,295 (monitor:513)INFO: current_best=-159.723754, should_save=False\n",
      "2023-01-02 20:15:45,297 (monitor:513)INFO: current_best=-159.723754, should_save=False\n",
      "2023-01-02 20:15:45,303 (server:323)INFO: Server #0: Starting evaluation at the end of round 224.\n",
      "2023-01-02 20:15:45,315 (server:330)INFO: ----------- Starting a new training round (Round #225) -------------\n",
      "2023-01-02 20:15:45,379 (client:410)INFO: {'Role': 'Client #1', 'Round': 225, 'Results_raw': {'test_avg_loss': 3.233967, 'test_total': 113, 'test_imp_ratio': -249.882812, 'test_loss': 365.438254, 'val_avg_loss': 2.69503, 'val_total': 113, 'val_imp_ratio': -191.575192, 'val_loss': 304.538353}}\n",
      "2023-01-02 20:15:45,381 (monitor:513)INFO: current_best=-159.723754, should_save=False\n"
     ]
    },
    {
     "name": "stdout",
     "output_type": "stream",
     "text": [
      "vae_loss: 0.21687224507331848\n",
      "vae_loss: 0.23194658756256104\n",
      "vae_loss: 0.1990075409412384\n",
      "vae_loss: 0.16532927751541138\n",
      "vae_loss: 0.22107425332069397\n",
      "vae_loss: 0.1970418393611908\n",
      "vae_loss: 0.20618635416030884\n",
      "vae_loss: 0.2138325423002243\n",
      "vae_loss: 0.21337267756462097\n",
      "vae_loss: 0.2259303331375122\n",
      "vae_loss: 0.20189130306243896\n",
      "vae_loss: 0.21407541632652283\n",
      "vae_loss: 0.215809628367424\n",
      "vae_loss: 0.20922136306762695\n",
      "vae_loss: 0.216201514005661\n",
      "vae_loss: 0.22809739410877228\n",
      "vae_loss: 0.22792023420333862\n",
      "vae_loss: 0.1992875039577484\n",
      "vae_loss: 0.21111442148685455\n",
      "vae_loss: 0.2188139259815216\n"
     ]
    },
    {
     "name": "stderr",
     "output_type": "stream",
     "text": [
      "2023-01-02 20:15:45,683 (client:255)INFO: {'Role': 'Client #1', 'Round': 225, 'Results_raw': {'train_avg_loss': 3.17597, 'train_total': 901, 'train_imp_ratio': -243.608196, 'train_loss': 2861.549398}}\n",
      "2023-01-02 20:15:45,687 (server:496)INFO: {'Role': 'Server #', 'Round': 225, 'Results_avg': {'test_avg_loss': 3.233967, 'test_total': 113.0, 'test_imp_ratio': -249.882812, 'test_loss': 365.438254, 'val_avg_loss': 2.69503, 'val_total': 113.0, 'val_imp_ratio': -191.575192, 'val_loss': 304.538353}}\n",
      "2023-01-02 20:15:45,689 (monitor:513)INFO: current_best=-159.723754, should_save=False\n",
      "2023-01-02 20:15:45,690 (monitor:513)INFO: current_best=-159.723754, should_save=False\n",
      "2023-01-02 20:15:45,696 (server:323)INFO: Server #0: Starting evaluation at the end of round 225.\n",
      "2023-01-02 20:15:45,705 (server:330)INFO: ----------- Starting a new training round (Round #226) -------------\n",
      "2023-01-02 20:15:45,783 (client:410)INFO: {'Role': 'Client #1', 'Round': 226, 'Results_raw': {'test_avg_loss': 3.344396, 'test_total': 113, 'test_imp_ratio': -261.830077, 'test_loss': 377.916717, 'val_avg_loss': 2.85416, 'val_total': 113, 'val_imp_ratio': -208.791577, 'val_loss': 322.520125}}\n",
      "2023-01-02 20:15:45,785 (monitor:513)INFO: current_best=-159.723754, should_save=False\n"
     ]
    },
    {
     "name": "stdout",
     "output_type": "stream",
     "text": [
      "vae_loss: 0.1888386309146881\n",
      "vae_loss: 0.20544545352458954\n",
      "vae_loss: 0.2613682150840759\n",
      "vae_loss: 0.22026322782039642\n",
      "vae_loss: 0.19654425978660583\n",
      "vae_loss: 0.20636039972305298\n",
      "vae_loss: 0.21313543617725372\n",
      "vae_loss: 0.21780213713645935\n",
      "vae_loss: 0.21164840459823608\n",
      "vae_loss: 0.19699236750602722\n",
      "vae_loss: 0.20530812442302704\n",
      "vae_loss: 0.2134464681148529\n",
      "vae_loss: 0.2162075638771057\n",
      "vae_loss: 0.21572507917881012\n",
      "vae_loss: 0.2113349586725235\n",
      "vae_loss: 0.2139999270439148\n",
      "vae_loss: 0.2226235270500183\n",
      "vae_loss: 0.2059381902217865\n",
      "vae_loss: 0.22248351573944092\n",
      "vae_loss: 0.21387898921966553\n",
      "vae_loss: 0.21576717495918274\n"
     ]
    },
    {
     "name": "stderr",
     "output_type": "stream",
     "text": [
      "2023-01-02 20:15:46,075 (client:255)INFO: {'Role': 'Client #1', 'Round': 226, 'Results_raw': {'train_avg_loss': 3.422243, 'train_total': 901, 'train_imp_ratio': -270.252472, 'train_loss': 3083.441204}}\n",
      "2023-01-02 20:15:46,085 (server:496)INFO: {'Role': 'Server #', 'Round': 226, 'Results_avg': {'test_avg_loss': 3.344396, 'test_total': 113.0, 'test_imp_ratio': -261.830077, 'test_loss': 377.916717, 'val_avg_loss': 2.85416, 'val_total': 113.0, 'val_imp_ratio': -208.791577, 'val_loss': 322.520125}}\n",
      "2023-01-02 20:15:46,086 (monitor:513)INFO: current_best=-159.723754, should_save=False\n",
      "2023-01-02 20:15:46,087 (monitor:513)INFO: current_best=-159.723754, should_save=False\n",
      "2023-01-02 20:15:46,093 (server:323)INFO: Server #0: Starting evaluation at the end of round 226.\n",
      "2023-01-02 20:15:46,101 (server:330)INFO: ----------- Starting a new training round (Round #227) -------------\n",
      "2023-01-02 20:15:46,185 (client:410)INFO: {'Role': 'Client #1', 'Round': 227, 'Results_raw': {'test_avg_loss': 3.181893, 'test_total': 113, 'test_imp_ratio': -244.248931, 'test_loss': 359.55391, 'val_avg_loss': 2.785996, 'val_total': 113, 'val_imp_ratio': -201.416826, 'val_loss': 314.817516}}\n",
      "2023-01-02 20:15:46,186 (monitor:513)INFO: current_best=-159.723754, should_save=False\n"
     ]
    },
    {
     "name": "stdout",
     "output_type": "stream",
     "text": [
      "vae_loss: 0.14749346673488617\n",
      "vae_loss: 0.22065488994121552\n",
      "vae_loss: 0.19727838039398193\n",
      "vae_loss: 0.20539575815200806\n",
      "vae_loss: 0.21494022011756897\n",
      "vae_loss: 0.1932779848575592\n",
      "vae_loss: 0.23025637865066528\n",
      "vae_loss: 0.2033393532037735\n",
      "vae_loss: 0.20723214745521545\n",
      "vae_loss: 0.23035448789596558\n",
      "vae_loss: 0.21176815032958984\n",
      "vae_loss: 0.2025488317012787\n",
      "vae_loss: 0.19515225291252136\n",
      "vae_loss: 0.2077530324459076\n",
      "vae_loss: 0.22433358430862427\n",
      "vae_loss: 0.2248019278049469\n",
      "vae_loss: 0.21913164854049683\n",
      "vae_loss: 0.20649279654026031\n",
      "vae_loss: 0.23267655074596405\n"
     ]
    },
    {
     "name": "stderr",
     "output_type": "stream",
     "text": [
      "2023-01-02 20:15:46,497 (client:255)INFO: {'Role': 'Client #1', 'Round': 227, 'Results_raw': {'train_avg_loss': 3.53259, 'train_total': 901, 'train_imp_ratio': -282.190889, 'train_loss': 3182.863876}}\n",
      "2023-01-02 20:15:46,502 (server:496)INFO: {'Role': 'Server #', 'Round': 227, 'Results_avg': {'test_avg_loss': 3.181893, 'test_total': 113.0, 'test_imp_ratio': -244.248931, 'test_loss': 359.55391, 'val_avg_loss': 2.785996, 'val_total': 113.0, 'val_imp_ratio': -201.416826, 'val_loss': 314.817516}}\n",
      "2023-01-02 20:15:46,504 (monitor:513)INFO: current_best=-159.723754, should_save=False\n",
      "2023-01-02 20:15:46,505 (monitor:513)INFO: current_best=-159.723754, should_save=False\n",
      "2023-01-02 20:15:46,514 (server:323)INFO: Server #0: Starting evaluation at the end of round 227.\n",
      "2023-01-02 20:15:46,523 (server:330)INFO: ----------- Starting a new training round (Round #228) -------------\n",
      "2023-01-02 20:15:46,608 (client:410)INFO: {'Role': 'Client #1', 'Round': 228, 'Results_raw': {'test_avg_loss': 3.250001, 'test_total': 113, 'test_imp_ratio': -251.617492, 'test_loss': 367.250058, 'val_avg_loss': 2.732851, 'val_total': 113, 'val_imp_ratio': -195.667077, 'val_loss': 308.812115}}\n",
      "2023-01-02 20:15:46,610 (monitor:513)INFO: current_best=-159.723754, should_save=False\n"
     ]
    },
    {
     "name": "stdout",
     "output_type": "stream",
     "text": [
      "vae_loss: 0.21011243760585785\n",
      "vae_loss: 0.22065259516239166\n",
      "vae_loss: 0.19630321860313416\n",
      "vae_loss: 0.20610593259334564\n",
      "vae_loss: 0.21404249966144562\n",
      "vae_loss: 0.20274072885513306\n",
      "vae_loss: 0.20902498066425323\n",
      "vae_loss: 0.21935978531837463\n"
     ]
    },
    {
     "name": "stderr",
     "output_type": "stream",
     "text": [
      "2023-01-02 20:15:46,892 (client:255)INFO: {'Role': 'Client #1', 'Round': 228, 'Results_raw': {'train_avg_loss': 3.445671, 'train_total': 901, 'train_imp_ratio': -272.787117, 'train_loss': 3104.549782}}\n"
     ]
    },
    {
     "name": "stdout",
     "output_type": "stream",
     "text": [
      "vae_loss: 0.2128937840461731\n",
      "vae_loss: 0.21360056102275848\n",
      "vae_loss: 0.22681450843811035\n",
      "vae_loss: 0.21876776218414307\n",
      "vae_loss: 0.20569701492786407\n",
      "vae_loss: 0.22051599621772766\n",
      "vae_loss: 0.2062678039073944\n",
      "vae_loss: 0.21159061789512634\n",
      "vae_loss: 0.21595901250839233\n",
      "vae_loss: 0.20649699866771698\n",
      "vae_loss: 0.20845246315002441\n",
      "vae_loss: 0.21418172121047974\n"
     ]
    },
    {
     "name": "stderr",
     "output_type": "stream",
     "text": [
      "2023-01-02 20:15:46,897 (server:496)INFO: {'Role': 'Server #', 'Round': 228, 'Results_avg': {'test_avg_loss': 3.250001, 'test_total': 113.0, 'test_imp_ratio': -251.617492, 'test_loss': 367.250058, 'val_avg_loss': 2.732851, 'val_total': 113.0, 'val_imp_ratio': -195.667077, 'val_loss': 308.812115}}\n",
      "2023-01-02 20:15:46,898 (monitor:513)INFO: current_best=-159.723754, should_save=False\n",
      "2023-01-02 20:15:46,899 (monitor:513)INFO: current_best=-159.723754, should_save=False\n",
      "2023-01-02 20:15:46,906 (server:323)INFO: Server #0: Starting evaluation at the end of round 228.\n",
      "2023-01-02 20:15:46,919 (server:330)INFO: ----------- Starting a new training round (Round #229) -------------\n",
      "2023-01-02 20:15:47,013 (client:410)INFO: {'Role': 'Client #1', 'Round': 229, 'Results_raw': {'test_avg_loss': 3.11149, 'test_total': 113, 'test_imp_ratio': -236.632047, 'test_loss': 351.598366, 'val_avg_loss': 2.773197, 'val_total': 113, 'val_imp_ratio': -200.032177, 'val_loss': 313.371294}}\n",
      "2023-01-02 20:15:47,014 (monitor:513)INFO: current_best=-159.723754, should_save=False\n"
     ]
    },
    {
     "name": "stdout",
     "output_type": "stream",
     "text": [
      "vae_loss: 0.21887816488742828\n",
      "vae_loss: 0.19640251994132996\n",
      "vae_loss: 0.20608177781105042\n",
      "vae_loss: 0.21399879455566406\n",
      "vae_loss: 0.22930125892162323\n",
      "vae_loss: 0.20146845281124115\n",
      "vae_loss: 0.22423575818538666\n",
      "vae_loss: 0.21318753063678741\n",
      "vae_loss: 0.21149159967899323\n",
      "vae_loss: 0.20934437215328217\n",
      "vae_loss: 0.21908588707447052\n",
      "vae_loss: 0.2202020287513733\n"
     ]
    },
    {
     "name": "stderr",
     "output_type": "stream",
     "text": [
      "2023-01-02 20:15:47,294 (client:255)INFO: {'Role': 'Client #1', 'Round': 229, 'Results_raw': {'train_avg_loss': 3.503937, 'train_total': 901, 'train_imp_ratio': -279.090906, 'train_loss': 3157.047413}}\n",
      "2023-01-02 20:15:47,299 (server:496)INFO: {'Role': 'Server #', 'Round': 229, 'Results_avg': {'test_avg_loss': 3.11149, 'test_total': 113.0, 'test_imp_ratio': -236.632047, 'test_loss': 351.598366, 'val_avg_loss': 2.773197, 'val_total': 113.0, 'val_imp_ratio': -200.032177, 'val_loss': 313.371294}}\n",
      "2023-01-02 20:15:47,300 (monitor:513)INFO: current_best=-159.723754, should_save=False\n",
      "2023-01-02 20:15:47,302 (monitor:513)INFO: current_best=-159.723754, should_save=False\n",
      "2023-01-02 20:15:47,307 (server:323)INFO: Server #0: Starting evaluation at the end of round 229.\n",
      "2023-01-02 20:15:47,314 (server:330)INFO: ----------- Starting a new training round (Round #230) -------------\n"
     ]
    },
    {
     "name": "stdout",
     "output_type": "stream",
     "text": [
      "vae_loss: 0.2177106738090515\n",
      "vae_loss: 0.1954869031906128\n",
      "vae_loss: 0.21948033571243286\n",
      "vae_loss: 0.2030605971813202\n",
      "vae_loss: 0.19684241712093353\n",
      "vae_loss: 0.20604482293128967\n",
      "vae_loss: 0.27400103211402893\n",
      "vae_loss: 0.22127270698547363\n",
      "vae_loss: 0.19728147983551025\n",
      "vae_loss: 0.20501333475112915\n",
      "vae_loss: 0.21474935114383698\n"
     ]
    },
    {
     "name": "stderr",
     "output_type": "stream",
     "text": [
      "2023-01-02 20:15:47,382 (client:410)INFO: {'Role': 'Client #1', 'Round': 230, 'Results_raw': {'test_avg_loss': 3.049924, 'test_total': 113, 'test_imp_ratio': -229.971262, 'test_loss': 344.641458, 'val_avg_loss': 2.78836, 'val_total': 113, 'val_imp_ratio': -201.67263, 'val_loss': 315.084686}}\n",
      "2023-01-02 20:15:47,383 (monitor:513)INFO: current_best=-159.723754, should_save=False\n"
     ]
    },
    {
     "name": "stdout",
     "output_type": "stream",
     "text": [
      "vae_loss: 0.22189995646476746\n",
      "vae_loss: 0.21172237396240234\n",
      "vae_loss: 0.2040444314479828\n",
      "vae_loss: 0.2214731127023697\n",
      "vae_loss: 0.1982157677412033\n",
      "vae_loss: 0.22055068612098694\n",
      "vae_loss: 0.185603529214859\n",
      "vae_loss: 0.21351854503154755\n",
      "vae_loss: 0.22843009233474731\n",
      "vae_loss: 0.20335133373737335\n",
      "vae_loss: 0.22012482583522797\n",
      "vae_loss: 0.21278028190135956\n"
     ]
    },
    {
     "name": "stderr",
     "output_type": "stream",
     "text": [
      "2023-01-02 20:15:47,678 (client:255)INFO: {'Role': 'Client #1', 'Round': 230, 'Results_raw': {'train_avg_loss': 3.47269, 'train_total': 901, 'train_imp_ratio': -275.710304, 'train_loss': 3128.893943}}\n",
      "2023-01-02 20:15:47,683 (server:496)INFO: {'Role': 'Server #', 'Round': 230, 'Results_avg': {'test_avg_loss': 3.049924, 'test_total': 113.0, 'test_imp_ratio': -229.971262, 'test_loss': 344.641458, 'val_avg_loss': 2.78836, 'val_total': 113.0, 'val_imp_ratio': -201.67263, 'val_loss': 315.084686}}\n",
      "2023-01-02 20:15:47,684 (monitor:513)INFO: current_best=-159.723754, should_save=False\n",
      "2023-01-02 20:15:47,685 (monitor:513)INFO: current_best=-159.723754, should_save=False\n",
      "2023-01-02 20:15:47,690 (server:323)INFO: Server #0: Starting evaluation at the end of round 230.\n",
      "2023-01-02 20:15:47,697 (server:330)INFO: ----------- Starting a new training round (Round #231) -------------\n",
      "2023-01-02 20:15:47,785 (client:410)INFO: {'Role': 'Client #1', 'Round': 231, 'Results_raw': {'test_avg_loss': 3.368393, 'test_total': 113, 'test_imp_ratio': -264.426396, 'test_loss': 380.628447, 'val_avg_loss': 2.529623, 'val_total': 113, 'val_imp_ratio': -173.679818, 'val_loss': 285.847369}}\n",
      "2023-01-02 20:15:47,786 (monitor:513)INFO: current_best=-159.723754, should_save=False\n"
     ]
    },
    {
     "name": "stdout",
     "output_type": "stream",
     "text": [
      "vae_loss: 0.20321467518806458\n",
      "vae_loss: 0.2290809005498886\n",
      "vae_loss: 0.24034005403518677\n",
      "vae_loss: 0.21907436847686768\n",
      "vae_loss: 0.1959628313779831\n",
      "vae_loss: 0.20557625591754913\n",
      "vae_loss: 0.2136906236410141\n",
      "vae_loss: 0.1876610815525055\n",
      "vae_loss: 0.21467451751232147\n",
      "vae_loss: 0.19937144219875336\n",
      "vae_loss: 0.21511515974998474\n",
      "vae_loss: 0.21538062393665314\n",
      "vae_loss: 0.20625507831573486\n",
      "vae_loss: 0.2225075364112854\n",
      "vae_loss: 0.23680296540260315\n",
      "vae_loss: 0.21877959370613098\n",
      "vae_loss: 0.20834866166114807\n",
      "vae_loss: 0.21148470044136047\n",
      "vae_loss: 0.21903124451637268\n",
      "vae_loss: 0.2071949988603592\n"
     ]
    },
    {
     "name": "stderr",
     "output_type": "stream",
     "text": [
      "2023-01-02 20:15:48,083 (client:255)INFO: {'Role': 'Client #1', 'Round': 231, 'Results_raw': {'train_avg_loss': 3.353884, 'train_total': 901, 'train_imp_ratio': -262.856698, 'train_loss': 3021.849712}}\n",
      "2023-01-02 20:15:48,088 (server:496)INFO: {'Role': 'Server #', 'Round': 231, 'Results_avg': {'test_avg_loss': 3.368393, 'test_total': 113.0, 'test_imp_ratio': -264.426396, 'test_loss': 380.628447, 'val_avg_loss': 2.529623, 'val_total': 113.0, 'val_imp_ratio': -173.679818, 'val_loss': 285.847369}}\n",
      "2023-01-02 20:15:48,089 (monitor:513)INFO: current_best=-159.723754, should_save=False\n",
      "2023-01-02 20:15:48,090 (monitor:513)INFO: current_best=-159.723754, should_save=False\n",
      "2023-01-02 20:15:48,095 (server:323)INFO: Server #0: Starting evaluation at the end of round 231.\n",
      "2023-01-02 20:15:48,103 (server:330)INFO: ----------- Starting a new training round (Round #232) -------------\n",
      "2023-01-02 20:15:48,191 (client:410)INFO: {'Role': 'Client #1', 'Round': 232, 'Results_raw': {'test_avg_loss': 3.081754, 'test_total': 113, 'test_imp_ratio': -233.414905, 'test_loss': 348.238153, 'val_avg_loss': 2.580955, 'val_total': 113, 'val_imp_ratio': -179.233529, 'val_loss': 291.647949}}\n",
      "2023-01-02 20:15:48,192 (monitor:513)INFO: current_best=-159.723754, should_save=False\n"
     ]
    },
    {
     "name": "stdout",
     "output_type": "stream",
     "text": [
      "vae_loss: 0.22086012363433838\n",
      "vae_loss: 0.19674155116081238\n",
      "vae_loss: 0.21977485716342926\n",
      "vae_loss: 0.19734229147434235\n",
      "vae_loss: 0.20483089983463287\n",
      "vae_loss: 0.21514418721199036\n",
      "vae_loss: 0.20718258619308472\n",
      "vae_loss: 0.19897852838039398\n",
      "vae_loss: 0.20116986334323883\n",
      "vae_loss: 0.18626336753368378\n",
      "vae_loss: 0.21353638172149658\n",
      "vae_loss: 0.22048376500606537\n",
      "vae_loss: 0.2335115373134613\n",
      "vae_loss: 0.2189624160528183\n",
      "vae_loss: 0.22414153814315796\n",
      "vae_loss: 0.2329033613204956\n",
      "vae_loss: 0.2121771275997162\n",
      "vae_loss: 0.20913201570510864\n",
      "vae_loss: 0.23321135342121124\n"
     ]
    },
    {
     "name": "stderr",
     "output_type": "stream",
     "text": [
      "2023-01-02 20:15:48,514 (client:255)INFO: {'Role': 'Client #1', 'Round': 232, 'Results_raw': {'train_avg_loss': 3.37457, 'train_total': 901, 'train_imp_ratio': -265.09468, 'train_loss': 3040.487986}}\n",
      "2023-01-02 20:15:48,519 (server:496)INFO: {'Role': 'Server #', 'Round': 232, 'Results_avg': {'test_avg_loss': 3.081754, 'test_total': 113.0, 'test_imp_ratio': -233.414905, 'test_loss': 348.238153, 'val_avg_loss': 2.580955, 'val_total': 113.0, 'val_imp_ratio': -179.233529, 'val_loss': 291.647949}}\n",
      "2023-01-02 20:15:48,521 (monitor:513)INFO: current_best=-159.723754, should_save=False\n",
      "2023-01-02 20:15:48,522 (monitor:513)INFO: current_best=-159.723754, should_save=False\n",
      "2023-01-02 20:15:48,528 (server:323)INFO: Server #0: Starting evaluation at the end of round 232.\n",
      "2023-01-02 20:15:48,536 (server:330)INFO: ----------- Starting a new training round (Round #233) -------------\n",
      "2023-01-02 20:15:48,611 (client:410)INFO: {'Role': 'Client #1', 'Round': 233, 'Results_raw': {'test_avg_loss': 3.220362, 'test_total': 113, 'test_imp_ratio': -248.4109, 'test_loss': 363.900907, 'val_avg_loss': 3.03345, 'val_total': 113, 'val_imp_ratio': -228.188965, 'val_loss': 342.779871}}\n",
      "2023-01-02 20:15:48,612 (monitor:513)INFO: current_best=-159.723754, should_save=False\n"
     ]
    },
    {
     "name": "stdout",
     "output_type": "stream",
     "text": [
      "vae_loss: 0.1904916614294052\n",
      "vae_loss: 0.2129046618938446\n",
      "vae_loss: 0.22105582058429718\n",
      "vae_loss: 0.1990104764699936\n",
      "vae_loss: 0.2078428566455841\n",
      "vae_loss: 0.21537244319915771\n",
      "vae_loss: 0.21827659010887146\n",
      "vae_loss: 0.22583095729351044\n",
      "vae_loss: 0.21322223544120789\n",
      "vae_loss: 0.22671067714691162\n",
      "vae_loss: 0.2055674046278\n",
      "vae_loss: 0.20376569032669067\n",
      "vae_loss: 0.214385524392128\n",
      "vae_loss: 0.20279332995414734\n",
      "vae_loss: 0.21112479269504547\n",
      "vae_loss: 0.2121940553188324\n",
      "vae_loss: 0.18449676036834717\n",
      "vae_loss: 0.21157950162887573\n",
      "vae_loss: 0.23070356249809265\n",
      "vae_loss: 0.21608716249465942\n",
      "vae_loss: 0.29380494356155396\n"
     ]
    },
    {
     "name": "stderr",
     "output_type": "stream",
     "text": [
      "2023-01-02 20:15:48,896 (client:255)INFO: {'Role': 'Client #1', 'Round': 233, 'Results_raw': {'train_avg_loss': 3.408317, 'train_total': 901, 'train_imp_ratio': -268.745737, 'train_loss': 3070.893623}}\n",
      "2023-01-02 20:15:48,901 (server:496)INFO: {'Role': 'Server #', 'Round': 233, 'Results_avg': {'test_avg_loss': 3.220362, 'test_total': 113.0, 'test_imp_ratio': -248.4109, 'test_loss': 363.900907, 'val_avg_loss': 3.03345, 'val_total': 113.0, 'val_imp_ratio': -228.188965, 'val_loss': 342.779871}}\n",
      "2023-01-02 20:15:48,902 (monitor:513)INFO: current_best=-159.723754, should_save=False\n",
      "2023-01-02 20:15:48,903 (monitor:513)INFO: current_best=-159.723754, should_save=False\n",
      "2023-01-02 20:15:48,912 (server:323)INFO: Server #0: Starting evaluation at the end of round 233.\n",
      "2023-01-02 20:15:48,919 (server:330)INFO: ----------- Starting a new training round (Round #234) -------------\n",
      "2023-01-02 20:15:49,003 (client:410)INFO: {'Role': 'Client #1', 'Round': 234, 'Results_raw': {'test_avg_loss': 3.252255, 'test_total': 113, 'test_imp_ratio': -251.861379, 'test_loss': 367.504804, 'val_avg_loss': 2.393024, 'val_total': 113, 'val_imp_ratio': -158.901245, 'val_loss': 270.411725}}\n",
      "2023-01-02 20:15:49,005 (monitor:513)INFO: current_best=-158.901245, should_save=True\n",
      "2023-01-02 20:15:49,006 (client:431)INFO: Client: #1, val_imp_ratio: -158.901245. model saved at exp/test_dir/Graph-DT-FedAvg_gin_on_graph-dt_lr0.1_lstep1_/sub_exp_20230102200809/model1.pth\n"
     ]
    },
    {
     "name": "stdout",
     "output_type": "stream",
     "text": [
      "vae_loss: 0.22077234089374542\n",
      "vae_loss: 0.1985471099615097\n",
      "vae_loss: 0.20668691396713257\n",
      "vae_loss: 0.2155655026435852\n",
      "vae_loss: 0.20383542776107788\n",
      "vae_loss: 0.21742916107177734\n",
      "vae_loss: 0.22116057574748993\n",
      "vae_loss: 0.21248064935207367\n",
      "vae_loss: 0.2036581188440323\n",
      "vae_loss: 0.19409886002540588\n"
     ]
    },
    {
     "name": "stderr",
     "output_type": "stream",
     "text": [
      "2023-01-02 20:15:49,321 (client:255)INFO: {'Role': 'Client #1', 'Round': 234, 'Results_raw': {'train_avg_loss': 3.433839, 'train_total': 901, 'train_imp_ratio': -271.506987, 'train_loss': 3093.888863}}\n",
      "2023-01-02 20:15:49,325 (server:496)INFO: {'Role': 'Server #', 'Round': 234, 'Results_avg': {'test_avg_loss': 3.252255, 'test_total': 113.0, 'test_imp_ratio': -251.861379, 'test_loss': 367.504804, 'val_avg_loss': 2.393024, 'val_total': 113.0, 'val_imp_ratio': -158.901245, 'val_loss': 270.411725}}\n",
      "2023-01-02 20:15:49,326 (monitor:513)INFO: current_best=-159.723754, should_save=False\n",
      "2023-01-02 20:15:49,327 (monitor:513)INFO: current_best=-158.901245, should_save=True\n",
      "2023-01-02 20:15:49,333 (server:323)INFO: Server #0: Starting evaluation at the end of round 234.\n",
      "2023-01-02 20:15:49,340 (server:330)INFO: ----------- Starting a new training round (Round #235) -------------\n"
     ]
    },
    {
     "name": "stdout",
     "output_type": "stream",
     "text": [
      "vae_loss: 0.21911421418190002\n",
      "vae_loss: 0.19575101137161255\n",
      "vae_loss: 0.2207198292016983\n",
      "vae_loss: 0.21048003435134888\n",
      "vae_loss: 0.23340727388858795\n",
      "vae_loss: 0.21062463521957397\n",
      "vae_loss: 0.2184118628501892\n",
      "vae_loss: 0.22149108350276947\n",
      "vae_loss: 0.22439460456371307\n"
     ]
    },
    {
     "name": "stderr",
     "output_type": "stream",
     "text": [
      "2023-01-02 20:15:49,417 (client:410)INFO: {'Role': 'Client #1', 'Round': 235, 'Results_raw': {'test_avg_loss': 3.127692, 'test_total': 113, 'test_imp_ratio': -238.384938, 'test_loss': 353.429193, 'val_avg_loss': 2.807104, 'val_total': 113, 'val_imp_ratio': -203.700542, 'val_loss': 317.202756}}\n",
      "2023-01-02 20:15:49,418 (monitor:513)INFO: current_best=-158.901245, should_save=False\n"
     ]
    },
    {
     "name": "stdout",
     "output_type": "stream",
     "text": [
      "vae_loss: 0.22097602486610413\n",
      "vae_loss: 0.19779783487319946\n",
      "vae_loss: 0.2076755166053772\n",
      "vae_loss: 0.21530678868293762\n",
      "vae_loss: 0.22126778960227966\n",
      "vae_loss: 0.2045334279537201\n",
      "vae_loss: 0.2246702015399933\n",
      "vae_loss: 0.2074095904827118\n",
      "vae_loss: 0.2196258306503296\n",
      "vae_loss: 0.21458002924919128\n"
     ]
    },
    {
     "name": "stderr",
     "output_type": "stream",
     "text": [
      "2023-01-02 20:15:49,720 (client:255)INFO: {'Role': 'Client #1', 'Round': 235, 'Results_raw': {'train_avg_loss': 3.134023, 'train_total': 901, 'train_imp_ratio': -239.069911, 'train_loss': 2823.754831}}\n",
      "2023-01-02 20:15:49,725 (server:496)INFO: {'Role': 'Server #', 'Round': 235, 'Results_avg': {'test_avg_loss': 3.127692, 'test_total': 113.0, 'test_imp_ratio': -238.384938, 'test_loss': 353.429193, 'val_avg_loss': 2.807104, 'val_total': 113.0, 'val_imp_ratio': -203.700542, 'val_loss': 317.202756}}\n",
      "2023-01-02 20:15:49,726 (monitor:513)INFO: current_best=-158.901245, should_save=False\n",
      "2023-01-02 20:15:49,727 (monitor:513)INFO: current_best=-158.901245, should_save=False\n",
      "2023-01-02 20:15:49,732 (server:323)INFO: Server #0: Starting evaluation at the end of round 235.\n",
      "2023-01-02 20:15:49,744 (server:330)INFO: ----------- Starting a new training round (Round #236) -------------\n"
     ]
    },
    {
     "name": "stdout",
     "output_type": "stream",
     "text": [
      "vae_loss: 0.19832590222358704\n",
      "vae_loss: 0.20998504757881165\n",
      "vae_loss: 0.2001485824584961\n",
      "vae_loss: 0.20987540483474731\n",
      "vae_loss: 0.2223215103149414\n",
      "vae_loss: 0.20188535749912262\n",
      "vae_loss: 0.23657795786857605\n",
      "vae_loss: 0.22120708227157593\n",
      "vae_loss: 0.1815505474805832\n"
     ]
    },
    {
     "name": "stderr",
     "output_type": "stream",
     "text": [
      "2023-01-02 20:15:49,823 (client:410)INFO: {'Role': 'Client #1', 'Round': 236, 'Results_raw': {'test_avg_loss': 3.599836, 'test_total': 113, 'test_imp_ratio': -289.466151, 'test_loss': 406.781446, 'val_avg_loss': 2.949927, 'val_total': 113, 'val_imp_ratio': -219.152506, 'val_loss': 333.341698}}\n",
      "2023-01-02 20:15:49,824 (monitor:513)INFO: current_best=-158.901245, should_save=False\n"
     ]
    },
    {
     "name": "stdout",
     "output_type": "stream",
     "text": [
      "vae_loss: 0.22110241651535034\n",
      "vae_loss: 0.19864103198051453\n",
      "vae_loss: 0.20656909048557281\n",
      "vae_loss: 0.21618610620498657\n",
      "vae_loss: 0.21719655394554138\n",
      "vae_loss: 0.22228938341140747\n",
      "vae_loss: 0.20883184671401978\n",
      "vae_loss: 0.21611611545085907\n",
      "vae_loss: 0.1980864256620407\n",
      "vae_loss: 0.2105013132095337\n",
      "vae_loss: 0.2228187769651413\n"
     ]
    },
    {
     "name": "stderr",
     "output_type": "stream",
     "text": [
      "2023-01-02 20:15:50,131 (client:255)INFO: {'Role': 'Client #1', 'Round': 236, 'Results_raw': {'train_avg_loss': 3.257786, 'train_total': 901, 'train_imp_ratio': -252.459811, 'train_loss': 2935.265224}}\n",
      "2023-01-02 20:15:50,139 (server:496)INFO: {'Role': 'Server #', 'Round': 236, 'Results_avg': {'test_avg_loss': 3.599836, 'test_total': 113.0, 'test_imp_ratio': -289.466151, 'test_loss': 406.781446, 'val_avg_loss': 2.949927, 'val_total': 113.0, 'val_imp_ratio': -219.152506, 'val_loss': 333.341698}}\n",
      "2023-01-02 20:15:50,140 (monitor:513)INFO: current_best=-158.901245, should_save=False\n",
      "2023-01-02 20:15:50,142 (monitor:513)INFO: current_best=-158.901245, should_save=False\n",
      "2023-01-02 20:15:50,154 (server:323)INFO: Server #0: Starting evaluation at the end of round 236.\n",
      "2023-01-02 20:15:50,160 (server:330)INFO: ----------- Starting a new training round (Round #237) -------------\n"
     ]
    },
    {
     "name": "stdout",
     "output_type": "stream",
     "text": [
      "vae_loss: 0.1955486238002777\n",
      "vae_loss: 0.24737587571144104\n",
      "vae_loss: 0.2334713637828827\n",
      "vae_loss: 0.2062930464744568\n",
      "vae_loss: 0.21206307411193848\n",
      "vae_loss: 0.186648428440094\n",
      "vae_loss: 0.21667391061782837\n",
      "vae_loss: 0.20272797346115112\n"
     ]
    },
    {
     "name": "stderr",
     "output_type": "stream",
     "text": [
      "2023-01-02 20:15:50,249 (client:410)INFO: {'Role': 'Client #1', 'Round': 237, 'Results_raw': {'test_avg_loss': 2.82844, 'test_total': 113, 'test_imp_ratio': -206.008892, 'test_loss': 319.613722, 'val_avg_loss': 2.871738, 'val_total': 113, 'val_imp_ratio': -210.693277, 'val_loss': 324.506347}}\n",
      "2023-01-02 20:15:50,250 (monitor:513)INFO: current_best=-158.901245, should_save=False\n"
     ]
    },
    {
     "name": "stdout",
     "output_type": "stream",
     "text": [
      "vae_loss: 0.22187523543834686\n",
      "vae_loss: 0.1975160539150238\n",
      "vae_loss: 0.2067432701587677\n",
      "vae_loss: 0.21546904742717743\n",
      "vae_loss: 0.20897315442562103\n",
      "vae_loss: 0.2042655497789383\n",
      "vae_loss: 0.2151377648115158\n",
      "vae_loss: 0.2329554557800293\n",
      "vae_loss: 0.20695482194423676\n",
      "vae_loss: 0.21385802328586578\n",
      "vae_loss: 0.21882407367229462\n"
     ]
    },
    {
     "name": "stderr",
     "output_type": "stream",
     "text": [
      "2023-01-02 20:15:50,546 (client:255)INFO: {'Role': 'Client #1', 'Round': 237, 'Results_raw': {'train_avg_loss': 3.460757, 'train_total': 901, 'train_imp_ratio': -274.419238, 'train_loss': 3118.142142}}\n",
      "2023-01-02 20:15:50,553 (server:496)INFO: {'Role': 'Server #', 'Round': 237, 'Results_avg': {'test_avg_loss': 2.82844, 'test_total': 113.0, 'test_imp_ratio': -206.008892, 'test_loss': 319.613722, 'val_avg_loss': 2.871738, 'val_total': 113.0, 'val_imp_ratio': -210.693277, 'val_loss': 324.506347}}\n",
      "2023-01-02 20:15:50,554 (monitor:513)INFO: current_best=-158.901245, should_save=False\n",
      "2023-01-02 20:15:50,556 (monitor:513)INFO: current_best=-158.901245, should_save=False\n",
      "2023-01-02 20:15:50,561 (server:323)INFO: Server #0: Starting evaluation at the end of round 237.\n",
      "2023-01-02 20:15:50,568 (server:330)INFO: ----------- Starting a new training round (Round #238) -------------\n"
     ]
    },
    {
     "name": "stdout",
     "output_type": "stream",
     "text": [
      "vae_loss: 0.21106421947479248\n",
      "vae_loss: 0.21367624402046204\n",
      "vae_loss: 0.21155446767807007\n",
      "vae_loss: 0.21614620089530945\n",
      "vae_loss: 0.2221871018409729\n",
      "vae_loss: 0.21647797524929047\n",
      "vae_loss: 0.20665645599365234\n",
      "vae_loss: 0.20441274344921112\n",
      "vae_loss: 0.22077111899852753\n"
     ]
    },
    {
     "name": "stderr",
     "output_type": "stream",
     "text": [
      "2023-01-02 20:15:50,657 (client:410)INFO: {'Role': 'Client #1', 'Round': 238, 'Results_raw': {'test_avg_loss': 2.992574, 'test_total': 113, 'test_imp_ratio': -223.766523, 'test_loss': 338.160858, 'val_avg_loss': 2.796738, 'val_total': 113, 'val_imp_ratio': -202.579023, 'val_loss': 316.031398}}\n",
      "2023-01-02 20:15:50,658 (monitor:513)INFO: current_best=-158.901245, should_save=False\n"
     ]
    },
    {
     "name": "stdout",
     "output_type": "stream",
     "text": [
      "vae_loss: 0.1982823610305786\n",
      "vae_loss: 0.20666292309761047\n",
      "vae_loss: 0.21501481533050537\n",
      "vae_loss: 0.19725783169269562\n",
      "vae_loss: 0.21069073677062988\n",
      "vae_loss: 0.20790372788906097\n",
      "vae_loss: 0.20579899847507477\n",
      "vae_loss: 0.22597861289978027\n",
      "vae_loss: 0.22381193935871124\n",
      "vae_loss: 0.20095255970954895\n"
     ]
    },
    {
     "name": "stderr",
     "output_type": "stream",
     "text": [
      "2023-01-02 20:15:50,969 (client:255)INFO: {'Role': 'Client #1', 'Round': 238, 'Results_raw': {'train_avg_loss': 3.29419, 'train_total': 901, 'train_imp_ratio': -256.398348, 'train_loss': 2968.065081}}\n",
      "2023-01-02 20:15:50,974 (server:496)INFO: {'Role': 'Server #', 'Round': 238, 'Results_avg': {'test_avg_loss': 2.992574, 'test_total': 113.0, 'test_imp_ratio': -223.766523, 'test_loss': 338.160858, 'val_avg_loss': 2.796738, 'val_total': 113.0, 'val_imp_ratio': -202.579023, 'val_loss': 316.031398}}\n",
      "2023-01-02 20:15:50,975 (monitor:513)INFO: current_best=-158.901245, should_save=False\n",
      "2023-01-02 20:15:50,976 (monitor:513)INFO: current_best=-158.901245, should_save=False\n",
      "2023-01-02 20:15:50,982 (server:323)INFO: Server #0: Starting evaluation at the end of round 238.\n",
      "2023-01-02 20:15:50,989 (server:330)INFO: ----------- Starting a new training round (Round #239) -------------\n"
     ]
    },
    {
     "name": "stdout",
     "output_type": "stream",
     "text": [
      "vae_loss: 0.19071733951568604\n",
      "vae_loss: 0.2330893874168396\n",
      "vae_loss: 0.1995365023612976\n",
      "vae_loss: 0.19609084725379944\n",
      "vae_loss: 0.2047126740217209\n",
      "vae_loss: 0.23810948431491852\n",
      "vae_loss: 0.2565351128578186\n",
      "vae_loss: 0.20616857707500458\n"
     ]
    },
    {
     "name": "stderr",
     "output_type": "stream",
     "text": [
      "2023-01-02 20:15:51,068 (client:410)INFO: {'Role': 'Client #1', 'Round': 239, 'Results_raw': {'test_avg_loss': 2.970366, 'test_total': 113, 'test_imp_ratio': -221.363791, 'test_loss': 335.651307, 'val_avg_loss': 2.783272, 'val_total': 113, 'val_imp_ratio': -201.12215, 'val_loss': 314.509766}}\n",
      "2023-01-02 20:15:51,069 (monitor:513)INFO: current_best=-158.901245, should_save=False\n"
     ]
    },
    {
     "name": "stdout",
     "output_type": "stream",
     "text": [
      "vae_loss: 0.22069373726844788\n",
      "vae_loss: 0.19732627272605896\n",
      "vae_loss: 0.2062121033668518\n",
      "vae_loss: 0.2151370346546173\n",
      "vae_loss: 0.22680482268333435\n",
      "vae_loss: 0.2170449197292328\n",
      "vae_loss: 0.1849135011434555\n",
      "vae_loss: 0.22093452513217926\n",
      "vae_loss: 0.23809367418289185\n",
      "vae_loss: 0.20529305934906006\n",
      "vae_loss: 0.19847463071346283\n",
      "vae_loss: 0.2030300348997116\n"
     ]
    },
    {
     "name": "stderr",
     "output_type": "stream",
     "text": [
      "2023-01-02 20:15:51,358 (client:255)INFO: {'Role': 'Client #1', 'Round': 239, 'Results_raw': {'train_avg_loss': 3.343059, 'train_total': 901, 'train_imp_ratio': -261.685499, 'train_loss': 3012.095923}}\n",
      "2023-01-02 20:15:51,362 (server:496)INFO: {'Role': 'Server #', 'Round': 239, 'Results_avg': {'test_avg_loss': 2.970366, 'test_total': 113.0, 'test_imp_ratio': -221.363791, 'test_loss': 335.651307, 'val_avg_loss': 2.783272, 'val_total': 113.0, 'val_imp_ratio': -201.12215, 'val_loss': 314.509766}}\n",
      "2023-01-02 20:15:51,363 (monitor:513)INFO: current_best=-158.901245, should_save=False\n",
      "2023-01-02 20:15:51,364 (monitor:513)INFO: current_best=-158.901245, should_save=False\n",
      "2023-01-02 20:15:51,370 (server:323)INFO: Server #0: Starting evaluation at the end of round 239.\n",
      "2023-01-02 20:15:51,378 (server:330)INFO: ----------- Starting a new training round (Round #240) -------------\n"
     ]
    },
    {
     "name": "stdout",
     "output_type": "stream",
     "text": [
      "vae_loss: 0.19062672555446625\n",
      "vae_loss: 0.22049131989479065\n",
      "vae_loss: 0.231683611869812\n",
      "vae_loss: 0.2344457507133484\n",
      "vae_loss: 0.2010067254304886\n",
      "vae_loss: 0.20995356142520905\n",
      "vae_loss: 0.18033753335475922\n",
      "vae_loss: 0.22011235356330872\n",
      "vae_loss: 0.19642826914787292\n"
     ]
    },
    {
     "name": "stderr",
     "output_type": "stream",
     "text": [
      "2023-01-02 20:15:51,456 (client:410)INFO: {'Role': 'Client #1', 'Round': 240, 'Results_raw': {'test_avg_loss': 3.299955, 'test_total': 113, 'test_imp_ratio': -257.022085, 'test_loss': 372.894918, 'val_avg_loss': 2.472071, 'val_total': 113, 'val_imp_ratio': -167.453283, 'val_loss': 279.343975}}\n",
      "2023-01-02 20:15:51,458 (monitor:513)INFO: current_best=-158.901245, should_save=False\n"
     ]
    },
    {
     "name": "stdout",
     "output_type": "stream",
     "text": [
      "vae_loss: 0.20634491741657257\n",
      "vae_loss: 0.21406757831573486\n",
      "vae_loss: 0.20294977724552155\n",
      "vae_loss: 0.21241417527198792\n",
      "vae_loss: 0.20854270458221436\n",
      "vae_loss: 0.231532022356987\n",
      "vae_loss: 0.19836053252220154\n",
      "vae_loss: 0.22883392870426178\n",
      "vae_loss: 0.20880408585071564\n",
      "vae_loss: 0.23636886477470398\n",
      "vae_loss: 0.23023763298988342\n"
     ]
    },
    {
     "name": "stderr",
     "output_type": "stream",
     "text": [
      "2023-01-02 20:15:51,771 (client:255)INFO: {'Role': 'Client #1', 'Round': 240, 'Results_raw': {'train_avg_loss': 3.365744, 'train_total': 901, 'train_imp_ratio': -264.13982, 'train_loss': 3032.535704}}\n",
      "2023-01-02 20:15:51,778 (server:496)INFO: {'Role': 'Server #', 'Round': 240, 'Results_avg': {'test_avg_loss': 3.299955, 'test_total': 113.0, 'test_imp_ratio': -257.022085, 'test_loss': 372.894918, 'val_avg_loss': 2.472071, 'val_total': 113.0, 'val_imp_ratio': -167.453283, 'val_loss': 279.343975}}\n",
      "2023-01-02 20:15:51,779 (monitor:513)INFO: current_best=-158.901245, should_save=False\n",
      "2023-01-02 20:15:51,780 (monitor:513)INFO: current_best=-158.901245, should_save=False\n",
      "2023-01-02 20:15:51,785 (server:323)INFO: Server #0: Starting evaluation at the end of round 240.\n",
      "2023-01-02 20:15:51,792 (server:330)INFO: ----------- Starting a new training round (Round #241) -------------\n"
     ]
    },
    {
     "name": "stdout",
     "output_type": "stream",
     "text": [
      "vae_loss: 0.21171507239341736\n",
      "vae_loss: 0.22186128795146942\n",
      "vae_loss: 0.20431119203567505\n",
      "vae_loss: 0.20022742450237274\n",
      "vae_loss: 0.19435907900333405\n",
      "vae_loss: 0.20223647356033325\n",
      "vae_loss: 0.21986639499664307\n",
      "vae_loss: 0.19713997840881348\n",
      "vae_loss: 0.20709823071956635\n",
      "vae_loss: 0.21493904292583466\n"
     ]
    },
    {
     "name": "stderr",
     "output_type": "stream",
     "text": [
      "2023-01-02 20:15:51,862 (client:410)INFO: {'Role': 'Client #1', 'Round': 241, 'Results_raw': {'test_avg_loss': 3.027561, 'test_total': 113, 'test_imp_ratio': -227.551738, 'test_loss': 342.114371, 'val_avg_loss': 2.601714, 'val_total': 113, 'val_imp_ratio': -181.479353, 'val_loss': 293.993665}}\n",
      "2023-01-02 20:15:51,863 (monitor:513)INFO: current_best=-158.901245, should_save=False\n"
     ]
    },
    {
     "name": "stdout",
     "output_type": "stream",
     "text": [
      "vae_loss: 0.22489678859710693\n",
      "vae_loss: 0.22483029961585999\n",
      "vae_loss: 0.2019309252500534\n",
      "vae_loss: 0.20812638103961945\n",
      "vae_loss: 0.2086789309978485\n",
      "vae_loss: 0.1996435523033142\n",
      "vae_loss: 0.24681764841079712\n",
      "vae_loss: 0.20387208461761475\n",
      "vae_loss: 0.19987741112709045\n",
      "vae_loss: 0.22224494814872742\n",
      "vae_loss: 0.21675202250480652\n",
      "vae_loss: 0.21935845911502838\n"
     ]
    },
    {
     "name": "stderr",
     "output_type": "stream",
     "text": [
      "2023-01-02 20:15:52,159 (client:255)INFO: {'Role': 'Client #1', 'Round': 241, 'Results_raw': {'train_avg_loss': 3.374652, 'train_total': 901, 'train_imp_ratio': -265.103554, 'train_loss': 3040.561648}}\n",
      "2023-01-02 20:15:52,163 (server:496)INFO: {'Role': 'Server #', 'Round': 241, 'Results_avg': {'test_avg_loss': 3.027561, 'test_total': 113.0, 'test_imp_ratio': -227.551738, 'test_loss': 342.114371, 'val_avg_loss': 2.601714, 'val_total': 113.0, 'val_imp_ratio': -181.479353, 'val_loss': 293.993665}}\n",
      "2023-01-02 20:15:52,164 (monitor:513)INFO: current_best=-158.901245, should_save=False\n",
      "2023-01-02 20:15:52,165 (monitor:513)INFO: current_best=-158.901245, should_save=False\n",
      "2023-01-02 20:15:52,171 (server:323)INFO: Server #0: Starting evaluation at the end of round 241.\n",
      "2023-01-02 20:15:52,178 (server:330)INFO: ----------- Starting a new training round (Round #242) -------------\n"
     ]
    },
    {
     "name": "stdout",
     "output_type": "stream",
     "text": [
      "vae_loss: 0.20224495232105255\n",
      "vae_loss: 0.2046225666999817\n",
      "vae_loss: 0.2476302981376648\n",
      "vae_loss: 0.22130127251148224\n"
     ]
    },
    {
     "ename": "KeyboardInterrupt",
     "evalue": "",
     "output_type": "error",
     "traceback": [
      "\u001B[0;31m---------------------------------------------------------------------------\u001B[0m",
      "\u001B[0;31mKeyboardInterrupt\u001B[0m                         Traceback (most recent call last)",
      "Cell \u001B[0;32mIn [9], line 8\u001B[0m\n\u001B[1;32m      1\u001B[0m \u001B[38;5;28;01mfrom\u001B[39;00m \u001B[38;5;21;01mfederatedscope\u001B[39;00m\u001B[38;5;21;01m.\u001B[39;00m\u001B[38;5;21;01mcontrib\u001B[39;00m\u001B[38;5;21;01m.\u001B[39;00m\u001B[38;5;21;01mworkers\u001B[39;00m\u001B[38;5;21;01m.\u001B[39;00m\u001B[38;5;21;01mfedavg_VAE_client\u001B[39;00m \u001B[38;5;28;01mimport\u001B[39;00m Fedavg_VAE_client\n\u001B[1;32m      3\u001B[0m runner \u001B[38;5;241m=\u001B[39m FedRunner(data\u001B[38;5;241m=\u001B[39mdata,\n\u001B[1;32m      4\u001B[0m                    server_class\u001B[38;5;241m=\u001B[39mget_server_cls(init_cfg),\n\u001B[1;32m      5\u001B[0m                    client_class\u001B[38;5;241m=\u001B[39mFedavg_VAE_client,\n\u001B[1;32m      6\u001B[0m                    config\u001B[38;5;241m=\u001B[39minit_cfg\u001B[38;5;241m.\u001B[39mclone(),\n\u001B[1;32m      7\u001B[0m                    client_config\u001B[38;5;241m=\u001B[39mcfg_client,)\n\u001B[0;32m----> 8\u001B[0m _ \u001B[38;5;241m=\u001B[39m \u001B[43mrunner\u001B[49m\u001B[38;5;241;43m.\u001B[39;49m\u001B[43mrun\u001B[49m\u001B[43m(\u001B[49m\u001B[43m)\u001B[49m\n",
      "File \u001B[0;32m~/Master-Thesis/CKIM_Competition/federatedscope/core/fed_runner.py:186\u001B[0m, in \u001B[0;36mFedRunner.run\u001B[0;34m(self)\u001B[0m\n\u001B[1;32m    184\u001B[0m     \u001B[38;5;28;01mwhile\u001B[39;00m \u001B[38;5;28mlen\u001B[39m(\u001B[38;5;28mself\u001B[39m\u001B[38;5;241m.\u001B[39mshared_comm_queue) \u001B[38;5;241m>\u001B[39m \u001B[38;5;241m0\u001B[39m:\n\u001B[1;32m    185\u001B[0m         msg \u001B[38;5;241m=\u001B[39m \u001B[38;5;28mself\u001B[39m\u001B[38;5;241m.\u001B[39mshared_comm_queue\u001B[38;5;241m.\u001B[39mpopleft()\n\u001B[0;32m--> 186\u001B[0m         \u001B[38;5;28;43mself\u001B[39;49m\u001B[38;5;241;43m.\u001B[39;49m\u001B[43m_handle_msg\u001B[49m\u001B[43m(\u001B[49m\u001B[43mmsg\u001B[49m\u001B[43m)\u001B[49m\n\u001B[1;32m    188\u001B[0m \u001B[38;5;28mself\u001B[39m\u001B[38;5;241m.\u001B[39mserver\u001B[38;5;241m.\u001B[39m_monitor\u001B[38;5;241m.\u001B[39mfinish_fed_runner(fl_mode\u001B[38;5;241m=\u001B[39m\u001B[38;5;28mself\u001B[39m\u001B[38;5;241m.\u001B[39mmode)\n\u001B[1;32m    190\u001B[0m \u001B[38;5;28;01mreturn\u001B[39;00m \u001B[38;5;28mself\u001B[39m\u001B[38;5;241m.\u001B[39mserver\u001B[38;5;241m.\u001B[39mbest_results\n",
      "File \u001B[0;32m~/Master-Thesis/CKIM_Competition/federatedscope/core/fed_runner.py:325\u001B[0m, in \u001B[0;36mFedRunner._handle_msg\u001B[0;34m(self, msg, rcv)\u001B[0m\n\u001B[1;32m    323\u001B[0m     \u001B[38;5;28mself\u001B[39m\u001B[38;5;241m.\u001B[39mserver\u001B[38;5;241m.\u001B[39m_monitor\u001B[38;5;241m.\u001B[39mtrack_download_bytes(download_bytes)\n\u001B[1;32m    324\u001B[0m \u001B[38;5;28;01melse\u001B[39;00m:\n\u001B[0;32m--> 325\u001B[0m     \u001B[38;5;28;43mself\u001B[39;49m\u001B[38;5;241;43m.\u001B[39;49m\u001B[43mclient\u001B[49m\u001B[43m[\u001B[49m\u001B[43meach_receiver\u001B[49m\u001B[43m]\u001B[49m\u001B[38;5;241;43m.\u001B[39;49m\u001B[43mmsg_handlers\u001B[49m\u001B[43m[\u001B[49m\u001B[43mmsg\u001B[49m\u001B[38;5;241;43m.\u001B[39;49m\u001B[43mmsg_type\u001B[49m\u001B[43m]\u001B[49m\u001B[43m(\u001B[49m\u001B[43mmsg\u001B[49m\u001B[43m)\u001B[49m\n\u001B[1;32m    326\u001B[0m     \u001B[38;5;28mself\u001B[39m\u001B[38;5;241m.\u001B[39mclient[each_receiver]\u001B[38;5;241m.\u001B[39m_monitor\u001B[38;5;241m.\u001B[39mtrack_download_bytes(\n\u001B[1;32m    327\u001B[0m         download_bytes)\n",
      "File \u001B[0;32m~/Master-Thesis/CKIM_Competition/federatedscope/contrib/workers/client.py:391\u001B[0m, in \u001B[0;36mClient.callback_funcs_for_evaluate\u001B[0;34m(self, message)\u001B[0m\n\u001B[1;32m    389\u001B[0m     \u001B[38;5;28mself\u001B[39m\u001B[38;5;241m.\u001B[39mtrainer\u001B[38;5;241m.\u001B[39mfinetune()\n\u001B[1;32m    390\u001B[0m \u001B[38;5;28;01mfor\u001B[39;00m split \u001B[38;5;129;01min\u001B[39;00m \u001B[38;5;28mself\u001B[39m\u001B[38;5;241m.\u001B[39m_cfg\u001B[38;5;241m.\u001B[39meval\u001B[38;5;241m.\u001B[39msplit:\n\u001B[0;32m--> 391\u001B[0m     eval_metrics \u001B[38;5;241m=\u001B[39m \u001B[38;5;28;43mself\u001B[39;49m\u001B[38;5;241;43m.\u001B[39;49m\u001B[43mtrainer\u001B[49m\u001B[38;5;241;43m.\u001B[39;49m\u001B[43mevaluate\u001B[49m\u001B[43m(\u001B[49m\n\u001B[1;32m    392\u001B[0m \u001B[43m        \u001B[49m\u001B[43mtarget_data_split_name\u001B[49m\u001B[38;5;241;43m=\u001B[39;49m\u001B[43msplit\u001B[49m\u001B[43m)\u001B[49m\n\u001B[1;32m    394\u001B[0m     \u001B[38;5;28;01mif\u001B[39;00m \u001B[38;5;28mself\u001B[39m\u001B[38;5;241m.\u001B[39m_cfg\u001B[38;5;241m.\u001B[39mfederate\u001B[38;5;241m.\u001B[39mmode \u001B[38;5;241m==\u001B[39m \u001B[38;5;124m'\u001B[39m\u001B[38;5;124mdistributed\u001B[39m\u001B[38;5;124m'\u001B[39m:\n\u001B[1;32m    395\u001B[0m         logger\u001B[38;5;241m.\u001B[39minfo(\n\u001B[1;32m    396\u001B[0m             \u001B[38;5;28mself\u001B[39m\u001B[38;5;241m.\u001B[39m_monitor\u001B[38;5;241m.\u001B[39mformat_eval_res(eval_metrics,\n\u001B[1;32m    397\u001B[0m                                           rnd\u001B[38;5;241m=\u001B[39m\u001B[38;5;28mself\u001B[39m\u001B[38;5;241m.\u001B[39mstate,\n\u001B[1;32m    398\u001B[0m                                           role\u001B[38;5;241m=\u001B[39m\u001B[38;5;124m'\u001B[39m\u001B[38;5;124mClient #\u001B[39m\u001B[38;5;132;01m{}\u001B[39;00m\u001B[38;5;124m'\u001B[39m\u001B[38;5;241m.\u001B[39mformat(\n\u001B[1;32m    399\u001B[0m                                               \u001B[38;5;28mself\u001B[39m\u001B[38;5;241m.\u001B[39mID),\n\u001B[1;32m    400\u001B[0m                                           return_raw\u001B[38;5;241m=\u001B[39m\u001B[38;5;28;01mTrue\u001B[39;00m))\n",
      "File \u001B[0;32m~/Master-Thesis/CKIM_Competition/federatedscope/core/trainers/torch_trainer.py:76\u001B[0m, in \u001B[0;36mGeneralTorchTrainer.evaluate\u001B[0;34m(self, target_data_split_name)\u001B[0m\n\u001B[1;32m     74\u001B[0m \u001B[38;5;28;01mdef\u001B[39;00m \u001B[38;5;21mevaluate\u001B[39m(\u001B[38;5;28mself\u001B[39m, target_data_split_name\u001B[38;5;241m=\u001B[39m\u001B[38;5;124m\"\u001B[39m\u001B[38;5;124mtest\u001B[39m\u001B[38;5;124m\"\u001B[39m):\n\u001B[1;32m     75\u001B[0m     \u001B[38;5;28;01mwith\u001B[39;00m torch\u001B[38;5;241m.\u001B[39mno_grad():\n\u001B[0;32m---> 76\u001B[0m         \u001B[38;5;28;43msuper\u001B[39;49m\u001B[43m(\u001B[49m\u001B[43mGeneralTorchTrainer\u001B[49m\u001B[43m,\u001B[49m\u001B[43m \u001B[49m\u001B[38;5;28;43mself\u001B[39;49m\u001B[43m)\u001B[49m\u001B[38;5;241;43m.\u001B[39;49m\u001B[43mevaluate\u001B[49m\u001B[43m(\u001B[49m\u001B[43mtarget_data_split_name\u001B[49m\u001B[43m)\u001B[49m\n\u001B[1;32m     78\u001B[0m     \u001B[38;5;28;01mreturn\u001B[39;00m \u001B[38;5;28mself\u001B[39m\u001B[38;5;241m.\u001B[39mctx\u001B[38;5;241m.\u001B[39meval_metrics\n",
      "File \u001B[0;32m~/Master-Thesis/CKIM_Competition/federatedscope/core/trainers/trainer.py:228\u001B[0m, in \u001B[0;36mTrainer.evaluate\u001B[0;34m(self, target_data_split_name, hooks_set)\u001B[0m\n\u001B[1;32m    225\u001B[0m hooks_set \u001B[38;5;241m=\u001B[39m hooks_set \u001B[38;5;129;01mor\u001B[39;00m \u001B[38;5;28mself\u001B[39m\u001B[38;5;241m.\u001B[39mhooks_in_eval\n\u001B[1;32m    227\u001B[0m \u001B[38;5;28;01mif\u001B[39;00m \u001B[38;5;28mself\u001B[39m\u001B[38;5;241m.\u001B[39mctx\u001B[38;5;241m.\u001B[39mcheck_data_split(target_data_split_name, skip\u001B[38;5;241m=\u001B[39m\u001B[38;5;28;01mTrue\u001B[39;00m):\n\u001B[0;32m--> 228\u001B[0m     \u001B[38;5;28;43mself\u001B[39;49m\u001B[38;5;241;43m.\u001B[39;49m\u001B[43m_run_routine\u001B[49m\u001B[43m(\u001B[49m\u001B[43mMODE\u001B[49m\u001B[38;5;241;43m.\u001B[39;49m\u001B[43mTEST\u001B[49m\u001B[43m,\u001B[49m\u001B[43m \u001B[49m\u001B[43mhooks_set\u001B[49m\u001B[43m,\u001B[49m\u001B[43m \u001B[49m\u001B[43mtarget_data_split_name\u001B[49m\u001B[43m)\u001B[49m\n\u001B[1;32m    229\u001B[0m \u001B[38;5;28;01melse\u001B[39;00m:\n\u001B[1;32m    230\u001B[0m     \u001B[38;5;28mself\u001B[39m\u001B[38;5;241m.\u001B[39mctx\u001B[38;5;241m.\u001B[39meval_metrics \u001B[38;5;241m=\u001B[39m \u001B[38;5;28mdict\u001B[39m()\n",
      "File \u001B[0;32m~/Master-Thesis/CKIM_Competition/federatedscope/core/trainers/trainer.py:276\u001B[0m, in \u001B[0;36mTrainer._run_routine\u001B[0;34m(self, mode, hooks_set, dataset_name)\u001B[0m\n\u001B[1;32m    274\u001B[0m     hook(\u001B[38;5;28mself\u001B[39m\u001B[38;5;241m.\u001B[39mctx)\n\u001B[1;32m    275\u001B[0m \u001B[38;5;28;01mfor\u001B[39;00m hook \u001B[38;5;129;01min\u001B[39;00m hooks_set[\u001B[38;5;124m\"\u001B[39m\u001B[38;5;124mon_batch_forward\u001B[39m\u001B[38;5;124m\"\u001B[39m]:\n\u001B[0;32m--> 276\u001B[0m     \u001B[43mhook\u001B[49m\u001B[43m(\u001B[49m\u001B[38;5;28;43mself\u001B[39;49m\u001B[38;5;241;43m.\u001B[39;49m\u001B[43mctx\u001B[49m\u001B[43m)\u001B[49m\n\u001B[1;32m    277\u001B[0m \u001B[38;5;28;01mif\u001B[39;00m \u001B[38;5;28mself\u001B[39m\u001B[38;5;241m.\u001B[39mctx\u001B[38;5;241m.\u001B[39mcur_mode \u001B[38;5;241m==\u001B[39m \u001B[38;5;124m'\u001B[39m\u001B[38;5;124mtrain\u001B[39m\u001B[38;5;124m'\u001B[39m:\n\u001B[1;32m    278\u001B[0m     \u001B[38;5;28;01mfor\u001B[39;00m hook \u001B[38;5;129;01min\u001B[39;00m hooks_set[\u001B[38;5;124m\"\u001B[39m\u001B[38;5;124mon_batch_backward\u001B[39m\u001B[38;5;124m\"\u001B[39m]:\n",
      "File \u001B[0;32m~/Master-Thesis/CKIM_Competition/federatedscope/contrib/trainer/FedAvg_VAE_trainer.py:24\u001B[0m, in \u001B[0;36mFedAvg_VAE_trainer._hook_on_batch_forward\u001B[0;34m(self, ctx)\u001B[0m\n\u001B[1;32m     21\u001B[0m \u001B[38;5;28;01mdef\u001B[39;00m \u001B[38;5;21m_hook_on_batch_forward\u001B[39m(\u001B[38;5;28mself\u001B[39m, ctx):\n\u001B[1;32m     22\u001B[0m     batch \u001B[38;5;241m=\u001B[39m ctx\u001B[38;5;241m.\u001B[39mdata_batch\u001B[38;5;241m.\u001B[39mto(ctx\u001B[38;5;241m.\u001B[39mdevice)\n\u001B[0;32m---> 24\u001B[0m     pred, vae_loss \u001B[38;5;241m=\u001B[39m \u001B[43mctx\u001B[49m\u001B[38;5;241;43m.\u001B[39;49m\u001B[43mmodel\u001B[49m\u001B[43m(\u001B[49m\u001B[43mbatch\u001B[49m\u001B[43m)\u001B[49m\n\u001B[1;32m     25\u001B[0m     \u001B[38;5;28mprint\u001B[39m(\u001B[38;5;124mf\u001B[39m\u001B[38;5;124m\"\u001B[39m\u001B[38;5;124mvae_loss: \u001B[39m\u001B[38;5;132;01m{\u001B[39;00mvae_loss\u001B[38;5;132;01m}\u001B[39;00m\u001B[38;5;124m\"\u001B[39m)\n\u001B[1;32m     26\u001B[0m     \u001B[38;5;66;03m# TODO: deal with the type of data within the dataloader or dataset\u001B[39;00m\n",
      "File \u001B[0;32m~/Master-Thesis/CKIM_Competition/venv/lib/python3.9/site-packages/torch/nn/modules/module.py:1130\u001B[0m, in \u001B[0;36mModule._call_impl\u001B[0;34m(self, *input, **kwargs)\u001B[0m\n\u001B[1;32m   1126\u001B[0m \u001B[38;5;66;03m# If we don't have any hooks, we want to skip the rest of the logic in\u001B[39;00m\n\u001B[1;32m   1127\u001B[0m \u001B[38;5;66;03m# this function, and just call forward.\u001B[39;00m\n\u001B[1;32m   1128\u001B[0m \u001B[38;5;28;01mif\u001B[39;00m \u001B[38;5;129;01mnot\u001B[39;00m (\u001B[38;5;28mself\u001B[39m\u001B[38;5;241m.\u001B[39m_backward_hooks \u001B[38;5;129;01mor\u001B[39;00m \u001B[38;5;28mself\u001B[39m\u001B[38;5;241m.\u001B[39m_forward_hooks \u001B[38;5;129;01mor\u001B[39;00m \u001B[38;5;28mself\u001B[39m\u001B[38;5;241m.\u001B[39m_forward_pre_hooks \u001B[38;5;129;01mor\u001B[39;00m _global_backward_hooks\n\u001B[1;32m   1129\u001B[0m         \u001B[38;5;129;01mor\u001B[39;00m _global_forward_hooks \u001B[38;5;129;01mor\u001B[39;00m _global_forward_pre_hooks):\n\u001B[0;32m-> 1130\u001B[0m     \u001B[38;5;28;01mreturn\u001B[39;00m \u001B[43mforward_call\u001B[49m\u001B[43m(\u001B[49m\u001B[38;5;241;43m*\u001B[39;49m\u001B[38;5;28;43minput\u001B[39;49m\u001B[43m,\u001B[49m\u001B[43m \u001B[49m\u001B[38;5;241;43m*\u001B[39;49m\u001B[38;5;241;43m*\u001B[39;49m\u001B[43mkwargs\u001B[49m\u001B[43m)\u001B[49m\n\u001B[1;32m   1131\u001B[0m \u001B[38;5;66;03m# Do not call functions when jit is used\u001B[39;00m\n\u001B[1;32m   1132\u001B[0m full_backward_hooks, non_full_backward_hooks \u001B[38;5;241m=\u001B[39m [], []\n",
      "File \u001B[0;32m~/Master-Thesis/CKIM_Competition/federatedscope/gfl/model/graph_level.py:166\u001B[0m, in \u001B[0;36mGNN_Net_Graph.forward\u001B[0;34m(self, data)\u001B[0m\n\u001B[1;32m    163\u001B[0m x \u001B[38;5;241m=\u001B[39m \u001B[38;5;28mself\u001B[39m\u001B[38;5;241m.\u001B[39mreparametrize(mu, log_var)\n\u001B[1;32m    164\u001B[0m vae_decoded \u001B[38;5;241m=\u001B[39m \u001B[38;5;28mself\u001B[39m\u001B[38;5;241m.\u001B[39mvae_decoder(x)\n\u001B[0;32m--> 166\u001B[0m vae_loss \u001B[38;5;241m=\u001B[39m \u001B[38;5;28;43mself\u001B[39;49m\u001B[38;5;241;43m.\u001B[39;49m\u001B[43mvae_loss\u001B[49m\u001B[43m(\u001B[49m\u001B[43mmu\u001B[49m\u001B[43m,\u001B[49m\u001B[43m \u001B[49m\u001B[43mlog_var\u001B[49m\u001B[43m,\u001B[49m\u001B[43m \u001B[49m\u001B[43mx_in\u001B[49m\u001B[43m,\u001B[49m\u001B[43m \u001B[49m\u001B[43mvae_decoded\u001B[49m\u001B[43m)\u001B[49m\n\u001B[1;32m    168\u001B[0m x \u001B[38;5;241m=\u001B[39m \u001B[38;5;28mself\u001B[39m\u001B[38;5;241m.\u001B[39mgnn((x, edge_index))\n\u001B[1;32m    169\u001B[0m x \u001B[38;5;241m=\u001B[39m \u001B[38;5;28mself\u001B[39m\u001B[38;5;241m.\u001B[39mpooling(x, batch)\n",
      "File \u001B[0;32m~/Master-Thesis/CKIM_Competition/federatedscope/gfl/model/graph_level.py:144\u001B[0m, in \u001B[0;36mGNN_Net_Graph.vae_loss\u001B[0;34m(self, mu, log_var, x_orig, x_decoded)\u001B[0m\n\u001B[1;32m    142\u001B[0m recon_loss \u001B[38;5;241m=\u001B[39m F\u001B[38;5;241m.\u001B[39mmse_loss(x_decoded, x_orig)\n\u001B[1;32m    143\u001B[0m loss \u001B[38;5;241m=\u001B[39m recon_loss \u001B[38;5;241m+\u001B[39m kld_loss\n\u001B[0;32m--> 144\u001B[0m \u001B[38;5;28;01mreturn\u001B[39;00m \u001B[43mloss\u001B[49m\n",
      "File \u001B[0;32m~/Master-Thesis/CKIM_Competition/federatedscope/gfl/model/graph_level.py:144\u001B[0m, in \u001B[0;36mGNN_Net_Graph.vae_loss\u001B[0;34m(self, mu, log_var, x_orig, x_decoded)\u001B[0m\n\u001B[1;32m    142\u001B[0m recon_loss \u001B[38;5;241m=\u001B[39m F\u001B[38;5;241m.\u001B[39mmse_loss(x_decoded, x_orig)\n\u001B[1;32m    143\u001B[0m loss \u001B[38;5;241m=\u001B[39m recon_loss \u001B[38;5;241m+\u001B[39m kld_loss\n\u001B[0;32m--> 144\u001B[0m \u001B[38;5;28;01mreturn\u001B[39;00m \u001B[43mloss\u001B[49m\n",
      "File \u001B[0;32m~/.local/share/JetBrains/Toolbox/apps/PyCharm-P/ch-0/222.4459.20/plugins/python/helpers/pydev/_pydevd_bundle/pydevd_frame.py:747\u001B[0m, in \u001B[0;36mPyDBFrame.trace_dispatch\u001B[0;34m(self, frame, event, arg)\u001B[0m\n\u001B[1;32m    745\u001B[0m \u001B[38;5;66;03m# if thread has a suspend flag, we suspend with a busy wait\u001B[39;00m\n\u001B[1;32m    746\u001B[0m \u001B[38;5;28;01mif\u001B[39;00m info\u001B[38;5;241m.\u001B[39mpydev_state \u001B[38;5;241m==\u001B[39m STATE_SUSPEND:\n\u001B[0;32m--> 747\u001B[0m     \u001B[38;5;28;43mself\u001B[39;49m\u001B[38;5;241;43m.\u001B[39;49m\u001B[43mdo_wait_suspend\u001B[49m\u001B[43m(\u001B[49m\u001B[43mthread\u001B[49m\u001B[43m,\u001B[49m\u001B[43m \u001B[49m\u001B[43mframe\u001B[49m\u001B[43m,\u001B[49m\u001B[43m \u001B[49m\u001B[43mevent\u001B[49m\u001B[43m,\u001B[49m\u001B[43m \u001B[49m\u001B[43marg\u001B[49m\u001B[43m)\u001B[49m\n\u001B[1;32m    748\u001B[0m     \u001B[38;5;66;03m# No need to reset frame.f_trace to keep the same trace function.\u001B[39;00m\n\u001B[1;32m    749\u001B[0m     \u001B[38;5;28;01mreturn\u001B[39;00m \u001B[38;5;28mself\u001B[39m\u001B[38;5;241m.\u001B[39mtrace_dispatch\n",
      "File \u001B[0;32m~/.local/share/JetBrains/Toolbox/apps/PyCharm-P/ch-0/222.4459.20/plugins/python/helpers/pydev/_pydevd_bundle/pydevd_frame.py:144\u001B[0m, in \u001B[0;36mPyDBFrame.do_wait_suspend\u001B[0;34m(self, *args, **kwargs)\u001B[0m\n\u001B[1;32m    143\u001B[0m \u001B[38;5;28;01mdef\u001B[39;00m \u001B[38;5;21mdo_wait_suspend\u001B[39m(\u001B[38;5;28mself\u001B[39m, \u001B[38;5;241m*\u001B[39margs, \u001B[38;5;241m*\u001B[39m\u001B[38;5;241m*\u001B[39mkwargs):\n\u001B[0;32m--> 144\u001B[0m     \u001B[38;5;28;43mself\u001B[39;49m\u001B[38;5;241;43m.\u001B[39;49m\u001B[43m_args\u001B[49m\u001B[43m[\u001B[49m\u001B[38;5;241;43m0\u001B[39;49m\u001B[43m]\u001B[49m\u001B[38;5;241;43m.\u001B[39;49m\u001B[43mdo_wait_suspend\u001B[49m\u001B[43m(\u001B[49m\u001B[38;5;241;43m*\u001B[39;49m\u001B[43margs\u001B[49m\u001B[43m,\u001B[49m\u001B[43m \u001B[49m\u001B[38;5;241;43m*\u001B[39;49m\u001B[38;5;241;43m*\u001B[39;49m\u001B[43mkwargs\u001B[49m\u001B[43m)\u001B[49m\n",
      "File \u001B[0;32m~/.local/share/JetBrains/Toolbox/apps/PyCharm-P/ch-0/222.4459.20/plugins/python/helpers/pydev/pydevd.py:1160\u001B[0m, in \u001B[0;36mPyDB.do_wait_suspend\u001B[0;34m(self, thread, frame, event, arg, send_suspend_message, is_unhandled_exception)\u001B[0m\n\u001B[1;32m   1157\u001B[0m         from_this_thread\u001B[38;5;241m.\u001B[39mappend(frame_id)\n\u001B[1;32m   1159\u001B[0m \u001B[38;5;28;01mwith\u001B[39;00m \u001B[38;5;28mself\u001B[39m\u001B[38;5;241m.\u001B[39m_threads_suspended_single_notification\u001B[38;5;241m.\u001B[39mnotify_thread_suspended(thread_id, stop_reason):\n\u001B[0;32m-> 1160\u001B[0m     \u001B[38;5;28;43mself\u001B[39;49m\u001B[38;5;241;43m.\u001B[39;49m\u001B[43m_do_wait_suspend\u001B[49m\u001B[43m(\u001B[49m\u001B[43mthread\u001B[49m\u001B[43m,\u001B[49m\u001B[43m \u001B[49m\u001B[43mframe\u001B[49m\u001B[43m,\u001B[49m\u001B[43m \u001B[49m\u001B[43mevent\u001B[49m\u001B[43m,\u001B[49m\u001B[43m \u001B[49m\u001B[43marg\u001B[49m\u001B[43m,\u001B[49m\u001B[43m \u001B[49m\u001B[43msuspend_type\u001B[49m\u001B[43m,\u001B[49m\u001B[43m \u001B[49m\u001B[43mfrom_this_thread\u001B[49m\u001B[43m)\u001B[49m\n",
      "File \u001B[0;32m~/.local/share/JetBrains/Toolbox/apps/PyCharm-P/ch-0/222.4459.20/plugins/python/helpers/pydev/pydevd.py:1175\u001B[0m, in \u001B[0;36mPyDB._do_wait_suspend\u001B[0;34m(self, thread, frame, event, arg, suspend_type, from_this_thread)\u001B[0m\n\u001B[1;32m   1172\u001B[0m             \u001B[38;5;28mself\u001B[39m\u001B[38;5;241m.\u001B[39m_call_mpl_hook()\n\u001B[1;32m   1174\u001B[0m         \u001B[38;5;28mself\u001B[39m\u001B[38;5;241m.\u001B[39mprocess_internal_commands()\n\u001B[0;32m-> 1175\u001B[0m         \u001B[43mtime\u001B[49m\u001B[38;5;241;43m.\u001B[39;49m\u001B[43msleep\u001B[49m\u001B[43m(\u001B[49m\u001B[38;5;241;43m0.01\u001B[39;49m\u001B[43m)\u001B[49m\n\u001B[1;32m   1177\u001B[0m \u001B[38;5;28mself\u001B[39m\u001B[38;5;241m.\u001B[39mcancel_async_evaluation(get_current_thread_id(thread), \u001B[38;5;28mstr\u001B[39m(\u001B[38;5;28mid\u001B[39m(frame)))\n\u001B[1;32m   1179\u001B[0m \u001B[38;5;66;03m# process any stepping instructions\u001B[39;00m\n",
      "\u001B[0;31mKeyboardInterrupt\u001B[0m: "
     ]
    }
   ],
   "source": [
    "from federatedscope.contrib.workers.fedavg_VAE_client import Fedavg_VAE_client\n",
    "\n",
    "runner = FedRunner(data=data,\n",
    "                   server_class=get_server_cls(init_cfg),\n",
    "                   client_class=Fedavg_VAE_client,\n",
    "                   config=init_cfg.clone(),\n",
    "                   client_config=cfg_client,)\n",
    "_ = runner.run()"
   ],
   "metadata": {
    "collapsed": false
   }
  },
  {
   "cell_type": "code",
   "execution_count": 8,
   "outputs": [
    {
     "data": {
      "text/plain": "{1: {'train': <torch_geometric.loader.dataloader.DataLoader at 0x7fa4a64be790>,\n  'val': <torch_geometric.loader.dataloader.DataLoader at 0x7fa4a66cbca0>,\n  'test': <torch_geometric.loader.dataloader.DataLoader at 0x7fa5b9984af0>,\n  'num_label': 0}}"
     },
     "execution_count": 8,
     "metadata": {},
     "output_type": "execute_result"
    }
   ],
   "source": [
    "data"
   ],
   "metadata": {
    "collapsed": false
   }
  },
  {
   "cell_type": "code",
   "execution_count": null,
   "outputs": [],
   "source": [
    "import sys\n",
    "print(sys.executable)\n",
    "print(sys.version)\n",
    "print(sys.version_info)\n"
   ],
   "metadata": {
    "collapsed": false
   }
  },
  {
   "cell_type": "code",
   "execution_count": null,
   "outputs": [],
   "source": [
    "cfg_client['client_5']['eval']['metrics']=['mse']"
   ],
   "metadata": {
    "collapsed": false
   }
  },
  {
   "cell_type": "code",
   "execution_count": null,
   "outputs": [],
   "source": [
    "cfg_client['client_6']['eval']['metrics']=['mse']"
   ],
   "metadata": {
    "collapsed": false
   }
  },
  {
   "cell_type": "code",
   "execution_count": null,
   "outputs": [],
   "source": [
    "cfg_client['client_7']['eval']['metrics']=['mse']"
   ],
   "metadata": {
    "collapsed": false
   }
  },
  {
   "cell_type": "code",
   "execution_count": null,
   "outputs": [],
   "source": [
    "cfg_client['client_8']['eval']['metrics']=['mse']"
   ],
   "metadata": {
    "collapsed": false
   }
  },
  {
   "cell_type": "code",
   "execution_count": null,
   "outputs": [],
   "source": [
    "cfg_client['client_9']['eval']['metrics']=['mse']"
   ],
   "metadata": {
    "collapsed": false
   }
  },
  {
   "cell_type": "code",
   "execution_count": null,
   "outputs": [],
   "source": [
    "cfg_client['client_10']['eval']['metrics']=['mse']"
   ],
   "metadata": {
    "collapsed": false
   }
  },
  {
   "cell_type": "code",
   "execution_count": null,
   "outputs": [],
   "source": [
    "cfg_client['client_11']['eval']['metrics']=['mse']"
   ],
   "metadata": {
    "collapsed": false
   }
  },
  {
   "cell_type": "code",
   "execution_count": null,
   "outputs": [],
   "source": [
    "cfg_client['client_12']['eval']['metrics']=['mse']"
   ],
   "metadata": {
    "collapsed": false
   }
  },
  {
   "cell_type": "code",
   "execution_count": null,
   "outputs": [],
   "source": [
    "cfg_client['client_13']['eval']['metrics']=['mse']"
   ],
   "metadata": {
    "collapsed": false
   }
  },
  {
   "cell_type": "code",
   "execution_count": null,
   "outputs": [],
   "source": [
    "cl_list = ['client_' + str(i) for i in range(1,17)]"
   ],
   "metadata": {
    "collapsed": false
   }
  },
  {
   "cell_type": "code",
   "execution_count": null,
   "outputs": [],
   "source": [
    "cl_list"
   ],
   "metadata": {
    "collapsed": false
   }
  },
  {
   "cell_type": "code",
   "execution_count": null,
   "outputs": [],
   "source": [
    "cfg_client['client_13']['train']['local_update_steps']"
   ],
   "metadata": {
    "collapsed": false
   }
  },
  {
   "cell_type": "code",
   "execution_count": null,
   "outputs": [],
   "source": [
    "for el in cl_list:\n",
    "    cfg_client[el]['train']['local_update_steps']=1"
   ],
   "metadata": {
    "collapsed": false
   }
  },
  {
   "cell_type": "code",
   "execution_count": null,
   "outputs": [],
   "source": [
    "cfg_client"
   ],
   "metadata": {
    "collapsed": false
   }
  },
  {
   "cell_type": "code",
   "execution_count": null,
   "outputs": [],
   "source": [],
   "metadata": {
    "collapsed": false
   }
  }
 ],
 "metadata": {
  "kernelspec": {
   "display_name": "Python 3",
   "language": "python",
   "name": "python3"
  },
  "language_info": {
   "codemirror_mode": {
    "name": "ipython",
    "version": 2
   },
   "file_extension": ".py",
   "mimetype": "text/x-python",
   "name": "python",
   "nbconvert_exporter": "python",
   "pygments_lexer": "ipython2",
   "version": "2.7.6"
  }
 },
 "nbformat": 4,
 "nbformat_minor": 0
}
