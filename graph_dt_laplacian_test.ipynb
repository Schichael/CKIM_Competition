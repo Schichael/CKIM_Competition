{
 "cells": [
  {
   "cell_type": "code",
   "execution_count": 13,
   "outputs": [
    {
     "data": {
      "text/plain": "20"
     },
     "execution_count": 13,
     "metadata": {},
     "output_type": "execute_result"
    }
   ],
   "source": [
    "20"
   ],
   "metadata": {
    "collapsed": false
   }
  },
  {
   "cell_type": "code",
   "execution_count": 13,
   "outputs": [
    {
     "data": {
      "text/plain": "20"
     },
     "execution_count": 13,
     "metadata": {},
     "output_type": "execute_result"
    }
   ],
   "source": [
    "20"
   ],
   "metadata": {
    "collapsed": false
   }
  },
  {
   "cell_type": "markdown",
   "source": [],
   "metadata": {
    "collapsed": false
   }
  },
  {
   "cell_type": "code",
   "execution_count": 1,
   "outputs": [],
   "source": [
    "from federatedscope.register import register_data\n",
    "from federatedscope.register import register_trainer\n",
    "from federatedscope.register import register_metric\n",
    "from federatedscope.register import register_model\n",
    "\n",
    "\n"
   ],
   "metadata": {
    "collapsed": false
   }
  },
  {
   "cell_type": "code",
   "execution_count": 1,
   "outputs": [],
   "source": [],
   "metadata": {
    "collapsed": false
   }
  },
  {
   "cell_type": "markdown",
   "source": [
    "\n"
   ],
   "metadata": {
    "collapsed": false
   }
  },
  {
   "cell_type": "markdown",
   "source": [
    "### Register model"
   ],
   "metadata": {
    "collapsed": false
   }
  },
  {
   "cell_type": "code",
   "execution_count": 2,
   "outputs": [],
   "source": [
    "#from federatedscope.contrib.model.mnist_model import call_my_net\n",
    "#register_model(\"mynet\", call_my_net)"
   ],
   "metadata": {
    "collapsed": false
   }
  },
  {
   "cell_type": "code",
   "execution_count": 2,
   "outputs": [],
   "source": [],
   "metadata": {
    "collapsed": false
   }
  },
  {
   "cell_type": "markdown",
   "source": [
    "### Register trainer"
   ],
   "metadata": {
    "collapsed": false
   }
  },
  {
   "cell_type": "code",
   "execution_count": 3,
   "outputs": [
    {
     "name": "stderr",
     "output_type": "stream",
     "text": [
      "/home/michael/Master-Thesis/CKIM_Competition/venv/lib/python3.9/site-packages/torch_geometric/graphgym/imports.py:14: UserWarning: Please install 'pytorch_lightning' for using the GraphGym experiment manager via 'pip install pytorch_lightning'\n",
      "  warnings.warn(\"Please install 'pytorch_lightning' for using the GraphGym \"\n",
      "/home/michael/Master-Thesis/CKIM_Competition/venv/lib/python3.9/site-packages/torch_geometric/graphgym/logger.py:23: UserWarning: Please install 'pytorch_lightning' for using the GraphGym experiment manager via 'pip install pytorch_lightning'\n",
      "  warnings.warn(\"Please install 'pytorch_lightning' for using the GraphGym \"\n"
     ]
    }
   ],
   "source": [
    "\n",
    "from federatedscope.contrib.trainer.laplacian_trainer import call_laplacian_trainer\n",
    "\n",
    "register_trainer('laplacian_trainer', call_laplacian_trainer)"
   ],
   "metadata": {
    "collapsed": false
   }
  },
  {
   "cell_type": "markdown",
   "source": [
    "### Register metric"
   ],
   "metadata": {
    "collapsed": false
   }
  },
  {
   "cell_type": "markdown",
   "source": [
    "### Create the config"
   ],
   "metadata": {
    "collapsed": false
   }
  },
  {
   "cell_type": "markdown",
   "source": [
    "#### Set data, model, trainer and metric"
   ],
   "metadata": {
    "collapsed": false
   }
  },
  {
   "cell_type": "code",
   "execution_count": 4,
   "outputs": [],
   "source": [
    "from federatedscope.core.configs.config import global_cfg, CN\n",
    "cfg = global_cfg.clone()\n",
    "\n",
    "cfg.merge_from_file(\"scripts/B-FHTL_exp_scripts/Graph-DT/fedavg.yaml\")\n",
    "cfg.data.save_dir = 'test_dir'\n",
    "# cfg.data.type = 'cikm_cup'\n",
    "#cfg.data.root = 'data'\n",
    "#cfg.data.shuffle=True\n",
    "#cfg.data.transform = [['ToTensor'], ['Normalize', {'mean': [0.], 'std': [1]}]]\n",
    "#cfg.model.type = 'gin'\n",
    "#cfg.model.out_channels = 10\n",
    "#cfg.model.hidden = 64\n",
    "#cfg.model.task='graph'\n",
    "#cfg.model.dropout = 0.5\n",
    "#cfg.personalization.local_param = ['encoder_atom', 'encoder', 'clf']#['node_encoder', 'clf']\n",
    "#cfg.train.batch_or_epoch = \"epoch\"\n",
    "cfg.trainer.type = 'laplacian_trainer'\n",
    "cfg.data.batch_size = 64\n",
    "# cfg.eval.metric = ['mymetric']\n",
    "cfg.params = CN()\n",
    "cfg.params.alpha=0.1\n",
    "cfg.params.csd_importance= 1e2\n",
    "cfg.params.eps=1e-20\n",
    "cfg.params.p=0.\n",
    "cfg.params.lam = 1\n"
   ],
   "metadata": {
    "collapsed": false
   }
  },
  {
   "cell_type": "markdown",
   "source": [
    "#### configure other options"
   ],
   "metadata": {
    "collapsed": false
   }
  },
  {
   "cell_type": "code",
   "execution_count": 5,
   "outputs": [],
   "source": [
    "#cfg.use_gpu = True 0.05 [0.02-0.03] 0.04-0.06\n",
    "#cfg.best_res_update_round_wise_key = \"test_loss\"\n",
    "\n",
    "#cfg.federate.mode = 'standalone'\n",
    "\n",
    "cfg.federate.method = \\\n",
    "    f'Laplacian_test'\n",
    "\n",
    "#cfg.federate.local_update_steps = 20000000\n",
    "cfg.personalization.local_update_steps = 20000000\n",
    "#cfg.finetune.local_update_steps = 20000000\n",
    "#cfg.train.local_update_steps = 1\n",
    "\n",
    "cfg.federate.total_round_num = 2000\n",
    "cfg.federate.client_num = 1\n",
    "cfg.early_stop.patience = 100\n",
    "#cfg.train.optimizer.lr = 0.001\n",
    "#cfg.train.optimizer.weight_decay = 0.0005\n",
    "#cfg.grad.grad_clip = 2.0\n",
    "cfg.criterion.type = 'CrossEntropyLoss'\n",
    "#cfg.seed = 123\n",
    "cfg.eval.freq = 1\n",
    "cfg.eval.metrics = ['imp_ratio']\n",
    "cfg.eval.report = ['avg']\n",
    "cfg.eval.best_res_update_round_wise_key = 'val_imp_ratio'\n",
    "cfg.eval.count_flops = False\n"
   ],
   "metadata": {
    "collapsed": false
   }
  },
  {
   "cell_type": "code",
   "execution_count": 6,
   "outputs": [],
   "source": [
    "import torch\n",
    "#torch.manual_seed(0)\n",
    "#torch.backends.cudnn.benchmark = False\n",
    "#torch.use_deterministic_algorithms(F/home/michael/Desktop/backup files/FederatedScope/data/CIKM22Competitionalse)\n",
    "#import random\n",
    "#random.seed(0)\n",
    "#import numpy as np\n",
    "#np.random.seed(0)"
   ],
   "metadata": {
    "collapsed": false
   }
  },
  {
   "cell_type": "code",
   "execution_count": 7,
   "outputs": [],
   "source": [
    "from yacs.config import CfgNode\n",
    "client_cfg_file = \"scripts/B-FHTL_exp_scripts/Graph-DT/cfg_per_client_theirs.yaml\"# \"scripts/B-FHTL_exp_scripts/Graph-DT/cfg_per_client_ours_lr_local_steps.yaml\"\n",
    "client_cfg = CfgNode.load_cfg(open(client_cfg_file,\n",
    "                                       'r')) if client_cfg_file else None\n"
   ],
   "metadata": {
    "collapsed": false
   }
  },
  {
   "cell_type": "markdown",
   "source": [
    "### Start the FL prosess"
   ],
   "metadata": {
    "collapsed": false
   }
  },
  {
   "cell_type": "code",
   "execution_count": 8,
   "outputs": [
    {
     "name": "stderr",
     "output_type": "stream",
     "text": [
      "2023-01-04 11:31:55,511 (trainer_builder:11)WARNING: No module named 'federatedscope.contrib.optimizer' in `federatedscope.contrib.trainer`, some modules are not available.\n"
     ]
    }
   ],
   "source": [
    "from federatedscope.core.auxiliaries.data_builder import get_data\n",
    "from federatedscope.core.auxiliaries.utils import setup_seed, update_logger\n",
    "from federatedscope.core.fed_runner import FedRunner\n",
    "from federatedscope.core.auxiliaries.worker_builder import get_server_cls, get_client_cls\n"
   ],
   "metadata": {
    "collapsed": false
   }
  },
  {
   "cell_type": "code",
   "execution_count": 9,
   "outputs": [
    {
     "name": "stderr",
     "output_type": "stream",
     "text": [
      "2023-01-04 11:31:55,674 (utils:129)INFO: the current machine is at 127.0.1.1\n",
      "2023-01-04 11:31:55,675 (utils:131)INFO: the current dir is /home/michael/Master-Thesis/CKIM_Competition\n",
      "2023-01-04 11:31:55,676 (utils:132)INFO: the output dir is exp/test_dir/Laplacian_test_gin_on_graph-dt_lr0.1_lstep1_/sub_exp_20230104113155\n"
     ]
    }
   ],
   "source": [
    "from federatedscope.contrib.workers.laplacian_with_domain_separation_MI_client import LaplacianDomainSeparationMIClient\n",
    "from federatedscope.contrib.workers.laplacian_server_dom_sep import LaplacianServerDomSep\n",
    "\n",
    "setup_seed(cfg.seed)\n",
    "update_logger(cfg)\n",
    "data, modified_cfg = get_data(cfg)\n",
    "cfg.merge_from_other_cfg(modified_cfg)\n"
   ],
   "metadata": {
    "collapsed": false
   }
  },
  {
   "cell_type": "code",
   "execution_count": 10,
   "outputs": [
    {
     "name": "stderr",
     "output_type": "stream",
     "text": [
      "/home/michael/Master-Thesis/CKIM_Competition/venv/lib/python3.9/site-packages/torch/nn/init.py:405: UserWarning: Initializing zero-element tensors is a no-op\n",
      "  warnings.warn(\"Initializing zero-element tensors is a no-op\")\n"
     ]
    },
    {
     "name": "stdout",
     "output_type": "stream",
     "text": [
      "server params: \n",
      "encoder_atom.atom_embedding_list.0.weight\n"
     ]
    },
    {
     "name": "stderr",
     "output_type": "stream",
     "text": [
      "2023-01-04 11:31:57,819 (fed_runner:249)INFO: Server #0 has been set up ... \n",
      "2023-01-04 11:31:57,832 (config:261)INFO: the used configs are: \n",
      "asyn:\n",
      "  min_received_num: 1\n",
      "  min_received_rate: -1.0\n",
      "  timeout: 0\n",
      "  use: True\n",
      "attack:\n",
      "  alpha_TV: 0.001\n",
      "  alpha_prop_loss: 0\n",
      "  attack_method: \n",
      "  attacker_id: -1\n",
      "  classifier_PIA: randomforest\n",
      "  info_diff_type: l2\n",
      "  inject_round: 0\n",
      "  max_ite: 400\n",
      "  reconstruct_lr: 0.01\n",
      "  reconstruct_optim: Adam\n",
      "  target_label_ind: -1\n",
      "backend: torch\n",
      "cfg_file: \n",
      "criterion:\n",
      "  type: MSELoss\n",
      "data:\n",
      "  args: []\n",
      "  batch_size: 64\n",
      "  cSBM_phi: [0.5, 0.5, 0.5]\n",
      "  consistent_label_distribution: False\n",
      "  drop_last: False\n",
      "  graphsaint:\n",
      "    num_steps: 30\n",
      "    walk_length: 2\n",
      "  loader: \n",
      "  num_workers: 0\n",
      "  pre_transform: []\n",
      "  quadratic:\n",
      "    dim: 1\n",
      "    max_curv: 12.5\n",
      "    min_curv: 0.02\n",
      "  root: data/\n",
      "  save_dir: test_dir\n",
      "  server_holds_all: False\n",
      "  shuffle: True\n",
      "  sizes: [10, 5]\n",
      "  splits: [0.8, 0.1, 0.1]\n",
      "  splitter: ooxx\n",
      "  splitter_args: []\n",
      "  subsample: 1.0\n",
      "  target_transform: []\n",
      "  transform: []\n",
      "  type: graph-dt\n",
      "device: 0\n",
      "distribute:\n",
      "  use: False\n",
      "early_stop:\n",
      "  delta: 0.0\n",
      "  improve_indicator_mode: best\n",
      "  patience: 100\n",
      "  the_smaller_the_better: False\n",
      "eval:\n",
      "  base: 0.9243\n",
      "  best_res_update_round_wise_key: val_imp_ratio\n",
      "  count_flops: False\n",
      "  freq: 1\n",
      "  metrics: ['imp_ratio']\n",
      "  monitoring: []\n",
      "  report: ['avg']\n",
      "  save_data: False\n",
      "  split: ['test', 'val']\n",
      "expname: Laplacian_test_gin_on_graph-dt_lr0.1_lstep1_\n",
      "expname_tag: \n",
      "federate:\n",
      "  client_num: 1\n",
      "  data_weighted_aggr: False\n",
      "  ignore_weight: False\n",
      "  join_in_info: []\n",
      "  make_global_eval: False\n",
      "  method: Laplacian_test\n",
      "  mode: standalone\n",
      "  online_aggr: False\n",
      "  restore_from: \n",
      "  sample_client_num: 1\n",
      "  sample_client_rate: -1.0\n",
      "  sampler: uniform\n",
      "  save_to: \n",
      "  share_local_model: False\n",
      "  total_round_num: 2000\n",
      "  unseen_clients_rate: 0.0\n",
      "  use_diff: False\n",
      "  use_ss: False\n",
      "fedopt:\n",
      "  use: False\n",
      "fedprox:\n",
      "  use: False\n",
      "fedsageplus:\n",
      "  a: 1.0\n",
      "  b: 1.0\n",
      "  c: 1.0\n",
      "  fedgen_epoch: 200\n",
      "  gen_hidden: 128\n",
      "  hide_portion: 0.5\n",
      "  loc_epoch: 1\n",
      "  num_pred: 5\n",
      "finetune:\n",
      "  batch_or_epoch: epoch\n",
      "  before_eval: False\n",
      "  freeze_param: \n",
      "  local_update_steps: 1\n",
      "  optimizer:\n",
      "    lr: 0.1\n",
      "    type: SGD\n",
      "flitplus:\n",
      "  factor_ema: 0.8\n",
      "  lambdavat: 0.5\n",
      "  tmpFed: 0.5\n",
      "  weightReg: 1.0\n",
      "gcflplus:\n",
      "  EPS_1: 0.05\n",
      "  EPS_2: 0.1\n",
      "  seq_length: 5\n",
      "  standardize: False\n",
      "grad:\n",
      "  grad_clip: 5.0\n",
      "hpo:\n",
      "  fedex:\n",
      "    cutoff: 0.0\n",
      "    diff: False\n",
      "    eta0: -1.0\n",
      "    flatten_ss: True\n",
      "    gamma: 0.0\n",
      "    num_arms: 16\n",
      "    sched: auto\n",
      "    ss: \n",
      "    use: False\n",
      "  init_cand_num: 16\n",
      "  larger_better: False\n",
      "  log_scale: False\n",
      "  metric: client_summarized_weighted_avg.val_loss\n",
      "  num_workers: 0\n",
      "  pbt:\n",
      "    max_stage: 5\n",
      "    perf_threshold: 0.1\n",
      "  plot_interval: 1\n",
      "  scheduler: rs\n",
      "  sha:\n",
      "    budgets: []\n",
      "    elim_rate: 3\n",
      "    elim_round_num: 3\n",
      "  ss: \n",
      "  table:\n",
      "    eps: 0.1\n",
      "    idx: 0\n",
      "    num: 27\n",
      "    ss: \n",
      "  working_folder: hpo\n",
      "maml:\n",
      "  use: False\n",
      "model:\n",
      "  dropout: 0.5\n",
      "  embed_size: 8\n",
      "  graph_pooling: mean\n",
      "  hidden: 64\n",
      "  in_channels: 0\n",
      "  layer: 2\n",
      "  model_num_per_trainer: 1\n",
      "  num_item: 0\n",
      "  num_user: 0\n",
      "  out_channels: 1\n",
      "  task: graphRegression\n",
      "  type: gin\n",
      "  use_bias: True\n",
      "nbafl:\n",
      "  use: False\n",
      "outdir: exp/test_dir/Laplacian_test_gin_on_graph-dt_lr0.1_lstep1_/sub_exp_20230104113155\n",
      "params:\n",
      "  alpha: 0.1\n",
      "  csd_importance: 100.0\n",
      "  eps: 1e-20\n",
      "  lam: 1\n",
      "  p: 0.0\n",
      "personalization:\n",
      "  K: 5\n",
      "  beta: 1.0\n",
      "  local_param: ['encoder_atom', 'encoder', 'clf']\n",
      "  local_update_steps: 20000000\n",
      "  lr: 0.1\n",
      "  regular_weight: 0.1\n",
      "  share_non_trainable_para: False\n",
      "print_decimal_digits: 6\n",
      "regularizer:\n",
      "  mu: 0.0\n",
      "  type: \n",
      "seed: 0\n",
      "sgdmf:\n",
      "  use: False\n",
      "train:\n",
      "  batch_or_epoch: epoch\n",
      "  local_update_steps: 1\n",
      "  optimizer:\n",
      "    lr: 0.01\n",
      "    type: SGD\n",
      "    weight_decay: 0.0005\n",
      "trainer:\n",
      "  type: laplacian_trainer\n",
      "use_gpu: True\n",
      "verbose: 1\n",
      "vertical:\n",
      "  use: False\n",
      "wandb:\n",
      "  use: False\n",
      "2023-01-04 11:31:57,849 (trainer:50)WARNING: Will not use monitor in trainer with class <class 'federatedscope.contrib.trainer.laplacian_trainer.LaplacianTrainer'>\n",
      "2023-01-04 11:31:57,850 (fed_runner:302)INFO: Client 1 has been set up ... \n",
      "2023-01-04 11:31:57,851 (trainer:324)INFO: Model meta-info: <class 'federatedscope.gfl.model.graph_level.GNN_Net_Graph'>.\n",
      "2023-01-04 11:31:57,853 (trainer:332)INFO: Num of original para names: 58.\n",
      "2023-01-04 11:31:57,853 (trainer:333)INFO: Num of original trainable para names: 44.\n",
      "2023-01-04 11:31:57,854 (trainer:335)INFO: Num of preserved para names in local update: 32. \n",
      "Preserved para names in local update: {'gnn.convs.0.nn.norms.0.running_var', 'gnn.convs.0.nn.norms.1.num_batches_tracked', 'gnn.convs.1.nn.linears.0.bias', 'gnn.convs.0.nn.norms.0.running_mean', 'linear.0.weight', 'gnn.convs.1.nn.norms.0.running_mean', 'gnn.convs.0.nn.norms.1.running_var', 'linear.0.bias', 'gnn.convs.1.nn.norms.1.weight', 'gnn.convs.1.nn.norms.1.running_var', 'gnn.convs.1.nn.norms.0.bias', 'gnn.convs.0.nn.norms.1.running_mean', 'gnn.convs.0.nn.linears.0.weight', 'gnn.convs.0.nn.linears.1.weight', 'gnn.convs.0.eps', 'gnn.convs.1.nn.norms.0.weight', 'gnn.convs.0.nn.norms.1.bias', 'gnn.convs.1.nn.norms.0.num_batches_tracked', 'gnn.convs.1.eps', 'gnn.convs.0.nn.norms.0.weight', 'gnn.convs.0.nn.norms.1.weight', 'gnn.convs.1.nn.linears.0.weight', 'gnn.convs.0.nn.norms.0.bias', 'gnn.convs.1.nn.linears.1.weight', 'gnn.convs.0.nn.norms.0.num_batches_tracked', 'gnn.convs.0.nn.linears.0.bias', 'gnn.convs.1.nn.norms.0.running_var', 'gnn.convs.1.nn.norms.1.num_batches_tracked', 'gnn.convs.1.nn.norms.1.running_mean', 'gnn.convs.1.nn.linears.1.bias', 'gnn.convs.1.nn.norms.1.bias', 'gnn.convs.0.nn.linears.1.bias'}.\n",
      "2023-01-04 11:31:57,855 (trainer:339)INFO: Num of filtered para names in local update: 26. \n",
      "Filtered para names in local update: {'encoder_atom.atom_embedding_list.13.weight', 'encoder_atom.atom_embedding_list.16.weight', 'encoder_atom.atom_embedding_list.9.weight', 'encoder_atom.atom_embedding_list.4.weight', 'encoder_atom.atom_embedding_list.18.weight', 'encoder_atom.atom_embedding_list.11.weight', 'encoder_atom.atom_embedding_list.5.weight', 'encoder_atom.atom_embedding_list.20.weight', 'encoder_atom.atom_embedding_list.21.weight', 'encoder_atom.atom_embedding_list.19.weight', 'encoder_atom.atom_embedding_list.15.weight', 'encoder_atom.atom_embedding_list.1.weight', 'clf.weight', 'encoder.weight', 'encoder.bias', 'encoder_atom.atom_embedding_list.2.weight', 'encoder_atom.atom_embedding_list.14.weight', 'encoder_atom.atom_embedding_list.8.weight', 'clf.bias', 'encoder_atom.atom_embedding_list.17.weight', 'encoder_atom.atom_embedding_list.7.weight', 'encoder_atom.atom_embedding_list.12.weight', 'encoder_atom.atom_embedding_list.10.weight', 'encoder_atom.atom_embedding_list.6.weight', 'encoder_atom.atom_embedding_list.0.weight', 'encoder_atom.atom_embedding_list.3.weight'}.\n",
      "2023-01-04 11:31:57,855 (trainer:344)INFO: After register default hooks,\n",
      "\tthe hooks_in_train is:\n",
      "\t{\n",
      "\t  \"on_fit_start\": [\n",
      "\t    \"_hook_on_fit_start_init\",\n",
      "\t    \"_hook_on_fit_start_calculate_model_size\"\n",
      "\t  ],\n",
      "\t  \"on_epoch_start\": [\n",
      "\t    \"_hook_on_epoch_start\"\n",
      "\t  ],\n",
      "\t  \"on_batch_start\": [\n",
      "\t    \"_hook_on_batch_start_init\"\n",
      "\t  ],\n",
      "\t  \"on_batch_forward\": [\n",
      "\t    \"_hook_on_batch_forward\",\n",
      "\t    \"_hook_on_batch_forward_regularizer\",\n",
      "\t    \"_hook_on_batch_forward_flop_count\"\n",
      "\t  ],\n",
      "\t  \"on_batch_backward\": [\n",
      "\t    \"_hook_on_batch_backward\"\n",
      "\t  ],\n",
      "\t  \"on_batch_end\": [\n",
      "\t    \"_hook_on_batch_end\"\n",
      "\t  ],\n",
      "\t  \"on_fit_end\": [\n",
      "\t    \"_hook_on_fit_end\"\n",
      "\t  ]\n",
      "\t};\n",
      "\tthe hooks_in_eval is:\n",
      "            t{\n",
      "\t  \"on_fit_start\": [\n",
      "\t    \"_hook_on_fit_start_init\"\n",
      "\t  ],\n",
      "\t  \"on_epoch_start\": [\n",
      "\t    \"_hook_on_epoch_start\"\n",
      "\t  ],\n",
      "\t  \"on_batch_start\": [\n",
      "\t    \"_hook_on_batch_start_init\"\n",
      "\t  ],\n",
      "\t  \"on_batch_forward\": [\n",
      "\t    \"_hook_on_batch_forward\"\n",
      "\t  ],\n",
      "\t  \"on_batch_end\": [\n",
      "\t    \"_hook_on_batch_end\"\n",
      "\t  ],\n",
      "\t  \"on_fit_end\": [\n",
      "\t    \"_hook_on_fit_end\"\n",
      "\t  ]\n",
      "\t}\n",
      "2023-01-04 11:31:57,859 (server:628)INFO: ----------- Starting training (Round #0) -------------\n"
     ]
    },
    {
     "name": "stdout",
     "output_type": "stream",
     "text": [
      "encoder_atom.atom_embedding_list.1.weight\n",
      "encoder_atom.atom_embedding_list.2.weight\n",
      "encoder_atom.atom_embedding_list.3.weight\n",
      "encoder_atom.atom_embedding_list.4.weight\n",
      "encoder_atom.atom_embedding_list.5.weight\n",
      "encoder_atom.atom_embedding_list.6.weight\n",
      "encoder_atom.atom_embedding_list.7.weight\n",
      "encoder_atom.atom_embedding_list.8.weight\n",
      "encoder_atom.atom_embedding_list.9.weight\n",
      "encoder_atom.atom_embedding_list.10.weight\n",
      "encoder_atom.atom_embedding_list.11.weight\n",
      "encoder_atom.atom_embedding_list.12.weight\n",
      "encoder_atom.atom_embedding_list.13.weight\n",
      "encoder_atom.atom_embedding_list.14.weight\n",
      "encoder_atom.atom_embedding_list.15.weight\n",
      "encoder_atom.atom_embedding_list.16.weight\n",
      "encoder_atom.atom_embedding_list.17.weight\n",
      "encoder_atom.atom_embedding_list.18.weight\n",
      "encoder_atom.atom_embedding_list.19.weight\n",
      "encoder_atom.atom_embedding_list.20.weight\n",
      "encoder_atom.atom_embedding_list.21.weight\n",
      "encoder.weight\n",
      "encoder.bias\n",
      "gnn.convs.0.nn.linears.0.weight\n",
      "gnn.convs.0.nn.linears.0.bias\n",
      "gnn.convs.0.nn.linears.1.weight\n",
      "gnn.convs.0.nn.linears.1.bias\n",
      "gnn.convs.0.nn.norms.0.weight\n",
      "gnn.convs.0.nn.norms.0.bias\n",
      "gnn.convs.0.nn.norms.1.weight\n",
      "gnn.convs.0.nn.norms.1.bias\n",
      "gnn.convs.1.nn.linears.0.weight\n",
      "gnn.convs.1.nn.linears.0.bias\n",
      "gnn.convs.1.nn.linears.1.weight\n",
      "gnn.convs.1.nn.linears.1.bias\n",
      "gnn.convs.1.nn.norms.0.weight\n",
      "gnn.convs.1.nn.norms.0.bias\n",
      "gnn.convs.1.nn.norms.1.weight\n",
      "gnn.convs.1.nn.norms.1.bias\n",
      "linear.0.weight\n",
      "linear.0.bias\n",
      "clf.weight\n",
      "clf.bias\n"
     ]
    },
    {
     "name": "stderr",
     "output_type": "stream",
     "text": [
      "2023-01-04 11:31:58,596 (laplacian_client:118)INFO: {'Role': 'Client #1', 'Round': 0, 'Results_raw': {'train_loss': 9740.750422, 'train_avg_loss': 10.811044, 'train_total': 901, 'train_imp_ratio': -1069.646623}}\n",
      "2023-01-04 11:31:58,616 (laplacian_server:160)INFO: Server #0: Starting evaluation at the end of round 0.\n"
     ]
    },
    {
     "name": "stdout",
     "output_type": "stream",
     "text": [
      "Time for omega computation: 2.588033676147461\n",
      "Time for whole backward: 7.380962371826172\n",
      "Time for omega computation: 2.2165775299072266\n",
      "Time for whole backward: 7.063865661621094\n",
      "Time for omega computation: 1.861572265625\n",
      "Time for whole backward: 5.868673324584961\n",
      "Time for omega computation: 2.7556419372558594\n",
      "Time for whole backward: 6.3018798828125\n",
      "Time for omega computation: 1.874685287475586\n",
      "Time for whole backward: 4.3659210205078125\n",
      "Time for omega computation: 1.504659652709961\n",
      "Time for whole backward: 4.544734954833984\n",
      "Time for omega computation: 1.9078254699707031\n",
      "Time for whole backward: 5.228519439697266\n",
      "Time for omega computation: 1.7778873443603516\n",
      "Time for whole backward: 4.21595573425293\n",
      "Time for omega computation: 1.5857219696044922\n",
      "Time for whole backward: 4.377603530883789\n",
      "Time for omega computation: 1.7266273498535156\n",
      "Time for whole backward: 4.438638687133789\n",
      "Time for omega computation: 1.8706321716308594\n",
      "Time for whole backward: 4.624843597412109\n",
      "Time for omega computation: 1.7342567443847656\n",
      "Time for whole backward: 4.7168731689453125\n",
      "Time for omega computation: 2.0117759704589844\n",
      "Time for whole backward: 5.102396011352539\n",
      "Time for omega computation: 2.6018619537353516\n",
      "Time for whole backward: 6.815671920776367\n",
      "Time for omega computation: 2.418994903564453\n",
      "Time for whole backward: 6.711244583129883\n",
      "Time for aggregation 1: 4.852056503295898\n",
      "Time for aggregation 2: 13.84282112121582\n"
     ]
    },
    {
     "name": "stderr",
     "output_type": "stream",
     "text": [
      "2023-01-04 11:31:58,619 (laplacian_server:167)INFO: ----------- Starting a new training round (Round #1) -------------\n",
      "2023-01-04 11:31:58,690 (client:410)INFO: {'Role': 'Client #1', 'Round': 1, 'Results_raw': {'test_loss': 976.365907, 'test_avg_loss': 8.640406, 'test_total': 113, 'test_imp_ratio': -834.805432, 'val_loss': 972.136055, 'val_avg_loss': 8.602974, 'val_total': 113, 'val_imp_ratio': -830.755592}}\n",
      "2023-01-04 11:31:58,691 (monitor:513)INFO: current_best=-830.755592, should_save=True\n",
      "2023-01-04 11:31:58,692 (client:431)INFO: Client: #1, val_imp_ratio: -830.755592. model saved at exp/test_dir/Laplacian_test_gin_on_graph-dt_lr0.1_lstep1_/sub_exp_20230104113155/model1.pth\n"
     ]
    },
    {
     "name": "stdout",
     "output_type": "stream",
     "text": [
      "Time for omega computation: 2.5916099548339844\n",
      "Time for whole backward: 7.80797004699707\n",
      "Time for omega computation: 3.6568641662597656\n",
      "Time for whole backward: 8.561849594116211\n",
      "Time for omega computation: 1.8305778503417969\n",
      "Time for whole backward: 4.899263381958008\n",
      "Time for omega computation: 2.6590824127197266\n",
      "Time for whole backward: 7.167339324951172\n",
      "Time for omega computation: 4.16111946105957\n",
      "Time for whole backward: 10.563850402832031\n",
      "Time for omega computation: 2.710103988647461\n",
      "Time for whole backward: 8.813858032226562\n",
      "Time for omega computation: 2.8433799743652344\n",
      "Time for whole backward: 7.257938385009766\n",
      "Time for omega computation: 2.9144287109375\n",
      "Time for whole backward: 7.174253463745117\n",
      "Time for omega computation: 2.7549266815185547\n",
      "Time for whole backward: 6.995916366577148\n",
      "Time for omega computation: 2.3467540740966797\n",
      "Time for whole backward: 7.023096084594727\n",
      "Time for omega computation: 2.663850784301758\n",
      "Time for whole backward: 7.613420486450195\n",
      "Time for omega computation: 3.644704818725586\n",
      "Time for whole backward: 9.701967239379883\n"
     ]
    },
    {
     "name": "stderr",
     "output_type": "stream",
     "text": [
      "2023-01-04 11:31:58,962 (laplacian_client:118)INFO: {'Role': 'Client #1', 'Round': 1, 'Results_raw': {'train_loss': 5688.682621, 'train_avg_loss': 6.313743, 'train_total': 901, 'train_imp_ratio': -583.083751}}\n",
      "2023-01-04 11:31:58,964 (server:480)INFO: {'Role': 'Server #', 'Round': 1, 'Results_avg': {'test_loss': 976.365907, 'test_avg_loss': 8.640406, 'test_total': 113.0, 'test_imp_ratio': -834.805432, 'val_loss': 972.136055, 'val_avg_loss': 8.602974, 'val_total': 113.0, 'val_imp_ratio': -830.755592}}\n",
      "2023-01-04 11:31:58,965 (monitor:513)INFO: current_best=-10000, should_save=False\n",
      "2023-01-04 11:31:58,965 (monitor:513)INFO: current_best=-830.755592, should_save=True\n",
      "2023-01-04 11:31:58,989 (laplacian_server:160)INFO: Server #0: Starting evaluation at the end of round 1.\n",
      "2023-01-04 11:31:58,991 (laplacian_server:167)INFO: ----------- Starting a new training round (Round #2) -------------\n",
      "2023-01-04 11:31:59,064 (client:410)INFO: {'Role': 'Client #1', 'Round': 2, 'Results_raw': {'test_loss': 605.283256, 'test_avg_loss': 5.356489, 'test_total': 113, 'test_imp_ratio': -479.518466, 'val_loss': 564.841215, 'val_avg_loss': 4.998595, 'val_total': 113, 'val_imp_ratio': -440.797927}}\n",
      "2023-01-04 11:31:59,065 (monitor:513)INFO: current_best=-440.797927, should_save=True\n",
      "2023-01-04 11:31:59,066 (client:431)INFO: Client: #1, val_imp_ratio: -440.797927. model saved at exp/test_dir/Laplacian_test_gin_on_graph-dt_lr0.1_lstep1_/sub_exp_20230104113155/model1.pth\n"
     ]
    },
    {
     "name": "stdout",
     "output_type": "stream",
     "text": [
      "Time for omega computation: 3.190755844116211\n",
      "Time for whole backward: 9.355306625366211\n",
      "Time for omega computation: 2.1665096282958984\n",
      "Time for whole backward: 6.582021713256836\n",
      "Time for omega computation: 2.5441646575927734\n",
      "Time for whole backward: 7.777929306030273\n",
      "Time for aggregation 1: 5.563497543334961\n",
      "Time for aggregation 2: 17.5478458404541\n",
      "Time for omega computation: 2.2025108337402344\n",
      "Time for whole backward: 5.910396575927734\n",
      "Time for omega computation: 2.717733383178711\n",
      "Time for whole backward: 7.604122161865234\n"
     ]
    },
    {
     "name": "stderr",
     "output_type": "stream",
     "text": [
      "2023-01-04 11:31:59,336 (laplacian_client:118)INFO: {'Role': 'Client #1', 'Round': 2, 'Results_raw': {'train_loss': 4171.066832, 'train_avg_loss': 4.629375, 'train_total': 901, 'train_imp_ratio': -400.851994}}\n",
      "2023-01-04 11:31:59,338 (server:480)INFO: {'Role': 'Server #', 'Round': 2, 'Results_avg': {'test_loss': 605.283256, 'test_avg_loss': 5.356489, 'test_total': 113.0, 'test_imp_ratio': -479.518466, 'val_loss': 564.841215, 'val_avg_loss': 4.998595, 'val_total': 113.0, 'val_imp_ratio': -440.797927}}\n"
     ]
    },
    {
     "name": "stdout",
     "output_type": "stream",
     "text": [
      "Time for omega computation: 3.1554698944091797\n",
      "Time for whole backward: 9.237527847290039\n",
      "Time for omega computation: 2.108335494995117\n",
      "Time for whole backward: 8.694171905517578\n",
      "Time for omega computation: 2.244234085083008\n",
      "Time for whole backward: 6.665706634521484\n",
      "Time for omega computation: 3.4084320068359375\n",
      "Time for whole backward: 7.095098495483398\n",
      "Time for omega computation: 2.190113067626953\n",
      "Time for whole backward: 6.559610366821289\n",
      "Time for omega computation: 2.7458667755126953\n",
      "Time for whole backward: 7.058858871459961\n",
      "Time for omega computation: 3.2949447631835938\n",
      "Time for whole backward: 8.188009262084961\n",
      "Time for omega computation: 3.319263458251953\n",
      "Time for whole backward: 8.312463760375977\n",
      "Time for omega computation: 3.329038619995117\n",
      "Time for whole backward: 7.847309112548828\n",
      "Time for omega computation: 2.955913543701172\n",
      "Time for whole backward: 7.237911224365234\n",
      "Time for omega computation: 2.343893051147461\n",
      "Time for whole backward: 7.129192352294922\n",
      "Time for omega computation: 2.8290748596191406\n",
      "Time for whole backward: 7.13038444519043\n",
      "Time for omega computation: 1.97601318359375\n",
      "Time for whole backward: 5.533695220947266\n"
     ]
    },
    {
     "name": "stderr",
     "output_type": "stream",
     "text": [
      "2023-01-04 11:31:59,339 (monitor:513)INFO: current_best=-830.755592, should_save=False\n",
      "2023-01-04 11:31:59,340 (monitor:513)INFO: current_best=-440.797927, should_save=True\n",
      "2023-01-04 11:31:59,364 (laplacian_server:160)INFO: Server #0: Starting evaluation at the end of round 2.\n",
      "2023-01-04 11:31:59,366 (laplacian_server:167)INFO: ----------- Starting a new training round (Round #3) -------------\n",
      "2023-01-04 11:31:59,418 (client:410)INFO: {'Role': 'Client #1', 'Round': 3, 'Results_raw': {'test_loss': 516.065564, 'test_avg_loss': 4.566952, 'test_total': 113, 'test_imp_ratio': -394.098426, 'val_loss': 487.025064, 'val_avg_loss': 4.309956, 'val_total': 113, 'val_imp_ratio': -366.294068}}\n",
      "2023-01-04 11:31:59,419 (monitor:513)INFO: current_best=-366.294068, should_save=True\n",
      "2023-01-04 11:31:59,420 (client:431)INFO: Client: #1, val_imp_ratio: -366.294068. model saved at exp/test_dir/Laplacian_test_gin_on_graph-dt_lr0.1_lstep1_/sub_exp_20230104113155/model1.pth\n"
     ]
    },
    {
     "name": "stdout",
     "output_type": "stream",
     "text": [
      "Time for aggregation 1: 5.899667739868164\n",
      "Time for aggregation 2: 20.116806030273438\n",
      "Time for omega computation: 2.139568328857422\n",
      "Time for whole backward: 6.039619445800781\n",
      "Time for omega computation: 3.6897659301757812\n",
      "Time for whole backward: 9.678125381469727\n",
      "Time for omega computation: 3.113985061645508\n",
      "Time for whole backward: 10.212182998657227\n",
      "Time for omega computation: 2.9473304748535156\n",
      "Time for whole backward: 6.406307220458984\n",
      "Time for omega computation: 2.868175506591797\n",
      "Time for whole backward: 7.7342987060546875\n",
      "Time for omega computation: 2.5267601013183594\n",
      "Time for whole backward: 6.000518798828125\n",
      "Time for omega computation: 2.968311309814453\n",
      "Time for whole backward: 8.233070373535156\n"
     ]
    },
    {
     "name": "stderr",
     "output_type": "stream",
     "text": [
      "2023-01-04 11:31:59,689 (laplacian_client:118)INFO: {'Role': 'Client #1', 'Round': 3, 'Results_raw': {'train_loss': 3450.022821, 'train_avg_loss': 3.829104, 'train_total': 901, 'train_imp_ratio': -314.270711}}\n",
      "2023-01-04 11:31:59,690 (server:480)INFO: {'Role': 'Server #', 'Round': 3, 'Results_avg': {'test_loss': 516.065564, 'test_avg_loss': 4.566952, 'test_total': 113.0, 'test_imp_ratio': -394.098426, 'val_loss': 487.025064, 'val_avg_loss': 4.309956, 'val_total': 113.0, 'val_imp_ratio': -366.294068}}\n",
      "2023-01-04 11:31:59,691 (monitor:513)INFO: current_best=-440.797927, should_save=False\n",
      "2023-01-04 11:31:59,692 (monitor:513)INFO: current_best=-366.294068, should_save=True\n",
      "2023-01-04 11:31:59,716 (laplacian_server:160)INFO: Server #0: Starting evaluation at the end of round 3.\n",
      "2023-01-04 11:31:59,720 (laplacian_server:167)INFO: ----------- Starting a new training round (Round #4) -------------\n"
     ]
    },
    {
     "name": "stdout",
     "output_type": "stream",
     "text": [
      "Time for omega computation: 2.5053024291992188\n",
      "Time for whole backward: 7.535696029663086\n",
      "Time for omega computation: 2.0973682403564453\n",
      "Time for whole backward: 6.931781768798828\n",
      "Time for omega computation: 2.2568702697753906\n",
      "Time for whole backward: 5.321741104125977\n",
      "Time for omega computation: 1.9655227661132812\n",
      "Time for whole backward: 6.038427352905273\n",
      "Time for omega computation: 2.2132396697998047\n",
      "Time for whole backward: 8.442878723144531\n",
      "Time for omega computation: 1.8587112426757812\n",
      "Time for whole backward: 5.035638809204102\n",
      "Time for omega computation: 2.3889541625976562\n",
      "Time for whole backward: 8.206605911254883\n",
      "Time for omega computation: 2.633810043334961\n",
      "Time for whole backward: 6.492376327514648\n",
      "Time for aggregation 1: 9.618997573852539\n",
      "Time for aggregation 2: 20.635604858398438\n"
     ]
    },
    {
     "name": "stderr",
     "output_type": "stream",
     "text": [
      "2023-01-04 11:31:59,801 (client:410)INFO: {'Role': 'Client #1', 'Round': 4, 'Results_raw': {'test_loss': 347.451294, 'test_avg_loss': 3.07479, 'test_total': 113, 'test_imp_ratio': -232.661499, 'val_loss': 292.249389, 'val_avg_loss': 2.586278, 'val_total': 113, 'val_imp_ratio': -179.809314}}\n",
      "2023-01-04 11:31:59,802 (monitor:513)INFO: current_best=-179.809314, should_save=True\n",
      "2023-01-04 11:31:59,803 (client:431)INFO: Client: #1, val_imp_ratio: -179.809314. model saved at exp/test_dir/Laplacian_test_gin_on_graph-dt_lr0.1_lstep1_/sub_exp_20230104113155/model1.pth\n"
     ]
    },
    {
     "name": "stdout",
     "output_type": "stream",
     "text": [
      "Time for omega computation: 2.4175643920898438\n",
      "Time for whole backward: 7.527828216552734\n",
      "Time for omega computation: 2.3429393768310547\n",
      "Time for whole backward: 7.678985595703125\n",
      "Time for omega computation: 3.230571746826172\n",
      "Time for whole backward: 7.613420486450195\n",
      "Time for omega computation: 2.673625946044922\n",
      "Time for whole backward: 10.493993759155273\n",
      "Time for omega computation: 2.018451690673828\n",
      "Time for whole backward: 4.807949066162109\n",
      "Time for omega computation: 3.084421157836914\n",
      "Time for whole backward: 7.02667236328125\n",
      "Time for omega computation: 3.2558441162109375\n",
      "Time for whole backward: 9.826898574829102\n",
      "Time for omega computation: 2.5949478149414062\n",
      "Time for whole backward: 6.264925003051758\n",
      "Time for omega computation: 3.0755996704101562\n",
      "Time for whole backward: 9.50479507446289\n",
      "Time for omega computation: 2.0487308502197266\n",
      "Time for whole backward: 4.944562911987305\n",
      "Time for omega computation: 2.0821094512939453\n",
      "Time for whole backward: 6.330251693725586\n",
      "Time for omega computation: 2.0821094512939453\n",
      "Time for whole backward: 6.531953811645508\n",
      "Time for omega computation: 1.8157958984375\n",
      "Time for whole backward: 4.514932632446289\n"
     ]
    },
    {
     "name": "stderr",
     "output_type": "stream",
     "text": [
      "2023-01-04 11:32:00,081 (laplacian_client:118)INFO: {'Role': 'Client #1', 'Round': 4, 'Results_raw': {'train_loss': 3430.641625, 'train_avg_loss': 3.807593, 'train_total': 901, 'train_imp_ratio': -311.943454}}\n",
      "2023-01-04 11:32:00,083 (server:480)INFO: {'Role': 'Server #', 'Round': 4, 'Results_avg': {'test_loss': 347.451294, 'test_avg_loss': 3.07479, 'test_total': 113.0, 'test_imp_ratio': -232.661499, 'val_loss': 292.249389, 'val_avg_loss': 2.586278, 'val_total': 113.0, 'val_imp_ratio': -179.809314}}\n",
      "2023-01-04 11:32:00,084 (monitor:513)INFO: current_best=-366.294068, should_save=False\n",
      "2023-01-04 11:32:00,085 (monitor:513)INFO: current_best=-179.809314, should_save=True\n",
      "2023-01-04 11:32:00,118 (laplacian_server:160)INFO: Server #0: Starting evaluation at the end of round 4.\n",
      "2023-01-04 11:32:00,120 (laplacian_server:167)INFO: ----------- Starting a new training round (Round #5) -------------\n",
      "2023-01-04 11:32:00,198 (client:410)INFO: {'Role': 'Client #1', 'Round': 5, 'Results_raw': {'test_loss': 319.919709, 'test_avg_loss': 2.831148, 'test_total': 113, 'test_imp_ratio': -206.30184, 'val_loss': 258.020813, 'val_avg_loss': 2.28337, 'val_total': 113, 'val_imp_ratio': -147.03776}}\n",
      "2023-01-04 11:32:00,198 (monitor:513)INFO: current_best=-147.03776, should_save=True\n",
      "2023-01-04 11:32:00,199 (client:431)INFO: Client: #1, val_imp_ratio: -147.03776. model saved at exp/test_dir/Laplacian_test_gin_on_graph-dt_lr0.1_lstep1_/sub_exp_20230104113155/model1.pth\n"
     ]
    },
    {
     "name": "stdout",
     "output_type": "stream",
     "text": [
      "Time for omega computation: 3.7202835083007812\n",
      "Time for whole backward: 8.188962936401367\n",
      "Time for omega computation: 2.1784305572509766\n",
      "Time for whole backward: 6.065607070922852\n",
      "Time for aggregation 1: 6.460905075073242\n",
      "Time for aggregation 2: 27.82607078552246\n",
      "Time for omega computation: 2.480030059814453\n",
      "Time for whole backward: 6.413936614990234\n",
      "Time for omega computation: 2.269268035888672\n",
      "Time for whole backward: 6.725549697875977\n"
     ]
    },
    {
     "name": "stderr",
     "output_type": "stream",
     "text": [
      "2023-01-04 11:32:00,461 (laplacian_client:118)INFO: {'Role': 'Client #1', 'Round': 5, 'Results_raw': {'train_loss': 3136.908466, 'train_avg_loss': 3.481585, 'train_total': 901, 'train_imp_ratio': -276.672697}}\n",
      "2023-01-04 11:32:00,463 (server:480)INFO: {'Role': 'Server #', 'Round': 5, 'Results_avg': {'test_loss': 319.919709, 'test_avg_loss': 2.831148, 'test_total': 113.0, 'test_imp_ratio': -206.30184, 'val_loss': 258.020813, 'val_avg_loss': 2.28337, 'val_total': 113.0, 'val_imp_ratio': -147.03776}}\n",
      "2023-01-04 11:32:00,464 (monitor:513)INFO: current_best=-179.809314, should_save=False\n",
      "2023-01-04 11:32:00,465 (monitor:513)INFO: current_best=-147.03776, should_save=True\n"
     ]
    },
    {
     "name": "stdout",
     "output_type": "stream",
     "text": [
      "Time for omega computation: 2.86102294921875\n",
      "Time for whole backward: 9.029865264892578\n",
      "Time for omega computation: 1.8079280853271484\n",
      "Time for whole backward: 4.669666290283203\n",
      "Time for omega computation: 4.730701446533203\n",
      "Time for whole backward: 9.560823440551758\n",
      "Time for omega computation: 1.941680908203125\n",
      "Time for whole backward: 4.918575286865234\n",
      "Time for omega computation: 2.8076171875\n",
      "Time for whole backward: 8.42905044555664\n",
      "Time for omega computation: 3.2982826232910156\n",
      "Time for whole backward: 6.363391876220703\n",
      "Time for omega computation: 3.759622573852539\n",
      "Time for whole backward: 9.24825668334961\n",
      "Time for omega computation: 3.062725067138672\n",
      "Time for whole backward: 6.764650344848633\n",
      "Time for omega computation: 4.459857940673828\n",
      "Time for whole backward: 9.886503219604492\n",
      "Time for omega computation: 3.119230270385742\n",
      "Time for whole backward: 7.932186126708984\n",
      "Time for omega computation: 2.4182796478271484\n",
      "Time for whole backward: 6.685733795166016\n",
      "Time for omega computation: 3.1871795654296875\n",
      "Time for whole backward: 6.898403167724609\n",
      "Time for omega computation: 2.4886131286621094\n",
      "Time for whole backward: 6.88481330871582\n"
     ]
    },
    {
     "name": "stderr",
     "output_type": "stream",
     "text": [
      "2023-01-04 11:32:00,491 (laplacian_server:160)INFO: Server #0: Starting evaluation at the end of round 5.\n",
      "2023-01-04 11:32:00,495 (laplacian_server:167)INFO: ----------- Starting a new training round (Round #6) -------------\n",
      "2023-01-04 11:32:00,575 (client:410)INFO: {'Role': 'Client #1', 'Round': 6, 'Results_raw': {'test_loss': 449.515377, 'test_avg_loss': 3.978012, 'test_total': 113, 'test_imp_ratio': -330.381029, 'val_loss': 364.157959, 'val_avg_loss': 3.222637, 'val_total': 113, 'val_imp_ratio': -248.657005}}\n",
      "2023-01-04 11:32:00,576 (monitor:513)INFO: current_best=-147.03776, should_save=False\n"
     ]
    },
    {
     "name": "stdout",
     "output_type": "stream",
     "text": [
      "Time for aggregation 1: 7.003068923950195\n",
      "Time for aggregation 2: 18.235445022583008\n",
      "Time for omega computation: 3.044605255126953\n",
      "Time for whole backward: 7.366657257080078\n",
      "Time for omega computation: 3.139495849609375\n",
      "Time for whole backward: 7.349967956542969\n",
      "Time for omega computation: 2.610921859741211\n",
      "Time for whole backward: 6.949186325073242\n",
      "Time for omega computation: 3.117084503173828\n",
      "Time for whole backward: 7.720708847045898\n",
      "Time for omega computation: 2.5899410247802734\n",
      "Time for whole backward: 5.7048797607421875\n"
     ]
    },
    {
     "name": "stderr",
     "output_type": "stream",
     "text": [
      "2023-01-04 11:32:00,837 (laplacian_client:118)INFO: {'Role': 'Client #1', 'Round': 6, 'Results_raw': {'train_loss': 2971.571701, 'train_avg_loss': 3.298082, 'train_total': 901, 'train_imp_ratio': -256.819392}}\n",
      "2023-01-04 11:32:00,840 (server:480)INFO: {'Role': 'Server #', 'Round': 6, 'Results_avg': {'test_loss': 449.515377, 'test_avg_loss': 3.978012, 'test_total': 113.0, 'test_imp_ratio': -330.381029, 'val_loss': 364.157959, 'val_avg_loss': 3.222637, 'val_total': 113.0, 'val_imp_ratio': -248.657005}}\n",
      "2023-01-04 11:32:00,842 (monitor:513)INFO: current_best=-147.03776, should_save=False\n",
      "2023-01-04 11:32:00,843 (monitor:513)INFO: current_best=-147.03776, should_save=False\n",
      "2023-01-04 11:32:00,868 (laplacian_server:160)INFO: Server #0: Starting evaluation at the end of round 6.\n",
      "2023-01-04 11:32:00,871 (laplacian_server:167)INFO: ----------- Starting a new training round (Round #7) -------------\n"
     ]
    },
    {
     "name": "stdout",
     "output_type": "stream",
     "text": [
      "Time for omega computation: 3.2196044921875\n",
      "Time for whole backward: 7.2917938232421875\n",
      "Time for omega computation: 2.276182174682617\n",
      "Time for whole backward: 7.198572158813477\n",
      "Time for omega computation: 2.8624534606933594\n",
      "Time for whole backward: 7.991552352905273\n",
      "Time for omega computation: 2.5177001953125\n",
      "Time for whole backward: 7.121801376342773\n",
      "Time for omega computation: 3.0219554901123047\n",
      "Time for whole backward: 10.038137435913086\n",
      "Time for omega computation: 2.5620460510253906\n",
      "Time for whole backward: 5.945920944213867\n",
      "Time for omega computation: 2.223491668701172\n",
      "Time for whole backward: 7.7571868896484375\n",
      "Time for omega computation: 2.046823501586914\n",
      "Time for whole backward: 6.5155029296875\n",
      "Time for omega computation: 2.3345947265625\n",
      "Time for whole backward: 6.781578063964844\n",
      "Time for omega computation: 2.800464630126953\n",
      "Time for whole backward: 7.284402847290039\n",
      "Time for aggregation 1: 10.048627853393555\n",
      "Time for aggregation 2: 20.210981369018555\n"
     ]
    },
    {
     "name": "stderr",
     "output_type": "stream",
     "text": [
      "2023-01-04 11:32:00,931 (client:410)INFO: {'Role': 'Client #1', 'Round': 7, 'Results_raw': {'test_loss': 341.710232, 'test_avg_loss': 3.023984, 'test_total': 113, 'test_imp_ratio': -227.164846, 'val_loss': 257.693041, 'val_avg_loss': 2.280469, 'val_total': 113, 'val_imp_ratio': -146.723919}}\n",
      "2023-01-04 11:32:00,932 (monitor:513)INFO: current_best=-146.723919, should_save=True\n",
      "2023-01-04 11:32:00,933 (client:431)INFO: Client: #1, val_imp_ratio: -146.723919. model saved at exp/test_dir/Laplacian_test_gin_on_graph-dt_lr0.1_lstep1_/sub_exp_20230104113155/model1.pth\n"
     ]
    },
    {
     "name": "stdout",
     "output_type": "stream",
     "text": [
      "Time for omega computation: 2.6853084564208984\n",
      "Time for whole backward: 6.927967071533203\n",
      "Time for omega computation: 2.581357955932617\n",
      "Time for whole backward: 7.139444351196289\n",
      "Time for omega computation: 3.3721923828125\n",
      "Time for whole backward: 10.145425796508789\n",
      "Time for omega computation: 1.9075870513916016\n",
      "Time for whole backward: 5.583524703979492\n",
      "Time for omega computation: 2.7589797973632812\n",
      "Time for whole backward: 7.19761848449707\n",
      "Time for omega computation: 2.5947093963623047\n",
      "Time for whole backward: 6.904363632202148\n",
      "Time for omega computation: 2.4056434631347656\n",
      "Time for whole backward: 6.79779052734375\n",
      "Time for omega computation: 3.412485122680664\n",
      "Time for whole backward: 7.915258407592773\n",
      "Time for omega computation: 2.414226531982422\n",
      "Time for whole backward: 6.92296028137207\n"
     ]
    },
    {
     "ename": "KeyboardInterrupt",
     "evalue": "",
     "output_type": "error",
     "traceback": [
      "\u001B[0;31m---------------------------------------------------------------------------\u001B[0m",
      "\u001B[0;31mKeyboardInterrupt\u001B[0m                         Traceback (most recent call last)",
      "Cell \u001B[0;32mIn [10], line 9\u001B[0m\n\u001B[1;32m      2\u001B[0m \u001B[38;5;28;01mfrom\u001B[39;00m \u001B[38;5;21;01mfederatedscope\u001B[39;00m\u001B[38;5;21;01m.\u001B[39;00m\u001B[38;5;21;01mcontrib\u001B[39;00m\u001B[38;5;21;01m.\u001B[39;00m\u001B[38;5;21;01mworkers\u001B[39;00m\u001B[38;5;21;01m.\u001B[39;00m\u001B[38;5;21;01mlaplacian_server\u001B[39;00m \u001B[38;5;28;01mimport\u001B[39;00m LaplacianServer\n\u001B[1;32m      4\u001B[0m Fed_runner \u001B[38;5;241m=\u001B[39m FedRunner(data\u001B[38;5;241m=\u001B[39mdata,\n\u001B[1;32m      5\u001B[0m                        server_class\u001B[38;5;241m=\u001B[39mLaplacianServer,\n\u001B[1;32m      6\u001B[0m                        client_class\u001B[38;5;241m=\u001B[39mLaplacianClient,\n\u001B[1;32m      7\u001B[0m                        config\u001B[38;5;241m=\u001B[39mcfg\u001B[38;5;241m.\u001B[39mclone(),\n\u001B[1;32m      8\u001B[0m                        client_config\u001B[38;5;241m=\u001B[39mclient_cfg)\n\u001B[0;32m----> 9\u001B[0m \u001B[43mFed_runner\u001B[49m\u001B[38;5;241;43m.\u001B[39;49m\u001B[43mrun\u001B[49m\u001B[43m(\u001B[49m\u001B[43m)\u001B[49m\n",
      "File \u001B[0;32m~/Master-Thesis/CKIM_Competition/federatedscope/core/fed_runner.py:186\u001B[0m, in \u001B[0;36mFedRunner.run\u001B[0;34m(self)\u001B[0m\n\u001B[1;32m    184\u001B[0m     \u001B[38;5;28;01mwhile\u001B[39;00m \u001B[38;5;28mlen\u001B[39m(\u001B[38;5;28mself\u001B[39m\u001B[38;5;241m.\u001B[39mshared_comm_queue) \u001B[38;5;241m>\u001B[39m \u001B[38;5;241m0\u001B[39m:\n\u001B[1;32m    185\u001B[0m         msg \u001B[38;5;241m=\u001B[39m \u001B[38;5;28mself\u001B[39m\u001B[38;5;241m.\u001B[39mshared_comm_queue\u001B[38;5;241m.\u001B[39mpopleft()\n\u001B[0;32m--> 186\u001B[0m         \u001B[38;5;28;43mself\u001B[39;49m\u001B[38;5;241;43m.\u001B[39;49m\u001B[43m_handle_msg\u001B[49m\u001B[43m(\u001B[49m\u001B[43mmsg\u001B[49m\u001B[43m)\u001B[49m\n\u001B[1;32m    188\u001B[0m \u001B[38;5;28mself\u001B[39m\u001B[38;5;241m.\u001B[39mserver\u001B[38;5;241m.\u001B[39m_monitor\u001B[38;5;241m.\u001B[39mfinish_fed_runner(fl_mode\u001B[38;5;241m=\u001B[39m\u001B[38;5;28mself\u001B[39m\u001B[38;5;241m.\u001B[39mmode)\n\u001B[1;32m    190\u001B[0m \u001B[38;5;28;01mreturn\u001B[39;00m \u001B[38;5;28mself\u001B[39m\u001B[38;5;241m.\u001B[39mserver\u001B[38;5;241m.\u001B[39mbest_results\n",
      "File \u001B[0;32m~/Master-Thesis/CKIM_Competition/federatedscope/core/fed_runner.py:325\u001B[0m, in \u001B[0;36mFedRunner._handle_msg\u001B[0;34m(self, msg, rcv)\u001B[0m\n\u001B[1;32m    323\u001B[0m     \u001B[38;5;28mself\u001B[39m\u001B[38;5;241m.\u001B[39mserver\u001B[38;5;241m.\u001B[39m_monitor\u001B[38;5;241m.\u001B[39mtrack_download_bytes(download_bytes)\n\u001B[1;32m    324\u001B[0m \u001B[38;5;28;01melse\u001B[39;00m:\n\u001B[0;32m--> 325\u001B[0m     \u001B[38;5;28;43mself\u001B[39;49m\u001B[38;5;241;43m.\u001B[39;49m\u001B[43mclient\u001B[49m\u001B[43m[\u001B[49m\u001B[43meach_receiver\u001B[49m\u001B[43m]\u001B[49m\u001B[38;5;241;43m.\u001B[39;49m\u001B[43mmsg_handlers\u001B[49m\u001B[43m[\u001B[49m\u001B[43mmsg\u001B[49m\u001B[38;5;241;43m.\u001B[39;49m\u001B[43mmsg_type\u001B[49m\u001B[43m]\u001B[49m\u001B[43m(\u001B[49m\u001B[43mmsg\u001B[49m\u001B[43m)\u001B[49m\n\u001B[1;32m    326\u001B[0m     \u001B[38;5;28mself\u001B[39m\u001B[38;5;241m.\u001B[39mclient[each_receiver]\u001B[38;5;241m.\u001B[39m_monitor\u001B[38;5;241m.\u001B[39mtrack_download_bytes(\n\u001B[1;32m    327\u001B[0m         download_bytes)\n",
      "File \u001B[0;32m~/Master-Thesis/CKIM_Competition/federatedscope/contrib/workers/laplacian_client.py:109\u001B[0m, in \u001B[0;36mLaplacianClient.callback_funcs_for_model_para\u001B[0;34m(self, message)\u001B[0m\n\u001B[1;32m    104\u001B[0m     logger\u001B[38;5;241m.\u001B[39minfo(\n\u001B[1;32m    105\u001B[0m         \u001B[38;5;124mf\u001B[39m\u001B[38;5;124m\"\u001B[39m\u001B[38;5;124m[Normal FL Mode] Client #\u001B[39m\u001B[38;5;132;01m{\u001B[39;00m\u001B[38;5;28mself\u001B[39m\u001B[38;5;241m.\u001B[39mID\u001B[38;5;132;01m}\u001B[39;00m\u001B[38;5;124m has been locally \u001B[39m\u001B[38;5;124m\"\u001B[39m\n\u001B[1;32m    106\u001B[0m         \u001B[38;5;124mf\u001B[39m\u001B[38;5;124m\"\u001B[39m\u001B[38;5;124mearly stopped. \u001B[39m\u001B[38;5;124m\"\u001B[39m\n\u001B[1;32m    107\u001B[0m         \u001B[38;5;124mf\u001B[39m\u001B[38;5;124m\"\u001B[39m\u001B[38;5;124mThe next FL update may result in negative effect\u001B[39m\u001B[38;5;124m\"\u001B[39m)\n\u001B[1;32m    108\u001B[0m     \u001B[38;5;28mself\u001B[39m\u001B[38;5;241m.\u001B[39m_monitor\u001B[38;5;241m.\u001B[39mlocal_converged()\n\u001B[0;32m--> 109\u001B[0m sample_size, model_para_all, omega_set, results \u001B[38;5;241m=\u001B[39m \u001B[38;5;28;43mself\u001B[39;49m\u001B[38;5;241;43m.\u001B[39;49m\u001B[43mtrainer\u001B[49m\u001B[38;5;241;43m.\u001B[39;49m\u001B[43mtrain\u001B[49m\u001B[43m(\u001B[49m\u001B[38;5;28;43mself\u001B[39;49m\u001B[38;5;241;43m.\u001B[39;49m\u001B[43mstate\u001B[49m\u001B[43m)\u001B[49m\n\u001B[1;32m    110\u001B[0m \u001B[38;5;28;01mif\u001B[39;00m \u001B[38;5;28mself\u001B[39m\u001B[38;5;241m.\u001B[39m_cfg\u001B[38;5;241m.\u001B[39mfederate\u001B[38;5;241m.\u001B[39mshare_local_model \u001B[38;5;129;01mand\u001B[39;00m \u001B[38;5;129;01mnot\u001B[39;00m \\\n\u001B[1;32m    111\u001B[0m         \u001B[38;5;28mself\u001B[39m\u001B[38;5;241m.\u001B[39m_cfg\u001B[38;5;241m.\u001B[39mfederate\u001B[38;5;241m.\u001B[39monline_aggr:\n\u001B[1;32m    112\u001B[0m     model_para_all \u001B[38;5;241m=\u001B[39m copy\u001B[38;5;241m.\u001B[39mdeepcopy(model_para_all)\n",
      "File \u001B[0;32m~/Master-Thesis/CKIM_Competition/federatedscope/core/auxiliaries/decorators.py:28\u001B[0m, in \u001B[0;36muse_diff_laplacian.<locals>.wrapper\u001B[0;34m(self, *args, **kwargs)\u001B[0m\n\u001B[1;32m     24\u001B[0m \u001B[38;5;28;01mif\u001B[39;00m \u001B[38;5;28mself\u001B[39m\u001B[38;5;241m.\u001B[39mcfg\u001B[38;5;241m.\u001B[39mfederate\u001B[38;5;241m.\u001B[39muse_diff:\n\u001B[1;32m     25\u001B[0m     \u001B[38;5;66;03m# TODO: any issue for subclasses?\u001B[39;00m\n\u001B[1;32m     26\u001B[0m     before_metric \u001B[38;5;241m=\u001B[39m \u001B[38;5;28mself\u001B[39m\u001B[38;5;241m.\u001B[39mevaluate(target_data_split_name\u001B[38;5;241m=\u001B[39m\u001B[38;5;124m'\u001B[39m\u001B[38;5;124mval\u001B[39m\u001B[38;5;124m'\u001B[39m)\n\u001B[0;32m---> 28\u001B[0m num_samples_train, model_para, omega, result_metric \u001B[38;5;241m=\u001B[39m \u001B[43mfunc\u001B[49m\u001B[43m(\u001B[49m\n\u001B[1;32m     29\u001B[0m \u001B[43m    \u001B[49m\u001B[38;5;28;43mself\u001B[39;49m\u001B[43m,\u001B[49m\u001B[43m \u001B[49m\u001B[38;5;241;43m*\u001B[39;49m\u001B[43margs\u001B[49m\u001B[43m,\u001B[49m\u001B[43m \u001B[49m\u001B[38;5;241;43m*\u001B[39;49m\u001B[38;5;241;43m*\u001B[39;49m\u001B[43mkwargs\u001B[49m\u001B[43m)\u001B[49m\n\u001B[1;32m     31\u001B[0m \u001B[38;5;28;01mif\u001B[39;00m \u001B[38;5;28mself\u001B[39m\u001B[38;5;241m.\u001B[39mcfg\u001B[38;5;241m.\u001B[39mfederate\u001B[38;5;241m.\u001B[39muse_diff:\n\u001B[1;32m     32\u001B[0m     \u001B[38;5;66;03m# TODO: any issue for subclasses?\u001B[39;00m\n\u001B[1;32m     33\u001B[0m     after_metric \u001B[38;5;241m=\u001B[39m \u001B[38;5;28mself\u001B[39m\u001B[38;5;241m.\u001B[39mevaluate(target_data_split_name\u001B[38;5;241m=\u001B[39m\u001B[38;5;124m'\u001B[39m\u001B[38;5;124mval\u001B[39m\u001B[38;5;124m'\u001B[39m)\n",
      "File \u001B[0;32m~/Master-Thesis/CKIM_Competition/federatedscope/contrib/trainer/laplacian_trainer.py:175\u001B[0m, in \u001B[0;36mLaplacianTrainer.train\u001B[0;34m(self, state, target_data_split_name, hooks_set)\u001B[0m\n\u001B[1;32m    171\u001B[0m hooks_set \u001B[38;5;241m=\u001B[39m hooks_set \u001B[38;5;129;01mor\u001B[39;00m \u001B[38;5;28mself\u001B[39m\u001B[38;5;241m.\u001B[39mhooks_in_train\n\u001B[1;32m    173\u001B[0m \u001B[38;5;28mself\u001B[39m\u001B[38;5;241m.\u001B[39mctx\u001B[38;5;241m.\u001B[39mcheck_data_split(target_data_split_name)\n\u001B[0;32m--> 175\u001B[0m \u001B[38;5;28;43mself\u001B[39;49m\u001B[38;5;241;43m.\u001B[39;49m\u001B[43m_run_routine\u001B[49m\u001B[43m(\u001B[49m\u001B[43mMODE\u001B[49m\u001B[38;5;241;43m.\u001B[39;49m\u001B[43mTRAIN\u001B[49m\u001B[43m,\u001B[49m\u001B[43m \u001B[49m\u001B[43mhooks_set\u001B[49m\u001B[43m,\u001B[49m\u001B[43m \u001B[49m\u001B[43mtarget_data_split_name\u001B[49m\u001B[43m)\u001B[49m\n\u001B[1;32m    177\u001B[0m \u001B[38;5;28;01mreturn\u001B[39;00m \u001B[38;5;28mself\u001B[39m\u001B[38;5;241m.\u001B[39mctx\u001B[38;5;241m.\u001B[39mnum_samples_train, \u001B[38;5;28mself\u001B[39m\u001B[38;5;241m.\u001B[39mget_model_para(\n\u001B[1;32m    178\u001B[0m ), \u001B[38;5;28mself\u001B[39m\u001B[38;5;241m.\u001B[39mget_omega_para(), \u001B[38;5;28mself\u001B[39m\u001B[38;5;241m.\u001B[39mctx\u001B[38;5;241m.\u001B[39meval_metrics\n",
      "File \u001B[0;32m~/Master-Thesis/CKIM_Competition/federatedscope/core/trainers/trainer.py:279\u001B[0m, in \u001B[0;36mTrainer._run_routine\u001B[0;34m(self, mode, hooks_set, dataset_name)\u001B[0m\n\u001B[1;32m    277\u001B[0m \u001B[38;5;28;01mif\u001B[39;00m \u001B[38;5;28mself\u001B[39m\u001B[38;5;241m.\u001B[39mctx\u001B[38;5;241m.\u001B[39mcur_mode \u001B[38;5;241m==\u001B[39m \u001B[38;5;124m'\u001B[39m\u001B[38;5;124mtrain\u001B[39m\u001B[38;5;124m'\u001B[39m:\n\u001B[1;32m    278\u001B[0m     \u001B[38;5;28;01mfor\u001B[39;00m hook \u001B[38;5;129;01min\u001B[39;00m hooks_set[\u001B[38;5;124m\"\u001B[39m\u001B[38;5;124mon_batch_backward\u001B[39m\u001B[38;5;124m\"\u001B[39m]:\n\u001B[0;32m--> 279\u001B[0m         \u001B[43mhook\u001B[49m\u001B[43m(\u001B[49m\u001B[38;5;28;43mself\u001B[39;49m\u001B[38;5;241;43m.\u001B[39;49m\u001B[43mctx\u001B[49m\u001B[43m)\u001B[49m\n\u001B[1;32m    280\u001B[0m \u001B[38;5;28;01mfor\u001B[39;00m hook \u001B[38;5;129;01min\u001B[39;00m hooks_set[\u001B[38;5;124m\"\u001B[39m\u001B[38;5;124mon_batch_end\u001B[39m\u001B[38;5;124m\"\u001B[39m]:\n\u001B[1;32m    281\u001B[0m     hook(\u001B[38;5;28mself\u001B[39m\u001B[38;5;241m.\u001B[39mctx)\n",
      "File \u001B[0;32m~/Master-Thesis/CKIM_Competition/federatedscope/contrib/trainer/laplacian_trainer.py:150\u001B[0m, in \u001B[0;36mLaplacianTrainer._hook_on_batch_backward\u001B[0;34m(self, ctx)\u001B[0m\n\u001B[1;32m    148\u001B[0m \u001B[38;5;28;01mfor\u001B[39;00m name, param \u001B[38;5;129;01min\u001B[39;00m ctx\u001B[38;5;241m.\u001B[39mmodel\u001B[38;5;241m.\u001B[39mnamed_parameters():\n\u001B[1;32m    149\u001B[0m     \u001B[38;5;28;01mif\u001B[39;00m param\u001B[38;5;241m.\u001B[39mgrad \u001B[38;5;129;01mis\u001B[39;00m \u001B[38;5;129;01mnot\u001B[39;00m \u001B[38;5;28;01mNone\u001B[39;00m:\n\u001B[0;32m--> 150\u001B[0m         ctx\u001B[38;5;241m.\u001B[39momega[name] \u001B[38;5;241m+\u001B[39m\u001B[38;5;241m=\u001B[39m \u001B[43m(\u001B[49m\u001B[38;5;28;43mlen\u001B[39;49m\u001B[43m(\u001B[49m\u001B[43mctx\u001B[49m\u001B[38;5;241;43m.\u001B[39;49m\u001B[43mdata_batch\u001B[49m\u001B[38;5;241;43m.\u001B[39;49m\u001B[43my\u001B[49m\u001B[43m)\u001B[49m\u001B[43m \u001B[49m\u001B[38;5;241;43m/\u001B[39;49m\u001B[43m \u001B[49m\u001B[38;5;28;43mlen\u001B[39;49m\u001B[43m(\u001B[49m\n\u001B[1;32m    151\u001B[0m \u001B[43m            \u001B[49m\u001B[43mctx\u001B[49m\u001B[38;5;241;43m.\u001B[39;49m\u001B[43mdata\u001B[49m\u001B[43m[\u001B[49m\u001B[38;5;124;43m'\u001B[39;49m\u001B[38;5;124;43mtrain\u001B[39;49m\u001B[38;5;124;43m'\u001B[39;49m\u001B[43m]\u001B[49m\u001B[38;5;241;43m.\u001B[39;49m\u001B[43mdataset\u001B[49m\u001B[43m)\u001B[49m\u001B[43m)\u001B[49m\u001B[43m \u001B[49m\u001B[38;5;241;43m*\u001B[39;49m\u001B[43m \u001B[49m\u001B[43mparam\u001B[49m\u001B[38;5;241;43m.\u001B[39;49m\u001B[43mgrad\u001B[49m\u001B[38;5;241;43m.\u001B[39;49m\u001B[43mdata\u001B[49m\u001B[43m \u001B[49m\u001B[38;5;241;43m*\u001B[39;49m\u001B[38;5;241;43m*\u001B[39;49m\u001B[43m \u001B[49m\u001B[38;5;241;43m2\u001B[39;49m\n\u001B[1;32m    152\u001B[0m et \u001B[38;5;241m=\u001B[39m time\u001B[38;5;241m.\u001B[39mtime()\n\u001B[1;32m    154\u001B[0m ctx\u001B[38;5;241m.\u001B[39moptimizer\u001B[38;5;241m.\u001B[39mzero_grad()\n",
      "\u001B[0;31mKeyboardInterrupt\u001B[0m: "
     ]
    }
   ],
   "source": [
    "from federatedscope.contrib.workers.laplacian_client import LaplacianClient\n",
    "from federatedscope.contrib.workers.laplacian_server import LaplacianServer\n",
    "\n",
    "Fed_runner = FedRunner(data=data,\n",
    "                       server_class=LaplacianServer,\n",
    "                       client_class=LaplacianClient,\n",
    "                       config=cfg.clone(),\n",
    "                       client_config=client_cfg)\n",
    "Fed_runner.run()"
   ],
   "metadata": {
    "collapsed": false
   }
  },
  {
   "cell_type": "markdown",
   "source": [
    "client 0 times: 0.346s\n",
    "bei normal fedavg: 0.15s\n",
    "mit MINE: 1.7 Sekunden"
   ],
   "metadata": {
    "collapsed": false
   }
  },
  {
   "cell_type": "markdown",
   "source": [],
   "metadata": {
    "collapsed": false
   }
  },
  {
   "cell_type": "markdown",
   "source": [
    "\n",
    "+"
   ],
   "metadata": {
    "collapsed": false
   }
  },
  {
   "cell_type": "code",
   "execution_count": 11,
   "outputs": [
    {
     "data": {
      "text/plain": "346"
     },
     "execution_count": 11,
     "metadata": {},
     "output_type": "execute_result"
    }
   ],
   "source": [
    "777-431\n"
   ],
   "metadata": {
    "collapsed": false
   }
  },
  {
   "cell_type": "markdown",
   "source": [],
   "metadata": {
    "collapsed": false
   }
  },
  {
   "cell_type": "code",
   "execution_count": 13,
   "outputs": [
    {
     "data": {
      "text/plain": "{1: {'train': <torch_geometric.loader.dataloader.DataLoader at 0x7f4ebc607190>,\n  'val': <torch_geometric.loader.dataloader.DataLoader at 0x7f4de953c910>,\n  'test': <torch_geometric.loader.dataloader.DataLoader at 0x7f4e247e3970>,\n  'num_label': 0},\n 2: {'train': <torch_geometric.loader.dataloader.DataLoader at 0x7f4ebc607190>,\n  'val': <torch_geometric.loader.dataloader.DataLoader at 0x7f4de953c910>,\n  'test': <torch_geometric.loader.dataloader.DataLoader at 0x7f4e247e3970>,\n  'num_label': 0}}"
     },
     "execution_count": 13,
     "metadata": {},
     "output_type": "execute_result"
    }
   ],
   "source": [
    "data"
   ],
   "metadata": {
    "collapsed": false
   }
  },
  {
   "cell_type": "code",
   "execution_count": null,
   "outputs": [],
   "source": [],
   "metadata": {
    "collapsed": false
   }
  },
  {
   "cell_type": "markdown",
   "source": [],
   "metadata": {
    "collapsed": false
   }
  },
  {
   "cell_type": "markdown",
   "source": [],
   "metadata": {
    "collapsed": false
   }
  },
  {
   "cell_type": "code",
   "execution_count": null,
   "outputs": [],
   "source": [],
   "metadata": {
    "collapsed": false
   }
  },
  {
   "cell_type": "code",
   "execution_count": null,
   "outputs": [],
   "source": [
    "import os"
   ],
   "metadata": {
    "collapsed": false
   }
  },
  {
   "cell_type": "markdown",
   "source": [
    ",,0After 10 rounds:\n",
    "\n",
    "diff: 0, csd: 0:\n",
    "server: -8\n",
    "c1 t/val: 0.375 /0.37\n",
    "c2 t/val: 0.678 /0.606\n",
    "c3 t/val: 0.699 /0.608\n",
    "c4 t/val: 0.599 /0.537\n",
    "\n",
    "diff: 0, csd: 0:\n",
    "server: -4.5\n",
    "c1 t/val: 0.372879 /0.328\n",
    "c2 t/val: 0.678992 /0.605809\n",
    "c3 t/val: 0.70166 /0.608609\n",
    "c4 t/val: 0.597455 /0.534253\n",
    "\n",
    "\n",
    "\n",
    "diff: 10, csd: 0:\n",
    "server: -35\n",
    "c1 t/val: 0.482/0.52\n",
    "c2 t/val: 0.694/0.65\n",
    "c3 t/val: 0.724/0.65\n",
    "c4 t/val: 0.674/0.575\n",
    "\n",
    "diff: 1, csd: 0:\n",
    "server: -9.6\n",
    "c1 t/val: 0.378194/0.319349\n",
    "c2 t/val: 0.67461/0.609163\n",
    "c3 t/val: 0.705559/0.615019\n",
    "c4 t/val: 0.605581/0.572086\n",
    "\n",
    "diff: 0, csd: 1e4:\n",
    "server: -18\n",
    "c1 t/val: 0.280962/0.23074\n",
    "c2 t/val: 0.682652/0.603175\n",
    "c3 t/val: 0.699094/0.67027\n",
    "c4 t/val: 0.594985/0.609611\n",
    "\n",
    "diff: 0 csd: 1e8\n",
    "server: -18\n",
    "c1 t/val: 0.2606/0.348(0.197)\n",
    "c2 t/val: 0.653/0.0.602\n",
    "c3 t/val: 0.691/0.597\n",
    "c4 t/val: 0.581/0.629\n",
    "\n",
    "diff: 0 csd: 1e8\n",
    "server: -12.7\n",
    "c1 t/val: 0.262647/0.249875\n",
    "c2 t/val: 0.649273/0.0.600435\n",
    "c3 t/val: 0.696132/0.615158\n",
    "c4 t/val: 0.586597/0.656992\n",
    "\n",
    "\n",
    "diff: 0.1 csd: 0\n",
    "server: -11\n",
    "c1 t/val: 0.2606/0.332837\n",
    "c2 t/val: 0.678326/0.0.610099\n",
    "c3 t/val: 0.704083/0.616179\n",
    "c4 t/val: 0.604177/0.559658\n",
    "\n",
    "\n"
   ],
   "metadata": {
    "collapsed": false
   }
  },
  {
   "cell_type": "code",
   "execution_count": 3,
   "outputs": [],
   "source": [],
   "metadata": {
    "collapsed": false
   }
  },
  {
   "cell_type": "code",
   "execution_count": 4,
   "outputs": [
    {
     "ename": "NameError",
     "evalue": "name 'os' is not defined",
     "output_type": "error",
     "traceback": [
      "\u001B[0;31m---------------------------------------------------------------------------\u001B[0m",
      "\u001B[0;31mNameError\u001B[0m                                 Traceback (most recent call last)",
      "Cell \u001B[0;32mIn [4], line 1\u001B[0m\n\u001B[0;32m----> 1\u001B[0m \u001B[43mos\u001B[49m\u001B[38;5;241m.\u001B[39menviron[\u001B[38;5;124m'\u001B[39m\u001B[38;5;124mCUBLAS_WORKSPACE_CONFIG\u001B[39m\u001B[38;5;124m'\u001B[39m]\n",
      "\u001B[0;31mNameError\u001B[0m: name 'os' is not defined"
     ]
    }
   ],
   "source": [
    "os.environ['CUBLAS_WORKSPACE_CONFIG']"
   ],
   "metadata": {
    "collapsed": false
   }
  },
  {
   "cell_type": "code",
   "execution_count": null,
   "outputs": [],
   "source": [],
   "metadata": {
    "collapsed": false
   }
  },
  {
   "cell_type": "code",
   "execution_count": null,
   "outputs": [],
   "source": [],
   "metadata": {
    "collapsed": false
   }
  },
  {
   "cell_type": "code",
   "execution_count": null,
   "outputs": [],
   "source": [],
   "metadata": {
    "collapsed": false
   }
  },
  {
   "cell_type": "code",
   "execution_count": null,
   "outputs": [],
   "source": [],
   "metadata": {
    "collapsed": false
   }
  },
  {
   "cell_type": "code",
   "execution_count": null,
   "outputs": [],
   "source": [],
   "metadata": {
    "collapsed": false
   }
  },
  {
   "cell_type": "code",
   "execution_count": null,
   "outputs": [],
   "source": [],
   "metadata": {
    "collapsed": false
   }
  },
  {
   "cell_type": "code",
   "execution_count": null,
   "outputs": [],
   "source": [],
   "metadata": {
    "collapsed": false
   }
  },
  {
   "cell_type": "code",
   "execution_count": null,
   "outputs": [],
   "source": [],
   "metadata": {
    "collapsed": false
   }
  },
  {
   "cell_type": "code",
   "execution_count": null,
   "outputs": [],
   "source": [],
   "metadata": {
    "collapsed": false
   }
  },
  {
   "cell_type": "code",
   "execution_count": null,
   "outputs": [],
   "source": [],
   "metadata": {
    "collapsed": false
   }
  },
  {
   "cell_type": "code",
   "execution_count": null,
   "outputs": [],
   "source": [],
   "metadata": {
    "collapsed": false
   }
  },
  {
   "cell_type": "code",
   "execution_count": null,
   "outputs": [],
   "source": [],
   "metadata": {
    "collapsed": false
   }
  },
  {
   "cell_type": "code",
   "execution_count": null,
   "outputs": [],
   "source": [],
   "metadata": {
    "collapsed": false
   }
  },
  {
   "cell_type": "code",
   "execution_count": null,
   "outputs": [],
   "source": [],
   "metadata": {
    "collapsed": false
   }
  },
  {
   "cell_type": "code",
   "execution_count": null,
   "outputs": [],
   "source": [],
   "metadata": {
    "collapsed": false
   }
  },
  {
   "cell_type": "code",
   "execution_count": null,
   "outputs": [],
   "source": [],
   "metadata": {
    "collapsed": false
   }
  }
 ],
 "metadata": {
  "kernelspec": {
   "display_name": "Python 3",
   "language": "python",
   "name": "python3"
  },
  "language_info": {
   "codemirror_mode": {
    "name": "ipython",
    "version": 2
   },
   "file_extension": ".py",
   "mimetype": "text/x-python",
   "name": "python",
   "nbconvert_exporter": "python",
   "pygments_lexer": "ipython2",
   "version": "2.7.6"
  }
 },
 "nbformat": 4,
 "nbformat_minor": 0
}
