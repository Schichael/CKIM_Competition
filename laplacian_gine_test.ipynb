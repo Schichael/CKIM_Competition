{
 "cells": [
  {
   "cell_type": "markdown",
   "source": [],
   "metadata": {
    "collapsed": false
   }
  },
  {
   "cell_type": "code",
   "execution_count": null,
   "outputs": [],
   "source": [],
   "metadata": {
    "collapsed": false
   }
  },
  {
   "cell_type": "code",
   "execution_count": 1,
   "outputs": [],
   "source": [
    "from federatedscope.register import register_data\n",
    "from federatedscope.register import register_trainer\n",
    "from federatedscope.register import register_metric\n",
    "from federatedscope.register import register_model\n"
   ],
   "metadata": {
    "collapsed": false
   }
  },
  {
   "cell_type": "code",
   "execution_count": 1,
   "outputs": [],
   "source": [],
   "metadata": {
    "collapsed": false
   }
  },
  {
   "cell_type": "markdown",
   "source": [],
   "metadata": {
    "collapsed": false
   }
  },
  {
   "cell_type": "code",
   "execution_count": 2,
   "outputs": [],
   "source": [
    "from federatedscope.contrib.data.cikm_cup import call_cikm_cup_data\n",
    "\n",
    "register_data(\"cikm_cup\", call_cikm_cup_data)"
   ],
   "metadata": {
    "collapsed": false
   }
  },
  {
   "cell_type": "markdown",
   "source": [
    "### Register model"
   ],
   "metadata": {
    "collapsed": false
   }
  },
  {
   "cell_type": "code",
   "execution_count": 3,
   "outputs": [],
   "source": [
    "#from federatedscope.contrib.model.mnist_model import call_my_net\n",
    "#register_model(\"mynet\", call_my_net)"
   ],
   "metadata": {
    "collapsed": false
   }
  },
  {
   "cell_type": "code",
   "execution_count": 3,
   "outputs": [],
   "source": [],
   "metadata": {
    "collapsed": false
   }
  },
  {
   "cell_type": "markdown",
   "source": [
    "### Register trainer"
   ],
   "metadata": {
    "collapsed": false
   }
  },
  {
   "cell_type": "code",
   "execution_count": 4,
   "outputs": [],
   "source": [
    "from federatedscope.contrib.trainer.laplacian_trainer import call_laplacian_trainer\n",
    "\n",
    "register_trainer('laplacian_trainer', call_laplacian_trainer)"
   ],
   "metadata": {
    "collapsed": false
   }
  },
  {
   "cell_type": "markdown",
   "source": [
    " 89.1### Register metric"
   ],
   "metadata": {
    "collapsed": false
   }
  },
  {
   "cell_type": "markdown",
   "source": [
    "### Create the config"
   ],
   "metadata": {
    "collapsed": false
   }
  },
  {
   "cell_type": "markdown",
   "source": [
    "#### Set data, model, trainer and metric"
   ],
   "metadata": {
    "collapsed": false
   }
  },
  {
   "cell_type": "code",
   "execution_count": 5,
   "outputs": [],
   "source": [
    "from federatedscope.core.configs.config import global_cfg, CN\n",
    "cfg = global_cfg.clone()\n",
    "\n",
    "cfg.merge_from_file(\"federatedscope/gfl/baseline/laplacian_gine_on_cikmcup.yaml\")\n",
    "#cfg.data.type = 'cikm_cup'\n",
    "#cfg.data.root = 'data'\n",
    "#cfg.data.shuffle=True\n",
    "#cfg.data.transform = [['ToTensor'], ['Normalize', {'mean': [0.], 'std': [1]}]]\n",
    "#cfg.model.type = 'gin'\n",
    "#cfg.model.out_channels = 10\n",
    "#cfg.model.hidden = 64\n",
    "#cfg.model.task='graph'\n",
    "#cfg.model.dropout = 0.5\n",
    "#cfg.personalization.local_param = ['encoder_atom', 'encoder', 'clf']#['node_encoder', 'clf']\n",
    "#cfg.train.batch_or_epoch = \"epoch\"\n",
    "#cfg.trainer.type = 'laplacian_trainer'\n",
    "#cfg.data.batch_size = 64\n",
    "# cfg.eval.metric = ['mymetric']\n",
    "\n",
    "cfg.params = CN()\n",
    "cfg.params.alpha=0.1\n",
    "cfg.params.csd_importance=1e2\n",
    "cfg.params.eps=1e-15\n",
    "cfg.params.p=0."
   ],
   "metadata": {
    "collapsed": false
   }
  },
  {
   "cell_type": "markdown",
   "source": [
    "#### configure other options"
   ],
   "metadata": {
    "collapsed": false
   }
  },
  {
   "cell_type": "code",
   "execution_count": 6,
   "outputs": [],
   "source": [
    "#cfg.use_gpu = True\n",
    "#cfg.best_res_update_round_wise_key = \"test_loss\"\n",
    "\n",
    "#cfg.federate.mode = 'standalone'\n",
    "cfg.federate.method = 'test'  # 'Laplacian_batch_all_clients_csd_1e3_new'\n",
    "#cfg.federate.local_update_steps = 20000000\n",
    "#cfg.personalization.local_update_steps = 20000000\n",
    "#cfg.finetune.local_update_steps = 20000000\n",
    "#cfg.train.local_update_steps = 1\n",
    "\n",
    "cfg.federate.total_round_num = 20000\n",
    "\n",
    "cfg.federate.client_num = 13\n",
    "cfg.early_stop.patience = 20000\n",
    "#cfg.train.optimizer.lr = 0.001\n",
    "#cfg.train.optimizer.weight_decay = 0.0005\n",
    "#cfg.grad.grad_clip = 5.0\n",
    "#cfg.criterion.type = 'CrossEntropyLoss'\n",
    "#cfg.seed = 123\n",
    "cfg.eval.freq = 1\n",
    "cfg.eval.metrics = ['imp_ratio']\n",
    "cfg.eval.report = ['avg']\n",
    "cfg.eval.best_res_update_round_wise_key = 'val_imp_ratio'\n",
    "cfg.eval.count_flops = False\n",
    "cfg.model.hidden=64\n"
   ],
   "metadata": {
    "collapsed": false
   }
  },
  {
   "cell_type": "code",
   "execution_count": 7,
   "outputs": [],
   "source": [
    "import torch\n",
    "#torch.manual_seed(0)\n",
    "#torch.backends.cudnn.benchmark = False\n",
    "#torch.use_deterministic_algorithms(False)\n",
    "#import random\n",
    "#random.seed(0)\n",
    "#import numpy as np\n",
    "#np.random.seed(0)"
   ],
   "metadata": {
    "collapsed": false
   }
  },
  {
   "cell_type": "code",
   "execution_count": 8,
   "outputs": [],
   "source": [
    "from yacs.config import CfgNode\n",
    "client_cfg_file = \"federatedscope/gfl/baseline/laplacian_gine_on_cikmcup_per_client.yaml\"\n",
    "client_cfg = CfgNode.load_cfg(open(client_cfg_file,\n",
    "                                       'r')) if client_cfg_file else None\n"
   ],
   "metadata": {
    "collapsed": false
   }
  },
  {
   "cell_type": "markdown",
   "source": [
    "### Start the FL prosess"
   ],
   "metadata": {
    "collapsed": false
   }
  },
  {
   "cell_type": "code",
   "execution_count": 9,
   "outputs": [
    {
     "name": "stderr",
     "output_type": "stream",
     "text": [
      "2022-12-18 19:37:53,378 (trainer_builder:11)WARNING: No module named 'federatedscope.contrib.optimizer' in `federatedscope.contrib.trainer`, some modules are not available.\n"
     ]
    }
   ],
   "source": [
    "from federatedscope.core.auxiliaries.data_builder import get_data\n",
    "from federatedscope.core.auxiliaries.utils import setup_seed, update_logger\n",
    "from federatedscope.core.fed_runner import FedRunner\n",
    "from federatedscope.core.auxiliaries.worker_builder import get_server_cls, get_client_cls\n"
   ],
   "metadata": {
    "collapsed": false
   }
  },
  {
   "cell_type": "code",
   "execution_count": 10,
   "outputs": [
    {
     "name": "stderr",
     "output_type": "stream",
     "text": [
      "2022-12-18 19:37:53,636 (utils:129)INFO: the current machine is at 127.0.1.1\n",
      "2022-12-18 19:37:53,637 (utils:131)INFO: the current dir is /home/michael/Projects/CKIM_Competition\n",
      "2022-12-18 19:37:53,639 (utils:132)INFO: the output dir is exp/test_gin_on_cikmcup_lr0.1_lstep10_/sub_exp_20221218193753\n",
      "2022-12-18 19:37:53,789 (cikm_cup:57)INFO: Loading CIKMCUP data from /home/michael/Projects/CKIM_Competition/data/CIKM22Competition.\n",
      "2022-12-18 19:37:53,791 (cikm_cup:67)INFO: Loading CIKMCUP data for Client #1.\n",
      "2022-12-18 19:37:54,156 (cikm_cup:67)INFO: Loading CIKMCUP data for Client #2.\n"
     ]
    }
   ],
   "source": [
    "from federatedscope.contrib.workers.laplacian_client import LaplacianClient\n",
    "from federatedscope.contrib.workers.laplacian_server import LaplacianServer\n",
    "\n",
    "\n",
    "setup_seed(cfg.seed)\n",
    "update_logger(cfg)\n",
    "data, modified_cfg = get_data(cfg)\n",
    "cfg.merge_from_other_cfg(modified_cfg)\n"
   ],
   "metadata": {
    "collapsed": false
   }
  },
  {
   "cell_type": "code",
   "execution_count": 15,
   "outputs": [
    {
     "name": "stderr",
     "output_type": "stream",
     "text": [
      "2022-12-18 19:49:39,096 (fed_runner:249)INFO: Server #0 has been set up ... \n",
      "2022-12-18 19:49:39,193 (config:261)INFO: the used configs are: \n",
      "asyn:\n",
      "  min_received_num: 2\n",
      "  min_received_rate: -1.0\n",
      "  timeout: 0\n",
      "  use: True\n",
      "attack:\n",
      "  alpha_TV: 0.001\n",
      "  alpha_prop_loss: 0\n",
      "  attack_method: \n",
      "  attacker_id: -1\n",
      "  classifier_PIA: randomforest\n",
      "  info_diff_type: l2\n",
      "  inject_round: 0\n",
      "  max_ite: 400\n",
      "  reconstruct_lr: 0.01\n",
      "  reconstruct_optim: Adam\n",
      "  target_label_ind: -1\n",
      "backend: torch\n",
      "cfg_file: \n",
      "criterion:\n",
      "  type: CrossEntropyLoss\n",
      "data:\n",
      "  args: []\n",
      "  batch_size: 64\n",
      "  cSBM_phi: [0.5, 0.5, 0.5]\n",
      "  consistent_label_distribution: False\n",
      "  drop_last: False\n",
      "  graphsaint:\n",
      "    num_steps: 30\n",
      "    walk_length: 2\n",
      "  loader: \n",
      "  num_workers: 0\n",
      "  pre_transform: []\n",
      "  quadratic:\n",
      "    dim: 1\n",
      "    max_curv: 12.5\n",
      "    min_curv: 0.02\n",
      "  root: data/\n",
      "  server_holds_all: False\n",
      "  shuffle: True\n",
      "  sizes: [10, 5]\n",
      "  splits: [0.8, 0.1, 0.1]\n",
      "  splitter: \n",
      "  splitter_args: []\n",
      "  subsample: 1.0\n",
      "  target_transform: []\n",
      "  transform: []\n",
      "  type: cikmcup\n",
      "device: 0\n",
      "distribute:\n",
      "  use: False\n",
      "early_stop:\n",
      "  delta: 0.0\n",
      "  improve_indicator_mode: mean\n",
      "  patience: 20000\n",
      "  the_smaller_the_better: False\n",
      "eval:\n",
      "  base: 0.263789\n",
      "  best_res_update_round_wise_key: val_imp_ratio\n",
      "  count_flops: False\n",
      "  freq: 1\n",
      "  metrics: ['acc', 'imp_ratio']\n",
      "  monitoring: []\n",
      "  report: ['avg']\n",
      "  save_data: False\n",
      "  split: ['test', 'val']\n",
      "expname: test_gin_on_cikmcup_lr0.1_lstep10_\n",
      "expname_tag: \n",
      "federate:\n",
      "  client_num: 2\n",
      "  data_weighted_aggr: False\n",
      "  ignore_weight: False\n",
      "  join_in_info: []\n",
      "  make_global_eval: False\n",
      "  method: test\n",
      "  mode: standalone\n",
      "  online_aggr: False\n",
      "  restore_from: \n",
      "  sample_client_num: 2\n",
      "  sample_client_rate: -1.0\n",
      "  sampler: uniform\n",
      "  save_to: \n",
      "  share_local_model: False\n",
      "  total_round_num: 20000\n",
      "  unseen_clients_rate: 0.0\n",
      "  use_diff: False\n",
      "  use_ss: False\n",
      "fedopt:\n",
      "  use: False\n",
      "fedprox:\n",
      "  use: False\n",
      "fedsageplus:\n",
      "  a: 1.0\n",
      "  b: 1.0\n",
      "  c: 1.0\n",
      "  fedgen_epoch: 200\n",
      "  gen_hidden: 128\n",
      "  hide_portion: 0.5\n",
      "  loc_epoch: 1\n",
      "  num_pred: 5\n",
      "finetune:\n",
      "  batch_or_epoch: epoch\n",
      "  before_eval: False\n",
      "  freeze_param: \n",
      "  local_update_steps: 5000\n",
      "  optimizer:\n",
      "    lr: 0.1\n",
      "    type: SGD\n",
      "flitplus:\n",
      "  factor_ema: 0.8\n",
      "  lambdavat: 0.5\n",
      "  tmpFed: 0.5\n",
      "  weightReg: 1.0\n",
      "gcflplus:\n",
      "  EPS_1: 0.05\n",
      "  EPS_2: 0.1\n",
      "  seq_length: 5\n",
      "  standardize: False\n",
      "grad:\n",
      "  grad_clip: 2.0\n",
      "hpo:\n",
      "  fedex:\n",
      "    cutoff: 0.0\n",
      "    diff: False\n",
      "    eta0: -1.0\n",
      "    flatten_ss: True\n",
      "    gamma: 0.0\n",
      "    num_arms: 16\n",
      "    sched: auto\n",
      "    ss: \n",
      "    use: False\n",
      "  init_cand_num: 16\n",
      "  larger_better: False\n",
      "  log_scale: False\n",
      "  metric: client_summarized_weighted_avg.val_loss\n",
      "  num_workers: 0\n",
      "  pbt:\n",
      "    max_stage: 5\n",
      "    perf_threshold: 0.1\n",
      "  plot_interval: 1\n",
      "  scheduler: rs\n",
      "  sha:\n",
      "    budgets: []\n",
      "    elim_rate: 3\n",
      "    elim_round_num: 3\n",
      "  ss: \n",
      "  table:\n",
      "    eps: 0.1\n",
      "    idx: 0\n",
      "    num: 27\n",
      "    ss: \n",
      "  working_folder: hpo\n",
      "maml:\n",
      "  use: False\n",
      "model:\n",
      "  dropout: 0.0\n",
      "  embed_size: 8\n",
      "  graph_pooling: add\n",
      "  hidden: 64\n",
      "  in_channels: 0\n",
      "  layer: 2\n",
      "  model_num_per_trainer: 1\n",
      "  num_item: 0\n",
      "  num_user: 0\n",
      "  out_channels: 2\n",
      "  task: graphClassification\n",
      "  type: gin\n",
      "  use_bias: True\n",
      "nbafl:\n",
      "  use: False\n",
      "outdir: exp/test_gin_on_cikmcup_lr0.1_lstep10_/sub_exp_20221218193753\n",
      "params:\n",
      "  alpha: 0.1\n",
      "  csd_importance: 100.0\n",
      "  eps: 1e-15\n",
      "  p: 0.0\n",
      "personalization:\n",
      "  K: 5\n",
      "  beta: 1.0\n",
      "  local_param: ['encoder_atom', 'encoder', 'clf', 'bn_linear', 'local_gnn', 'emb', 'bn_dec', 'norms', 'norm', 'bn', 'linear_out1_loc', 'bn_linear2_loc', 'local', 'linear_out2', 'bn1', 'bn2', 'mine']\n",
      "  local_update_steps: 10\n",
      "  lr: 0.1\n",
      "  regular_weight: 0.1\n",
      "  share_non_trainable_para: False\n",
      "print_decimal_digits: 6\n",
      "regularizer:\n",
      "  mu: 0.0\n",
      "  type: \n",
      "seed: 0\n",
      "sgdmf:\n",
      "  use: False\n",
      "train:\n",
      "  batch_or_epoch: epoch\n",
      "  local_update_steps: 10\n",
      "  optimizer:\n",
      "    lr: 0.1\n",
      "    type: SGD\n",
      "    weight_decay: 0.0001\n",
      "trainer:\n",
      "  type: graphminibatch_trainer\n",
      "use_gpu: True\n",
      "verbose: 1\n",
      "vertical:\n",
      "  use: False\n",
      "wandb:\n",
      "  use: False\n"
     ]
    },
    {
     "name": "stdout",
     "output_type": "stream",
     "text": [
      "track_running_stats: True\n",
      "track_running_stats: True\n",
      "track_running_stats: True\n",
      "track_running_stats: True\n",
      "server params: \n",
      "encoder_atom.atom_embedding_list.0.weight\n",
      "encoder_atom.atom_embedding_list.1.weight\n",
      "encoder_atom.atom_embedding_list.2.weight\n",
      "encoder_atom.atom_embedding_list.3.weight\n",
      "encoder_atom.atom_embedding_list.4.weight\n",
      "encoder_atom.atom_embedding_list.5.weight\n",
      "encoder_atom.atom_embedding_list.6.weight\n",
      "encoder_atom.atom_embedding_list.7.weight\n",
      "encoder_atom.atom_embedding_list.8.weight\n",
      "encoder_atom.atom_embedding_list.9.weight\n",
      "encoder_atom.atom_embedding_list.10.weight\n",
      "encoder_atom.atom_embedding_list.11.weight\n",
      "encoder_atom.atom_embedding_list.12.weight\n",
      "encoder_atom.atom_embedding_list.13.weight\n",
      "encoder_atom.atom_embedding_list.14.weight\n",
      "encoder_atom.atom_embedding_list.15.weight\n",
      "encoder_atom.atom_embedding_list.16.weight\n",
      "encoder_atom.atom_embedding_list.17.weight\n",
      "encoder_atom.atom_embedding_list.18.weight\n",
      "encoder_atom.atom_embedding_list.19.weight\n",
      "encoder_atom.atom_embedding_list.20.weight\n",
      "encoder_atom.atom_embedding_list.21.weight\n",
      "encoder.weight\n",
      "encoder.bias\n",
      "gnn.convs.0.nn.linears.0.weight\n",
      "gnn.convs.0.nn.linears.0.bias\n",
      "gnn.convs.0.nn.linears.1.weight\n",
      "gnn.convs.0.nn.linears.1.bias\n",
      "gnn.convs.0.nn.norms.0.weight\n",
      "gnn.convs.0.nn.norms.0.bias\n",
      "gnn.convs.0.nn.norms.1.weight\n",
      "gnn.convs.0.nn.norms.1.bias\n",
      "gnn.convs.1.nn.linears.0.weight\n",
      "gnn.convs.1.nn.linears.0.bias\n",
      "gnn.convs.1.nn.linears.1.weight\n",
      "gnn.convs.1.nn.linears.1.bias\n",
      "gnn.convs.1.nn.norms.0.weight\n",
      "gnn.convs.1.nn.norms.0.bias\n",
      "gnn.convs.1.nn.norms.1.weight\n",
      "gnn.convs.1.nn.norms.1.bias\n",
      "linear.0.weight\n",
      "linear.0.bias\n",
      "clf.weight\n",
      "clf.bias\n"
     ]
    },
    {
     "name": "stderr",
     "output_type": "stream",
     "text": [
      "2022-12-18 19:49:39,281 (trainer:50)WARNING: Will not use monitor in trainer with class <class 'federatedscope.contrib.trainer.laplacian_trainer.LaplacianTrainer'>\n",
      "2022-12-18 19:49:39,284 (fed_runner:302)INFO: Client 1 has been set up ... \n",
      "2022-12-18 19:49:39,384 (config:261)INFO: the used configs are: \n",
      "asyn:\n",
      "  min_received_num: 2\n",
      "  min_received_rate: -1.0\n",
      "  timeout: 0\n",
      "  use: True\n",
      "attack:\n",
      "  alpha_TV: 0.001\n",
      "  alpha_prop_loss: 0\n",
      "  attack_method: \n",
      "  attacker_id: -1\n",
      "  classifier_PIA: randomforest\n",
      "  info_diff_type: l2\n",
      "  inject_round: 0\n",
      "  max_ite: 400\n",
      "  reconstruct_lr: 0.01\n",
      "  reconstruct_optim: Adam\n",
      "  target_label_ind: -1\n",
      "backend: torch\n",
      "cfg_file: \n",
      "criterion:\n",
      "  type: CrossEntropyLoss\n",
      "data:\n",
      "  args: []\n",
      "  batch_size: 64\n",
      "  cSBM_phi: [0.5, 0.5, 0.5]\n",
      "  consistent_label_distribution: False\n",
      "  drop_last: False\n",
      "  graphsaint:\n",
      "    num_steps: 30\n",
      "    walk_length: 2\n",
      "  loader: \n",
      "  num_workers: 0\n",
      "  pre_transform: []\n",
      "  quadratic:\n",
      "    dim: 1\n",
      "    max_curv: 12.5\n",
      "    min_curv: 0.02\n",
      "  root: data/\n",
      "  server_holds_all: False\n",
      "  shuffle: True\n",
      "  sizes: [10, 5]\n",
      "  splits: [0.8, 0.1, 0.1]\n",
      "  splitter: \n",
      "  splitter_args: []\n",
      "  subsample: 1.0\n",
      "  target_transform: []\n",
      "  transform: []\n",
      "  type: cikmcup\n",
      "device: 0\n",
      "distribute:\n",
      "  use: False\n",
      "early_stop:\n",
      "  delta: 0.0\n",
      "  improve_indicator_mode: mean\n",
      "  patience: 20000\n",
      "  the_smaller_the_better: False\n",
      "eval:\n",
      "  base: 0.289617\n",
      "  best_res_update_round_wise_key: val_imp_ratio\n",
      "  count_flops: False\n",
      "  freq: 1\n",
      "  metrics: ['imp_ratio', 'accuracy']\n",
      "  monitoring: []\n",
      "  report: ['avg']\n",
      "  save_data: False\n",
      "  split: ['test', 'val']\n",
      "expname: test_gin_on_cikmcup_lr0.1_lstep10_\n",
      "expname_tag: \n",
      "federate:\n",
      "  client_num: 2\n",
      "  data_weighted_aggr: False\n",
      "  ignore_weight: False\n",
      "  join_in_info: []\n",
      "  make_global_eval: False\n",
      "  method: test\n",
      "  mode: standalone\n",
      "  online_aggr: False\n",
      "  restore_from: \n",
      "  sample_client_num: 2\n",
      "  sample_client_rate: -1.0\n",
      "  sampler: uniform\n",
      "  save_to: \n",
      "  share_local_model: False\n",
      "  total_round_num: 20000\n",
      "  unseen_clients_rate: 0.0\n",
      "  use_diff: False\n",
      "  use_ss: False\n",
      "fedopt:\n",
      "  use: False\n",
      "fedprox:\n",
      "  use: False\n",
      "fedsageplus:\n",
      "  a: 1.0\n",
      "  b: 1.0\n",
      "  c: 1.0\n",
      "  fedgen_epoch: 200\n",
      "  gen_hidden: 128\n",
      "  hide_portion: 0.5\n",
      "  loc_epoch: 1\n",
      "  num_pred: 5\n",
      "finetune:\n",
      "  batch_or_epoch: epoch\n",
      "  before_eval: False\n",
      "  freeze_param: \n",
      "  local_update_steps: 5000\n",
      "  optimizer:\n",
      "    lr: 0.1\n",
      "    type: SGD\n",
      "flitplus:\n",
      "  factor_ema: 0.8\n",
      "  lambdavat: 0.5\n",
      "  tmpFed: 0.5\n",
      "  weightReg: 1.0\n",
      "gcflplus:\n",
      "  EPS_1: 0.05\n",
      "  EPS_2: 0.1\n",
      "  seq_length: 5\n",
      "  standardize: False\n",
      "grad:\n",
      "  grad_clip: 2.0\n",
      "hpo:\n",
      "  fedex:\n",
      "    cutoff: 0.0\n",
      "    diff: False\n",
      "    eta0: -1.0\n",
      "    flatten_ss: True\n",
      "    gamma: 0.0\n",
      "    num_arms: 16\n",
      "    sched: auto\n",
      "    ss: \n",
      "    use: False\n",
      "  init_cand_num: 16\n",
      "  larger_better: False\n",
      "  log_scale: False\n",
      "  metric: client_summarized_weighted_avg.val_loss\n",
      "  num_workers: 0\n",
      "  pbt:\n",
      "    max_stage: 5\n",
      "    perf_threshold: 0.1\n",
      "  plot_interval: 1\n",
      "  scheduler: rs\n",
      "  sha:\n",
      "    budgets: []\n",
      "    elim_rate: 3\n",
      "    elim_round_num: 3\n",
      "  ss: \n",
      "  table:\n",
      "    eps: 0.1\n",
      "    idx: 0\n",
      "    num: 27\n",
      "    ss: \n",
      "  working_folder: hpo\n",
      "maml:\n",
      "  use: False\n",
      "model:\n",
      "  dropout: 0.0\n",
      "  embed_size: 8\n",
      "  graph_pooling: add\n",
      "  hidden: 64\n",
      "  in_channels: 0\n",
      "  layer: 2\n",
      "  model_num_per_trainer: 1\n",
      "  num_item: 0\n",
      "  num_user: 0\n",
      "  out_channels: 2\n",
      "  task: graphClassification\n",
      "  type: gin\n",
      "  use_bias: True\n",
      "nbafl:\n",
      "  use: False\n",
      "outdir: exp/test_gin_on_cikmcup_lr0.1_lstep10_/sub_exp_20221218193753\n",
      "params:\n",
      "  alpha: 0.1\n",
      "  csd_importance: 100.0\n",
      "  eps: 1e-15\n",
      "  p: 0.0\n",
      "personalization:\n",
      "  K: 5\n",
      "  beta: 1.0\n",
      "  local_param: ['encoder_atom', 'encoder', 'clf', 'bn_linear', 'local_gnn', 'emb', 'bn_dec', 'norms', 'norm', 'bn', 'linear_out1_loc', 'bn_linear2_loc', 'local', 'linear_out2', 'bn1', 'bn2', 'mine']\n",
      "  local_update_steps: 10\n",
      "  lr: 0.1\n",
      "  regular_weight: 0.1\n",
      "  share_non_trainable_para: False\n",
      "print_decimal_digits: 6\n",
      "regularizer:\n",
      "  mu: 0.0\n",
      "  type: \n",
      "seed: 0\n",
      "sgdmf:\n",
      "  use: False\n",
      "train:\n",
      "  batch_or_epoch: epoch\n",
      "  local_update_steps: 10\n",
      "  optimizer:\n",
      "    lr: 0.001\n",
      "    type: SGD\n",
      "    weight_decay: 0.0001\n",
      "trainer:\n",
      "  type: graphminibatch_trainer\n",
      "use_gpu: True\n",
      "verbose: 1\n",
      "vertical:\n",
      "  use: False\n",
      "wandb:\n",
      "  use: False\n"
     ]
    },
    {
     "name": "stdout",
     "output_type": "stream",
     "text": [
      "track_running_stats: True\n",
      "track_running_stats: True\n",
      "track_running_stats: True\n",
      "track_running_stats: True\n",
      "track_running_stats: True\n",
      "track_running_stats: True\n",
      "track_running_stats: True\n",
      "track_running_stats: True\n"
     ]
    },
    {
     "name": "stderr",
     "output_type": "stream",
     "text": [
      "2022-12-18 19:49:39,455 (trainer:50)WARNING: Will not use monitor in trainer with class <class 'federatedscope.contrib.trainer.laplacian_trainer.LaplacianTrainer'>\n",
      "2022-12-18 19:49:39,457 (fed_runner:302)INFO: Client 2 has been set up ... \n",
      "2022-12-18 19:49:39,458 (trainer:324)INFO: Model meta-info: <class 'federatedscope.gfl.model.graph_level.GNN_Net_Graph'>.\n",
      "2022-12-18 19:49:39,464 (trainer:332)INFO: Num of original para names: 58.\n",
      "2022-12-18 19:49:39,465 (trainer:333)INFO: Num of original trainable para names: 44.\n",
      "2022-12-18 19:49:39,466 (trainer:335)INFO: Num of preserved para names in local update: 12. \n",
      "Preserved para names in local update: {'gnn.convs.0.nn.linears.1.weight', 'gnn.convs.0.eps', 'gnn.convs.1.nn.linears.1.bias', 'linear.0.weight', 'gnn.convs.0.nn.linears.0.bias', 'gnn.convs.1.nn.linears.0.bias', 'gnn.convs.1.nn.linears.1.weight', 'gnn.convs.0.nn.linears.1.bias', 'gnn.convs.0.nn.linears.0.weight', 'linear.0.bias', 'gnn.convs.1.nn.linears.0.weight', 'gnn.convs.1.eps'}.\n",
      "2022-12-18 19:49:39,467 (trainer:339)INFO: Num of filtered para names in local update: 46. \n",
      "Filtered para names in local update: {'encoder_atom.atom_embedding_list.20.weight', 'encoder_atom.atom_embedding_list.14.weight', 'encoder_atom.atom_embedding_list.2.weight', 'gnn.convs.1.nn.norms.1.running_mean', 'encoder_atom.atom_embedding_list.16.weight', 'gnn.convs.0.nn.norms.1.weight', 'encoder_atom.atom_embedding_list.5.weight', 'encoder_atom.atom_embedding_list.8.weight', 'gnn.convs.0.nn.norms.1.running_mean', 'clf.weight', 'encoder_atom.atom_embedding_list.11.weight', 'gnn.convs.0.nn.norms.0.weight', 'encoder_atom.atom_embedding_list.9.weight', 'encoder_atom.atom_embedding_list.12.weight', 'encoder_atom.atom_embedding_list.21.weight', 'gnn.convs.1.nn.norms.1.weight', 'gnn.convs.0.nn.norms.0.running_var', 'gnn.convs.1.nn.norms.0.bias', 'encoder_atom.atom_embedding_list.18.weight', 'encoder_atom.atom_embedding_list.1.weight', 'encoder.bias', 'encoder_atom.atom_embedding_list.4.weight', 'gnn.convs.1.nn.norms.0.weight', 'gnn.convs.0.nn.norms.1.running_var', 'gnn.convs.1.nn.norms.1.num_batches_tracked', 'gnn.convs.1.nn.norms.0.num_batches_tracked', 'encoder.weight', 'gnn.convs.1.nn.norms.1.bias', 'encoder_atom.atom_embedding_list.17.weight', 'gnn.convs.0.nn.norms.0.num_batches_tracked', 'gnn.convs.1.nn.norms.0.running_mean', 'encoder_atom.atom_embedding_list.10.weight', 'gnn.convs.1.nn.norms.0.running_var', 'encoder_atom.atom_embedding_list.13.weight', 'encoder_atom.atom_embedding_list.0.weight', 'encoder_atom.atom_embedding_list.15.weight', 'gnn.convs.1.nn.norms.1.running_var', 'gnn.convs.0.nn.norms.1.num_batches_tracked', 'clf.bias', 'gnn.convs.0.nn.norms.0.running_mean', 'gnn.convs.0.nn.norms.0.bias', 'encoder_atom.atom_embedding_list.19.weight', 'encoder_atom.atom_embedding_list.6.weight', 'encoder_atom.atom_embedding_list.3.weight', 'encoder_atom.atom_embedding_list.7.weight', 'gnn.convs.0.nn.norms.1.bias'}.\n",
      "2022-12-18 19:49:39,475 (trainer:344)INFO: After register default hooks,\n",
      "\tthe hooks_in_train is:\n",
      "\t{\n",
      "\t  \"on_fit_start\": [\n",
      "\t    \"_hook_on_fit_start_init\",\n",
      "\t    \"_hook_on_fit_start_calculate_model_size\"\n",
      "\t  ],\n",
      "\t  \"on_epoch_start\": [\n",
      "\t    \"_hook_on_epoch_start\"\n",
      "\t  ],\n",
      "\t  \"on_batch_start\": [\n",
      "\t    \"_hook_on_batch_start_init\"\n",
      "\t  ],\n",
      "\t  \"on_batch_forward\": [\n",
      "\t    \"_hook_on_batch_forward\",\n",
      "\t    \"_hook_on_batch_forward_regularizer\",\n",
      "\t    \"_hook_on_batch_forward_flop_count\"\n",
      "\t  ],\n",
      "\t  \"on_batch_backward\": [\n",
      "\t    \"_hook_on_batch_backward\"\n",
      "\t  ],\n",
      "\t  \"on_batch_end\": [\n",
      "\t    \"_hook_on_batch_end\"\n",
      "\t  ],\n",
      "\t  \"on_fit_end\": [\n",
      "\t    \"_hook_on_fit_end\"\n",
      "\t  ]\n",
      "\t};\n",
      "\tthe hooks_in_eval is:\n",
      "            t{\n",
      "\t  \"on_fit_start\": [\n",
      "\t    \"_hook_on_fit_start_init\"\n",
      "\t  ],\n",
      "\t  \"on_epoch_start\": [\n",
      "\t    \"_hook_on_epoch_start\"\n",
      "\t  ],\n",
      "\t  \"on_batch_start\": [\n",
      "\t    \"_hook_on_batch_start_init\"\n",
      "\t  ],\n",
      "\t  \"on_batch_forward\": [\n",
      "\t    \"_hook_on_batch_forward\"\n",
      "\t  ],\n",
      "\t  \"on_batch_end\": [\n",
      "\t    \"_hook_on_batch_end\"\n",
      "\t  ],\n",
      "\t  \"on_fit_end\": [\n",
      "\t    \"_hook_on_fit_end\"\n",
      "\t  ]\n",
      "\t}\n",
      "2022-12-18 19:49:39,477 (server:628)INFO: ----------- Starting training (Round #0) -------------\n",
      "2022-12-18 19:50:00,069 (laplacian_client:118)INFO: {'Role': 'Client #1', 'Round': 0, 'Results_raw': {'train_avg_loss': 0.550673, 'train_total': 12490, 'train_acc': 0.729063, 'train_imp_ratio': 176.381218, 'train_loss': 6877.899823}}\n",
      "2022-12-18 19:50:03,023 (laplacian_client:118)INFO: {'Role': 'Client #2', 'Round': 0, 'Results_raw': {'train_avg_loss': 0.923178, 'train_total': 1810, 'train_imp_ratio': 56.617588, 'train_loss': 1670.952033}}\n",
      "2022-12-18 19:50:03,094 (laplacian_server:160)INFO: Server #0: Starting evaluation at the end of round 0.\n",
      "2022-12-18 19:50:03,116 (laplacian_server:167)INFO: ----------- Starting a new training round (Round #1) -------------\n",
      "2022-12-18 19:50:04,290 (client:410)INFO: {'Role': 'Client #1', 'Round': 1, 'Results_raw': {'test_avg_loss': 3.330479, 'test_total': 417, 'test_acc': 0.443645, 'test_imp_ratio': 68.181798, 'test_loss': 1388.809833, 'val_avg_loss': 2.327466, 'val_total': 416, 'val_acc': 0.548077, 'val_imp_ratio': 107.770954, 'val_loss': 968.226006}}\n",
      "2022-12-18 19:50:04,291 (monitor:513)INFO: current_best=107.770954, should_save=True\n",
      "2022-12-18 19:50:04,293 (client:431)INFO: Client: #1, val_imp_ratio: 107.770954. model saved at exp/test_gin_on_cikmcup_lr0.1_lstep10_/sub_exp_20221218193753/model1.pth\n",
      "2022-12-18 19:50:04,536 (client:410)INFO: {'Role': 'Client #2', 'Round': 1, 'Results_raw': {'test_avg_loss': 1.262764, 'test_total': 61, 'test_imp_ratio': -94.339613, 'test_loss': 77.028595, 'val_avg_loss': 0.858648, 'val_total': 60, 'val_imp_ratio': 49.622893, 'val_loss': 51.518894}}\n",
      "2022-12-18 19:50:04,537 (monitor:513)INFO: current_best=49.622893, should_save=True\n",
      "2022-12-18 19:50:04,538 (client:431)INFO: Client: #2, val_imp_ratio: 49.622893. model saved at exp/test_gin_on_cikmcup_lr0.1_lstep10_/sub_exp_20221218193753/model2.pth\n",
      "2022-12-18 19:50:24,600 (laplacian_client:118)INFO: {'Role': 'Client #1', 'Round': 1, 'Results_raw': {'train_avg_loss': 0.378464, 'train_total': 12490, 'train_acc': 0.822338, 'train_imp_ratio': 211.740774, 'train_loss': 4727.011814}}\n",
      "2022-12-18 19:50:27,456 (laplacian_client:118)INFO: {'Role': 'Client #2', 'Round': 1, 'Results_raw': {'train_avg_loss': 0.829908, 'train_total': 1810, 'train_imp_ratio': 50.703891, 'train_loss': 1502.133841}}\n",
      "2022-12-18 19:50:42,949 (server:480)INFO: {'Role': 'Server #', 'Round': 1, 'Results_avg': {'test_avg_loss': 2.296622, 'test_total': 239.0, 'test_acc': 0.443645, 'test_imp_ratio': -13.078907, 'test_loss': 732.919214, 'val_avg_loss': 1.593057, 'val_total': 238.0, 'val_acc': 0.548077, 'val_imp_ratio': 78.696924, 'val_loss': 509.87245}}\n",
      "2022-12-18 19:50:42,952 (monitor:513)INFO: current_best=-10000, should_save=False\n",
      "2022-12-18 19:51:27,205 (monitor:513)INFO: current_best=78.696924, should_save=True\n",
      "2022-12-18 19:51:27,284 (laplacian_server:160)INFO: Server #0: Starting evaluation at the end of round 1.\n",
      "2022-12-18 19:51:27,300 (laplacian_server:167)INFO: ----------- Starting a new training round (Round #2) -------------\n",
      "2022-12-18 19:51:28,422 (client:410)INFO: {'Role': 'Client #1', 'Round': 2, 'Results_raw': {'test_avg_loss': 0.850574, 'test_total': 417, 'test_acc': 0.589928, 'test_imp_ratio': 123.636337, 'test_loss': 354.689176, 'val_avg_loss': 0.515681, 'val_total': 416, 'val_acc': 0.745192, 'val_imp_ratio': 182.495596, 'val_loss': 214.52311}}\n",
      "2022-12-18 19:51:28,424 (monitor:513)INFO: current_best=182.495596, should_save=True\n",
      "2022-12-18 19:51:28,425 (client:431)INFO: Client: #1, val_imp_ratio: 182.495596. model saved at exp/test_gin_on_cikmcup_lr0.1_lstep10_/sub_exp_20221218193753/model1.pth\n",
      "2022-12-18 19:51:28,671 (client:410)INFO: {'Role': 'Client #2', 'Round': 2, 'Results_raw': {'test_avg_loss': 1.13497, 'test_total': 61, 'test_imp_ratio': -83.018839, 'test_loss': 69.233167, 'val_avg_loss': 0.887243, 'val_total': 60, 'val_imp_ratio': 43.868166, 'val_loss': 53.234575}}\n",
      "2022-12-18 19:51:28,673 (monitor:513)INFO: current_best=49.622893, should_save=False\n",
      "\n",
      "KeyboardInterrupt\n",
      "\n"
     ]
    }
   ],
   "source": [
    "Fed_runner = FedRunner(data=data,\n",
    "                       server_class=LaplacianServer,\n",
    "                       client_class=LaplacianClient,\n",
    "                       config=cfg.clone(),\n",
    "                       client_config=client_cfg)\n",
    "Fed_runner.run()"
   ],
   "metadata": {
    "collapsed": false
   }
  },
  {
   "cell_type": "markdown",
   "source": [
    "4"
   ],
   "metadata": {
    "collapsed": false
   }
  },
  {
   "cell_type": "code",
   "execution_count": null,
   "outputs": [],
   "source": [],
   "metadata": {
    "collapsed": false,
    "pycharm": {
     "is_executing": true
    }
   }
  },
  {
   "cell_type": "code",
   "execution_count": null,
   "outputs": [],
   "source": [],
   "metadata": {
    "collapsed": false
   }
  },
  {
   "cell_type": "code",
   "execution_count": null,
   "outputs": [],
   "source": [],
   "metadata": {
    "collapsed": false
   }
  },
  {
   "cell_type": "code",
   "execution_count": null,
   "outputs": [],
   "source": [
    "data"
   ],
   "metadata": {
    "collapsed": false
   }
  },
  {
   "cell_type": "code",
   "execution_count": null,
   "outputs": [],
   "source": [],
   "metadata": {
    "collapsed": false
   }
  },
  {
   "cell_type": "markdown",
   "source": [],
   "metadata": {
    "collapsed": false
   }
  },
  {
   "cell_type": "markdown",
   "source": [],
   "metadata": {
    "collapsed": false
   }
  },
  {
   "cell_type": "markdown",
   "source": [],
   "metadata": {
    "collapsed": false
   }
  },
  {
   "cell_type": "code",
   "execution_count": null,
   "outputs": [],
   "source": [
    "import os"
   ],
   "metadata": {
    "collapsed": false
   }
  },
  {
   "cell_type": "code",
   "execution_count": null,
   "outputs": [],
   "source": [],
   "metadata": {
    "collapsed": false
   }
  },
  {
   "cell_type": "code",
   "execution_count": null,
   "outputs": [],
   "source": [],
   "metadata": {
    "collapsed": false
   }
  },
  {
   "cell_type": "code",
   "execution_count": null,
   "outputs": [],
   "source": [
    "os.environ['CUBLAS_WORKSPACE_CONFIG']"
   ],
   "metadata": {
    "collapsed": false
   }
  },
  {
   "cell_type": "code",
   "execution_count": null,
   "outputs": [],
   "source": [],
   "metadata": {
    "collapsed": false
   }
  },
  {
   "cell_type": "code",
   "execution_count": null,
   "outputs": [],
   "source": [],
   "metadata": {
    "collapsed": false
   }
  },
  {
   "cell_type": "code",
   "execution_count": null,
   "outputs": [],
   "source": [],
   "metadata": {
    "collapsed": false
   }
  },
  {
   "cell_type": "code",
   "execution_count": null,
   "outputs": [],
   "source": [],
   "metadata": {
    "collapsed": false
   }
  }
 ],
 "metadata": {
  "kernelspec": {
   "display_name": "Python 3",
   "language": "python",
   "name": "python3"
  },
  "language_info": {
   "codemirror_mode": {
    "name": "ipython",
    "version": 2
   },
   "file_extension": ".py",
   "mimetype": "text/x-python",
   "name": "python",
   "nbconvert_exporter": "python",
   "pygments_lexer": "ipython2",
   "version": "2.7.6"
  }
 },
 "nbformat": 4,
 "nbformat_minor": 0
}
